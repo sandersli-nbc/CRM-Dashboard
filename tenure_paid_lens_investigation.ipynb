{
 "cells": [
  {
   "cell_type": "code",
   "execution_count": 1,
   "metadata": {},
   "outputs": [],
   "source": [
    "import pandas as pd\n",
    "import seaborn as sns\n",
    "\n",
    "%load_ext google.cloud.bigquery"
   ]
  },
  {
   "cell_type": "markdown",
   "metadata": {},
   "source": [
    "# Tenure Paid Lens"
   ]
  },
  {
   "cell_type": "code",
   "execution_count": 2,
   "metadata": {
    "vscode": {
     "languageId": "sql"
    }
   },
   "outputs": [
    {
     "data": {
      "application/vnd.jupyter.widget-view+json": {
       "model_id": "ba1f5ee3df4d4b5ead4c44bdee837718",
       "version_major": 2,
       "version_minor": 0
      },
      "text/plain": [
       "Query is running:   0%|          |"
      ]
     },
     "metadata": {},
     "output_type": "display_data"
    },
    {
     "data": {
      "application/vnd.jupyter.widget-view+json": {
       "model_id": "e8205f35a9984db2b5b07083b50cc44d",
       "version_major": 2,
       "version_minor": 0
      },
      "text/plain": [
       "Downloading:   0%|          |"
      ]
     },
     "metadata": {},
     "output_type": "display_data"
    },
    {
     "data": {
      "text/html": [
       "<div>\n",
       "<style scoped>\n",
       "    .dataframe tbody tr th:only-of-type {\n",
       "        vertical-align: middle;\n",
       "    }\n",
       "\n",
       "    .dataframe tbody tr th {\n",
       "        vertical-align: top;\n",
       "    }\n",
       "\n",
       "    .dataframe thead th {\n",
       "        text-align: right;\n",
       "    }\n",
       "</style>\n",
       "<table border=\"1\" class=\"dataframe\">\n",
       "  <thead>\n",
       "    <tr style=\"text-align: right;\">\n",
       "      <th></th>\n",
       "      <th>tenure_paid_lens</th>\n",
       "      <th>never_paid</th>\n",
       "      <th>never_premium</th>\n",
       "      <th>f0_</th>\n",
       "    </tr>\n",
       "  </thead>\n",
       "  <tbody>\n",
       "    <tr>\n",
       "      <th>0</th>\n",
       "      <td>0-90 days</td>\n",
       "      <td>Never Paid</td>\n",
       "      <td>Never Premium</td>\n",
       "      <td>2254659</td>\n",
       "    </tr>\n",
       "    <tr>\n",
       "      <th>1</th>\n",
       "      <td>0-90 days</td>\n",
       "      <td>Never Paid</td>\n",
       "      <td>Prev Premium</td>\n",
       "      <td>476605</td>\n",
       "    </tr>\n",
       "    <tr>\n",
       "      <th>2</th>\n",
       "      <td>0-90 days</td>\n",
       "      <td>Prev Paid</td>\n",
       "      <td>Never Premium</td>\n",
       "      <td>1183021</td>\n",
       "    </tr>\n",
       "    <tr>\n",
       "      <th>3</th>\n",
       "      <td>0-90 days</td>\n",
       "      <td>Prev Paid</td>\n",
       "      <td>Prev Premium</td>\n",
       "      <td>4678693</td>\n",
       "    </tr>\n",
       "    <tr>\n",
       "      <th>4</th>\n",
       "      <td>91+ days</td>\n",
       "      <td>Never Paid</td>\n",
       "      <td>Never Premium</td>\n",
       "      <td>36021227</td>\n",
       "    </tr>\n",
       "    <tr>\n",
       "      <th>5</th>\n",
       "      <td>91+ days</td>\n",
       "      <td>Never Paid</td>\n",
       "      <td>Prev Premium</td>\n",
       "      <td>18660741</td>\n",
       "    </tr>\n",
       "    <tr>\n",
       "      <th>6</th>\n",
       "      <td>91+ days</td>\n",
       "      <td>Prev Paid</td>\n",
       "      <td>Never Premium</td>\n",
       "      <td>4731209</td>\n",
       "    </tr>\n",
       "    <tr>\n",
       "      <th>7</th>\n",
       "      <td>91+ days</td>\n",
       "      <td>Prev Paid</td>\n",
       "      <td>Prev Premium</td>\n",
       "      <td>23299062</td>\n",
       "    </tr>\n",
       "    <tr>\n",
       "      <th>8</th>\n",
       "      <td>N/A</td>\n",
       "      <td>Never Paid</td>\n",
       "      <td>Never Premium</td>\n",
       "      <td>19909351</td>\n",
       "    </tr>\n",
       "    <tr>\n",
       "      <th>9</th>\n",
       "      <td>N/A</td>\n",
       "      <td>Never Paid</td>\n",
       "      <td>Prev Premium</td>\n",
       "      <td>405118</td>\n",
       "    </tr>\n",
       "  </tbody>\n",
       "</table>\n",
       "</div>"
      ],
      "text/plain": [
       "  tenure_paid_lens  never_paid  never_premium       f0_\n",
       "0        0-90 days  Never Paid  Never Premium   2254659\n",
       "1        0-90 days  Never Paid   Prev Premium    476605\n",
       "2        0-90 days   Prev Paid  Never Premium   1183021\n",
       "3        0-90 days   Prev Paid   Prev Premium   4678693\n",
       "4         91+ days  Never Paid  Never Premium  36021227\n",
       "5         91+ days  Never Paid   Prev Premium  18660741\n",
       "6         91+ days   Prev Paid  Never Premium   4731209\n",
       "7         91+ days   Prev Paid   Prev Premium  23299062\n",
       "8              N/A  Never Paid  Never Premium  19909351\n",
       "9              N/A  Never Paid   Prev Premium    405118"
      ]
     },
     "execution_count": 2,
     "metadata": {},
     "output_type": "execute_result"
    }
   ],
   "source": [
    "%%bigquery --project nbcu-ds-sandbox-a-001\n",
    "SELECT  tenure_paid_lens\n",
    "       ,CASE WHEN first_paying_date is null THEN 'Never Paid'  ELSE 'Prev Paid' END AS never_paid\n",
    "       ,CASE WHEN first_premium_date is null THEN 'Never Premium'  ELSE 'Prev Premium' END AS never_premium\n",
    "       ,COUNT(*)\n",
    "FROM `nbcu-ds-prod-001.PeacockDataMartSilver.SILVER_USER`\n",
    "WHERE report_date = '2023-01-31'\n",
    "GROUP BY  1,2,3\n",
    "order by 1,2,3"
   ]
  },
  {
   "cell_type": "code",
   "execution_count": 6,
   "metadata": {
    "vscode": {
     "languageId": "sql"
    }
   },
   "outputs": [
    {
     "data": {
      "application/vnd.jupyter.widget-view+json": {
       "model_id": "042533742af14cb0b9b011eb30324934",
       "version_major": 2,
       "version_minor": 0
      },
      "text/plain": [
       "Query is running:   0%|          |"
      ]
     },
     "metadata": {},
     "output_type": "display_data"
    },
    {
     "data": {
      "application/vnd.jupyter.widget-view+json": {
       "model_id": "e0c6b4d994134b418a5da0a060f90550",
       "version_major": 2,
       "version_minor": 0
      },
      "text/plain": [
       "Downloading:   0%|          |"
      ]
     },
     "metadata": {},
     "output_type": "display_data"
    },
    {
     "data": {
      "text/html": [
       "<div>\n",
       "<style scoped>\n",
       "    .dataframe tbody tr th:only-of-type {\n",
       "        vertical-align: middle;\n",
       "    }\n",
       "\n",
       "    .dataframe tbody tr th {\n",
       "        vertical-align: top;\n",
       "    }\n",
       "\n",
       "    .dataframe thead th {\n",
       "        text-align: right;\n",
       "    }\n",
       "</style>\n",
       "<table border=\"1\" class=\"dataframe\">\n",
       "  <thead>\n",
       "    <tr style=\"text-align: right;\">\n",
       "      <th></th>\n",
       "      <th>tenure_paid_lens</th>\n",
       "      <th>never_premium</th>\n",
       "      <th>never_paid</th>\n",
       "      <th>abandoned_maa</th>\n",
       "      <th>user_gross_add_date_missing</th>\n",
       "      <th>device_gross_add_date_missing</th>\n",
       "      <th>users</th>\n",
       "    </tr>\n",
       "  </thead>\n",
       "  <tbody>\n",
       "    <tr>\n",
       "      <th>0</th>\n",
       "      <td>N/A</td>\n",
       "      <td>Never Premium</td>\n",
       "      <td>Never Paid</td>\n",
       "      <td>No - Watched</td>\n",
       "      <td>Never MAA</td>\n",
       "      <td>Never MAA</td>\n",
       "      <td>918358</td>\n",
       "    </tr>\n",
       "    <tr>\n",
       "      <th>1</th>\n",
       "      <td>N/A</td>\n",
       "      <td>Prev Premium</td>\n",
       "      <td>Never Paid</td>\n",
       "      <td>No - Watched</td>\n",
       "      <td>Never MAA</td>\n",
       "      <td>Never MAA</td>\n",
       "      <td>12553</td>\n",
       "    </tr>\n",
       "    <tr>\n",
       "      <th>2</th>\n",
       "      <td>N/A</td>\n",
       "      <td>Never Premium</td>\n",
       "      <td>Never Paid</td>\n",
       "      <td>Yes - Never Watched</td>\n",
       "      <td>Never MAA</td>\n",
       "      <td>Never MAA</td>\n",
       "      <td>18990993</td>\n",
       "    </tr>\n",
       "    <tr>\n",
       "      <th>3</th>\n",
       "      <td>N/A</td>\n",
       "      <td>Prev Premium</td>\n",
       "      <td>Never Paid</td>\n",
       "      <td>Yes - Never Watched</td>\n",
       "      <td>Never MAA</td>\n",
       "      <td>Never MAA</td>\n",
       "      <td>392565</td>\n",
       "    </tr>\n",
       "  </tbody>\n",
       "</table>\n",
       "</div>"
      ],
      "text/plain": [
       "  tenure_paid_lens  never_premium  never_paid        abandoned_maa  \\\n",
       "0              N/A  Never Premium  Never Paid         No - Watched   \n",
       "1              N/A   Prev Premium  Never Paid         No - Watched   \n",
       "2              N/A  Never Premium  Never Paid  Yes - Never Watched   \n",
       "3              N/A   Prev Premium  Never Paid  Yes - Never Watched   \n",
       "\n",
       "  user_gross_add_date_missing device_gross_add_date_missing     users  \n",
       "0                   Never MAA                     Never MAA    918358  \n",
       "1                   Never MAA                     Never MAA     12553  \n",
       "2                   Never MAA                     Never MAA  18990993  \n",
       "3                   Never MAA                     Never MAA    392565  "
      ]
     },
     "execution_count": 6,
     "metadata": {},
     "output_type": "execute_result"
    }
   ],
   "source": [
    "%%bigquery --project nbcu-ds-sandbox-a-001\n",
    "SELECT  tenure_paid_lens\n",
    "       ,CASE WHEN first_premium_date is null THEN 'Never Premium'  ELSE 'Prev Premium' END AS never_premium\n",
    "       ,CASE WHEN first_paying_date is null THEN 'Never Paid'  ELSE 'Prev Paid' END AS never_paid\n",
    "       ,CASE WHEN date_of_last_view is null THEN 'Yes - Never Watched'  ELSE 'No - Watched' END AS abandoned_maa\n",
    "       ,CASE WHEN u.gross_add_date is null THEN 'Never MAA'  ELSE 'Prev MAA' END AS user_gross_add_date_missing\n",
    "       ,CASE WHEN d.gross_add_date is null THEN 'Never MAA'  ELSE 'Prev MAA' END AS device_gross_add_date_missing\n",
    "       ,COUNT(u.adobe_tracking_id) as users\n",
    "FROM `nbcu-ds-prod-001.PeacockDataMartSilver.SILVER_USER` u\n",
    "LEFT JOIN `nbcu-ds-prod-001.PeacockDataMartSilver.SILVER_PRIMARY_DEVICES` d\n",
    "ON u.adobe_tracking_id = d.adobe_tracking_id\n",
    "WHERE u.report_date = '2023-01-31' AND d.report_date = '2023-01-31'\n",
    "and tenure_paid_lens = 'N/A'\n",
    "GROUP BY 1,2,3,4,5,6\n",
    "order by 1,4,2,3,5,6"
   ]
  },
  {
   "attachments": {},
   "cell_type": "markdown",
   "metadata": {},
   "source": [
    "MAA is defined as:\n",
    "   - Any Premium+ Account\n",
    "   - Premium accounts managed directly by NBCU (and are not managed through a partnership or MVPD)\n",
    "   - Any Accounts currently on Premium or Premium+ trial\n",
    "   - Non-paying accounts (free entitlement or Premium accounts from a partner/MVPD) that have a content start in the last 30 days.\"\n",
    "\n",
    "No gross add date when bundled premium or free"
   ]
  },
  {
   "cell_type": "code",
   "execution_count": 20,
   "metadata": {
    "vscode": {
     "languageId": "sql"
    }
   },
   "outputs": [
    {
     "data": {
      "application/vnd.jupyter.widget-view+json": {
       "model_id": "8b1c3a618dd14a1faaf501bf0448777d",
       "version_major": 2,
       "version_minor": 0
      },
      "text/plain": [
       "Query is running:   0%|          |"
      ]
     },
     "metadata": {},
     "output_type": "display_data"
    },
    {
     "data": {
      "text/html": [
       "<div>\n",
       "<style scoped>\n",
       "    .dataframe tbody tr th:only-of-type {\n",
       "        vertical-align: middle;\n",
       "    }\n",
       "\n",
       "    .dataframe tbody tr th {\n",
       "        vertical-align: top;\n",
       "    }\n",
       "\n",
       "    .dataframe thead th {\n",
       "        text-align: right;\n",
       "    }\n",
       "</style>\n",
       "<table border=\"1\" class=\"dataframe\">\n",
       "  <thead>\n",
       "    <tr style=\"text-align: right;\">\n",
       "      <th></th>\n",
       "    </tr>\n",
       "  </thead>\n",
       "  <tbody>\n",
       "  </tbody>\n",
       "</table>\n",
       "</div>"
      ],
      "text/plain": [
       "Empty DataFrame\n",
       "Columns: []\n",
       "Index: []"
      ]
     },
     "execution_count": 20,
     "metadata": {},
     "output_type": "execute_result"
    }
   ],
   "source": [
    "%%bigquery --project nbcu-ds-sandbox-a-001\n",
    "CREATE OR REPLACE TABLE `nbcu-ds-sandbox-a-001.SLi_sandbox.tenure_paid_lens_analysis` AS \n",
    "\n",
    "WITH cte AS\n",
    "(\n",
    "\tSELECT  u.adobe_tracking_id\n",
    "\t       ,tenure_paid_lens\n",
    "\t       ,CASE WHEN first_premium_date is null THEN 'Never Premium'  ELSE 'Prev Premium' END AS never_premium\n",
    "\t       ,CASE WHEN first_paying_date is null THEN 'Never Paid'  ELSE 'Prev Paid' END        AS never_paid\n",
    "\tFROM `nbcu-ds-prod-001.PeacockDataMartSilver.SILVER_USER` u\n",
    "\tLEFT JOIN `nbcu-ds-prod-001.PeacockDataMartSilver.SILVER_PRIMARY_DEVICES` d\n",
    "\tON u.adobe_tracking_id = d.adobe_tracking_id\n",
    "\tWHERE u.report_date = '2023-01-31'\n",
    "\tAND d.report_date = '2023-01-31'\n",
    "\tAND tenure_paid_lens = 'N/A'\n",
    "\tAND d.date_of_last_view is not null \n",
    ")\n",
    "SELECT  stream_type\n",
    "        ,cte.adobe_tracking_id\n",
    "       ,SUM(v.num_views_started)           AS total_content_starts\n",
    "       ,SUM(v.num_seconds_played_no_ads)   AS total_watch_no_ads\n",
    "       ,SUM(v.num_seconds_played_with_ads) AS total_watch_w_ads\n",
    "\t   ,\n",
    "FROM cte\n",
    "LEFT JOIN `nbcu-ds-prod-001.PeacockDataMartSilver.SILVER_VIDEO` v\n",
    "ON cte.adobe_tracking_id = v.adobe_tracking_id\n",
    "where adobe_date <= '2023-01-31'\n",
    "group by 1,2"
   ]
  },
  {
   "cell_type": "code",
   "execution_count": 2,
   "metadata": {
    "vscode": {
     "languageId": "sql"
    }
   },
   "outputs": [
    {
     "data": {
      "application/vnd.jupyter.widget-view+json": {
       "model_id": "9b30879f74b84b67b25cada0ac95e2fe",
       "version_major": 2,
       "version_minor": 0
      },
      "text/plain": [
       "Query is running:   0%|          |"
      ]
     },
     "metadata": {},
     "output_type": "display_data"
    },
    {
     "data": {
      "application/vnd.jupyter.widget-view+json": {
       "model_id": "6418c641a3694c8ea7bf7bee683ab5fa",
       "version_major": 2,
       "version_minor": 0
      },
      "text/plain": [
       "Downloading:   0%|          |"
      ]
     },
     "metadata": {},
     "output_type": "display_data"
    },
    {
     "data": {
      "text/html": [
       "<div>\n",
       "<style scoped>\n",
       "    .dataframe tbody tr th:only-of-type {\n",
       "        vertical-align: middle;\n",
       "    }\n",
       "\n",
       "    .dataframe tbody tr th {\n",
       "        vertical-align: top;\n",
       "    }\n",
       "\n",
       "    .dataframe thead th {\n",
       "        text-align: right;\n",
       "    }\n",
       "</style>\n",
       "<table border=\"1\" class=\"dataframe\">\n",
       "  <thead>\n",
       "    <tr style=\"text-align: right;\">\n",
       "      <th></th>\n",
       "      <th>stream_type</th>\n",
       "      <th>f0_</th>\n",
       "    </tr>\n",
       "  </thead>\n",
       "  <tbody>\n",
       "    <tr>\n",
       "      <th>0</th>\n",
       "      <td>trailer</td>\n",
       "      <td>930911</td>\n",
       "    </tr>\n",
       "    <tr>\n",
       "      <th>1</th>\n",
       "      <td>fullEpisodePlayer</td>\n",
       "      <td>26400</td>\n",
       "    </tr>\n",
       "    <tr>\n",
       "      <th>2</th>\n",
       "      <td>exclusiveChannel</td>\n",
       "      <td>34138</td>\n",
       "    </tr>\n",
       "    <tr>\n",
       "      <th>3</th>\n",
       "      <td>movie</td>\n",
       "      <td>14196</td>\n",
       "    </tr>\n",
       "    <tr>\n",
       "      <th>4</th>\n",
       "      <td>fullEventReplay</td>\n",
       "      <td>176</td>\n",
       "    </tr>\n",
       "    <tr>\n",
       "      <th>5</th>\n",
       "      <td>shortForm</td>\n",
       "      <td>4686</td>\n",
       "    </tr>\n",
       "    <tr>\n",
       "      <th>6</th>\n",
       "      <td>live</td>\n",
       "      <td>1077</td>\n",
       "    </tr>\n",
       "    <tr>\n",
       "      <th>7</th>\n",
       "      <td>vod</td>\n",
       "      <td>598</td>\n",
       "    </tr>\n",
       "    <tr>\n",
       "      <th>8</th>\n",
       "      <td>LIVE</td>\n",
       "      <td>46</td>\n",
       "    </tr>\n",
       "    <tr>\n",
       "      <th>9</th>\n",
       "      <td>shortform</td>\n",
       "      <td>36</td>\n",
       "    </tr>\n",
       "    <tr>\n",
       "      <th>10</th>\n",
       "      <td>movies</td>\n",
       "      <td>8</td>\n",
       "    </tr>\n",
       "    <tr>\n",
       "      <th>11</th>\n",
       "      <td>broadcast</td>\n",
       "      <td>1</td>\n",
       "    </tr>\n",
       "    <tr>\n",
       "      <th>12</th>\n",
       "      <td>raw-video</td>\n",
       "      <td>1</td>\n",
       "    </tr>\n",
       "    <tr>\n",
       "      <th>13</th>\n",
       "      <td>vod:fullepisodes</td>\n",
       "      <td>1</td>\n",
       "    </tr>\n",
       "    <tr>\n",
       "      <th>14</th>\n",
       "      <td>RECORDED</td>\n",
       "      <td>2</td>\n",
       "    </tr>\n",
       "    <tr>\n",
       "      <th>15</th>\n",
       "      <td>lf</td>\n",
       "      <td>1</td>\n",
       "    </tr>\n",
       "  </tbody>\n",
       "</table>\n",
       "</div>"
      ],
      "text/plain": [
       "          stream_type     f0_\n",
       "0             trailer  930911\n",
       "1   fullEpisodePlayer   26400\n",
       "2    exclusiveChannel   34138\n",
       "3               movie   14196\n",
       "4     fullEventReplay     176\n",
       "5           shortForm    4686\n",
       "6                live    1077\n",
       "7                 vod     598\n",
       "8                LIVE      46\n",
       "9           shortform      36\n",
       "10             movies       8\n",
       "11          broadcast       1\n",
       "12          raw-video       1\n",
       "13   vod:fullepisodes       1\n",
       "14           RECORDED       2\n",
       "15                 lf       1"
      ]
     },
     "execution_count": 2,
     "metadata": {},
     "output_type": "execute_result"
    }
   ],
   "source": [
    "%%bigquery --project nbcu-ds-sandbox-a-001\n",
    "select stream_type, COUNT(distinct adobe_tracking_id) from `nbcu-ds-sandbox-a-001.SLi_sandbox.tenure_paid_lens_analysis` group by 1"
   ]
  },
  {
   "cell_type": "code",
   "execution_count": 3,
   "metadata": {
    "vscode": {
     "languageId": "sql"
    }
   },
   "outputs": [
    {
     "data": {
      "application/vnd.jupyter.widget-view+json": {
       "model_id": "96eed61e494f43008361663163c1106d",
       "version_major": 2,
       "version_minor": 0
      },
      "text/plain": [
       "Query is running:   0%|          |"
      ]
     },
     "metadata": {},
     "output_type": "display_data"
    },
    {
     "data": {
      "application/vnd.jupyter.widget-view+json": {
       "model_id": "1c1996aa4b63492cb24d0f3866dba04c",
       "version_major": 2,
       "version_minor": 0
      },
      "text/plain": [
       "Downloading:   0%|          |"
      ]
     },
     "metadata": {},
     "output_type": "display_data"
    },
    {
     "data": {
      "text/html": [
       "<div>\n",
       "<style scoped>\n",
       "    .dataframe tbody tr th:only-of-type {\n",
       "        vertical-align: middle;\n",
       "    }\n",
       "\n",
       "    .dataframe tbody tr th {\n",
       "        vertical-align: top;\n",
       "    }\n",
       "\n",
       "    .dataframe thead th {\n",
       "        text-align: right;\n",
       "    }\n",
       "</style>\n",
       "<table border=\"1\" class=\"dataframe\">\n",
       "  <thead>\n",
       "    <tr style=\"text-align: right;\">\n",
       "      <th></th>\n",
       "      <th>stream_type</th>\n",
       "      <th>f0_</th>\n",
       "    </tr>\n",
       "  </thead>\n",
       "  <tbody>\n",
       "    <tr>\n",
       "      <th>0</th>\n",
       "      <td>trailer</td>\n",
       "      <td>2306748</td>\n",
       "    </tr>\n",
       "    <tr>\n",
       "      <th>1</th>\n",
       "      <td>movie</td>\n",
       "      <td>0</td>\n",
       "    </tr>\n",
       "    <tr>\n",
       "      <th>2</th>\n",
       "      <td>exclusiveChannel</td>\n",
       "      <td>0</td>\n",
       "    </tr>\n",
       "    <tr>\n",
       "      <th>3</th>\n",
       "      <td>live</td>\n",
       "      <td>0</td>\n",
       "    </tr>\n",
       "    <tr>\n",
       "      <th>4</th>\n",
       "      <td>shortForm</td>\n",
       "      <td>0</td>\n",
       "    </tr>\n",
       "    <tr>\n",
       "      <th>5</th>\n",
       "      <td>fullEpisodePlayer</td>\n",
       "      <td>0</td>\n",
       "    </tr>\n",
       "    <tr>\n",
       "      <th>6</th>\n",
       "      <td>fullEventReplay</td>\n",
       "      <td>0</td>\n",
       "    </tr>\n",
       "    <tr>\n",
       "      <th>7</th>\n",
       "      <td>vod</td>\n",
       "      <td>0</td>\n",
       "    </tr>\n",
       "    <tr>\n",
       "      <th>8</th>\n",
       "      <td>shortform</td>\n",
       "      <td>0</td>\n",
       "    </tr>\n",
       "    <tr>\n",
       "      <th>9</th>\n",
       "      <td>LIVE</td>\n",
       "      <td>0</td>\n",
       "    </tr>\n",
       "    <tr>\n",
       "      <th>10</th>\n",
       "      <td>movies</td>\n",
       "      <td>0</td>\n",
       "    </tr>\n",
       "    <tr>\n",
       "      <th>11</th>\n",
       "      <td>raw-video</td>\n",
       "      <td>0</td>\n",
       "    </tr>\n",
       "    <tr>\n",
       "      <th>12</th>\n",
       "      <td>vod:fullepisodes</td>\n",
       "      <td>0</td>\n",
       "    </tr>\n",
       "    <tr>\n",
       "      <th>13</th>\n",
       "      <td>RECORDED</td>\n",
       "      <td>0</td>\n",
       "    </tr>\n",
       "    <tr>\n",
       "      <th>14</th>\n",
       "      <td>lf</td>\n",
       "      <td>0</td>\n",
       "    </tr>\n",
       "    <tr>\n",
       "      <th>15</th>\n",
       "      <td>broadcast</td>\n",
       "      <td>0</td>\n",
       "    </tr>\n",
       "  </tbody>\n",
       "</table>\n",
       "</div>"
      ],
      "text/plain": [
       "          stream_type      f0_\n",
       "0             trailer  2306748\n",
       "1               movie        0\n",
       "2    exclusiveChannel        0\n",
       "3                live        0\n",
       "4           shortForm        0\n",
       "5   fullEpisodePlayer        0\n",
       "6     fullEventReplay        0\n",
       "7                 vod        0\n",
       "8           shortform        0\n",
       "9                LIVE        0\n",
       "10             movies        0\n",
       "11          raw-video        0\n",
       "12   vod:fullepisodes        0\n",
       "13           RECORDED        0\n",
       "14                 lf        0\n",
       "15          broadcast        0"
      ]
     },
     "execution_count": 3,
     "metadata": {},
     "output_type": "execute_result"
    }
   ],
   "source": [
    "%%bigquery --project nbcu-ds-sandbox-a-001\n",
    "select stream_type, SUM(total_content_starts) from `nbcu-ds-sandbox-a-001.SLi_sandbox.tenure_paid_lens_analysis` group by 1"
   ]
  },
  {
   "cell_type": "markdown",
   "metadata": {},
   "source": [
    "%%bigquery --project nbcu-ds-sandbox-a-001\n",
    "select stream_type, SUM(total_watch_no_ads) from `nbcu-ds-sandbox-a-001.SLi_sandbox.tenure_paid_lens_analysis` group by 1"
   ]
  },
  {
   "cell_type": "markdown",
   "metadata": {},
   "source": [
    "%%bigquery --project nbcu-ds-sandbox-a-001\n",
    "select stream_type, SUM(total_watch_w_ads) from `nbcu-ds-sandbox-a-001.SLi_sandbox.tenure_paid_lens_analysis` group by 1"
   ]
  },
  {
   "attachments": {},
   "cell_type": "markdown",
   "metadata": {},
   "source": [
    "Analysis results:\n",
    "- Tenure Paid Lens is N/A if there is not a gross_add_date\n",
    "- gross_add_date <- monthly_active_account <- video_watched_trailing30 <- SILVER_VIDEO join with conditions `Silver_Video.num_views_started = 1 and (NOT(COALESCE(stream_type,\"NULL\") ='trailer' and COALESCE(lower(vdo_initiate),\"NULL\") like ('%auto%play%')))`\n",
    "- N/A = Free users without activation event\n",
    "\n",
    "Problems:\n",
    "- tenure_paid_lens is not cumulative and is based on the first paying date. If a user joins 1/1, churns 1/31, rejoins 3/1, their tenure_paid_lens as of 3/31 would be 90 days instead of 60 days. Is this right?\n",
    "- Should we be focusing on the last_paying_date instead of the first?\n",
    "- Should we even be measuring free users, as tenure_paid_lens is focused on paying users only?\n",
    "\n",
    "Solutions\n",
    "- paid_tenure as cumulative paying days\n",
    "- current_paid_tenure_streak as last_paying_date - current_date() \n",
    "- maa_tenure and current_active_streak to be inclusive of free users"
   ]
  }
 ],
 "metadata": {
  "kernelspec": {
   "display_name": "base",
   "language": "python",
   "name": "python3"
  },
  "language_info": {
   "codemirror_mode": {
    "name": "ipython",
    "version": 3
   },
   "file_extension": ".py",
   "mimetype": "text/x-python",
   "name": "python",
   "nbconvert_exporter": "python",
   "pygments_lexer": "ipython3",
   "version": "3.9.13"
  },
  "orig_nbformat": 4
 },
 "nbformat": 4,
 "nbformat_minor": 2
}
