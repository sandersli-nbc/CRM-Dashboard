{
 "cells": [
  {
   "cell_type": "code",
   "execution_count": 3,
   "metadata": {
    "vscode": {
     "languageId": "sql"
    }
   },
   "outputs": [
    {
     "name": "stdout",
     "output_type": "stream",
     "text": [
      "The google.cloud.bigquery extension is already loaded. To reload it, use:\n",
      "  %reload_ext google.cloud.bigquery\n"
     ]
    }
   ],
   "source": [
    "import pandas as pd\n",
    "import seaborn as sns\n",
    "\n",
    "%load_ext google.cloud.bigquery"
   ]
  },
  {
   "attachments": {},
   "cell_type": "markdown",
   "metadata": {},
   "source": [
    "## Base Tables"
   ]
  },
  {
   "cell_type": "code",
   "execution_count": 4,
   "metadata": {
    "vscode": {
     "languageId": "sql"
    }
   },
   "outputs": [],
   "source": [
    "params = {\n",
    "    'report_start_date': '2023-01-01',\n",
    "    'report_end_date': '2023-01-31'\n",
    "}"
   ]
  },
  {
   "cell_type": "code",
   "execution_count": 5,
   "metadata": {
    "vscode": {
     "languageId": "sql"
    }
   },
   "outputs": [
    {
     "data": {
      "application/vnd.jupyter.widget-view+json": {
       "model_id": "609164b50ddf41cb997e7e3516207f7c",
       "version_major": 2,
       "version_minor": 0
      },
      "text/plain": [
       "Query is running:   0%|          |"
      ]
     },
     "metadata": {},
     "output_type": "display_data"
    },
    {
     "data": {
      "text/html": [
       "<div>\n",
       "<style scoped>\n",
       "    .dataframe tbody tr th:only-of-type {\n",
       "        vertical-align: middle;\n",
       "    }\n",
       "\n",
       "    .dataframe tbody tr th {\n",
       "        vertical-align: top;\n",
       "    }\n",
       "\n",
       "    .dataframe thead th {\n",
       "        text-align: right;\n",
       "    }\n",
       "</style>\n",
       "<table border=\"1\" class=\"dataframe\">\n",
       "  <thead>\n",
       "    <tr style=\"text-align: right;\">\n",
       "      <th></th>\n",
       "    </tr>\n",
       "  </thead>\n",
       "  <tbody>\n",
       "  </tbody>\n",
       "</table>\n",
       "</div>"
      ],
      "text/plain": [
       "Empty DataFrame\n",
       "Columns: []\n",
       "Index: []"
      ]
     },
     "execution_count": 5,
     "metadata": {},
     "output_type": "execute_result"
    }
   ],
   "source": [
    "%%bigquery --project nbcu-ds-sandbox-a-001 --params $params\n",
    "CREATE OR REPLACE TABLE `nbcu-ds-sandbox-a-001.SLi_sandbox.Holdout_v3_platform_Jan23` AS (\n",
    "    SELECT  distinct TrackingId AS adobe_tracking_id\n",
    "    FROM `nbcu-ds-prod-001.PeacockDataMartMarketingGold.HOLDOUT_GROUP`\n",
    "    WHERE cohort = format_timestamp('%B%Y', DATETIME_TRUNC(@report_start_date, QUARTER)) -- get cohort name as month of quarter start + year\n",
    "    AND Hold_Out_Type_Current = 'Owned Email Holdout'\n",
    ")"
   ]
  },
  {
   "cell_type": "code",
   "execution_count": 6,
   "metadata": {
    "vscode": {
     "languageId": "sql"
    }
   },
   "outputs": [
    {
     "data": {
      "application/vnd.jupyter.widget-view+json": {
       "model_id": "7f5a0d7f03b54245bb9fc15fd774112b",
       "version_major": 2,
       "version_minor": 0
      },
      "text/plain": [
       "Query is running:   0%|          |"
      ]
     },
     "metadata": {},
     "output_type": "display_data"
    },
    {
     "data": {
      "text/html": [
       "<div>\n",
       "<style scoped>\n",
       "    .dataframe tbody tr th:only-of-type {\n",
       "        vertical-align: middle;\n",
       "    }\n",
       "\n",
       "    .dataframe tbody tr th {\n",
       "        vertical-align: top;\n",
       "    }\n",
       "\n",
       "    .dataframe thead th {\n",
       "        text-align: right;\n",
       "    }\n",
       "</style>\n",
       "<table border=\"1\" class=\"dataframe\">\n",
       "  <thead>\n",
       "    <tr style=\"text-align: right;\">\n",
       "      <th></th>\n",
       "    </tr>\n",
       "  </thead>\n",
       "  <tbody>\n",
       "  </tbody>\n",
       "</table>\n",
       "</div>"
      ],
      "text/plain": [
       "Empty DataFrame\n",
       "Columns: []\n",
       "Index: []"
      ]
     },
     "execution_count": 6,
     "metadata": {},
     "output_type": "execute_result"
    }
   ],
   "source": [
    "%%bigquery --project nbcu-ds-sandbox-a-001 --params $params\n",
    "CREATE OR REPLACE TABLE `nbcu-ds-sandbox-a-001.SLi_sandbox.Email_Targeted_v3_platform_Jan23` AS ( -- everyone who have received emails in the month, and opened at least one email in the past\n",
    "    SELECT  DISTINCT adobe_tracking_id\n",
    "    FROM `nbcu-ds-prod-001.PeacockDataMartSilver.SILVER_USER`\n",
    "    WHERE report_date = @report_end_date\n",
    "    AND adobe_tracking_id NOT IN ( SELECT adobe_tracking_id FROM `nbcu-ds-sandbox-a-001.SLi_sandbox.Holdout_v3_platform_Jan23`)\n",
    ")"
   ]
  },
  {
   "attachments": {},
   "cell_type": "markdown",
   "metadata": {},
   "source": [
    "### Output Base Tables"
   ]
  },
  {
   "cell_type": "code",
   "execution_count": 7,
   "metadata": {
    "vscode": {
     "languageId": "sql"
    }
   },
   "outputs": [
    {
     "data": {
      "application/vnd.jupyter.widget-view+json": {
       "model_id": "452b81c020f5421b9bb57b97293125a4",
       "version_major": 2,
       "version_minor": 0
      },
      "text/plain": [
       "Query is running:   0%|          |"
      ]
     },
     "metadata": {},
     "output_type": "display_data"
    },
    {
     "data": {
      "text/html": [
       "<div>\n",
       "<style scoped>\n",
       "    .dataframe tbody tr th:only-of-type {\n",
       "        vertical-align: middle;\n",
       "    }\n",
       "\n",
       "    .dataframe tbody tr th {\n",
       "        vertical-align: top;\n",
       "    }\n",
       "\n",
       "    .dataframe thead th {\n",
       "        text-align: right;\n",
       "    }\n",
       "</style>\n",
       "<table border=\"1\" class=\"dataframe\">\n",
       "  <thead>\n",
       "    <tr style=\"text-align: right;\">\n",
       "      <th></th>\n",
       "    </tr>\n",
       "  </thead>\n",
       "  <tbody>\n",
       "  </tbody>\n",
       "</table>\n",
       "</div>"
      ],
      "text/plain": [
       "Empty DataFrame\n",
       "Columns: []\n",
       "Index: []"
      ]
     },
     "execution_count": 7,
     "metadata": {},
     "output_type": "execute_result"
    }
   ],
   "source": [
    "%%bigquery --project nbcu-ds-sandbox-a-001 --params $params\n",
    "CREATE OR REPLACE TABLE `nbcu-ds-sandbox-a-001.SLi_sandbox.All_Cohorts_v3_platform_Jan23` AS (\n",
    "    -- email targetable and holdout cohort, users signed up after 2020/8/11\n",
    "    SELECT adobe_tracking_id as aid , 'Email_Targeted' as cohort from `nbcu-ds-sandbox-a-001.SLi_sandbox.Email_Targeted_v3_platform_Jan23`\n",
    "    UNION ALL\n",
    "    SELECT adobe_tracking_id as aid , 'Holdout' as cohort from `nbcu-ds-sandbox-a-001.SLi_sandbox.Holdout_v3_platform_Jan23`\n",
    ")"
   ]
  },
  {
   "cell_type": "code",
   "execution_count": 8,
   "metadata": {
    "vscode": {
     "languageId": "sql"
    }
   },
   "outputs": [
    {
     "data": {
      "application/vnd.jupyter.widget-view+json": {
       "model_id": "37a51a4e9a644b988dec6d6bec9b7f11",
       "version_major": 2,
       "version_minor": 0
      },
      "text/plain": [
       "Query is running:   0%|          |"
      ]
     },
     "metadata": {},
     "output_type": "display_data"
    },
    {
     "data": {
      "text/html": [
       "<div>\n",
       "<style scoped>\n",
       "    .dataframe tbody tr th:only-of-type {\n",
       "        vertical-align: middle;\n",
       "    }\n",
       "\n",
       "    .dataframe tbody tr th {\n",
       "        vertical-align: top;\n",
       "    }\n",
       "\n",
       "    .dataframe thead th {\n",
       "        text-align: right;\n",
       "    }\n",
       "</style>\n",
       "<table border=\"1\" class=\"dataframe\">\n",
       "  <thead>\n",
       "    <tr style=\"text-align: right;\">\n",
       "      <th></th>\n",
       "    </tr>\n",
       "  </thead>\n",
       "  <tbody>\n",
       "  </tbody>\n",
       "</table>\n",
       "</div>"
      ],
      "text/plain": [
       "Empty DataFrame\n",
       "Columns: []\n",
       "Index: []"
      ]
     },
     "execution_count": 8,
     "metadata": {},
     "output_type": "execute_result"
    }
   ],
   "source": [
    "%%bigquery --project nbcu-ds-sandbox-a-001 --params $params\n",
    "CREATE OR REPLACE TABLE `nbcu-ds-sandbox-a-001.SLi_sandbox.Video_Viewing_v3_platform_Jan23` AS (\n",
    "    SELECT \n",
    "        adobe_tracking_id\n",
    "        , COUNT (DISTINCT CASE WHEN VIDEO.num_views_started = 1 THEN video.adobe_tracking_id ELSE NULL END) AS Distinct_Content_Starts\n",
    "        , SUM (VIDEO.num_views_started ) AS Total_Content_Starts\n",
    "        , SUM(VIDEO.num_seconds_played_no_ads)/3600 AS Viewing_Time\n",
    "        , COUNT(DISTINCT session_id) AS Distinct_Viewing_Sessions \n",
    "        , COUNT(DISTINCT(CASE WHEN (num_seconds_played_no_ads > CASE WHEN lower(consumption_type) = 'virtual channel' THEN 299 ELSE 0 END)\n",
    "                and (num_views_started>0) THEN CASE WHEN (lower(consumption_type) = \"shortform\") THEN \"Shortform\"\n",
    "                                                    WHEN lower(franchise) != 'other' THEN franchise ELSE display_name\n",
    "                                                    END\n",
    "                end)) as Repertoire_Pavo_Method\n",
    "                \n",
    "    FROM `nbcu-ds-sandbox-a-001.SLi_sandbox.All_Cohorts_v3_platform_Jan23` a\n",
    "\n",
    "    INNER JOIN  `nbcu-ds-prod-001.PeacockDataMartSilver.SILVER_VIDEO` VIDEO\n",
    "        ON VIDEO.adobe_tracking_id = a.aid\n",
    "        AND adobe_date between @report_start_date AND @report_end_date\n",
    "    GROUP BY 1\n",
    ")"
   ]
  },
  {
   "attachments": {},
   "cell_type": "markdown",
   "metadata": {},
   "source": [
    "## Metric Definitions"
   ]
  },
  {
   "cell_type": "code",
   "execution_count": 14,
   "metadata": {
    "vscode": {
     "languageId": "sql"
    }
   },
   "outputs": [
    {
     "data": {
      "application/vnd.jupyter.widget-view+json": {
       "model_id": "0045ac6a9bca4950a0985807b09954ef",
       "version_major": 2,
       "version_minor": 0
      },
      "text/plain": [
       "Query is running:   0%|          |"
      ]
     },
     "metadata": {},
     "output_type": "display_data"
    },
    {
     "data": {
      "text/html": [
       "<div>\n",
       "<style scoped>\n",
       "    .dataframe tbody tr th:only-of-type {\n",
       "        vertical-align: middle;\n",
       "    }\n",
       "\n",
       "    .dataframe tbody tr th {\n",
       "        vertical-align: top;\n",
       "    }\n",
       "\n",
       "    .dataframe thead th {\n",
       "        text-align: right;\n",
       "    }\n",
       "</style>\n",
       "<table border=\"1\" class=\"dataframe\">\n",
       "  <thead>\n",
       "    <tr style=\"text-align: right;\">\n",
       "      <th></th>\n",
       "    </tr>\n",
       "  </thead>\n",
       "  <tbody>\n",
       "  </tbody>\n",
       "</table>\n",
       "</div>"
      ],
      "text/plain": [
       "Empty DataFrame\n",
       "Columns: []\n",
       "Index: []"
      ]
     },
     "execution_count": 14,
     "metadata": {},
     "output_type": "execute_result"
    }
   ],
   "source": [
    "%%bigquery --project nbcu-ds-sandbox-a-001 --params $params\n",
    "\n",
    "CREATE OR REPLACE TABLE `nbcu-ds-sandbox-a-001.SLi_sandbox.CRM_KPI_Base_v3_platform_Jan23` AS \n",
    "\n",
    "WITH\n",
    "Save_Denom AS ( --'Lapsing_Users'\n",
    "    SELECT distinct adobe_tracking_id, date_of_last_view -- no need for max (days_since_last_view), can be saved multiple times, dedup later\n",
    "    FROM `nbcu-ds-prod-001.PeacockDataMartSilver.SILVER_PRIMARY_DEVICES` \n",
    "    WHERE report_date BETWEEN @report_start_date AND @report_end_date \n",
    "    AND days_since_last_view BETWEEN 15 AND 29 -- this guarantees we are only getting people who have at least past the 'lapsing' phase in the time period.\n",
    ")\n",
    ", Save_Num as (\n",
    "        SELECT distinct a.adobe_tracking_id      \n",
    "        FROM Save_Denom a\n",
    "        INNER JOIN `nbcu-ds-prod-001.PeacockDataMartSilver.SILVER_VIDEO` VIDEO \n",
    "            ON a.adobe_tracking_id = VIDEO.adobe_tracking_id \n",
    "            AND adobe_date BETWEEN @report_start_date AND @report_end_date\n",
    "            AND VIDEO.adobe_date BETWEEN DATE_ADD(date_of_last_view, INTERVAL 15 day) AND DATE_ADD(date_of_last_view, INTERVAL 29 day)\n",
    ")\n",
    ", Winback_Denom AS ( --'Lapsed_Users'\n",
    "    SELECT distinct adobe_tracking_id, date_of_last_view\n",
    "    FROM `nbcu-ds-prod-001.PeacockDataMartSilver.SILVER_PRIMARY_DEVICES` \n",
    "    WHERE report_date BETWEEN @report_start_date AND @report_end_date \n",
    "    AND days_since_last_view BETWEEN 30 AND 90-- this guarantees we are only getting people who have at least past the 'lapsing' phase in the time period.\n",
    "    )\n",
    "-- REVIEW: compare this code to email dash (Gold table)\n",
    ", Winback_Num AS (\n",
    "    SELECT distinct a.adobe_tracking_id\n",
    "    FROM Winback_Denom a\n",
    "    INNER JOIN `nbcu-ds-prod-001.PeacockDataMartSilver.SILVER_VIDEO`  VIDEO \n",
    "        ON a.adobe_tracking_id = VIDEO.adobe_tracking_id \n",
    "        AND adobe_date BETWEEN @report_start_date AND @report_end_date \n",
    "        AND VIDEO.adobe_date BETWEEN DATE_ADD(date_of_last_view, INTERVAL 30 day) \n",
    "            AND DATE_ADD(date_of_last_view, INTERVAL 90 DAY)\n",
    "    )\n",
    ", Upgrade_Denom AS (\n",
    "-- upgrade metric 2.0: nonpaying to paying\n",
    "    SELECT distinct adobe_tracking_id \n",
    "    FROM `nbcu-ds-prod-001.PeacockDataMartSilver.SILVER_USER`  USER\n",
    "    WHERE paying_account_flag = 'NonPaying' \n",
    "    AND USER.report_date BETWEEN @report_start_date and @report_end_date\n",
    ")\n",
    ", Upgrade_Num AS (\n",
    "-- find all users who have upgraded at least once in the month of\n",
    "    SELECT  distinct adobe_tracking_id\n",
    "    FROM\n",
    "        (SELECT  \n",
    "                report_date\n",
    "             , adobe_tracking_id     \n",
    "         FROM  `nbcu-ds-prod-001.PeacockDataMartSilver.SILVER_USER`  USER\n",
    "         WHERE entitlement_change_flag IN ('Upgrade: Free to Premium'\n",
    "                                         , 'Upgrade: Free to Premium+'\n",
    "                                         , 'Upgrade: Premium to Premium+') \n",
    "         AND paying_account_flag = 'Paying'                                            \n",
    "            AND USER.report_date BETWEEN @report_start_date and @report_end_date\n",
    "        ) \n",
    ")    \n",
    ", Paid_Churn_Denom AS (\n",
    "    SELECT distinct adobe_tracking_id\n",
    "    FROM `nbcu-ds-prod-001.PeacockDataMartSilver.SILVER_USER` \n",
    "    WHERE paying_account_flag = 'Paying'\n",
    "    AND auto_renew_flag = 'OFF'\n",
    "    AND report_date BETWEEN @report_start_date and @report_end_date\n",
    ")\n",
    ", Paid_Churn_Num AS (\n",
    "    SELECT  distinct adobe_tracking_id\n",
    "    FROM\n",
    "    (\n",
    "        SELECT  adobe_tracking_id\n",
    "            ,report_date\n",
    "            ,auto_renew_flag                                                                      AS auto_renew_flag_today\n",
    "            ,LEAD(auto_renew_flag,1) OVER ( partition by adobe_tracking_id ORDER BY report_date ) AS auto_renew_flag_next_day\n",
    "        FROM `nbcu-ds-prod-001.PeacockDataMartSilver.SILVER_USER`\n",
    "        WHERE report_date BETWEEN @report_start_date AND @report_end_date\n",
    "        ORDER BY 1, 2 \n",
    "    )\n",
    "    WHERE auto_renew_flag_today = 'OFF'\n",
    "    AND auto_renew_flag_next_day = 'ON'\n",
    ")\n",
    ", New_Upgrade_Denom AS (\n",
    "    SELECT  distinct adobe_tracking_id\n",
    "    FROM `nbcu-ds-sandbox-a-001.SLi_sandbox.upgrade_never`\n",
    "    WHERE report_date BETWEEN @report_start_date AND @report_end_date\n",
    ")\n",
    ", New_Upgrade_Num AS (\n",
    "    SELECT  distinct adobe_tracking_id\n",
    "    FROM `nbcu-ds-sandbox-a-001.SLi_sandbox.upgrade_date_rank`\n",
    "    WHERE upgrade_row_number = 1\n",
    "    AND report_date BETWEEN @report_start_date AND @report_end_date\n",
    ")\n",
    ", Paid_Winbacks_Denom AS (\n",
    "    SELECT  distinct adobe_tracking_id\n",
    "    FROM\n",
    "    (\n",
    "        SELECT  adobe_tracking_id\n",
    "            ,report_date\n",
    "        FROM `nbcu-ds-prod-001.PeacockDataMartSilver.SILVER_USER`\n",
    "        WHERE paying_account_flag = 'NonPaying'\n",
    "        AND report_date BETWEEN @report_start_date AND @report_end_date \n",
    "    )\n",
    "    WHERE adobe_tracking_id NOT IN ( SELECT distinct adobe_tracking_id FROM `nbcu-ds-sandbox-a-001.SLi_sandbox.upgrade_never` WHERE report_date BETWEEN @report_start_date AND @report_end_date)\n",
    ")\n",
    ", Paid_Winbacks_Num AS (\n",
    "    select distinct adobe_tracking_id\n",
    "    from `nbcu-ds-sandbox-a-001.SLi_sandbox.upgrade_date_rank`\n",
    "    where upgrade_row_number > 1\n",
    "    and report_date between @report_start_date and @report_end_date\n",
    ")\n",
    "-- this metric uses silver_churn, which is based on data in PAVO dash Churn Trend\n",
    ", EOM_Paid_Churn_Denom AS (\n",
    "  select adobe_tracking_id\n",
    "  from `nbcu-ds-prod-001.PeacockDataMartSilver.SILVER_CHURN`\n",
    "  where date = @report_end_date\n",
    "  and entitlement = 'Paid'\n",
    ")\n",
    ", EOM_Paid_Churn_Num AS (\n",
    "  select adobe_tracking_id\n",
    "  from `nbcu-ds-prod-001.PeacockDataMartSilver.SILVER_CHURN`\n",
    "  where date = @report_end_date\n",
    "  and entitlement = 'Paid'\n",
    "  and Churn_flag = 'Churn'\n",
    ")\n",
    "SELECT  @report_start_date                     AS Report_Month\n",
    "       --,a.Account_Type\n",
    "       ,a.aid\n",
    "       ,a.cohort\n",
    "       ,video.adobe_tracking_id                AS viewers\n",
    "       ,video.Viewing_Time\n",
    "       ,video.Repertoire_Pavo_Method\n",
    "       ,video.Distinct_Viewing_Sessions\n",
    "       ,Winback_Denom.adobe_tracking_id        AS Winback_Denom\n",
    "       ,Winback_Num.adobe_tracking_id          AS Winback_Num\n",
    "       ,Save_Denom.adobe_tracking_id           AS Save_Denom\n",
    "       ,Save_Num.adobe_tracking_id             AS Save_Num\n",
    "       ,Upgrade_Denom.adobe_tracking_id        AS Upgrade_Denom\n",
    "       ,Upgrade_Num.adobe_tracking_id          AS Upgrade_Num\n",
    "       ,New_Upgrade_Denom.adobe_tracking_id    AS New_Upgrade_Denom\n",
    "       ,New_Upgrade_Num.adobe_tracking_id      AS New_Upgrade_Num\n",
    "       ,Paid_Winbacks_Denom.adobe_tracking_id  AS Paid_Winbacks_Denom\n",
    "       ,Paid_Winbacks_Num.adobe_tracking_id    AS Paid_Winbacks_Num\n",
    "       ,Paid_Churn_Denom.adobe_tracking_id     AS Paid_Churn_Denom\n",
    "       ,Paid_Churn_Num.adobe_tracking_id       AS Paid_Churn_Num\n",
    "       ,EOM_Paid_Churn_Denom.adobe_tracking_id AS EOM_Paid_Churn_Denom\n",
    "       ,EOM_Paid_Churn_Num.adobe_tracking_id   AS EOM_Paid_Churn_Num\n",
    "FROM `nbcu-ds-sandbox-a-001.SLi_sandbox.All_Cohorts_v3_platform_Jan23` a\n",
    "LEFT JOIN `nbcu-ds-sandbox-a-001.SLi_sandbox.Video_Viewing_v3_platform_Jan23` video\n",
    "    ON a.aid = video.adobe_tracking_id\n",
    "LEFT JOIN Winback_Denom\n",
    "    ON a.aid = Winback_Denom.adobe_tracking_id\n",
    "LEFT JOIN Winback_Num\n",
    "    ON Winback_Denom.adobe_tracking_id = Winback_Num.adobe_tracking_id\n",
    "LEFT JOIN Save_Denom\n",
    "    ON a.aid = Save_Denom.adobe_tracking_id\n",
    "LEFT JOIN Save_Num\n",
    "    ON Save_Denom.adobe_tracking_id = Save_Num.adobe_tracking_id\n",
    "LEFT JOIN Upgrade_Denom\n",
    "    ON a.aid = Upgrade_Denom.adobe_tracking_id\n",
    "LEFT JOIN Upgrade_Num \n",
    "    ON Upgrade_Denom.adobe_tracking_id = Upgrade_Num.adobe_tracking_id\n",
    "LEFT JOIN New_Upgrade_Denom\n",
    "    on a.aid = New_Upgrade_Denom.adobe_tracking_id\n",
    "LEFT JOIN New_Upgrade_Num\n",
    "    on New_Upgrade_Denom.adobe_tracking_id = New_Upgrade_Num.adobe_tracking_id\n",
    "LEFT JOIN Paid_Winbacks_Denom\n",
    "    on a.aid = Paid_Winbacks_Denom.adobe_tracking_id\n",
    "LEFT JOIN Paid_Winbacks_Num\n",
    "    on Paid_Winbacks_Num.adobe_tracking_id = Paid_Winbacks_Denom.adobe_tracking_id\n",
    "LEFT JOIN Paid_Churn_Denom\n",
    "    on a.aid = Paid_Churn_Denom.adobe_tracking_id\n",
    "LEFT JOIN Paid_Churn_Num\n",
    "    on Paid_Churn_Denom.adobe_tracking_id = Paid_Churn_Num.adobe_tracking_id\n",
    "LEFT JOIN EOM_Paid_Churn_Denom\n",
    "    on a.aid = EOM_Paid_Churn_Denom.adobe_tracking_id\n",
    "LEFT JOIN EOM_Paid_Churn_Num\n",
    "    on EOM_Paid_Churn_Denom.adobe_tracking_id = EOM_Paid_Churn_Num.adobe_tracking_id"
   ]
  },
  {
   "cell_type": "markdown",
   "metadata": {},
   "source": [
    "# Analysis"
   ]
  },
  {
   "cell_type": "code",
   "execution_count": 15,
   "metadata": {
    "vscode": {
     "languageId": "sql"
    }
   },
   "outputs": [
    {
     "data": {
      "application/vnd.jupyter.widget-view+json": {
       "model_id": "b0679f95f55d4d72bcac7a848eb0c65a",
       "version_major": 2,
       "version_minor": 0
      },
      "text/plain": [
       "Query is running:   0%|          |"
      ]
     },
     "metadata": {},
     "output_type": "display_data"
    },
    {
     "data": {
      "application/vnd.jupyter.widget-view+json": {
       "model_id": "40b2ef5b84ce49dabce5f17801fda0a2",
       "version_major": 2,
       "version_minor": 0
      },
      "text/plain": [
       "Downloading:   0%|          |"
      ]
     },
     "metadata": {},
     "output_type": "display_data"
    }
   ],
   "source": [
    "%%bigquery df_total --project nbcu-ds-sandbox-a-001 --params $params\n",
    "\n",
    "WITH \n",
    "CTE_1 AS (\n",
    "  SELECT \n",
    "    @report_start_date AS Report_Month\n",
    "--    , Account_Type\n",
    "    , count(distinct case when cohort = 'Email_Targeted' then aid end ) as Distinct_Cohort_Size_Targeted\n",
    "    , count(distinct case when cohort = 'Holdout' then aid end) as Distinct_Cohort_Size_Holdout\n",
    "\n",
    "    , count(distinct case when cohort = 'Email_Targeted' then viewers end ) as Total_Returns_Targeted\n",
    "    , count(distinct case when cohort = 'Holdout' then viewers end) as Total_Returns_Holdout\n",
    "\n",
    "    , sum(case when cohort = 'Email_Targeted' then Viewing_Time end ) as Total_Usage_Targeted\n",
    "    , sum(case when cohort = 'Holdout' then Viewing_Time end) as Total_Usage_Holdout\n",
    "\n",
    "    , sum(case when cohort = 'Email_Targeted' then Repertoire_Pavo_Method end ) as Total_Repertoire_Targeted\n",
    "    , sum(case when cohort = 'Holdout' then Repertoire_Pavo_Method end) as Total_Repertoire_Holdout\n",
    "\n",
    "    , sum(case when cohort = 'Email_Targeted' then Distinct_Viewing_Sessions end ) as Total_Viewing_Sessions_Targeted\n",
    "    , sum(case when cohort = 'Holdout' then Distinct_Viewing_Sessions end) as Total_Viewing_Sessions_Holdout\n",
    "\n",
    "\n",
    "    , count(distinct case when cohort = 'Email_Targeted' then Winback_Denom end ) as Winback_Denom_Targeted\n",
    "    , count(distinct case when cohort = 'Email_Targeted' then Winback_Num end) as Winback_Num_Targeted\n",
    "    , count(distinct case when cohort = 'Holdout' then Winback_Denom end ) as Winback_Denom_Holdout\n",
    "    , count(distinct case when cohort = 'Holdout' then Winback_Num end) as Winback_Num_Holdout\n",
    "\n",
    "    , count(distinct case when cohort = 'Email_Targeted' then Save_Denom end ) as Save_Denom_Targeted\n",
    "    , count(distinct case when cohort = 'Email_Targeted' then Save_Num end) as Save_Num_Targeted\n",
    "    , count(distinct case when cohort = 'Holdout' then Save_Denom end ) as Save_Denom_Holdout\n",
    "    , count(distinct case when cohort = 'Holdout' then Save_Num end) as Save_Num_Holdout\n",
    "\n",
    "    , count(distinct case when cohort = 'Email_Targeted' then Upgrade_Denom end ) as Upgrades_Denom_Targeted\n",
    "    , count(distinct case when cohort = 'Email_Targeted' then Upgrade_Num end) as Upgrades_Num_Targeted\n",
    "    , count(distinct case when cohort = 'Holdout' then Upgrade_Denom end ) as Upgrades_Denom_Holdout\n",
    "    , count(distinct case when cohort = 'Holdout' then Upgrade_Num end) as Upgrades_Num_Holdout\n",
    "\n",
    "\n",
    "    , count(distinct case when cohort = 'Email_Targeted' then New_Upgrade_Denom end ) as Total_New_Upgrade_Denom_Targeted\n",
    "    , count(distinct case when cohort = 'Email_Targeted' then New_Upgrade_Num end) as Total_New_Upgrade_Num_Targeted\n",
    "    , count(distinct case when cohort = 'Holdout' then New_Upgrade_Denom end ) as Total_New_Upgrade_Denom_Holdout\n",
    "    , count(distinct case when cohort = 'Holdout' then New_Upgrade_Num end) as Total_New_Upgrade_Num_Holdout\n",
    "\n",
    "    , count(distinct case when cohort = 'Email_Targeted' then Paid_Winbacks_Denom end ) as Total_Paid_Winbacks_Denom_Targeted\n",
    "    , count(distinct case when cohort = 'Email_Targeted' then Paid_Winbacks_Num end) as Total_Paid_Winbacks_Num_Targeted\n",
    "    , count(distinct case when cohort = 'Holdout' then Paid_Winbacks_Denom end ) as Total_Paid_Winbacks_Denom_Holdout\n",
    "    , count(distinct case when cohort = 'Holdout' then Paid_Winbacks_Num end) as Total_Paid_Winbacks_Num_Holdout\n",
    "\n",
    "    , count(distinct case when cohort = 'Email_Targeted' then Paid_Churn_Denom end ) as Total_Paid_Churn_Denom_Targeted\n",
    "    , count(distinct case when cohort = 'Email_Targeted' then Paid_Churn_Num end) as Total_Paid_Churn_Num_Targeted\n",
    "    , count(distinct case when cohort = 'Holdout' then Paid_Churn_Denom end ) as Total_Paid_Churn_Denom_Holdout\n",
    "    , count(distinct case when cohort = 'Holdout' then Paid_Churn_Num end) as Total_Paid_Churn_Num_Holdout\n",
    "\n",
    "    , count(distinct case when cohort = 'Email_Targeted' then EOM_Paid_Churn_Denom end ) as EOM_Paid_Churn_Denom_Targeted\n",
    "    , count(distinct case when cohort = 'Email_Targeted' then EOM_Paid_Churn_Num end) as EOM_Paid_Churn_Num_Targeted\n",
    "    , count(distinct case when cohort = 'Holdout' then EOM_Paid_Churn_Denom end ) as EOM_Paid_Churn_Denom_Holdout\n",
    "    , count(distinct case when cohort = 'Holdout' then EOM_Paid_Churn_Num end) as EOM_Paid_Churn_Num_Holdout\n",
    "  FROM `nbcu-ds-sandbox-a-001.SLi_sandbox.CRM_KPI_Base_v3_platform_Jan23`\n",
    "  GROUP BY 1 --,2\n",
    "), CTE_2 AS (\n",
    "    SELECT Report_Month\n",
    "--  , Account_Type \n",
    "  , Distinct_Cohort_Size_Targeted   as Email_Engagers\n",
    "  , Distinct_Cohort_Size_Holdout   as Email_Holdout\n",
    "\n",
    "\n",
    "  , safe_divide(Total_Returns_Targeted, Distinct_Cohort_Size_Targeted)  as Return_Rate_Engagers\n",
    "  , safe_divide(Total_Returns_Holdout, Distinct_Cohort_Size_Holdout)  as Return_Rate_Holdout\n",
    "\n",
    "\n",
    "  , safe_divide(Total_Usage_Targeted, Distinct_Cohort_Size_Targeted)  as Usage_Engagers\n",
    "  , safe_divide(Total_Usage_Holdout, Distinct_Cohort_Size_Holdout)   as Usage_Holdout\n",
    "\n",
    "  , safe_divide(Total_Repertoire_Targeted, Distinct_Cohort_Size_Targeted)  as Repertoire_Engagers\n",
    "  , safe_divide(Total_Repertoire_Holdout,Distinct_Cohort_Size_Holdout)   as Repertoire_Holdout\n",
    "\n",
    "\n",
    "  , safe_divide(Total_Viewing_Sessions_Targeted, Distinct_Cohort_Size_Targeted)  as Sessions_Engagers\n",
    "  , safe_divide(Total_Viewing_Sessions_Holdout, Distinct_Cohort_Size_Holdout)   as Sessions_Holdout\n",
    "\n",
    "  , Winback_Denom_Targeted \n",
    "  , safe_divide(Winback_Num_Targeted, Winback_Denom_Targeted)  as Winback_Rate_Engagers\n",
    "  , safe_divide(Winback_Num_Holdout, Winback_Denom_Holdout) as Winback_Rate_Holdout\n",
    "\n",
    "  , Save_Denom_Targeted \n",
    "  , safe_divide(Save_Num_Targeted, Save_Denom_Targeted)  as Save_Rate_Engagers\n",
    "  , safe_divide(Save_Num_Holdout, Save_Denom_Holdout) as Save_Rate_Holdout\n",
    "\n",
    "  , Upgrades_Denom_Targeted\n",
    "  , safe_divide(Upgrades_Num_Targeted, Upgrades_Denom_Targeted)  as Upgrade_Rate_Engagers\n",
    "  , safe_divide(Upgrades_Num_Holdout, Upgrades_Denom_Holdout) as Upgrade_Rate_Holdout\n",
    "\n",
    "  , Total_New_Upgrade_Denom_Targeted\n",
    "  , safe_divide(Total_New_Upgrade_Num_Targeted, Total_New_Upgrade_Denom_Targeted)  as New_Upgrade_Rate_Engagers\n",
    "  , safe_divide(Total_New_Upgrade_Num_Holdout,  Total_New_Upgrade_Denom_Holdout) as New_Upgrade_Rate_Holdout\n",
    "\n",
    "  , Total_Paid_Winbacks_Denom_Targeted\n",
    "  , safe_divide(Total_Paid_Winbacks_Num_Targeted, Total_Paid_Winbacks_Denom_Targeted)  as Paid_Winback_Rate_Engagers \n",
    "  , safe_divide(Total_Paid_Winbacks_Num_Holdout,  Total_Paid_Winbacks_Denom_Holdout) as Paid_Winback_Rate_Holdout \n",
    "\n",
    "  , Total_Paid_Churn_Denom_Targeted\n",
    "  , safe_divide(Total_Paid_Churn_Num_Targeted, Total_Paid_Churn_Denom_Targeted) as Paid_Churn_Save_Rate_Engagers\n",
    "  , safe_divide(Total_Paid_Churn_Num_Holdout, Total_Paid_Churn_Denom_Holdout) as Paid_Churn_Save_Rate_Holdout\n",
    "\n",
    "  , EOM_Paid_Churn_Denom_Targeted\n",
    "  , safe_divide(EOM_Paid_Churn_Num_Targeted, EOM_Paid_Churn_Denom_Targeted) as Paid_Churn_Rate_Engagers\n",
    "  , safe_divide(EOM_Paid_Churn_Num_Holdout, EOM_Paid_Churn_Denom_Holdout) as Paid_Churn_Rate_Holdout\n",
    "\n",
    "  from CTE_1\n",
    ")\n",
    "\n",
    "SELECT Report_Month\n",
    "--, Account_Type\n",
    ", Email_Engagers\n",
    ", Email_Holdout\n",
    "\n",
    "\n",
    ", Return_Rate_Engagers                                                   as Return_Rate_Engagers\n",
    ", Return_Rate_Holdout                                                    as Return_Rate_Holdout\n",
    ", Return_Rate_Engagers - Return_Rate_Holdout                             as Return_Rate_Lift_PTS\n",
    ", safe_divide(Return_Rate_Engagers, Return_Rate_Holdout) *100                        as Return_Rate_Lift_Index\n",
    ", (Return_Rate_Engagers - Return_Rate_Holdout) * Email_Engagers          as Returns_Incrementals\n",
    "\n",
    ", Usage_Engagers                                                         as Usage_Engagers\n",
    ", Usage_Holdout                                                          as Usage_Holdout\n",
    ", Usage_Engagers - Usage_Holdout                                         as Usage_Lift_PTS\n",
    ", safe_divide(Usage_Engagers, Usage_Holdout) *100                                    as Usage_Lift_Index\n",
    ", (Usage_Engagers - Usage_Holdout) * Email_Engagers                      as Usage_Incrementals\n",
    "\n",
    "\n",
    ", Repertoire_Engagers                                                    as Repertoire_Engagers\n",
    ", Repertoire_Holdout                                                     as Repertoire_Holdout\n",
    ", Repertoire_Engagers - Repertoire_Holdout                               as Repertoire_Lift_PTS\n",
    ", safe_divide(Repertoire_Engagers, Repertoire_Holdout) *100                          as Repertoire_Lift_Index\n",
    ", (Repertoire_Engagers - Repertoire_Holdout) * Email_Engagers as Repertoire_Incrementals\n",
    "\n",
    "\n",
    ", Sessions_Engagers                                                      as Sessions_Engagers\n",
    ", Sessions_Holdout                                                       as Sessions_Holdout\n",
    ", Sessions_Engagers - Sessions_Holdout                                   as Sessions_Lift_PTS\n",
    ", safe_divide(Sessions_Engagers, Sessions_Holdout) *100                              as Sessions_Lift_Index\n",
    ", (Sessions_Engagers - Sessions_Holdout) * Email_Engagers as Sessions_Incrementals\n",
    "\n",
    "\n",
    ", Winback_Rate_Engagers                                                   as Winback_Rate_Engagers\n",
    ", Winback_Rate_Holdout                                                    as Winback_Rate_Holdout\n",
    ", Winback_Rate_Engagers - Winback_Rate_Holdout                            as Winback_Rate_Lift_PTS\n",
    ", safe_divide(Winback_Rate_Engagers, Winback_Rate_Holdout) *100                       as Winback_Rate_Lift_Index\n",
    ", (Winback_Rate_Engagers - Winback_Rate_Holdout) * Winback_Denom_Targeted as Winback_Incrementals\n",
    "\n",
    "\n",
    ", Save_Rate_Engagers                                                      as Save_Rate_Engagers\n",
    ", Save_Rate_Holdout                                                       as Save_Rate_Holdout\n",
    ", Save_Rate_Engagers - Save_Rate_Holdout                                  as Save_Rate_Lift_PTS\n",
    ", safe_divide(Save_Rate_Engagers, Save_Rate_Holdout) *100                             as Save_Rate_Lift_Index\n",
    ", (Save_Rate_Engagers - Save_Rate_Holdout) * Save_Denom_Targeted          as Save_Rate_Lift_Incrementals\n",
    "\n",
    "\n",
    ", Upgrade_Rate_Engagers                                                    as Upgrade_Rate_Engagers\n",
    ", Upgrade_Rate_Holdout                                                     as Upgrade_Rate_Holdout\n",
    ", Upgrade_Rate_Engagers - Upgrade_Rate_Holdout                             as Upgrade_Rate_Lift_PTS\n",
    ", safe_divide(Upgrade_Rate_Engagers, Upgrade_Rate_Holdout) *100                        as Upgrade_Rate_Lift_Index\n",
    ", (Upgrade_Rate_Engagers - Upgrade_Rate_Holdout) * Upgrades_Denom_Targeted as Upgrade_Incrementals\n",
    "\n",
    "\n",
    ", New_Upgrade_Rate_Engagers                                                as New_Upgrade_Rate_Engagers\n",
    ", New_Upgrade_Rate_Holdout                                                 as New_Upgrade_Rate_Holdout\n",
    ", New_Upgrade_Rate_Engagers - New_Upgrade_Rate_Holdout                     as New_Upgrade_Rate_Lift_PTS\n",
    ", safe_divide(New_Upgrade_Rate_Engagers, New_Upgrade_Rate_Holdout) *100                as New_Upgrade_Rate_Lift_Index\n",
    ", (New_Upgrade_Rate_Engagers - New_Upgrade_Rate_Holdout) * Total_New_Upgrade_Denom_Targeted as New_Upgrade_Incrementals\n",
    "\n",
    ", Paid_Winback_Rate_Engagers                                               as Paid_Winback_Rate_Engagers\n",
    ", Paid_Winback_Rate_Holdout                                                as Paid_Winback_Rate_Holdout\n",
    ", Paid_Winback_Rate_Engagers - Paid_Winback_Rate_Holdout                   as Paid_Winback_Rate_Lift_PTS\n",
    ", safe_divide(Paid_Winback_Rate_Engagers, Paid_Winback_Rate_Holdout) *100              as Paid_Winback_Rate_Lift_Index\n",
    ", (Paid_Winback_Rate_Engagers - Paid_Winback_Rate_Holdout) * Total_Paid_Winbacks_Denom_Targeted as Paid_Winback_Rate_Lift_Incrementals\n",
    "\n",
    ", Paid_Churn_Save_Rate_Engagers                                             as Paid_Churn_Save_Rate_Engagers\n",
    ", Paid_Churn_Save_Rate_Holdout                                              as Paid_Churn_Save_Rate_Holdout\n",
    ", Paid_Churn_Save_Rate_Engagers - Paid_Churn_Save_Rate_Holdout              as Paid_Churn_Save_Rate_Lift_PTS\n",
    ", safe_divide(Paid_Churn_Save_Rate_Engagers, Paid_Churn_Save_Rate_Holdout) *100         as Paid_Churn_Save_Rate_Lift_Index\n",
    ", (Paid_Churn_Save_Rate_Engagers - Paid_Churn_Save_Rate_Holdout) * Total_Paid_Churn_Denom_Targeted as Paid_Churn_Save_Rate_Incrementals\n",
    "\n",
    ", Paid_Churn_Rate_Engagers                                                  as EOM_Paid_Churn_Rate_Engagers\n",
    ", Paid_Churn_Rate_Holdout                                                   as EOM_Paid_Churn_Rate_Holdout\n",
    ", Paid_Churn_Rate_Engagers - Paid_Churn_Rate_Holdout                        as EOM_Paid_Churn_Rate_Lift_PTS\n",
    ", safe_divide(Paid_Churn_Rate_Engagers, Paid_Churn_Rate_Holdout) *100                   as EOM_Paid_Churn_Rate_Lift_Index\n",
    ", (Paid_Churn_Rate_Engagers - Paid_Churn_Rate_Holdout) * EOM_Paid_Churn_Denom_Targeted as EOM_Paid_Churn_Rate_Incrementals\n",
    "\n",
    "\n",
    "FROM CTE_2"
   ]
  },
  {
   "cell_type": "code",
   "execution_count": 16,
   "metadata": {
    "vscode": {
     "languageId": "sql"
    }
   },
   "outputs": [
    {
     "data": {
      "text/html": [
       "<div>\n",
       "<style scoped>\n",
       "    .dataframe tbody tr th:only-of-type {\n",
       "        vertical-align: middle;\n",
       "    }\n",
       "\n",
       "    .dataframe tbody tr th {\n",
       "        vertical-align: top;\n",
       "    }\n",
       "\n",
       "    .dataframe thead th {\n",
       "        text-align: right;\n",
       "    }\n",
       "</style>\n",
       "<table border=\"1\" class=\"dataframe\">\n",
       "  <thead>\n",
       "    <tr style=\"text-align: right;\">\n",
       "      <th></th>\n",
       "      <th>Report_Month</th>\n",
       "      <th>Email_Engagers</th>\n",
       "      <th>Email_Holdout</th>\n",
       "      <th>Return_Rate_Engagers</th>\n",
       "      <th>Return_Rate_Holdout</th>\n",
       "      <th>Return_Rate_Lift_PTS</th>\n",
       "      <th>Return_Rate_Lift_Index</th>\n",
       "      <th>Returns_Incrementals</th>\n",
       "      <th>Usage_Engagers</th>\n",
       "      <th>Usage_Holdout</th>\n",
       "      <th>...</th>\n",
       "      <th>Paid_Churn_Save_Rate_Engagers</th>\n",
       "      <th>Paid_Churn_Save_Rate_Holdout</th>\n",
       "      <th>Paid_Churn_Save_Rate_Lift_PTS</th>\n",
       "      <th>Paid_Churn_Save_Rate_Lift_Index</th>\n",
       "      <th>Paid_Churn_Save_Rate_Incrementals</th>\n",
       "      <th>EOM_Paid_Churn_Rate_Engagers</th>\n",
       "      <th>EOM_Paid_Churn_Rate_Holdout</th>\n",
       "      <th>EOM_Paid_Churn_Rate_Lift_PTS</th>\n",
       "      <th>EOM_Paid_Churn_Rate_Lift_Index</th>\n",
       "      <th>EOM_Paid_Churn_Rate_Incrementals</th>\n",
       "    </tr>\n",
       "  </thead>\n",
       "  <tbody>\n",
       "    <tr>\n",
       "      <th>0</th>\n",
       "      <td>2023-01-01</td>\n",
       "      <td>108272477</td>\n",
       "      <td>3384752</td>\n",
       "      <td>0.29599</td>\n",
       "      <td>0.298618</td>\n",
       "      <td>-0.002628</td>\n",
       "      <td>99.11996</td>\n",
       "      <td>-284535.607746</td>\n",
       "      <td>5.43393</td>\n",
       "      <td>5.496965</td>\n",
       "      <td>...</td>\n",
       "      <td>0.023009</td>\n",
       "      <td>0.022933</td>\n",
       "      <td>0.000076</td>\n",
       "      <td>100.333176</td>\n",
       "      <td>72.128871</td>\n",
       "      <td>0.07321</td>\n",
       "      <td>0.072311</td>\n",
       "      <td>0.000899</td>\n",
       "      <td>101.242562</td>\n",
       "      <td>18125.341812</td>\n",
       "    </tr>\n",
       "  </tbody>\n",
       "</table>\n",
       "<p>1 rows × 58 columns</p>\n",
       "</div>"
      ],
      "text/plain": [
       "  Report_Month  Email_Engagers  Email_Holdout  Return_Rate_Engagers  \\\n",
       "0   2023-01-01       108272477        3384752               0.29599   \n",
       "\n",
       "   Return_Rate_Holdout  Return_Rate_Lift_PTS  Return_Rate_Lift_Index  \\\n",
       "0             0.298618             -0.002628                99.11996   \n",
       "\n",
       "   Returns_Incrementals  Usage_Engagers  Usage_Holdout  ...  \\\n",
       "0        -284535.607746         5.43393       5.496965  ...   \n",
       "\n",
       "   Paid_Churn_Save_Rate_Engagers  Paid_Churn_Save_Rate_Holdout  \\\n",
       "0                       0.023009                      0.022933   \n",
       "\n",
       "   Paid_Churn_Save_Rate_Lift_PTS  Paid_Churn_Save_Rate_Lift_Index  \\\n",
       "0                       0.000076                       100.333176   \n",
       "\n",
       "   Paid_Churn_Save_Rate_Incrementals  EOM_Paid_Churn_Rate_Engagers  \\\n",
       "0                          72.128871                       0.07321   \n",
       "\n",
       "   EOM_Paid_Churn_Rate_Holdout  EOM_Paid_Churn_Rate_Lift_PTS  \\\n",
       "0                     0.072311                      0.000899   \n",
       "\n",
       "   EOM_Paid_Churn_Rate_Lift_Index  EOM_Paid_Churn_Rate_Incrementals  \n",
       "0                      101.242562                      18125.341812  \n",
       "\n",
       "[1 rows x 58 columns]"
      ]
     },
     "execution_count": 16,
     "metadata": {},
     "output_type": "execute_result"
    }
   ],
   "source": [
    "df_total"
   ]
  },
  {
   "cell_type": "code",
   "execution_count": 17,
   "metadata": {
    "vscode": {
     "languageId": "sql"
    }
   },
   "outputs": [
    {
     "name": "stdout",
     "output_type": "stream",
     "text": [
      "Executing query with job ID: cdd22e65-a6bb-4415-9c4f-fe5e439d5da7\n",
      "Query executing: 0.45s"
     ]
    },
    {
     "name": "stderr",
     "output_type": "stream",
     "text": [
      "\n",
      "ERROR:\n",
      " 400 Unrecognized name: Account_Type at [5:7]\n",
      "\n",
      "Location: US\n",
      "Job ID: cdd22e65-a6bb-4415-9c4f-fe5e439d5da7\n",
      "\n"
     ]
    }
   ],
   "source": [
    "%%bigquery df_acc --project nbcu-ds-sandbox-a-001 --params $params\n",
    "\n",
    "WITH \n",
    "CTE_1 AS (\n",
    "  SELECT \n",
    "    @report_start_date AS Report_Month\n",
    "    , Account_Type\n",
    "    , count(distinct case when cohort = 'Email_Targeted' then aid end ) as Distinct_Cohort_Size_Targeted\n",
    "    , count(distinct case when cohort = 'Holdout' then aid end) as Distinct_Cohort_Size_Holdout\n",
    "\n",
    "    , count(distinct case when cohort = 'Email_Targeted' then viewers end ) as Total_Returns_Targeted\n",
    "    , count(distinct case when cohort = 'Holdout' then viewers end) as Total_Returns_Holdout\n",
    "\n",
    "    , sum(case when cohort = 'Email_Targeted' then Viewing_Time end ) as Total_Usage_Targeted\n",
    "    , sum(case when cohort = 'Holdout' then Viewing_Time end) as Total_Usage_Holdout\n",
    "\n",
    "    , sum(case when cohort = 'Email_Targeted' then Repertoire_Pavo_Method end ) as Total_Repertoire_Targeted\n",
    "    , sum(case when cohort = 'Holdout' then Repertoire_Pavo_Method end) as Total_Repertoire_Holdout\n",
    "\n",
    "    , sum(case when cohort = 'Email_Targeted' then Distinct_Viewing_Sessions end ) as Total_Viewing_Sessions_Targeted\n",
    "    , sum(case when cohort = 'Holdout' then Distinct_Viewing_Sessions end) as Total_Viewing_Sessions_Holdout\n",
    "\n",
    "\n",
    "    , count(distinct case when cohort = 'Email_Targeted' then Winback_Denom end ) as Winback_Denom_Targeted\n",
    "    , count(distinct case when cohort = 'Email_Targeted' then Winback_Num end) as Winback_Num_Targeted\n",
    "    , count(distinct case when cohort = 'Holdout' then Winback_Denom end ) as Winback_Denom_Holdout\n",
    "    , count(distinct case when cohort = 'Holdout' then Winback_Num end) as Winback_Num_Holdout\n",
    "\n",
    "    , count(distinct case when cohort = 'Email_Targeted' then Save_Denom end ) as Save_Denom_Targeted\n",
    "    , count(distinct case when cohort = 'Email_Targeted' then Save_Num end) as Save_Num_Targeted\n",
    "    , count(distinct case when cohort = 'Holdout' then Save_Denom end ) as Save_Denom_Holdout\n",
    "    , count(distinct case when cohort = 'Holdout' then Save_Num end) as Save_Num_Holdout\n",
    "\n",
    "    , count(distinct case when cohort = 'Email_Targeted' then Upgrade_Denom end ) as Upgrades_Denom_Targeted\n",
    "    , count(distinct case when cohort = 'Email_Targeted' then Upgrade_Num end) as Upgrades_Num_Targeted\n",
    "    , count(distinct case when cohort = 'Holdout' then Upgrade_Denom end ) as Upgrades_Denom_Holdout\n",
    "    , count(distinct case when cohort = 'Holdout' then Upgrade_Num end) as Upgrades_Num_Holdout\n",
    "\n",
    "\n",
    "    , count(distinct case when cohort = 'Email_Targeted' then New_Upgrade_Denom end ) as Total_New_Upgrade_Denom_Targeted\n",
    "    , count(distinct case when cohort = 'Email_Targeted' then New_Upgrade_Num end) as Total_New_Upgrade_Num_Targeted\n",
    "    , count(distinct case when cohort = 'Holdout' then New_Upgrade_Denom end ) as Total_New_Upgrade_Denom_Holdout\n",
    "    , count(distinct case when cohort = 'Holdout' then New_Upgrade_Num end) as Total_New_Upgrade_Num_Holdout\n",
    "\n",
    "    , count(distinct case when cohort = 'Email_Targeted' then Paid_Winbacks_Denom end ) as Total_Paid_Winbacks_Denom_Targeted\n",
    "    , count(distinct case when cohort = 'Email_Targeted' then Paid_Winbacks_Num end) as Total_Paid_Winbacks_Num_Targeted\n",
    "    , count(distinct case when cohort = 'Holdout' then Paid_Winbacks_Denom end ) as Total_Paid_Winbacks_Denom_Holdout\n",
    "    , count(distinct case when cohort = 'Holdout' then Paid_Winbacks_Num end) as Total_Paid_Winbacks_Num_Holdout\n",
    "\n",
    "    , count(distinct case when cohort = 'Email_Targeted' then Paid_Churn_Denom end ) as Total_Paid_Churn_Denom_Targeted\n",
    "    , count(distinct case when cohort = 'Email_Targeted' then Paid_Churn_Num end) as Total_Paid_Churn_Num_Targeted\n",
    "    , count(distinct case when cohort = 'Holdout' then Paid_Churn_Denom end ) as Total_Paid_Churn_Denom_Holdout\n",
    "    , count(distinct case when cohort = 'Holdout' then Paid_Churn_Num end) as Total_Paid_Churn_Num_Holdout\n",
    "\n",
    "    , count(distinct case when cohort = 'Email_Targeted' then EOM_Paid_Churn_Denom end ) as EOM_Paid_Churn_Denom_Targeted\n",
    "    , count(distinct case when cohort = 'Email_Targeted' then EOM_Paid_Churn_Num end) as EOM_Paid_Churn_Num_Targeted\n",
    "    , count(distinct case when cohort = 'Holdout' then EOM_Paid_Churn_Denom end ) as EOM_Paid_Churn_Denom_Holdout\n",
    "    , count(distinct case when cohort = 'Holdout' then EOM_Paid_Churn_Num end) as EOM_Paid_Churn_Num_Holdout\n",
    "  FROM `nbcu-ds-sandbox-a-001.SLi_sandbox.CRM_KPI_Base_v3_platform_Jan23`\n",
    "  GROUP BY 1 ,2\n",
    "), CTE_2 AS (\n",
    "    SELECT Report_Month\n",
    "  , Account_Type \n",
    "  , Distinct_Cohort_Size_Targeted   as Email_Engagers\n",
    "  , Distinct_Cohort_Size_Holdout   as Email_Holdout\n",
    "\n",
    "\n",
    "  , safe_divide(Total_Returns_Targeted, Distinct_Cohort_Size_Targeted)  as Return_Rate_Engagers\n",
    "  , safe_divide(Total_Returns_Holdout, Distinct_Cohort_Size_Holdout)  as Return_Rate_Holdout\n",
    "\n",
    "\n",
    "  , safe_divide(Total_Usage_Targeted, Distinct_Cohort_Size_Targeted)  as Usage_Engagers\n",
    "  , safe_divide(Total_Usage_Holdout, Distinct_Cohort_Size_Holdout)   as Usage_Holdout\n",
    "\n",
    "  , safe_divide(Total_Repertoire_Targeted, Distinct_Cohort_Size_Targeted)  as Repertoire_Engagers\n",
    "  , safe_divide(Total_Repertoire_Holdout,Distinct_Cohort_Size_Holdout)   as Repertoire_Holdout\n",
    "\n",
    "\n",
    "  , safe_divide(Total_Viewing_Sessions_Targeted, Distinct_Cohort_Size_Targeted)  as Sessions_Engagers\n",
    "  , safe_divide(Total_Viewing_Sessions_Holdout, Distinct_Cohort_Size_Holdout)   as Sessions_Holdout\n",
    "\n",
    "  , Winback_Denom_Targeted \n",
    "  , safe_divide(Winback_Num_Targeted, Winback_Denom_Targeted)  as Winback_Rate_Engagers\n",
    "  , safe_divide(Winback_Num_Holdout, Winback_Denom_Holdout) as Winback_Rate_Holdout\n",
    "\n",
    "  , Save_Denom_Targeted \n",
    "  , safe_divide(Save_Num_Targeted, Save_Denom_Targeted)  as Save_Rate_Engagers\n",
    "  , safe_divide(Save_Num_Holdout, Save_Denom_Holdout) as Save_Rate_Holdout\n",
    "\n",
    "  , Upgrades_Denom_Targeted\n",
    "  , safe_divide(Upgrades_Num_Targeted, Upgrades_Denom_Targeted)  as Upgrade_Rate_Engagers\n",
    "  , safe_divide(Upgrades_Num_Holdout, Upgrades_Denom_Holdout) as Upgrade_Rate_Holdout\n",
    "\n",
    "  , Total_New_Upgrade_Denom_Targeted\n",
    "  , safe_divide(Total_New_Upgrade_Num_Targeted, Total_New_Upgrade_Denom_Targeted)  as New_Upgrade_Rate_Engagers\n",
    "  , safe_divide(Total_New_Upgrade_Num_Holdout,  Total_New_Upgrade_Denom_Holdout) as New_Upgrade_Rate_Holdout\n",
    "\n",
    "  , Total_Paid_Winbacks_Denom_Targeted\n",
    "  , safe_divide(Total_Paid_Winbacks_Num_Targeted, Total_Paid_Winbacks_Denom_Targeted)  as Paid_Winback_Rate_Engagers \n",
    "  , safe_divide(Total_Paid_Winbacks_Num_Holdout,  Total_Paid_Winbacks_Denom_Holdout) as Paid_Winback_Rate_Holdout \n",
    "\n",
    "  , Total_Paid_Churn_Denom_Targeted\n",
    "  , safe_divide(Total_Paid_Churn_Num_Targeted, Total_Paid_Churn_Denom_Targeted) as Paid_Churn_Save_Rate_Engagers\n",
    "  , safe_divide(Total_Paid_Churn_Num_Holdout, Total_Paid_Churn_Denom_Holdout) as Paid_Churn_Save_Rate_Holdout\n",
    "\n",
    "  , EOM_Paid_Churn_Denom_Targeted\n",
    "  , safe_divide(EOM_Paid_Churn_Num_Targeted, EOM_Paid_Churn_Denom_Targeted) as Paid_Churn_Rate_Engagers\n",
    "  , safe_divide(EOM_Paid_Churn_Num_Holdout, EOM_Paid_Churn_Denom_Holdout) as Paid_Churn_Rate_Holdout\n",
    "\n",
    "  from CTE_1\n",
    ")\n",
    "\n",
    "SELECT Report_Month\n",
    ", Account_Type\n",
    ", Email_Engagers\n",
    ", Email_Holdout\n",
    "\n",
    "\n",
    ", Return_Rate_Engagers                                                   as Return_Rate_Engagers\n",
    ", Return_Rate_Holdout                                                    as Return_Rate_Holdout\n",
    ", Return_Rate_Engagers - Return_Rate_Holdout                             as Return_Rate_Lift_PTS\n",
    ", safe_divide(Return_Rate_Engagers, Return_Rate_Holdout) *100                        as Return_Rate_Lift_Index\n",
    ", (Return_Rate_Engagers - Return_Rate_Holdout) * Email_Engagers          as Returns_Incrementals\n",
    "\n",
    ", Usage_Engagers                                                         as Usage_Engagers\n",
    ", Usage_Holdout                                                          as Usage_Holdout\n",
    ", Usage_Engagers - Usage_Holdout                                         as Usage_Lift_PTS\n",
    ", safe_divide(Usage_Engagers, Usage_Holdout) *100                                    as Usage_Lift_Index\n",
    ", (Usage_Engagers - Usage_Holdout) * Email_Engagers                      as Usage_Incrementals\n",
    "\n",
    "\n",
    ", Repertoire_Engagers                                                    as Repertoire_Engagers\n",
    ", Repertoire_Holdout                                                     as Repertoire_Holdout\n",
    ", Repertoire_Engagers - Repertoire_Holdout                               as Repertoire_Lift_PTS\n",
    ", safe_divide(Repertoire_Engagers, Repertoire_Holdout) *100                          as Repertoire_Lift_Index\n",
    ", (Repertoire_Engagers - Repertoire_Holdout) * Email_Engagers as Repertoire_Incrementals\n",
    "\n",
    "\n",
    ", Sessions_Engagers                                                      as Sessions_Engagers\n",
    ", Sessions_Holdout                                                       as Sessions_Holdout\n",
    ", Sessions_Engagers - Sessions_Holdout                                   as Sessions_Lift_PTS\n",
    ", safe_divide(Sessions_Engagers, Sessions_Holdout) *100                              as Sessions_Lift_Index\n",
    ", (Sessions_Engagers - Sessions_Holdout) * Email_Engagers as Sessions_Incrementals\n",
    "\n",
    "\n",
    ", Winback_Rate_Engagers                                                   as Winback_Rate_Engagers\n",
    ", Winback_Rate_Holdout                                                    as Winback_Rate_Holdout\n",
    ", Winback_Rate_Engagers - Winback_Rate_Holdout                            as Winback_Rate_Lift_PTS\n",
    ", safe_divide(Winback_Rate_Engagers, Winback_Rate_Holdout) *100                       as Winback_Rate_Lift_Index\n",
    ", (Winback_Rate_Engagers - Winback_Rate_Holdout) * Winback_Denom_Targeted as Winback_Incrementals\n",
    "\n",
    "\n",
    ", Save_Rate_Engagers                                                      as Save_Rate_Engagers\n",
    ", Save_Rate_Holdout                                                       as Save_Rate_Holdout\n",
    ", Save_Rate_Engagers - Save_Rate_Holdout                                  as Save_Rate_Lift_PTS\n",
    ", safe_divide(Save_Rate_Engagers, Save_Rate_Holdout) *100                             as Save_Rate_Lift_Index\n",
    ", (Save_Rate_Engagers - Save_Rate_Holdout) * Save_Denom_Targeted          as Save_Rate_Lift_Incrementals\n",
    "\n",
    "\n",
    ", Upgrade_Rate_Engagers                                                    as Upgrade_Rate_Engagers\n",
    ", Upgrade_Rate_Holdout                                                     as Upgrade_Rate_Holdout\n",
    ", Upgrade_Rate_Engagers - Upgrade_Rate_Holdout                             as Upgrade_Rate_Lift_PTS\n",
    ", safe_divide(Upgrade_Rate_Engagers, Upgrade_Rate_Holdout) *100                        as Upgrade_Rate_Lift_Index\n",
    ", (Upgrade_Rate_Engagers - Upgrade_Rate_Holdout) * Upgrades_Denom_Targeted as Upgrade_Incrementals\n",
    "\n",
    "\n",
    ", New_Upgrade_Rate_Engagers                                                as New_Upgrade_Rate_Engagers\n",
    ", New_Upgrade_Rate_Holdout                                                 as New_Upgrade_Rate_Holdout\n",
    ", New_Upgrade_Rate_Engagers - New_Upgrade_Rate_Holdout                     as New_Upgrade_Rate_Lift_PTS\n",
    ", safe_divide(New_Upgrade_Rate_Engagers, New_Upgrade_Rate_Holdout) *100                as New_Upgrade_Rate_Lift_Index\n",
    ", (New_Upgrade_Rate_Engagers - New_Upgrade_Rate_Holdout) * Total_New_Upgrade_Denom_Targeted as New_Upgrade_Incrementals\n",
    "\n",
    ", Paid_Winback_Rate_Engagers                                               as Paid_Winback_Rate_Engagers\n",
    ", Paid_Winback_Rate_Holdout                                                as Paid_Winback_Rate_Holdout\n",
    ", Paid_Winback_Rate_Engagers - Paid_Winback_Rate_Holdout                   as Paid_Winback_Rate_Lift_PTS\n",
    ", safe_divide(Paid_Winback_Rate_Engagers, Paid_Winback_Rate_Holdout) *100              as Paid_Winback_Rate_Lift_Index\n",
    ", (Paid_Winback_Rate_Engagers - Paid_Winback_Rate_Holdout) * Total_Paid_Winbacks_Denom_Targeted as Paid_Winback_Rate_Lift_Incrementals\n",
    "\n",
    ", Paid_Churn_Save_Rate_Engagers                                             as Paid_Churn_Save_Rate_Engagers\n",
    ", Paid_Churn_Save_Rate_Holdout                                              as Paid_Churn_Save_Rate_Holdout\n",
    ", Paid_Churn_Save_Rate_Engagers - Paid_Churn_Save_Rate_Holdout              as Paid_Churn_Save_Rate_Lift_PTS\n",
    ", safe_divide(Paid_Churn_Save_Rate_Engagers, Paid_Churn_Save_Rate_Holdout) *100         as Paid_Churn_Save_Rate_Lift_Index\n",
    ", (Paid_Churn_Save_Rate_Engagers - Paid_Churn_Save_Rate_Holdout) * Total_Paid_Churn_Denom_Targeted as Paid_Churn_Save_Rate_Incrementals\n",
    "\n",
    ", Paid_Churn_Rate_Engagers                                                  as EOM_Paid_Churn_Rate_Engagers\n",
    ", Paid_Churn_Rate_Holdout                                                   as EOM_Paid_Churn_Rate_Holdout\n",
    ", Paid_Churn_Rate_Engagers - Paid_Churn_Rate_Holdout                        as EOM_Paid_Churn_Rate_Lift_PTS\n",
    ", safe_divide(Paid_Churn_Rate_Engagers, Paid_Churn_Rate_Holdout) *100                   as EOM_Paid_Churn_Rate_Lift_Index\n",
    ", (Paid_Churn_Rate_Engagers - Paid_Churn_Rate_Holdout) * EOM_Paid_Churn_Denom_Targeted as EOM_Paid_Churn_Rate_Incrementals\n",
    "\n",
    "\n",
    "FROM CTE_2"
   ]
  },
  {
   "cell_type": "code",
   "execution_count": 18,
   "metadata": {
    "vscode": {
     "languageId": "sql"
    }
   },
   "outputs": [
    {
     "ename": "AttributeError",
     "evalue": "'QueryJob' object has no attribute 'sort_values'",
     "output_type": "error",
     "traceback": [
      "\u001b[1;31m---------------------------------------------------------------------------\u001b[0m",
      "\u001b[1;31mAttributeError\u001b[0m                            Traceback (most recent call last)",
      "\u001b[1;32mC:\\TEMP\\ipykernel_16072\\1084147616.py\u001b[0m in \u001b[0;36m<module>\u001b[1;34m\u001b[0m\n\u001b[1;32m----> 1\u001b[1;33m \u001b[0mdf_acc\u001b[0m \u001b[1;33m=\u001b[0m \u001b[0mdf_acc\u001b[0m\u001b[1;33m.\u001b[0m\u001b[0msort_values\u001b[0m\u001b[1;33m(\u001b[0m\u001b[0mby\u001b[0m\u001b[1;33m=\u001b[0m\u001b[1;34m'Account_Type'\u001b[0m\u001b[1;33m)\u001b[0m\u001b[1;33m\u001b[0m\u001b[1;33m\u001b[0m\u001b[0m\n\u001b[0m\u001b[0;32m      2\u001b[0m \u001b[0mdf_acc\u001b[0m\u001b[1;33m\u001b[0m\u001b[1;33m\u001b[0m\u001b[0m\n",
      "\u001b[1;31mAttributeError\u001b[0m: 'QueryJob' object has no attribute 'sort_values'"
     ]
    }
   ],
   "source": [
    "df_acc = df_acc.sort_values(by='Account_Type')\n",
    "df_acc"
   ]
  },
  {
   "cell_type": "code",
   "execution_count": 19,
   "metadata": {
    "vscode": {
     "languageId": "sql"
    }
   },
   "outputs": [
    {
     "ename": "AttributeError",
     "evalue": "'QueryJob' object has no attribute 'to_excel'",
     "output_type": "error",
     "traceback": [
      "\u001b[1;31m---------------------------------------------------------------------------\u001b[0m",
      "\u001b[1;31mAttributeError\u001b[0m                            Traceback (most recent call last)",
      "\u001b[1;32mC:\\TEMP\\ipykernel_16072\\2486775829.py\u001b[0m in \u001b[0;36m<module>\u001b[1;34m\u001b[0m\n\u001b[0;32m      1\u001b[0m \u001b[0mdf_total\u001b[0m\u001b[1;33m.\u001b[0m\u001b[0mto_excel\u001b[0m\u001b[1;33m(\u001b[0m\u001b[1;34m'email_kpi_tot_platform_jan23.xlsx'\u001b[0m\u001b[1;33m,\u001b[0m \u001b[0mindex\u001b[0m\u001b[1;33m=\u001b[0m\u001b[1;32mFalse\u001b[0m\u001b[1;33m)\u001b[0m\u001b[1;33m\u001b[0m\u001b[1;33m\u001b[0m\u001b[0m\n\u001b[1;32m----> 2\u001b[1;33m \u001b[0mdf_acc\u001b[0m\u001b[1;33m.\u001b[0m\u001b[0mto_excel\u001b[0m\u001b[1;33m(\u001b[0m\u001b[1;34m'email_kpi_acc_platform_jan23.xlsx'\u001b[0m\u001b[1;33m,\u001b[0m \u001b[0mindex\u001b[0m\u001b[1;33m=\u001b[0m\u001b[1;32mFalse\u001b[0m\u001b[1;33m)\u001b[0m\u001b[1;33m\u001b[0m\u001b[1;33m\u001b[0m\u001b[0m\n\u001b[0m",
      "\u001b[1;31mAttributeError\u001b[0m: 'QueryJob' object has no attribute 'to_excel'"
     ]
    }
   ],
   "source": [
    "df_total.to_excel('email_kpi_tot_platform_jan23.xlsx', index=False)\n",
    "df_acc.to_excel('email_kpi_acc_platform_jan23.xlsx', index=False)"
   ]
  },
  {
   "cell_type": "code",
   "execution_count": null,
   "metadata": {
    "vscode": {
     "languageId": "sql"
    }
   },
   "outputs": [],
   "source": []
  }
 ],
 "metadata": {
  "kernelspec": {
   "display_name": "base",
   "language": "python",
   "name": "python3"
  },
  "language_info": {
   "codemirror_mode": {
    "name": "ipython",
    "version": 3
   },
   "file_extension": ".py",
   "mimetype": "text/x-python",
   "name": "python",
   "nbconvert_exporter": "python",
   "pygments_lexer": "ipython3",
   "version": "3.9.13"
  },
  "orig_nbformat": 4
 },
 "nbformat": 4,
 "nbformat_minor": 2
}
