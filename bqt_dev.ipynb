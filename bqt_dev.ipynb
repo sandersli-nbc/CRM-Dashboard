{
 "cells": [
  {
   "cell_type": "code",
   "execution_count": 1,
   "metadata": {},
   "outputs": [],
   "source": [
    "from google.cloud import bigquery\n",
    "from dateutil import tz\n",
    "from concurrent.futures import ThreadPoolExecutor, as_completed\n",
    "from datetime import datetime, timedelta\n",
    "from google.cloud.bigquery import QueryJob, Client"
   ]
  },
  {
   "attachments": {},
   "cell_type": "markdown",
   "metadata": {},
   "source": [
    "The method of construction will vary based on arguments passed during construction: \n",
    "\n",
    "- if given a QueryJob object, then construct Job by inheriting all properties of QueryJob object.\n",
    "- if given positional arguments or keyword arguments, then construct Job via assigning positional arguments in the following order (name, last_state, last_checked) or keyword arguments to those respective argument names. Inherit all properties of QueryJob object, but force the client property to be None.\n",
    "- if given both a QueryJob object and positional arguments and/or keyword arguments, then construct Job by first inheriting all properties of the QueryJob then assign positional arguments and keyword arguments to their respective properties.\n",
    "\n",
    "Do not require arguments or keyword arguments in creating the Job.\n",
    "\n",
    "It should pass the following tests:\n",
    "\n",
    "# Create with instance of QueryJob from library\n",
    "job = Job(jobs[0])\n",
    "\n",
    "# Create with name and nothing else\n",
    "job = Job('asdf')\n",
    "\n",
    "# Create with instance of QueryJob from library\n",
    "job = Job(query_job)\n",
    "\n",
    "# Create with instance of QueryJob from library and with name\n",
    "job = Job(query_job, 'asdf')"
   ]
  },
  {
   "cell_type": "code",
   "execution_count": 11,
   "metadata": {},
   "outputs": [],
   "source": [
    "class Job(QueryJob):\n",
    "    def __init__(self, *args, **kwargs):\n",
    "        if args and isinstance(args[0], QueryJob):\n",
    "            super().__init__(self, QueryJob)\n",
    "            if args[1:] or kwargs:\n",
    "                self._assign_properties(*args[1:], **kwargs)\n",
    "        else:\n",
    "            self.name = kwargs.get('name')\n",
    "            self.last_state = kwargs.get('last_state')\n",
    "            self.last_checked = kwargs.get('last_checked')\n",
    "    \n",
    "    def _assign_properties(self, *args, **kwargs):\n",
    "        property_names = ['name', 'last_state', 'last_checked']\n",
    "        \n",
    "        for i, value in enumerate(args):\n",
    "            setattr(self, property_names[i], value)\n",
    "        \n",
    "        for key, value in kwargs.items():\n",
    "            setattr(self, key, value)\n",
    "    \n",
    "    def __repr__(self):\n",
    "        return ', '.join(self.name, self.job_id)\n",
    "    \n",
    "    def __str__(self):\n",
    "        user_string = f\"User: {self.user_email}\"\n",
    "        created_string = f\"Created: {self.created.astimezone(tz.tzlocal()).strftime('%b %d, %Y %I:%M %p')}\" if self.created else None\n",
    "        last_checked_string = f\"Last Checked: {self.last_checked.astimezone(tz.tzlocal()).strftime('%b %d, %Y %I:%M %p')}\" if self.last_state else None\n",
    "        if self.error:\n",
    "            return \"\\t | \\t\".join([self.name, self.job_id, user_string, created_string, last_checked_string, self.error['message']])\n",
    "        else:\n",
    "            return \"\\t | \\t\".join([self.name, self.job_id, user_string, created_string, last_checked_string, self.last_state])\n",
    "\n",
    "class UserQueryManager:\n",
    "    def __init__(self):\n",
    "        pass\n",
    "        \n",
    "    def get_active(self):\n",
    "        to_zone = tz.tzlocal()\n",
    "        client = bigquery.Client()\n",
    "        self.active_jobs = [job for job in client.list_jobs(state_filter=\"RUNNING\")]\n",
    "        return self.active_jobs"
   ]
  },
  {
   "cell_type": "code",
   "execution_count": 7,
   "metadata": {},
   "outputs": [],
   "source": [
    "manager = UserQueryManager()\n",
    "jobs = manager.get_active()"
   ]
  },
  {
   "cell_type": "code",
   "execution_count": 8,
   "metadata": {},
   "outputs": [
    {
     "data": {
      "text/plain": [
       "QueryJob<project=nbcu-ds-sandbox-a-001, location=US, id=5c782236-ff2d-43ca-b38c-93cdd4e088bc>"
      ]
     },
     "execution_count": 8,
     "metadata": {},
     "output_type": "execute_result"
    }
   ],
   "source": [
    "jobs[0]"
   ]
  },
  {
   "attachments": {},
   "cell_type": "markdown",
   "metadata": {},
   "source": [
    "# Tests"
   ]
  },
  {
   "cell_type": "code",
   "execution_count": 9,
   "metadata": {},
   "outputs": [
    {
     "ename": "TypeError",
     "evalue": "__init__() missing 1 required positional argument: 'query'",
     "output_type": "error",
     "traceback": [
      "\u001b[1;31m---------------------------------------------------------------------------\u001b[0m",
      "\u001b[1;31mTypeError\u001b[0m                                 Traceback (most recent call last)",
      "\u001b[1;32mC:\\TEMP\\ipykernel_34012\\3842778197.py\u001b[0m in \u001b[0;36m<module>\u001b[1;34m\u001b[0m\n\u001b[0;32m      1\u001b[0m \u001b[1;31m# Create empty job\u001b[0m\u001b[1;33m\u001b[0m\u001b[1;33m\u001b[0m\u001b[0m\n\u001b[1;32m----> 2\u001b[1;33m \u001b[0mjob\u001b[0m \u001b[1;33m=\u001b[0m \u001b[0mJob\u001b[0m\u001b[1;33m(\u001b[0m\u001b[1;33m)\u001b[0m\u001b[1;33m\u001b[0m\u001b[1;33m\u001b[0m\u001b[0m\n\u001b[0m\u001b[0;32m      3\u001b[0m \u001b[0mjob\u001b[0m\u001b[1;33m\u001b[0m\u001b[1;33m\u001b[0m\u001b[0m\n",
      "\u001b[1;32mC:\\TEMP\\ipykernel_34012\\2430145142.py\u001b[0m in \u001b[0;36m__init__\u001b[1;34m(self, *args, **kwargs)\u001b[0m\n\u001b[0;32m      6\u001b[0m                 \u001b[0mself\u001b[0m\u001b[1;33m.\u001b[0m\u001b[0m_assign_properties\u001b[0m\u001b[1;33m(\u001b[0m\u001b[1;33m*\u001b[0m\u001b[0margs\u001b[0m\u001b[1;33m[\u001b[0m\u001b[1;36m1\u001b[0m\u001b[1;33m:\u001b[0m\u001b[1;33m]\u001b[0m\u001b[1;33m,\u001b[0m \u001b[1;33m**\u001b[0m\u001b[0mkwargs\u001b[0m\u001b[1;33m)\u001b[0m\u001b[1;33m\u001b[0m\u001b[1;33m\u001b[0m\u001b[0m\n\u001b[0;32m      7\u001b[0m         \u001b[1;32melse\u001b[0m\u001b[1;33m:\u001b[0m\u001b[1;33m\u001b[0m\u001b[1;33m\u001b[0m\u001b[0m\n\u001b[1;32m----> 8\u001b[1;33m             \u001b[0msuper\u001b[0m\u001b[1;33m(\u001b[0m\u001b[1;33m)\u001b[0m\u001b[1;33m.\u001b[0m\u001b[0m__init__\u001b[0m\u001b[1;33m(\u001b[0m\u001b[0mjob_id\u001b[0m\u001b[1;33m=\u001b[0m\u001b[1;32mNone\u001b[0m\u001b[1;33m,\u001b[0m \u001b[0mclient\u001b[0m\u001b[1;33m=\u001b[0m\u001b[1;32mNone\u001b[0m\u001b[1;33m)\u001b[0m\u001b[1;33m\u001b[0m\u001b[1;33m\u001b[0m\u001b[0m\n\u001b[0m\u001b[0;32m      9\u001b[0m             \u001b[0mself\u001b[0m\u001b[1;33m.\u001b[0m\u001b[0mname\u001b[0m \u001b[1;33m=\u001b[0m \u001b[0mkwargs\u001b[0m\u001b[1;33m.\u001b[0m\u001b[0mget\u001b[0m\u001b[1;33m(\u001b[0m\u001b[1;34m'name'\u001b[0m\u001b[1;33m)\u001b[0m\u001b[1;33m\u001b[0m\u001b[1;33m\u001b[0m\u001b[0m\n\u001b[0;32m     10\u001b[0m             \u001b[0mself\u001b[0m\u001b[1;33m.\u001b[0m\u001b[0mlast_state\u001b[0m \u001b[1;33m=\u001b[0m \u001b[0mkwargs\u001b[0m\u001b[1;33m.\u001b[0m\u001b[0mget\u001b[0m\u001b[1;33m(\u001b[0m\u001b[1;34m'last_state'\u001b[0m\u001b[1;33m)\u001b[0m\u001b[1;33m\u001b[0m\u001b[1;33m\u001b[0m\u001b[0m\n",
      "\u001b[1;31mTypeError\u001b[0m: __init__() missing 1 required positional argument: 'query'"
     ]
    }
   ],
   "source": [
    "# Create empty job\n",
    "job = Job()\n",
    "job"
   ]
  },
  {
   "cell_type": "code",
   "execution_count": null,
   "metadata": {},
   "outputs": [],
   "source": [
    "# Create with name and nothing else\n",
    "job = Job('asdf')\n",
    "job"
   ]
  },
  {
   "cell_type": "code",
   "execution_count": null,
   "metadata": {},
   "outputs": [],
   "source": [
    "# Create with instance of QueryJob from library\n",
    "job = Job(jobs[0])\n",
    "job"
   ]
  },
  {
   "cell_type": "code",
   "execution_count": null,
   "metadata": {},
   "outputs": [],
   "source": [
    "# Create with instance of QueryJob from library and with name\n",
    "job = Job(jobs[0], 'asdf')"
   ]
  }
 ],
 "metadata": {
  "kernelspec": {
   "display_name": "base",
   "language": "python",
   "name": "python3"
  },
  "language_info": {
   "codemirror_mode": {
    "name": "ipython",
    "version": 3
   },
   "file_extension": ".py",
   "mimetype": "text/x-python",
   "name": "python",
   "nbconvert_exporter": "python",
   "pygments_lexer": "ipython3",
   "version": "3.9.13"
  },
  "orig_nbformat": 4
 },
 "nbformat": 4,
 "nbformat_minor": 2
}
