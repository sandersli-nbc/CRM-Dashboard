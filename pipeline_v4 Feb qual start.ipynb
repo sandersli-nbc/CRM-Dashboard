{
 "cells": [
  {
   "cell_type": "code",
   "execution_count": 1,
   "metadata": {
    "vscode": {
     "languageId": "sql"
    }
   },
   "outputs": [],
   "source": [
    "import pandas as pd\n",
    "import seaborn as sns\n",
    "\n",
    "%load_ext google.cloud.bigquery"
   ]
  },
  {
   "attachments": {},
   "cell_type": "markdown",
   "metadata": {},
   "source": [
    "## Base Tables"
   ]
  },
  {
   "cell_type": "code",
   "execution_count": 2,
   "metadata": {
    "vscode": {
     "languageId": "sql"
    }
   },
   "outputs": [],
   "source": [
    "params = {\n",
    "    'report_start_date': '2023-02-01',\n",
    "    'report_end_date': '2023-02-28'\n",
    "}"
   ]
  },
  {
   "cell_type": "code",
   "execution_count": 3,
   "metadata": {
    "vscode": {
     "languageId": "sql"
    }
   },
   "outputs": [
    {
     "data": {
      "application/vnd.jupyter.widget-view+json": {
       "model_id": "24fcd6dae985445a8f0c30e7d8dfc525",
       "version_major": 2,
       "version_minor": 0
      },
      "text/plain": [
       "Query is running:   0%|          |"
      ]
     },
     "metadata": {},
     "output_type": "display_data"
    },
    {
     "data": {
      "text/html": [
       "<div>\n",
       "<style scoped>\n",
       "    .dataframe tbody tr th:only-of-type {\n",
       "        vertical-align: middle;\n",
       "    }\n",
       "\n",
       "    .dataframe tbody tr th {\n",
       "        vertical-align: top;\n",
       "    }\n",
       "\n",
       "    .dataframe thead th {\n",
       "        text-align: right;\n",
       "    }\n",
       "</style>\n",
       "<table border=\"1\" class=\"dataframe\">\n",
       "  <thead>\n",
       "    <tr style=\"text-align: right;\">\n",
       "      <th></th>\n",
       "    </tr>\n",
       "  </thead>\n",
       "  <tbody>\n",
       "  </tbody>\n",
       "</table>\n",
       "</div>"
      ],
      "text/plain": [
       "Empty DataFrame\n",
       "Columns: []\n",
       "Index: []"
      ]
     },
     "execution_count": 3,
     "metadata": {},
     "output_type": "execute_result"
    }
   ],
   "source": [
    "%%bigquery --project nbcu-ds-sandbox-a-001 --params $params\n",
    "-- TODO: Find a better way to write this with report_date included to show date of unsub\n",
    "CREATE OR REPLACE TABLE `nbcu-ds-sandbox-a-001.SLi_sandbox.Email_Unsubs_v4_Feb23` AS (\n",
    "    SELECT DISTINCT adobe_tracking_id\n",
    "    FROM  `nbcu-ds-prod-001.PeacockDataMartSilver.SILVER_MPARTICLE_BRAZE` \n",
    "    WHERE event_name = 'Email Unsubscribes' \n",
    "    AND event_date <= @report_end_date\n",
    ")"
   ]
  },
  {
   "cell_type": "code",
   "execution_count": 4,
   "metadata": {
    "vscode": {
     "languageId": "sql"
    }
   },
   "outputs": [
    {
     "data": {
      "application/vnd.jupyter.widget-view+json": {
       "model_id": "e0cfabd8a80f4d638261fbb009e4e0cb",
       "version_major": 2,
       "version_minor": 0
      },
      "text/plain": [
       "Query is running:   0%|          |"
      ]
     },
     "metadata": {},
     "output_type": "display_data"
    },
    {
     "data": {
      "text/html": [
       "<div>\n",
       "<style scoped>\n",
       "    .dataframe tbody tr th:only-of-type {\n",
       "        vertical-align: middle;\n",
       "    }\n",
       "\n",
       "    .dataframe tbody tr th {\n",
       "        vertical-align: top;\n",
       "    }\n",
       "\n",
       "    .dataframe thead th {\n",
       "        text-align: right;\n",
       "    }\n",
       "</style>\n",
       "<table border=\"1\" class=\"dataframe\">\n",
       "  <thead>\n",
       "    <tr style=\"text-align: right;\">\n",
       "      <th></th>\n",
       "    </tr>\n",
       "  </thead>\n",
       "  <tbody>\n",
       "  </tbody>\n",
       "</table>\n",
       "</div>"
      ],
      "text/plain": [
       "Empty DataFrame\n",
       "Columns: []\n",
       "Index: []"
      ]
     },
     "execution_count": 4,
     "metadata": {},
     "output_type": "execute_result"
    }
   ],
   "source": [
    "%%bigquery --project nbcu-ds-sandbox-a-001 --params $params\n",
    "CREATE OR REPLACE TABLE `nbcu-ds-sandbox-a-001.SLi_sandbox.Email_Delivered_v4_Feb23` AS ( -- everyone who have received emails in the month\n",
    "    SELECT DISTINCT adobe_tracking_id \n",
    "    FROM  `nbcu-ds-prod-001.PeacockDataMartSilver.SILVER_MPARTICLE_BRAZE`\n",
    "    WHERE event_name = 'Email Deliveries' \n",
    "    AND event_date BETWEEN @report_start_date and @report_end_date\n",
    "    AND LOWER(campaign_name) NOT LIKE 'transactional%' -- Exclude transactional emails\n",
    ")"
   ]
  },
  {
   "cell_type": "code",
   "execution_count": 5,
   "metadata": {
    "vscode": {
     "languageId": "sql"
    }
   },
   "outputs": [
    {
     "data": {
      "application/vnd.jupyter.widget-view+json": {
       "model_id": "466850b88f1c42b8bcc7f4805f3a4322",
       "version_major": 2,
       "version_minor": 0
      },
      "text/plain": [
       "Query is running:   0%|          |"
      ]
     },
     "metadata": {},
     "output_type": "display_data"
    },
    {
     "data": {
      "text/html": [
       "<div>\n",
       "<style scoped>\n",
       "    .dataframe tbody tr th:only-of-type {\n",
       "        vertical-align: middle;\n",
       "    }\n",
       "\n",
       "    .dataframe tbody tr th {\n",
       "        vertical-align: top;\n",
       "    }\n",
       "\n",
       "    .dataframe thead th {\n",
       "        text-align: right;\n",
       "    }\n",
       "</style>\n",
       "<table border=\"1\" class=\"dataframe\">\n",
       "  <thead>\n",
       "    <tr style=\"text-align: right;\">\n",
       "      <th></th>\n",
       "    </tr>\n",
       "  </thead>\n",
       "  <tbody>\n",
       "  </tbody>\n",
       "</table>\n",
       "</div>"
      ],
      "text/plain": [
       "Empty DataFrame\n",
       "Columns: []\n",
       "Index: []"
      ]
     },
     "execution_count": 5,
     "metadata": {},
     "output_type": "execute_result"
    }
   ],
   "source": [
    "%%bigquery --project nbcu-ds-sandbox-a-001 --params $params\n",
    "CREATE OR REPLACE TABLE `nbcu-ds-sandbox-a-001.SLi_sandbox.Email_Holdout_v4_Feb23` AS ( \n",
    "    SELECT  DISTINCT holdout.adobe_tracking_id\n",
    "    FROM\n",
    "    (\n",
    "        SELECT  DISTINCT TrackingId AS adobe_tracking_id\n",
    "        FROM `nbcu-ds-prod-001.PeacockDataMartMarketingGold.HOLDOUT_GROUP`\n",
    "        WHERE cohort = format_timestamp('%B%Y', DATETIME_TRUNC(@report_start_date, QUARTER)) -- get cohort name as month of quarter start + year\n",
    "        AND Hold_Out_Type_Current = 'Owned Email Holdout'\n",
    "        AND DATE(TIMESTAMP(RegistrationDate), 'America/New_York') <= @report_end_date\n",
    "    ) holdout\n",
    "    -- Exclude those who are assigned to Email Holdout but actually received emails 1 month prior to holdout start (to include cooloff period)\n",
    "    LEFT JOIN (\n",
    "        SELECT DISTINCT adobe_tracking_id \n",
    "        FROM  `nbcu-ds-prod-001.PeacockDataMartSilver.SILVER_MPARTICLE_BRAZE`\n",
    "        WHERE event_name = 'Email Deliveries' \n",
    "        AND event_date BETWEEN DATETIME_TRUNC(@report_start_date, QUARTER) and @report_end_date\n",
    "        AND LOWER(campaign_name) NOT LIKE 'transactional%' -- Exclude transactional emails\n",
    "    ) received\n",
    "    ON holdout.adobe_tracking_id = received.adobe_tracking_id\n",
    "    WHERE received.adobe_tracking_id IS NULL\n",
    ")"
   ]
  },
  {
   "cell_type": "code",
   "execution_count": 6,
   "metadata": {
    "vscode": {
     "languageId": "sql"
    }
   },
   "outputs": [
    {
     "data": {
      "application/vnd.jupyter.widget-view+json": {
       "model_id": "d1f1607317734521b5635961c203e7c3",
       "version_major": 2,
       "version_minor": 0
      },
      "text/plain": [
       "Query is running:   0%|          |"
      ]
     },
     "metadata": {},
     "output_type": "display_data"
    },
    {
     "data": {
      "text/html": [
       "<div>\n",
       "<style scoped>\n",
       "    .dataframe tbody tr th:only-of-type {\n",
       "        vertical-align: middle;\n",
       "    }\n",
       "\n",
       "    .dataframe tbody tr th {\n",
       "        vertical-align: top;\n",
       "    }\n",
       "\n",
       "    .dataframe thead th {\n",
       "        text-align: right;\n",
       "    }\n",
       "</style>\n",
       "<table border=\"1\" class=\"dataframe\">\n",
       "  <thead>\n",
       "    <tr style=\"text-align: right;\">\n",
       "      <th></th>\n",
       "    </tr>\n",
       "  </thead>\n",
       "  <tbody>\n",
       "  </tbody>\n",
       "</table>\n",
       "</div>"
      ],
      "text/plain": [
       "Empty DataFrame\n",
       "Columns: []\n",
       "Index: []"
      ]
     },
     "execution_count": 6,
     "metadata": {},
     "output_type": "execute_result"
    }
   ],
   "source": [
    "%%bigquery --project nbcu-ds-sandbox-a-001 --params $params\n",
    "CREATE OR REPLACE TABLE `nbcu-ds-sandbox-a-001.SLi_sandbox.Email_Channel_Qualifier_v4_Feb23` AS \n",
    "\n",
    "-- Engagement: Deliveries 4 months before start of the holdout period, defined as start of quarter\n",
    "SELECT DISTINCT adobe_tracking_id AS aid \n",
    "FROM  `nbcu-ds-prod-001.PeacockDataMartSilver.SILVER_MPARTICLE_BRAZE`\n",
    "WHERE event_name = 'Email Deliveries'\n",
    "AND event_date BETWEEN DATE_SUB(DATETIME_TRUNC(@report_start_date, QUARTER), INTERVAL 4 MONTH) AND @report_start_date\n",
    "AND lower(campaign_name) NOT LIKE 'transactional%' -- Exclude transactional emails\n",
    "\n",
    "UNION ALL\n",
    "\n",
    "-- New users joining after 4 months before start of the cohort period\n",
    "SELECT DISTINCT adobe_tracking_id AS aid\n",
    "FROM `nbcu-ds-prod-001.PeacockDataMartSilver.SILVER_USER`\n",
    "WHERE registration_date BETWEEN DATE_SUB(DATETIME_TRUNC(@report_start_date, QUARTER), INTERVAL 4 MONTH) AND @report_start_date"
   ]
  },
  {
   "attachments": {},
   "cell_type": "markdown",
   "metadata": {},
   "source": [
    "### Output Base Tables"
   ]
  },
  {
   "cell_type": "code",
   "execution_count": 7,
   "metadata": {
    "vscode": {
     "languageId": "sql"
    }
   },
   "outputs": [
    {
     "data": {
      "application/vnd.jupyter.widget-view+json": {
       "model_id": "a06d5222e8a44097a3617bf2270dcd6b",
       "version_major": 2,
       "version_minor": 0
      },
      "text/plain": [
       "Query is running:   0%|          |"
      ]
     },
     "metadata": {},
     "output_type": "display_data"
    },
    {
     "data": {
      "text/html": [
       "<div>\n",
       "<style scoped>\n",
       "    .dataframe tbody tr th:only-of-type {\n",
       "        vertical-align: middle;\n",
       "    }\n",
       "\n",
       "    .dataframe tbody tr th {\n",
       "        vertical-align: top;\n",
       "    }\n",
       "\n",
       "    .dataframe thead th {\n",
       "        text-align: right;\n",
       "    }\n",
       "</style>\n",
       "<table border=\"1\" class=\"dataframe\">\n",
       "  <thead>\n",
       "    <tr style=\"text-align: right;\">\n",
       "      <th></th>\n",
       "    </tr>\n",
       "  </thead>\n",
       "  <tbody>\n",
       "  </tbody>\n",
       "</table>\n",
       "</div>"
      ],
      "text/plain": [
       "Empty DataFrame\n",
       "Columns: []\n",
       "Index: []"
      ]
     },
     "execution_count": 7,
     "metadata": {},
     "output_type": "execute_result"
    }
   ],
   "source": [
    "%%bigquery --project nbcu-ds-sandbox-a-001 --params $params\n",
    "CREATE OR REPLACE TABLE `nbcu-ds-sandbox-a-001.SLi_sandbox.Email_Measurement_Audience_v4_Feb23` AS\n",
    "\n",
    "SELECT  distinct delivered_and_holdout.adobe_tracking_id AS aid\n",
    "       ,cohort\n",
    "       ,user.account_type\n",
    "       ,user.account_tenure\n",
    "FROM (\n",
    "    SELECT *, 'Email_Targeted' as cohort from `nbcu-ds-sandbox-a-001.SLi_sandbox.Email_Delivered_v4_Feb23`\n",
    "    UNION ALL\n",
    "    SELECT *, 'Holdout' as cohort from `nbcu-ds-sandbox-a-001.SLi_sandbox.Email_Holdout_v4_Feb23`\n",
    ") delivered_and_holdout\n",
    "\n",
    "-- Include only those who received email in the current reporting period or are in holdout\n",
    "INNER JOIN `nbcu-ds-sandbox-a-001.SLi_sandbox.Email_Channel_Qualifier_v4_Feb23` qualified\n",
    "ON delivered_and_holdout.adobe_tracking_id = qualified.aid\n",
    "\n",
    "-- for after 2021/july, email channel only, take out all abandon MAAs\n",
    "INNER JOIN\n",
    "    (\n",
    "        SELECT  DISTINCT adobe_tracking_id\n",
    "        FROM `nbcu-ds-prod-001.PeacockDataMartSilver.SILVER_PRIMARY_DEVICES`\n",
    "        WHERE report_date = @report_end_date\n",
    "        AND date_of_last_view IS NOT NULL\n",
    "    ) abandon_maa\n",
    "ON delivered_and_holdout.adobe_tracking_id = abandon_maa.adobe_tracking_id\n",
    "\n",
    "--add attribute: account_type at the end of the reporting period\n",
    "INNER JOIN\n",
    "    (\n",
    "        SELECT  DISTINCT adobe_tracking_id\n",
    "            ,account_type\n",
    "            ,account_tenure\n",
    "        FROM `nbcu-ds-prod-001.PeacockDataMartSilver.SILVER_USER`\n",
    "        WHERE report_date = @report_end_date \n",
    "    ) user\n",
    "ON delivered_and_holdout.adobe_tracking_id = user.adobe_tracking_id\n",
    "\n",
    "-- exclude unsubscribed\n",
    "LEFT JOIN `nbcu-ds-sandbox-a-001.SLi_sandbox.Email_Unsubs_v4_Feb23` email_unsubs\n",
    "ON delivered_and_holdout.adobe_tracking_id = email_unsubs.adobe_tracking_id\n",
    "WHERE email_unsubs.adobe_tracking_id IS NULL"
   ]
  },
  {
   "cell_type": "code",
   "execution_count": 8,
   "metadata": {
    "vscode": {
     "languageId": "sql"
    }
   },
   "outputs": [
    {
     "data": {
      "application/vnd.jupyter.widget-view+json": {
       "model_id": "fb5fbd21c06b4e25a392571f84dfff9a",
       "version_major": 2,
       "version_minor": 0
      },
      "text/plain": [
       "Query is running:   0%|          |"
      ]
     },
     "metadata": {},
     "output_type": "display_data"
    },
    {
     "data": {
      "application/vnd.jupyter.widget-view+json": {
       "model_id": "7d3277f96fe242409e41031e8b913cae",
       "version_major": 2,
       "version_minor": 0
      },
      "text/plain": [
       "Downloading:   0%|          |"
      ]
     },
     "metadata": {},
     "output_type": "display_data"
    },
    {
     "data": {
      "text/html": [
       "<div>\n",
       "<style scoped>\n",
       "    .dataframe tbody tr th:only-of-type {\n",
       "        vertical-align: middle;\n",
       "    }\n",
       "\n",
       "    .dataframe tbody tr th {\n",
       "        vertical-align: top;\n",
       "    }\n",
       "\n",
       "    .dataframe thead th {\n",
       "        text-align: right;\n",
       "    }\n",
       "</style>\n",
       "<table border=\"1\" class=\"dataframe\">\n",
       "  <thead>\n",
       "    <tr style=\"text-align: right;\">\n",
       "      <th></th>\n",
       "      <th>Account_Tenure</th>\n",
       "    </tr>\n",
       "  </thead>\n",
       "  <tbody>\n",
       "    <tr>\n",
       "      <th>0</th>\n",
       "      <td>8 - 30 Days</td>\n",
       "    </tr>\n",
       "    <tr>\n",
       "      <th>1</th>\n",
       "      <td>366+ Days</td>\n",
       "    </tr>\n",
       "    <tr>\n",
       "      <th>2</th>\n",
       "      <td>31 - 90 Days</td>\n",
       "    </tr>\n",
       "    <tr>\n",
       "      <th>3</th>\n",
       "      <td>91 - 365 Days</td>\n",
       "    </tr>\n",
       "  </tbody>\n",
       "</table>\n",
       "</div>"
      ],
      "text/plain": [
       "  Account_Tenure\n",
       "0    8 - 30 Days\n",
       "1      366+ Days\n",
       "2   31 - 90 Days\n",
       "3  91 - 365 Days"
      ]
     },
     "execution_count": 8,
     "metadata": {},
     "output_type": "execute_result"
    }
   ],
   "source": [
    "%%bigquery --project nbcu-ds-sandbox-a-001 --params $params\n",
    "\n",
    "select distinct Account_Tenure from `nbcu-ds-sandbox-a-001.SLi_sandbox.Email_Measurement_Audience_v4_Feb23`"
   ]
  },
  {
   "cell_type": "code",
   "execution_count": 9,
   "metadata": {
    "vscode": {
     "languageId": "sql"
    }
   },
   "outputs": [
    {
     "data": {
      "application/vnd.jupyter.widget-view+json": {
       "model_id": "0287a1b65c4243d0b2633882c89a2642",
       "version_major": 2,
       "version_minor": 0
      },
      "text/plain": [
       "Query is running:   0%|          |"
      ]
     },
     "metadata": {},
     "output_type": "display_data"
    },
    {
     "data": {
      "text/html": [
       "<div>\n",
       "<style scoped>\n",
       "    .dataframe tbody tr th:only-of-type {\n",
       "        vertical-align: middle;\n",
       "    }\n",
       "\n",
       "    .dataframe tbody tr th {\n",
       "        vertical-align: top;\n",
       "    }\n",
       "\n",
       "    .dataframe thead th {\n",
       "        text-align: right;\n",
       "    }\n",
       "</style>\n",
       "<table border=\"1\" class=\"dataframe\">\n",
       "  <thead>\n",
       "    <tr style=\"text-align: right;\">\n",
       "      <th></th>\n",
       "    </tr>\n",
       "  </thead>\n",
       "  <tbody>\n",
       "  </tbody>\n",
       "</table>\n",
       "</div>"
      ],
      "text/plain": [
       "Empty DataFrame\n",
       "Columns: []\n",
       "Index: []"
      ]
     },
     "execution_count": 9,
     "metadata": {},
     "output_type": "execute_result"
    }
   ],
   "source": [
    "%%bigquery --project nbcu-ds-sandbox-a-001 --params $params\n",
    "CREATE OR REPLACE TABLE `nbcu-ds-sandbox-a-001.SLi_sandbox.Video_Viewing_v4_Feb23` AS (\n",
    "    SELECT \n",
    "        adobe_tracking_id\n",
    "        , COUNT (DISTINCT CASE WHEN VIDEO.num_views_started = 1 THEN video.adobe_tracking_id ELSE NULL END) AS Distinct_Content_Starts\n",
    "        , SUM (VIDEO.num_views_started ) AS Total_Content_Starts\n",
    "        , SUM(VIDEO.num_seconds_played_no_ads)/3600 AS Viewing_Time\n",
    "        , COUNT(DISTINCT session_id) AS Distinct_Viewing_Sessions \n",
    "        , COUNT(DISTINCT(CASE WHEN (num_seconds_played_no_ads > CASE WHEN lower(consumption_type) = 'virtual channel' THEN 299 ELSE 0 END)\n",
    "                and (num_views_started>0) THEN CASE WHEN (lower(consumption_type) = \"shortform\") THEN \"Shortform\"\n",
    "                                                    WHEN lower(franchise) != 'other' THEN franchise ELSE display_name\n",
    "                                                    END\n",
    "                end)) as Repertoire_Pavo_Method\n",
    "                \n",
    "    FROM `nbcu-ds-sandbox-a-001.SLi_sandbox.Email_Measurement_Audience_v4_Feb23` a\n",
    "\n",
    "    INNER JOIN  `nbcu-ds-prod-001.PeacockDataMartSilver.SILVER_VIDEO` VIDEO\n",
    "        ON VIDEO.adobe_tracking_id = a.aid\n",
    "        AND adobe_date between @report_start_date AND @report_end_date\n",
    "    GROUP BY 1\n",
    ")"
   ]
  },
  {
   "attachments": {},
   "cell_type": "markdown",
   "metadata": {},
   "source": [
    "## Metric Definitions"
   ]
  },
  {
   "cell_type": "code",
   "execution_count": 10,
   "metadata": {
    "vscode": {
     "languageId": "sql"
    }
   },
   "outputs": [
    {
     "data": {
      "application/vnd.jupyter.widget-view+json": {
       "model_id": "f01dc54b8e4e45fcbd0d520097f3a579",
       "version_major": 2,
       "version_minor": 0
      },
      "text/plain": [
       "Query is running:   0%|          |"
      ]
     },
     "metadata": {},
     "output_type": "display_data"
    },
    {
     "data": {
      "text/html": [
       "<div>\n",
       "<style scoped>\n",
       "    .dataframe tbody tr th:only-of-type {\n",
       "        vertical-align: middle;\n",
       "    }\n",
       "\n",
       "    .dataframe tbody tr th {\n",
       "        vertical-align: top;\n",
       "    }\n",
       "\n",
       "    .dataframe thead th {\n",
       "        text-align: right;\n",
       "    }\n",
       "</style>\n",
       "<table border=\"1\" class=\"dataframe\">\n",
       "  <thead>\n",
       "    <tr style=\"text-align: right;\">\n",
       "      <th></th>\n",
       "    </tr>\n",
       "  </thead>\n",
       "  <tbody>\n",
       "  </tbody>\n",
       "</table>\n",
       "</div>"
      ],
      "text/plain": [
       "Empty DataFrame\n",
       "Columns: []\n",
       "Index: []"
      ]
     },
     "execution_count": 10,
     "metadata": {},
     "output_type": "execute_result"
    }
   ],
   "source": [
    "%%bigquery --project nbcu-ds-sandbox-a-001 --params $params\n",
    "\n",
    "CREATE OR REPLACE TABLE `nbcu-ds-sandbox-a-001.SLi_sandbox.CRM_KPI_Base_v4_Feb23` AS \n",
    "\n",
    "WITH\n",
    "Save_Base AS ( --'Lapsing_Users'\n",
    "    SELECT distinct adobe_tracking_id, date_of_last_view\n",
    "    FROM `nbcu-ds-prod-001.PeacockDataMartSilver.SILVER_PRIMARY_DEVICES` \n",
    "    WHERE report_date BETWEEN @report_start_date AND @report_end_date \n",
    "    AND days_since_last_view BETWEEN 15 AND 29 -- this guarantees we are only getting people who have at least past the 'lapsing' phase in the time period.\n",
    ")\n",
    ", Save_Denom as (\n",
    "    SELECT distinct adobe_tracking_id\n",
    "    FROM Save_Base\n",
    ")\n",
    ", Save_Num as (\n",
    "    SELECT distinct a.adobe_tracking_id\n",
    "    FROM Save_Base a\n",
    "    INNER JOIN `nbcu-ds-prod-001.PeacockDataMartSilver.SILVER_VIDEO` VIDEO \n",
    "        ON a.adobe_tracking_id = VIDEO.adobe_tracking_id \n",
    "        AND adobe_date BETWEEN @report_start_date AND @report_end_date\n",
    "        AND VIDEO.adobe_date BETWEEN DATE_ADD(date_of_last_view, INTERVAL 15 day) AND DATE_ADD(date_of_last_view, INTERVAL 29 day)\n",
    ")\n",
    ", Winback_Base AS ( --'Lapsed_Users'\n",
    "    SELECT distinct adobe_tracking_id, date_of_last_view\n",
    "    FROM `nbcu-ds-prod-001.PeacockDataMartSilver.SILVER_PRIMARY_DEVICES` \n",
    "    WHERE report_date BETWEEN @report_start_date AND @report_end_date \n",
    "    AND days_since_last_view BETWEEN 30 AND 90 -- this guarantees we are only getting people who have at least past the 'lapsing' phase in the time period.\n",
    "    )\n",
    ", Winback_Denom AS (\n",
    "    SELECT distinct adobe_tracking_id\n",
    "    FROM Winback_Base\n",
    ")\n",
    "-- REVIEW: compare this code to email dash (Gold table)\n",
    ", Winback_Num AS (\n",
    "    SELECT distinct a.adobe_tracking_id\n",
    "    FROM Winback_Base a\n",
    "    INNER JOIN `nbcu-ds-prod-001.PeacockDataMartSilver.SILVER_VIDEO`  VIDEO \n",
    "        ON a.adobe_tracking_id = VIDEO.adobe_tracking_id \n",
    "        AND VIDEO.adobe_date BETWEEN @report_start_date AND @report_end_date \n",
    "        AND VIDEO.adobe_date BETWEEN DATE_ADD(date_of_last_view, INTERVAL 30 day) \n",
    "            AND DATE_ADD(date_of_last_view, INTERVAL 90 DAY)\n",
    ")\n",
    ", Upgrade_Denom AS (\n",
    "-- upgrade metric 2.0: nonpaying to paying\n",
    "    SELECT distinct adobe_tracking_id \n",
    "    FROM `nbcu-ds-prod-001.PeacockDataMartSilver.SILVER_USER`  USER\n",
    "    WHERE paying_account_flag = 'NonPaying' \n",
    "    AND USER.report_date BETWEEN @report_start_date and @report_end_date\n",
    ")\n",
    ", Upgrade_Num AS (\n",
    "-- upgrades from premium to premium+ would not be in the denom. What even is an upgrade - this definition differs from upgrade_rank table. TODO: Align with stakeholders to define upgrades\n",
    "    SELECT  distinct adobe_tracking_id\n",
    "    FROM\n",
    "        (SELECT  \n",
    "                report_date\n",
    "             , adobe_tracking_id     \n",
    "         FROM  `nbcu-ds-prod-001.PeacockDataMartSilver.SILVER_USER`  USER\n",
    "         WHERE entitlement_change_flag IN ('Upgrade: Free to Premium'\n",
    "                                         , 'Upgrade: Free to Premium+')\n",
    "                                         -- , 'Upgrade: Premium to Premium+'\n",
    "         AND paying_account_flag = 'Paying'                                            \n",
    "            AND USER.report_date BETWEEN @report_start_date and @report_end_date\n",
    "        ) \n",
    ")    \n",
    ", Cancel_Save_Denom AS (\n",
    "    SELECT distinct adobe_tracking_id\n",
    "    FROM `nbcu-ds-prod-001.PeacockDataMartSilver.SILVER_USER` \n",
    "    WHERE paying_account_flag = 'Paying'\n",
    "    AND auto_renew_flag = 'OFF'\n",
    "    AND report_date BETWEEN @report_start_date and @report_end_date\n",
    ")\n",
    ", Cancel_Save_Num AS (\n",
    "    SELECT  distinct adobe_tracking_id\n",
    "    FROM\n",
    "    (\n",
    "        SELECT  adobe_tracking_id\n",
    "            ,report_date\n",
    "            ,auto_renew_flag                                                                      AS auto_renew_flag_today\n",
    "            ,LEAD(auto_renew_flag,1) OVER ( partition by adobe_tracking_id ORDER BY report_date ) AS auto_renew_flag_next_day\n",
    "        FROM `nbcu-ds-prod-001.PeacockDataMartSilver.SILVER_USER`\n",
    "        WHERE report_date BETWEEN @report_start_date AND @report_end_date\n",
    "        ORDER BY 1, 2 \n",
    "    )\n",
    "    WHERE auto_renew_flag_today = 'OFF'\n",
    "    AND auto_renew_flag_next_day = 'ON'\n",
    ")\n",
    ", New_Upgrade_Denom AS (\n",
    "    SELECT  distinct adobe_tracking_id\n",
    "    FROM `nbcu-ds-sandbox-a-001.SLi_sandbox.upgrade_never`\n",
    "    WHERE report_date BETWEEN @report_start_date AND @report_end_date\n",
    ")\n",
    ", New_Upgrade_Num AS (\n",
    "    SELECT  distinct adobe_tracking_id\n",
    "    FROM `nbcu-ds-sandbox-a-001.SLi_sandbox.upgrade_date_rank`\n",
    "    WHERE upgrade_row_number = 1\n",
    "    AND report_date BETWEEN @report_start_date AND @report_end_date\n",
    ")\n",
    ", Paid_Winbacks_Denom AS (\n",
    "    SELECT  distinct adobe_tracking_id\n",
    "    FROM\n",
    "    (\n",
    "        SELECT  adobe_tracking_id\n",
    "            ,report_date\n",
    "        FROM `nbcu-ds-prod-001.PeacockDataMartSilver.SILVER_USER`\n",
    "        WHERE paying_account_flag = 'NonPaying'\n",
    "        AND report_date BETWEEN @report_start_date AND @report_end_date \n",
    "    )\n",
    "    WHERE adobe_tracking_id NOT IN ( SELECT distinct adobe_tracking_id FROM `nbcu-ds-sandbox-a-001.SLi_sandbox.upgrade_never` WHERE report_date BETWEEN @report_start_date AND @report_end_date)\n",
    ")\n",
    "-- Super upgrades - paying base, from prem to prem+\n",
    ", Paid_Winbacks_Num AS (\n",
    "    SELECT  distinct adobe_tracking_id\n",
    "    FROM `nbcu-ds-sandbox-a-001.SLi_sandbox.upgrade_date_rank`\n",
    "    WHERE upgrade_row_number > 1\n",
    "    AND report_date BETWEEN @report_start_date AND @report_end_date\n",
    ")\n",
    "-- this metric uses silver_churn, which is based on data in PAVO dash Churn Trend\n",
    ", EOM_Paid_Churn_Denom AS (\n",
    "    SELECT  distinct adobe_tracking_id\n",
    "    FROM `nbcu-ds-prod-001.PeacockDataMartSilver.SILVER_CHURN`\n",
    "    WHERE base_date = @report_end_date\n",
    "    AND entitlement = 'Paid'\n",
    ")\n",
    ", EOM_Paid_Churn_Num AS (\n",
    "    SELECT  distinct adobe_tracking_id\n",
    "    FROM `nbcu-ds-prod-001.PeacockDataMartSilver.SILVER_CHURN`\n",
    "    WHERE base_date = @report_end_date\n",
    "    AND entitlement = 'Paid'\n",
    "    AND Churn_flag = 'Churn'\n",
    ")\n",
    "SELECT  @report_start_date                                                             AS Report_Month\n",
    "       ,a.Account_Type\n",
    "       ,a.Account_Tenure\n",
    "       ,a.aid\n",
    "       ,a.cohort\n",
    "       ,CASE WHEN video.adobe_tracking_id IS NOT NULL THEN 1 ELSE 0 END                AS viewer\n",
    "       ,video.Viewing_Time\n",
    "       ,video.Repertoire_Pavo_Method\n",
    "       ,video.Distinct_Viewing_Sessions\n",
    "       ,CASE WHEN Winback_Denom.adobe_tracking_id IS NOT NULL THEN 1 ELSE 0 END AS         Winback_Denom\n",
    "       ,CASE WHEN Winback_Num.adobe_tracking_id IS NOT NULL THEN 1 ELSE 0 END AS           Winback_Num\n",
    "       ,CASE WHEN Save_Denom.adobe_tracking_id IS NOT NULL THEN 1 ELSE 0 END AS            Save_Denom\n",
    "       ,CASE WHEN Save_Num.adobe_tracking_id IS NOT NULL THEN 1 ELSE 0 END AS              Save_Num\n",
    "       ,CASE WHEN Upgrade_Denom.adobe_tracking_id IS NOT NULL THEN 1 ELSE 0 END AS         Upgrade_Denom\n",
    "       ,CASE WHEN Upgrade_Num.adobe_tracking_id IS NOT NULL THEN 1 ELSE 0 END AS           Upgrade_Num\n",
    "       ,CASE WHEN New_Upgrade_Denom.adobe_tracking_id IS NOT NULL THEN 1 ELSE 0 END AS     New_Upgrade_Denom\n",
    "       ,CASE WHEN New_Upgrade_Num.adobe_tracking_id IS NOT NULL THEN 1 ELSE 0 END AS       New_Upgrade_Num\n",
    "       ,CASE WHEN Paid_Winbacks_Denom.adobe_tracking_id IS NOT NULL THEN 1 ELSE 0 END AS   Paid_Winbacks_Denom\n",
    "       ,CASE WHEN Paid_Winbacks_Num.adobe_tracking_id IS NOT NULL THEN 1 ELSE 0 END AS     Paid_Winbacks_Num\n",
    "       ,CASE WHEN Cancel_Save_Denom.adobe_tracking_id IS NOT NULL THEN 1 ELSE 0 END AS      Cancel_Save_Denom\n",
    "       ,CASE WHEN Cancel_Save_Num.adobe_tracking_id IS NOT NULL THEN 1 ELSE 0 END AS        Cancel_Save_Num\n",
    "       ,CASE WHEN EOM_Paid_Churn_Denom.adobe_tracking_id IS NOT NULL THEN 1 ELSE 0 END AS  EOM_Paid_Churn_Denom\n",
    "       ,CASE WHEN EOM_Paid_Churn_Num.adobe_tracking_id IS NOT NULL THEN 1 ELSE 0 END AS    EOM_Paid_Churn_Num\n",
    "FROM `nbcu-ds-sandbox-a-001.SLi_sandbox.Email_Measurement_Audience_v4_Feb23` a\n",
    "LEFT JOIN `nbcu-ds-sandbox-a-001.SLi_sandbox.Video_Viewing_v4_Feb23` video\n",
    "    ON a.aid = video.adobe_tracking_id\n",
    "LEFT JOIN Winback_Denom\n",
    "    ON a.aid = Winback_Denom.adobe_tracking_id\n",
    "LEFT JOIN Winback_Num\n",
    "    ON Winback_Denom.adobe_tracking_id = Winback_Num.adobe_tracking_id\n",
    "LEFT JOIN Save_Denom\n",
    "    ON a.aid = Save_Denom.adobe_tracking_id\n",
    "LEFT JOIN Save_Num\n",
    "    ON Save_Denom.adobe_tracking_id = Save_Num.adobe_tracking_id\n",
    "LEFT JOIN Upgrade_Denom\n",
    "    ON a.aid = Upgrade_Denom.adobe_tracking_id\n",
    "LEFT JOIN Upgrade_Num \n",
    "    ON Upgrade_Denom.adobe_tracking_id = Upgrade_Num.adobe_tracking_id\n",
    "LEFT JOIN New_Upgrade_Denom\n",
    "    on a.aid = New_Upgrade_Denom.adobe_tracking_id\n",
    "LEFT JOIN New_Upgrade_Num\n",
    "    on New_Upgrade_Denom.adobe_tracking_id = New_Upgrade_Num.adobe_tracking_id\n",
    "LEFT JOIN Paid_Winbacks_Denom\n",
    "    on a.aid = Paid_Winbacks_Denom.adobe_tracking_id\n",
    "LEFT JOIN Paid_Winbacks_Num\n",
    "    on Paid_Winbacks_Num.adobe_tracking_id = Paid_Winbacks_Denom.adobe_tracking_id\n",
    "LEFT JOIN Cancel_Save_Denom\n",
    "    on a.aid = Cancel_Save_Denom.adobe_tracking_id\n",
    "LEFT JOIN Cancel_Save_Num\n",
    "    on Cancel_Save_Denom.adobe_tracking_id = Cancel_Save_Num.adobe_tracking_id\n",
    "LEFT JOIN EOM_Paid_Churn_Denom\n",
    "    on a.aid = EOM_Paid_Churn_Denom.adobe_tracking_id\n",
    "LEFT JOIN EOM_Paid_Churn_Num\n",
    "    on EOM_Paid_Churn_Denom.adobe_tracking_id = EOM_Paid_Churn_Num.adobe_tracking_id"
   ]
  },
  {
   "cell_type": "markdown",
   "metadata": {},
   "source": [
    "# Analysis"
   ]
  },
  {
   "cell_type": "code",
   "execution_count": 11,
   "metadata": {
    "vscode": {
     "languageId": "sql"
    }
   },
   "outputs": [
    {
     "data": {
      "application/vnd.jupyter.widget-view+json": {
       "model_id": "38d9c332b6634eaca1bf0625b8776385",
       "version_major": 2,
       "version_minor": 0
      },
      "text/plain": [
       "Query is running:   0%|          |"
      ]
     },
     "metadata": {},
     "output_type": "display_data"
    },
    {
     "data": {
      "application/vnd.jupyter.widget-view+json": {
       "model_id": "5c481a8feafb4180b83817153ee1fc5c",
       "version_major": 2,
       "version_minor": 0
      },
      "text/plain": [
       "Downloading:   0%|          |"
      ]
     },
     "metadata": {},
     "output_type": "display_data"
    }
   ],
   "source": [
    "%%bigquery df_total --project nbcu-ds-sandbox-a-001 --params $params\n",
    "\n",
    "WITH \n",
    "CTE_1 AS (\n",
    "    SELECT  @report_start_date                                                           AS Report_Month\n",
    "       --, Account_Type\n",
    "           ,COUNT(distinct CASE WHEN cohort = 'Email_Targeted' THEN aid END )            AS Distinct_Cohort_Size_Targeted\n",
    "           ,COUNT(distinct CASE WHEN cohort = 'Holdout' THEN aid END)                    AS Distinct_Cohort_Size_Holdout\n",
    "           \n",
    "           ,SUM(CASE WHEN cohort = 'Email_Targeted' THEN viewer END )                   AS Total_Returns_Targeted\n",
    "           ,SUM(CASE WHEN cohort = 'Holdout' THEN viewer END)                           AS Total_Returns_Holdout\n",
    "           ,SUM(CASE WHEN cohort = 'Email_Targeted' THEN Viewing_Time END )              AS Total_Usage_Targeted\n",
    "           ,SUM(CASE WHEN cohort = 'Holdout' THEN Viewing_Time END)                      AS Total_Usage_Holdout\n",
    "           ,SUM(CASE WHEN cohort = 'Email_Targeted' THEN Repertoire_Pavo_Method END )    AS Total_Repertoire_Targeted\n",
    "           ,SUM(CASE WHEN cohort = 'Holdout' THEN Repertoire_Pavo_Method END)            AS Total_Repertoire_Holdout\n",
    "           ,SUM(CASE WHEN cohort = 'Email_Targeted' THEN Distinct_Viewing_Sessions END ) AS Total_Viewing_Sessions_Targeted\n",
    "           ,SUM(CASE WHEN cohort = 'Holdout' THEN Distinct_Viewing_Sessions END)         AS Total_Viewing_Sessions_Holdout\n",
    "\n",
    "           ,SUM(CASE WHEN cohort = 'Email_Targeted' THEN Winback_Denom END )             AS Winback_Denom_Targeted\n",
    "           ,SUM(CASE WHEN cohort = 'Email_Targeted' THEN Winback_Num END)                AS Winback_Num_Targeted\n",
    "           ,SUM(CASE WHEN cohort = 'Holdout' THEN Winback_Denom END )                    AS Winback_Denom_Holdout\n",
    "           ,SUM(CASE WHEN cohort = 'Holdout' THEN Winback_Num END)                       AS Winback_Num_Holdout\n",
    "\n",
    "           ,SUM(CASE WHEN cohort = 'Email_Targeted' THEN Save_Denom END )                AS Save_Denom_Targeted\n",
    "           ,SUM(CASE WHEN cohort = 'Email_Targeted' THEN Save_Num END)                   AS Save_Num_Targeted\n",
    "           ,SUM(CASE WHEN cohort = 'Holdout' THEN Save_Denom END )                       AS Save_Denom_Holdout\n",
    "           ,SUM(CASE WHEN cohort = 'Holdout' THEN Save_Num END)                          AS Save_Num_Holdout\n",
    "\n",
    "           ,SUM(CASE WHEN cohort = 'Email_Targeted' THEN Upgrade_Denom END )             AS Upgrades_Denom_Targeted\n",
    "           ,SUM(CASE WHEN cohort = 'Email_Targeted' THEN Upgrade_Num END)                AS Upgrades_Num_Targeted\n",
    "           ,SUM(CASE WHEN cohort = 'Holdout' THEN Upgrade_Denom END )                    AS Upgrades_Denom_Holdout\n",
    "           ,SUM(CASE WHEN cohort = 'Holdout' THEN Upgrade_Num END)                       AS Upgrades_Num_Holdout\n",
    "\n",
    "           ,SUM(CASE WHEN cohort = 'Email_Targeted' THEN New_Upgrade_Denom END )         AS Total_New_Upgrade_Denom_Targeted\n",
    "           ,SUM(CASE WHEN cohort = 'Email_Targeted' THEN New_Upgrade_Num END)            AS Total_New_Upgrade_Num_Targeted\n",
    "           ,SUM(CASE WHEN cohort = 'Holdout' THEN New_Upgrade_Denom END )                AS Total_New_Upgrade_Denom_Holdout\n",
    "           ,SUM(CASE WHEN cohort = 'Holdout' THEN New_Upgrade_Num END)                   AS Total_New_Upgrade_Num_Holdout\n",
    "\n",
    "           ,SUM(CASE WHEN cohort = 'Email_Targeted' THEN Paid_Winbacks_Denom END )       AS Total_Paid_Winbacks_Denom_Targeted\n",
    "           ,SUM(CASE WHEN cohort = 'Email_Targeted' THEN Paid_Winbacks_Num END)          AS Total_Paid_Winbacks_Num_Targeted\n",
    "           ,SUM(CASE WHEN cohort = 'Holdout' THEN Paid_Winbacks_Denom END )              AS Total_Paid_Winbacks_Denom_Holdout\n",
    "           ,SUM(CASE WHEN cohort = 'Holdout' THEN Paid_Winbacks_Num END)                 AS Total_Paid_Winbacks_Num_Holdout\n",
    "\n",
    "           ,SUM(CASE WHEN cohort = 'Email_Targeted' THEN Cancel_Save_Denom END )         AS Total_Cancel_Save_Denom_Targeted\n",
    "           ,SUM(CASE WHEN cohort = 'Email_Targeted' THEN Cancel_Save_Num END)            AS Total_Cancel_Save_Num_Targeted\n",
    "           ,SUM(CASE WHEN cohort = 'Holdout' THEN Cancel_Save_Denom END )                AS Total_Cancel_Save_Denom_Holdout\n",
    "           ,SUM(CASE WHEN cohort = 'Holdout' THEN Cancel_Save_Num END)                   AS Total_Cancel_Save_Num_Holdout\n",
    "\n",
    "           ,SUM(CASE WHEN cohort = 'Email_Targeted' THEN EOM_Paid_Churn_Denom END )      AS EOM_Paid_Churn_Denom_Targeted\n",
    "           ,SUM(CASE WHEN cohort = 'Email_Targeted' THEN EOM_Paid_Churn_Num END)         AS EOM_Paid_Churn_Num_Targeted\n",
    "           ,SUM(CASE WHEN cohort = 'Holdout' THEN EOM_Paid_Churn_Denom END )             AS EOM_Paid_Churn_Denom_Holdout\n",
    "           ,SUM(CASE WHEN cohort = 'Holdout' THEN EOM_Paid_Churn_Num END)                AS EOM_Paid_Churn_Num_Holdout\n",
    "       \n",
    "       FROM `nbcu-ds-sandbox-a-001.SLi_sandbox.CRM_KPI_Base_v4_Feb23`\n",
    "       GROUP BY  1 --, 2\n",
    "\n",
    "), CTE_2 AS (\n",
    "    SELECT  Report_Month\n",
    "            -- ,Account_Type\n",
    "            ,Distinct_Cohort_Size_Targeted                                                            AS Email_Engagers\n",
    "            ,Distinct_Cohort_Size_Holdout                                                             AS Email_Holdout\n",
    "            ,safe_divide(Total_Returns_Targeted,Distinct_Cohort_Size_Targeted)                        AS Return_Rate_Engagers\n",
    "            ,safe_divide(Total_Returns_Holdout,Distinct_Cohort_Size_Holdout)                          AS Return_Rate_Holdout\n",
    "            ,safe_divide(Total_Usage_Targeted,Distinct_Cohort_Size_Targeted)                          AS Usage_Engagers\n",
    "            ,safe_divide(Total_Usage_Holdout,Distinct_Cohort_Size_Holdout)                            AS Usage_Holdout\n",
    "            ,safe_divide(Total_Repertoire_Targeted,Distinct_Cohort_Size_Targeted)                     AS Repertoire_Engagers\n",
    "            ,safe_divide(Total_Repertoire_Holdout,Distinct_Cohort_Size_Holdout)                       AS Repertoire_Holdout\n",
    "            ,safe_divide(Total_Viewing_Sessions_Targeted,Distinct_Cohort_Size_Targeted)               AS Sessions_Engagers\n",
    "            ,safe_divide(Total_Viewing_Sessions_Holdout,Distinct_Cohort_Size_Holdout)                 AS Sessions_Holdout\n",
    "            ,Winback_Denom_Targeted\n",
    "            ,safe_divide(Winback_Num_Targeted,Winback_Denom_Targeted)                                 AS Winback_Rate_Engagers\n",
    "            ,safe_divide(Winback_Num_Holdout,Winback_Denom_Holdout)                                   AS Winback_Rate_Holdout\n",
    "            ,Save_Denom_Targeted\n",
    "            ,safe_divide(Save_Num_Targeted,Save_Denom_Targeted)                                       AS Save_Rate_Engagers\n",
    "            ,safe_divide(Save_Num_Holdout,Save_Denom_Holdout)                                         AS Save_Rate_Holdout\n",
    "            ,Upgrades_Denom_Targeted\n",
    "            ,safe_divide(Upgrades_Num_Targeted,Upgrades_Denom_Targeted)                               AS Upgrade_Rate_Engagers\n",
    "            ,safe_divide(Upgrades_Num_Holdout,Upgrades_Denom_Holdout)                                 AS Upgrade_Rate_Holdout\n",
    "            ,Total_New_Upgrade_Denom_Targeted\n",
    "            ,safe_divide(Total_New_Upgrade_Num_Targeted,Total_New_Upgrade_Denom_Targeted)             AS New_Upgrade_Rate_Engagers\n",
    "            ,safe_divide(Total_New_Upgrade_Num_Holdout,Total_New_Upgrade_Denom_Holdout)               AS New_Upgrade_Rate_Holdout\n",
    "            ,Total_Paid_Winbacks_Denom_Targeted\n",
    "            ,safe_divide(Total_Paid_Winbacks_Num_Targeted,Total_Paid_Winbacks_Denom_Targeted)         AS Paid_Winback_Rate_Engagers\n",
    "            ,safe_divide(Total_Paid_Winbacks_Num_Holdout,Total_Paid_Winbacks_Denom_Holdout)           AS Paid_Winback_Rate_Holdout\n",
    "            ,Total_Cancel_Save_Denom_Targeted\n",
    "            ,safe_divide(Total_Cancel_Save_Num_Targeted,Total_Cancel_Save_Denom_Targeted)             AS Cancel_Save_Rate_Engagers\n",
    "            ,safe_divide(Total_Cancel_Save_Num_Holdout,Total_Cancel_Save_Denom_Holdout)               AS Cancel_Save_Rate_Holdout\n",
    "            ,EOM_Paid_Churn_Denom_Targeted\n",
    "            ,safe_divide(EOM_Paid_Churn_Num_Targeted,EOM_Paid_Churn_Denom_Targeted)                   AS Paid_Churn_Rate_Engagers\n",
    "            ,safe_divide(EOM_Paid_Churn_Num_Holdout,EOM_Paid_Churn_Denom_Holdout)                     AS Paid_Churn_Rate_Holdout\n",
    "    FROM CTE_1\n",
    ")\n",
    "\n",
    "SELECT  Report_Month\n",
    "       --,Account_Type\n",
    "       ,Email_Engagers\n",
    "       ,Email_Holdout\n",
    "\n",
    "       ,Return_Rate_Engagers                                                                                        AS Return_Rate_Engagers\n",
    "       ,Return_Rate_Holdout                                                                                         AS Return_Rate_Holdout\n",
    "       ,Return_Rate_Engagers - Return_Rate_Holdout                                                                  AS Return_Rate_Lift_PTS\n",
    "       ,safe_divide(Return_Rate_Engagers,Return_Rate_Holdout) *100                                                  AS Return_Rate_Lift_Index\n",
    "       ,(Return_Rate_Engagers - Return_Rate_Holdout) * Email_Engagers                                               AS Returns_Incrementals\n",
    "\n",
    "       ,Usage_Engagers                                                                                              AS Usage_Engagers\n",
    "       ,Usage_Holdout                                                                                               AS Usage_Holdout\n",
    "       ,Usage_Engagers - Usage_Holdout                                                                              AS Usage_Lift_PTS\n",
    "       ,safe_divide(Usage_Engagers,Usage_Holdout) *100                                                              AS Usage_Lift_Index\n",
    "       ,(Usage_Engagers - Usage_Holdout) * Email_Engagers                                                           AS Usage_Incrementals\n",
    "\n",
    "       ,Repertoire_Engagers                                                                                         AS Repertoire_Engagers\n",
    "       ,Repertoire_Holdout                                                                                          AS Repertoire_Holdout\n",
    "       ,Repertoire_Engagers - Repertoire_Holdout                                                                    AS Repertoire_Lift_PTS\n",
    "       ,safe_divide(Repertoire_Engagers,Repertoire_Holdout) *100                                                    AS Repertoire_Lift_Index\n",
    "       ,(Repertoire_Engagers - Repertoire_Holdout) * Email_Engagers                                                 AS Repertoire_Incrementals\n",
    "\n",
    "       ,Sessions_Engagers                                                                                           AS Sessions_Engagers\n",
    "       ,Sessions_Holdout                                                                                            AS Sessions_Holdout\n",
    "       ,Sessions_Engagers - Sessions_Holdout                                                                        AS Sessions_Lift_PTS\n",
    "       ,safe_divide(Sessions_Engagers,Sessions_Holdout) *100                                                        AS Sessions_Lift_Index\n",
    "       ,(Sessions_Engagers - Sessions_Holdout) * Email_Engagers                                                     AS Sessions_Incrementals\n",
    "\n",
    "       ,Winback_Rate_Engagers                                                                                       AS Winback_Rate_Engagers\n",
    "       ,Winback_Rate_Holdout                                                                                        AS Winback_Rate_Holdout\n",
    "       ,Winback_Rate_Engagers - Winback_Rate_Holdout                                                                AS Winback_Rate_Lift_PTS\n",
    "       ,safe_divide(Winback_Rate_Engagers,Winback_Rate_Holdout) *100                                                AS Winback_Rate_Lift_Index\n",
    "       ,(Winback_Rate_Engagers - Winback_Rate_Holdout) * Winback_Denom_Targeted                                     AS Winback_Incrementals\n",
    "\n",
    "       ,Save_Rate_Engagers                                                                                          AS Save_Rate_Engagers\n",
    "       ,Save_Rate_Holdout                                                                                           AS Save_Rate_Holdout\n",
    "       ,Save_Rate_Engagers - Save_Rate_Holdout                                                                      AS Save_Rate_Lift_PTS\n",
    "       ,safe_divide(Save_Rate_Engagers,Save_Rate_Holdout) *100                                                      AS Save_Rate_Lift_Index\n",
    "       ,(Save_Rate_Engagers - Save_Rate_Holdout) * Save_Denom_Targeted                                              AS Save_Rate_Lift_Incrementals\n",
    "\n",
    "       ,Upgrade_Rate_Engagers                                                                                       AS Upgrade_Rate_Engagers\n",
    "       ,Upgrade_Rate_Holdout                                                                                        AS Upgrade_Rate_Holdout\n",
    "       ,Upgrade_Rate_Engagers - Upgrade_Rate_Holdout                                                                AS Upgrade_Rate_Lift_PTS\n",
    "       ,safe_divide(Upgrade_Rate_Engagers,Upgrade_Rate_Holdout) *100                                                AS Upgrade_Rate_Lift_Index\n",
    "       ,(Upgrade_Rate_Engagers - Upgrade_Rate_Holdout) * Upgrades_Denom_Targeted                                    AS Upgrade_Incrementals\n",
    "\n",
    "       ,New_Upgrade_Rate_Engagers                                                                                   AS New_Upgrade_Rate_Engagers\n",
    "       ,New_Upgrade_Rate_Holdout                                                                                    AS New_Upgrade_Rate_Holdout\n",
    "       ,New_Upgrade_Rate_Engagers - New_Upgrade_Rate_Holdout                                                        AS New_Upgrade_Rate_Lift_PTS\n",
    "       ,safe_divide(New_Upgrade_Rate_Engagers,New_Upgrade_Rate_Holdout) *100                                        AS New_Upgrade_Rate_Lift_Index\n",
    "       ,(New_Upgrade_Rate_Engagers - New_Upgrade_Rate_Holdout) * Total_New_Upgrade_Denom_Targeted                   AS New_Upgrade_Incrementals\n",
    "\n",
    "       ,Paid_Winback_Rate_Engagers                                                                                  AS Paid_Winback_Rate_Engagers\n",
    "       ,Paid_Winback_Rate_Holdout                                                                                   AS Paid_Winback_Rate_Holdout\n",
    "       ,Paid_Winback_Rate_Engagers - Paid_Winback_Rate_Holdout                                                      AS Paid_Winback_Rate_Lift_PTS\n",
    "       ,safe_divide(Paid_Winback_Rate_Engagers,Paid_Winback_Rate_Holdout) *100                                      AS Paid_Winback_Rate_Lift_Index\n",
    "       ,(Paid_Winback_Rate_Engagers - Paid_Winback_Rate_Holdout) * Total_Paid_Winbacks_Denom_Targeted               AS Paid_Winback_Rate_Lift_Incrementals\n",
    "\n",
    "       ,Cancel_Save_Rate_Engagers                                                                             AS Cancel_Save_Rate_Engagers\n",
    "       ,Cancel_Save_Rate_Holdout                                                                              AS Cancel_Save_Rate_Holdout\n",
    "       ,Cancel_Save_Rate_Engagers - Cancel_Save_Rate_Holdout                                            AS Cancel_Save_Rate_Lift_PTS\n",
    "       ,safe_divide(Cancel_Save_Rate_Engagers,Cancel_Save_Rate_Holdout) *100                            AS Cancel_Save_Rate_Lift_Index\n",
    "       ,(Cancel_Save_Rate_Engagers - Cancel_Save_Rate_Holdout) * Total_Cancel_Save_Denom_Targeted     AS Cancel_Save_Rate_Incrementals\n",
    "\n",
    "       ,Paid_Churn_Rate_Engagers                                                                                    AS EOM_Paid_Churn_Rate_Engagers\n",
    "       ,Paid_Churn_Rate_Holdout                                                                                     AS EOM_Paid_Churn_Rate_Holdout\n",
    "       ,Paid_Churn_Rate_Engagers - Paid_Churn_Rate_Holdout                                                          AS EOM_Paid_Churn_Rate_Lift_PTS\n",
    "       ,safe_divide(Paid_Churn_Rate_Engagers,Paid_Churn_Rate_Holdout) *100                                          AS EOM_Paid_Churn_Rate_Lift_Index\n",
    "       ,(Paid_Churn_Rate_Engagers - Paid_Churn_Rate_Holdout) * EOM_Paid_Churn_Denom_Targeted                        AS EOM_Paid_Churn_Rate_Incrementals\n",
    "\n",
    "FROM CTE_2"
   ]
  },
  {
   "cell_type": "code",
   "execution_count": 12,
   "metadata": {
    "vscode": {
     "languageId": "sql"
    }
   },
   "outputs": [
    {
     "data": {
      "text/html": [
       "<div>\n",
       "<style scoped>\n",
       "    .dataframe tbody tr th:only-of-type {\n",
       "        vertical-align: middle;\n",
       "    }\n",
       "\n",
       "    .dataframe tbody tr th {\n",
       "        vertical-align: top;\n",
       "    }\n",
       "\n",
       "    .dataframe thead th {\n",
       "        text-align: right;\n",
       "    }\n",
       "</style>\n",
       "<table border=\"1\" class=\"dataframe\">\n",
       "  <thead>\n",
       "    <tr style=\"text-align: right;\">\n",
       "      <th></th>\n",
       "      <th>Report_Month</th>\n",
       "      <th>Email_Engagers</th>\n",
       "      <th>Email_Holdout</th>\n",
       "      <th>Return_Rate_Engagers</th>\n",
       "      <th>Return_Rate_Holdout</th>\n",
       "      <th>Return_Rate_Lift_PTS</th>\n",
       "      <th>Return_Rate_Lift_Index</th>\n",
       "      <th>Returns_Incrementals</th>\n",
       "      <th>Usage_Engagers</th>\n",
       "      <th>Usage_Holdout</th>\n",
       "      <th>...</th>\n",
       "      <th>Cancel_Save_Rate_Engagers</th>\n",
       "      <th>Cancel_Save_Rate_Holdout</th>\n",
       "      <th>Cancel_Save_Rate_Lift_PTS</th>\n",
       "      <th>Cancel_Save_Rate_Lift_Index</th>\n",
       "      <th>Cancel_Save_Rate_Incrementals</th>\n",
       "      <th>EOM_Paid_Churn_Rate_Engagers</th>\n",
       "      <th>EOM_Paid_Churn_Rate_Holdout</th>\n",
       "      <th>EOM_Paid_Churn_Rate_Lift_PTS</th>\n",
       "      <th>EOM_Paid_Churn_Rate_Lift_Index</th>\n",
       "      <th>EOM_Paid_Churn_Rate_Incrementals</th>\n",
       "    </tr>\n",
       "  </thead>\n",
       "  <tbody>\n",
       "    <tr>\n",
       "      <th>0</th>\n",
       "      <td>2023-02-01</td>\n",
       "      <td>35657750</td>\n",
       "      <td>1777195</td>\n",
       "      <td>0.446458</td>\n",
       "      <td>0.349828</td>\n",
       "      <td>0.09663</td>\n",
       "      <td>127.622044</td>\n",
       "      <td>3.445598e+06</td>\n",
       "      <td>8.074182</td>\n",
       "      <td>6.158376</td>\n",
       "      <td>...</td>\n",
       "      <td>0.029844</td>\n",
       "      <td>0.027338</td>\n",
       "      <td>0.002507</td>\n",
       "      <td>109.169357</td>\n",
       "      <td>940.794815</td>\n",
       "      <td>0.048294</td>\n",
       "      <td>0.051393</td>\n",
       "      <td>-0.003098</td>\n",
       "      <td>93.971128</td>\n",
       "      <td>-35791.448827</td>\n",
       "    </tr>\n",
       "  </tbody>\n",
       "</table>\n",
       "<p>1 rows × 58 columns</p>\n",
       "</div>"
      ],
      "text/plain": [
       "  Report_Month  Email_Engagers  Email_Holdout  Return_Rate_Engagers  \\\n",
       "0   2023-02-01        35657750        1777195              0.446458   \n",
       "\n",
       "   Return_Rate_Holdout  Return_Rate_Lift_PTS  Return_Rate_Lift_Index  \\\n",
       "0             0.349828               0.09663              127.622044   \n",
       "\n",
       "   Returns_Incrementals  Usage_Engagers  Usage_Holdout  ...  \\\n",
       "0          3.445598e+06        8.074182       6.158376  ...   \n",
       "\n",
       "   Cancel_Save_Rate_Engagers  Cancel_Save_Rate_Holdout  \\\n",
       "0                   0.029844                  0.027338   \n",
       "\n",
       "   Cancel_Save_Rate_Lift_PTS  Cancel_Save_Rate_Lift_Index  \\\n",
       "0                   0.002507                   109.169357   \n",
       "\n",
       "   Cancel_Save_Rate_Incrementals  EOM_Paid_Churn_Rate_Engagers  \\\n",
       "0                     940.794815                      0.048294   \n",
       "\n",
       "   EOM_Paid_Churn_Rate_Holdout  EOM_Paid_Churn_Rate_Lift_PTS  \\\n",
       "0                     0.051393                     -0.003098   \n",
       "\n",
       "   EOM_Paid_Churn_Rate_Lift_Index  EOM_Paid_Churn_Rate_Incrementals  \n",
       "0                       93.971128                     -35791.448827  \n",
       "\n",
       "[1 rows x 58 columns]"
      ]
     },
     "execution_count": 12,
     "metadata": {},
     "output_type": "execute_result"
    }
   ],
   "source": [
    "df_total"
   ]
  },
  {
   "cell_type": "code",
   "execution_count": 13,
   "metadata": {
    "vscode": {
     "languageId": "sql"
    }
   },
   "outputs": [
    {
     "data": {
      "application/vnd.jupyter.widget-view+json": {
       "model_id": "915c3b8f9e314f579e86c10b19e533f1",
       "version_major": 2,
       "version_minor": 0
      },
      "text/plain": [
       "Query is running:   0%|          |"
      ]
     },
     "metadata": {},
     "output_type": "display_data"
    },
    {
     "data": {
      "application/vnd.jupyter.widget-view+json": {
       "model_id": "ac21478bc77a4a618992bcdd8821eba3",
       "version_major": 2,
       "version_minor": 0
      },
      "text/plain": [
       "Downloading:   0%|          |"
      ]
     },
     "metadata": {},
     "output_type": "display_data"
    }
   ],
   "source": [
    "%%bigquery df_acc --project nbcu-ds-sandbox-a-001 --params $params\n",
    "\n",
    "WITH \n",
    "CTE_1 AS (\n",
    "    SELECT  @report_start_date                                                           AS Report_Month\n",
    "            , Account_Type\n",
    "           ,COUNT(distinct CASE WHEN cohort = 'Email_Targeted' THEN aid END )            AS Distinct_Cohort_Size_Targeted\n",
    "           ,COUNT(distinct CASE WHEN cohort = 'Holdout' THEN aid END)                    AS Distinct_Cohort_Size_Holdout\n",
    "           \n",
    "           ,SUM(CASE WHEN cohort = 'Email_Targeted' THEN viewer END )                   AS Total_Returns_Targeted\n",
    "           ,SUM(CASE WHEN cohort = 'Holdout' THEN viewer END)                           AS Total_Returns_Holdout\n",
    "           ,SUM(CASE WHEN cohort = 'Email_Targeted' THEN Viewing_Time END )              AS Total_Usage_Targeted\n",
    "           ,SUM(CASE WHEN cohort = 'Holdout' THEN Viewing_Time END)                      AS Total_Usage_Holdout\n",
    "           ,SUM(CASE WHEN cohort = 'Email_Targeted' THEN Repertoire_Pavo_Method END )    AS Total_Repertoire_Targeted\n",
    "           ,SUM(CASE WHEN cohort = 'Holdout' THEN Repertoire_Pavo_Method END)            AS Total_Repertoire_Holdout\n",
    "           ,SUM(CASE WHEN cohort = 'Email_Targeted' THEN Distinct_Viewing_Sessions END ) AS Total_Viewing_Sessions_Targeted\n",
    "           ,SUM(CASE WHEN cohort = 'Holdout' THEN Distinct_Viewing_Sessions END)         AS Total_Viewing_Sessions_Holdout\n",
    "\n",
    "           ,SUM(CASE WHEN cohort = 'Email_Targeted' THEN Winback_Denom END )             AS Winback_Denom_Targeted\n",
    "           ,SUM(CASE WHEN cohort = 'Email_Targeted' THEN Winback_Num END)                AS Winback_Num_Targeted\n",
    "           ,SUM(CASE WHEN cohort = 'Holdout' THEN Winback_Denom END )                    AS Winback_Denom_Holdout\n",
    "           ,SUM(CASE WHEN cohort = 'Holdout' THEN Winback_Num END)                       AS Winback_Num_Holdout\n",
    "\n",
    "           ,SUM(CASE WHEN cohort = 'Email_Targeted' THEN Save_Denom END )                AS Save_Denom_Targeted\n",
    "           ,SUM(CASE WHEN cohort = 'Email_Targeted' THEN Save_Num END)                   AS Save_Num_Targeted\n",
    "           ,SUM(CASE WHEN cohort = 'Holdout' THEN Save_Denom END )                       AS Save_Denom_Holdout\n",
    "           ,SUM(CASE WHEN cohort = 'Holdout' THEN Save_Num END)                          AS Save_Num_Holdout\n",
    "\n",
    "           ,SUM(CASE WHEN cohort = 'Email_Targeted' THEN Upgrade_Denom END )             AS Upgrades_Denom_Targeted\n",
    "           ,SUM(CASE WHEN cohort = 'Email_Targeted' THEN Upgrade_Num END)                AS Upgrades_Num_Targeted\n",
    "           ,SUM(CASE WHEN cohort = 'Holdout' THEN Upgrade_Denom END )                    AS Upgrades_Denom_Holdout\n",
    "           ,SUM(CASE WHEN cohort = 'Holdout' THEN Upgrade_Num END)                       AS Upgrades_Num_Holdout\n",
    "\n",
    "           ,SUM(CASE WHEN cohort = 'Email_Targeted' THEN New_Upgrade_Denom END )         AS Total_New_Upgrade_Denom_Targeted\n",
    "           ,SUM(CASE WHEN cohort = 'Email_Targeted' THEN New_Upgrade_Num END)            AS Total_New_Upgrade_Num_Targeted\n",
    "           ,SUM(CASE WHEN cohort = 'Holdout' THEN New_Upgrade_Denom END )                AS Total_New_Upgrade_Denom_Holdout\n",
    "           ,SUM(CASE WHEN cohort = 'Holdout' THEN New_Upgrade_Num END)                   AS Total_New_Upgrade_Num_Holdout\n",
    "\n",
    "           ,SUM(CASE WHEN cohort = 'Email_Targeted' THEN Paid_Winbacks_Denom END )       AS Total_Paid_Winbacks_Denom_Targeted\n",
    "           ,SUM(CASE WHEN cohort = 'Email_Targeted' THEN Paid_Winbacks_Num END)          AS Total_Paid_Winbacks_Num_Targeted\n",
    "           ,SUM(CASE WHEN cohort = 'Holdout' THEN Paid_Winbacks_Denom END )              AS Total_Paid_Winbacks_Denom_Holdout\n",
    "           ,SUM(CASE WHEN cohort = 'Holdout' THEN Paid_Winbacks_Num END)                 AS Total_Paid_Winbacks_Num_Holdout\n",
    "\n",
    "           ,SUM(CASE WHEN cohort = 'Email_Targeted' THEN Cancel_Save_Denom END )         AS Total_Cancel_Save_Denom_Targeted\n",
    "           ,SUM(CASE WHEN cohort = 'Email_Targeted' THEN Cancel_Save_Num END)            AS Total_Cancel_Save_Num_Targeted\n",
    "           ,SUM(CASE WHEN cohort = 'Holdout' THEN Cancel_Save_Denom END )                AS Total_Cancel_Save_Denom_Holdout\n",
    "           ,SUM(CASE WHEN cohort = 'Holdout' THEN Cancel_Save_Num END)                   AS Total_Cancel_Save_Num_Holdout\n",
    "\n",
    "           ,SUM(CASE WHEN cohort = 'Email_Targeted' THEN EOM_Paid_Churn_Denom END )      AS EOM_Paid_Churn_Denom_Targeted\n",
    "           ,SUM(CASE WHEN cohort = 'Email_Targeted' THEN EOM_Paid_Churn_Num END)         AS EOM_Paid_Churn_Num_Targeted\n",
    "           ,SUM(CASE WHEN cohort = 'Holdout' THEN EOM_Paid_Churn_Denom END )             AS EOM_Paid_Churn_Denom_Holdout\n",
    "           ,SUM(CASE WHEN cohort = 'Holdout' THEN EOM_Paid_Churn_Num END)                AS EOM_Paid_Churn_Num_Holdout\n",
    "       \n",
    "       FROM `nbcu-ds-sandbox-a-001.SLi_sandbox.CRM_KPI_Base_v4_Feb23`\n",
    "       GROUP BY  1, 2\n",
    "\n",
    "), CTE_2 AS (\n",
    "    SELECT  Report_Month\n",
    "            ,Account_Type\n",
    "            ,Distinct_Cohort_Size_Targeted                                                            AS Email_Engagers\n",
    "            ,Distinct_Cohort_Size_Holdout                                                             AS Email_Holdout\n",
    "            ,safe_divide(Total_Returns_Targeted,Distinct_Cohort_Size_Targeted)                        AS Return_Rate_Engagers\n",
    "            ,safe_divide(Total_Returns_Holdout,Distinct_Cohort_Size_Holdout)                          AS Return_Rate_Holdout\n",
    "            ,safe_divide(Total_Usage_Targeted,Distinct_Cohort_Size_Targeted)                          AS Usage_Engagers\n",
    "            ,safe_divide(Total_Usage_Holdout,Distinct_Cohort_Size_Holdout)                            AS Usage_Holdout\n",
    "            ,safe_divide(Total_Repertoire_Targeted,Distinct_Cohort_Size_Targeted)                     AS Repertoire_Engagers\n",
    "            ,safe_divide(Total_Repertoire_Holdout,Distinct_Cohort_Size_Holdout)                       AS Repertoire_Holdout\n",
    "            ,safe_divide(Total_Viewing_Sessions_Targeted,Distinct_Cohort_Size_Targeted)               AS Sessions_Engagers\n",
    "            ,safe_divide(Total_Viewing_Sessions_Holdout,Distinct_Cohort_Size_Holdout)                 AS Sessions_Holdout\n",
    "            ,Winback_Denom_Targeted\n",
    "            ,safe_divide(Winback_Num_Targeted,Winback_Denom_Targeted)                                 AS Winback_Rate_Engagers\n",
    "            ,safe_divide(Winback_Num_Holdout,Winback_Denom_Holdout)                                   AS Winback_Rate_Holdout\n",
    "            ,Save_Denom_Targeted\n",
    "            ,safe_divide(Save_Num_Targeted,Save_Denom_Targeted)                                       AS Save_Rate_Engagers\n",
    "            ,safe_divide(Save_Num_Holdout,Save_Denom_Holdout)                                         AS Save_Rate_Holdout\n",
    "            ,Upgrades_Denom_Targeted\n",
    "            ,safe_divide(Upgrades_Num_Targeted,Upgrades_Denom_Targeted)                               AS Upgrade_Rate_Engagers\n",
    "            ,safe_divide(Upgrades_Num_Holdout,Upgrades_Denom_Holdout)                                 AS Upgrade_Rate_Holdout\n",
    "            ,Total_New_Upgrade_Denom_Targeted\n",
    "            ,safe_divide(Total_New_Upgrade_Num_Targeted,Total_New_Upgrade_Denom_Targeted)             AS New_Upgrade_Rate_Engagers\n",
    "            ,safe_divide(Total_New_Upgrade_Num_Holdout,Total_New_Upgrade_Denom_Holdout)               AS New_Upgrade_Rate_Holdout\n",
    "            ,Total_Paid_Winbacks_Denom_Targeted\n",
    "            ,safe_divide(Total_Paid_Winbacks_Num_Targeted,Total_Paid_Winbacks_Denom_Targeted)         AS Paid_Winback_Rate_Engagers\n",
    "            ,safe_divide(Total_Paid_Winbacks_Num_Holdout,Total_Paid_Winbacks_Denom_Holdout)           AS Paid_Winback_Rate_Holdout\n",
    "            ,Total_Cancel_Save_Denom_Targeted\n",
    "            ,safe_divide(Total_Cancel_Save_Num_Targeted,Total_Cancel_Save_Denom_Targeted)             AS Cancel_Save_Rate_Engagers\n",
    "            ,safe_divide(Total_Cancel_Save_Num_Holdout,Total_Cancel_Save_Denom_Holdout)               AS Cancel_Save_Rate_Holdout\n",
    "            ,EOM_Paid_Churn_Denom_Targeted\n",
    "            ,safe_divide(EOM_Paid_Churn_Num_Targeted,EOM_Paid_Churn_Denom_Targeted)                   AS Paid_Churn_Rate_Engagers\n",
    "            ,safe_divide(EOM_Paid_Churn_Num_Holdout,EOM_Paid_Churn_Denom_Holdout)                     AS Paid_Churn_Rate_Holdout\n",
    "    FROM CTE_1\n",
    ")\n",
    "\n",
    "SELECT  Report_Month\n",
    "       ,Account_Type\n",
    "       ,Email_Engagers\n",
    "       ,Email_Holdout\n",
    "\n",
    "       ,Return_Rate_Engagers                                                                                        AS Return_Rate_Engagers\n",
    "       ,Return_Rate_Holdout                                                                                         AS Return_Rate_Holdout\n",
    "       ,Return_Rate_Engagers - Return_Rate_Holdout                                                                  AS Return_Rate_Lift_PTS\n",
    "       ,safe_divide(Return_Rate_Engagers,Return_Rate_Holdout) *100                                                  AS Return_Rate_Lift_Index\n",
    "       ,(Return_Rate_Engagers - Return_Rate_Holdout) * Email_Engagers                                               AS Returns_Incrementals\n",
    "\n",
    "       ,Usage_Engagers                                                                                              AS Usage_Engagers\n",
    "       ,Usage_Holdout                                                                                               AS Usage_Holdout\n",
    "       ,Usage_Engagers - Usage_Holdout                                                                              AS Usage_Lift_PTS\n",
    "       ,safe_divide(Usage_Engagers,Usage_Holdout) *100                                                              AS Usage_Lift_Index\n",
    "       ,(Usage_Engagers - Usage_Holdout) * Email_Engagers                                                           AS Usage_Incrementals\n",
    "\n",
    "       ,Repertoire_Engagers                                                                                         AS Repertoire_Engagers\n",
    "       ,Repertoire_Holdout                                                                                          AS Repertoire_Holdout\n",
    "       ,Repertoire_Engagers - Repertoire_Holdout                                                                    AS Repertoire_Lift_PTS\n",
    "       ,safe_divide(Repertoire_Engagers,Repertoire_Holdout) *100                                                    AS Repertoire_Lift_Index\n",
    "       ,(Repertoire_Engagers - Repertoire_Holdout) * Email_Engagers                                                 AS Repertoire_Incrementals\n",
    "\n",
    "       ,Sessions_Engagers                                                                                           AS Sessions_Engagers\n",
    "       ,Sessions_Holdout                                                                                            AS Sessions_Holdout\n",
    "       ,Sessions_Engagers - Sessions_Holdout                                                                        AS Sessions_Lift_PTS\n",
    "       ,safe_divide(Sessions_Engagers,Sessions_Holdout) *100                                                        AS Sessions_Lift_Index\n",
    "       ,(Sessions_Engagers - Sessions_Holdout) * Email_Engagers                                                     AS Sessions_Incrementals\n",
    "\n",
    "       ,Winback_Rate_Engagers                                                                                       AS Winback_Rate_Engagers\n",
    "       ,Winback_Rate_Holdout                                                                                        AS Winback_Rate_Holdout\n",
    "       ,Winback_Rate_Engagers - Winback_Rate_Holdout                                                                AS Winback_Rate_Lift_PTS\n",
    "       ,safe_divide(Winback_Rate_Engagers,Winback_Rate_Holdout) *100                                                AS Winback_Rate_Lift_Index\n",
    "       ,(Winback_Rate_Engagers - Winback_Rate_Holdout) * Winback_Denom_Targeted                                     AS Winback_Incrementals\n",
    "\n",
    "       ,Save_Rate_Engagers                                                                                          AS Save_Rate_Engagers\n",
    "       ,Save_Rate_Holdout                                                                                           AS Save_Rate_Holdout\n",
    "       ,Save_Rate_Engagers - Save_Rate_Holdout                                                                      AS Save_Rate_Lift_PTS\n",
    "       ,safe_divide(Save_Rate_Engagers,Save_Rate_Holdout) *100                                                      AS Save_Rate_Lift_Index\n",
    "       ,(Save_Rate_Engagers - Save_Rate_Holdout) * Save_Denom_Targeted                                              AS Save_Rate_Lift_Incrementals\n",
    "\n",
    "       ,Upgrade_Rate_Engagers                                                                                       AS Upgrade_Rate_Engagers\n",
    "       ,Upgrade_Rate_Holdout                                                                                        AS Upgrade_Rate_Holdout\n",
    "       ,Upgrade_Rate_Engagers - Upgrade_Rate_Holdout                                                                AS Upgrade_Rate_Lift_PTS\n",
    "       ,safe_divide(Upgrade_Rate_Engagers,Upgrade_Rate_Holdout) *100                                                AS Upgrade_Rate_Lift_Index\n",
    "       ,(Upgrade_Rate_Engagers - Upgrade_Rate_Holdout) * Upgrades_Denom_Targeted                                    AS Upgrade_Incrementals\n",
    "\n",
    "       ,New_Upgrade_Rate_Engagers                                                                                   AS New_Upgrade_Rate_Engagers\n",
    "       ,New_Upgrade_Rate_Holdout                                                                                    AS New_Upgrade_Rate_Holdout\n",
    "       ,New_Upgrade_Rate_Engagers - New_Upgrade_Rate_Holdout                                                        AS New_Upgrade_Rate_Lift_PTS\n",
    "       ,safe_divide(New_Upgrade_Rate_Engagers,New_Upgrade_Rate_Holdout) *100                                        AS New_Upgrade_Rate_Lift_Index\n",
    "       ,(New_Upgrade_Rate_Engagers - New_Upgrade_Rate_Holdout) * Total_New_Upgrade_Denom_Targeted                   AS New_Upgrade_Incrementals\n",
    "\n",
    "       ,Paid_Winback_Rate_Engagers                                                                                  AS Paid_Winback_Rate_Engagers\n",
    "       ,Paid_Winback_Rate_Holdout                                                                                   AS Paid_Winback_Rate_Holdout\n",
    "       ,Paid_Winback_Rate_Engagers - Paid_Winback_Rate_Holdout                                                      AS Paid_Winback_Rate_Lift_PTS\n",
    "       ,safe_divide(Paid_Winback_Rate_Engagers,Paid_Winback_Rate_Holdout) *100                                      AS Paid_Winback_Rate_Lift_Index\n",
    "       ,(Paid_Winback_Rate_Engagers - Paid_Winback_Rate_Holdout) * Total_Paid_Winbacks_Denom_Targeted               AS Paid_Winback_Rate_Lift_Incrementals\n",
    "\n",
    "       ,Cancel_Save_Rate_Engagers                                                                             AS Cancel_Save_Rate_Engagers\n",
    "       ,Cancel_Save_Rate_Holdout                                                                              AS Cancel_Save_Rate_Holdout\n",
    "       ,Cancel_Save_Rate_Engagers - Cancel_Save_Rate_Holdout                                            AS Cancel_Save_Rate_Lift_PTS\n",
    "       ,safe_divide(Cancel_Save_Rate_Engagers,Cancel_Save_Rate_Holdout) *100                            AS Cancel_Save_Rate_Lift_Index\n",
    "       ,(Cancel_Save_Rate_Engagers - Cancel_Save_Rate_Holdout) * Total_Cancel_Save_Denom_Targeted     AS Cancel_Save_Rate_Incrementals\n",
    "\n",
    "       ,Paid_Churn_Rate_Engagers                                                                                    AS EOM_Paid_Churn_Rate_Engagers\n",
    "       ,Paid_Churn_Rate_Holdout                                                                                     AS EOM_Paid_Churn_Rate_Holdout\n",
    "       ,Paid_Churn_Rate_Engagers - Paid_Churn_Rate_Holdout                                                          AS EOM_Paid_Churn_Rate_Lift_PTS\n",
    "       ,safe_divide(Paid_Churn_Rate_Engagers,Paid_Churn_Rate_Holdout) *100                                          AS EOM_Paid_Churn_Rate_Lift_Index\n",
    "       ,(Paid_Churn_Rate_Engagers - Paid_Churn_Rate_Holdout) * EOM_Paid_Churn_Denom_Targeted                        AS EOM_Paid_Churn_Rate_Incrementals\n",
    "\n",
    "FROM CTE_2"
   ]
  },
  {
   "cell_type": "code",
   "execution_count": 14,
   "metadata": {
    "vscode": {
     "languageId": "sql"
    }
   },
   "outputs": [
    {
     "data": {
      "text/html": [
       "<div>\n",
       "<style scoped>\n",
       "    .dataframe tbody tr th:only-of-type {\n",
       "        vertical-align: middle;\n",
       "    }\n",
       "\n",
       "    .dataframe tbody tr th {\n",
       "        vertical-align: top;\n",
       "    }\n",
       "\n",
       "    .dataframe thead th {\n",
       "        text-align: right;\n",
       "    }\n",
       "</style>\n",
       "<table border=\"1\" class=\"dataframe\">\n",
       "  <thead>\n",
       "    <tr style=\"text-align: right;\">\n",
       "      <th></th>\n",
       "      <th>Report_Month</th>\n",
       "      <th>Account_Type</th>\n",
       "      <th>Email_Engagers</th>\n",
       "      <th>Email_Holdout</th>\n",
       "      <th>Return_Rate_Engagers</th>\n",
       "      <th>Return_Rate_Holdout</th>\n",
       "      <th>Return_Rate_Lift_PTS</th>\n",
       "      <th>Return_Rate_Lift_Index</th>\n",
       "      <th>Returns_Incrementals</th>\n",
       "      <th>Usage_Engagers</th>\n",
       "      <th>...</th>\n",
       "      <th>Cancel_Save_Rate_Engagers</th>\n",
       "      <th>Cancel_Save_Rate_Holdout</th>\n",
       "      <th>Cancel_Save_Rate_Lift_PTS</th>\n",
       "      <th>Cancel_Save_Rate_Lift_Index</th>\n",
       "      <th>Cancel_Save_Rate_Incrementals</th>\n",
       "      <th>EOM_Paid_Churn_Rate_Engagers</th>\n",
       "      <th>EOM_Paid_Churn_Rate_Holdout</th>\n",
       "      <th>EOM_Paid_Churn_Rate_Lift_PTS</th>\n",
       "      <th>EOM_Paid_Churn_Rate_Lift_Index</th>\n",
       "      <th>EOM_Paid_Churn_Rate_Incrementals</th>\n",
       "    </tr>\n",
       "  </thead>\n",
       "  <tbody>\n",
       "    <tr>\n",
       "      <th>0</th>\n",
       "      <td>2023-02-01</td>\n",
       "      <td>Bundled Premium</td>\n",
       "      <td>6889219</td>\n",
       "      <td>295665</td>\n",
       "      <td>0.549854</td>\n",
       "      <td>0.504919</td>\n",
       "      <td>0.044934</td>\n",
       "      <td>108.899310</td>\n",
       "      <td>309562.545590</td>\n",
       "      <td>8.025894</td>\n",
       "      <td>...</td>\n",
       "      <td>0.006716</td>\n",
       "      <td>0.006667</td>\n",
       "      <td>0.000050</td>\n",
       "      <td>100.746269</td>\n",
       "      <td>0.200000</td>\n",
       "      <td>NaN</td>\n",
       "      <td>NaN</td>\n",
       "      <td>NaN</td>\n",
       "      <td>NaN</td>\n",
       "      <td>NaN</td>\n",
       "    </tr>\n",
       "    <tr>\n",
       "      <th>2</th>\n",
       "      <td>2023-02-01</td>\n",
       "      <td>Free</td>\n",
       "      <td>17216955</td>\n",
       "      <td>1012320</td>\n",
       "      <td>0.160009</td>\n",
       "      <td>0.105382</td>\n",
       "      <td>0.054627</td>\n",
       "      <td>151.837134</td>\n",
       "      <td>940508.056543</td>\n",
       "      <td>0.455317</td>\n",
       "      <td>...</td>\n",
       "      <td>0.000597</td>\n",
       "      <td>0.000509</td>\n",
       "      <td>0.000089</td>\n",
       "      <td>117.441585</td>\n",
       "      <td>19.900722</td>\n",
       "      <td>NaN</td>\n",
       "      <td>NaN</td>\n",
       "      <td>NaN</td>\n",
       "      <td>NaN</td>\n",
       "      <td>NaN</td>\n",
       "    </tr>\n",
       "    <tr>\n",
       "      <th>1</th>\n",
       "      <td>2023-02-01</td>\n",
       "      <td>Paying SVOD</td>\n",
       "      <td>11551576</td>\n",
       "      <td>469210</td>\n",
       "      <td>0.811730</td>\n",
       "      <td>0.779493</td>\n",
       "      <td>0.032237</td>\n",
       "      <td>104.135636</td>\n",
       "      <td>372388.166352</td>\n",
       "      <td>19.458458</td>\n",
       "      <td>...</td>\n",
       "      <td>0.075126</td>\n",
       "      <td>0.069716</td>\n",
       "      <td>0.005410</td>\n",
       "      <td>107.759814</td>\n",
       "      <td>794.993489</td>\n",
       "      <td>0.048294</td>\n",
       "      <td>0.051393</td>\n",
       "      <td>-0.003098</td>\n",
       "      <td>93.971128</td>\n",
       "      <td>-35791.448827</td>\n",
       "    </tr>\n",
       "  </tbody>\n",
       "</table>\n",
       "<p>3 rows × 59 columns</p>\n",
       "</div>"
      ],
      "text/plain": [
       "  Report_Month     Account_Type  Email_Engagers  Email_Holdout  \\\n",
       "0   2023-02-01  Bundled Premium         6889219         295665   \n",
       "2   2023-02-01             Free        17216955        1012320   \n",
       "1   2023-02-01      Paying SVOD        11551576         469210   \n",
       "\n",
       "   Return_Rate_Engagers  Return_Rate_Holdout  Return_Rate_Lift_PTS  \\\n",
       "0              0.549854             0.504919              0.044934   \n",
       "2              0.160009             0.105382              0.054627   \n",
       "1              0.811730             0.779493              0.032237   \n",
       "\n",
       "   Return_Rate_Lift_Index  Returns_Incrementals  Usage_Engagers  ...  \\\n",
       "0              108.899310         309562.545590        8.025894  ...   \n",
       "2              151.837134         940508.056543        0.455317  ...   \n",
       "1              104.135636         372388.166352       19.458458  ...   \n",
       "\n",
       "   Cancel_Save_Rate_Engagers  Cancel_Save_Rate_Holdout  \\\n",
       "0                   0.006716                  0.006667   \n",
       "2                   0.000597                  0.000509   \n",
       "1                   0.075126                  0.069716   \n",
       "\n",
       "   Cancel_Save_Rate_Lift_PTS  Cancel_Save_Rate_Lift_Index  \\\n",
       "0                   0.000050                   100.746269   \n",
       "2                   0.000089                   117.441585   \n",
       "1                   0.005410                   107.759814   \n",
       "\n",
       "   Cancel_Save_Rate_Incrementals  EOM_Paid_Churn_Rate_Engagers  \\\n",
       "0                       0.200000                           NaN   \n",
       "2                      19.900722                           NaN   \n",
       "1                     794.993489                      0.048294   \n",
       "\n",
       "   EOM_Paid_Churn_Rate_Holdout  EOM_Paid_Churn_Rate_Lift_PTS  \\\n",
       "0                          NaN                           NaN   \n",
       "2                          NaN                           NaN   \n",
       "1                     0.051393                     -0.003098   \n",
       "\n",
       "   EOM_Paid_Churn_Rate_Lift_Index  EOM_Paid_Churn_Rate_Incrementals  \n",
       "0                             NaN                               NaN  \n",
       "2                             NaN                               NaN  \n",
       "1                       93.971128                     -35791.448827  \n",
       "\n",
       "[3 rows x 59 columns]"
      ]
     },
     "execution_count": 14,
     "metadata": {},
     "output_type": "execute_result"
    }
   ],
   "source": [
    "df_acc = df_acc.sort_values(by='Account_Type')\n",
    "df_acc"
   ]
  },
  {
   "cell_type": "code",
   "execution_count": 15,
   "metadata": {
    "vscode": {
     "languageId": "sql"
    }
   },
   "outputs": [],
   "source": [
    "df_total.to_excel('email_kpi_tot_v4_Feb23_qualifier_report_start.xlsx', index=False)\n",
    "df_acc.to_excel('email_kpi_acc_v4_Feb23_qualifier_report_start.xlsx', index=False)"
   ]
  },
  {
   "cell_type": "markdown",
   "metadata": {},
   "source": [
    "# Churn Breakdown"
   ]
  },
  {
   "cell_type": "code",
   "execution_count": 16,
   "metadata": {
    "vscode": {
     "languageId": "sql"
    }
   },
   "outputs": [
    {
     "data": {
      "application/vnd.jupyter.widget-view+json": {
       "model_id": "d7ef574cbc9241d79303ee0bc38f68ae",
       "version_major": 2,
       "version_minor": 0
      },
      "text/plain": [
       "Query is running:   0%|          |"
      ]
     },
     "metadata": {},
     "output_type": "display_data"
    },
    {
     "data": {
      "application/vnd.jupyter.widget-view+json": {
       "model_id": "ce99c06202014d3aa62c31183b215019",
       "version_major": 2,
       "version_minor": 0
      },
      "text/plain": [
       "Downloading:   0%|          |"
      ]
     },
     "metadata": {},
     "output_type": "display_data"
    }
   ],
   "source": [
    "%%bigquery df_churn --project nbcu-ds-sandbox-a-001 --params $params\n",
    "\n",
    "WITH \n",
    "CTE_1 AS (\n",
    "  SELECT \n",
    "    @report_start_date AS Report_Month\n",
    "    --, Account_Type\n",
    "    , CASE \n",
    "        WHEN account_tenure IN ('0 - 1 Day', '2 - 7 Days') THEN '0 - 7 Days'\n",
    "        WHEN account_tenure IN ('8 - 30 Days') THEN '8 - 30 Days'\n",
    "        WHEN account_tenure IN ('31 - 90 Days') THEN '31 - 90 Days'\n",
    "        WHEN account_tenure IN ('91 - 365 Days', '366+ Days') THEN '91+ Days'\n",
    "      END AS account_tenure\n",
    "      \n",
    "    ,COUNT(distinct CASE WHEN (cohort = 'Email_Targeted') AND (Account_Type = 'Paying SVOD') THEN aid END )            AS Distinct_Cohort_Size_Targeted\n",
    "    ,COUNT(distinct CASE WHEN (cohort = 'Holdout') AND (Account_Type = 'Paying SVOD') THEN aid END)                    AS Distinct_Cohort_Size_Holdout\n",
    "\n",
    "    ,SUM(CASE WHEN cohort = 'Email_Targeted' THEN EOM_Paid_Churn_Denom END )      AS EOM_Paid_Churn_Denom_Targeted\n",
    "    ,SUM(CASE WHEN cohort = 'Email_Targeted' THEN EOM_Paid_Churn_Num END)         AS EOM_Paid_Churn_Num_Targeted\n",
    "    ,SUM(CASE WHEN cohort = 'Holdout' THEN EOM_Paid_Churn_Denom END )             AS EOM_Paid_Churn_Denom_Holdout\n",
    "    ,SUM(CASE WHEN cohort = 'Holdout' THEN EOM_Paid_Churn_Num END)                AS EOM_Paid_Churn_Num_Holdout\n",
    "  FROM `nbcu-ds-sandbox-a-001.SLi_sandbox.CRM_KPI_Base_v4_Feb23`\n",
    "  GROUP BY 1,2\n",
    "), CTE_2 AS (\n",
    "    SELECT Report_Month\n",
    "  --, Account_Type\n",
    "  , account_tenure\n",
    "  , Distinct_Cohort_Size_Targeted   as Email_Engagers\n",
    "  , Distinct_Cohort_Size_Holdout   as Email_Holdout\n",
    "\n",
    "  , EOM_Paid_Churn_Denom_Targeted\n",
    "  , safe_divide(EOM_Paid_Churn_Num_Targeted, EOM_Paid_Churn_Denom_Targeted) as Paid_Churn_Rate_Engagers\n",
    "  , safe_divide(EOM_Paid_Churn_Num_Holdout, EOM_Paid_Churn_Denom_Holdout) as Paid_Churn_Rate_Holdout\n",
    "\n",
    "  from CTE_1\n",
    ")\n",
    "\n",
    "SELECT Report_Month\n",
    "--, Account_Type\n",
    ", account_tenure\n",
    ", Email_Engagers\n",
    ", Email_Holdout\n",
    "\n",
    ", Paid_Churn_Rate_Engagers                                                  as EOM_Paid_Churn_Rate_Engagers\n",
    ", Paid_Churn_Rate_Holdout                                                   as EOM_Paid_Churn_Rate_Holdout\n",
    ", Paid_Churn_Rate_Engagers - Paid_Churn_Rate_Holdout                        as EOM_Paid_Churn_Rate_Lift_PTS\n",
    ", safe_divide(Paid_Churn_Rate_Engagers, Paid_Churn_Rate_Holdout) *100                   as EOM_Paid_Churn_Rate_Lift_Index\n",
    ", (Paid_Churn_Rate_Engagers - Paid_Churn_Rate_Holdout) * EOM_Paid_Churn_Denom_Targeted as EOM_Paid_Churn_Rate_Incrementals\n",
    "\n",
    "FROM CTE_2\n",
    "order by 1,2"
   ]
  },
  {
   "cell_type": "code",
   "execution_count": 17,
   "metadata": {
    "vscode": {
     "languageId": "sql"
    }
   },
   "outputs": [
    {
     "data": {
      "text/html": [
       "<div>\n",
       "<style scoped>\n",
       "    .dataframe tbody tr th:only-of-type {\n",
       "        vertical-align: middle;\n",
       "    }\n",
       "\n",
       "    .dataframe tbody tr th {\n",
       "        vertical-align: top;\n",
       "    }\n",
       "\n",
       "    .dataframe thead th {\n",
       "        text-align: right;\n",
       "    }\n",
       "</style>\n",
       "<table border=\"1\" class=\"dataframe\">\n",
       "  <thead>\n",
       "    <tr style=\"text-align: right;\">\n",
       "      <th></th>\n",
       "      <th>Report_Month</th>\n",
       "      <th>account_tenure</th>\n",
       "      <th>Email_Engagers</th>\n",
       "      <th>Email_Holdout</th>\n",
       "      <th>EOM_Paid_Churn_Rate_Engagers</th>\n",
       "      <th>EOM_Paid_Churn_Rate_Holdout</th>\n",
       "      <th>EOM_Paid_Churn_Rate_Lift_PTS</th>\n",
       "      <th>EOM_Paid_Churn_Rate_Lift_Index</th>\n",
       "      <th>EOM_Paid_Churn_Rate_Incrementals</th>\n",
       "    </tr>\n",
       "  </thead>\n",
       "  <tbody>\n",
       "    <tr>\n",
       "      <th>0</th>\n",
       "      <td>2023-02-01</td>\n",
       "      <td>31 - 90 Days</td>\n",
       "      <td>1110434</td>\n",
       "      <td>40190</td>\n",
       "      <td>0.093514</td>\n",
       "      <td>0.099278</td>\n",
       "      <td>-0.005765</td>\n",
       "      <td>94.193562</td>\n",
       "      <td>-6401.141329</td>\n",
       "    </tr>\n",
       "    <tr>\n",
       "      <th>1</th>\n",
       "      <td>2023-02-01</td>\n",
       "      <td>8 - 30 Days</td>\n",
       "      <td>49241</td>\n",
       "      <td>1669</td>\n",
       "      <td>0.089194</td>\n",
       "      <td>0.082684</td>\n",
       "      <td>0.006510</td>\n",
       "      <td>107.872990</td>\n",
       "      <td>320.545237</td>\n",
       "    </tr>\n",
       "    <tr>\n",
       "      <th>2</th>\n",
       "      <td>2023-02-01</td>\n",
       "      <td>91+ Days</td>\n",
       "      <td>10391901</td>\n",
       "      <td>427351</td>\n",
       "      <td>0.043269</td>\n",
       "      <td>0.046767</td>\n",
       "      <td>-0.003499</td>\n",
       "      <td>92.519159</td>\n",
       "      <td>-36356.876883</td>\n",
       "    </tr>\n",
       "  </tbody>\n",
       "</table>\n",
       "</div>"
      ],
      "text/plain": [
       "  Report_Month account_tenure  Email_Engagers  Email_Holdout  \\\n",
       "0   2023-02-01   31 - 90 Days         1110434          40190   \n",
       "1   2023-02-01    8 - 30 Days           49241           1669   \n",
       "2   2023-02-01       91+ Days        10391901         427351   \n",
       "\n",
       "   EOM_Paid_Churn_Rate_Engagers  EOM_Paid_Churn_Rate_Holdout  \\\n",
       "0                      0.093514                     0.099278   \n",
       "1                      0.089194                     0.082684   \n",
       "2                      0.043269                     0.046767   \n",
       "\n",
       "   EOM_Paid_Churn_Rate_Lift_PTS  EOM_Paid_Churn_Rate_Lift_Index  \\\n",
       "0                     -0.005765                       94.193562   \n",
       "1                      0.006510                      107.872990   \n",
       "2                     -0.003499                       92.519159   \n",
       "\n",
       "   EOM_Paid_Churn_Rate_Incrementals  \n",
       "0                      -6401.141329  \n",
       "1                        320.545237  \n",
       "2                     -36356.876883  "
      ]
     },
     "execution_count": 17,
     "metadata": {},
     "output_type": "execute_result"
    }
   ],
   "source": [
    "df_churn"
   ]
  },
  {
   "cell_type": "code",
   "execution_count": 18,
   "metadata": {
    "vscode": {
     "languageId": "sql"
    }
   },
   "outputs": [],
   "source": [
    "df_churn.to_excel('email_kpi_v4_Feb23_churn.xlsx')"
   ]
  }
 ],
 "metadata": {
  "kernelspec": {
   "display_name": "base",
   "language": "python",
   "name": "python3"
  },
  "language_info": {
   "codemirror_mode": {
    "name": "ipython",
    "version": 3
   },
   "file_extension": ".py",
   "mimetype": "text/x-python",
   "name": "python",
   "nbconvert_exporter": "python",
   "pygments_lexer": "ipython3",
   "version": "3.9.13"
  },
  "orig_nbformat": 4
 },
 "nbformat": 4,
 "nbformat_minor": 2
}
