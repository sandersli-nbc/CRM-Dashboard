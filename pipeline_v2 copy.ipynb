{
 "cells": [
  {
   "cell_type": "code",
   "execution_count": 1,
   "metadata": {
    "vscode": {
     "languageId": "sql"
    }
   },
   "outputs": [],
   "source": [
    "import pandas as pd\n",
    "import seaborn as sns\n",
    "\n",
    "%load_ext google.cloud.bigquery"
   ]
  },
  {
   "attachments": {},
   "cell_type": "markdown",
   "metadata": {},
   "source": [
    "## Base Tables"
   ]
  },
  {
   "cell_type": "code",
   "execution_count": 2,
   "metadata": {
    "vscode": {
     "languageId": "sql"
    }
   },
   "outputs": [],
   "source": [
    "params = {\n",
    "    'report_start_date': '2023-02-01',\n",
    "    'report_end_date': '2023-02-28'\n",
    "}"
   ]
  },
  {
   "cell_type": "code",
   "execution_count": 3,
   "metadata": {
    "vscode": {
     "languageId": "sql"
    }
   },
   "outputs": [
    {
     "data": {
      "application/vnd.jupyter.widget-view+json": {
       "model_id": "1d141f91173b4df6910e1b5bd80e1608",
       "version_major": 2,
       "version_minor": 0
      },
      "text/plain": [
       "Query is running:   0%|          |"
      ]
     },
     "metadata": {},
     "output_type": "display_data"
    },
    {
     "data": {
      "text/html": [
       "<div>\n",
       "<style scoped>\n",
       "    .dataframe tbody tr th:only-of-type {\n",
       "        vertical-align: middle;\n",
       "    }\n",
       "\n",
       "    .dataframe tbody tr th {\n",
       "        vertical-align: top;\n",
       "    }\n",
       "\n",
       "    .dataframe thead th {\n",
       "        text-align: right;\n",
       "    }\n",
       "</style>\n",
       "<table border=\"1\" class=\"dataframe\">\n",
       "  <thead>\n",
       "    <tr style=\"text-align: right;\">\n",
       "      <th></th>\n",
       "    </tr>\n",
       "  </thead>\n",
       "  <tbody>\n",
       "  </tbody>\n",
       "</table>\n",
       "</div>"
      ],
      "text/plain": [
       "Empty DataFrame\n",
       "Columns: []\n",
       "Index: []"
      ]
     },
     "execution_count": 3,
     "metadata": {},
     "output_type": "execute_result"
    }
   ],
   "source": [
    "%%bigquery --project nbcu-ds-sandbox-a-001 --params $params\n",
    "CREATE OR REPLACE TABLE `nbcu-ds-sandbox-a-001.SLi_sandbox.Email_Unsubs_v2_Feb23` AS (\n",
    "    SELECT DISTINCT adobe_tracking_id\n",
    "    FROM  `nbcu-ds-prod-001.PeacockDataMartSilver.SILVER_MPARTICLE_BRAZE` \n",
    "    WHERE event_name = 'Email Unsubscribes' \n",
    "    AND event_date <= @report_end_date\n",
    ")"
   ]
  },
  {
   "cell_type": "code",
   "execution_count": 4,
   "metadata": {
    "vscode": {
     "languageId": "sql"
    }
   },
   "outputs": [
    {
     "data": {
      "application/vnd.jupyter.widget-view+json": {
       "model_id": "97fac007c7694b92b48f6ea7d67ce586",
       "version_major": 2,
       "version_minor": 0
      },
      "text/plain": [
       "Query is running:   0%|          |"
      ]
     },
     "metadata": {},
     "output_type": "display_data"
    },
    {
     "data": {
      "text/html": [
       "<div>\n",
       "<style scoped>\n",
       "    .dataframe tbody tr th:only-of-type {\n",
       "        vertical-align: middle;\n",
       "    }\n",
       "\n",
       "    .dataframe tbody tr th {\n",
       "        vertical-align: top;\n",
       "    }\n",
       "\n",
       "    .dataframe thead th {\n",
       "        text-align: right;\n",
       "    }\n",
       "</style>\n",
       "<table border=\"1\" class=\"dataframe\">\n",
       "  <thead>\n",
       "    <tr style=\"text-align: right;\">\n",
       "      <th></th>\n",
       "    </tr>\n",
       "  </thead>\n",
       "  <tbody>\n",
       "  </tbody>\n",
       "</table>\n",
       "</div>"
      ],
      "text/plain": [
       "Empty DataFrame\n",
       "Columns: []\n",
       "Index: []"
      ]
     },
     "execution_count": 4,
     "metadata": {},
     "output_type": "execute_result"
    }
   ],
   "source": [
    "%%bigquery --project nbcu-ds-sandbox-a-001 --params $params\n",
    "CREATE OR REPLACE TABLE `nbcu-ds-sandbox-a-001.SLi_sandbox.Email_Targeted_v2_Feb23` AS ( -- everyone who have received emails in the month, and opened at least one email in the past\n",
    "    SELECT DISTINCT adobe_tracking_id \n",
    "    FROM  `nbcu-ds-prod-001.PeacockDataMartSilver.SILVER_MPARTICLE_BRAZE` \n",
    "    WHERE event_name = 'Email Deliveries' \n",
    "    AND event_date BETWEEN @report_start_date and @report_end_date\n",
    ")"
   ]
  },
  {
   "cell_type": "code",
   "execution_count": 5,
   "metadata": {
    "vscode": {
     "languageId": "sql"
    }
   },
   "outputs": [
    {
     "data": {
      "application/vnd.jupyter.widget-view+json": {
       "model_id": "b667f16e368f476698c81770feacfa84",
       "version_major": 2,
       "version_minor": 0
      },
      "text/plain": [
       "Query is running:   0%|          |"
      ]
     },
     "metadata": {},
     "output_type": "display_data"
    },
    {
     "data": {
      "text/html": [
       "<div>\n",
       "<style scoped>\n",
       "    .dataframe tbody tr th:only-of-type {\n",
       "        vertical-align: middle;\n",
       "    }\n",
       "\n",
       "    .dataframe tbody tr th {\n",
       "        vertical-align: top;\n",
       "    }\n",
       "\n",
       "    .dataframe thead th {\n",
       "        text-align: right;\n",
       "    }\n",
       "</style>\n",
       "<table border=\"1\" class=\"dataframe\">\n",
       "  <thead>\n",
       "    <tr style=\"text-align: right;\">\n",
       "      <th></th>\n",
       "    </tr>\n",
       "  </thead>\n",
       "  <tbody>\n",
       "  </tbody>\n",
       "</table>\n",
       "</div>"
      ],
      "text/plain": [
       "Empty DataFrame\n",
       "Columns: []\n",
       "Index: []"
      ]
     },
     "execution_count": 5,
     "metadata": {},
     "output_type": "execute_result"
    }
   ],
   "source": [
    "%%bigquery --project nbcu-ds-sandbox-a-001 --params $params\n",
    "CREATE OR REPLACE TABLE `nbcu-ds-sandbox-a-001.SLi_sandbox.Holdout_v2_Feb23` AS ( \n",
    "    SELECT  distinct holdout.adobe_tracking_id\n",
    "    FROM\n",
    "    (\n",
    "        SELECT  distinct TrackingId AS adobe_tracking_id -- distinct Hold_Out_Type_Current --cohort, count(distinct TrackingId)\n",
    "        FROM `nbcu-ds-prod-001.PeacockDataMartMarketingGold.HOLDOUT_GROUP`\n",
    "        WHERE cohort = format_timestamp('%B%Y', DATETIME_TRUNC(@report_start_date, QUARTER)) -- get cohort name as month of quarter start + year\n",
    "        AND Hold_Out_Type_Current = 'Owned Email Holdout'\n",
    "        -- Exclude those who are assigned to Email Holdout but actually received emails \n",
    "    ) holdout\n",
    "    LEFT JOIN\n",
    "    (\n",
    "        SELECT  DISTINCT adobe_tracking_id\n",
    "        FROM `nbcu-ds-prod-001.PeacockDataMartSilver.SILVER_MPARTICLE_BRAZE`\n",
    "        WHERE event_name = 'Email Deliveries'\n",
    "        AND event_date BETWEEN @report_start_date AND @report_end_date\n",
    "        AND campaign_name NOT IN ('TransactionalTermsOfUseEngaged20221028', 'TransactionalTermsOfUseNONEngaged20221028') -- Exclude email openers of Oct privacy email\n",
    "    ) delivered -- Email Delivered ever\n",
    "    ON holdout.adobe_tracking_id = delivered.adobe_tracking_id AND delivered.adobe_tracking_id is null\n",
    ")"
   ]
  },
  {
   "cell_type": "code",
   "execution_count": 6,
   "metadata": {
    "vscode": {
     "languageId": "sql"
    }
   },
   "outputs": [
    {
     "data": {
      "application/vnd.jupyter.widget-view+json": {
       "model_id": "ac77acd560484a64b7257894eb001765",
       "version_major": 2,
       "version_minor": 0
      },
      "text/plain": [
       "Query is running:   0%|          |"
      ]
     },
     "metadata": {},
     "output_type": "display_data"
    },
    {
     "data": {
      "application/vnd.jupyter.widget-view+json": {
       "model_id": "e19d791459e7427b8a9140f190103631",
       "version_major": 2,
       "version_minor": 0
      },
      "text/plain": [
       "Downloading:   0%|          |"
      ]
     },
     "metadata": {},
     "output_type": "display_data"
    },
    {
     "data": {
      "text/html": [
       "<div>\n",
       "<style scoped>\n",
       "    .dataframe tbody tr th:only-of-type {\n",
       "        vertical-align: middle;\n",
       "    }\n",
       "\n",
       "    .dataframe tbody tr th {\n",
       "        vertical-align: top;\n",
       "    }\n",
       "\n",
       "    .dataframe thead th {\n",
       "        text-align: right;\n",
       "    }\n",
       "</style>\n",
       "<table border=\"1\" class=\"dataframe\">\n",
       "  <thead>\n",
       "    <tr style=\"text-align: right;\">\n",
       "      <th></th>\n",
       "      <th>f0_</th>\n",
       "    </tr>\n",
       "  </thead>\n",
       "  <tbody>\n",
       "    <tr>\n",
       "      <th>0</th>\n",
       "      <td>3379892</td>\n",
       "    </tr>\n",
       "  </tbody>\n",
       "</table>\n",
       "</div>"
      ],
      "text/plain": [
       "       f0_\n",
       "0  3379892"
      ]
     },
     "execution_count": 6,
     "metadata": {},
     "output_type": "execute_result"
    }
   ],
   "source": [
    "%%bigquery --project nbcu-ds-sandbox-a-001 --params $params\n",
    "select count(*) from `nbcu-ds-sandbox-a-001.SLi_sandbox.Holdout_v2_Feb23`"
   ]
  },
  {
   "attachments": {},
   "cell_type": "markdown",
   "metadata": {},
   "source": [
    "### Output Base Tables"
   ]
  },
  {
   "cell_type": "code",
   "execution_count": 7,
   "metadata": {
    "vscode": {
     "languageId": "sql"
    }
   },
   "outputs": [
    {
     "data": {
      "application/vnd.jupyter.widget-view+json": {
       "model_id": "a66a8cc872bf41a58e7eba3132998cee",
       "version_major": 2,
       "version_minor": 0
      },
      "text/plain": [
       "Query is running:   0%|          |"
      ]
     },
     "metadata": {},
     "output_type": "display_data"
    },
    {
     "data": {
      "text/html": [
       "<div>\n",
       "<style scoped>\n",
       "    .dataframe tbody tr th:only-of-type {\n",
       "        vertical-align: middle;\n",
       "    }\n",
       "\n",
       "    .dataframe tbody tr th {\n",
       "        vertical-align: top;\n",
       "    }\n",
       "\n",
       "    .dataframe thead th {\n",
       "        text-align: right;\n",
       "    }\n",
       "</style>\n",
       "<table border=\"1\" class=\"dataframe\">\n",
       "  <thead>\n",
       "    <tr style=\"text-align: right;\">\n",
       "      <th></th>\n",
       "    </tr>\n",
       "  </thead>\n",
       "  <tbody>\n",
       "  </tbody>\n",
       "</table>\n",
       "</div>"
      ],
      "text/plain": [
       "Empty DataFrame\n",
       "Columns: []\n",
       "Index: []"
      ]
     },
     "execution_count": 7,
     "metadata": {},
     "output_type": "execute_result"
    }
   ],
   "source": [
    "%%bigquery --project nbcu-ds-sandbox-a-001 --params $params\n",
    "CREATE OR REPLACE TABLE `nbcu-ds-sandbox-a-001.SLi_sandbox.All_Cohorts_v2_Feb23` AS (\n",
    "    -- email targetable and holdout cohort, users signed up after 2020/8/11\n",
    "     SELECT distinct a.adobe_tracking_id as aid\n",
    "     , cohort\n",
    "     , user.account_type\n",
    "\n",
    "    FROM         -- Include email engagers only: users with at least one email open in the last year that is not a transactional email\n",
    "     (\n",
    "        SELECT DISTINCT identity \n",
    "        FROM  `nbcu-sdp-prod-003.sdp_persistent_views.BrazeMarketingView` \n",
    "        WHERE eventName = 'Email Opens' and machineOpen is null\n",
    "        AND date(eventTimestamp) <= @report_end_date\n",
    "        AND campaignName NOT IN ('TransactionalTermsOfUseEngaged20221028', 'TransactionalTermsOfUseNONEngaged20221028') -- Exclude email openers of Oct privacy email\n",
    "    ) Email_Engagers --opened email at least once, using other open \n",
    "    \n",
    "    INNER JOIN `nbcu-ds-sandbox-a-001.SLi_sandbox.Braze_Id_Adobe_Id_Map` mapping\n",
    "    ON mapping.bid = Email_Engagers.identity\n",
    "\n",
    "    INNER JOIN\n",
    "        (\n",
    "            SELECT *, 'Email_Targeted' as cohort from `nbcu-ds-sandbox-a-001.SLi_sandbox.Email_Targeted_v2_Feb23`\n",
    "            UNION ALL\n",
    "            SELECT *, 'Holdout' as cohort from `nbcu-ds-sandbox-a-001.SLi_sandbox.Holdout_v2_Feb23`\n",
    "        ) a\n",
    "    ON a.adobe_tracking_id = mapping.aid\n",
    "        \n",
    "    --add attribute: account_type \n",
    "    INNER JOIN ( SELECT * FROM `nbcu-ds-prod-001.PeacockDataMartSilver.SILVER_USER` WHERE report_date = @report_end_date ) user\n",
    "    ON a.adobe_tracking_id = user.adobe_tracking_id \n",
    "\n",
    "    -- for after 2021/july, email channel only, take out all abandon MAAs\n",
    "    INNER JOIN \n",
    "    (SELECT DISTINCT adobe_tracking_id FROM `nbcu-ds-prod-001.PeacockDataMartSilver.SILVER_PRIMARY_DEVICES` \n",
    "        WHERE report_date = @report_end_date\n",
    "        AND date_of_last_view IS NOT NULL \n",
    "    ) abandon_maa \n",
    "    ON a.adobe_tracking_id = abandon_maa.adobe_tracking_id\n",
    "\n",
    "    -- exclude unsubscribed\n",
    "    LEFT JOIN `nbcu-ds-sandbox-a-001.SLi_sandbox.Email_Unsubs_v2_Feb23` unsub\n",
    "    ON a.adobe_tracking_id = unsub.adobe_tracking_id\n",
    "    WHERE unsub.adobe_tracking_id IS NULL\n",
    ")"
   ]
  },
  {
   "cell_type": "code",
   "execution_count": 8,
   "metadata": {
    "vscode": {
     "languageId": "sql"
    }
   },
   "outputs": [
    {
     "data": {
      "application/vnd.jupyter.widget-view+json": {
       "model_id": "4ecdbe40d568482fa27fab1fc3d49002",
       "version_major": 2,
       "version_minor": 0
      },
      "text/plain": [
       "Query is running:   0%|          |"
      ]
     },
     "metadata": {},
     "output_type": "display_data"
    },
    {
     "data": {
      "text/html": [
       "<div>\n",
       "<style scoped>\n",
       "    .dataframe tbody tr th:only-of-type {\n",
       "        vertical-align: middle;\n",
       "    }\n",
       "\n",
       "    .dataframe tbody tr th {\n",
       "        vertical-align: top;\n",
       "    }\n",
       "\n",
       "    .dataframe thead th {\n",
       "        text-align: right;\n",
       "    }\n",
       "</style>\n",
       "<table border=\"1\" class=\"dataframe\">\n",
       "  <thead>\n",
       "    <tr style=\"text-align: right;\">\n",
       "      <th></th>\n",
       "    </tr>\n",
       "  </thead>\n",
       "  <tbody>\n",
       "  </tbody>\n",
       "</table>\n",
       "</div>"
      ],
      "text/plain": [
       "Empty DataFrame\n",
       "Columns: []\n",
       "Index: []"
      ]
     },
     "execution_count": 8,
     "metadata": {},
     "output_type": "execute_result"
    }
   ],
   "source": [
    "%%bigquery --project nbcu-ds-sandbox-a-001 --params $params\n",
    "CREATE OR REPLACE TABLE `nbcu-ds-sandbox-a-001.SLi_sandbox.Video_Viewing_v2_Feb23` AS (\n",
    "    SELECT \n",
    "        adobe_tracking_id\n",
    "        , COUNT (DISTINCT CASE WHEN VIDEO.num_views_started = 1 THEN video.adobe_tracking_id ELSE NULL END) AS Distinct_Content_Starts\n",
    "        , SUM (VIDEO.num_views_started ) AS Total_Content_Starts\n",
    "        , SUM(VIDEO.num_seconds_played_no_ads)/3600 AS Viewing_Time\n",
    "        , COUNT(DISTINCT session_id) AS Distinct_Viewing_Sessions \n",
    "        , COUNT(DISTINCT(CASE WHEN (num_seconds_played_no_ads > CASE WHEN lower(consumption_type) = 'virtual channel' THEN 299 ELSE 0 END)\n",
    "                and (num_views_started>0) THEN CASE WHEN (lower(consumption_type) = \"shortform\") THEN \"Shortform\"\n",
    "                                                    WHEN lower(franchise) != 'other' THEN franchise ELSE display_name\n",
    "                                                    END\n",
    "                end)) as Repertoire_Pavo_Method\n",
    "                \n",
    "    FROM `nbcu-ds-sandbox-a-001.SLi_sandbox.All_Cohorts_v2_Feb23` a\n",
    "\n",
    "    INNER JOIN  `nbcu-ds-prod-001.PeacockDataMartSilver.SILVER_VIDEO` VIDEO\n",
    "        ON VIDEO.adobe_tracking_id = a.aid\n",
    "        AND adobe_date between @report_start_date AND @report_end_date\n",
    "    GROUP BY 1\n",
    ")"
   ]
  },
  {
   "attachments": {},
   "cell_type": "markdown",
   "metadata": {},
   "source": [
    "## Metric Definitions"
   ]
  },
  {
   "cell_type": "code",
   "execution_count": 9,
   "metadata": {
    "vscode": {
     "languageId": "sql"
    }
   },
   "outputs": [
    {
     "data": {
      "application/vnd.jupyter.widget-view+json": {
       "model_id": "6d3990c251aa47bcaa2ff20914062fbe",
       "version_major": 2,
       "version_minor": 0
      },
      "text/plain": [
       "Query is running:   0%|          |"
      ]
     },
     "metadata": {},
     "output_type": "display_data"
    },
    {
     "data": {
      "text/html": [
       "<div>\n",
       "<style scoped>\n",
       "    .dataframe tbody tr th:only-of-type {\n",
       "        vertical-align: middle;\n",
       "    }\n",
       "\n",
       "    .dataframe tbody tr th {\n",
       "        vertical-align: top;\n",
       "    }\n",
       "\n",
       "    .dataframe thead th {\n",
       "        text-align: right;\n",
       "    }\n",
       "</style>\n",
       "<table border=\"1\" class=\"dataframe\">\n",
       "  <thead>\n",
       "    <tr style=\"text-align: right;\">\n",
       "      <th></th>\n",
       "    </tr>\n",
       "  </thead>\n",
       "  <tbody>\n",
       "  </tbody>\n",
       "</table>\n",
       "</div>"
      ],
      "text/plain": [
       "Empty DataFrame\n",
       "Columns: []\n",
       "Index: []"
      ]
     },
     "execution_count": 9,
     "metadata": {},
     "output_type": "execute_result"
    }
   ],
   "source": [
    "%%bigquery --project nbcu-ds-sandbox-a-001 --params $params\n",
    "\n",
    "CREATE OR REPLACE TABLE `nbcu-ds-sandbox-a-001.SLi_sandbox.CRM_KPI_Base_v2_Feb23` AS \n",
    "\n",
    "WITH\n",
    "Save_Denom AS ( --'Lapsing_Users'\n",
    "    SELECT distinct adobe_tracking_id, date_of_last_view -- no need for max (days_since_last_view), can be saved multiple times, dedup later\n",
    "    FROM `nbcu-ds-prod-001.PeacockDataMartSilver.SILVER_PRIMARY_DEVICES` \n",
    "    WHERE report_date BETWEEN @report_start_date AND @report_end_date \n",
    "    AND days_since_last_view BETWEEN 15 AND 29 -- this guarantees we are only getting people who have at least past the 'lapsing' phase in the time period.\n",
    ")\n",
    ", Save_Num as (\n",
    "        SELECT distinct a.adobe_tracking_id      \n",
    "        FROM Save_Denom a\n",
    "        INNER JOIN `nbcu-ds-prod-001.PeacockDataMartSilver.SILVER_VIDEO` VIDEO \n",
    "            ON a.adobe_tracking_id = VIDEO.adobe_tracking_id \n",
    "            AND adobe_date >= @report_start_date AND adobe_date<= @report_end_date\n",
    "            AND VIDEO.adobe_date >= DATE_ADD(date_of_last_view, INTERVAL 15 day)\n",
    "            AND VIDEO.adobe_date <= DATE_ADD(date_of_last_view, INTERVAL 29 day)\n",
    ")\n",
    "-- V2\n",
    ", Winback_Denom AS ( --'Lapsed_Users'\n",
    "    SELECT distinct adobe_tracking_id, date_of_last_view\n",
    "    FROM `nbcu-ds-prod-001.PeacockDataMartSilver.SILVER_PRIMARY_DEVICES` \n",
    "    WHERE report_date BETWEEN @report_start_date AND @report_end_date \n",
    "    AND days_since_last_view >=30 AND days_since_last_view <= 90 -- this guarantees we are only getting people who have at least past the 'lapsing' phase in the time period.\n",
    "    )\n",
    "-- REVIEW: compare this code to email dash (Gold table)\n",
    ", Winback_Num AS (\n",
    "    SELECT distinct a.adobe_tracking_id\n",
    "    FROM Winback_Denom a\n",
    "    INNER JOIN `nbcu-ds-prod-001.PeacockDataMartSilver.SILVER_VIDEO`  VIDEO \n",
    "        ON a.adobe_tracking_id = VIDEO.adobe_tracking_id \n",
    "        AND adobe_date >= @report_start_date AND adobe_date <= @report_end_date\n",
    "        AND VIDEO.adobe_date >= DATE_ADD(date_of_last_view, INTERVAL 30 day)\n",
    "    )\n",
    ", Upgrade_Denom AS (\n",
    "-- upgrade metric 2.0: nonpaying to paying\n",
    "    SELECT distinct adobe_tracking_id \n",
    "    FROM `nbcu-ds-prod-001.PeacockDataMartSilver.SILVER_USER`  USER\n",
    "    WHERE paying_account_flag = 'NonPaying' \n",
    "    AND USER.report_date BETWEEN @report_start_date and @report_end_date\n",
    ")\n",
    ", Upgrade_Num AS (\n",
    "-- find all users who have upgraded at least once in the month of\n",
    "    SELECT  distinct adobe_tracking_id\n",
    "    FROM\n",
    "        (SELECT  \n",
    "                report_date\n",
    "             , adobe_tracking_id     \n",
    "         FROM  `nbcu-ds-prod-001.PeacockDataMartSilver.SILVER_USER`  USER\n",
    "         WHERE entitlement_change_flag IN ('Upgrade: Free to Premium'\n",
    "                                         , 'Upgrade: Free to Premium+'\n",
    "                                         , 'Upgrade: Premium to Premium+') \n",
    "         AND paying_account_flag = 'Paying'                                            \n",
    "            AND USER.report_date BETWEEN @report_start_date and @report_end_date\n",
    "        ) \n",
    ")    \n",
    ", Paid_Churn_Denom AS (\n",
    "    SELECT distinct adobe_tracking_id\n",
    "    FROM `nbcu-ds-prod-001.PeacockDataMartSilver.SILVER_USER` \n",
    "    WHERE paying_account_flag = 'Paying'\n",
    "    AND auto_renew_flag = 'OFF'\n",
    "    AND report_date BETWEEN @report_start_date and @report_end_date\n",
    ")\n",
    ", Paid_Churn_Num AS (\n",
    "    SELECT  distinct adobe_tracking_id\n",
    "    FROM\n",
    "    (\n",
    "        SELECT  adobe_tracking_id\n",
    "            ,report_date\n",
    "            ,auto_renew_flag                                                                      AS auto_renew_flag_today\n",
    "            ,LEAD(auto_renew_flag,1) OVER ( partition by adobe_tracking_id ORDER BY report_date ) AS auto_renew_flag_next_day\n",
    "        FROM `nbcu-ds-prod-001.PeacockDataMartSilver.SILVER_USER`\n",
    "        WHERE report_date BETWEEN @report_start_date AND @report_end_date\n",
    "        ORDER BY 1, 2 \n",
    "    )\n",
    "    WHERE auto_renew_flag_today = 'OFF'\n",
    "    AND auto_renew_flag_next_day = 'ON'\n",
    ")\n",
    ", New_Upgrade_Denom AS (\n",
    "    select distinct adobe_tracking_id\n",
    "    from `nbcu-ds-sandbox-a-001.SLi_sandbox.upgrade_never`\n",
    "    where report_date between @report_start_date and @report_end_date\n",
    ")\n",
    ", New_Upgrade_Num AS (\n",
    "    SELECT  distinct adobe_tracking_id\n",
    "    FROM `nbcu-ds-sandbox-a-001.SLi_sandbox.upgrade_date_rank`\n",
    "    WHERE upgrade_row_number = 1\n",
    "    AND report_date BETWEEN @report_start_date AND @report_end_date\n",
    ")\n",
    ", Paid_Winbacks_Denom AS (\n",
    "    SELECT  distinct adobe_tracking_id\n",
    "    FROM\n",
    "    (\n",
    "        SELECT  adobe_tracking_id\n",
    "            ,report_date\n",
    "        FROM `nbcu-ds-prod-001.PeacockDataMartSilver.SILVER_USER`\n",
    "        WHERE paying_account_flag = 'NonPaying'\n",
    "        AND report_date BETWEEN @report_start_date AND @report_end_date \n",
    "    )\n",
    "    WHERE adobe_tracking_id NOT IN ( SELECT distinct adobe_tracking_id FROM `nbcu-ds-sandbox-a-001.SLi_sandbox.upgrade_never` WHERE report_date BETWEEN @report_start_date AND @report_end_date)\n",
    ")\n",
    ", Paid_Winbacks_Num AS (\n",
    "    select distinct adobe_tracking_id\n",
    "    from `nbcu-ds-sandbox-a-001.SLi_sandbox.upgrade_date_rank`\n",
    "    where upgrade_row_number > 1\n",
    "    and report_date between @report_start_date and @report_end_date\n",
    ")\n",
    "-- this metric uses silver_churn, which is based on data in PAVO dash Churn Trend\n",
    ", EOM_Paid_Churn_Denom AS (\n",
    "  select adobe_tracking_id\n",
    "  from `nbcu-ds-prod-001.PeacockDataMartSilver.SILVER_CHURN`\n",
    "  where date = @report_end_date\n",
    "  and entitlement = 'Paid'\n",
    ")\n",
    ", EOM_Paid_Churn_Num AS (\n",
    "  select adobe_tracking_id\n",
    "  from `nbcu-ds-prod-001.PeacockDataMartSilver.SILVER_CHURN`\n",
    "  where date = @report_end_date\n",
    "  and entitlement = 'Paid'\n",
    "  and Churn_flag = 'Churn'\n",
    ")\n",
    "SELECT  @report_start_date                     AS Report_Month\n",
    "       ,a.Account_Type\n",
    "       ,a.aid\n",
    "       ,a.cohort\n",
    "       ,video.adobe_tracking_id                AS viewers\n",
    "       ,video.Viewing_Time\n",
    "       ,video.Repertoire_Pavo_Method\n",
    "       ,video.Distinct_Viewing_Sessions\n",
    "       ,Winback_Denom.adobe_tracking_id        AS Winback_Denom\n",
    "       ,Winback_Num.adobe_tracking_id          AS Winback_Num\n",
    "       ,Save_Denom.adobe_tracking_id           AS Save_Denom\n",
    "       ,Save_Num.adobe_tracking_id             AS Save_Num\n",
    "       ,Upgrade_Denom.adobe_tracking_id        AS Upgrade_Denom\n",
    "       ,Upgrade_Num.adobe_tracking_id          AS Upgrade_Num\n",
    "       ,New_Upgrade_Denom.adobe_tracking_id    AS New_Upgrade_Denom\n",
    "       ,New_Upgrade_Num.adobe_tracking_id      AS New_Upgrade_Num\n",
    "       ,Paid_Winbacks_Denom.adobe_tracking_id  AS Paid_Winbacks_Denom\n",
    "       ,Paid_Winbacks_Num.adobe_tracking_id    AS Paid_Winbacks_Num\n",
    "       ,Paid_Churn_Denom.adobe_tracking_id     AS Paid_Churn_Denom\n",
    "       ,Paid_Churn_Num.adobe_tracking_id       AS Paid_Churn_Num\n",
    "       ,EOM_Paid_Churn_Denom.adobe_tracking_id AS EOM_Paid_Churn_Denom\n",
    "       ,EOM_Paid_Churn_Num.adobe_tracking_id   AS EOM_Paid_Churn_Num\n",
    "FROM `nbcu-ds-sandbox-a-001.SLi_sandbox.All_Cohorts_v2_Feb23` a\n",
    "LEFT JOIN `nbcu-ds-sandbox-a-001.SLi_sandbox.Video_Viewing_v2_Feb23` video\n",
    "    ON a.aid = video.adobe_tracking_id\n",
    "LEFT JOIN Winback_Denom\n",
    "    ON a.aid = Winback_Denom.adobe_tracking_id\n",
    "LEFT JOIN Winback_Num\n",
    "    ON Winback_Denom.adobe_tracking_id = Winback_Num.adobe_tracking_id\n",
    "LEFT JOIN Save_Denom\n",
    "    ON a.aid = Save_Denom.adobe_tracking_id\n",
    "LEFT JOIN Save_Num\n",
    "    ON Save_Denom.adobe_tracking_id = Save_Num.adobe_tracking_id\n",
    "LEFT JOIN Upgrade_Denom\n",
    "    ON a.aid = Upgrade_Denom.adobe_tracking_id\n",
    "LEFT JOIN Upgrade_Num \n",
    "    ON Upgrade_Denom.adobe_tracking_id = Upgrade_Num.adobe_tracking_id\n",
    "LEFT JOIN New_Upgrade_Denom\n",
    "    on a.aid = New_Upgrade_Denom.adobe_tracking_id\n",
    "LEFT JOIN New_Upgrade_Num\n",
    "    on New_Upgrade_Denom.adobe_tracking_id = New_Upgrade_Num.adobe_tracking_id\n",
    "LEFT JOIN Paid_Winbacks_Denom\n",
    "    on a.aid = Paid_Winbacks_Denom.adobe_tracking_id\n",
    "LEFT JOIN Paid_Winbacks_Num\n",
    "    on Paid_Winbacks_Num.adobe_tracking_id = Paid_Winbacks_Denom.adobe_tracking_id\n",
    "LEFT JOIN Paid_Churn_Denom\n",
    "    on a.aid = Paid_Churn_Denom.adobe_tracking_id\n",
    "LEFT JOIN Paid_Churn_Num\n",
    "    on Paid_Churn_Denom.adobe_tracking_id = Paid_Churn_Num.adobe_tracking_id\n",
    "LEFT JOIN EOM_Paid_Churn_Denom\n",
    "    on a.aid = EOM_Paid_Churn_Denom.adobe_tracking_id\n",
    "LEFT JOIN EOM_Paid_Churn_Num\n",
    "    on EOM_Paid_Churn_Denom.adobe_tracking_id = EOM_Paid_Churn_Num.adobe_tracking_id"
   ]
  },
  {
   "attachments": {},
   "cell_type": "markdown",
   "metadata": {},
   "source": [
    "# Analysis"
   ]
  },
  {
   "cell_type": "code",
   "execution_count": 10,
   "metadata": {
    "vscode": {
     "languageId": "sql"
    }
   },
   "outputs": [
    {
     "data": {
      "application/vnd.jupyter.widget-view+json": {
       "model_id": "5c4d7b23fd6f45db97004714b12a7f95",
       "version_major": 2,
       "version_minor": 0
      },
      "text/plain": [
       "Query is running:   0%|          |"
      ]
     },
     "metadata": {},
     "output_type": "display_data"
    },
    {
     "data": {
      "application/vnd.jupyter.widget-view+json": {
       "model_id": "f95234043a0e4ee5853173e794efca0d",
       "version_major": 2,
       "version_minor": 0
      },
      "text/plain": [
       "Downloading:   0%|          |"
      ]
     },
     "metadata": {},
     "output_type": "display_data"
    }
   ],
   "source": [
    "%%bigquery df_total --project nbcu-ds-sandbox-a-001 --params $params\n",
    "\n",
    "WITH \n",
    "CTE_1 AS (\n",
    "  SELECT \n",
    "    @report_start_date AS Report_Month\n",
    "--    , Account_Type\n",
    "    , count(distinct case when cohort = 'Email_Targeted' then aid end ) as Distinct_Cohort_Size_Targeted\n",
    "    , count(distinct case when cohort = 'Holdout' then aid end) as Distinct_Cohort_Size_Holdout\n",
    "\n",
    "    , count(distinct case when cohort = 'Email_Targeted' then viewers end ) as Total_Returns_Targeted\n",
    "    , count(distinct case when cohort = 'Holdout' then viewers end) as Total_Returns_Holdout\n",
    "\n",
    "    , sum(case when cohort = 'Email_Targeted' then Viewing_Time end ) as Total_Usage_Targeted\n",
    "    , sum(case when cohort = 'Holdout' then Viewing_Time end) as Total_Usage_Holdout\n",
    "\n",
    "    , sum(case when cohort = 'Email_Targeted' then Repertoire_Pavo_Method end ) as Total_Repertoire_Targeted\n",
    "    , sum(case when cohort = 'Holdout' then Repertoire_Pavo_Method end) as Total_Repertoire_Holdout\n",
    "\n",
    "    , sum(case when cohort = 'Email_Targeted' then Distinct_Viewing_Sessions end ) as Total_Viewing_Sessions_Targeted\n",
    "    , sum(case when cohort = 'Holdout' then Distinct_Viewing_Sessions end) as Total_Viewing_Sessions_Holdout\n",
    "\n",
    "\n",
    "    , count(distinct case when cohort = 'Email_Targeted' then Winback_Denom end ) as Winback_Denom_Targeted\n",
    "    , count(distinct case when cohort = 'Email_Targeted' then Winback_Num end) as Winback_Num_Targeted\n",
    "    , count(distinct case when cohort = 'Holdout' then Winback_Denom end ) as Winback_Denom_Holdout\n",
    "    , count(distinct case when cohort = 'Holdout' then Winback_Num end) as Winback_Num_Holdout\n",
    "\n",
    "    , count(distinct case when cohort = 'Email_Targeted' then Save_Denom end ) as Save_Denom_Targeted\n",
    "    , count(distinct case when cohort = 'Email_Targeted' then Save_Num end) as Save_Num_Targeted\n",
    "    , count(distinct case when cohort = 'Holdout' then Save_Denom end ) as Save_Denom_Holdout\n",
    "    , count(distinct case when cohort = 'Holdout' then Save_Num end) as Save_Num_Holdout\n",
    "\n",
    "    , count(distinct case when cohort = 'Email_Targeted' then Upgrade_Denom end ) as Upgrades_Denom_Targeted\n",
    "    , count(distinct case when cohort = 'Email_Targeted' then Upgrade_Num end) as Upgrades_Num_Targeted\n",
    "    , count(distinct case when cohort = 'Holdout' then Upgrade_Denom end ) as Upgrades_Denom_Holdout\n",
    "    , count(distinct case when cohort = 'Holdout' then Upgrade_Num end) as Upgrades_Num_Holdout\n",
    "\n",
    "\n",
    "    , count(distinct case when cohort = 'Email_Targeted' then New_Upgrade_Denom end ) as Total_New_Upgrade_Denom_Targeted\n",
    "    , count(distinct case when cohort = 'Email_Targeted' then New_Upgrade_Num end) as Total_New_Upgrade_Num_Targeted\n",
    "    , count(distinct case when cohort = 'Holdout' then New_Upgrade_Denom end ) as Total_New_Upgrade_Denom_Holdout\n",
    "    , count(distinct case when cohort = 'Holdout' then New_Upgrade_Num end) as Total_New_Upgrade_Num_Holdout\n",
    "\n",
    "    , count(distinct case when cohort = 'Email_Targeted' then Paid_Winbacks_Denom end ) as Total_Paid_Winbacks_Denom_Targeted\n",
    "    , count(distinct case when cohort = 'Email_Targeted' then Paid_Winbacks_Num end) as Total_Paid_Winbacks_Num_Targeted\n",
    "    , count(distinct case when cohort = 'Holdout' then Paid_Winbacks_Denom end ) as Total_Paid_Winbacks_Denom_Holdout\n",
    "    , count(distinct case when cohort = 'Holdout' then Paid_Winbacks_Num end) as Total_Paid_Winbacks_Num_Holdout\n",
    "\n",
    "    , count(distinct case when cohort = 'Email_Targeted' then Paid_Churn_Denom end ) as Total_Paid_Churn_Denom_Targeted\n",
    "    , count(distinct case when cohort = 'Email_Targeted' then Paid_Churn_Num end) as Total_Paid_Churn_Num_Targeted\n",
    "    , count(distinct case when cohort = 'Holdout' then Paid_Churn_Denom end ) as Total_Paid_Churn_Denom_Holdout\n",
    "    , count(distinct case when cohort = 'Holdout' then Paid_Churn_Num end) as Total_Paid_Churn_Num_Holdout\n",
    "\n",
    "    , count(distinct case when cohort = 'Email_Targeted' then EOM_Paid_Churn_Denom end ) as EOM_Paid_Churn_Denom_Targeted\n",
    "    , count(distinct case when cohort = 'Email_Targeted' then EOM_Paid_Churn_Num end) as EOM_Paid_Churn_Num_Targeted\n",
    "    , count(distinct case when cohort = 'Holdout' then EOM_Paid_Churn_Denom end ) as EOM_Paid_Churn_Denom_Holdout\n",
    "    , count(distinct case when cohort = 'Holdout' then EOM_Paid_Churn_Num end) as EOM_Paid_Churn_Num_Holdout\n",
    "  FROM `nbcu-ds-sandbox-a-001.SLi_sandbox.CRM_KPI_Base_v2_Feb23`\n",
    "  GROUP BY 1 --,2\n",
    "), CTE_2 AS (\n",
    "    SELECT Report_Month\n",
    "--  , Account_Type \n",
    "  , Distinct_Cohort_Size_Targeted   as Email_Engagers\n",
    "  , Distinct_Cohort_Size_Holdout   as Email_Holdout\n",
    "\n",
    "\n",
    "  , safe_divide(Total_Returns_Targeted, Distinct_Cohort_Size_Targeted)  as Return_Rate_Engagers\n",
    "  , safe_divide(Total_Returns_Holdout, Distinct_Cohort_Size_Holdout)  as Return_Rate_Holdout\n",
    "\n",
    "\n",
    "  , safe_divide(Total_Usage_Targeted, Distinct_Cohort_Size_Targeted)  as Usage_Engagers\n",
    "  , safe_divide(Total_Usage_Holdout, Distinct_Cohort_Size_Holdout)   as Usage_Holdout\n",
    "\n",
    "  , safe_divide(Total_Repertoire_Targeted, Distinct_Cohort_Size_Targeted)  as Repertoire_Engagers\n",
    "  , safe_divide(Total_Repertoire_Holdout,Distinct_Cohort_Size_Holdout)   as Repertoire_Holdout\n",
    "\n",
    "\n",
    "  , safe_divide(Total_Viewing_Sessions_Targeted, Distinct_Cohort_Size_Targeted)  as Sessions_Engagers\n",
    "  , safe_divide(Total_Viewing_Sessions_Holdout, Distinct_Cohort_Size_Holdout)   as Sessions_Holdout\n",
    "\n",
    "  , Winback_Denom_Targeted \n",
    "  , safe_divide(Winback_Num_Targeted, Winback_Denom_Targeted)  as Winback_Rate_Engagers\n",
    "  , safe_divide(Winback_Num_Holdout, Winback_Denom_Holdout) as Winback_Rate_Holdout\n",
    "\n",
    "  , Save_Denom_Targeted \n",
    "  , safe_divide(Save_Num_Targeted, Save_Denom_Targeted)  as Save_Rate_Engagers\n",
    "  , safe_divide(Save_Num_Holdout, Save_Denom_Holdout) as Save_Rate_Holdout\n",
    "\n",
    "  , Upgrades_Denom_Targeted\n",
    "  , safe_divide(Upgrades_Num_Targeted, Upgrades_Denom_Targeted)  as Upgrade_Rate_Engagers\n",
    "  , safe_divide(Upgrades_Num_Holdout, Upgrades_Denom_Holdout) as Upgrade_Rate_Holdout\n",
    "\n",
    "  , Total_New_Upgrade_Denom_Targeted\n",
    "  , safe_divide(Total_New_Upgrade_Num_Targeted, Total_New_Upgrade_Denom_Targeted)  as New_Upgrade_Rate_Engagers\n",
    "  , safe_divide(Total_New_Upgrade_Num_Holdout,  Total_New_Upgrade_Denom_Holdout) as New_Upgrade_Rate_Holdout\n",
    "\n",
    "  , Total_Paid_Winbacks_Denom_Targeted\n",
    "  , safe_divide(Total_Paid_Winbacks_Num_Targeted, Total_Paid_Winbacks_Denom_Targeted)  as Paid_Winback_Rate_Engagers \n",
    "  , safe_divide(Total_Paid_Winbacks_Num_Holdout,  Total_Paid_Winbacks_Denom_Holdout) as Paid_Winback_Rate_Holdout \n",
    "\n",
    "  , Total_Paid_Churn_Denom_Targeted\n",
    "  , safe_divide(Total_Paid_Churn_Num_Targeted, Total_Paid_Churn_Denom_Targeted) as Paid_Churn_Save_Rate_Engagers\n",
    "  , safe_divide(Total_Paid_Churn_Num_Holdout, Total_Paid_Churn_Denom_Holdout) as Paid_Churn_Save_Rate_Holdout\n",
    "\n",
    "  , EOM_Paid_Churn_Denom_Targeted\n",
    "  , safe_divide(EOM_Paid_Churn_Num_Targeted, EOM_Paid_Churn_Denom_Targeted) as Paid_Churn_Rate_Engagers\n",
    "  , safe_divide(EOM_Paid_Churn_Num_Holdout, EOM_Paid_Churn_Denom_Holdout) as Paid_Churn_Rate_Holdout\n",
    "\n",
    "  from CTE_1\n",
    ")\n",
    "\n",
    "SELECT Report_Month\n",
    "--, Account_Type\n",
    ", Email_Engagers\n",
    ", Email_Holdout\n",
    "\n",
    "\n",
    ", Return_Rate_Engagers                                                   as Return_Rate_Engagers\n",
    ", Return_Rate_Holdout                                                    as Return_Rate_Holdout\n",
    ", Return_Rate_Engagers - Return_Rate_Holdout                             as Return_Rate_Lift_PTS\n",
    ", safe_divide(Return_Rate_Engagers, Return_Rate_Holdout) *100                        as Return_Rate_Lift_Index\n",
    ", (Return_Rate_Engagers - Return_Rate_Holdout) * Email_Engagers          as Returns_Incrementals\n",
    "\n",
    ", Usage_Engagers                                                         as Usage_Engagers\n",
    ", Usage_Holdout                                                          as Usage_Holdout\n",
    ", Usage_Engagers - Usage_Holdout                                         as Usage_Lift_PTS\n",
    ", safe_divide(Usage_Engagers, Usage_Holdout) *100                                    as Usage_Lift_Index\n",
    ", (Usage_Engagers - Usage_Holdout) * Email_Engagers                      as Usage_Incrementals\n",
    "\n",
    "\n",
    ", Repertoire_Engagers                                                    as Repertoire_Engagers\n",
    ", Repertoire_Holdout                                                     as Repertoire_Holdout\n",
    ", Repertoire_Engagers - Repertoire_Holdout                               as Repertoire_Lift_PTS\n",
    ", safe_divide(Repertoire_Engagers, Repertoire_Holdout) *100                          as Repertoire_Lift_Index\n",
    ", (Repertoire_Engagers - Repertoire_Holdout) * Email_Engagers as Repertoire_Incrementals\n",
    "\n",
    "\n",
    ", Sessions_Engagers                                                      as Sessions_Engagers\n",
    ", Sessions_Holdout                                                       as Sessions_Holdout\n",
    ", Sessions_Engagers - Sessions_Holdout                                   as Sessions_Lift_PTS\n",
    ", safe_divide(Sessions_Engagers, Sessions_Holdout) *100                              as Sessions_Lift_Index\n",
    ", (Sessions_Engagers - Sessions_Holdout) * Email_Engagers as Sessions_Incrementals\n",
    "\n",
    "\n",
    ", Winback_Rate_Engagers                                                   as Winback_Rate_Engagers\n",
    ", Winback_Rate_Holdout                                                    as Winback_Rate_Holdout\n",
    ", Winback_Rate_Engagers - Winback_Rate_Holdout                            as Winback_Rate_Lift_PTS\n",
    ", safe_divide(Winback_Rate_Engagers, Winback_Rate_Holdout) *100                       as Winback_Rate_Lift_Index\n",
    ", (Winback_Rate_Engagers - Winback_Rate_Holdout) * Winback_Denom_Targeted as Winback_Incrementals\n",
    "\n",
    "\n",
    ", Save_Rate_Engagers                                                      as Save_Rate_Engagers\n",
    ", Save_Rate_Holdout                                                       as Save_Rate_Holdout\n",
    ", Save_Rate_Engagers - Save_Rate_Holdout                                  as Save_Rate_Lift_PTS\n",
    ", safe_divide(Save_Rate_Engagers, Save_Rate_Holdout) *100                             as Save_Rate_Lift_Index\n",
    ", (Save_Rate_Engagers - Save_Rate_Holdout) * Save_Denom_Targeted          as Save_Rate_Lift_Incrementals\n",
    "\n",
    "\n",
    ", Upgrade_Rate_Engagers                                                    as Upgrade_Rate_Engagers\n",
    ", Upgrade_Rate_Holdout                                                     as Upgrade_Rate_Holdout\n",
    ", Upgrade_Rate_Engagers - Upgrade_Rate_Holdout                             as Upgrade_Rate_Lift_PTS\n",
    ", safe_divide(Upgrade_Rate_Engagers, Upgrade_Rate_Holdout) *100                        as Upgrade_Rate_Lift_Index\n",
    ", (Upgrade_Rate_Engagers - Upgrade_Rate_Holdout) * Upgrades_Denom_Targeted as Upgrade_Incrementals\n",
    "\n",
    "\n",
    ", New_Upgrade_Rate_Engagers                                                as New_Upgrade_Rate_Engagers\n",
    ", New_Upgrade_Rate_Holdout                                                 as New_Upgrade_Rate_Holdout\n",
    ", New_Upgrade_Rate_Engagers - New_Upgrade_Rate_Holdout                     as New_Upgrade_Rate_Lift_PTS\n",
    ", safe_divide(New_Upgrade_Rate_Engagers, New_Upgrade_Rate_Holdout) *100                as New_Upgrade_Rate_Lift_Index\n",
    ", (New_Upgrade_Rate_Engagers - New_Upgrade_Rate_Holdout) * Total_New_Upgrade_Denom_Targeted as New_Upgrade_Incrementals\n",
    "\n",
    ", Paid_Winback_Rate_Engagers                                               as Paid_Winback_Rate_Engagers\n",
    ", Paid_Winback_Rate_Holdout                                                as Paid_Winback_Rate_Holdout\n",
    ", Paid_Winback_Rate_Engagers - Paid_Winback_Rate_Holdout                   as Paid_Winback_Rate_Lift_PTS\n",
    ", safe_divide(Paid_Winback_Rate_Engagers, Paid_Winback_Rate_Holdout) *100              as Paid_Winback_Rate_Lift_Index\n",
    ", (Paid_Winback_Rate_Engagers - Paid_Winback_Rate_Holdout) * Total_Paid_Winbacks_Denom_Targeted as Paid_Winback_Rate_Lift_Incrementals\n",
    "\n",
    ", Paid_Churn_Save_Rate_Engagers                                             as Paid_Churn_Save_Rate_Engagers\n",
    ", Paid_Churn_Save_Rate_Holdout                                              as Paid_Churn_Save_Rate_Holdout\n",
    ", Paid_Churn_Save_Rate_Engagers - Paid_Churn_Save_Rate_Holdout              as Paid_Churn_Save_Rate_Lift_PTS\n",
    ", safe_divide(Paid_Churn_Save_Rate_Engagers, Paid_Churn_Save_Rate_Holdout) *100         as Paid_Churn_Save_Rate_Lift_Index\n",
    ", (Paid_Churn_Save_Rate_Engagers - Paid_Churn_Save_Rate_Holdout) * Total_Paid_Churn_Denom_Targeted as Paid_Churn_Save_Rate_Incrementals\n",
    "\n",
    ", Paid_Churn_Rate_Engagers                                                  as EOM_Paid_Churn_Rate_Engagers\n",
    ", Paid_Churn_Rate_Holdout                                                   as EOM_Paid_Churn_Rate_Holdout\n",
    ", Paid_Churn_Rate_Engagers - Paid_Churn_Rate_Holdout                        as EOM_Paid_Churn_Rate_Lift_PTS\n",
    ", safe_divide(Paid_Churn_Rate_Engagers, Paid_Churn_Rate_Holdout) *100                   as EOM_Paid_Churn_Rate_Lift_Index\n",
    ", (Paid_Churn_Rate_Engagers - Paid_Churn_Rate_Holdout) * EOM_Paid_Churn_Denom_Targeted as EOM_Paid_Churn_Rate_Incrementals\n",
    "\n",
    "\n",
    "FROM CTE_2"
   ]
  },
  {
   "cell_type": "code",
   "execution_count": 11,
   "metadata": {
    "vscode": {
     "languageId": "sql"
    }
   },
   "outputs": [
    {
     "data": {
      "text/html": [
       "<div>\n",
       "<style scoped>\n",
       "    .dataframe tbody tr th:only-of-type {\n",
       "        vertical-align: middle;\n",
       "    }\n",
       "\n",
       "    .dataframe tbody tr th {\n",
       "        vertical-align: top;\n",
       "    }\n",
       "\n",
       "    .dataframe thead th {\n",
       "        text-align: right;\n",
       "    }\n",
       "</style>\n",
       "<table border=\"1\" class=\"dataframe\">\n",
       "  <thead>\n",
       "    <tr style=\"text-align: right;\">\n",
       "      <th></th>\n",
       "      <th>Report_Month</th>\n",
       "      <th>Email_Engagers</th>\n",
       "      <th>Email_Holdout</th>\n",
       "      <th>Return_Rate_Engagers</th>\n",
       "      <th>Return_Rate_Holdout</th>\n",
       "      <th>Return_Rate_Lift_PTS</th>\n",
       "      <th>Return_Rate_Lift_Index</th>\n",
       "      <th>Returns_Incrementals</th>\n",
       "      <th>Usage_Engagers</th>\n",
       "      <th>Usage_Holdout</th>\n",
       "      <th>...</th>\n",
       "      <th>Paid_Churn_Save_Rate_Engagers</th>\n",
       "      <th>Paid_Churn_Save_Rate_Holdout</th>\n",
       "      <th>Paid_Churn_Save_Rate_Lift_PTS</th>\n",
       "      <th>Paid_Churn_Save_Rate_Lift_Index</th>\n",
       "      <th>Paid_Churn_Save_Rate_Incrementals</th>\n",
       "      <th>EOM_Paid_Churn_Rate_Engagers</th>\n",
       "      <th>EOM_Paid_Churn_Rate_Holdout</th>\n",
       "      <th>EOM_Paid_Churn_Rate_Lift_PTS</th>\n",
       "      <th>EOM_Paid_Churn_Rate_Lift_Index</th>\n",
       "      <th>EOM_Paid_Churn_Rate_Incrementals</th>\n",
       "    </tr>\n",
       "  </thead>\n",
       "  <tbody>\n",
       "    <tr>\n",
       "      <th>0</th>\n",
       "      <td>2023-02-01</td>\n",
       "      <td>31664212</td>\n",
       "      <td>1515360</td>\n",
       "      <td>0.449061</td>\n",
       "      <td>0.349516</td>\n",
       "      <td>0.099545</td>\n",
       "      <td>128.480684</td>\n",
       "      <td>3.152002e+06</td>\n",
       "      <td>8.036728</td>\n",
       "      <td>6.18568</td>\n",
       "      <td>...</td>\n",
       "      <td>0.032068</td>\n",
       "      <td>0.030518</td>\n",
       "      <td>0.00155</td>\n",
       "      <td>105.077736</td>\n",
       "      <td>477.292322</td>\n",
       "      <td>0.051062</td>\n",
       "      <td>0.048238</td>\n",
       "      <td>0.002824</td>\n",
       "      <td>105.854948</td>\n",
       "      <td>27579.304352</td>\n",
       "    </tr>\n",
       "  </tbody>\n",
       "</table>\n",
       "<p>1 rows × 58 columns</p>\n",
       "</div>"
      ],
      "text/plain": [
       "  Report_Month  Email_Engagers  Email_Holdout  Return_Rate_Engagers  \\\n",
       "0   2023-02-01        31664212        1515360              0.449061   \n",
       "\n",
       "   Return_Rate_Holdout  Return_Rate_Lift_PTS  Return_Rate_Lift_Index  \\\n",
       "0             0.349516              0.099545              128.480684   \n",
       "\n",
       "   Returns_Incrementals  Usage_Engagers  Usage_Holdout  ...  \\\n",
       "0          3.152002e+06        8.036728        6.18568  ...   \n",
       "\n",
       "   Paid_Churn_Save_Rate_Engagers  Paid_Churn_Save_Rate_Holdout  \\\n",
       "0                       0.032068                      0.030518   \n",
       "\n",
       "   Paid_Churn_Save_Rate_Lift_PTS  Paid_Churn_Save_Rate_Lift_Index  \\\n",
       "0                        0.00155                       105.077736   \n",
       "\n",
       "   Paid_Churn_Save_Rate_Incrementals  EOM_Paid_Churn_Rate_Engagers  \\\n",
       "0                         477.292322                      0.051062   \n",
       "\n",
       "   EOM_Paid_Churn_Rate_Holdout  EOM_Paid_Churn_Rate_Lift_PTS  \\\n",
       "0                     0.048238                      0.002824   \n",
       "\n",
       "   EOM_Paid_Churn_Rate_Lift_Index  EOM_Paid_Churn_Rate_Incrementals  \n",
       "0                      105.854948                      27579.304352  \n",
       "\n",
       "[1 rows x 58 columns]"
      ]
     },
     "execution_count": 11,
     "metadata": {},
     "output_type": "execute_result"
    }
   ],
   "source": [
    "df_total"
   ]
  },
  {
   "cell_type": "code",
   "execution_count": 12,
   "metadata": {
    "vscode": {
     "languageId": "sql"
    }
   },
   "outputs": [
    {
     "data": {
      "application/vnd.jupyter.widget-view+json": {
       "model_id": "48cbb73e515349538a697f24389d0b59",
       "version_major": 2,
       "version_minor": 0
      },
      "text/plain": [
       "Query is running:   0%|          |"
      ]
     },
     "metadata": {},
     "output_type": "display_data"
    },
    {
     "data": {
      "application/vnd.jupyter.widget-view+json": {
       "model_id": "9e3babc349d34d19ac801e9f55ec3f78",
       "version_major": 2,
       "version_minor": 0
      },
      "text/plain": [
       "Downloading:   0%|          |"
      ]
     },
     "metadata": {},
     "output_type": "display_data"
    }
   ],
   "source": [
    "%%bigquery df_acc --project nbcu-ds-sandbox-a-001 --params $params\n",
    "\n",
    "WITH \n",
    "CTE_1 AS (\n",
    "  SELECT \n",
    "    @report_start_date AS Report_Month\n",
    "    , Account_Type\n",
    "    , count(distinct case when cohort = 'Email_Targeted' then aid end ) as Distinct_Cohort_Size_Targeted\n",
    "    , count(distinct case when cohort = 'Holdout' then aid end) as Distinct_Cohort_Size_Holdout\n",
    "\n",
    "    , count(distinct case when cohort = 'Email_Targeted' then viewers end ) as Total_Returns_Targeted\n",
    "    , count(distinct case when cohort = 'Holdout' then viewers end) as Total_Returns_Holdout\n",
    "\n",
    "    , sum(case when cohort = 'Email_Targeted' then Viewing_Time end ) as Total_Usage_Targeted\n",
    "    , sum(case when cohort = 'Holdout' then Viewing_Time end) as Total_Usage_Holdout\n",
    "\n",
    "    , sum(case when cohort = 'Email_Targeted' then Repertoire_Pavo_Method end ) as Total_Repertoire_Targeted\n",
    "    , sum(case when cohort = 'Holdout' then Repertoire_Pavo_Method end) as Total_Repertoire_Holdout\n",
    "\n",
    "    , sum(case when cohort = 'Email_Targeted' then Distinct_Viewing_Sessions end ) as Total_Viewing_Sessions_Targeted\n",
    "    , sum(case when cohort = 'Holdout' then Distinct_Viewing_Sessions end) as Total_Viewing_Sessions_Holdout\n",
    "\n",
    "\n",
    "    , count(distinct case when cohort = 'Email_Targeted' then Winback_Denom end ) as Winback_Denom_Targeted\n",
    "    , count(distinct case when cohort = 'Email_Targeted' then Winback_Num end) as Winback_Num_Targeted\n",
    "    , count(distinct case when cohort = 'Holdout' then Winback_Denom end ) as Winback_Denom_Holdout\n",
    "    , count(distinct case when cohort = 'Holdout' then Winback_Num end) as Winback_Num_Holdout\n",
    "\n",
    "    , count(distinct case when cohort = 'Email_Targeted' then Save_Denom end ) as Save_Denom_Targeted\n",
    "    , count(distinct case when cohort = 'Email_Targeted' then Save_Num end) as Save_Num_Targeted\n",
    "    , count(distinct case when cohort = 'Holdout' then Save_Denom end ) as Save_Denom_Holdout\n",
    "    , count(distinct case when cohort = 'Holdout' then Save_Num end) as Save_Num_Holdout\n",
    "\n",
    "    , count(distinct case when cohort = 'Email_Targeted' then Upgrade_Denom end ) as Upgrades_Denom_Targeted\n",
    "    , count(distinct case when cohort = 'Email_Targeted' then Upgrade_Num end) as Upgrades_Num_Targeted\n",
    "    , count(distinct case when cohort = 'Holdout' then Upgrade_Denom end ) as Upgrades_Denom_Holdout\n",
    "    , count(distinct case when cohort = 'Holdout' then Upgrade_Num end) as Upgrades_Num_Holdout\n",
    "\n",
    "\n",
    "    , count(distinct case when cohort = 'Email_Targeted' then New_Upgrade_Denom end ) as Total_New_Upgrade_Denom_Targeted\n",
    "    , count(distinct case when cohort = 'Email_Targeted' then New_Upgrade_Num end) as Total_New_Upgrade_Num_Targeted\n",
    "    , count(distinct case when cohort = 'Holdout' then New_Upgrade_Denom end ) as Total_New_Upgrade_Denom_Holdout\n",
    "    , count(distinct case when cohort = 'Holdout' then New_Upgrade_Num end) as Total_New_Upgrade_Num_Holdout\n",
    "\n",
    "    , count(distinct case when cohort = 'Email_Targeted' then Paid_Winbacks_Denom end ) as Total_Paid_Winbacks_Denom_Targeted\n",
    "    , count(distinct case when cohort = 'Email_Targeted' then Paid_Winbacks_Num end) as Total_Paid_Winbacks_Num_Targeted\n",
    "    , count(distinct case when cohort = 'Holdout' then Paid_Winbacks_Denom end ) as Total_Paid_Winbacks_Denom_Holdout\n",
    "    , count(distinct case when cohort = 'Holdout' then Paid_Winbacks_Num end) as Total_Paid_Winbacks_Num_Holdout\n",
    "\n",
    "    , count(distinct case when cohort = 'Email_Targeted' then Paid_Churn_Denom end ) as Total_Paid_Churn_Denom_Targeted\n",
    "    , count(distinct case when cohort = 'Email_Targeted' then Paid_Churn_Num end) as Total_Paid_Churn_Num_Targeted\n",
    "    , count(distinct case when cohort = 'Holdout' then Paid_Churn_Denom end ) as Total_Paid_Churn_Denom_Holdout\n",
    "    , count(distinct case when cohort = 'Holdout' then Paid_Churn_Num end) as Total_Paid_Churn_Num_Holdout\n",
    "\n",
    "    , count(distinct case when cohort = 'Email_Targeted' then EOM_Paid_Churn_Denom end ) as EOM_Paid_Churn_Denom_Targeted\n",
    "    , count(distinct case when cohort = 'Email_Targeted' then EOM_Paid_Churn_Num end) as EOM_Paid_Churn_Num_Targeted\n",
    "    , count(distinct case when cohort = 'Holdout' then EOM_Paid_Churn_Denom end ) as EOM_Paid_Churn_Denom_Holdout\n",
    "    , count(distinct case when cohort = 'Holdout' then EOM_Paid_Churn_Num end) as EOM_Paid_Churn_Num_Holdout\n",
    "  FROM `nbcu-ds-sandbox-a-001.SLi_sandbox.CRM_KPI_Base_v2_Feb23`\n",
    "  GROUP BY 1 ,2\n",
    "), CTE_2 AS (\n",
    "    SELECT Report_Month\n",
    "  , Account_Type \n",
    "  , Distinct_Cohort_Size_Targeted   as Email_Engagers\n",
    "  , Distinct_Cohort_Size_Holdout   as Email_Holdout\n",
    "\n",
    "\n",
    "  , safe_divide(Total_Returns_Targeted, Distinct_Cohort_Size_Targeted)  as Return_Rate_Engagers\n",
    "  , safe_divide(Total_Returns_Holdout, Distinct_Cohort_Size_Holdout)  as Return_Rate_Holdout\n",
    "\n",
    "\n",
    "  , safe_divide(Total_Usage_Targeted, Distinct_Cohort_Size_Targeted)  as Usage_Engagers\n",
    "  , safe_divide(Total_Usage_Holdout, Distinct_Cohort_Size_Holdout)   as Usage_Holdout\n",
    "\n",
    "  , safe_divide(Total_Repertoire_Targeted, Distinct_Cohort_Size_Targeted)  as Repertoire_Engagers\n",
    "  , safe_divide(Total_Repertoire_Holdout,Distinct_Cohort_Size_Holdout)   as Repertoire_Holdout\n",
    "\n",
    "\n",
    "  , safe_divide(Total_Viewing_Sessions_Targeted, Distinct_Cohort_Size_Targeted)  as Sessions_Engagers\n",
    "  , safe_divide(Total_Viewing_Sessions_Holdout, Distinct_Cohort_Size_Holdout)   as Sessions_Holdout\n",
    "\n",
    "  , Winback_Denom_Targeted \n",
    "  , safe_divide(Winback_Num_Targeted, Winback_Denom_Targeted)  as Winback_Rate_Engagers\n",
    "  , safe_divide(Winback_Num_Holdout, Winback_Denom_Holdout) as Winback_Rate_Holdout\n",
    "\n",
    "  , Save_Denom_Targeted \n",
    "  , safe_divide(Save_Num_Targeted, Save_Denom_Targeted)  as Save_Rate_Engagers\n",
    "  , safe_divide(Save_Num_Holdout, Save_Denom_Holdout) as Save_Rate_Holdout\n",
    "\n",
    "  , Upgrades_Denom_Targeted\n",
    "  , safe_divide(Upgrades_Num_Targeted, Upgrades_Denom_Targeted)  as Upgrade_Rate_Engagers\n",
    "  , safe_divide(Upgrades_Num_Holdout, Upgrades_Denom_Holdout) as Upgrade_Rate_Holdout\n",
    "\n",
    "  , Total_New_Upgrade_Denom_Targeted\n",
    "  , safe_divide(Total_New_Upgrade_Num_Targeted, Total_New_Upgrade_Denom_Targeted)  as New_Upgrade_Rate_Engagers\n",
    "  , safe_divide(Total_New_Upgrade_Num_Holdout,  Total_New_Upgrade_Denom_Holdout) as New_Upgrade_Rate_Holdout\n",
    "\n",
    "  , Total_Paid_Winbacks_Denom_Targeted\n",
    "  , safe_divide(Total_Paid_Winbacks_Num_Targeted, Total_Paid_Winbacks_Denom_Targeted)  as Paid_Winback_Rate_Engagers \n",
    "  , safe_divide(Total_Paid_Winbacks_Num_Holdout,  Total_Paid_Winbacks_Denom_Holdout) as Paid_Winback_Rate_Holdout \n",
    "\n",
    "  , Total_Paid_Churn_Denom_Targeted\n",
    "  , safe_divide(Total_Paid_Churn_Num_Targeted, Total_Paid_Churn_Denom_Targeted) as Paid_Churn_Save_Rate_Engagers\n",
    "  , safe_divide(Total_Paid_Churn_Num_Holdout, Total_Paid_Churn_Denom_Holdout) as Paid_Churn_Save_Rate_Holdout\n",
    "\n",
    "  , EOM_Paid_Churn_Denom_Targeted\n",
    "  , safe_divide(EOM_Paid_Churn_Num_Targeted, EOM_Paid_Churn_Denom_Targeted) as Paid_Churn_Rate_Engagers\n",
    "  , safe_divide(EOM_Paid_Churn_Num_Holdout, EOM_Paid_Churn_Denom_Holdout) as Paid_Churn_Rate_Holdout\n",
    "\n",
    "  from CTE_1\n",
    ")\n",
    "\n",
    "SELECT Report_Month\n",
    ", Account_Type\n",
    ", Email_Engagers\n",
    ", Email_Holdout\n",
    "\n",
    "\n",
    ", Return_Rate_Engagers                                                   as Return_Rate_Engagers\n",
    ", Return_Rate_Holdout                                                    as Return_Rate_Holdout\n",
    ", Return_Rate_Engagers - Return_Rate_Holdout                             as Return_Rate_Lift_PTS\n",
    ", safe_divide(Return_Rate_Engagers, Return_Rate_Holdout) *100                        as Return_Rate_Lift_Index\n",
    ", (Return_Rate_Engagers - Return_Rate_Holdout) * Email_Engagers          as Returns_Incrementals\n",
    "\n",
    ", Usage_Engagers                                                         as Usage_Engagers\n",
    ", Usage_Holdout                                                          as Usage_Holdout\n",
    ", Usage_Engagers - Usage_Holdout                                         as Usage_Lift_PTS\n",
    ", safe_divide(Usage_Engagers, Usage_Holdout) *100                                    as Usage_Lift_Index\n",
    ", (Usage_Engagers - Usage_Holdout) * Email_Engagers                      as Usage_Incrementals\n",
    "\n",
    "\n",
    ", Repertoire_Engagers                                                    as Repertoire_Engagers\n",
    ", Repertoire_Holdout                                                     as Repertoire_Holdout\n",
    ", Repertoire_Engagers - Repertoire_Holdout                               as Repertoire_Lift_PTS\n",
    ", safe_divide(Repertoire_Engagers, Repertoire_Holdout) *100                          as Repertoire_Lift_Index\n",
    ", (Repertoire_Engagers - Repertoire_Holdout) * Email_Engagers as Repertoire_Incrementals\n",
    "\n",
    "\n",
    ", Sessions_Engagers                                                      as Sessions_Engagers\n",
    ", Sessions_Holdout                                                       as Sessions_Holdout\n",
    ", Sessions_Engagers - Sessions_Holdout                                   as Sessions_Lift_PTS\n",
    ", safe_divide(Sessions_Engagers, Sessions_Holdout) *100                              as Sessions_Lift_Index\n",
    ", (Sessions_Engagers - Sessions_Holdout) * Email_Engagers as Sessions_Incrementals\n",
    "\n",
    "\n",
    ", Winback_Rate_Engagers                                                   as Winback_Rate_Engagers\n",
    ", Winback_Rate_Holdout                                                    as Winback_Rate_Holdout\n",
    ", Winback_Rate_Engagers - Winback_Rate_Holdout                            as Winback_Rate_Lift_PTS\n",
    ", safe_divide(Winback_Rate_Engagers, Winback_Rate_Holdout) *100                       as Winback_Rate_Lift_Index\n",
    ", (Winback_Rate_Engagers - Winback_Rate_Holdout) * Winback_Denom_Targeted as Winback_Incrementals\n",
    "\n",
    "\n",
    ", Save_Rate_Engagers                                                      as Save_Rate_Engagers\n",
    ", Save_Rate_Holdout                                                       as Save_Rate_Holdout\n",
    ", Save_Rate_Engagers - Save_Rate_Holdout                                  as Save_Rate_Lift_PTS\n",
    ", safe_divide(Save_Rate_Engagers, Save_Rate_Holdout) *100                             as Save_Rate_Lift_Index\n",
    ", (Save_Rate_Engagers - Save_Rate_Holdout) * Save_Denom_Targeted          as Save_Rate_Lift_Incrementals\n",
    "\n",
    "\n",
    ", Upgrade_Rate_Engagers                                                    as Upgrade_Rate_Engagers\n",
    ", Upgrade_Rate_Holdout                                                     as Upgrade_Rate_Holdout\n",
    ", Upgrade_Rate_Engagers - Upgrade_Rate_Holdout                             as Upgrade_Rate_Lift_PTS\n",
    ", safe_divide(Upgrade_Rate_Engagers, Upgrade_Rate_Holdout) *100                        as Upgrade_Rate_Lift_Index\n",
    ", (Upgrade_Rate_Engagers - Upgrade_Rate_Holdout) * Upgrades_Denom_Targeted as Upgrade_Incrementals\n",
    "\n",
    "\n",
    ", New_Upgrade_Rate_Engagers                                                as New_Upgrade_Rate_Engagers\n",
    ", New_Upgrade_Rate_Holdout                                                 as New_Upgrade_Rate_Holdout\n",
    ", New_Upgrade_Rate_Engagers - New_Upgrade_Rate_Holdout                     as New_Upgrade_Rate_Lift_PTS\n",
    ", safe_divide(New_Upgrade_Rate_Engagers, New_Upgrade_Rate_Holdout) *100                as New_Upgrade_Rate_Lift_Index\n",
    ", (New_Upgrade_Rate_Engagers - New_Upgrade_Rate_Holdout) * Total_New_Upgrade_Denom_Targeted as New_Upgrade_Incrementals\n",
    "\n",
    ", Paid_Winback_Rate_Engagers                                               as Paid_Winback_Rate_Engagers\n",
    ", Paid_Winback_Rate_Holdout                                                as Paid_Winback_Rate_Holdout\n",
    ", Paid_Winback_Rate_Engagers - Paid_Winback_Rate_Holdout                   as Paid_Winback_Rate_Lift_PTS\n",
    ", safe_divide(Paid_Winback_Rate_Engagers, Paid_Winback_Rate_Holdout) *100              as Paid_Winback_Rate_Lift_Index\n",
    ", (Paid_Winback_Rate_Engagers - Paid_Winback_Rate_Holdout) * Total_Paid_Winbacks_Denom_Targeted as Paid_Winback_Rate_Lift_Incrementals\n",
    "\n",
    ", Paid_Churn_Save_Rate_Engagers                                             as Paid_Churn_Save_Rate_Engagers\n",
    ", Paid_Churn_Save_Rate_Holdout                                              as Paid_Churn_Save_Rate_Holdout\n",
    ", Paid_Churn_Save_Rate_Engagers - Paid_Churn_Save_Rate_Holdout              as Paid_Churn_Save_Rate_Lift_PTS\n",
    ", safe_divide(Paid_Churn_Save_Rate_Engagers, Paid_Churn_Save_Rate_Holdout) *100         as Paid_Churn_Save_Rate_Lift_Index\n",
    ", (Paid_Churn_Save_Rate_Engagers - Paid_Churn_Save_Rate_Holdout) * Total_Paid_Churn_Denom_Targeted as Paid_Churn_Save_Rate_Incrementals\n",
    "\n",
    ", Paid_Churn_Rate_Engagers                                                  as EOM_Paid_Churn_Rate_Engagers\n",
    ", Paid_Churn_Rate_Holdout                                                   as EOM_Paid_Churn_Rate_Holdout\n",
    ", Paid_Churn_Rate_Engagers - Paid_Churn_Rate_Holdout                        as EOM_Paid_Churn_Rate_Lift_PTS\n",
    ", safe_divide(Paid_Churn_Rate_Engagers, Paid_Churn_Rate_Holdout) *100                   as EOM_Paid_Churn_Rate_Lift_Index\n",
    ", (Paid_Churn_Rate_Engagers - Paid_Churn_Rate_Holdout) * EOM_Paid_Churn_Denom_Targeted as EOM_Paid_Churn_Rate_Incrementals\n",
    "\n",
    "\n",
    "FROM CTE_2"
   ]
  },
  {
   "cell_type": "code",
   "execution_count": 13,
   "metadata": {
    "vscode": {
     "languageId": "sql"
    }
   },
   "outputs": [
    {
     "data": {
      "text/html": [
       "<div>\n",
       "<style scoped>\n",
       "    .dataframe tbody tr th:only-of-type {\n",
       "        vertical-align: middle;\n",
       "    }\n",
       "\n",
       "    .dataframe tbody tr th {\n",
       "        vertical-align: top;\n",
       "    }\n",
       "\n",
       "    .dataframe thead th {\n",
       "        text-align: right;\n",
       "    }\n",
       "</style>\n",
       "<table border=\"1\" class=\"dataframe\">\n",
       "  <thead>\n",
       "    <tr style=\"text-align: right;\">\n",
       "      <th></th>\n",
       "      <th>Report_Month</th>\n",
       "      <th>Account_Type</th>\n",
       "      <th>Email_Engagers</th>\n",
       "      <th>Email_Holdout</th>\n",
       "      <th>Return_Rate_Engagers</th>\n",
       "      <th>Return_Rate_Holdout</th>\n",
       "      <th>Return_Rate_Lift_PTS</th>\n",
       "      <th>Return_Rate_Lift_Index</th>\n",
       "      <th>Returns_Incrementals</th>\n",
       "      <th>Usage_Engagers</th>\n",
       "      <th>...</th>\n",
       "      <th>Paid_Churn_Save_Rate_Engagers</th>\n",
       "      <th>Paid_Churn_Save_Rate_Holdout</th>\n",
       "      <th>Paid_Churn_Save_Rate_Lift_PTS</th>\n",
       "      <th>Paid_Churn_Save_Rate_Lift_Index</th>\n",
       "      <th>Paid_Churn_Save_Rate_Incrementals</th>\n",
       "      <th>EOM_Paid_Churn_Rate_Engagers</th>\n",
       "      <th>EOM_Paid_Churn_Rate_Holdout</th>\n",
       "      <th>EOM_Paid_Churn_Rate_Lift_PTS</th>\n",
       "      <th>EOM_Paid_Churn_Rate_Lift_Index</th>\n",
       "      <th>EOM_Paid_Churn_Rate_Incrementals</th>\n",
       "    </tr>\n",
       "  </thead>\n",
       "  <tbody>\n",
       "    <tr>\n",
       "      <th>0</th>\n",
       "      <td>2023-02-01</td>\n",
       "      <td>Bundled Premium</td>\n",
       "      <td>6906025</td>\n",
       "      <td>320137</td>\n",
       "      <td>0.561436</td>\n",
       "      <td>0.479982</td>\n",
       "      <td>0.081454</td>\n",
       "      <td>116.970307</td>\n",
       "      <td>562526.255253</td>\n",
       "      <td>8.051106</td>\n",
       "      <td>...</td>\n",
       "      <td>0.007112</td>\n",
       "      <td>0.008264</td>\n",
       "      <td>-0.001153</td>\n",
       "      <td>86.050328</td>\n",
       "      <td>-4.214876</td>\n",
       "      <td>1.0</td>\n",
       "      <td>1.0</td>\n",
       "      <td>0.0</td>\n",
       "      <td>100.0</td>\n",
       "      <td>0.0</td>\n",
       "    </tr>\n",
       "    <tr>\n",
       "      <th>1</th>\n",
       "      <td>2023-02-01</td>\n",
       "      <td>Free</td>\n",
       "      <td>15023510</td>\n",
       "      <td>837028</td>\n",
       "      <td>0.157804</td>\n",
       "      <td>0.107061</td>\n",
       "      <td>0.050743</td>\n",
       "      <td>147.396622</td>\n",
       "      <td>762341.977824</td>\n",
       "      <td>0.443794</td>\n",
       "      <td>...</td>\n",
       "      <td>0.000683</td>\n",
       "      <td>0.000512</td>\n",
       "      <td>0.000171</td>\n",
       "      <td>133.447043</td>\n",
       "      <td>29.826050</td>\n",
       "      <td>1.0</td>\n",
       "      <td>1.0</td>\n",
       "      <td>0.0</td>\n",
       "      <td>100.0</td>\n",
       "      <td>0.0</td>\n",
       "    </tr>\n",
       "    <tr>\n",
       "      <th>2</th>\n",
       "      <td>2023-02-01</td>\n",
       "      <td>Paying SVOD</td>\n",
       "      <td>9734677</td>\n",
       "      <td>358195</td>\n",
       "      <td>0.818835</td>\n",
       "      <td>0.799481</td>\n",
       "      <td>0.019354</td>\n",
       "      <td>102.420839</td>\n",
       "      <td>188406.327964</td>\n",
       "      <td>19.744691</td>\n",
       "      <td>...</td>\n",
       "      <td>0.074735</td>\n",
       "      <td>0.070705</td>\n",
       "      <td>0.004030</td>\n",
       "      <td>105.700133</td>\n",
       "      <td>524.821437</td>\n",
       "      <td>0.0</td>\n",
       "      <td>0.0</td>\n",
       "      <td>0.0</td>\n",
       "      <td>NaN</td>\n",
       "      <td>0.0</td>\n",
       "    </tr>\n",
       "  </tbody>\n",
       "</table>\n",
       "<p>3 rows × 59 columns</p>\n",
       "</div>"
      ],
      "text/plain": [
       "  Report_Month     Account_Type  Email_Engagers  Email_Holdout  \\\n",
       "0   2023-02-01  Bundled Premium         6906025         320137   \n",
       "1   2023-02-01             Free        15023510         837028   \n",
       "2   2023-02-01      Paying SVOD         9734677         358195   \n",
       "\n",
       "   Return_Rate_Engagers  Return_Rate_Holdout  Return_Rate_Lift_PTS  \\\n",
       "0              0.561436             0.479982              0.081454   \n",
       "1              0.157804             0.107061              0.050743   \n",
       "2              0.818835             0.799481              0.019354   \n",
       "\n",
       "   Return_Rate_Lift_Index  Returns_Incrementals  Usage_Engagers  ...  \\\n",
       "0              116.970307         562526.255253        8.051106  ...   \n",
       "1              147.396622         762341.977824        0.443794  ...   \n",
       "2              102.420839         188406.327964       19.744691  ...   \n",
       "\n",
       "   Paid_Churn_Save_Rate_Engagers  Paid_Churn_Save_Rate_Holdout  \\\n",
       "0                       0.007112                      0.008264   \n",
       "1                       0.000683                      0.000512   \n",
       "2                       0.074735                      0.070705   \n",
       "\n",
       "   Paid_Churn_Save_Rate_Lift_PTS  Paid_Churn_Save_Rate_Lift_Index  \\\n",
       "0                      -0.001153                        86.050328   \n",
       "1                       0.000171                       133.447043   \n",
       "2                       0.004030                       105.700133   \n",
       "\n",
       "   Paid_Churn_Save_Rate_Incrementals  EOM_Paid_Churn_Rate_Engagers  \\\n",
       "0                          -4.214876                           1.0   \n",
       "1                          29.826050                           1.0   \n",
       "2                         524.821437                           0.0   \n",
       "\n",
       "   EOM_Paid_Churn_Rate_Holdout  EOM_Paid_Churn_Rate_Lift_PTS  \\\n",
       "0                          1.0                           0.0   \n",
       "1                          1.0                           0.0   \n",
       "2                          0.0                           0.0   \n",
       "\n",
       "   EOM_Paid_Churn_Rate_Lift_Index  EOM_Paid_Churn_Rate_Incrementals  \n",
       "0                           100.0                               0.0  \n",
       "1                           100.0                               0.0  \n",
       "2                             NaN                               0.0  \n",
       "\n",
       "[3 rows x 59 columns]"
      ]
     },
     "execution_count": 13,
     "metadata": {},
     "output_type": "execute_result"
    }
   ],
   "source": [
    "df_acc = df_acc.sort_values(by='Account_Type')\n",
    "df_acc"
   ]
  },
  {
   "cell_type": "code",
   "execution_count": 14,
   "metadata": {
    "vscode": {
     "languageId": "sql"
    }
   },
   "outputs": [],
   "source": [
    "df_total.to_excel('email_kpi_tot_Feb23.xlsx', index=False)\n",
    "df_acc.to_excel('email_kpi_acc_Feb23.xlsx', index=False)"
   ]
  },
  {
   "cell_type": "code",
   "execution_count": null,
   "metadata": {
    "vscode": {
     "languageId": "sql"
    }
   },
   "outputs": [],
   "source": []
  }
 ],
 "metadata": {
  "kernelspec": {
   "display_name": "base",
   "language": "python",
   "name": "python3"
  },
  "language_info": {
   "codemirror_mode": {
    "name": "ipython",
    "version": 3
   },
   "file_extension": ".py",
   "mimetype": "text/x-python",
   "name": "python",
   "nbconvert_exporter": "python",
   "pygments_lexer": "ipython3",
   "version": "3.9.13"
  },
  "orig_nbformat": 4
 },
 "nbformat": 4,
 "nbformat_minor": 2
}
