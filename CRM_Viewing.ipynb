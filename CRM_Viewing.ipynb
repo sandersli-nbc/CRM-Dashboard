{
 "cells": [
  {
   "cell_type": "code",
   "execution_count": 11,
   "metadata": {},
   "outputs": [
    {
     "name": "stdout",
     "output_type": "stream",
     "text": [
      "The google.cloud.bigquery extension is already loaded. To reload it, use:\n",
      "  %reload_ext google.cloud.bigquery\n",
      "env: GCLOUD_PROJECT=nbcu-ds-sandbox-a-001\n"
     ]
    }
   ],
   "source": [
    "from datetime import datetime, timedelta\n",
    "import numpy as np\n",
    "import pandas as pd\n",
    "import seaborn as sns\n",
    "import pandas_gbq\n",
    "import pydata_google_auth\n",
    "from concurrent.futures import ThreadPoolExecutor, as_completed\n",
    "from google.cloud import bigquery\n",
    "from tqdm.notebook import tqdm\n",
    "from dateutil import tz\n",
    "from BigQueryTools import QueryTool\n",
    "import re\n",
    "\n",
    "SCOPES = [\n",
    "    'https://www.googleapis.com/auth/cloud-platform',\n",
    "    'https://www.googleapis.com/auth/drive',\n",
    "]\n",
    "credentials = pydata_google_auth.get_user_credentials(\n",
    "    SCOPES,\n",
    "    # Set auth_local_webserver to True to have a slightly more convienient\n",
    "    # authorization flow. Note, this doesn't work if you're running from a\n",
    "    # notebook on a remote sever, such as over SSH or with Google Colab.\n",
    "    auth_local_webserver=True,\n",
    ")\n",
    "\n",
    "%load_ext google.cloud.bigquery\n",
    "%env GCLOUD_PROJECT=nbcu-ds-sandbox-a-001"
   ]
  },
  {
   "cell_type": "markdown",
   "metadata": {},
   "source": [
    "# How to use"
   ]
  },
  {
   "cell_type": "markdown",
   "metadata": {},
   "source": [
    "### Before running\n",
    "- Change start_date variable to analysis start. \n",
    "- Change end_date variable to analysis end. \n",
    "### Monthly and Quarterly Staging Tables\n",
    "- Be aware that the pipeline will overwrite the table - it does not append new data to the existing table\n",
    "- bq.add() adds jobs to queue. If a job with the same name is running, bq.add() will skip the file. Use bq.cancel() to drop currently running jobs.\n",
    "- bq.start() runs all jobs in queue\n",
    "- bq.update() updates all jobs in queue. Jobs that are finished are listed as DONE.\n",
    "- bq.cancel() drops all running jobs in queue\n",
    "- WAIT UNTIL ALL JOBS ARE COMPLETED BEFORE PROCEEDING\n",
    "### Compiling Results\n",
    "- \"Compile Results\" section puts together Monthly and Quarterly Results"
   ]
  },
  {
   "cell_type": "code",
   "execution_count": 12,
   "metadata": {},
   "outputs": [],
   "source": [
    "start_date = '2022-01-01'\n",
    "end_date = '2023-12-31'"
   ]
  },
  {
   "cell_type": "code",
   "execution_count": 13,
   "metadata": {},
   "outputs": [],
   "source": [
    "def get_monthly_report_dates(start_date, end_date):\n",
    "    start = datetime.strptime(start_date, \"%Y-%m-%d\")\n",
    "    end = datetime.strptime(end_date, \"%Y-%m-%d\")\n",
    "    monthly_reports = {}\n",
    "\n",
    "    while start <= end:\n",
    "        month_year = start.strftime(\"%b_%Y\")\n",
    "        report_start_date = start.replace(day=1)\n",
    "        next_month = start.replace(day=28) + timedelta(days=4)\n",
    "        report_end_date = next_month - timedelta(days=next_month.day)\n",
    "        monthly_reports[month_year] = {\n",
    "            \"report_start_date\": report_start_date.strftime(\"%Y-%m-%d\"),\n",
    "            \"report_end_date\": report_end_date.strftime(\"%Y-%m-%d\")\n",
    "        }\n",
    "        start = next_month\n",
    "\n",
    "    return monthly_reports\n",
    "\n",
    "def get_quarter(p_date) -> int:\n",
    "    return (p_date.month - 1) // 3 + 1\n",
    "\n",
    "def get_quarterly_report_dates(start_date_str, end_date_str):\n",
    "    start_date = datetime.strptime(start_date_str, '%Y-%m-%d')\n",
    "    end_date = datetime.strptime(end_date_str, '%Y-%m-%d')\n",
    "\n",
    "    quarter_dates = {}\n",
    "\n",
    "    while start_date <= end_date:\n",
    "        quarter = get_quarter(start_date)\n",
    "        quarter_name = 'Q{}_{}'.format(quarter, start_date.year)\n",
    "        quarter_start = datetime(start_date.year, (start_date.month - 1) // 3 * 3 + 1, 1)\n",
    "        quarter_end = quarter_start.replace(year=quarter_start.year + 3 * quarter // 12, month=(quarter_start.month + 3) % 12, day=1) - timedelta(days=1)\n",
    "        quarter_dates[quarter_name] = {\n",
    "            'report_start_date': quarter_start.strftime('%Y-%m-%d'),\n",
    "            'report_end_date': quarter_end.strftime('%Y-%m-%d')\n",
    "        }\n",
    "        start_date = quarter_end + timedelta(days=1)\n",
    "\n",
    "    return quarter_dates\n",
    "\n",
    "def generate_report_variants(period_dict, suffix=\"report\"):\n",
    "    return {'_'.join([period, suffix]): {'string_format': {'report': period}, 'params': params} for period, params in period_dict.items()}"
   ]
  },
  {
   "cell_type": "code",
   "execution_count": 14,
   "metadata": {},
   "outputs": [],
   "source": [
    "months = get_monthly_report_dates(start_date, end_date)\n",
    "quarters = get_quarterly_report_dates(start_date, end_date)\n",
    "monthly_viewing_tables = generate_report_variants(months, 'viewing')\n",
    "quarterly_viewing_tables = generate_report_variants(quarters, 'viewing')\n",
    "month_tables = generate_report_variants(months)\n",
    "quarter_tables = generate_report_variants(quarters)\n",
    "bq = QueryTool()"
   ]
  },
  {
   "attachments": {},
   "cell_type": "markdown",
   "metadata": {},
   "source": [
    "# Viewing Tables"
   ]
  },
  {
   "cell_type": "code",
   "execution_count": 15,
   "metadata": {},
   "outputs": [
    {
     "name": "stdout",
     "output_type": "stream",
     "text": [
      "Added: Jan_2022_viewing\t | \tAwaiting start\n",
      "Added: Feb_2022_viewing\t | \tAwaiting start\n",
      "Added: Mar_2022_viewing\t | \tAwaiting start\n",
      "Added: Apr_2022_viewing\t | \tAwaiting start\n",
      "Added: May_2022_viewing\t | \tAwaiting start\n",
      "Added: Jun_2022_viewing\t | \tAwaiting start\n",
      "Added: Jul_2022_viewing\t | \tAwaiting start\n",
      "Added: Aug_2022_viewing\t | \tAwaiting start\n",
      "Added: Sep_2022_viewing\t | \tAwaiting start\n",
      "Added: Oct_2022_viewing\t | \tAwaiting start\n",
      "Added: Nov_2022_viewing\t | \tAwaiting start\n",
      "Added: Dec_2022_viewing\t | \tAwaiting start\n",
      "Added: Jan_2023_viewing\t | \tAwaiting start\n",
      "Added: Feb_2023_viewing\t | \tAwaiting start\n",
      "Added: Mar_2023_viewing\t | \tAwaiting start\n",
      "Added: Apr_2023_viewing\t | \tAwaiting start\n",
      "Added: May_2023_viewing\t | \tAwaiting start\n",
      "Added: Jun_2023_viewing\t | \tAwaiting start\n",
      "Added: Jul_2023_viewing\t | \tAwaiting start\n",
      "Added: Aug_2023_viewing\t | \tAwaiting start\n",
      "Added: Sep_2023_viewing\t | \tAwaiting start\n",
      "Added: Oct_2023_viewing\t | \tAwaiting start\n",
      "Added: Nov_2023_viewing\t | \tAwaiting start\n",
      "Added: Dec_2023_viewing\t | \tAwaiting start\n",
      "Added: Q1_2022_viewing\t | \tAwaiting start\n",
      "Added: Q2_2022_viewing\t | \tAwaiting start\n",
      "Added: Q3_2022_viewing\t | \tAwaiting start\n",
      "Added: Q4_2022_viewing\t | \tAwaiting start\n",
      "Added: Q1_2023_viewing\t | \tAwaiting start\n",
      "Added: Q2_2023_viewing\t | \tAwaiting start\n",
      "Added: Q3_2023_viewing\t | \tAwaiting start\n",
      "Added: Q4_2023_viewing\t | \tAwaiting start\n"
     ]
    }
   ],
   "source": [
    "with open('CRM_Viewing.sql') as file:\n",
    "    sql_file = file.read()\n",
    "    bq.add(sql_file, monthly_viewing_tables)\n",
    "    bq.add(sql_file, quarterly_viewing_tables)"
   ]
  },
  {
   "cell_type": "code",
   "execution_count": 16,
   "metadata": {},
   "outputs": [
    {
     "name": "stdout",
     "output_type": "stream",
     "text": [
      "start 3acdfaa7-d611-4e05-94a9-87be2a8eb018\n",
      "start 5f324d3a-6c42-40ca-9b3f-2faf0df33f3f\n",
      "start 3a380521-efa6-42f8-98c3-5838a3c8686a\n",
      "start a2c1c308-18f8-4e07-909b-d67fa9d4a9f7\n",
      "start 104c3318-81ae-498f-a664-f53ba5b87222\n",
      "start edef0a36-6fe5-4ba8-99d6-0401c949f151\n",
      "start 15b67a7a-282d-4605-9985-dc3425d3af72\n",
      "start f2426b92-7c08-4eb2-b726-c8d72f41cc92\n",
      "start 355ef375-7a69-4891-899a-f0803e710a05\n",
      "start 69e47648-a0cd-4413-aa11-069f875dc481\n",
      "start 024be6cb-a374-424e-aca8-8575269de4bc\n",
      "start 8b9ab80b-2160-4e78-bb72-d8fab70dba7e\n",
      "start 53dcd572-e47a-4b58-9b28-7eb2829d17ed\n",
      "start 92216f0b-4e2d-4f1f-89a1-c5b75f4272ff\n",
      "start 4463837c-eddd-4cb9-916b-133f07bd04b2\n",
      "start 9e881393-d419-4347-a781-c1ca9fbf8d33\n",
      "start 734d22ec-2986-48ae-921a-8da1db0434e8\n",
      "start b5c8e694-f242-47c5-92a4-36331910872a\n",
      "start 4d7bb54a-bd60-4a2d-9f36-1151bfdd2892\n",
      "start 279f6eea-5c28-4937-b204-48ab1112e6bc\n",
      "start ec659718-54bc-409a-b3f4-9cf4e43a7ee7\n",
      "start d25b0c46-678e-4ddc-b37e-8551bc4401ba\n",
      "start 52cb60c2-0a28-4797-af7a-bd06198a2835\n",
      "start 8fb7b7d5-c302-4fda-959d-08ef152846dd\n",
      "start 2423994b-147e-407c-956a-c3dce27e6960\n",
      "start dd836764-5946-460a-a87e-ee8c577148ca\n",
      "start 09241799-38a7-40cc-9920-5491ba6eddba\n",
      "start c064ef9f-5cc8-4436-9a8d-64a5653b3f0a\n",
      "start 54470855-6cc7-4d98-bc39-73ee4c61a573\n",
      "start 2e022648-a181-448d-8539-12492bed9259\n",
      "start 21d5ff3e-e724-47b9-addc-b8ed03dd8618\n",
      "start 17b02db4-69eb-4e20-b90f-00509e99b249\n",
      "All jobs in queue started\n"
     ]
    }
   ],
   "source": [
    "bq.start()"
   ]
  },
  {
   "cell_type": "code",
   "execution_count": 17,
   "metadata": {},
   "outputs": [
    {
     "name": "stdout",
     "output_type": "stream",
     "text": [
      "Active jobs: \n",
      "Q4_2022_viewing\t | \t09241799-38a7-40cc-9920-5491ba6eddba\t | \tCreated: Jan 09, 2024 09:20 AM\t | \tLast Checked: Jan 09, 2024 10:19 AM\t | \tRUNNING\n",
      "Q1_2023_viewing\t | \t52cb60c2-0a28-4797-af7a-bd06198a2835\t | \tCreated: Jan 09, 2024 09:20 AM\t | \tLast Checked: Jan 09, 2024 10:19 AM\t | \tRUNNING\n",
      "Q2_2023_viewing\t | \t15b67a7a-282d-4605-9985-dc3425d3af72\t | \tCreated: Jan 09, 2024 09:20 AM\t | \tLast Checked: Jan 09, 2024 10:19 AM\t | \tRUNNING\n",
      "Q3_2023_viewing\t | \t8fb7b7d5-c302-4fda-959d-08ef152846dd\t | \tCreated: Jan 09, 2024 09:20 AM\t | \tLast Checked: Jan 09, 2024 10:19 AM\t | \tRUNNING\n",
      "Q4_2023_viewing\t | \t2423994b-147e-407c-956a-c3dce27e6960\t | \tCreated: Jan 09, 2024 09:20 AM\t | \tLast Checked: Jan 09, 2024 10:19 AM\t | \tRUNNING\n",
      "\n",
      "Finished jobs: \n",
      "Jan_2022_viewing\t | \t9e881393-d419-4347-a781-c1ca9fbf8d33\t | \tCreated: Jan 09, 2024 09:20 AM\t | \tLast Checked: Jan 09, 2024 10:19 AM\t | \tDONE\n",
      "Feb_2022_viewing\t | \t5f324d3a-6c42-40ca-9b3f-2faf0df33f3f\t | \tCreated: Jan 09, 2024 09:20 AM\t | \tLast Checked: Jan 09, 2024 10:19 AM\t | \tDONE\n",
      "Mar_2022_viewing\t | \t69e47648-a0cd-4413-aa11-069f875dc481\t | \tCreated: Jan 09, 2024 09:20 AM\t | \tLast Checked: Jan 09, 2024 10:19 AM\t | \tDONE\n",
      "Apr_2022_viewing\t | \t4463837c-eddd-4cb9-916b-133f07bd04b2\t | \tCreated: Jan 09, 2024 09:20 AM\t | \tLast Checked: Jan 09, 2024 10:19 AM\t | \tDONE\n",
      "May_2022_viewing\t | \tb5c8e694-f242-47c5-92a4-36331910872a\t | \tCreated: Jan 09, 2024 09:20 AM\t | \tLast Checked: Jan 09, 2024 10:19 AM\t | \tDONE\n",
      "Jun_2022_viewing\t | \tdd836764-5946-460a-a87e-ee8c577148ca\t | \tCreated: Jan 09, 2024 09:20 AM\t | \tLast Checked: Jan 09, 2024 10:19 AM\t | \tDONE\n",
      "Jul_2022_viewing\t | \t355ef375-7a69-4891-899a-f0803e710a05\t | \tCreated: Jan 09, 2024 09:20 AM\t | \tLast Checked: Jan 09, 2024 10:19 AM\t | \tDONE\n",
      "Aug_2022_viewing\t | \t4d7bb54a-bd60-4a2d-9f36-1151bfdd2892\t | \tCreated: Jan 09, 2024 09:20 AM\t | \tLast Checked: Jan 09, 2024 10:19 AM\t | \tDONE\n",
      "Sep_2022_viewing\t | \ta2c1c308-18f8-4e07-909b-d67fa9d4a9f7\t | \tCreated: Jan 09, 2024 09:20 AM\t | \tLast Checked: Jan 09, 2024 10:19 AM\t | \tDONE\n",
      "Oct_2022_viewing\t | \t734d22ec-2986-48ae-921a-8da1db0434e8\t | \tCreated: Jan 09, 2024 09:20 AM\t | \tLast Checked: Jan 09, 2024 10:19 AM\t | \tDONE\n",
      "Nov_2022_viewing\t | \t104c3318-81ae-498f-a664-f53ba5b87222\t | \tCreated: Jan 09, 2024 09:20 AM\t | \tLast Checked: Jan 09, 2024 10:19 AM\t | \tDONE\n",
      "Dec_2022_viewing\t | \t8b9ab80b-2160-4e78-bb72-d8fab70dba7e\t | \tCreated: Jan 09, 2024 09:20 AM\t | \tLast Checked: Jan 09, 2024 10:19 AM\t | \tDONE\n",
      "Jan_2023_viewing\t | \tf2426b92-7c08-4eb2-b726-c8d72f41cc92\t | \tCreated: Jan 09, 2024 09:20 AM\t | \tLast Checked: Jan 09, 2024 10:19 AM\t | \tDONE\n",
      "Feb_2023_viewing\t | \t3acdfaa7-d611-4e05-94a9-87be2a8eb018\t | \tCreated: Jan 09, 2024 09:20 AM\t | \tLast Checked: Jan 09, 2024 10:19 AM\t | \tDONE\n",
      "Mar_2023_viewing\t | \tec659718-54bc-409a-b3f4-9cf4e43a7ee7\t | \tCreated: Jan 09, 2024 09:20 AM\t | \tLast Checked: Jan 09, 2024 10:19 AM\t | \tDONE\n",
      "Apr_2023_viewing\t | \td25b0c46-678e-4ddc-b37e-8551bc4401ba\t | \tCreated: Jan 09, 2024 09:20 AM\t | \tLast Checked: Jan 09, 2024 10:19 AM\t | \tDONE\n",
      "May_2023_viewing\t | \t54470855-6cc7-4d98-bc39-73ee4c61a573\t | \tCreated: Jan 09, 2024 09:20 AM\t | \tLast Checked: Jan 09, 2024 10:19 AM\t | \tDONE\n",
      "Jun_2023_viewing\t | \t3a380521-efa6-42f8-98c3-5838a3c8686a\t | \tCreated: Jan 09, 2024 09:20 AM\t | \tLast Checked: Jan 09, 2024 10:19 AM\t | \tDONE\n",
      "Jul_2023_viewing\t | \t53dcd572-e47a-4b58-9b28-7eb2829d17ed\t | \tCreated: Jan 09, 2024 09:20 AM\t | \tLast Checked: Jan 09, 2024 10:19 AM\t | \tDONE\n",
      "Aug_2023_viewing\t | \t024be6cb-a374-424e-aca8-8575269de4bc\t | \tCreated: Jan 09, 2024 09:20 AM\t | \tLast Checked: Jan 09, 2024 10:19 AM\t | \tDONE\n",
      "Sep_2023_viewing\t | \t92216f0b-4e2d-4f1f-89a1-c5b75f4272ff\t | \tCreated: Jan 09, 2024 09:20 AM\t | \tLast Checked: Jan 09, 2024 10:19 AM\t | \tDONE\n",
      "Oct_2023_viewing\t | \tc064ef9f-5cc8-4436-9a8d-64a5653b3f0a\t | \tCreated: Jan 09, 2024 09:20 AM\t | \tLast Checked: Jan 09, 2024 10:19 AM\t | \tDONE\n",
      "Nov_2023_viewing\t | \t2e022648-a181-448d-8539-12492bed9259\t | \tCreated: Jan 09, 2024 09:20 AM\t | \tLast Checked: Jan 09, 2024 10:19 AM\t | \tDONE\n",
      "Dec_2023_viewing\t | \t21d5ff3e-e724-47b9-addc-b8ed03dd8618\t | \tCreated: Jan 09, 2024 09:20 AM\t | \tLast Checked: Jan 09, 2024 10:19 AM\t | \tDONE\n",
      "Q1_2022_viewing\t | \t279f6eea-5c28-4937-b204-48ab1112e6bc\t | \tCreated: Jan 09, 2024 09:20 AM\t | \tLast Checked: Jan 09, 2024 10:19 AM\t | \tDONE\n",
      "Q2_2022_viewing\t | \t17b02db4-69eb-4e20-b90f-00509e99b249\t | \tCreated: Jan 09, 2024 09:20 AM\t | \tLast Checked: Jan 09, 2024 10:19 AM\t | \tDONE\n",
      "Q3_2022_viewing\t | \tedef0a36-6fe5-4ba8-99d6-0401c949f151\t | \tCreated: Jan 09, 2024 09:20 AM\t | \tLast Checked: Jan 09, 2024 10:19 AM\t | \tDONE\n"
     ]
    }
   ],
   "source": [
    "bq.update()"
   ]
  },
  {
   "cell_type": "markdown",
   "metadata": {},
   "source": [
    "# Compile Results"
   ]
  },
  {
   "cell_type": "code",
   "execution_count": 18,
   "metadata": {},
   "outputs": [],
   "source": [
    "# Merge and group monthly results\n",
    "query = \"\"\"\n",
    "        CREATE or replace TABLE `nbcu-ds-sandbox-a-001.SLi_sandbox.SILVER_VIDEO_VIEWING_MONTHLY` AS \n",
    "        \n",
    "        SELECT *\n",
    "        FROM ( \n",
    "        \"\"\" + \\\n",
    "        (' UNION ALL ').join([f\"(select * from `nbcu-ds-sandbox-a-001.SLi_sandbox.Video_Viewing_{report}`)\" for report in months]) + \\\n",
    "        \"\"\"\n",
    "        )\n",
    "        \"\"\"\n",
    "        \n",
    "with bigquery.Client() as client:\n",
    "    client.query(query).result()"
   ]
  },
  {
   "cell_type": "code",
   "execution_count": 19,
   "metadata": {},
   "outputs": [],
   "source": [
    "# Merge and group monthly results\n",
    "query = \"\"\"\n",
    "        CREATE or replace TABLE `nbcu-ds-sandbox-a-001.SLi_sandbox.SILVER_VIDEO_VIEWING_QUARTERLY` AS \n",
    "        \n",
    "        SELECT *\n",
    "        FROM ( \n",
    "        \"\"\" + \\\n",
    "        (' UNION ALL ').join([f\"(select * from `nbcu-ds-sandbox-a-001.SLi_sandbox.Video_Viewing_{report}`)\" for report in quarters]) + \\\n",
    "        \"\"\"\n",
    "        )\n",
    "        \"\"\"\n",
    "        \n",
    "with bigquery.Client() as client:\n",
    "    client.query(query).result()"
   ]
  }
 ],
 "metadata": {
  "kernelspec": {
   "display_name": "base",
   "language": "python",
   "name": "python3"
  },
  "language_info": {
   "codemirror_mode": {
    "name": "ipython",
    "version": 3
   },
   "file_extension": ".py",
   "mimetype": "text/x-python",
   "name": "python",
   "nbconvert_exporter": "python",
   "pygments_lexer": "ipython3",
   "version": "3.10.9"
  },
  "orig_nbformat": 4
 },
 "nbformat": 4,
 "nbformat_minor": 2
}
