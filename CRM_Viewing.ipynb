{
 "cells": [
  {
   "cell_type": "code",
   "execution_count": 2,
   "metadata": {},
   "outputs": [
    {
     "name": "stdout",
     "output_type": "stream",
     "text": [
      "env: GCLOUD_PROJECT=nbcu-ds-sandbox-a-001\n"
     ]
    }
   ],
   "source": [
    "from datetime import datetime, timedelta\n",
    "import numpy as np\n",
    "import pandas as pd\n",
    "import seaborn as sns\n",
    "import pandas_gbq\n",
    "import pydata_google_auth\n",
    "from concurrent.futures import ThreadPoolExecutor, as_completed\n",
    "from google.cloud import bigquery\n",
    "from tqdm.notebook import tqdm\n",
    "from dateutil import tz\n",
    "from BigQueryTools import QueryTool\n",
    "import re\n",
    "\n",
    "SCOPES = [\n",
    "    'https://www.googleapis.com/auth/cloud-platform',\n",
    "    'https://www.googleapis.com/auth/drive',\n",
    "]\n",
    "credentials = pydata_google_auth.get_user_credentials(\n",
    "    SCOPES,\n",
    "    # Set auth_local_webserver to True to have a slightly more convienient\n",
    "    # authorization flow. Note, this doesn't work if you're running from a\n",
    "    # notebook on a remote sever, such as over SSH or with Google Colab.\n",
    "    auth_local_webserver=True,\n",
    ")\n",
    "\n",
    "%load_ext google.cloud.bigquery\n",
    "%env GCLOUD_PROJECT=nbcu-ds-sandbox-a-001"
   ]
  },
  {
   "cell_type": "code",
   "execution_count": 12,
   "metadata": {},
   "outputs": [],
   "source": [
    "start_date = '2022-01-01'\n",
    "end_date = '2023-11-30'"
   ]
  },
  {
   "cell_type": "code",
   "execution_count": 13,
   "metadata": {},
   "outputs": [],
   "source": [
    "def get_monthly_report_dates(start_date, end_date):\n",
    "    start = datetime.strptime(start_date, \"%Y-%m-%d\")\n",
    "    end = datetime.strptime(end_date, \"%Y-%m-%d\")\n",
    "    monthly_reports = {}\n",
    "\n",
    "    while start <= end:\n",
    "        month_year = start.strftime(\"%b_%Y\")\n",
    "        report_start_date = start.replace(day=1)\n",
    "        next_month = start.replace(day=28) + timedelta(days=4)\n",
    "        report_end_date = next_month - timedelta(days=next_month.day)\n",
    "        monthly_reports[month_year] = {\n",
    "            \"report_start_date\": report_start_date.strftime(\"%Y-%m-%d\"),\n",
    "            \"report_end_date\": report_end_date.strftime(\"%Y-%m-%d\")\n",
    "        }\n",
    "        start = next_month\n",
    "\n",
    "    return monthly_reports\n",
    "\n",
    "def get_quarter(p_date) -> int:\n",
    "    return (p_date.month - 1) // 3 + 1\n",
    "\n",
    "def get_quarterly_report_dates(start_date_str, end_date_str):\n",
    "    start_date = datetime.strptime(start_date_str, '%Y-%m-%d')\n",
    "    end_date = datetime.strptime(end_date_str, '%Y-%m-%d')\n",
    "\n",
    "    quarter_dates = {}\n",
    "\n",
    "    while start_date <= end_date:\n",
    "        quarter = get_quarter(start_date)\n",
    "        quarter_name = 'Q{}_{}'.format(quarter, start_date.year)\n",
    "        quarter_start = datetime(start_date.year, (start_date.month - 1) // 3 * 3 + 1, 1)\n",
    "        quarter_end = quarter_start.replace(year=quarter_start.year + 3 * quarter // 12, month=(quarter_start.month + 3) % 12, day=1) - timedelta(days=1)\n",
    "        quarter_dates[quarter_name] = {\n",
    "            'report_start_date': quarter_start.strftime('%Y-%m-%d'),\n",
    "            'report_end_date': quarter_end.strftime('%Y-%m-%d')\n",
    "        }\n",
    "        start_date = quarter_end + timedelta(days=1)\n",
    "\n",
    "    return quarter_dates\n",
    "\n",
    "def generate_report_variants(period_dict, suffix=\"report\"):\n",
    "    return {'_'.join([period, suffix]): {'string_format': {'report': period}, 'params': params} for period, params in period_dict.items()}"
   ]
  },
  {
   "cell_type": "code",
   "execution_count": 14,
   "metadata": {},
   "outputs": [],
   "source": [
    "months = get_monthly_report_dates(start_date, end_date)\n",
    "quarters = get_quarterly_report_dates(start_date, end_date)\n",
    "monthly_viewing_tables = generate_report_variants(months, 'viewing')\n",
    "quarterly_viewing_tables = generate_report_variants(quarters, 'viewing')\n",
    "month_tables = generate_report_variants(months)\n",
    "quarter_tables = generate_report_variants(quarters)\n",
    "bq = QueryTool()"
   ]
  },
  {
   "attachments": {},
   "cell_type": "markdown",
   "metadata": {},
   "source": [
    "# Viewing Tables"
   ]
  },
  {
   "cell_type": "code",
   "execution_count": 6,
   "metadata": {},
   "outputs": [
    {
     "name": "stdout",
     "output_type": "stream",
     "text": [
      "Added: Oct_2023_viewing\t | \tAwaiting start\n",
      "Added: Nov_2023_viewing\t | \tAwaiting start\n",
      "Added: Q4_2023_viewing\t | \tAwaiting start\n"
     ]
    }
   ],
   "source": [
    "with open('CRM_Viewing.sql') as file:\n",
    "    sql_file = file.read()\n",
    "    bq.add(sql_file, monthly_viewing_tables)\n",
    "    bq.add(sql_file, quarterly_viewing_tables)"
   ]
  },
  {
   "cell_type": "code",
   "execution_count": 7,
   "metadata": {},
   "outputs": [
    {
     "name": "stdout",
     "output_type": "stream",
     "text": [
      "start 4b4cccf9-9286-4811-a920-2a0eabfe1efastart 8b41f0fb-0280-4215-b469-deb1e71056ba\n",
      "\n",
      "start 0c9f618a-7252-4362-9961-2684d35fab97\n",
      "All jobs in queue started\n"
     ]
    }
   ],
   "source": [
    "bq.start()"
   ]
  },
  {
   "cell_type": "code",
   "execution_count": 11,
   "metadata": {},
   "outputs": [
    {
     "name": "stdout",
     "output_type": "stream",
     "text": [
      "Active jobs: \n",
      "\n",
      "\n",
      "Finished jobs: \n",
      "Oct_2023_viewing\t | \t8b41f0fb-0280-4215-b469-deb1e71056ba\t | \tCreated: Dec 05, 2023 11:28 AM\t | \tLast Checked: Dec 05, 2023 12:08 PM\t | \tDONE\n",
      "Nov_2023_viewing\t | \t4b4cccf9-9286-4811-a920-2a0eabfe1efa\t | \tCreated: Dec 05, 2023 11:28 AM\t | \tLast Checked: Dec 05, 2023 12:08 PM\t | \tDONE\n",
      "Q4_2023_viewing\t | \t0c9f618a-7252-4362-9961-2684d35fab97\t | \tCreated: Dec 05, 2023 11:28 AM\t | \tLast Checked: Dec 05, 2023 01:57 PM\t | \tDONE\n"
     ]
    }
   ],
   "source": [
    "bq.update()"
   ]
  },
  {
   "cell_type": "code",
   "execution_count": 15,
   "metadata": {},
   "outputs": [],
   "source": [
    "# Merge and group monthly results\n",
    "query = \"\"\"\n",
    "        CREATE or replace TABLE `nbcu-ds-sandbox-a-001.SLi_sandbox.SILVER_VIDEO_VIEWING_MONTHLY` AS \n",
    "        \n",
    "        SELECT *\n",
    "        FROM ( \n",
    "        \"\"\" + \\\n",
    "        (' UNION ALL ').join([f\"(select * from `nbcu-ds-sandbox-a-001.SLi_sandbox.Video_Viewing_{report}`)\" for report in months]) + \\\n",
    "        \"\"\"\n",
    "        )\n",
    "        \"\"\"\n",
    "        \n",
    "with bigquery.Client() as client:\n",
    "    client.query(query).result()"
   ]
  },
  {
   "cell_type": "code",
   "execution_count": 24,
   "metadata": {},
   "outputs": [
    {
     "data": {
      "application/vnd.jupyter.widget-view+json": {
       "model_id": "eb16f102d4ba44a7adab15efd2868f6f",
       "version_major": 2,
       "version_minor": 0
      },
      "text/plain": [
       "Query is running:   0%|          |"
      ]
     },
     "metadata": {},
     "output_type": "display_data"
    },
    {
     "data": {
      "application/vnd.jupyter.widget-view+json": {
       "model_id": "6afbcae279f04e458586da4208d36fbe",
       "version_major": 2,
       "version_minor": 0
      },
      "text/plain": [
       "Downloading:   0%|          |"
      ]
     },
     "metadata": {},
     "output_type": "display_data"
    },
    {
     "data": {
      "text/html": [
       "<div>\n",
       "<style scoped>\n",
       "    .dataframe tbody tr th:only-of-type {\n",
       "        vertical-align: middle;\n",
       "    }\n",
       "\n",
       "    .dataframe tbody tr th {\n",
       "        vertical-align: top;\n",
       "    }\n",
       "\n",
       "    .dataframe thead th {\n",
       "        text-align: right;\n",
       "    }\n",
       "</style>\n",
       "<table border=\"1\" class=\"dataframe\">\n",
       "  <thead>\n",
       "    <tr style=\"text-align: right;\">\n",
       "      <th></th>\n",
       "      <th>Report_Month</th>\n",
       "      <th>adobe_tracking_id</th>\n",
       "      <th>Distinct_Content_Starts</th>\n",
       "      <th>Total_Content_Starts</th>\n",
       "      <th>Viewing_Time</th>\n",
       "      <th>Distinct_Viewing_Sessions</th>\n",
       "      <th>Repertoire_Pavo_Method</th>\n",
       "    </tr>\n",
       "  </thead>\n",
       "  <tbody>\n",
       "    <tr>\n",
       "      <th>0</th>\n",
       "      <td>2022-09-01</td>\n",
       "      <td>Gy41X9ZjW7Bj8i6TdvAMRlmGjhsScJm5UamSbJFTdH4=</td>\n",
       "      <td>1</td>\n",
       "      <td>256</td>\n",
       "      <td>0.000000</td>\n",
       "      <td>1</td>\n",
       "      <td>0</td>\n",
       "    </tr>\n",
       "    <tr>\n",
       "      <th>1</th>\n",
       "      <td>2023-06-01</td>\n",
       "      <td>Xc/AkZ8lyH9G+/8LhMLa40+p7+YUfKUXROT6T4RyBwk=</td>\n",
       "      <td>1</td>\n",
       "      <td>256</td>\n",
       "      <td>68.989167</td>\n",
       "      <td>61</td>\n",
       "      <td>1</td>\n",
       "    </tr>\n",
       "    <tr>\n",
       "      <th>2</th>\n",
       "      <td>2022-07-01</td>\n",
       "      <td>/SjNXNJm2Ob3H5UgYgi9BN4sCG18QJXVth3x0MRbS+M=</td>\n",
       "      <td>1</td>\n",
       "      <td>256</td>\n",
       "      <td>50.935000</td>\n",
       "      <td>67</td>\n",
       "      <td>1</td>\n",
       "    </tr>\n",
       "    <tr>\n",
       "      <th>3</th>\n",
       "      <td>2023-04-01</td>\n",
       "      <td>9JmibFKdw5nmaA5PdlhdpxKINzIldwNxGVCslLbqZn0=</td>\n",
       "      <td>1</td>\n",
       "      <td>256</td>\n",
       "      <td>114.795000</td>\n",
       "      <td>39</td>\n",
       "      <td>1</td>\n",
       "    </tr>\n",
       "    <tr>\n",
       "      <th>4</th>\n",
       "      <td>2023-03-01</td>\n",
       "      <td>eho7G7Uw3ul9wRa5NoYD8QvzYZOKi+Z+Y9zw0zB5oA4=</td>\n",
       "      <td>1</td>\n",
       "      <td>256</td>\n",
       "      <td>83.925278</td>\n",
       "      <td>32</td>\n",
       "      <td>2</td>\n",
       "    </tr>\n",
       "    <tr>\n",
       "      <th>5</th>\n",
       "      <td>2023-09-01</td>\n",
       "      <td>9mEtbY1pG3K7uJJ7HpEaLZGCIoMg/rvTF9UulhH/cmY=</td>\n",
       "      <td>1</td>\n",
       "      <td>256</td>\n",
       "      <td>10.385833</td>\n",
       "      <td>3</td>\n",
       "      <td>2</td>\n",
       "    </tr>\n",
       "    <tr>\n",
       "      <th>6</th>\n",
       "      <td>2023-07-01</td>\n",
       "      <td>Jym30NbY7oW0GnTfu68WRmR36tUerVvZYk62OK5/L2w=</td>\n",
       "      <td>1</td>\n",
       "      <td>256</td>\n",
       "      <td>176.461944</td>\n",
       "      <td>42</td>\n",
       "      <td>2</td>\n",
       "    </tr>\n",
       "    <tr>\n",
       "      <th>7</th>\n",
       "      <td>2023-01-01</td>\n",
       "      <td>RskRDrmxk/u+Ufkz7cSzkD8+dmJ2Wm+X9D6H0HIzK9s=</td>\n",
       "      <td>1</td>\n",
       "      <td>256</td>\n",
       "      <td>74.553333</td>\n",
       "      <td>20</td>\n",
       "      <td>2</td>\n",
       "    </tr>\n",
       "    <tr>\n",
       "      <th>8</th>\n",
       "      <td>2022-01-01</td>\n",
       "      <td>9OjLneXK498dfkR9RrwzzJXm9Os05AOLIjDAF3DDSLA=</td>\n",
       "      <td>1</td>\n",
       "      <td>256</td>\n",
       "      <td>115.343889</td>\n",
       "      <td>64</td>\n",
       "      <td>2</td>\n",
       "    </tr>\n",
       "    <tr>\n",
       "      <th>9</th>\n",
       "      <td>2023-08-01</td>\n",
       "      <td>NCtZ3f/d/vFTzcKuIwXqlLHwNveFBRm5UMhnuV9oNGs=</td>\n",
       "      <td>1</td>\n",
       "      <td>256</td>\n",
       "      <td>48.297778</td>\n",
       "      <td>103</td>\n",
       "      <td>2</td>\n",
       "    </tr>\n",
       "  </tbody>\n",
       "</table>\n",
       "</div>"
      ],
      "text/plain": [
       "  Report_Month                             adobe_tracking_id  \\\n",
       "0   2022-09-01  Gy41X9ZjW7Bj8i6TdvAMRlmGjhsScJm5UamSbJFTdH4=   \n",
       "1   2023-06-01  Xc/AkZ8lyH9G+/8LhMLa40+p7+YUfKUXROT6T4RyBwk=   \n",
       "2   2022-07-01  /SjNXNJm2Ob3H5UgYgi9BN4sCG18QJXVth3x0MRbS+M=   \n",
       "3   2023-04-01  9JmibFKdw5nmaA5PdlhdpxKINzIldwNxGVCslLbqZn0=   \n",
       "4   2023-03-01  eho7G7Uw3ul9wRa5NoYD8QvzYZOKi+Z+Y9zw0zB5oA4=   \n",
       "5   2023-09-01  9mEtbY1pG3K7uJJ7HpEaLZGCIoMg/rvTF9UulhH/cmY=   \n",
       "6   2023-07-01  Jym30NbY7oW0GnTfu68WRmR36tUerVvZYk62OK5/L2w=   \n",
       "7   2023-01-01  RskRDrmxk/u+Ufkz7cSzkD8+dmJ2Wm+X9D6H0HIzK9s=   \n",
       "8   2022-01-01  9OjLneXK498dfkR9RrwzzJXm9Os05AOLIjDAF3DDSLA=   \n",
       "9   2023-08-01  NCtZ3f/d/vFTzcKuIwXqlLHwNveFBRm5UMhnuV9oNGs=   \n",
       "\n",
       "   Distinct_Content_Starts  Total_Content_Starts  Viewing_Time  \\\n",
       "0                        1                   256      0.000000   \n",
       "1                        1                   256     68.989167   \n",
       "2                        1                   256     50.935000   \n",
       "3                        1                   256    114.795000   \n",
       "4                        1                   256     83.925278   \n",
       "5                        1                   256     10.385833   \n",
       "6                        1                   256    176.461944   \n",
       "7                        1                   256     74.553333   \n",
       "8                        1                   256    115.343889   \n",
       "9                        1                   256     48.297778   \n",
       "\n",
       "   Distinct_Viewing_Sessions  Repertoire_Pavo_Method  \n",
       "0                          1                       0  \n",
       "1                         61                       1  \n",
       "2                         67                       1  \n",
       "3                         39                       1  \n",
       "4                         32                       2  \n",
       "5                          3                       2  \n",
       "6                         42                       2  \n",
       "7                         20                       2  \n",
       "8                         64                       2  \n",
       "9                        103                       2  "
      ]
     },
     "execution_count": 24,
     "metadata": {},
     "output_type": "execute_result"
    }
   ],
   "source": [
    "%%bigquery\n",
    "\n",
    "SELECT * from `nbcu-ds-sandbox-a-001.SLi_sandbox.SILVER_VIDEO_VIEWING_MONTHLY` limit 10;"
   ]
  }
 ],
 "metadata": {
  "kernelspec": {
   "display_name": "base",
   "language": "python",
   "name": "python3"
  },
  "language_info": {
   "codemirror_mode": {
    "name": "ipython",
    "version": 3
   },
   "file_extension": ".py",
   "mimetype": "text/x-python",
   "name": "python",
   "nbconvert_exporter": "python",
   "pygments_lexer": "ipython3",
   "version": "3.10.9"
  },
  "orig_nbformat": 4
 },
 "nbformat": 4,
 "nbformat_minor": 2
}
