{
 "cells": [
  {
   "cell_type": "code",
   "execution_count": 17,
   "metadata": {},
   "outputs": [
    {
     "name": "stdout",
     "output_type": "stream",
     "text": [
      "The google.cloud.bigquery extension is already loaded. To reload it, use:\n",
      "  %reload_ext google.cloud.bigquery\n",
      "env: GCLOUD_PROJECT=nbcu-ds-sandbox-a-001\n"
     ]
    }
   ],
   "source": [
    "from datetime import datetime, timedelta\n",
    "import numpy as np\n",
    "import pandas as pd\n",
    "import seaborn as sns\n",
    "import pandas_gbq\n",
    "import pydata_google_auth\n",
    "from concurrent.futures import ThreadPoolExecutor, as_completed\n",
    "from google.cloud import bigquery\n",
    "from tqdm.notebook import tqdm\n",
    "from dateutil import tz\n",
    "from BigQueryTools import QueryTool\n",
    "import re\n",
    "\n",
    "SCOPES = [\n",
    "    'https://www.googleapis.com/auth/cloud-platform',\n",
    "    'https://www.googleapis.com/auth/drive',\n",
    "]\n",
    "credentials = pydata_google_auth.get_user_credentials(\n",
    "    SCOPES,\n",
    "    # Set auth_local_webserver to True to have a slightly more convienient\n",
    "    # authorization flow. Note, this doesn't work if you're running from a\n",
    "    # notebook on a remote sever, such as over SSH or with Google Colab.\n",
    "    auth_local_webserver=True,\n",
    ")\n",
    "\n",
    "%load_ext google.cloud.bigquery\n",
    "%env GCLOUD_PROJECT=nbcu-ds-sandbox-a-001"
   ]
  },
  {
   "cell_type": "code",
   "execution_count": 18,
   "metadata": {},
   "outputs": [],
   "source": [
    "start_date = '2022-01-01'\n",
    "end_date = '2023-07-31'"
   ]
  },
  {
   "cell_type": "code",
   "execution_count": 19,
   "metadata": {},
   "outputs": [],
   "source": [
    "def get_monthly_report_dates(start_date, end_date):\n",
    "    start = datetime.strptime(start_date, \"%Y-%m-%d\")\n",
    "    end = datetime.strptime(end_date, \"%Y-%m-%d\")\n",
    "    monthly_reports = {}\n",
    "\n",
    "    while start <= end:\n",
    "        month_year = start.strftime(\"%b_%Y\")\n",
    "        report_start_date = start.replace(day=1)\n",
    "        next_month = start.replace(day=28) + timedelta(days=4)\n",
    "        report_end_date = next_month - timedelta(days=next_month.day)\n",
    "        monthly_reports[month_year] = {\n",
    "            \"report_start_date\": report_start_date.strftime(\"%Y-%m-%d\"),\n",
    "            \"report_end_date\": report_end_date.strftime(\"%Y-%m-%d\")\n",
    "        }\n",
    "        start = next_month\n",
    "\n",
    "    return monthly_reports\n",
    "\n",
    "def get_quarter(p_date) -> int:\n",
    "    return (p_date.month - 1) // 3 + 1\n",
    "\n",
    "def get_quarterly_report_dates(start_date_str, end_date_str):\n",
    "    start_date = datetime.strptime(start_date_str, '%Y-%m-%d')\n",
    "    end_date = datetime.strptime(end_date_str, '%Y-%m-%d')\n",
    "\n",
    "    quarter_dates = {}\n",
    "\n",
    "    while start_date <= end_date:\n",
    "        quarter = get_quarter(start_date)\n",
    "        quarter_name = 'Q{}_{}'.format(quarter, start_date.year)\n",
    "        quarter_start = datetime(start_date.year, (start_date.month - 1) // 3 * 3 + 1, 1)\n",
    "        quarter_end = quarter_start.replace(year=quarter_start.year + 3 * quarter // 12, month=(quarter_start.month + 3) % 12, day=1) - timedelta(days=1)\n",
    "        quarter_dates[quarter_name] = {\n",
    "            'report_start_date': quarter_start.strftime('%Y-%m-%d'),\n",
    "            'report_end_date': quarter_end.strftime('%Y-%m-%d')\n",
    "        }\n",
    "        start_date = quarter_end + timedelta(days=1)\n",
    "\n",
    "    return quarter_dates\n",
    "\n",
    "def generate_report_variants(period_dict, suffix=\"report\"):\n",
    "    return {'_'.join([period, suffix]): {'string_format': {'report': period}, 'params': params} for period, params in period_dict.items()}"
   ]
  },
  {
   "cell_type": "code",
   "execution_count": 20,
   "metadata": {},
   "outputs": [],
   "source": [
    "months = get_monthly_report_dates(start_date, end_date)\n",
    "quarters = get_quarterly_report_dates(start_date, end_date)\n",
    "monthly_viewing_tables = generate_report_variants(months, 'viewing')\n",
    "quarterly_viewing_tables = generate_report_variants(quarters, 'viewing')\n",
    "month_tables = generate_report_variants(months)\n",
    "quarter_tables = generate_report_variants(quarters)\n",
    "bq = QueryTool()"
   ]
  },
  {
   "attachments": {},
   "cell_type": "markdown",
   "metadata": {},
   "source": [
    "# Viewing Tables"
   ]
  },
  {
   "cell_type": "code",
   "execution_count": 21,
   "metadata": {},
   "outputs": [
    {
     "name": "stdout",
     "output_type": "stream",
     "text": [
      "Replacing Jan_2022_viewing\n",
      "Added: Jan_2022_viewing\t | \tAwaiting start\n",
      "Replacing Feb_2022_viewing\n",
      "Added: Feb_2022_viewing\t | \tAwaiting start\n",
      "Replacing Mar_2022_viewing\n",
      "Added: Mar_2022_viewing\t | \tAwaiting start\n",
      "Replacing Apr_2022_viewing\n",
      "Added: Apr_2022_viewing\t | \tAwaiting start\n",
      "Replacing May_2022_viewing\n",
      "Added: May_2022_viewing\t | \tAwaiting start\n",
      "Replacing Jun_2022_viewing\n",
      "Added: Jun_2022_viewing\t | \tAwaiting start\n",
      "Replacing Jul_2022_viewing\n",
      "Added: Jul_2022_viewing\t | \tAwaiting start\n",
      "Added: Aug_2022_viewing\t | \tAwaiting start\n",
      "Added: Sep_2022_viewing\t | \tAwaiting start\n",
      "Added: Oct_2022_viewing\t | \tAwaiting start\n",
      "Added: Nov_2022_viewing\t | \tAwaiting start\n",
      "Added: Dec_2022_viewing\t | \tAwaiting start\n",
      "Added: Jan_2023_viewing\t | \tAwaiting start\n",
      "Added: Feb_2023_viewing\t | \tAwaiting start\n",
      "Added: Mar_2023_viewing\t | \tAwaiting start\n",
      "Added: Apr_2023_viewing\t | \tAwaiting start\n",
      "Added: May_2023_viewing\t | \tAwaiting start\n",
      "Added: Jun_2023_viewing\t | \tAwaiting start\n",
      "Added: Jul_2023_viewing\t | \tAwaiting start\n",
      "Replacing Q1_2022_viewing\n",
      "Added: Q1_2022_viewing\t | \tAwaiting start\n",
      "Replacing Q2_2022_viewing\n",
      "Added: Q2_2022_viewing\t | \tAwaiting start\n",
      "Replacing Q3_2022_viewing\n",
      "Added: Q3_2022_viewing\t | \tAwaiting start\n",
      "Added: Q4_2022_viewing\t | \tAwaiting start\n",
      "Added: Q1_2023_viewing\t | \tAwaiting start\n",
      "Added: Q2_2023_viewing\t | \tAwaiting start\n",
      "Added: Q3_2023_viewing\t | \tAwaiting start\n"
     ]
    }
   ],
   "source": [
    "with open('CRM_Viewing.sql') as file:\n",
    "    sql_file = file.read()\n",
    "    bq.add(sql_file, monthly_viewing_tables)\n",
    "    bq.add(sql_file, quarterly_viewing_tables)"
   ]
  },
  {
   "cell_type": "code",
   "execution_count": 22,
   "metadata": {},
   "outputs": [
    {
     "name": "stdout",
     "output_type": "stream",
     "text": [
      "start bab28e89-22eb-4d14-8dd2-c266c2e68260\n",
      "start b051b882-0073-4607-88f3-3afea47e08b3\n",
      "start 7d97bb9c-799c-4e0a-8955-f0aa0e9ed16e\n",
      "start e93906a6-86ab-4dea-b905-1120a5d008ad\n",
      "start c60ac8ec-a57e-48da-a3d3-32b51c37b5be\n",
      "start 42d689be-e39a-46fa-9f66-787735476261\n",
      "start c2f85151-67ef-487f-a0fd-22ab02a0232a\n",
      "start 67458caa-becd-4df1-8a6f-9da98ae8c58e\n",
      "start 361cefd2-481e-45fe-bfcb-344d24e43009\n",
      "start cba297f7-e3cb-445c-a41d-aa24ab3eb445\n",
      "start 67f9ef67-9bd0-437b-8da4-e8e218d0b1e0\n",
      "start 49ac7dcf-a621-47ce-bab7-88ab73b1de04\n",
      "start 5cda9ee1-0b2d-450a-a67d-f895aef7d91c\n",
      "start 41af33b7-b819-43ea-8992-cf3add70201b\n",
      "start d9490f49-6642-4744-a956-971cb6ed852d\n",
      "start 01845290-3b1f-4c63-823c-181916835177\n",
      "start e6fcf0d4-1673-4040-839c-6fd359bc608e\n",
      "start be877110-f81e-475e-9c4d-382b9dec48bc\n",
      "start e7a51bfd-372a-486c-9799-87fd3e1dc1e8\n",
      "start 0b551110-3332-4964-812a-8258758c050d\n",
      "start eda359ec-5eb7-4047-b471-65cbf59d2e4a\n",
      "start eb9e2c1a-5549-4579-94eb-3af17ec4b201\n",
      "start 7967f5bd-b21a-410c-8b94-389f70865ef5\n",
      "start ab2b94f0-32a7-4611-910c-d33542d59d4b\n",
      "start db9ad8a2-9b6d-49f7-a4eb-be31a1c3ec24\n",
      "start 26dfa425-dcc1-4196-b1dd-eb47a5d3311d\n",
      "All jobs in queue started\n"
     ]
    }
   ],
   "source": [
    "bq.start()"
   ]
  },
  {
   "cell_type": "code",
   "execution_count": 26,
   "metadata": {},
   "outputs": [
    {
     "name": "stdout",
     "output_type": "stream",
     "text": [
      "Active jobs: \n",
      "\n",
      "\n",
      "Finished jobs: \n",
      "Jan_2022_viewing\t | \tb051b882-0073-4607-88f3-3afea47e08b3\t | \tCreated: Aug 02, 2023 01:44 PM\t | \tLast Checked: Aug 02, 2023 01:59 PM\t | \tDONE\n",
      "Feb_2022_viewing\t | \te7a51bfd-372a-486c-9799-87fd3e1dc1e8\t | \tCreated: Aug 02, 2023 01:44 PM\t | \tLast Checked: Aug 02, 2023 01:59 PM\t | \tDONE\n",
      "Mar_2022_viewing\t | \tbab28e89-22eb-4d14-8dd2-c266c2e68260\t | \tCreated: Aug 02, 2023 01:44 PM\t | \tLast Checked: Aug 02, 2023 01:59 PM\t | \tDONE\n",
      "Apr_2022_viewing\t | \t67f9ef67-9bd0-437b-8da4-e8e218d0b1e0\t | \tCreated: Aug 02, 2023 01:44 PM\t | \tLast Checked: Aug 02, 2023 01:59 PM\t | \tDONE\n",
      "May_2022_viewing\t | \tcba297f7-e3cb-445c-a41d-aa24ab3eb445\t | \tCreated: Aug 02, 2023 01:44 PM\t | \tLast Checked: Aug 02, 2023 01:59 PM\t | \tDONE\n",
      "Jun_2022_viewing\t | \teda359ec-5eb7-4047-b471-65cbf59d2e4a\t | \tCreated: Aug 02, 2023 01:44 PM\t | \tLast Checked: Aug 02, 2023 01:59 PM\t | \tDONE\n",
      "Q1_2022_viewing\t | \te6fcf0d4-1673-4040-839c-6fd359bc608e\t | \tCreated: Aug 02, 2023 01:44 PM\t | \tLast Checked: Aug 02, 2023 01:59 PM\t | \tDONE\n",
      "Q2_2022_viewing\t | \teb9e2c1a-5549-4579-94eb-3af17ec4b201\t | \tCreated: Aug 02, 2023 01:44 PM\t | \tLast Checked: Aug 02, 2023 01:59 PM\t | \tDONE\n",
      "Jul_2022_viewing\t | \t361cefd2-481e-45fe-bfcb-344d24e43009\t | \tCreated: Aug 02, 2023 01:44 PM\t | \tLast Checked: Aug 02, 2023 01:59 PM\t | \tDONE\n",
      "Q3_2022_viewing\t | \tbe877110-f81e-475e-9c4d-382b9dec48bc\t | \tCreated: Aug 02, 2023 01:44 PM\t | \tLast Checked: Aug 02, 2023 01:59 PM\t | \tDONE\n",
      "Aug_2022_viewing\t | \te93906a6-86ab-4dea-b905-1120a5d008ad\t | \tCreated: Aug 02, 2023 01:44 PM\t | \tLast Checked: Aug 02, 2023 01:59 PM\t | \tDONE\n",
      "Sep_2022_viewing\t | \td9490f49-6642-4744-a956-971cb6ed852d\t | \tCreated: Aug 02, 2023 01:44 PM\t | \tLast Checked: Aug 02, 2023 01:59 PM\t | \tDONE\n",
      "Oct_2022_viewing\t | \tc60ac8ec-a57e-48da-a3d3-32b51c37b5be\t | \tCreated: Aug 02, 2023 01:44 PM\t | \tLast Checked: Aug 02, 2023 01:59 PM\t | \tDONE\n",
      "Nov_2022_viewing\t | \t5cda9ee1-0b2d-450a-a67d-f895aef7d91c\t | \tCreated: Aug 02, 2023 01:44 PM\t | \tLast Checked: Aug 02, 2023 01:59 PM\t | \tDONE\n",
      "Dec_2022_viewing\t | \t42d689be-e39a-46fa-9f66-787735476261\t | \tCreated: Aug 02, 2023 01:44 PM\t | \tLast Checked: Aug 02, 2023 01:59 PM\t | \tDONE\n",
      "Jan_2023_viewing\t | \t26dfa425-dcc1-4196-b1dd-eb47a5d3311d\t | \tCreated: Aug 02, 2023 01:44 PM\t | \tLast Checked: Aug 02, 2023 01:59 PM\t | \tDONE\n",
      "Feb_2023_viewing\t | \t7d97bb9c-799c-4e0a-8955-f0aa0e9ed16e\t | \tCreated: Aug 02, 2023 01:44 PM\t | \tLast Checked: Aug 02, 2023 01:59 PM\t | \tDONE\n",
      "Mar_2023_viewing\t | \tab2b94f0-32a7-4611-910c-d33542d59d4b\t | \tCreated: Aug 02, 2023 01:44 PM\t | \tLast Checked: Aug 02, 2023 01:59 PM\t | \tDONE\n",
      "Apr_2023_viewing\t | \t67458caa-becd-4df1-8a6f-9da98ae8c58e\t | \tCreated: Aug 02, 2023 01:44 PM\t | \tLast Checked: Aug 02, 2023 01:59 PM\t | \tDONE\n",
      "May_2023_viewing\t | \t41af33b7-b819-43ea-8992-cf3add70201b\t | \tCreated: Aug 02, 2023 01:44 PM\t | \tLast Checked: Aug 02, 2023 01:59 PM\t | \tDONE\n",
      "Jun_2023_viewing\t | \t49ac7dcf-a621-47ce-bab7-88ab73b1de04\t | \tCreated: Aug 02, 2023 01:44 PM\t | \tLast Checked: Aug 02, 2023 01:59 PM\t | \tDONE\n",
      "Jul_2023_viewing\t | \tc2f85151-67ef-487f-a0fd-22ab02a0232a\t | \tCreated: Aug 02, 2023 01:44 PM\t | \tLast Checked: Aug 02, 2023 01:59 PM\t | \tDONE\n",
      "Q3_2023_viewing\t | \tdb9ad8a2-9b6d-49f7-a4eb-be31a1c3ec24\t | \tCreated: Aug 02, 2023 01:44 PM\t | \tLast Checked: Aug 02, 2023 01:59 PM\t | \tDONE\n",
      "Q4_2022_viewing\t | \t7967f5bd-b21a-410c-8b94-389f70865ef5\t | \tCreated: Aug 02, 2023 01:44 PM\t | \tLast Checked: Aug 02, 2023 02:45 PM\t | \tDONE\n",
      "Q1_2023_viewing\t | \t01845290-3b1f-4c63-823c-181916835177\t | \tCreated: Aug 02, 2023 01:44 PM\t | \tLast Checked: Aug 02, 2023 02:45 PM\t | \tDONE\n",
      "Q2_2023_viewing\t | \t0b551110-3332-4964-812a-8258758c050d\t | \tCreated: Aug 02, 2023 01:44 PM\t | \tLast Checked: Aug 02, 2023 02:45 PM\t | \tDONE\n"
     ]
    }
   ],
   "source": [
    "bq.update()"
   ]
  }
 ],
 "metadata": {
  "kernelspec": {
   "display_name": "base",
   "language": "python",
   "name": "python3"
  },
  "language_info": {
   "codemirror_mode": {
    "name": "ipython",
    "version": 3
   },
   "file_extension": ".py",
   "mimetype": "text/x-python",
   "name": "python",
   "nbconvert_exporter": "python",
   "pygments_lexer": "ipython3",
   "version": "3.10.9"
  },
  "orig_nbformat": 4
 },
 "nbformat": 4,
 "nbformat_minor": 2
}
