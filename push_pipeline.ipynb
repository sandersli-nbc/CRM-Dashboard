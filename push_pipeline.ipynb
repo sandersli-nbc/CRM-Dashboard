{
 "cells": [
  {
   "cell_type": "code",
   "execution_count": 8,
   "metadata": {
    "vscode": {
     "languageId": "sql"
    }
   },
   "outputs": [
    {
     "name": "stdout",
     "output_type": "stream",
     "text": [
      "The google.cloud.bigquery extension is already loaded. To reload it, use:\n",
      "  %reload_ext google.cloud.bigquery\n"
     ]
    }
   ],
   "source": [
    "import pandas as pd\n",
    "import seaborn as sns\n",
    "\n",
    "%load_ext google.cloud.bigquery"
   ]
  },
  {
   "attachments": {},
   "cell_type": "markdown",
   "metadata": {},
   "source": [
    "## Base Tables"
   ]
  },
  {
   "cell_type": "code",
   "execution_count": 9,
   "metadata": {
    "vscode": {
     "languageId": "sql"
    }
   },
   "outputs": [],
   "source": [
    "params = {\n",
    "    'report_start_date': '2023-01-01',\n",
    "    'report_end_date': '2023-01-31'\n",
    "}"
   ]
  },
  {
   "cell_type": "code",
   "execution_count": 20,
   "metadata": {
    "vscode": {
     "languageId": "sql"
    }
   },
   "outputs": [
    {
     "data": {
      "application/vnd.jupyter.widget-view+json": {
       "model_id": "1c6bc6aaf9024500870e0993f62cbd71",
       "version_major": 2,
       "version_minor": 0
      },
      "text/plain": [
       "Query is running:   0%|          |"
      ]
     },
     "metadata": {},
     "output_type": "display_data"
    },
    {
     "data": {
      "text/html": [
       "<div>\n",
       "<style scoped>\n",
       "    .dataframe tbody tr th:only-of-type {\n",
       "        vertical-align: middle;\n",
       "    }\n",
       "\n",
       "    .dataframe tbody tr th {\n",
       "        vertical-align: top;\n",
       "    }\n",
       "\n",
       "    .dataframe thead th {\n",
       "        text-align: right;\n",
       "    }\n",
       "</style>\n",
       "<table border=\"1\" class=\"dataframe\">\n",
       "  <thead>\n",
       "    <tr style=\"text-align: right;\">\n",
       "      <th></th>\n",
       "    </tr>\n",
       "  </thead>\n",
       "  <tbody>\n",
       "  </tbody>\n",
       "</table>\n",
       "</div>"
      ],
      "text/plain": [
       "Empty DataFrame\n",
       "Columns: []\n",
       "Index: []"
      ]
     },
     "execution_count": 20,
     "metadata": {},
     "output_type": "execute_result"
    }
   ],
   "source": [
    "%%bigquery --project nbcu-ds-sandbox-a-001 --params $params\n",
    "CREATE OR REPLACE TABLE `nbcu-ds-sandbox-a-001.SLi_sandbox.Push_Delivered_v4_Jan23` AS (\n",
    "\t\n",
    "\t-- everyone who have received push in the month\n",
    "\tSELECT  distinct b.aid AS adobe_tracking_id\n",
    "\tFROM\n",
    "\t(\n",
    "\t\tSELECT  distinct aid\n",
    "\t\tFROM\n",
    "\t\t(\n",
    "\t\t\tSELECT  COALESCE(canvasName,campaignName) AS canvas_campaign_name\n",
    "\t\t\t\t,identity                          AS other_7\n",
    "\t\t\tFROM `nbcu-sdp-prod-003.sdp_persistent_views.BrazePushNotificationContactView`\n",
    "\t\t\tWHERE DATE(TIMESTAMP(eventTimestamp), 'America/New_York') BETWEEN @report_start_date AND @report_end_date\n",
    "\t\t\tGROUP BY  1,2\n",
    "\t\t\tHAVING (SUM(CASE WHEN eventName = 'Push Notification Sends' THEN 1 ELSE 0 END) >= 1) AND (SUM(CASE WHEN eventName = 'Push Notification Bounces' THEN 1 ELSE 0 END) = 0)\n",
    "\t\t) a\n",
    "\t\tINNER JOIN `nbcu-sdp-sandbox-prod.sl_sandbox.Braze_Id_Adobe_Id_Map` map\n",
    "\t\tON map.bid = a.other_7\n",
    "\t) b\n",
    "\t-- exclude users put IN holdout group\n",
    "\tLEFT JOIN\n",
    "\t(\n",
    "\t\tSELECT  DISTINCT TrackingId AS aid\n",
    "\t\tFROM `nbcu-ds-prod-001.PeacockDataMartMarketingGold.HOLDOUT_GROUP`\n",
    "\t\tWHERE cohort = format_timestamp('%B%Y', DATETIME_TRUNC(@report_start_date, QUARTER))\n",
    "\t\tAND Hold_Out_Type_Current = 'Owned Push Notification Holdout'\n",
    "\t\tAND DATE(TIMESTAMP(RegistrationDate), 'America/New_York') <= @report_end_date \n",
    "\t) g\n",
    "\tON g.aid = b.aid\n",
    "\tWHERE g.aid is null\n",
    "\n",
    ")"
   ]
  },
  {
   "cell_type": "code",
   "execution_count": 21,
   "metadata": {
    "vscode": {
     "languageId": "sql"
    }
   },
   "outputs": [
    {
     "data": {
      "application/vnd.jupyter.widget-view+json": {
       "model_id": "9644e27e51b846a29ec26a8f4db26f23",
       "version_major": 2,
       "version_minor": 0
      },
      "text/plain": [
       "Query is running:   0%|          |"
      ]
     },
     "metadata": {},
     "output_type": "display_data"
    },
    {
     "data": {
      "text/html": [
       "<div>\n",
       "<style scoped>\n",
       "    .dataframe tbody tr th:only-of-type {\n",
       "        vertical-align: middle;\n",
       "    }\n",
       "\n",
       "    .dataframe tbody tr th {\n",
       "        vertical-align: top;\n",
       "    }\n",
       "\n",
       "    .dataframe thead th {\n",
       "        text-align: right;\n",
       "    }\n",
       "</style>\n",
       "<table border=\"1\" class=\"dataframe\">\n",
       "  <thead>\n",
       "    <tr style=\"text-align: right;\">\n",
       "      <th></th>\n",
       "    </tr>\n",
       "  </thead>\n",
       "  <tbody>\n",
       "  </tbody>\n",
       "</table>\n",
       "</div>"
      ],
      "text/plain": [
       "Empty DataFrame\n",
       "Columns: []\n",
       "Index: []"
      ]
     },
     "execution_count": 21,
     "metadata": {},
     "output_type": "execute_result"
    }
   ],
   "source": [
    "%%bigquery --project nbcu-ds-sandbox-a-001 --params $params\n",
    "CREATE OR REPLACE TABLE `nbcu-ds-sandbox-a-001.SLi_sandbox.Push_Holdout_v4_Jan23` AS (\n",
    "\n",
    "    SELECT  DISTINCT TrackingId AS adobe_tracking_id\n",
    "    FROM `nbcu-ds-prod-001.PeacockDataMartMarketingGold.HOLDOUT_GROUP`\n",
    "    WHERE cohort = format_timestamp('%B%Y', DATETIME_TRUNC(@report_start_date, QUARTER)) -- get cohort name as month of quarter start + year\n",
    "    AND Hold_Out_Type_Current = 'Owned Push Notification Holdout'\n",
    "    AND DATE(TIMESTAMP(RegistrationDate), 'America/New_York') <= @report_end_date\n",
    "\n",
    ")"
   ]
  },
  {
   "cell_type": "code",
   "execution_count": 22,
   "metadata": {
    "vscode": {
     "languageId": "sql"
    }
   },
   "outputs": [
    {
     "data": {
      "application/vnd.jupyter.widget-view+json": {
       "model_id": "7bde86afd5484b4cbd055d4db2593cf0",
       "version_major": 2,
       "version_minor": 0
      },
      "text/plain": [
       "Query is running:   0%|          |"
      ]
     },
     "metadata": {},
     "output_type": "display_data"
    },
    {
     "data": {
      "text/html": [
       "<div>\n",
       "<style scoped>\n",
       "    .dataframe tbody tr th:only-of-type {\n",
       "        vertical-align: middle;\n",
       "    }\n",
       "\n",
       "    .dataframe tbody tr th {\n",
       "        vertical-align: top;\n",
       "    }\n",
       "\n",
       "    .dataframe thead th {\n",
       "        text-align: right;\n",
       "    }\n",
       "</style>\n",
       "<table border=\"1\" class=\"dataframe\">\n",
       "  <thead>\n",
       "    <tr style=\"text-align: right;\">\n",
       "      <th></th>\n",
       "    </tr>\n",
       "  </thead>\n",
       "  <tbody>\n",
       "  </tbody>\n",
       "</table>\n",
       "</div>"
      ],
      "text/plain": [
       "Empty DataFrame\n",
       "Columns: []\n",
       "Index: []"
      ]
     },
     "execution_count": 22,
     "metadata": {},
     "output_type": "execute_result"
    }
   ],
   "source": [
    "%%bigquery --project nbcu-ds-sandbox-a-001 --params $params\n",
    "\n",
    "CREATE OR REPLACE TABLE `nbcu-ds-sandbox-a-001.SLi_sandbox.Push_Channel_Qualifier_v4_Jan23` AS (\n",
    "\n",
    "    -- webhook push opt-in canvas in Braze \n",
    "    SELECT  distinct adobe_tracking_id\n",
    "    FROM `nbcu-ds-prod-001.PeacockDataMartSilver.SILVER_MPARTICLE_BRAZE`\n",
    "    WHERE canvas_id = 'f4f21b32-e2ce-493f-a4dd-9132e45c65ff' --canvas_name = 'Push Optins' not displayed\n",
    "    AND event_date BETWEEN @report_end_date AND DATE_ADD(@report_end_date, INTERVAL 2 DAY) --edited\n",
    "    AND event_name = 'Webhook Sends'\n",
    "\n",
    ")"
   ]
  },
  {
   "attachments": {},
   "cell_type": "markdown",
   "metadata": {},
   "source": [
    "### Output Base Tables"
   ]
  },
  {
   "cell_type": "code",
   "execution_count": 31,
   "metadata": {
    "vscode": {
     "languageId": "sql"
    }
   },
   "outputs": [
    {
     "data": {
      "application/vnd.jupyter.widget-view+json": {
       "model_id": "e2251786584046c697336ca4c851f528",
       "version_major": 2,
       "version_minor": 0
      },
      "text/plain": [
       "Query is running:   0%|          |"
      ]
     },
     "metadata": {},
     "output_type": "display_data"
    },
    {
     "data": {
      "text/html": [
       "<div>\n",
       "<style scoped>\n",
       "    .dataframe tbody tr th:only-of-type {\n",
       "        vertical-align: middle;\n",
       "    }\n",
       "\n",
       "    .dataframe tbody tr th {\n",
       "        vertical-align: top;\n",
       "    }\n",
       "\n",
       "    .dataframe thead th {\n",
       "        text-align: right;\n",
       "    }\n",
       "</style>\n",
       "<table border=\"1\" class=\"dataframe\">\n",
       "  <thead>\n",
       "    <tr style=\"text-align: right;\">\n",
       "      <th></th>\n",
       "    </tr>\n",
       "  </thead>\n",
       "  <tbody>\n",
       "  </tbody>\n",
       "</table>\n",
       "</div>"
      ],
      "text/plain": [
       "Empty DataFrame\n",
       "Columns: []\n",
       "Index: []"
      ]
     },
     "execution_count": 31,
     "metadata": {},
     "output_type": "execute_result"
    }
   ],
   "source": [
    "%%bigquery --project nbcu-ds-sandbox-a-001 --params $params\n",
    "CREATE OR REPLACE TABLE `nbcu-ds-sandbox-a-001.SLi_sandbox.Push_Measurement_Audience_v4_Jan23` AS (\n",
    "\n",
    "    SELECT  distinct delivered_and_holdout.adobe_tracking_id AS aid\n",
    "        ,cohort\n",
    "        ,user.account_type\n",
    "        ,abandon_maa.primary_device\n",
    "        ,user.account_tenure\n",
    "        ,user.tenure_paid_lens\n",
    "        ,user.billing_platform_category\n",
    "        ,user.bundling_partner\n",
    "        ,user.billing_cycle_category\n",
    "        ,user.offer\n",
    "    FROM (\n",
    "        SELECT *, 'Targeted' as cohort from `nbcu-ds-sandbox-a-001.SLi_sandbox.Push_Delivered_v4_Jan23`\n",
    "        UNION ALL\n",
    "        SELECT *, 'Holdout' as cohort from `nbcu-ds-sandbox-a-001.SLi_sandbox.Push_Holdout_v4_Jan23`\n",
    "    ) delivered_and_holdout\n",
    "\n",
    "    -- Include only those who received push in the current reporting period or are in holdout\n",
    "    INNER JOIN `nbcu-ds-sandbox-a-001.SLi_sandbox.Push_Channel_Qualifier_v4_Jan23` qualified\n",
    "    ON delivered_and_holdout.adobe_tracking_id = qualified.adobe_tracking_id\n",
    "\n",
    "    -- take out all abandon MAAs\n",
    "    INNER JOIN\n",
    "        (\n",
    "            SELECT  DISTINCT adobe_tracking_id\n",
    "                ,CASE WHEN primary_device_name IN ('Android Mobile','Ios Mobile','Windows Phone') THEN 'Mobile'\n",
    "                        WHEN primary_device_name IN ('Www','Amazon Fire Tablet') THEN 'Other'  ELSE 'Large Screen' END AS primary_device\n",
    "            FROM `nbcu-ds-prod-001.PeacockDataMartSilver.SILVER_PRIMARY_DEVICES`\n",
    "            WHERE report_date = @report_end_date\n",
    "            AND date_of_last_view IS NOT NULL\n",
    "        ) abandon_maa\n",
    "    ON delivered_and_holdout.adobe_tracking_id = abandon_maa.adobe_tracking_id\n",
    "\n",
    "    --add attribute: account_type at the end of the reporting period\n",
    "    INNER JOIN\n",
    "        (\n",
    "            SELECT  DISTINCT adobe_tracking_id\n",
    "                ,account_type\n",
    "                ,account_tenure\n",
    "                ,tenure_paid_lens\n",
    "                ,CASE WHEN billing_platform = 'NBCU' THEN 'Direct'  ELSE 'IAP' END          AS billing_platform_category\n",
    "                ,bundling_partner\n",
    "                ,CASE WHEN billing_cycle = 'ANNUAL' THEN 'Annual'\n",
    "                        WHEN billing_cycle = 'MONTHLY' THEN 'Monthly' END                     AS billing_cycle_category\n",
    "                ,CASE WHEN voucher_partner is null THEN 'Not On Offer'  ELSE 'On Offer' END AS offer\n",
    "            FROM `nbcu-ds-prod-001.PeacockDataMartSilver.SILVER_USER`\n",
    "            WHERE report_date = @report_end_date \n",
    "        ) user\n",
    "    ON delivered_and_holdout.adobe_tracking_id = user.adobe_tracking_id\n",
    "\n",
    ")"
   ]
  },
  {
   "cell_type": "code",
   "execution_count": 24,
   "metadata": {
    "vscode": {
     "languageId": "sql"
    }
   },
   "outputs": [
    {
     "data": {
      "application/vnd.jupyter.widget-view+json": {
       "model_id": "37f2dbe5f12b43c6a792e692374b7e6d",
       "version_major": 2,
       "version_minor": 0
      },
      "text/plain": [
       "Query is running:   0%|          |"
      ]
     },
     "metadata": {},
     "output_type": "display_data"
    },
    {
     "data": {
      "text/html": [
       "<div>\n",
       "<style scoped>\n",
       "    .dataframe tbody tr th:only-of-type {\n",
       "        vertical-align: middle;\n",
       "    }\n",
       "\n",
       "    .dataframe tbody tr th {\n",
       "        vertical-align: top;\n",
       "    }\n",
       "\n",
       "    .dataframe thead th {\n",
       "        text-align: right;\n",
       "    }\n",
       "</style>\n",
       "<table border=\"1\" class=\"dataframe\">\n",
       "  <thead>\n",
       "    <tr style=\"text-align: right;\">\n",
       "      <th></th>\n",
       "    </tr>\n",
       "  </thead>\n",
       "  <tbody>\n",
       "  </tbody>\n",
       "</table>\n",
       "</div>"
      ],
      "text/plain": [
       "Empty DataFrame\n",
       "Columns: []\n",
       "Index: []"
      ]
     },
     "execution_count": 24,
     "metadata": {},
     "output_type": "execute_result"
    }
   ],
   "source": [
    "%%bigquery --project nbcu-ds-sandbox-a-001 --params $params\n",
    "CREATE OR REPLACE TABLE `nbcu-ds-sandbox-a-001.SLi_sandbox.Push_Video_Viewing_v4_Jan23` AS (\n",
    "\n",
    "    SELECT adobe_tracking_id\n",
    "           ,COUNT (DISTINCT CASE WHEN VIDEO.num_views_started = 1 THEN video.adobe_tracking_id ELSE NULL END) AS Distinct_Content_Starts -- num_views_started is a flag\n",
    "           ,SUM (VIDEO.num_views_started ) AS Total_Content_Starts\n",
    "           ,SUM(VIDEO.num_seconds_played_no_ads)/3600 AS Viewing_Time\n",
    "           ,COUNT(DISTINCT CASE WHEN VIDEO.num_views_started = 1 THEN session_id ELSE NULL END) AS Distinct_Viewing_Sessions \n",
    "           ,COUNT(DISTINCT(CASE \n",
    "                               WHEN (num_seconds_played_no_ads > CASE WHEN lower(consumption_type) = 'virtual channel' THEN 299 ELSE 0 END)\n",
    "                               AND (num_views_started>0) \n",
    "                               THEN CASE \n",
    "                                        WHEN (lower(consumption_type) = \"shortform\") THEN \"Shortform\"\n",
    "                                        WHEN lower(franchise) != 'other' THEN franchise \n",
    "                                        ELSE display_name\n",
    "                                    END\n",
    "                           END)\n",
    "            ) AS Repertoire_Pavo_Method\n",
    "    FROM `nbcu-ds-sandbox-a-001.SLi_sandbox.Push_Measurement_Audience_v4_Jan23` a\n",
    "    \n",
    "    INNER JOIN  `nbcu-ds-prod-001.PeacockDataMartSilver.SILVER_VIDEO` VIDEO\n",
    "        ON VIDEO.adobe_tracking_id = a.aid\n",
    "        AND adobe_date between @report_start_date AND @report_end_date\n",
    "    GROUP BY 1\n",
    "\n",
    ")"
   ]
  },
  {
   "attachments": {},
   "cell_type": "markdown",
   "metadata": {},
   "source": [
    "## Metric Definitions"
   ]
  },
  {
   "cell_type": "code",
   "execution_count": 33,
   "metadata": {
    "vscode": {
     "languageId": "sql"
    }
   },
   "outputs": [
    {
     "data": {
      "application/vnd.jupyter.widget-view+json": {
       "model_id": "061353791b1d45798bccdbe4ad10114a",
       "version_major": 2,
       "version_minor": 0
      },
      "text/plain": [
       "Query is running:   0%|          |"
      ]
     },
     "metadata": {},
     "output_type": "display_data"
    },
    {
     "data": {
      "text/html": [
       "<div>\n",
       "<style scoped>\n",
       "    .dataframe tbody tr th:only-of-type {\n",
       "        vertical-align: middle;\n",
       "    }\n",
       "\n",
       "    .dataframe tbody tr th {\n",
       "        vertical-align: top;\n",
       "    }\n",
       "\n",
       "    .dataframe thead th {\n",
       "        text-align: right;\n",
       "    }\n",
       "</style>\n",
       "<table border=\"1\" class=\"dataframe\">\n",
       "  <thead>\n",
       "    <tr style=\"text-align: right;\">\n",
       "      <th></th>\n",
       "    </tr>\n",
       "  </thead>\n",
       "  <tbody>\n",
       "  </tbody>\n",
       "</table>\n",
       "</div>"
      ],
      "text/plain": [
       "Empty DataFrame\n",
       "Columns: []\n",
       "Index: []"
      ]
     },
     "execution_count": 33,
     "metadata": {},
     "output_type": "execute_result"
    }
   ],
   "source": [
    "%%bigquery --project nbcu-ds-sandbox-a-001 --params $params\n",
    "\n",
    "CREATE OR REPLACE TABLE `nbcu-ds-sandbox-a-001.SLi_sandbox.Push_KPI_Base_v4_Jan23` AS (\n",
    "\n",
    "    WITH \n",
    "    Lapsed_Save_Base AS ( --'Lapsed_Users'\n",
    "        SELECT  distinct adobe_tracking_id\n",
    "            ,date_of_last_view\n",
    "        FROM `nbcu-ds-prod-001.PeacockDataMartSilver.SILVER_PRIMARY_DEVICES`\n",
    "        WHERE (report_date BETWEEN @report_start_date AND @report_end_date)\n",
    "        AND (days_since_last_view BETWEEN 30 AND 90) -- this guarantees we are only getting people who have at least past the 'lapsing' phase IN the time period. \n",
    "    )\n",
    "    , Lapsed_Save_Denom AS (\n",
    "        SELECT  distinct adobe_tracking_id\n",
    "        FROM Lapsed_Save_Base\n",
    "    )\n",
    "    , Lapsed_Save_Num AS (\n",
    "        SELECT  distinct a.adobe_tracking_id\n",
    "        FROM Lapsed_Save_Base a\n",
    "        INNER JOIN `nbcu-ds-prod-001.PeacockDataMartSilver.SILVER_VIDEO` VIDEO\n",
    "            ON a.adobe_tracking_id = VIDEO.adobe_tracking_id \n",
    "            AND (VIDEO.adobe_date BETWEEN @report_start_date AND @report_end_date) \n",
    "            AND (VIDEO.adobe_date BETWEEN DATE_ADD(date_of_last_view, INTERVAL 30 day) AND DATE_ADD(date_of_last_view, INTERVAL 90 DAY)) \n",
    "            AND (VIDEO.num_views_started > 0)\n",
    "    )\n",
    "    , Lapsing_Save_Base AS ( --'Lapsing_Users'\n",
    "        SELECT  distinct adobe_tracking_id\n",
    "            ,date_of_last_view\n",
    "        FROM `nbcu-ds-prod-001.PeacockDataMartSilver.SILVER_PRIMARY_DEVICES`\n",
    "        WHERE (report_date BETWEEN @report_start_date AND @report_end_date)\n",
    "        AND (days_since_last_view BETWEEN 15 AND 29) -- this guarantees we are only getting people who have at least past the 'lapsing' phase IN the time period. \n",
    "    )\n",
    "    , Lapsing_Save_Denom AS (\n",
    "        SELECT  distinct adobe_tracking_id\n",
    "        FROM Lapsing_Save_Base\n",
    "    )\n",
    "    , Lapsing_Save_Num AS (\n",
    "        SELECT  distinct a.adobe_tracking_id\n",
    "        FROM Lapsing_Save_Base a\n",
    "        INNER JOIN `nbcu-ds-prod-001.PeacockDataMartSilver.SILVER_VIDEO` VIDEO\n",
    "            ON a.adobe_tracking_id = VIDEO.adobe_tracking_id\n",
    "            AND (adobe_date BETWEEN @report_start_date AND @report_end_date)\n",
    "            AND (VIDEO.adobe_date BETWEEN DATE_ADD(date_of_last_view, INTERVAL 15 day) AND DATE_ADD(date_of_last_view, INTERVAL 29 day))\n",
    "            AND (VIDEO.num_views_started > 0)\n",
    "    )\n",
    "    , Upgrade_Denom AS (\n",
    "        SELECT  distinct adobe_tracking_id\n",
    "        FROM `nbcu-ds-prod-001.PeacockDataMartSilver.SILVER_USER` USER\n",
    "        WHERE (paying_account_flag = 'NonPaying')\n",
    "        AND (USER.report_date BETWEEN @report_start_date AND @report_end_date )\n",
    "    )\n",
    "    , Upgrade_Num AS (\n",
    "        SELECT  distinct adobe_tracking_id\n",
    "        FROM\n",
    "        (\n",
    "            SELECT  report_date\n",
    "                ,adobe_tracking_id\n",
    "            FROM `nbcu-ds-prod-001.PeacockDataMartSilver.SILVER_USER` USER\n",
    "            WHERE (entitlement_change_flag IN ('Upgrade: Free to Premium' , 'Upgrade: Free to Premium+'))\n",
    "            -- , 'Upgrade: Premium to Premium+'\n",
    "            AND (paying_account_flag = 'Paying')\n",
    "            AND (USER.report_date BETWEEN @report_start_date AND @report_end_date)\n",
    "        )\n",
    "    )\n",
    "    , Cancel_Save_Denom AS (\n",
    "        SELECT  distinct adobe_tracking_id\n",
    "        FROM `nbcu-ds-prod-001.PeacockDataMartSilver.SILVER_USER`\n",
    "        WHERE (paying_account_flag = 'Paying')\n",
    "        AND (auto_renew_flag = 'OFF')\n",
    "        AND (report_date BETWEEN @report_start_date AND @report_end_date )\n",
    "    )\n",
    "    , Cancel_Save_Num AS (\n",
    "        SELECT  distinct adobe_tracking_id\n",
    "        FROM\n",
    "        (\n",
    "            SELECT  adobe_tracking_id\n",
    "                ,report_date\n",
    "                ,auto_renew_flag                                                                      AS auto_renew_flag_today\n",
    "                ,LEAD(auto_renew_flag,1) OVER ( partition by adobe_tracking_id ORDER BY report_date ) AS auto_renew_flag_next_day\n",
    "            FROM `nbcu-ds-prod-001.PeacockDataMartSilver.SILVER_USER`\n",
    "            WHERE report_date BETWEEN @report_start_date AND @report_end_date\n",
    "            ORDER BY 1, 2 \n",
    "        )\n",
    "        WHERE (auto_renew_flag_today = 'OFF')\n",
    "        AND (auto_renew_flag_next_day = 'ON')\n",
    "    )\n",
    "    , Net_New_Upgrade_Denom AS (\n",
    "        SELECT  distinct adobe_tracking_id\n",
    "        FROM `nbcu-ds-sandbox-a-001.SLi_sandbox.upgrade_never`\n",
    "        WHERE (report_date BETWEEN @report_start_date AND @report_end_date) \n",
    "    )\n",
    "    , Net_New_Upgrade_Num AS (\n",
    "        SELECT  distinct adobe_tracking_id\n",
    "        FROM `nbcu-ds-sandbox-a-001.SLi_sandbox.upgrade_date_rank`\n",
    "        WHERE (upgrade_row_number = 1)\n",
    "        AND (report_date BETWEEN @report_start_date AND @report_end_date)\n",
    "    )\n",
    "    , Paid_Winbacks_Denom AS (\n",
    "        SELECT  distinct adobe_tracking_id\n",
    "        FROM\n",
    "        (\n",
    "            SELECT  adobe_tracking_id\n",
    "                ,report_date\n",
    "            FROM `nbcu-ds-prod-001.PeacockDataMartSilver.SILVER_USER`\n",
    "            WHERE paying_account_flag = 'NonPaying'\n",
    "            AND report_date BETWEEN @report_start_date AND @report_end_date \n",
    "        )\n",
    "        WHERE adobe_tracking_id NOT IN ( SELECT distinct adobe_tracking_id FROM `nbcu-ds-sandbox-a-001.SLi_sandbox.upgrade_never` WHERE report_date BETWEEN @report_start_date AND @report_end_date) \n",
    "    )\n",
    "    , Paid_Winbacks_Num AS (\n",
    "        SELECT  distinct adobe_tracking_id\n",
    "        FROM `nbcu-ds-sandbox-a-001.SLi_sandbox.upgrade_date_rank`\n",
    "        WHERE (upgrade_row_number > 1)\n",
    "        AND (report_date BETWEEN @report_start_date AND @report_end_date) \n",
    "    )\n",
    "    , EOM_Paid_Churn_Denom AS  (\n",
    "        SELECT  distinct adobe_tracking_id\n",
    "        FROM `nbcu-ds-prod-001.PeacockDataMartSilver.SILVER_CHURN`\n",
    "        WHERE (base_date = @report_end_date)\n",
    "        AND (entitlement = 'Paid')\n",
    "    )\n",
    "    , EOM_Paid_Churn_Num AS  (\n",
    "        SELECT  distinct adobe_tracking_id\n",
    "        FROM `nbcu-ds-prod-001.PeacockDataMartSilver.SILVER_CHURN`\n",
    "        WHERE (base_date = @report_end_date)\n",
    "        AND (entitlement = 'Paid')\n",
    "        AND (Churn_flag = 'Churn')\n",
    "    )\n",
    "    SELECT  @report_start_date                                                               AS Report_Month\n",
    "        ,a.aid\n",
    "        ,a.cohort\n",
    "        ,a.account_type\n",
    "        ,a.primary_device\n",
    "        ,a.account_tenure\n",
    "        ,a.tenure_paid_lens\n",
    "        ,a.billing_platform_category\n",
    "        ,a.bundling_partner\n",
    "        ,a.billing_cycle_category\n",
    "        ,a.offer\n",
    "\n",
    "        ,CASE WHEN video.adobe_tracking_id IS NOT NULL THEN 1  ELSE 0 END                 AS Viewer\n",
    "        ,video.Viewing_Time\n",
    "        ,video.Repertoire_Pavo_Method\n",
    "        ,video.Distinct_Viewing_Sessions\n",
    "        ,CASE WHEN Lapsed_Save_Denom.adobe_tracking_id IS NOT NULL THEN 1  ELSE 0 END     AS Lapsed_Save_Denom\n",
    "        ,CASE WHEN Lapsed_Save_Num.adobe_tracking_id IS NOT NULL THEN 1  ELSE 0 END       AS Lapsed_Save_Num\n",
    "        ,CASE WHEN Lapsing_Save_Denom.adobe_tracking_id IS NOT NULL THEN 1  ELSE 0 END    AS Lapsing_Save_Denom\n",
    "        ,CASE WHEN Lapsing_Save_Num.adobe_tracking_id IS NOT NULL THEN 1  ELSE 0 END      AS Lapsing_Save_Num\n",
    "        ,CASE WHEN Upgrade_Denom.adobe_tracking_id IS NOT NULL THEN 1  ELSE 0 END         AS Upgrade_Denom\n",
    "        ,CASE WHEN Upgrade_Num.adobe_tracking_id IS NOT NULL THEN 1  ELSE 0 END           AS Upgrade_Num\n",
    "        ,CASE WHEN Net_New_Upgrade_Denom.adobe_tracking_id IS NOT NULL THEN 1  ELSE 0 END AS Net_New_Upgrade_Denom\n",
    "        ,CASE WHEN Net_New_Upgrade_Num.adobe_tracking_id IS NOT NULL THEN 1  ELSE 0 END   AS Net_New_Upgrade_Num\n",
    "        ,CASE WHEN Paid_Winbacks_Denom.adobe_tracking_id IS NOT NULL THEN 1  ELSE 0 END   AS Paid_Winbacks_Denom\n",
    "        ,CASE WHEN Paid_Winbacks_Num.adobe_tracking_id IS NOT NULL THEN 1  ELSE 0 END     AS Paid_Winbacks_Num\n",
    "        ,CASE WHEN Cancel_Save_Denom.adobe_tracking_id IS NOT NULL THEN 1  ELSE 0 END     AS Cancel_Save_Denom\n",
    "        ,CASE WHEN Cancel_Save_Num.adobe_tracking_id IS NOT NULL THEN 1  ELSE 0 END       AS Cancel_Save_Num\n",
    "        ,CASE WHEN EOM_Paid_Churn_Denom.adobe_tracking_id IS NOT NULL THEN 1  ELSE 0 END  AS EOM_Paid_Churn_Denom\n",
    "        ,CASE WHEN EOM_Paid_Churn_Num.adobe_tracking_id IS NOT NULL THEN 1  ELSE 0 END    AS EOM_Paid_Churn_Num\n",
    "    FROM `nbcu-ds-sandbox-a-001.SLi_sandbox.Push_Measurement_Audience_v4_Jan23` a\n",
    "    LEFT JOIN `nbcu-ds-sandbox-a-001.SLi_sandbox.Push_Video_Viewing_v4_Jan23` video\n",
    "    ON a.aid = video.adobe_tracking_id\n",
    "    LEFT JOIN Lapsed_Save_Denom\n",
    "    ON a.aid = Lapsed_Save_Denom.adobe_tracking_id\n",
    "    LEFT JOIN Lapsed_Save_Num\n",
    "    ON Lapsed_Save_Denom.adobe_tracking_id = Lapsed_Save_Num.adobe_tracking_id\n",
    "    LEFT JOIN Lapsing_Save_Denom\n",
    "    ON a.aid = Lapsing_Save_Denom.adobe_tracking_id\n",
    "    LEFT JOIN Lapsing_Save_Num\n",
    "    ON Lapsing_Save_Denom.adobe_tracking_id = Lapsing_Save_Num.adobe_tracking_id\n",
    "    LEFT JOIN Upgrade_Denom\n",
    "    ON a.aid = Upgrade_Denom.adobe_tracking_id\n",
    "    LEFT JOIN Upgrade_Num\n",
    "    ON Upgrade_Denom.adobe_tracking_id = Upgrade_Num.adobe_tracking_id\n",
    "    LEFT JOIN Net_New_Upgrade_Denom\n",
    "    ON a.aid = Net_New_Upgrade_Denom.adobe_tracking_id\n",
    "    LEFT JOIN Net_New_Upgrade_Num\n",
    "    ON Net_New_Upgrade_Denom.adobe_tracking_id = Net_New_Upgrade_Num.adobe_tracking_id\n",
    "    LEFT JOIN Paid_Winbacks_Denom\n",
    "    ON a.aid = Paid_Winbacks_Denom.adobe_tracking_id\n",
    "    LEFT JOIN Paid_Winbacks_Num\n",
    "    ON Paid_Winbacks_Num.adobe_tracking_id = Paid_Winbacks_Denom.adobe_tracking_id\n",
    "    LEFT JOIN Cancel_Save_Denom\n",
    "    ON a.aid = Cancel_Save_Denom.adobe_tracking_id\n",
    "    LEFT JOIN Cancel_Save_Num\n",
    "    ON Cancel_Save_Denom.adobe_tracking_id = Cancel_Save_Num.adobe_tracking_id\n",
    "    LEFT JOIN EOM_Paid_Churn_Denom\n",
    "    ON a.aid = EOM_Paid_Churn_Denom.adobe_tracking_id\n",
    "    LEFT JOIN EOM_Paid_Churn_Num\n",
    "    ON EOM_Paid_Churn_Denom.adobe_tracking_id = EOM_Paid_Churn_Num.adobe_tracking_id \n",
    "\n",
    ")"
   ]
  },
  {
   "cell_type": "markdown",
   "metadata": {},
   "source": [
    "# Analysis"
   ]
  },
  {
   "cell_type": "code",
   "execution_count": 34,
   "metadata": {
    "vscode": {
     "languageId": "sql"
    }
   },
   "outputs": [
    {
     "data": {
      "application/vnd.jupyter.widget-view+json": {
       "model_id": "22655aa83fe5436ca89ab08b16d285d8",
       "version_major": 2,
       "version_minor": 0
      },
      "text/plain": [
       "Query is running:   0%|          |"
      ]
     },
     "metadata": {},
     "output_type": "display_data"
    },
    {
     "data": {
      "application/vnd.jupyter.widget-view+json": {
       "model_id": "c5859f06a71e4696b0c3827bbaafe18d",
       "version_major": 2,
       "version_minor": 0
      },
      "text/plain": [
       "Downloading:   0%|          |"
      ]
     },
     "metadata": {},
     "output_type": "display_data"
    }
   ],
   "source": [
    "%%bigquery df_total --project nbcu-ds-sandbox-a-001 --params $params\n",
    "WITH CTE_1 AS\n",
    "(\n",
    "\tSELECT  @report_start_date                                                     AS Report_Month \n",
    "\t\t\t--, Account_Type\n",
    "\t       ,COUNT(distinct CASE WHEN cohort = 'Targeted' THEN aid END )            AS Distinct_Cohort_Size_Targeted\n",
    "\t       ,COUNT(distinct CASE WHEN cohort = 'Holdout' THEN aid END)              AS Distinct_Cohort_Size_Holdout\n",
    "\n",
    "\t       ,SUM(CASE WHEN cohort = 'Targeted' THEN viewer END )                    AS Total_Returns_Targeted\n",
    "\t       ,SUM(CASE WHEN cohort = 'Holdout' THEN viewer END)                      AS Total_Returns_Holdout\n",
    "\n",
    "\t       ,SUM(CASE WHEN cohort = 'Targeted' THEN Viewing_Time END )              AS Total_Usage_Targeted\n",
    "\t       ,SUM(CASE WHEN cohort = 'Holdout' THEN Viewing_Time END)                AS Total_Usage_Holdout\n",
    "\n",
    "\t       ,SUM(CASE WHEN cohort = 'Targeted' THEN Repertoire_Pavo_Method END )    AS Total_Repertoire_Targeted\n",
    "\t       ,SUM(CASE WHEN cohort = 'Holdout' THEN Repertoire_Pavo_Method END)      AS Total_Repertoire_Holdout\n",
    "\n",
    "\t       ,SUM(CASE WHEN cohort = 'Targeted' THEN Distinct_Viewing_Sessions END ) AS Total_Viewing_Sessions_Targeted\n",
    "\t       ,SUM(CASE WHEN cohort = 'Holdout' THEN Distinct_Viewing_Sessions END)   AS Total_Viewing_Sessions_Holdout\n",
    "\n",
    "\t       ,SUM(CASE WHEN cohort = 'Targeted' THEN Lapsed_Save_Denom END )         AS Lapsed_Save_Denom_Targeted\n",
    "\t       ,SUM(CASE WHEN cohort = 'Targeted' THEN Lapsed_Save_Num END)            AS Lapsed_Save_Num_Targeted\n",
    "\t       ,SUM(CASE WHEN cohort = 'Holdout' THEN Lapsed_Save_Denom END )          AS Lapsed_Save_Denom_Holdout\n",
    "\t       ,SUM(CASE WHEN cohort = 'Holdout' THEN Lapsed_Save_Num END)             AS Lapsed_Save_Num_Holdout\n",
    "\n",
    "\t       ,SUM(CASE WHEN cohort = 'Targeted' THEN Lapsing_Save_Denom END )        AS Lapsing_Save_Denom_Targeted\n",
    "\t       ,SUM(CASE WHEN cohort = 'Targeted' THEN Lapsing_Save_Num END)           AS Lapsing_Save_Num_Targeted\n",
    "\t       ,SUM(CASE WHEN cohort = 'Holdout' THEN Lapsing_Save_Denom END )         AS Lapsing_Save_Denom_Holdout\n",
    "\t       ,SUM(CASE WHEN cohort = 'Holdout' THEN Lapsing_Save_Num END)            AS Lapsing_Save_Num_Holdout\n",
    "\n",
    "\t       ,SUM(CASE WHEN cohort = 'Targeted' THEN Upgrade_Denom END )             AS Upgrades_Denom_Targeted\n",
    "\t       ,SUM(CASE WHEN cohort = 'Targeted' THEN Upgrade_Num END)                AS Upgrades_Num_Targeted\n",
    "\t       ,SUM(CASE WHEN cohort = 'Holdout' THEN Upgrade_Denom END )              AS Upgrades_Denom_Holdout\n",
    "\t       ,SUM(CASE WHEN cohort = 'Holdout' THEN Upgrade_Num END)                 AS Upgrades_Num_Holdout\n",
    "\n",
    "\t       ,SUM(CASE WHEN cohort = 'Targeted' THEN Net_New_Upgrade_Denom END )     AS Total_Net_New_Upgrade_Denom_Targeted\n",
    "\t       ,SUM(CASE WHEN cohort = 'Targeted' THEN Net_New_Upgrade_Num END)        AS Total_Net_New_Upgrade_Num_Targeted\n",
    "\t       ,SUM(CASE WHEN cohort = 'Holdout' THEN Net_New_Upgrade_Denom END )      AS Total_Net_New_Upgrade_Denom_Holdout\n",
    "\t       ,SUM(CASE WHEN cohort = 'Holdout' THEN Net_New_Upgrade_Num END)         AS Total_Net_New_Upgrade_Num_Holdout\n",
    "\n",
    "\t       ,SUM(CASE WHEN cohort = 'Targeted' THEN Paid_Winbacks_Denom END )       AS Total_Paid_Winbacks_Denom_Targeted\n",
    "\t       ,SUM(CASE WHEN cohort = 'Targeted' THEN Paid_Winbacks_Num END)          AS Total_Paid_Winbacks_Num_Targeted\n",
    "\t       ,SUM(CASE WHEN cohort = 'Holdout' THEN Paid_Winbacks_Denom END )        AS Total_Paid_Winbacks_Denom_Holdout\n",
    "\t       ,SUM(CASE WHEN cohort = 'Holdout' THEN Paid_Winbacks_Num END)           AS Total_Paid_Winbacks_Num_Holdout\n",
    "\n",
    "\t       ,SUM(CASE WHEN cohort = 'Targeted' THEN Cancel_Save_Denom END )         AS Total_Cancel_Save_Denom_Targeted\n",
    "\t       ,SUM(CASE WHEN cohort = 'Targeted' THEN Cancel_Save_Num END)            AS Total_Cancel_Save_Num_Targeted\n",
    "\t       ,SUM(CASE WHEN cohort = 'Holdout' THEN Cancel_Save_Denom END )          AS Total_Cancel_Save_Denom_Holdout\n",
    "\t       ,SUM(CASE WHEN cohort = 'Holdout' THEN Cancel_Save_Num END)             AS Total_Cancel_Save_Num_Holdout\n",
    "\n",
    "\t       ,SUM(CASE WHEN cohort = 'Targeted' THEN EOM_Paid_Churn_Denom END )      AS EOM_Paid_Churn_Denom_Targeted\n",
    "\t       ,SUM(CASE WHEN cohort = 'Targeted' THEN EOM_Paid_Churn_Num END)         AS EOM_Paid_Churn_Num_Targeted\n",
    "\t       ,SUM(CASE WHEN cohort = 'Holdout' THEN EOM_Paid_Churn_Denom END )       AS EOM_Paid_Churn_Denom_Holdout\n",
    "\t       ,SUM(CASE WHEN cohort = 'Holdout' THEN EOM_Paid_Churn_Num END)          AS EOM_Paid_Churn_Num_Holdout\n",
    "\tFROM `nbcu-ds-sandbox-a-001.SLi_sandbox.Push_KPI_Base_v4_Jan23`\n",
    "\tGROUP BY  1 --, 2\n",
    "), CTE_2 AS\n",
    "(\n",
    "\tSELECT  Report_Month \n",
    "\t\t\t--, Account_Type\n",
    "\t       ,Distinct_Cohort_Size_Targeted                                                        AS Total_Targeted\n",
    "\t       ,Distinct_Cohort_Size_Holdout                                                         AS Total_Holdout\n",
    "\n",
    "\t       ,safe_divide(Total_Returns_Targeted,Distinct_Cohort_Size_Targeted)                    AS Return_Rate_Engagers\n",
    "\t       ,safe_divide(Total_Returns_Holdout,Distinct_Cohort_Size_Holdout)                      AS Return_Rate_Holdout\n",
    "\n",
    "\t       ,safe_divide(Total_Usage_Targeted,Distinct_Cohort_Size_Targeted)                      AS Usage_Engagers\n",
    "\t       ,safe_divide(Total_Usage_Holdout,Distinct_Cohort_Size_Holdout)                        AS Usage_Holdout\n",
    "\n",
    "\t       ,safe_divide(Total_Repertoire_Targeted,Distinct_Cohort_Size_Targeted)                 AS Repertoire_Engagers\n",
    "\t       ,safe_divide(Total_Repertoire_Holdout,Distinct_Cohort_Size_Holdout)                   AS Repertoire_Holdout\n",
    "\n",
    "\t       ,safe_divide(Total_Viewing_Sessions_Targeted,Distinct_Cohort_Size_Targeted)           AS Sessions_Engagers\n",
    "\t       ,safe_divide(Total_Viewing_Sessions_Holdout,Distinct_Cohort_Size_Holdout)             AS Sessions_Holdout\n",
    "\n",
    "\t       ,Lapsed_Save_Denom_Targeted\n",
    "\t       ,safe_divide(Lapsed_Save_Num_Targeted,Lapsed_Save_Denom_Targeted)                     AS Lapsed_Save_Rate_Engagers\n",
    "\t       ,safe_divide(Lapsed_Save_Num_Holdout,Lapsed_Save_Denom_Holdout)                       AS Lapsed_Save_Rate_Holdout\n",
    "\n",
    "\t       ,Lapsing_Save_Denom_Targeted\n",
    "\t       ,safe_divide(Lapsing_Save_Num_Targeted,Lapsing_Save_Denom_Targeted)                   AS Lapsing_Save_Rate_Engagers\n",
    "\t       ,safe_divide(Lapsing_Save_Num_Holdout,Lapsing_Save_Denom_Holdout)                     AS Lapsing_Save_Rate_Holdout\n",
    "\n",
    "\t       ,Upgrades_Denom_Targeted\n",
    "\t       ,safe_divide(Upgrades_Num_Targeted,Upgrades_Denom_Targeted)                           AS Upgrade_Rate_Engagers\n",
    "\t       ,safe_divide(Upgrades_Num_Holdout,Upgrades_Denom_Holdout)                             AS Upgrade_Rate_Holdout\n",
    "\n",
    "\t       ,Total_Net_New_Upgrade_Denom_Targeted\n",
    "\t       ,safe_divide(Total_Net_New_Upgrade_Num_Targeted,Total_Net_New_Upgrade_Denom_Targeted) AS Net_New_Upgrade_Rate_Engagers\n",
    "\t       ,safe_divide(Total_Net_New_Upgrade_Num_Holdout,Total_Net_New_Upgrade_Denom_Holdout)   AS Net_New_Upgrade_Rate_Holdout\n",
    "\n",
    "\t       ,Total_Paid_Winbacks_Denom_Targeted\n",
    "\t       ,safe_divide(Total_Paid_Winbacks_Num_Targeted,Total_Paid_Winbacks_Denom_Targeted)     AS Paid_Winback_Rate_Engagers\n",
    "\t       ,safe_divide(Total_Paid_Winbacks_Num_Holdout,Total_Paid_Winbacks_Denom_Holdout)       AS Paid_Winback_Rate_Holdout\n",
    "\n",
    "\t       ,Total_Cancel_Save_Denom_Targeted\n",
    "\t       ,safe_divide(Total_Cancel_Save_Num_Targeted,Total_Cancel_Save_Denom_Targeted)         AS Cancel_Save_Rate_Engagers\n",
    "\t       ,safe_divide(Total_Cancel_Save_Num_Holdout,Total_Cancel_Save_Denom_Holdout)           AS Cancel_Save_Rate_Holdout\n",
    "\n",
    "\t       ,EOM_Paid_Churn_Denom_Targeted\n",
    "\t       ,safe_divide(EOM_Paid_Churn_Num_Targeted,EOM_Paid_Churn_Denom_Targeted)               AS Paid_Churn_Rate_Engagers\n",
    "\t       ,safe_divide(EOM_Paid_Churn_Num_Holdout,EOM_Paid_Churn_Denom_Holdout)                 AS Paid_Churn_Rate_Holdout\n",
    "\tFROM CTE_1\n",
    ")\n",
    "SELECT  Report_Month\n",
    "\t\t--, Account_Type\n",
    "       ,Total_Targeted\n",
    "       ,Total_Holdout\n",
    "\t   \n",
    "       ,Return_Rate_Engagers                                                                                  AS Return_Rate_Engagers\n",
    "       ,Return_Rate_Holdout                                                                                   AS Return_Rate_Holdout\n",
    "       ,Return_Rate_Engagers - Return_Rate_Holdout                                                            AS Return_Rate_Lift_PTS\n",
    "       ,safe_divide(Return_Rate_Engagers,Return_Rate_Holdout) *100                                            AS Return_Rate_Lift_Index\n",
    "       ,(Return_Rate_Engagers - Return_Rate_Holdout) * Total_Targeted                                         AS Returns_Incrementals\n",
    "\n",
    "       ,Usage_Engagers                                                                                        AS Usage_Engagers\n",
    "       ,Usage_Holdout                                                                                         AS Usage_Holdout\n",
    "       ,Usage_Engagers - Usage_Holdout                                                                        AS Usage_Lift_PTS\n",
    "       ,safe_divide(Usage_Engagers,Usage_Holdout) *100                                                        AS Usage_Lift_Index\n",
    "       ,(Usage_Engagers - Usage_Holdout) * Total_Targeted                                                     AS Usage_Incrementals\n",
    "\n",
    "       ,Repertoire_Engagers                                                                                   AS Repertoire_Engagers\n",
    "       ,Repertoire_Holdout                                                                                    AS Repertoire_Holdout\n",
    "       ,Repertoire_Engagers - Repertoire_Holdout                                                              AS Repertoire_Lift_PTS\n",
    "       ,safe_divide(Repertoire_Engagers,Repertoire_Holdout) *100                                              AS Repertoire_Lift_Index\n",
    "       ,(Repertoire_Engagers - Repertoire_Holdout) * Total_Targeted                                           AS Repertoire_Incrementals\n",
    "\n",
    "       ,Sessions_Engagers                                                                                     AS Sessions_Engagers\n",
    "       ,Sessions_Holdout                                                                                      AS Sessions_Holdout\n",
    "       ,Sessions_Engagers - Sessions_Holdout                                                                  AS Sessions_Lift_PTS\n",
    "       ,safe_divide(Sessions_Engagers,Sessions_Holdout) *100                                                  AS Sessions_Lift_Index\n",
    "       ,(Sessions_Engagers - Sessions_Holdout) * Total_Targeted                                               AS Sessions_Incrementals\n",
    "\n",
    "       ,Lapsed_Save_Rate_Engagers                                                                             AS Lapsed_Save_Rate_Engagers\n",
    "       ,Lapsed_Save_Rate_Holdout                                                                              AS Lapsed_Save_Rate_Holdout\n",
    "       ,Lapsed_Save_Rate_Engagers - Lapsed_Save_Rate_Holdout                                                  AS Lapsed_Save_Rate_Lift_PTS\n",
    "       ,safe_divide(Lapsed_Save_Rate_Engagers,Lapsed_Save_Rate_Holdout) *100                                  AS Lapsed_Save_Rate_Lift_Index\n",
    "       ,(Lapsed_Save_Rate_Engagers - Lapsed_Save_Rate_Holdout) * Lapsed_Save_Denom_Targeted                   AS Lapsed_Save_Incrementals\n",
    "\n",
    "       ,Lapsing_Save_Rate_Engagers                                                                            AS Lapsing_Save_Rate_Engagers\n",
    "       ,Lapsing_Save_Rate_Holdout                                                                             AS Lapsing_Save_Rate_Holdout\n",
    "       ,Lapsing_Save_Rate_Engagers - Lapsing_Save_Rate_Holdout                                                AS Lapsing_Save_Rate_Lift_PTS\n",
    "       ,safe_divide(Lapsing_Save_Rate_Engagers,Lapsing_Save_Rate_Holdout) *100                                AS Lapsing_Save_Rate_Lift_Index\n",
    "       ,(Lapsing_Save_Rate_Engagers - Lapsing_Save_Rate_Holdout) * Lapsing_Save_Denom_Targeted                AS Lapsing_Save_Rate_Lift_Incrementals\n",
    "\n",
    "       ,Upgrade_Rate_Engagers                                                                                 AS Upgrade_Rate_Engagers\n",
    "       ,Upgrade_Rate_Holdout                                                                                  AS Upgrade_Rate_Holdout\n",
    "       ,Upgrade_Rate_Engagers - Upgrade_Rate_Holdout                                                          AS Upgrade_Rate_Lift_PTS\n",
    "       ,safe_divide(Upgrade_Rate_Engagers,Upgrade_Rate_Holdout) *100                                          AS Upgrade_Rate_Lift_Index\n",
    "       ,(Upgrade_Rate_Engagers - Upgrade_Rate_Holdout) * Upgrades_Denom_Targeted                              AS Upgrade_Incrementals\n",
    "\n",
    "       ,Net_New_Upgrade_Rate_Engagers                                                                         AS Net_New_Upgrade_Rate_Engagers\n",
    "       ,Net_New_Upgrade_Rate_Holdout                                                                          AS Net_New_Upgrade_Rate_Holdout\n",
    "       ,Net_New_Upgrade_Rate_Engagers - Net_New_Upgrade_Rate_Holdout                                          AS Net_New_Upgrade_Rate_Lift_PTS\n",
    "       ,safe_divide(Net_New_Upgrade_Rate_Engagers,Net_New_Upgrade_Rate_Holdout) *100                          AS Net_New_Upgrade_Rate_Lift_Index\n",
    "       ,(Net_New_Upgrade_Rate_Engagers - Net_New_Upgrade_Rate_Holdout) * Total_Net_New_Upgrade_Denom_Targeted AS Net_New_Upgrade_Incrementals\n",
    "\n",
    "       ,Paid_Winback_Rate_Engagers                                                                            AS Paid_Winback_Rate_Engagers\n",
    "       ,Paid_Winback_Rate_Holdout                                                                             AS Paid_Winback_Rate_Holdout\n",
    "       ,Paid_Winback_Rate_Engagers - Paid_Winback_Rate_Holdout                                                AS Paid_Winback_Rate_Lift_PTS\n",
    "       ,safe_divide(Paid_Winback_Rate_Engagers,Paid_Winback_Rate_Holdout) *100                                AS Paid_Winback_Rate_Lift_Index\n",
    "       ,(Paid_Winback_Rate_Engagers - Paid_Winback_Rate_Holdout) * Total_Paid_Winbacks_Denom_Targeted         AS Paid_Winback_Rate_Lift_Incrementals\n",
    "\n",
    "       ,Cancel_Save_Rate_Engagers                                                                             AS Cancel_Save_Rate_Engagers\n",
    "       ,Cancel_Save_Rate_Holdout                                                                              AS Cancel_Save_Rate_Holdout\n",
    "       ,Cancel_Save_Rate_Engagers - Cancel_Save_Rate_Holdout                                                  AS Cancel_Save_Rate_Lift_PTS\n",
    "       ,safe_divide(Cancel_Save_Rate_Engagers,Cancel_Save_Rate_Holdout) *100                                  AS Cancel_Save_Rate_Lift_Index\n",
    "       ,(Cancel_Save_Rate_Engagers - Cancel_Save_Rate_Holdout) * Total_Cancel_Save_Denom_Targeted             AS Cancel_Save_Rate_Incrementals\n",
    "\n",
    "       ,Paid_Churn_Rate_Engagers                                                                              AS EOM_Paid_Churn_Rate_Engagers\n",
    "       ,Paid_Churn_Rate_Holdout                                                                               AS EOM_Paid_Churn_Rate_Holdout\n",
    "       ,Paid_Churn_Rate_Engagers - Paid_Churn_Rate_Holdout                                                    AS EOM_Paid_Churn_Rate_Lift_PTS\n",
    "       ,safe_divide(Paid_Churn_Rate_Engagers,Paid_Churn_Rate_Holdout) *100                                    AS EOM_Paid_Churn_Rate_Lift_Index\n",
    "       ,(Paid_Churn_Rate_Engagers - Paid_Churn_Rate_Holdout) * EOM_Paid_Churn_Denom_Targeted                  AS EOM_Paid_Churn_Rate_Incrementals\n",
    "FROM CTE_2"
   ]
  },
  {
   "cell_type": "code",
   "execution_count": 35,
   "metadata": {
    "vscode": {
     "languageId": "sql"
    }
   },
   "outputs": [
    {
     "data": {
      "text/html": [
       "<div>\n",
       "<style scoped>\n",
       "    .dataframe tbody tr th:only-of-type {\n",
       "        vertical-align: middle;\n",
       "    }\n",
       "\n",
       "    .dataframe tbody tr th {\n",
       "        vertical-align: top;\n",
       "    }\n",
       "\n",
       "    .dataframe thead th {\n",
       "        text-align: right;\n",
       "    }\n",
       "</style>\n",
       "<table border=\"1\" class=\"dataframe\">\n",
       "  <thead>\n",
       "    <tr style=\"text-align: right;\">\n",
       "      <th></th>\n",
       "      <th>Report_Month</th>\n",
       "      <th>Total_Targeted</th>\n",
       "      <th>Total_Holdout</th>\n",
       "      <th>Return_Rate_Engagers</th>\n",
       "      <th>Return_Rate_Holdout</th>\n",
       "      <th>Return_Rate_Lift_PTS</th>\n",
       "      <th>Return_Rate_Lift_Index</th>\n",
       "      <th>Returns_Incrementals</th>\n",
       "      <th>Usage_Engagers</th>\n",
       "      <th>Usage_Holdout</th>\n",
       "      <th>...</th>\n",
       "      <th>Cancel_Save_Rate_Engagers</th>\n",
       "      <th>Cancel_Save_Rate_Holdout</th>\n",
       "      <th>Cancel_Save_Rate_Lift_PTS</th>\n",
       "      <th>Cancel_Save_Rate_Lift_Index</th>\n",
       "      <th>Cancel_Save_Rate_Incrementals</th>\n",
       "      <th>EOM_Paid_Churn_Rate_Engagers</th>\n",
       "      <th>EOM_Paid_Churn_Rate_Holdout</th>\n",
       "      <th>EOM_Paid_Churn_Rate_Lift_PTS</th>\n",
       "      <th>EOM_Paid_Churn_Rate_Lift_Index</th>\n",
       "      <th>EOM_Paid_Churn_Rate_Incrementals</th>\n",
       "    </tr>\n",
       "  </thead>\n",
       "  <tbody>\n",
       "    <tr>\n",
       "      <th>0</th>\n",
       "      <td>2023-01-01</td>\n",
       "      <td>11530643</td>\n",
       "      <td>480045</td>\n",
       "      <td>0.587864</td>\n",
       "      <td>0.585616</td>\n",
       "      <td>0.002248</td>\n",
       "      <td>100.383808</td>\n",
       "      <td>25916.754844</td>\n",
       "      <td>15.856018</td>\n",
       "      <td>15.406415</td>\n",
       "      <td>...</td>\n",
       "      <td>0.037939</td>\n",
       "      <td>0.03817</td>\n",
       "      <td>-0.000231</td>\n",
       "      <td>99.39498</td>\n",
       "      <td>-34.391716</td>\n",
       "      <td>0.059107</td>\n",
       "      <td>0.05883</td>\n",
       "      <td>0.000277</td>\n",
       "      <td>100.471178</td>\n",
       "      <td>1477.342647</td>\n",
       "    </tr>\n",
       "  </tbody>\n",
       "</table>\n",
       "<p>1 rows × 58 columns</p>\n",
       "</div>"
      ],
      "text/plain": [
       "  Report_Month  Total_Targeted  Total_Holdout  Return_Rate_Engagers  \\\n",
       "0   2023-01-01        11530643         480045              0.587864   \n",
       "\n",
       "   Return_Rate_Holdout  Return_Rate_Lift_PTS  Return_Rate_Lift_Index  \\\n",
       "0             0.585616              0.002248              100.383808   \n",
       "\n",
       "   Returns_Incrementals  Usage_Engagers  Usage_Holdout  ...  \\\n",
       "0          25916.754844       15.856018      15.406415  ...   \n",
       "\n",
       "   Cancel_Save_Rate_Engagers  Cancel_Save_Rate_Holdout  \\\n",
       "0                   0.037939                   0.03817   \n",
       "\n",
       "   Cancel_Save_Rate_Lift_PTS  Cancel_Save_Rate_Lift_Index  \\\n",
       "0                  -0.000231                     99.39498   \n",
       "\n",
       "   Cancel_Save_Rate_Incrementals  EOM_Paid_Churn_Rate_Engagers  \\\n",
       "0                     -34.391716                      0.059107   \n",
       "\n",
       "   EOM_Paid_Churn_Rate_Holdout  EOM_Paid_Churn_Rate_Lift_PTS  \\\n",
       "0                      0.05883                      0.000277   \n",
       "\n",
       "   EOM_Paid_Churn_Rate_Lift_Index  EOM_Paid_Churn_Rate_Incrementals  \n",
       "0                      100.471178                       1477.342647  \n",
       "\n",
       "[1 rows x 58 columns]"
      ]
     },
     "execution_count": 35,
     "metadata": {},
     "output_type": "execute_result"
    }
   ],
   "source": [
    "df_total"
   ]
  },
  {
   "cell_type": "code",
   "execution_count": 38,
   "metadata": {
    "vscode": {
     "languageId": "sql"
    }
   },
   "outputs": [
    {
     "data": {
      "application/vnd.jupyter.widget-view+json": {
       "model_id": "d7f7edce8661436c92e2a3f0673436f1",
       "version_major": 2,
       "version_minor": 0
      },
      "text/plain": [
       "Query is running:   0%|          |"
      ]
     },
     "metadata": {},
     "output_type": "display_data"
    },
    {
     "data": {
      "application/vnd.jupyter.widget-view+json": {
       "model_id": "c3759401d15a440bb5ec3692534fd584",
       "version_major": 2,
       "version_minor": 0
      },
      "text/plain": [
       "Downloading:   0%|          |"
      ]
     },
     "metadata": {},
     "output_type": "display_data"
    }
   ],
   "source": [
    "%%bigquery df_acc --project nbcu-ds-sandbox-a-001 --params $params\n",
    "WITH CTE_1 AS\n",
    "(\n",
    "\tSELECT  @report_start_date                                                     AS Report_Month\n",
    "\t\t\t,Account_Type\n",
    "\t       ,COUNT(distinct CASE WHEN cohort = 'Targeted' THEN aid END )            AS Distinct_Cohort_Size_Targeted\n",
    "\t       ,COUNT(distinct CASE WHEN cohort = 'Holdout' THEN aid END)              AS Distinct_Cohort_Size_Holdout\n",
    "\n",
    "\t       ,SUM(CASE WHEN cohort = 'Targeted' THEN viewer END )                    AS Total_Returns_Targeted\n",
    "\t       ,SUM(CASE WHEN cohort = 'Holdout' THEN viewer END)                      AS Total_Returns_Holdout\n",
    "\n",
    "\t       ,SUM(CASE WHEN cohort = 'Targeted' THEN Viewing_Time END )              AS Total_Usage_Targeted\n",
    "\t       ,SUM(CASE WHEN cohort = 'Holdout' THEN Viewing_Time END)                AS Total_Usage_Holdout\n",
    "\n",
    "\t       ,SUM(CASE WHEN cohort = 'Targeted' THEN Repertoire_Pavo_Method END )    AS Total_Repertoire_Targeted\n",
    "\t       ,SUM(CASE WHEN cohort = 'Holdout' THEN Repertoire_Pavo_Method END)      AS Total_Repertoire_Holdout\n",
    "\n",
    "\t       ,SUM(CASE WHEN cohort = 'Targeted' THEN Distinct_Viewing_Sessions END ) AS Total_Viewing_Sessions_Targeted\n",
    "\t       ,SUM(CASE WHEN cohort = 'Holdout' THEN Distinct_Viewing_Sessions END)   AS Total_Viewing_Sessions_Holdout\n",
    "\n",
    "\t       ,SUM(CASE WHEN cohort = 'Targeted' THEN Lapsed_Save_Denom END )         AS Lapsed_Save_Denom_Targeted\n",
    "\t       ,SUM(CASE WHEN cohort = 'Targeted' THEN Lapsed_Save_Num END)            AS Lapsed_Save_Num_Targeted\n",
    "\t       ,SUM(CASE WHEN cohort = 'Holdout' THEN Lapsed_Save_Denom END )          AS Lapsed_Save_Denom_Holdout\n",
    "\t       ,SUM(CASE WHEN cohort = 'Holdout' THEN Lapsed_Save_Num END)             AS Lapsed_Save_Num_Holdout\n",
    "\n",
    "\t       ,SUM(CASE WHEN cohort = 'Targeted' THEN Lapsing_Save_Denom END )        AS Lapsing_Save_Denom_Targeted\n",
    "\t       ,SUM(CASE WHEN cohort = 'Targeted' THEN Lapsing_Save_Num END)           AS Lapsing_Save_Num_Targeted\n",
    "\t       ,SUM(CASE WHEN cohort = 'Holdout' THEN Lapsing_Save_Denom END )         AS Lapsing_Save_Denom_Holdout\n",
    "\t       ,SUM(CASE WHEN cohort = 'Holdout' THEN Lapsing_Save_Num END)            AS Lapsing_Save_Num_Holdout\n",
    "\n",
    "\t       ,SUM(CASE WHEN cohort = 'Targeted' THEN Upgrade_Denom END )             AS Upgrades_Denom_Targeted\n",
    "\t       ,SUM(CASE WHEN cohort = 'Targeted' THEN Upgrade_Num END)                AS Upgrades_Num_Targeted\n",
    "\t       ,SUM(CASE WHEN cohort = 'Holdout' THEN Upgrade_Denom END )              AS Upgrades_Denom_Holdout\n",
    "\t       ,SUM(CASE WHEN cohort = 'Holdout' THEN Upgrade_Num END)                 AS Upgrades_Num_Holdout\n",
    "\n",
    "\t       ,SUM(CASE WHEN cohort = 'Targeted' THEN Net_New_Upgrade_Denom END )     AS Total_Net_New_Upgrade_Denom_Targeted\n",
    "\t       ,SUM(CASE WHEN cohort = 'Targeted' THEN Net_New_Upgrade_Num END)        AS Total_Net_New_Upgrade_Num_Targeted\n",
    "\t       ,SUM(CASE WHEN cohort = 'Holdout' THEN Net_New_Upgrade_Denom END )      AS Total_Net_New_Upgrade_Denom_Holdout\n",
    "\t       ,SUM(CASE WHEN cohort = 'Holdout' THEN Net_New_Upgrade_Num END)         AS Total_Net_New_Upgrade_Num_Holdout\n",
    "\n",
    "\t       ,SUM(CASE WHEN cohort = 'Targeted' THEN Paid_Winbacks_Denom END )       AS Total_Paid_Winbacks_Denom_Targeted\n",
    "\t       ,SUM(CASE WHEN cohort = 'Targeted' THEN Paid_Winbacks_Num END)          AS Total_Paid_Winbacks_Num_Targeted\n",
    "\t       ,SUM(CASE WHEN cohort = 'Holdout' THEN Paid_Winbacks_Denom END )        AS Total_Paid_Winbacks_Denom_Holdout\n",
    "\t       ,SUM(CASE WHEN cohort = 'Holdout' THEN Paid_Winbacks_Num END)           AS Total_Paid_Winbacks_Num_Holdout\n",
    "\n",
    "\t       ,SUM(CASE WHEN cohort = 'Targeted' THEN Cancel_Save_Denom END )         AS Total_Cancel_Save_Denom_Targeted\n",
    "\t       ,SUM(CASE WHEN cohort = 'Targeted' THEN Cancel_Save_Num END)            AS Total_Cancel_Save_Num_Targeted\n",
    "\t       ,SUM(CASE WHEN cohort = 'Holdout' THEN Cancel_Save_Denom END )          AS Total_Cancel_Save_Denom_Holdout\n",
    "\t       ,SUM(CASE WHEN cohort = 'Holdout' THEN Cancel_Save_Num END)             AS Total_Cancel_Save_Num_Holdout\n",
    "\n",
    "\t       ,SUM(CASE WHEN cohort = 'Targeted' THEN EOM_Paid_Churn_Denom END )      AS EOM_Paid_Churn_Denom_Targeted\n",
    "\t       ,SUM(CASE WHEN cohort = 'Targeted' THEN EOM_Paid_Churn_Num END)         AS EOM_Paid_Churn_Num_Targeted\n",
    "\t       ,SUM(CASE WHEN cohort = 'Holdout' THEN EOM_Paid_Churn_Denom END )       AS EOM_Paid_Churn_Denom_Holdout\n",
    "\t       ,SUM(CASE WHEN cohort = 'Holdout' THEN EOM_Paid_Churn_Num END)          AS EOM_Paid_Churn_Num_Holdout\n",
    "\tFROM `nbcu-ds-sandbox-a-001.SLi_sandbox.Push_KPI_Base_v4_Jan23`\n",
    "\tGROUP BY  1, 2\n",
    "), CTE_2 AS\n",
    "(\n",
    "\tSELECT  Report_Month\n",
    "\t\t\t,Account_Type\n",
    "\t       ,Distinct_Cohort_Size_Targeted                                                        AS Total_Targeted\n",
    "\t       ,Distinct_Cohort_Size_Holdout                                                         AS Total_Holdout\n",
    "\n",
    "\t       ,safe_divide(Total_Returns_Targeted,Distinct_Cohort_Size_Targeted)                    AS Return_Rate_Engagers\n",
    "\t       ,safe_divide(Total_Returns_Holdout,Distinct_Cohort_Size_Holdout)                      AS Return_Rate_Holdout\n",
    "\n",
    "\t       ,safe_divide(Total_Usage_Targeted,Distinct_Cohort_Size_Targeted)                      AS Usage_Engagers\n",
    "\t       ,safe_divide(Total_Usage_Holdout,Distinct_Cohort_Size_Holdout)                        AS Usage_Holdout\n",
    "\n",
    "\t       ,safe_divide(Total_Repertoire_Targeted,Distinct_Cohort_Size_Targeted)                 AS Repertoire_Engagers\n",
    "\t       ,safe_divide(Total_Repertoire_Holdout,Distinct_Cohort_Size_Holdout)                   AS Repertoire_Holdout\n",
    "\n",
    "\t       ,safe_divide(Total_Viewing_Sessions_Targeted,Distinct_Cohort_Size_Targeted)           AS Sessions_Engagers\n",
    "\t       ,safe_divide(Total_Viewing_Sessions_Holdout,Distinct_Cohort_Size_Holdout)             AS Sessions_Holdout\n",
    "\n",
    "\t       ,Lapsed_Save_Denom_Targeted\n",
    "\t       ,safe_divide(Lapsed_Save_Num_Targeted,Lapsed_Save_Denom_Targeted)                     AS Lapsed_Save_Rate_Engagers\n",
    "\t       ,safe_divide(Lapsed_Save_Num_Holdout,Lapsed_Save_Denom_Holdout)                       AS Lapsed_Save_Rate_Holdout\n",
    "\n",
    "\t       ,Lapsing_Save_Denom_Targeted\n",
    "\t       ,safe_divide(Lapsing_Save_Num_Targeted,Lapsing_Save_Denom_Targeted)                   AS Lapsing_Save_Rate_Engagers\n",
    "\t       ,safe_divide(Lapsing_Save_Num_Holdout,Lapsing_Save_Denom_Holdout)                     AS Lapsing_Save_Rate_Holdout\n",
    "\n",
    "\t       ,Upgrades_Denom_Targeted\n",
    "\t       ,safe_divide(Upgrades_Num_Targeted,Upgrades_Denom_Targeted)                           AS Upgrade_Rate_Engagers\n",
    "\t       ,safe_divide(Upgrades_Num_Holdout,Upgrades_Denom_Holdout)                             AS Upgrade_Rate_Holdout\n",
    "\n",
    "\t       ,Total_Net_New_Upgrade_Denom_Targeted\n",
    "\t       ,safe_divide(Total_Net_New_Upgrade_Num_Targeted,Total_Net_New_Upgrade_Denom_Targeted) AS Net_New_Upgrade_Rate_Engagers\n",
    "\t       ,safe_divide(Total_Net_New_Upgrade_Num_Holdout,Total_Net_New_Upgrade_Denom_Holdout)   AS Net_New_Upgrade_Rate_Holdout\n",
    "\n",
    "\t       ,Total_Paid_Winbacks_Denom_Targeted\n",
    "\t       ,safe_divide(Total_Paid_Winbacks_Num_Targeted,Total_Paid_Winbacks_Denom_Targeted)     AS Paid_Winback_Rate_Engagers\n",
    "\t       ,safe_divide(Total_Paid_Winbacks_Num_Holdout,Total_Paid_Winbacks_Denom_Holdout)       AS Paid_Winback_Rate_Holdout\n",
    "\n",
    "\t       ,Total_Cancel_Save_Denom_Targeted\n",
    "\t       ,safe_divide(Total_Cancel_Save_Num_Targeted,Total_Cancel_Save_Denom_Targeted)         AS Cancel_Save_Rate_Engagers\n",
    "\t       ,safe_divide(Total_Cancel_Save_Num_Holdout,Total_Cancel_Save_Denom_Holdout)           AS Cancel_Save_Rate_Holdout\n",
    "\n",
    "\t       ,EOM_Paid_Churn_Denom_Targeted\n",
    "\t       ,safe_divide(EOM_Paid_Churn_Num_Targeted,EOM_Paid_Churn_Denom_Targeted)               AS Paid_Churn_Rate_Engagers\n",
    "\t       ,safe_divide(EOM_Paid_Churn_Num_Holdout,EOM_Paid_Churn_Denom_Holdout)                 AS Paid_Churn_Rate_Holdout\n",
    "\tFROM CTE_1\n",
    ")\n",
    "SELECT  Report_Month\n",
    "\t\t,Account_Type\n",
    "       ,Total_Targeted\n",
    "       ,Total_Holdout\n",
    "\t   \n",
    "       ,Return_Rate_Engagers                                                                                  AS Return_Rate_Engagers\n",
    "       ,Return_Rate_Holdout                                                                                   AS Return_Rate_Holdout\n",
    "       ,Return_Rate_Engagers - Return_Rate_Holdout                                                            AS Return_Rate_Lift_PTS\n",
    "       ,safe_divide(Return_Rate_Engagers,Return_Rate_Holdout) *100                                            AS Return_Rate_Lift_Index\n",
    "       ,(Return_Rate_Engagers - Return_Rate_Holdout) * Total_Targeted                                         AS Returns_Incrementals\n",
    "\n",
    "       ,Usage_Engagers                                                                                        AS Usage_Engagers\n",
    "       ,Usage_Holdout                                                                                         AS Usage_Holdout\n",
    "       ,Usage_Engagers - Usage_Holdout                                                                        AS Usage_Lift_PTS\n",
    "       ,safe_divide(Usage_Engagers,Usage_Holdout) *100                                                        AS Usage_Lift_Index\n",
    "       ,(Usage_Engagers - Usage_Holdout) * Total_Targeted                                                     AS Usage_Incrementals\n",
    "\n",
    "       ,Repertoire_Engagers                                                                                   AS Repertoire_Engagers\n",
    "       ,Repertoire_Holdout                                                                                    AS Repertoire_Holdout\n",
    "       ,Repertoire_Engagers - Repertoire_Holdout                                                              AS Repertoire_Lift_PTS\n",
    "       ,safe_divide(Repertoire_Engagers,Repertoire_Holdout) *100                                              AS Repertoire_Lift_Index\n",
    "       ,(Repertoire_Engagers - Repertoire_Holdout) * Total_Targeted                                           AS Repertoire_Incrementals\n",
    "\n",
    "       ,Sessions_Engagers                                                                                     AS Sessions_Engagers\n",
    "       ,Sessions_Holdout                                                                                      AS Sessions_Holdout\n",
    "       ,Sessions_Engagers - Sessions_Holdout                                                                  AS Sessions_Lift_PTS\n",
    "       ,safe_divide(Sessions_Engagers,Sessions_Holdout) *100                                                  AS Sessions_Lift_Index\n",
    "       ,(Sessions_Engagers - Sessions_Holdout) * Total_Targeted                                               AS Sessions_Incrementals\n",
    "\n",
    "       ,Lapsed_Save_Rate_Engagers                                                                             AS Lapsed_Save_Rate_Engagers\n",
    "       ,Lapsed_Save_Rate_Holdout                                                                              AS Lapsed_Save_Rate_Holdout\n",
    "       ,Lapsed_Save_Rate_Engagers - Lapsed_Save_Rate_Holdout                                                  AS Lapsed_Save_Rate_Lift_PTS\n",
    "       ,safe_divide(Lapsed_Save_Rate_Engagers,Lapsed_Save_Rate_Holdout) *100                                  AS Lapsed_Save_Rate_Lift_Index\n",
    "       ,(Lapsed_Save_Rate_Engagers - Lapsed_Save_Rate_Holdout) * Lapsed_Save_Denom_Targeted                   AS Lapsed_Save_Incrementals\n",
    "\n",
    "       ,Lapsing_Save_Rate_Engagers                                                                            AS Lapsing_Save_Rate_Engagers\n",
    "       ,Lapsing_Save_Rate_Holdout                                                                             AS Lapsing_Save_Rate_Holdout\n",
    "       ,Lapsing_Save_Rate_Engagers - Lapsing_Save_Rate_Holdout                                                AS Lapsing_Save_Rate_Lift_PTS\n",
    "       ,safe_divide(Lapsing_Save_Rate_Engagers,Lapsing_Save_Rate_Holdout) *100                                AS Lapsing_Save_Rate_Lift_Index\n",
    "       ,(Lapsing_Save_Rate_Engagers - Lapsing_Save_Rate_Holdout) * Lapsing_Save_Denom_Targeted                AS Lapsing_Save_Rate_Lift_Incrementals\n",
    "\n",
    "       ,Upgrade_Rate_Engagers                                                                                 AS Upgrade_Rate_Engagers\n",
    "       ,Upgrade_Rate_Holdout                                                                                  AS Upgrade_Rate_Holdout\n",
    "       ,Upgrade_Rate_Engagers - Upgrade_Rate_Holdout                                                          AS Upgrade_Rate_Lift_PTS\n",
    "       ,safe_divide(Upgrade_Rate_Engagers,Upgrade_Rate_Holdout) *100                                          AS Upgrade_Rate_Lift_Index\n",
    "       ,(Upgrade_Rate_Engagers - Upgrade_Rate_Holdout) * Upgrades_Denom_Targeted                              AS Upgrade_Incrementals\n",
    "\n",
    "       ,Net_New_Upgrade_Rate_Engagers                                                                         AS Net_New_Upgrade_Rate_Engagers\n",
    "       ,Net_New_Upgrade_Rate_Holdout                                                                          AS Net_New_Upgrade_Rate_Holdout\n",
    "       ,Net_New_Upgrade_Rate_Engagers - Net_New_Upgrade_Rate_Holdout                                          AS Net_New_Upgrade_Rate_Lift_PTS\n",
    "       ,safe_divide(Net_New_Upgrade_Rate_Engagers,Net_New_Upgrade_Rate_Holdout) *100                          AS Net_New_Upgrade_Rate_Lift_Index\n",
    "       ,(Net_New_Upgrade_Rate_Engagers - Net_New_Upgrade_Rate_Holdout) * Total_Net_New_Upgrade_Denom_Targeted AS Net_New_Upgrade_Incrementals\n",
    "\n",
    "       ,Paid_Winback_Rate_Engagers                                                                            AS Paid_Winback_Rate_Engagers\n",
    "       ,Paid_Winback_Rate_Holdout                                                                             AS Paid_Winback_Rate_Holdout\n",
    "       ,Paid_Winback_Rate_Engagers - Paid_Winback_Rate_Holdout                                                AS Paid_Winback_Rate_Lift_PTS\n",
    "       ,safe_divide(Paid_Winback_Rate_Engagers,Paid_Winback_Rate_Holdout) *100                                AS Paid_Winback_Rate_Lift_Index\n",
    "       ,(Paid_Winback_Rate_Engagers - Paid_Winback_Rate_Holdout) * Total_Paid_Winbacks_Denom_Targeted         AS Paid_Winback_Rate_Lift_Incrementals\n",
    "\n",
    "       ,Cancel_Save_Rate_Engagers                                                                             AS Cancel_Save_Rate_Engagers\n",
    "       ,Cancel_Save_Rate_Holdout                                                                              AS Cancel_Save_Rate_Holdout\n",
    "       ,Cancel_Save_Rate_Engagers - Cancel_Save_Rate_Holdout                                                  AS Cancel_Save_Rate_Lift_PTS\n",
    "       ,safe_divide(Cancel_Save_Rate_Engagers,Cancel_Save_Rate_Holdout) *100                                  AS Cancel_Save_Rate_Lift_Index\n",
    "       ,(Cancel_Save_Rate_Engagers - Cancel_Save_Rate_Holdout) * Total_Cancel_Save_Denom_Targeted             AS Cancel_Save_Rate_Incrementals\n",
    "\n",
    "       ,Paid_Churn_Rate_Engagers                                                                              AS EOM_Paid_Churn_Rate_Engagers\n",
    "       ,Paid_Churn_Rate_Holdout                                                                               AS EOM_Paid_Churn_Rate_Holdout\n",
    "       ,Paid_Churn_Rate_Engagers - Paid_Churn_Rate_Holdout                                                    AS EOM_Paid_Churn_Rate_Lift_PTS\n",
    "       ,safe_divide(Paid_Churn_Rate_Engagers,Paid_Churn_Rate_Holdout) *100                                    AS EOM_Paid_Churn_Rate_Lift_Index\n",
    "       ,(Paid_Churn_Rate_Engagers - Paid_Churn_Rate_Holdout) * EOM_Paid_Churn_Denom_Targeted                  AS EOM_Paid_Churn_Rate_Incrementals\n",
    "FROM CTE_2"
   ]
  },
  {
   "cell_type": "code",
   "execution_count": 39,
   "metadata": {
    "vscode": {
     "languageId": "sql"
    }
   },
   "outputs": [
    {
     "data": {
      "text/html": [
       "<div>\n",
       "<style scoped>\n",
       "    .dataframe tbody tr th:only-of-type {\n",
       "        vertical-align: middle;\n",
       "    }\n",
       "\n",
       "    .dataframe tbody tr th {\n",
       "        vertical-align: top;\n",
       "    }\n",
       "\n",
       "    .dataframe thead th {\n",
       "        text-align: right;\n",
       "    }\n",
       "</style>\n",
       "<table border=\"1\" class=\"dataframe\">\n",
       "  <thead>\n",
       "    <tr style=\"text-align: right;\">\n",
       "      <th></th>\n",
       "      <th>Report_Month</th>\n",
       "      <th>Account_Type</th>\n",
       "      <th>Total_Targeted</th>\n",
       "      <th>Total_Holdout</th>\n",
       "      <th>Return_Rate_Engagers</th>\n",
       "      <th>Return_Rate_Holdout</th>\n",
       "      <th>Return_Rate_Lift_PTS</th>\n",
       "      <th>Return_Rate_Lift_Index</th>\n",
       "      <th>Returns_Incrementals</th>\n",
       "      <th>Usage_Engagers</th>\n",
       "      <th>...</th>\n",
       "      <th>Cancel_Save_Rate_Engagers</th>\n",
       "      <th>Cancel_Save_Rate_Holdout</th>\n",
       "      <th>Cancel_Save_Rate_Lift_PTS</th>\n",
       "      <th>Cancel_Save_Rate_Lift_Index</th>\n",
       "      <th>Cancel_Save_Rate_Incrementals</th>\n",
       "      <th>EOM_Paid_Churn_Rate_Engagers</th>\n",
       "      <th>EOM_Paid_Churn_Rate_Holdout</th>\n",
       "      <th>EOM_Paid_Churn_Rate_Lift_PTS</th>\n",
       "      <th>EOM_Paid_Churn_Rate_Lift_Index</th>\n",
       "      <th>EOM_Paid_Churn_Rate_Incrementals</th>\n",
       "    </tr>\n",
       "  </thead>\n",
       "  <tbody>\n",
       "    <tr>\n",
       "      <th>1</th>\n",
       "      <td>2023-01-01</td>\n",
       "      <td>Bundled Premium</td>\n",
       "      <td>1252304</td>\n",
       "      <td>53652</td>\n",
       "      <td>0.810483</td>\n",
       "      <td>0.802188</td>\n",
       "      <td>0.008295</td>\n",
       "      <td>101.034015</td>\n",
       "      <td>10387.538880</td>\n",
       "      <td>19.852535</td>\n",
       "      <td>...</td>\n",
       "      <td>0.013139</td>\n",
       "      <td>0.013333</td>\n",
       "      <td>-0.000195</td>\n",
       "      <td>98.540146</td>\n",
       "      <td>-0.400000</td>\n",
       "      <td>NaN</td>\n",
       "      <td>NaN</td>\n",
       "      <td>NaN</td>\n",
       "      <td>NaN</td>\n",
       "      <td>NaN</td>\n",
       "    </tr>\n",
       "    <tr>\n",
       "      <th>2</th>\n",
       "      <td>2023-01-01</td>\n",
       "      <td>Free</td>\n",
       "      <td>4948718</td>\n",
       "      <td>205860</td>\n",
       "      <td>0.206213</td>\n",
       "      <td>0.208025</td>\n",
       "      <td>-0.001812</td>\n",
       "      <td>99.129014</td>\n",
       "      <td>-8966.424910</td>\n",
       "      <td>1.045513</td>\n",
       "      <td>...</td>\n",
       "      <td>0.000755</td>\n",
       "      <td>0.001812</td>\n",
       "      <td>-0.001057</td>\n",
       "      <td>41.662546</td>\n",
       "      <td>-81.213768</td>\n",
       "      <td>NaN</td>\n",
       "      <td>NaN</td>\n",
       "      <td>NaN</td>\n",
       "      <td>NaN</td>\n",
       "      <td>NaN</td>\n",
       "    </tr>\n",
       "    <tr>\n",
       "      <th>0</th>\n",
       "      <td>2023-01-01</td>\n",
       "      <td>Paying SVOD</td>\n",
       "      <td>5329621</td>\n",
       "      <td>220533</td>\n",
       "      <td>0.889929</td>\n",
       "      <td>0.885396</td>\n",
       "      <td>0.004533</td>\n",
       "      <td>100.511987</td>\n",
       "      <td>24159.756739</td>\n",
       "      <td>28.668967</td>\n",
       "      <td>...</td>\n",
       "      <td>0.079475</td>\n",
       "      <td>0.079443</td>\n",
       "      <td>0.000032</td>\n",
       "      <td>100.039909</td>\n",
       "      <td>2.220064</td>\n",
       "      <td>0.059107</td>\n",
       "      <td>0.05883</td>\n",
       "      <td>0.000277</td>\n",
       "      <td>100.471178</td>\n",
       "      <td>1477.342647</td>\n",
       "    </tr>\n",
       "  </tbody>\n",
       "</table>\n",
       "<p>3 rows × 59 columns</p>\n",
       "</div>"
      ],
      "text/plain": [
       "  Report_Month     Account_Type  Total_Targeted  Total_Holdout  \\\n",
       "1   2023-01-01  Bundled Premium         1252304          53652   \n",
       "2   2023-01-01             Free         4948718         205860   \n",
       "0   2023-01-01      Paying SVOD         5329621         220533   \n",
       "\n",
       "   Return_Rate_Engagers  Return_Rate_Holdout  Return_Rate_Lift_PTS  \\\n",
       "1              0.810483             0.802188              0.008295   \n",
       "2              0.206213             0.208025             -0.001812   \n",
       "0              0.889929             0.885396              0.004533   \n",
       "\n",
       "   Return_Rate_Lift_Index  Returns_Incrementals  Usage_Engagers  ...  \\\n",
       "1              101.034015          10387.538880       19.852535  ...   \n",
       "2               99.129014          -8966.424910        1.045513  ...   \n",
       "0              100.511987          24159.756739       28.668967  ...   \n",
       "\n",
       "   Cancel_Save_Rate_Engagers  Cancel_Save_Rate_Holdout  \\\n",
       "1                   0.013139                  0.013333   \n",
       "2                   0.000755                  0.001812   \n",
       "0                   0.079475                  0.079443   \n",
       "\n",
       "   Cancel_Save_Rate_Lift_PTS  Cancel_Save_Rate_Lift_Index  \\\n",
       "1                  -0.000195                    98.540146   \n",
       "2                  -0.001057                    41.662546   \n",
       "0                   0.000032                   100.039909   \n",
       "\n",
       "   Cancel_Save_Rate_Incrementals  EOM_Paid_Churn_Rate_Engagers  \\\n",
       "1                      -0.400000                           NaN   \n",
       "2                     -81.213768                           NaN   \n",
       "0                       2.220064                      0.059107   \n",
       "\n",
       "   EOM_Paid_Churn_Rate_Holdout  EOM_Paid_Churn_Rate_Lift_PTS  \\\n",
       "1                          NaN                           NaN   \n",
       "2                          NaN                           NaN   \n",
       "0                      0.05883                      0.000277   \n",
       "\n",
       "   EOM_Paid_Churn_Rate_Lift_Index  EOM_Paid_Churn_Rate_Incrementals  \n",
       "1                             NaN                               NaN  \n",
       "2                             NaN                               NaN  \n",
       "0                      100.471178                       1477.342647  \n",
       "\n",
       "[3 rows x 59 columns]"
      ]
     },
     "execution_count": 39,
     "metadata": {},
     "output_type": "execute_result"
    }
   ],
   "source": [
    "df_acc = df_acc.sort_values(by='Account_Type')\n",
    "df_acc"
   ]
  },
  {
   "cell_type": "code",
   "execution_count": 40,
   "metadata": {
    "vscode": {
     "languageId": "sql"
    }
   },
   "outputs": [],
   "source": [
    "df_total.to_excel('push_kpi_tot_v4_jan23_qualifier_report_end.xlsx', index=False)\n",
    "df_acc.to_excel('push_kpi_acc_v4_jan23_qualifier_report_end.xlsx', index=False)"
   ]
  },
  {
   "attachments": {},
   "cell_type": "markdown",
   "metadata": {
    "vscode": {
     "languageId": "sql"
    }
   },
   "source": [
    "# Churn Breakdown"
   ]
  },
  {
   "cell_type": "code",
   "execution_count": null,
   "metadata": {
    "vscode": {
     "languageId": "sql"
    }
   },
   "outputs": [
    {
     "name": "stdout",
     "output_type": "stream",
     "text": [
      "Executing query with job ID: b0a1718d-a597-4fe2-be0e-13f0b82a8899\n",
      "Query executing: 0.73s"
     ]
    },
    {
     "name": "stderr",
     "output_type": "stream",
     "text": [
      "\n",
      "ERROR:\n",
      " 400 Unrecognized name: tenure_paid_lens at [6:7]\n",
      "\n",
      "Location: US\n",
      "Job ID: b0a1718d-a597-4fe2-be0e-13f0b82a8899\n",
      "\n"
     ]
    }
   ],
   "source": [
    "%%bigquery df_churn --project nbcu-ds-sandbox-a-001 --params $params\n",
    "\n",
    "WITH \n",
    "CTE_1 AS (\n",
    "  SELECT \n",
    "    @report_start_date AS Report_Month\n",
    "    --, Account_Type\n",
    "    , tenure_paid_lens\n",
    "      \n",
    "    ,COUNT(distinct CASE WHEN (cohort = 'Targeted') AND (Account_Type = 'Paying SVOD') THEN aid END )            AS Distinct_Cohort_Size_Targeted\n",
    "    ,COUNT(distinct CASE WHEN (cohort = 'Holdout') AND (Account_Type = 'Paying SVOD') THEN aid END)                    AS Distinct_Cohort_Size_Holdout\n",
    "\n",
    "    ,SUM(CASE WHEN cohort = 'Targeted' THEN EOM_Paid_Churn_Denom END )      AS EOM_Paid_Churn_Denom_Targeted\n",
    "    ,SUM(CASE WHEN cohort = 'Targeted' THEN EOM_Paid_Churn_Num END)         AS EOM_Paid_Churn_Num_Targeted\n",
    "    ,SUM(CASE WHEN cohort = 'Holdout' THEN EOM_Paid_Churn_Denom END )             AS EOM_Paid_Churn_Denom_Holdout\n",
    "    ,SUM(CASE WHEN cohort = 'Holdout' THEN EOM_Paid_Churn_Num END)                AS EOM_Paid_Churn_Num_Holdout\n",
    "  FROM `nbcu-ds-sandbox-a-001.SLi_sandbox.Push_KPI_Base_v4_Jan23`\n",
    "  GROUP BY 1,2\n",
    "), CTE_2 AS (\n",
    "    SELECT Report_Month\n",
    "  --, Account_Type\n",
    "  , tenure_paid_lens\n",
    "  , Distinct_Cohort_Size_Targeted   as Push_Engagers\n",
    "  , Distinct_Cohort_Size_Holdout   as Push_Holdout\n",
    "\n",
    "  , EOM_Paid_Churn_Denom_Targeted\n",
    "  , safe_divide(EOM_Paid_Churn_Num_Targeted, EOM_Paid_Churn_Denom_Targeted) as Paid_Churn_Rate_Engagers\n",
    "  , safe_divide(EOM_Paid_Churn_Num_Holdout, EOM_Paid_Churn_Denom_Holdout) as Paid_Churn_Rate_Holdout\n",
    "\n",
    "  from CTE_1\n",
    ")\n",
    "\n",
    "SELECT Report_Month\n",
    "--, Account_Type\n",
    ", tenure_paid_lens\n",
    ", Push_Engagers\n",
    ", Push_Holdout\n",
    "\n",
    ", Paid_Churn_Rate_Engagers                                                  as EOM_Paid_Churn_Rate_Engagers\n",
    ", Paid_Churn_Rate_Holdout                                                   as EOM_Paid_Churn_Rate_Holdout\n",
    ", Paid_Churn_Rate_Engagers - Paid_Churn_Rate_Holdout                        as EOM_Paid_Churn_Rate_Lift_PTS\n",
    ", safe_divide(Paid_Churn_Rate_Engagers, Paid_Churn_Rate_Holdout) *100                   as EOM_Paid_Churn_Rate_Lift_Index\n",
    ", (Paid_Churn_Rate_Engagers - Paid_Churn_Rate_Holdout) * EOM_Paid_Churn_Denom_Targeted as EOM_Paid_Churn_Rate_Incrementals\n",
    "\n",
    "FROM CTE_2\n",
    "ORDER BY 1, 2"
   ]
  },
  {
   "cell_type": "code",
   "execution_count": null,
   "metadata": {
    "vscode": {
     "languageId": "sql"
    }
   },
   "outputs": [
    {
     "data": {
      "text/plain": [
       "QueryJob<project=nbcu-ds-sandbox-a-001, location=US, id=b0a1718d-a597-4fe2-be0e-13f0b82a8899>"
      ]
     },
     "execution_count": 20,
     "metadata": {},
     "output_type": "execute_result"
    }
   ],
   "source": [
    "df_churn"
   ]
  },
  {
   "cell_type": "code",
   "execution_count": null,
   "metadata": {
    "vscode": {
     "languageId": "sql"
    }
   },
   "outputs": [
    {
     "ename": "AttributeError",
     "evalue": "'QueryJob' object has no attribute 'to_excel'",
     "output_type": "error",
     "traceback": [
      "\u001b[1;31m---------------------------------------------------------------------------\u001b[0m",
      "\u001b[1;31mAttributeError\u001b[0m                            Traceback (most recent call last)",
      "\u001b[1;32mC:\\TEMP\\ipykernel_2300\\3302600398.py\u001b[0m in \u001b[0;36m<module>\u001b[1;34m\u001b[0m\n\u001b[1;32m----> 1\u001b[1;33m \u001b[0mdf_churn\u001b[0m\u001b[1;33m.\u001b[0m\u001b[0mto_excel\u001b[0m\u001b[1;33m(\u001b[0m\u001b[1;34m'push_kpi_v4_Jan23_churn.xlsx'\u001b[0m\u001b[1;33m)\u001b[0m\u001b[1;33m\u001b[0m\u001b[1;33m\u001b[0m\u001b[0m\n\u001b[0m",
      "\u001b[1;31mAttributeError\u001b[0m: 'QueryJob' object has no attribute 'to_excel'"
     ]
    }
   ],
   "source": [
    "df_churn.to_excel('push_kpi_v4_Jan23_churn.xlsx')"
   ]
  }
 ],
 "metadata": {
  "kernelspec": {
   "display_name": "base",
   "language": "python",
   "name": "python3"
  },
  "language_info": {
   "codemirror_mode": {
    "name": "ipython",
    "version": 3
   },
   "file_extension": ".py",
   "mimetype": "text/x-python",
   "name": "python",
   "nbconvert_exporter": "python",
   "pygments_lexer": "ipython3",
   "version": "3.9.13"
  },
  "orig_nbformat": 4,
  "vscode": {
   "interpreter": {
    "hash": "9f4bcd060ba154b7f997404b5ff23acc15e075c14d45ca39f213897f2a8cabbd"
   }
  }
 },
 "nbformat": 4,
 "nbformat_minor": 2
}
