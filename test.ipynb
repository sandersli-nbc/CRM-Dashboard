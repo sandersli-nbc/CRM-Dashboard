{
 "cells": [
  {
   "cell_type": "code",
   "execution_count": 2,
   "metadata": {},
   "outputs": [],
   "source": [
    "import pandas as pd\n",
    "import seaborn as sns\n",
    "\n",
    "%load_ext google.cloud.bigquery"
   ]
  },
  {
   "attachments": {},
   "cell_type": "markdown",
   "metadata": {},
   "source": [
    "# Qualify"
   ]
  },
  {
   "cell_type": "code",
   "execution_count": 16,
   "metadata": {
    "vscode": {
     "languageId": "sql"
    }
   },
   "outputs": [
    {
     "data": {
      "application/vnd.jupyter.widget-view+json": {
       "model_id": "fc4244d3524347eb90bdd8ef947a863e",
       "version_major": 2,
       "version_minor": 0
      },
      "text/plain": [
       "Query is running:   0%|          |"
      ]
     },
     "metadata": {},
     "output_type": "display_data"
    },
    {
     "data": {
      "application/vnd.jupyter.widget-view+json": {
       "model_id": "32ff7e736d05407f8b4fb35a7a79eec8",
       "version_major": 2,
       "version_minor": 0
      },
      "text/plain": [
       "Downloading:   0%|          |"
      ]
     },
     "metadata": {},
     "output_type": "display_data"
    },
    {
     "data": {
      "text/html": [
       "<div>\n",
       "<style scoped>\n",
       "    .dataframe tbody tr th:only-of-type {\n",
       "        vertical-align: middle;\n",
       "    }\n",
       "\n",
       "    .dataframe tbody tr th {\n",
       "        vertical-align: top;\n",
       "    }\n",
       "\n",
       "    .dataframe thead th {\n",
       "        text-align: right;\n",
       "    }\n",
       "</style>\n",
       "<table border=\"1\" class=\"dataframe\">\n",
       "  <thead>\n",
       "    <tr style=\"text-align: right;\">\n",
       "      <th></th>\n",
       "      <th>adobe_tracking_id</th>\n",
       "      <th>report_date</th>\n",
       "      <th>upgrade_row_number</th>\n",
       "      <th>f0_</th>\n",
       "    </tr>\n",
       "  </thead>\n",
       "  <tbody>\n",
       "    <tr>\n",
       "      <th>0</th>\n",
       "      <td>++9P2+WhbQt4rjQWiakE+OtWVZ5gBDESVZlhsFLO/o8=</td>\n",
       "      <td>2022-01-02</td>\n",
       "      <td>1</td>\n",
       "      <td>2023-03-03</td>\n",
       "    </tr>\n",
       "    <tr>\n",
       "      <th>1</th>\n",
       "      <td>++BZuALDJvn4Uxxo6fv37L4JkSqKDdsnfBGUu3rOhGc=</td>\n",
       "      <td>2022-01-02</td>\n",
       "      <td>1</td>\n",
       "      <td>2023-03-03</td>\n",
       "    </tr>\n",
       "    <tr>\n",
       "      <th>2</th>\n",
       "      <td>++O4U6CfhQofob0caUsUAiWrmBLg/1V1xn7K859sX6Q=</td>\n",
       "      <td>2022-01-02</td>\n",
       "      <td>1</td>\n",
       "      <td>2023-03-03</td>\n",
       "    </tr>\n",
       "    <tr>\n",
       "      <th>3</th>\n",
       "      <td>++aIiiCONAa+hayeE4idJI4qgLMak1RT9M76RdEMu+4=</td>\n",
       "      <td>2022-01-02</td>\n",
       "      <td>1</td>\n",
       "      <td>2023-03-03</td>\n",
       "    </tr>\n",
       "    <tr>\n",
       "      <th>4</th>\n",
       "      <td>++bwvsqrgOQEDtjMqCdFtQo0QWbRRZgNzBJRTeDJRYI=</td>\n",
       "      <td>2022-01-02</td>\n",
       "      <td>1</td>\n",
       "      <td>2023-03-03</td>\n",
       "    </tr>\n",
       "    <tr>\n",
       "      <th>...</th>\n",
       "      <td>...</td>\n",
       "      <td>...</td>\n",
       "      <td>...</td>\n",
       "      <td>...</td>\n",
       "    </tr>\n",
       "    <tr>\n",
       "      <th>232286</th>\n",
       "      <td>GLASehsS05Pc8PMPNCtfU6jgQzaS7AoFFADyzqYHB+M=</td>\n",
       "      <td>2022-01-07</td>\n",
       "      <td>2</td>\n",
       "      <td>2023-03-03</td>\n",
       "    </tr>\n",
       "    <tr>\n",
       "      <th>232287</th>\n",
       "      <td>eXcU8h+m46HjlaJVUz/n4u005866yleewMshl8heX4M=</td>\n",
       "      <td>2022-01-07</td>\n",
       "      <td>2</td>\n",
       "      <td>2023-03-03</td>\n",
       "    </tr>\n",
       "    <tr>\n",
       "      <th>232288</th>\n",
       "      <td>kT2X7Ykx4m9Pry/Z3QsIz4omu0u06VNUGWRORrs5z9s=</td>\n",
       "      <td>2022-01-07</td>\n",
       "      <td>2</td>\n",
       "      <td>2023-03-03</td>\n",
       "    </tr>\n",
       "    <tr>\n",
       "      <th>232289</th>\n",
       "      <td>uRoiS67Kr6o55445yaIQAUlIq8v0iWPG0BtNcR4CvU8=</td>\n",
       "      <td>2022-01-07</td>\n",
       "      <td>2</td>\n",
       "      <td>2023-03-03</td>\n",
       "    </tr>\n",
       "    <tr>\n",
       "      <th>232290</th>\n",
       "      <td>zRT1YvIJ7ncVwjOYmwJ3qQLUJfWlWzuwdifEnnUgzXY=</td>\n",
       "      <td>2022-01-07</td>\n",
       "      <td>2</td>\n",
       "      <td>2023-03-03</td>\n",
       "    </tr>\n",
       "  </tbody>\n",
       "</table>\n",
       "<p>232291 rows × 4 columns</p>\n",
       "</div>"
      ],
      "text/plain": [
       "                                   adobe_tracking_id report_date  \\\n",
       "0       ++9P2+WhbQt4rjQWiakE+OtWVZ5gBDESVZlhsFLO/o8=  2022-01-02   \n",
       "1       ++BZuALDJvn4Uxxo6fv37L4JkSqKDdsnfBGUu3rOhGc=  2022-01-02   \n",
       "2       ++O4U6CfhQofob0caUsUAiWrmBLg/1V1xn7K859sX6Q=  2022-01-02   \n",
       "3       ++aIiiCONAa+hayeE4idJI4qgLMak1RT9M76RdEMu+4=  2022-01-02   \n",
       "4       ++bwvsqrgOQEDtjMqCdFtQo0QWbRRZgNzBJRTeDJRYI=  2022-01-02   \n",
       "...                                              ...         ...   \n",
       "232286  GLASehsS05Pc8PMPNCtfU6jgQzaS7AoFFADyzqYHB+M=  2022-01-07   \n",
       "232287  eXcU8h+m46HjlaJVUz/n4u005866yleewMshl8heX4M=  2022-01-07   \n",
       "232288  kT2X7Ykx4m9Pry/Z3QsIz4omu0u06VNUGWRORrs5z9s=  2022-01-07   \n",
       "232289  uRoiS67Kr6o55445yaIQAUlIq8v0iWPG0BtNcR4CvU8=  2022-01-07   \n",
       "232290  zRT1YvIJ7ncVwjOYmwJ3qQLUJfWlWzuwdifEnnUgzXY=  2022-01-07   \n",
       "\n",
       "        upgrade_row_number         f0_  \n",
       "0                        1  2023-03-03  \n",
       "1                        1  2023-03-03  \n",
       "2                        1  2023-03-03  \n",
       "3                        1  2023-03-03  \n",
       "4                        1  2023-03-03  \n",
       "...                    ...         ...  \n",
       "232286                   2  2023-03-03  \n",
       "232287                   2  2023-03-03  \n",
       "232288                   2  2023-03-03  \n",
       "232289                   2  2023-03-03  \n",
       "232290                   2  2023-03-03  \n",
       "\n",
       "[232291 rows x 4 columns]"
      ]
     },
     "execution_count": 16,
     "metadata": {},
     "output_type": "execute_result"
    }
   ],
   "source": [
    "%%bigquery --project nbcu-ds-sandbox-a-001\n",
    "\n",
    "SELECT adobe_tracking_id\n",
    "        , report_date\n",
    "        , row_number() OVER(partition by adobe_tracking_id order by report_date ) as upgrade_row_number -- rank the number of times a user upgrade\n",
    "        , current_date() -- disable results caching\n",
    "FROM       \n",
    "        (\n",
    "            SELECT adobe_tracking_id\n",
    "                    , report_date\n",
    "                    , paying_account_flag as paying_account_flag_today\n",
    "                    , LAG(paying_account_flag,1) OVER ( partition by adobe_tracking_id order by report_date  ) as paying_account_flag_yestd -- paying flag yesterday\n",
    "            FROM `nbcu-ds-prod-001.PeacockDataMartSilver.SILVER_USER` \n",
    "            WHERE report_date between '2022-01-01' and '2022-01-07' -- don't add report_date since we need to distinguish upgrades from beginnning of time \n",
    "        )\n",
    "WHERE paying_account_flag_today = 'Paying' AND paying_account_flag_yestd = 'NonPaying'\n",
    "order by 3,2,1"
   ]
  },
  {
   "cell_type": "code",
   "execution_count": 17,
   "metadata": {
    "vscode": {
     "languageId": "sql"
    }
   },
   "outputs": [
    {
     "data": {
      "application/vnd.jupyter.widget-view+json": {
       "model_id": "42e2ca85589a4237a64af83466f18ae9",
       "version_major": 2,
       "version_minor": 0
      },
      "text/plain": [
       "Query is running:   0%|          |"
      ]
     },
     "metadata": {},
     "output_type": "display_data"
    },
    {
     "data": {
      "application/vnd.jupyter.widget-view+json": {
       "model_id": "be6349f43f34423a8e89a7119ca3312e",
       "version_major": 2,
       "version_minor": 0
      },
      "text/plain": [
       "Downloading:   0%|          |"
      ]
     },
     "metadata": {},
     "output_type": "display_data"
    },
    {
     "data": {
      "text/html": [
       "<div>\n",
       "<style scoped>\n",
       "    .dataframe tbody tr th:only-of-type {\n",
       "        vertical-align: middle;\n",
       "    }\n",
       "\n",
       "    .dataframe tbody tr th {\n",
       "        vertical-align: top;\n",
       "    }\n",
       "\n",
       "    .dataframe thead th {\n",
       "        text-align: right;\n",
       "    }\n",
       "</style>\n",
       "<table border=\"1\" class=\"dataframe\">\n",
       "  <thead>\n",
       "    <tr style=\"text-align: right;\">\n",
       "      <th></th>\n",
       "      <th>adobe_tracking_id</th>\n",
       "      <th>report_date</th>\n",
       "      <th>upgrade_row_number</th>\n",
       "    </tr>\n",
       "  </thead>\n",
       "  <tbody>\n",
       "    <tr>\n",
       "      <th>0</th>\n",
       "      <td>++9P2+WhbQt4rjQWiakE+OtWVZ5gBDESVZlhsFLO/o8=</td>\n",
       "      <td>2022-01-02</td>\n",
       "      <td>1</td>\n",
       "    </tr>\n",
       "    <tr>\n",
       "      <th>1</th>\n",
       "      <td>++BZuALDJvn4Uxxo6fv37L4JkSqKDdsnfBGUu3rOhGc=</td>\n",
       "      <td>2022-01-02</td>\n",
       "      <td>1</td>\n",
       "    </tr>\n",
       "    <tr>\n",
       "      <th>2</th>\n",
       "      <td>++O4U6CfhQofob0caUsUAiWrmBLg/1V1xn7K859sX6Q=</td>\n",
       "      <td>2022-01-02</td>\n",
       "      <td>1</td>\n",
       "    </tr>\n",
       "    <tr>\n",
       "      <th>3</th>\n",
       "      <td>++aIiiCONAa+hayeE4idJI4qgLMak1RT9M76RdEMu+4=</td>\n",
       "      <td>2022-01-02</td>\n",
       "      <td>1</td>\n",
       "    </tr>\n",
       "    <tr>\n",
       "      <th>4</th>\n",
       "      <td>++bwvsqrgOQEDtjMqCdFtQo0QWbRRZgNzBJRTeDJRYI=</td>\n",
       "      <td>2022-01-02</td>\n",
       "      <td>1</td>\n",
       "    </tr>\n",
       "    <tr>\n",
       "      <th>...</th>\n",
       "      <td>...</td>\n",
       "      <td>...</td>\n",
       "      <td>...</td>\n",
       "    </tr>\n",
       "    <tr>\n",
       "      <th>232286</th>\n",
       "      <td>GLASehsS05Pc8PMPNCtfU6jgQzaS7AoFFADyzqYHB+M=</td>\n",
       "      <td>2022-01-07</td>\n",
       "      <td>2</td>\n",
       "    </tr>\n",
       "    <tr>\n",
       "      <th>232287</th>\n",
       "      <td>eXcU8h+m46HjlaJVUz/n4u005866yleewMshl8heX4M=</td>\n",
       "      <td>2022-01-07</td>\n",
       "      <td>2</td>\n",
       "    </tr>\n",
       "    <tr>\n",
       "      <th>232288</th>\n",
       "      <td>kT2X7Ykx4m9Pry/Z3QsIz4omu0u06VNUGWRORrs5z9s=</td>\n",
       "      <td>2022-01-07</td>\n",
       "      <td>2</td>\n",
       "    </tr>\n",
       "    <tr>\n",
       "      <th>232289</th>\n",
       "      <td>uRoiS67Kr6o55445yaIQAUlIq8v0iWPG0BtNcR4CvU8=</td>\n",
       "      <td>2022-01-07</td>\n",
       "      <td>2</td>\n",
       "    </tr>\n",
       "    <tr>\n",
       "      <th>232290</th>\n",
       "      <td>zRT1YvIJ7ncVwjOYmwJ3qQLUJfWlWzuwdifEnnUgzXY=</td>\n",
       "      <td>2022-01-07</td>\n",
       "      <td>2</td>\n",
       "    </tr>\n",
       "  </tbody>\n",
       "</table>\n",
       "<p>232291 rows × 3 columns</p>\n",
       "</div>"
      ],
      "text/plain": [
       "                                   adobe_tracking_id report_date  \\\n",
       "0       ++9P2+WhbQt4rjQWiakE+OtWVZ5gBDESVZlhsFLO/o8=  2022-01-02   \n",
       "1       ++BZuALDJvn4Uxxo6fv37L4JkSqKDdsnfBGUu3rOhGc=  2022-01-02   \n",
       "2       ++O4U6CfhQofob0caUsUAiWrmBLg/1V1xn7K859sX6Q=  2022-01-02   \n",
       "3       ++aIiiCONAa+hayeE4idJI4qgLMak1RT9M76RdEMu+4=  2022-01-02   \n",
       "4       ++bwvsqrgOQEDtjMqCdFtQo0QWbRRZgNzBJRTeDJRYI=  2022-01-02   \n",
       "...                                              ...         ...   \n",
       "232286  GLASehsS05Pc8PMPNCtfU6jgQzaS7AoFFADyzqYHB+M=  2022-01-07   \n",
       "232287  eXcU8h+m46HjlaJVUz/n4u005866yleewMshl8heX4M=  2022-01-07   \n",
       "232288  kT2X7Ykx4m9Pry/Z3QsIz4omu0u06VNUGWRORrs5z9s=  2022-01-07   \n",
       "232289  uRoiS67Kr6o55445yaIQAUlIq8v0iWPG0BtNcR4CvU8=  2022-01-07   \n",
       "232290  zRT1YvIJ7ncVwjOYmwJ3qQLUJfWlWzuwdifEnnUgzXY=  2022-01-07   \n",
       "\n",
       "        upgrade_row_number  \n",
       "0                        1  \n",
       "1                        1  \n",
       "2                        1  \n",
       "3                        1  \n",
       "4                        1  \n",
       "...                    ...  \n",
       "232286                   2  \n",
       "232287                   2  \n",
       "232288                   2  \n",
       "232289                   2  \n",
       "232290                   2  \n",
       "\n",
       "[232291 rows x 3 columns]"
      ]
     },
     "execution_count": 17,
     "metadata": {},
     "output_type": "execute_result"
    }
   ],
   "source": [
    "%%bigquery --project nbcu-ds-sandbox-a-001\n",
    "\n",
    "with cte as (\n",
    "SELECT adobe_tracking_id\n",
    "        , report_date\n",
    "        , current_date() -- disable results caching\n",
    "FROM `nbcu-ds-prod-001.PeacockDataMartSilver.SILVER_USER` \n",
    "WHERE report_date between '2022-01-01' and '2022-01-07'\n",
    "QUALIFY (paying_account_flag = 'Paying') and (LAG(paying_account_flag,1) over(partition by adobe_tracking_id order by report_date) = 'NonPaying')\n",
    ")\n",
    "SELECT adobe_tracking_id\n",
    "        , report_date\n",
    "        , row_number() OVER(partition by adobe_tracking_id order by report_date ) as upgrade_row_number -- rank the number of times a user upgrade\n",
    "FROM cte\n",
    "order by 3,2,1"
   ]
  },
  {
   "cell_type": "code",
   "execution_count": 15,
   "metadata": {
    "vscode": {
     "languageId": "sql"
    }
   },
   "outputs": [
    {
     "data": {
      "application/vnd.jupyter.widget-view+json": {
       "model_id": "4b4da19e94484bc4b6f4042e8b3395bb",
       "version_major": 2,
       "version_minor": 0
      },
      "text/plain": [
       "Query is running:   0%|          |"
      ]
     },
     "metadata": {},
     "output_type": "display_data"
    },
    {
     "data": {
      "application/vnd.jupyter.widget-view+json": {
       "model_id": "14919fd4bd3f48b7a8eea56732da514c",
       "version_major": 2,
       "version_minor": 0
      },
      "text/plain": [
       "Downloading:   0%|          |"
      ]
     },
     "metadata": {},
     "output_type": "display_data"
    },
    {
     "data": {
      "text/html": [
       "<div>\n",
       "<style scoped>\n",
       "    .dataframe tbody tr th:only-of-type {\n",
       "        vertical-align: middle;\n",
       "    }\n",
       "\n",
       "    .dataframe tbody tr th {\n",
       "        vertical-align: top;\n",
       "    }\n",
       "\n",
       "    .dataframe thead th {\n",
       "        text-align: right;\n",
       "    }\n",
       "</style>\n",
       "<table border=\"1\" class=\"dataframe\">\n",
       "  <thead>\n",
       "    <tr style=\"text-align: right;\">\n",
       "      <th></th>\n",
       "      <th>adobe_tracking_id</th>\n",
       "      <th>report_date</th>\n",
       "      <th>upgrade_row_number</th>\n",
       "    </tr>\n",
       "  </thead>\n",
       "  <tbody>\n",
       "    <tr>\n",
       "      <th>0</th>\n",
       "      <td>++9P2+WhbQt4rjQWiakE+OtWVZ5gBDESVZlhsFLO/o8=</td>\n",
       "      <td>2022-01-02</td>\n",
       "      <td>2</td>\n",
       "    </tr>\n",
       "    <tr>\n",
       "      <th>1</th>\n",
       "      <td>++BZuALDJvn4Uxxo6fv37L4JkSqKDdsnfBGUu3rOhGc=</td>\n",
       "      <td>2022-01-02</td>\n",
       "      <td>2</td>\n",
       "    </tr>\n",
       "    <tr>\n",
       "      <th>2</th>\n",
       "      <td>++O4U6CfhQofob0caUsUAiWrmBLg/1V1xn7K859sX6Q=</td>\n",
       "      <td>2022-01-02</td>\n",
       "      <td>2</td>\n",
       "    </tr>\n",
       "    <tr>\n",
       "      <th>3</th>\n",
       "      <td>++aIiiCONAa+hayeE4idJI4qgLMak1RT9M76RdEMu+4=</td>\n",
       "      <td>2022-01-02</td>\n",
       "      <td>2</td>\n",
       "    </tr>\n",
       "    <tr>\n",
       "      <th>4</th>\n",
       "      <td>++bwvsqrgOQEDtjMqCdFtQo0QWbRRZgNzBJRTeDJRYI=</td>\n",
       "      <td>2022-01-02</td>\n",
       "      <td>2</td>\n",
       "    </tr>\n",
       "    <tr>\n",
       "      <th>...</th>\n",
       "      <td>...</td>\n",
       "      <td>...</td>\n",
       "      <td>...</td>\n",
       "    </tr>\n",
       "    <tr>\n",
       "      <th>232286</th>\n",
       "      <td>zytjwALhwovNtYv1jrNBivgYnpB0P8x4lXqbE0Jbr24=</td>\n",
       "      <td>2022-01-07</td>\n",
       "      <td>7</td>\n",
       "    </tr>\n",
       "    <tr>\n",
       "      <th>232287</th>\n",
       "      <td>zz6VfVUYUU048zOqEiQ6okOuDJ07Rv5MVI1hVgWHjqI=</td>\n",
       "      <td>2022-01-07</td>\n",
       "      <td>7</td>\n",
       "    </tr>\n",
       "    <tr>\n",
       "      <th>232288</th>\n",
       "      <td>zz7kz8DR4vbk37Z6qzCdA/3gJ+2ld66sEEPPfX0fkSA=</td>\n",
       "      <td>2022-01-07</td>\n",
       "      <td>7</td>\n",
       "    </tr>\n",
       "    <tr>\n",
       "      <th>232289</th>\n",
       "      <td>zzQ7pCcZjrj1HYboqlJIGWHjjOJLfufzzA8oeJPXXqU=</td>\n",
       "      <td>2022-01-07</td>\n",
       "      <td>7</td>\n",
       "    </tr>\n",
       "    <tr>\n",
       "      <th>232290</th>\n",
       "      <td>zzY++d11/w3BcrgnTiSEedkA40xBW6SO9pO7RpJX7yo=</td>\n",
       "      <td>2022-01-07</td>\n",
       "      <td>7</td>\n",
       "    </tr>\n",
       "  </tbody>\n",
       "</table>\n",
       "<p>232291 rows × 3 columns</p>\n",
       "</div>"
      ],
      "text/plain": [
       "                                   adobe_tracking_id report_date  \\\n",
       "0       ++9P2+WhbQt4rjQWiakE+OtWVZ5gBDESVZlhsFLO/o8=  2022-01-02   \n",
       "1       ++BZuALDJvn4Uxxo6fv37L4JkSqKDdsnfBGUu3rOhGc=  2022-01-02   \n",
       "2       ++O4U6CfhQofob0caUsUAiWrmBLg/1V1xn7K859sX6Q=  2022-01-02   \n",
       "3       ++aIiiCONAa+hayeE4idJI4qgLMak1RT9M76RdEMu+4=  2022-01-02   \n",
       "4       ++bwvsqrgOQEDtjMqCdFtQo0QWbRRZgNzBJRTeDJRYI=  2022-01-02   \n",
       "...                                              ...         ...   \n",
       "232286  zytjwALhwovNtYv1jrNBivgYnpB0P8x4lXqbE0Jbr24=  2022-01-07   \n",
       "232287  zz6VfVUYUU048zOqEiQ6okOuDJ07Rv5MVI1hVgWHjqI=  2022-01-07   \n",
       "232288  zz7kz8DR4vbk37Z6qzCdA/3gJ+2ld66sEEPPfX0fkSA=  2022-01-07   \n",
       "232289  zzQ7pCcZjrj1HYboqlJIGWHjjOJLfufzzA8oeJPXXqU=  2022-01-07   \n",
       "232290  zzY++d11/w3BcrgnTiSEedkA40xBW6SO9pO7RpJX7yo=  2022-01-07   \n",
       "\n",
       "        upgrade_row_number  \n",
       "0                        2  \n",
       "1                        2  \n",
       "2                        2  \n",
       "3                        2  \n",
       "4                        2  \n",
       "...                    ...  \n",
       "232286                   7  \n",
       "232287                   7  \n",
       "232288                   7  \n",
       "232289                   7  \n",
       "232290                   7  \n",
       "\n",
       "[232291 rows x 3 columns]"
      ]
     },
     "execution_count": 15,
     "metadata": {},
     "output_type": "execute_result"
    }
   ],
   "source": [
    "%%bigquery --project nbcu-ds-sandbox-a-001\n",
    "\n",
    "SELECT adobe_tracking_id\n",
    "        , report_date\n",
    "        , row_number() OVER(partition by adobe_tracking_id order by report_date ) as upgrade_row_number -- rank the number of times a user upgrade\n",
    "FROM `nbcu-ds-prod-001.PeacockDataMartSilver.SILVER_USER` \n",
    "WHERE report_date between '2022-01-01' and '2022-01-07'\n",
    "QUALIFY (paying_account_flag = 'Paying') and (LAG(paying_account_flag,1) over(partition by adobe_tracking_id order by report_date) = 'NonPaying')\n",
    "order by 3,2,1"
   ]
  },
  {
   "attachments": {},
   "cell_type": "markdown",
   "metadata": {},
   "source": [
    "# Groupby investigation"
   ]
  },
  {
   "cell_type": "code",
   "execution_count": 88,
   "metadata": {},
   "outputs": [],
   "source": [
    "# Equivalent to declare\n",
    "# import params in %%bigquery with --params $params\n",
    "params = {\n",
    "    'report_start_date': '2023-01-01',\n",
    "    'report_end_date': '2023-01-07'\n",
    "}"
   ]
  },
  {
   "attachments": {},
   "cell_type": "markdown",
   "metadata": {},
   "source": [
    "### Original"
   ]
  },
  {
   "cell_type": "code",
   "execution_count": 90,
   "metadata": {
    "vscode": {
     "languageId": "sql"
    }
   },
   "outputs": [
    {
     "data": {
      "application/vnd.jupyter.widget-view+json": {
       "model_id": "1b65649f0ab240f2ad284cdd91869cb7",
       "version_major": 2,
       "version_minor": 0
      },
      "text/plain": [
       "Query is running:   0%|          |"
      ]
     },
     "metadata": {},
     "output_type": "display_data"
    },
    {
     "data": {
      "text/html": [
       "<div>\n",
       "<style scoped>\n",
       "    .dataframe tbody tr th:only-of-type {\n",
       "        vertical-align: middle;\n",
       "    }\n",
       "\n",
       "    .dataframe tbody tr th {\n",
       "        vertical-align: top;\n",
       "    }\n",
       "\n",
       "    .dataframe thead th {\n",
       "        text-align: right;\n",
       "    }\n",
       "</style>\n",
       "<table border=\"1\" class=\"dataframe\">\n",
       "  <thead>\n",
       "    <tr style=\"text-align: right;\">\n",
       "      <th></th>\n",
       "    </tr>\n",
       "  </thead>\n",
       "  <tbody>\n",
       "  </tbody>\n",
       "</table>\n",
       "</div>"
      ],
      "text/plain": [
       "Empty DataFrame\n",
       "Columns: []\n",
       "Index: []"
      ]
     },
     "execution_count": 90,
     "metadata": {},
     "output_type": "execute_result"
    }
   ],
   "source": [
    "%%bigquery --project nbcu-ds-sandbox-a-001 --params $params\n",
    "CREATE OR REPLACE TABLE `nbcu-ds-sandbox-a-001.SLi_sandbox.Email_Targeted` AS ( -- everyone who have received emails in the month, and opened at least one email in the past\n",
    "    SELECT DISTINCT adobe_tracking_id \n",
    "    FROM  `nbcu-ds-prod-001.PeacockDataMartSilver.SILVER_MPARTICLE_BRAZE` \n",
    "    WHERE event_name = 'Email Deliveries' \n",
    "    AND event_date BETWEEN @report_start_date and @report_end_date\n",
    ")"
   ]
  },
  {
   "cell_type": "code",
   "execution_count": 91,
   "metadata": {
    "vscode": {
     "languageId": "sql"
    }
   },
   "outputs": [
    {
     "data": {
      "application/vnd.jupyter.widget-view+json": {
       "model_id": "95fbf91314144ccda65e026149579e31",
       "version_major": 2,
       "version_minor": 0
      },
      "text/plain": [
       "Query is running:   0%|          |"
      ]
     },
     "metadata": {},
     "output_type": "display_data"
    },
    {
     "data": {
      "text/html": [
       "<div>\n",
       "<style scoped>\n",
       "    .dataframe tbody tr th:only-of-type {\n",
       "        vertical-align: middle;\n",
       "    }\n",
       "\n",
       "    .dataframe tbody tr th {\n",
       "        vertical-align: top;\n",
       "    }\n",
       "\n",
       "    .dataframe thead th {\n",
       "        text-align: right;\n",
       "    }\n",
       "</style>\n",
       "<table border=\"1\" class=\"dataframe\">\n",
       "  <thead>\n",
       "    <tr style=\"text-align: right;\">\n",
       "      <th></th>\n",
       "    </tr>\n",
       "  </thead>\n",
       "  <tbody>\n",
       "  </tbody>\n",
       "</table>\n",
       "</div>"
      ],
      "text/plain": [
       "Empty DataFrame\n",
       "Columns: []\n",
       "Index: []"
      ]
     },
     "execution_count": 91,
     "metadata": {},
     "output_type": "execute_result"
    }
   ],
   "source": [
    "%%bigquery --project nbcu-ds-sandbox-a-001 --params $params\n",
    "CREATE OR REPLACE TABLE `nbcu-ds-sandbox-a-001.SLi_sandbox.Holdout` AS ( \n",
    "    SELECT  distinct holdout.adobe_tracking_id\n",
    "    FROM\n",
    "    (\n",
    "        SELECT  distinct TrackingId AS adobe_tracking_id -- distinct Hold_Out_Type_Current --cohort, count(distinct TrackingId)\n",
    "        FROM `nbcu-ds-prod-001.PeacockDataMartMarketingGold.HOLDOUT_GROUP`\n",
    "        WHERE cohort = 'January2023'\n",
    "        AND Hold_Out_Type_Current = 'Owned Email Holdout'\n",
    "        -- Exclude those who are assigned to Email Holdout but actually received emails \n",
    "    ) holdout\n",
    "    LEFT JOIN\n",
    "    (\n",
    "        SELECT  DISTINCT adobe_tracking_id\n",
    "        FROM `nbcu-ds-prod-001.PeacockDataMartSilver.SILVER_MPARTICLE_BRAZE`\n",
    "        WHERE event_name = 'Email Deliveries'\n",
    "        AND event_date >= @report_start_date\n",
    "        AND event_date <= @report_end_date \n",
    "    ) delivered -- Email Delivered ever\n",
    "    ON holdout.adobe_tracking_id = delivered.adobe_tracking_id AND delivered.adobe_tracking_id is null\n",
    ")"
   ]
  },
  {
   "attachments": {},
   "cell_type": "markdown",
   "metadata": {},
   "source": [
    "### Account type tables"
   ]
  },
  {
   "cell_type": "code",
   "execution_count": 92,
   "metadata": {
    "vscode": {
     "languageId": "sql"
    }
   },
   "outputs": [
    {
     "data": {
      "application/vnd.jupyter.widget-view+json": {
       "model_id": "46beee7cf13d407085455eb0a999873b",
       "version_major": 2,
       "version_minor": 0
      },
      "text/plain": [
       "Query is running:   0%|          |"
      ]
     },
     "metadata": {},
     "output_type": "display_data"
    },
    {
     "data": {
      "text/html": [
       "<div>\n",
       "<style scoped>\n",
       "    .dataframe tbody tr th:only-of-type {\n",
       "        vertical-align: middle;\n",
       "    }\n",
       "\n",
       "    .dataframe tbody tr th {\n",
       "        vertical-align: top;\n",
       "    }\n",
       "\n",
       "    .dataframe thead th {\n",
       "        text-align: right;\n",
       "    }\n",
       "</style>\n",
       "<table border=\"1\" class=\"dataframe\">\n",
       "  <thead>\n",
       "    <tr style=\"text-align: right;\">\n",
       "      <th></th>\n",
       "    </tr>\n",
       "  </thead>\n",
       "  <tbody>\n",
       "  </tbody>\n",
       "</table>\n",
       "</div>"
      ],
      "text/plain": [
       "Empty DataFrame\n",
       "Columns: []\n",
       "Index: []"
      ]
     },
     "execution_count": 92,
     "metadata": {},
     "output_type": "execute_result"
    }
   ],
   "source": [
    "%%bigquery --project nbcu-ds-sandbox-a-001 --params $params\n",
    "CREATE OR REPLACE TABLE `nbcu-ds-sandbox-a-001.SLi_sandbox.All_Cohorts_no_account_type` AS (\n",
    "    -- email targetable and holdout cohort, users signed up after 2020/8/11\n",
    "     SELECT distinct a.adobe_tracking_id as aid\n",
    "            , cohort\n",
    "    FROM         -- Include email engagers only: users who have at least 1 'Other Opens' in entire user histoy; exclude Oct 2022 Privacy email\n",
    "     (SELECT DISTINCT identity \n",
    "            FROM  `nbcu-sdp-prod-003.sdp_persistent_views.BrazeMarketingView` \n",
    "            WHERE eventName = 'Email Opens' and machineOpen is null\n",
    "            AND date(eventTimestamp) <= @report_end_date\n",
    "            AND campaignName NOT IN ('TransactionalTermsOfUseEngaged20221028', 'TransactionalTermsOfUseNONEngaged20221028') -- Exclude email openers of Oct privacy email\n",
    "        ) Email_Engagers --opened email at least once, using other open \n",
    "\n",
    "          INNER JOIN `nbcu-ds-sandbox-a-001.sl_sandbox.Braze_Id_Adobe_Id_Map` mapping\n",
    "          ON mapping.bid = Email_Engagers.identity\n",
    "\n",
    "          INNER JOIN\n",
    "              (SELECT *, 'Email_Targeted' as cohort from `nbcu-ds-sandbox-a-001.SLi_sandbox.Email_Targeted`\n",
    "                  UNION ALL\n",
    "                  SELECT *, 'Holdout' as cohort from `nbcu-ds-sandbox-a-001.SLi_sandbox.Holdout`\n",
    "              ) a\n",
    "          ON a.adobe_tracking_id = mapping.aid\n",
    "        \n",
    "        -- for after 2021/july, email channel only, take out all abandon MAAs\n",
    "        INNER JOIN \n",
    "        (SELECT DISTINCT adobe_tracking_id FROM `nbcu-ds-prod-001.PeacockDataMartSilver.SILVER_PRIMARY_DEVICES` \n",
    "            WHERE report_date = @report_end_date\n",
    "            AND date_of_last_view IS NOT NULL \n",
    "        ) abandon_maa \n",
    "        ON a.adobe_tracking_id = abandon_maa.adobe_tracking_id\n",
    ")"
   ]
  },
  {
   "cell_type": "code",
   "execution_count": 93,
   "metadata": {
    "vscode": {
     "languageId": "sql"
    }
   },
   "outputs": [
    {
     "data": {
      "application/vnd.jupyter.widget-view+json": {
       "model_id": "f566bdca65054197ae26951bad7446ea",
       "version_major": 2,
       "version_minor": 0
      },
      "text/plain": [
       "Query is running:   0%|          |"
      ]
     },
     "metadata": {},
     "output_type": "display_data"
    },
    {
     "data": {
      "text/html": [
       "<div>\n",
       "<style scoped>\n",
       "    .dataframe tbody tr th:only-of-type {\n",
       "        vertical-align: middle;\n",
       "    }\n",
       "\n",
       "    .dataframe tbody tr th {\n",
       "        vertical-align: top;\n",
       "    }\n",
       "\n",
       "    .dataframe thead th {\n",
       "        text-align: right;\n",
       "    }\n",
       "</style>\n",
       "<table border=\"1\" class=\"dataframe\">\n",
       "  <thead>\n",
       "    <tr style=\"text-align: right;\">\n",
       "      <th></th>\n",
       "    </tr>\n",
       "  </thead>\n",
       "  <tbody>\n",
       "  </tbody>\n",
       "</table>\n",
       "</div>"
      ],
      "text/plain": [
       "Empty DataFrame\n",
       "Columns: []\n",
       "Index: []"
      ]
     },
     "execution_count": 93,
     "metadata": {},
     "output_type": "execute_result"
    }
   ],
   "source": [
    "%%bigquery --project nbcu-ds-sandbox-a-001 --params $params\n",
    "CREATE OR REPLACE TABLE `nbcu-ds-sandbox-a-001.SLi_sandbox.All_Cohorts` AS (\n",
    "    -- email targetable and holdout cohort, users signed up after 2020/8/11\n",
    "     SELECT distinct a.adobe_tracking_id as aid\n",
    "            , cohort\n",
    "            , user.account_type\n",
    "    FROM         -- Include email engagers only: users who have at least 1 'Other Opens' in entire user histoy; exclude Oct 2022 Privacy email\n",
    "     (SELECT DISTINCT identity \n",
    "            FROM  `nbcu-sdp-prod-003.sdp_persistent_views.BrazeMarketingView` \n",
    "            WHERE eventName = 'Email Opens' and machineOpen is null\n",
    "            AND date(eventTimestamp) <= @report_end_date\n",
    "            AND campaignName NOT IN ('TransactionalTermsOfUseEngaged20221028', 'TransactionalTermsOfUseNONEngaged20221028') -- Exclude email openers of Oct privacy email\n",
    "        ) Email_Engagers --opened email at least once, using other open \n",
    "\n",
    "          INNER JOIN `nbcu-ds-sandbox-a-001.sl_sandbox.Braze_Id_Adobe_Id_Map` mapping\n",
    "          ON mapping.bid = Email_Engagers.identity\n",
    "\n",
    "          INNER JOIN\n",
    "              (SELECT *, 'Email_Targeted' as cohort from `nbcu-ds-sandbox-a-001.SLi_sandbox.Email_Targeted`\n",
    "                  UNION ALL\n",
    "                  SELECT *, 'Holdout' as cohort from `nbcu-ds-sandbox-a-001.SLi_sandbox.Holdout`\n",
    "              ) a\n",
    "          ON a.adobe_tracking_id = mapping.aid\n",
    "              \n",
    "          --add attribute: account_type \n",
    "          INNER JOIN ( SELECT * FROM `nbcu-ds-prod-001.PeacockDataMartSilver.SILVER_USER` WHERE report_date = @report_end_date ) user\n",
    "          ON a.adobe_tracking_id = user.adobe_tracking_id \n",
    "        \n",
    "\n",
    "        -- for after 2021/july, email channel only, take out all abandon MAAs\n",
    "        INNER JOIN \n",
    "        (SELECT DISTINCT adobe_tracking_id FROM `nbcu-ds-prod-001.PeacockDataMartSilver.SILVER_PRIMARY_DEVICES` \n",
    "            WHERE report_date = @report_end_date\n",
    "            AND date_of_last_view IS NOT NULL \n",
    "        ) abandon_maa \n",
    "        ON a.adobe_tracking_id = abandon_maa.adobe_tracking_id\n",
    ")\n"
   ]
  },
  {
   "cell_type": "code",
   "execution_count": 95,
   "metadata": {
    "vscode": {
     "languageId": "sql"
    }
   },
   "outputs": [
    {
     "data": {
      "application/vnd.jupyter.widget-view+json": {
       "model_id": "7f87968fec60444fb0d991fbfff4a49e",
       "version_major": 2,
       "version_minor": 0
      },
      "text/plain": [
       "Query is running:   0%|          |"
      ]
     },
     "metadata": {},
     "output_type": "display_data"
    },
    {
     "data": {
      "application/vnd.jupyter.widget-view+json": {
       "model_id": "171675fb8d6f4e1199ed34f140689b55",
       "version_major": 2,
       "version_minor": 0
      },
      "text/plain": [
       "Downloading:   0%|          |"
      ]
     },
     "metadata": {},
     "output_type": "display_data"
    },
    {
     "data": {
      "text/html": [
       "<div>\n",
       "<style scoped>\n",
       "    .dataframe tbody tr th:only-of-type {\n",
       "        vertical-align: middle;\n",
       "    }\n",
       "\n",
       "    .dataframe tbody tr th {\n",
       "        vertical-align: top;\n",
       "    }\n",
       "\n",
       "    .dataframe thead th {\n",
       "        text-align: right;\n",
       "    }\n",
       "</style>\n",
       "<table border=\"1\" class=\"dataframe\">\n",
       "  <thead>\n",
       "    <tr style=\"text-align: right;\">\n",
       "      <th></th>\n",
       "      <th>aid</th>\n",
       "      <th>cohort</th>\n",
       "    </tr>\n",
       "  </thead>\n",
       "  <tbody>\n",
       "    <tr>\n",
       "      <th>0</th>\n",
       "      <td>iCNU3FVvdky2wJTh+o+rhCidJutDL5z5fH+tX7rH8sg=</td>\n",
       "      <td>Email_Targeted</td>\n",
       "    </tr>\n",
       "    <tr>\n",
       "      <th>1</th>\n",
       "      <td>vPhjIqVoUGlcCixejrR5ka3h6OLFRcbI78oBycrT6nQ=</td>\n",
       "      <td>Email_Targeted</td>\n",
       "    </tr>\n",
       "    <tr>\n",
       "      <th>2</th>\n",
       "      <td>rZqJPH/boGpPK45Mzkr6G5WC/TKZb0VLYN/o12bfq30=</td>\n",
       "      <td>Email_Targeted</td>\n",
       "    </tr>\n",
       "    <tr>\n",
       "      <th>3</th>\n",
       "      <td>mTj7alfHvX4+LXk1MdhTBOcP7QwM6DRRXLKW8W7WL+E=</td>\n",
       "      <td>Email_Targeted</td>\n",
       "    </tr>\n",
       "    <tr>\n",
       "      <th>4</th>\n",
       "      <td>R1Z+P9q8JhxXck/srnZn8IcYaVvcBpiX8AQVD6+oR2I=</td>\n",
       "      <td>Email_Targeted</td>\n",
       "    </tr>\n",
       "    <tr>\n",
       "      <th>...</th>\n",
       "      <td>...</td>\n",
       "      <td>...</td>\n",
       "    </tr>\n",
       "    <tr>\n",
       "      <th>26685333</th>\n",
       "      <td>uWFlXgV/TDrgXpOteDqZgUd9xipqY+AWWnWOVRVhDAo=</td>\n",
       "      <td>Email_Targeted</td>\n",
       "    </tr>\n",
       "    <tr>\n",
       "      <th>26685334</th>\n",
       "      <td>ZLpJanxUKmXvLjiXyXyNWk0pwIDsrH8qJlspGnSNwJs=</td>\n",
       "      <td>Email_Targeted</td>\n",
       "    </tr>\n",
       "    <tr>\n",
       "      <th>26685335</th>\n",
       "      <td>WIdWPFNwEBucWNTYzPvxcbdGpm+8z6Ra9BWtoSGUuW4=</td>\n",
       "      <td>Email_Targeted</td>\n",
       "    </tr>\n",
       "    <tr>\n",
       "      <th>26685336</th>\n",
       "      <td>PBF0KhC9xlEAHMXrFl/orXLBb5EeRg4dnZ/Ex0w+nFY=</td>\n",
       "      <td>Email_Targeted</td>\n",
       "    </tr>\n",
       "    <tr>\n",
       "      <th>26685337</th>\n",
       "      <td>pvhbAp/oMDjrFI0p+dTG/bMfccdawUQsirxJPTi9WDk=</td>\n",
       "      <td>Email_Targeted</td>\n",
       "    </tr>\n",
       "  </tbody>\n",
       "</table>\n",
       "<p>26685338 rows × 2 columns</p>\n",
       "</div>"
      ],
      "text/plain": [
       "                                                   aid          cohort\n",
       "0         iCNU3FVvdky2wJTh+o+rhCidJutDL5z5fH+tX7rH8sg=  Email_Targeted\n",
       "1         vPhjIqVoUGlcCixejrR5ka3h6OLFRcbI78oBycrT6nQ=  Email_Targeted\n",
       "2         rZqJPH/boGpPK45Mzkr6G5WC/TKZb0VLYN/o12bfq30=  Email_Targeted\n",
       "3         mTj7alfHvX4+LXk1MdhTBOcP7QwM6DRRXLKW8W7WL+E=  Email_Targeted\n",
       "4         R1Z+P9q8JhxXck/srnZn8IcYaVvcBpiX8AQVD6+oR2I=  Email_Targeted\n",
       "...                                                ...             ...\n",
       "26685333  uWFlXgV/TDrgXpOteDqZgUd9xipqY+AWWnWOVRVhDAo=  Email_Targeted\n",
       "26685334  ZLpJanxUKmXvLjiXyXyNWk0pwIDsrH8qJlspGnSNwJs=  Email_Targeted\n",
       "26685335  WIdWPFNwEBucWNTYzPvxcbdGpm+8z6Ra9BWtoSGUuW4=  Email_Targeted\n",
       "26685336  PBF0KhC9xlEAHMXrFl/orXLBb5EeRg4dnZ/Ex0w+nFY=  Email_Targeted\n",
       "26685337  pvhbAp/oMDjrFI0p+dTG/bMfccdawUQsirxJPTi9WDk=  Email_Targeted\n",
       "\n",
       "[26685338 rows x 2 columns]"
      ]
     },
     "execution_count": 95,
     "metadata": {},
     "output_type": "execute_result"
    }
   ],
   "source": [
    "%%bigquery --project nbcu-ds-sandbox-a-001 --params $params\n",
    "select * from `nbcu-ds-sandbox-a-001.SLi_sandbox.All_Cohorts_no_account_type`"
   ]
  },
  {
   "cell_type": "code",
   "execution_count": 94,
   "metadata": {
    "vscode": {
     "languageId": "sql"
    }
   },
   "outputs": [
    {
     "data": {
      "application/vnd.jupyter.widget-view+json": {
       "model_id": "62c27a64602a4594a4bb45807024773c",
       "version_major": 2,
       "version_minor": 0
      },
      "text/plain": [
       "Query is running:   0%|          |"
      ]
     },
     "metadata": {},
     "output_type": "display_data"
    },
    {
     "data": {
      "application/vnd.jupyter.widget-view+json": {
       "model_id": "dd037fe666054d5b810229f7ccd8ad91",
       "version_major": 2,
       "version_minor": 0
      },
      "text/plain": [
       "Downloading:   0%|          |"
      ]
     },
     "metadata": {},
     "output_type": "display_data"
    },
    {
     "data": {
      "text/html": [
       "<div>\n",
       "<style scoped>\n",
       "    .dataframe tbody tr th:only-of-type {\n",
       "        vertical-align: middle;\n",
       "    }\n",
       "\n",
       "    .dataframe tbody tr th {\n",
       "        vertical-align: top;\n",
       "    }\n",
       "\n",
       "    .dataframe thead th {\n",
       "        text-align: right;\n",
       "    }\n",
       "</style>\n",
       "<table border=\"1\" class=\"dataframe\">\n",
       "  <thead>\n",
       "    <tr style=\"text-align: right;\">\n",
       "      <th></th>\n",
       "      <th>aid</th>\n",
       "      <th>cohort</th>\n",
       "      <th>account_type</th>\n",
       "    </tr>\n",
       "  </thead>\n",
       "  <tbody>\n",
       "    <tr>\n",
       "      <th>0</th>\n",
       "      <td>T3576lZJ6PBAHt4kfKJmLJPj6R+aQCZB0/J9VxJdZA4=</td>\n",
       "      <td>Email_Targeted</td>\n",
       "      <td>Free</td>\n",
       "    </tr>\n",
       "    <tr>\n",
       "      <th>1</th>\n",
       "      <td>bRtASLDM2MPJ5DJtxBH/kPXW9hygzFXVc1CrdU4mxdE=</td>\n",
       "      <td>Email_Targeted</td>\n",
       "      <td>Free</td>\n",
       "    </tr>\n",
       "    <tr>\n",
       "      <th>2</th>\n",
       "      <td>4hfPZRv2n+idvj2oH9X8UNUi9oOyxbqwuqi9HAn/gNs=</td>\n",
       "      <td>Email_Targeted</td>\n",
       "      <td>Free</td>\n",
       "    </tr>\n",
       "    <tr>\n",
       "      <th>3</th>\n",
       "      <td>Zzi/rgcXmW/6k1T2U4QVyjMsMjgDnzOzw68/dt334so=</td>\n",
       "      <td>Email_Targeted</td>\n",
       "      <td>Free</td>\n",
       "    </tr>\n",
       "    <tr>\n",
       "      <th>4</th>\n",
       "      <td>GwRixl2MgdGJCKvql3AjT5a14Vb7eDJRS/WsTcnySxI=</td>\n",
       "      <td>Email_Targeted</td>\n",
       "      <td>Free</td>\n",
       "    </tr>\n",
       "    <tr>\n",
       "      <th>...</th>\n",
       "      <td>...</td>\n",
       "      <td>...</td>\n",
       "      <td>...</td>\n",
       "    </tr>\n",
       "    <tr>\n",
       "      <th>26685333</th>\n",
       "      <td>HcoD6rP4xr2Skwt78xbd2i17TOljiPAbVBQ9uOJvt4U=</td>\n",
       "      <td>Email_Targeted</td>\n",
       "      <td>Paying SVOD</td>\n",
       "    </tr>\n",
       "    <tr>\n",
       "      <th>26685334</th>\n",
       "      <td>FuuowNrrLGimofSlaxtOLuU0TOve1QLvAZO+puAIjnU=</td>\n",
       "      <td>Email_Targeted</td>\n",
       "      <td>Paying SVOD</td>\n",
       "    </tr>\n",
       "    <tr>\n",
       "      <th>26685335</th>\n",
       "      <td>TikJqd6JyP+KNnusvjb7YcpuztAK/872lh+joTRDnwY=</td>\n",
       "      <td>Email_Targeted</td>\n",
       "      <td>Paying SVOD</td>\n",
       "    </tr>\n",
       "    <tr>\n",
       "      <th>26685336</th>\n",
       "      <td>Zdud7UDy7DgvBeAe2l/AKrc+4oJoi17fxe6/rs6JZns=</td>\n",
       "      <td>Email_Targeted</td>\n",
       "      <td>Paying SVOD</td>\n",
       "    </tr>\n",
       "    <tr>\n",
       "      <th>26685337</th>\n",
       "      <td>HYO0IfCDZPsw7xueL5eJEW8iQsJ324dxQZxWYBJXlJQ=</td>\n",
       "      <td>Email_Targeted</td>\n",
       "      <td>Paying SVOD</td>\n",
       "    </tr>\n",
       "  </tbody>\n",
       "</table>\n",
       "<p>26685338 rows × 3 columns</p>\n",
       "</div>"
      ],
      "text/plain": [
       "                                                   aid          cohort  \\\n",
       "0         T3576lZJ6PBAHt4kfKJmLJPj6R+aQCZB0/J9VxJdZA4=  Email_Targeted   \n",
       "1         bRtASLDM2MPJ5DJtxBH/kPXW9hygzFXVc1CrdU4mxdE=  Email_Targeted   \n",
       "2         4hfPZRv2n+idvj2oH9X8UNUi9oOyxbqwuqi9HAn/gNs=  Email_Targeted   \n",
       "3         Zzi/rgcXmW/6k1T2U4QVyjMsMjgDnzOzw68/dt334so=  Email_Targeted   \n",
       "4         GwRixl2MgdGJCKvql3AjT5a14Vb7eDJRS/WsTcnySxI=  Email_Targeted   \n",
       "...                                                ...             ...   \n",
       "26685333  HcoD6rP4xr2Skwt78xbd2i17TOljiPAbVBQ9uOJvt4U=  Email_Targeted   \n",
       "26685334  FuuowNrrLGimofSlaxtOLuU0TOve1QLvAZO+puAIjnU=  Email_Targeted   \n",
       "26685335  TikJqd6JyP+KNnusvjb7YcpuztAK/872lh+joTRDnwY=  Email_Targeted   \n",
       "26685336  Zdud7UDy7DgvBeAe2l/AKrc+4oJoi17fxe6/rs6JZns=  Email_Targeted   \n",
       "26685337  HYO0IfCDZPsw7xueL5eJEW8iQsJ324dxQZxWYBJXlJQ=  Email_Targeted   \n",
       "\n",
       "         account_type  \n",
       "0                Free  \n",
       "1                Free  \n",
       "2                Free  \n",
       "3                Free  \n",
       "4                Free  \n",
       "...               ...  \n",
       "26685333  Paying SVOD  \n",
       "26685334  Paying SVOD  \n",
       "26685335  Paying SVOD  \n",
       "26685336  Paying SVOD  \n",
       "26685337  Paying SVOD  \n",
       "\n",
       "[26685338 rows x 3 columns]"
      ]
     },
     "execution_count": 94,
     "metadata": {},
     "output_type": "execute_result"
    }
   ],
   "source": [
    "%%bigquery --project nbcu-ds-sandbox-a-001 --params $params\n",
    "select * from `nbcu-ds-sandbox-a-001.SLi_sandbox.All_Cohorts`"
   ]
  },
  {
   "cell_type": "code",
   "execution_count": 96,
   "metadata": {
    "vscode": {
     "languageId": "sql"
    }
   },
   "outputs": [
    {
     "data": {
      "application/vnd.jupyter.widget-view+json": {
       "model_id": "bccb9e081b914359ab43eeca98bdf6ac",
       "version_major": 2,
       "version_minor": 0
      },
      "text/plain": [
       "Query is running:   0%|          |"
      ]
     },
     "metadata": {},
     "output_type": "display_data"
    },
    {
     "data": {
      "text/html": [
       "<div>\n",
       "<style scoped>\n",
       "    .dataframe tbody tr th:only-of-type {\n",
       "        vertical-align: middle;\n",
       "    }\n",
       "\n",
       "    .dataframe tbody tr th {\n",
       "        vertical-align: top;\n",
       "    }\n",
       "\n",
       "    .dataframe thead th {\n",
       "        text-align: right;\n",
       "    }\n",
       "</style>\n",
       "<table border=\"1\" class=\"dataframe\">\n",
       "  <thead>\n",
       "    <tr style=\"text-align: right;\">\n",
       "      <th></th>\n",
       "    </tr>\n",
       "  </thead>\n",
       "  <tbody>\n",
       "  </tbody>\n",
       "</table>\n",
       "</div>"
      ],
      "text/plain": [
       "Empty DataFrame\n",
       "Columns: []\n",
       "Index: []"
      ]
     },
     "execution_count": 96,
     "metadata": {},
     "output_type": "execute_result"
    }
   ],
   "source": [
    "%%bigquery --project nbcu-ds-sandbox-a-001 --params $params\n",
    "CREATE OR REPLACE TABLE `nbcu-ds-sandbox-a-001.SLi_sandbox.Video_Viewing` AS (\n",
    "    SELECT \n",
    "        adobe_tracking_id\n",
    "        , COUNT (DISTINCT CASE WHEN VIDEO.num_views_started =1 THEN video.adobe_tracking_id ELSE NULL END) AS Distinct_Content_Starts\n",
    "        , SUM (VIDEO.num_views_started ) AS Total_Content_Starts\n",
    "        , SUM(VIDEO.num_seconds_played_no_ads)/3600 AS Viewing_Time\n",
    "        , COUNT(DISTINCT session_id) AS Distinct_Viewing_Sessions \n",
    "        , COUNT(DISTINCT(CASE WHEN (num_seconds_played_no_ads > CASE WHEN lower(consumption_type) = 'virtual channel' THEN 299 ELSE 0 END)\n",
    "                and (num_views_started>0) THEN CASE WHEN (lower(consumption_type) = \"shortform\") THEN \"Shortform\"\n",
    "                                                    WHEN lower(franchise) != 'other' THEN franchise ELSE display_name\n",
    "                                                    END\n",
    "                end)) as Repertoire_Pavo_Method\n",
    "                \n",
    "    FROM `nbcu-ds-sandbox-a-001.SLi_sandbox.All_Cohorts` a\n",
    "\n",
    "    INNER JOIN  `nbcu-ds-prod-001.PeacockDataMartSilver.SILVER_VIDEO` VIDEO\n",
    "        ON VIDEO.adobe_tracking_id = a.aid\n",
    "        AND adobe_date between @report_start_date AND @report_end_date\n",
    "    GROUP BY 1\n",
    ")\n"
   ]
  },
  {
   "cell_type": "code",
   "execution_count": 97,
   "metadata": {
    "vscode": {
     "languageId": "sql"
    }
   },
   "outputs": [
    {
     "data": {
      "application/vnd.jupyter.widget-view+json": {
       "model_id": "a1fde4e4d9ab4f1db57206d7e7a3b74d",
       "version_major": 2,
       "version_minor": 0
      },
      "text/plain": [
       "Query is running:   0%|          |"
      ]
     },
     "metadata": {},
     "output_type": "display_data"
    },
    {
     "data": {
      "text/html": [
       "<div>\n",
       "<style scoped>\n",
       "    .dataframe tbody tr th:only-of-type {\n",
       "        vertical-align: middle;\n",
       "    }\n",
       "\n",
       "    .dataframe tbody tr th {\n",
       "        vertical-align: top;\n",
       "    }\n",
       "\n",
       "    .dataframe thead th {\n",
       "        text-align: right;\n",
       "    }\n",
       "</style>\n",
       "<table border=\"1\" class=\"dataframe\">\n",
       "  <thead>\n",
       "    <tr style=\"text-align: right;\">\n",
       "      <th></th>\n",
       "    </tr>\n",
       "  </thead>\n",
       "  <tbody>\n",
       "  </tbody>\n",
       "</table>\n",
       "</div>"
      ],
      "text/plain": [
       "Empty DataFrame\n",
       "Columns: []\n",
       "Index: []"
      ]
     },
     "execution_count": 97,
     "metadata": {},
     "output_type": "execute_result"
    }
   ],
   "source": [
    "%%bigquery --project nbcu-ds-sandbox-a-001 --params $params\n",
    "CREATE OR REPLACE TABLE `nbcu-ds-sandbox-a-001.SLi_sandbox.Save_Denom` AS ( --'Lapsing_Users'\n",
    "    SELECT distinct adobe_tracking_id, date_of_last_view -- no need for max (days_since_last_view), can be saved multiple times, dedup later\n",
    "    FROM `nbcu-ds-prod-001.PeacockDataMartSilver.SILVER_PRIMARY_DEVICES` \n",
    "    WHERE report_date BETWEEN @report_start_date AND @report_end_date \n",
    "    AND days_since_last_view BETWEEN 15 AND 29 -- this guarantees we are only getting people who have at least past the 'lapsing' phase in the time period.\n",
    ")"
   ]
  },
  {
   "cell_type": "code",
   "execution_count": 98,
   "metadata": {
    "vscode": {
     "languageId": "sql"
    }
   },
   "outputs": [
    {
     "data": {
      "application/vnd.jupyter.widget-view+json": {
       "model_id": "6724b7d46000477babf84509f65601b3",
       "version_major": 2,
       "version_minor": 0
      },
      "text/plain": [
       "Query is running:   0%|          |"
      ]
     },
     "metadata": {},
     "output_type": "display_data"
    },
    {
     "data": {
      "text/html": [
       "<div>\n",
       "<style scoped>\n",
       "    .dataframe tbody tr th:only-of-type {\n",
       "        vertical-align: middle;\n",
       "    }\n",
       "\n",
       "    .dataframe tbody tr th {\n",
       "        vertical-align: top;\n",
       "    }\n",
       "\n",
       "    .dataframe thead th {\n",
       "        text-align: right;\n",
       "    }\n",
       "</style>\n",
       "<table border=\"1\" class=\"dataframe\">\n",
       "  <thead>\n",
       "    <tr style=\"text-align: right;\">\n",
       "      <th></th>\n",
       "    </tr>\n",
       "  </thead>\n",
       "  <tbody>\n",
       "  </tbody>\n",
       "</table>\n",
       "</div>"
      ],
      "text/plain": [
       "Empty DataFrame\n",
       "Columns: []\n",
       "Index: []"
      ]
     },
     "execution_count": 98,
     "metadata": {},
     "output_type": "execute_result"
    }
   ],
   "source": [
    "%%bigquery --project nbcu-ds-sandbox-a-001 --params $params\n",
    "CREATE OR REPLACE TABLE `nbcu-ds-sandbox-a-001.SLi_sandbox.Save_Num` as (\n",
    "        SELECT distinct a.adobe_tracking_id      \n",
    "        FROM `nbcu-ds-sandbox-a-001.SLi_sandbox.Save_Denom` a\n",
    "        INNER JOIN `nbcu-ds-prod-001.PeacockDataMartSilver.SILVER_VIDEO` VIDEO \n",
    "            ON a.adobe_tracking_id = VIDEO.adobe_tracking_id \n",
    "            AND adobe_date >= @report_start_date AND adobe_date<= @report_end_date\n",
    "            AND VIDEO.adobe_date >= DATE_ADD(date_of_last_view, INTERVAL 15 day)\n",
    "            AND VIDEO.adobe_date <= DATE_ADD(date_of_last_view, INTERVAL 29 day)\n",
    ")"
   ]
  },
  {
   "cell_type": "code",
   "execution_count": 99,
   "metadata": {
    "vscode": {
     "languageId": "sql"
    }
   },
   "outputs": [
    {
     "data": {
      "application/vnd.jupyter.widget-view+json": {
       "model_id": "3371a104b2a04e699e2826d800c45c00",
       "version_major": 2,
       "version_minor": 0
      },
      "text/plain": [
       "Query is running:   0%|          |"
      ]
     },
     "metadata": {},
     "output_type": "display_data"
    },
    {
     "data": {
      "text/html": [
       "<div>\n",
       "<style scoped>\n",
       "    .dataframe tbody tr th:only-of-type {\n",
       "        vertical-align: middle;\n",
       "    }\n",
       "\n",
       "    .dataframe tbody tr th {\n",
       "        vertical-align: top;\n",
       "    }\n",
       "\n",
       "    .dataframe thead th {\n",
       "        text-align: right;\n",
       "    }\n",
       "</style>\n",
       "<table border=\"1\" class=\"dataframe\">\n",
       "  <thead>\n",
       "    <tr style=\"text-align: right;\">\n",
       "      <th></th>\n",
       "    </tr>\n",
       "  </thead>\n",
       "  <tbody>\n",
       "  </tbody>\n",
       "</table>\n",
       "</div>"
      ],
      "text/plain": [
       "Empty DataFrame\n",
       "Columns: []\n",
       "Index: []"
      ]
     },
     "execution_count": 99,
     "metadata": {},
     "output_type": "execute_result"
    }
   ],
   "source": [
    "%%bigquery --project nbcu-ds-sandbox-a-001 --params $params\n",
    "CREATE OR REPLACE TABLE `nbcu-ds-sandbox-a-001.SLi_sandbox.Winback_Denom` AS ( --'Lapsed_Users'\n",
    "        SELECT distinct adobe_tracking_id, date_of_last_view\n",
    "        FROM `nbcu-ds-prod-001.PeacockDataMartSilver.SILVER_PRIMARY_DEVICES` \n",
    "        WHERE report_date BETWEEN @report_start_date AND @report_end_date \n",
    "        AND days_since_last_view >=30 AND days_since_last_view <= 90-- this guarantees we are only getting people who have at least past the 'lapsing' phase in the time period.\n",
    "    )"
   ]
  },
  {
   "cell_type": "code",
   "execution_count": 100,
   "metadata": {
    "vscode": {
     "languageId": "sql"
    }
   },
   "outputs": [
    {
     "data": {
      "application/vnd.jupyter.widget-view+json": {
       "model_id": "4108a3194f374fdaaa597ae56b07232d",
       "version_major": 2,
       "version_minor": 0
      },
      "text/plain": [
       "Query is running:   0%|          |"
      ]
     },
     "metadata": {},
     "output_type": "display_data"
    },
    {
     "data": {
      "text/html": [
       "<div>\n",
       "<style scoped>\n",
       "    .dataframe tbody tr th:only-of-type {\n",
       "        vertical-align: middle;\n",
       "    }\n",
       "\n",
       "    .dataframe tbody tr th {\n",
       "        vertical-align: top;\n",
       "    }\n",
       "\n",
       "    .dataframe thead th {\n",
       "        text-align: right;\n",
       "    }\n",
       "</style>\n",
       "<table border=\"1\" class=\"dataframe\">\n",
       "  <thead>\n",
       "    <tr style=\"text-align: right;\">\n",
       "      <th></th>\n",
       "    </tr>\n",
       "  </thead>\n",
       "  <tbody>\n",
       "  </tbody>\n",
       "</table>\n",
       "</div>"
      ],
      "text/plain": [
       "Empty DataFrame\n",
       "Columns: []\n",
       "Index: []"
      ]
     },
     "execution_count": 100,
     "metadata": {},
     "output_type": "execute_result"
    }
   ],
   "source": [
    "%%bigquery --project nbcu-ds-sandbox-a-001 --params $params\n",
    "CREATE OR REPLACE TABLE `nbcu-ds-sandbox-a-001.SLi_sandbox.Winback_Num` AS (\n",
    "    SELECT distinct a.adobe_tracking_id\n",
    "\n",
    "    FROM `nbcu-ds-sandbox-a-001.SLi_sandbox.Winback_Denom` a\n",
    "    INNER JOIN `nbcu-ds-prod-001.PeacockDataMartSilver.SILVER_VIDEO`  VIDEO \n",
    "        ON a.adobe_tracking_id = VIDEO.adobe_tracking_id \n",
    "        AND adobe_date >= @report_start_date AND adobe_date<= @report_end_date\n",
    "        AND VIDEO.adobe_date >= DATE_ADD(date_of_last_view, INTERVAL 30 day)\n",
    "    )"
   ]
  },
  {
   "cell_type": "code",
   "execution_count": 101,
   "metadata": {
    "vscode": {
     "languageId": "sql"
    }
   },
   "outputs": [
    {
     "data": {
      "application/vnd.jupyter.widget-view+json": {
       "model_id": "f45b9548a5b64f08855a3dac97819663",
       "version_major": 2,
       "version_minor": 0
      },
      "text/plain": [
       "Query is running:   0%|          |"
      ]
     },
     "metadata": {},
     "output_type": "display_data"
    },
    {
     "data": {
      "text/html": [
       "<div>\n",
       "<style scoped>\n",
       "    .dataframe tbody tr th:only-of-type {\n",
       "        vertical-align: middle;\n",
       "    }\n",
       "\n",
       "    .dataframe tbody tr th {\n",
       "        vertical-align: top;\n",
       "    }\n",
       "\n",
       "    .dataframe thead th {\n",
       "        text-align: right;\n",
       "    }\n",
       "</style>\n",
       "<table border=\"1\" class=\"dataframe\">\n",
       "  <thead>\n",
       "    <tr style=\"text-align: right;\">\n",
       "      <th></th>\n",
       "    </tr>\n",
       "  </thead>\n",
       "  <tbody>\n",
       "  </tbody>\n",
       "</table>\n",
       "</div>"
      ],
      "text/plain": [
       "Empty DataFrame\n",
       "Columns: []\n",
       "Index: []"
      ]
     },
     "execution_count": 101,
     "metadata": {},
     "output_type": "execute_result"
    }
   ],
   "source": [
    "%%bigquery --project nbcu-ds-sandbox-a-001 --params $params\n",
    "CREATE OR REPLACE TABLE `nbcu-ds-sandbox-a-001.SLi_sandbox.Upgrade_Denom` AS (\n",
    "-- upgrade metric 2.0: nonpaying to paying\n",
    "    SELECT distinct adobe_tracking_id \n",
    "    FROM `nbcu-ds-prod-001.PeacockDataMartSilver.SILVER_USER`  USER\n",
    "    WHERE paying_account_flag = 'NonPaying' \n",
    "    AND USER.report_date BETWEEN @report_start_date and @report_end_date\n",
    ")"
   ]
  },
  {
   "cell_type": "code",
   "execution_count": 102,
   "metadata": {
    "vscode": {
     "languageId": "sql"
    }
   },
   "outputs": [
    {
     "data": {
      "application/vnd.jupyter.widget-view+json": {
       "model_id": "1c8080d542d942098a98cece9c0877a1",
       "version_major": 2,
       "version_minor": 0
      },
      "text/plain": [
       "Query is running:   0%|          |"
      ]
     },
     "metadata": {},
     "output_type": "display_data"
    },
    {
     "data": {
      "text/html": [
       "<div>\n",
       "<style scoped>\n",
       "    .dataframe tbody tr th:only-of-type {\n",
       "        vertical-align: middle;\n",
       "    }\n",
       "\n",
       "    .dataframe tbody tr th {\n",
       "        vertical-align: top;\n",
       "    }\n",
       "\n",
       "    .dataframe thead th {\n",
       "        text-align: right;\n",
       "    }\n",
       "</style>\n",
       "<table border=\"1\" class=\"dataframe\">\n",
       "  <thead>\n",
       "    <tr style=\"text-align: right;\">\n",
       "      <th></th>\n",
       "    </tr>\n",
       "  </thead>\n",
       "  <tbody>\n",
       "  </tbody>\n",
       "</table>\n",
       "</div>"
      ],
      "text/plain": [
       "Empty DataFrame\n",
       "Columns: []\n",
       "Index: []"
      ]
     },
     "execution_count": 102,
     "metadata": {},
     "output_type": "execute_result"
    }
   ],
   "source": [
    "%%bigquery --project nbcu-ds-sandbox-a-001 --params $params\n",
    "CREATE OR REPLACE TABLE `nbcu-ds-sandbox-a-001.SLi_sandbox.Upgrade_Num` AS (\n",
    "-- find all users who have upgraded at least once in the month of\n",
    "    SELECT  distinct adobe_tracking_id\n",
    "    FROM\n",
    "        (SELECT  \n",
    "                report_date\n",
    "             , adobe_tracking_id     \n",
    "         FROM  `nbcu-ds-prod-001.PeacockDataMartSilver.SILVER_USER`  USER\n",
    "         WHERE entitlement_change_flag IN ('Upgrade: Free to Premium'\n",
    "                                                    , 'Upgrade: Free to Premium+'\n",
    "                                                    , 'Upgrade: Premium to Premium+') \n",
    "         AND paying_account_flag = 'Paying'                                            \n",
    "            AND USER.report_date BETWEEN @report_start_date and @report_end_date\n",
    "        ) \n",
    ")  \n",
    "\n",
    "--this doesn't come from upgrade_denom, maybe it should be?"
   ]
  },
  {
   "cell_type": "code",
   "execution_count": 103,
   "metadata": {
    "vscode": {
     "languageId": "sql"
    }
   },
   "outputs": [
    {
     "data": {
      "application/vnd.jupyter.widget-view+json": {
       "model_id": "40a75386488d413690121174063fe11c",
       "version_major": 2,
       "version_minor": 0
      },
      "text/plain": [
       "Query is running:   0%|          |"
      ]
     },
     "metadata": {},
     "output_type": "display_data"
    },
    {
     "data": {
      "text/html": [
       "<div>\n",
       "<style scoped>\n",
       "    .dataframe tbody tr th:only-of-type {\n",
       "        vertical-align: middle;\n",
       "    }\n",
       "\n",
       "    .dataframe tbody tr th {\n",
       "        vertical-align: top;\n",
       "    }\n",
       "\n",
       "    .dataframe thead th {\n",
       "        text-align: right;\n",
       "    }\n",
       "</style>\n",
       "<table border=\"1\" class=\"dataframe\">\n",
       "  <thead>\n",
       "    <tr style=\"text-align: right;\">\n",
       "      <th></th>\n",
       "    </tr>\n",
       "  </thead>\n",
       "  <tbody>\n",
       "  </tbody>\n",
       "</table>\n",
       "</div>"
      ],
      "text/plain": [
       "Empty DataFrame\n",
       "Columns: []\n",
       "Index: []"
      ]
     },
     "execution_count": 103,
     "metadata": {},
     "output_type": "execute_result"
    }
   ],
   "source": [
    "%%bigquery --project nbcu-ds-sandbox-a-001 --params $params\n",
    "CREATE OR REPLACE TABLE `nbcu-ds-sandbox-a-001.SLi_sandbox.Paid_Churn_Denom` AS (\n",
    "    SELECT distinct adobe_tracking_id\n",
    "    FROM `nbcu-ds-prod-001.PeacockDataMartSilver.SILVER_USER` \n",
    "    WHERE paying_account_flag = 'Paying'\n",
    "    AND auto_renew_flag = 'OFF'\n",
    "    AND report_date BETWEEN @report_start_date and @report_end_date\n",
    ")"
   ]
  },
  {
   "cell_type": "code",
   "execution_count": 104,
   "metadata": {
    "vscode": {
     "languageId": "sql"
    }
   },
   "outputs": [
    {
     "data": {
      "application/vnd.jupyter.widget-view+json": {
       "model_id": "fcf1a030696348bdb3baec99c39cb023",
       "version_major": 2,
       "version_minor": 0
      },
      "text/plain": [
       "Query is running:   0%|          |"
      ]
     },
     "metadata": {},
     "output_type": "display_data"
    },
    {
     "data": {
      "text/html": [
       "<div>\n",
       "<style scoped>\n",
       "    .dataframe tbody tr th:only-of-type {\n",
       "        vertical-align: middle;\n",
       "    }\n",
       "\n",
       "    .dataframe tbody tr th {\n",
       "        vertical-align: top;\n",
       "    }\n",
       "\n",
       "    .dataframe thead th {\n",
       "        text-align: right;\n",
       "    }\n",
       "</style>\n",
       "<table border=\"1\" class=\"dataframe\">\n",
       "  <thead>\n",
       "    <tr style=\"text-align: right;\">\n",
       "      <th></th>\n",
       "    </tr>\n",
       "  </thead>\n",
       "  <tbody>\n",
       "  </tbody>\n",
       "</table>\n",
       "</div>"
      ],
      "text/plain": [
       "Empty DataFrame\n",
       "Columns: []\n",
       "Index: []"
      ]
     },
     "execution_count": 104,
     "metadata": {},
     "output_type": "execute_result"
    }
   ],
   "source": [
    "%%bigquery --project nbcu-ds-sandbox-a-001 --params $params\n",
    "CREATE OR REPLACE TABLE `nbcu-ds-sandbox-a-001.SLi_sandbox.Paid_Churn_Num` AS (\n",
    "    SELECT  distinct adobe_tracking_id\n",
    "    FROM\n",
    "    (\n",
    "        SELECT  adobe_tracking_id\n",
    "            ,report_date\n",
    "            ,auto_renew_flag                                                                      AS auto_renew_flag_today\n",
    "            ,LEAD(auto_renew_flag,1) OVER ( partition by adobe_tracking_id ORDER BY report_date ) AS auto_renew_flag_next_day\n",
    "        FROM `nbcu-ds-prod-001.PeacockDataMartSilver.SILVER_USER`\n",
    "        WHERE report_date BETWEEN @report_start_date AND @report_end_date\n",
    "        ORDER BY 1, 2 \n",
    "    )\n",
    "    WHERE auto_renew_flag_today = 'OFF'\n",
    "    AND auto_renew_flag_next_day = 'ON'\n",
    ")"
   ]
  },
  {
   "cell_type": "code",
   "execution_count": 105,
   "metadata": {
    "vscode": {
     "languageId": "sql"
    }
   },
   "outputs": [
    {
     "data": {
      "application/vnd.jupyter.widget-view+json": {
       "model_id": "e3a173cd64c24a51a3456167da7cd804",
       "version_major": 2,
       "version_minor": 0
      },
      "text/plain": [
       "Query is running:   0%|          |"
      ]
     },
     "metadata": {},
     "output_type": "display_data"
    },
    {
     "data": {
      "text/html": [
       "<div>\n",
       "<style scoped>\n",
       "    .dataframe tbody tr th:only-of-type {\n",
       "        vertical-align: middle;\n",
       "    }\n",
       "\n",
       "    .dataframe tbody tr th {\n",
       "        vertical-align: top;\n",
       "    }\n",
       "\n",
       "    .dataframe thead th {\n",
       "        text-align: right;\n",
       "    }\n",
       "</style>\n",
       "<table border=\"1\" class=\"dataframe\">\n",
       "  <thead>\n",
       "    <tr style=\"text-align: right;\">\n",
       "      <th></th>\n",
       "    </tr>\n",
       "  </thead>\n",
       "  <tbody>\n",
       "  </tbody>\n",
       "</table>\n",
       "</div>"
      ],
      "text/plain": [
       "Empty DataFrame\n",
       "Columns: []\n",
       "Index: []"
      ]
     },
     "execution_count": 105,
     "metadata": {},
     "output_type": "execute_result"
    }
   ],
   "source": [
    "%%bigquery --project nbcu-ds-sandbox-a-001 --params $params\n",
    "CREATE OR REPLACE TABLE `nbcu-ds-sandbox-a-001.SLi_sandbox.New_Upgrade_Denom` AS (\n",
    "    select distinct adobe_tracking_id\n",
    "    from `nbcu-ds-sandbox-a-001.sl_sandbox.upgrade_never`\n",
    "    where report_date between @report_start_date and @report_end_date\n",
    ")"
   ]
  },
  {
   "cell_type": "code",
   "execution_count": 106,
   "metadata": {
    "vscode": {
     "languageId": "sql"
    }
   },
   "outputs": [
    {
     "data": {
      "application/vnd.jupyter.widget-view+json": {
       "model_id": "ab7282c6bd57427d86688a7c069e468a",
       "version_major": 2,
       "version_minor": 0
      },
      "text/plain": [
       "Query is running:   0%|          |"
      ]
     },
     "metadata": {},
     "output_type": "display_data"
    },
    {
     "data": {
      "text/html": [
       "<div>\n",
       "<style scoped>\n",
       "    .dataframe tbody tr th:only-of-type {\n",
       "        vertical-align: middle;\n",
       "    }\n",
       "\n",
       "    .dataframe tbody tr th {\n",
       "        vertical-align: top;\n",
       "    }\n",
       "\n",
       "    .dataframe thead th {\n",
       "        text-align: right;\n",
       "    }\n",
       "</style>\n",
       "<table border=\"1\" class=\"dataframe\">\n",
       "  <thead>\n",
       "    <tr style=\"text-align: right;\">\n",
       "      <th></th>\n",
       "    </tr>\n",
       "  </thead>\n",
       "  <tbody>\n",
       "  </tbody>\n",
       "</table>\n",
       "</div>"
      ],
      "text/plain": [
       "Empty DataFrame\n",
       "Columns: []\n",
       "Index: []"
      ]
     },
     "execution_count": 106,
     "metadata": {},
     "output_type": "execute_result"
    }
   ],
   "source": [
    "%%bigquery --project nbcu-ds-sandbox-a-001 --params $params\n",
    "CREATE OR REPLACE TABLE `nbcu-ds-sandbox-a-001.SLi_sandbox.New_Upgrade_Num` AS (\n",
    "    SELECT  distinct adobe_tracking_id\n",
    "    FROM `nbcu-ds-sandbox-a-001.sl_sandbox.upgrade_date_rank`\n",
    "    WHERE upgrade_row_number = 1\n",
    "    AND report_date BETWEEN @report_start_date AND @report_end_date\n",
    ")"
   ]
  },
  {
   "cell_type": "code",
   "execution_count": 107,
   "metadata": {
    "vscode": {
     "languageId": "sql"
    }
   },
   "outputs": [
    {
     "data": {
      "application/vnd.jupyter.widget-view+json": {
       "model_id": "295ff706287a4ced8e706bc7f9280a44",
       "version_major": 2,
       "version_minor": 0
      },
      "text/plain": [
       "Query is running:   0%|          |"
      ]
     },
     "metadata": {},
     "output_type": "display_data"
    },
    {
     "data": {
      "text/html": [
       "<div>\n",
       "<style scoped>\n",
       "    .dataframe tbody tr th:only-of-type {\n",
       "        vertical-align: middle;\n",
       "    }\n",
       "\n",
       "    .dataframe tbody tr th {\n",
       "        vertical-align: top;\n",
       "    }\n",
       "\n",
       "    .dataframe thead th {\n",
       "        text-align: right;\n",
       "    }\n",
       "</style>\n",
       "<table border=\"1\" class=\"dataframe\">\n",
       "  <thead>\n",
       "    <tr style=\"text-align: right;\">\n",
       "      <th></th>\n",
       "    </tr>\n",
       "  </thead>\n",
       "  <tbody>\n",
       "  </tbody>\n",
       "</table>\n",
       "</div>"
      ],
      "text/plain": [
       "Empty DataFrame\n",
       "Columns: []\n",
       "Index: []"
      ]
     },
     "execution_count": 107,
     "metadata": {},
     "output_type": "execute_result"
    }
   ],
   "source": [
    "%%bigquery --project nbcu-ds-sandbox-a-001 --params $params\n",
    "CREATE OR REPLACE TABLE `nbcu-ds-sandbox-a-001.SLi_sandbox.Paid_Winbacks_Denom` AS (\n",
    "    SELECT  distinct adobe_tracking_id\n",
    "    FROM\n",
    "    (\n",
    "        SELECT  adobe_tracking_id\n",
    "            ,report_date\n",
    "        FROM `nbcu-ds-prod-001.PeacockDataMartSilver.SILVER_USER`\n",
    "        WHERE paying_account_flag = 'NonPaying'\n",
    "        AND report_date BETWEEN @report_start_date AND @report_end_date \n",
    "    )\n",
    "    WHERE adobe_tracking_id NOT IN ( SELECT distinct adobe_tracking_id FROM `nbcu-ds-sandbox-a-001.sl_sandbox.upgrade_never` WHERE report_date BETWEEN @report_start_date AND @report_end_date )\n",
    ")"
   ]
  },
  {
   "cell_type": "code",
   "execution_count": 108,
   "metadata": {
    "vscode": {
     "languageId": "sql"
    }
   },
   "outputs": [
    {
     "data": {
      "application/vnd.jupyter.widget-view+json": {
       "model_id": "1d28e2dd93be4999a901625fe4408b26",
       "version_major": 2,
       "version_minor": 0
      },
      "text/plain": [
       "Query is running:   0%|          |"
      ]
     },
     "metadata": {},
     "output_type": "display_data"
    },
    {
     "data": {
      "text/html": [
       "<div>\n",
       "<style scoped>\n",
       "    .dataframe tbody tr th:only-of-type {\n",
       "        vertical-align: middle;\n",
       "    }\n",
       "\n",
       "    .dataframe tbody tr th {\n",
       "        vertical-align: top;\n",
       "    }\n",
       "\n",
       "    .dataframe thead th {\n",
       "        text-align: right;\n",
       "    }\n",
       "</style>\n",
       "<table border=\"1\" class=\"dataframe\">\n",
       "  <thead>\n",
       "    <tr style=\"text-align: right;\">\n",
       "      <th></th>\n",
       "    </tr>\n",
       "  </thead>\n",
       "  <tbody>\n",
       "  </tbody>\n",
       "</table>\n",
       "</div>"
      ],
      "text/plain": [
       "Empty DataFrame\n",
       "Columns: []\n",
       "Index: []"
      ]
     },
     "execution_count": 108,
     "metadata": {},
     "output_type": "execute_result"
    }
   ],
   "source": [
    "%%bigquery --project nbcu-ds-sandbox-a-001 --params $params\n",
    "CREATE OR REPLACE TABLE `nbcu-ds-sandbox-a-001.SLi_sandbox.Paid_Winbacks_Num` AS (\n",
    "\n",
    "    select distinct adobe_tracking_id\n",
    "    from `nbcu-ds-sandbox-a-001.sl_sandbox.upgrade_date_rank`\n",
    "    where upgrade_row_number > 1\n",
    "    and report_date between @report_start_date and @report_end_date\n",
    ")"
   ]
  },
  {
   "cell_type": "code",
   "execution_count": 109,
   "metadata": {
    "vscode": {
     "languageId": "sql"
    }
   },
   "outputs": [
    {
     "data": {
      "application/vnd.jupyter.widget-view+json": {
       "model_id": "df1f33c59c4b4f83aa9c82b44a509ffe",
       "version_major": 2,
       "version_minor": 0
      },
      "text/plain": [
       "Query is running:   0%|          |"
      ]
     },
     "metadata": {},
     "output_type": "display_data"
    },
    {
     "data": {
      "text/html": [
       "<div>\n",
       "<style scoped>\n",
       "    .dataframe tbody tr th:only-of-type {\n",
       "        vertical-align: middle;\n",
       "    }\n",
       "\n",
       "    .dataframe tbody tr th {\n",
       "        vertical-align: top;\n",
       "    }\n",
       "\n",
       "    .dataframe thead th {\n",
       "        text-align: right;\n",
       "    }\n",
       "</style>\n",
       "<table border=\"1\" class=\"dataframe\">\n",
       "  <thead>\n",
       "    <tr style=\"text-align: right;\">\n",
       "      <th></th>\n",
       "    </tr>\n",
       "  </thead>\n",
       "  <tbody>\n",
       "  </tbody>\n",
       "</table>\n",
       "</div>"
      ],
      "text/plain": [
       "Empty DataFrame\n",
       "Columns: []\n",
       "Index: []"
      ]
     },
     "execution_count": 109,
     "metadata": {},
     "output_type": "execute_result"
    }
   ],
   "source": [
    "%%bigquery --project nbcu-ds-sandbox-a-001 --params $params\n",
    "CREATE OR REPLACE TABLE `nbcu-ds-sandbox-a-001.SLi_sandbox.EOM_Paid_Churn_Denom` AS (\n",
    "  select adobe_tracking_id\n",
    "  from `nbcu-ds-prod-001.PeacockDataMartSilver.SILVER_CHURN`\n",
    "  where date = @report_end_date\n",
    "  and entitlement = 'Paid'\n",
    ")\n"
   ]
  },
  {
   "cell_type": "code",
   "execution_count": 110,
   "metadata": {
    "vscode": {
     "languageId": "sql"
    }
   },
   "outputs": [
    {
     "data": {
      "application/vnd.jupyter.widget-view+json": {
       "model_id": "5227c55ca654437e88c5c1f2f9e76a53",
       "version_major": 2,
       "version_minor": 0
      },
      "text/plain": [
       "Query is running:   0%|          |"
      ]
     },
     "metadata": {},
     "output_type": "display_data"
    },
    {
     "data": {
      "text/html": [
       "<div>\n",
       "<style scoped>\n",
       "    .dataframe tbody tr th:only-of-type {\n",
       "        vertical-align: middle;\n",
       "    }\n",
       "\n",
       "    .dataframe tbody tr th {\n",
       "        vertical-align: top;\n",
       "    }\n",
       "\n",
       "    .dataframe thead th {\n",
       "        text-align: right;\n",
       "    }\n",
       "</style>\n",
       "<table border=\"1\" class=\"dataframe\">\n",
       "  <thead>\n",
       "    <tr style=\"text-align: right;\">\n",
       "      <th></th>\n",
       "    </tr>\n",
       "  </thead>\n",
       "  <tbody>\n",
       "  </tbody>\n",
       "</table>\n",
       "</div>"
      ],
      "text/plain": [
       "Empty DataFrame\n",
       "Columns: []\n",
       "Index: []"
      ]
     },
     "execution_count": 110,
     "metadata": {},
     "output_type": "execute_result"
    }
   ],
   "source": [
    "%%bigquery --project nbcu-ds-sandbox-a-001 --params $params\n",
    "CREATE OR REPLACE TABLE `nbcu-ds-sandbox-a-001.SLi_sandbox.EOM_Paid_Churn_Num` AS (\n",
    "  select adobe_tracking_id\n",
    "  from `nbcu-ds-prod-001.PeacockDataMartSilver.SILVER_CHURN`\n",
    "  where date = @report_end_date\n",
    "  and entitlement = 'Paid'\n",
    "  and Churn_flag = 'Churn'\n",
    ")"
   ]
  },
  {
   "attachments": {},
   "cell_type": "markdown",
   "metadata": {},
   "source": [
    "## Put everything together"
   ]
  },
  {
   "cell_type": "code",
   "execution_count": 111,
   "metadata": {
    "vscode": {
     "languageId": "sql"
    }
   },
   "outputs": [
    {
     "data": {
      "application/vnd.jupyter.widget-view+json": {
       "model_id": "3f8e993e0c7e4c64bf8ead19276cf0e7",
       "version_major": 2,
       "version_minor": 0
      },
      "text/plain": [
       "Query is running:   0%|          |"
      ]
     },
     "metadata": {},
     "output_type": "display_data"
    },
    {
     "data": {
      "text/html": [
       "<div>\n",
       "<style scoped>\n",
       "    .dataframe tbody tr th:only-of-type {\n",
       "        vertical-align: middle;\n",
       "    }\n",
       "\n",
       "    .dataframe tbody tr th {\n",
       "        vertical-align: top;\n",
       "    }\n",
       "\n",
       "    .dataframe thead th {\n",
       "        text-align: right;\n",
       "    }\n",
       "</style>\n",
       "<table border=\"1\" class=\"dataframe\">\n",
       "  <thead>\n",
       "    <tr style=\"text-align: right;\">\n",
       "      <th></th>\n",
       "    </tr>\n",
       "  </thead>\n",
       "  <tbody>\n",
       "  </tbody>\n",
       "</table>\n",
       "</div>"
      ],
      "text/plain": [
       "Empty DataFrame\n",
       "Columns: []\n",
       "Index: []"
      ]
     },
     "execution_count": 111,
     "metadata": {},
     "output_type": "execute_result"
    }
   ],
   "source": [
    "%%bigquery --project nbcu-ds-sandbox-a-001 --params $params\n",
    "CREATE OR REPLACE TABLE `nbcu-ds-sandbox-a-001.SLi_sandbox.CTE_1` AS (\n",
    "  SELECT \n",
    "    @report_start_date AS Report_Month\n",
    "        , a.Account_Type\n",
    "    \n",
    "        , count(distinct case when cohort = 'Email_Targeted' then a.aid end ) as Distinct_Cohort_Size_Targeted\n",
    "        , count(distinct case when cohort = 'Holdout' then a.aid end) as Distinct_Cohort_Size_Holdout\n",
    "\n",
    "        , count(distinct case when cohort = 'Email_Targeted' then video.adobe_tracking_id end ) as Total_Returns_Targeted\n",
    "        , count(distinct case when cohort = 'Holdout' then video.adobe_tracking_id end) as Total_Returns_Holdout\n",
    "\n",
    "        , sum(case when cohort = 'Email_Targeted' then video.Viewing_Time end ) as Total_Usage_Targeted\n",
    "        , sum(case when cohort = 'Holdout' then video.Viewing_Time end) as Total_Usage_Holdout\n",
    "\n",
    "        , sum(case when cohort = 'Email_Targeted' then video.Repertoire_Pavo_Method end ) as Total_Repertoire_Targeted\n",
    "        , sum(case when cohort = 'Holdout' then video.Repertoire_Pavo_Method end) as Total_Repertoire_Holdout\n",
    "\n",
    "        , sum(case when cohort = 'Email_Targeted' then video.Distinct_Viewing_Sessions end ) as Total_Viewing_Sessions_Targeted\n",
    "        , sum(case when cohort = 'Holdout' then video.Distinct_Viewing_Sessions end) as Total_Viewing_Sessions_Holdout\n",
    "\n",
    "\n",
    "        , count(distinct case when cohort = 'Email_Targeted' then Winback_Denom.adobe_tracking_id end ) as Winback_Denom_Targeted\n",
    "        , count(distinct case when cohort = 'Email_Targeted' then Winback_Num.adobe_tracking_id end) as Winback_Num_Targeted\n",
    "        , count(distinct case when cohort = 'Holdout' then Winback_Denom.adobe_tracking_id end ) as Winback_Denom_Holdout\n",
    "        , count(distinct case when cohort = 'Holdout' then Winback_Num.adobe_tracking_id end) as Winback_Num_Holdout\n",
    "\n",
    "        , count(distinct case when cohort = 'Email_Targeted' then Save_Denom.adobe_tracking_id end ) as Save_Denom_Targeted\n",
    "        , count(distinct case when cohort = 'Email_Targeted' then Save_Num.adobe_tracking_id end) as Save_Num_Targeted\n",
    "        , count(distinct case when cohort = 'Holdout' then Save_Denom.adobe_tracking_id end ) as Save_Denom_Holdout\n",
    "        , count(distinct case when cohort = 'Holdout' then Save_Num.adobe_tracking_id end) as Save_Num_Holdout\n",
    "\n",
    "        , count(distinct case when cohort = 'Email_Targeted' then Upgrade_Denom.adobe_tracking_id end ) as Upgrades_Denom_Targeted\n",
    "        , count(distinct case when cohort = 'Email_Targeted' then Upgrade_Num.adobe_tracking_id end) as Upgrades_Num_Targeted\n",
    "        , count(distinct case when cohort = 'Holdout' then Upgrade_Denom.adobe_tracking_id end ) as Upgrades_Denom_Holdout\n",
    "        , count(distinct case when cohort = 'Holdout' then Upgrade_Num.adobe_tracking_id end) as Upgrades_Num_Holdout\n",
    "\n",
    "\n",
    "\n",
    "        , count(distinct case when cohort = 'Email_Targeted' then New_Upgrade_Denom.adobe_tracking_id end ) as Total_New_Upgrade_Denom_Targeted\n",
    "        , count(distinct case when cohort = 'Email_Targeted' then New_Upgrade_Num.adobe_tracking_id end) as Total_New_Upgrade_Num_Targeted\n",
    "        , count(distinct case when cohort = 'Holdout' then New_Upgrade_Denom.adobe_tracking_id end ) as Total_New_Upgrade_Denom_Holdout\n",
    "        , count(distinct case when cohort = 'Holdout' then New_Upgrade_Num.adobe_tracking_id end) as Total_New_Upgrade_Num_Holdout\n",
    "\n",
    "        , count(distinct case when cohort = 'Email_Targeted' then Paid_Winbacks_Denom.adobe_tracking_id end ) as Total_Paid_Winbacks_Denom_Targeted\n",
    "        , count(distinct case when cohort = 'Email_Targeted' then Paid_Winbacks_Num.adobe_tracking_id end) as Total_Paid_Winbacks_Num_Targeted\n",
    "        , count(distinct case when cohort = 'Holdout' then Paid_Winbacks_Denom.adobe_tracking_id end ) as Total_Paid_Winbacks_Denom_Holdout\n",
    "        , count(distinct case when cohort = 'Holdout' then Paid_Winbacks_Num.adobe_tracking_id end) as Total_Paid_Winbacks_Num_Holdout\n",
    "\n",
    "        , count(distinct case when cohort = 'Email_Targeted' then Paid_Churn_Denom.adobe_tracking_id end ) as Total_Paid_Churn_Denom_Targeted\n",
    "        , count(distinct case when cohort = 'Email_Targeted' then Paid_Churn_Num.adobe_tracking_id end) as Total_Paid_Churn_Num_Targeted\n",
    "        , count(distinct case when cohort = 'Holdout' then Paid_Churn_Denom.adobe_tracking_id end ) as Total_Paid_Churn_Denom_Holdout\n",
    "        , count(distinct case when cohort = 'Holdout' then Paid_Churn_Num.adobe_tracking_id end) as Total_Paid_Churn_Num_Holdout\n",
    "\n",
    "        , count(distinct case when cohort = 'Email_Targeted' then EOM_Paid_Churn_Denom.adobe_tracking_id end ) as EOM_Paid_Churn_Denom_Targeted\n",
    "        , count(distinct case when cohort = 'Email_Targeted' then EOM_Paid_Churn_Num.adobe_tracking_id end) as EOM_Paid_Churn_Num_Targeted\n",
    "        , count(distinct case when cohort = 'Holdout' then EOM_Paid_Churn_Denom.adobe_tracking_id end ) as EOM_Paid_Churn_Denom_Holdout\n",
    "        , count(distinct case when cohort = 'Holdout' then EOM_Paid_Churn_Num.adobe_tracking_id end) as EOM_Paid_Churn_Num_Holdout\n",
    "\n",
    "\n",
    "  FROM `nbcu-ds-sandbox-a-001.SLi_sandbox.All_Cohorts` a\n",
    "  LEFT JOIN `nbcu-ds-sandbox-a-001.SLi_sandbox.Video_Viewing` video\n",
    "      ON a.aid = video.adobe_tracking_id\n",
    "\n",
    "  LEFT JOIN `nbcu-ds-sandbox-a-001.SLi_sandbox.Winback_Denom` Winback_Denom\n",
    "      ON a.aid = Winback_Denom.adobe_tracking_id\n",
    "\n",
    "  LEFT JOIN `nbcu-ds-sandbox-a-001.SLi_sandbox.Winback_Num` Winback_Num\n",
    "      ON Winback_Denom.adobe_tracking_id = Winback_Num.adobe_tracking_id\n",
    "\n",
    "  LEFT JOIN `nbcu-ds-sandbox-a-001.SLi_sandbox.Save_Denom` Save_Denom\n",
    "      ON a.aid = Save_Denom.adobe_tracking_id\n",
    "\n",
    "  LEFT JOIN `nbcu-ds-sandbox-a-001.SLi_sandbox.Save_Num` Save_Num\n",
    "      ON Save_Denom.adobe_tracking_id = Save_Num.adobe_tracking_id\n",
    "\n",
    "  LEFT JOIN `nbcu-ds-sandbox-a-001.SLi_sandbox.Upgrade_Denom` Upgrade_Denom\n",
    "      ON a.aid = Upgrade_Denom.adobe_tracking_id\n",
    "\n",
    "  LEFT JOIN `nbcu-ds-sandbox-a-001.SLi_sandbox.Upgrade_Num` Upgrade_Num\n",
    "      ON Upgrade_Denom.adobe_tracking_id = Upgrade_Num.adobe_tracking_id\n",
    "\n",
    "  LEFT JOIN `nbcu-ds-sandbox-a-001.SLi_sandbox.New_Upgrade_Denom` New_Upgrade_Denom\n",
    "      on a.aid = New_Upgrade_Denom.adobe_tracking_id\n",
    "\n",
    "  LEFT JOIN `nbcu-ds-sandbox-a-001.SLi_sandbox.New_Upgrade_Num` New_Upgrade_Num\n",
    "      on New_Upgrade_Denom.adobe_tracking_id = New_Upgrade_Num.adobe_tracking_id\n",
    "\n",
    "  LEFT JOIN `nbcu-ds-sandbox-a-001.SLi_sandbox.Paid_Winbacks_Denom` Paid_Winbacks_Denom\n",
    "      on a.aid = Paid_Winbacks_Denom.adobe_tracking_id\n",
    "\n",
    "  LEFT JOIN `nbcu-ds-sandbox-a-001.SLi_sandbox.Paid_Winbacks_Num` Paid_Winbacks_Num\n",
    "      on Paid_Winbacks_Num.adobe_tracking_id = Paid_Winbacks_Denom.adobe_tracking_id\n",
    "\n",
    "  LEFT JOIN `nbcu-ds-sandbox-a-001.SLi_sandbox.Paid_Churn_Denom` Paid_Churn_Denom\n",
    "      on a.aid = Paid_Churn_Denom.adobe_tracking_id\n",
    "\n",
    "  LEFT JOIN `nbcu-ds-sandbox-a-001.SLi_sandbox.Paid_Churn_Num` Paid_Churn_Num\n",
    "      on Paid_Churn_Denom.adobe_tracking_id = Paid_Churn_Num.adobe_tracking_id\n",
    "\n",
    "  LEFT JOIN `nbcu-ds-sandbox-a-001.SLi_sandbox.EOM_Paid_Churn_Denom` EOM_Paid_Churn_Denom\n",
    "      on a.aid = EOM_Paid_Churn_Denom.adobe_tracking_id\n",
    "\n",
    "  LEFT JOIN `nbcu-ds-sandbox-a-001.SLi_sandbox.EOM_Paid_Churn_Num` EOM_Paid_Churn_Num\n",
    "      on EOM_Paid_Churn_Denom.adobe_tracking_id = EOM_Paid_Churn_Num.adobe_tracking_id\n",
    "\n",
    "  Group By 1,2\n",
    "  )"
   ]
  },
  {
   "cell_type": "code",
   "execution_count": 112,
   "metadata": {
    "vscode": {
     "languageId": "sql"
    }
   },
   "outputs": [
    {
     "data": {
      "application/vnd.jupyter.widget-view+json": {
       "model_id": "4312d6294178423f9a7447ac5651c8b9",
       "version_major": 2,
       "version_minor": 0
      },
      "text/plain": [
       "Query is running:   0%|          |"
      ]
     },
     "metadata": {},
     "output_type": "display_data"
    },
    {
     "data": {
      "application/vnd.jupyter.widget-view+json": {
       "model_id": "cf1659d3c2f142c3b2c58fbb08c9985e",
       "version_major": 2,
       "version_minor": 0
      },
      "text/plain": [
       "Downloading:   0%|          |"
      ]
     },
     "metadata": {},
     "output_type": "display_data"
    }
   ],
   "source": [
    "%%bigquery df --project nbcu-ds-sandbox-a-001 --params $params\n",
    "select * from `nbcu-ds-sandbox-a-001.SLi_sandbox.CTE_1`"
   ]
  },
  {
   "cell_type": "code",
   "execution_count": 113,
   "metadata": {
    "vscode": {
     "languageId": "sql"
    }
   },
   "outputs": [
    {
     "data": {
      "application/vnd.jupyter.widget-view+json": {
       "model_id": "c155dfcbab324f75830d5d1a43ab1635",
       "version_major": 2,
       "version_minor": 0
      },
      "text/plain": [
       "Query is running:   0%|          |"
      ]
     },
     "metadata": {},
     "output_type": "display_data"
    },
    {
     "data": {
      "application/vnd.jupyter.widget-view+json": {
       "model_id": "3193ae426b914acfa135616d6bb88513",
       "version_major": 2,
       "version_minor": 0
      },
      "text/plain": [
       "Downloading:   0%|          |"
      ]
     },
     "metadata": {},
     "output_type": "display_data"
    }
   ],
   "source": [
    "%%bigquery df2 --project nbcu-ds-sandbox-a-001 --params $params\n",
    "select * from `nbcu-ds-sandbox-a-001.SLi_sandbox.CTE_1_no_account_type`"
   ]
  },
  {
   "cell_type": "code",
   "execution_count": 114,
   "metadata": {
    "vscode": {
     "languageId": "sql"
    }
   },
   "outputs": [
    {
     "data": {
      "text/html": [
       "<div>\n",
       "<style scoped>\n",
       "    .dataframe tbody tr th:only-of-type {\n",
       "        vertical-align: middle;\n",
       "    }\n",
       "\n",
       "    .dataframe tbody tr th {\n",
       "        vertical-align: top;\n",
       "    }\n",
       "\n",
       "    .dataframe thead th {\n",
       "        text-align: right;\n",
       "    }\n",
       "</style>\n",
       "<table border=\"1\" class=\"dataframe\">\n",
       "  <thead>\n",
       "    <tr style=\"text-align: right;\">\n",
       "      <th></th>\n",
       "      <th>Report_Month</th>\n",
       "      <th>Account_Type</th>\n",
       "      <th>Distinct_Cohort_Size_Targeted</th>\n",
       "      <th>Distinct_Cohort_Size_Holdout</th>\n",
       "      <th>Total_Returns_Targeted</th>\n",
       "      <th>Total_Returns_Holdout</th>\n",
       "      <th>Total_Usage_Targeted</th>\n",
       "      <th>Total_Usage_Holdout</th>\n",
       "      <th>Total_Repertoire_Targeted</th>\n",
       "      <th>Total_Repertoire_Holdout</th>\n",
       "      <th>...</th>\n",
       "      <th>Total_Paid_Winbacks_Denom_Holdout</th>\n",
       "      <th>Total_Paid_Winbacks_Num_Holdout</th>\n",
       "      <th>Total_Paid_Churn_Denom_Targeted</th>\n",
       "      <th>Total_Paid_Churn_Num_Targeted</th>\n",
       "      <th>Total_Paid_Churn_Denom_Holdout</th>\n",
       "      <th>Total_Paid_Churn_Num_Holdout</th>\n",
       "      <th>EOM_Paid_Churn_Denom_Targeted</th>\n",
       "      <th>EOM_Paid_Churn_Num_Targeted</th>\n",
       "      <th>EOM_Paid_Churn_Denom_Holdout</th>\n",
       "      <th>EOM_Paid_Churn_Num_Holdout</th>\n",
       "    </tr>\n",
       "  </thead>\n",
       "  <tbody>\n",
       "    <tr>\n",
       "      <th>0</th>\n",
       "      <td>2023-01-01</td>\n",
       "      <td>Bundled Premium</td>\n",
       "      <td>5927808</td>\n",
       "      <td>389923</td>\n",
       "      <td>1950493</td>\n",
       "      <td>117337</td>\n",
       "      <td>1.110446e+07</td>\n",
       "      <td>6.839584e+05</td>\n",
       "      <td>8966069</td>\n",
       "      <td>534070</td>\n",
       "      <td>...</td>\n",
       "      <td>13761</td>\n",
       "      <td>0</td>\n",
       "      <td>560</td>\n",
       "      <td>7</td>\n",
       "      <td>31</td>\n",
       "      <td>0</td>\n",
       "      <td>8986</td>\n",
       "      <td>8986</td>\n",
       "      <td>496</td>\n",
       "      <td>496</td>\n",
       "    </tr>\n",
       "    <tr>\n",
       "      <th>1</th>\n",
       "      <td>2023-01-01</td>\n",
       "      <td>Free</td>\n",
       "      <td>11891560</td>\n",
       "      <td>940506</td>\n",
       "      <td>613630</td>\n",
       "      <td>38048</td>\n",
       "      <td>8.575185e+05</td>\n",
       "      <td>5.494802e+04</td>\n",
       "      <td>1641221</td>\n",
       "      <td>104432</td>\n",
       "      <td>...</td>\n",
       "      <td>228845</td>\n",
       "      <td>7</td>\n",
       "      <td>28686</td>\n",
       "      <td>3</td>\n",
       "      <td>1360</td>\n",
       "      <td>0</td>\n",
       "      <td>415836</td>\n",
       "      <td>415836</td>\n",
       "      <td>22684</td>\n",
       "      <td>22684</td>\n",
       "    </tr>\n",
       "    <tr>\n",
       "      <th>2</th>\n",
       "      <td>2023-01-01</td>\n",
       "      <td>Paying SVOD</td>\n",
       "      <td>7140051</td>\n",
       "      <td>395490</td>\n",
       "      <td>4354090</td>\n",
       "      <td>240449</td>\n",
       "      <td>3.513716e+07</td>\n",
       "      <td>1.986234e+06</td>\n",
       "      <td>31124570</td>\n",
       "      <td>1725762</td>\n",
       "      <td>...</td>\n",
       "      <td>2886</td>\n",
       "      <td>2182</td>\n",
       "      <td>129298</td>\n",
       "      <td>1411</td>\n",
       "      <td>6674</td>\n",
       "      <td>67</td>\n",
       "      <td>6583527</td>\n",
       "      <td>0</td>\n",
       "      <td>368846</td>\n",
       "      <td>0</td>\n",
       "    </tr>\n",
       "  </tbody>\n",
       "</table>\n",
       "<p>3 rows × 40 columns</p>\n",
       "</div>"
      ],
      "text/plain": [
       "  Report_Month     Account_Type  Distinct_Cohort_Size_Targeted  \\\n",
       "0   2023-01-01  Bundled Premium                        5927808   \n",
       "1   2023-01-01             Free                       11891560   \n",
       "2   2023-01-01      Paying SVOD                        7140051   \n",
       "\n",
       "   Distinct_Cohort_Size_Holdout  Total_Returns_Targeted  \\\n",
       "0                        389923                 1950493   \n",
       "1                        940506                  613630   \n",
       "2                        395490                 4354090   \n",
       "\n",
       "   Total_Returns_Holdout  Total_Usage_Targeted  Total_Usage_Holdout  \\\n",
       "0                 117337          1.110446e+07         6.839584e+05   \n",
       "1                  38048          8.575185e+05         5.494802e+04   \n",
       "2                 240449          3.513716e+07         1.986234e+06   \n",
       "\n",
       "   Total_Repertoire_Targeted  Total_Repertoire_Holdout  ...  \\\n",
       "0                    8966069                    534070  ...   \n",
       "1                    1641221                    104432  ...   \n",
       "2                   31124570                   1725762  ...   \n",
       "\n",
       "   Total_Paid_Winbacks_Denom_Holdout  Total_Paid_Winbacks_Num_Holdout  \\\n",
       "0                              13761                                0   \n",
       "1                             228845                                7   \n",
       "2                               2886                             2182   \n",
       "\n",
       "   Total_Paid_Churn_Denom_Targeted  Total_Paid_Churn_Num_Targeted  \\\n",
       "0                              560                              7   \n",
       "1                            28686                              3   \n",
       "2                           129298                           1411   \n",
       "\n",
       "   Total_Paid_Churn_Denom_Holdout  Total_Paid_Churn_Num_Holdout  \\\n",
       "0                              31                             0   \n",
       "1                            1360                             0   \n",
       "2                            6674                            67   \n",
       "\n",
       "   EOM_Paid_Churn_Denom_Targeted  EOM_Paid_Churn_Num_Targeted  \\\n",
       "0                           8986                         8986   \n",
       "1                         415836                       415836   \n",
       "2                        6583527                            0   \n",
       "\n",
       "   EOM_Paid_Churn_Denom_Holdout  EOM_Paid_Churn_Num_Holdout  \n",
       "0                           496                         496  \n",
       "1                         22684                       22684  \n",
       "2                        368846                           0  \n",
       "\n",
       "[3 rows x 40 columns]"
      ]
     },
     "execution_count": 114,
     "metadata": {},
     "output_type": "execute_result"
    }
   ],
   "source": [
    "df"
   ]
  },
  {
   "cell_type": "code",
   "execution_count": 115,
   "metadata": {
    "vscode": {
     "languageId": "sql"
    }
   },
   "outputs": [
    {
     "data": {
      "text/html": [
       "<div>\n",
       "<style scoped>\n",
       "    .dataframe tbody tr th:only-of-type {\n",
       "        vertical-align: middle;\n",
       "    }\n",
       "\n",
       "    .dataframe tbody tr th {\n",
       "        vertical-align: top;\n",
       "    }\n",
       "\n",
       "    .dataframe thead th {\n",
       "        text-align: right;\n",
       "    }\n",
       "</style>\n",
       "<table border=\"1\" class=\"dataframe\">\n",
       "  <thead>\n",
       "    <tr style=\"text-align: right;\">\n",
       "      <th></th>\n",
       "      <th>Report_Month</th>\n",
       "      <th>Distinct_Cohort_Size_Targeted</th>\n",
       "      <th>Distinct_Cohort_Size_Holdout</th>\n",
       "      <th>Total_Returns_Targeted</th>\n",
       "      <th>Total_Returns_Holdout</th>\n",
       "      <th>Total_Usage_Targeted</th>\n",
       "      <th>Total_Usage_Holdout</th>\n",
       "      <th>Total_Repertoire_Targeted</th>\n",
       "      <th>Total_Repertoire_Holdout</th>\n",
       "      <th>Total_Viewing_Sessions_Targeted</th>\n",
       "      <th>...</th>\n",
       "      <th>Total_Paid_Winbacks_Denom_Holdout</th>\n",
       "      <th>Total_Paid_Winbacks_Num_Holdout</th>\n",
       "      <th>Total_Paid_Churn_Denom_Targeted</th>\n",
       "      <th>Total_Paid_Churn_Num_Targeted</th>\n",
       "      <th>Total_Paid_Churn_Denom_Holdout</th>\n",
       "      <th>Total_Paid_Churn_Num_Holdout</th>\n",
       "      <th>EOM_Paid_Churn_Denom_Targeted</th>\n",
       "      <th>EOM_Paid_Churn_Num_Targeted</th>\n",
       "      <th>EOM_Paid_Churn_Denom_Holdout</th>\n",
       "      <th>EOM_Paid_Churn_Num_Holdout</th>\n",
       "    </tr>\n",
       "  </thead>\n",
       "  <tbody>\n",
       "    <tr>\n",
       "      <th>0</th>\n",
       "      <td>2023-01-01</td>\n",
       "      <td>21991729</td>\n",
       "      <td>1724884</td>\n",
       "      <td>3066853</td>\n",
       "      <td>193350</td>\n",
       "      <td>7.234022e+06</td>\n",
       "      <td>458021.487778</td>\n",
       "      <td>8493831</td>\n",
       "      <td>531550</td>\n",
       "      <td>6090173</td>\n",
       "      <td>...</td>\n",
       "      <td>241058</td>\n",
       "      <td>0</td>\n",
       "      <td>96060</td>\n",
       "      <td>0</td>\n",
       "      <td>5931</td>\n",
       "      <td>0</td>\n",
       "      <td>6191726</td>\n",
       "      <td>336609</td>\n",
       "      <td>390716</td>\n",
       "      <td>23053</td>\n",
       "    </tr>\n",
       "  </tbody>\n",
       "</table>\n",
       "<p>1 rows × 39 columns</p>\n",
       "</div>"
      ],
      "text/plain": [
       "  Report_Month  Distinct_Cohort_Size_Targeted  Distinct_Cohort_Size_Holdout  \\\n",
       "0   2023-01-01                       21991729                       1724884   \n",
       "\n",
       "   Total_Returns_Targeted  Total_Returns_Holdout  Total_Usage_Targeted  \\\n",
       "0                 3066853                 193350          7.234022e+06   \n",
       "\n",
       "   Total_Usage_Holdout  Total_Repertoire_Targeted  Total_Repertoire_Holdout  \\\n",
       "0        458021.487778                    8493831                    531550   \n",
       "\n",
       "   Total_Viewing_Sessions_Targeted  ...  Total_Paid_Winbacks_Denom_Holdout  \\\n",
       "0                          6090173  ...                             241058   \n",
       "\n",
       "   Total_Paid_Winbacks_Num_Holdout  Total_Paid_Churn_Denom_Targeted  \\\n",
       "0                                0                            96060   \n",
       "\n",
       "   Total_Paid_Churn_Num_Targeted  Total_Paid_Churn_Denom_Holdout  \\\n",
       "0                              0                            5931   \n",
       "\n",
       "   Total_Paid_Churn_Num_Holdout  EOM_Paid_Churn_Denom_Targeted  \\\n",
       "0                             0                        6191726   \n",
       "\n",
       "   EOM_Paid_Churn_Num_Targeted  EOM_Paid_Churn_Denom_Holdout  \\\n",
       "0                       336609                        390716   \n",
       "\n",
       "   EOM_Paid_Churn_Num_Holdout  \n",
       "0                       23053  \n",
       "\n",
       "[1 rows x 39 columns]"
      ]
     },
     "execution_count": 115,
     "metadata": {},
     "output_type": "execute_result"
    }
   ],
   "source": [
    "df2"
   ]
  },
  {
   "cell_type": "code",
   "execution_count": 116,
   "metadata": {
    "vscode": {
     "languageId": "sql"
    }
   },
   "outputs": [
    {
     "data": {
      "text/plain": [
       "Distinct_Cohort_Size_Targeted                24959419\n",
       "Distinct_Cohort_Size_Holdout                  1725919\n",
       "Total_Returns_Targeted                        6918213\n",
       "Total_Returns_Holdout                          395834\n",
       "Total_Usage_Targeted                  47099142.309723\n",
       "Total_Usage_Holdout                    2725140.921667\n",
       "Total_Repertoire_Targeted                    41731860\n",
       "Total_Repertoire_Holdout                      2364264\n",
       "Total_Viewing_Sessions_Targeted              38168514\n",
       "Total_Viewing_Sessions_Holdout                2172846\n",
       "Winback_Denom_Targeted                        4368363\n",
       "Winback_Num_Targeted                           368742\n",
       "Winback_Denom_Holdout                          262523\n",
       "Winback_Num_Holdout                             21216\n",
       "Save_Denom_Targeted                           3114358\n",
       "Save_Num_Targeted                              473075\n",
       "Save_Denom_Holdout                             184038\n",
       "Save_Num_Holdout                                26675\n",
       "Upgrades_Denom_Targeted                      17902691\n",
       "Upgrades_Num_Targeted                           81392\n",
       "Upgrades_Denom_Holdout                        1335191\n",
       "Upgrades_Num_Holdout                             4657\n",
       "Total_New_Upgrade_Denom_Targeted             14654198\n",
       "Total_New_Upgrade_Num_Targeted                  35800\n",
       "Total_New_Upgrade_Denom_Holdout               1089699\n",
       "Total_New_Upgrade_Num_Holdout                    1877\n",
       "Total_Paid_Winbacks_Denom_Targeted            3248493\n",
       "Total_Paid_Winbacks_Num_Targeted                35207\n",
       "Total_Paid_Winbacks_Denom_Holdout              245492\n",
       "Total_Paid_Winbacks_Num_Holdout                  2189\n",
       "Total_Paid_Churn_Denom_Targeted                158544\n",
       "Total_Paid_Churn_Num_Targeted                    1421\n",
       "Total_Paid_Churn_Denom_Holdout                   8065\n",
       "Total_Paid_Churn_Num_Holdout                       67\n",
       "EOM_Paid_Churn_Denom_Targeted                 7008349\n",
       "EOM_Paid_Churn_Num_Targeted                    424822\n",
       "EOM_Paid_Churn_Denom_Holdout                   392026\n",
       "EOM_Paid_Churn_Num_Holdout                      23180\n",
       "dtype: object"
      ]
     },
     "execution_count": 116,
     "metadata": {},
     "output_type": "execute_result"
    }
   ],
   "source": [
    "# By account type\n",
    "df.sum().drop(['Report_Month', 'Account_Type']).squeeze()"
   ]
  },
  {
   "cell_type": "code",
   "execution_count": 117,
   "metadata": {
    "vscode": {
     "languageId": "sql"
    }
   },
   "outputs": [
    {
     "data": {
      "text/plain": [
       "Distinct_Cohort_Size_Targeted               21991729\n",
       "Distinct_Cohort_Size_Holdout                 1724884\n",
       "Total_Returns_Targeted                       3066853\n",
       "Total_Returns_Holdout                         193350\n",
       "Total_Usage_Targeted                  7234021.993056\n",
       "Total_Usage_Holdout                    458021.487778\n",
       "Total_Repertoire_Targeted                    8493831\n",
       "Total_Repertoire_Holdout                      531550\n",
       "Total_Viewing_Sessions_Targeted              6090173\n",
       "Total_Viewing_Sessions_Holdout                380977\n",
       "Winback_Denom_Targeted                       2750122\n",
       "Winback_Num_Targeted                           11284\n",
       "Winback_Denom_Holdout                         229045\n",
       "Winback_Num_Holdout                              891\n",
       "Save_Denom_Targeted                          1650933\n",
       "Save_Num_Targeted                              15292\n",
       "Save_Denom_Holdout                            110750\n",
       "Save_Num_Holdout                                 935\n",
       "Upgrades_Denom_Targeted                     15650840\n",
       "Upgrades_Num_Targeted                              0\n",
       "Upgrades_Denom_Holdout                       1329935\n",
       "Upgrades_Num_Holdout                               0\n",
       "Total_New_Upgrade_Denom_Targeted            12894183\n",
       "Total_New_Upgrade_Num_Targeted                     0\n",
       "Total_New_Upgrade_Denom_Holdout              1088877\n",
       "Total_New_Upgrade_Num_Holdout                      0\n",
       "Total_Paid_Winbacks_Denom_Targeted           2756657\n",
       "Total_Paid_Winbacks_Num_Targeted                   0\n",
       "Total_Paid_Winbacks_Denom_Holdout             241058\n",
       "Total_Paid_Winbacks_Num_Holdout                    0\n",
       "Total_Paid_Churn_Denom_Targeted                96060\n",
       "Total_Paid_Churn_Num_Targeted                      0\n",
       "Total_Paid_Churn_Denom_Holdout                  5931\n",
       "Total_Paid_Churn_Num_Holdout                       0\n",
       "EOM_Paid_Churn_Denom_Targeted                6191726\n",
       "EOM_Paid_Churn_Num_Targeted                   336609\n",
       "EOM_Paid_Churn_Denom_Holdout                  390716\n",
       "EOM_Paid_Churn_Num_Holdout                     23053\n",
       "Name: 0, dtype: object"
      ]
     },
     "execution_count": 117,
     "metadata": {},
     "output_type": "execute_result"
    }
   ],
   "source": [
    "# total\n",
    "df2.T.drop(['Report_Month']).squeeze()"
   ]
  },
  {
   "cell_type": "code",
   "execution_count": 118,
   "metadata": {
    "vscode": {
     "languageId": "sql"
    }
   },
   "outputs": [
    {
     "data": {
      "text/plain": [
       "Total_Paid_Churn_Num_Holdout                       67\n",
       "EOM_Paid_Churn_Num_Holdout                        127\n",
       "Total_New_Upgrade_Denom_Holdout                   822\n",
       "Distinct_Cohort_Size_Holdout                     1035\n",
       "EOM_Paid_Churn_Denom_Holdout                     1310\n",
       "Total_Paid_Churn_Num_Targeted                    1421\n",
       "Total_New_Upgrade_Num_Holdout                    1877\n",
       "Total_Paid_Churn_Denom_Holdout                   2134\n",
       "Total_Paid_Winbacks_Num_Holdout                  2189\n",
       "Total_Paid_Winbacks_Denom_Holdout                4434\n",
       "Upgrades_Num_Holdout                             4657\n",
       "Upgrades_Denom_Holdout                           5256\n",
       "Winback_Num_Holdout                             20325\n",
       "Save_Num_Holdout                                25740\n",
       "Winback_Denom_Holdout                           33478\n",
       "Total_Paid_Winbacks_Num_Targeted                35207\n",
       "Total_New_Upgrade_Num_Targeted                  35800\n",
       "Total_Paid_Churn_Denom_Targeted                 62484\n",
       "Save_Denom_Holdout                              73288\n",
       "Upgrades_Num_Targeted                           81392\n",
       "EOM_Paid_Churn_Num_Targeted                     88213\n",
       "Total_Returns_Holdout                          202484\n",
       "Winback_Num_Targeted                           357458\n",
       "Save_Num_Targeted                              457783\n",
       "Total_Paid_Winbacks_Denom_Targeted             491836\n",
       "EOM_Paid_Churn_Denom_Targeted                  816623\n",
       "Save_Denom_Targeted                           1463425\n",
       "Winback_Denom_Targeted                        1618241\n",
       "Total_New_Upgrade_Denom_Targeted              1760015\n",
       "Total_Viewing_Sessions_Holdout                1791869\n",
       "Total_Repertoire_Holdout                      1832714\n",
       "Upgrades_Denom_Targeted                       2251851\n",
       "Total_Usage_Holdout                    2267119.433889\n",
       "Distinct_Cohort_Size_Targeted                 2967690\n",
       "Total_Returns_Targeted                        3851360\n",
       "Total_Viewing_Sessions_Targeted              32078341\n",
       "Total_Repertoire_Targeted                    33238029\n",
       "Total_Usage_Targeted                  39865120.316667\n",
       "dtype: object"
      ]
     },
     "execution_count": 118,
     "metadata": {},
     "output_type": "execute_result"
    }
   ],
   "source": [
    "(df.sum().drop(['Report_Month', 'Account_Type']).squeeze() - df2.T.drop(['Report_Month']).squeeze()).sort_values()"
   ]
  },
  {
   "cell_type": "code",
   "execution_count": 26,
   "metadata": {
    "vscode": {
     "languageId": "sql"
    }
   },
   "outputs": [
    {
     "data": {
      "application/vnd.jupyter.widget-view+json": {
       "model_id": "22aeb2cc15834c13818c33e2f58e5255",
       "version_major": 2,
       "version_minor": 0
      },
      "text/plain": [
       "Query is running:   0%|          |"
      ]
     },
     "metadata": {},
     "output_type": "display_data"
    },
    {
     "data": {
      "application/vnd.jupyter.widget-view+json": {
       "model_id": "593f634d43d84367a5c2d6a8d132bc8f",
       "version_major": 2,
       "version_minor": 0
      },
      "text/plain": [
       "Downloading:   0%|          |"
      ]
     },
     "metadata": {},
     "output_type": "display_data"
    }
   ],
   "source": [
    "%%bigquery df--project nbcu-ds-sandbox-a-001\n",
    "SELECT distinct campaign_name\n",
    "FROM `nbcu-ds-prod-001.PeacockDataMartSilver.SILVER_MPARTICLE_BRAZE`\n",
    "where lower(campaign_name) like '%trans%'"
   ]
  },
  {
   "cell_type": "code",
   "execution_count": 3,
   "metadata": {
    "vscode": {
     "languageId": "sql"
    }
   },
   "outputs": [
    {
     "data": {
      "application/vnd.jupyter.widget-view+json": {
       "model_id": "4b8e9b48fe4e42bebfd10531ee6f1642",
       "version_major": 2,
       "version_minor": 0
      },
      "text/plain": [
       "Query is running:   0%|          |"
      ]
     },
     "metadata": {},
     "output_type": "display_data"
    },
    {
     "data": {
      "application/vnd.jupyter.widget-view+json": {
       "model_id": "613b55d14d3b48548f37854ceccaf260",
       "version_major": 2,
       "version_minor": 0
      },
      "text/plain": [
       "Downloading:   0%|          |"
      ]
     },
     "metadata": {},
     "output_type": "display_data"
    },
    {
     "data": {
      "text/html": [
       "<div>\n",
       "<style scoped>\n",
       "    .dataframe tbody tr th:only-of-type {\n",
       "        vertical-align: middle;\n",
       "    }\n",
       "\n",
       "    .dataframe tbody tr th {\n",
       "        vertical-align: top;\n",
       "    }\n",
       "\n",
       "    .dataframe thead th {\n",
       "        text-align: right;\n",
       "    }\n",
       "</style>\n",
       "<table border=\"1\" class=\"dataframe\">\n",
       "  <thead>\n",
       "    <tr style=\"text-align: right;\">\n",
       "      <th></th>\n",
       "      <th>campaign_name</th>\n",
       "    </tr>\n",
       "  </thead>\n",
       "  <tbody>\n",
       "    <tr>\n",
       "      <th>0</th>\n",
       "      <td>TransactionalTermsOfUseEngaged20221028</td>\n",
       "    </tr>\n",
       "    <tr>\n",
       "      <th>1</th>\n",
       "      <td>Transactional_ProductAnnualRenewal_20220805</td>\n",
       "    </tr>\n",
       "    <tr>\n",
       "      <th>2</th>\n",
       "      <td>Transactional_OSDeprecation_20210218</td>\n",
       "    </tr>\n",
       "    <tr>\n",
       "      <th>3</th>\n",
       "      <td>TransactionalTermsOfUseNONEngaged20221028</td>\n",
       "    </tr>\n",
       "    <tr>\n",
       "      <th>4</th>\n",
       "      <td>TransactionalFamilyControlProfile20221209</td>\n",
       "    </tr>\n",
       "  </tbody>\n",
       "</table>\n",
       "</div>"
      ],
      "text/plain": [
       "                                 campaign_name\n",
       "0       TransactionalTermsOfUseEngaged20221028\n",
       "1  Transactional_ProductAnnualRenewal_20220805\n",
       "2         Transactional_OSDeprecation_20210218\n",
       "3    TransactionalTermsOfUseNONEngaged20221028\n",
       "4    TransactionalFamilyControlProfile20221209"
      ]
     },
     "execution_count": 3,
     "metadata": {},
     "output_type": "execute_result"
    }
   ],
   "source": [
    "%%bigquery --project nbcu-ds-sandbox-a-001\n",
    "SELECT distinct campaign_name\n",
    "FROM `nbcu-ds-prod-001.PeacockDataMartSilver.SILVER_MPARTICLE_BRAZE`\n",
    "where lower(campaign_name) like 'transactional%'"
   ]
  },
  {
   "cell_type": "code",
   "execution_count": 12,
   "metadata": {
    "vscode": {
     "languageId": "sql"
    }
   },
   "outputs": [
    {
     "data": {
      "application/vnd.jupyter.widget-view+json": {
       "model_id": "9d542b8ba4d44248be9d590b453220e5",
       "version_major": 2,
       "version_minor": 0
      },
      "text/plain": [
       "Query is running:   0%|          |"
      ]
     },
     "metadata": {},
     "output_type": "display_data"
    },
    {
     "data": {
      "application/vnd.jupyter.widget-view+json": {
       "model_id": "d85d7607951444969d4065d6a50a3c1d",
       "version_major": 2,
       "version_minor": 0
      },
      "text/plain": [
       "Downloading:   0%|          |"
      ]
     },
     "metadata": {},
     "output_type": "display_data"
    },
    {
     "data": {
      "text/html": [
       "<div>\n",
       "<style scoped>\n",
       "    .dataframe tbody tr th:only-of-type {\n",
       "        vertical-align: middle;\n",
       "    }\n",
       "\n",
       "    .dataframe tbody tr th {\n",
       "        vertical-align: top;\n",
       "    }\n",
       "\n",
       "    .dataframe thead th {\n",
       "        text-align: right;\n",
       "    }\n",
       "</style>\n",
       "<table border=\"1\" class=\"dataframe\">\n",
       "  <thead>\n",
       "    <tr style=\"text-align: right;\">\n",
       "      <th></th>\n",
       "      <th>table_catalog</th>\n",
       "      <th>table_schema</th>\n",
       "      <th>table_name</th>\n",
       "      <th>column_name</th>\n",
       "      <th>ordinal_position</th>\n",
       "      <th>is_nullable</th>\n",
       "      <th>data_type</th>\n",
       "      <th>is_generated</th>\n",
       "      <th>generation_expression</th>\n",
       "      <th>is_stored</th>\n",
       "      <th>is_hidden</th>\n",
       "      <th>is_updatable</th>\n",
       "      <th>is_system_defined</th>\n",
       "      <th>is_partitioning_column</th>\n",
       "      <th>clustering_ordinal_position</th>\n",
       "      <th>collation_name</th>\n",
       "      <th>column_default</th>\n",
       "      <th>rounding_mode</th>\n",
       "    </tr>\n",
       "  </thead>\n",
       "  <tbody>\n",
       "    <tr>\n",
       "      <th>0</th>\n",
       "      <td>nbcu-ds-prod-001</td>\n",
       "      <td>PeacockDataMartSilver</td>\n",
       "      <td>SILVER_MPARTICLE_BRAZE</td>\n",
       "      <td>household_id</td>\n",
       "      <td>1</td>\n",
       "      <td>YES</td>\n",
       "      <td>STRING</td>\n",
       "      <td>NEVER</td>\n",
       "      <td>None</td>\n",
       "      <td>None</td>\n",
       "      <td>NO</td>\n",
       "      <td>None</td>\n",
       "      <td>NO</td>\n",
       "      <td>NO</td>\n",
       "      <td>1</td>\n",
       "      <td>NULL</td>\n",
       "      <td>NULL</td>\n",
       "      <td>None</td>\n",
       "    </tr>\n",
       "    <tr>\n",
       "      <th>1</th>\n",
       "      <td>nbcu-ds-prod-001</td>\n",
       "      <td>PeacockDataMartSilver</td>\n",
       "      <td>SILVER_MPARTICLE_BRAZE</td>\n",
       "      <td>adobe_tracking_id</td>\n",
       "      <td>2</td>\n",
       "      <td>YES</td>\n",
       "      <td>STRING</td>\n",
       "      <td>NEVER</td>\n",
       "      <td>None</td>\n",
       "      <td>None</td>\n",
       "      <td>NO</td>\n",
       "      <td>None</td>\n",
       "      <td>NO</td>\n",
       "      <td>NO</td>\n",
       "      <td>&lt;NA&gt;</td>\n",
       "      <td>NULL</td>\n",
       "      <td>NULL</td>\n",
       "      <td>None</td>\n",
       "    </tr>\n",
       "    <tr>\n",
       "      <th>2</th>\n",
       "      <td>nbcu-ds-prod-001</td>\n",
       "      <td>PeacockDataMartSilver</td>\n",
       "      <td>SILVER_MPARTICLE_BRAZE</td>\n",
       "      <td>campaign_name</td>\n",
       "      <td>3</td>\n",
       "      <td>YES</td>\n",
       "      <td>STRING</td>\n",
       "      <td>NEVER</td>\n",
       "      <td>None</td>\n",
       "      <td>None</td>\n",
       "      <td>NO</td>\n",
       "      <td>None</td>\n",
       "      <td>NO</td>\n",
       "      <td>NO</td>\n",
       "      <td>3</td>\n",
       "      <td>NULL</td>\n",
       "      <td>NULL</td>\n",
       "      <td>None</td>\n",
       "    </tr>\n",
       "    <tr>\n",
       "      <th>3</th>\n",
       "      <td>nbcu-ds-prod-001</td>\n",
       "      <td>PeacockDataMartSilver</td>\n",
       "      <td>SILVER_MPARTICLE_BRAZE</td>\n",
       "      <td>campaign_variant_name</td>\n",
       "      <td>4</td>\n",
       "      <td>YES</td>\n",
       "      <td>STRING</td>\n",
       "      <td>NEVER</td>\n",
       "      <td>None</td>\n",
       "      <td>None</td>\n",
       "      <td>NO</td>\n",
       "      <td>None</td>\n",
       "      <td>NO</td>\n",
       "      <td>NO</td>\n",
       "      <td>&lt;NA&gt;</td>\n",
       "      <td>NULL</td>\n",
       "      <td>NULL</td>\n",
       "      <td>None</td>\n",
       "    </tr>\n",
       "    <tr>\n",
       "      <th>4</th>\n",
       "      <td>nbcu-ds-prod-001</td>\n",
       "      <td>PeacockDataMartSilver</td>\n",
       "      <td>SILVER_MPARTICLE_BRAZE</td>\n",
       "      <td>campaign_tags</td>\n",
       "      <td>5</td>\n",
       "      <td>YES</td>\n",
       "      <td>STRING</td>\n",
       "      <td>NEVER</td>\n",
       "      <td>None</td>\n",
       "      <td>None</td>\n",
       "      <td>NO</td>\n",
       "      <td>None</td>\n",
       "      <td>NO</td>\n",
       "      <td>NO</td>\n",
       "      <td>&lt;NA&gt;</td>\n",
       "      <td>NULL</td>\n",
       "      <td>NULL</td>\n",
       "      <td>None</td>\n",
       "    </tr>\n",
       "    <tr>\n",
       "      <th>5</th>\n",
       "      <td>nbcu-ds-prod-001</td>\n",
       "      <td>PeacockDataMartSilver</td>\n",
       "      <td>SILVER_MPARTICLE_BRAZE</td>\n",
       "      <td>message_variant_channel</td>\n",
       "      <td>6</td>\n",
       "      <td>YES</td>\n",
       "      <td>STRING</td>\n",
       "      <td>NEVER</td>\n",
       "      <td>None</td>\n",
       "      <td>None</td>\n",
       "      <td>NO</td>\n",
       "      <td>None</td>\n",
       "      <td>NO</td>\n",
       "      <td>NO</td>\n",
       "      <td>&lt;NA&gt;</td>\n",
       "      <td>NULL</td>\n",
       "      <td>NULL</td>\n",
       "      <td>None</td>\n",
       "    </tr>\n",
       "    <tr>\n",
       "      <th>6</th>\n",
       "      <td>nbcu-ds-prod-001</td>\n",
       "      <td>PeacockDataMartSilver</td>\n",
       "      <td>SILVER_MPARTICLE_BRAZE</td>\n",
       "      <td>canvas_name</td>\n",
       "      <td>7</td>\n",
       "      <td>YES</td>\n",
       "      <td>STRING</td>\n",
       "      <td>NEVER</td>\n",
       "      <td>None</td>\n",
       "      <td>None</td>\n",
       "      <td>NO</td>\n",
       "      <td>None</td>\n",
       "      <td>NO</td>\n",
       "      <td>NO</td>\n",
       "      <td>&lt;NA&gt;</td>\n",
       "      <td>NULL</td>\n",
       "      <td>NULL</td>\n",
       "      <td>None</td>\n",
       "    </tr>\n",
       "    <tr>\n",
       "      <th>7</th>\n",
       "      <td>nbcu-ds-prod-001</td>\n",
       "      <td>PeacockDataMartSilver</td>\n",
       "      <td>SILVER_MPARTICLE_BRAZE</td>\n",
       "      <td>canvas_variant_name</td>\n",
       "      <td>8</td>\n",
       "      <td>YES</td>\n",
       "      <td>STRING</td>\n",
       "      <td>NEVER</td>\n",
       "      <td>None</td>\n",
       "      <td>None</td>\n",
       "      <td>NO</td>\n",
       "      <td>None</td>\n",
       "      <td>NO</td>\n",
       "      <td>NO</td>\n",
       "      <td>&lt;NA&gt;</td>\n",
       "      <td>NULL</td>\n",
       "      <td>NULL</td>\n",
       "      <td>None</td>\n",
       "    </tr>\n",
       "    <tr>\n",
       "      <th>8</th>\n",
       "      <td>nbcu-ds-prod-001</td>\n",
       "      <td>PeacockDataMartSilver</td>\n",
       "      <td>SILVER_MPARTICLE_BRAZE</td>\n",
       "      <td>canvas_step_name</td>\n",
       "      <td>9</td>\n",
       "      <td>YES</td>\n",
       "      <td>STRING</td>\n",
       "      <td>NEVER</td>\n",
       "      <td>None</td>\n",
       "      <td>None</td>\n",
       "      <td>NO</td>\n",
       "      <td>None</td>\n",
       "      <td>NO</td>\n",
       "      <td>NO</td>\n",
       "      <td>&lt;NA&gt;</td>\n",
       "      <td>NULL</td>\n",
       "      <td>NULL</td>\n",
       "      <td>None</td>\n",
       "    </tr>\n",
       "    <tr>\n",
       "      <th>9</th>\n",
       "      <td>nbcu-ds-prod-001</td>\n",
       "      <td>PeacockDataMartSilver</td>\n",
       "      <td>SILVER_MPARTICLE_BRAZE</td>\n",
       "      <td>canvas_tags</td>\n",
       "      <td>10</td>\n",
       "      <td>YES</td>\n",
       "      <td>STRING</td>\n",
       "      <td>NEVER</td>\n",
       "      <td>None</td>\n",
       "      <td>None</td>\n",
       "      <td>NO</td>\n",
       "      <td>None</td>\n",
       "      <td>NO</td>\n",
       "      <td>NO</td>\n",
       "      <td>&lt;NA&gt;</td>\n",
       "      <td>NULL</td>\n",
       "      <td>NULL</td>\n",
       "      <td>None</td>\n",
       "    </tr>\n",
       "    <tr>\n",
       "      <th>10</th>\n",
       "      <td>nbcu-ds-prod-001</td>\n",
       "      <td>PeacockDataMartSilver</td>\n",
       "      <td>SILVER_MPARTICLE_BRAZE</td>\n",
       "      <td>event_name</td>\n",
       "      <td>11</td>\n",
       "      <td>YES</td>\n",
       "      <td>STRING</td>\n",
       "      <td>NEVER</td>\n",
       "      <td>None</td>\n",
       "      <td>None</td>\n",
       "      <td>NO</td>\n",
       "      <td>None</td>\n",
       "      <td>NO</td>\n",
       "      <td>NO</td>\n",
       "      <td>4</td>\n",
       "      <td>NULL</td>\n",
       "      <td>NULL</td>\n",
       "      <td>None</td>\n",
       "    </tr>\n",
       "    <tr>\n",
       "      <th>11</th>\n",
       "      <td>nbcu-ds-prod-001</td>\n",
       "      <td>PeacockDataMartSilver</td>\n",
       "      <td>SILVER_MPARTICLE_BRAZE</td>\n",
       "      <td>event_date</td>\n",
       "      <td>12</td>\n",
       "      <td>YES</td>\n",
       "      <td>DATE</td>\n",
       "      <td>NEVER</td>\n",
       "      <td>None</td>\n",
       "      <td>None</td>\n",
       "      <td>NO</td>\n",
       "      <td>None</td>\n",
       "      <td>NO</td>\n",
       "      <td>YES</td>\n",
       "      <td>&lt;NA&gt;</td>\n",
       "      <td>NULL</td>\n",
       "      <td>NULL</td>\n",
       "      <td>None</td>\n",
       "    </tr>\n",
       "    <tr>\n",
       "      <th>12</th>\n",
       "      <td>nbcu-ds-prod-001</td>\n",
       "      <td>PeacockDataMartSilver</td>\n",
       "      <td>SILVER_MPARTICLE_BRAZE</td>\n",
       "      <td>eventTimestamp</td>\n",
       "      <td>13</td>\n",
       "      <td>YES</td>\n",
       "      <td>TIMESTAMP</td>\n",
       "      <td>NEVER</td>\n",
       "      <td>None</td>\n",
       "      <td>None</td>\n",
       "      <td>NO</td>\n",
       "      <td>None</td>\n",
       "      <td>NO</td>\n",
       "      <td>NO</td>\n",
       "      <td>&lt;NA&gt;</td>\n",
       "      <td>NULL</td>\n",
       "      <td>NULL</td>\n",
       "      <td>None</td>\n",
       "    </tr>\n",
       "    <tr>\n",
       "      <th>13</th>\n",
       "      <td>nbcu-ds-prod-001</td>\n",
       "      <td>PeacockDataMartSilver</td>\n",
       "      <td>SILVER_MPARTICLE_BRAZE</td>\n",
       "      <td>campaign_id</td>\n",
       "      <td>14</td>\n",
       "      <td>YES</td>\n",
       "      <td>STRING</td>\n",
       "      <td>NEVER</td>\n",
       "      <td>None</td>\n",
       "      <td>None</td>\n",
       "      <td>NO</td>\n",
       "      <td>None</td>\n",
       "      <td>NO</td>\n",
       "      <td>NO</td>\n",
       "      <td>2</td>\n",
       "      <td>NULL</td>\n",
       "      <td>NULL</td>\n",
       "      <td>None</td>\n",
       "    </tr>\n",
       "    <tr>\n",
       "      <th>14</th>\n",
       "      <td>nbcu-ds-prod-001</td>\n",
       "      <td>PeacockDataMartSilver</td>\n",
       "      <td>SILVER_MPARTICLE_BRAZE</td>\n",
       "      <td>campaign_variant_id</td>\n",
       "      <td>15</td>\n",
       "      <td>YES</td>\n",
       "      <td>STRING</td>\n",
       "      <td>NEVER</td>\n",
       "      <td>None</td>\n",
       "      <td>None</td>\n",
       "      <td>NO</td>\n",
       "      <td>None</td>\n",
       "      <td>NO</td>\n",
       "      <td>NO</td>\n",
       "      <td>&lt;NA&gt;</td>\n",
       "      <td>NULL</td>\n",
       "      <td>NULL</td>\n",
       "      <td>None</td>\n",
       "    </tr>\n",
       "    <tr>\n",
       "      <th>15</th>\n",
       "      <td>nbcu-ds-prod-001</td>\n",
       "      <td>PeacockDataMartSilver</td>\n",
       "      <td>SILVER_MPARTICLE_BRAZE</td>\n",
       "      <td>canvas_id</td>\n",
       "      <td>16</td>\n",
       "      <td>YES</td>\n",
       "      <td>STRING</td>\n",
       "      <td>NEVER</td>\n",
       "      <td>None</td>\n",
       "      <td>None</td>\n",
       "      <td>NO</td>\n",
       "      <td>None</td>\n",
       "      <td>NO</td>\n",
       "      <td>NO</td>\n",
       "      <td>&lt;NA&gt;</td>\n",
       "      <td>NULL</td>\n",
       "      <td>NULL</td>\n",
       "      <td>None</td>\n",
       "    </tr>\n",
       "    <tr>\n",
       "      <th>16</th>\n",
       "      <td>nbcu-ds-prod-001</td>\n",
       "      <td>PeacockDataMartSilver</td>\n",
       "      <td>SILVER_MPARTICLE_BRAZE</td>\n",
       "      <td>canvas_varaint_id</td>\n",
       "      <td>17</td>\n",
       "      <td>YES</td>\n",
       "      <td>STRING</td>\n",
       "      <td>NEVER</td>\n",
       "      <td>None</td>\n",
       "      <td>None</td>\n",
       "      <td>NO</td>\n",
       "      <td>None</td>\n",
       "      <td>NO</td>\n",
       "      <td>NO</td>\n",
       "      <td>&lt;NA&gt;</td>\n",
       "      <td>NULL</td>\n",
       "      <td>NULL</td>\n",
       "      <td>None</td>\n",
       "    </tr>\n",
       "    <tr>\n",
       "      <th>17</th>\n",
       "      <td>nbcu-ds-prod-001</td>\n",
       "      <td>PeacockDataMartSilver</td>\n",
       "      <td>SILVER_MPARTICLE_BRAZE</td>\n",
       "      <td>canvas_step_id</td>\n",
       "      <td>18</td>\n",
       "      <td>YES</td>\n",
       "      <td>STRING</td>\n",
       "      <td>NEVER</td>\n",
       "      <td>None</td>\n",
       "      <td>None</td>\n",
       "      <td>NO</td>\n",
       "      <td>None</td>\n",
       "      <td>NO</td>\n",
       "      <td>NO</td>\n",
       "      <td>&lt;NA&gt;</td>\n",
       "      <td>NULL</td>\n",
       "      <td>NULL</td>\n",
       "      <td>None</td>\n",
       "    </tr>\n",
       "    <tr>\n",
       "      <th>18</th>\n",
       "      <td>nbcu-ds-prod-001</td>\n",
       "      <td>PeacockDataMartSilver</td>\n",
       "      <td>SILVER_MPARTICLE_BRAZE</td>\n",
       "      <td>identity_id_7</td>\n",
       "      <td>19</td>\n",
       "      <td>YES</td>\n",
       "      <td>STRING</td>\n",
       "      <td>NEVER</td>\n",
       "      <td>None</td>\n",
       "      <td>None</td>\n",
       "      <td>NO</td>\n",
       "      <td>None</td>\n",
       "      <td>NO</td>\n",
       "      <td>NO</td>\n",
       "      <td>&lt;NA&gt;</td>\n",
       "      <td>NULL</td>\n",
       "      <td>NULL</td>\n",
       "      <td>None</td>\n",
       "    </tr>\n",
       "    <tr>\n",
       "      <th>19</th>\n",
       "      <td>nbcu-ds-prod-001</td>\n",
       "      <td>PeacockDataMartSilver</td>\n",
       "      <td>SILVER_MPARTICLE_BRAZE</td>\n",
       "      <td>platform</td>\n",
       "      <td>20</td>\n",
       "      <td>YES</td>\n",
       "      <td>STRING</td>\n",
       "      <td>NEVER</td>\n",
       "      <td>None</td>\n",
       "      <td>None</td>\n",
       "      <td>NO</td>\n",
       "      <td>None</td>\n",
       "      <td>NO</td>\n",
       "      <td>NO</td>\n",
       "      <td>&lt;NA&gt;</td>\n",
       "      <td>NULL</td>\n",
       "      <td>NULL</td>\n",
       "      <td>None</td>\n",
       "    </tr>\n",
       "    <tr>\n",
       "      <th>20</th>\n",
       "      <td>nbcu-ds-prod-001</td>\n",
       "      <td>PeacockDataMartSilver</td>\n",
       "      <td>SILVER_MPARTICLE_BRAZE</td>\n",
       "      <td>data_source</td>\n",
       "      <td>21</td>\n",
       "      <td>YES</td>\n",
       "      <td>STRING</td>\n",
       "      <td>NEVER</td>\n",
       "      <td>None</td>\n",
       "      <td>None</td>\n",
       "      <td>NO</td>\n",
       "      <td>None</td>\n",
       "      <td>NO</td>\n",
       "      <td>NO</td>\n",
       "      <td>&lt;NA&gt;</td>\n",
       "      <td>NULL</td>\n",
       "      <td>NULL</td>\n",
       "      <td>None</td>\n",
       "    </tr>\n",
       "  </tbody>\n",
       "</table>\n",
       "</div>"
      ],
      "text/plain": [
       "       table_catalog           table_schema              table_name  \\\n",
       "0   nbcu-ds-prod-001  PeacockDataMartSilver  SILVER_MPARTICLE_BRAZE   \n",
       "1   nbcu-ds-prod-001  PeacockDataMartSilver  SILVER_MPARTICLE_BRAZE   \n",
       "2   nbcu-ds-prod-001  PeacockDataMartSilver  SILVER_MPARTICLE_BRAZE   \n",
       "3   nbcu-ds-prod-001  PeacockDataMartSilver  SILVER_MPARTICLE_BRAZE   \n",
       "4   nbcu-ds-prod-001  PeacockDataMartSilver  SILVER_MPARTICLE_BRAZE   \n",
       "5   nbcu-ds-prod-001  PeacockDataMartSilver  SILVER_MPARTICLE_BRAZE   \n",
       "6   nbcu-ds-prod-001  PeacockDataMartSilver  SILVER_MPARTICLE_BRAZE   \n",
       "7   nbcu-ds-prod-001  PeacockDataMartSilver  SILVER_MPARTICLE_BRAZE   \n",
       "8   nbcu-ds-prod-001  PeacockDataMartSilver  SILVER_MPARTICLE_BRAZE   \n",
       "9   nbcu-ds-prod-001  PeacockDataMartSilver  SILVER_MPARTICLE_BRAZE   \n",
       "10  nbcu-ds-prod-001  PeacockDataMartSilver  SILVER_MPARTICLE_BRAZE   \n",
       "11  nbcu-ds-prod-001  PeacockDataMartSilver  SILVER_MPARTICLE_BRAZE   \n",
       "12  nbcu-ds-prod-001  PeacockDataMartSilver  SILVER_MPARTICLE_BRAZE   \n",
       "13  nbcu-ds-prod-001  PeacockDataMartSilver  SILVER_MPARTICLE_BRAZE   \n",
       "14  nbcu-ds-prod-001  PeacockDataMartSilver  SILVER_MPARTICLE_BRAZE   \n",
       "15  nbcu-ds-prod-001  PeacockDataMartSilver  SILVER_MPARTICLE_BRAZE   \n",
       "16  nbcu-ds-prod-001  PeacockDataMartSilver  SILVER_MPARTICLE_BRAZE   \n",
       "17  nbcu-ds-prod-001  PeacockDataMartSilver  SILVER_MPARTICLE_BRAZE   \n",
       "18  nbcu-ds-prod-001  PeacockDataMartSilver  SILVER_MPARTICLE_BRAZE   \n",
       "19  nbcu-ds-prod-001  PeacockDataMartSilver  SILVER_MPARTICLE_BRAZE   \n",
       "20  nbcu-ds-prod-001  PeacockDataMartSilver  SILVER_MPARTICLE_BRAZE   \n",
       "\n",
       "                column_name  ordinal_position is_nullable  data_type  \\\n",
       "0              household_id                 1         YES     STRING   \n",
       "1         adobe_tracking_id                 2         YES     STRING   \n",
       "2             campaign_name                 3         YES     STRING   \n",
       "3     campaign_variant_name                 4         YES     STRING   \n",
       "4             campaign_tags                 5         YES     STRING   \n",
       "5   message_variant_channel                 6         YES     STRING   \n",
       "6               canvas_name                 7         YES     STRING   \n",
       "7       canvas_variant_name                 8         YES     STRING   \n",
       "8          canvas_step_name                 9         YES     STRING   \n",
       "9               canvas_tags                10         YES     STRING   \n",
       "10               event_name                11         YES     STRING   \n",
       "11               event_date                12         YES       DATE   \n",
       "12           eventTimestamp                13         YES  TIMESTAMP   \n",
       "13              campaign_id                14         YES     STRING   \n",
       "14      campaign_variant_id                15         YES     STRING   \n",
       "15                canvas_id                16         YES     STRING   \n",
       "16        canvas_varaint_id                17         YES     STRING   \n",
       "17           canvas_step_id                18         YES     STRING   \n",
       "18            identity_id_7                19         YES     STRING   \n",
       "19                 platform                20         YES     STRING   \n",
       "20              data_source                21         YES     STRING   \n",
       "\n",
       "   is_generated generation_expression is_stored is_hidden is_updatable  \\\n",
       "0         NEVER                  None      None        NO         None   \n",
       "1         NEVER                  None      None        NO         None   \n",
       "2         NEVER                  None      None        NO         None   \n",
       "3         NEVER                  None      None        NO         None   \n",
       "4         NEVER                  None      None        NO         None   \n",
       "5         NEVER                  None      None        NO         None   \n",
       "6         NEVER                  None      None        NO         None   \n",
       "7         NEVER                  None      None        NO         None   \n",
       "8         NEVER                  None      None        NO         None   \n",
       "9         NEVER                  None      None        NO         None   \n",
       "10        NEVER                  None      None        NO         None   \n",
       "11        NEVER                  None      None        NO         None   \n",
       "12        NEVER                  None      None        NO         None   \n",
       "13        NEVER                  None      None        NO         None   \n",
       "14        NEVER                  None      None        NO         None   \n",
       "15        NEVER                  None      None        NO         None   \n",
       "16        NEVER                  None      None        NO         None   \n",
       "17        NEVER                  None      None        NO         None   \n",
       "18        NEVER                  None      None        NO         None   \n",
       "19        NEVER                  None      None        NO         None   \n",
       "20        NEVER                  None      None        NO         None   \n",
       "\n",
       "   is_system_defined is_partitioning_column  clustering_ordinal_position  \\\n",
       "0                 NO                     NO                            1   \n",
       "1                 NO                     NO                         <NA>   \n",
       "2                 NO                     NO                            3   \n",
       "3                 NO                     NO                         <NA>   \n",
       "4                 NO                     NO                         <NA>   \n",
       "5                 NO                     NO                         <NA>   \n",
       "6                 NO                     NO                         <NA>   \n",
       "7                 NO                     NO                         <NA>   \n",
       "8                 NO                     NO                         <NA>   \n",
       "9                 NO                     NO                         <NA>   \n",
       "10                NO                     NO                            4   \n",
       "11                NO                    YES                         <NA>   \n",
       "12                NO                     NO                         <NA>   \n",
       "13                NO                     NO                            2   \n",
       "14                NO                     NO                         <NA>   \n",
       "15                NO                     NO                         <NA>   \n",
       "16                NO                     NO                         <NA>   \n",
       "17                NO                     NO                         <NA>   \n",
       "18                NO                     NO                         <NA>   \n",
       "19                NO                     NO                         <NA>   \n",
       "20                NO                     NO                         <NA>   \n",
       "\n",
       "   collation_name column_default rounding_mode  \n",
       "0            NULL           NULL          None  \n",
       "1            NULL           NULL          None  \n",
       "2            NULL           NULL          None  \n",
       "3            NULL           NULL          None  \n",
       "4            NULL           NULL          None  \n",
       "5            NULL           NULL          None  \n",
       "6            NULL           NULL          None  \n",
       "7            NULL           NULL          None  \n",
       "8            NULL           NULL          None  \n",
       "9            NULL           NULL          None  \n",
       "10           NULL           NULL          None  \n",
       "11           NULL           NULL          None  \n",
       "12           NULL           NULL          None  \n",
       "13           NULL           NULL          None  \n",
       "14           NULL           NULL          None  \n",
       "15           NULL           NULL          None  \n",
       "16           NULL           NULL          None  \n",
       "17           NULL           NULL          None  \n",
       "18           NULL           NULL          None  \n",
       "19           NULL           NULL          None  \n",
       "20           NULL           NULL          None  "
      ]
     },
     "execution_count": 12,
     "metadata": {},
     "output_type": "execute_result"
    }
   ],
   "source": [
    "%%bigquery --project nbcu-ds-sandbox-a-001\n",
    "SELECT * \n",
    "FROM `nbcu-ds-prod-001.PeacockDataMartSilver.INFORMATION_SCHEMA.COLUMNS`\n",
    "where table_name = 'SILVER_MPARTICLE_BRAZE'"
   ]
  },
  {
   "attachments": {},
   "cell_type": "markdown",
   "metadata": {},
   "source": [
    "# Email Engager Discrepancy"
   ]
  },
  {
   "attachments": {},
   "cell_type": "markdown",
   "metadata": {},
   "source": [
    "### Jan"
   ]
  },
  {
   "cell_type": "code",
   "execution_count": 38,
   "metadata": {
    "vscode": {
     "languageId": "sql"
    }
   },
   "outputs": [
    {
     "data": {
      "application/vnd.jupyter.widget-view+json": {
       "model_id": "cc12a61040024e97852df2ff17778384",
       "version_major": 2,
       "version_minor": 0
      },
      "text/plain": [
       "Query is running:   0%|          |"
      ]
     },
     "metadata": {},
     "output_type": "display_data"
    },
    {
     "data": {
      "application/vnd.jupyter.widget-view+json": {
       "model_id": "b274ee08200549278daa3d42a92bdd01",
       "version_major": 2,
       "version_minor": 0
      },
      "text/plain": [
       "Downloading:   0%|          |"
      ]
     },
     "metadata": {},
     "output_type": "display_data"
    },
    {
     "data": {
      "text/html": [
       "<div>\n",
       "<style scoped>\n",
       "    .dataframe tbody tr th:only-of-type {\n",
       "        vertical-align: middle;\n",
       "    }\n",
       "\n",
       "    .dataframe tbody tr th {\n",
       "        vertical-align: top;\n",
       "    }\n",
       "\n",
       "    .dataframe thead th {\n",
       "        text-align: right;\n",
       "    }\n",
       "</style>\n",
       "<table border=\"1\" class=\"dataframe\">\n",
       "  <thead>\n",
       "    <tr style=\"text-align: right;\">\n",
       "      <th></th>\n",
       "      <th>f0_</th>\n",
       "    </tr>\n",
       "  </thead>\n",
       "  <tbody>\n",
       "    <tr>\n",
       "      <th>0</th>\n",
       "      <td>50126984</td>\n",
       "    </tr>\n",
       "  </tbody>\n",
       "</table>\n",
       "</div>"
      ],
      "text/plain": [
       "        f0_\n",
       "0  50126984"
      ]
     },
     "execution_count": 38,
     "metadata": {},
     "output_type": "execute_result"
    }
   ],
   "source": [
    "%%bigquery --project nbcu-ds-sandbox-a-001\n",
    "SELECT  COUNT(DISTINCT identity)\n",
    "FROM `nbcu-sdp-prod-003.sdp_persistent_views.BrazeMarketingView`\n",
    "WHERE (eventName = 'Email Opens')\n",
    "AND (machineOpen IS NULL)\n",
    "AND date(eventTimestamp) BETWEEN DATE_SUB('2023-01-31', INTERVAL 1 YEAR) AND '2023-01-31'\n",
    "AND lower(campaignName) NOT LIKE 'transactional%' -- Exclude transactional emails\n"
   ]
  },
  {
   "attachments": {},
   "cell_type": "markdown",
   "metadata": {},
   "source": [
    "### Feb"
   ]
  },
  {
   "cell_type": "code",
   "execution_count": 39,
   "metadata": {
    "vscode": {
     "languageId": "sql"
    }
   },
   "outputs": [
    {
     "data": {
      "application/vnd.jupyter.widget-view+json": {
       "model_id": "a2beac61ad844cd6be3fa2bffdd6aff0",
       "version_major": 2,
       "version_minor": 0
      },
      "text/plain": [
       "Query is running:   0%|          |"
      ]
     },
     "metadata": {},
     "output_type": "display_data"
    },
    {
     "data": {
      "application/vnd.jupyter.widget-view+json": {
       "model_id": "bb7d8378b7364185b75681ca24c79ecc",
       "version_major": 2,
       "version_minor": 0
      },
      "text/plain": [
       "Downloading:   0%|          |"
      ]
     },
     "metadata": {},
     "output_type": "display_data"
    },
    {
     "data": {
      "text/html": [
       "<div>\n",
       "<style scoped>\n",
       "    .dataframe tbody tr th:only-of-type {\n",
       "        vertical-align: middle;\n",
       "    }\n",
       "\n",
       "    .dataframe tbody tr th {\n",
       "        vertical-align: top;\n",
       "    }\n",
       "\n",
       "    .dataframe thead th {\n",
       "        text-align: right;\n",
       "    }\n",
       "</style>\n",
       "<table border=\"1\" class=\"dataframe\">\n",
       "  <thead>\n",
       "    <tr style=\"text-align: right;\">\n",
       "      <th></th>\n",
       "      <th>f0_</th>\n",
       "    </tr>\n",
       "  </thead>\n",
       "  <tbody>\n",
       "    <tr>\n",
       "      <th>0</th>\n",
       "      <td>38570038</td>\n",
       "    </tr>\n",
       "  </tbody>\n",
       "</table>\n",
       "</div>"
      ],
      "text/plain": [
       "        f0_\n",
       "0  38570038"
      ]
     },
     "execution_count": 39,
     "metadata": {},
     "output_type": "execute_result"
    }
   ],
   "source": [
    "%%bigquery --project nbcu-ds-sandbox-a-001\n",
    "SELECT  COUNT(DISTINCT identity)\n",
    "FROM `nbcu-sdp-prod-003.sdp_persistent_views.BrazeMarketingView`\n",
    "WHERE (eventName = 'Email Opens')\n",
    "AND (machineOpen IS NULL)\n",
    "AND date(eventTimestamp) BETWEEN DATE_SUB('2023-02-28', INTERVAL 1 YEAR) AND '2023-02-28'\n",
    "AND lower(campaignName) NOT LIKE 'transactional%' -- Exclude transactional emails\n"
   ]
  },
  {
   "attachments": {},
   "cell_type": "markdown",
   "metadata": {},
   "source": [
    "## All Opens"
   ]
  },
  {
   "cell_type": "code",
   "execution_count": 36,
   "metadata": {
    "vscode": {
     "languageId": "sql"
    }
   },
   "outputs": [
    {
     "data": {
      "application/vnd.jupyter.widget-view+json": {
       "model_id": "98beead1e509463eb4408cc741e06db1",
       "version_major": 2,
       "version_minor": 0
      },
      "text/plain": [
       "Query is running:   0%|          |"
      ]
     },
     "metadata": {},
     "output_type": "display_data"
    },
    {
     "data": {
      "application/vnd.jupyter.widget-view+json": {
       "model_id": "1a4a9c3302c74becad384551faf72789",
       "version_major": 2,
       "version_minor": 0
      },
      "text/plain": [
       "Downloading:   0%|          |"
      ]
     },
     "metadata": {},
     "output_type": "display_data"
    },
    {
     "data": {
      "text/html": [
       "<div>\n",
       "<style scoped>\n",
       "    .dataframe tbody tr th:only-of-type {\n",
       "        vertical-align: middle;\n",
       "    }\n",
       "\n",
       "    .dataframe tbody tr th {\n",
       "        vertical-align: top;\n",
       "    }\n",
       "\n",
       "    .dataframe thead th {\n",
       "        text-align: right;\n",
       "    }\n",
       "</style>\n",
       "<table border=\"1\" class=\"dataframe\">\n",
       "  <thead>\n",
       "    <tr style=\"text-align: right;\">\n",
       "      <th></th>\n",
       "      <th>f0_</th>\n",
       "    </tr>\n",
       "  </thead>\n",
       "  <tbody>\n",
       "    <tr>\n",
       "      <th>0</th>\n",
       "      <td>60164590</td>\n",
       "    </tr>\n",
       "  </tbody>\n",
       "</table>\n",
       "</div>"
      ],
      "text/plain": [
       "        f0_\n",
       "0  60164590"
      ]
     },
     "execution_count": 36,
     "metadata": {},
     "output_type": "execute_result"
    }
   ],
   "source": [
    "%%bigquery --project nbcu-ds-sandbox-a-001\n",
    "SELECT COUNT(DISTINCT identity)\n",
    "FROM  `nbcu-sdp-prod-003.sdp_persistent_views.BrazeMarketingView` \n",
    "WHERE eventName = 'Email Opens'\n",
    "AND date(eventTimestamp) BETWEEN DATE_SUB('2023-01-31', INTERVAL 1 YEAR) AND '2023-01-31'\n",
    "AND lower(campaignName) NOT LIKE 'transactional%' -- Exclude transactional emails\n"
   ]
  },
  {
   "cell_type": "code",
   "execution_count": 37,
   "metadata": {
    "vscode": {
     "languageId": "sql"
    }
   },
   "outputs": [
    {
     "data": {
      "application/vnd.jupyter.widget-view+json": {
       "model_id": "9813c47fe2754be2a065b29cce42ea9b",
       "version_major": 2,
       "version_minor": 0
      },
      "text/plain": [
       "Query is running:   0%|          |"
      ]
     },
     "metadata": {},
     "output_type": "display_data"
    },
    {
     "data": {
      "application/vnd.jupyter.widget-view+json": {
       "model_id": "465e6d698e984c8e985b586a1ec5e1da",
       "version_major": 2,
       "version_minor": 0
      },
      "text/plain": [
       "Downloading:   0%|          |"
      ]
     },
     "metadata": {},
     "output_type": "display_data"
    },
    {
     "data": {
      "text/html": [
       "<div>\n",
       "<style scoped>\n",
       "    .dataframe tbody tr th:only-of-type {\n",
       "        vertical-align: middle;\n",
       "    }\n",
       "\n",
       "    .dataframe tbody tr th {\n",
       "        vertical-align: top;\n",
       "    }\n",
       "\n",
       "    .dataframe thead th {\n",
       "        text-align: right;\n",
       "    }\n",
       "</style>\n",
       "<table border=\"1\" class=\"dataframe\">\n",
       "  <thead>\n",
       "    <tr style=\"text-align: right;\">\n",
       "      <th></th>\n",
       "      <th>f0_</th>\n",
       "    </tr>\n",
       "  </thead>\n",
       "  <tbody>\n",
       "    <tr>\n",
       "      <th>0</th>\n",
       "      <td>59949647</td>\n",
       "    </tr>\n",
       "  </tbody>\n",
       "</table>\n",
       "</div>"
      ],
      "text/plain": [
       "        f0_\n",
       "0  59949647"
      ]
     },
     "execution_count": 37,
     "metadata": {},
     "output_type": "execute_result"
    }
   ],
   "source": [
    "%%bigquery --project nbcu-ds-sandbox-a-001\n",
    "SELECT COUNT(DISTINCT identity) \n",
    "FROM  `nbcu-sdp-prod-003.sdp_persistent_views.BrazeMarketingView` \n",
    "WHERE (eventName = 'Email Opens')\n",
    "AND date(eventTimestamp) BETWEEN DATE_SUB('2023-02-28', INTERVAL 1 YEAR) AND '2023-02-28'\n",
    "AND lower(campaignName) NOT LIKE 'transactional%' -- Exclude transactional emails\n"
   ]
  },
  {
   "attachments": {},
   "cell_type": "markdown",
   "metadata": {},
   "source": [
    "## Hard Dates"
   ]
  },
  {
   "cell_type": "code",
   "execution_count": 42,
   "metadata": {
    "vscode": {
     "languageId": "sql"
    }
   },
   "outputs": [
    {
     "data": {
      "application/vnd.jupyter.widget-view+json": {
       "model_id": "06e0fcf888354aa9b976d5a33cdd8adb",
       "version_major": 2,
       "version_minor": 0
      },
      "text/plain": [
       "Query is running:   0%|          |"
      ]
     },
     "metadata": {},
     "output_type": "display_data"
    },
    {
     "data": {
      "application/vnd.jupyter.widget-view+json": {
       "model_id": "03d1e26ba7de41b59ed7f755d673cebc",
       "version_major": 2,
       "version_minor": 0
      },
      "text/plain": [
       "Downloading:   0%|          |"
      ]
     },
     "metadata": {},
     "output_type": "display_data"
    },
    {
     "data": {
      "text/html": [
       "<div>\n",
       "<style scoped>\n",
       "    .dataframe tbody tr th:only-of-type {\n",
       "        vertical-align: middle;\n",
       "    }\n",
       "\n",
       "    .dataframe tbody tr th {\n",
       "        vertical-align: top;\n",
       "    }\n",
       "\n",
       "    .dataframe thead th {\n",
       "        text-align: right;\n",
       "    }\n",
       "</style>\n",
       "<table border=\"1\" class=\"dataframe\">\n",
       "  <thead>\n",
       "    <tr style=\"text-align: right;\">\n",
       "      <th></th>\n",
       "      <th>f0_</th>\n",
       "    </tr>\n",
       "  </thead>\n",
       "  <tbody>\n",
       "    <tr>\n",
       "      <th>0</th>\n",
       "      <td>50126984</td>\n",
       "    </tr>\n",
       "  </tbody>\n",
       "</table>\n",
       "</div>"
      ],
      "text/plain": [
       "        f0_\n",
       "0  50126984"
      ]
     },
     "execution_count": 42,
     "metadata": {},
     "output_type": "execute_result"
    }
   ],
   "source": [
    "%%bigquery --project nbcu-ds-sandbox-a-001\n",
    "SELECT COUNT(DISTINCT identity)\n",
    "FROM  `nbcu-sdp-prod-003.sdp_persistent_views.BrazeMarketingView` \n",
    "WHERE (eventName = 'Email Opens')\n",
    "AND (machineOpen IS NULL)\n",
    "AND date(eventTimestamp) BETWEEN '2022-01-31' AND '2023-01-31'\n",
    "AND lower(campaignName) NOT LIKE 'transactional%' -- Exclude transactional emails\n"
   ]
  },
  {
   "cell_type": "code",
   "execution_count": 43,
   "metadata": {
    "vscode": {
     "languageId": "sql"
    }
   },
   "outputs": [
    {
     "data": {
      "application/vnd.jupyter.widget-view+json": {
       "model_id": "878be8745d6147e1b5a37a23459c9a52",
       "version_major": 2,
       "version_minor": 0
      },
      "text/plain": [
       "Query is running:   0%|          |"
      ]
     },
     "metadata": {},
     "output_type": "display_data"
    },
    {
     "data": {
      "application/vnd.jupyter.widget-view+json": {
       "model_id": "013b6e322d4a4cc5817ebf8af0f836d3",
       "version_major": 2,
       "version_minor": 0
      },
      "text/plain": [
       "Downloading:   0%|          |"
      ]
     },
     "metadata": {},
     "output_type": "display_data"
    },
    {
     "data": {
      "text/html": [
       "<div>\n",
       "<style scoped>\n",
       "    .dataframe tbody tr th:only-of-type {\n",
       "        vertical-align: middle;\n",
       "    }\n",
       "\n",
       "    .dataframe tbody tr th {\n",
       "        vertical-align: top;\n",
       "    }\n",
       "\n",
       "    .dataframe thead th {\n",
       "        text-align: right;\n",
       "    }\n",
       "</style>\n",
       "<table border=\"1\" class=\"dataframe\">\n",
       "  <thead>\n",
       "    <tr style=\"text-align: right;\">\n",
       "      <th></th>\n",
       "      <th>f0_</th>\n",
       "    </tr>\n",
       "  </thead>\n",
       "  <tbody>\n",
       "    <tr>\n",
       "      <th>0</th>\n",
       "      <td>38570038</td>\n",
       "    </tr>\n",
       "  </tbody>\n",
       "</table>\n",
       "</div>"
      ],
      "text/plain": [
       "        f0_\n",
       "0  38570038"
      ]
     },
     "execution_count": 43,
     "metadata": {},
     "output_type": "execute_result"
    }
   ],
   "source": [
    "%%bigquery --project nbcu-ds-sandbox-a-001\n",
    "SELECT COUNT(DISTINCT identity) \n",
    "FROM  `nbcu-sdp-prod-003.sdp_persistent_views.BrazeMarketingView` \n",
    "WHERE (eventName = 'Email Opens')\n",
    "AND (machineOpen IS NULL)\n",
    "AND date(eventTimestamp) BETWEEN '2022-02-28' AND '2023-02-28'\n",
    "AND lower(campaignName) NOT LIKE 'transactional%' -- Exclude transactional emails\n"
   ]
  },
  {
   "attachments": {},
   "cell_type": "markdown",
   "metadata": {},
   "source": [
    "### Email Acitivity History"
   ]
  },
  {
   "cell_type": "code",
   "execution_count": 33,
   "metadata": {
    "vscode": {
     "languageId": "sql"
    }
   },
   "outputs": [
    {
     "name": "stdout",
     "output_type": "stream",
     "text": [
      "Executing query with job ID: 5f729283-a1a6-4a91-8bfe-7820870d7474\n",
      "Query executing: 63.01s"
     ]
    },
    {
     "ename": "KeyboardInterrupt",
     "evalue": "",
     "output_type": "error",
     "traceback": [
      "\u001b[1;31m---------------------------------------------------------------------------\u001b[0m",
      "\u001b[1;31mKeyboardInterrupt\u001b[0m                         Traceback (most recent call last)",
      "\u001b[1;32mC:\\TEMP\\ipykernel_1880\\2690664176.py\u001b[0m in \u001b[0;36m<module>\u001b[1;34m\u001b[0m\n\u001b[1;32m----> 1\u001b[1;33m \u001b[0mget_ipython\u001b[0m\u001b[1;33m(\u001b[0m\u001b[1;33m)\u001b[0m\u001b[1;33m.\u001b[0m\u001b[0mrun_cell_magic\u001b[0m\u001b[1;33m(\u001b[0m\u001b[1;34m'bigquery'\u001b[0m\u001b[1;33m,\u001b[0m \u001b[1;34m'--project nbcu-ds-sandbox-a-001'\u001b[0m\u001b[1;33m,\u001b[0m \u001b[1;34m\"\\nCREATE OR REPLACE TABLE `nbcu-ds-sandbox-a-001.SLi_sandbox.Email_Activity_Summary` AS\\nSELECT  DATE_TRUNC(DATE(eventTimestamp),MONTH)                                                                          AS month\\n       ,COUNT(DISTINCT CASE WHEN (eventName = 'Email Opens') AND (machineOpen is null) THEN identity else null end)     AS unique_organic_email_opens\\n       ,COUNT(DISTINCT CASE WHEN (eventName = 'Email Opens') AND (machineOpen is null) THEN bid else null end)          AS unique_organic_email_opens_adobe_id\\n       ,COUNT(DISTINCT CASE WHEN (eventName = 'Email Opens') AND (machineOpen is not null) THEN identity else null end) AS unique_machine_opens\\n       ,COUNT(DISTINCT CASE WHEN (eventName = 'Email Opens') AND (machineOpen is not null) THEN bid else null end)      AS unique_machine_opens_adobe_id\\n       ,COUNT(DISTINCT CASE WHEN (eventName = 'Email Sends') THEN identity else null end)                               AS unique_sends\\n       ,COUNT(DISTINCT CASE WHEN (eventName = 'Email Sends') THEN bid else null end)                                    AS unique_sends_adobe_id\\n       ,COUNT(DISTINCT CASE WHEN (eventName = 'Email Deliveries') THEN identity else null end)                          AS unique_deliveries\\n       ,COUNT(DISTINCT CASE WHEN (eventName = 'Email Deliveries') THEN bid else null end)                               AS unique_deliveries_adobe_id\\n       ,COUNT(DISTINCT CASE WHEN (eventName = 'Email Bounces') THEN identity else null end)                             AS unique_bounces\\n       ,COUNT(DISTINCT CASE WHEN (eventName = 'Email Bounces') THEN bid else null end)                                  AS unique_bounces_adobe_id\\nFROM `nbcu-sdp-prod-003.sdp_persistent_views.BrazeMarketingView` a\\nLEFT JOIN `nbcu-ds-sandbox-a-001.SLi_sandbox.Braze_Id_Adobe_Id_Map` b\\nON b.bid = a.identity\\nWHERE lower(campaignName) NOT LIKE 'transactional%' -- Exclude transactional emails\\nGROUP BY  1\\n\"\u001b[0m\u001b[1;33m)\u001b[0m\u001b[1;33m\u001b[0m\u001b[1;33m\u001b[0m\u001b[0m\n\u001b[0m",
      "\u001b[1;32mc:\\Users\\206758160\\Anaconda3\\lib\\site-packages\\IPython\\core\\interactiveshell.py\u001b[0m in \u001b[0;36mrun_cell_magic\u001b[1;34m(self, magic_name, line, cell)\u001b[0m\n\u001b[0;32m   2417\u001b[0m             \u001b[1;32mwith\u001b[0m \u001b[0mself\u001b[0m\u001b[1;33m.\u001b[0m\u001b[0mbuiltin_trap\u001b[0m\u001b[1;33m:\u001b[0m\u001b[1;33m\u001b[0m\u001b[1;33m\u001b[0m\u001b[0m\n\u001b[0;32m   2418\u001b[0m                 \u001b[0margs\u001b[0m \u001b[1;33m=\u001b[0m \u001b[1;33m(\u001b[0m\u001b[0mmagic_arg_s\u001b[0m\u001b[1;33m,\u001b[0m \u001b[0mcell\u001b[0m\u001b[1;33m)\u001b[0m\u001b[1;33m\u001b[0m\u001b[1;33m\u001b[0m\u001b[0m\n\u001b[1;32m-> 2419\u001b[1;33m                 \u001b[0mresult\u001b[0m \u001b[1;33m=\u001b[0m \u001b[0mfn\u001b[0m\u001b[1;33m(\u001b[0m\u001b[1;33m*\u001b[0m\u001b[0margs\u001b[0m\u001b[1;33m,\u001b[0m \u001b[1;33m**\u001b[0m\u001b[0mkwargs\u001b[0m\u001b[1;33m)\u001b[0m\u001b[1;33m\u001b[0m\u001b[1;33m\u001b[0m\u001b[0m\n\u001b[0m\u001b[0;32m   2420\u001b[0m             \u001b[1;32mreturn\u001b[0m \u001b[0mresult\u001b[0m\u001b[1;33m\u001b[0m\u001b[1;33m\u001b[0m\u001b[0m\n\u001b[0;32m   2421\u001b[0m \u001b[1;33m\u001b[0m\u001b[0m\n",
      "\u001b[1;32mc:\\Users\\206758160\\Anaconda3\\lib\\site-packages\\google\\cloud\\bigquery\\magics\\magics.py\u001b[0m in \u001b[0;36m_cell_magic\u001b[1;34m(line, query)\u001b[0m\n\u001b[0;32m    683\u001b[0m \u001b[1;33m\u001b[0m\u001b[0m\n\u001b[0;32m    684\u001b[0m         \u001b[1;32mtry\u001b[0m\u001b[1;33m:\u001b[0m\u001b[1;33m\u001b[0m\u001b[1;33m\u001b[0m\u001b[0m\n\u001b[1;32m--> 685\u001b[1;33m             \u001b[0mquery_job\u001b[0m \u001b[1;33m=\u001b[0m \u001b[0m_run_query\u001b[0m\u001b[1;33m(\u001b[0m\u001b[0mclient\u001b[0m\u001b[1;33m,\u001b[0m \u001b[0mquery\u001b[0m\u001b[1;33m,\u001b[0m \u001b[0mjob_config\u001b[0m\u001b[1;33m=\u001b[0m\u001b[0mjob_config\u001b[0m\u001b[1;33m)\u001b[0m\u001b[1;33m\u001b[0m\u001b[1;33m\u001b[0m\u001b[0m\n\u001b[0m\u001b[0;32m    686\u001b[0m         \u001b[1;32mexcept\u001b[0m \u001b[0mException\u001b[0m \u001b[1;32mas\u001b[0m \u001b[0mex\u001b[0m\u001b[1;33m:\u001b[0m\u001b[1;33m\u001b[0m\u001b[1;33m\u001b[0m\u001b[0m\n\u001b[0;32m    687\u001b[0m             \u001b[0m_handle_error\u001b[0m\u001b[1;33m(\u001b[0m\u001b[0mex\u001b[0m\u001b[1;33m,\u001b[0m \u001b[0margs\u001b[0m\u001b[1;33m.\u001b[0m\u001b[0mdestination_var\u001b[0m\u001b[1;33m)\u001b[0m\u001b[1;33m\u001b[0m\u001b[1;33m\u001b[0m\u001b[0m\n",
      "\u001b[1;32mc:\\Users\\206758160\\Anaconda3\\lib\\site-packages\\google\\cloud\\bigquery\\magics\\magics.py\u001b[0m in \u001b[0;36m_run_query\u001b[1;34m(client, query, job_config)\u001b[0m\n\u001b[0;32m    344\u001b[0m         )\n\u001b[0;32m    345\u001b[0m         \u001b[1;32mtry\u001b[0m\u001b[1;33m:\u001b[0m\u001b[1;33m\u001b[0m\u001b[1;33m\u001b[0m\u001b[0m\n\u001b[1;32m--> 346\u001b[1;33m             \u001b[0mquery_job\u001b[0m\u001b[1;33m.\u001b[0m\u001b[0mresult\u001b[0m\u001b[1;33m(\u001b[0m\u001b[0mtimeout\u001b[0m\u001b[1;33m=\u001b[0m\u001b[1;36m0.5\u001b[0m\u001b[1;33m)\u001b[0m\u001b[1;33m\u001b[0m\u001b[1;33m\u001b[0m\u001b[0m\n\u001b[0m\u001b[0;32m    347\u001b[0m             \u001b[1;32mbreak\u001b[0m\u001b[1;33m\u001b[0m\u001b[1;33m\u001b[0m\u001b[0m\n\u001b[0;32m    348\u001b[0m         \u001b[1;32mexcept\u001b[0m \u001b[0mfutures\u001b[0m\u001b[1;33m.\u001b[0m\u001b[0mTimeoutError\u001b[0m\u001b[1;33m:\u001b[0m\u001b[1;33m\u001b[0m\u001b[1;33m\u001b[0m\u001b[0m\n",
      "\u001b[1;32mc:\\Users\\206758160\\Anaconda3\\lib\\site-packages\\google\\cloud\\bigquery\\job\\query.py\u001b[0m in \u001b[0;36mresult\u001b[1;34m(self, page_size, max_results, retry, timeout, start_index, job_retry)\u001b[0m\n\u001b[0;32m   1497\u001b[0m                 \u001b[0mdo_get_result\u001b[0m \u001b[1;33m=\u001b[0m \u001b[0mjob_retry\u001b[0m\u001b[1;33m(\u001b[0m\u001b[0mdo_get_result\u001b[0m\u001b[1;33m)\u001b[0m\u001b[1;33m\u001b[0m\u001b[1;33m\u001b[0m\u001b[0m\n\u001b[0;32m   1498\u001b[0m \u001b[1;33m\u001b[0m\u001b[0m\n\u001b[1;32m-> 1499\u001b[1;33m             \u001b[0mdo_get_result\u001b[0m\u001b[1;33m(\u001b[0m\u001b[1;33m)\u001b[0m\u001b[1;33m\u001b[0m\u001b[1;33m\u001b[0m\u001b[0m\n\u001b[0m\u001b[0;32m   1500\u001b[0m \u001b[1;33m\u001b[0m\u001b[0m\n\u001b[0;32m   1501\u001b[0m         \u001b[1;32mexcept\u001b[0m \u001b[0mexceptions\u001b[0m\u001b[1;33m.\u001b[0m\u001b[0mGoogleAPICallError\u001b[0m \u001b[1;32mas\u001b[0m \u001b[0mexc\u001b[0m\u001b[1;33m:\u001b[0m\u001b[1;33m\u001b[0m\u001b[1;33m\u001b[0m\u001b[0m\n",
      "\u001b[1;32mc:\\Users\\206758160\\Anaconda3\\lib\\site-packages\\google\\api_core\\retry.py\u001b[0m in \u001b[0;36mretry_wrapped_func\u001b[1;34m(*args, **kwargs)\u001b[0m\n\u001b[0;32m    347\u001b[0m                 \u001b[0mself\u001b[0m\u001b[1;33m.\u001b[0m\u001b[0m_initial\u001b[0m\u001b[1;33m,\u001b[0m \u001b[0mself\u001b[0m\u001b[1;33m.\u001b[0m\u001b[0m_maximum\u001b[0m\u001b[1;33m,\u001b[0m \u001b[0mmultiplier\u001b[0m\u001b[1;33m=\u001b[0m\u001b[0mself\u001b[0m\u001b[1;33m.\u001b[0m\u001b[0m_multiplier\u001b[0m\u001b[1;33m\u001b[0m\u001b[1;33m\u001b[0m\u001b[0m\n\u001b[0;32m    348\u001b[0m             )\n\u001b[1;32m--> 349\u001b[1;33m             return retry_target(\n\u001b[0m\u001b[0;32m    350\u001b[0m                 \u001b[0mtarget\u001b[0m\u001b[1;33m,\u001b[0m\u001b[1;33m\u001b[0m\u001b[1;33m\u001b[0m\u001b[0m\n\u001b[0;32m    351\u001b[0m                 \u001b[0mself\u001b[0m\u001b[1;33m.\u001b[0m\u001b[0m_predicate\u001b[0m\u001b[1;33m,\u001b[0m\u001b[1;33m\u001b[0m\u001b[1;33m\u001b[0m\u001b[0m\n",
      "\u001b[1;32mc:\\Users\\206758160\\Anaconda3\\lib\\site-packages\\google\\api_core\\retry.py\u001b[0m in \u001b[0;36mretry_target\u001b[1;34m(target, predicate, sleep_generator, timeout, on_error, **kwargs)\u001b[0m\n\u001b[0;32m    189\u001b[0m     \u001b[1;32mfor\u001b[0m \u001b[0msleep\u001b[0m \u001b[1;32min\u001b[0m \u001b[0msleep_generator\u001b[0m\u001b[1;33m:\u001b[0m\u001b[1;33m\u001b[0m\u001b[1;33m\u001b[0m\u001b[0m\n\u001b[0;32m    190\u001b[0m         \u001b[1;32mtry\u001b[0m\u001b[1;33m:\u001b[0m\u001b[1;33m\u001b[0m\u001b[1;33m\u001b[0m\u001b[0m\n\u001b[1;32m--> 191\u001b[1;33m             \u001b[1;32mreturn\u001b[0m \u001b[0mtarget\u001b[0m\u001b[1;33m(\u001b[0m\u001b[1;33m)\u001b[0m\u001b[1;33m\u001b[0m\u001b[1;33m\u001b[0m\u001b[0m\n\u001b[0m\u001b[0;32m    192\u001b[0m \u001b[1;33m\u001b[0m\u001b[0m\n\u001b[0;32m    193\u001b[0m         \u001b[1;31m# pylint: disable=broad-except\u001b[0m\u001b[1;33m\u001b[0m\u001b[1;33m\u001b[0m\u001b[0m\n",
      "\u001b[1;32mc:\\Users\\206758160\\Anaconda3\\lib\\site-packages\\google\\cloud\\bigquery\\job\\query.py\u001b[0m in \u001b[0;36mdo_get_result\u001b[1;34m()\u001b[0m\n\u001b[0;32m   1487\u001b[0m                     \u001b[0mself\u001b[0m\u001b[1;33m.\u001b[0m\u001b[0m_job_retry\u001b[0m \u001b[1;33m=\u001b[0m \u001b[0mjob_retry\u001b[0m\u001b[1;33m\u001b[0m\u001b[1;33m\u001b[0m\u001b[0m\n\u001b[0;32m   1488\u001b[0m \u001b[1;33m\u001b[0m\u001b[0m\n\u001b[1;32m-> 1489\u001b[1;33m                 \u001b[0msuper\u001b[0m\u001b[1;33m(\u001b[0m\u001b[0mQueryJob\u001b[0m\u001b[1;33m,\u001b[0m \u001b[0mself\u001b[0m\u001b[1;33m)\u001b[0m\u001b[1;33m.\u001b[0m\u001b[0mresult\u001b[0m\u001b[1;33m(\u001b[0m\u001b[0mretry\u001b[0m\u001b[1;33m=\u001b[0m\u001b[0mretry\u001b[0m\u001b[1;33m,\u001b[0m \u001b[0mtimeout\u001b[0m\u001b[1;33m=\u001b[0m\u001b[0mtimeout\u001b[0m\u001b[1;33m)\u001b[0m\u001b[1;33m\u001b[0m\u001b[1;33m\u001b[0m\u001b[0m\n\u001b[0m\u001b[0;32m   1490\u001b[0m \u001b[1;33m\u001b[0m\u001b[0m\n\u001b[0;32m   1491\u001b[0m                 \u001b[1;31m# Since the job could already be \"done\" (e.g. got a finished job\u001b[0m\u001b[1;33m\u001b[0m\u001b[1;33m\u001b[0m\u001b[0m\n",
      "\u001b[1;32mc:\\Users\\206758160\\Anaconda3\\lib\\site-packages\\google\\cloud\\bigquery\\job\\base.py\u001b[0m in \u001b[0;36mresult\u001b[1;34m(self, retry, timeout)\u001b[0m\n\u001b[0;32m    726\u001b[0m \u001b[1;33m\u001b[0m\u001b[0m\n\u001b[0;32m    727\u001b[0m         \u001b[0mkwargs\u001b[0m \u001b[1;33m=\u001b[0m \u001b[1;33m{\u001b[0m\u001b[1;33m}\u001b[0m \u001b[1;32mif\u001b[0m \u001b[0mretry\u001b[0m \u001b[1;32mis\u001b[0m \u001b[0mDEFAULT_RETRY\u001b[0m \u001b[1;32melse\u001b[0m \u001b[1;33m{\u001b[0m\u001b[1;34m\"retry\"\u001b[0m\u001b[1;33m:\u001b[0m \u001b[0mretry\u001b[0m\u001b[1;33m}\u001b[0m\u001b[1;33m\u001b[0m\u001b[1;33m\u001b[0m\u001b[0m\n\u001b[1;32m--> 728\u001b[1;33m         \u001b[1;32mreturn\u001b[0m \u001b[0msuper\u001b[0m\u001b[1;33m(\u001b[0m\u001b[0m_AsyncJob\u001b[0m\u001b[1;33m,\u001b[0m \u001b[0mself\u001b[0m\u001b[1;33m)\u001b[0m\u001b[1;33m.\u001b[0m\u001b[0mresult\u001b[0m\u001b[1;33m(\u001b[0m\u001b[0mtimeout\u001b[0m\u001b[1;33m=\u001b[0m\u001b[0mtimeout\u001b[0m\u001b[1;33m,\u001b[0m \u001b[1;33m**\u001b[0m\u001b[0mkwargs\u001b[0m\u001b[1;33m)\u001b[0m\u001b[1;33m\u001b[0m\u001b[1;33m\u001b[0m\u001b[0m\n\u001b[0m\u001b[0;32m    729\u001b[0m \u001b[1;33m\u001b[0m\u001b[0m\n\u001b[0;32m    730\u001b[0m     \u001b[1;32mdef\u001b[0m \u001b[0mcancelled\u001b[0m\u001b[1;33m(\u001b[0m\u001b[0mself\u001b[0m\u001b[1;33m)\u001b[0m\u001b[1;33m:\u001b[0m\u001b[1;33m\u001b[0m\u001b[1;33m\u001b[0m\u001b[0m\n",
      "\u001b[1;32mc:\\Users\\206758160\\Anaconda3\\lib\\site-packages\\google\\api_core\\future\\polling.py\u001b[0m in \u001b[0;36mresult\u001b[1;34m(self, timeout, retry, polling)\u001b[0m\n\u001b[0;32m    254\u001b[0m         \"\"\"\n\u001b[0;32m    255\u001b[0m \u001b[1;33m\u001b[0m\u001b[0m\n\u001b[1;32m--> 256\u001b[1;33m         \u001b[0mself\u001b[0m\u001b[1;33m.\u001b[0m\u001b[0m_blocking_poll\u001b[0m\u001b[1;33m(\u001b[0m\u001b[0mtimeout\u001b[0m\u001b[1;33m=\u001b[0m\u001b[0mtimeout\u001b[0m\u001b[1;33m,\u001b[0m \u001b[0mretry\u001b[0m\u001b[1;33m=\u001b[0m\u001b[0mretry\u001b[0m\u001b[1;33m,\u001b[0m \u001b[0mpolling\u001b[0m\u001b[1;33m=\u001b[0m\u001b[0mpolling\u001b[0m\u001b[1;33m)\u001b[0m\u001b[1;33m\u001b[0m\u001b[1;33m\u001b[0m\u001b[0m\n\u001b[0m\u001b[0;32m    257\u001b[0m \u001b[1;33m\u001b[0m\u001b[0m\n\u001b[0;32m    258\u001b[0m         \u001b[1;32mif\u001b[0m \u001b[0mself\u001b[0m\u001b[1;33m.\u001b[0m\u001b[0m_exception\u001b[0m \u001b[1;32mis\u001b[0m \u001b[1;32mnot\u001b[0m \u001b[1;32mNone\u001b[0m\u001b[1;33m:\u001b[0m\u001b[1;33m\u001b[0m\u001b[1;33m\u001b[0m\u001b[0m\n",
      "\u001b[1;32mc:\\Users\\206758160\\Anaconda3\\lib\\site-packages\\google\\cloud\\bigquery\\job\\query.py\u001b[0m in \u001b[0;36m_blocking_poll\u001b[1;34m(self, timeout, **kwargs)\u001b[0m\n\u001b[0;32m   1243\u001b[0m         \u001b[0mself\u001b[0m\u001b[1;33m.\u001b[0m\u001b[0m_done_timeout\u001b[0m \u001b[1;33m=\u001b[0m \u001b[0mtimeout\u001b[0m\u001b[1;33m\u001b[0m\u001b[1;33m\u001b[0m\u001b[0m\n\u001b[0;32m   1244\u001b[0m         \u001b[0mself\u001b[0m\u001b[1;33m.\u001b[0m\u001b[0m_transport_timeout\u001b[0m \u001b[1;33m=\u001b[0m \u001b[0mtimeout\u001b[0m\u001b[1;33m\u001b[0m\u001b[1;33m\u001b[0m\u001b[0m\n\u001b[1;32m-> 1245\u001b[1;33m         \u001b[0msuper\u001b[0m\u001b[1;33m(\u001b[0m\u001b[0mQueryJob\u001b[0m\u001b[1;33m,\u001b[0m \u001b[0mself\u001b[0m\u001b[1;33m)\u001b[0m\u001b[1;33m.\u001b[0m\u001b[0m_blocking_poll\u001b[0m\u001b[1;33m(\u001b[0m\u001b[0mtimeout\u001b[0m\u001b[1;33m=\u001b[0m\u001b[0mtimeout\u001b[0m\u001b[1;33m,\u001b[0m \u001b[1;33m**\u001b[0m\u001b[0mkwargs\u001b[0m\u001b[1;33m)\u001b[0m\u001b[1;33m\u001b[0m\u001b[1;33m\u001b[0m\u001b[0m\n\u001b[0m\u001b[0;32m   1246\u001b[0m \u001b[1;33m\u001b[0m\u001b[0m\n\u001b[0;32m   1247\u001b[0m     \u001b[1;33m@\u001b[0m\u001b[0mstaticmethod\u001b[0m\u001b[1;33m\u001b[0m\u001b[1;33m\u001b[0m\u001b[0m\n",
      "\u001b[1;32mc:\\Users\\206758160\\Anaconda3\\lib\\site-packages\\google\\api_core\\future\\polling.py\u001b[0m in \u001b[0;36m_blocking_poll\u001b[1;34m(self, timeout, retry, polling)\u001b[0m\n\u001b[0;32m    135\u001b[0m \u001b[1;33m\u001b[0m\u001b[0m\n\u001b[0;32m    136\u001b[0m         \u001b[1;32mtry\u001b[0m\u001b[1;33m:\u001b[0m\u001b[1;33m\u001b[0m\u001b[1;33m\u001b[0m\u001b[0m\n\u001b[1;32m--> 137\u001b[1;33m             \u001b[0mpolling\u001b[0m\u001b[1;33m(\u001b[0m\u001b[0mself\u001b[0m\u001b[1;33m.\u001b[0m\u001b[0m_done_or_raise\u001b[0m\u001b[1;33m)\u001b[0m\u001b[1;33m(\u001b[0m\u001b[0mretry\u001b[0m\u001b[1;33m=\u001b[0m\u001b[0mretry\u001b[0m\u001b[1;33m)\u001b[0m\u001b[1;33m\u001b[0m\u001b[1;33m\u001b[0m\u001b[0m\n\u001b[0m\u001b[0;32m    138\u001b[0m         \u001b[1;32mexcept\u001b[0m \u001b[0mexceptions\u001b[0m\u001b[1;33m.\u001b[0m\u001b[0mRetryError\u001b[0m\u001b[1;33m:\u001b[0m\u001b[1;33m\u001b[0m\u001b[1;33m\u001b[0m\u001b[0m\n\u001b[0;32m    139\u001b[0m             raise concurrent.futures.TimeoutError(\n",
      "\u001b[1;32mc:\\Users\\206758160\\Anaconda3\\lib\\site-packages\\google\\api_core\\retry.py\u001b[0m in \u001b[0;36mretry_wrapped_func\u001b[1;34m(*args, **kwargs)\u001b[0m\n\u001b[0;32m    347\u001b[0m                 \u001b[0mself\u001b[0m\u001b[1;33m.\u001b[0m\u001b[0m_initial\u001b[0m\u001b[1;33m,\u001b[0m \u001b[0mself\u001b[0m\u001b[1;33m.\u001b[0m\u001b[0m_maximum\u001b[0m\u001b[1;33m,\u001b[0m \u001b[0mmultiplier\u001b[0m\u001b[1;33m=\u001b[0m\u001b[0mself\u001b[0m\u001b[1;33m.\u001b[0m\u001b[0m_multiplier\u001b[0m\u001b[1;33m\u001b[0m\u001b[1;33m\u001b[0m\u001b[0m\n\u001b[0;32m    348\u001b[0m             )\n\u001b[1;32m--> 349\u001b[1;33m             return retry_target(\n\u001b[0m\u001b[0;32m    350\u001b[0m                 \u001b[0mtarget\u001b[0m\u001b[1;33m,\u001b[0m\u001b[1;33m\u001b[0m\u001b[1;33m\u001b[0m\u001b[0m\n\u001b[0;32m    351\u001b[0m                 \u001b[0mself\u001b[0m\u001b[1;33m.\u001b[0m\u001b[0m_predicate\u001b[0m\u001b[1;33m,\u001b[0m\u001b[1;33m\u001b[0m\u001b[1;33m\u001b[0m\u001b[0m\n",
      "\u001b[1;32mc:\\Users\\206758160\\Anaconda3\\lib\\site-packages\\google\\api_core\\retry.py\u001b[0m in \u001b[0;36mretry_target\u001b[1;34m(target, predicate, sleep_generator, timeout, on_error, **kwargs)\u001b[0m\n\u001b[0;32m    189\u001b[0m     \u001b[1;32mfor\u001b[0m \u001b[0msleep\u001b[0m \u001b[1;32min\u001b[0m \u001b[0msleep_generator\u001b[0m\u001b[1;33m:\u001b[0m\u001b[1;33m\u001b[0m\u001b[1;33m\u001b[0m\u001b[0m\n\u001b[0;32m    190\u001b[0m         \u001b[1;32mtry\u001b[0m\u001b[1;33m:\u001b[0m\u001b[1;33m\u001b[0m\u001b[1;33m\u001b[0m\u001b[0m\n\u001b[1;32m--> 191\u001b[1;33m             \u001b[1;32mreturn\u001b[0m \u001b[0mtarget\u001b[0m\u001b[1;33m(\u001b[0m\u001b[1;33m)\u001b[0m\u001b[1;33m\u001b[0m\u001b[1;33m\u001b[0m\u001b[0m\n\u001b[0m\u001b[0;32m    192\u001b[0m \u001b[1;33m\u001b[0m\u001b[0m\n\u001b[0;32m    193\u001b[0m         \u001b[1;31m# pylint: disable=broad-except\u001b[0m\u001b[1;33m\u001b[0m\u001b[1;33m\u001b[0m\u001b[0m\n",
      "\u001b[1;32mc:\\Users\\206758160\\Anaconda3\\lib\\site-packages\\google\\cloud\\bigquery\\job\\query.py\u001b[0m in \u001b[0;36m_done_or_raise\u001b[1;34m(self, retry, timeout)\u001b[0m\n\u001b[0;32m   1356\u001b[0m \u001b[1;33m\u001b[0m\u001b[0m\n\u001b[0;32m   1357\u001b[0m         \u001b[1;32mtry\u001b[0m\u001b[1;33m:\u001b[0m\u001b[1;33m\u001b[0m\u001b[1;33m\u001b[0m\u001b[0m\n\u001b[1;32m-> 1358\u001b[1;33m             \u001b[0mself\u001b[0m\u001b[1;33m.\u001b[0m\u001b[0m_reload_query_results\u001b[0m\u001b[1;33m(\u001b[0m\u001b[0mretry\u001b[0m\u001b[1;33m=\u001b[0m\u001b[0mretry\u001b[0m\u001b[1;33m,\u001b[0m \u001b[0mtimeout\u001b[0m\u001b[1;33m=\u001b[0m\u001b[0mtransport_timeout\u001b[0m\u001b[1;33m)\u001b[0m\u001b[1;33m\u001b[0m\u001b[1;33m\u001b[0m\u001b[0m\n\u001b[0m\u001b[0;32m   1359\u001b[0m         \u001b[1;32mexcept\u001b[0m \u001b[0mexceptions\u001b[0m\u001b[1;33m.\u001b[0m\u001b[0mGoogleAPIError\u001b[0m \u001b[1;32mas\u001b[0m \u001b[0mexc\u001b[0m\u001b[1;33m:\u001b[0m\u001b[1;33m\u001b[0m\u001b[1;33m\u001b[0m\u001b[0m\n\u001b[0;32m   1360\u001b[0m             \u001b[1;31m# Reloading also updates error details on self, thus no need for an\u001b[0m\u001b[1;33m\u001b[0m\u001b[1;33m\u001b[0m\u001b[0m\n",
      "\u001b[1;32mc:\\Users\\206758160\\Anaconda3\\lib\\site-packages\\google\\cloud\\bigquery\\job\\query.py\u001b[0m in \u001b[0;36m_reload_query_results\u001b[1;34m(self, retry, timeout)\u001b[0m\n\u001b[0;32m   1337\u001b[0m         \u001b[0mtransport_timeout\u001b[0m \u001b[1;33m=\u001b[0m \u001b[0mtimeout\u001b[0m \u001b[1;32mif\u001b[0m \u001b[0mtimeout\u001b[0m \u001b[1;32mis\u001b[0m \u001b[1;32mnot\u001b[0m \u001b[1;32mNone\u001b[0m \u001b[1;32melse\u001b[0m \u001b[0mself\u001b[0m\u001b[1;33m.\u001b[0m\u001b[0m_transport_timeout\u001b[0m\u001b[1;33m\u001b[0m\u001b[1;33m\u001b[0m\u001b[0m\n\u001b[0;32m   1338\u001b[0m \u001b[1;33m\u001b[0m\u001b[0m\n\u001b[1;32m-> 1339\u001b[1;33m         self._query_results = self._client._get_query_results(\n\u001b[0m\u001b[0;32m   1340\u001b[0m             \u001b[0mself\u001b[0m\u001b[1;33m.\u001b[0m\u001b[0mjob_id\u001b[0m\u001b[1;33m,\u001b[0m\u001b[1;33m\u001b[0m\u001b[1;33m\u001b[0m\u001b[0m\n\u001b[0;32m   1341\u001b[0m             \u001b[0mretry\u001b[0m\u001b[1;33m,\u001b[0m\u001b[1;33m\u001b[0m\u001b[1;33m\u001b[0m\u001b[0m\n",
      "\u001b[1;32mc:\\Users\\206758160\\Anaconda3\\lib\\site-packages\\google\\cloud\\bigquery\\client.py\u001b[0m in \u001b[0;36m_get_query_results\u001b[1;34m(self, job_id, retry, project, timeout_ms, location, timeout)\u001b[0m\n\u001b[0;32m   1886\u001b[0m         \u001b[1;31m# QueryJob.result()). So we don't need to poll here.\u001b[0m\u001b[1;33m\u001b[0m\u001b[1;33m\u001b[0m\u001b[0m\n\u001b[0;32m   1887\u001b[0m         \u001b[0mspan_attributes\u001b[0m \u001b[1;33m=\u001b[0m \u001b[1;33m{\u001b[0m\u001b[1;34m\"path\"\u001b[0m\u001b[1;33m:\u001b[0m \u001b[0mpath\u001b[0m\u001b[1;33m}\u001b[0m\u001b[1;33m\u001b[0m\u001b[1;33m\u001b[0m\u001b[0m\n\u001b[1;32m-> 1888\u001b[1;33m         resource = self._call_api(\n\u001b[0m\u001b[0;32m   1889\u001b[0m             \u001b[0mretry\u001b[0m\u001b[1;33m,\u001b[0m\u001b[1;33m\u001b[0m\u001b[1;33m\u001b[0m\u001b[0m\n\u001b[0;32m   1890\u001b[0m             \u001b[0mspan_name\u001b[0m\u001b[1;33m=\u001b[0m\u001b[1;34m\"BigQuery.getQueryResults\"\u001b[0m\u001b[1;33m,\u001b[0m\u001b[1;33m\u001b[0m\u001b[1;33m\u001b[0m\u001b[0m\n",
      "\u001b[1;32mc:\\Users\\206758160\\Anaconda3\\lib\\site-packages\\google\\cloud\\bigquery\\client.py\u001b[0m in \u001b[0;36m_call_api\u001b[1;34m(self, retry, span_name, span_attributes, job_ref, headers, **kwargs)\u001b[0m\n\u001b[0;32m    784\u001b[0m                 \u001b[0mname\u001b[0m\u001b[1;33m=\u001b[0m\u001b[0mspan_name\u001b[0m\u001b[1;33m,\u001b[0m \u001b[0mattributes\u001b[0m\u001b[1;33m=\u001b[0m\u001b[0mspan_attributes\u001b[0m\u001b[1;33m,\u001b[0m \u001b[0mclient\u001b[0m\u001b[1;33m=\u001b[0m\u001b[0mself\u001b[0m\u001b[1;33m,\u001b[0m \u001b[0mjob_ref\u001b[0m\u001b[1;33m=\u001b[0m\u001b[0mjob_ref\u001b[0m\u001b[1;33m\u001b[0m\u001b[1;33m\u001b[0m\u001b[0m\n\u001b[0;32m    785\u001b[0m             ):\n\u001b[1;32m--> 786\u001b[1;33m                 \u001b[1;32mreturn\u001b[0m \u001b[0mcall\u001b[0m\u001b[1;33m(\u001b[0m\u001b[1;33m)\u001b[0m\u001b[1;33m\u001b[0m\u001b[1;33m\u001b[0m\u001b[0m\n\u001b[0m\u001b[0;32m    787\u001b[0m \u001b[1;33m\u001b[0m\u001b[0m\n\u001b[0;32m    788\u001b[0m         \u001b[1;32mreturn\u001b[0m \u001b[0mcall\u001b[0m\u001b[1;33m(\u001b[0m\u001b[1;33m)\u001b[0m\u001b[1;33m\u001b[0m\u001b[1;33m\u001b[0m\u001b[0m\n",
      "\u001b[1;32mc:\\Users\\206758160\\Anaconda3\\lib\\site-packages\\google\\cloud\\_http\\__init__.py\u001b[0m in \u001b[0;36mapi_request\u001b[1;34m(self, method, path, query_params, data, content_type, headers, api_base_url, api_version, expect_json, _target_object, timeout, extra_api_info)\u001b[0m\n\u001b[0;32m    480\u001b[0m             \u001b[0mcontent_type\u001b[0m \u001b[1;33m=\u001b[0m \u001b[1;34m\"application/json\"\u001b[0m\u001b[1;33m\u001b[0m\u001b[1;33m\u001b[0m\u001b[0m\n\u001b[0;32m    481\u001b[0m \u001b[1;33m\u001b[0m\u001b[0m\n\u001b[1;32m--> 482\u001b[1;33m         response = self._make_request(\n\u001b[0m\u001b[0;32m    483\u001b[0m             \u001b[0mmethod\u001b[0m\u001b[1;33m=\u001b[0m\u001b[0mmethod\u001b[0m\u001b[1;33m,\u001b[0m\u001b[1;33m\u001b[0m\u001b[1;33m\u001b[0m\u001b[0m\n\u001b[0;32m    484\u001b[0m             \u001b[0murl\u001b[0m\u001b[1;33m=\u001b[0m\u001b[0murl\u001b[0m\u001b[1;33m,\u001b[0m\u001b[1;33m\u001b[0m\u001b[1;33m\u001b[0m\u001b[0m\n",
      "\u001b[1;32mc:\\Users\\206758160\\Anaconda3\\lib\\site-packages\\google\\cloud\\_http\\__init__.py\u001b[0m in \u001b[0;36m_make_request\u001b[1;34m(self, method, url, data, content_type, headers, target_object, timeout, extra_api_info)\u001b[0m\n\u001b[0;32m    339\u001b[0m         \u001b[0mheaders\u001b[0m\u001b[1;33m[\u001b[0m\u001b[1;34m\"User-Agent\"\u001b[0m\u001b[1;33m]\u001b[0m \u001b[1;33m=\u001b[0m \u001b[0mself\u001b[0m\u001b[1;33m.\u001b[0m\u001b[0muser_agent\u001b[0m\u001b[1;33m\u001b[0m\u001b[1;33m\u001b[0m\u001b[0m\n\u001b[0;32m    340\u001b[0m \u001b[1;33m\u001b[0m\u001b[0m\n\u001b[1;32m--> 341\u001b[1;33m         return self._do_request(\n\u001b[0m\u001b[0;32m    342\u001b[0m             \u001b[0mmethod\u001b[0m\u001b[1;33m,\u001b[0m \u001b[0murl\u001b[0m\u001b[1;33m,\u001b[0m \u001b[0mheaders\u001b[0m\u001b[1;33m,\u001b[0m \u001b[0mdata\u001b[0m\u001b[1;33m,\u001b[0m \u001b[0mtarget_object\u001b[0m\u001b[1;33m,\u001b[0m \u001b[0mtimeout\u001b[0m\u001b[1;33m=\u001b[0m\u001b[0mtimeout\u001b[0m\u001b[1;33m\u001b[0m\u001b[1;33m\u001b[0m\u001b[0m\n\u001b[0;32m    343\u001b[0m         )\n",
      "\u001b[1;32mc:\\Users\\206758160\\Anaconda3\\lib\\site-packages\\google\\cloud\\_http\\__init__.py\u001b[0m in \u001b[0;36m_do_request\u001b[1;34m(self, method, url, headers, data, target_object, timeout)\u001b[0m\n\u001b[0;32m    377\u001b[0m         \u001b[1;33m:\u001b[0m\u001b[0mreturns\u001b[0m\u001b[1;33m:\u001b[0m \u001b[0mThe\u001b[0m \u001b[0mHTTP\u001b[0m \u001b[0mresponse\u001b[0m\u001b[1;33m.\u001b[0m\u001b[1;33m\u001b[0m\u001b[1;33m\u001b[0m\u001b[0m\n\u001b[0;32m    378\u001b[0m         \"\"\"\n\u001b[1;32m--> 379\u001b[1;33m         return self.http.request(\n\u001b[0m\u001b[0;32m    380\u001b[0m             \u001b[0murl\u001b[0m\u001b[1;33m=\u001b[0m\u001b[0murl\u001b[0m\u001b[1;33m,\u001b[0m \u001b[0mmethod\u001b[0m\u001b[1;33m=\u001b[0m\u001b[0mmethod\u001b[0m\u001b[1;33m,\u001b[0m \u001b[0mheaders\u001b[0m\u001b[1;33m=\u001b[0m\u001b[0mheaders\u001b[0m\u001b[1;33m,\u001b[0m \u001b[0mdata\u001b[0m\u001b[1;33m=\u001b[0m\u001b[0mdata\u001b[0m\u001b[1;33m,\u001b[0m \u001b[0mtimeout\u001b[0m\u001b[1;33m=\u001b[0m\u001b[0mtimeout\u001b[0m\u001b[1;33m\u001b[0m\u001b[1;33m\u001b[0m\u001b[0m\n\u001b[0;32m    381\u001b[0m         )\n",
      "\u001b[1;32mc:\\Users\\206758160\\Anaconda3\\lib\\site-packages\\google\\auth\\transport\\requests.py\u001b[0m in \u001b[0;36mrequest\u001b[1;34m(self, method, url, data, headers, max_allowed_time, timeout, **kwargs)\u001b[0m\n\u001b[0;32m    547\u001b[0m \u001b[1;33m\u001b[0m\u001b[0m\n\u001b[0;32m    548\u001b[0m         \u001b[1;32mwith\u001b[0m \u001b[0mTimeoutGuard\u001b[0m\u001b[1;33m(\u001b[0m\u001b[0mremaining_time\u001b[0m\u001b[1;33m)\u001b[0m \u001b[1;32mas\u001b[0m \u001b[0mguard\u001b[0m\u001b[1;33m:\u001b[0m\u001b[1;33m\u001b[0m\u001b[1;33m\u001b[0m\u001b[0m\n\u001b[1;32m--> 549\u001b[1;33m             response = super(AuthorizedSession, self).request(\n\u001b[0m\u001b[0;32m    550\u001b[0m                 \u001b[0mmethod\u001b[0m\u001b[1;33m,\u001b[0m\u001b[1;33m\u001b[0m\u001b[1;33m\u001b[0m\u001b[0m\n\u001b[0;32m    551\u001b[0m                 \u001b[0murl\u001b[0m\u001b[1;33m,\u001b[0m\u001b[1;33m\u001b[0m\u001b[1;33m\u001b[0m\u001b[0m\n",
      "\u001b[1;32mc:\\Users\\206758160\\Anaconda3\\lib\\site-packages\\requests\\sessions.py\u001b[0m in \u001b[0;36mrequest\u001b[1;34m(self, method, url, params, data, headers, cookies, files, auth, timeout, allow_redirects, proxies, hooks, stream, verify, cert, json)\u001b[0m\n\u001b[0;32m    585\u001b[0m         }\n\u001b[0;32m    586\u001b[0m         \u001b[0msend_kwargs\u001b[0m\u001b[1;33m.\u001b[0m\u001b[0mupdate\u001b[0m\u001b[1;33m(\u001b[0m\u001b[0msettings\u001b[0m\u001b[1;33m)\u001b[0m\u001b[1;33m\u001b[0m\u001b[1;33m\u001b[0m\u001b[0m\n\u001b[1;32m--> 587\u001b[1;33m         \u001b[0mresp\u001b[0m \u001b[1;33m=\u001b[0m \u001b[0mself\u001b[0m\u001b[1;33m.\u001b[0m\u001b[0msend\u001b[0m\u001b[1;33m(\u001b[0m\u001b[0mprep\u001b[0m\u001b[1;33m,\u001b[0m \u001b[1;33m**\u001b[0m\u001b[0msend_kwargs\u001b[0m\u001b[1;33m)\u001b[0m\u001b[1;33m\u001b[0m\u001b[1;33m\u001b[0m\u001b[0m\n\u001b[0m\u001b[0;32m    588\u001b[0m \u001b[1;33m\u001b[0m\u001b[0m\n\u001b[0;32m    589\u001b[0m         \u001b[1;32mreturn\u001b[0m \u001b[0mresp\u001b[0m\u001b[1;33m\u001b[0m\u001b[1;33m\u001b[0m\u001b[0m\n",
      "\u001b[1;32mc:\\Users\\206758160\\Anaconda3\\lib\\site-packages\\requests\\sessions.py\u001b[0m in \u001b[0;36msend\u001b[1;34m(self, request, **kwargs)\u001b[0m\n\u001b[0;32m    699\u001b[0m \u001b[1;33m\u001b[0m\u001b[0m\n\u001b[0;32m    700\u001b[0m         \u001b[1;31m# Send the request\u001b[0m\u001b[1;33m\u001b[0m\u001b[1;33m\u001b[0m\u001b[0m\n\u001b[1;32m--> 701\u001b[1;33m         \u001b[0mr\u001b[0m \u001b[1;33m=\u001b[0m \u001b[0madapter\u001b[0m\u001b[1;33m.\u001b[0m\u001b[0msend\u001b[0m\u001b[1;33m(\u001b[0m\u001b[0mrequest\u001b[0m\u001b[1;33m,\u001b[0m \u001b[1;33m**\u001b[0m\u001b[0mkwargs\u001b[0m\u001b[1;33m)\u001b[0m\u001b[1;33m\u001b[0m\u001b[1;33m\u001b[0m\u001b[0m\n\u001b[0m\u001b[0;32m    702\u001b[0m \u001b[1;33m\u001b[0m\u001b[0m\n\u001b[0;32m    703\u001b[0m         \u001b[1;31m# Total elapsed time of the request (approximately)\u001b[0m\u001b[1;33m\u001b[0m\u001b[1;33m\u001b[0m\u001b[0m\n",
      "\u001b[1;32mc:\\Users\\206758160\\Anaconda3\\lib\\site-packages\\requests\\adapters.py\u001b[0m in \u001b[0;36msend\u001b[1;34m(self, request, stream, timeout, verify, cert, proxies)\u001b[0m\n\u001b[0;32m    487\u001b[0m         \u001b[1;32mtry\u001b[0m\u001b[1;33m:\u001b[0m\u001b[1;33m\u001b[0m\u001b[1;33m\u001b[0m\u001b[0m\n\u001b[0;32m    488\u001b[0m             \u001b[1;32mif\u001b[0m \u001b[1;32mnot\u001b[0m \u001b[0mchunked\u001b[0m\u001b[1;33m:\u001b[0m\u001b[1;33m\u001b[0m\u001b[1;33m\u001b[0m\u001b[0m\n\u001b[1;32m--> 489\u001b[1;33m                 resp = conn.urlopen(\n\u001b[0m\u001b[0;32m    490\u001b[0m                     \u001b[0mmethod\u001b[0m\u001b[1;33m=\u001b[0m\u001b[0mrequest\u001b[0m\u001b[1;33m.\u001b[0m\u001b[0mmethod\u001b[0m\u001b[1;33m,\u001b[0m\u001b[1;33m\u001b[0m\u001b[1;33m\u001b[0m\u001b[0m\n\u001b[0;32m    491\u001b[0m                     \u001b[0murl\u001b[0m\u001b[1;33m=\u001b[0m\u001b[0murl\u001b[0m\u001b[1;33m,\u001b[0m\u001b[1;33m\u001b[0m\u001b[1;33m\u001b[0m\u001b[0m\n",
      "\u001b[1;32mc:\\Users\\206758160\\Anaconda3\\lib\\site-packages\\urllib3\\connectionpool.py\u001b[0m in \u001b[0;36murlopen\u001b[1;34m(self, method, url, body, headers, retries, redirect, assert_same_host, timeout, pool_timeout, release_conn, chunked, body_pos, **response_kw)\u001b[0m\n\u001b[0;32m    701\u001b[0m \u001b[1;33m\u001b[0m\u001b[0m\n\u001b[0;32m    702\u001b[0m             \u001b[1;31m# Make the request on the httplib connection object.\u001b[0m\u001b[1;33m\u001b[0m\u001b[1;33m\u001b[0m\u001b[0m\n\u001b[1;32m--> 703\u001b[1;33m             httplib_response = self._make_request(\n\u001b[0m\u001b[0;32m    704\u001b[0m                 \u001b[0mconn\u001b[0m\u001b[1;33m,\u001b[0m\u001b[1;33m\u001b[0m\u001b[1;33m\u001b[0m\u001b[0m\n\u001b[0;32m    705\u001b[0m                 \u001b[0mmethod\u001b[0m\u001b[1;33m,\u001b[0m\u001b[1;33m\u001b[0m\u001b[1;33m\u001b[0m\u001b[0m\n",
      "\u001b[1;32mc:\\Users\\206758160\\Anaconda3\\lib\\site-packages\\urllib3\\connectionpool.py\u001b[0m in \u001b[0;36m_make_request\u001b[1;34m(self, conn, method, url, timeout, chunked, **httplib_request_kw)\u001b[0m\n\u001b[0;32m    447\u001b[0m                     \u001b[1;31m# Python 3 (including for exceptions like SystemExit).\u001b[0m\u001b[1;33m\u001b[0m\u001b[1;33m\u001b[0m\u001b[0m\n\u001b[0;32m    448\u001b[0m                     \u001b[1;31m# Otherwise it looks like a bug in the code.\u001b[0m\u001b[1;33m\u001b[0m\u001b[1;33m\u001b[0m\u001b[0m\n\u001b[1;32m--> 449\u001b[1;33m                     \u001b[0msix\u001b[0m\u001b[1;33m.\u001b[0m\u001b[0mraise_from\u001b[0m\u001b[1;33m(\u001b[0m\u001b[0me\u001b[0m\u001b[1;33m,\u001b[0m \u001b[1;32mNone\u001b[0m\u001b[1;33m)\u001b[0m\u001b[1;33m\u001b[0m\u001b[1;33m\u001b[0m\u001b[0m\n\u001b[0m\u001b[0;32m    450\u001b[0m         \u001b[1;32mexcept\u001b[0m \u001b[1;33m(\u001b[0m\u001b[0mSocketTimeout\u001b[0m\u001b[1;33m,\u001b[0m \u001b[0mBaseSSLError\u001b[0m\u001b[1;33m,\u001b[0m \u001b[0mSocketError\u001b[0m\u001b[1;33m)\u001b[0m \u001b[1;32mas\u001b[0m \u001b[0me\u001b[0m\u001b[1;33m:\u001b[0m\u001b[1;33m\u001b[0m\u001b[1;33m\u001b[0m\u001b[0m\n\u001b[0;32m    451\u001b[0m             \u001b[0mself\u001b[0m\u001b[1;33m.\u001b[0m\u001b[0m_raise_timeout\u001b[0m\u001b[1;33m(\u001b[0m\u001b[0merr\u001b[0m\u001b[1;33m=\u001b[0m\u001b[0me\u001b[0m\u001b[1;33m,\u001b[0m \u001b[0murl\u001b[0m\u001b[1;33m=\u001b[0m\u001b[0murl\u001b[0m\u001b[1;33m,\u001b[0m \u001b[0mtimeout_value\u001b[0m\u001b[1;33m=\u001b[0m\u001b[0mread_timeout\u001b[0m\u001b[1;33m)\u001b[0m\u001b[1;33m\u001b[0m\u001b[1;33m\u001b[0m\u001b[0m\n",
      "\u001b[1;32mc:\\Users\\206758160\\Anaconda3\\lib\\site-packages\\urllib3\\packages\\six.py\u001b[0m in \u001b[0;36mraise_from\u001b[1;34m(value, from_value)\u001b[0m\n",
      "\u001b[1;32mc:\\Users\\206758160\\Anaconda3\\lib\\site-packages\\urllib3\\connectionpool.py\u001b[0m in \u001b[0;36m_make_request\u001b[1;34m(self, conn, method, url, timeout, chunked, **httplib_request_kw)\u001b[0m\n\u001b[0;32m    442\u001b[0m                 \u001b[1;31m# Python 3\u001b[0m\u001b[1;33m\u001b[0m\u001b[1;33m\u001b[0m\u001b[0m\n\u001b[0;32m    443\u001b[0m                 \u001b[1;32mtry\u001b[0m\u001b[1;33m:\u001b[0m\u001b[1;33m\u001b[0m\u001b[1;33m\u001b[0m\u001b[0m\n\u001b[1;32m--> 444\u001b[1;33m                     \u001b[0mhttplib_response\u001b[0m \u001b[1;33m=\u001b[0m \u001b[0mconn\u001b[0m\u001b[1;33m.\u001b[0m\u001b[0mgetresponse\u001b[0m\u001b[1;33m(\u001b[0m\u001b[1;33m)\u001b[0m\u001b[1;33m\u001b[0m\u001b[1;33m\u001b[0m\u001b[0m\n\u001b[0m\u001b[0;32m    445\u001b[0m                 \u001b[1;32mexcept\u001b[0m \u001b[0mBaseException\u001b[0m \u001b[1;32mas\u001b[0m \u001b[0me\u001b[0m\u001b[1;33m:\u001b[0m\u001b[1;33m\u001b[0m\u001b[1;33m\u001b[0m\u001b[0m\n\u001b[0;32m    446\u001b[0m                     \u001b[1;31m# Remove the TypeError from the exception chain in\u001b[0m\u001b[1;33m\u001b[0m\u001b[1;33m\u001b[0m\u001b[0m\n",
      "\u001b[1;32mc:\\Users\\206758160\\Anaconda3\\lib\\http\\client.py\u001b[0m in \u001b[0;36mgetresponse\u001b[1;34m(self)\u001b[0m\n\u001b[0;32m   1375\u001b[0m         \u001b[1;32mtry\u001b[0m\u001b[1;33m:\u001b[0m\u001b[1;33m\u001b[0m\u001b[1;33m\u001b[0m\u001b[0m\n\u001b[0;32m   1376\u001b[0m             \u001b[1;32mtry\u001b[0m\u001b[1;33m:\u001b[0m\u001b[1;33m\u001b[0m\u001b[1;33m\u001b[0m\u001b[0m\n\u001b[1;32m-> 1377\u001b[1;33m                 \u001b[0mresponse\u001b[0m\u001b[1;33m.\u001b[0m\u001b[0mbegin\u001b[0m\u001b[1;33m(\u001b[0m\u001b[1;33m)\u001b[0m\u001b[1;33m\u001b[0m\u001b[1;33m\u001b[0m\u001b[0m\n\u001b[0m\u001b[0;32m   1378\u001b[0m             \u001b[1;32mexcept\u001b[0m \u001b[0mConnectionError\u001b[0m\u001b[1;33m:\u001b[0m\u001b[1;33m\u001b[0m\u001b[1;33m\u001b[0m\u001b[0m\n\u001b[0;32m   1379\u001b[0m                 \u001b[0mself\u001b[0m\u001b[1;33m.\u001b[0m\u001b[0mclose\u001b[0m\u001b[1;33m(\u001b[0m\u001b[1;33m)\u001b[0m\u001b[1;33m\u001b[0m\u001b[1;33m\u001b[0m\u001b[0m\n",
      "\u001b[1;32mc:\\Users\\206758160\\Anaconda3\\lib\\http\\client.py\u001b[0m in \u001b[0;36mbegin\u001b[1;34m(self)\u001b[0m\n\u001b[0;32m    318\u001b[0m         \u001b[1;31m# read until we get a non-100 response\u001b[0m\u001b[1;33m\u001b[0m\u001b[1;33m\u001b[0m\u001b[0m\n\u001b[0;32m    319\u001b[0m         \u001b[1;32mwhile\u001b[0m \u001b[1;32mTrue\u001b[0m\u001b[1;33m:\u001b[0m\u001b[1;33m\u001b[0m\u001b[1;33m\u001b[0m\u001b[0m\n\u001b[1;32m--> 320\u001b[1;33m             \u001b[0mversion\u001b[0m\u001b[1;33m,\u001b[0m \u001b[0mstatus\u001b[0m\u001b[1;33m,\u001b[0m \u001b[0mreason\u001b[0m \u001b[1;33m=\u001b[0m \u001b[0mself\u001b[0m\u001b[1;33m.\u001b[0m\u001b[0m_read_status\u001b[0m\u001b[1;33m(\u001b[0m\u001b[1;33m)\u001b[0m\u001b[1;33m\u001b[0m\u001b[1;33m\u001b[0m\u001b[0m\n\u001b[0m\u001b[0;32m    321\u001b[0m             \u001b[1;32mif\u001b[0m \u001b[0mstatus\u001b[0m \u001b[1;33m!=\u001b[0m \u001b[0mCONTINUE\u001b[0m\u001b[1;33m:\u001b[0m\u001b[1;33m\u001b[0m\u001b[1;33m\u001b[0m\u001b[0m\n\u001b[0;32m    322\u001b[0m                 \u001b[1;32mbreak\u001b[0m\u001b[1;33m\u001b[0m\u001b[1;33m\u001b[0m\u001b[0m\n",
      "\u001b[1;32mc:\\Users\\206758160\\Anaconda3\\lib\\http\\client.py\u001b[0m in \u001b[0;36m_read_status\u001b[1;34m(self)\u001b[0m\n\u001b[0;32m    279\u001b[0m \u001b[1;33m\u001b[0m\u001b[0m\n\u001b[0;32m    280\u001b[0m     \u001b[1;32mdef\u001b[0m \u001b[0m_read_status\u001b[0m\u001b[1;33m(\u001b[0m\u001b[0mself\u001b[0m\u001b[1;33m)\u001b[0m\u001b[1;33m:\u001b[0m\u001b[1;33m\u001b[0m\u001b[1;33m\u001b[0m\u001b[0m\n\u001b[1;32m--> 281\u001b[1;33m         \u001b[0mline\u001b[0m \u001b[1;33m=\u001b[0m \u001b[0mstr\u001b[0m\u001b[1;33m(\u001b[0m\u001b[0mself\u001b[0m\u001b[1;33m.\u001b[0m\u001b[0mfp\u001b[0m\u001b[1;33m.\u001b[0m\u001b[0mreadline\u001b[0m\u001b[1;33m(\u001b[0m\u001b[0m_MAXLINE\u001b[0m \u001b[1;33m+\u001b[0m \u001b[1;36m1\u001b[0m\u001b[1;33m)\u001b[0m\u001b[1;33m,\u001b[0m \u001b[1;34m\"iso-8859-1\"\u001b[0m\u001b[1;33m)\u001b[0m\u001b[1;33m\u001b[0m\u001b[1;33m\u001b[0m\u001b[0m\n\u001b[0m\u001b[0;32m    282\u001b[0m         \u001b[1;32mif\u001b[0m \u001b[0mlen\u001b[0m\u001b[1;33m(\u001b[0m\u001b[0mline\u001b[0m\u001b[1;33m)\u001b[0m \u001b[1;33m>\u001b[0m \u001b[0m_MAXLINE\u001b[0m\u001b[1;33m:\u001b[0m\u001b[1;33m\u001b[0m\u001b[1;33m\u001b[0m\u001b[0m\n\u001b[0;32m    283\u001b[0m             \u001b[1;32mraise\u001b[0m \u001b[0mLineTooLong\u001b[0m\u001b[1;33m(\u001b[0m\u001b[1;34m\"status line\"\u001b[0m\u001b[1;33m)\u001b[0m\u001b[1;33m\u001b[0m\u001b[1;33m\u001b[0m\u001b[0m\n",
      "\u001b[1;32mc:\\Users\\206758160\\Anaconda3\\lib\\socket.py\u001b[0m in \u001b[0;36mreadinto\u001b[1;34m(self, b)\u001b[0m\n\u001b[0;32m    702\u001b[0m         \u001b[1;32mwhile\u001b[0m \u001b[1;32mTrue\u001b[0m\u001b[1;33m:\u001b[0m\u001b[1;33m\u001b[0m\u001b[1;33m\u001b[0m\u001b[0m\n\u001b[0;32m    703\u001b[0m             \u001b[1;32mtry\u001b[0m\u001b[1;33m:\u001b[0m\u001b[1;33m\u001b[0m\u001b[1;33m\u001b[0m\u001b[0m\n\u001b[1;32m--> 704\u001b[1;33m                 \u001b[1;32mreturn\u001b[0m \u001b[0mself\u001b[0m\u001b[1;33m.\u001b[0m\u001b[0m_sock\u001b[0m\u001b[1;33m.\u001b[0m\u001b[0mrecv_into\u001b[0m\u001b[1;33m(\u001b[0m\u001b[0mb\u001b[0m\u001b[1;33m)\u001b[0m\u001b[1;33m\u001b[0m\u001b[1;33m\u001b[0m\u001b[0m\n\u001b[0m\u001b[0;32m    705\u001b[0m             \u001b[1;32mexcept\u001b[0m \u001b[0mtimeout\u001b[0m\u001b[1;33m:\u001b[0m\u001b[1;33m\u001b[0m\u001b[1;33m\u001b[0m\u001b[0m\n\u001b[0;32m    706\u001b[0m                 \u001b[0mself\u001b[0m\u001b[1;33m.\u001b[0m\u001b[0m_timeout_occurred\u001b[0m \u001b[1;33m=\u001b[0m \u001b[1;32mTrue\u001b[0m\u001b[1;33m\u001b[0m\u001b[1;33m\u001b[0m\u001b[0m\n",
      "\u001b[1;32mc:\\Users\\206758160\\Anaconda3\\lib\\ssl.py\u001b[0m in \u001b[0;36mrecv_into\u001b[1;34m(self, buffer, nbytes, flags)\u001b[0m\n\u001b[0;32m   1240\u001b[0m                   \u001b[1;34m\"non-zero flags not allowed in calls to recv_into() on %s\"\u001b[0m \u001b[1;33m%\u001b[0m\u001b[1;33m\u001b[0m\u001b[1;33m\u001b[0m\u001b[0m\n\u001b[0;32m   1241\u001b[0m                   self.__class__)\n\u001b[1;32m-> 1242\u001b[1;33m             \u001b[1;32mreturn\u001b[0m \u001b[0mself\u001b[0m\u001b[1;33m.\u001b[0m\u001b[0mread\u001b[0m\u001b[1;33m(\u001b[0m\u001b[0mnbytes\u001b[0m\u001b[1;33m,\u001b[0m \u001b[0mbuffer\u001b[0m\u001b[1;33m)\u001b[0m\u001b[1;33m\u001b[0m\u001b[1;33m\u001b[0m\u001b[0m\n\u001b[0m\u001b[0;32m   1243\u001b[0m         \u001b[1;32melse\u001b[0m\u001b[1;33m:\u001b[0m\u001b[1;33m\u001b[0m\u001b[1;33m\u001b[0m\u001b[0m\n\u001b[0;32m   1244\u001b[0m             \u001b[1;32mreturn\u001b[0m \u001b[0msuper\u001b[0m\u001b[1;33m(\u001b[0m\u001b[1;33m)\u001b[0m\u001b[1;33m.\u001b[0m\u001b[0mrecv_into\u001b[0m\u001b[1;33m(\u001b[0m\u001b[0mbuffer\u001b[0m\u001b[1;33m,\u001b[0m \u001b[0mnbytes\u001b[0m\u001b[1;33m,\u001b[0m \u001b[0mflags\u001b[0m\u001b[1;33m)\u001b[0m\u001b[1;33m\u001b[0m\u001b[1;33m\u001b[0m\u001b[0m\n",
      "\u001b[1;32mc:\\Users\\206758160\\Anaconda3\\lib\\ssl.py\u001b[0m in \u001b[0;36mread\u001b[1;34m(self, len, buffer)\u001b[0m\n\u001b[0;32m   1098\u001b[0m         \u001b[1;32mtry\u001b[0m\u001b[1;33m:\u001b[0m\u001b[1;33m\u001b[0m\u001b[1;33m\u001b[0m\u001b[0m\n\u001b[0;32m   1099\u001b[0m             \u001b[1;32mif\u001b[0m \u001b[0mbuffer\u001b[0m \u001b[1;32mis\u001b[0m \u001b[1;32mnot\u001b[0m \u001b[1;32mNone\u001b[0m\u001b[1;33m:\u001b[0m\u001b[1;33m\u001b[0m\u001b[1;33m\u001b[0m\u001b[0m\n\u001b[1;32m-> 1100\u001b[1;33m                 \u001b[1;32mreturn\u001b[0m \u001b[0mself\u001b[0m\u001b[1;33m.\u001b[0m\u001b[0m_sslobj\u001b[0m\u001b[1;33m.\u001b[0m\u001b[0mread\u001b[0m\u001b[1;33m(\u001b[0m\u001b[0mlen\u001b[0m\u001b[1;33m,\u001b[0m \u001b[0mbuffer\u001b[0m\u001b[1;33m)\u001b[0m\u001b[1;33m\u001b[0m\u001b[1;33m\u001b[0m\u001b[0m\n\u001b[0m\u001b[0;32m   1101\u001b[0m             \u001b[1;32melse\u001b[0m\u001b[1;33m:\u001b[0m\u001b[1;33m\u001b[0m\u001b[1;33m\u001b[0m\u001b[0m\n\u001b[0;32m   1102\u001b[0m                 \u001b[1;32mreturn\u001b[0m \u001b[0mself\u001b[0m\u001b[1;33m.\u001b[0m\u001b[0m_sslobj\u001b[0m\u001b[1;33m.\u001b[0m\u001b[0mread\u001b[0m\u001b[1;33m(\u001b[0m\u001b[0mlen\u001b[0m\u001b[1;33m)\u001b[0m\u001b[1;33m\u001b[0m\u001b[1;33m\u001b[0m\u001b[0m\n",
      "\u001b[1;31mKeyboardInterrupt\u001b[0m: "
     ]
    }
   ],
   "source": [
    "%%bigquery --project nbcu-ds-sandbox-a-001\n",
    "\n",
    "CREATE OR REPLACE TABLE `nbcu-ds-sandbox-a-001.SLi_sandbox.Email_Activity_Summary` AS\n",
    "SELECT  DATE_TRUNC(DATE(eventTimestamp),MONTH)                                                                          AS month\n",
    "       ,COUNT(DISTINCT CASE WHEN (eventName = 'Email Opens') THEN identity else null end)                               AS unique_all_email_opens\n",
    "       ,COUNT(DISTINCT CASE WHEN (eventName = 'Email Opens') AND (machineOpen is null) THEN identity else null end)     AS unique_organic_email_opens\n",
    "--       ,COUNT(DISTINCT CASE WHEN (eventName = 'Email Opens') AND (machineOpen is null) THEN bid else null end)          AS unique_organic_email_opens_adobe_id\n",
    "       ,COUNT(DISTINCT CASE WHEN (eventName = 'Email Opens') AND (machineOpen is not null) THEN identity else null end) AS unique_machine_opens\n",
    "--       ,COUNT(DISTINCT CASE WHEN (eventName = 'Email Opens') AND (machineOpen is not null) THEN bid else null end)      AS unique_machine_opens_adobe_id\n",
    "       ,COUNT(DISTINCT CASE WHEN (eventName = 'Email Sends') THEN identity else null end)                               AS unique_sends\n",
    "--       ,COUNT(DISTINCT CASE WHEN (eventName = 'Email Sends') THEN bid else null end)                                    AS unique_sends_adobe_id\n",
    "       ,COUNT(DISTINCT CASE WHEN (eventName = 'Email Deliveries') THEN identity else null end)                          AS unique_deliveries\n",
    "--       ,COUNT(DISTINCT CASE WHEN (eventName = 'Email Deliveries') THEN bid else null end)                               AS unique_deliveries_adobe_id\n",
    "       ,COUNT(DISTINCT CASE WHEN (eventName = 'Email Bounces') THEN identity else null end)                             AS unique_bounces\n",
    "--       ,COUNT(DISTINCT CASE WHEN (eventName = 'Email Bounces') THEN bid else null end)                                  AS unique_bounces_adobe_id\n",
    "\n",
    "       ,COUNT(DISTINCT CASE WHEN (eventName = 'Email Opens') THEN identity else null end) OVER(order by DATE_TRUNC(DATE(eventTimestamp),MONTH) rows between 12 preceding and 1 preceding)                             AS unique_all_email_opens_1y_engagement\n",
    "       ,COUNT(DISTINCT CASE WHEN (eventName = 'Email Opens') AND (machineOpen is null) THEN identity else null end) OVER(order by DATE_TRUNC(DATE(eventTimestamp),MONTH) rows between 12 preceding and 1 preceding)   AS unique_organic_email_opens_1y_engagement\n",
    "FROM `nbcu-sdp-prod-003.sdp_persistent_views.BrazeMarketingView` a\n",
    "--LEFT JOIN `nbcu-ds-sandbox-a-001.SLi_sandbox.Braze_Id_Adobe_Id_Map` b ON b.bid = a.identity\n",
    "WHERE lower(campaignName) NOT LIKE 'transactional%' -- Exclude transactional emails\n",
    "GROUP BY  1"
   ]
  },
  {
   "cell_type": "code",
   "execution_count": 40,
   "metadata": {
    "vscode": {
     "languageId": "sql"
    }
   },
   "outputs": [
    {
     "data": {
      "application/vnd.jupyter.widget-view+json": {
       "model_id": "338a4de429564c3180247eda155d5d9d",
       "version_major": 2,
       "version_minor": 0
      },
      "text/plain": [
       "Query is running:   0%|          |"
      ]
     },
     "metadata": {},
     "output_type": "display_data"
    },
    {
     "data": {
      "application/vnd.jupyter.widget-view+json": {
       "model_id": "303fb45d72d945ba8ecb9d145a44b4e4",
       "version_major": 2,
       "version_minor": 0
      },
      "text/plain": [
       "Downloading:   0%|          |"
      ]
     },
     "metadata": {},
     "output_type": "display_data"
    },
    {
     "data": {
      "text/html": [
       "<div>\n",
       "<style scoped>\n",
       "    .dataframe tbody tr th:only-of-type {\n",
       "        vertical-align: middle;\n",
       "    }\n",
       "\n",
       "    .dataframe tbody tr th {\n",
       "        vertical-align: top;\n",
       "    }\n",
       "\n",
       "    .dataframe thead th {\n",
       "        text-align: right;\n",
       "    }\n",
       "</style>\n",
       "<table border=\"1\" class=\"dataframe\">\n",
       "  <thead>\n",
       "    <tr style=\"text-align: right;\">\n",
       "      <th></th>\n",
       "      <th>month</th>\n",
       "      <th>unique_organic_email_opens</th>\n",
       "      <th>unique_organic_email_opens_adobe_id</th>\n",
       "      <th>unique_machine_opens</th>\n",
       "      <th>unique_machine_opens_adobe_id</th>\n",
       "      <th>unique_sends</th>\n",
       "      <th>unique_sends_adobe_id</th>\n",
       "      <th>unique_deliveries</th>\n",
       "      <th>unique_deliveries_adobe_id</th>\n",
       "      <th>unique_bounces</th>\n",
       "      <th>unique_bounces_adobe_id</th>\n",
       "    </tr>\n",
       "  </thead>\n",
       "  <tbody>\n",
       "    <tr>\n",
       "      <th>0</th>\n",
       "      <td>2020-07-01</td>\n",
       "      <td>0</td>\n",
       "      <td>0</td>\n",
       "      <td>0</td>\n",
       "      <td>0</td>\n",
       "      <td>0</td>\n",
       "      <td>0</td>\n",
       "      <td>0</td>\n",
       "      <td>0</td>\n",
       "      <td>0</td>\n",
       "      <td>0</td>\n",
       "    </tr>\n",
       "    <tr>\n",
       "      <th>1</th>\n",
       "      <td>2020-08-01</td>\n",
       "      <td>0</td>\n",
       "      <td>0</td>\n",
       "      <td>0</td>\n",
       "      <td>0</td>\n",
       "      <td>0</td>\n",
       "      <td>0</td>\n",
       "      <td>0</td>\n",
       "      <td>0</td>\n",
       "      <td>0</td>\n",
       "      <td>0</td>\n",
       "    </tr>\n",
       "    <tr>\n",
       "      <th>2</th>\n",
       "      <td>2020-09-01</td>\n",
       "      <td>3008622</td>\n",
       "      <td>3008622</td>\n",
       "      <td>0</td>\n",
       "      <td>0</td>\n",
       "      <td>12413715</td>\n",
       "      <td>12389742</td>\n",
       "      <td>12297056</td>\n",
       "      <td>12297056</td>\n",
       "      <td>2459</td>\n",
       "      <td>2459</td>\n",
       "    </tr>\n",
       "    <tr>\n",
       "      <th>3</th>\n",
       "      <td>2020-10-01</td>\n",
       "      <td>6416221</td>\n",
       "      <td>6416221</td>\n",
       "      <td>0</td>\n",
       "      <td>0</td>\n",
       "      <td>15521401</td>\n",
       "      <td>15480672</td>\n",
       "      <td>15355637</td>\n",
       "      <td>15355637</td>\n",
       "      <td>9829</td>\n",
       "      <td>9829</td>\n",
       "    </tr>\n",
       "    <tr>\n",
       "      <th>4</th>\n",
       "      <td>2020-11-01</td>\n",
       "      <td>7196354</td>\n",
       "      <td>7196354</td>\n",
       "      <td>0</td>\n",
       "      <td>0</td>\n",
       "      <td>19364472</td>\n",
       "      <td>19364472</td>\n",
       "      <td>19193302</td>\n",
       "      <td>19193302</td>\n",
       "      <td>5102</td>\n",
       "      <td>5102</td>\n",
       "    </tr>\n",
       "    <tr>\n",
       "      <th>5</th>\n",
       "      <td>2020-12-01</td>\n",
       "      <td>7716933</td>\n",
       "      <td>7716933</td>\n",
       "      <td>0</td>\n",
       "      <td>0</td>\n",
       "      <td>22110967</td>\n",
       "      <td>22110967</td>\n",
       "      <td>21898634</td>\n",
       "      <td>21898634</td>\n",
       "      <td>112194</td>\n",
       "      <td>112194</td>\n",
       "    </tr>\n",
       "    <tr>\n",
       "      <th>6</th>\n",
       "      <td>2021-01-01</td>\n",
       "      <td>9096252</td>\n",
       "      <td>9096252</td>\n",
       "      <td>0</td>\n",
       "      <td>0</td>\n",
       "      <td>24905131</td>\n",
       "      <td>24905131</td>\n",
       "      <td>24655848</td>\n",
       "      <td>24655848</td>\n",
       "      <td>7135</td>\n",
       "      <td>7135</td>\n",
       "    </tr>\n",
       "    <tr>\n",
       "      <th>7</th>\n",
       "      <td>2021-02-01</td>\n",
       "      <td>7197234</td>\n",
       "      <td>7197234</td>\n",
       "      <td>0</td>\n",
       "      <td>0</td>\n",
       "      <td>26992006</td>\n",
       "      <td>26992006</td>\n",
       "      <td>26702965</td>\n",
       "      <td>26702965</td>\n",
       "      <td>10902</td>\n",
       "      <td>10902</td>\n",
       "    </tr>\n",
       "    <tr>\n",
       "      <th>8</th>\n",
       "      <td>2021-03-01</td>\n",
       "      <td>9873612</td>\n",
       "      <td>9873612</td>\n",
       "      <td>0</td>\n",
       "      <td>0</td>\n",
       "      <td>30372028</td>\n",
       "      <td>30372028</td>\n",
       "      <td>30033356</td>\n",
       "      <td>30033356</td>\n",
       "      <td>27695</td>\n",
       "      <td>27695</td>\n",
       "    </tr>\n",
       "    <tr>\n",
       "      <th>9</th>\n",
       "      <td>2021-04-01</td>\n",
       "      <td>9815643</td>\n",
       "      <td>9815643</td>\n",
       "      <td>0</td>\n",
       "      <td>0</td>\n",
       "      <td>32628622</td>\n",
       "      <td>32628622</td>\n",
       "      <td>32259690</td>\n",
       "      <td>32259690</td>\n",
       "      <td>10787</td>\n",
       "      <td>10787</td>\n",
       "    </tr>\n",
       "    <tr>\n",
       "      <th>10</th>\n",
       "      <td>2021-05-01</td>\n",
       "      <td>9884299</td>\n",
       "      <td>9884299</td>\n",
       "      <td>0</td>\n",
       "      <td>0</td>\n",
       "      <td>33568915</td>\n",
       "      <td>33568915</td>\n",
       "      <td>33168930</td>\n",
       "      <td>33168930</td>\n",
       "      <td>11576</td>\n",
       "      <td>11576</td>\n",
       "    </tr>\n",
       "    <tr>\n",
       "      <th>11</th>\n",
       "      <td>2021-06-01</td>\n",
       "      <td>10270374</td>\n",
       "      <td>10270374</td>\n",
       "      <td>0</td>\n",
       "      <td>0</td>\n",
       "      <td>33859079</td>\n",
       "      <td>33859079</td>\n",
       "      <td>33418206</td>\n",
       "      <td>33418206</td>\n",
       "      <td>18442</td>\n",
       "      <td>18442</td>\n",
       "    </tr>\n",
       "    <tr>\n",
       "      <th>12</th>\n",
       "      <td>2021-07-01</td>\n",
       "      <td>14412843</td>\n",
       "      <td>14412843</td>\n",
       "      <td>0</td>\n",
       "      <td>0</td>\n",
       "      <td>44948688</td>\n",
       "      <td>44948688</td>\n",
       "      <td>44278834</td>\n",
       "      <td>44278834</td>\n",
       "      <td>113555</td>\n",
       "      <td>113555</td>\n",
       "    </tr>\n",
       "    <tr>\n",
       "      <th>13</th>\n",
       "      <td>2021-08-01</td>\n",
       "      <td>15986809</td>\n",
       "      <td>15986809</td>\n",
       "      <td>0</td>\n",
       "      <td>0</td>\n",
       "      <td>46602419</td>\n",
       "      <td>46602419</td>\n",
       "      <td>45933492</td>\n",
       "      <td>45933492</td>\n",
       "      <td>27614</td>\n",
       "      <td>27614</td>\n",
       "    </tr>\n",
       "    <tr>\n",
       "      <th>14</th>\n",
       "      <td>2021-09-01</td>\n",
       "      <td>15988693</td>\n",
       "      <td>15988693</td>\n",
       "      <td>0</td>\n",
       "      <td>0</td>\n",
       "      <td>49109087</td>\n",
       "      <td>49109087</td>\n",
       "      <td>48398471</td>\n",
       "      <td>48398471</td>\n",
       "      <td>58197</td>\n",
       "      <td>58197</td>\n",
       "    </tr>\n",
       "    <tr>\n",
       "      <th>15</th>\n",
       "      <td>2021-10-01</td>\n",
       "      <td>19821872</td>\n",
       "      <td>19821872</td>\n",
       "      <td>0</td>\n",
       "      <td>0</td>\n",
       "      <td>53471906</td>\n",
       "      <td>53471906</td>\n",
       "      <td>52638688</td>\n",
       "      <td>52638688</td>\n",
       "      <td>71900</td>\n",
       "      <td>71900</td>\n",
       "    </tr>\n",
       "    <tr>\n",
       "      <th>16</th>\n",
       "      <td>2021-11-01</td>\n",
       "      <td>19295957</td>\n",
       "      <td>19295957</td>\n",
       "      <td>0</td>\n",
       "      <td>0</td>\n",
       "      <td>55853743</td>\n",
       "      <td>55853743</td>\n",
       "      <td>55007971</td>\n",
       "      <td>55007971</td>\n",
       "      <td>39423</td>\n",
       "      <td>39423</td>\n",
       "    </tr>\n",
       "    <tr>\n",
       "      <th>17</th>\n",
       "      <td>2021-12-01</td>\n",
       "      <td>23328334</td>\n",
       "      <td>23328334</td>\n",
       "      <td>0</td>\n",
       "      <td>0</td>\n",
       "      <td>59375662</td>\n",
       "      <td>59375662</td>\n",
       "      <td>58500523</td>\n",
       "      <td>58500523</td>\n",
       "      <td>50264</td>\n",
       "      <td>50264</td>\n",
       "    </tr>\n",
       "    <tr>\n",
       "      <th>18</th>\n",
       "      <td>2022-01-01</td>\n",
       "      <td>25880847</td>\n",
       "      <td>25880847</td>\n",
       "      <td>0</td>\n",
       "      <td>0</td>\n",
       "      <td>57740053</td>\n",
       "      <td>57740053</td>\n",
       "      <td>56838155</td>\n",
       "      <td>56838155</td>\n",
       "      <td>43986</td>\n",
       "      <td>43986</td>\n",
       "    </tr>\n",
       "    <tr>\n",
       "      <th>19</th>\n",
       "      <td>2022-02-01</td>\n",
       "      <td>26554065</td>\n",
       "      <td>26554065</td>\n",
       "      <td>744722</td>\n",
       "      <td>744722</td>\n",
       "      <td>66788003</td>\n",
       "      <td>66788003</td>\n",
       "      <td>65695316</td>\n",
       "      <td>65695316</td>\n",
       "      <td>61071</td>\n",
       "      <td>61071</td>\n",
       "    </tr>\n",
       "    <tr>\n",
       "      <th>20</th>\n",
       "      <td>2022-03-01</td>\n",
       "      <td>13858317</td>\n",
       "      <td>13858317</td>\n",
       "      <td>18872772</td>\n",
       "      <td>18872772</td>\n",
       "      <td>69414057</td>\n",
       "      <td>69414057</td>\n",
       "      <td>68289348</td>\n",
       "      <td>68289348</td>\n",
       "      <td>74254</td>\n",
       "      <td>74254</td>\n",
       "    </tr>\n",
       "    <tr>\n",
       "      <th>21</th>\n",
       "      <td>2022-04-01</td>\n",
       "      <td>13616413</td>\n",
       "      <td>13616413</td>\n",
       "      <td>19289097</td>\n",
       "      <td>19289097</td>\n",
       "      <td>68170073</td>\n",
       "      <td>68170073</td>\n",
       "      <td>67149950</td>\n",
       "      <td>67149950</td>\n",
       "      <td>63468</td>\n",
       "      <td>63468</td>\n",
       "    </tr>\n",
       "    <tr>\n",
       "      <th>22</th>\n",
       "      <td>2022-05-01</td>\n",
       "      <td>11640686</td>\n",
       "      <td>11640686</td>\n",
       "      <td>20138754</td>\n",
       "      <td>20138754</td>\n",
       "      <td>70483942</td>\n",
       "      <td>70483942</td>\n",
       "      <td>69442981</td>\n",
       "      <td>69442981</td>\n",
       "      <td>54947</td>\n",
       "      <td>54947</td>\n",
       "    </tr>\n",
       "    <tr>\n",
       "      <th>23</th>\n",
       "      <td>2022-06-01</td>\n",
       "      <td>14820942</td>\n",
       "      <td>14820942</td>\n",
       "      <td>20373481</td>\n",
       "      <td>20373481</td>\n",
       "      <td>70946181</td>\n",
       "      <td>70946181</td>\n",
       "      <td>69855987</td>\n",
       "      <td>69855987</td>\n",
       "      <td>57514</td>\n",
       "      <td>57514</td>\n",
       "    </tr>\n",
       "    <tr>\n",
       "      <th>24</th>\n",
       "      <td>2022-07-01</td>\n",
       "      <td>16304072</td>\n",
       "      <td>16304072</td>\n",
       "      <td>21286934</td>\n",
       "      <td>21286934</td>\n",
       "      <td>71352286</td>\n",
       "      <td>71352286</td>\n",
       "      <td>70772748</td>\n",
       "      <td>70772748</td>\n",
       "      <td>62200</td>\n",
       "      <td>62200</td>\n",
       "    </tr>\n",
       "    <tr>\n",
       "      <th>25</th>\n",
       "      <td>2022-08-01</td>\n",
       "      <td>16050927</td>\n",
       "      <td>16050927</td>\n",
       "      <td>21526049</td>\n",
       "      <td>21526049</td>\n",
       "      <td>45238919</td>\n",
       "      <td>45238919</td>\n",
       "      <td>45025421</td>\n",
       "      <td>45025421</td>\n",
       "      <td>23118</td>\n",
       "      <td>23118</td>\n",
       "    </tr>\n",
       "    <tr>\n",
       "      <th>26</th>\n",
       "      <td>2022-09-01</td>\n",
       "      <td>13805961</td>\n",
       "      <td>13805961</td>\n",
       "      <td>20627346</td>\n",
       "      <td>20627346</td>\n",
       "      <td>51175985</td>\n",
       "      <td>51175985</td>\n",
       "      <td>50815588</td>\n",
       "      <td>50815588</td>\n",
       "      <td>34988</td>\n",
       "      <td>34988</td>\n",
       "    </tr>\n",
       "    <tr>\n",
       "      <th>27</th>\n",
       "      <td>2022-10-01</td>\n",
       "      <td>12308769</td>\n",
       "      <td>12308769</td>\n",
       "      <td>22464217</td>\n",
       "      <td>22464217</td>\n",
       "      <td>48292420</td>\n",
       "      <td>48292420</td>\n",
       "      <td>48024829</td>\n",
       "      <td>48024829</td>\n",
       "      <td>31366</td>\n",
       "      <td>31366</td>\n",
       "    </tr>\n",
       "    <tr>\n",
       "      <th>28</th>\n",
       "      <td>2022-11-01</td>\n",
       "      <td>11356061</td>\n",
       "      <td>11356061</td>\n",
       "      <td>23006833</td>\n",
       "      <td>23006833</td>\n",
       "      <td>44036439</td>\n",
       "      <td>44036439</td>\n",
       "      <td>43870246</td>\n",
       "      <td>43870246</td>\n",
       "      <td>27767</td>\n",
       "      <td>27767</td>\n",
       "    </tr>\n",
       "    <tr>\n",
       "      <th>29</th>\n",
       "      <td>2022-12-01</td>\n",
       "      <td>10949288</td>\n",
       "      <td>10949288</td>\n",
       "      <td>23704111</td>\n",
       "      <td>23704111</td>\n",
       "      <td>44478915</td>\n",
       "      <td>44478915</td>\n",
       "      <td>44280284</td>\n",
       "      <td>44280284</td>\n",
       "      <td>19831</td>\n",
       "      <td>19831</td>\n",
       "    </tr>\n",
       "    <tr>\n",
       "      <th>30</th>\n",
       "      <td>2023-01-01</td>\n",
       "      <td>11173785</td>\n",
       "      <td>11173785</td>\n",
       "      <td>24128812</td>\n",
       "      <td>24128812</td>\n",
       "      <td>40156884</td>\n",
       "      <td>40156884</td>\n",
       "      <td>40003891</td>\n",
       "      <td>40003891</td>\n",
       "      <td>17459</td>\n",
       "      <td>17459</td>\n",
       "    </tr>\n",
       "    <tr>\n",
       "      <th>31</th>\n",
       "      <td>2023-02-01</td>\n",
       "      <td>11344637</td>\n",
       "      <td>11344637</td>\n",
       "      <td>24094823</td>\n",
       "      <td>24094823</td>\n",
       "      <td>44138002</td>\n",
       "      <td>44138002</td>\n",
       "      <td>43913636</td>\n",
       "      <td>43913636</td>\n",
       "      <td>40886</td>\n",
       "      <td>40886</td>\n",
       "    </tr>\n",
       "    <tr>\n",
       "      <th>32</th>\n",
       "      <td>2023-03-01</td>\n",
       "      <td>7684517</td>\n",
       "      <td>7684517</td>\n",
       "      <td>22817995</td>\n",
       "      <td>22817995</td>\n",
       "      <td>51303453</td>\n",
       "      <td>51303453</td>\n",
       "      <td>50840722</td>\n",
       "      <td>50840722</td>\n",
       "      <td>16047</td>\n",
       "      <td>16047</td>\n",
       "    </tr>\n",
       "  </tbody>\n",
       "</table>\n",
       "</div>"
      ],
      "text/plain": [
       "         month  unique_organic_email_opens  \\\n",
       "0   2020-07-01                           0   \n",
       "1   2020-08-01                           0   \n",
       "2   2020-09-01                     3008622   \n",
       "3   2020-10-01                     6416221   \n",
       "4   2020-11-01                     7196354   \n",
       "5   2020-12-01                     7716933   \n",
       "6   2021-01-01                     9096252   \n",
       "7   2021-02-01                     7197234   \n",
       "8   2021-03-01                     9873612   \n",
       "9   2021-04-01                     9815643   \n",
       "10  2021-05-01                     9884299   \n",
       "11  2021-06-01                    10270374   \n",
       "12  2021-07-01                    14412843   \n",
       "13  2021-08-01                    15986809   \n",
       "14  2021-09-01                    15988693   \n",
       "15  2021-10-01                    19821872   \n",
       "16  2021-11-01                    19295957   \n",
       "17  2021-12-01                    23328334   \n",
       "18  2022-01-01                    25880847   \n",
       "19  2022-02-01                    26554065   \n",
       "20  2022-03-01                    13858317   \n",
       "21  2022-04-01                    13616413   \n",
       "22  2022-05-01                    11640686   \n",
       "23  2022-06-01                    14820942   \n",
       "24  2022-07-01                    16304072   \n",
       "25  2022-08-01                    16050927   \n",
       "26  2022-09-01                    13805961   \n",
       "27  2022-10-01                    12308769   \n",
       "28  2022-11-01                    11356061   \n",
       "29  2022-12-01                    10949288   \n",
       "30  2023-01-01                    11173785   \n",
       "31  2023-02-01                    11344637   \n",
       "32  2023-03-01                     7684517   \n",
       "\n",
       "    unique_organic_email_opens_adobe_id  unique_machine_opens  \\\n",
       "0                                     0                     0   \n",
       "1                                     0                     0   \n",
       "2                               3008622                     0   \n",
       "3                               6416221                     0   \n",
       "4                               7196354                     0   \n",
       "5                               7716933                     0   \n",
       "6                               9096252                     0   \n",
       "7                               7197234                     0   \n",
       "8                               9873612                     0   \n",
       "9                               9815643                     0   \n",
       "10                              9884299                     0   \n",
       "11                             10270374                     0   \n",
       "12                             14412843                     0   \n",
       "13                             15986809                     0   \n",
       "14                             15988693                     0   \n",
       "15                             19821872                     0   \n",
       "16                             19295957                     0   \n",
       "17                             23328334                     0   \n",
       "18                             25880847                     0   \n",
       "19                             26554065                744722   \n",
       "20                             13858317              18872772   \n",
       "21                             13616413              19289097   \n",
       "22                             11640686              20138754   \n",
       "23                             14820942              20373481   \n",
       "24                             16304072              21286934   \n",
       "25                             16050927              21526049   \n",
       "26                             13805961              20627346   \n",
       "27                             12308769              22464217   \n",
       "28                             11356061              23006833   \n",
       "29                             10949288              23704111   \n",
       "30                             11173785              24128812   \n",
       "31                             11344637              24094823   \n",
       "32                              7684517              22817995   \n",
       "\n",
       "    unique_machine_opens_adobe_id  unique_sends  unique_sends_adobe_id  \\\n",
       "0                               0             0                      0   \n",
       "1                               0             0                      0   \n",
       "2                               0      12413715               12389742   \n",
       "3                               0      15521401               15480672   \n",
       "4                               0      19364472               19364472   \n",
       "5                               0      22110967               22110967   \n",
       "6                               0      24905131               24905131   \n",
       "7                               0      26992006               26992006   \n",
       "8                               0      30372028               30372028   \n",
       "9                               0      32628622               32628622   \n",
       "10                              0      33568915               33568915   \n",
       "11                              0      33859079               33859079   \n",
       "12                              0      44948688               44948688   \n",
       "13                              0      46602419               46602419   \n",
       "14                              0      49109087               49109087   \n",
       "15                              0      53471906               53471906   \n",
       "16                              0      55853743               55853743   \n",
       "17                              0      59375662               59375662   \n",
       "18                              0      57740053               57740053   \n",
       "19                         744722      66788003               66788003   \n",
       "20                       18872772      69414057               69414057   \n",
       "21                       19289097      68170073               68170073   \n",
       "22                       20138754      70483942               70483942   \n",
       "23                       20373481      70946181               70946181   \n",
       "24                       21286934      71352286               71352286   \n",
       "25                       21526049      45238919               45238919   \n",
       "26                       20627346      51175985               51175985   \n",
       "27                       22464217      48292420               48292420   \n",
       "28                       23006833      44036439               44036439   \n",
       "29                       23704111      44478915               44478915   \n",
       "30                       24128812      40156884               40156884   \n",
       "31                       24094823      44138002               44138002   \n",
       "32                       22817995      51303453               51303453   \n",
       "\n",
       "    unique_deliveries  unique_deliveries_adobe_id  unique_bounces  \\\n",
       "0                   0                           0               0   \n",
       "1                   0                           0               0   \n",
       "2            12297056                    12297056            2459   \n",
       "3            15355637                    15355637            9829   \n",
       "4            19193302                    19193302            5102   \n",
       "5            21898634                    21898634          112194   \n",
       "6            24655848                    24655848            7135   \n",
       "7            26702965                    26702965           10902   \n",
       "8            30033356                    30033356           27695   \n",
       "9            32259690                    32259690           10787   \n",
       "10           33168930                    33168930           11576   \n",
       "11           33418206                    33418206           18442   \n",
       "12           44278834                    44278834          113555   \n",
       "13           45933492                    45933492           27614   \n",
       "14           48398471                    48398471           58197   \n",
       "15           52638688                    52638688           71900   \n",
       "16           55007971                    55007971           39423   \n",
       "17           58500523                    58500523           50264   \n",
       "18           56838155                    56838155           43986   \n",
       "19           65695316                    65695316           61071   \n",
       "20           68289348                    68289348           74254   \n",
       "21           67149950                    67149950           63468   \n",
       "22           69442981                    69442981           54947   \n",
       "23           69855987                    69855987           57514   \n",
       "24           70772748                    70772748           62200   \n",
       "25           45025421                    45025421           23118   \n",
       "26           50815588                    50815588           34988   \n",
       "27           48024829                    48024829           31366   \n",
       "28           43870246                    43870246           27767   \n",
       "29           44280284                    44280284           19831   \n",
       "30           40003891                    40003891           17459   \n",
       "31           43913636                    43913636           40886   \n",
       "32           50840722                    50840722           16047   \n",
       "\n",
       "    unique_bounces_adobe_id  \n",
       "0                         0  \n",
       "1                         0  \n",
       "2                      2459  \n",
       "3                      9829  \n",
       "4                      5102  \n",
       "5                    112194  \n",
       "6                      7135  \n",
       "7                     10902  \n",
       "8                     27695  \n",
       "9                     10787  \n",
       "10                    11576  \n",
       "11                    18442  \n",
       "12                   113555  \n",
       "13                    27614  \n",
       "14                    58197  \n",
       "15                    71900  \n",
       "16                    39423  \n",
       "17                    50264  \n",
       "18                    43986  \n",
       "19                    61071  \n",
       "20                    74254  \n",
       "21                    63468  \n",
       "22                    54947  \n",
       "23                    57514  \n",
       "24                    62200  \n",
       "25                    23118  \n",
       "26                    34988  \n",
       "27                    31366  \n",
       "28                    27767  \n",
       "29                    19831  \n",
       "30                    17459  \n",
       "31                    40886  \n",
       "32                    16047  "
      ]
     },
     "execution_count": 40,
     "metadata": {},
     "output_type": "execute_result"
    }
   ],
   "source": [
    "%%bigquery --project nbcu-ds-sandbox-a-001\n",
    "select * from `nbcu-ds-sandbox-a-001.SLi_sandbox.Email_Activity_Summary` order by month"
   ]
  },
  {
   "cell_type": "code",
   "execution_count": null,
   "metadata": {
    "vscode": {
     "languageId": "sql"
    }
   },
   "outputs": [],
   "source": []
  }
 ],
 "metadata": {
  "kernelspec": {
   "display_name": "base",
   "language": "python",
   "name": "python3"
  },
  "language_info": {
   "codemirror_mode": {
    "name": "ipython",
    "version": 3
   },
   "file_extension": ".py",
   "mimetype": "text/x-python",
   "name": "python",
   "nbconvert_exporter": "python",
   "pygments_lexer": "ipython3",
   "version": "3.9.13"
  },
  "orig_nbformat": 4
 },
 "nbformat": 4,
 "nbformat_minor": 2
}
