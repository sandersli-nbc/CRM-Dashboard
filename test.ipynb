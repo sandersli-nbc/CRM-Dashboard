{
 "cells": [
  {
   "cell_type": "code",
   "execution_count": 1,
   "metadata": {},
   "outputs": [
    {
     "name": "stdout",
     "output_type": "stream",
     "text": [
      "env: GCLOUD_PROJECT=nbcu-ds-sandbox-a-001\n"
     ]
    }
   ],
   "source": [
    "from datetime import datetime, timedelta\n",
    "import numpy as np\n",
    "import pandas as pd\n",
    "import matplotlib.pyplot as plt\n",
    "import seaborn as sns\n",
    "import pandas_gbq\n",
    "import pydata_google_auth\n",
    "from concurrent.futures import ThreadPoolExecutor, as_completed\n",
    "from google.cloud import bigquery\n",
    "from tqdm.notebook import tqdm\n",
    "from dateutil import tz\n",
    "from BigQueryTools import QueryTool\n",
    "import re\n",
    "\n",
    "SCOPES = [\n",
    "    'https://www.googleapis.com/auth/cloud-platform',\n",
    "    'https://www.googleapis.com/auth/drive',\n",
    "]\n",
    "credentials = pydata_google_auth.get_user_credentials(\n",
    "    SCOPES,\n",
    "    # Set auth_local_webserver to True to have a slightly more convienient\n",
    "    # authorization flow. Note, this doesn't work if you're running from a\n",
    "    # notebook on a remote sever, such as over SSH or with Google Colab.\n",
    "    auth_local_webserver=True,\n",
    ")\n",
    "\n",
    "bq = QueryTool()\n",
    "\n",
    "%load_ext google.cloud.bigquery\n",
    "%env GCLOUD_PROJECT=nbcu-ds-sandbox-a-001"
   ]
  },
  {
   "attachments": {},
   "cell_type": "markdown",
   "metadata": {},
   "source": [
    "# QUALIFY speed test"
   ]
  },
  {
   "cell_type": "code",
   "execution_count": 16,
   "metadata": {
    "vscode": {
     "languageId": "sql"
    }
   },
   "outputs": [
    {
     "data": {
      "application/vnd.jupyter.widget-view+json": {
       "model_id": "fc4244d3524347eb90bdd8ef947a863e",
       "version_major": 2,
       "version_minor": 0
      },
      "text/plain": [
       "Query is running:   0%|          |"
      ]
     },
     "metadata": {},
     "output_type": "display_data"
    },
    {
     "data": {
      "application/vnd.jupyter.widget-view+json": {
       "model_id": "32ff7e736d05407f8b4fb35a7a79eec8",
       "version_major": 2,
       "version_minor": 0
      },
      "text/plain": [
       "Downloading:   0%|          |"
      ]
     },
     "metadata": {},
     "output_type": "display_data"
    },
    {
     "data": {
      "text/html": [
       "<div>\n",
       "<style scoped>\n",
       "    .dataframe tbody tr th:only-of-type {\n",
       "        vertical-align: middle;\n",
       "    }\n",
       "\n",
       "    .dataframe tbody tr th {\n",
       "        vertical-align: top;\n",
       "    }\n",
       "\n",
       "    .dataframe thead th {\n",
       "        text-align: right;\n",
       "    }\n",
       "</style>\n",
       "<table border=\"1\" class=\"dataframe\">\n",
       "  <thead>\n",
       "    <tr style=\"text-align: right;\">\n",
       "      <th></th>\n",
       "      <th>adobe_tracking_id</th>\n",
       "      <th>report_date</th>\n",
       "      <th>upgrade_row_number</th>\n",
       "      <th>f0_</th>\n",
       "    </tr>\n",
       "  </thead>\n",
       "  <tbody>\n",
       "    <tr>\n",
       "      <th>0</th>\n",
       "      <td>++9P2+WhbQt4rjQWiakE+OtWVZ5gBDESVZlhsFLO/o8=</td>\n",
       "      <td>2022-01-02</td>\n",
       "      <td>1</td>\n",
       "      <td>2023-03-03</td>\n",
       "    </tr>\n",
       "    <tr>\n",
       "      <th>1</th>\n",
       "      <td>++BZuALDJvn4Uxxo6fv37L4JkSqKDdsnfBGUu3rOhGc=</td>\n",
       "      <td>2022-01-02</td>\n",
       "      <td>1</td>\n",
       "      <td>2023-03-03</td>\n",
       "    </tr>\n",
       "    <tr>\n",
       "      <th>2</th>\n",
       "      <td>++O4U6CfhQofob0caUsUAiWrmBLg/1V1xn7K859sX6Q=</td>\n",
       "      <td>2022-01-02</td>\n",
       "      <td>1</td>\n",
       "      <td>2023-03-03</td>\n",
       "    </tr>\n",
       "    <tr>\n",
       "      <th>3</th>\n",
       "      <td>++aIiiCONAa+hayeE4idJI4qgLMak1RT9M76RdEMu+4=</td>\n",
       "      <td>2022-01-02</td>\n",
       "      <td>1</td>\n",
       "      <td>2023-03-03</td>\n",
       "    </tr>\n",
       "    <tr>\n",
       "      <th>4</th>\n",
       "      <td>++bwvsqrgOQEDtjMqCdFtQo0QWbRRZgNzBJRTeDJRYI=</td>\n",
       "      <td>2022-01-02</td>\n",
       "      <td>1</td>\n",
       "      <td>2023-03-03</td>\n",
       "    </tr>\n",
       "    <tr>\n",
       "      <th>...</th>\n",
       "      <td>...</td>\n",
       "      <td>...</td>\n",
       "      <td>...</td>\n",
       "      <td>...</td>\n",
       "    </tr>\n",
       "    <tr>\n",
       "      <th>232286</th>\n",
       "      <td>GLASehsS05Pc8PMPNCtfU6jgQzaS7AoFFADyzqYHB+M=</td>\n",
       "      <td>2022-01-07</td>\n",
       "      <td>2</td>\n",
       "      <td>2023-03-03</td>\n",
       "    </tr>\n",
       "    <tr>\n",
       "      <th>232287</th>\n",
       "      <td>eXcU8h+m46HjlaJVUz/n4u005866yleewMshl8heX4M=</td>\n",
       "      <td>2022-01-07</td>\n",
       "      <td>2</td>\n",
       "      <td>2023-03-03</td>\n",
       "    </tr>\n",
       "    <tr>\n",
       "      <th>232288</th>\n",
       "      <td>kT2X7Ykx4m9Pry/Z3QsIz4omu0u06VNUGWRORrs5z9s=</td>\n",
       "      <td>2022-01-07</td>\n",
       "      <td>2</td>\n",
       "      <td>2023-03-03</td>\n",
       "    </tr>\n",
       "    <tr>\n",
       "      <th>232289</th>\n",
       "      <td>uRoiS67Kr6o55445yaIQAUlIq8v0iWPG0BtNcR4CvU8=</td>\n",
       "      <td>2022-01-07</td>\n",
       "      <td>2</td>\n",
       "      <td>2023-03-03</td>\n",
       "    </tr>\n",
       "    <tr>\n",
       "      <th>232290</th>\n",
       "      <td>zRT1YvIJ7ncVwjOYmwJ3qQLUJfWlWzuwdifEnnUgzXY=</td>\n",
       "      <td>2022-01-07</td>\n",
       "      <td>2</td>\n",
       "      <td>2023-03-03</td>\n",
       "    </tr>\n",
       "  </tbody>\n",
       "</table>\n",
       "<p>232291 rows × 4 columns</p>\n",
       "</div>"
      ],
      "text/plain": [
       "                                   adobe_tracking_id report_date  \\\n",
       "0       ++9P2+WhbQt4rjQWiakE+OtWVZ5gBDESVZlhsFLO/o8=  2022-01-02   \n",
       "1       ++BZuALDJvn4Uxxo6fv37L4JkSqKDdsnfBGUu3rOhGc=  2022-01-02   \n",
       "2       ++O4U6CfhQofob0caUsUAiWrmBLg/1V1xn7K859sX6Q=  2022-01-02   \n",
       "3       ++aIiiCONAa+hayeE4idJI4qgLMak1RT9M76RdEMu+4=  2022-01-02   \n",
       "4       ++bwvsqrgOQEDtjMqCdFtQo0QWbRRZgNzBJRTeDJRYI=  2022-01-02   \n",
       "...                                              ...         ...   \n",
       "232286  GLASehsS05Pc8PMPNCtfU6jgQzaS7AoFFADyzqYHB+M=  2022-01-07   \n",
       "232287  eXcU8h+m46HjlaJVUz/n4u005866yleewMshl8heX4M=  2022-01-07   \n",
       "232288  kT2X7Ykx4m9Pry/Z3QsIz4omu0u06VNUGWRORrs5z9s=  2022-01-07   \n",
       "232289  uRoiS67Kr6o55445yaIQAUlIq8v0iWPG0BtNcR4CvU8=  2022-01-07   \n",
       "232290  zRT1YvIJ7ncVwjOYmwJ3qQLUJfWlWzuwdifEnnUgzXY=  2022-01-07   \n",
       "\n",
       "        upgrade_row_number         f0_  \n",
       "0                        1  2023-03-03  \n",
       "1                        1  2023-03-03  \n",
       "2                        1  2023-03-03  \n",
       "3                        1  2023-03-03  \n",
       "4                        1  2023-03-03  \n",
       "...                    ...         ...  \n",
       "232286                   2  2023-03-03  \n",
       "232287                   2  2023-03-03  \n",
       "232288                   2  2023-03-03  \n",
       "232289                   2  2023-03-03  \n",
       "232290                   2  2023-03-03  \n",
       "\n",
       "[232291 rows x 4 columns]"
      ]
     },
     "execution_count": 16,
     "metadata": {},
     "output_type": "execute_result"
    }
   ],
   "source": [
    "%%bigquery --project nbcu-ds-sandbox-a-001\n",
    "\n",
    "SELECT adobe_tracking_id\n",
    "        , report_date\n",
    "        , row_number() OVER(partition by adobe_tracking_id order by report_date ) as upgrade_row_number -- rank the number of times a user upgrade\n",
    "        , current_date() -- disable results caching\n",
    "FROM       \n",
    "        (\n",
    "            SELECT adobe_tracking_id\n",
    "                    , report_date\n",
    "                    , paying_account_flag as paying_account_flag_today\n",
    "                    , LAG(paying_account_flag,1) OVER ( partition by adobe_tracking_id order by report_date  ) as paying_account_flag_yestd -- paying flag yesterday\n",
    "            FROM `nbcu-ds-prod-001.PeacockDataMartSilver.SILVER_USER` \n",
    "            WHERE report_date between '2022-01-01' and '2022-01-07' -- don't add report_date since we need to distinguish upgrades from beginnning of time \n",
    "        )\n",
    "WHERE paying_account_flag_today = 'Paying' AND paying_account_flag_yestd = 'NonPaying'\n",
    "order by 3,2,1"
   ]
  },
  {
   "cell_type": "code",
   "execution_count": 17,
   "metadata": {
    "vscode": {
     "languageId": "sql"
    }
   },
   "outputs": [
    {
     "data": {
      "application/vnd.jupyter.widget-view+json": {
       "model_id": "42e2ca85589a4237a64af83466f18ae9",
       "version_major": 2,
       "version_minor": 0
      },
      "text/plain": [
       "Query is running:   0%|          |"
      ]
     },
     "metadata": {},
     "output_type": "display_data"
    },
    {
     "data": {
      "application/vnd.jupyter.widget-view+json": {
       "model_id": "be6349f43f34423a8e89a7119ca3312e",
       "version_major": 2,
       "version_minor": 0
      },
      "text/plain": [
       "Downloading:   0%|          |"
      ]
     },
     "metadata": {},
     "output_type": "display_data"
    },
    {
     "data": {
      "text/html": [
       "<div>\n",
       "<style scoped>\n",
       "    .dataframe tbody tr th:only-of-type {\n",
       "        vertical-align: middle;\n",
       "    }\n",
       "\n",
       "    .dataframe tbody tr th {\n",
       "        vertical-align: top;\n",
       "    }\n",
       "\n",
       "    .dataframe thead th {\n",
       "        text-align: right;\n",
       "    }\n",
       "</style>\n",
       "<table border=\"1\" class=\"dataframe\">\n",
       "  <thead>\n",
       "    <tr style=\"text-align: right;\">\n",
       "      <th></th>\n",
       "      <th>adobe_tracking_id</th>\n",
       "      <th>report_date</th>\n",
       "      <th>upgrade_row_number</th>\n",
       "    </tr>\n",
       "  </thead>\n",
       "  <tbody>\n",
       "    <tr>\n",
       "      <th>0</th>\n",
       "      <td>++9P2+WhbQt4rjQWiakE+OtWVZ5gBDESVZlhsFLO/o8=</td>\n",
       "      <td>2022-01-02</td>\n",
       "      <td>1</td>\n",
       "    </tr>\n",
       "    <tr>\n",
       "      <th>1</th>\n",
       "      <td>++BZuALDJvn4Uxxo6fv37L4JkSqKDdsnfBGUu3rOhGc=</td>\n",
       "      <td>2022-01-02</td>\n",
       "      <td>1</td>\n",
       "    </tr>\n",
       "    <tr>\n",
       "      <th>2</th>\n",
       "      <td>++O4U6CfhQofob0caUsUAiWrmBLg/1V1xn7K859sX6Q=</td>\n",
       "      <td>2022-01-02</td>\n",
       "      <td>1</td>\n",
       "    </tr>\n",
       "    <tr>\n",
       "      <th>3</th>\n",
       "      <td>++aIiiCONAa+hayeE4idJI4qgLMak1RT9M76RdEMu+4=</td>\n",
       "      <td>2022-01-02</td>\n",
       "      <td>1</td>\n",
       "    </tr>\n",
       "    <tr>\n",
       "      <th>4</th>\n",
       "      <td>++bwvsqrgOQEDtjMqCdFtQo0QWbRRZgNzBJRTeDJRYI=</td>\n",
       "      <td>2022-01-02</td>\n",
       "      <td>1</td>\n",
       "    </tr>\n",
       "    <tr>\n",
       "      <th>...</th>\n",
       "      <td>...</td>\n",
       "      <td>...</td>\n",
       "      <td>...</td>\n",
       "    </tr>\n",
       "    <tr>\n",
       "      <th>232286</th>\n",
       "      <td>GLASehsS05Pc8PMPNCtfU6jgQzaS7AoFFADyzqYHB+M=</td>\n",
       "      <td>2022-01-07</td>\n",
       "      <td>2</td>\n",
       "    </tr>\n",
       "    <tr>\n",
       "      <th>232287</th>\n",
       "      <td>eXcU8h+m46HjlaJVUz/n4u005866yleewMshl8heX4M=</td>\n",
       "      <td>2022-01-07</td>\n",
       "      <td>2</td>\n",
       "    </tr>\n",
       "    <tr>\n",
       "      <th>232288</th>\n",
       "      <td>kT2X7Ykx4m9Pry/Z3QsIz4omu0u06VNUGWRORrs5z9s=</td>\n",
       "      <td>2022-01-07</td>\n",
       "      <td>2</td>\n",
       "    </tr>\n",
       "    <tr>\n",
       "      <th>232289</th>\n",
       "      <td>uRoiS67Kr6o55445yaIQAUlIq8v0iWPG0BtNcR4CvU8=</td>\n",
       "      <td>2022-01-07</td>\n",
       "      <td>2</td>\n",
       "    </tr>\n",
       "    <tr>\n",
       "      <th>232290</th>\n",
       "      <td>zRT1YvIJ7ncVwjOYmwJ3qQLUJfWlWzuwdifEnnUgzXY=</td>\n",
       "      <td>2022-01-07</td>\n",
       "      <td>2</td>\n",
       "    </tr>\n",
       "  </tbody>\n",
       "</table>\n",
       "<p>232291 rows × 3 columns</p>\n",
       "</div>"
      ],
      "text/plain": [
       "                                   adobe_tracking_id report_date  \\\n",
       "0       ++9P2+WhbQt4rjQWiakE+OtWVZ5gBDESVZlhsFLO/o8=  2022-01-02   \n",
       "1       ++BZuALDJvn4Uxxo6fv37L4JkSqKDdsnfBGUu3rOhGc=  2022-01-02   \n",
       "2       ++O4U6CfhQofob0caUsUAiWrmBLg/1V1xn7K859sX6Q=  2022-01-02   \n",
       "3       ++aIiiCONAa+hayeE4idJI4qgLMak1RT9M76RdEMu+4=  2022-01-02   \n",
       "4       ++bwvsqrgOQEDtjMqCdFtQo0QWbRRZgNzBJRTeDJRYI=  2022-01-02   \n",
       "...                                              ...         ...   \n",
       "232286  GLASehsS05Pc8PMPNCtfU6jgQzaS7AoFFADyzqYHB+M=  2022-01-07   \n",
       "232287  eXcU8h+m46HjlaJVUz/n4u005866yleewMshl8heX4M=  2022-01-07   \n",
       "232288  kT2X7Ykx4m9Pry/Z3QsIz4omu0u06VNUGWRORrs5z9s=  2022-01-07   \n",
       "232289  uRoiS67Kr6o55445yaIQAUlIq8v0iWPG0BtNcR4CvU8=  2022-01-07   \n",
       "232290  zRT1YvIJ7ncVwjOYmwJ3qQLUJfWlWzuwdifEnnUgzXY=  2022-01-07   \n",
       "\n",
       "        upgrade_row_number  \n",
       "0                        1  \n",
       "1                        1  \n",
       "2                        1  \n",
       "3                        1  \n",
       "4                        1  \n",
       "...                    ...  \n",
       "232286                   2  \n",
       "232287                   2  \n",
       "232288                   2  \n",
       "232289                   2  \n",
       "232290                   2  \n",
       "\n",
       "[232291 rows x 3 columns]"
      ]
     },
     "execution_count": 17,
     "metadata": {},
     "output_type": "execute_result"
    }
   ],
   "source": [
    "%%bigquery --project nbcu-ds-sandbox-a-001\n",
    "\n",
    "with cte as (\n",
    "SELECT adobe_tracking_id\n",
    "        , report_date\n",
    "        , current_date() -- disable results caching\n",
    "FROM `nbcu-ds-prod-001.PeacockDataMartSilver.SILVER_USER` \n",
    "WHERE report_date between '2022-01-01' and '2022-01-07'\n",
    "QUALIFY (paying_account_flag = 'Paying') and (LAG(paying_account_flag,1) over(partition by adobe_tracking_id order by report_date) = 'NonPaying')\n",
    ")\n",
    "SELECT adobe_tracking_id\n",
    "        , report_date\n",
    "        , row_number() OVER(partition by adobe_tracking_id order by report_date ) as upgrade_row_number -- rank the number of times a user upgrade\n",
    "FROM cte\n",
    "order by 3,2,1"
   ]
  },
  {
   "cell_type": "code",
   "execution_count": 15,
   "metadata": {
    "vscode": {
     "languageId": "sql"
    }
   },
   "outputs": [
    {
     "data": {
      "application/vnd.jupyter.widget-view+json": {
       "model_id": "4b4da19e94484bc4b6f4042e8b3395bb",
       "version_major": 2,
       "version_minor": 0
      },
      "text/plain": [
       "Query is running:   0%|          |"
      ]
     },
     "metadata": {},
     "output_type": "display_data"
    },
    {
     "data": {
      "application/vnd.jupyter.widget-view+json": {
       "model_id": "14919fd4bd3f48b7a8eea56732da514c",
       "version_major": 2,
       "version_minor": 0
      },
      "text/plain": [
       "Downloading:   0%|          |"
      ]
     },
     "metadata": {},
     "output_type": "display_data"
    },
    {
     "data": {
      "text/html": [
       "<div>\n",
       "<style scoped>\n",
       "    .dataframe tbody tr th:only-of-type {\n",
       "        vertical-align: middle;\n",
       "    }\n",
       "\n",
       "    .dataframe tbody tr th {\n",
       "        vertical-align: top;\n",
       "    }\n",
       "\n",
       "    .dataframe thead th {\n",
       "        text-align: right;\n",
       "    }\n",
       "</style>\n",
       "<table border=\"1\" class=\"dataframe\">\n",
       "  <thead>\n",
       "    <tr style=\"text-align: right;\">\n",
       "      <th></th>\n",
       "      <th>adobe_tracking_id</th>\n",
       "      <th>report_date</th>\n",
       "      <th>upgrade_row_number</th>\n",
       "    </tr>\n",
       "  </thead>\n",
       "  <tbody>\n",
       "    <tr>\n",
       "      <th>0</th>\n",
       "      <td>++9P2+WhbQt4rjQWiakE+OtWVZ5gBDESVZlhsFLO/o8=</td>\n",
       "      <td>2022-01-02</td>\n",
       "      <td>2</td>\n",
       "    </tr>\n",
       "    <tr>\n",
       "      <th>1</th>\n",
       "      <td>++BZuALDJvn4Uxxo6fv37L4JkSqKDdsnfBGUu3rOhGc=</td>\n",
       "      <td>2022-01-02</td>\n",
       "      <td>2</td>\n",
       "    </tr>\n",
       "    <tr>\n",
       "      <th>2</th>\n",
       "      <td>++O4U6CfhQofob0caUsUAiWrmBLg/1V1xn7K859sX6Q=</td>\n",
       "      <td>2022-01-02</td>\n",
       "      <td>2</td>\n",
       "    </tr>\n",
       "    <tr>\n",
       "      <th>3</th>\n",
       "      <td>++aIiiCONAa+hayeE4idJI4qgLMak1RT9M76RdEMu+4=</td>\n",
       "      <td>2022-01-02</td>\n",
       "      <td>2</td>\n",
       "    </tr>\n",
       "    <tr>\n",
       "      <th>4</th>\n",
       "      <td>++bwvsqrgOQEDtjMqCdFtQo0QWbRRZgNzBJRTeDJRYI=</td>\n",
       "      <td>2022-01-02</td>\n",
       "      <td>2</td>\n",
       "    </tr>\n",
       "    <tr>\n",
       "      <th>...</th>\n",
       "      <td>...</td>\n",
       "      <td>...</td>\n",
       "      <td>...</td>\n",
       "    </tr>\n",
       "    <tr>\n",
       "      <th>232286</th>\n",
       "      <td>zytjwALhwovNtYv1jrNBivgYnpB0P8x4lXqbE0Jbr24=</td>\n",
       "      <td>2022-01-07</td>\n",
       "      <td>7</td>\n",
       "    </tr>\n",
       "    <tr>\n",
       "      <th>232287</th>\n",
       "      <td>zz6VfVUYUU048zOqEiQ6okOuDJ07Rv5MVI1hVgWHjqI=</td>\n",
       "      <td>2022-01-07</td>\n",
       "      <td>7</td>\n",
       "    </tr>\n",
       "    <tr>\n",
       "      <th>232288</th>\n",
       "      <td>zz7kz8DR4vbk37Z6qzCdA/3gJ+2ld66sEEPPfX0fkSA=</td>\n",
       "      <td>2022-01-07</td>\n",
       "      <td>7</td>\n",
       "    </tr>\n",
       "    <tr>\n",
       "      <th>232289</th>\n",
       "      <td>zzQ7pCcZjrj1HYboqlJIGWHjjOJLfufzzA8oeJPXXqU=</td>\n",
       "      <td>2022-01-07</td>\n",
       "      <td>7</td>\n",
       "    </tr>\n",
       "    <tr>\n",
       "      <th>232290</th>\n",
       "      <td>zzY++d11/w3BcrgnTiSEedkA40xBW6SO9pO7RpJX7yo=</td>\n",
       "      <td>2022-01-07</td>\n",
       "      <td>7</td>\n",
       "    </tr>\n",
       "  </tbody>\n",
       "</table>\n",
       "<p>232291 rows × 3 columns</p>\n",
       "</div>"
      ],
      "text/plain": [
       "                                   adobe_tracking_id report_date  \\\n",
       "0       ++9P2+WhbQt4rjQWiakE+OtWVZ5gBDESVZlhsFLO/o8=  2022-01-02   \n",
       "1       ++BZuALDJvn4Uxxo6fv37L4JkSqKDdsnfBGUu3rOhGc=  2022-01-02   \n",
       "2       ++O4U6CfhQofob0caUsUAiWrmBLg/1V1xn7K859sX6Q=  2022-01-02   \n",
       "3       ++aIiiCONAa+hayeE4idJI4qgLMak1RT9M76RdEMu+4=  2022-01-02   \n",
       "4       ++bwvsqrgOQEDtjMqCdFtQo0QWbRRZgNzBJRTeDJRYI=  2022-01-02   \n",
       "...                                              ...         ...   \n",
       "232286  zytjwALhwovNtYv1jrNBivgYnpB0P8x4lXqbE0Jbr24=  2022-01-07   \n",
       "232287  zz6VfVUYUU048zOqEiQ6okOuDJ07Rv5MVI1hVgWHjqI=  2022-01-07   \n",
       "232288  zz7kz8DR4vbk37Z6qzCdA/3gJ+2ld66sEEPPfX0fkSA=  2022-01-07   \n",
       "232289  zzQ7pCcZjrj1HYboqlJIGWHjjOJLfufzzA8oeJPXXqU=  2022-01-07   \n",
       "232290  zzY++d11/w3BcrgnTiSEedkA40xBW6SO9pO7RpJX7yo=  2022-01-07   \n",
       "\n",
       "        upgrade_row_number  \n",
       "0                        2  \n",
       "1                        2  \n",
       "2                        2  \n",
       "3                        2  \n",
       "4                        2  \n",
       "...                    ...  \n",
       "232286                   7  \n",
       "232287                   7  \n",
       "232288                   7  \n",
       "232289                   7  \n",
       "232290                   7  \n",
       "\n",
       "[232291 rows x 3 columns]"
      ]
     },
     "execution_count": 15,
     "metadata": {},
     "output_type": "execute_result"
    }
   ],
   "source": [
    "%%bigquery --project nbcu-ds-sandbox-a-001\n",
    "\n",
    "SELECT adobe_tracking_id\n",
    "        , report_date\n",
    "        , row_number() OVER(partition by adobe_tracking_id order by report_date ) as upgrade_row_number -- rank the number of times a user upgrade\n",
    "FROM `nbcu-ds-prod-001.PeacockDataMartSilver.SILVER_USER` \n",
    "WHERE report_date between '2022-01-01' and '2022-01-07'\n",
    "QUALIFY (paying_account_flag = 'Paying') and (LAG(paying_account_flag,1) over(partition by adobe_tracking_id order by report_date) = 'NonPaying')\n",
    "order by 3,2,1"
   ]
  },
  {
   "attachments": {},
   "cell_type": "markdown",
   "metadata": {},
   "source": [
    "# Transactional filter"
   ]
  },
  {
   "cell_type": "code",
   "execution_count": 3,
   "metadata": {
    "vscode": {
     "languageId": "sql"
    }
   },
   "outputs": [
    {
     "data": {
      "application/vnd.jupyter.widget-view+json": {
       "model_id": "4b8e9b48fe4e42bebfd10531ee6f1642",
       "version_major": 2,
       "version_minor": 0
      },
      "text/plain": [
       "Query is running:   0%|          |"
      ]
     },
     "metadata": {},
     "output_type": "display_data"
    },
    {
     "data": {
      "application/vnd.jupyter.widget-view+json": {
       "model_id": "613b55d14d3b48548f37854ceccaf260",
       "version_major": 2,
       "version_minor": 0
      },
      "text/plain": [
       "Downloading:   0%|          |"
      ]
     },
     "metadata": {},
     "output_type": "display_data"
    },
    {
     "data": {
      "text/html": [
       "<div>\n",
       "<style scoped>\n",
       "    .dataframe tbody tr th:only-of-type {\n",
       "        vertical-align: middle;\n",
       "    }\n",
       "\n",
       "    .dataframe tbody tr th {\n",
       "        vertical-align: top;\n",
       "    }\n",
       "\n",
       "    .dataframe thead th {\n",
       "        text-align: right;\n",
       "    }\n",
       "</style>\n",
       "<table border=\"1\" class=\"dataframe\">\n",
       "  <thead>\n",
       "    <tr style=\"text-align: right;\">\n",
       "      <th></th>\n",
       "      <th>campaign_name</th>\n",
       "    </tr>\n",
       "  </thead>\n",
       "  <tbody>\n",
       "    <tr>\n",
       "      <th>0</th>\n",
       "      <td>TransactionalTermsOfUseEngaged20221028</td>\n",
       "    </tr>\n",
       "    <tr>\n",
       "      <th>1</th>\n",
       "      <td>Transactional_ProductAnnualRenewal_20220805</td>\n",
       "    </tr>\n",
       "    <tr>\n",
       "      <th>2</th>\n",
       "      <td>Transactional_OSDeprecation_20210218</td>\n",
       "    </tr>\n",
       "    <tr>\n",
       "      <th>3</th>\n",
       "      <td>TransactionalTermsOfUseNONEngaged20221028</td>\n",
       "    </tr>\n",
       "    <tr>\n",
       "      <th>4</th>\n",
       "      <td>TransactionalFamilyControlProfile20221209</td>\n",
       "    </tr>\n",
       "  </tbody>\n",
       "</table>\n",
       "</div>"
      ],
      "text/plain": [
       "                                 campaign_name\n",
       "0       TransactionalTermsOfUseEngaged20221028\n",
       "1  Transactional_ProductAnnualRenewal_20220805\n",
       "2         Transactional_OSDeprecation_20210218\n",
       "3    TransactionalTermsOfUseNONEngaged20221028\n",
       "4    TransactionalFamilyControlProfile20221209"
      ]
     },
     "execution_count": 3,
     "metadata": {},
     "output_type": "execute_result"
    }
   ],
   "source": [
    "%%bigquery --project nbcu-ds-sandbox-a-001\n",
    "SELECT distinct campaign_name\n",
    "FROM `nbcu-ds-prod-001.PeacockDataMartSilver.SILVER_MPARTICLE_BRAZE`\n",
    "where lower(campaign_name) like 'transactional%'"
   ]
  },
  {
   "cell_type": "code",
   "execution_count": 12,
   "metadata": {
    "vscode": {
     "languageId": "sql"
    }
   },
   "outputs": [
    {
     "data": {
      "application/vnd.jupyter.widget-view+json": {
       "model_id": "9d542b8ba4d44248be9d590b453220e5",
       "version_major": 2,
       "version_minor": 0
      },
      "text/plain": [
       "Query is running:   0%|          |"
      ]
     },
     "metadata": {},
     "output_type": "display_data"
    },
    {
     "data": {
      "application/vnd.jupyter.widget-view+json": {
       "model_id": "d85d7607951444969d4065d6a50a3c1d",
       "version_major": 2,
       "version_minor": 0
      },
      "text/plain": [
       "Downloading:   0%|          |"
      ]
     },
     "metadata": {},
     "output_type": "display_data"
    },
    {
     "data": {
      "text/html": [
       "<div>\n",
       "<style scoped>\n",
       "    .dataframe tbody tr th:only-of-type {\n",
       "        vertical-align: middle;\n",
       "    }\n",
       "\n",
       "    .dataframe tbody tr th {\n",
       "        vertical-align: top;\n",
       "    }\n",
       "\n",
       "    .dataframe thead th {\n",
       "        text-align: right;\n",
       "    }\n",
       "</style>\n",
       "<table border=\"1\" class=\"dataframe\">\n",
       "  <thead>\n",
       "    <tr style=\"text-align: right;\">\n",
       "      <th></th>\n",
       "      <th>table_catalog</th>\n",
       "      <th>table_schema</th>\n",
       "      <th>table_name</th>\n",
       "      <th>column_name</th>\n",
       "      <th>ordinal_position</th>\n",
       "      <th>is_nullable</th>\n",
       "      <th>data_type</th>\n",
       "      <th>is_generated</th>\n",
       "      <th>generation_expression</th>\n",
       "      <th>is_stored</th>\n",
       "      <th>is_hidden</th>\n",
       "      <th>is_updatable</th>\n",
       "      <th>is_system_defined</th>\n",
       "      <th>is_partitioning_column</th>\n",
       "      <th>clustering_ordinal_position</th>\n",
       "      <th>collation_name</th>\n",
       "      <th>column_default</th>\n",
       "      <th>rounding_mode</th>\n",
       "    </tr>\n",
       "  </thead>\n",
       "  <tbody>\n",
       "    <tr>\n",
       "      <th>0</th>\n",
       "      <td>nbcu-ds-prod-001</td>\n",
       "      <td>PeacockDataMartSilver</td>\n",
       "      <td>SILVER_MPARTICLE_BRAZE</td>\n",
       "      <td>household_id</td>\n",
       "      <td>1</td>\n",
       "      <td>YES</td>\n",
       "      <td>STRING</td>\n",
       "      <td>NEVER</td>\n",
       "      <td>None</td>\n",
       "      <td>None</td>\n",
       "      <td>NO</td>\n",
       "      <td>None</td>\n",
       "      <td>NO</td>\n",
       "      <td>NO</td>\n",
       "      <td>1</td>\n",
       "      <td>NULL</td>\n",
       "      <td>NULL</td>\n",
       "      <td>None</td>\n",
       "    </tr>\n",
       "    <tr>\n",
       "      <th>1</th>\n",
       "      <td>nbcu-ds-prod-001</td>\n",
       "      <td>PeacockDataMartSilver</td>\n",
       "      <td>SILVER_MPARTICLE_BRAZE</td>\n",
       "      <td>adobe_tracking_id</td>\n",
       "      <td>2</td>\n",
       "      <td>YES</td>\n",
       "      <td>STRING</td>\n",
       "      <td>NEVER</td>\n",
       "      <td>None</td>\n",
       "      <td>None</td>\n",
       "      <td>NO</td>\n",
       "      <td>None</td>\n",
       "      <td>NO</td>\n",
       "      <td>NO</td>\n",
       "      <td>&lt;NA&gt;</td>\n",
       "      <td>NULL</td>\n",
       "      <td>NULL</td>\n",
       "      <td>None</td>\n",
       "    </tr>\n",
       "    <tr>\n",
       "      <th>2</th>\n",
       "      <td>nbcu-ds-prod-001</td>\n",
       "      <td>PeacockDataMartSilver</td>\n",
       "      <td>SILVER_MPARTICLE_BRAZE</td>\n",
       "      <td>campaign_name</td>\n",
       "      <td>3</td>\n",
       "      <td>YES</td>\n",
       "      <td>STRING</td>\n",
       "      <td>NEVER</td>\n",
       "      <td>None</td>\n",
       "      <td>None</td>\n",
       "      <td>NO</td>\n",
       "      <td>None</td>\n",
       "      <td>NO</td>\n",
       "      <td>NO</td>\n",
       "      <td>3</td>\n",
       "      <td>NULL</td>\n",
       "      <td>NULL</td>\n",
       "      <td>None</td>\n",
       "    </tr>\n",
       "    <tr>\n",
       "      <th>3</th>\n",
       "      <td>nbcu-ds-prod-001</td>\n",
       "      <td>PeacockDataMartSilver</td>\n",
       "      <td>SILVER_MPARTICLE_BRAZE</td>\n",
       "      <td>campaign_variant_name</td>\n",
       "      <td>4</td>\n",
       "      <td>YES</td>\n",
       "      <td>STRING</td>\n",
       "      <td>NEVER</td>\n",
       "      <td>None</td>\n",
       "      <td>None</td>\n",
       "      <td>NO</td>\n",
       "      <td>None</td>\n",
       "      <td>NO</td>\n",
       "      <td>NO</td>\n",
       "      <td>&lt;NA&gt;</td>\n",
       "      <td>NULL</td>\n",
       "      <td>NULL</td>\n",
       "      <td>None</td>\n",
       "    </tr>\n",
       "    <tr>\n",
       "      <th>4</th>\n",
       "      <td>nbcu-ds-prod-001</td>\n",
       "      <td>PeacockDataMartSilver</td>\n",
       "      <td>SILVER_MPARTICLE_BRAZE</td>\n",
       "      <td>campaign_tags</td>\n",
       "      <td>5</td>\n",
       "      <td>YES</td>\n",
       "      <td>STRING</td>\n",
       "      <td>NEVER</td>\n",
       "      <td>None</td>\n",
       "      <td>None</td>\n",
       "      <td>NO</td>\n",
       "      <td>None</td>\n",
       "      <td>NO</td>\n",
       "      <td>NO</td>\n",
       "      <td>&lt;NA&gt;</td>\n",
       "      <td>NULL</td>\n",
       "      <td>NULL</td>\n",
       "      <td>None</td>\n",
       "    </tr>\n",
       "    <tr>\n",
       "      <th>5</th>\n",
       "      <td>nbcu-ds-prod-001</td>\n",
       "      <td>PeacockDataMartSilver</td>\n",
       "      <td>SILVER_MPARTICLE_BRAZE</td>\n",
       "      <td>message_variant_channel</td>\n",
       "      <td>6</td>\n",
       "      <td>YES</td>\n",
       "      <td>STRING</td>\n",
       "      <td>NEVER</td>\n",
       "      <td>None</td>\n",
       "      <td>None</td>\n",
       "      <td>NO</td>\n",
       "      <td>None</td>\n",
       "      <td>NO</td>\n",
       "      <td>NO</td>\n",
       "      <td>&lt;NA&gt;</td>\n",
       "      <td>NULL</td>\n",
       "      <td>NULL</td>\n",
       "      <td>None</td>\n",
       "    </tr>\n",
       "    <tr>\n",
       "      <th>6</th>\n",
       "      <td>nbcu-ds-prod-001</td>\n",
       "      <td>PeacockDataMartSilver</td>\n",
       "      <td>SILVER_MPARTICLE_BRAZE</td>\n",
       "      <td>canvas_name</td>\n",
       "      <td>7</td>\n",
       "      <td>YES</td>\n",
       "      <td>STRING</td>\n",
       "      <td>NEVER</td>\n",
       "      <td>None</td>\n",
       "      <td>None</td>\n",
       "      <td>NO</td>\n",
       "      <td>None</td>\n",
       "      <td>NO</td>\n",
       "      <td>NO</td>\n",
       "      <td>&lt;NA&gt;</td>\n",
       "      <td>NULL</td>\n",
       "      <td>NULL</td>\n",
       "      <td>None</td>\n",
       "    </tr>\n",
       "    <tr>\n",
       "      <th>7</th>\n",
       "      <td>nbcu-ds-prod-001</td>\n",
       "      <td>PeacockDataMartSilver</td>\n",
       "      <td>SILVER_MPARTICLE_BRAZE</td>\n",
       "      <td>canvas_variant_name</td>\n",
       "      <td>8</td>\n",
       "      <td>YES</td>\n",
       "      <td>STRING</td>\n",
       "      <td>NEVER</td>\n",
       "      <td>None</td>\n",
       "      <td>None</td>\n",
       "      <td>NO</td>\n",
       "      <td>None</td>\n",
       "      <td>NO</td>\n",
       "      <td>NO</td>\n",
       "      <td>&lt;NA&gt;</td>\n",
       "      <td>NULL</td>\n",
       "      <td>NULL</td>\n",
       "      <td>None</td>\n",
       "    </tr>\n",
       "    <tr>\n",
       "      <th>8</th>\n",
       "      <td>nbcu-ds-prod-001</td>\n",
       "      <td>PeacockDataMartSilver</td>\n",
       "      <td>SILVER_MPARTICLE_BRAZE</td>\n",
       "      <td>canvas_step_name</td>\n",
       "      <td>9</td>\n",
       "      <td>YES</td>\n",
       "      <td>STRING</td>\n",
       "      <td>NEVER</td>\n",
       "      <td>None</td>\n",
       "      <td>None</td>\n",
       "      <td>NO</td>\n",
       "      <td>None</td>\n",
       "      <td>NO</td>\n",
       "      <td>NO</td>\n",
       "      <td>&lt;NA&gt;</td>\n",
       "      <td>NULL</td>\n",
       "      <td>NULL</td>\n",
       "      <td>None</td>\n",
       "    </tr>\n",
       "    <tr>\n",
       "      <th>9</th>\n",
       "      <td>nbcu-ds-prod-001</td>\n",
       "      <td>PeacockDataMartSilver</td>\n",
       "      <td>SILVER_MPARTICLE_BRAZE</td>\n",
       "      <td>canvas_tags</td>\n",
       "      <td>10</td>\n",
       "      <td>YES</td>\n",
       "      <td>STRING</td>\n",
       "      <td>NEVER</td>\n",
       "      <td>None</td>\n",
       "      <td>None</td>\n",
       "      <td>NO</td>\n",
       "      <td>None</td>\n",
       "      <td>NO</td>\n",
       "      <td>NO</td>\n",
       "      <td>&lt;NA&gt;</td>\n",
       "      <td>NULL</td>\n",
       "      <td>NULL</td>\n",
       "      <td>None</td>\n",
       "    </tr>\n",
       "    <tr>\n",
       "      <th>10</th>\n",
       "      <td>nbcu-ds-prod-001</td>\n",
       "      <td>PeacockDataMartSilver</td>\n",
       "      <td>SILVER_MPARTICLE_BRAZE</td>\n",
       "      <td>event_name</td>\n",
       "      <td>11</td>\n",
       "      <td>YES</td>\n",
       "      <td>STRING</td>\n",
       "      <td>NEVER</td>\n",
       "      <td>None</td>\n",
       "      <td>None</td>\n",
       "      <td>NO</td>\n",
       "      <td>None</td>\n",
       "      <td>NO</td>\n",
       "      <td>NO</td>\n",
       "      <td>4</td>\n",
       "      <td>NULL</td>\n",
       "      <td>NULL</td>\n",
       "      <td>None</td>\n",
       "    </tr>\n",
       "    <tr>\n",
       "      <th>11</th>\n",
       "      <td>nbcu-ds-prod-001</td>\n",
       "      <td>PeacockDataMartSilver</td>\n",
       "      <td>SILVER_MPARTICLE_BRAZE</td>\n",
       "      <td>event_date</td>\n",
       "      <td>12</td>\n",
       "      <td>YES</td>\n",
       "      <td>DATE</td>\n",
       "      <td>NEVER</td>\n",
       "      <td>None</td>\n",
       "      <td>None</td>\n",
       "      <td>NO</td>\n",
       "      <td>None</td>\n",
       "      <td>NO</td>\n",
       "      <td>YES</td>\n",
       "      <td>&lt;NA&gt;</td>\n",
       "      <td>NULL</td>\n",
       "      <td>NULL</td>\n",
       "      <td>None</td>\n",
       "    </tr>\n",
       "    <tr>\n",
       "      <th>12</th>\n",
       "      <td>nbcu-ds-prod-001</td>\n",
       "      <td>PeacockDataMartSilver</td>\n",
       "      <td>SILVER_MPARTICLE_BRAZE</td>\n",
       "      <td>eventTimestamp</td>\n",
       "      <td>13</td>\n",
       "      <td>YES</td>\n",
       "      <td>TIMESTAMP</td>\n",
       "      <td>NEVER</td>\n",
       "      <td>None</td>\n",
       "      <td>None</td>\n",
       "      <td>NO</td>\n",
       "      <td>None</td>\n",
       "      <td>NO</td>\n",
       "      <td>NO</td>\n",
       "      <td>&lt;NA&gt;</td>\n",
       "      <td>NULL</td>\n",
       "      <td>NULL</td>\n",
       "      <td>None</td>\n",
       "    </tr>\n",
       "    <tr>\n",
       "      <th>13</th>\n",
       "      <td>nbcu-ds-prod-001</td>\n",
       "      <td>PeacockDataMartSilver</td>\n",
       "      <td>SILVER_MPARTICLE_BRAZE</td>\n",
       "      <td>campaign_id</td>\n",
       "      <td>14</td>\n",
       "      <td>YES</td>\n",
       "      <td>STRING</td>\n",
       "      <td>NEVER</td>\n",
       "      <td>None</td>\n",
       "      <td>None</td>\n",
       "      <td>NO</td>\n",
       "      <td>None</td>\n",
       "      <td>NO</td>\n",
       "      <td>NO</td>\n",
       "      <td>2</td>\n",
       "      <td>NULL</td>\n",
       "      <td>NULL</td>\n",
       "      <td>None</td>\n",
       "    </tr>\n",
       "    <tr>\n",
       "      <th>14</th>\n",
       "      <td>nbcu-ds-prod-001</td>\n",
       "      <td>PeacockDataMartSilver</td>\n",
       "      <td>SILVER_MPARTICLE_BRAZE</td>\n",
       "      <td>campaign_variant_id</td>\n",
       "      <td>15</td>\n",
       "      <td>YES</td>\n",
       "      <td>STRING</td>\n",
       "      <td>NEVER</td>\n",
       "      <td>None</td>\n",
       "      <td>None</td>\n",
       "      <td>NO</td>\n",
       "      <td>None</td>\n",
       "      <td>NO</td>\n",
       "      <td>NO</td>\n",
       "      <td>&lt;NA&gt;</td>\n",
       "      <td>NULL</td>\n",
       "      <td>NULL</td>\n",
       "      <td>None</td>\n",
       "    </tr>\n",
       "    <tr>\n",
       "      <th>15</th>\n",
       "      <td>nbcu-ds-prod-001</td>\n",
       "      <td>PeacockDataMartSilver</td>\n",
       "      <td>SILVER_MPARTICLE_BRAZE</td>\n",
       "      <td>canvas_id</td>\n",
       "      <td>16</td>\n",
       "      <td>YES</td>\n",
       "      <td>STRING</td>\n",
       "      <td>NEVER</td>\n",
       "      <td>None</td>\n",
       "      <td>None</td>\n",
       "      <td>NO</td>\n",
       "      <td>None</td>\n",
       "      <td>NO</td>\n",
       "      <td>NO</td>\n",
       "      <td>&lt;NA&gt;</td>\n",
       "      <td>NULL</td>\n",
       "      <td>NULL</td>\n",
       "      <td>None</td>\n",
       "    </tr>\n",
       "    <tr>\n",
       "      <th>16</th>\n",
       "      <td>nbcu-ds-prod-001</td>\n",
       "      <td>PeacockDataMartSilver</td>\n",
       "      <td>SILVER_MPARTICLE_BRAZE</td>\n",
       "      <td>canvas_varaint_id</td>\n",
       "      <td>17</td>\n",
       "      <td>YES</td>\n",
       "      <td>STRING</td>\n",
       "      <td>NEVER</td>\n",
       "      <td>None</td>\n",
       "      <td>None</td>\n",
       "      <td>NO</td>\n",
       "      <td>None</td>\n",
       "      <td>NO</td>\n",
       "      <td>NO</td>\n",
       "      <td>&lt;NA&gt;</td>\n",
       "      <td>NULL</td>\n",
       "      <td>NULL</td>\n",
       "      <td>None</td>\n",
       "    </tr>\n",
       "    <tr>\n",
       "      <th>17</th>\n",
       "      <td>nbcu-ds-prod-001</td>\n",
       "      <td>PeacockDataMartSilver</td>\n",
       "      <td>SILVER_MPARTICLE_BRAZE</td>\n",
       "      <td>canvas_step_id</td>\n",
       "      <td>18</td>\n",
       "      <td>YES</td>\n",
       "      <td>STRING</td>\n",
       "      <td>NEVER</td>\n",
       "      <td>None</td>\n",
       "      <td>None</td>\n",
       "      <td>NO</td>\n",
       "      <td>None</td>\n",
       "      <td>NO</td>\n",
       "      <td>NO</td>\n",
       "      <td>&lt;NA&gt;</td>\n",
       "      <td>NULL</td>\n",
       "      <td>NULL</td>\n",
       "      <td>None</td>\n",
       "    </tr>\n",
       "    <tr>\n",
       "      <th>18</th>\n",
       "      <td>nbcu-ds-prod-001</td>\n",
       "      <td>PeacockDataMartSilver</td>\n",
       "      <td>SILVER_MPARTICLE_BRAZE</td>\n",
       "      <td>identity_id_7</td>\n",
       "      <td>19</td>\n",
       "      <td>YES</td>\n",
       "      <td>STRING</td>\n",
       "      <td>NEVER</td>\n",
       "      <td>None</td>\n",
       "      <td>None</td>\n",
       "      <td>NO</td>\n",
       "      <td>None</td>\n",
       "      <td>NO</td>\n",
       "      <td>NO</td>\n",
       "      <td>&lt;NA&gt;</td>\n",
       "      <td>NULL</td>\n",
       "      <td>NULL</td>\n",
       "      <td>None</td>\n",
       "    </tr>\n",
       "    <tr>\n",
       "      <th>19</th>\n",
       "      <td>nbcu-ds-prod-001</td>\n",
       "      <td>PeacockDataMartSilver</td>\n",
       "      <td>SILVER_MPARTICLE_BRAZE</td>\n",
       "      <td>platform</td>\n",
       "      <td>20</td>\n",
       "      <td>YES</td>\n",
       "      <td>STRING</td>\n",
       "      <td>NEVER</td>\n",
       "      <td>None</td>\n",
       "      <td>None</td>\n",
       "      <td>NO</td>\n",
       "      <td>None</td>\n",
       "      <td>NO</td>\n",
       "      <td>NO</td>\n",
       "      <td>&lt;NA&gt;</td>\n",
       "      <td>NULL</td>\n",
       "      <td>NULL</td>\n",
       "      <td>None</td>\n",
       "    </tr>\n",
       "    <tr>\n",
       "      <th>20</th>\n",
       "      <td>nbcu-ds-prod-001</td>\n",
       "      <td>PeacockDataMartSilver</td>\n",
       "      <td>SILVER_MPARTICLE_BRAZE</td>\n",
       "      <td>data_source</td>\n",
       "      <td>21</td>\n",
       "      <td>YES</td>\n",
       "      <td>STRING</td>\n",
       "      <td>NEVER</td>\n",
       "      <td>None</td>\n",
       "      <td>None</td>\n",
       "      <td>NO</td>\n",
       "      <td>None</td>\n",
       "      <td>NO</td>\n",
       "      <td>NO</td>\n",
       "      <td>&lt;NA&gt;</td>\n",
       "      <td>NULL</td>\n",
       "      <td>NULL</td>\n",
       "      <td>None</td>\n",
       "    </tr>\n",
       "  </tbody>\n",
       "</table>\n",
       "</div>"
      ],
      "text/plain": [
       "       table_catalog           table_schema              table_name  \\\n",
       "0   nbcu-ds-prod-001  PeacockDataMartSilver  SILVER_MPARTICLE_BRAZE   \n",
       "1   nbcu-ds-prod-001  PeacockDataMartSilver  SILVER_MPARTICLE_BRAZE   \n",
       "2   nbcu-ds-prod-001  PeacockDataMartSilver  SILVER_MPARTICLE_BRAZE   \n",
       "3   nbcu-ds-prod-001  PeacockDataMartSilver  SILVER_MPARTICLE_BRAZE   \n",
       "4   nbcu-ds-prod-001  PeacockDataMartSilver  SILVER_MPARTICLE_BRAZE   \n",
       "5   nbcu-ds-prod-001  PeacockDataMartSilver  SILVER_MPARTICLE_BRAZE   \n",
       "6   nbcu-ds-prod-001  PeacockDataMartSilver  SILVER_MPARTICLE_BRAZE   \n",
       "7   nbcu-ds-prod-001  PeacockDataMartSilver  SILVER_MPARTICLE_BRAZE   \n",
       "8   nbcu-ds-prod-001  PeacockDataMartSilver  SILVER_MPARTICLE_BRAZE   \n",
       "9   nbcu-ds-prod-001  PeacockDataMartSilver  SILVER_MPARTICLE_BRAZE   \n",
       "10  nbcu-ds-prod-001  PeacockDataMartSilver  SILVER_MPARTICLE_BRAZE   \n",
       "11  nbcu-ds-prod-001  PeacockDataMartSilver  SILVER_MPARTICLE_BRAZE   \n",
       "12  nbcu-ds-prod-001  PeacockDataMartSilver  SILVER_MPARTICLE_BRAZE   \n",
       "13  nbcu-ds-prod-001  PeacockDataMartSilver  SILVER_MPARTICLE_BRAZE   \n",
       "14  nbcu-ds-prod-001  PeacockDataMartSilver  SILVER_MPARTICLE_BRAZE   \n",
       "15  nbcu-ds-prod-001  PeacockDataMartSilver  SILVER_MPARTICLE_BRAZE   \n",
       "16  nbcu-ds-prod-001  PeacockDataMartSilver  SILVER_MPARTICLE_BRAZE   \n",
       "17  nbcu-ds-prod-001  PeacockDataMartSilver  SILVER_MPARTICLE_BRAZE   \n",
       "18  nbcu-ds-prod-001  PeacockDataMartSilver  SILVER_MPARTICLE_BRAZE   \n",
       "19  nbcu-ds-prod-001  PeacockDataMartSilver  SILVER_MPARTICLE_BRAZE   \n",
       "20  nbcu-ds-prod-001  PeacockDataMartSilver  SILVER_MPARTICLE_BRAZE   \n",
       "\n",
       "                column_name  ordinal_position is_nullable  data_type  \\\n",
       "0              household_id                 1         YES     STRING   \n",
       "1         adobe_tracking_id                 2         YES     STRING   \n",
       "2             campaign_name                 3         YES     STRING   \n",
       "3     campaign_variant_name                 4         YES     STRING   \n",
       "4             campaign_tags                 5         YES     STRING   \n",
       "5   message_variant_channel                 6         YES     STRING   \n",
       "6               canvas_name                 7         YES     STRING   \n",
       "7       canvas_variant_name                 8         YES     STRING   \n",
       "8          canvas_step_name                 9         YES     STRING   \n",
       "9               canvas_tags                10         YES     STRING   \n",
       "10               event_name                11         YES     STRING   \n",
       "11               event_date                12         YES       DATE   \n",
       "12           eventTimestamp                13         YES  TIMESTAMP   \n",
       "13              campaign_id                14         YES     STRING   \n",
       "14      campaign_variant_id                15         YES     STRING   \n",
       "15                canvas_id                16         YES     STRING   \n",
       "16        canvas_varaint_id                17         YES     STRING   \n",
       "17           canvas_step_id                18         YES     STRING   \n",
       "18            identity_id_7                19         YES     STRING   \n",
       "19                 platform                20         YES     STRING   \n",
       "20              data_source                21         YES     STRING   \n",
       "\n",
       "   is_generated generation_expression is_stored is_hidden is_updatable  \\\n",
       "0         NEVER                  None      None        NO         None   \n",
       "1         NEVER                  None      None        NO         None   \n",
       "2         NEVER                  None      None        NO         None   \n",
       "3         NEVER                  None      None        NO         None   \n",
       "4         NEVER                  None      None        NO         None   \n",
       "5         NEVER                  None      None        NO         None   \n",
       "6         NEVER                  None      None        NO         None   \n",
       "7         NEVER                  None      None        NO         None   \n",
       "8         NEVER                  None      None        NO         None   \n",
       "9         NEVER                  None      None        NO         None   \n",
       "10        NEVER                  None      None        NO         None   \n",
       "11        NEVER                  None      None        NO         None   \n",
       "12        NEVER                  None      None        NO         None   \n",
       "13        NEVER                  None      None        NO         None   \n",
       "14        NEVER                  None      None        NO         None   \n",
       "15        NEVER                  None      None        NO         None   \n",
       "16        NEVER                  None      None        NO         None   \n",
       "17        NEVER                  None      None        NO         None   \n",
       "18        NEVER                  None      None        NO         None   \n",
       "19        NEVER                  None      None        NO         None   \n",
       "20        NEVER                  None      None        NO         None   \n",
       "\n",
       "   is_system_defined is_partitioning_column  clustering_ordinal_position  \\\n",
       "0                 NO                     NO                            1   \n",
       "1                 NO                     NO                         <NA>   \n",
       "2                 NO                     NO                            3   \n",
       "3                 NO                     NO                         <NA>   \n",
       "4                 NO                     NO                         <NA>   \n",
       "5                 NO                     NO                         <NA>   \n",
       "6                 NO                     NO                         <NA>   \n",
       "7                 NO                     NO                         <NA>   \n",
       "8                 NO                     NO                         <NA>   \n",
       "9                 NO                     NO                         <NA>   \n",
       "10                NO                     NO                            4   \n",
       "11                NO                    YES                         <NA>   \n",
       "12                NO                     NO                         <NA>   \n",
       "13                NO                     NO                            2   \n",
       "14                NO                     NO                         <NA>   \n",
       "15                NO                     NO                         <NA>   \n",
       "16                NO                     NO                         <NA>   \n",
       "17                NO                     NO                         <NA>   \n",
       "18                NO                     NO                         <NA>   \n",
       "19                NO                     NO                         <NA>   \n",
       "20                NO                     NO                         <NA>   \n",
       "\n",
       "   collation_name column_default rounding_mode  \n",
       "0            NULL           NULL          None  \n",
       "1            NULL           NULL          None  \n",
       "2            NULL           NULL          None  \n",
       "3            NULL           NULL          None  \n",
       "4            NULL           NULL          None  \n",
       "5            NULL           NULL          None  \n",
       "6            NULL           NULL          None  \n",
       "7            NULL           NULL          None  \n",
       "8            NULL           NULL          None  \n",
       "9            NULL           NULL          None  \n",
       "10           NULL           NULL          None  \n",
       "11           NULL           NULL          None  \n",
       "12           NULL           NULL          None  \n",
       "13           NULL           NULL          None  \n",
       "14           NULL           NULL          None  \n",
       "15           NULL           NULL          None  \n",
       "16           NULL           NULL          None  \n",
       "17           NULL           NULL          None  \n",
       "18           NULL           NULL          None  \n",
       "19           NULL           NULL          None  \n",
       "20           NULL           NULL          None  "
      ]
     },
     "execution_count": 12,
     "metadata": {},
     "output_type": "execute_result"
    }
   ],
   "source": [
    "%%bigquery --project nbcu-ds-sandbox-a-001\n",
    "SELECT * \n",
    "FROM `nbcu-ds-prod-001.PeacockDataMartSilver.INFORMATION_SCHEMA.COLUMNS`\n",
    "where table_name = 'SILVER_MPARTICLE_BRAZE'"
   ]
  },
  {
   "attachments": {},
   "cell_type": "markdown",
   "metadata": {},
   "source": [
    "# Email Engager Discrepancy"
   ]
  },
  {
   "attachments": {},
   "cell_type": "markdown",
   "metadata": {},
   "source": [
    "### Jan"
   ]
  },
  {
   "cell_type": "code",
   "execution_count": 38,
   "metadata": {
    "vscode": {
     "languageId": "sql"
    }
   },
   "outputs": [
    {
     "data": {
      "application/vnd.jupyter.widget-view+json": {
       "model_id": "cc12a61040024e97852df2ff17778384",
       "version_major": 2,
       "version_minor": 0
      },
      "text/plain": [
       "Query is running:   0%|          |"
      ]
     },
     "metadata": {},
     "output_type": "display_data"
    },
    {
     "data": {
      "application/vnd.jupyter.widget-view+json": {
       "model_id": "b274ee08200549278daa3d42a92bdd01",
       "version_major": 2,
       "version_minor": 0
      },
      "text/plain": [
       "Downloading:   0%|          |"
      ]
     },
     "metadata": {},
     "output_type": "display_data"
    },
    {
     "data": {
      "text/html": [
       "<div>\n",
       "<style scoped>\n",
       "    .dataframe tbody tr th:only-of-type {\n",
       "        vertical-align: middle;\n",
       "    }\n",
       "\n",
       "    .dataframe tbody tr th {\n",
       "        vertical-align: top;\n",
       "    }\n",
       "\n",
       "    .dataframe thead th {\n",
       "        text-align: right;\n",
       "    }\n",
       "</style>\n",
       "<table border=\"1\" class=\"dataframe\">\n",
       "  <thead>\n",
       "    <tr style=\"text-align: right;\">\n",
       "      <th></th>\n",
       "      <th>f0_</th>\n",
       "    </tr>\n",
       "  </thead>\n",
       "  <tbody>\n",
       "    <tr>\n",
       "      <th>0</th>\n",
       "      <td>50126984</td>\n",
       "    </tr>\n",
       "  </tbody>\n",
       "</table>\n",
       "</div>"
      ],
      "text/plain": [
       "        f0_\n",
       "0  50126984"
      ]
     },
     "execution_count": 38,
     "metadata": {},
     "output_type": "execute_result"
    }
   ],
   "source": [
    "%%bigquery --project nbcu-ds-sandbox-a-001\n",
    "SELECT  COUNT(DISTINCT identity)\n",
    "FROM `nbcu-sdp-prod-003.sdp_persistent_views.BrazeMarketingView`\n",
    "WHERE (eventName = 'Email Opens')\n",
    "AND (machineOpen IS NULL)\n",
    "AND date(eventTimestamp) BETWEEN DATE_SUB('2023-01-31', INTERVAL 1 YEAR) AND '2023-01-31'\n",
    "AND lower(campaignName) NOT LIKE 'transactional%' -- Exclude transactional emails\n"
   ]
  },
  {
   "attachments": {},
   "cell_type": "markdown",
   "metadata": {},
   "source": [
    "### Feb"
   ]
  },
  {
   "cell_type": "code",
   "execution_count": 39,
   "metadata": {
    "vscode": {
     "languageId": "sql"
    }
   },
   "outputs": [
    {
     "data": {
      "application/vnd.jupyter.widget-view+json": {
       "model_id": "a2beac61ad844cd6be3fa2bffdd6aff0",
       "version_major": 2,
       "version_minor": 0
      },
      "text/plain": [
       "Query is running:   0%|          |"
      ]
     },
     "metadata": {},
     "output_type": "display_data"
    },
    {
     "data": {
      "application/vnd.jupyter.widget-view+json": {
       "model_id": "bb7d8378b7364185b75681ca24c79ecc",
       "version_major": 2,
       "version_minor": 0
      },
      "text/plain": [
       "Downloading:   0%|          |"
      ]
     },
     "metadata": {},
     "output_type": "display_data"
    },
    {
     "data": {
      "text/html": [
       "<div>\n",
       "<style scoped>\n",
       "    .dataframe tbody tr th:only-of-type {\n",
       "        vertical-align: middle;\n",
       "    }\n",
       "\n",
       "    .dataframe tbody tr th {\n",
       "        vertical-align: top;\n",
       "    }\n",
       "\n",
       "    .dataframe thead th {\n",
       "        text-align: right;\n",
       "    }\n",
       "</style>\n",
       "<table border=\"1\" class=\"dataframe\">\n",
       "  <thead>\n",
       "    <tr style=\"text-align: right;\">\n",
       "      <th></th>\n",
       "      <th>f0_</th>\n",
       "    </tr>\n",
       "  </thead>\n",
       "  <tbody>\n",
       "    <tr>\n",
       "      <th>0</th>\n",
       "      <td>38570038</td>\n",
       "    </tr>\n",
       "  </tbody>\n",
       "</table>\n",
       "</div>"
      ],
      "text/plain": [
       "        f0_\n",
       "0  38570038"
      ]
     },
     "execution_count": 39,
     "metadata": {},
     "output_type": "execute_result"
    }
   ],
   "source": [
    "%%bigquery --project nbcu-ds-sandbox-a-001\n",
    "SELECT  COUNT(DISTINCT identity)\n",
    "FROM `nbcu-sdp-prod-003.sdp_persistent_views.BrazeMarketingView`\n",
    "WHERE (eventName = 'Email Opens')\n",
    "AND (machineOpen IS NULL)\n",
    "AND date(eventTimestamp) BETWEEN DATE_SUB('2023-02-28', INTERVAL 1 YEAR) AND '2023-02-28'\n",
    "AND lower(campaignName) NOT LIKE 'transactional%' -- Exclude transactional emails\n"
   ]
  },
  {
   "attachments": {},
   "cell_type": "markdown",
   "metadata": {},
   "source": [
    "## All Opens"
   ]
  },
  {
   "cell_type": "code",
   "execution_count": 36,
   "metadata": {
    "vscode": {
     "languageId": "sql"
    }
   },
   "outputs": [
    {
     "data": {
      "application/vnd.jupyter.widget-view+json": {
       "model_id": "98beead1e509463eb4408cc741e06db1",
       "version_major": 2,
       "version_minor": 0
      },
      "text/plain": [
       "Query is running:   0%|          |"
      ]
     },
     "metadata": {},
     "output_type": "display_data"
    },
    {
     "data": {
      "application/vnd.jupyter.widget-view+json": {
       "model_id": "1a4a9c3302c74becad384551faf72789",
       "version_major": 2,
       "version_minor": 0
      },
      "text/plain": [
       "Downloading:   0%|          |"
      ]
     },
     "metadata": {},
     "output_type": "display_data"
    },
    {
     "data": {
      "text/html": [
       "<div>\n",
       "<style scoped>\n",
       "    .dataframe tbody tr th:only-of-type {\n",
       "        vertical-align: middle;\n",
       "    }\n",
       "\n",
       "    .dataframe tbody tr th {\n",
       "        vertical-align: top;\n",
       "    }\n",
       "\n",
       "    .dataframe thead th {\n",
       "        text-align: right;\n",
       "    }\n",
       "</style>\n",
       "<table border=\"1\" class=\"dataframe\">\n",
       "  <thead>\n",
       "    <tr style=\"text-align: right;\">\n",
       "      <th></th>\n",
       "      <th>f0_</th>\n",
       "    </tr>\n",
       "  </thead>\n",
       "  <tbody>\n",
       "    <tr>\n",
       "      <th>0</th>\n",
       "      <td>60164590</td>\n",
       "    </tr>\n",
       "  </tbody>\n",
       "</table>\n",
       "</div>"
      ],
      "text/plain": [
       "        f0_\n",
       "0  60164590"
      ]
     },
     "execution_count": 36,
     "metadata": {},
     "output_type": "execute_result"
    }
   ],
   "source": [
    "%%bigquery --project nbcu-ds-sandbox-a-001\n",
    "SELECT COUNT(DISTINCT identity)\n",
    "FROM  `nbcu-sdp-prod-003.sdp_persistent_views.BrazeMarketingView` \n",
    "WHERE eventName = 'Email Opens'\n",
    "AND date(eventTimestamp) BETWEEN DATE_SUB('2023-01-31', INTERVAL 1 YEAR) AND '2023-01-31'\n",
    "AND lower(campaignName) NOT LIKE 'transactional%' -- Exclude transactional emails\n"
   ]
  },
  {
   "cell_type": "code",
   "execution_count": 37,
   "metadata": {
    "vscode": {
     "languageId": "sql"
    }
   },
   "outputs": [
    {
     "data": {
      "application/vnd.jupyter.widget-view+json": {
       "model_id": "9813c47fe2754be2a065b29cce42ea9b",
       "version_major": 2,
       "version_minor": 0
      },
      "text/plain": [
       "Query is running:   0%|          |"
      ]
     },
     "metadata": {},
     "output_type": "display_data"
    },
    {
     "data": {
      "application/vnd.jupyter.widget-view+json": {
       "model_id": "465e6d698e984c8e985b586a1ec5e1da",
       "version_major": 2,
       "version_minor": 0
      },
      "text/plain": [
       "Downloading:   0%|          |"
      ]
     },
     "metadata": {},
     "output_type": "display_data"
    },
    {
     "data": {
      "text/html": [
       "<div>\n",
       "<style scoped>\n",
       "    .dataframe tbody tr th:only-of-type {\n",
       "        vertical-align: middle;\n",
       "    }\n",
       "\n",
       "    .dataframe tbody tr th {\n",
       "        vertical-align: top;\n",
       "    }\n",
       "\n",
       "    .dataframe thead th {\n",
       "        text-align: right;\n",
       "    }\n",
       "</style>\n",
       "<table border=\"1\" class=\"dataframe\">\n",
       "  <thead>\n",
       "    <tr style=\"text-align: right;\">\n",
       "      <th></th>\n",
       "      <th>f0_</th>\n",
       "    </tr>\n",
       "  </thead>\n",
       "  <tbody>\n",
       "    <tr>\n",
       "      <th>0</th>\n",
       "      <td>59949647</td>\n",
       "    </tr>\n",
       "  </tbody>\n",
       "</table>\n",
       "</div>"
      ],
      "text/plain": [
       "        f0_\n",
       "0  59949647"
      ]
     },
     "execution_count": 37,
     "metadata": {},
     "output_type": "execute_result"
    }
   ],
   "source": [
    "%%bigquery --project nbcu-ds-sandbox-a-001\n",
    "SELECT COUNT(DISTINCT identity) \n",
    "FROM  `nbcu-sdp-prod-003.sdp_persistent_views.BrazeMarketingView` \n",
    "WHERE (eventName = 'Email Opens')\n",
    "AND date(eventTimestamp) BETWEEN DATE_SUB('2023-02-28', INTERVAL 1 YEAR) AND '2023-02-28'\n",
    "AND lower(campaignName) NOT LIKE 'transactional%' -- Exclude transactional emails\n"
   ]
  },
  {
   "attachments": {},
   "cell_type": "markdown",
   "metadata": {},
   "source": [
    "## Hard Dates"
   ]
  },
  {
   "cell_type": "code",
   "execution_count": 42,
   "metadata": {
    "vscode": {
     "languageId": "sql"
    }
   },
   "outputs": [
    {
     "data": {
      "application/vnd.jupyter.widget-view+json": {
       "model_id": "06e0fcf888354aa9b976d5a33cdd8adb",
       "version_major": 2,
       "version_minor": 0
      },
      "text/plain": [
       "Query is running:   0%|          |"
      ]
     },
     "metadata": {},
     "output_type": "display_data"
    },
    {
     "data": {
      "application/vnd.jupyter.widget-view+json": {
       "model_id": "03d1e26ba7de41b59ed7f755d673cebc",
       "version_major": 2,
       "version_minor": 0
      },
      "text/plain": [
       "Downloading:   0%|          |"
      ]
     },
     "metadata": {},
     "output_type": "display_data"
    },
    {
     "data": {
      "text/html": [
       "<div>\n",
       "<style scoped>\n",
       "    .dataframe tbody tr th:only-of-type {\n",
       "        vertical-align: middle;\n",
       "    }\n",
       "\n",
       "    .dataframe tbody tr th {\n",
       "        vertical-align: top;\n",
       "    }\n",
       "\n",
       "    .dataframe thead th {\n",
       "        text-align: right;\n",
       "    }\n",
       "</style>\n",
       "<table border=\"1\" class=\"dataframe\">\n",
       "  <thead>\n",
       "    <tr style=\"text-align: right;\">\n",
       "      <th></th>\n",
       "      <th>f0_</th>\n",
       "    </tr>\n",
       "  </thead>\n",
       "  <tbody>\n",
       "    <tr>\n",
       "      <th>0</th>\n",
       "      <td>50126984</td>\n",
       "    </tr>\n",
       "  </tbody>\n",
       "</table>\n",
       "</div>"
      ],
      "text/plain": [
       "        f0_\n",
       "0  50126984"
      ]
     },
     "execution_count": 42,
     "metadata": {},
     "output_type": "execute_result"
    }
   ],
   "source": [
    "%%bigquery --project nbcu-ds-sandbox-a-001\n",
    "SELECT COUNT(DISTINCT identity)\n",
    "FROM  `nbcu-sdp-prod-003.sdp_persistent_views.BrazeMarketingView` \n",
    "WHERE (eventName = 'Email Opens')\n",
    "AND (machineOpen IS NULL)\n",
    "AND date(eventTimestamp) BETWEEN '2022-01-31' AND '2023-01-31'\n",
    "AND lower(campaignName) NOT LIKE 'transactional%' -- Exclude transactional emails\n"
   ]
  },
  {
   "cell_type": "code",
   "execution_count": 43,
   "metadata": {
    "vscode": {
     "languageId": "sql"
    }
   },
   "outputs": [
    {
     "data": {
      "application/vnd.jupyter.widget-view+json": {
       "model_id": "878be8745d6147e1b5a37a23459c9a52",
       "version_major": 2,
       "version_minor": 0
      },
      "text/plain": [
       "Query is running:   0%|          |"
      ]
     },
     "metadata": {},
     "output_type": "display_data"
    },
    {
     "data": {
      "application/vnd.jupyter.widget-view+json": {
       "model_id": "013b6e322d4a4cc5817ebf8af0f836d3",
       "version_major": 2,
       "version_minor": 0
      },
      "text/plain": [
       "Downloading:   0%|          |"
      ]
     },
     "metadata": {},
     "output_type": "display_data"
    },
    {
     "data": {
      "text/html": [
       "<div>\n",
       "<style scoped>\n",
       "    .dataframe tbody tr th:only-of-type {\n",
       "        vertical-align: middle;\n",
       "    }\n",
       "\n",
       "    .dataframe tbody tr th {\n",
       "        vertical-align: top;\n",
       "    }\n",
       "\n",
       "    .dataframe thead th {\n",
       "        text-align: right;\n",
       "    }\n",
       "</style>\n",
       "<table border=\"1\" class=\"dataframe\">\n",
       "  <thead>\n",
       "    <tr style=\"text-align: right;\">\n",
       "      <th></th>\n",
       "      <th>f0_</th>\n",
       "    </tr>\n",
       "  </thead>\n",
       "  <tbody>\n",
       "    <tr>\n",
       "      <th>0</th>\n",
       "      <td>38570038</td>\n",
       "    </tr>\n",
       "  </tbody>\n",
       "</table>\n",
       "</div>"
      ],
      "text/plain": [
       "        f0_\n",
       "0  38570038"
      ]
     },
     "execution_count": 43,
     "metadata": {},
     "output_type": "execute_result"
    }
   ],
   "source": [
    "%%bigquery --project nbcu-ds-sandbox-a-001\n",
    "SELECT COUNT(DISTINCT identity) \n",
    "FROM  `nbcu-sdp-prod-003.sdp_persistent_views.BrazeMarketingView` \n",
    "WHERE (eventName = 'Email Opens')\n",
    "AND (machineOpen IS NULL)\n",
    "AND date(eventTimestamp) BETWEEN '2022-02-28' AND '2023-02-28'\n",
    "AND lower(campaignName) NOT LIKE 'transactional%' -- Exclude transactional emails\n"
   ]
  },
  {
   "attachments": {},
   "cell_type": "markdown",
   "metadata": {},
   "source": [
    "### Email Acitivity History"
   ]
  },
  {
   "cell_type": "code",
   "execution_count": 45,
   "metadata": {
    "vscode": {
     "languageId": "sql"
    }
   },
   "outputs": [
    {
     "data": {
      "application/vnd.jupyter.widget-view+json": {
       "model_id": "c7632ddd33aa44f98a55077326251653",
       "version_major": 2,
       "version_minor": 0
      },
      "text/plain": [
       "Query is running:   0%|          |"
      ]
     },
     "metadata": {},
     "output_type": "display_data"
    },
    {
     "data": {
      "text/html": [
       "<div>\n",
       "<style scoped>\n",
       "    .dataframe tbody tr th:only-of-type {\n",
       "        vertical-align: middle;\n",
       "    }\n",
       "\n",
       "    .dataframe tbody tr th {\n",
       "        vertical-align: top;\n",
       "    }\n",
       "\n",
       "    .dataframe thead th {\n",
       "        text-align: right;\n",
       "    }\n",
       "</style>\n",
       "<table border=\"1\" class=\"dataframe\">\n",
       "  <thead>\n",
       "    <tr style=\"text-align: right;\">\n",
       "      <th></th>\n",
       "    </tr>\n",
       "  </thead>\n",
       "  <tbody>\n",
       "  </tbody>\n",
       "</table>\n",
       "</div>"
      ],
      "text/plain": [
       "Empty DataFrame\n",
       "Columns: []\n",
       "Index: []"
      ]
     },
     "execution_count": 45,
     "metadata": {},
     "output_type": "execute_result"
    }
   ],
   "source": [
    "%%bigquery --project nbcu-ds-sandbox-a-001\n",
    "\n",
    "CREATE OR REPLACE TABLE `nbcu-ds-sandbox-a-001.SLi_sandbox.Email_Activity_Summary` AS\n",
    "SELECT  DATE_TRUNC(DATE(eventTimestamp),MONTH)                                                                          AS month\n",
    "       ,COUNT(DISTINCT CASE WHEN (eventName = 'Email Opens') THEN identity else null end)                               AS unique_all_email_opens\n",
    "       ,COUNT(DISTINCT CASE WHEN (eventName = 'Email Opens') AND (machineOpen is null) THEN identity else null end)     AS unique_organic_email_opens\n",
    "--       ,COUNT(DISTINCT CASE WHEN (eventName = 'Email Opens') AND (machineOpen is null) THEN bid else null end)          AS unique_organic_email_opens_adobe_id\n",
    "       ,COUNT(DISTINCT CASE WHEN (eventName = 'Email Opens') AND (machineOpen is not null) THEN identity else null end) AS unique_machine_opens\n",
    "--       ,COUNT(DISTINCT CASE WHEN (eventName = 'Email Opens') AND (machineOpen is not null) THEN bid else null end)      AS unique_machine_opens_adobe_id\n",
    "       ,COUNT(DISTINCT CASE WHEN (eventName = 'Email Sends') THEN identity else null end)                               AS unique_sends\n",
    "--       ,COUNT(DISTINCT CASE WHEN (eventName = 'Email Sends') THEN bid else null end)                                    AS unique_sends_adobe_id\n",
    "       ,COUNT(DISTINCT CASE WHEN (eventName = 'Email Deliveries') THEN identity else null end)                          AS unique_deliveries\n",
    "--       ,COUNT(DISTINCT CASE WHEN (eventName = 'Email Deliveries') THEN bid else null end)                               AS unique_deliveries_adobe_id\n",
    "       ,COUNT(DISTINCT CASE WHEN (eventName = 'Email Bounces') THEN identity else null end)                             AS unique_bounces\n",
    "--       ,COUNT(DISTINCT CASE WHEN (eventName = 'Email Bounces') THEN bid else null end)                                  AS unique_bounces_adobe_id\n",
    "FROM `nbcu-sdp-prod-003.sdp_persistent_views.BrazeMarketingView` a\n",
    "--LEFT JOIN `nbcu-ds-sandbox-a-001.SLi_sandbox.Braze_Id_Adobe_Id_Map` b ON b.bid = a.identity\n",
    "WHERE lower(campaignName) NOT LIKE 'transactional%' \n",
    "AND DATE_TRUNC(DATE(eventTimestamp),MONTH) BETWEEN '2021-08-28' and '2023-02-28'-- Exclude transactional emails\n",
    "GROUP BY  1"
   ]
  },
  {
   "cell_type": "code",
   "execution_count": 47,
   "metadata": {
    "vscode": {
     "languageId": "sql"
    }
   },
   "outputs": [
    {
     "data": {
      "application/vnd.jupyter.widget-view+json": {
       "model_id": "f53497e0e9bc468fad6e5d7a821163fa",
       "version_major": 2,
       "version_minor": 0
      },
      "text/plain": [
       "Query is running:   0%|          |"
      ]
     },
     "metadata": {},
     "output_type": "display_data"
    },
    {
     "data": {
      "application/vnd.jupyter.widget-view+json": {
       "model_id": "fc6c9fc258f34f76a556b41bb7d48f25",
       "version_major": 2,
       "version_minor": 0
      },
      "text/plain": [
       "Downloading:   0%|          |"
      ]
     },
     "metadata": {},
     "output_type": "display_data"
    }
   ],
   "source": [
    "%%bigquery df --project nbcu-ds-sandbox-a-001\n",
    "select * from `nbcu-ds-sandbox-a-001.SLi_sandbox.Email_Activity_Summary` order by month"
   ]
  },
  {
   "cell_type": "code",
   "execution_count": 81,
   "metadata": {},
   "outputs": [
    {
     "data": {
      "application/vnd.plotly.v1+json": {
       "config": {
        "plotlyServerURL": "https://plot.ly"
       },
       "data": [
        {
         "hovertemplate": "variable=unique_organic_email_opens<br>Month=%{x}<br>Email Opens=%{y}<extra></extra>",
         "legendgroup": "Organic",
         "line": {
          "color": "#636efa",
          "dash": "solid"
         },
         "marker": {
          "symbol": "circle"
         },
         "mode": "lines",
         "name": "Organic",
         "orientation": "v",
         "showlegend": true,
         "type": "scatter",
         "x": [
          "2020-07-01",
          "2020-08-01",
          "2020-09-01",
          "2020-10-01",
          "2020-11-01",
          "2020-12-01",
          "2021-01-01",
          "2021-02-01",
          "2021-03-01",
          "2021-04-01",
          "2021-05-01",
          "2021-06-01",
          "2021-07-01",
          "2021-08-01",
          "2021-09-01",
          "2021-10-01",
          "2021-11-01",
          "2021-12-01",
          "2022-01-01",
          "2022-02-01",
          "2022-03-01",
          "2022-04-01",
          "2022-05-01",
          "2022-06-01",
          "2022-07-01",
          "2022-08-01",
          "2022-09-01",
          "2022-10-01",
          "2022-11-01",
          "2022-12-01",
          "2023-01-01",
          "2023-02-01",
          "2023-03-01"
         ],
         "xaxis": "x",
         "y": [
          0,
          0,
          3008622,
          6416221,
          7196354,
          7716933,
          9096252,
          7197234,
          9873612,
          9815643,
          9884299,
          10270374,
          14412843,
          15986809,
          15988693,
          19821872,
          19295957,
          23328334,
          25880847,
          26554065,
          13858317,
          13616413,
          11640686,
          14820942,
          16304072,
          16050927,
          13805961,
          12308769,
          11356061,
          10949288,
          11173785,
          11344637,
          7684517
         ],
         "yaxis": "y"
        },
        {
         "hovertemplate": "variable=unique_machine_opens<br>Month=%{x}<br>Email Opens=%{y}<extra></extra>",
         "legendgroup": "Machine",
         "line": {
          "color": "#EF553B",
          "dash": "solid"
         },
         "marker": {
          "symbol": "circle"
         },
         "mode": "lines",
         "name": "Machine",
         "orientation": "v",
         "showlegend": true,
         "type": "scatter",
         "x": [
          "2020-07-01",
          "2020-08-01",
          "2020-09-01",
          "2020-10-01",
          "2020-11-01",
          "2020-12-01",
          "2021-01-01",
          "2021-02-01",
          "2021-03-01",
          "2021-04-01",
          "2021-05-01",
          "2021-06-01",
          "2021-07-01",
          "2021-08-01",
          "2021-09-01",
          "2021-10-01",
          "2021-11-01",
          "2021-12-01",
          "2022-01-01",
          "2022-02-01",
          "2022-03-01",
          "2022-04-01",
          "2022-05-01",
          "2022-06-01",
          "2022-07-01",
          "2022-08-01",
          "2022-09-01",
          "2022-10-01",
          "2022-11-01",
          "2022-12-01",
          "2023-01-01",
          "2023-02-01",
          "2023-03-01"
         ],
         "xaxis": "x",
         "y": [
          0,
          0,
          0,
          0,
          0,
          0,
          0,
          0,
          0,
          0,
          0,
          0,
          0,
          0,
          0,
          0,
          0,
          0,
          0,
          744722,
          18872772,
          19289097,
          20138754,
          20373481,
          21286934,
          21526049,
          20627346,
          22464217,
          23006833,
          23704111,
          24128812,
          24094823,
          22817995
         ],
         "yaxis": "y"
        }
       ],
       "layout": {
        "legend": {
         "title": {
          "text": "Category"
         },
         "tracegroupgap": 0
        },
        "margin": {
         "t": 60
        },
        "template": {
         "data": {
          "bar": [
           {
            "error_x": {
             "color": "#2a3f5f"
            },
            "error_y": {
             "color": "#2a3f5f"
            },
            "marker": {
             "line": {
              "color": "#E5ECF6",
              "width": 0.5
             },
             "pattern": {
              "fillmode": "overlay",
              "size": 10,
              "solidity": 0.2
             }
            },
            "type": "bar"
           }
          ],
          "barpolar": [
           {
            "marker": {
             "line": {
              "color": "#E5ECF6",
              "width": 0.5
             },
             "pattern": {
              "fillmode": "overlay",
              "size": 10,
              "solidity": 0.2
             }
            },
            "type": "barpolar"
           }
          ],
          "carpet": [
           {
            "aaxis": {
             "endlinecolor": "#2a3f5f",
             "gridcolor": "white",
             "linecolor": "white",
             "minorgridcolor": "white",
             "startlinecolor": "#2a3f5f"
            },
            "baxis": {
             "endlinecolor": "#2a3f5f",
             "gridcolor": "white",
             "linecolor": "white",
             "minorgridcolor": "white",
             "startlinecolor": "#2a3f5f"
            },
            "type": "carpet"
           }
          ],
          "choropleth": [
           {
            "colorbar": {
             "outlinewidth": 0,
             "ticks": ""
            },
            "type": "choropleth"
           }
          ],
          "contour": [
           {
            "colorbar": {
             "outlinewidth": 0,
             "ticks": ""
            },
            "colorscale": [
             [
              0,
              "#0d0887"
             ],
             [
              0.1111111111111111,
              "#46039f"
             ],
             [
              0.2222222222222222,
              "#7201a8"
             ],
             [
              0.3333333333333333,
              "#9c179e"
             ],
             [
              0.4444444444444444,
              "#bd3786"
             ],
             [
              0.5555555555555556,
              "#d8576b"
             ],
             [
              0.6666666666666666,
              "#ed7953"
             ],
             [
              0.7777777777777778,
              "#fb9f3a"
             ],
             [
              0.8888888888888888,
              "#fdca26"
             ],
             [
              1,
              "#f0f921"
             ]
            ],
            "type": "contour"
           }
          ],
          "contourcarpet": [
           {
            "colorbar": {
             "outlinewidth": 0,
             "ticks": ""
            },
            "type": "contourcarpet"
           }
          ],
          "heatmap": [
           {
            "colorbar": {
             "outlinewidth": 0,
             "ticks": ""
            },
            "colorscale": [
             [
              0,
              "#0d0887"
             ],
             [
              0.1111111111111111,
              "#46039f"
             ],
             [
              0.2222222222222222,
              "#7201a8"
             ],
             [
              0.3333333333333333,
              "#9c179e"
             ],
             [
              0.4444444444444444,
              "#bd3786"
             ],
             [
              0.5555555555555556,
              "#d8576b"
             ],
             [
              0.6666666666666666,
              "#ed7953"
             ],
             [
              0.7777777777777778,
              "#fb9f3a"
             ],
             [
              0.8888888888888888,
              "#fdca26"
             ],
             [
              1,
              "#f0f921"
             ]
            ],
            "type": "heatmap"
           }
          ],
          "heatmapgl": [
           {
            "colorbar": {
             "outlinewidth": 0,
             "ticks": ""
            },
            "colorscale": [
             [
              0,
              "#0d0887"
             ],
             [
              0.1111111111111111,
              "#46039f"
             ],
             [
              0.2222222222222222,
              "#7201a8"
             ],
             [
              0.3333333333333333,
              "#9c179e"
             ],
             [
              0.4444444444444444,
              "#bd3786"
             ],
             [
              0.5555555555555556,
              "#d8576b"
             ],
             [
              0.6666666666666666,
              "#ed7953"
             ],
             [
              0.7777777777777778,
              "#fb9f3a"
             ],
             [
              0.8888888888888888,
              "#fdca26"
             ],
             [
              1,
              "#f0f921"
             ]
            ],
            "type": "heatmapgl"
           }
          ],
          "histogram": [
           {
            "marker": {
             "pattern": {
              "fillmode": "overlay",
              "size": 10,
              "solidity": 0.2
             }
            },
            "type": "histogram"
           }
          ],
          "histogram2d": [
           {
            "colorbar": {
             "outlinewidth": 0,
             "ticks": ""
            },
            "colorscale": [
             [
              0,
              "#0d0887"
             ],
             [
              0.1111111111111111,
              "#46039f"
             ],
             [
              0.2222222222222222,
              "#7201a8"
             ],
             [
              0.3333333333333333,
              "#9c179e"
             ],
             [
              0.4444444444444444,
              "#bd3786"
             ],
             [
              0.5555555555555556,
              "#d8576b"
             ],
             [
              0.6666666666666666,
              "#ed7953"
             ],
             [
              0.7777777777777778,
              "#fb9f3a"
             ],
             [
              0.8888888888888888,
              "#fdca26"
             ],
             [
              1,
              "#f0f921"
             ]
            ],
            "type": "histogram2d"
           }
          ],
          "histogram2dcontour": [
           {
            "colorbar": {
             "outlinewidth": 0,
             "ticks": ""
            },
            "colorscale": [
             [
              0,
              "#0d0887"
             ],
             [
              0.1111111111111111,
              "#46039f"
             ],
             [
              0.2222222222222222,
              "#7201a8"
             ],
             [
              0.3333333333333333,
              "#9c179e"
             ],
             [
              0.4444444444444444,
              "#bd3786"
             ],
             [
              0.5555555555555556,
              "#d8576b"
             ],
             [
              0.6666666666666666,
              "#ed7953"
             ],
             [
              0.7777777777777778,
              "#fb9f3a"
             ],
             [
              0.8888888888888888,
              "#fdca26"
             ],
             [
              1,
              "#f0f921"
             ]
            ],
            "type": "histogram2dcontour"
           }
          ],
          "mesh3d": [
           {
            "colorbar": {
             "outlinewidth": 0,
             "ticks": ""
            },
            "type": "mesh3d"
           }
          ],
          "parcoords": [
           {
            "line": {
             "colorbar": {
              "outlinewidth": 0,
              "ticks": ""
             }
            },
            "type": "parcoords"
           }
          ],
          "pie": [
           {
            "automargin": true,
            "type": "pie"
           }
          ],
          "scatter": [
           {
            "fillpattern": {
             "fillmode": "overlay",
             "size": 10,
             "solidity": 0.2
            },
            "type": "scatter"
           }
          ],
          "scatter3d": [
           {
            "line": {
             "colorbar": {
              "outlinewidth": 0,
              "ticks": ""
             }
            },
            "marker": {
             "colorbar": {
              "outlinewidth": 0,
              "ticks": ""
             }
            },
            "type": "scatter3d"
           }
          ],
          "scattercarpet": [
           {
            "marker": {
             "colorbar": {
              "outlinewidth": 0,
              "ticks": ""
             }
            },
            "type": "scattercarpet"
           }
          ],
          "scattergeo": [
           {
            "marker": {
             "colorbar": {
              "outlinewidth": 0,
              "ticks": ""
             }
            },
            "type": "scattergeo"
           }
          ],
          "scattergl": [
           {
            "marker": {
             "colorbar": {
              "outlinewidth": 0,
              "ticks": ""
             }
            },
            "type": "scattergl"
           }
          ],
          "scattermapbox": [
           {
            "marker": {
             "colorbar": {
              "outlinewidth": 0,
              "ticks": ""
             }
            },
            "type": "scattermapbox"
           }
          ],
          "scatterpolar": [
           {
            "marker": {
             "colorbar": {
              "outlinewidth": 0,
              "ticks": ""
             }
            },
            "type": "scatterpolar"
           }
          ],
          "scatterpolargl": [
           {
            "marker": {
             "colorbar": {
              "outlinewidth": 0,
              "ticks": ""
             }
            },
            "type": "scatterpolargl"
           }
          ],
          "scatterternary": [
           {
            "marker": {
             "colorbar": {
              "outlinewidth": 0,
              "ticks": ""
             }
            },
            "type": "scatterternary"
           }
          ],
          "surface": [
           {
            "colorbar": {
             "outlinewidth": 0,
             "ticks": ""
            },
            "colorscale": [
             [
              0,
              "#0d0887"
             ],
             [
              0.1111111111111111,
              "#46039f"
             ],
             [
              0.2222222222222222,
              "#7201a8"
             ],
             [
              0.3333333333333333,
              "#9c179e"
             ],
             [
              0.4444444444444444,
              "#bd3786"
             ],
             [
              0.5555555555555556,
              "#d8576b"
             ],
             [
              0.6666666666666666,
              "#ed7953"
             ],
             [
              0.7777777777777778,
              "#fb9f3a"
             ],
             [
              0.8888888888888888,
              "#fdca26"
             ],
             [
              1,
              "#f0f921"
             ]
            ],
            "type": "surface"
           }
          ],
          "table": [
           {
            "cells": {
             "fill": {
              "color": "#EBF0F8"
             },
             "line": {
              "color": "white"
             }
            },
            "header": {
             "fill": {
              "color": "#C8D4E3"
             },
             "line": {
              "color": "white"
             }
            },
            "type": "table"
           }
          ]
         },
         "layout": {
          "annotationdefaults": {
           "arrowcolor": "#2a3f5f",
           "arrowhead": 0,
           "arrowwidth": 1
          },
          "autotypenumbers": "strict",
          "coloraxis": {
           "colorbar": {
            "outlinewidth": 0,
            "ticks": ""
           }
          },
          "colorscale": {
           "diverging": [
            [
             0,
             "#8e0152"
            ],
            [
             0.1,
             "#c51b7d"
            ],
            [
             0.2,
             "#de77ae"
            ],
            [
             0.3,
             "#f1b6da"
            ],
            [
             0.4,
             "#fde0ef"
            ],
            [
             0.5,
             "#f7f7f7"
            ],
            [
             0.6,
             "#e6f5d0"
            ],
            [
             0.7,
             "#b8e186"
            ],
            [
             0.8,
             "#7fbc41"
            ],
            [
             0.9,
             "#4d9221"
            ],
            [
             1,
             "#276419"
            ]
           ],
           "sequential": [
            [
             0,
             "#0d0887"
            ],
            [
             0.1111111111111111,
             "#46039f"
            ],
            [
             0.2222222222222222,
             "#7201a8"
            ],
            [
             0.3333333333333333,
             "#9c179e"
            ],
            [
             0.4444444444444444,
             "#bd3786"
            ],
            [
             0.5555555555555556,
             "#d8576b"
            ],
            [
             0.6666666666666666,
             "#ed7953"
            ],
            [
             0.7777777777777778,
             "#fb9f3a"
            ],
            [
             0.8888888888888888,
             "#fdca26"
            ],
            [
             1,
             "#f0f921"
            ]
           ],
           "sequentialminus": [
            [
             0,
             "#0d0887"
            ],
            [
             0.1111111111111111,
             "#46039f"
            ],
            [
             0.2222222222222222,
             "#7201a8"
            ],
            [
             0.3333333333333333,
             "#9c179e"
            ],
            [
             0.4444444444444444,
             "#bd3786"
            ],
            [
             0.5555555555555556,
             "#d8576b"
            ],
            [
             0.6666666666666666,
             "#ed7953"
            ],
            [
             0.7777777777777778,
             "#fb9f3a"
            ],
            [
             0.8888888888888888,
             "#fdca26"
            ],
            [
             1,
             "#f0f921"
            ]
           ]
          },
          "colorway": [
           "#636efa",
           "#EF553B",
           "#00cc96",
           "#ab63fa",
           "#FFA15A",
           "#19d3f3",
           "#FF6692",
           "#B6E880",
           "#FF97FF",
           "#FECB52"
          ],
          "font": {
           "color": "#2a3f5f"
          },
          "geo": {
           "bgcolor": "white",
           "lakecolor": "white",
           "landcolor": "#E5ECF6",
           "showlakes": true,
           "showland": true,
           "subunitcolor": "white"
          },
          "hoverlabel": {
           "align": "left"
          },
          "hovermode": "closest",
          "mapbox": {
           "style": "light"
          },
          "paper_bgcolor": "white",
          "plot_bgcolor": "#E5ECF6",
          "polar": {
           "angularaxis": {
            "gridcolor": "white",
            "linecolor": "white",
            "ticks": ""
           },
           "bgcolor": "#E5ECF6",
           "radialaxis": {
            "gridcolor": "white",
            "linecolor": "white",
            "ticks": ""
           }
          },
          "scene": {
           "xaxis": {
            "backgroundcolor": "#E5ECF6",
            "gridcolor": "white",
            "gridwidth": 2,
            "linecolor": "white",
            "showbackground": true,
            "ticks": "",
            "zerolinecolor": "white"
           },
           "yaxis": {
            "backgroundcolor": "#E5ECF6",
            "gridcolor": "white",
            "gridwidth": 2,
            "linecolor": "white",
            "showbackground": true,
            "ticks": "",
            "zerolinecolor": "white"
           },
           "zaxis": {
            "backgroundcolor": "#E5ECF6",
            "gridcolor": "white",
            "gridwidth": 2,
            "linecolor": "white",
            "showbackground": true,
            "ticks": "",
            "zerolinecolor": "white"
           }
          },
          "shapedefaults": {
           "line": {
            "color": "#2a3f5f"
           }
          },
          "ternary": {
           "aaxis": {
            "gridcolor": "white",
            "linecolor": "white",
            "ticks": ""
           },
           "baxis": {
            "gridcolor": "white",
            "linecolor": "white",
            "ticks": ""
           },
           "bgcolor": "#E5ECF6",
           "caxis": {
            "gridcolor": "white",
            "linecolor": "white",
            "ticks": ""
           }
          },
          "title": {
           "x": 0.05
          },
          "xaxis": {
           "automargin": true,
           "gridcolor": "white",
           "linecolor": "white",
           "ticks": "",
           "title": {
            "standoff": 15
           },
           "zerolinecolor": "white",
           "zerolinewidth": 2
          },
          "yaxis": {
           "automargin": true,
           "gridcolor": "white",
           "linecolor": "white",
           "ticks": "",
           "title": {
            "standoff": 15
           },
           "zerolinecolor": "white",
           "zerolinewidth": 2
          }
         }
        },
        "xaxis": {
         "anchor": "y",
         "domain": [
          0,
          1
         ],
         "title": {
          "text": "Month"
         }
        },
        "yaxis": {
         "anchor": "x",
         "domain": [
          0,
          1
         ],
         "title": {
          "text": "Email Opens"
         }
        }
       }
      }
     },
     "metadata": {},
     "output_type": "display_data"
    }
   ],
   "source": [
    "import matplotlib.pyplot as plt\n",
    "import plotly.express as px\n",
    "\n",
    "temp = df[['month', 'unique_organic_email_opens', 'unique_machine_opens']]\n",
    "temp = temp.set_index('month')\n",
    "fig = px.line(temp, labels={\"month\": \"Month\", \"value\": \"Email Opens\"})\n",
    "\n",
    "newnames = {\n",
    "\"unique_organic_email_opens\": \"Organic\",\n",
    "\"unique_machine_opens\": \"Machine\"\n",
    "}\n",
    "fig.update_layout(legend_title=\"Category\")\n",
    "fig.for_each_trace(lambda t: t.update(name = newnames[t.name], legendgroup = newnames[t.name]))"
   ]
  },
  {
   "cell_type": "code",
   "execution_count": 87,
   "metadata": {
    "vscode": {
     "languageId": "sql"
    }
   },
   "outputs": [
    {
     "data": {
      "application/vnd.jupyter.widget-view+json": {
       "model_id": "09ebd634e0a6444da97e5c725849149f",
       "version_major": 2,
       "version_minor": 0
      },
      "text/plain": [
       "Query is running:   0%|          |"
      ]
     },
     "metadata": {},
     "output_type": "display_data"
    },
    {
     "data": {
      "application/vnd.jupyter.widget-view+json": {
       "model_id": "870f0ce659b444fa98db9f455cfdce9c",
       "version_major": 2,
       "version_minor": 0
      },
      "text/plain": [
       "Downloading:   0%|          |"
      ]
     },
     "metadata": {},
     "output_type": "display_data"
    }
   ],
   "source": [
    "%%bigquery df2 --project nbcu-ds-sandbox-a-001\n",
    "\n",
    "SELECT  DATE(eventTimestamp)                                                                      AS month\n",
    "       ,COUNT(DISTINCT CASE WHEN (eventName = 'Email Opens') THEN identity else null end)                               AS unique_all_email_opens\n",
    "       ,COUNT(DISTINCT CASE WHEN (eventName = 'Email Opens') AND (machineOpen is null) THEN identity else null end)     AS unique_organic_email_opens\n",
    "       ,COUNT(DISTINCT CASE WHEN (eventName = 'Email Opens') AND (machineOpen is not null) THEN identity else null end) AS unique_machine_opens\n",
    "FROM `nbcu-sdp-prod-003.sdp_persistent_views.BrazeMarketingView` a\n",
    "WHERE DATE(eventTimestamp) BETWEEN '2022-02-01' and '2022-03-31'\n",
    "AND lower(campaignName) NOT LIKE 'transactional%' -- Exclude transactional emails\n",
    "GROUP BY  1\n",
    "order by 1"
   ]
  },
  {
   "cell_type": "code",
   "execution_count": 88,
   "metadata": {
    "vscode": {
     "languageId": "sql"
    }
   },
   "outputs": [
    {
     "data": {
      "application/vnd.plotly.v1+json": {
       "config": {
        "plotlyServerURL": "https://plot.ly"
       },
       "data": [
        {
         "hovertemplate": "variable=unique_organic_email_opens<br>month=%{x}<br>value=%{y}<extra></extra>",
         "legendgroup": "unique_organic_email_opens",
         "line": {
          "color": "#636efa",
          "dash": "solid"
         },
         "marker": {
          "symbol": "circle"
         },
         "mode": "lines",
         "name": "unique_organic_email_opens",
         "orientation": "v",
         "showlegend": true,
         "type": "scatter",
         "x": [
          "2022-02-01",
          "2022-02-02",
          "2022-02-03",
          "2022-02-04",
          "2022-02-05",
          "2022-02-06",
          "2022-02-07",
          "2022-02-08",
          "2022-02-09",
          "2022-02-10",
          "2022-02-11",
          "2022-02-12",
          "2022-02-13",
          "2022-02-14",
          "2022-02-15",
          "2022-02-16",
          "2022-02-17",
          "2022-02-18",
          "2022-02-19",
          "2022-02-20",
          "2022-02-21",
          "2022-02-22",
          "2022-02-23",
          "2022-02-24",
          "2022-02-25",
          "2022-02-26",
          "2022-02-27",
          "2022-02-28",
          "2022-03-01",
          "2022-03-02",
          "2022-03-03",
          "2022-03-04",
          "2022-03-05",
          "2022-03-06",
          "2022-03-07",
          "2022-03-08",
          "2022-03-09",
          "2022-03-10",
          "2022-03-11",
          "2022-03-12",
          "2022-03-13",
          "2022-03-14",
          "2022-03-15",
          "2022-03-16",
          "2022-03-17",
          "2022-03-18",
          "2022-03-19",
          "2022-03-20",
          "2022-03-21",
          "2022-03-22",
          "2022-03-23",
          "2022-03-24",
          "2022-03-25",
          "2022-03-26",
          "2022-03-27",
          "2022-03-28",
          "2022-03-29",
          "2022-03-30",
          "2022-03-31"
         ],
         "xaxis": "x",
         "y": [
          5372768,
          9544579,
          6670337,
          8050260,
          6034757,
          7526919,
          7328231,
          8786990,
          1366260,
          681460,
          14820696,
          7012121,
          11859607,
          9414411,
          8761352,
          1519798,
          6132963,
          8424508,
          2709687,
          1667698,
          7474125,
          8722887,
          6816924,
          8561981,
          8000338,
          8063563,
          1667402,
          224308,
          2067841,
          1577677,
          2421460,
          823958,
          1093416,
          1143898,
          1869104,
          1369964,
          323048,
          1778469,
          887638,
          918034,
          1053736,
          1391825,
          1424518,
          1921605,
          952817,
          2452016,
          1243147,
          378620,
          2261557,
          1377313,
          340152,
          524623,
          367867,
          1634539,
          895901,
          2372920,
          1105608,
          298111,
          1865657
         ],
         "yaxis": "y"
        },
        {
         "hovertemplate": "variable=unique_all_email_opens<br>month=%{x}<br>value=%{y}<extra></extra>",
         "legendgroup": "unique_all_email_opens",
         "line": {
          "color": "#EF553B",
          "dash": "solid"
         },
         "marker": {
          "symbol": "circle"
         },
         "mode": "lines",
         "name": "unique_all_email_opens",
         "orientation": "v",
         "showlegend": true,
         "type": "scatter",
         "x": [
          "2022-02-01",
          "2022-02-02",
          "2022-02-03",
          "2022-02-04",
          "2022-02-05",
          "2022-02-06",
          "2022-02-07",
          "2022-02-08",
          "2022-02-09",
          "2022-02-10",
          "2022-02-11",
          "2022-02-12",
          "2022-02-13",
          "2022-02-14",
          "2022-02-15",
          "2022-02-16",
          "2022-02-17",
          "2022-02-18",
          "2022-02-19",
          "2022-02-20",
          "2022-02-21",
          "2022-02-22",
          "2022-02-23",
          "2022-02-24",
          "2022-02-25",
          "2022-02-26",
          "2022-02-27",
          "2022-02-28",
          "2022-03-01",
          "2022-03-02",
          "2022-03-03",
          "2022-03-04",
          "2022-03-05",
          "2022-03-06",
          "2022-03-07",
          "2022-03-08",
          "2022-03-09",
          "2022-03-10",
          "2022-03-11",
          "2022-03-12",
          "2022-03-13",
          "2022-03-14",
          "2022-03-15",
          "2022-03-16",
          "2022-03-17",
          "2022-03-18",
          "2022-03-19",
          "2022-03-20",
          "2022-03-21",
          "2022-03-22",
          "2022-03-23",
          "2022-03-24",
          "2022-03-25",
          "2022-03-26",
          "2022-03-27",
          "2022-03-28",
          "2022-03-29",
          "2022-03-30",
          "2022-03-31"
         ],
         "xaxis": "x",
         "y": [
          5372768,
          9544579,
          6670337,
          8050260,
          6034757,
          7526919,
          7328231,
          8786990,
          1366260,
          681460,
          14820696,
          7012121,
          11859607,
          9414411,
          8761352,
          1519798,
          6132963,
          8424508,
          2709687,
          1667698,
          7474125,
          8722887,
          6816924,
          8561981,
          8000338,
          8063563,
          1670129,
          963317,
          6593996,
          9849391,
          9097756,
          7784222,
          4570521,
          8230884,
          6750808,
          10460824,
          1731304,
          6932942,
          8255920,
          3908516,
          7483609,
          5360748,
          9929056,
          7859851,
          8250959,
          6395755,
          7113607,
          1479761,
          6761149,
          9448478,
          1527900,
          1984298,
          2035347,
          7282358,
          7855527,
          8724202,
          8317002,
          1467906,
          7907763
         ],
         "yaxis": "y"
        },
        {
         "hovertemplate": "variable=unique_machine_opens<br>month=%{x}<br>value=%{y}<extra></extra>",
         "legendgroup": "unique_machine_opens",
         "line": {
          "color": "#00cc96",
          "dash": "solid"
         },
         "marker": {
          "symbol": "circle"
         },
         "mode": "lines",
         "name": "unique_machine_opens",
         "orientation": "v",
         "showlegend": true,
         "type": "scatter",
         "x": [
          "2022-02-01",
          "2022-02-02",
          "2022-02-03",
          "2022-02-04",
          "2022-02-05",
          "2022-02-06",
          "2022-02-07",
          "2022-02-08",
          "2022-02-09",
          "2022-02-10",
          "2022-02-11",
          "2022-02-12",
          "2022-02-13",
          "2022-02-14",
          "2022-02-15",
          "2022-02-16",
          "2022-02-17",
          "2022-02-18",
          "2022-02-19",
          "2022-02-20",
          "2022-02-21",
          "2022-02-22",
          "2022-02-23",
          "2022-02-24",
          "2022-02-25",
          "2022-02-26",
          "2022-02-27",
          "2022-02-28",
          "2022-03-01",
          "2022-03-02",
          "2022-03-03",
          "2022-03-04",
          "2022-03-05",
          "2022-03-06",
          "2022-03-07",
          "2022-03-08",
          "2022-03-09",
          "2022-03-10",
          "2022-03-11",
          "2022-03-12",
          "2022-03-13",
          "2022-03-14",
          "2022-03-15",
          "2022-03-16",
          "2022-03-17",
          "2022-03-18",
          "2022-03-19",
          "2022-03-20",
          "2022-03-21",
          "2022-03-22",
          "2022-03-23",
          "2022-03-24",
          "2022-03-25",
          "2022-03-26",
          "2022-03-27",
          "2022-03-28",
          "2022-03-29",
          "2022-03-30",
          "2022-03-31"
         ],
         "xaxis": "x",
         "y": [
          0,
          0,
          0,
          0,
          0,
          0,
          0,
          0,
          0,
          0,
          0,
          0,
          0,
          0,
          0,
          0,
          0,
          0,
          0,
          0,
          0,
          0,
          0,
          0,
          0,
          0,
          4518,
          741759,
          4638723,
          8393503,
          6857344,
          7019585,
          3533370,
          7180047,
          4992480,
          9213051,
          1415582,
          5270303,
          7438357,
          3034987,
          6518266,
          4048858,
          8633810,
          6089094,
          7378988,
          4094813,
          5960954,
          1107708,
          4630192,
          8190502,
          1193301,
          1485708,
          1686381,
          5758582,
          7029279,
          6522116,
          7290155,
          1174643,
          6176771
         ],
         "yaxis": "y"
        }
       ],
       "layout": {
        "legend": {
         "title": {
          "text": "variable"
         },
         "tracegroupgap": 0
        },
        "margin": {
         "t": 60
        },
        "template": {
         "data": {
          "bar": [
           {
            "error_x": {
             "color": "#2a3f5f"
            },
            "error_y": {
             "color": "#2a3f5f"
            },
            "marker": {
             "line": {
              "color": "#E5ECF6",
              "width": 0.5
             },
             "pattern": {
              "fillmode": "overlay",
              "size": 10,
              "solidity": 0.2
             }
            },
            "type": "bar"
           }
          ],
          "barpolar": [
           {
            "marker": {
             "line": {
              "color": "#E5ECF6",
              "width": 0.5
             },
             "pattern": {
              "fillmode": "overlay",
              "size": 10,
              "solidity": 0.2
             }
            },
            "type": "barpolar"
           }
          ],
          "carpet": [
           {
            "aaxis": {
             "endlinecolor": "#2a3f5f",
             "gridcolor": "white",
             "linecolor": "white",
             "minorgridcolor": "white",
             "startlinecolor": "#2a3f5f"
            },
            "baxis": {
             "endlinecolor": "#2a3f5f",
             "gridcolor": "white",
             "linecolor": "white",
             "minorgridcolor": "white",
             "startlinecolor": "#2a3f5f"
            },
            "type": "carpet"
           }
          ],
          "choropleth": [
           {
            "colorbar": {
             "outlinewidth": 0,
             "ticks": ""
            },
            "type": "choropleth"
           }
          ],
          "contour": [
           {
            "colorbar": {
             "outlinewidth": 0,
             "ticks": ""
            },
            "colorscale": [
             [
              0,
              "#0d0887"
             ],
             [
              0.1111111111111111,
              "#46039f"
             ],
             [
              0.2222222222222222,
              "#7201a8"
             ],
             [
              0.3333333333333333,
              "#9c179e"
             ],
             [
              0.4444444444444444,
              "#bd3786"
             ],
             [
              0.5555555555555556,
              "#d8576b"
             ],
             [
              0.6666666666666666,
              "#ed7953"
             ],
             [
              0.7777777777777778,
              "#fb9f3a"
             ],
             [
              0.8888888888888888,
              "#fdca26"
             ],
             [
              1,
              "#f0f921"
             ]
            ],
            "type": "contour"
           }
          ],
          "contourcarpet": [
           {
            "colorbar": {
             "outlinewidth": 0,
             "ticks": ""
            },
            "type": "contourcarpet"
           }
          ],
          "heatmap": [
           {
            "colorbar": {
             "outlinewidth": 0,
             "ticks": ""
            },
            "colorscale": [
             [
              0,
              "#0d0887"
             ],
             [
              0.1111111111111111,
              "#46039f"
             ],
             [
              0.2222222222222222,
              "#7201a8"
             ],
             [
              0.3333333333333333,
              "#9c179e"
             ],
             [
              0.4444444444444444,
              "#bd3786"
             ],
             [
              0.5555555555555556,
              "#d8576b"
             ],
             [
              0.6666666666666666,
              "#ed7953"
             ],
             [
              0.7777777777777778,
              "#fb9f3a"
             ],
             [
              0.8888888888888888,
              "#fdca26"
             ],
             [
              1,
              "#f0f921"
             ]
            ],
            "type": "heatmap"
           }
          ],
          "heatmapgl": [
           {
            "colorbar": {
             "outlinewidth": 0,
             "ticks": ""
            },
            "colorscale": [
             [
              0,
              "#0d0887"
             ],
             [
              0.1111111111111111,
              "#46039f"
             ],
             [
              0.2222222222222222,
              "#7201a8"
             ],
             [
              0.3333333333333333,
              "#9c179e"
             ],
             [
              0.4444444444444444,
              "#bd3786"
             ],
             [
              0.5555555555555556,
              "#d8576b"
             ],
             [
              0.6666666666666666,
              "#ed7953"
             ],
             [
              0.7777777777777778,
              "#fb9f3a"
             ],
             [
              0.8888888888888888,
              "#fdca26"
             ],
             [
              1,
              "#f0f921"
             ]
            ],
            "type": "heatmapgl"
           }
          ],
          "histogram": [
           {
            "marker": {
             "pattern": {
              "fillmode": "overlay",
              "size": 10,
              "solidity": 0.2
             }
            },
            "type": "histogram"
           }
          ],
          "histogram2d": [
           {
            "colorbar": {
             "outlinewidth": 0,
             "ticks": ""
            },
            "colorscale": [
             [
              0,
              "#0d0887"
             ],
             [
              0.1111111111111111,
              "#46039f"
             ],
             [
              0.2222222222222222,
              "#7201a8"
             ],
             [
              0.3333333333333333,
              "#9c179e"
             ],
             [
              0.4444444444444444,
              "#bd3786"
             ],
             [
              0.5555555555555556,
              "#d8576b"
             ],
             [
              0.6666666666666666,
              "#ed7953"
             ],
             [
              0.7777777777777778,
              "#fb9f3a"
             ],
             [
              0.8888888888888888,
              "#fdca26"
             ],
             [
              1,
              "#f0f921"
             ]
            ],
            "type": "histogram2d"
           }
          ],
          "histogram2dcontour": [
           {
            "colorbar": {
             "outlinewidth": 0,
             "ticks": ""
            },
            "colorscale": [
             [
              0,
              "#0d0887"
             ],
             [
              0.1111111111111111,
              "#46039f"
             ],
             [
              0.2222222222222222,
              "#7201a8"
             ],
             [
              0.3333333333333333,
              "#9c179e"
             ],
             [
              0.4444444444444444,
              "#bd3786"
             ],
             [
              0.5555555555555556,
              "#d8576b"
             ],
             [
              0.6666666666666666,
              "#ed7953"
             ],
             [
              0.7777777777777778,
              "#fb9f3a"
             ],
             [
              0.8888888888888888,
              "#fdca26"
             ],
             [
              1,
              "#f0f921"
             ]
            ],
            "type": "histogram2dcontour"
           }
          ],
          "mesh3d": [
           {
            "colorbar": {
             "outlinewidth": 0,
             "ticks": ""
            },
            "type": "mesh3d"
           }
          ],
          "parcoords": [
           {
            "line": {
             "colorbar": {
              "outlinewidth": 0,
              "ticks": ""
             }
            },
            "type": "parcoords"
           }
          ],
          "pie": [
           {
            "automargin": true,
            "type": "pie"
           }
          ],
          "scatter": [
           {
            "fillpattern": {
             "fillmode": "overlay",
             "size": 10,
             "solidity": 0.2
            },
            "type": "scatter"
           }
          ],
          "scatter3d": [
           {
            "line": {
             "colorbar": {
              "outlinewidth": 0,
              "ticks": ""
             }
            },
            "marker": {
             "colorbar": {
              "outlinewidth": 0,
              "ticks": ""
             }
            },
            "type": "scatter3d"
           }
          ],
          "scattercarpet": [
           {
            "marker": {
             "colorbar": {
              "outlinewidth": 0,
              "ticks": ""
             }
            },
            "type": "scattercarpet"
           }
          ],
          "scattergeo": [
           {
            "marker": {
             "colorbar": {
              "outlinewidth": 0,
              "ticks": ""
             }
            },
            "type": "scattergeo"
           }
          ],
          "scattergl": [
           {
            "marker": {
             "colorbar": {
              "outlinewidth": 0,
              "ticks": ""
             }
            },
            "type": "scattergl"
           }
          ],
          "scattermapbox": [
           {
            "marker": {
             "colorbar": {
              "outlinewidth": 0,
              "ticks": ""
             }
            },
            "type": "scattermapbox"
           }
          ],
          "scatterpolar": [
           {
            "marker": {
             "colorbar": {
              "outlinewidth": 0,
              "ticks": ""
             }
            },
            "type": "scatterpolar"
           }
          ],
          "scatterpolargl": [
           {
            "marker": {
             "colorbar": {
              "outlinewidth": 0,
              "ticks": ""
             }
            },
            "type": "scatterpolargl"
           }
          ],
          "scatterternary": [
           {
            "marker": {
             "colorbar": {
              "outlinewidth": 0,
              "ticks": ""
             }
            },
            "type": "scatterternary"
           }
          ],
          "surface": [
           {
            "colorbar": {
             "outlinewidth": 0,
             "ticks": ""
            },
            "colorscale": [
             [
              0,
              "#0d0887"
             ],
             [
              0.1111111111111111,
              "#46039f"
             ],
             [
              0.2222222222222222,
              "#7201a8"
             ],
             [
              0.3333333333333333,
              "#9c179e"
             ],
             [
              0.4444444444444444,
              "#bd3786"
             ],
             [
              0.5555555555555556,
              "#d8576b"
             ],
             [
              0.6666666666666666,
              "#ed7953"
             ],
             [
              0.7777777777777778,
              "#fb9f3a"
             ],
             [
              0.8888888888888888,
              "#fdca26"
             ],
             [
              1,
              "#f0f921"
             ]
            ],
            "type": "surface"
           }
          ],
          "table": [
           {
            "cells": {
             "fill": {
              "color": "#EBF0F8"
             },
             "line": {
              "color": "white"
             }
            },
            "header": {
             "fill": {
              "color": "#C8D4E3"
             },
             "line": {
              "color": "white"
             }
            },
            "type": "table"
           }
          ]
         },
         "layout": {
          "annotationdefaults": {
           "arrowcolor": "#2a3f5f",
           "arrowhead": 0,
           "arrowwidth": 1
          },
          "autotypenumbers": "strict",
          "coloraxis": {
           "colorbar": {
            "outlinewidth": 0,
            "ticks": ""
           }
          },
          "colorscale": {
           "diverging": [
            [
             0,
             "#8e0152"
            ],
            [
             0.1,
             "#c51b7d"
            ],
            [
             0.2,
             "#de77ae"
            ],
            [
             0.3,
             "#f1b6da"
            ],
            [
             0.4,
             "#fde0ef"
            ],
            [
             0.5,
             "#f7f7f7"
            ],
            [
             0.6,
             "#e6f5d0"
            ],
            [
             0.7,
             "#b8e186"
            ],
            [
             0.8,
             "#7fbc41"
            ],
            [
             0.9,
             "#4d9221"
            ],
            [
             1,
             "#276419"
            ]
           ],
           "sequential": [
            [
             0,
             "#0d0887"
            ],
            [
             0.1111111111111111,
             "#46039f"
            ],
            [
             0.2222222222222222,
             "#7201a8"
            ],
            [
             0.3333333333333333,
             "#9c179e"
            ],
            [
             0.4444444444444444,
             "#bd3786"
            ],
            [
             0.5555555555555556,
             "#d8576b"
            ],
            [
             0.6666666666666666,
             "#ed7953"
            ],
            [
             0.7777777777777778,
             "#fb9f3a"
            ],
            [
             0.8888888888888888,
             "#fdca26"
            ],
            [
             1,
             "#f0f921"
            ]
           ],
           "sequentialminus": [
            [
             0,
             "#0d0887"
            ],
            [
             0.1111111111111111,
             "#46039f"
            ],
            [
             0.2222222222222222,
             "#7201a8"
            ],
            [
             0.3333333333333333,
             "#9c179e"
            ],
            [
             0.4444444444444444,
             "#bd3786"
            ],
            [
             0.5555555555555556,
             "#d8576b"
            ],
            [
             0.6666666666666666,
             "#ed7953"
            ],
            [
             0.7777777777777778,
             "#fb9f3a"
            ],
            [
             0.8888888888888888,
             "#fdca26"
            ],
            [
             1,
             "#f0f921"
            ]
           ]
          },
          "colorway": [
           "#636efa",
           "#EF553B",
           "#00cc96",
           "#ab63fa",
           "#FFA15A",
           "#19d3f3",
           "#FF6692",
           "#B6E880",
           "#FF97FF",
           "#FECB52"
          ],
          "font": {
           "color": "#2a3f5f"
          },
          "geo": {
           "bgcolor": "white",
           "lakecolor": "white",
           "landcolor": "#E5ECF6",
           "showlakes": true,
           "showland": true,
           "subunitcolor": "white"
          },
          "hoverlabel": {
           "align": "left"
          },
          "hovermode": "closest",
          "mapbox": {
           "style": "light"
          },
          "paper_bgcolor": "white",
          "plot_bgcolor": "#E5ECF6",
          "polar": {
           "angularaxis": {
            "gridcolor": "white",
            "linecolor": "white",
            "ticks": ""
           },
           "bgcolor": "#E5ECF6",
           "radialaxis": {
            "gridcolor": "white",
            "linecolor": "white",
            "ticks": ""
           }
          },
          "scene": {
           "xaxis": {
            "backgroundcolor": "#E5ECF6",
            "gridcolor": "white",
            "gridwidth": 2,
            "linecolor": "white",
            "showbackground": true,
            "ticks": "",
            "zerolinecolor": "white"
           },
           "yaxis": {
            "backgroundcolor": "#E5ECF6",
            "gridcolor": "white",
            "gridwidth": 2,
            "linecolor": "white",
            "showbackground": true,
            "ticks": "",
            "zerolinecolor": "white"
           },
           "zaxis": {
            "backgroundcolor": "#E5ECF6",
            "gridcolor": "white",
            "gridwidth": 2,
            "linecolor": "white",
            "showbackground": true,
            "ticks": "",
            "zerolinecolor": "white"
           }
          },
          "shapedefaults": {
           "line": {
            "color": "#2a3f5f"
           }
          },
          "ternary": {
           "aaxis": {
            "gridcolor": "white",
            "linecolor": "white",
            "ticks": ""
           },
           "baxis": {
            "gridcolor": "white",
            "linecolor": "white",
            "ticks": ""
           },
           "bgcolor": "#E5ECF6",
           "caxis": {
            "gridcolor": "white",
            "linecolor": "white",
            "ticks": ""
           }
          },
          "title": {
           "x": 0.05
          },
          "xaxis": {
           "automargin": true,
           "gridcolor": "white",
           "linecolor": "white",
           "ticks": "",
           "title": {
            "standoff": 15
           },
           "zerolinecolor": "white",
           "zerolinewidth": 2
          },
          "yaxis": {
           "automargin": true,
           "gridcolor": "white",
           "linecolor": "white",
           "ticks": "",
           "title": {
            "standoff": 15
           },
           "zerolinecolor": "white",
           "zerolinewidth": 2
          }
         }
        },
        "xaxis": {
         "anchor": "y",
         "domain": [
          0,
          1
         ],
         "title": {
          "text": "month"
         }
        },
        "yaxis": {
         "anchor": "x",
         "domain": [
          0,
          1
         ],
         "title": {
          "text": "value"
         }
        }
       }
      }
     },
     "metadata": {},
     "output_type": "display_data"
    }
   ],
   "source": [
    "import matplotlib.pyplot as plt\n",
    "import plotly.express as px\n",
    "\n",
    "temp = df2[['month', 'unique_organic_email_opens', 'unique_all_email_opens', 'unique_machine_opens']]\n",
    "temp = temp.set_index('month')\n",
    "px.line(temp)"
   ]
  },
  {
   "attachments": {},
   "cell_type": "markdown",
   "metadata": {},
   "source": [
    "Most opens are machine opens\n",
    "\n",
    "Open category distinguishing feature began at EoM Feb 22"
   ]
  },
  {
   "attachments": {},
   "cell_type": "markdown",
   "metadata": {},
   "source": [
    "# Pipeline Duplication Detection"
   ]
  },
  {
   "attachments": {},
   "cell_type": "markdown",
   "metadata": {},
   "source": [
    "## Holdout Seperation"
   ]
  },
  {
   "cell_type": "code",
   "execution_count": 82,
   "metadata": {
    "vscode": {
     "languageId": "sql"
    }
   },
   "outputs": [],
   "source": [
    "params = {\n",
    "    'report_start_date': '2023-01-01',\n",
    "    'report_end_date': '2023-01-31'\n",
    "}"
   ]
  },
  {
   "cell_type": "code",
   "execution_count": 85,
   "metadata": {
    "vscode": {
     "languageId": "sql"
    }
   },
   "outputs": [
    {
     "data": {
      "application/vnd.jupyter.widget-view+json": {
       "model_id": "e4932877d5be4667b0269e2fda7f932b",
       "version_major": 2,
       "version_minor": 0
      },
      "text/plain": [
       "Query is running:   0%|          |"
      ]
     },
     "metadata": {},
     "output_type": "display_data"
    },
    {
     "data": {
      "application/vnd.jupyter.widget-view+json": {
       "model_id": "4d43f1d8665f45238d7aa1a48aa840b3",
       "version_major": 2,
       "version_minor": 0
      },
      "text/plain": [
       "Downloading:   0%|          |"
      ]
     },
     "metadata": {},
     "output_type": "display_data"
    },
    {
     "data": {
      "text/html": [
       "<div>\n",
       "<style scoped>\n",
       "    .dataframe tbody tr th:only-of-type {\n",
       "        vertical-align: middle;\n",
       "    }\n",
       "\n",
       "    .dataframe tbody tr th {\n",
       "        vertical-align: top;\n",
       "    }\n",
       "\n",
       "    .dataframe thead th {\n",
       "        text-align: right;\n",
       "    }\n",
       "</style>\n",
       "<table border=\"1\" class=\"dataframe\">\n",
       "  <thead>\n",
       "    <tr style=\"text-align: right;\">\n",
       "      <th></th>\n",
       "      <th>f0_</th>\n",
       "    </tr>\n",
       "  </thead>\n",
       "  <tbody>\n",
       "    <tr>\n",
       "      <th>0</th>\n",
       "      <td>3381634</td>\n",
       "    </tr>\n",
       "  </tbody>\n",
       "</table>\n",
       "</div>"
      ],
      "text/plain": [
       "       f0_\n",
       "0  3381634"
      ]
     },
     "execution_count": 85,
     "metadata": {},
     "output_type": "execute_result"
    }
   ],
   "source": [
    "%%bigquery --project nbcu-ds-sandbox-a-001 --params $params\n",
    "WITH \n",
    "Holdout AS (\n",
    "    select distinct holdout.adobe_tracking_id\n",
    "    from (\n",
    "    select distinct TrackingId as adobe_tracking_id -- distinct Hold_Out_Type_Current --cohort, count(distinct TrackingId)\n",
    "    from `nbcu-ds-prod-001.PeacockDataMartMarketingGold.HOLDOUT_GROUP` \n",
    "    where cohort = 'January2023' \n",
    "    and Hold_Out_Type_Current = 'Owned Email Holdout'\n",
    "    -- Exclude those who are assigned to Email Holdout but actually received emails\n",
    "    ) holdout\n",
    "    left join \n",
    "    (SELECT DISTINCT adobe_tracking_id\n",
    "        FROM  `nbcu-ds-prod-001.PeacockDataMartSilver.SILVER_MPARTICLE_BRAZE` \n",
    "        WHERE event_name = 'Email Deliveries' \n",
    "        AND event_date >= @report_start_date\n",
    "        AND event_date <= @report_end_date \n",
    "    ) delivered-- Email Delivered ever \n",
    "    on holdout.adobe_tracking_id = delivered.adobe_tracking_id\n",
    "    and delivered.adobe_tracking_id is null \n",
    ")\n",
    "select count(*) from Holdout"
   ]
  },
  {
   "cell_type": "code",
   "execution_count": 86,
   "metadata": {
    "vscode": {
     "languageId": "sql"
    }
   },
   "outputs": [
    {
     "data": {
      "application/vnd.jupyter.widget-view+json": {
       "model_id": "a19f263a2056444595637f571a59a28c",
       "version_major": 2,
       "version_minor": 0
      },
      "text/plain": [
       "Query is running:   0%|          |"
      ]
     },
     "metadata": {},
     "output_type": "display_data"
    },
    {
     "data": {
      "application/vnd.jupyter.widget-view+json": {
       "model_id": "3146a06a71d14c7cb1da7c7249185490",
       "version_major": 2,
       "version_minor": 0
      },
      "text/plain": [
       "Downloading:   0%|          |"
      ]
     },
     "metadata": {},
     "output_type": "display_data"
    },
    {
     "data": {
      "text/html": [
       "<div>\n",
       "<style scoped>\n",
       "    .dataframe tbody tr th:only-of-type {\n",
       "        vertical-align: middle;\n",
       "    }\n",
       "\n",
       "    .dataframe tbody tr th {\n",
       "        vertical-align: top;\n",
       "    }\n",
       "\n",
       "    .dataframe thead th {\n",
       "        text-align: right;\n",
       "    }\n",
       "</style>\n",
       "<table border=\"1\" class=\"dataframe\">\n",
       "  <thead>\n",
       "    <tr style=\"text-align: right;\">\n",
       "      <th></th>\n",
       "      <th>f0_</th>\n",
       "    </tr>\n",
       "  </thead>\n",
       "  <tbody>\n",
       "    <tr>\n",
       "      <th>0</th>\n",
       "      <td>3339832</td>\n",
       "    </tr>\n",
       "  </tbody>\n",
       "</table>\n",
       "</div>"
      ],
      "text/plain": [
       "       f0_\n",
       "0  3339832"
      ]
     },
     "execution_count": 86,
     "metadata": {},
     "output_type": "execute_result"
    }
   ],
   "source": [
    "%%bigquery --project nbcu-ds-sandbox-a-001 --params $params\n",
    "WITH\n",
    "Holdout AS (\n",
    "    select distinct holdout.adobe_tracking_id\n",
    "    from (\n",
    "    select distinct TrackingId as adobe_tracking_id -- distinct Hold_Out_Type_Current --cohort, count(distinct TrackingId)\n",
    "    from `nbcu-ds-prod-001.PeacockDataMartMarketingGold.HOLDOUT_GROUP` \n",
    "    where cohort = 'January2023' \n",
    "    and Hold_Out_Type_Current = 'Owned Email Holdout'\n",
    "    -- Exclude those who are assigned to Email Holdout but actually received emails\n",
    "    ) holdout\n",
    "    left join \n",
    "    (SELECT DISTINCT adobe_tracking_id\n",
    "        FROM  `nbcu-ds-prod-001.PeacockDataMartSilver.SILVER_MPARTICLE_BRAZE` \n",
    "        WHERE event_name = 'Email Deliveries' \n",
    "        AND event_date >= @report_start_date\n",
    "        AND event_date <= @report_end_date \n",
    "    ) delivered-- Email Delivered ever \n",
    "    on holdout.adobe_tracking_id = delivered.adobe_tracking_id\n",
    "    where delivered.adobe_tracking_id is null \n",
    ")\n",
    "select count(*) from Holdout"
   ]
  },
  {
   "attachments": {},
   "cell_type": "markdown",
   "metadata": {},
   "source": [
    "## Joining Duplication Detection"
   ]
  },
  {
   "cell_type": "code",
   "execution_count": 90,
   "metadata": {
    "vscode": {
     "languageId": "sql"
    }
   },
   "outputs": [
    {
     "data": {
      "application/vnd.jupyter.widget-view+json": {
       "model_id": "48868eea8118437d9aad86e22118057f",
       "version_major": 2,
       "version_minor": 0
      },
      "text/plain": [
       "Query is running:   0%|          |"
      ]
     },
     "metadata": {},
     "output_type": "display_data"
    },
    {
     "data": {
      "text/html": [
       "<div>\n",
       "<style scoped>\n",
       "    .dataframe tbody tr th:only-of-type {\n",
       "        vertical-align: middle;\n",
       "    }\n",
       "\n",
       "    .dataframe tbody tr th {\n",
       "        vertical-align: top;\n",
       "    }\n",
       "\n",
       "    .dataframe thead th {\n",
       "        text-align: right;\n",
       "    }\n",
       "</style>\n",
       "<table border=\"1\" class=\"dataframe\">\n",
       "  <thead>\n",
       "    <tr style=\"text-align: right;\">\n",
       "      <th></th>\n",
       "    </tr>\n",
       "  </thead>\n",
       "  <tbody>\n",
       "  </tbody>\n",
       "</table>\n",
       "</div>"
      ],
      "text/plain": [
       "Empty DataFrame\n",
       "Columns: []\n",
       "Index: []"
      ]
     },
     "execution_count": 90,
     "metadata": {},
     "output_type": "execute_result"
    }
   ],
   "source": [
    "%%bigquery --project nbcu-ds-sandbox-a-001 --params $params\n",
    "\n",
    "CREATE OR REPLACE TABLE `nbcu-ds-sandbox-a-001.SLi_sandbox.Save_Denom` AS \n",
    "    SELECT distinct adobe_tracking_id, date_of_last_view -- no need for max (days_since_last_view), can be saved multiple times, dedup later\n",
    "    FROM `nbcu-ds-prod-001.PeacockDataMartSilver.SILVER_PRIMARY_DEVICES` \n",
    "    WHERE report_date BETWEEN @report_start_date AND @report_end_date \n",
    "    AND days_since_last_view BETWEEN 15 AND 29 -- this guarantees we are only getting people who have at least past the 'lapsing' phase in the time period."
   ]
  },
  {
   "cell_type": "code",
   "execution_count": 152,
   "metadata": {
    "vscode": {
     "languageId": "sql"
    }
   },
   "outputs": [
    {
     "data": {
      "application/vnd.jupyter.widget-view+json": {
       "model_id": "6a5e9526535e4e30b8a2adfdcdb91188",
       "version_major": 2,
       "version_minor": 0
      },
      "text/plain": [
       "Query is running:   0%|          |"
      ]
     },
     "metadata": {},
     "output_type": "display_data"
    },
    {
     "data": {
      "application/vnd.jupyter.widget-view+json": {
       "model_id": "d3a63d2224fe4c1c9cacfe52d1e79d1b",
       "version_major": 2,
       "version_minor": 0
      },
      "text/plain": [
       "Downloading:   0%|          |"
      ]
     },
     "metadata": {},
     "output_type": "display_data"
    },
    {
     "data": {
      "text/html": [
       "<div>\n",
       "<style scoped>\n",
       "    .dataframe tbody tr th:only-of-type {\n",
       "        vertical-align: middle;\n",
       "    }\n",
       "\n",
       "    .dataframe tbody tr th {\n",
       "        vertical-align: top;\n",
       "    }\n",
       "\n",
       "    .dataframe thead th {\n",
       "        text-align: right;\n",
       "    }\n",
       "</style>\n",
       "<table border=\"1\" class=\"dataframe\">\n",
       "  <thead>\n",
       "    <tr style=\"text-align: right;\">\n",
       "      <th></th>\n",
       "      <th>f0_</th>\n",
       "      <th>f1_</th>\n",
       "    </tr>\n",
       "  </thead>\n",
       "  <tbody>\n",
       "    <tr>\n",
       "      <th>0</th>\n",
       "      <td>23859900</td>\n",
       "      <td>22192155</td>\n",
       "    </tr>\n",
       "  </tbody>\n",
       "</table>\n",
       "</div>"
      ],
      "text/plain": [
       "        f0_       f1_\n",
       "0  23859900  22192155"
      ]
     },
     "execution_count": 152,
     "metadata": {},
     "output_type": "execute_result"
    }
   ],
   "source": [
    "%%bigquery --project nbcu-ds-sandbox-a-001\n",
    "select count(adobe_tracking_id), count(distinct adobe_tracking_id) from `nbcu-ds-sandbox-a-001.SLi_sandbox.Save_Denom`"
   ]
  },
  {
   "cell_type": "code",
   "execution_count": 93,
   "metadata": {
    "vscode": {
     "languageId": "sql"
    }
   },
   "outputs": [
    {
     "data": {
      "application/vnd.jupyter.widget-view+json": {
       "model_id": "e18f21fcc21f46a7a5a2fd0ef6ddba22",
       "version_major": 2,
       "version_minor": 0
      },
      "text/plain": [
       "Query is running:   0%|          |"
      ]
     },
     "metadata": {},
     "output_type": "display_data"
    },
    {
     "data": {
      "text/html": [
       "<div>\n",
       "<style scoped>\n",
       "    .dataframe tbody tr th:only-of-type {\n",
       "        vertical-align: middle;\n",
       "    }\n",
       "\n",
       "    .dataframe tbody tr th {\n",
       "        vertical-align: top;\n",
       "    }\n",
       "\n",
       "    .dataframe thead th {\n",
       "        text-align: right;\n",
       "    }\n",
       "</style>\n",
       "<table border=\"1\" class=\"dataframe\">\n",
       "  <thead>\n",
       "    <tr style=\"text-align: right;\">\n",
       "      <th></th>\n",
       "    </tr>\n",
       "  </thead>\n",
       "  <tbody>\n",
       "  </tbody>\n",
       "</table>\n",
       "</div>"
      ],
      "text/plain": [
       "Empty DataFrame\n",
       "Columns: []\n",
       "Index: []"
      ]
     },
     "execution_count": 93,
     "metadata": {},
     "output_type": "execute_result"
    }
   ],
   "source": [
    "%%bigquery --project nbcu-ds-sandbox-a-001 --params $params\n",
    "\n",
    "CREATE OR REPLACE TABLE `nbcu-ds-sandbox-a-001.SLi_sandbox.Save_Num` AS \n",
    "    SELECT distinct a.adobe_tracking_id      \n",
    "    FROM `nbcu-ds-sandbox-a-001.SLi_sandbox.Save_Denom` a\n",
    "    INNER JOIN `nbcu-ds-prod-001.PeacockDataMartSilver.SILVER_VIDEO` VIDEO \n",
    "        ON a.adobe_tracking_id = VIDEO.adobe_tracking_id \n",
    "        AND adobe_date BETWEEN @report_start_date AND @report_end_date\n",
    "        AND VIDEO.adobe_date BETWEEN DATE_ADD(date_of_last_view, INTERVAL 15 day) AND DATE_ADD(date_of_last_view, INTERVAL 29 day)"
   ]
  },
  {
   "cell_type": "code",
   "execution_count": 153,
   "metadata": {
    "vscode": {
     "languageId": "sql"
    }
   },
   "outputs": [
    {
     "data": {
      "application/vnd.jupyter.widget-view+json": {
       "model_id": "c428f7a8fa3b4138955b4f473bb63d59",
       "version_major": 2,
       "version_minor": 0
      },
      "text/plain": [
       "Query is running:   0%|          |"
      ]
     },
     "metadata": {},
     "output_type": "display_data"
    },
    {
     "data": {
      "application/vnd.jupyter.widget-view+json": {
       "model_id": "0d38e132ed064819850245d461fcaf05",
       "version_major": 2,
       "version_minor": 0
      },
      "text/plain": [
       "Downloading:   0%|          |"
      ]
     },
     "metadata": {},
     "output_type": "display_data"
    },
    {
     "data": {
      "text/html": [
       "<div>\n",
       "<style scoped>\n",
       "    .dataframe tbody tr th:only-of-type {\n",
       "        vertical-align: middle;\n",
       "    }\n",
       "\n",
       "    .dataframe tbody tr th {\n",
       "        vertical-align: top;\n",
       "    }\n",
       "\n",
       "    .dataframe thead th {\n",
       "        text-align: right;\n",
       "    }\n",
       "</style>\n",
       "<table border=\"1\" class=\"dataframe\">\n",
       "  <thead>\n",
       "    <tr style=\"text-align: right;\">\n",
       "      <th></th>\n",
       "      <th>f0_</th>\n",
       "      <th>f1_</th>\n",
       "    </tr>\n",
       "  </thead>\n",
       "  <tbody>\n",
       "    <tr>\n",
       "      <th>0</th>\n",
       "      <td>6731988</td>\n",
       "      <td>6731988</td>\n",
       "    </tr>\n",
       "  </tbody>\n",
       "</table>\n",
       "</div>"
      ],
      "text/plain": [
       "       f0_      f1_\n",
       "0  6731988  6731988"
      ]
     },
     "execution_count": 153,
     "metadata": {},
     "output_type": "execute_result"
    }
   ],
   "source": [
    "%%bigquery --project nbcu-ds-sandbox-a-001\n",
    "select count(adobe_tracking_id), count(distinct adobe_tracking_id) from `nbcu-ds-sandbox-a-001.SLi_sandbox.Save_Num`"
   ]
  },
  {
   "cell_type": "code",
   "execution_count": 94,
   "metadata": {
    "vscode": {
     "languageId": "sql"
    }
   },
   "outputs": [
    {
     "data": {
      "application/vnd.jupyter.widget-view+json": {
       "model_id": "7b0ab5b1ff6a408ea4614cb77a1f60c2",
       "version_major": 2,
       "version_minor": 0
      },
      "text/plain": [
       "Query is running:   0%|          |"
      ]
     },
     "metadata": {},
     "output_type": "display_data"
    },
    {
     "data": {
      "text/html": [
       "<div>\n",
       "<style scoped>\n",
       "    .dataframe tbody tr th:only-of-type {\n",
       "        vertical-align: middle;\n",
       "    }\n",
       "\n",
       "    .dataframe tbody tr th {\n",
       "        vertical-align: top;\n",
       "    }\n",
       "\n",
       "    .dataframe thead th {\n",
       "        text-align: right;\n",
       "    }\n",
       "</style>\n",
       "<table border=\"1\" class=\"dataframe\">\n",
       "  <thead>\n",
       "    <tr style=\"text-align: right;\">\n",
       "      <th></th>\n",
       "    </tr>\n",
       "  </thead>\n",
       "  <tbody>\n",
       "  </tbody>\n",
       "</table>\n",
       "</div>"
      ],
      "text/plain": [
       "Empty DataFrame\n",
       "Columns: []\n",
       "Index: []"
      ]
     },
     "execution_count": 94,
     "metadata": {},
     "output_type": "execute_result"
    }
   ],
   "source": [
    "%%bigquery --project nbcu-ds-sandbox-a-001 --params $params\n",
    "\n",
    "CREATE OR REPLACE TABLE `nbcu-ds-sandbox-a-001.SLi_sandbox.Winback_Denom` AS \n",
    "    SELECT distinct adobe_tracking_id, date_of_last_view\n",
    "    FROM `nbcu-ds-prod-001.PeacockDataMartSilver.SILVER_PRIMARY_DEVICES` \n",
    "    WHERE report_date BETWEEN @report_start_date AND @report_end_date \n",
    "    AND days_since_last_view BETWEEN 30 AND 90-- this guarantees we are only getting people who have at least past the 'lapsing' phase in the time period."
   ]
  },
  {
   "cell_type": "code",
   "execution_count": 154,
   "metadata": {
    "vscode": {
     "languageId": "sql"
    }
   },
   "outputs": [
    {
     "data": {
      "application/vnd.jupyter.widget-view+json": {
       "model_id": "20f0592c8dc1437b9a13a319ce84f0cf",
       "version_major": 2,
       "version_minor": 0
      },
      "text/plain": [
       "Query is running:   0%|          |"
      ]
     },
     "metadata": {},
     "output_type": "display_data"
    },
    {
     "data": {
      "application/vnd.jupyter.widget-view+json": {
       "model_id": "6d27bc740a0f468eb91823e11877ef0c",
       "version_major": 2,
       "version_minor": 0
      },
      "text/plain": [
       "Downloading:   0%|          |"
      ]
     },
     "metadata": {},
     "output_type": "display_data"
    },
    {
     "data": {
      "text/html": [
       "<div>\n",
       "<style scoped>\n",
       "    .dataframe tbody tr th:only-of-type {\n",
       "        vertical-align: middle;\n",
       "    }\n",
       "\n",
       "    .dataframe tbody tr th {\n",
       "        vertical-align: top;\n",
       "    }\n",
       "\n",
       "    .dataframe thead th {\n",
       "        text-align: right;\n",
       "    }\n",
       "</style>\n",
       "<table border=\"1\" class=\"dataframe\">\n",
       "  <thead>\n",
       "    <tr style=\"text-align: right;\">\n",
       "      <th></th>\n",
       "      <th>f0_</th>\n",
       "      <th>f1_</th>\n",
       "    </tr>\n",
       "  </thead>\n",
       "  <tbody>\n",
       "    <tr>\n",
       "      <th>0</th>\n",
       "      <td>23751639</td>\n",
       "      <td>23751639</td>\n",
       "    </tr>\n",
       "  </tbody>\n",
       "</table>\n",
       "</div>"
      ],
      "text/plain": [
       "        f0_       f1_\n",
       "0  23751639  23751639"
      ]
     },
     "execution_count": 154,
     "metadata": {},
     "output_type": "execute_result"
    }
   ],
   "source": [
    "%%bigquery --project nbcu-ds-sandbox-a-001\n",
    "select count(adobe_tracking_id), count(distinct adobe_tracking_id) from `nbcu-ds-sandbox-a-001.SLi_sandbox.Winback_Denom`"
   ]
  },
  {
   "cell_type": "code",
   "execution_count": 95,
   "metadata": {
    "vscode": {
     "languageId": "sql"
    }
   },
   "outputs": [
    {
     "data": {
      "application/vnd.jupyter.widget-view+json": {
       "model_id": "f4666e162bef407ab0bfdefd6639fde4",
       "version_major": 2,
       "version_minor": 0
      },
      "text/plain": [
       "Query is running:   0%|          |"
      ]
     },
     "metadata": {},
     "output_type": "display_data"
    },
    {
     "data": {
      "text/html": [
       "<div>\n",
       "<style scoped>\n",
       "    .dataframe tbody tr th:only-of-type {\n",
       "        vertical-align: middle;\n",
       "    }\n",
       "\n",
       "    .dataframe tbody tr th {\n",
       "        vertical-align: top;\n",
       "    }\n",
       "\n",
       "    .dataframe thead th {\n",
       "        text-align: right;\n",
       "    }\n",
       "</style>\n",
       "<table border=\"1\" class=\"dataframe\">\n",
       "  <thead>\n",
       "    <tr style=\"text-align: right;\">\n",
       "      <th></th>\n",
       "    </tr>\n",
       "  </thead>\n",
       "  <tbody>\n",
       "  </tbody>\n",
       "</table>\n",
       "</div>"
      ],
      "text/plain": [
       "Empty DataFrame\n",
       "Columns: []\n",
       "Index: []"
      ]
     },
     "execution_count": 95,
     "metadata": {},
     "output_type": "execute_result"
    }
   ],
   "source": [
    "%%bigquery --project nbcu-ds-sandbox-a-001 --params $params\n",
    "\n",
    "CREATE OR REPLACE TABLE `nbcu-ds-sandbox-a-001.SLi_sandbox.Winback_Num` AS \n",
    "    SELECT distinct a.adobe_tracking_id\n",
    "    FROM `nbcu-ds-sandbox-a-001.SLi_sandbox.Winback_Denom` a\n",
    "    INNER JOIN `nbcu-ds-prod-001.PeacockDataMartSilver.SILVER_VIDEO`  VIDEO \n",
    "        ON a.adobe_tracking_id = VIDEO.adobe_tracking_id \n",
    "        AND VIDEO.adobe_date BETWEEN @report_start_date AND @report_end_date \n",
    "        AND VIDEO.adobe_date BETWEEN DATE_ADD(date_of_last_view, INTERVAL 30 day) \n",
    "            AND DATE_ADD(date_of_last_view, INTERVAL 90 DAY)"
   ]
  },
  {
   "cell_type": "code",
   "execution_count": 155,
   "metadata": {
    "vscode": {
     "languageId": "sql"
    }
   },
   "outputs": [
    {
     "data": {
      "application/vnd.jupyter.widget-view+json": {
       "model_id": "001ed4883fc244a98b426544516aa502",
       "version_major": 2,
       "version_minor": 0
      },
      "text/plain": [
       "Query is running:   0%|          |"
      ]
     },
     "metadata": {},
     "output_type": "display_data"
    },
    {
     "data": {
      "application/vnd.jupyter.widget-view+json": {
       "model_id": "939e9aa68aa14fed83edcaa5e0a01ca1",
       "version_major": 2,
       "version_minor": 0
      },
      "text/plain": [
       "Downloading:   0%|          |"
      ]
     },
     "metadata": {},
     "output_type": "display_data"
    },
    {
     "data": {
      "text/html": [
       "<div>\n",
       "<style scoped>\n",
       "    .dataframe tbody tr th:only-of-type {\n",
       "        vertical-align: middle;\n",
       "    }\n",
       "\n",
       "    .dataframe tbody tr th {\n",
       "        vertical-align: top;\n",
       "    }\n",
       "\n",
       "    .dataframe thead th {\n",
       "        text-align: right;\n",
       "    }\n",
       "</style>\n",
       "<table border=\"1\" class=\"dataframe\">\n",
       "  <thead>\n",
       "    <tr style=\"text-align: right;\">\n",
       "      <th></th>\n",
       "      <th>f0_</th>\n",
       "      <th>f1_</th>\n",
       "    </tr>\n",
       "  </thead>\n",
       "  <tbody>\n",
       "    <tr>\n",
       "      <th>0</th>\n",
       "      <td>5663721</td>\n",
       "      <td>5663721</td>\n",
       "    </tr>\n",
       "  </tbody>\n",
       "</table>\n",
       "</div>"
      ],
      "text/plain": [
       "       f0_      f1_\n",
       "0  5663721  5663721"
      ]
     },
     "execution_count": 155,
     "metadata": {},
     "output_type": "execute_result"
    }
   ],
   "source": [
    "%%bigquery --project nbcu-ds-sandbox-a-001\n",
    "select count(adobe_tracking_id), count(distinct adobe_tracking_id) from `nbcu-ds-sandbox-a-001.SLi_sandbox.Winback_Num`"
   ]
  },
  {
   "cell_type": "code",
   "execution_count": 96,
   "metadata": {
    "vscode": {
     "languageId": "sql"
    }
   },
   "outputs": [
    {
     "data": {
      "application/vnd.jupyter.widget-view+json": {
       "model_id": "b7304b9ad049418e982cd6ab74ffc8d6",
       "version_major": 2,
       "version_minor": 0
      },
      "text/plain": [
       "Query is running:   0%|          |"
      ]
     },
     "metadata": {},
     "output_type": "display_data"
    },
    {
     "data": {
      "text/html": [
       "<div>\n",
       "<style scoped>\n",
       "    .dataframe tbody tr th:only-of-type {\n",
       "        vertical-align: middle;\n",
       "    }\n",
       "\n",
       "    .dataframe tbody tr th {\n",
       "        vertical-align: top;\n",
       "    }\n",
       "\n",
       "    .dataframe thead th {\n",
       "        text-align: right;\n",
       "    }\n",
       "</style>\n",
       "<table border=\"1\" class=\"dataframe\">\n",
       "  <thead>\n",
       "    <tr style=\"text-align: right;\">\n",
       "      <th></th>\n",
       "    </tr>\n",
       "  </thead>\n",
       "  <tbody>\n",
       "  </tbody>\n",
       "</table>\n",
       "</div>"
      ],
      "text/plain": [
       "Empty DataFrame\n",
       "Columns: []\n",
       "Index: []"
      ]
     },
     "execution_count": 96,
     "metadata": {},
     "output_type": "execute_result"
    }
   ],
   "source": [
    "%%bigquery --project nbcu-ds-sandbox-a-001 --params $params\n",
    "\n",
    "CREATE OR REPLACE TABLE `nbcu-ds-sandbox-a-001.SLi_sandbox.Upgrade_Denom` AS \n",
    "    SELECT distinct adobe_tracking_id \n",
    "    FROM `nbcu-ds-prod-001.PeacockDataMartSilver.SILVER_USER`  USER\n",
    "    WHERE paying_account_flag = 'NonPaying' \n",
    "    AND USER.report_date BETWEEN @report_start_date and @report_end_date"
   ]
  },
  {
   "cell_type": "code",
   "execution_count": 156,
   "metadata": {
    "vscode": {
     "languageId": "sql"
    }
   },
   "outputs": [
    {
     "data": {
      "application/vnd.jupyter.widget-view+json": {
       "model_id": "473a6900372b4f9a864674408c363c50",
       "version_major": 2,
       "version_minor": 0
      },
      "text/plain": [
       "Query is running:   0%|          |"
      ]
     },
     "metadata": {},
     "output_type": "display_data"
    },
    {
     "data": {
      "application/vnd.jupyter.widget-view+json": {
       "model_id": "cec261dd31c249f4b78e81ea27e847ae",
       "version_major": 2,
       "version_minor": 0
      },
      "text/plain": [
       "Downloading:   0%|          |"
      ]
     },
     "metadata": {},
     "output_type": "display_data"
    },
    {
     "data": {
      "text/html": [
       "<div>\n",
       "<style scoped>\n",
       "    .dataframe tbody tr th:only-of-type {\n",
       "        vertical-align: middle;\n",
       "    }\n",
       "\n",
       "    .dataframe tbody tr th {\n",
       "        vertical-align: top;\n",
       "    }\n",
       "\n",
       "    .dataframe thead th {\n",
       "        text-align: right;\n",
       "    }\n",
       "</style>\n",
       "<table border=\"1\" class=\"dataframe\">\n",
       "  <thead>\n",
       "    <tr style=\"text-align: right;\">\n",
       "      <th></th>\n",
       "      <th>f0_</th>\n",
       "      <th>f1_</th>\n",
       "    </tr>\n",
       "  </thead>\n",
       "  <tbody>\n",
       "    <tr>\n",
       "      <th>0</th>\n",
       "      <td>91746405</td>\n",
       "      <td>91746405</td>\n",
       "    </tr>\n",
       "  </tbody>\n",
       "</table>\n",
       "</div>"
      ],
      "text/plain": [
       "        f0_       f1_\n",
       "0  91746405  91746405"
      ]
     },
     "execution_count": 156,
     "metadata": {},
     "output_type": "execute_result"
    }
   ],
   "source": [
    "%%bigquery --project nbcu-ds-sandbox-a-001\n",
    "select count(adobe_tracking_id), count(distinct adobe_tracking_id) from `nbcu-ds-sandbox-a-001.SLi_sandbox.Upgrade_Denom`"
   ]
  },
  {
   "cell_type": "code",
   "execution_count": 97,
   "metadata": {
    "vscode": {
     "languageId": "sql"
    }
   },
   "outputs": [
    {
     "data": {
      "application/vnd.jupyter.widget-view+json": {
       "model_id": "9e4bde47c438436ebf2fd1c7eebb09d4",
       "version_major": 2,
       "version_minor": 0
      },
      "text/plain": [
       "Query is running:   0%|          |"
      ]
     },
     "metadata": {},
     "output_type": "display_data"
    },
    {
     "data": {
      "text/html": [
       "<div>\n",
       "<style scoped>\n",
       "    .dataframe tbody tr th:only-of-type {\n",
       "        vertical-align: middle;\n",
       "    }\n",
       "\n",
       "    .dataframe tbody tr th {\n",
       "        vertical-align: top;\n",
       "    }\n",
       "\n",
       "    .dataframe thead th {\n",
       "        text-align: right;\n",
       "    }\n",
       "</style>\n",
       "<table border=\"1\" class=\"dataframe\">\n",
       "  <thead>\n",
       "    <tr style=\"text-align: right;\">\n",
       "      <th></th>\n",
       "    </tr>\n",
       "  </thead>\n",
       "  <tbody>\n",
       "  </tbody>\n",
       "</table>\n",
       "</div>"
      ],
      "text/plain": [
       "Empty DataFrame\n",
       "Columns: []\n",
       "Index: []"
      ]
     },
     "execution_count": 97,
     "metadata": {},
     "output_type": "execute_result"
    }
   ],
   "source": [
    "%%bigquery --project nbcu-ds-sandbox-a-001 --params $params\n",
    "\n",
    "CREATE OR REPLACE TABLE `nbcu-ds-sandbox-a-001.SLi_sandbox.Upgrade_Num` AS \n",
    "    SELECT  distinct adobe_tracking_id\n",
    "    FROM\n",
    "        (SELECT  \n",
    "                report_date\n",
    "             , adobe_tracking_id     \n",
    "         FROM  `nbcu-ds-prod-001.PeacockDataMartSilver.SILVER_USER`  USER\n",
    "         WHERE entitlement_change_flag IN ('Upgrade: Free to Premium'\n",
    "                                         , 'Upgrade: Free to Premium+'\n",
    "                                         , 'Upgrade: Premium to Premium+') \n",
    "         AND paying_account_flag = 'Paying'                                            \n",
    "            AND USER.report_date BETWEEN @report_start_date and @report_end_date\n",
    "        ) "
   ]
  },
  {
   "cell_type": "code",
   "execution_count": 157,
   "metadata": {
    "vscode": {
     "languageId": "sql"
    }
   },
   "outputs": [
    {
     "data": {
      "application/vnd.jupyter.widget-view+json": {
       "model_id": "3651f1d1f2434c6abf5048a98556161b",
       "version_major": 2,
       "version_minor": 0
      },
      "text/plain": [
       "Query is running:   0%|          |"
      ]
     },
     "metadata": {},
     "output_type": "display_data"
    },
    {
     "data": {
      "application/vnd.jupyter.widget-view+json": {
       "model_id": "89e469e13c2343e3ae1633a289b250be",
       "version_major": 2,
       "version_minor": 0
      },
      "text/plain": [
       "Downloading:   0%|          |"
      ]
     },
     "metadata": {},
     "output_type": "display_data"
    },
    {
     "data": {
      "text/html": [
       "<div>\n",
       "<style scoped>\n",
       "    .dataframe tbody tr th:only-of-type {\n",
       "        vertical-align: middle;\n",
       "    }\n",
       "\n",
       "    .dataframe tbody tr th {\n",
       "        vertical-align: top;\n",
       "    }\n",
       "\n",
       "    .dataframe thead th {\n",
       "        text-align: right;\n",
       "    }\n",
       "</style>\n",
       "<table border=\"1\" class=\"dataframe\">\n",
       "  <thead>\n",
       "    <tr style=\"text-align: right;\">\n",
       "      <th></th>\n",
       "      <th>f0_</th>\n",
       "      <th>f1_</th>\n",
       "    </tr>\n",
       "  </thead>\n",
       "  <tbody>\n",
       "    <tr>\n",
       "      <th>0</th>\n",
       "      <td>1514290</td>\n",
       "      <td>1514290</td>\n",
       "    </tr>\n",
       "  </tbody>\n",
       "</table>\n",
       "</div>"
      ],
      "text/plain": [
       "       f0_      f1_\n",
       "0  1514290  1514290"
      ]
     },
     "execution_count": 157,
     "metadata": {},
     "output_type": "execute_result"
    }
   ],
   "source": [
    "%%bigquery --project nbcu-ds-sandbox-a-001\n",
    "select count(adobe_tracking_id), count(distinct adobe_tracking_id) from `nbcu-ds-sandbox-a-001.SLi_sandbox.Upgrade_Num`"
   ]
  },
  {
   "cell_type": "code",
   "execution_count": 98,
   "metadata": {
    "vscode": {
     "languageId": "sql"
    }
   },
   "outputs": [
    {
     "data": {
      "application/vnd.jupyter.widget-view+json": {
       "model_id": "852d1e9ad0314ab9b2ec5ab0f8ff6d2a",
       "version_major": 2,
       "version_minor": 0
      },
      "text/plain": [
       "Query is running:   0%|          |"
      ]
     },
     "metadata": {},
     "output_type": "display_data"
    },
    {
     "data": {
      "text/html": [
       "<div>\n",
       "<style scoped>\n",
       "    .dataframe tbody tr th:only-of-type {\n",
       "        vertical-align: middle;\n",
       "    }\n",
       "\n",
       "    .dataframe tbody tr th {\n",
       "        vertical-align: top;\n",
       "    }\n",
       "\n",
       "    .dataframe thead th {\n",
       "        text-align: right;\n",
       "    }\n",
       "</style>\n",
       "<table border=\"1\" class=\"dataframe\">\n",
       "  <thead>\n",
       "    <tr style=\"text-align: right;\">\n",
       "      <th></th>\n",
       "    </tr>\n",
       "  </thead>\n",
       "  <tbody>\n",
       "  </tbody>\n",
       "</table>\n",
       "</div>"
      ],
      "text/plain": [
       "Empty DataFrame\n",
       "Columns: []\n",
       "Index: []"
      ]
     },
     "execution_count": 98,
     "metadata": {},
     "output_type": "execute_result"
    }
   ],
   "source": [
    "%%bigquery --project nbcu-ds-sandbox-a-001 --params $params\n",
    "\n",
    "CREATE OR REPLACE TABLE `nbcu-ds-sandbox-a-001.SLi_sandbox.Cancel_Save_Denom` AS\n",
    "    SELECT distinct adobe_tracking_id\n",
    "    FROM `nbcu-ds-prod-001.PeacockDataMartSilver.SILVER_USER` \n",
    "    WHERE paying_account_flag = 'Paying'\n",
    "    AND auto_renew_flag = 'OFF'\n",
    "    AND report_date BETWEEN @report_start_date and @report_end_date"
   ]
  },
  {
   "cell_type": "code",
   "execution_count": 99,
   "metadata": {
    "vscode": {
     "languageId": "sql"
    }
   },
   "outputs": [
    {
     "data": {
      "application/vnd.jupyter.widget-view+json": {
       "model_id": "305e8ddcd6674cd4a29cc36f2d3c4165",
       "version_major": 2,
       "version_minor": 0
      },
      "text/plain": [
       "Query is running:   0%|          |"
      ]
     },
     "metadata": {},
     "output_type": "display_data"
    },
    {
     "data": {
      "text/html": [
       "<div>\n",
       "<style scoped>\n",
       "    .dataframe tbody tr th:only-of-type {\n",
       "        vertical-align: middle;\n",
       "    }\n",
       "\n",
       "    .dataframe tbody tr th {\n",
       "        vertical-align: top;\n",
       "    }\n",
       "\n",
       "    .dataframe thead th {\n",
       "        text-align: right;\n",
       "    }\n",
       "</style>\n",
       "<table border=\"1\" class=\"dataframe\">\n",
       "  <thead>\n",
       "    <tr style=\"text-align: right;\">\n",
       "      <th></th>\n",
       "    </tr>\n",
       "  </thead>\n",
       "  <tbody>\n",
       "  </tbody>\n",
       "</table>\n",
       "</div>"
      ],
      "text/plain": [
       "Empty DataFrame\n",
       "Columns: []\n",
       "Index: []"
      ]
     },
     "execution_count": 99,
     "metadata": {},
     "output_type": "execute_result"
    }
   ],
   "source": [
    "%%bigquery --project nbcu-ds-sandbox-a-001 --params $params\n",
    "\n",
    "CREATE OR REPLACE TABLE `nbcu-ds-sandbox-a-001.SLi_sandbox.Cancel_Save_Num` AS \n",
    "    SELECT  distinct adobe_tracking_id\n",
    "    FROM\n",
    "    (\n",
    "        SELECT  adobe_tracking_id\n",
    "            ,report_date\n",
    "            ,auto_renew_flag                                                                      AS auto_renew_flag_today\n",
    "            ,LEAD(auto_renew_flag,1) OVER ( partition by adobe_tracking_id ORDER BY report_date ) AS auto_renew_flag_next_day\n",
    "        FROM `nbcu-ds-prod-001.PeacockDataMartSilver.SILVER_USER`\n",
    "        WHERE report_date BETWEEN @report_start_date AND @report_end_date\n",
    "        ORDER BY 1, 2 \n",
    "    )\n",
    "    WHERE auto_renew_flag_today = 'OFF'\n",
    "    AND auto_renew_flag_next_day = 'ON'"
   ]
  },
  {
   "cell_type": "code",
   "execution_count": 102,
   "metadata": {
    "vscode": {
     "languageId": "sql"
    }
   },
   "outputs": [
    {
     "data": {
      "application/vnd.jupyter.widget-view+json": {
       "model_id": "ca5ad2ef18c94598b2a693a2aef3dc33",
       "version_major": 2,
       "version_minor": 0
      },
      "text/plain": [
       "Query is running:   0%|          |"
      ]
     },
     "metadata": {},
     "output_type": "display_data"
    },
    {
     "data": {
      "text/html": [
       "<div>\n",
       "<style scoped>\n",
       "    .dataframe tbody tr th:only-of-type {\n",
       "        vertical-align: middle;\n",
       "    }\n",
       "\n",
       "    .dataframe tbody tr th {\n",
       "        vertical-align: top;\n",
       "    }\n",
       "\n",
       "    .dataframe thead th {\n",
       "        text-align: right;\n",
       "    }\n",
       "</style>\n",
       "<table border=\"1\" class=\"dataframe\">\n",
       "  <thead>\n",
       "    <tr style=\"text-align: right;\">\n",
       "      <th></th>\n",
       "    </tr>\n",
       "  </thead>\n",
       "  <tbody>\n",
       "  </tbody>\n",
       "</table>\n",
       "</div>"
      ],
      "text/plain": [
       "Empty DataFrame\n",
       "Columns: []\n",
       "Index: []"
      ]
     },
     "execution_count": 102,
     "metadata": {},
     "output_type": "execute_result"
    }
   ],
   "source": [
    "%%bigquery --project nbcu-ds-sandbox-a-001 --params $params\n",
    "\n",
    "CREATE OR REPLACE TABLE `nbcu-ds-sandbox-a-001.SLi_sandbox.New_Upgrade_Denom` AS \n",
    "    SELECT  distinct adobe_tracking_id\n",
    "    FROM `nbcu-ds-sandbox-a-001.SLi_sandbox.upgrade_never`\n",
    "    WHERE report_date BETWEEN @report_start_date AND @report_end_date"
   ]
  },
  {
   "cell_type": "code",
   "execution_count": 103,
   "metadata": {
    "vscode": {
     "languageId": "sql"
    }
   },
   "outputs": [
    {
     "data": {
      "application/vnd.jupyter.widget-view+json": {
       "model_id": "e6a23690c4bd4b248c3d6a0916a2162d",
       "version_major": 2,
       "version_minor": 0
      },
      "text/plain": [
       "Query is running:   0%|          |"
      ]
     },
     "metadata": {},
     "output_type": "display_data"
    },
    {
     "data": {
      "text/html": [
       "<div>\n",
       "<style scoped>\n",
       "    .dataframe tbody tr th:only-of-type {\n",
       "        vertical-align: middle;\n",
       "    }\n",
       "\n",
       "    .dataframe tbody tr th {\n",
       "        vertical-align: top;\n",
       "    }\n",
       "\n",
       "    .dataframe thead th {\n",
       "        text-align: right;\n",
       "    }\n",
       "</style>\n",
       "<table border=\"1\" class=\"dataframe\">\n",
       "  <thead>\n",
       "    <tr style=\"text-align: right;\">\n",
       "      <th></th>\n",
       "    </tr>\n",
       "  </thead>\n",
       "  <tbody>\n",
       "  </tbody>\n",
       "</table>\n",
       "</div>"
      ],
      "text/plain": [
       "Empty DataFrame\n",
       "Columns: []\n",
       "Index: []"
      ]
     },
     "execution_count": 103,
     "metadata": {},
     "output_type": "execute_result"
    }
   ],
   "source": [
    "%%bigquery --project nbcu-ds-sandbox-a-001 --params $params\n",
    "\n",
    "CREATE OR REPLACE TABLE `nbcu-ds-sandbox-a-001.SLi_sandbox.New_Upgrade_Num` AS \n",
    "    SELECT  distinct adobe_tracking_id\n",
    "    FROM `nbcu-ds-sandbox-a-001.SLi_sandbox.upgrade_date_rank`\n",
    "    WHERE upgrade_row_number = 1\n",
    "    AND report_date BETWEEN @report_start_date AND @report_end_date"
   ]
  },
  {
   "cell_type": "code",
   "execution_count": 104,
   "metadata": {
    "vscode": {
     "languageId": "sql"
    }
   },
   "outputs": [
    {
     "data": {
      "application/vnd.jupyter.widget-view+json": {
       "model_id": "a6d7a2a94e74433c8fa45fde27374b12",
       "version_major": 2,
       "version_minor": 0
      },
      "text/plain": [
       "Query is running:   0%|          |"
      ]
     },
     "metadata": {},
     "output_type": "display_data"
    },
    {
     "data": {
      "text/html": [
       "<div>\n",
       "<style scoped>\n",
       "    .dataframe tbody tr th:only-of-type {\n",
       "        vertical-align: middle;\n",
       "    }\n",
       "\n",
       "    .dataframe tbody tr th {\n",
       "        vertical-align: top;\n",
       "    }\n",
       "\n",
       "    .dataframe thead th {\n",
       "        text-align: right;\n",
       "    }\n",
       "</style>\n",
       "<table border=\"1\" class=\"dataframe\">\n",
       "  <thead>\n",
       "    <tr style=\"text-align: right;\">\n",
       "      <th></th>\n",
       "    </tr>\n",
       "  </thead>\n",
       "  <tbody>\n",
       "  </tbody>\n",
       "</table>\n",
       "</div>"
      ],
      "text/plain": [
       "Empty DataFrame\n",
       "Columns: []\n",
       "Index: []"
      ]
     },
     "execution_count": 104,
     "metadata": {},
     "output_type": "execute_result"
    }
   ],
   "source": [
    "%%bigquery --project nbcu-ds-sandbox-a-001 --params $params\n",
    "\n",
    "CREATE OR REPLACE TABLE `nbcu-ds-sandbox-a-001.SLi_sandbox.Paid_Winbacks_Denom` AS \n",
    "    SELECT  distinct adobe_tracking_id\n",
    "    FROM\n",
    "    (\n",
    "        SELECT  adobe_tracking_id\n",
    "            ,report_date\n",
    "        FROM `nbcu-ds-prod-001.PeacockDataMartSilver.SILVER_USER`\n",
    "        WHERE paying_account_flag = 'NonPaying'\n",
    "        AND report_date BETWEEN @report_start_date AND @report_end_date \n",
    "    )\n",
    "    WHERE adobe_tracking_id NOT IN ( SELECT distinct adobe_tracking_id FROM `nbcu-ds-sandbox-a-001.SLi_sandbox.upgrade_never` WHERE report_date BETWEEN @report_start_date AND @report_end_date)"
   ]
  },
  {
   "cell_type": "code",
   "execution_count": 105,
   "metadata": {
    "vscode": {
     "languageId": "sql"
    }
   },
   "outputs": [
    {
     "data": {
      "application/vnd.jupyter.widget-view+json": {
       "model_id": "a927a4608790465a96d2ab80bd6b87b3",
       "version_major": 2,
       "version_minor": 0
      },
      "text/plain": [
       "Query is running:   0%|          |"
      ]
     },
     "metadata": {},
     "output_type": "display_data"
    },
    {
     "data": {
      "text/html": [
       "<div>\n",
       "<style scoped>\n",
       "    .dataframe tbody tr th:only-of-type {\n",
       "        vertical-align: middle;\n",
       "    }\n",
       "\n",
       "    .dataframe tbody tr th {\n",
       "        vertical-align: top;\n",
       "    }\n",
       "\n",
       "    .dataframe thead th {\n",
       "        text-align: right;\n",
       "    }\n",
       "</style>\n",
       "<table border=\"1\" class=\"dataframe\">\n",
       "  <thead>\n",
       "    <tr style=\"text-align: right;\">\n",
       "      <th></th>\n",
       "    </tr>\n",
       "  </thead>\n",
       "  <tbody>\n",
       "  </tbody>\n",
       "</table>\n",
       "</div>"
      ],
      "text/plain": [
       "Empty DataFrame\n",
       "Columns: []\n",
       "Index: []"
      ]
     },
     "execution_count": 105,
     "metadata": {},
     "output_type": "execute_result"
    }
   ],
   "source": [
    "%%bigquery --project nbcu-ds-sandbox-a-001 --params $params\n",
    "\n",
    "CREATE OR REPLACE TABLE `nbcu-ds-sandbox-a-001.SLi_sandbox.Paid_Winbacks_Num` AS \n",
    "    SELECT  distinct adobe_tracking_id\n",
    "    FROM `nbcu-ds-sandbox-a-001.SLi_sandbox.upgrade_date_rank`\n",
    "    WHERE upgrade_row_number > 1\n",
    "    AND report_date BETWEEN @report_start_date AND @report_end_date"
   ]
  },
  {
   "cell_type": "code",
   "execution_count": 106,
   "metadata": {
    "vscode": {
     "languageId": "sql"
    }
   },
   "outputs": [
    {
     "data": {
      "application/vnd.jupyter.widget-view+json": {
       "model_id": "04a5d8db496e491eae6aed600db06b66",
       "version_major": 2,
       "version_minor": 0
      },
      "text/plain": [
       "Query is running:   0%|          |"
      ]
     },
     "metadata": {},
     "output_type": "display_data"
    },
    {
     "data": {
      "text/html": [
       "<div>\n",
       "<style scoped>\n",
       "    .dataframe tbody tr th:only-of-type {\n",
       "        vertical-align: middle;\n",
       "    }\n",
       "\n",
       "    .dataframe tbody tr th {\n",
       "        vertical-align: top;\n",
       "    }\n",
       "\n",
       "    .dataframe thead th {\n",
       "        text-align: right;\n",
       "    }\n",
       "</style>\n",
       "<table border=\"1\" class=\"dataframe\">\n",
       "  <thead>\n",
       "    <tr style=\"text-align: right;\">\n",
       "      <th></th>\n",
       "    </tr>\n",
       "  </thead>\n",
       "  <tbody>\n",
       "  </tbody>\n",
       "</table>\n",
       "</div>"
      ],
      "text/plain": [
       "Empty DataFrame\n",
       "Columns: []\n",
       "Index: []"
      ]
     },
     "execution_count": 106,
     "metadata": {},
     "output_type": "execute_result"
    }
   ],
   "source": [
    "%%bigquery --project nbcu-ds-sandbox-a-001 --params $params\n",
    "\n",
    "CREATE OR REPLACE TABLE `nbcu-ds-sandbox-a-001.SLi_sandbox.EOM_Paid_Churn_Denom` AS \n",
    "    SELECT  distinct adobe_tracking_id\n",
    "    FROM `nbcu-ds-prod-001.PeacockDataMartSilver.SILVER_CHURN`\n",
    "    WHERE date = @report_end_date\n",
    "    AND entitlement = 'Paid'"
   ]
  },
  {
   "cell_type": "code",
   "execution_count": 107,
   "metadata": {
    "vscode": {
     "languageId": "sql"
    }
   },
   "outputs": [
    {
     "data": {
      "application/vnd.jupyter.widget-view+json": {
       "model_id": "6ba98a17180f42a39bf6cd4364830961",
       "version_major": 2,
       "version_minor": 0
      },
      "text/plain": [
       "Query is running:   0%|          |"
      ]
     },
     "metadata": {},
     "output_type": "display_data"
    },
    {
     "data": {
      "text/html": [
       "<div>\n",
       "<style scoped>\n",
       "    .dataframe tbody tr th:only-of-type {\n",
       "        vertical-align: middle;\n",
       "    }\n",
       "\n",
       "    .dataframe tbody tr th {\n",
       "        vertical-align: top;\n",
       "    }\n",
       "\n",
       "    .dataframe thead th {\n",
       "        text-align: right;\n",
       "    }\n",
       "</style>\n",
       "<table border=\"1\" class=\"dataframe\">\n",
       "  <thead>\n",
       "    <tr style=\"text-align: right;\">\n",
       "      <th></th>\n",
       "    </tr>\n",
       "  </thead>\n",
       "  <tbody>\n",
       "  </tbody>\n",
       "</table>\n",
       "</div>"
      ],
      "text/plain": [
       "Empty DataFrame\n",
       "Columns: []\n",
       "Index: []"
      ]
     },
     "execution_count": 107,
     "metadata": {},
     "output_type": "execute_result"
    }
   ],
   "source": [
    "%%bigquery --project nbcu-ds-sandbox-a-001 --params $params\n",
    "\n",
    "CREATE OR REPLACE TABLE `nbcu-ds-sandbox-a-001.SLi_sandbox.EOM_Paid_Churn_Num` AS \n",
    "    SELECT  distinct adobe_tracking_id\n",
    "    FROM `nbcu-ds-prod-001.PeacockDataMartSilver.SILVER_CHURN`\n",
    "    WHERE date = @report_end_date\n",
    "    AND entitlement = 'Paid'\n",
    "    AND Churn_flag = 'Churn'"
   ]
  },
  {
   "attachments": {},
   "cell_type": "markdown",
   "metadata": {},
   "source": [
    "# Silver Churn QA"
   ]
  },
  {
   "cell_type": "code",
   "execution_count": 19,
   "metadata": {
    "vscode": {
     "languageId": "sql"
    }
   },
   "outputs": [
    {
     "data": {
      "application/vnd.jupyter.widget-view+json": {
       "model_id": "4c99afd992b043a58a34cd8111e93711",
       "version_major": 2,
       "version_minor": 0
      },
      "text/plain": [
       "Query is running:   0%|          |"
      ]
     },
     "metadata": {},
     "output_type": "display_data"
    },
    {
     "data": {
      "application/vnd.jupyter.widget-view+json": {
       "model_id": "a81ca9f49cf54e3faecc2aea45bcf489",
       "version_major": 2,
       "version_minor": 0
      },
      "text/plain": [
       "Downloading:   0%|          |"
      ]
     },
     "metadata": {},
     "output_type": "display_data"
    },
    {
     "data": {
      "text/html": [
       "<div>\n",
       "<style scoped>\n",
       "    .dataframe tbody tr th:only-of-type {\n",
       "        vertical-align: middle;\n",
       "    }\n",
       "\n",
       "    .dataframe tbody tr th {\n",
       "        vertical-align: top;\n",
       "    }\n",
       "\n",
       "    .dataframe thead th {\n",
       "        text-align: right;\n",
       "    }\n",
       "</style>\n",
       "<table border=\"1\" class=\"dataframe\">\n",
       "  <thead>\n",
       "    <tr style=\"text-align: right;\">\n",
       "      <th></th>\n",
       "      <th>Date</th>\n",
       "      <th>base_date</th>\n",
       "      <th>original_entitlement</th>\n",
       "      <th>original_entitlement_updated</th>\n",
       "      <th>original_account_tenure</th>\n",
       "      <th>original_acquisition_channel</th>\n",
       "      <th>original_trial_flag</th>\n",
       "      <th>original_tenure_paid_lens</th>\n",
       "      <th>primary_device_name</th>\n",
       "      <th>entitlement</th>\n",
       "      <th>billing_platform</th>\n",
       "      <th>bundling_partner</th>\n",
       "      <th>account_tenure_base_date</th>\n",
       "      <th>Churn_type</th>\n",
       "      <th>tenure_paid_lens</th>\n",
       "      <th>billing_cycle</th>\n",
       "      <th>Churn_flag</th>\n",
       "      <th>adobe_tracking_id</th>\n",
       "      <th>entitlement_updated</th>\n",
       "    </tr>\n",
       "  </thead>\n",
       "  <tbody>\n",
       "    <tr>\n",
       "      <th>0</th>\n",
       "      <td>2023-02-28</td>\n",
       "      <td>2023-01-31</td>\n",
       "      <td>Premium</td>\n",
       "      <td>Premium Paid Bundled</td>\n",
       "      <td>0 - 1 Day</td>\n",
       "      <td>NBCU</td>\n",
       "      <td>False</td>\n",
       "      <td>0-90 days</td>\n",
       "      <td>Non-viewer</td>\n",
       "      <td>Paid</td>\n",
       "      <td>NBCU</td>\n",
       "      <td>Voucher - PokerFacePublic</td>\n",
       "      <td>&lt;90 Days</td>\n",
       "      <td>N/A</td>\n",
       "      <td>0-90 days</td>\n",
       "      <td>ANNUAL</td>\n",
       "      <td>Not Churned</td>\n",
       "      <td>py712oIUc87nRHznGaL1+ZrnCLR+YDVbxWhkEuSqPiY=</td>\n",
       "      <td>Premium Paid Bundled</td>\n",
       "    </tr>\n",
       "    <tr>\n",
       "      <th>1</th>\n",
       "      <td>2023-02-28</td>\n",
       "      <td>2023-01-31</td>\n",
       "      <td>Premium</td>\n",
       "      <td>Premium Paid Bundled</td>\n",
       "      <td>0 - 1 Day</td>\n",
       "      <td>NBCU</td>\n",
       "      <td>False</td>\n",
       "      <td>0-90 days</td>\n",
       "      <td>Ios Mobile</td>\n",
       "      <td>Paid</td>\n",
       "      <td>NBCU</td>\n",
       "      <td>Voucher - PokerFacePublic</td>\n",
       "      <td>&lt;90 Days</td>\n",
       "      <td>N/A</td>\n",
       "      <td>0-90 days</td>\n",
       "      <td>ANNUAL</td>\n",
       "      <td>Not Churned</td>\n",
       "      <td>pAUKNbskvQ6HTZd1bMt8EdQRoAr/MAUE1ntGhr9Z8vg=</td>\n",
       "      <td>Premium Paid Bundled</td>\n",
       "    </tr>\n",
       "    <tr>\n",
       "      <th>2</th>\n",
       "      <td>2023-02-28</td>\n",
       "      <td>2023-01-31</td>\n",
       "      <td>Premium</td>\n",
       "      <td>Premium Paid Bundled</td>\n",
       "      <td>0 - 1 Day</td>\n",
       "      <td>NBCU</td>\n",
       "      <td>False</td>\n",
       "      <td>0-90 days</td>\n",
       "      <td>Www</td>\n",
       "      <td>Paid</td>\n",
       "      <td>NBCU</td>\n",
       "      <td>Voucher - PokerFacePublic</td>\n",
       "      <td>&lt;90 Days</td>\n",
       "      <td>N/A</td>\n",
       "      <td>0-90 days</td>\n",
       "      <td>ANNUAL</td>\n",
       "      <td>Not Churned</td>\n",
       "      <td>NOh5dJ1BC8kGOc773qJTKqgH3Iz3sCZxt1l9llPg4Hw=</td>\n",
       "      <td>Premium Paid Bundled</td>\n",
       "    </tr>\n",
       "    <tr>\n",
       "      <th>3</th>\n",
       "      <td>2023-02-28</td>\n",
       "      <td>2023-01-31</td>\n",
       "      <td>Premium</td>\n",
       "      <td>Premium Paid Bundled</td>\n",
       "      <td>0 - 1 Day</td>\n",
       "      <td>NBCU</td>\n",
       "      <td>False</td>\n",
       "      <td>0-90 days</td>\n",
       "      <td>Www</td>\n",
       "      <td>Paid</td>\n",
       "      <td>NBCU</td>\n",
       "      <td>Voucher - PokerFacePublic</td>\n",
       "      <td>&lt;90 Days</td>\n",
       "      <td>N/A</td>\n",
       "      <td>0-90 days</td>\n",
       "      <td>ANNUAL</td>\n",
       "      <td>Not Churned</td>\n",
       "      <td>oGkWxDOJaLTTUHLd6nV9mQqFmqmQQUIheSqF1dbJc9c=</td>\n",
       "      <td>Premium Paid Bundled</td>\n",
       "    </tr>\n",
       "    <tr>\n",
       "      <th>4</th>\n",
       "      <td>2023-02-28</td>\n",
       "      <td>2023-01-31</td>\n",
       "      <td>Premium</td>\n",
       "      <td>Premium Paid Bundled</td>\n",
       "      <td>0 - 1 Day</td>\n",
       "      <td>NBCU</td>\n",
       "      <td>False</td>\n",
       "      <td>0-90 days</td>\n",
       "      <td>Samsung Tv</td>\n",
       "      <td>Paid</td>\n",
       "      <td>NBCU</td>\n",
       "      <td>Voucher - PokerFacePublic</td>\n",
       "      <td>&lt;90 Days</td>\n",
       "      <td>N/A</td>\n",
       "      <td>0-90 days</td>\n",
       "      <td>ANNUAL</td>\n",
       "      <td>Not Churned</td>\n",
       "      <td>IL3J5qcHWF/R7+jwUpcMT38/Q4HkLY6TnNs7gE/zN10=</td>\n",
       "      <td>Premium Paid Bundled</td>\n",
       "    </tr>\n",
       "    <tr>\n",
       "      <th>5</th>\n",
       "      <td>2023-02-28</td>\n",
       "      <td>2023-01-31</td>\n",
       "      <td>Premium</td>\n",
       "      <td>Premium Paid Bundled</td>\n",
       "      <td>0 - 1 Day</td>\n",
       "      <td>NBCU</td>\n",
       "      <td>False</td>\n",
       "      <td>0-90 days</td>\n",
       "      <td>Roku</td>\n",
       "      <td>Paid</td>\n",
       "      <td>NBCU</td>\n",
       "      <td>Voucher - PokerFacePublic</td>\n",
       "      <td>&lt;90 Days</td>\n",
       "      <td>N/A</td>\n",
       "      <td>0-90 days</td>\n",
       "      <td>ANNUAL</td>\n",
       "      <td>Not Churned</td>\n",
       "      <td>t7mfMe1KBMe4Qakrai9A2oF2m7xJDi8ZyX8JuOYNjDM=</td>\n",
       "      <td>Premium Paid Bundled</td>\n",
       "    </tr>\n",
       "    <tr>\n",
       "      <th>6</th>\n",
       "      <td>2023-02-28</td>\n",
       "      <td>2023-01-31</td>\n",
       "      <td>Premium</td>\n",
       "      <td>Premium Paid Bundled</td>\n",
       "      <td>0 - 1 Day</td>\n",
       "      <td>NBCU</td>\n",
       "      <td>False</td>\n",
       "      <td>0-90 days</td>\n",
       "      <td>Ios Mobile</td>\n",
       "      <td>Paid</td>\n",
       "      <td>NBCU</td>\n",
       "      <td>Voucher - PokerFacePublic</td>\n",
       "      <td>&lt;90 Days</td>\n",
       "      <td>N/A</td>\n",
       "      <td>0-90 days</td>\n",
       "      <td>ANNUAL</td>\n",
       "      <td>Not Churned</td>\n",
       "      <td>QkbaIaMK3jPb6ITabK2/F0hMGYc9g13/vD2aD0q3Hm0=</td>\n",
       "      <td>Premium Paid Bundled</td>\n",
       "    </tr>\n",
       "    <tr>\n",
       "      <th>7</th>\n",
       "      <td>2023-02-28</td>\n",
       "      <td>2023-01-31</td>\n",
       "      <td>Premium</td>\n",
       "      <td>Premium Paid Bundled</td>\n",
       "      <td>0 - 1 Day</td>\n",
       "      <td>NBCU</td>\n",
       "      <td>False</td>\n",
       "      <td>0-90 days</td>\n",
       "      <td>Www</td>\n",
       "      <td>Paid</td>\n",
       "      <td>NBCU</td>\n",
       "      <td>Voucher - PokerFacePublic</td>\n",
       "      <td>&lt;90 Days</td>\n",
       "      <td>N/A</td>\n",
       "      <td>0-90 days</td>\n",
       "      <td>ANNUAL</td>\n",
       "      <td>Not Churned</td>\n",
       "      <td>PquU+X6S2YLK1qAGOS+qUwXS17AWYHhe+jb2mm17ewY=</td>\n",
       "      <td>Premium Paid Bundled</td>\n",
       "    </tr>\n",
       "    <tr>\n",
       "      <th>8</th>\n",
       "      <td>2023-02-28</td>\n",
       "      <td>2023-01-31</td>\n",
       "      <td>Premium</td>\n",
       "      <td>Premium Paid Bundled</td>\n",
       "      <td>0 - 1 Day</td>\n",
       "      <td>NBCU</td>\n",
       "      <td>False</td>\n",
       "      <td>0-90 days</td>\n",
       "      <td>Samsung Tv</td>\n",
       "      <td>Paid</td>\n",
       "      <td>NBCU</td>\n",
       "      <td>Voucher - PokerFacePublic</td>\n",
       "      <td>&lt;90 Days</td>\n",
       "      <td>N/A</td>\n",
       "      <td>0-90 days</td>\n",
       "      <td>ANNUAL</td>\n",
       "      <td>Not Churned</td>\n",
       "      <td>JHif6qSvwShn5NHHoKa+nghFF11Hg61yCe7tRkgVRn0=</td>\n",
       "      <td>Premium Paid Bundled</td>\n",
       "    </tr>\n",
       "    <tr>\n",
       "      <th>9</th>\n",
       "      <td>2023-02-28</td>\n",
       "      <td>2023-01-31</td>\n",
       "      <td>Premium</td>\n",
       "      <td>Premium Paid Bundled</td>\n",
       "      <td>0 - 1 Day</td>\n",
       "      <td>NBCU</td>\n",
       "      <td>False</td>\n",
       "      <td>0-90 days</td>\n",
       "      <td>Ios Mobile</td>\n",
       "      <td>Paid</td>\n",
       "      <td>NBCU</td>\n",
       "      <td>Voucher - PokerFacePublic</td>\n",
       "      <td>&lt;90 Days</td>\n",
       "      <td>N/A</td>\n",
       "      <td>0-90 days</td>\n",
       "      <td>ANNUAL</td>\n",
       "      <td>Not Churned</td>\n",
       "      <td>rWddN2Rbm3DLcHKC2To4zm/yfW4sAKVvOwJqv2IO9tY=</td>\n",
       "      <td>Premium Paid Bundled</td>\n",
       "    </tr>\n",
       "  </tbody>\n",
       "</table>\n",
       "</div>"
      ],
      "text/plain": [
       "         Date   base_date original_entitlement original_entitlement_updated  \\\n",
       "0  2023-02-28  2023-01-31              Premium         Premium Paid Bundled   \n",
       "1  2023-02-28  2023-01-31              Premium         Premium Paid Bundled   \n",
       "2  2023-02-28  2023-01-31              Premium         Premium Paid Bundled   \n",
       "3  2023-02-28  2023-01-31              Premium         Premium Paid Bundled   \n",
       "4  2023-02-28  2023-01-31              Premium         Premium Paid Bundled   \n",
       "5  2023-02-28  2023-01-31              Premium         Premium Paid Bundled   \n",
       "6  2023-02-28  2023-01-31              Premium         Premium Paid Bundled   \n",
       "7  2023-02-28  2023-01-31              Premium         Premium Paid Bundled   \n",
       "8  2023-02-28  2023-01-31              Premium         Premium Paid Bundled   \n",
       "9  2023-02-28  2023-01-31              Premium         Premium Paid Bundled   \n",
       "\n",
       "  original_account_tenure original_acquisition_channel  original_trial_flag  \\\n",
       "0               0 - 1 Day                         NBCU                False   \n",
       "1               0 - 1 Day                         NBCU                False   \n",
       "2               0 - 1 Day                         NBCU                False   \n",
       "3               0 - 1 Day                         NBCU                False   \n",
       "4               0 - 1 Day                         NBCU                False   \n",
       "5               0 - 1 Day                         NBCU                False   \n",
       "6               0 - 1 Day                         NBCU                False   \n",
       "7               0 - 1 Day                         NBCU                False   \n",
       "8               0 - 1 Day                         NBCU                False   \n",
       "9               0 - 1 Day                         NBCU                False   \n",
       "\n",
       "  original_tenure_paid_lens primary_device_name entitlement billing_platform  \\\n",
       "0                 0-90 days          Non-viewer        Paid             NBCU   \n",
       "1                 0-90 days          Ios Mobile        Paid             NBCU   \n",
       "2                 0-90 days                 Www        Paid             NBCU   \n",
       "3                 0-90 days                 Www        Paid             NBCU   \n",
       "4                 0-90 days          Samsung Tv        Paid             NBCU   \n",
       "5                 0-90 days                Roku        Paid             NBCU   \n",
       "6                 0-90 days          Ios Mobile        Paid             NBCU   \n",
       "7                 0-90 days                 Www        Paid             NBCU   \n",
       "8                 0-90 days          Samsung Tv        Paid             NBCU   \n",
       "9                 0-90 days          Ios Mobile        Paid             NBCU   \n",
       "\n",
       "            bundling_partner account_tenure_base_date Churn_type  \\\n",
       "0  Voucher - PokerFacePublic                 <90 Days        N/A   \n",
       "1  Voucher - PokerFacePublic                 <90 Days        N/A   \n",
       "2  Voucher - PokerFacePublic                 <90 Days        N/A   \n",
       "3  Voucher - PokerFacePublic                 <90 Days        N/A   \n",
       "4  Voucher - PokerFacePublic                 <90 Days        N/A   \n",
       "5  Voucher - PokerFacePublic                 <90 Days        N/A   \n",
       "6  Voucher - PokerFacePublic                 <90 Days        N/A   \n",
       "7  Voucher - PokerFacePublic                 <90 Days        N/A   \n",
       "8  Voucher - PokerFacePublic                 <90 Days        N/A   \n",
       "9  Voucher - PokerFacePublic                 <90 Days        N/A   \n",
       "\n",
       "  tenure_paid_lens billing_cycle   Churn_flag  \\\n",
       "0        0-90 days        ANNUAL  Not Churned   \n",
       "1        0-90 days        ANNUAL  Not Churned   \n",
       "2        0-90 days        ANNUAL  Not Churned   \n",
       "3        0-90 days        ANNUAL  Not Churned   \n",
       "4        0-90 days        ANNUAL  Not Churned   \n",
       "5        0-90 days        ANNUAL  Not Churned   \n",
       "6        0-90 days        ANNUAL  Not Churned   \n",
       "7        0-90 days        ANNUAL  Not Churned   \n",
       "8        0-90 days        ANNUAL  Not Churned   \n",
       "9        0-90 days        ANNUAL  Not Churned   \n",
       "\n",
       "                              adobe_tracking_id   entitlement_updated  \n",
       "0  py712oIUc87nRHznGaL1+ZrnCLR+YDVbxWhkEuSqPiY=  Premium Paid Bundled  \n",
       "1  pAUKNbskvQ6HTZd1bMt8EdQRoAr/MAUE1ntGhr9Z8vg=  Premium Paid Bundled  \n",
       "2  NOh5dJ1BC8kGOc773qJTKqgH3Iz3sCZxt1l9llPg4Hw=  Premium Paid Bundled  \n",
       "3  oGkWxDOJaLTTUHLd6nV9mQqFmqmQQUIheSqF1dbJc9c=  Premium Paid Bundled  \n",
       "4  IL3J5qcHWF/R7+jwUpcMT38/Q4HkLY6TnNs7gE/zN10=  Premium Paid Bundled  \n",
       "5  t7mfMe1KBMe4Qakrai9A2oF2m7xJDi8ZyX8JuOYNjDM=  Premium Paid Bundled  \n",
       "6  QkbaIaMK3jPb6ITabK2/F0hMGYc9g13/vD2aD0q3Hm0=  Premium Paid Bundled  \n",
       "7  PquU+X6S2YLK1qAGOS+qUwXS17AWYHhe+jb2mm17ewY=  Premium Paid Bundled  \n",
       "8  JHif6qSvwShn5NHHoKa+nghFF11Hg61yCe7tRkgVRn0=  Premium Paid Bundled  \n",
       "9  rWddN2Rbm3DLcHKC2To4zm/yfW4sAKVvOwJqv2IO9tY=  Premium Paid Bundled  "
      ]
     },
     "execution_count": 19,
     "metadata": {},
     "output_type": "execute_result"
    }
   ],
   "source": [
    "%%bigquery --project nbcu-ds-sandbox-a-001\n",
    "SELECT  *\n",
    "FROM `nbcu-ds-prod-001.PeacockDataMartSilver.SILVER_CHURN`\n",
    "WHERE base_date = '2023-01-31'\n",
    "and entitlement = 'Paid'\n",
    "limit 10;"
   ]
  },
  {
   "cell_type": "code",
   "execution_count": 17,
   "metadata": {
    "vscode": {
     "languageId": "sql"
    }
   },
   "outputs": [
    {
     "data": {
      "application/vnd.jupyter.widget-view+json": {
       "model_id": "b5a1d2cd10184ea18d3dd036aaef2a4a",
       "version_major": 2,
       "version_minor": 0
      },
      "text/plain": [
       "Query is running:   0%|          |"
      ]
     },
     "metadata": {},
     "output_type": "display_data"
    },
    {
     "data": {
      "application/vnd.jupyter.widget-view+json": {
       "model_id": "b931335e7b8d4238bfe67a4544bc8ee4",
       "version_major": 2,
       "version_minor": 0
      },
      "text/plain": [
       "Downloading:   0%|          |"
      ]
     },
     "metadata": {},
     "output_type": "display_data"
    },
    {
     "data": {
      "text/html": [
       "<div>\n",
       "<style scoped>\n",
       "    .dataframe tbody tr th:only-of-type {\n",
       "        vertical-align: middle;\n",
       "    }\n",
       "\n",
       "    .dataframe tbody tr th {\n",
       "        vertical-align: top;\n",
       "    }\n",
       "\n",
       "    .dataframe thead th {\n",
       "        text-align: right;\n",
       "    }\n",
       "</style>\n",
       "<table border=\"1\" class=\"dataframe\">\n",
       "  <thead>\n",
       "    <tr style=\"text-align: right;\">\n",
       "      <th></th>\n",
       "      <th>churn_flag</th>\n",
       "      <th>f0_</th>\n",
       "    </tr>\n",
       "  </thead>\n",
       "  <tbody>\n",
       "    <tr>\n",
       "      <th>0</th>\n",
       "      <td>Not Churned</td>\n",
       "      <td>19993668</td>\n",
       "    </tr>\n",
       "    <tr>\n",
       "      <th>1</th>\n",
       "      <td>Churn</td>\n",
       "      <td>1312746</td>\n",
       "    </tr>\n",
       "  </tbody>\n",
       "</table>\n",
       "</div>"
      ],
      "text/plain": [
       "    churn_flag       f0_\n",
       "0  Not Churned  19993668\n",
       "1        Churn   1312746"
      ]
     },
     "execution_count": 17,
     "metadata": {},
     "output_type": "execute_result"
    }
   ],
   "source": [
    "%%bigquery --project nbcu-ds-sandbox-a-001\n",
    "SELECT  churn_flag\n",
    "       ,COUNT(DISTINCT adobe_tracking_id)\n",
    "FROM `nbcu-ds-prod-001.PeacockDataMartSilver.SILVER_CHURN`\n",
    "WHERE base_date = '2023-01-31'\n",
    "and entitlement = 'Paid'\n",
    "GROUP BY  1"
   ]
  },
  {
   "cell_type": "code",
   "execution_count": 13,
   "metadata": {
    "vscode": {
     "languageId": "sql"
    }
   },
   "outputs": [
    {
     "data": {
      "application/vnd.jupyter.widget-view+json": {
       "model_id": "f3aa851bcbb94be097a86006aa15b451",
       "version_major": 2,
       "version_minor": 0
      },
      "text/plain": [
       "Query is running:   0%|          |"
      ]
     },
     "metadata": {},
     "output_type": "display_data"
    },
    {
     "data": {
      "application/vnd.jupyter.widget-view+json": {
       "model_id": "107f7b270f304828b9c86ee622ee5aae",
       "version_major": 2,
       "version_minor": 0
      },
      "text/plain": [
       "Downloading:   0%|          |"
      ]
     },
     "metadata": {},
     "output_type": "display_data"
    },
    {
     "data": {
      "text/html": [
       "<div>\n",
       "<style scoped>\n",
       "    .dataframe tbody tr th:only-of-type {\n",
       "        vertical-align: middle;\n",
       "    }\n",
       "\n",
       "    .dataframe tbody tr th {\n",
       "        vertical-align: top;\n",
       "    }\n",
       "\n",
       "    .dataframe thead th {\n",
       "        text-align: right;\n",
       "    }\n",
       "</style>\n",
       "<table border=\"1\" class=\"dataframe\">\n",
       "  <thead>\n",
       "    <tr style=\"text-align: right;\">\n",
       "      <th></th>\n",
       "      <th>churn_flag</th>\n",
       "      <th>f0_</th>\n",
       "    </tr>\n",
       "  </thead>\n",
       "  <tbody>\n",
       "    <tr>\n",
       "      <th>0</th>\n",
       "      <td>Not Churned</td>\n",
       "      <td>19932447</td>\n",
       "    </tr>\n",
       "    <tr>\n",
       "      <th>1</th>\n",
       "      <td>Churned</td>\n",
       "      <td>1373967</td>\n",
       "    </tr>\n",
       "  </tbody>\n",
       "</table>\n",
       "</div>"
      ],
      "text/plain": [
       "    churn_flag       f0_\n",
       "0  Not Churned  19932447\n",
       "1      Churned   1373967"
      ]
     },
     "execution_count": 13,
     "metadata": {},
     "output_type": "execute_result"
    }
   ],
   "source": [
    "%%bigquery --project nbcu-ds-sandbox-a-001\n",
    "\n",
    "SELECT  CASE WHEN paying_account_flag = 'Paying' THEN 'Not Churned'  ELSE 'Churned' END AS churn_flag\n",
    "       ,COUNT(DISTINCT paying_base.adobe_tracking_id)\n",
    "FROM\n",
    "(\n",
    "\tSELECT  adobe_tracking_id\n",
    "\tFROM `nbcu-ds-prod-001.PeacockDataMartSilver.SILVER_USER`\n",
    "\tWHERE report_date = '2023-01-31'\n",
    "\tAND paying_account_flag = 'Paying' \n",
    ") paying_base\n",
    "LEFT JOIN\n",
    "(\n",
    "\tSELECT  adobe_tracking_id\n",
    "\t       ,paying_account_flag\n",
    "\tFROM `nbcu-ds-prod-001.PeacockDataMartSilver.SILVER_USER`\n",
    "\tWHERE report_date = DATE_ADD('2023-01-31', INTERVAL 30 DAY) \n",
    ") churn_status\n",
    "ON paying_base.adobe_tracking_id = churn_status.adobe_tracking_id\n",
    "GROUP BY 1"
   ]
  },
  {
   "attachments": {},
   "cell_type": "markdown",
   "metadata": {},
   "source": [
    "# Churn Window"
   ]
  },
  {
   "cell_type": "code",
   "execution_count": 26,
   "metadata": {
    "vscode": {
     "languageId": "sql"
    }
   },
   "outputs": [
    {
     "data": {
      "application/vnd.jupyter.widget-view+json": {
       "model_id": "df22a5c531c0471ba6c6a88e0e7f61b3",
       "version_major": 2,
       "version_minor": 0
      },
      "text/plain": [
       "Query is running:   0%|          |"
      ]
     },
     "metadata": {},
     "output_type": "display_data"
    },
    {
     "data": {
      "application/vnd.jupyter.widget-view+json": {
       "model_id": "5885c47aeaa0407ca6cacc9a21a77914",
       "version_major": 2,
       "version_minor": 0
      },
      "text/plain": [
       "Downloading: |          |"
      ]
     },
     "metadata": {},
     "output_type": "display_data"
    },
    {
     "data": {
      "text/html": [
       "<div>\n",
       "<style scoped>\n",
       "    .dataframe tbody tr th:only-of-type {\n",
       "        vertical-align: middle;\n",
       "    }\n",
       "\n",
       "    .dataframe tbody tr th {\n",
       "        vertical-align: top;\n",
       "    }\n",
       "\n",
       "    .dataframe thead th {\n",
       "        text-align: right;\n",
       "    }\n",
       "</style>\n",
       "<table border=\"1\" class=\"dataframe\">\n",
       "  <thead>\n",
       "    <tr style=\"text-align: right;\">\n",
       "      <th></th>\n",
       "      <th>Date</th>\n",
       "      <th>base_date</th>\n",
       "      <th>original_entitlement</th>\n",
       "      <th>original_entitlement_updated</th>\n",
       "      <th>original_account_tenure</th>\n",
       "      <th>original_acquisition_channel</th>\n",
       "      <th>original_trial_flag</th>\n",
       "      <th>original_tenure_paid_lens</th>\n",
       "      <th>primary_device_name</th>\n",
       "      <th>entitlement</th>\n",
       "      <th>billing_platform</th>\n",
       "      <th>bundling_partner</th>\n",
       "      <th>account_tenure_base_date</th>\n",
       "      <th>Churn_type</th>\n",
       "      <th>tenure_paid_lens</th>\n",
       "      <th>billing_cycle</th>\n",
       "      <th>Churn_flag</th>\n",
       "      <th>adobe_tracking_id</th>\n",
       "      <th>entitlement_updated</th>\n",
       "    </tr>\n",
       "  </thead>\n",
       "  <tbody>\n",
       "  </tbody>\n",
       "</table>\n",
       "</div>"
      ],
      "text/plain": [
       "Empty DataFrame\n",
       "Columns: [Date, base_date, original_entitlement, original_entitlement_updated, original_account_tenure, original_acquisition_channel, original_trial_flag, original_tenure_paid_lens, primary_device_name, entitlement, billing_platform, bundling_partner, account_tenure_base_date, Churn_type, tenure_paid_lens, billing_cycle, Churn_flag, adobe_tracking_id, entitlement_updated]\n",
       "Index: []"
      ]
     },
     "execution_count": 26,
     "metadata": {},
     "output_type": "execute_result"
    }
   ],
   "source": [
    "%%bigquery --project nbcu-ds-sandbox-a-001\n",
    "SELECT  *\n",
    "FROM `nbcu-ds-prod-001.PeacockDataMartSilver.SILVER_CHURN`\n",
    "WHERE base_date = '2023-02-28'\n",
    "and entitlement = 'Paid'\n",
    "limit 10;"
   ]
  },
  {
   "attachments": {},
   "cell_type": "markdown",
   "metadata": {},
   "source": [
    "# Lookback Window"
   ]
  },
  {
   "cell_type": "code",
   "execution_count": 23,
   "metadata": {
    "vscode": {
     "languageId": "sql"
    }
   },
   "outputs": [
    {
     "data": {
      "application/vnd.jupyter.widget-view+json": {
       "model_id": "0c40907d7ece48c89753933762756c70",
       "version_major": 2,
       "version_minor": 0
      },
      "text/plain": [
       "Query is running:   0%|          |"
      ]
     },
     "metadata": {},
     "output_type": "display_data"
    },
    {
     "data": {
      "application/vnd.jupyter.widget-view+json": {
       "model_id": "cc668ced7bdb44bea69101a587e7725b",
       "version_major": 2,
       "version_minor": 0
      },
      "text/plain": [
       "Downloading:   0%|          |"
      ]
     },
     "metadata": {},
     "output_type": "display_data"
    },
    {
     "data": {
      "text/html": [
       "<div>\n",
       "<style scoped>\n",
       "    .dataframe tbody tr th:only-of-type {\n",
       "        vertical-align: middle;\n",
       "    }\n",
       "\n",
       "    .dataframe tbody tr th {\n",
       "        vertical-align: top;\n",
       "    }\n",
       "\n",
       "    .dataframe thead th {\n",
       "        text-align: right;\n",
       "    }\n",
       "</style>\n",
       "<table border=\"1\" class=\"dataframe\">\n",
       "  <thead>\n",
       "    <tr style=\"text-align: right;\">\n",
       "      <th></th>\n",
       "      <th>f0_</th>\n",
       "    </tr>\n",
       "  </thead>\n",
       "  <tbody>\n",
       "    <tr>\n",
       "      <th>0</th>\n",
       "      <td>2022-09-01</td>\n",
       "    </tr>\n",
       "  </tbody>\n",
       "</table>\n",
       "</div>"
      ],
      "text/plain": [
       "         f0_\n",
       "0 2022-09-01"
      ]
     },
     "execution_count": 23,
     "metadata": {},
     "output_type": "execute_result"
    }
   ],
   "source": [
    "%%bigquery --project nbcu-ds-sandbox-a-001 \n",
    "\n",
    "select DATE_SUB(DATETIME_TRUNC('2023-02-01', QUARTER), INTERVAL 4 MONTH), "
   ]
  },
  {
   "attachments": {},
   "cell_type": "markdown",
   "metadata": {},
   "source": [
    "# CustomerPermissionView join"
   ]
  },
  {
   "cell_type": "code",
   "execution_count": null,
   "metadata": {
    "vscode": {
     "languageId": "sql"
    }
   },
   "outputs": [],
   "source": [
    "%%bigquery --project nbcu-ds-sandbox-a-001 --params $params\n",
    "CREATE OR REPLACE TABLE `nbcu-ds-sandbox-a-001.SLi_sandbox.All_Cohorts_v4_Jan23` AS (\n",
    "    -- email targetable and holdout cohort, users signed up after 2020/8/11\n",
    "     SELECT distinct a.adobe_tracking_id as aid\n",
    "     , cohort\n",
    "     , user.account_type\n",
    "\n",
    "    FROM         -- Include email engagers only: users with at least one email open in the last year that is not a transactional email\n",
    "     (\n",
    "        SELECT DISTINCT identity \n",
    "        FROM  `nbcu-sdp-prod-003.sdp_persistent_views.BrazeMarketingView` \n",
    "        WHERE eventName = 'Email Opens' \n",
    "        AND machineOpen IS NULL\n",
    "        AND date(eventTimestamp) BETWEEN DATE_SUB(@report_end_date, INTERVAL 1 YEAR) AND @report_end_date\n",
    "        AND lower(campaignName) NOT LIKE 'transactional%' -- Exclude transactional emails\n",
    "    ) Email_Engagers --opened email at least once, using other open \n",
    "    \n",
    "    INNER JOIN `nbcu-ds-sandbox-a-001.SLi_sandbox.Braze_Id_Adobe_Id_Map` mapping\n",
    "    ON mapping.bid = Email_Engagers.identity\n",
    "\n",
    "    INNER JOIN\n",
    "        (\n",
    "            SELECT *, 'Email_Targeted' as cohort from `nbcu-ds-sandbox-a-001.SLi_sandbox.Email_Targeted_v4_Jan23`\n",
    "            UNION ALL\n",
    "            SELECT *, 'Holdout' as cohort from `nbcu-ds-sandbox-a-001.SLi_sandbox.Holdout_v4_Jan23`\n",
    "        ) a\n",
    "    ON a.adobe_tracking_id = mapping.aid\n",
    "        \n",
    "    --add attribute: account_type \n",
    "    INNER JOIN ( SELECT * FROM `nbcu-ds-prod-001.PeacockDataMartSilver.SILVER_USER` WHERE report_date = @report_end_date ) user\n",
    "    ON a.adobe_tracking_id = user.adobe_tracking_id \n",
    "\n",
    "    -- for after 2021/july, email channel only, take out all abandon MAAs\n",
    "    INNER JOIN \n",
    "    (SELECT DISTINCT adobe_tracking_id FROM `nbcu-ds-prod-001.PeacockDataMartSilver.SILVER_PRIMARY_DEVICES` \n",
    "        WHERE report_date = @report_end_date\n",
    "        AND date_of_last_view IS NOT NULL \n",
    "    ) abandon_maa \n",
    "    ON a.adobe_tracking_id = abandon_maa.adobe_tracking_id\n",
    "\n",
    "    -- exclude unsubscribed\n",
    "    LEFT JOIN `nbcu-ds-sandbox-a-001.SLi_sandbox.Email_Unsubs_v4_Jan23` unsub\n",
    "    ON a.adobe_tracking_id = unsub.adobe_tracking_id\n",
    "    WHERE unsub.adobe_tracking_id IS NULL\n",
    ")"
   ]
  },
  {
   "attachments": {},
   "cell_type": "markdown",
   "metadata": {},
   "source": [
    "# Holdout comparison"
   ]
  },
  {
   "cell_type": "code",
   "execution_count": null,
   "metadata": {
    "vscode": {
     "languageId": "sql"
    }
   },
   "outputs": [],
   "source": [
    "SELECT  TrackingId aid\n",
    "FROM `nbcu-ds-prod-001.PeacockDataMartMarketingGold.HOLDOUT_GROUP`\n",
    "WHERE cohort = 'October2022'\n",
    "AND Hold_Out_Type_Current = 'Owned Email Holdout'\n",
    "AND (\n",
    "    TrackingId IN (\n",
    "        -- Find subs that registered in the last 4 months in the last 4 months \n",
    "        SELECT  adobe_tracking_id\n",
    "        FROM `nbcu-ds-prod-001.PeacockDataMartSilver.SILVER_USER`\n",
    "        WHERE report_date = '2022-10-01'\n",
    "        AND date(registration_date) BETWEEN date_add('2022-10-01', interval -4 month) AND '2022-10-01' \n",
    "    ) \n",
    "    \n",
    "    OR \n",
    "    \n",
    "    TrackingId IN (\n",
    "        -- Find subs that have received an email IN the last 4 months \n",
    "        SELECT  adobe_tracking_id\n",
    "        FROM\n",
    "        (\n",
    "            SELECT  adobe_tracking_id\n",
    "                ,last_value(event_name) over(partition by adobe_tracking_id ORDER BY eventTimestamp) category -- identify if the last action a sub took was to unsubscribe\n",
    "            FROM `nbcu-ds-prod-001.PeacockDataMartSilver.SILVER_MPARTICLE_BRAZE`\n",
    "            WHERE date(eventTimestamp) BETWEEN date_add('2022-10-01', interval -4 month) AND '2022-10-01'\n",
    "            AND event_name in('Email Deliveries', 'Email Unsubscribes') --isolate users who have either received an email or unsubscribed\n",
    "            AND lower(campaign_name) not like '%transactional%' -- remove transactional emails \n",
    "        )\n",
    "        WHERE category = 'Email Deliveries' -- remove unsubscribers \n",
    "    )\n",
    ")"
   ]
  },
  {
   "cell_type": "code",
   "execution_count": 55,
   "metadata": {
    "vscode": {
     "languageId": "sql"
    }
   },
   "outputs": [
    {
     "data": {
      "application/vnd.jupyter.widget-view+json": {
       "model_id": "cd2a319a3f1e45f89977f2f5fd3d5bdb",
       "version_major": 2,
       "version_minor": 0
      },
      "text/plain": [
       "Query is running:   0%|          |"
      ]
     },
     "metadata": {},
     "output_type": "display_data"
    },
    {
     "data": {
      "application/vnd.jupyter.widget-view+json": {
       "model_id": "5ec36401b2414753a4faaf4cc880a69e",
       "version_major": 2,
       "version_minor": 0
      },
      "text/plain": [
       "Downloading:   0%|          |"
      ]
     },
     "metadata": {},
     "output_type": "display_data"
    },
    {
     "data": {
      "text/html": [
       "<div>\n",
       "<style scoped>\n",
       "    .dataframe tbody tr th:only-of-type {\n",
       "        vertical-align: middle;\n",
       "    }\n",
       "\n",
       "    .dataframe tbody tr th {\n",
       "        vertical-align: top;\n",
       "    }\n",
       "\n",
       "    .dataframe thead th {\n",
       "        text-align: right;\n",
       "    }\n",
       "</style>\n",
       "<table border=\"1\" class=\"dataframe\">\n",
       "  <thead>\n",
       "    <tr style=\"text-align: right;\">\n",
       "      <th></th>\n",
       "      <th>RegistrationDate</th>\n",
       "      <th>f0_</th>\n",
       "      <th>f1_</th>\n",
       "    </tr>\n",
       "  </thead>\n",
       "  <tbody>\n",
       "    <tr>\n",
       "      <th>0</th>\n",
       "      <td>2022-09-01 06:41:15.206</td>\n",
       "      <td>2022-09-01 06:41:15.206000+00:00</td>\n",
       "      <td>2022-09-01 02:41:15.206</td>\n",
       "    </tr>\n",
       "    <tr>\n",
       "      <th>1</th>\n",
       "      <td>2022-09-01 06:02:17.059</td>\n",
       "      <td>2022-09-01 06:02:17.059000+00:00</td>\n",
       "      <td>2022-09-01 02:02:17.059</td>\n",
       "    </tr>\n",
       "    <tr>\n",
       "      <th>2</th>\n",
       "      <td>2022-09-01 06:25:04.393</td>\n",
       "      <td>2022-09-01 06:25:04.393000+00:00</td>\n",
       "      <td>2022-09-01 02:25:04.393</td>\n",
       "    </tr>\n",
       "    <tr>\n",
       "      <th>3</th>\n",
       "      <td>2022-09-01 06:04:45.482</td>\n",
       "      <td>2022-09-01 06:04:45.482000+00:00</td>\n",
       "      <td>2022-09-01 02:04:45.482</td>\n",
       "    </tr>\n",
       "    <tr>\n",
       "      <th>4</th>\n",
       "      <td>2022-09-01 06:20:54.650</td>\n",
       "      <td>2022-09-01 06:20:54.650000+00:00</td>\n",
       "      <td>2022-09-01 02:20:54.650</td>\n",
       "    </tr>\n",
       "    <tr>\n",
       "      <th>5</th>\n",
       "      <td>2022-09-01 06:55:37.346</td>\n",
       "      <td>2022-09-01 06:55:37.346000+00:00</td>\n",
       "      <td>2022-09-01 02:55:37.346</td>\n",
       "    </tr>\n",
       "    <tr>\n",
       "      <th>6</th>\n",
       "      <td>2022-09-01 06:26:24.414</td>\n",
       "      <td>2022-09-01 06:26:24.414000+00:00</td>\n",
       "      <td>2022-09-01 02:26:24.414</td>\n",
       "    </tr>\n",
       "    <tr>\n",
       "      <th>7</th>\n",
       "      <td>2022-09-01 06:41:14.772</td>\n",
       "      <td>2022-09-01 06:41:14.772000+00:00</td>\n",
       "      <td>2022-09-01 02:41:14.772</td>\n",
       "    </tr>\n",
       "    <tr>\n",
       "      <th>8</th>\n",
       "      <td>2022-09-01 06:37:10.786</td>\n",
       "      <td>2022-09-01 06:37:10.786000+00:00</td>\n",
       "      <td>2022-09-01 02:37:10.786</td>\n",
       "    </tr>\n",
       "    <tr>\n",
       "      <th>9</th>\n",
       "      <td>2022-09-01 06:08:28.945</td>\n",
       "      <td>2022-09-01 06:08:28.945000+00:00</td>\n",
       "      <td>2022-09-01 02:08:28.945</td>\n",
       "    </tr>\n",
       "  </tbody>\n",
       "</table>\n",
       "</div>"
      ],
      "text/plain": [
       "         RegistrationDate                              f0_  \\\n",
       "0 2022-09-01 06:41:15.206 2022-09-01 06:41:15.206000+00:00   \n",
       "1 2022-09-01 06:02:17.059 2022-09-01 06:02:17.059000+00:00   \n",
       "2 2022-09-01 06:25:04.393 2022-09-01 06:25:04.393000+00:00   \n",
       "3 2022-09-01 06:04:45.482 2022-09-01 06:04:45.482000+00:00   \n",
       "4 2022-09-01 06:20:54.650 2022-09-01 06:20:54.650000+00:00   \n",
       "5 2022-09-01 06:55:37.346 2022-09-01 06:55:37.346000+00:00   \n",
       "6 2022-09-01 06:26:24.414 2022-09-01 06:26:24.414000+00:00   \n",
       "7 2022-09-01 06:41:14.772 2022-09-01 06:41:14.772000+00:00   \n",
       "8 2022-09-01 06:37:10.786 2022-09-01 06:37:10.786000+00:00   \n",
       "9 2022-09-01 06:08:28.945 2022-09-01 06:08:28.945000+00:00   \n",
       "\n",
       "                      f1_  \n",
       "0 2022-09-01 02:41:15.206  \n",
       "1 2022-09-01 02:02:17.059  \n",
       "2 2022-09-01 02:25:04.393  \n",
       "3 2022-09-01 02:04:45.482  \n",
       "4 2022-09-01 02:20:54.650  \n",
       "5 2022-09-01 02:55:37.346  \n",
       "6 2022-09-01 02:26:24.414  \n",
       "7 2022-09-01 02:41:14.772  \n",
       "8 2022-09-01 02:37:10.786  \n",
       "9 2022-09-01 02:08:28.945  "
      ]
     },
     "execution_count": 55,
     "metadata": {},
     "output_type": "execute_result"
    }
   ],
   "source": [
    "%%bigquery --project nbcu-ds-sandbox-a-001 --params $params\n",
    "SELECT  RegistrationDate, TIMESTAMP(RegistrationDate), DATETIME(TIMESTAMP(RegistrationDate), 'America/New_York'),  DATE(TIMESTAMP(RegistrationDate), 'America/New_York')\n",
    "FROM `nbcu-ds-prod-001.PeacockDataMartMarketingGold.HOLDOUT_GROUP`\n",
    "WHERE cohort = format_timestamp('%B%Y', DATETIME_TRUNC(@report_start_date, QUARTER)) -- get cohort name as month of quarter start + year\n",
    "AND Hold_Out_Type_Current = 'Owned Email Holdout'\n",
    "limit 10;"
   ]
  },
  {
   "attachments": {},
   "cell_type": "markdown",
   "metadata": {},
   "source": [
    "## Build testing table"
   ]
  },
  {
   "cell_type": "code",
   "execution_count": 177,
   "metadata": {
    "vscode": {
     "languageId": "sql"
    }
   },
   "outputs": [],
   "source": [
    "params = {\n",
    "    'report_start_date': '2022-10-01',\n",
    "    'report_end_date': '2022-10-01'\n",
    "}"
   ]
  },
  {
   "cell_type": "code",
   "execution_count": 178,
   "metadata": {
    "vscode": {
     "languageId": "sql"
    }
   },
   "outputs": [
    {
     "data": {
      "application/vnd.jupyter.widget-view+json": {
       "model_id": "63d9535b4b8f48419b35e7c02fd66d6c",
       "version_major": 2,
       "version_minor": 0
      },
      "text/plain": [
       "Query is running:   0%|          |"
      ]
     },
     "metadata": {},
     "output_type": "display_data"
    },
    {
     "data": {
      "text/html": [
       "<div>\n",
       "<style scoped>\n",
       "    .dataframe tbody tr th:only-of-type {\n",
       "        vertical-align: middle;\n",
       "    }\n",
       "\n",
       "    .dataframe tbody tr th {\n",
       "        vertical-align: top;\n",
       "    }\n",
       "\n",
       "    .dataframe thead th {\n",
       "        text-align: right;\n",
       "    }\n",
       "</style>\n",
       "<table border=\"1\" class=\"dataframe\">\n",
       "  <thead>\n",
       "    <tr style=\"text-align: right;\">\n",
       "      <th></th>\n",
       "    </tr>\n",
       "  </thead>\n",
       "  <tbody>\n",
       "  </tbody>\n",
       "</table>\n",
       "</div>"
      ],
      "text/plain": [
       "Empty DataFrame\n",
       "Columns: []\n",
       "Index: []"
      ]
     },
     "execution_count": 178,
     "metadata": {},
     "output_type": "execute_result"
    }
   ],
   "source": [
    "%%bigquery --project nbcu-ds-sandbox-a-001 --params $params\n",
    "CREATE OR REPLACE TABLE `nbcu-ds-sandbox-a-001.SLi_sandbox.Email_Measurement_Holdout_Test` AS\n",
    "\n",
    "WITH \n",
    "email_holdout as (\n",
    "    SELECT  distinct holdout.adobe_tracking_id\n",
    "    FROM\n",
    "    (\n",
    "        SELECT  distinct TrackingId AS adobe_tracking_id\n",
    "        FROM `nbcu-ds-prod-001.PeacockDataMartMarketingGold.HOLDOUT_GROUP`\n",
    "        WHERE cohort = format_timestamp('%B%Y', DATETIME_TRUNC(@report_start_date, QUARTER)) -- get cohort name as month of quarter start + year\n",
    "        AND Hold_Out_Type_Current = 'Owned Email Holdout'\n",
    "        AND DATE(TIMESTAMP(RegistrationDate), 'America/New_York') <= @report_end_date\n",
    "    ) holdout\n",
    "    -- Exclude those who are assigned to Email Holdout but actually received emails in holdout period (cooloff period manually implemented and unreliable)\n",
    "    LEFT JOIN (\n",
    "        SELECT DISTINCT adobe_tracking_id \n",
    "        FROM  `nbcu-ds-prod-001.PeacockDataMartSilver.SILVER_MPARTICLE_BRAZE`\n",
    "        WHERE event_name = 'Email Deliveries' \n",
    "        AND event_date BETWEEN DATETIME_TRUNC(@report_start_date, QUARTER) and @report_end_date\n",
    "        AND LOWER(campaign_name) NOT LIKE 'transactional%' -- Exclude transactional emails\n",
    "    ) received\n",
    "    ON holdout.adobe_tracking_id = received.adobe_tracking_id\n",
    "    WHERE received.adobe_tracking_id IS NULL\n",
    ")\n",
    ", email_channel_qualifier as (\n",
    "    -- Engagement: Deliveries 4 months before start of the holdout period, defined as start of quarter\n",
    "    SELECT DISTINCT adobe_tracking_id AS aid \n",
    "    FROM  `nbcu-ds-prod-001.PeacockDataMartSilver.SILVER_MPARTICLE_BRAZE`\n",
    "    WHERE event_name = 'Email Deliveries'\n",
    "    AND event_date BETWEEN DATE_SUB(DATETIME_TRUNC(@report_start_date, QUARTER), INTERVAL 4 MONTH) AND @report_end_date\n",
    "    AND lower(campaign_name) NOT LIKE 'transactional%' -- Exclude transactional emails\n",
    "\n",
    "    UNION ALL\n",
    "\n",
    "    -- New users joining after 4 months before start of the cohort period\n",
    "    SELECT DISTINCT adobe_tracking_id AS aid\n",
    "    FROM `nbcu-ds-prod-001.PeacockDataMartSilver.SILVER_USER`\n",
    "    WHERE registration_date between DATE_SUB(DATETIME_TRUNC(@report_start_date, QUARTER), INTERVAL 4 MONTH) AND @report_end_date\n",
    ")\n",
    ", email_unsubs as (\n",
    "    SELECT DISTINCT adobe_tracking_id\n",
    "    FROM  `nbcu-ds-prod-001.PeacockDataMartSilver.SILVER_MPARTICLE_BRAZE` \n",
    "    WHERE event_name = 'Email Unsubscribes' \n",
    "    AND event_date <= @report_end_date\n",
    ")\n",
    "\n",
    "SELECT  distinct email_holdout.adobe_tracking_id AS aid\n",
    "FROM email_holdout\n",
    "\n",
    "-- Include only those who received email in the current reporting period or are in holdout\n",
    "INNER JOIN email_channel_qualifier\n",
    "ON email_holdout.adobe_tracking_id = email_channel_qualifier.aid\n",
    "\n",
    "-- for after 2021/july, email channel only, take out all abandon MAAs\n",
    "INNER JOIN\n",
    "    (\n",
    "        SELECT  DISTINCT adobe_tracking_id\n",
    "        FROM `nbcu-ds-prod-001.PeacockDataMartSilver.SILVER_PRIMARY_DEVICES`\n",
    "        WHERE report_date = @report_end_date\n",
    "        AND date_of_last_view IS NOT NULL\n",
    "    ) abandon_maa\n",
    "ON email_holdout.adobe_tracking_id = abandon_maa.adobe_tracking_id\n",
    "\n",
    "-- exclude unsubscribed\n",
    "LEFT JOIN email_unsubs\n",
    "ON email_holdout.adobe_tracking_id = email_unsubs.adobe_tracking_id\n",
    "WHERE email_unsubs.adobe_tracking_id IS NULL"
   ]
  },
  {
   "cell_type": "code",
   "execution_count": 180,
   "metadata": {
    "vscode": {
     "languageId": "sql"
    }
   },
   "outputs": [
    {
     "data": {
      "application/vnd.jupyter.widget-view+json": {
       "model_id": "c9c75026df76465f9bdd13b719d96a9b",
       "version_major": 2,
       "version_minor": 0
      },
      "text/plain": [
       "Query is running:   0%|          |"
      ]
     },
     "metadata": {},
     "output_type": "display_data"
    },
    {
     "data": {
      "application/vnd.jupyter.widget-view+json": {
       "model_id": "bee821e523054634b36d32f7d34e739e",
       "version_major": 2,
       "version_minor": 0
      },
      "text/plain": [
       "Downloading:   0%|          |"
      ]
     },
     "metadata": {},
     "output_type": "display_data"
    },
    {
     "data": {
      "text/html": [
       "<div>\n",
       "<style scoped>\n",
       "    .dataframe tbody tr th:only-of-type {\n",
       "        vertical-align: middle;\n",
       "    }\n",
       "\n",
       "    .dataframe tbody tr th {\n",
       "        vertical-align: top;\n",
       "    }\n",
       "\n",
       "    .dataframe thead th {\n",
       "        text-align: right;\n",
       "    }\n",
       "</style>\n",
       "<table border=\"1\" class=\"dataframe\">\n",
       "  <thead>\n",
       "    <tr style=\"text-align: right;\">\n",
       "      <th></th>\n",
       "      <th>f0_</th>\n",
       "    </tr>\n",
       "  </thead>\n",
       "  <tbody>\n",
       "    <tr>\n",
       "      <th>0</th>\n",
       "      <td>1962559</td>\n",
       "    </tr>\n",
       "  </tbody>\n",
       "</table>\n",
       "</div>"
      ],
      "text/plain": [
       "       f0_\n",
       "0  1962559"
      ]
     },
     "execution_count": 180,
     "metadata": {},
     "output_type": "execute_result"
    }
   ],
   "source": [
    "%%bigquery --project nbcu-ds-sandbox-a-001 --params $params\n",
    "select count(distinct aid) from `nbcu-ds-sandbox-a-001.SLi_sandbox.Email_Measurement_Holdout_Test`"
   ]
  },
  {
   "cell_type": "code",
   "execution_count": 181,
   "metadata": {
    "vscode": {
     "languageId": "sql"
    }
   },
   "outputs": [
    {
     "data": {
      "application/vnd.jupyter.widget-view+json": {
       "model_id": "75ae3a88f8b04d77b6e198c26c020816",
       "version_major": 2,
       "version_minor": 0
      },
      "text/plain": [
       "Query is running:   0%|          |"
      ]
     },
     "metadata": {},
     "output_type": "display_data"
    },
    {
     "data": {
      "application/vnd.jupyter.widget-view+json": {
       "model_id": "f291d5b48cef4029958de1ab8804f1bc",
       "version_major": 2,
       "version_minor": 0
      },
      "text/plain": [
       "Downloading:   0%|          |"
      ]
     },
     "metadata": {},
     "output_type": "display_data"
    },
    {
     "data": {
      "text/html": [
       "<div>\n",
       "<style scoped>\n",
       "    .dataframe tbody tr th:only-of-type {\n",
       "        vertical-align: middle;\n",
       "    }\n",
       "\n",
       "    .dataframe tbody tr th {\n",
       "        vertical-align: top;\n",
       "    }\n",
       "\n",
       "    .dataframe thead th {\n",
       "        text-align: right;\n",
       "    }\n",
       "</style>\n",
       "<table border=\"1\" class=\"dataframe\">\n",
       "  <thead>\n",
       "    <tr style=\"text-align: right;\">\n",
       "      <th></th>\n",
       "      <th>f0_</th>\n",
       "    </tr>\n",
       "  </thead>\n",
       "  <tbody>\n",
       "    <tr>\n",
       "      <th>0</th>\n",
       "      <td>391059</td>\n",
       "    </tr>\n",
       "  </tbody>\n",
       "</table>\n",
       "</div>"
      ],
      "text/plain": [
       "      f0_\n",
       "0  391059"
      ]
     },
     "execution_count": 181,
     "metadata": {},
     "output_type": "execute_result"
    }
   ],
   "source": [
    "%%bigquery --project nbcu-ds-sandbox-a-001 --params $params\n",
    "    SELECT count(distinct aid)\n",
    "    from `nbcu-ds-sandbox-a-001.SLi_sandbox.Email_Measurement_Holdout_Test` a --`nbcu-ds-sandbox-a-001.SLi_sandbox.Email_Measurement_Holdout_Test` a\n",
    "    --add attribute: account_type at the end of the reporting period\n",
    "    INNER JOIN\n",
    "        (\n",
    "            SELECT  DISTINCT adobe_tracking_id\n",
    "                ,paying_account_flag\n",
    "                ,billing_cycle\n",
    "            FROM `nbcu-ds-prod-001.PeacockDataMartSilver.SILVER_USER`\n",
    "            WHERE report_date = '2022-10-31' \n",
    "            and paying_account_flag = 'Paying'\n",
    "            and billing_cycle = 'MONTHLY'\n",
    "        ) user\n",
    "    ON a.aid = user.adobe_tracking_id"
   ]
  },
  {
   "cell_type": "code",
   "execution_count": 182,
   "metadata": {
    "vscode": {
     "languageId": "sql"
    }
   },
   "outputs": [
    {
     "data": {
      "application/vnd.jupyter.widget-view+json": {
       "model_id": "a074fc2d5933409e8d4672b7f346094e",
       "version_major": 2,
       "version_minor": 0
      },
      "text/plain": [
       "Query is running:   0%|          |"
      ]
     },
     "metadata": {},
     "output_type": "display_data"
    },
    {
     "data": {
      "application/vnd.jupyter.widget-view+json": {
       "model_id": "17ebb72493e74006bc6efd40a1806882",
       "version_major": 2,
       "version_minor": 0
      },
      "text/plain": [
       "Downloading:   0%|          |"
      ]
     },
     "metadata": {},
     "output_type": "display_data"
    },
    {
     "data": {
      "text/html": [
       "<div>\n",
       "<style scoped>\n",
       "    .dataframe tbody tr th:only-of-type {\n",
       "        vertical-align: middle;\n",
       "    }\n",
       "\n",
       "    .dataframe tbody tr th {\n",
       "        vertical-align: top;\n",
       "    }\n",
       "\n",
       "    .dataframe thead th {\n",
       "        text-align: right;\n",
       "    }\n",
       "</style>\n",
       "<table border=\"1\" class=\"dataframe\">\n",
       "  <thead>\n",
       "    <tr style=\"text-align: right;\">\n",
       "      <th></th>\n",
       "      <th>EOM_Paid_Churn_Num_Targeted</th>\n",
       "      <th>EOM_Paid_Churn_Denom_Targeted</th>\n",
       "      <th>churn_rate</th>\n",
       "    </tr>\n",
       "  </thead>\n",
       "  <tbody>\n",
       "    <tr>\n",
       "      <th>0</th>\n",
       "      <td>22932</td>\n",
       "      <td>391059</td>\n",
       "      <td>0.058641</td>\n",
       "    </tr>\n",
       "  </tbody>\n",
       "</table>\n",
       "</div>"
      ],
      "text/plain": [
       "   EOM_Paid_Churn_Num_Targeted  EOM_Paid_Churn_Denom_Targeted  churn_rate\n",
       "0                        22932                         391059    0.058641"
      ]
     },
     "execution_count": 182,
     "metadata": {},
     "output_type": "execute_result"
    }
   ],
   "source": [
    "%%bigquery --project nbcu-ds-sandbox-a-001 --params $params\n",
    "WITH \n",
    "base as (\n",
    "    SELECT aid\n",
    "    from `nbcu-ds-sandbox-a-001.SLi_sandbox.Email_Measurement_Holdout_Test` a --`nbcu-ds-sandbox-a-001.SLi_sandbox.Email_Measurement_Holdout_Test` a\n",
    "    --add attribute: account_type at the end of the reporting period\n",
    "    INNER JOIN\n",
    "        (\n",
    "            SELECT  DISTINCT adobe_tracking_id\n",
    "                ,paying_account_flag\n",
    "                ,billing_cycle\n",
    "            FROM `nbcu-ds-prod-001.PeacockDataMartSilver.SILVER_USER`\n",
    "            WHERE report_date = '2022-10-31' \n",
    "        ) user\n",
    "    ON a.aid = user.adobe_tracking_id\n",
    "    WHERE paying_account_flag = 'Paying'\n",
    "    and billing_cycle = 'MONTHLY'\n",
    ")\n",
    ", EOM_Paid_Churn_Denom AS (\n",
    "    SELECT  distinct adobe_tracking_id\n",
    "    FROM `nbcu-ds-prod-001.PeacockDataMartSilver.SILVER_CHURN`\n",
    "    WHERE base_date = '2022-10-31' -- churn date would be on 11-30\n",
    "    AND entitlement = 'Paid'\n",
    ")\n",
    ", EOM_Paid_Churn_Num AS (\n",
    "    SELECT  distinct adobe_tracking_id\n",
    "    FROM `nbcu-ds-prod-001.PeacockDataMartSilver.SILVER_CHURN`\n",
    "    WHERE base_date = '2022-10-31'\n",
    "    AND entitlement = 'Paid'\n",
    "    AND Churn_flag = 'Churn'\n",
    ")\n",
    ", cte1 as (\n",
    "    SELECT aid\n",
    "        ,EOM_Paid_Churn_Denom.adobe_tracking_id  AS Churn_Denom\n",
    "        ,EOM_Paid_Churn_Num.adobe_tracking_id    AS Churn_Num\n",
    "    FROM base a\n",
    "    LEFT JOIN EOM_Paid_Churn_Denom\n",
    "        on a.aid = EOM_Paid_Churn_Denom.adobe_tracking_id\n",
    "    LEFT JOIN EOM_Paid_Churn_Num\n",
    "        on EOM_Paid_Churn_Denom.adobe_tracking_id = EOM_Paid_Churn_Num.adobe_tracking_id\n",
    ")\n",
    ", cte2 as (\n",
    "    SELECT COUNT(distinct Churn_Denom )   AS EOM_Paid_Churn_Denom_Targeted\n",
    "        ,COUNT(distinct Churn_Num )     AS EOM_Paid_Churn_Num_Targeted\n",
    "    FROM cte1\n",
    ")\n",
    "select EOM_Paid_Churn_Num_Targeted, EOM_Paid_Churn_Denom_Targeted, safe_divide(EOM_Paid_Churn_Num_Targeted, EOM_Paid_Churn_Denom_Targeted) as churn_rate\n",
    "from cte2"
   ]
  },
  {
   "attachments": {},
   "cell_type": "markdown",
   "metadata": {},
   "source": [
    "# Holdout Delivery 1 month prior vs. start of month"
   ]
  },
  {
   "cell_type": "code",
   "execution_count": null,
   "metadata": {
    "vscode": {
     "languageId": "sql"
    }
   },
   "outputs": [],
   "source": [
    "params = {\n",
    "    'report_start_date': '2023-01-01',\n",
    "    'report_end_date': '2023-01-31'\n",
    "}"
   ]
  },
  {
   "cell_type": "code",
   "execution_count": null,
   "metadata": {
    "vscode": {
     "languageId": "sql"
    }
   },
   "outputs": [
    {
     "data": {
      "application/vnd.jupyter.widget-view+json": {
       "model_id": "a5cf98aa17e84489a35eb4db6edd1106",
       "version_major": 2,
       "version_minor": 0
      },
      "text/plain": [
       "Query is running:   0%|          |"
      ]
     },
     "metadata": {},
     "output_type": "display_data"
    },
    {
     "data": {
      "application/vnd.jupyter.widget-view+json": {
       "model_id": "1c651fe31fb2498eb97964e2f8158db5",
       "version_major": 2,
       "version_minor": 0
      },
      "text/plain": [
       "Downloading:   0%|          |"
      ]
     },
     "metadata": {},
     "output_type": "display_data"
    },
    {
     "data": {
      "text/html": [
       "<div>\n",
       "<style scoped>\n",
       "    .dataframe tbody tr th:only-of-type {\n",
       "        vertical-align: middle;\n",
       "    }\n",
       "\n",
       "    .dataframe tbody tr th {\n",
       "        vertical-align: top;\n",
       "    }\n",
       "\n",
       "    .dataframe thead th {\n",
       "        text-align: right;\n",
       "    }\n",
       "</style>\n",
       "<table border=\"1\" class=\"dataframe\">\n",
       "  <thead>\n",
       "    <tr style=\"text-align: right;\">\n",
       "      <th></th>\n",
       "      <th>f0_</th>\n",
       "    </tr>\n",
       "  </thead>\n",
       "  <tbody>\n",
       "    <tr>\n",
       "      <th>0</th>\n",
       "      <td>1790028</td>\n",
       "    </tr>\n",
       "  </tbody>\n",
       "</table>\n",
       "</div>"
      ],
      "text/plain": [
       "       f0_\n",
       "0  1790028"
      ]
     },
     "execution_count": 94,
     "metadata": {},
     "output_type": "execute_result"
    }
   ],
   "source": [
    "%%bigquery --project nbcu-ds-sandbox-a-001 --params $params\n",
    "\n",
    "with \n",
    "holdout as (\n",
    "    SELECT  DISTINCT holdout.adobe_tracking_id\n",
    "    FROM\n",
    "    (\n",
    "        SELECT  DISTINCT TrackingId AS adobe_tracking_id\n",
    "        FROM `nbcu-ds-prod-001.PeacockDataMartMarketingGold.HOLDOUT_GROUP`\n",
    "        WHERE cohort = format_timestamp('%B%Y', DATETIME_TRUNC(@report_start_date, QUARTER)) -- get cohort name as month of quarter start + year\n",
    "        AND Hold_Out_Type_Current = 'Owned Email Holdout'\n",
    "        AND DATE(TIMESTAMP(RegistrationDate), 'America/New_York') <= @report_end_date\n",
    "    ) holdout\n",
    "    -- Exclude those who are assigned to Email Holdout but actually received emails 1 month prior to holdout start (to include cooloff period)\n",
    "    LEFT JOIN (\n",
    "        SELECT DISTINCT adobe_tracking_id \n",
    "        FROM  `nbcu-ds-prod-001.PeacockDataMartSilver.SILVER_MPARTICLE_BRAZE`\n",
    "        WHERE event_name = 'Email Deliveries' \n",
    "        AND event_date BETWEEN @report_start_date and @report_end_date -- DATE_SUB(DATETIME_TRUNC(@report_start_date, QUARTER), INTERVAL 1 MONTH) and @report_end_date\n",
    "        AND LOWER(campaign_name) NOT LIKE 'transactional%' -- Exclude transactional emails\n",
    "    ) received\n",
    "    ON holdout.adobe_tracking_id = received.adobe_tracking_id\n",
    "    WHERE received.adobe_tracking_id IS NULL\n",
    ")\n",
    ", qualified as (\n",
    "    SELECT aid\n",
    "    FROM (\n",
    "        -- Engagement: Deliveries 4 months before start of the holdout period, defined as start of quarter\n",
    "        -- Silver MParticle instead\n",
    "        SELECT aid\n",
    "        FROM\n",
    "            (\n",
    "                SELECT DISTINCT identity \n",
    "                FROM  `nbcu-sdp-prod-003.sdp_persistent_views.BrazeMarketingView` \n",
    "                WHERE eventName = 'Email Deliveries'\n",
    "                AND date(eventTimestamp) BETWEEN DATE_SUB(DATETIME_TRUNC(@report_start_date, QUARTER), INTERVAL 4 MONTH) AND @report_start_date\n",
    "                AND lower(campaignName) NOT LIKE 'transactional%' -- Exclude transactional emails\n",
    "            ) engager_base\n",
    "        INNER JOIN `nbcu-ds-sandbox-a-001.SLi_sandbox.Braze_Id_Adobe_Id_Map` mapping\n",
    "        ON mapping.bid = engager_base.identity\n",
    "    )\n",
    "\n",
    "    UNION ALL\n",
    "\n",
    "    SELECT distinct adobe_tracking_id as aid\n",
    "    FROM `nbcu-ds-prod-001.PeacockDataMartSilver.SILVER_USER`\n",
    "    -- New users joining after 4 months before start of the cohort period\n",
    "    WHERE registration_date >= DATE_SUB(DATETIME_TRUNC(@report_start_date, QUARTER), INTERVAL 4 MONTH)\n",
    ")\n",
    "select count(distinct case when cohort = 'Holdout' then  delivered_and_holdout.adobe_tracking_id else null end)\n",
    "FROM (\n",
    "    SELECT *, 'Holdout' as cohort from holdout\n",
    ") delivered_and_holdout\n",
    "\n",
    "-- Include only those who received email in the current reporting period or are in holdout\n",
    "INNER JOIN qualified\n",
    "ON delivered_and_holdout.adobe_tracking_id = qualified.aid\n",
    "\n",
    "-- for after 2021/july, email channel only, take out all abandon MAAs\n",
    "INNER JOIN\n",
    "    (\n",
    "        SELECT  DISTINCT adobe_tracking_id\n",
    "        FROM `nbcu-ds-prod-001.PeacockDataMartSilver.SILVER_PRIMARY_DEVICES`\n",
    "        WHERE report_date = @report_end_date\n",
    "        AND date_of_last_view IS NOT NULL\n",
    "    ) abandon_maa\n",
    "ON delivered_and_holdout.adobe_tracking_id = abandon_maa.adobe_tracking_id\n",
    "\n",
    "-- exclude unsubscribed\n",
    "LEFT JOIN `nbcu-ds-sandbox-a-001.SLi_sandbox.Email_Unsubs_v4_Jan23` email_unsubs\n",
    "ON delivered_and_holdout.adobe_tracking_id = email_unsubs.adobe_tracking_id\n",
    "WHERE email_unsubs.adobe_tracking_id IS NULL"
   ]
  },
  {
   "cell_type": "code",
   "execution_count": null,
   "metadata": {
    "vscode": {
     "languageId": "sql"
    }
   },
   "outputs": [
    {
     "data": {
      "application/vnd.jupyter.widget-view+json": {
       "model_id": "903a2e61bd554951903c55839a7a9143",
       "version_major": 2,
       "version_minor": 0
      },
      "text/plain": [
       "Query is running:   0%|          |"
      ]
     },
     "metadata": {},
     "output_type": "display_data"
    },
    {
     "data": {
      "application/vnd.jupyter.widget-view+json": {
       "model_id": "0a42ace55367467c99116a7af3a555f6",
       "version_major": 2,
       "version_minor": 0
      },
      "text/plain": [
       "Downloading:   0%|          |"
      ]
     },
     "metadata": {},
     "output_type": "display_data"
    },
    {
     "data": {
      "text/html": [
       "<div>\n",
       "<style scoped>\n",
       "    .dataframe tbody tr th:only-of-type {\n",
       "        vertical-align: middle;\n",
       "    }\n",
       "\n",
       "    .dataframe tbody tr th {\n",
       "        vertical-align: top;\n",
       "    }\n",
       "\n",
       "    .dataframe thead th {\n",
       "        text-align: right;\n",
       "    }\n",
       "</style>\n",
       "<table border=\"1\" class=\"dataframe\">\n",
       "  <thead>\n",
       "    <tr style=\"text-align: right;\">\n",
       "      <th></th>\n",
       "      <th>f0_</th>\n",
       "    </tr>\n",
       "  </thead>\n",
       "  <tbody>\n",
       "    <tr>\n",
       "      <th>0</th>\n",
       "      <td>584141</td>\n",
       "    </tr>\n",
       "  </tbody>\n",
       "</table>\n",
       "</div>"
      ],
      "text/plain": [
       "      f0_\n",
       "0  584141"
      ]
     },
     "execution_count": 95,
     "metadata": {},
     "output_type": "execute_result"
    }
   ],
   "source": [
    "%%bigquery --project nbcu-ds-sandbox-a-001 --params $params\n",
    "\n",
    "with \n",
    "holdout as (\n",
    "    SELECT  DISTINCT holdout.adobe_tracking_id\n",
    "    FROM\n",
    "    (\n",
    "        SELECT  DISTINCT TrackingId AS adobe_tracking_id\n",
    "        FROM `nbcu-ds-prod-001.PeacockDataMartMarketingGold.HOLDOUT_GROUP`\n",
    "        WHERE cohort = format_timestamp('%B%Y', DATETIME_TRUNC(@report_start_date, QUARTER)) -- get cohort name as month of quarter start + year\n",
    "        AND Hold_Out_Type_Current = 'Owned Email Holdout'\n",
    "        AND DATE(TIMESTAMP(RegistrationDate), 'America/New_York') <= @report_end_date\n",
    "    ) holdout\n",
    "    -- Exclude those who are assigned to Email Holdout but actually received emails 1 month prior to holdout start (to include cooloff period)\n",
    "    LEFT JOIN (\n",
    "        SELECT DISTINCT adobe_tracking_id \n",
    "        FROM  `nbcu-ds-prod-001.PeacockDataMartSilver.SILVER_MPARTICLE_BRAZE`\n",
    "        WHERE event_name = 'Email Deliveries' \n",
    "        AND event_date BETWEEN @report_start_date and @report_end_date -- DATE_SUB(DATETIME_TRUNC(@report_start_date, QUARTER), INTERVAL 1 MONTH) and @report_end_date\n",
    "        AND LOWER(campaign_name) NOT LIKE 'transactional%' -- Exclude transactional emails\n",
    "    ) received\n",
    "    ON holdout.adobe_tracking_id = received.adobe_tracking_id\n",
    "    WHERE received.adobe_tracking_id IS NULL\n",
    ")\n",
    ", qualified as (\n",
    "    SELECT aid\n",
    "    FROM (\n",
    "        -- Engagement: Deliveries 4 months before start of the holdout period, defined as start of quarter\n",
    "        -- Silver MParticle instead\n",
    "        SELECT aid\n",
    "        FROM\n",
    "            (\n",
    "                SELECT DISTINCT identity \n",
    "                FROM  `nbcu-sdp-prod-003.sdp_persistent_views.BrazeMarketingView` \n",
    "                WHERE eventName = 'Email Deliveries'\n",
    "                AND date(eventTimestamp) BETWEEN DATE_SUB(DATETIME_TRUNC(@report_start_date, QUARTER), INTERVAL 4 MONTH) AND @report_start_date\n",
    "                AND lower(campaignName) NOT LIKE 'transactional%' -- Exclude transactional emails\n",
    "            ) engager_base\n",
    "        INNER JOIN `nbcu-ds-sandbox-a-001.SLi_sandbox.Braze_Id_Adobe_Id_Map` mapping\n",
    "        ON mapping.bid = engager_base.identity\n",
    "    )\n",
    "\n",
    "    UNION ALL\n",
    "\n",
    "    SELECT distinct adobe_tracking_id as aid\n",
    "    FROM `nbcu-ds-prod-001.PeacockDataMartSilver.SILVER_USER`\n",
    "    -- New users joining after 4 months before start of the cohort period\n",
    "    WHERE registration_date >= DATE_SUB(DATETIME_TRUNC(@report_start_date, QUARTER), INTERVAL 4 MONTH)\n",
    ")\n",
    "select count(distinct case when cohort = 'Holdout' then  delivered_and_holdout.adobe_tracking_id else null end)\n",
    "FROM (\n",
    "    SELECT *, 'Holdout' as cohort from holdout\n",
    ") delivered_and_holdout\n",
    "\n",
    "-- Include only those who received email in the current reporting period or are in holdout\n",
    "INNER JOIN qualified\n",
    "ON delivered_and_holdout.adobe_tracking_id = qualified.aid\n",
    "\n",
    "-- for after 2021/july, email channel only, take out all abandon MAAs\n",
    "INNER JOIN\n",
    "    (\n",
    "        SELECT  DISTINCT adobe_tracking_id\n",
    "        FROM `nbcu-ds-prod-001.PeacockDataMartSilver.SILVER_PRIMARY_DEVICES`\n",
    "        WHERE report_date = @report_end_date\n",
    "        AND date_of_last_view IS NOT NULL\n",
    "    ) abandon_maa\n",
    "ON delivered_and_holdout.adobe_tracking_id = abandon_maa.adobe_tracking_id\n",
    "\n",
    "-- exclude unsubscribed\n",
    "LEFT JOIN `nbcu-ds-sandbox-a-001.SLi_sandbox.Email_Unsubs_v4_Jan23` email_unsubs\n",
    "ON delivered_and_holdout.adobe_tracking_id = email_unsubs.adobe_tracking_id\n",
    "WHERE email_unsubs.adobe_tracking_id IS NULL"
   ]
  },
  {
   "attachments": {},
   "cell_type": "markdown",
   "metadata": {},
   "source": [
    "# Random"
   ]
  },
  {
   "cell_type": "code",
   "execution_count": 104,
   "metadata": {
    "vscode": {
     "languageId": "sql"
    }
   },
   "outputs": [
    {
     "data": {
      "application/vnd.jupyter.widget-view+json": {
       "model_id": "794d1357ba204e429b7bedb7e0d86aaa",
       "version_major": 2,
       "version_minor": 0
      },
      "text/plain": [
       "Query is running:   0%|          |"
      ]
     },
     "metadata": {},
     "output_type": "display_data"
    },
    {
     "data": {
      "application/vnd.jupyter.widget-view+json": {
       "model_id": "028d26408e6d47cbbc718700e1fa7cb1",
       "version_major": 2,
       "version_minor": 0
      },
      "text/plain": [
       "Downloading:   0%|          |"
      ]
     },
     "metadata": {},
     "output_type": "display_data"
    },
    {
     "data": {
      "text/html": [
       "<div>\n",
       "<style scoped>\n",
       "    .dataframe tbody tr th:only-of-type {\n",
       "        vertical-align: middle;\n",
       "    }\n",
       "\n",
       "    .dataframe tbody tr th {\n",
       "        vertical-align: top;\n",
       "    }\n",
       "\n",
       "    .dataframe thead th {\n",
       "        text-align: right;\n",
       "    }\n",
       "</style>\n",
       "<table border=\"1\" class=\"dataframe\">\n",
       "  <thead>\n",
       "    <tr style=\"text-align: right;\">\n",
       "      <th></th>\n",
       "      <th>cohort</th>\n",
       "      <th>f0_</th>\n",
       "    </tr>\n",
       "  </thead>\n",
       "  <tbody>\n",
       "    <tr>\n",
       "      <th>0</th>\n",
       "      <td>Email_Targeted</td>\n",
       "      <td>34010128</td>\n",
       "    </tr>\n",
       "    <tr>\n",
       "      <th>1</th>\n",
       "      <td>Holdout</td>\n",
       "      <td>1789363</td>\n",
       "    </tr>\n",
       "  </tbody>\n",
       "</table>\n",
       "</div>"
      ],
      "text/plain": [
       "           cohort       f0_\n",
       "0  Email_Targeted  34010128\n",
       "1         Holdout   1789363"
      ]
     },
     "execution_count": 104,
     "metadata": {},
     "output_type": "execute_result"
    }
   ],
   "source": [
    "%%bigquery --project nbcu-ds-sandbox-a-001 --params $params\n",
    "select cohort, count(distinct aid) from `nbcu-ds-sandbox-a-001.SLi_sandbox.Email_Measurement_Audience_v4_Jan23` group by 1"
   ]
  },
  {
   "attachments": {},
   "cell_type": "markdown",
   "metadata": {},
   "source": [
    "# Unsub table with dates"
   ]
  },
  {
   "cell_type": "code",
   "execution_count": 6,
   "metadata": {
    "vscode": {
     "languageId": "sql"
    }
   },
   "outputs": [
    {
     "data": {
      "application/vnd.jupyter.widget-view+json": {
       "model_id": "d6e9451594394dfb944df2914597f91b",
       "version_major": 2,
       "version_minor": 0
      },
      "text/plain": [
       "Query is running:   0%|          |"
      ]
     },
     "metadata": {},
     "output_type": "display_data"
    },
    {
     "data": {
      "text/html": [
       "<div>\n",
       "<style scoped>\n",
       "    .dataframe tbody tr th:only-of-type {\n",
       "        vertical-align: middle;\n",
       "    }\n",
       "\n",
       "    .dataframe tbody tr th {\n",
       "        vertical-align: top;\n",
       "    }\n",
       "\n",
       "    .dataframe thead th {\n",
       "        text-align: right;\n",
       "    }\n",
       "</style>\n",
       "<table border=\"1\" class=\"dataframe\">\n",
       "  <thead>\n",
       "    <tr style=\"text-align: right;\">\n",
       "      <th></th>\n",
       "    </tr>\n",
       "  </thead>\n",
       "  <tbody>\n",
       "  </tbody>\n",
       "</table>\n",
       "</div>"
      ],
      "text/plain": [
       "Empty DataFrame\n",
       "Columns: []\n",
       "Index: []"
      ]
     },
     "execution_count": 6,
     "metadata": {},
     "output_type": "execute_result"
    }
   ],
   "source": [
    "%%bigquery --project nbcu-ds-sandbox-a-001 --params $params\n",
    "CREATE OR REPLACE TABLE `nbcu-ds-sandbox-a-001.SLi_sandbox.Email_Unsubs` AS\n",
    "\n",
    "SELECT adobe_tracking_id, MIN(event_date) as first_unsub_date\n",
    "FROM  `nbcu-ds-prod-001.PeacockDataMartSilver.SILVER_MPARTICLE_BRAZE` \n",
    "WHERE event_name = 'Email Unsubscribes' \n",
    "group by 1"
   ]
  },
  {
   "cell_type": "code",
   "execution_count": 7,
   "metadata": {
    "vscode": {
     "languageId": "sql"
    }
   },
   "outputs": [
    {
     "data": {
      "application/vnd.jupyter.widget-view+json": {
       "model_id": "c73e8dacc3c54a3b88b96923c51863ce",
       "version_major": 2,
       "version_minor": 0
      },
      "text/plain": [
       "Query is running:   0%|          |"
      ]
     },
     "metadata": {},
     "output_type": "display_data"
    },
    {
     "data": {
      "application/vnd.jupyter.widget-view+json": {
       "model_id": "25cdd2c0426f482bb2e66f64f1506248",
       "version_major": 2,
       "version_minor": 0
      },
      "text/plain": [
       "Downloading:   0%|          |"
      ]
     },
     "metadata": {},
     "output_type": "display_data"
    },
    {
     "data": {
      "text/html": [
       "<div>\n",
       "<style scoped>\n",
       "    .dataframe tbody tr th:only-of-type {\n",
       "        vertical-align: middle;\n",
       "    }\n",
       "\n",
       "    .dataframe tbody tr th {\n",
       "        vertical-align: top;\n",
       "    }\n",
       "\n",
       "    .dataframe thead th {\n",
       "        text-align: right;\n",
       "    }\n",
       "</style>\n",
       "<table border=\"1\" class=\"dataframe\">\n",
       "  <thead>\n",
       "    <tr style=\"text-align: right;\">\n",
       "      <th></th>\n",
       "      <th>f0_</th>\n",
       "    </tr>\n",
       "  </thead>\n",
       "  <tbody>\n",
       "    <tr>\n",
       "      <th>0</th>\n",
       "      <td>11168573</td>\n",
       "    </tr>\n",
       "  </tbody>\n",
       "</table>\n",
       "</div>"
      ],
      "text/plain": [
       "        f0_\n",
       "0  11168573"
      ]
     },
     "execution_count": 7,
     "metadata": {},
     "output_type": "execute_result"
    }
   ],
   "source": [
    "%%bigquery --project nbcu-ds-sandbox-a-001 --params $params\n",
    "SELECT  COUNT(distinct adobe_tracking_id)\n",
    "FROM `nbcu-ds-sandbox-a-001.SLi_sandbox.Email_Unsubs`\n",
    "WHERE first_unsub_date <= @report_end_date"
   ]
  },
  {
   "cell_type": "code",
   "execution_count": 9,
   "metadata": {
    "vscode": {
     "languageId": "sql"
    }
   },
   "outputs": [
    {
     "data": {
      "application/vnd.jupyter.widget-view+json": {
       "model_id": "2f9c66a80b044bd3ae63c7bd3c208a6c",
       "version_major": 2,
       "version_minor": 0
      },
      "text/plain": [
       "Query is running:   0%|          |"
      ]
     },
     "metadata": {},
     "output_type": "display_data"
    },
    {
     "data": {
      "application/vnd.jupyter.widget-view+json": {
       "model_id": "836bcd2c42b64b77861495d6385cebc1",
       "version_major": 2,
       "version_minor": 0
      },
      "text/plain": [
       "Downloading:   0%|          |"
      ]
     },
     "metadata": {},
     "output_type": "display_data"
    },
    {
     "data": {
      "text/html": [
       "<div>\n",
       "<style scoped>\n",
       "    .dataframe tbody tr th:only-of-type {\n",
       "        vertical-align: middle;\n",
       "    }\n",
       "\n",
       "    .dataframe tbody tr th {\n",
       "        vertical-align: top;\n",
       "    }\n",
       "\n",
       "    .dataframe thead th {\n",
       "        text-align: right;\n",
       "    }\n",
       "</style>\n",
       "<table border=\"1\" class=\"dataframe\">\n",
       "  <thead>\n",
       "    <tr style=\"text-align: right;\">\n",
       "      <th></th>\n",
       "      <th>unsub_count</th>\n",
       "    </tr>\n",
       "  </thead>\n",
       "  <tbody>\n",
       "    <tr>\n",
       "      <th>0</th>\n",
       "      <td>11168573</td>\n",
       "    </tr>\n",
       "  </tbody>\n",
       "</table>\n",
       "</div>"
      ],
      "text/plain": [
       "   unsub_count\n",
       "0     11168573"
      ]
     },
     "execution_count": 9,
     "metadata": {},
     "output_type": "execute_result"
    }
   ],
   "source": [
    "%%bigquery --project nbcu-ds-sandbox-a-001 --params $params\n",
    "SELECT count(distinct adobe_tracking_id) as unsub_count\n",
    "FROM  `nbcu-ds-sandbox-a-001.SLi_sandbox.Email_Unsubs_v4_Jan23`"
   ]
  },
  {
   "attachments": {},
   "cell_type": "markdown",
   "metadata": {},
   "source": [
    "# Better Unsub table"
   ]
  },
  {
   "cell_type": "code",
   "execution_count": 4,
   "metadata": {
    "vscode": {
     "languageId": "sql"
    }
   },
   "outputs": [],
   "source": [
    "params = {\n",
    "    'report_start_date': '2023-01-01',\n",
    "    'report_end_date': '2023-01-31'\n",
    "}"
   ]
  },
  {
   "cell_type": "code",
   "execution_count": 5,
   "metadata": {
    "vscode": {
     "languageId": "sql"
    }
   },
   "outputs": [
    {
     "data": {
      "application/vnd.jupyter.widget-view+json": {
       "model_id": "bdecb790a32043a8a535733ca99a9049",
       "version_major": 2,
       "version_minor": 0
      },
      "text/plain": [
       "Query is running:   0%|          |"
      ]
     },
     "metadata": {},
     "output_type": "display_data"
    },
    {
     "data": {
      "application/vnd.jupyter.widget-view+json": {
       "model_id": "b7cec40ee6f04e0085b947534b4973d2",
       "version_major": 2,
       "version_minor": 0
      },
      "text/plain": [
       "Downloading:   0%|          |"
      ]
     },
     "metadata": {},
     "output_type": "display_data"
    },
    {
     "data": {
      "text/html": [
       "<div>\n",
       "<style scoped>\n",
       "    .dataframe tbody tr th:only-of-type {\n",
       "        vertical-align: middle;\n",
       "    }\n",
       "\n",
       "    .dataframe tbody tr th {\n",
       "        vertical-align: top;\n",
       "    }\n",
       "\n",
       "    .dataframe thead th {\n",
       "        text-align: right;\n",
       "    }\n",
       "</style>\n",
       "<table border=\"1\" class=\"dataframe\">\n",
       "  <thead>\n",
       "    <tr style=\"text-align: right;\">\n",
       "      <th></th>\n",
       "      <th>f0_</th>\n",
       "      <th>f1_</th>\n",
       "    </tr>\n",
       "  </thead>\n",
       "  <tbody>\n",
       "    <tr>\n",
       "      <th>0</th>\n",
       "      <td>1</td>\n",
       "      <td>9273624</td>\n",
       "    </tr>\n",
       "    <tr>\n",
       "      <th>1</th>\n",
       "      <td>2</td>\n",
       "      <td>1656075</td>\n",
       "    </tr>\n",
       "    <tr>\n",
       "      <th>2</th>\n",
       "      <td>3+</td>\n",
       "      <td>238874</td>\n",
       "    </tr>\n",
       "  </tbody>\n",
       "</table>\n",
       "</div>"
      ],
      "text/plain": [
       "  f0_      f1_\n",
       "0   1  9273624\n",
       "1   2  1656075\n",
       "2  3+   238874"
      ]
     },
     "execution_count": 5,
     "metadata": {},
     "output_type": "execute_result"
    }
   ],
   "source": [
    "%%bigquery --project nbcu-ds-sandbox-a-001 --params $params\n",
    "with cte as (\n",
    "    SELECT adobe_tracking_id, count(*) as events\n",
    "    FROM  `nbcu-ds-prod-001.PeacockDataMartSilver.SILVER_MPARTICLE_BRAZE` \n",
    "    WHERE event_name = 'Email Unsubscribes' \n",
    "    AND event_date <= @report_end_date\n",
    "    group by 1\n",
    ")\n",
    "select case when events = 0 then '0' when events = 1 then '1' when events = 2 then '2' else '3+' end, count(adobe_tracking_id) from cte group by 1 order by 1"
   ]
  },
  {
   "cell_type": "code",
   "execution_count": 19,
   "metadata": {
    "vscode": {
     "languageId": "sql"
    }
   },
   "outputs": [
    {
     "data": {
      "application/vnd.jupyter.widget-view+json": {
       "model_id": "38ed2e57be064bb187f9f616f0802960",
       "version_major": 2,
       "version_minor": 0
      },
      "text/plain": [
       "Query is running:   0%|          |"
      ]
     },
     "metadata": {},
     "output_type": "display_data"
    },
    {
     "data": {
      "text/html": [
       "<div>\n",
       "<style scoped>\n",
       "    .dataframe tbody tr th:only-of-type {\n",
       "        vertical-align: middle;\n",
       "    }\n",
       "\n",
       "    .dataframe tbody tr th {\n",
       "        vertical-align: top;\n",
       "    }\n",
       "\n",
       "    .dataframe thead th {\n",
       "        text-align: right;\n",
       "    }\n",
       "</style>\n",
       "<table border=\"1\" class=\"dataframe\">\n",
       "  <thead>\n",
       "    <tr style=\"text-align: right;\">\n",
       "      <th></th>\n",
       "    </tr>\n",
       "  </thead>\n",
       "  <tbody>\n",
       "  </tbody>\n",
       "</table>\n",
       "</div>"
      ],
      "text/plain": [
       "Empty DataFrame\n",
       "Columns: []\n",
       "Index: []"
      ]
     },
     "execution_count": 19,
     "metadata": {},
     "output_type": "execute_result"
    }
   ],
   "source": [
    "%%bigquery --project nbcu-ds-sandbox-a-001 --params $params\n",
    "\n",
    "CREATE OR REPLACE TABLE `nbcu-ds-sandbox-a-001.SLi_sandbox.unsub_test` AS \n",
    "\n",
    "with cte as (\n",
    "    SELECT distinct adobe_tracking_id\n",
    "    FROM `nbcu-ds-sandbox-a-001.SLi_sandbox.Email_Unsubs`\n",
    "    WHERE first_unsub_date <= @report_end_date\n",
    ")\n",
    "select adobe_tracking_id, event_name, event_date, last_value(event_name) over(partition by adobe_tracking_id order by eventTimestamp ROWS BETWEEN UNBOUNDED PRECEDING AND UNBOUNDED FOLLOWING) as last_event_name, last_value(event_date) over(partition by adobe_tracking_id order by eventTimestamp ROWS BETWEEN UNBOUNDED PRECEDING AND UNBOUNDED FOLLOWING) as last_event_date\n",
    "from `nbcu-ds-prod-001.PeacockDataMartSilver.SILVER_MPARTICLE_BRAZE`\n",
    "where adobe_tracking_id in (select adobe_tracking_id from cte)\n",
    "and event_date <= @report_end_date"
   ]
  },
  {
   "cell_type": "code",
   "execution_count": 22,
   "metadata": {
    "vscode": {
     "languageId": "sql"
    }
   },
   "outputs": [
    {
     "data": {
      "application/vnd.jupyter.widget-view+json": {
       "model_id": "118346f80dcc4072bf6a16c98a920228",
       "version_major": 2,
       "version_minor": 0
      },
      "text/plain": [
       "Query is running:   0%|          |"
      ]
     },
     "metadata": {},
     "output_type": "display_data"
    },
    {
     "data": {
      "application/vnd.jupyter.widget-view+json": {
       "model_id": "3992dd150ab544bd9b4f600b46a3ba47",
       "version_major": 2,
       "version_minor": 0
      },
      "text/plain": [
       "Downloading:   0%|          |"
      ]
     },
     "metadata": {},
     "output_type": "display_data"
    },
    {
     "data": {
      "text/html": [
       "<div>\n",
       "<style scoped>\n",
       "    .dataframe tbody tr th:only-of-type {\n",
       "        vertical-align: middle;\n",
       "    }\n",
       "\n",
       "    .dataframe tbody tr th {\n",
       "        vertical-align: top;\n",
       "    }\n",
       "\n",
       "    .dataframe thead th {\n",
       "        text-align: right;\n",
       "    }\n",
       "</style>\n",
       "<table border=\"1\" class=\"dataframe\">\n",
       "  <thead>\n",
       "    <tr style=\"text-align: right;\">\n",
       "      <th></th>\n",
       "      <th>last_event_name</th>\n",
       "      <th>f0_</th>\n",
       "    </tr>\n",
       "  </thead>\n",
       "  <tbody>\n",
       "    <tr>\n",
       "      <th>0</th>\n",
       "      <td>Campaign Control Group Enrollments</td>\n",
       "      <td>407</td>\n",
       "    </tr>\n",
       "    <tr>\n",
       "      <th>1</th>\n",
       "      <td>Push Notification Opens</td>\n",
       "      <td>1194</td>\n",
       "    </tr>\n",
       "    <tr>\n",
       "      <th>2</th>\n",
       "      <td>Push Notification Bounces</td>\n",
       "      <td>4753</td>\n",
       "    </tr>\n",
       "    <tr>\n",
       "      <th>3</th>\n",
       "      <td>Email Marks As Spam</td>\n",
       "      <td>4941</td>\n",
       "    </tr>\n",
       "    <tr>\n",
       "      <th>4</th>\n",
       "      <td>Email Clicks</td>\n",
       "      <td>20515</td>\n",
       "    </tr>\n",
       "    <tr>\n",
       "      <th>5</th>\n",
       "      <td>Email Bounces</td>\n",
       "      <td>30657</td>\n",
       "    </tr>\n",
       "    <tr>\n",
       "      <th>6</th>\n",
       "      <td>Campaign Conversions</td>\n",
       "      <td>37787</td>\n",
       "    </tr>\n",
       "    <tr>\n",
       "      <th>7</th>\n",
       "      <td>Email Sends</td>\n",
       "      <td>41095</td>\n",
       "    </tr>\n",
       "    <tr>\n",
       "      <th>8</th>\n",
       "      <td>Canvas Entries - Control</td>\n",
       "      <td>70533</td>\n",
       "    </tr>\n",
       "    <tr>\n",
       "      <th>9</th>\n",
       "      <td>Email Unsubscribes</td>\n",
       "      <td>88211</td>\n",
       "    </tr>\n",
       "    <tr>\n",
       "      <th>10</th>\n",
       "      <td>Push Notification Sends</td>\n",
       "      <td>515727</td>\n",
       "    </tr>\n",
       "    <tr>\n",
       "      <th>11</th>\n",
       "      <td>Canvas Conversions</td>\n",
       "      <td>635219</td>\n",
       "    </tr>\n",
       "    <tr>\n",
       "      <th>12</th>\n",
       "      <td>Webhook Sends</td>\n",
       "      <td>929013</td>\n",
       "    </tr>\n",
       "    <tr>\n",
       "      <th>13</th>\n",
       "      <td>Email Opens</td>\n",
       "      <td>1447762</td>\n",
       "    </tr>\n",
       "    <tr>\n",
       "      <th>14</th>\n",
       "      <td>Email Deliveries</td>\n",
       "      <td>1947254</td>\n",
       "    </tr>\n",
       "    <tr>\n",
       "      <th>15</th>\n",
       "      <td>Canvas Entries</td>\n",
       "      <td>5393505</td>\n",
       "    </tr>\n",
       "  </tbody>\n",
       "</table>\n",
       "</div>"
      ],
      "text/plain": [
       "                       last_event_name      f0_\n",
       "0   Campaign Control Group Enrollments      407\n",
       "1              Push Notification Opens     1194\n",
       "2            Push Notification Bounces     4753\n",
       "3                  Email Marks As Spam     4941\n",
       "4                         Email Clicks    20515\n",
       "5                        Email Bounces    30657\n",
       "6                 Campaign Conversions    37787\n",
       "7                          Email Sends    41095\n",
       "8             Canvas Entries - Control    70533\n",
       "9                   Email Unsubscribes    88211\n",
       "10             Push Notification Sends   515727\n",
       "11                  Canvas Conversions   635219\n",
       "12                       Webhook Sends   929013\n",
       "13                         Email Opens  1447762\n",
       "14                    Email Deliveries  1947254\n",
       "15                      Canvas Entries  5393505"
      ]
     },
     "execution_count": 22,
     "metadata": {},
     "output_type": "execute_result"
    }
   ],
   "source": [
    "%%bigquery --project nbcu-ds-sandbox-a-001 --params $params\n",
    "\n",
    "select last_event_name, count(distinct adobe_tracking_id) from `nbcu-ds-sandbox-a-001.SLi_sandbox.unsub_test`\n",
    "group by 1\n",
    "order by 2 desc "
   ]
  },
  {
   "cell_type": "code",
   "execution_count": 48,
   "metadata": {
    "vscode": {
     "languageId": "sql"
    }
   },
   "outputs": [
    {
     "data": {
      "application/vnd.jupyter.widget-view+json": {
       "model_id": "f47cd76637b64bebbe8b24dbcf48d0f2",
       "version_major": 2,
       "version_minor": 0
      },
      "text/plain": [
       "Query is running:   0%|          |"
      ]
     },
     "metadata": {},
     "output_type": "display_data"
    },
    {
     "data": {
      "application/vnd.jupyter.widget-view+json": {
       "model_id": "a0510d8d48ec4a0babc62ecac6d139c1",
       "version_major": 2,
       "version_minor": 0
      },
      "text/plain": [
       "Downloading:   0%|          |"
      ]
     },
     "metadata": {},
     "output_type": "display_data"
    }
   ],
   "source": [
    "%%bigquery df --project nbcu-ds-sandbox-a-001 --params $params\n",
    "select last_unsub_date, count(adobe_tracking_id) as unsubs\n",
    "from (\n",
    "    SELECT  adobe_tracking_id\n",
    "        ,MAX(event_date) AS last_unsub_date\n",
    "    FROM `nbcu-ds-prod-001.PeacockDataMartSilver.SILVER_MPARTICLE_BRAZE`\n",
    "    WHERE event_name = 'Email Unsubscribes'\n",
    "    AND event_date <= @report_end_date\n",
    "    GROUP BY  1\n",
    ")\n",
    "group by 1"
   ]
  },
  {
   "cell_type": "code",
   "execution_count": 49,
   "metadata": {
    "vscode": {
     "languageId": "sql"
    }
   },
   "outputs": [
    {
     "data": {
      "text/plain": [
       "<AxesSubplot:>"
      ]
     },
     "execution_count": 49,
     "metadata": {},
     "output_type": "execute_result"
    },
    {
     "data": {
      "image/png": "[encoded data removed]",
      "text/plain": [
       "<Figure size 640x480 with 1 Axes>"
      ]
     },
     "metadata": {},
     "output_type": "display_data"
    }
   ],
   "source": [
    "df.plot()"
   ]
  },
  {
   "cell_type": "code",
   "execution_count": 53,
   "metadata": {
    "vscode": {
     "languageId": "sql"
    }
   },
   "outputs": [
    {
     "data": {
      "application/vnd.jupyter.widget-view+json": {
       "model_id": "3061237a11b34ce98b0511af3faa0fab",
       "version_major": 2,
       "version_minor": 0
      },
      "text/plain": [
       "Query is running:   0%|          |"
      ]
     },
     "metadata": {},
     "output_type": "display_data"
    },
    {
     "data": {
      "application/vnd.jupyter.widget-view+json": {
       "model_id": "2b91c2d22ac04ecb97704aaafe6f3521",
       "version_major": 2,
       "version_minor": 0
      },
      "text/plain": [
       "Downloading:   0%|          |"
      ]
     },
     "metadata": {},
     "output_type": "display_data"
    },
    {
     "data": {
      "text/html": [
       "<div>\n",
       "<style scoped>\n",
       "    .dataframe tbody tr th:only-of-type {\n",
       "        vertical-align: middle;\n",
       "    }\n",
       "\n",
       "    .dataframe tbody tr th {\n",
       "        vertical-align: top;\n",
       "    }\n",
       "\n",
       "    .dataframe thead th {\n",
       "        text-align: right;\n",
       "    }\n",
       "</style>\n",
       "<table border=\"1\" class=\"dataframe\">\n",
       "  <thead>\n",
       "    <tr style=\"text-align: right;\">\n",
       "      <th></th>\n",
       "      <th>total_unsubs</th>\n",
       "      <th>users_with_deliveries_after_unsubs</th>\n",
       "      <th>delta</th>\n",
       "    </tr>\n",
       "  </thead>\n",
       "  <tbody>\n",
       "    <tr>\n",
       "      <th>0</th>\n",
       "      <td>11158437</td>\n",
       "      <td>9815118</td>\n",
       "      <td>1343319</td>\n",
       "    </tr>\n",
       "  </tbody>\n",
       "</table>\n",
       "</div>"
      ],
      "text/plain": [
       "   total_unsubs  users_with_deliveries_after_unsubs    delta\n",
       "0      11158437                             9815118  1343319"
      ]
     },
     "execution_count": 53,
     "metadata": {},
     "output_type": "execute_result"
    }
   ],
   "source": [
    "%%bigquery --project nbcu-ds-sandbox-a-001 --params $params\n",
    "with unsubs as (\n",
    "    SELECT  adobe_tracking_id\n",
    "       ,MAX(eventtimestamp) AS last_unsub_timestamp\n",
    "    FROM `nbcu-ds-prod-001.PeacockDataMartSilver.SILVER_MPARTICLE_BRAZE`\n",
    "    WHERE event_name = 'Email Unsubscribes'\n",
    "    and eventtimestamp <= @report_end_date\n",
    "    GROUP BY  1\n",
    ")\n",
    ",deliveries as (\n",
    "    SELECT  distinct a.adobe_tracking_id\n",
    "    FROM (\n",
    "        select adobe_tracking_id, eventtimestamp\n",
    "        from `nbcu-ds-prod-001.PeacockDataMartSilver.SILVER_MPARTICLE_BRAZE`\n",
    "        WHERE event_name = 'Email Deliveries'\n",
    "    ) a\n",
    "    JOIN unsubs b\n",
    "    ON a.adobe_tracking_id = b.adobe_tracking_id\n",
    "    AND a.eventtimestamp > b.last_unsub_timestamp\n",
    "\n",
    ")\n",
    "SELECT  COUNT(distinct a.adobe_tracking_id) as total_unsubs\n",
    "       ,COUNT(distinct b.adobe_tracking_id) as users_with_deliveries_after_unsubs\n",
    "       ,COUNT(distinct a.adobe_tracking_id) - COUNT(distinct b.adobe_tracking_id) as delta\n",
    "FROM unsubs a\n",
    "LEFT JOIN deliveries b\n",
    "ON a.adobe_tracking_id = b.adobe_tracking_id"
   ]
  },
  {
   "attachments": {},
   "cell_type": "markdown",
   "metadata": {},
   "source": [
    "Of those who unsubscribed, what is their receive rate after that day?"
   ]
  },
  {
   "attachments": {},
   "cell_type": "markdown",
   "metadata": {},
   "source": [
    "# Tally Table - Recursively obtain months in a quarter"
   ]
  },
  {
   "cell_type": "code",
   "execution_count": 130,
   "metadata": {
    "vscode": {
     "languageId": "sql"
    }
   },
   "outputs": [],
   "source": [
    "params = {\n",
    "    'report_start_date': '2023-01-31',\n",
    "    'report_end_date': '2023-03-31'\n",
    "}"
   ]
  },
  {
   "cell_type": "code",
   "execution_count": 131,
   "metadata": {
    "vscode": {
     "languageId": "sql"
    }
   },
   "outputs": [
    {
     "data": {
      "application/vnd.jupyter.widget-view+json": {
       "model_id": "2c5b0dda93074f67a640c8d589fc3ba9",
       "version_major": 2,
       "version_minor": 0
      },
      "text/plain": [
       "Query is running:   0%|          |"
      ]
     },
     "metadata": {},
     "output_type": "display_data"
    },
    {
     "data": {
      "application/vnd.jupyter.widget-view+json": {
       "model_id": "4858f0240e9d448b94a95e2b6886062b",
       "version_major": 2,
       "version_minor": 0
      },
      "text/plain": [
       "Downloading:   0%|          |"
      ]
     },
     "metadata": {},
     "output_type": "display_data"
    },
    {
     "data": {
      "text/html": [
       "<div>\n",
       "<style scoped>\n",
       "    .dataframe tbody tr th:only-of-type {\n",
       "        vertical-align: middle;\n",
       "    }\n",
       "\n",
       "    .dataframe tbody tr th {\n",
       "        vertical-align: top;\n",
       "    }\n",
       "\n",
       "    .dataframe thead th {\n",
       "        text-align: right;\n",
       "    }\n",
       "</style>\n",
       "<table border=\"1\" class=\"dataframe\">\n",
       "  <thead>\n",
       "    <tr style=\"text-align: right;\">\n",
       "      <th></th>\n",
       "      <th>Month_Start</th>\n",
       "      <th>Month_End</th>\n",
       "    </tr>\n",
       "  </thead>\n",
       "  <tbody>\n",
       "    <tr>\n",
       "      <th>0</th>\n",
       "      <td>2023-01-01</td>\n",
       "      <td>2023-01-31</td>\n",
       "    </tr>\n",
       "    <tr>\n",
       "      <th>1</th>\n",
       "      <td>2023-02-01</td>\n",
       "      <td>2023-02-28</td>\n",
       "    </tr>\n",
       "    <tr>\n",
       "      <th>2</th>\n",
       "      <td>2023-03-01</td>\n",
       "      <td>2023-03-31</td>\n",
       "    </tr>\n",
       "  </tbody>\n",
       "</table>\n",
       "</div>"
      ],
      "text/plain": [
       "  Month_Start   Month_End\n",
       "0  2023-01-01  2023-01-31\n",
       "1  2023-02-01  2023-02-28\n",
       "2  2023-03-01  2023-03-31"
      ]
     },
     "execution_count": 131,
     "metadata": {},
     "output_type": "execute_result"
    }
   ],
   "source": [
    "%%bigquery --project nbcu-ds-sandbox-a-001 --params $params\n",
    "WITH RECURSIVE month_cte AS\n",
    "(\n",
    "\tSELECT  LAST_DAY(@report_start_date,MONTH) AS eom_dates\n",
    "\tUNION ALL\n",
    "\tSELECT  DATE_ADD(eom_dates,INTERVAL 1 MONTH) AS eom_dates\n",
    "\tFROM month_cte\n",
    "\tWHERE eom_dates <= DATE_TRUNC(@report_end_date, MONTH) \n",
    ") , month_ends AS\n",
    "(\n",
    "\tSELECT  DATE_TRUNC(eom_dates,MONTH) AS Month_Start\n",
    "\t       ,LAST_DAY(eom_dates,MONTH)   AS Month_End\n",
    "\tFROM month_cte\n",
    "\tORDER BY Month_Start, Month_End\n",
    ")\n",
    "SELECT  Month_Start\n",
    "       ,Month_End\n",
    "FROM month_ends"
   ]
  },
  {
   "attachments": {},
   "cell_type": "markdown",
   "metadata": {},
   "source": [
    "## Cross Join Implementation"
   ]
  },
  {
   "cell_type": "code",
   "execution_count": 141,
   "metadata": {
    "vscode": {
     "languageId": "sql"
    }
   },
   "outputs": [
    {
     "data": {
      "application/vnd.jupyter.widget-view+json": {
       "model_id": "04b971836d5041a7a35bb6dfb07acf26",
       "version_major": 2,
       "version_minor": 0
      },
      "text/plain": [
       "Query is running:   0%|          |"
      ]
     },
     "metadata": {},
     "output_type": "display_data"
    },
    {
     "data": {
      "application/vnd.jupyter.widget-view+json": {
       "model_id": "0765fd5776554ca6801e745ad7c68c8e",
       "version_major": 2,
       "version_minor": 0
      },
      "text/plain": [
       "Downloading:   0%|          |"
      ]
     },
     "metadata": {},
     "output_type": "display_data"
    },
    {
     "data": {
      "text/html": [
       "<div>\n",
       "<style scoped>\n",
       "    .dataframe tbody tr th:only-of-type {\n",
       "        vertical-align: middle;\n",
       "    }\n",
       "\n",
       "    .dataframe tbody tr th {\n",
       "        vertical-align: top;\n",
       "    }\n",
       "\n",
       "    .dataframe thead th {\n",
       "        text-align: right;\n",
       "    }\n",
       "</style>\n",
       "<table border=\"1\" class=\"dataframe\">\n",
       "  <thead>\n",
       "    <tr style=\"text-align: right;\">\n",
       "      <th></th>\n",
       "      <th>month_start</th>\n",
       "      <th>f0_</th>\n",
       "    </tr>\n",
       "  </thead>\n",
       "  <tbody>\n",
       "    <tr>\n",
       "      <th>0</th>\n",
       "      <td>2023-01-01</td>\n",
       "      <td>11168573</td>\n",
       "    </tr>\n",
       "    <tr>\n",
       "      <th>1</th>\n",
       "      <td>2023-02-01</td>\n",
       "      <td>11522737</td>\n",
       "    </tr>\n",
       "    <tr>\n",
       "      <th>2</th>\n",
       "      <td>2023-03-01</td>\n",
       "      <td>11792806</td>\n",
       "    </tr>\n",
       "  </tbody>\n",
       "</table>\n",
       "</div>"
      ],
      "text/plain": [
       "  month_start       f0_\n",
       "0  2023-01-01  11168573\n",
       "1  2023-02-01  11522737\n",
       "2  2023-03-01  11792806"
      ]
     },
     "execution_count": 141,
     "metadata": {},
     "output_type": "execute_result"
    }
   ],
   "source": [
    "%%bigquery --project nbcu-ds-sandbox-a-001 --params $params\n",
    "SELECT  month_start\n",
    "       ,COUNT(adobe_tracking_id)\n",
    "FROM `nbcu-ds-sandbox-a-001.SLi_sandbox.Email_Unsubs`\n",
    "CROSS JOIN `nbcu-ds-sandbox-a-001.SLi_sandbox.Channel_Dates_Q1_2023`\n",
    "WHERE first_unsub_date <= month_end\n",
    "GROUP BY  1\n",
    "order by 1"
   ]
  },
  {
   "cell_type": "code",
   "execution_count": 138,
   "metadata": {
    "vscode": {
     "languageId": "sql"
    }
   },
   "outputs": [
    {
     "data": {
      "application/vnd.jupyter.widget-view+json": {
       "model_id": "1a8d1843498e4a5496104e2a9b5994ce",
       "version_major": 2,
       "version_minor": 0
      },
      "text/plain": [
       "Query is running:   0%|          |"
      ]
     },
     "metadata": {},
     "output_type": "display_data"
    },
    {
     "data": {
      "application/vnd.jupyter.widget-view+json": {
       "model_id": "e2b8f1887cc5405ca1d7538c28971e75",
       "version_major": 2,
       "version_minor": 0
      },
      "text/plain": [
       "Downloading:   0%|          |"
      ]
     },
     "metadata": {},
     "output_type": "display_data"
    },
    {
     "data": {
      "text/html": [
       "<div>\n",
       "<style scoped>\n",
       "    .dataframe tbody tr th:only-of-type {\n",
       "        vertical-align: middle;\n",
       "    }\n",
       "\n",
       "    .dataframe tbody tr th {\n",
       "        vertical-align: top;\n",
       "    }\n",
       "\n",
       "    .dataframe thead th {\n",
       "        text-align: right;\n",
       "    }\n",
       "</style>\n",
       "<table border=\"1\" class=\"dataframe\">\n",
       "  <thead>\n",
       "    <tr style=\"text-align: right;\">\n",
       "      <th></th>\n",
       "      <th>f0_</th>\n",
       "    </tr>\n",
       "  </thead>\n",
       "  <tbody>\n",
       "    <tr>\n",
       "      <th>0</th>\n",
       "      <td>11168573</td>\n",
       "    </tr>\n",
       "  </tbody>\n",
       "</table>\n",
       "</div>"
      ],
      "text/plain": [
       "        f0_\n",
       "0  11168573"
      ]
     },
     "execution_count": 138,
     "metadata": {},
     "output_type": "execute_result"
    }
   ],
   "source": [
    "%%bigquery --project nbcu-ds-sandbox-a-001 --params $params\n",
    "SELECT  COUNT(adobe_tracking_id)\n",
    "FROM `nbcu-ds-sandbox-a-001.SLi_sandbox.Email_Unsubs_v4_Jan2023`"
   ]
  },
  {
   "cell_type": "code",
   "execution_count": 139,
   "metadata": {
    "vscode": {
     "languageId": "sql"
    }
   },
   "outputs": [
    {
     "data": {
      "application/vnd.jupyter.widget-view+json": {
       "model_id": "ff80ee6df17640efbb37f1a848893c28",
       "version_major": 2,
       "version_minor": 0
      },
      "text/plain": [
       "Query is running:   0%|          |"
      ]
     },
     "metadata": {},
     "output_type": "display_data"
    },
    {
     "data": {
      "application/vnd.jupyter.widget-view+json": {
       "model_id": "8f75024185484a0e82cd749af1097a8e",
       "version_major": 2,
       "version_minor": 0
      },
      "text/plain": [
       "Downloading:   0%|          |"
      ]
     },
     "metadata": {},
     "output_type": "display_data"
    },
    {
     "data": {
      "text/html": [
       "<div>\n",
       "<style scoped>\n",
       "    .dataframe tbody tr th:only-of-type {\n",
       "        vertical-align: middle;\n",
       "    }\n",
       "\n",
       "    .dataframe tbody tr th {\n",
       "        vertical-align: top;\n",
       "    }\n",
       "\n",
       "    .dataframe thead th {\n",
       "        text-align: right;\n",
       "    }\n",
       "</style>\n",
       "<table border=\"1\" class=\"dataframe\">\n",
       "  <thead>\n",
       "    <tr style=\"text-align: right;\">\n",
       "      <th></th>\n",
       "      <th>f0_</th>\n",
       "    </tr>\n",
       "  </thead>\n",
       "  <tbody>\n",
       "    <tr>\n",
       "      <th>0</th>\n",
       "      <td>11522737</td>\n",
       "    </tr>\n",
       "  </tbody>\n",
       "</table>\n",
       "</div>"
      ],
      "text/plain": [
       "        f0_\n",
       "0  11522737"
      ]
     },
     "execution_count": 139,
     "metadata": {},
     "output_type": "execute_result"
    }
   ],
   "source": [
    "%%bigquery --project nbcu-ds-sandbox-a-001 --params $params\n",
    "SELECT  COUNT(adobe_tracking_id)\n",
    "FROM `nbcu-ds-sandbox-a-001.SLi_sandbox.Email_Unsubs_v4_Feb2023`"
   ]
  },
  {
   "attachments": {},
   "cell_type": "markdown",
   "metadata": {},
   "source": [
    "### Another Test"
   ]
  },
  {
   "cell_type": "code",
   "execution_count": 205,
   "metadata": {
    "vscode": {
     "languageId": "sql"
    }
   },
   "outputs": [],
   "source": [
    "params = {\n",
    "    'report_start_date': '2023-01-01',\n",
    "    'report_end_date': '2023-03-31'\n",
    "}"
   ]
  },
  {
   "cell_type": "code",
   "execution_count": 212,
   "metadata": {
    "vscode": {
     "languageId": "sql"
    }
   },
   "outputs": [
    {
     "data": {
      "application/vnd.jupyter.widget-view+json": {
       "model_id": "3f1978234be14a08b081ec097ca62a13",
       "version_major": 2,
       "version_minor": 0
      },
      "text/plain": [
       "Query is running:   0%|          |"
      ]
     },
     "metadata": {},
     "output_type": "display_data"
    },
    {
     "data": {
      "application/vnd.jupyter.widget-view+json": {
       "model_id": "e025ad94a9494b4e850aa13539fbe8d5",
       "version_major": 2,
       "version_minor": 0
      },
      "text/plain": [
       "Downloading:   0%|          |"
      ]
     },
     "metadata": {},
     "output_type": "display_data"
    },
    {
     "data": {
      "text/html": [
       "<div>\n",
       "<style scoped>\n",
       "    .dataframe tbody tr th:only-of-type {\n",
       "        vertical-align: middle;\n",
       "    }\n",
       "\n",
       "    .dataframe tbody tr th {\n",
       "        vertical-align: top;\n",
       "    }\n",
       "\n",
       "    .dataframe thead th {\n",
       "        text-align: right;\n",
       "    }\n",
       "</style>\n",
       "<table border=\"1\" class=\"dataframe\">\n",
       "  <thead>\n",
       "    <tr style=\"text-align: right;\">\n",
       "      <th></th>\n",
       "      <th>Report_Month</th>\n",
       "      <th>cohort</th>\n",
       "      <th>num</th>\n",
       "      <th>denom</th>\n",
       "      <th>f0_</th>\n",
       "    </tr>\n",
       "  </thead>\n",
       "  <tbody>\n",
       "    <tr>\n",
       "      <th>0</th>\n",
       "      <td>2023-01-01</td>\n",
       "      <td>Holdout</td>\n",
       "      <td>29588</td>\n",
       "      <td>481119</td>\n",
       "      <td>0.061498</td>\n",
       "    </tr>\n",
       "    <tr>\n",
       "      <th>1</th>\n",
       "      <td>2023-01-01</td>\n",
       "      <td>Targeted</td>\n",
       "      <td>626352</td>\n",
       "      <td>10432408</td>\n",
       "      <td>0.060039</td>\n",
       "    </tr>\n",
       "    <tr>\n",
       "      <th>2</th>\n",
       "      <td>2023-02-01</td>\n",
       "      <td>Holdout</td>\n",
       "      <td>25707</td>\n",
       "      <td>481652</td>\n",
       "      <td>0.053373</td>\n",
       "    </tr>\n",
       "    <tr>\n",
       "      <th>3</th>\n",
       "      <td>2023-02-01</td>\n",
       "      <td>Targeted</td>\n",
       "      <td>640133</td>\n",
       "      <td>12935147</td>\n",
       "      <td>0.049488</td>\n",
       "    </tr>\n",
       "  </tbody>\n",
       "</table>\n",
       "</div>"
      ],
      "text/plain": [
       "  Report_Month    cohort     num     denom       f0_\n",
       "0   2023-01-01   Holdout   29588    481119  0.061498\n",
       "1   2023-01-01  Targeted  626352  10432408  0.060039\n",
       "2   2023-02-01   Holdout   25707    481652  0.053373\n",
       "3   2023-02-01  Targeted  640133  12935147  0.049488"
      ]
     },
     "execution_count": 212,
     "metadata": {},
     "output_type": "execute_result"
    }
   ],
   "source": [
    "%%bigquery --project nbcu-ds-sandbox-a-001 --params $params\n",
    "WITH RECURSIVE month_cte AS\n",
    "(\n",
    "\tSELECT  LAST_DAY(@report_start_date,MONTH) AS eom_dates\n",
    "\tUNION ALL\n",
    "\tSELECT  DATE_ADD(eom_dates,INTERVAL 1 MONTH) AS eom_dates\n",
    "\tFROM month_cte\n",
    "\tWHERE eom_dates <= DATE_TRUNC(@report_end_date, MONTH) \n",
    ") , month_ends AS\n",
    "(\n",
    "\tSELECT  DATE_TRUNC(eom_dates,MONTH) AS Month_Start\n",
    "\t       ,LAST_DAY(eom_dates,MONTH)   AS Month_End\n",
    "\tFROM month_cte\n",
    "\tORDER BY Month_Start, Month_End\n",
    ") , cte AS\n",
    "(\n",
    "\tSELECT  Report_Month\n",
    "            ,b.cohort\n",
    "\t       ,b.aid\n",
    "\t       ,COUNT(DISTINCT c.adobe_tracking_id)                                         AS denom\n",
    "\t       ,COUNT(DISTINCT CASE WHEN Churn_flag = 'Churn' THEN c.adobe_tracking_id END) AS num\n",
    "\tFROM `nbcu-ds-prod-001.PeacockDataMartSilver.SILVER_CHURN` c\n",
    "\tCROSS JOIN month_ends\n",
    "\tJOIN `nbcu-ds-sandbox-a-001.SLi_sandbox.Email_KPI_Base_Monthly` b\n",
    "\tON b.aid = c.adobe_tracking_id AND month_ends.month_start = b.Report_Month\n",
    "\tWHERE (base_date = month_end)\n",
    "\tAND (entitlement = 'Paid')\n",
    "\tGROUP BY  1,2,3\n",
    ")\n",
    "SELECT  Report_Month\n",
    "\t\t,cohort\n",
    "\t\t,SUM(num) as num\n",
    "\t\t,SUM(denom) as denom\n",
    "       ,safe_divide(SUM(num),SUM(denom))\n",
    "FROM cte\n",
    "GROUP BY  1,2\n",
    "order by 1,2"
   ]
  },
  {
   "cell_type": "code",
   "execution_count": 219,
   "metadata": {
    "vscode": {
     "languageId": "sql"
    }
   },
   "outputs": [
    {
     "data": {
      "application/vnd.jupyter.widget-view+json": {
       "model_id": "ccbd68ffe34e4d0b8f88aeb00b80ff0d",
       "version_major": 2,
       "version_minor": 0
      },
      "text/plain": [
       "Query is running:   0%|          |"
      ]
     },
     "metadata": {},
     "output_type": "display_data"
    },
    {
     "data": {
      "application/vnd.jupyter.widget-view+json": {
       "model_id": "64d39574ba65479f8af355ac09b4cfb6",
       "version_major": 2,
       "version_minor": 0
      },
      "text/plain": [
       "Downloading:   0%|          |"
      ]
     },
     "metadata": {},
     "output_type": "display_data"
    },
    {
     "data": {
      "text/html": [
       "<div>\n",
       "<style scoped>\n",
       "    .dataframe tbody tr th:only-of-type {\n",
       "        vertical-align: middle;\n",
       "    }\n",
       "\n",
       "    .dataframe tbody tr th {\n",
       "        vertical-align: top;\n",
       "    }\n",
       "\n",
       "    .dataframe thead th {\n",
       "        text-align: right;\n",
       "    }\n",
       "</style>\n",
       "<table border=\"1\" class=\"dataframe\">\n",
       "  <thead>\n",
       "    <tr style=\"text-align: right;\">\n",
       "      <th></th>\n",
       "      <th>cohort</th>\n",
       "      <th>num</th>\n",
       "      <th>denom</th>\n",
       "      <th>f0_</th>\n",
       "    </tr>\n",
       "  </thead>\n",
       "  <tbody>\n",
       "    <tr>\n",
       "      <th>0</th>\n",
       "      <td>Targeted</td>\n",
       "      <td>1266485</td>\n",
       "      <td>23367555</td>\n",
       "      <td>0.054198</td>\n",
       "    </tr>\n",
       "    <tr>\n",
       "      <th>1</th>\n",
       "      <td>Holdout</td>\n",
       "      <td>55295</td>\n",
       "      <td>962771</td>\n",
       "      <td>0.057433</td>\n",
       "    </tr>\n",
       "  </tbody>\n",
       "</table>\n",
       "</div>"
      ],
      "text/plain": [
       "     cohort      num     denom       f0_\n",
       "0  Targeted  1266485  23367555  0.054198\n",
       "1   Holdout    55295    962771  0.057433"
      ]
     },
     "execution_count": 219,
     "metadata": {},
     "output_type": "execute_result"
    }
   ],
   "source": [
    "%%bigquery --project nbcu-ds-sandbox-a-001 --params $params\n",
    "WITH RECURSIVE month_cte AS\n",
    "(\n",
    "\tSELECT  LAST_DAY(@report_start_date,MONTH) AS eom_dates\n",
    "\tUNION ALL\n",
    "\tSELECT  DATE_ADD(eom_dates,INTERVAL 1 MONTH) AS eom_dates\n",
    "\tFROM month_cte\n",
    "\tWHERE eom_dates <= DATE_TRUNC(@report_end_date, MONTH) \n",
    ") , month_ends AS\n",
    "(\n",
    "\tSELECT  DATE_TRUNC(eom_dates,MONTH) AS Month_Start\n",
    "\t       ,LAST_DAY(eom_dates,MONTH)   AS Month_End\n",
    "\tFROM month_cte\n",
    "\tORDER BY Month_Start, Month_End\n",
    ") , base AS\n",
    "(\n",
    "\tSELECT  b.Report_Month\n",
    "\t       ,b.aid\n",
    "\t       ,b.cohort\n",
    "\t       ,COUNT(DISTINCT c.adobe_tracking_id)                                         AS denom\n",
    "\t       ,COUNT(DISTINCT CASE WHEN Churn_flag = 'Churn' THEN c.adobe_tracking_id END) AS num\n",
    "\tFROM `nbcu-ds-prod-001.PeacockDataMartSilver.SILVER_CHURN` c\n",
    "\tCROSS JOIN month_ends\n",
    "\tJOIN `nbcu-ds-sandbox-a-001.SLi_sandbox.Email_KPI_Base_Monthly` b\n",
    "\tON b.aid = c.adobe_tracking_id AND month_ends.month_start = b.Report_Month\n",
    "\tWHERE (base_date = month_end)\n",
    "\tAND (entitlement = 'Paid')\n",
    "\tGROUP BY  1\n",
    "\t         ,2\n",
    "\t         ,3\n",
    "), weighted AS\n",
    "(\n",
    "\tSELECT  cohort\n",
    "\t       ,aid\n",
    "\t       ,SUM(denom) AS denom\n",
    "\t       ,SUM(num)   AS num\n",
    "\tFROM base\n",
    "\tGROUP BY  1,2\n",
    ")\n",
    "SELECT  cohort\n",
    "       ,SUM(num)   AS num\n",
    "       ,SUM(denom) AS denom\n",
    "       ,safe_divide(SUM(num),SUM(denom))\n",
    "FROM weighted\n",
    "GROUP BY  1"
   ]
  },
  {
   "cell_type": "code",
   "execution_count": 216,
   "metadata": {
    "vscode": {
     "languageId": "sql"
    }
   },
   "outputs": [
    {
     "data": {
      "application/vnd.jupyter.widget-view+json": {
       "model_id": "56c19ecfce80464cb31855b70c8a8cfb",
       "version_major": 2,
       "version_minor": 0
      },
      "text/plain": [
       "Query is running:   0%|          |"
      ]
     },
     "metadata": {},
     "output_type": "display_data"
    },
    {
     "data": {
      "application/vnd.jupyter.widget-view+json": {
       "model_id": "3e10fdd0d3544978ad2261ff405ca56f",
       "version_major": 2,
       "version_minor": 0
      },
      "text/plain": [
       "Downloading:   0%|          |"
      ]
     },
     "metadata": {},
     "output_type": "display_data"
    },
    {
     "data": {
      "text/html": [
       "<div>\n",
       "<style scoped>\n",
       "    .dataframe tbody tr th:only-of-type {\n",
       "        vertical-align: middle;\n",
       "    }\n",
       "\n",
       "    .dataframe tbody tr th {\n",
       "        vertical-align: top;\n",
       "    }\n",
       "\n",
       "    .dataframe thead th {\n",
       "        text-align: right;\n",
       "    }\n",
       "</style>\n",
       "<table border=\"1\" class=\"dataframe\">\n",
       "  <thead>\n",
       "    <tr style=\"text-align: right;\">\n",
       "      <th></th>\n",
       "      <th>cohort</th>\n",
       "      <th>cohort_size</th>\n",
       "      <th>num</th>\n",
       "      <th>denom</th>\n",
       "      <th>f0_</th>\n",
       "    </tr>\n",
       "  </thead>\n",
       "  <tbody>\n",
       "    <tr>\n",
       "      <th>0</th>\n",
       "      <td>Targeted</td>\n",
       "      <td>48498504</td>\n",
       "      <td>1238855</td>\n",
       "      <td>23204948</td>\n",
       "      <td>0.053388</td>\n",
       "    </tr>\n",
       "    <tr>\n",
       "      <th>1</th>\n",
       "      <td>Holdout</td>\n",
       "      <td>1814873</td>\n",
       "      <td>55104</td>\n",
       "      <td>961667</td>\n",
       "      <td>0.057301</td>\n",
       "    </tr>\n",
       "  </tbody>\n",
       "</table>\n",
       "</div>"
      ],
      "text/plain": [
       "     cohort  cohort_size      num     denom       f0_\n",
       "0  Targeted     48498504  1238855  23204948  0.053388\n",
       "1   Holdout      1814873    55104    961667  0.057301"
      ]
     },
     "execution_count": 216,
     "metadata": {},
     "output_type": "execute_result"
    }
   ],
   "source": [
    "%%bigquery --project nbcu-ds-sandbox-a-001 --params $params\n",
    "WITH RECURSIVE month_cte AS\n",
    "(\n",
    "\tSELECT  LAST_DAY(@report_start_date,MONTH) AS eom_dates\n",
    "\tUNION ALL\n",
    "\tSELECT  DATE_ADD(eom_dates,INTERVAL 1 MONTH) AS eom_dates\n",
    "\tFROM month_cte\n",
    "\tWHERE eom_dates <= DATE_TRUNC(@report_end_date, MONTH) \n",
    ") , month_ends AS\n",
    "(\n",
    "\tSELECT  DATE_TRUNC(eom_dates,MONTH) AS Month_Start\n",
    "\t       ,LAST_DAY(eom_dates,MONTH)   AS Month_End\n",
    "\tFROM month_cte\n",
    "\tORDER BY Month_Start, Month_End\n",
    ") , base AS\n",
    "(\n",
    "\tSELECT  b.Report_Month\n",
    "\t       ,b.aid\n",
    "\t       ,COUNT(DISTINCT c.adobe_tracking_id)                                         AS denom\n",
    "\t       ,COUNT(DISTINCT CASE WHEN Churn_flag = 'Churn' THEN c.adobe_tracking_id END) AS num\n",
    "\tFROM `nbcu-ds-prod-001.PeacockDataMartSilver.SILVER_CHURN` c\n",
    "\tCROSS JOIN month_ends\n",
    "\tJOIN `nbcu-ds-sandbox-a-001.SLi_sandbox.Email_KPI_Base_Monthly` b\n",
    "\tON b.aid = c.adobe_tracking_id AND month_ends.month_start = b.Report_Month\n",
    "\tWHERE (base_date = month_end)\n",
    "\tAND (entitlement = 'Paid')\n",
    "\tGROUP BY  1,2\n",
    "), weighted as (\n",
    "\tselect aid\n",
    "\t\t,SUM(denom) as denom\n",
    "\t\t,SUM(num) as num\n",
    "\tFROM base\n",
    "\tgroup by 1\n",
    ")\n",
    "SELECT  q.cohort\n",
    "\t\t,COUNT(q.aid) as cohort_size\n",
    "\t\t,SUM(num) as num\n",
    "\t\t,SUM(denom) as denom\n",
    "       ,safe_divide(SUM(num),SUM(denom))\n",
    "FROM `nbcu-ds-sandbox-a-001.SLi_sandbox.Email_KPI_Base_v4_Q1_2023` q\n",
    "LEFT JOIN weighted ON q.aid = weighted.aid\n",
    "GROUP BY  1"
   ]
  },
  {
   "attachments": {},
   "cell_type": "markdown",
   "metadata": {},
   "source": [
    "### Overall cohort differences"
   ]
  },
  {
   "cell_type": "code",
   "execution_count": 226,
   "metadata": {
    "vscode": {
     "languageId": "sql"
    }
   },
   "outputs": [
    {
     "data": {
      "application/vnd.jupyter.widget-view+json": {
       "model_id": "7dc24b93e3ee4dd0b9e031a10ae2eeed",
       "version_major": 2,
       "version_minor": 0
      },
      "text/plain": [
       "Query is running:   0%|          |"
      ]
     },
     "metadata": {},
     "output_type": "display_data"
    },
    {
     "data": {
      "application/vnd.jupyter.widget-view+json": {
       "model_id": "8644d305454f48e1a89a43bbf7a1b999",
       "version_major": 2,
       "version_minor": 0
      },
      "text/plain": [
       "Downloading:   0%|          |"
      ]
     },
     "metadata": {},
     "output_type": "display_data"
    },
    {
     "data": {
      "text/html": [
       "<div>\n",
       "<style scoped>\n",
       "    .dataframe tbody tr th:only-of-type {\n",
       "        vertical-align: middle;\n",
       "    }\n",
       "\n",
       "    .dataframe tbody tr th {\n",
       "        vertical-align: top;\n",
       "    }\n",
       "\n",
       "    .dataframe thead th {\n",
       "        text-align: right;\n",
       "    }\n",
       "</style>\n",
       "<table border=\"1\" class=\"dataframe\">\n",
       "  <thead>\n",
       "    <tr style=\"text-align: right;\">\n",
       "      <th></th>\n",
       "      <th>cohort</th>\n",
       "      <th>f0_</th>\n",
       "    </tr>\n",
       "  </thead>\n",
       "  <tbody>\n",
       "    <tr>\n",
       "      <th>0</th>\n",
       "      <td>Holdout</td>\n",
       "      <td>1814873</td>\n",
       "    </tr>\n",
       "    <tr>\n",
       "      <th>1</th>\n",
       "      <td>Targeted</td>\n",
       "      <td>48498504</td>\n",
       "    </tr>\n",
       "  </tbody>\n",
       "</table>\n",
       "</div>"
      ],
      "text/plain": [
       "     cohort       f0_\n",
       "0   Holdout   1814873\n",
       "1  Targeted  48498504"
      ]
     },
     "execution_count": 226,
     "metadata": {},
     "output_type": "execute_result"
    }
   ],
   "source": [
    "%%bigquery --project nbcu-ds-sandbox-a-001 --params $params\n",
    "SELECT  cohort, count(distinct aid)\n",
    "FROM `nbcu-ds-sandbox-a-001.SLi_sandbox.Email_KPI_Base_v4_Q1_2023` group by 1 order by 1"
   ]
  },
  {
   "cell_type": "code",
   "execution_count": 229,
   "metadata": {
    "vscode": {
     "languageId": "sql"
    }
   },
   "outputs": [
    {
     "data": {
      "application/vnd.jupyter.widget-view+json": {
       "model_id": "69351f827bda48d6ac51d9e9fb08b163",
       "version_major": 2,
       "version_minor": 0
      },
      "text/plain": [
       "Query is running:   0%|          |"
      ]
     },
     "metadata": {},
     "output_type": "display_data"
    },
    {
     "data": {
      "application/vnd.jupyter.widget-view+json": {
       "model_id": "513d515621534dbc830dba1a72e373ca",
       "version_major": 2,
       "version_minor": 0
      },
      "text/plain": [
       "Downloading:   0%|          |"
      ]
     },
     "metadata": {},
     "output_type": "display_data"
    },
    {
     "data": {
      "text/html": [
       "<div>\n",
       "<style scoped>\n",
       "    .dataframe tbody tr th:only-of-type {\n",
       "        vertical-align: middle;\n",
       "    }\n",
       "\n",
       "    .dataframe tbody tr th {\n",
       "        vertical-align: top;\n",
       "    }\n",
       "\n",
       "    .dataframe thead th {\n",
       "        text-align: right;\n",
       "    }\n",
       "</style>\n",
       "<table border=\"1\" class=\"dataframe\">\n",
       "  <thead>\n",
       "    <tr style=\"text-align: right;\">\n",
       "      <th></th>\n",
       "      <th>cohort</th>\n",
       "      <th>f0_</th>\n",
       "    </tr>\n",
       "  </thead>\n",
       "  <tbody>\n",
       "    <tr>\n",
       "      <th>0</th>\n",
       "      <td>Holdout</td>\n",
       "      <td>1832721</td>\n",
       "    </tr>\n",
       "    <tr>\n",
       "      <th>1</th>\n",
       "      <td>Targeted</td>\n",
       "      <td>48959119</td>\n",
       "    </tr>\n",
       "  </tbody>\n",
       "</table>\n",
       "</div>"
      ],
      "text/plain": [
       "     cohort       f0_\n",
       "0   Holdout   1832721\n",
       "1  Targeted  48959119"
      ]
     },
     "execution_count": 229,
     "metadata": {},
     "output_type": "execute_result"
    }
   ],
   "source": [
    "%%bigquery --project nbcu-ds-sandbox-a-001 --params $params\n",
    "SELECT  cohort, count(distinct aid)\n",
    "FROM `nbcu-ds-sandbox-a-001.SLi_sandbox.Email_KPI_Base_Monthly` group by 1 order by 1"
   ]
  },
  {
   "attachments": {},
   "cell_type": "markdown",
   "metadata": {},
   "source": [
    "## Full outer join Implementation"
   ]
  },
  {
   "cell_type": "code",
   "execution_count": 2,
   "metadata": {
    "vscode": {
     "languageId": "sql"
    }
   },
   "outputs": [],
   "source": [
    "params = {\n",
    "    'report_start_date': '2023-01-01',\n",
    "    'report_end_date': '2023-03-31'\n",
    "}"
   ]
  },
  {
   "cell_type": "code",
   "execution_count": 13,
   "metadata": {
    "vscode": {
     "languageId": "sql"
    }
   },
   "outputs": [
    {
     "data": {
      "application/vnd.jupyter.widget-view+json": {
       "model_id": "aa9a7a10650d4f4e97c978198e842568",
       "version_major": 2,
       "version_minor": 0
      },
      "text/plain": [
       "Query is running:   0%|          |"
      ]
     },
     "metadata": {},
     "output_type": "display_data"
    },
    {
     "data": {
      "text/html": [
       "<div>\n",
       "<style scoped>\n",
       "    .dataframe tbody tr th:only-of-type {\n",
       "        vertical-align: middle;\n",
       "    }\n",
       "\n",
       "    .dataframe tbody tr th {\n",
       "        vertical-align: top;\n",
       "    }\n",
       "\n",
       "    .dataframe thead th {\n",
       "        text-align: right;\n",
       "    }\n",
       "</style>\n",
       "<table border=\"1\" class=\"dataframe\">\n",
       "  <thead>\n",
       "    <tr style=\"text-align: right;\">\n",
       "      <th></th>\n",
       "    </tr>\n",
       "  </thead>\n",
       "  <tbody>\n",
       "  </tbody>\n",
       "</table>\n",
       "</div>"
      ],
      "text/plain": [
       "Empty DataFrame\n",
       "Columns: []\n",
       "Index: []"
      ]
     },
     "execution_count": 13,
     "metadata": {},
     "output_type": "execute_result"
    }
   ],
   "source": [
    "%%bigquery --project nbcu-ds-sandbox-a-001 --params $params\n",
    "CREATE OR REPLACE TABLE `nbcu-ds-sandbox-a-001.SLi_sandbox.Email_EOM_Churn_Quarterly_Weighted_Q1_2023` AS (\n",
    "    WITH RECURSIVE month_cte AS\n",
    "    (\n",
    "        SELECT  LAST_DAY(@report_start_date,MONTH) AS eom_dates\n",
    "        UNION ALL\n",
    "        SELECT  DATE_ADD(eom_dates,INTERVAL 1 MONTH) AS eom_dates\n",
    "        FROM month_cte\n",
    "        WHERE eom_dates <= DATE_TRUNC(@report_end_date, MONTH) \n",
    "    ), month_ends AS\n",
    "    (\n",
    "        SELECT  DATE_TRUNC(eom_dates,MONTH) AS Month_Start\n",
    "            ,LAST_DAY(eom_dates,MONTH)   AS Month_End\n",
    "        FROM month_cte\n",
    "        ORDER BY Month_Start, Month_End\n",
    "    )\n",
    "    SELECT  cohort\n",
    "        ,aid\n",
    "        ,SUM(EOM_Paid_Churn_Denom) AS EOM_Paid_Churn_Denom\n",
    "        ,SUM(EOM_Paid_Churn_Num) AS EOM_Paid_Churn_Num\n",
    "    FROM `nbcu-ds-sandbox-a-001.SLi_sandbox.Email_KPI_Base_Monthly` base\n",
    "    JOIN month_ends\n",
    "    ON month_ends.Month_Start = base.Report_Month\n",
    "    GROUP BY  1,2\n",
    ")"
   ]
  },
  {
   "cell_type": "code",
   "execution_count": 16,
   "metadata": {
    "vscode": {
     "languageId": "sql"
    }
   },
   "outputs": [
    {
     "data": {
      "application/vnd.jupyter.widget-view+json": {
       "model_id": "0b8b863be50d4aa291fecc79532de499",
       "version_major": 2,
       "version_minor": 0
      },
      "text/plain": [
       "Query is running:   0%|          |"
      ]
     },
     "metadata": {},
     "output_type": "display_data"
    },
    {
     "data": {
      "text/html": [
       "<div>\n",
       "<style scoped>\n",
       "    .dataframe tbody tr th:only-of-type {\n",
       "        vertical-align: middle;\n",
       "    }\n",
       "\n",
       "    .dataframe tbody tr th {\n",
       "        vertical-align: top;\n",
       "    }\n",
       "\n",
       "    .dataframe thead th {\n",
       "        text-align: right;\n",
       "    }\n",
       "</style>\n",
       "<table border=\"1\" class=\"dataframe\">\n",
       "  <thead>\n",
       "    <tr style=\"text-align: right;\">\n",
       "      <th></th>\n",
       "    </tr>\n",
       "  </thead>\n",
       "  <tbody>\n",
       "  </tbody>\n",
       "</table>\n",
       "</div>"
      ],
      "text/plain": [
       "Empty DataFrame\n",
       "Columns: []\n",
       "Index: []"
      ]
     },
     "execution_count": 16,
     "metadata": {},
     "output_type": "execute_result"
    }
   ],
   "source": [
    "%%bigquery --project nbcu-ds-sandbox-a-001 --params $params\n",
    "CREATE OR REPLACE TABLE `nbcu-ds-sandbox-a-001.SLi_sandbox.Email_Channel_Base_Q1_2023` AS (\n",
    "\n",
    "    SELECT  @report_start_date                                                               AS Report_Month\n",
    "        ,a.aid\n",
    "        ,COALESCE(a.cohort, w.cohort) as cohort\n",
    "        ,EOM_Paid_Churn_Denom\n",
    "        ,EOM_Paid_Churn_Num\n",
    "    FROM `nbcu-ds-sandbox-a-001.SLi_sandbox.Email_Measurement_Audience_v4_Q1_2023` a\n",
    "    LEFT JOIN `nbcu-ds-sandbox-a-001.SLi_sandbox.Email_Video_Viewing_v4_Q1_2023` video\n",
    "    ON a.aid = video.adobe_tracking_id\n",
    "    FULL JOIN `nbcu-ds-sandbox-a-001.SLi_sandbox.Email_EOM_Churn_Quarterly_Weighted_Q1_2023` w\n",
    "    ON a.aid = w.aid\n",
    "\n",
    ");"
   ]
  },
  {
   "cell_type": "code",
   "execution_count": 17,
   "metadata": {
    "vscode": {
     "languageId": "sql"
    }
   },
   "outputs": [
    {
     "data": {
      "application/vnd.jupyter.widget-view+json": {
       "model_id": "44e3ecf1de34415ca56810f149e2f709",
       "version_major": 2,
       "version_minor": 0
      },
      "text/plain": [
       "Query is running:   0%|          |"
      ]
     },
     "metadata": {},
     "output_type": "display_data"
    },
    {
     "data": {
      "application/vnd.jupyter.widget-view+json": {
       "model_id": "76f8a06b314941f19ce8138aa1418bb2",
       "version_major": 2,
       "version_minor": 0
      },
      "text/plain": [
       "Downloading:   0%|          |"
      ]
     },
     "metadata": {},
     "output_type": "display_data"
    },
    {
     "data": {
      "text/html": [
       "<div>\n",
       "<style scoped>\n",
       "    .dataframe tbody tr th:only-of-type {\n",
       "        vertical-align: middle;\n",
       "    }\n",
       "\n",
       "    .dataframe tbody tr th {\n",
       "        vertical-align: top;\n",
       "    }\n",
       "\n",
       "    .dataframe thead th {\n",
       "        text-align: right;\n",
       "    }\n",
       "</style>\n",
       "<table border=\"1\" class=\"dataframe\">\n",
       "  <thead>\n",
       "    <tr style=\"text-align: right;\">\n",
       "      <th></th>\n",
       "      <th>Report_Month</th>\n",
       "      <th>cohort</th>\n",
       "      <th>denom</th>\n",
       "      <th>num</th>\n",
       "      <th>churn_rate</th>\n",
       "    </tr>\n",
       "  </thead>\n",
       "  <tbody>\n",
       "    <tr>\n",
       "      <th>0</th>\n",
       "      <td>2023-01-01</td>\n",
       "      <td>Holdout</td>\n",
       "      <td>962771</td>\n",
       "      <td>55295</td>\n",
       "      <td>0.057433</td>\n",
       "    </tr>\n",
       "    <tr>\n",
       "      <th>1</th>\n",
       "      <td>2023-01-01</td>\n",
       "      <td>Targeted</td>\n",
       "      <td>23367555</td>\n",
       "      <td>1266485</td>\n",
       "      <td>0.054198</td>\n",
       "    </tr>\n",
       "  </tbody>\n",
       "</table>\n",
       "</div>"
      ],
      "text/plain": [
       "  Report_Month    cohort     denom      num  churn_rate\n",
       "0   2023-01-01   Holdout    962771    55295    0.057433\n",
       "1   2023-01-01  Targeted  23367555  1266485    0.054198"
      ]
     },
     "execution_count": 17,
     "metadata": {},
     "output_type": "execute_result"
    }
   ],
   "source": [
    "%%bigquery --project nbcu-ds-sandbox-a-001 --params $params\n",
    "SELECT  Report_Month\n",
    "       ,cohort\n",
    "       ,SUM(EOM_Paid_Churn_Denom) as denom\n",
    "       ,SUM(EOM_Paid_Churn_Num) as num\n",
    "       ,SUM(EOM_Paid_Churn_Num)/SUM(EOM_Paid_Churn_Denom) as churn_rate\n",
    "FROM `nbcu-ds-sandbox-a-001.SLi_sandbox.Email_Channel_Base_Q1_2023`\n",
    "group by 1,2"
   ]
  },
  {
   "attachments": {},
   "cell_type": "markdown",
   "metadata": {},
   "source": [
    "# test"
   ]
  },
  {
   "cell_type": "code",
   "execution_count": 20,
   "metadata": {
    "vscode": {
     "languageId": "sql"
    }
   },
   "outputs": [],
   "source": [
    "test = {\n",
    "    'report_start_date': '2022-04-01',\n",
    "    'report_end_date': '2022-04-30'\n",
    "}"
   ]
  },
  {
   "cell_type": "code",
   "execution_count": 21,
   "metadata": {
    "vscode": {
     "languageId": "sql"
    }
   },
   "outputs": [
    {
     "name": "stdout",
     "output_type": "stream",
     "text": [
      "Executing query with job ID: 108ea873-6a6e-4044-8389-fb2b4414b3bd\n",
      "Query executing: 41.13s"
     ]
    },
    {
     "ename": "KeyboardInterrupt",
     "evalue": "",
     "output_type": "error",
     "traceback": [
      "\u001b[1;31m---------------------------------------------------------------------------\u001b[0m",
      "\u001b[1;31mKeyboardInterrupt\u001b[0m                         Traceback (most recent call last)",
      "\u001b[1;32mC:\\TEMP\\ipykernel_16168\\308213555.py\u001b[0m in \u001b[0;36m<module>\u001b[1;34m\u001b[0m\n\u001b[1;32m----> 1\u001b[1;33m \u001b[0mget_ipython\u001b[0m\u001b[1;33m(\u001b[0m\u001b[1;33m)\u001b[0m\u001b[1;33m.\u001b[0m\u001b[0mrun_cell_magic\u001b[0m\u001b[1;33m(\u001b[0m\u001b[1;34m'bigquery'\u001b[0m\u001b[1;33m,\u001b[0m \u001b[1;34m'--project nbcu-ds-sandbox-a-001 --params $test'\u001b[0m\u001b[1;33m,\u001b[0m \u001b[1;34m\"CREATE OR REPLACE TABLE `nbcu-ds-sandbox-a-001.SLi_sandbox.Email_Measurement_Audience_Apr_2022` AS (\\n\\n    SELECT  distinct delivered_and_holdout.adobe_tracking_id AS aid\\n        ,cohort\\n        ,user.account_type\\n        ,abandon_maa.primary_device\\n        ,user.account_tenure\\n        ,user.tenure_paid_lens\\n        ,user.billing_platform_category\\n        ,user.bundling_partner\\n        ,user.billing_cycle_category\\n        ,user.offer\\n        ,user.churn_frequency\\n        ,ia.First_Viewed_Title as intender_audience\\n        ,ia.genre\\n        ,ia.network\\n        ,CASE WHEN pb.adobe_tracking_id IS NOT NULL THEN 'Previously Bundled' ELSE 'Never Bundled' END AS previously_bundled\\n    FROM (\\n        SELECT *, 'Targeted' as cohort from `nbcu-ds-sandbox-a-001.SLi_sandbox.Email_Delivered_Apr_2022`\\n        UNION ALL\\n        SELECT *, 'Holdout' as cohort from `nbcu-ds-sandbox-a-001.SLi_sandbox.Email_Holdout_Apr_2022`\\n    ) delivered_and_holdout\\n\\n    -- Include only those who received email in the current reporting period or are in holdout\\n    INNER JOIN `nbcu-ds-sandbox-a-001.SLi_sandbox.Email_Channel_Qualifier_Apr_2022` qualified\\n    ON delivered_and_holdout.adobe_tracking_id = qualified.aid\\n\\n    -- take out all abandon MAAs\\n    INNER JOIN\\n        (\\n            SELECT  DISTINCT adobe_tracking_id\\n                ,CASE WHEN primary_device_name IN ('Android Mobile','Ios Mobile','Windows Phone') THEN 'Mobile'\\n                        WHEN primary_device_name IN ('Www','Amazon Fire Tablet') THEN 'Other'  ELSE 'Large Screen' END AS primary_device\\n            FROM `nbcu-ds-prod-001.PeacockDataMartSilver.SILVER_PRIMARY_DEVICES`\\n            WHERE report_date = @report_end_date\\n            AND date_of_last_view IS NOT NULL\\n        ) abandon_maa\\n    ON delivered_and_holdout.adobe_tracking_id = abandon_maa.adobe_tracking_id\\n\\n    --add attribute: account_type at the end of the reporting period\\n    INNER JOIN\\n        (\\n            SELECT  DISTINCT adobe_tracking_id\\n                ,account_type\\n                ,account_tenure\\n                ,tenure_paid_lens\\n                ,CASE WHEN billing_platform = 'NBCU' THEN 'Direct'  ELSE 'IAP' END           AS billing_platform_category\\n                ,bundling_partner\\n                ,CASE WHEN billing_cycle = 'ANNUAL' THEN 'Annual'\\n                        WHEN billing_cycle = 'MONTHLY' THEN 'Monthly' END                    AS billing_cycle_category\\n                ,CASE WHEN voucher_partner is null THEN 'Not On Offer'  ELSE 'On Offer' END  AS offer\\n                ,CASE WHEN previous_paid_churn_count = 0 THEN '0'\\n                        WHEN previous_paid_churn_count = 1 THEN '1'\\n                        WHEN previous_paid_churn_count = 2 THEN '2'  ELSE '3+' END           AS churn_frequency\\n            FROM `nbcu-ds-prod-001.PeacockDataMartSilver.SILVER_USER`\\n            WHERE report_date = @report_end_date \\n        ) user\\n    ON delivered_and_holdout.adobe_tracking_id = user.adobe_tracking_id\\n\\n    -- include intended audience\\n    LEFT JOIN  `nbcu-ds-int-nft-001.PeacockDataMartMarketingGold.NMA_INTENDER_AUDIENCE_ATTRIBUTES_FINAL` ia\\n    ON delivered_and_holdout.adobe_tracking_id = ia.adobe_tracking_id\\n\\n    -- include previously_bundled\\n    LEFT JOIN (\\n        SELECT distinct adobe_tracking_id\\n        FROM `nbcu-ds-sandbox-a-001.SLi_sandbox.previously_bundled`\\n        WHERE report_date = @report_end_date\\n    ) pb\\n    ON pb.adobe_tracking_id = pb.adobe_tracking_id\\n\\n    -- exclude unsubscribed\\n    LEFT JOIN `nbcu-ds-sandbox-a-001.SLi_sandbox.Email_Unsubs_Apr_2022` email_unsubs\\n    ON delivered_and_holdout.adobe_tracking_id = email_unsubs.adobe_tracking_id\\n    \\n    WHERE email_unsubs.adobe_tracking_id IS NULL\\n\\n);\\n\"\u001b[0m\u001b[1;33m)\u001b[0m\u001b[1;33m\u001b[0m\u001b[1;33m\u001b[0m\u001b[0m\n\u001b[0m",
      "\u001b[1;32mc:\\Users\\206758160\\Anaconda3\\lib\\site-packages\\IPython\\core\\interactiveshell.py\u001b[0m in \u001b[0;36mrun_cell_magic\u001b[1;34m(self, magic_name, line, cell)\u001b[0m\n\u001b[0;32m   2417\u001b[0m             \u001b[1;32mwith\u001b[0m \u001b[0mself\u001b[0m\u001b[1;33m.\u001b[0m\u001b[0mbuiltin_trap\u001b[0m\u001b[1;33m:\u001b[0m\u001b[1;33m\u001b[0m\u001b[1;33m\u001b[0m\u001b[0m\n\u001b[0;32m   2418\u001b[0m                 \u001b[0margs\u001b[0m \u001b[1;33m=\u001b[0m \u001b[1;33m(\u001b[0m\u001b[0mmagic_arg_s\u001b[0m\u001b[1;33m,\u001b[0m \u001b[0mcell\u001b[0m\u001b[1;33m)\u001b[0m\u001b[1;33m\u001b[0m\u001b[1;33m\u001b[0m\u001b[0m\n\u001b[1;32m-> 2419\u001b[1;33m                 \u001b[0mresult\u001b[0m \u001b[1;33m=\u001b[0m \u001b[0mfn\u001b[0m\u001b[1;33m(\u001b[0m\u001b[1;33m*\u001b[0m\u001b[0margs\u001b[0m\u001b[1;33m,\u001b[0m \u001b[1;33m**\u001b[0m\u001b[0mkwargs\u001b[0m\u001b[1;33m)\u001b[0m\u001b[1;33m\u001b[0m\u001b[1;33m\u001b[0m\u001b[0m\n\u001b[0m\u001b[0;32m   2420\u001b[0m             \u001b[1;32mreturn\u001b[0m \u001b[0mresult\u001b[0m\u001b[1;33m\u001b[0m\u001b[1;33m\u001b[0m\u001b[0m\n\u001b[0;32m   2421\u001b[0m \u001b[1;33m\u001b[0m\u001b[0m\n",
      "\u001b[1;32mc:\\Users\\206758160\\Anaconda3\\lib\\site-packages\\google\\cloud\\bigquery\\magics\\magics.py\u001b[0m in \u001b[0;36m_cell_magic\u001b[1;34m(line, query)\u001b[0m\n\u001b[0;32m    683\u001b[0m \u001b[1;33m\u001b[0m\u001b[0m\n\u001b[0;32m    684\u001b[0m         \u001b[1;32mtry\u001b[0m\u001b[1;33m:\u001b[0m\u001b[1;33m\u001b[0m\u001b[1;33m\u001b[0m\u001b[0m\n\u001b[1;32m--> 685\u001b[1;33m             \u001b[0mquery_job\u001b[0m \u001b[1;33m=\u001b[0m \u001b[0m_run_query\u001b[0m\u001b[1;33m(\u001b[0m\u001b[0mclient\u001b[0m\u001b[1;33m,\u001b[0m \u001b[0mquery\u001b[0m\u001b[1;33m,\u001b[0m \u001b[0mjob_config\u001b[0m\u001b[1;33m=\u001b[0m\u001b[0mjob_config\u001b[0m\u001b[1;33m)\u001b[0m\u001b[1;33m\u001b[0m\u001b[1;33m\u001b[0m\u001b[0m\n\u001b[0m\u001b[0;32m    686\u001b[0m         \u001b[1;32mexcept\u001b[0m \u001b[0mException\u001b[0m \u001b[1;32mas\u001b[0m \u001b[0mex\u001b[0m\u001b[1;33m:\u001b[0m\u001b[1;33m\u001b[0m\u001b[1;33m\u001b[0m\u001b[0m\n\u001b[0;32m    687\u001b[0m             \u001b[0m_handle_error\u001b[0m\u001b[1;33m(\u001b[0m\u001b[0mex\u001b[0m\u001b[1;33m,\u001b[0m \u001b[0margs\u001b[0m\u001b[1;33m.\u001b[0m\u001b[0mdestination_var\u001b[0m\u001b[1;33m)\u001b[0m\u001b[1;33m\u001b[0m\u001b[1;33m\u001b[0m\u001b[0m\n",
      "\u001b[1;32mc:\\Users\\206758160\\Anaconda3\\lib\\site-packages\\google\\cloud\\bigquery\\magics\\magics.py\u001b[0m in \u001b[0;36m_run_query\u001b[1;34m(client, query, job_config)\u001b[0m\n\u001b[0;32m    344\u001b[0m         )\n\u001b[0;32m    345\u001b[0m         \u001b[1;32mtry\u001b[0m\u001b[1;33m:\u001b[0m\u001b[1;33m\u001b[0m\u001b[1;33m\u001b[0m\u001b[0m\n\u001b[1;32m--> 346\u001b[1;33m             \u001b[0mquery_job\u001b[0m\u001b[1;33m.\u001b[0m\u001b[0mresult\u001b[0m\u001b[1;33m(\u001b[0m\u001b[0mtimeout\u001b[0m\u001b[1;33m=\u001b[0m\u001b[1;36m0.5\u001b[0m\u001b[1;33m)\u001b[0m\u001b[1;33m\u001b[0m\u001b[1;33m\u001b[0m\u001b[0m\n\u001b[0m\u001b[0;32m    347\u001b[0m             \u001b[1;32mbreak\u001b[0m\u001b[1;33m\u001b[0m\u001b[1;33m\u001b[0m\u001b[0m\n\u001b[0;32m    348\u001b[0m         \u001b[1;32mexcept\u001b[0m \u001b[0mfutures\u001b[0m\u001b[1;33m.\u001b[0m\u001b[0mTimeoutError\u001b[0m\u001b[1;33m:\u001b[0m\u001b[1;33m\u001b[0m\u001b[1;33m\u001b[0m\u001b[0m\n",
      "\u001b[1;32mc:\\Users\\206758160\\Anaconda3\\lib\\site-packages\\google\\cloud\\bigquery\\job\\query.py\u001b[0m in \u001b[0;36mresult\u001b[1;34m(self, page_size, max_results, retry, timeout, start_index, job_retry)\u001b[0m\n\u001b[0;32m   1497\u001b[0m                 \u001b[0mdo_get_result\u001b[0m \u001b[1;33m=\u001b[0m \u001b[0mjob_retry\u001b[0m\u001b[1;33m(\u001b[0m\u001b[0mdo_get_result\u001b[0m\u001b[1;33m)\u001b[0m\u001b[1;33m\u001b[0m\u001b[1;33m\u001b[0m\u001b[0m\n\u001b[0;32m   1498\u001b[0m \u001b[1;33m\u001b[0m\u001b[0m\n\u001b[1;32m-> 1499\u001b[1;33m             \u001b[0mdo_get_result\u001b[0m\u001b[1;33m(\u001b[0m\u001b[1;33m)\u001b[0m\u001b[1;33m\u001b[0m\u001b[1;33m\u001b[0m\u001b[0m\n\u001b[0m\u001b[0;32m   1500\u001b[0m \u001b[1;33m\u001b[0m\u001b[0m\n\u001b[0;32m   1501\u001b[0m         \u001b[1;32mexcept\u001b[0m \u001b[0mexceptions\u001b[0m\u001b[1;33m.\u001b[0m\u001b[0mGoogleAPICallError\u001b[0m \u001b[1;32mas\u001b[0m \u001b[0mexc\u001b[0m\u001b[1;33m:\u001b[0m\u001b[1;33m\u001b[0m\u001b[1;33m\u001b[0m\u001b[0m\n",
      "\u001b[1;32mc:\\Users\\206758160\\Anaconda3\\lib\\site-packages\\google\\api_core\\retry.py\u001b[0m in \u001b[0;36mretry_wrapped_func\u001b[1;34m(*args, **kwargs)\u001b[0m\n\u001b[0;32m    347\u001b[0m                 \u001b[0mself\u001b[0m\u001b[1;33m.\u001b[0m\u001b[0m_initial\u001b[0m\u001b[1;33m,\u001b[0m \u001b[0mself\u001b[0m\u001b[1;33m.\u001b[0m\u001b[0m_maximum\u001b[0m\u001b[1;33m,\u001b[0m \u001b[0mmultiplier\u001b[0m\u001b[1;33m=\u001b[0m\u001b[0mself\u001b[0m\u001b[1;33m.\u001b[0m\u001b[0m_multiplier\u001b[0m\u001b[1;33m\u001b[0m\u001b[1;33m\u001b[0m\u001b[0m\n\u001b[0;32m    348\u001b[0m             )\n\u001b[1;32m--> 349\u001b[1;33m             return retry_target(\n\u001b[0m\u001b[0;32m    350\u001b[0m                 \u001b[0mtarget\u001b[0m\u001b[1;33m,\u001b[0m\u001b[1;33m\u001b[0m\u001b[1;33m\u001b[0m\u001b[0m\n\u001b[0;32m    351\u001b[0m                 \u001b[0mself\u001b[0m\u001b[1;33m.\u001b[0m\u001b[0m_predicate\u001b[0m\u001b[1;33m,\u001b[0m\u001b[1;33m\u001b[0m\u001b[1;33m\u001b[0m\u001b[0m\n",
      "\u001b[1;32mc:\\Users\\206758160\\Anaconda3\\lib\\site-packages\\google\\api_core\\retry.py\u001b[0m in \u001b[0;36mretry_target\u001b[1;34m(target, predicate, sleep_generator, timeout, on_error, **kwargs)\u001b[0m\n\u001b[0;32m    189\u001b[0m     \u001b[1;32mfor\u001b[0m \u001b[0msleep\u001b[0m \u001b[1;32min\u001b[0m \u001b[0msleep_generator\u001b[0m\u001b[1;33m:\u001b[0m\u001b[1;33m\u001b[0m\u001b[1;33m\u001b[0m\u001b[0m\n\u001b[0;32m    190\u001b[0m         \u001b[1;32mtry\u001b[0m\u001b[1;33m:\u001b[0m\u001b[1;33m\u001b[0m\u001b[1;33m\u001b[0m\u001b[0m\n\u001b[1;32m--> 191\u001b[1;33m             \u001b[1;32mreturn\u001b[0m \u001b[0mtarget\u001b[0m\u001b[1;33m(\u001b[0m\u001b[1;33m)\u001b[0m\u001b[1;33m\u001b[0m\u001b[1;33m\u001b[0m\u001b[0m\n\u001b[0m\u001b[0;32m    192\u001b[0m \u001b[1;33m\u001b[0m\u001b[0m\n\u001b[0;32m    193\u001b[0m         \u001b[1;31m# pylint: disable=broad-except\u001b[0m\u001b[1;33m\u001b[0m\u001b[1;33m\u001b[0m\u001b[0m\n",
      "\u001b[1;32mc:\\Users\\206758160\\Anaconda3\\lib\\site-packages\\google\\cloud\\bigquery\\job\\query.py\u001b[0m in \u001b[0;36mdo_get_result\u001b[1;34m()\u001b[0m\n\u001b[0;32m   1487\u001b[0m                     \u001b[0mself\u001b[0m\u001b[1;33m.\u001b[0m\u001b[0m_job_retry\u001b[0m \u001b[1;33m=\u001b[0m \u001b[0mjob_retry\u001b[0m\u001b[1;33m\u001b[0m\u001b[1;33m\u001b[0m\u001b[0m\n\u001b[0;32m   1488\u001b[0m \u001b[1;33m\u001b[0m\u001b[0m\n\u001b[1;32m-> 1489\u001b[1;33m                 \u001b[0msuper\u001b[0m\u001b[1;33m(\u001b[0m\u001b[0mQueryJob\u001b[0m\u001b[1;33m,\u001b[0m \u001b[0mself\u001b[0m\u001b[1;33m)\u001b[0m\u001b[1;33m.\u001b[0m\u001b[0mresult\u001b[0m\u001b[1;33m(\u001b[0m\u001b[0mretry\u001b[0m\u001b[1;33m=\u001b[0m\u001b[0mretry\u001b[0m\u001b[1;33m,\u001b[0m \u001b[0mtimeout\u001b[0m\u001b[1;33m=\u001b[0m\u001b[0mtimeout\u001b[0m\u001b[1;33m)\u001b[0m\u001b[1;33m\u001b[0m\u001b[1;33m\u001b[0m\u001b[0m\n\u001b[0m\u001b[0;32m   1490\u001b[0m \u001b[1;33m\u001b[0m\u001b[0m\n\u001b[0;32m   1491\u001b[0m                 \u001b[1;31m# Since the job could already be \"done\" (e.g. got a finished job\u001b[0m\u001b[1;33m\u001b[0m\u001b[1;33m\u001b[0m\u001b[0m\n",
      "\u001b[1;32mc:\\Users\\206758160\\Anaconda3\\lib\\site-packages\\google\\cloud\\bigquery\\job\\base.py\u001b[0m in \u001b[0;36mresult\u001b[1;34m(self, retry, timeout)\u001b[0m\n\u001b[0;32m    726\u001b[0m \u001b[1;33m\u001b[0m\u001b[0m\n\u001b[0;32m    727\u001b[0m         \u001b[0mkwargs\u001b[0m \u001b[1;33m=\u001b[0m \u001b[1;33m{\u001b[0m\u001b[1;33m}\u001b[0m \u001b[1;32mif\u001b[0m \u001b[0mretry\u001b[0m \u001b[1;32mis\u001b[0m \u001b[0mDEFAULT_RETRY\u001b[0m \u001b[1;32melse\u001b[0m \u001b[1;33m{\u001b[0m\u001b[1;34m\"retry\"\u001b[0m\u001b[1;33m:\u001b[0m \u001b[0mretry\u001b[0m\u001b[1;33m}\u001b[0m\u001b[1;33m\u001b[0m\u001b[1;33m\u001b[0m\u001b[0m\n\u001b[1;32m--> 728\u001b[1;33m         \u001b[1;32mreturn\u001b[0m \u001b[0msuper\u001b[0m\u001b[1;33m(\u001b[0m\u001b[0m_AsyncJob\u001b[0m\u001b[1;33m,\u001b[0m \u001b[0mself\u001b[0m\u001b[1;33m)\u001b[0m\u001b[1;33m.\u001b[0m\u001b[0mresult\u001b[0m\u001b[1;33m(\u001b[0m\u001b[0mtimeout\u001b[0m\u001b[1;33m=\u001b[0m\u001b[0mtimeout\u001b[0m\u001b[1;33m,\u001b[0m \u001b[1;33m**\u001b[0m\u001b[0mkwargs\u001b[0m\u001b[1;33m)\u001b[0m\u001b[1;33m\u001b[0m\u001b[1;33m\u001b[0m\u001b[0m\n\u001b[0m\u001b[0;32m    729\u001b[0m \u001b[1;33m\u001b[0m\u001b[0m\n\u001b[0;32m    730\u001b[0m     \u001b[1;32mdef\u001b[0m \u001b[0mcancelled\u001b[0m\u001b[1;33m(\u001b[0m\u001b[0mself\u001b[0m\u001b[1;33m)\u001b[0m\u001b[1;33m:\u001b[0m\u001b[1;33m\u001b[0m\u001b[1;33m\u001b[0m\u001b[0m\n",
      "\u001b[1;32mc:\\Users\\206758160\\Anaconda3\\lib\\site-packages\\google\\api_core\\future\\polling.py\u001b[0m in \u001b[0;36mresult\u001b[1;34m(self, timeout, retry, polling)\u001b[0m\n\u001b[0;32m    254\u001b[0m         \"\"\"\n\u001b[0;32m    255\u001b[0m \u001b[1;33m\u001b[0m\u001b[0m\n\u001b[1;32m--> 256\u001b[1;33m         \u001b[0mself\u001b[0m\u001b[1;33m.\u001b[0m\u001b[0m_blocking_poll\u001b[0m\u001b[1;33m(\u001b[0m\u001b[0mtimeout\u001b[0m\u001b[1;33m=\u001b[0m\u001b[0mtimeout\u001b[0m\u001b[1;33m,\u001b[0m \u001b[0mretry\u001b[0m\u001b[1;33m=\u001b[0m\u001b[0mretry\u001b[0m\u001b[1;33m,\u001b[0m \u001b[0mpolling\u001b[0m\u001b[1;33m=\u001b[0m\u001b[0mpolling\u001b[0m\u001b[1;33m)\u001b[0m\u001b[1;33m\u001b[0m\u001b[1;33m\u001b[0m\u001b[0m\n\u001b[0m\u001b[0;32m    257\u001b[0m \u001b[1;33m\u001b[0m\u001b[0m\n\u001b[0;32m    258\u001b[0m         \u001b[1;32mif\u001b[0m \u001b[0mself\u001b[0m\u001b[1;33m.\u001b[0m\u001b[0m_exception\u001b[0m \u001b[1;32mis\u001b[0m \u001b[1;32mnot\u001b[0m \u001b[1;32mNone\u001b[0m\u001b[1;33m:\u001b[0m\u001b[1;33m\u001b[0m\u001b[1;33m\u001b[0m\u001b[0m\n",
      "\u001b[1;32mc:\\Users\\206758160\\Anaconda3\\lib\\site-packages\\google\\cloud\\bigquery\\job\\query.py\u001b[0m in \u001b[0;36m_blocking_poll\u001b[1;34m(self, timeout, **kwargs)\u001b[0m\n\u001b[0;32m   1243\u001b[0m         \u001b[0mself\u001b[0m\u001b[1;33m.\u001b[0m\u001b[0m_done_timeout\u001b[0m \u001b[1;33m=\u001b[0m \u001b[0mtimeout\u001b[0m\u001b[1;33m\u001b[0m\u001b[1;33m\u001b[0m\u001b[0m\n\u001b[0;32m   1244\u001b[0m         \u001b[0mself\u001b[0m\u001b[1;33m.\u001b[0m\u001b[0m_transport_timeout\u001b[0m \u001b[1;33m=\u001b[0m \u001b[0mtimeout\u001b[0m\u001b[1;33m\u001b[0m\u001b[1;33m\u001b[0m\u001b[0m\n\u001b[1;32m-> 1245\u001b[1;33m         \u001b[0msuper\u001b[0m\u001b[1;33m(\u001b[0m\u001b[0mQueryJob\u001b[0m\u001b[1;33m,\u001b[0m \u001b[0mself\u001b[0m\u001b[1;33m)\u001b[0m\u001b[1;33m.\u001b[0m\u001b[0m_blocking_poll\u001b[0m\u001b[1;33m(\u001b[0m\u001b[0mtimeout\u001b[0m\u001b[1;33m=\u001b[0m\u001b[0mtimeout\u001b[0m\u001b[1;33m,\u001b[0m \u001b[1;33m**\u001b[0m\u001b[0mkwargs\u001b[0m\u001b[1;33m)\u001b[0m\u001b[1;33m\u001b[0m\u001b[1;33m\u001b[0m\u001b[0m\n\u001b[0m\u001b[0;32m   1246\u001b[0m \u001b[1;33m\u001b[0m\u001b[0m\n\u001b[0;32m   1247\u001b[0m     \u001b[1;33m@\u001b[0m\u001b[0mstaticmethod\u001b[0m\u001b[1;33m\u001b[0m\u001b[1;33m\u001b[0m\u001b[0m\n",
      "\u001b[1;32mc:\\Users\\206758160\\Anaconda3\\lib\\site-packages\\google\\api_core\\future\\polling.py\u001b[0m in \u001b[0;36m_blocking_poll\u001b[1;34m(self, timeout, retry, polling)\u001b[0m\n\u001b[0;32m    135\u001b[0m \u001b[1;33m\u001b[0m\u001b[0m\n\u001b[0;32m    136\u001b[0m         \u001b[1;32mtry\u001b[0m\u001b[1;33m:\u001b[0m\u001b[1;33m\u001b[0m\u001b[1;33m\u001b[0m\u001b[0m\n\u001b[1;32m--> 137\u001b[1;33m             \u001b[0mpolling\u001b[0m\u001b[1;33m(\u001b[0m\u001b[0mself\u001b[0m\u001b[1;33m.\u001b[0m\u001b[0m_done_or_raise\u001b[0m\u001b[1;33m)\u001b[0m\u001b[1;33m(\u001b[0m\u001b[0mretry\u001b[0m\u001b[1;33m=\u001b[0m\u001b[0mretry\u001b[0m\u001b[1;33m)\u001b[0m\u001b[1;33m\u001b[0m\u001b[1;33m\u001b[0m\u001b[0m\n\u001b[0m\u001b[0;32m    138\u001b[0m         \u001b[1;32mexcept\u001b[0m \u001b[0mexceptions\u001b[0m\u001b[1;33m.\u001b[0m\u001b[0mRetryError\u001b[0m\u001b[1;33m:\u001b[0m\u001b[1;33m\u001b[0m\u001b[1;33m\u001b[0m\u001b[0m\n\u001b[0;32m    139\u001b[0m             raise concurrent.futures.TimeoutError(\n",
      "\u001b[1;32mc:\\Users\\206758160\\Anaconda3\\lib\\site-packages\\google\\api_core\\retry.py\u001b[0m in \u001b[0;36mretry_wrapped_func\u001b[1;34m(*args, **kwargs)\u001b[0m\n\u001b[0;32m    347\u001b[0m                 \u001b[0mself\u001b[0m\u001b[1;33m.\u001b[0m\u001b[0m_initial\u001b[0m\u001b[1;33m,\u001b[0m \u001b[0mself\u001b[0m\u001b[1;33m.\u001b[0m\u001b[0m_maximum\u001b[0m\u001b[1;33m,\u001b[0m \u001b[0mmultiplier\u001b[0m\u001b[1;33m=\u001b[0m\u001b[0mself\u001b[0m\u001b[1;33m.\u001b[0m\u001b[0m_multiplier\u001b[0m\u001b[1;33m\u001b[0m\u001b[1;33m\u001b[0m\u001b[0m\n\u001b[0;32m    348\u001b[0m             )\n\u001b[1;32m--> 349\u001b[1;33m             return retry_target(\n\u001b[0m\u001b[0;32m    350\u001b[0m                 \u001b[0mtarget\u001b[0m\u001b[1;33m,\u001b[0m\u001b[1;33m\u001b[0m\u001b[1;33m\u001b[0m\u001b[0m\n\u001b[0;32m    351\u001b[0m                 \u001b[0mself\u001b[0m\u001b[1;33m.\u001b[0m\u001b[0m_predicate\u001b[0m\u001b[1;33m,\u001b[0m\u001b[1;33m\u001b[0m\u001b[1;33m\u001b[0m\u001b[0m\n",
      "\u001b[1;32mc:\\Users\\206758160\\Anaconda3\\lib\\site-packages\\google\\api_core\\retry.py\u001b[0m in \u001b[0;36mretry_target\u001b[1;34m(target, predicate, sleep_generator, timeout, on_error, **kwargs)\u001b[0m\n\u001b[0;32m    189\u001b[0m     \u001b[1;32mfor\u001b[0m \u001b[0msleep\u001b[0m \u001b[1;32min\u001b[0m \u001b[0msleep_generator\u001b[0m\u001b[1;33m:\u001b[0m\u001b[1;33m\u001b[0m\u001b[1;33m\u001b[0m\u001b[0m\n\u001b[0;32m    190\u001b[0m         \u001b[1;32mtry\u001b[0m\u001b[1;33m:\u001b[0m\u001b[1;33m\u001b[0m\u001b[1;33m\u001b[0m\u001b[0m\n\u001b[1;32m--> 191\u001b[1;33m             \u001b[1;32mreturn\u001b[0m \u001b[0mtarget\u001b[0m\u001b[1;33m(\u001b[0m\u001b[1;33m)\u001b[0m\u001b[1;33m\u001b[0m\u001b[1;33m\u001b[0m\u001b[0m\n\u001b[0m\u001b[0;32m    192\u001b[0m \u001b[1;33m\u001b[0m\u001b[0m\n\u001b[0;32m    193\u001b[0m         \u001b[1;31m# pylint: disable=broad-except\u001b[0m\u001b[1;33m\u001b[0m\u001b[1;33m\u001b[0m\u001b[0m\n",
      "\u001b[1;32mc:\\Users\\206758160\\Anaconda3\\lib\\site-packages\\google\\cloud\\bigquery\\job\\query.py\u001b[0m in \u001b[0;36m_done_or_raise\u001b[1;34m(self, retry, timeout)\u001b[0m\n\u001b[0;32m   1356\u001b[0m \u001b[1;33m\u001b[0m\u001b[0m\n\u001b[0;32m   1357\u001b[0m         \u001b[1;32mtry\u001b[0m\u001b[1;33m:\u001b[0m\u001b[1;33m\u001b[0m\u001b[1;33m\u001b[0m\u001b[0m\n\u001b[1;32m-> 1358\u001b[1;33m             \u001b[0mself\u001b[0m\u001b[1;33m.\u001b[0m\u001b[0m_reload_query_results\u001b[0m\u001b[1;33m(\u001b[0m\u001b[0mretry\u001b[0m\u001b[1;33m=\u001b[0m\u001b[0mretry\u001b[0m\u001b[1;33m,\u001b[0m \u001b[0mtimeout\u001b[0m\u001b[1;33m=\u001b[0m\u001b[0mtransport_timeout\u001b[0m\u001b[1;33m)\u001b[0m\u001b[1;33m\u001b[0m\u001b[1;33m\u001b[0m\u001b[0m\n\u001b[0m\u001b[0;32m   1359\u001b[0m         \u001b[1;32mexcept\u001b[0m \u001b[0mexceptions\u001b[0m\u001b[1;33m.\u001b[0m\u001b[0mGoogleAPIError\u001b[0m \u001b[1;32mas\u001b[0m \u001b[0mexc\u001b[0m\u001b[1;33m:\u001b[0m\u001b[1;33m\u001b[0m\u001b[1;33m\u001b[0m\u001b[0m\n\u001b[0;32m   1360\u001b[0m             \u001b[1;31m# Reloading also updates error details on self, thus no need for an\u001b[0m\u001b[1;33m\u001b[0m\u001b[1;33m\u001b[0m\u001b[0m\n",
      "\u001b[1;32mc:\\Users\\206758160\\Anaconda3\\lib\\site-packages\\google\\cloud\\bigquery\\job\\query.py\u001b[0m in \u001b[0;36m_reload_query_results\u001b[1;34m(self, retry, timeout)\u001b[0m\n\u001b[0;32m   1337\u001b[0m         \u001b[0mtransport_timeout\u001b[0m \u001b[1;33m=\u001b[0m \u001b[0mtimeout\u001b[0m \u001b[1;32mif\u001b[0m \u001b[0mtimeout\u001b[0m \u001b[1;32mis\u001b[0m \u001b[1;32mnot\u001b[0m \u001b[1;32mNone\u001b[0m \u001b[1;32melse\u001b[0m \u001b[0mself\u001b[0m\u001b[1;33m.\u001b[0m\u001b[0m_transport_timeout\u001b[0m\u001b[1;33m\u001b[0m\u001b[1;33m\u001b[0m\u001b[0m\n\u001b[0;32m   1338\u001b[0m \u001b[1;33m\u001b[0m\u001b[0m\n\u001b[1;32m-> 1339\u001b[1;33m         self._query_results = self._client._get_query_results(\n\u001b[0m\u001b[0;32m   1340\u001b[0m             \u001b[0mself\u001b[0m\u001b[1;33m.\u001b[0m\u001b[0mjob_id\u001b[0m\u001b[1;33m,\u001b[0m\u001b[1;33m\u001b[0m\u001b[1;33m\u001b[0m\u001b[0m\n\u001b[0;32m   1341\u001b[0m             \u001b[0mretry\u001b[0m\u001b[1;33m,\u001b[0m\u001b[1;33m\u001b[0m\u001b[1;33m\u001b[0m\u001b[0m\n",
      "\u001b[1;32mc:\\Users\\206758160\\Anaconda3\\lib\\site-packages\\google\\cloud\\bigquery\\client.py\u001b[0m in \u001b[0;36m_get_query_results\u001b[1;34m(self, job_id, retry, project, timeout_ms, location, timeout)\u001b[0m\n\u001b[0;32m   1886\u001b[0m         \u001b[1;31m# QueryJob.result()). So we don't need to poll here.\u001b[0m\u001b[1;33m\u001b[0m\u001b[1;33m\u001b[0m\u001b[0m\n\u001b[0;32m   1887\u001b[0m         \u001b[0mspan_attributes\u001b[0m \u001b[1;33m=\u001b[0m \u001b[1;33m{\u001b[0m\u001b[1;34m\"path\"\u001b[0m\u001b[1;33m:\u001b[0m \u001b[0mpath\u001b[0m\u001b[1;33m}\u001b[0m\u001b[1;33m\u001b[0m\u001b[1;33m\u001b[0m\u001b[0m\n\u001b[1;32m-> 1888\u001b[1;33m         resource = self._call_api(\n\u001b[0m\u001b[0;32m   1889\u001b[0m             \u001b[0mretry\u001b[0m\u001b[1;33m,\u001b[0m\u001b[1;33m\u001b[0m\u001b[1;33m\u001b[0m\u001b[0m\n\u001b[0;32m   1890\u001b[0m             \u001b[0mspan_name\u001b[0m\u001b[1;33m=\u001b[0m\u001b[1;34m\"BigQuery.getQueryResults\"\u001b[0m\u001b[1;33m,\u001b[0m\u001b[1;33m\u001b[0m\u001b[1;33m\u001b[0m\u001b[0m\n",
      "\u001b[1;32mc:\\Users\\206758160\\Anaconda3\\lib\\site-packages\\google\\cloud\\bigquery\\client.py\u001b[0m in \u001b[0;36m_call_api\u001b[1;34m(self, retry, span_name, span_attributes, job_ref, headers, **kwargs)\u001b[0m\n\u001b[0;32m    784\u001b[0m                 \u001b[0mname\u001b[0m\u001b[1;33m=\u001b[0m\u001b[0mspan_name\u001b[0m\u001b[1;33m,\u001b[0m \u001b[0mattributes\u001b[0m\u001b[1;33m=\u001b[0m\u001b[0mspan_attributes\u001b[0m\u001b[1;33m,\u001b[0m \u001b[0mclient\u001b[0m\u001b[1;33m=\u001b[0m\u001b[0mself\u001b[0m\u001b[1;33m,\u001b[0m \u001b[0mjob_ref\u001b[0m\u001b[1;33m=\u001b[0m\u001b[0mjob_ref\u001b[0m\u001b[1;33m\u001b[0m\u001b[1;33m\u001b[0m\u001b[0m\n\u001b[0;32m    785\u001b[0m             ):\n\u001b[1;32m--> 786\u001b[1;33m                 \u001b[1;32mreturn\u001b[0m \u001b[0mcall\u001b[0m\u001b[1;33m(\u001b[0m\u001b[1;33m)\u001b[0m\u001b[1;33m\u001b[0m\u001b[1;33m\u001b[0m\u001b[0m\n\u001b[0m\u001b[0;32m    787\u001b[0m \u001b[1;33m\u001b[0m\u001b[0m\n\u001b[0;32m    788\u001b[0m         \u001b[1;32mreturn\u001b[0m \u001b[0mcall\u001b[0m\u001b[1;33m(\u001b[0m\u001b[1;33m)\u001b[0m\u001b[1;33m\u001b[0m\u001b[1;33m\u001b[0m\u001b[0m\n",
      "\u001b[1;32mc:\\Users\\206758160\\Anaconda3\\lib\\site-packages\\google\\cloud\\_http\\__init__.py\u001b[0m in \u001b[0;36mapi_request\u001b[1;34m(self, method, path, query_params, data, content_type, headers, api_base_url, api_version, expect_json, _target_object, timeout, extra_api_info)\u001b[0m\n\u001b[0;32m    480\u001b[0m             \u001b[0mcontent_type\u001b[0m \u001b[1;33m=\u001b[0m \u001b[1;34m\"application/json\"\u001b[0m\u001b[1;33m\u001b[0m\u001b[1;33m\u001b[0m\u001b[0m\n\u001b[0;32m    481\u001b[0m \u001b[1;33m\u001b[0m\u001b[0m\n\u001b[1;32m--> 482\u001b[1;33m         response = self._make_request(\n\u001b[0m\u001b[0;32m    483\u001b[0m             \u001b[0mmethod\u001b[0m\u001b[1;33m=\u001b[0m\u001b[0mmethod\u001b[0m\u001b[1;33m,\u001b[0m\u001b[1;33m\u001b[0m\u001b[1;33m\u001b[0m\u001b[0m\n\u001b[0;32m    484\u001b[0m             \u001b[0murl\u001b[0m\u001b[1;33m=\u001b[0m\u001b[0murl\u001b[0m\u001b[1;33m,\u001b[0m\u001b[1;33m\u001b[0m\u001b[1;33m\u001b[0m\u001b[0m\n",
      "\u001b[1;32mc:\\Users\\206758160\\Anaconda3\\lib\\site-packages\\google\\cloud\\_http\\__init__.py\u001b[0m in \u001b[0;36m_make_request\u001b[1;34m(self, method, url, data, content_type, headers, target_object, timeout, extra_api_info)\u001b[0m\n\u001b[0;32m    339\u001b[0m         \u001b[0mheaders\u001b[0m\u001b[1;33m[\u001b[0m\u001b[1;34m\"User-Agent\"\u001b[0m\u001b[1;33m]\u001b[0m \u001b[1;33m=\u001b[0m \u001b[0mself\u001b[0m\u001b[1;33m.\u001b[0m\u001b[0muser_agent\u001b[0m\u001b[1;33m\u001b[0m\u001b[1;33m\u001b[0m\u001b[0m\n\u001b[0;32m    340\u001b[0m \u001b[1;33m\u001b[0m\u001b[0m\n\u001b[1;32m--> 341\u001b[1;33m         return self._do_request(\n\u001b[0m\u001b[0;32m    342\u001b[0m             \u001b[0mmethod\u001b[0m\u001b[1;33m,\u001b[0m \u001b[0murl\u001b[0m\u001b[1;33m,\u001b[0m \u001b[0mheaders\u001b[0m\u001b[1;33m,\u001b[0m \u001b[0mdata\u001b[0m\u001b[1;33m,\u001b[0m \u001b[0mtarget_object\u001b[0m\u001b[1;33m,\u001b[0m \u001b[0mtimeout\u001b[0m\u001b[1;33m=\u001b[0m\u001b[0mtimeout\u001b[0m\u001b[1;33m\u001b[0m\u001b[1;33m\u001b[0m\u001b[0m\n\u001b[0;32m    343\u001b[0m         )\n",
      "\u001b[1;32mc:\\Users\\206758160\\Anaconda3\\lib\\site-packages\\google\\cloud\\_http\\__init__.py\u001b[0m in \u001b[0;36m_do_request\u001b[1;34m(self, method, url, headers, data, target_object, timeout)\u001b[0m\n\u001b[0;32m    377\u001b[0m         \u001b[1;33m:\u001b[0m\u001b[0mreturns\u001b[0m\u001b[1;33m:\u001b[0m \u001b[0mThe\u001b[0m \u001b[0mHTTP\u001b[0m \u001b[0mresponse\u001b[0m\u001b[1;33m.\u001b[0m\u001b[1;33m\u001b[0m\u001b[1;33m\u001b[0m\u001b[0m\n\u001b[0;32m    378\u001b[0m         \"\"\"\n\u001b[1;32m--> 379\u001b[1;33m         return self.http.request(\n\u001b[0m\u001b[0;32m    380\u001b[0m             \u001b[0murl\u001b[0m\u001b[1;33m=\u001b[0m\u001b[0murl\u001b[0m\u001b[1;33m,\u001b[0m \u001b[0mmethod\u001b[0m\u001b[1;33m=\u001b[0m\u001b[0mmethod\u001b[0m\u001b[1;33m,\u001b[0m \u001b[0mheaders\u001b[0m\u001b[1;33m=\u001b[0m\u001b[0mheaders\u001b[0m\u001b[1;33m,\u001b[0m \u001b[0mdata\u001b[0m\u001b[1;33m=\u001b[0m\u001b[0mdata\u001b[0m\u001b[1;33m,\u001b[0m \u001b[0mtimeout\u001b[0m\u001b[1;33m=\u001b[0m\u001b[0mtimeout\u001b[0m\u001b[1;33m\u001b[0m\u001b[1;33m\u001b[0m\u001b[0m\n\u001b[0;32m    381\u001b[0m         )\n",
      "\u001b[1;32mc:\\Users\\206758160\\Anaconda3\\lib\\site-packages\\google\\auth\\transport\\requests.py\u001b[0m in \u001b[0;36mrequest\u001b[1;34m(self, method, url, data, headers, max_allowed_time, timeout, **kwargs)\u001b[0m\n\u001b[0;32m    547\u001b[0m \u001b[1;33m\u001b[0m\u001b[0m\n\u001b[0;32m    548\u001b[0m         \u001b[1;32mwith\u001b[0m \u001b[0mTimeoutGuard\u001b[0m\u001b[1;33m(\u001b[0m\u001b[0mremaining_time\u001b[0m\u001b[1;33m)\u001b[0m \u001b[1;32mas\u001b[0m \u001b[0mguard\u001b[0m\u001b[1;33m:\u001b[0m\u001b[1;33m\u001b[0m\u001b[1;33m\u001b[0m\u001b[0m\n\u001b[1;32m--> 549\u001b[1;33m             response = super(AuthorizedSession, self).request(\n\u001b[0m\u001b[0;32m    550\u001b[0m                 \u001b[0mmethod\u001b[0m\u001b[1;33m,\u001b[0m\u001b[1;33m\u001b[0m\u001b[1;33m\u001b[0m\u001b[0m\n\u001b[0;32m    551\u001b[0m                 \u001b[0murl\u001b[0m\u001b[1;33m,\u001b[0m\u001b[1;33m\u001b[0m\u001b[1;33m\u001b[0m\u001b[0m\n",
      "\u001b[1;32mc:\\Users\\206758160\\Anaconda3\\lib\\site-packages\\requests\\sessions.py\u001b[0m in \u001b[0;36mrequest\u001b[1;34m(self, method, url, params, data, headers, cookies, files, auth, timeout, allow_redirects, proxies, hooks, stream, verify, cert, json)\u001b[0m\n\u001b[0;32m    585\u001b[0m         }\n\u001b[0;32m    586\u001b[0m         \u001b[0msend_kwargs\u001b[0m\u001b[1;33m.\u001b[0m\u001b[0mupdate\u001b[0m\u001b[1;33m(\u001b[0m\u001b[0msettings\u001b[0m\u001b[1;33m)\u001b[0m\u001b[1;33m\u001b[0m\u001b[1;33m\u001b[0m\u001b[0m\n\u001b[1;32m--> 587\u001b[1;33m         \u001b[0mresp\u001b[0m \u001b[1;33m=\u001b[0m \u001b[0mself\u001b[0m\u001b[1;33m.\u001b[0m\u001b[0msend\u001b[0m\u001b[1;33m(\u001b[0m\u001b[0mprep\u001b[0m\u001b[1;33m,\u001b[0m \u001b[1;33m**\u001b[0m\u001b[0msend_kwargs\u001b[0m\u001b[1;33m)\u001b[0m\u001b[1;33m\u001b[0m\u001b[1;33m\u001b[0m\u001b[0m\n\u001b[0m\u001b[0;32m    588\u001b[0m \u001b[1;33m\u001b[0m\u001b[0m\n\u001b[0;32m    589\u001b[0m         \u001b[1;32mreturn\u001b[0m \u001b[0mresp\u001b[0m\u001b[1;33m\u001b[0m\u001b[1;33m\u001b[0m\u001b[0m\n",
      "\u001b[1;32mc:\\Users\\206758160\\Anaconda3\\lib\\site-packages\\requests\\sessions.py\u001b[0m in \u001b[0;36msend\u001b[1;34m(self, request, **kwargs)\u001b[0m\n\u001b[0;32m    699\u001b[0m \u001b[1;33m\u001b[0m\u001b[0m\n\u001b[0;32m    700\u001b[0m         \u001b[1;31m# Send the request\u001b[0m\u001b[1;33m\u001b[0m\u001b[1;33m\u001b[0m\u001b[0m\n\u001b[1;32m--> 701\u001b[1;33m         \u001b[0mr\u001b[0m \u001b[1;33m=\u001b[0m \u001b[0madapter\u001b[0m\u001b[1;33m.\u001b[0m\u001b[0msend\u001b[0m\u001b[1;33m(\u001b[0m\u001b[0mrequest\u001b[0m\u001b[1;33m,\u001b[0m \u001b[1;33m**\u001b[0m\u001b[0mkwargs\u001b[0m\u001b[1;33m)\u001b[0m\u001b[1;33m\u001b[0m\u001b[1;33m\u001b[0m\u001b[0m\n\u001b[0m\u001b[0;32m    702\u001b[0m \u001b[1;33m\u001b[0m\u001b[0m\n\u001b[0;32m    703\u001b[0m         \u001b[1;31m# Total elapsed time of the request (approximately)\u001b[0m\u001b[1;33m\u001b[0m\u001b[1;33m\u001b[0m\u001b[0m\n",
      "\u001b[1;32mc:\\Users\\206758160\\Anaconda3\\lib\\site-packages\\requests\\adapters.py\u001b[0m in \u001b[0;36msend\u001b[1;34m(self, request, stream, timeout, verify, cert, proxies)\u001b[0m\n\u001b[0;32m    487\u001b[0m         \u001b[1;32mtry\u001b[0m\u001b[1;33m:\u001b[0m\u001b[1;33m\u001b[0m\u001b[1;33m\u001b[0m\u001b[0m\n\u001b[0;32m    488\u001b[0m             \u001b[1;32mif\u001b[0m \u001b[1;32mnot\u001b[0m \u001b[0mchunked\u001b[0m\u001b[1;33m:\u001b[0m\u001b[1;33m\u001b[0m\u001b[1;33m\u001b[0m\u001b[0m\n\u001b[1;32m--> 489\u001b[1;33m                 resp = conn.urlopen(\n\u001b[0m\u001b[0;32m    490\u001b[0m                     \u001b[0mmethod\u001b[0m\u001b[1;33m=\u001b[0m\u001b[0mrequest\u001b[0m\u001b[1;33m.\u001b[0m\u001b[0mmethod\u001b[0m\u001b[1;33m,\u001b[0m\u001b[1;33m\u001b[0m\u001b[1;33m\u001b[0m\u001b[0m\n\u001b[0;32m    491\u001b[0m                     \u001b[0murl\u001b[0m\u001b[1;33m=\u001b[0m\u001b[0murl\u001b[0m\u001b[1;33m,\u001b[0m\u001b[1;33m\u001b[0m\u001b[1;33m\u001b[0m\u001b[0m\n",
      "\u001b[1;32mc:\\Users\\206758160\\Anaconda3\\lib\\site-packages\\urllib3\\connectionpool.py\u001b[0m in \u001b[0;36murlopen\u001b[1;34m(self, method, url, body, headers, retries, redirect, assert_same_host, timeout, pool_timeout, release_conn, chunked, body_pos, **response_kw)\u001b[0m\n\u001b[0;32m    701\u001b[0m \u001b[1;33m\u001b[0m\u001b[0m\n\u001b[0;32m    702\u001b[0m             \u001b[1;31m# Make the request on the httplib connection object.\u001b[0m\u001b[1;33m\u001b[0m\u001b[1;33m\u001b[0m\u001b[0m\n\u001b[1;32m--> 703\u001b[1;33m             httplib_response = self._make_request(\n\u001b[0m\u001b[0;32m    704\u001b[0m                 \u001b[0mconn\u001b[0m\u001b[1;33m,\u001b[0m\u001b[1;33m\u001b[0m\u001b[1;33m\u001b[0m\u001b[0m\n\u001b[0;32m    705\u001b[0m                 \u001b[0mmethod\u001b[0m\u001b[1;33m,\u001b[0m\u001b[1;33m\u001b[0m\u001b[1;33m\u001b[0m\u001b[0m\n",
      "\u001b[1;32mc:\\Users\\206758160\\Anaconda3\\lib\\site-packages\\urllib3\\connectionpool.py\u001b[0m in \u001b[0;36m_make_request\u001b[1;34m(self, conn, method, url, timeout, chunked, **httplib_request_kw)\u001b[0m\n\u001b[0;32m    447\u001b[0m                     \u001b[1;31m# Python 3 (including for exceptions like SystemExit).\u001b[0m\u001b[1;33m\u001b[0m\u001b[1;33m\u001b[0m\u001b[0m\n\u001b[0;32m    448\u001b[0m                     \u001b[1;31m# Otherwise it looks like a bug in the code.\u001b[0m\u001b[1;33m\u001b[0m\u001b[1;33m\u001b[0m\u001b[0m\n\u001b[1;32m--> 449\u001b[1;33m                     \u001b[0msix\u001b[0m\u001b[1;33m.\u001b[0m\u001b[0mraise_from\u001b[0m\u001b[1;33m(\u001b[0m\u001b[0me\u001b[0m\u001b[1;33m,\u001b[0m \u001b[1;32mNone\u001b[0m\u001b[1;33m)\u001b[0m\u001b[1;33m\u001b[0m\u001b[1;33m\u001b[0m\u001b[0m\n\u001b[0m\u001b[0;32m    450\u001b[0m         \u001b[1;32mexcept\u001b[0m \u001b[1;33m(\u001b[0m\u001b[0mSocketTimeout\u001b[0m\u001b[1;33m,\u001b[0m \u001b[0mBaseSSLError\u001b[0m\u001b[1;33m,\u001b[0m \u001b[0mSocketError\u001b[0m\u001b[1;33m)\u001b[0m \u001b[1;32mas\u001b[0m \u001b[0me\u001b[0m\u001b[1;33m:\u001b[0m\u001b[1;33m\u001b[0m\u001b[1;33m\u001b[0m\u001b[0m\n\u001b[0;32m    451\u001b[0m             \u001b[0mself\u001b[0m\u001b[1;33m.\u001b[0m\u001b[0m_raise_timeout\u001b[0m\u001b[1;33m(\u001b[0m\u001b[0merr\u001b[0m\u001b[1;33m=\u001b[0m\u001b[0me\u001b[0m\u001b[1;33m,\u001b[0m \u001b[0murl\u001b[0m\u001b[1;33m=\u001b[0m\u001b[0murl\u001b[0m\u001b[1;33m,\u001b[0m \u001b[0mtimeout_value\u001b[0m\u001b[1;33m=\u001b[0m\u001b[0mread_timeout\u001b[0m\u001b[1;33m)\u001b[0m\u001b[1;33m\u001b[0m\u001b[1;33m\u001b[0m\u001b[0m\n",
      "\u001b[1;32mc:\\Users\\206758160\\Anaconda3\\lib\\site-packages\\urllib3\\packages\\six.py\u001b[0m in \u001b[0;36mraise_from\u001b[1;34m(value, from_value)\u001b[0m\n",
      "\u001b[1;32mc:\\Users\\206758160\\Anaconda3\\lib\\site-packages\\urllib3\\connectionpool.py\u001b[0m in \u001b[0;36m_make_request\u001b[1;34m(self, conn, method, url, timeout, chunked, **httplib_request_kw)\u001b[0m\n\u001b[0;32m    442\u001b[0m                 \u001b[1;31m# Python 3\u001b[0m\u001b[1;33m\u001b[0m\u001b[1;33m\u001b[0m\u001b[0m\n\u001b[0;32m    443\u001b[0m                 \u001b[1;32mtry\u001b[0m\u001b[1;33m:\u001b[0m\u001b[1;33m\u001b[0m\u001b[1;33m\u001b[0m\u001b[0m\n\u001b[1;32m--> 444\u001b[1;33m                     \u001b[0mhttplib_response\u001b[0m \u001b[1;33m=\u001b[0m \u001b[0mconn\u001b[0m\u001b[1;33m.\u001b[0m\u001b[0mgetresponse\u001b[0m\u001b[1;33m(\u001b[0m\u001b[1;33m)\u001b[0m\u001b[1;33m\u001b[0m\u001b[1;33m\u001b[0m\u001b[0m\n\u001b[0m\u001b[0;32m    445\u001b[0m                 \u001b[1;32mexcept\u001b[0m \u001b[0mBaseException\u001b[0m \u001b[1;32mas\u001b[0m \u001b[0me\u001b[0m\u001b[1;33m:\u001b[0m\u001b[1;33m\u001b[0m\u001b[1;33m\u001b[0m\u001b[0m\n\u001b[0;32m    446\u001b[0m                     \u001b[1;31m# Remove the TypeError from the exception chain in\u001b[0m\u001b[1;33m\u001b[0m\u001b[1;33m\u001b[0m\u001b[0m\n",
      "\u001b[1;32mc:\\Users\\206758160\\Anaconda3\\lib\\http\\client.py\u001b[0m in \u001b[0;36mgetresponse\u001b[1;34m(self)\u001b[0m\n\u001b[0;32m   1375\u001b[0m         \u001b[1;32mtry\u001b[0m\u001b[1;33m:\u001b[0m\u001b[1;33m\u001b[0m\u001b[1;33m\u001b[0m\u001b[0m\n\u001b[0;32m   1376\u001b[0m             \u001b[1;32mtry\u001b[0m\u001b[1;33m:\u001b[0m\u001b[1;33m\u001b[0m\u001b[1;33m\u001b[0m\u001b[0m\n\u001b[1;32m-> 1377\u001b[1;33m                 \u001b[0mresponse\u001b[0m\u001b[1;33m.\u001b[0m\u001b[0mbegin\u001b[0m\u001b[1;33m(\u001b[0m\u001b[1;33m)\u001b[0m\u001b[1;33m\u001b[0m\u001b[1;33m\u001b[0m\u001b[0m\n\u001b[0m\u001b[0;32m   1378\u001b[0m             \u001b[1;32mexcept\u001b[0m \u001b[0mConnectionError\u001b[0m\u001b[1;33m:\u001b[0m\u001b[1;33m\u001b[0m\u001b[1;33m\u001b[0m\u001b[0m\n\u001b[0;32m   1379\u001b[0m                 \u001b[0mself\u001b[0m\u001b[1;33m.\u001b[0m\u001b[0mclose\u001b[0m\u001b[1;33m(\u001b[0m\u001b[1;33m)\u001b[0m\u001b[1;33m\u001b[0m\u001b[1;33m\u001b[0m\u001b[0m\n",
      "\u001b[1;32mc:\\Users\\206758160\\Anaconda3\\lib\\http\\client.py\u001b[0m in \u001b[0;36mbegin\u001b[1;34m(self)\u001b[0m\n\u001b[0;32m    318\u001b[0m         \u001b[1;31m# read until we get a non-100 response\u001b[0m\u001b[1;33m\u001b[0m\u001b[1;33m\u001b[0m\u001b[0m\n\u001b[0;32m    319\u001b[0m         \u001b[1;32mwhile\u001b[0m \u001b[1;32mTrue\u001b[0m\u001b[1;33m:\u001b[0m\u001b[1;33m\u001b[0m\u001b[1;33m\u001b[0m\u001b[0m\n\u001b[1;32m--> 320\u001b[1;33m             \u001b[0mversion\u001b[0m\u001b[1;33m,\u001b[0m \u001b[0mstatus\u001b[0m\u001b[1;33m,\u001b[0m \u001b[0mreason\u001b[0m \u001b[1;33m=\u001b[0m \u001b[0mself\u001b[0m\u001b[1;33m.\u001b[0m\u001b[0m_read_status\u001b[0m\u001b[1;33m(\u001b[0m\u001b[1;33m)\u001b[0m\u001b[1;33m\u001b[0m\u001b[1;33m\u001b[0m\u001b[0m\n\u001b[0m\u001b[0;32m    321\u001b[0m             \u001b[1;32mif\u001b[0m \u001b[0mstatus\u001b[0m \u001b[1;33m!=\u001b[0m \u001b[0mCONTINUE\u001b[0m\u001b[1;33m:\u001b[0m\u001b[1;33m\u001b[0m\u001b[1;33m\u001b[0m\u001b[0m\n\u001b[0;32m    322\u001b[0m                 \u001b[1;32mbreak\u001b[0m\u001b[1;33m\u001b[0m\u001b[1;33m\u001b[0m\u001b[0m\n",
      "\u001b[1;32mc:\\Users\\206758160\\Anaconda3\\lib\\http\\client.py\u001b[0m in \u001b[0;36m_read_status\u001b[1;34m(self)\u001b[0m\n\u001b[0;32m    279\u001b[0m \u001b[1;33m\u001b[0m\u001b[0m\n\u001b[0;32m    280\u001b[0m     \u001b[1;32mdef\u001b[0m \u001b[0m_read_status\u001b[0m\u001b[1;33m(\u001b[0m\u001b[0mself\u001b[0m\u001b[1;33m)\u001b[0m\u001b[1;33m:\u001b[0m\u001b[1;33m\u001b[0m\u001b[1;33m\u001b[0m\u001b[0m\n\u001b[1;32m--> 281\u001b[1;33m         \u001b[0mline\u001b[0m \u001b[1;33m=\u001b[0m \u001b[0mstr\u001b[0m\u001b[1;33m(\u001b[0m\u001b[0mself\u001b[0m\u001b[1;33m.\u001b[0m\u001b[0mfp\u001b[0m\u001b[1;33m.\u001b[0m\u001b[0mreadline\u001b[0m\u001b[1;33m(\u001b[0m\u001b[0m_MAXLINE\u001b[0m \u001b[1;33m+\u001b[0m \u001b[1;36m1\u001b[0m\u001b[1;33m)\u001b[0m\u001b[1;33m,\u001b[0m \u001b[1;34m\"iso-8859-1\"\u001b[0m\u001b[1;33m)\u001b[0m\u001b[1;33m\u001b[0m\u001b[1;33m\u001b[0m\u001b[0m\n\u001b[0m\u001b[0;32m    282\u001b[0m         \u001b[1;32mif\u001b[0m \u001b[0mlen\u001b[0m\u001b[1;33m(\u001b[0m\u001b[0mline\u001b[0m\u001b[1;33m)\u001b[0m \u001b[1;33m>\u001b[0m \u001b[0m_MAXLINE\u001b[0m\u001b[1;33m:\u001b[0m\u001b[1;33m\u001b[0m\u001b[1;33m\u001b[0m\u001b[0m\n\u001b[0;32m    283\u001b[0m             \u001b[1;32mraise\u001b[0m \u001b[0mLineTooLong\u001b[0m\u001b[1;33m(\u001b[0m\u001b[1;34m\"status line\"\u001b[0m\u001b[1;33m)\u001b[0m\u001b[1;33m\u001b[0m\u001b[1;33m\u001b[0m\u001b[0m\n",
      "\u001b[1;32mc:\\Users\\206758160\\Anaconda3\\lib\\socket.py\u001b[0m in \u001b[0;36mreadinto\u001b[1;34m(self, b)\u001b[0m\n\u001b[0;32m    702\u001b[0m         \u001b[1;32mwhile\u001b[0m \u001b[1;32mTrue\u001b[0m\u001b[1;33m:\u001b[0m\u001b[1;33m\u001b[0m\u001b[1;33m\u001b[0m\u001b[0m\n\u001b[0;32m    703\u001b[0m             \u001b[1;32mtry\u001b[0m\u001b[1;33m:\u001b[0m\u001b[1;33m\u001b[0m\u001b[1;33m\u001b[0m\u001b[0m\n\u001b[1;32m--> 704\u001b[1;33m                 \u001b[1;32mreturn\u001b[0m \u001b[0mself\u001b[0m\u001b[1;33m.\u001b[0m\u001b[0m_sock\u001b[0m\u001b[1;33m.\u001b[0m\u001b[0mrecv_into\u001b[0m\u001b[1;33m(\u001b[0m\u001b[0mb\u001b[0m\u001b[1;33m)\u001b[0m\u001b[1;33m\u001b[0m\u001b[1;33m\u001b[0m\u001b[0m\n\u001b[0m\u001b[0;32m    705\u001b[0m             \u001b[1;32mexcept\u001b[0m \u001b[0mtimeout\u001b[0m\u001b[1;33m:\u001b[0m\u001b[1;33m\u001b[0m\u001b[1;33m\u001b[0m\u001b[0m\n\u001b[0;32m    706\u001b[0m                 \u001b[0mself\u001b[0m\u001b[1;33m.\u001b[0m\u001b[0m_timeout_occurred\u001b[0m \u001b[1;33m=\u001b[0m \u001b[1;32mTrue\u001b[0m\u001b[1;33m\u001b[0m\u001b[1;33m\u001b[0m\u001b[0m\n",
      "\u001b[1;32mc:\\Users\\206758160\\Anaconda3\\lib\\ssl.py\u001b[0m in \u001b[0;36mrecv_into\u001b[1;34m(self, buffer, nbytes, flags)\u001b[0m\n\u001b[0;32m   1240\u001b[0m                   \u001b[1;34m\"non-zero flags not allowed in calls to recv_into() on %s\"\u001b[0m \u001b[1;33m%\u001b[0m\u001b[1;33m\u001b[0m\u001b[1;33m\u001b[0m\u001b[0m\n\u001b[0;32m   1241\u001b[0m                   self.__class__)\n\u001b[1;32m-> 1242\u001b[1;33m             \u001b[1;32mreturn\u001b[0m \u001b[0mself\u001b[0m\u001b[1;33m.\u001b[0m\u001b[0mread\u001b[0m\u001b[1;33m(\u001b[0m\u001b[0mnbytes\u001b[0m\u001b[1;33m,\u001b[0m \u001b[0mbuffer\u001b[0m\u001b[1;33m)\u001b[0m\u001b[1;33m\u001b[0m\u001b[1;33m\u001b[0m\u001b[0m\n\u001b[0m\u001b[0;32m   1243\u001b[0m         \u001b[1;32melse\u001b[0m\u001b[1;33m:\u001b[0m\u001b[1;33m\u001b[0m\u001b[1;33m\u001b[0m\u001b[0m\n\u001b[0;32m   1244\u001b[0m             \u001b[1;32mreturn\u001b[0m \u001b[0msuper\u001b[0m\u001b[1;33m(\u001b[0m\u001b[1;33m)\u001b[0m\u001b[1;33m.\u001b[0m\u001b[0mrecv_into\u001b[0m\u001b[1;33m(\u001b[0m\u001b[0mbuffer\u001b[0m\u001b[1;33m,\u001b[0m \u001b[0mnbytes\u001b[0m\u001b[1;33m,\u001b[0m \u001b[0mflags\u001b[0m\u001b[1;33m)\u001b[0m\u001b[1;33m\u001b[0m\u001b[1;33m\u001b[0m\u001b[0m\n",
      "\u001b[1;32mc:\\Users\\206758160\\Anaconda3\\lib\\ssl.py\u001b[0m in \u001b[0;36mread\u001b[1;34m(self, len, buffer)\u001b[0m\n\u001b[0;32m   1098\u001b[0m         \u001b[1;32mtry\u001b[0m\u001b[1;33m:\u001b[0m\u001b[1;33m\u001b[0m\u001b[1;33m\u001b[0m\u001b[0m\n\u001b[0;32m   1099\u001b[0m             \u001b[1;32mif\u001b[0m \u001b[0mbuffer\u001b[0m \u001b[1;32mis\u001b[0m \u001b[1;32mnot\u001b[0m \u001b[1;32mNone\u001b[0m\u001b[1;33m:\u001b[0m\u001b[1;33m\u001b[0m\u001b[1;33m\u001b[0m\u001b[0m\n\u001b[1;32m-> 1100\u001b[1;33m                 \u001b[1;32mreturn\u001b[0m \u001b[0mself\u001b[0m\u001b[1;33m.\u001b[0m\u001b[0m_sslobj\u001b[0m\u001b[1;33m.\u001b[0m\u001b[0mread\u001b[0m\u001b[1;33m(\u001b[0m\u001b[0mlen\u001b[0m\u001b[1;33m,\u001b[0m \u001b[0mbuffer\u001b[0m\u001b[1;33m)\u001b[0m\u001b[1;33m\u001b[0m\u001b[1;33m\u001b[0m\u001b[0m\n\u001b[0m\u001b[0;32m   1101\u001b[0m             \u001b[1;32melse\u001b[0m\u001b[1;33m:\u001b[0m\u001b[1;33m\u001b[0m\u001b[1;33m\u001b[0m\u001b[0m\n\u001b[0;32m   1102\u001b[0m                 \u001b[1;32mreturn\u001b[0m \u001b[0mself\u001b[0m\u001b[1;33m.\u001b[0m\u001b[0m_sslobj\u001b[0m\u001b[1;33m.\u001b[0m\u001b[0mread\u001b[0m\u001b[1;33m(\u001b[0m\u001b[0mlen\u001b[0m\u001b[1;33m)\u001b[0m\u001b[1;33m\u001b[0m\u001b[1;33m\u001b[0m\u001b[0m\n",
      "\u001b[1;31mKeyboardInterrupt\u001b[0m: "
     ]
    }
   ],
   "source": [
    "%%bigquery --project nbcu-ds-sandbox-a-001 --params $test\n",
    "CREATE OR REPLACE TABLE `nbcu-ds-sandbox-a-001.SLi_sandbox.Email_Measurement_Audience_Apr_2022` AS (\n",
    "\n",
    "    SELECT  distinct delivered_and_holdout.adobe_tracking_id AS aid\n",
    "        ,cohort\n",
    "        ,user.account_type\n",
    "        ,abandon_maa.primary_device\n",
    "        ,user.account_tenure\n",
    "        ,user.tenure_paid_lens\n",
    "        ,user.billing_platform_category\n",
    "        ,user.bundling_partner\n",
    "        ,user.billing_cycle_category\n",
    "        ,user.offer\n",
    "        ,user.churn_frequency\n",
    "        ,ia.First_Viewed_Title as intender_audience\n",
    "        ,ia.genre\n",
    "        ,ia.network\n",
    "        ,CASE WHEN pb.adobe_tracking_id IS NOT NULL THEN 'Previously Bundled' ELSE 'Never Bundled' END AS previously_bundled\n",
    "    FROM (\n",
    "        SELECT *, 'Targeted' as cohort from `nbcu-ds-sandbox-a-001.SLi_sandbox.Email_Delivered_Apr_2022`\n",
    "        UNION ALL\n",
    "        SELECT *, 'Holdout' as cohort from `nbcu-ds-sandbox-a-001.SLi_sandbox.Email_Holdout_Apr_2022`\n",
    "    ) delivered_and_holdout\n",
    "\n",
    "    -- Include only those who received email in the current reporting period or are in holdout\n",
    "    INNER JOIN `nbcu-ds-sandbox-a-001.SLi_sandbox.Email_Channel_Qualifier_Apr_2022` qualified\n",
    "    ON delivered_and_holdout.adobe_tracking_id = qualified.aid\n",
    "\n",
    "    -- take out all abandon MAAs\n",
    "    INNER JOIN\n",
    "        (\n",
    "            SELECT  DISTINCT adobe_tracking_id\n",
    "                ,CASE WHEN primary_device_name IN ('Android Mobile','Ios Mobile','Windows Phone') THEN 'Mobile'\n",
    "                        WHEN primary_device_name IN ('Www','Amazon Fire Tablet') THEN 'Other'  ELSE 'Large Screen' END AS primary_device\n",
    "            FROM `nbcu-ds-prod-001.PeacockDataMartSilver.SILVER_PRIMARY_DEVICES`\n",
    "            WHERE report_date = @report_end_date\n",
    "            AND date_of_last_view IS NOT NULL\n",
    "        ) abandon_maa\n",
    "    ON delivered_and_holdout.adobe_tracking_id = abandon_maa.adobe_tracking_id\n",
    "\n",
    "    --add attribute: account_type at the end of the reporting period\n",
    "    INNER JOIN\n",
    "        (\n",
    "            SELECT  DISTINCT adobe_tracking_id\n",
    "                ,account_type\n",
    "                ,account_tenure\n",
    "                ,tenure_paid_lens\n",
    "                ,CASE WHEN billing_platform = 'NBCU' THEN 'Direct'  ELSE 'IAP' END           AS billing_platform_category\n",
    "                ,bundling_partner\n",
    "                ,CASE WHEN billing_cycle = 'ANNUAL' THEN 'Annual'\n",
    "                        WHEN billing_cycle = 'MONTHLY' THEN 'Monthly' END                    AS billing_cycle_category\n",
    "                ,CASE WHEN voucher_partner is null THEN 'Not On Offer'  ELSE 'On Offer' END  AS offer\n",
    "                ,CASE WHEN previous_paid_churn_count = 0 THEN '0'\n",
    "                        WHEN previous_paid_churn_count = 1 THEN '1'\n",
    "                        WHEN previous_paid_churn_count = 2 THEN '2'  ELSE '3+' END           AS churn_frequency\n",
    "            FROM `nbcu-ds-prod-001.PeacockDataMartSilver.SILVER_USER`\n",
    "            WHERE report_date = @report_end_date \n",
    "        ) user\n",
    "    ON delivered_and_holdout.adobe_tracking_id = user.adobe_tracking_id\n",
    "\n",
    "    -- include intended audience\n",
    "    LEFT JOIN  `nbcu-ds-int-nft-001.PeacockDataMartMarketingGold.NMA_INTENDER_AUDIENCE_ATTRIBUTES_FINAL` ia\n",
    "    ON delivered_and_holdout.adobe_tracking_id = ia.adobe_tracking_id\n",
    "\n",
    "    -- include previously_bundled\n",
    "    LEFT JOIN (\n",
    "        SELECT distinct adobe_tracking_id\n",
    "        FROM `nbcu-ds-sandbox-a-001.SLi_sandbox.previously_bundled`\n",
    "        WHERE report_date = @report_end_date\n",
    "    ) pb\n",
    "    ON pb.adobe_tracking_id = pb.adobe_tracking_id\n",
    "\n",
    "    -- exclude unsubscribed\n",
    "    LEFT JOIN `nbcu-ds-sandbox-a-001.SLi_sandbox.Email_Unsubs_Apr_2022` email_unsubs\n",
    "    ON delivered_and_holdout.adobe_tracking_id = email_unsubs.adobe_tracking_id\n",
    "    \n",
    "    WHERE email_unsubs.adobe_tracking_id IS NULL\n",
    "\n",
    ");"
   ]
  },
  {
   "attachments": {},
   "cell_type": "markdown",
   "metadata": {},
   "source": [
    "# Push Notification Webhook"
   ]
  },
  {
   "cell_type": "code",
   "execution_count": 15,
   "metadata": {
    "vscode": {
     "languageId": "sql"
    }
   },
   "outputs": [],
   "source": [
    "params = {\n",
    "    'report_start_date': '2022-12-31',\n",
    "    'report_end_date': '2023-01-01'\n",
    "}"
   ]
  },
  {
   "cell_type": "code",
   "execution_count": 16,
   "metadata": {
    "vscode": {
     "languageId": "sql"
    }
   },
   "outputs": [
    {
     "data": {
      "application/vnd.jupyter.widget-view+json": {
       "model_id": "b8a5d158a52f46d9ae901b1c86efdbe6",
       "version_major": 2,
       "version_minor": 0
      },
      "text/plain": [
       "Query is running:   0%|          |"
      ]
     },
     "metadata": {},
     "output_type": "display_data"
    },
    {
     "data": {
      "application/vnd.jupyter.widget-view+json": {
       "model_id": "41307c8411914a89910f1c5202cbfe3f",
       "version_major": 2,
       "version_minor": 0
      },
      "text/plain": [
       "Downloading:   0%|          |"
      ]
     },
     "metadata": {},
     "output_type": "display_data"
    },
    {
     "data": {
      "text/html": [
       "<div>\n",
       "<style scoped>\n",
       "    .dataframe tbody tr th:only-of-type {\n",
       "        vertical-align: middle;\n",
       "    }\n",
       "\n",
       "    .dataframe tbody tr th {\n",
       "        vertical-align: top;\n",
       "    }\n",
       "\n",
       "    .dataframe thead th {\n",
       "        text-align: right;\n",
       "    }\n",
       "</style>\n",
       "<table border=\"1\" class=\"dataframe\">\n",
       "  <thead>\n",
       "    <tr style=\"text-align: right;\">\n",
       "      <th></th>\n",
       "      <th>f0_</th>\n",
       "    </tr>\n",
       "  </thead>\n",
       "  <tbody>\n",
       "    <tr>\n",
       "      <th>0</th>\n",
       "      <td>15672024</td>\n",
       "    </tr>\n",
       "  </tbody>\n",
       "</table>\n",
       "</div>"
      ],
      "text/plain": [
       "        f0_\n",
       "0  15672024"
      ]
     },
     "execution_count": 16,
     "metadata": {},
     "output_type": "execute_result"
    }
   ],
   "source": [
    "%%bigquery --project nbcu-ds-sandbox-a-001 --params $params\n",
    "-- webhook push opt-in canvas in Braze \n",
    "SELECT count(DISTINCT adobe_tracking_id)\n",
    "FROM `nbcu-ds-prod-001.PeacockDataMartSilver.SILVER_MPARTICLE_BRAZE`\n",
    "WHERE canvas_id = 'f4f21b32-e2ce-493f-a4dd-9132e45c65ff' --canvas_name = 'Push Optins' not displayed\n",
    "AND event_date BETWEEN @report_end_date AND DATE_ADD(@report_end_date, INTERVAL 2 DAY) --edited\n",
    "AND event_name = 'Webhook Sends'"
   ]
  },
  {
   "cell_type": "code",
   "execution_count": 21,
   "metadata": {
    "vscode": {
     "languageId": "sql"
    }
   },
   "outputs": [
    {
     "data": {
      "application/vnd.jupyter.widget-view+json": {
       "model_id": "ab859b29d09144a9bbbd8278a52d5a00",
       "version_major": 2,
       "version_minor": 0
      },
      "text/plain": [
       "Query is running:   0%|          |"
      ]
     },
     "metadata": {},
     "output_type": "display_data"
    },
    {
     "data": {
      "application/vnd.jupyter.widget-view+json": {
       "model_id": "c7a1a4981b5b4ef18bebac87197410d3",
       "version_major": 2,
       "version_minor": 0
      },
      "text/plain": [
       "Downloading:   0%|          |"
      ]
     },
     "metadata": {},
     "output_type": "display_data"
    },
    {
     "data": {
      "text/html": [
       "<div>\n",
       "<style scoped>\n",
       "    .dataframe tbody tr th:only-of-type {\n",
       "        vertical-align: middle;\n",
       "    }\n",
       "\n",
       "    .dataframe tbody tr th {\n",
       "        vertical-align: top;\n",
       "    }\n",
       "\n",
       "    .dataframe thead th {\n",
       "        text-align: right;\n",
       "    }\n",
       "</style>\n",
       "<table border=\"1\" class=\"dataframe\">\n",
       "  <thead>\n",
       "    <tr style=\"text-align: right;\">\n",
       "      <th></th>\n",
       "      <th>f0_</th>\n",
       "    </tr>\n",
       "  </thead>\n",
       "  <tbody>\n",
       "    <tr>\n",
       "      <th>0</th>\n",
       "      <td>0</td>\n",
       "    </tr>\n",
       "  </tbody>\n",
       "</table>\n",
       "</div>"
      ],
      "text/plain": [
       "   f0_\n",
       "0    0"
      ]
     },
     "execution_count": 21,
     "metadata": {},
     "output_type": "execute_result"
    }
   ],
   "source": [
    "%%bigquery --project nbcu-ds-sandbox-a-001 --params $params\n",
    "-- webhook push opt-in canvas in Braze \n",
    "SELECT count(DISTINCT identity)\n",
    "FROM `nbcu-sdp-prod-003.sdp_persistent_views.BrazePushNotificationContactView`\n",
    "WHERE canvasname = 'Push Optins' \n",
    "AND DATE(TIMESTAMP(eventTimestamp), 'America/New_York') BETWEEN @report_start_date AND DATE_ADD(@report_end_date, INTERVAL 2 DAY) --edited\n",
    "AND eventname = 'Webhook Sends'"
   ]
  },
  {
   "attachments": {},
   "cell_type": "markdown",
   "metadata": {
    "vscode": {
     "languageId": "sql"
    }
   },
   "source": [
    "# Weighted Churn in Quarterly"
   ]
  },
  {
   "cell_type": "code",
   "execution_count": 16,
   "metadata": {
    "vscode": {
     "languageId": "sql"
    }
   },
   "outputs": [
    {
     "data": {
      "application/vnd.jupyter.widget-view+json": {
       "model_id": "707f615903054226b9ed94fe82e8edad",
       "version_major": 2,
       "version_minor": 0
      },
      "text/plain": [
       "Query is running:   0%|          |"
      ]
     },
     "metadata": {},
     "output_type": "display_data"
    },
    {
     "data": {
      "application/vnd.jupyter.widget-view+json": {
       "model_id": "63fdd3bffb214757aa4db0d69d836eb2",
       "version_major": 2,
       "version_minor": 0
      },
      "text/plain": [
       "Downloading:   0%|          |"
      ]
     },
     "metadata": {},
     "output_type": "display_data"
    },
    {
     "data": {
      "text/html": [
       "<div>\n",
       "<style scoped>\n",
       "    .dataframe tbody tr th:only-of-type {\n",
       "        vertical-align: middle;\n",
       "    }\n",
       "\n",
       "    .dataframe tbody tr th {\n",
       "        vertical-align: top;\n",
       "    }\n",
       "\n",
       "    .dataframe thead th {\n",
       "        text-align: right;\n",
       "    }\n",
       "</style>\n",
       "<table border=\"1\" class=\"dataframe\">\n",
       "  <thead>\n",
       "    <tr style=\"text-align: right;\">\n",
       "      <th></th>\n",
       "      <th>report_month</th>\n",
       "      <th>cohort</th>\n",
       "      <th>denom</th>\n",
       "      <th>num</th>\n",
       "      <th>churn_rate</th>\n",
       "    </tr>\n",
       "  </thead>\n",
       "  <tbody>\n",
       "    <tr>\n",
       "      <th>0</th>\n",
       "      <td>2023-01-01</td>\n",
       "      <td>Holdout</td>\n",
       "      <td>481119</td>\n",
       "      <td>29588</td>\n",
       "      <td>0.061498</td>\n",
       "    </tr>\n",
       "    <tr>\n",
       "      <th>1</th>\n",
       "      <td>2023-01-01</td>\n",
       "      <td>Targeted</td>\n",
       "      <td>10432408</td>\n",
       "      <td>626352</td>\n",
       "      <td>0.060039</td>\n",
       "    </tr>\n",
       "    <tr>\n",
       "      <th>2</th>\n",
       "      <td>2023-02-01</td>\n",
       "      <td>Holdout</td>\n",
       "      <td>481652</td>\n",
       "      <td>25707</td>\n",
       "      <td>0.053373</td>\n",
       "    </tr>\n",
       "    <tr>\n",
       "      <th>3</th>\n",
       "      <td>2023-02-01</td>\n",
       "      <td>Targeted</td>\n",
       "      <td>12935147</td>\n",
       "      <td>640133</td>\n",
       "      <td>0.049488</td>\n",
       "    </tr>\n",
       "    <tr>\n",
       "      <th>4</th>\n",
       "      <td>2023-03-01</td>\n",
       "      <td>Holdout</td>\n",
       "      <td>489246</td>\n",
       "      <td>25272</td>\n",
       "      <td>0.051655</td>\n",
       "    </tr>\n",
       "    <tr>\n",
       "      <th>5</th>\n",
       "      <td>2023-03-01</td>\n",
       "      <td>Targeted</td>\n",
       "      <td>14696292</td>\n",
       "      <td>711494</td>\n",
       "      <td>0.048413</td>\n",
       "    </tr>\n",
       "  </tbody>\n",
       "</table>\n",
       "</div>"
      ],
      "text/plain": [
       "  report_month    cohort     denom     num  churn_rate\n",
       "0   2023-01-01   Holdout    481119   29588    0.061498\n",
       "1   2023-01-01  Targeted  10432408  626352    0.060039\n",
       "2   2023-02-01   Holdout    481652   25707    0.053373\n",
       "3   2023-02-01  Targeted  12935147  640133    0.049488\n",
       "4   2023-03-01   Holdout    489246   25272    0.051655\n",
       "5   2023-03-01  Targeted  14696292  711494    0.048413"
      ]
     },
     "execution_count": 16,
     "metadata": {},
     "output_type": "execute_result"
    }
   ],
   "source": [
    "%%bigquery df --project nbcu-ds-sandbox-a-001\n",
    "\n",
    "SELECT report_month, cohort, SUM(EOM_Paid_Churn_Denom) as denom, SUM(EOM_Paid_Churn_Num) as num, SUM(EOM_Paid_Churn_Num)/SUM(EOM_Paid_Churn_Denom) as churn_rate\n",
    "FROM `nbcu-ds-sandbox-a-001.SLi_sandbox.Email_Channel_Base_Monthly`\n",
    "WHERE Report_Month IN ('2023-01-01', '2023-02-01', '2023-03-01')\n",
    "group by 1,2\n",
    "order by 1,2"
   ]
  },
  {
   "cell_type": "code",
   "execution_count": 12,
   "metadata": {
    "vscode": {
     "languageId": "sql"
    }
   },
   "outputs": [
    {
     "data": {
      "application/vnd.jupyter.widget-view+json": {
       "model_id": "52ed2c6e233b4f19830a9cb157b5424a",
       "version_major": 2,
       "version_minor": 0
      },
      "text/plain": [
       "Query is running:   0%|          |"
      ]
     },
     "metadata": {},
     "output_type": "display_data"
    },
    {
     "data": {
      "application/vnd.jupyter.widget-view+json": {
       "model_id": "3d52417750fb494ebf246cbad61b0458",
       "version_major": 2,
       "version_minor": 0
      },
      "text/plain": [
       "Downloading:   0%|          |"
      ]
     },
     "metadata": {},
     "output_type": "display_data"
    },
    {
     "data": {
      "text/html": [
       "<div>\n",
       "<style scoped>\n",
       "    .dataframe tbody tr th:only-of-type {\n",
       "        vertical-align: middle;\n",
       "    }\n",
       "\n",
       "    .dataframe tbody tr th {\n",
       "        vertical-align: top;\n",
       "    }\n",
       "\n",
       "    .dataframe thead th {\n",
       "        text-align: right;\n",
       "    }\n",
       "</style>\n",
       "<table border=\"1\" class=\"dataframe\">\n",
       "  <thead>\n",
       "    <tr style=\"text-align: right;\">\n",
       "      <th></th>\n",
       "      <th>cohort</th>\n",
       "      <th>f0_</th>\n",
       "      <th>f1_</th>\n",
       "    </tr>\n",
       "  </thead>\n",
       "  <tbody>\n",
       "    <tr>\n",
       "      <th>0</th>\n",
       "      <td>Targeted</td>\n",
       "      <td>38063847</td>\n",
       "      <td>1977979</td>\n",
       "    </tr>\n",
       "    <tr>\n",
       "      <th>1</th>\n",
       "      <td>Holdout</td>\n",
       "      <td>1452017</td>\n",
       "      <td>80567</td>\n",
       "    </tr>\n",
       "  </tbody>\n",
       "</table>\n",
       "</div>"
      ],
      "text/plain": [
       "     cohort       f0_      f1_\n",
       "0  Targeted  38063847  1977979\n",
       "1   Holdout   1452017    80567"
      ]
     },
     "execution_count": 12,
     "metadata": {},
     "output_type": "execute_result"
    }
   ],
   "source": [
    "%%bigquery --project nbcu-ds-sandbox-a-001\n",
    "\n",
    "SELECT cohort, SUM(EOM_Paid_Churn_Denom) as denom, SUM(EOM_Paid_Churn_Num) as num\n",
    "FROM `nbcu-ds-sandbox-a-001.SLi_sandbox.Email_Channel_Base_Quarterly`\n",
    "WHERE Report_Month = '2023-01-01'\n",
    "group by 1"
   ]
  },
  {
   "attachments": {},
   "cell_type": "markdown",
   "metadata": {},
   "source": []
  },
  {
   "attachments": {},
   "cell_type": "markdown",
   "metadata": {},
   "source": [
    "# Bigquery job list"
   ]
  },
  {
   "cell_type": "code",
   "execution_count": 11,
   "metadata": {},
   "outputs": [],
   "source": [
    "from google.cloud import bigquery\n",
    "from dateutil import tz\n",
    "from datetime import datetime, timedelta\n",
    "import datetime\n",
    "\n",
    "to_zone = tz.tzlocal()\n",
    "# Construct a BigQuery client object.\n",
    "client = bigquery.Client()\n",
    "\n",
    "active_jobs = [job for job in client.list_jobs(state_filter=\"RUNNING\")]\n",
    "for job in active_jobs:\n",
    "    print(f\"{job.job_id} \\t | \\t Created: {job.created.astimezone(to_zone).strftime('%b %d, %Y %I:%M %p %Z')} \\t | \\t User: {job.user_email} \\t | \\t Status: {job.state}\")"
   ]
  },
  {
   "attachments": {},
   "cell_type": "markdown",
   "metadata": {},
   "source": [
    "# Webhook device"
   ]
  },
  {
   "cell_type": "code",
   "execution_count": 17,
   "metadata": {
    "vscode": {
     "languageId": "sql"
    }
   },
   "outputs": [
    {
     "data": {
      "application/vnd.jupyter.widget-view+json": {
       "model_id": "5f367b7fefb74ae48a6590333e63eb4c",
       "version_major": 2,
       "version_minor": 0
      },
      "text/plain": [
       "Query is running:   0%|          |"
      ]
     },
     "metadata": {},
     "output_type": "display_data"
    },
    {
     "data": {
      "application/vnd.jupyter.widget-view+json": {
       "model_id": "aad8aa78ea2f40dcba33e8fc26248194",
       "version_major": 2,
       "version_minor": 0
      },
      "text/plain": [
       "Downloading:   0%|          |"
      ]
     },
     "metadata": {},
     "output_type": "display_data"
    },
    {
     "data": {
      "text/html": [
       "<div>\n",
       "<style scoped>\n",
       "    .dataframe tbody tr th:only-of-type {\n",
       "        vertical-align: middle;\n",
       "    }\n",
       "\n",
       "    .dataframe tbody tr th {\n",
       "        vertical-align: top;\n",
       "    }\n",
       "\n",
       "    .dataframe thead th {\n",
       "        text-align: right;\n",
       "    }\n",
       "</style>\n",
       "<table border=\"1\" class=\"dataframe\">\n",
       "  <thead>\n",
       "    <tr style=\"text-align: right;\">\n",
       "      <th></th>\n",
       "      <th>eventName</th>\n",
       "    </tr>\n",
       "  </thead>\n",
       "  <tbody>\n",
       "    <tr>\n",
       "      <th>0</th>\n",
       "      <td>In-App Message Clicks</td>\n",
       "    </tr>\n",
       "    <tr>\n",
       "      <th>1</th>\n",
       "      <td>Push Notification Opens</td>\n",
       "    </tr>\n",
       "    <tr>\n",
       "      <th>2</th>\n",
       "      <td>Email Deliveries</td>\n",
       "    </tr>\n",
       "    <tr>\n",
       "      <th>3</th>\n",
       "      <td>Email Clicks</td>\n",
       "    </tr>\n",
       "    <tr>\n",
       "      <th>4</th>\n",
       "      <td>Canvas Conversions</td>\n",
       "    </tr>\n",
       "    <tr>\n",
       "      <th>5</th>\n",
       "      <td>In-App Message Impressions</td>\n",
       "    </tr>\n",
       "    <tr>\n",
       "      <th>6</th>\n",
       "      <td>Campaign Conversions</td>\n",
       "    </tr>\n",
       "    <tr>\n",
       "      <th>7</th>\n",
       "      <td>Email Unsubscribes</td>\n",
       "    </tr>\n",
       "    <tr>\n",
       "      <th>8</th>\n",
       "      <td>Webhook Sends</td>\n",
       "    </tr>\n",
       "    <tr>\n",
       "      <th>9</th>\n",
       "      <td>Canvas Entries</td>\n",
       "    </tr>\n",
       "    <tr>\n",
       "      <th>10</th>\n",
       "      <td>Push Notification Bounces</td>\n",
       "    </tr>\n",
       "    <tr>\n",
       "      <th>11</th>\n",
       "      <td>Email Opens</td>\n",
       "    </tr>\n",
       "    <tr>\n",
       "      <th>12</th>\n",
       "      <td>Push Notification Sends</td>\n",
       "    </tr>\n",
       "    <tr>\n",
       "      <th>13</th>\n",
       "      <td>Campaign Control Group Enrollments</td>\n",
       "    </tr>\n",
       "    <tr>\n",
       "      <th>14</th>\n",
       "      <td>Email Marks As Spam</td>\n",
       "    </tr>\n",
       "    <tr>\n",
       "      <th>15</th>\n",
       "      <td>Email Bounces</td>\n",
       "    </tr>\n",
       "    <tr>\n",
       "      <th>16</th>\n",
       "      <td>Email Sends</td>\n",
       "    </tr>\n",
       "  </tbody>\n",
       "</table>\n",
       "</div>"
      ],
      "text/plain": [
       "                             eventName\n",
       "0                In-App Message Clicks\n",
       "1              Push Notification Opens\n",
       "2                     Email Deliveries\n",
       "3                         Email Clicks\n",
       "4                   Canvas Conversions\n",
       "5           In-App Message Impressions\n",
       "6                 Campaign Conversions\n",
       "7                   Email Unsubscribes\n",
       "8                        Webhook Sends\n",
       "9                       Canvas Entries\n",
       "10           Push Notification Bounces\n",
       "11                         Email Opens\n",
       "12             Push Notification Sends\n",
       "13  Campaign Control Group Enrollments\n",
       "14                 Email Marks As Spam\n",
       "15                       Email Bounces\n",
       "16                         Email Sends"
      ]
     },
     "execution_count": 17,
     "metadata": {},
     "output_type": "execute_result"
    }
   ],
   "source": [
    "%%bigquery\n",
    "\n",
    "select distinct eventName\n",
    "from `nbcu-sdp-prod-003.sdp_persistent_views.BrazeMarketingView`"
   ]
  },
  {
   "cell_type": "code",
   "execution_count": 15,
   "metadata": {
    "vscode": {
     "languageId": "sql"
    }
   },
   "outputs": [
    {
     "data": {
      "application/vnd.jupyter.widget-view+json": {
       "model_id": "02ef6bdee0e847ef96efdc103ae40133",
       "version_major": 2,
       "version_minor": 0
      },
      "text/plain": [
       "Query is running:   0%|          |"
      ]
     },
     "metadata": {},
     "output_type": "display_data"
    },
    {
     "data": {
      "application/vnd.jupyter.widget-view+json": {
       "model_id": "4d1256d692474b6ab393c1caa96ddfc7",
       "version_major": 2,
       "version_minor": 0
      },
      "text/plain": [
       "Downloading:   0%|          |"
      ]
     },
     "metadata": {},
     "output_type": "display_data"
    },
    {
     "data": {
      "text/html": [
       "<div>\n",
       "<style scoped>\n",
       "    .dataframe tbody tr th:only-of-type {\n",
       "        vertical-align: middle;\n",
       "    }\n",
       "\n",
       "    .dataframe tbody tr th {\n",
       "        vertical-align: top;\n",
       "    }\n",
       "\n",
       "    .dataframe thead th {\n",
       "        text-align: right;\n",
       "    }\n",
       "</style>\n",
       "<table border=\"1\" class=\"dataframe\">\n",
       "  <thead>\n",
       "    <tr style=\"text-align: right;\">\n",
       "      <th></th>\n",
       "      <th>eventId</th>\n",
       "      <th>eventName</th>\n",
       "      <th>eventTimestamp</th>\n",
       "      <th>canvasId</th>\n",
       "      <th>canvasName</th>\n",
       "      <th>platform</th>\n",
       "    </tr>\n",
       "  </thead>\n",
       "  <tbody>\n",
       "    <tr>\n",
       "      <th>0</th>\n",
       "      <td>3031756233852560851</td>\n",
       "      <td>Push Notification Sends</td>\n",
       "      <td>2023-03-22 01:17:51+00:00</td>\n",
       "      <td>84f9e3de-8bfa-4de7-9b94-94cbd2efcc98</td>\n",
       "      <td>LC_WE5_0223</td>\n",
       "      <td>Android</td>\n",
       "    </tr>\n",
       "    <tr>\n",
       "      <th>1</th>\n",
       "      <td>-4357288915006158227</td>\n",
       "      <td>Push Notification Sends</td>\n",
       "      <td>2023-03-22 00:44:46+00:00</td>\n",
       "      <td>84f9e3de-8bfa-4de7-9b94-94cbd2efcc98</td>\n",
       "      <td>LC_WE5_0223</td>\n",
       "      <td>Android</td>\n",
       "    </tr>\n",
       "    <tr>\n",
       "      <th>2</th>\n",
       "      <td>-2573920126971357947</td>\n",
       "      <td>Push Notification Sends</td>\n",
       "      <td>2023-03-22 01:00:29+00:00</td>\n",
       "      <td>717caa6d-7d52-4c0f-b6b9-ef6481f2bf32</td>\n",
       "      <td>Mobile_Engagement_FreeSamplers_v3_Feb23</td>\n",
       "      <td>Android</td>\n",
       "    </tr>\n",
       "    <tr>\n",
       "      <th>3</th>\n",
       "      <td>7115354250271397067</td>\n",
       "      <td>Push Notification Opens</td>\n",
       "      <td>2023-03-22 00:45:49+00:00</td>\n",
       "      <td>24f58e86-c7db-4a6f-aee7-51f2558b274e</td>\n",
       "      <td>02142023  - Push - A024 - AUTOMATED: Bravo: Be...</td>\n",
       "      <td>Android</td>\n",
       "    </tr>\n",
       "    <tr>\n",
       "      <th>4</th>\n",
       "      <td>-6121215247390808384</td>\n",
       "      <td>Push Notification Opens</td>\n",
       "      <td>2023-03-22 01:10:59+00:00</td>\n",
       "      <td>24f58e86-c7db-4a6f-aee7-51f2558b274e</td>\n",
       "      <td>02142023  - Push - A024 - AUTOMATED: Bravo: Be...</td>\n",
       "      <td>Android</td>\n",
       "    </tr>\n",
       "    <tr>\n",
       "      <th>5</th>\n",
       "      <td>-7057563811996950597</td>\n",
       "      <td>Push Notification Sends</td>\n",
       "      <td>2023-03-22 01:09:43+00:00</td>\n",
       "      <td>84f9e3de-8bfa-4de7-9b94-94cbd2efcc98</td>\n",
       "      <td>LC_WE5_0223</td>\n",
       "      <td>Android</td>\n",
       "    </tr>\n",
       "    <tr>\n",
       "      <th>6</th>\n",
       "      <td>4472653370572332913</td>\n",
       "      <td>Push Notification Opens</td>\n",
       "      <td>2023-03-22 01:10:10+00:00</td>\n",
       "      <td>24f58e86-c7db-4a6f-aee7-51f2558b274e</td>\n",
       "      <td>02142023  - Push - A024 - AUTOMATED: Bravo: Be...</td>\n",
       "      <td>Android</td>\n",
       "    </tr>\n",
       "    <tr>\n",
       "      <th>7</th>\n",
       "      <td>1938275026897632774</td>\n",
       "      <td>Push Notification Opens</td>\n",
       "      <td>2023-03-22 00:56:28+00:00</td>\n",
       "      <td>24f58e86-c7db-4a6f-aee7-51f2558b274e</td>\n",
       "      <td>02142023  - Push - A024 - AUTOMATED: Bravo: Be...</td>\n",
       "      <td>Android</td>\n",
       "    </tr>\n",
       "    <tr>\n",
       "      <th>8</th>\n",
       "      <td>7944740798558970871</td>\n",
       "      <td>Push Notification Sends</td>\n",
       "      <td>2023-03-22 01:16:51+00:00</td>\n",
       "      <td>84f9e3de-8bfa-4de7-9b94-94cbd2efcc98</td>\n",
       "      <td>LC_WE5_0223</td>\n",
       "      <td>Android</td>\n",
       "    </tr>\n",
       "    <tr>\n",
       "      <th>9</th>\n",
       "      <td>-4380407986920519949</td>\n",
       "      <td>Push Notification Opens</td>\n",
       "      <td>2023-02-02 23:38:41+00:00</td>\n",
       "      <td>8d2cd443-f2f9-410a-a381-bc8d358e0c21</td>\n",
       "      <td>02022023 - Push - 2295- A/B TEST: Original: Pr...</td>\n",
       "      <td>iOS</td>\n",
       "    </tr>\n",
       "  </tbody>\n",
       "</table>\n",
       "</div>"
      ],
      "text/plain": [
       "                eventId                eventName            eventTimestamp  \\\n",
       "0   3031756233852560851  Push Notification Sends 2023-03-22 01:17:51+00:00   \n",
       "1  -4357288915006158227  Push Notification Sends 2023-03-22 00:44:46+00:00   \n",
       "2  -2573920126971357947  Push Notification Sends 2023-03-22 01:00:29+00:00   \n",
       "3   7115354250271397067  Push Notification Opens 2023-03-22 00:45:49+00:00   \n",
       "4  -6121215247390808384  Push Notification Opens 2023-03-22 01:10:59+00:00   \n",
       "5  -7057563811996950597  Push Notification Sends 2023-03-22 01:09:43+00:00   \n",
       "6   4472653370572332913  Push Notification Opens 2023-03-22 01:10:10+00:00   \n",
       "7   1938275026897632774  Push Notification Opens 2023-03-22 00:56:28+00:00   \n",
       "8   7944740798558970871  Push Notification Sends 2023-03-22 01:16:51+00:00   \n",
       "9  -4380407986920519949  Push Notification Opens 2023-02-02 23:38:41+00:00   \n",
       "\n",
       "                               canvasId  \\\n",
       "0  84f9e3de-8bfa-4de7-9b94-94cbd2efcc98   \n",
       "1  84f9e3de-8bfa-4de7-9b94-94cbd2efcc98   \n",
       "2  717caa6d-7d52-4c0f-b6b9-ef6481f2bf32   \n",
       "3  24f58e86-c7db-4a6f-aee7-51f2558b274e   \n",
       "4  24f58e86-c7db-4a6f-aee7-51f2558b274e   \n",
       "5  84f9e3de-8bfa-4de7-9b94-94cbd2efcc98   \n",
       "6  24f58e86-c7db-4a6f-aee7-51f2558b274e   \n",
       "7  24f58e86-c7db-4a6f-aee7-51f2558b274e   \n",
       "8  84f9e3de-8bfa-4de7-9b94-94cbd2efcc98   \n",
       "9  8d2cd443-f2f9-410a-a381-bc8d358e0c21   \n",
       "\n",
       "                                          canvasName platform  \n",
       "0                                        LC_WE5_0223  Android  \n",
       "1                                        LC_WE5_0223  Android  \n",
       "2            Mobile_Engagement_FreeSamplers_v3_Feb23  Android  \n",
       "3  02142023  - Push - A024 - AUTOMATED: Bravo: Be...  Android  \n",
       "4  02142023  - Push - A024 - AUTOMATED: Bravo: Be...  Android  \n",
       "5                                        LC_WE5_0223  Android  \n",
       "6  02142023  - Push - A024 - AUTOMATED: Bravo: Be...  Android  \n",
       "7  02142023  - Push - A024 - AUTOMATED: Bravo: Be...  Android  \n",
       "8                                        LC_WE5_0223  Android  \n",
       "9  02022023 - Push - 2295- A/B TEST: Original: Pr...      iOS  "
      ]
     },
     "execution_count": 15,
     "metadata": {},
     "output_type": "execute_result"
    }
   ],
   "source": [
    "%%bigquery\n",
    "\n",
    "select eventId, eventName, eventTimestamp, canvasId, canvasName, platform\n",
    "from `nbcu-sdp-prod-003.sdp_persistent_views.BrazeMarketingView`\n",
    "WHERE eventName like 'Push%'\n",
    "limit 10"
   ]
  },
  {
   "cell_type": "code",
   "execution_count": 13,
   "metadata": {
    "vscode": {
     "languageId": "sql"
    }
   },
   "outputs": [
    {
     "data": {
      "application/vnd.jupyter.widget-view+json": {
       "model_id": "c36419d8c2864635ac4a7ff92204fac7",
       "version_major": 2,
       "version_minor": 0
      },
      "text/plain": [
       "Query is running:   0%|          |"
      ]
     },
     "metadata": {},
     "output_type": "display_data"
    },
    {
     "data": {
      "application/vnd.jupyter.widget-view+json": {
       "model_id": "7e017598fd9840a19e27afa123381e17",
       "version_major": 2,
       "version_minor": 0
      },
      "text/plain": [
       "Downloading:   0%|          |"
      ]
     },
     "metadata": {},
     "output_type": "display_data"
    },
    {
     "data": {
      "text/html": [
       "<div>\n",
       "<style scoped>\n",
       "    .dataframe tbody tr th:only-of-type {\n",
       "        vertical-align: middle;\n",
       "    }\n",
       "\n",
       "    .dataframe tbody tr th {\n",
       "        vertical-align: top;\n",
       "    }\n",
       "\n",
       "    .dataframe thead th {\n",
       "        text-align: right;\n",
       "    }\n",
       "</style>\n",
       "<table border=\"1\" class=\"dataframe\">\n",
       "  <thead>\n",
       "    <tr style=\"text-align: right;\">\n",
       "      <th></th>\n",
       "      <th>eventId</th>\n",
       "      <th>eventName</th>\n",
       "      <th>eventTimestamp</th>\n",
       "      <th>canvasId</th>\n",
       "      <th>canvasName</th>\n",
       "      <th>platform</th>\n",
       "    </tr>\n",
       "  </thead>\n",
       "  <tbody>\n",
       "    <tr>\n",
       "      <th>0</th>\n",
       "      <td>5792931495764119413</td>\n",
       "      <td>Webhook Sends</td>\n",
       "      <td>2023-06-01 04:01:29+00:00</td>\n",
       "      <td>f4f21b32-e2ce-493f-a4dd-9132e45c65ff</td>\n",
       "      <td>Push Optins</td>\n",
       "      <td>None</td>\n",
       "    </tr>\n",
       "    <tr>\n",
       "      <th>1</th>\n",
       "      <td>5254021735770650675</td>\n",
       "      <td>Webhook Sends</td>\n",
       "      <td>2023-06-01 04:01:39+00:00</td>\n",
       "      <td>f4f21b32-e2ce-493f-a4dd-9132e45c65ff</td>\n",
       "      <td>Push Optins</td>\n",
       "      <td>None</td>\n",
       "    </tr>\n",
       "    <tr>\n",
       "      <th>2</th>\n",
       "      <td>-5131722505814534111</td>\n",
       "      <td>Webhook Sends</td>\n",
       "      <td>2023-06-01 04:01:31+00:00</td>\n",
       "      <td>f4f21b32-e2ce-493f-a4dd-9132e45c65ff</td>\n",
       "      <td>Push Optins</td>\n",
       "      <td>None</td>\n",
       "    </tr>\n",
       "    <tr>\n",
       "      <th>3</th>\n",
       "      <td>-6436623852326936193</td>\n",
       "      <td>Webhook Sends</td>\n",
       "      <td>2023-06-01 04:01:35+00:00</td>\n",
       "      <td>f4f21b32-e2ce-493f-a4dd-9132e45c65ff</td>\n",
       "      <td>Push Optins</td>\n",
       "      <td>None</td>\n",
       "    </tr>\n",
       "    <tr>\n",
       "      <th>4</th>\n",
       "      <td>748873000261427519</td>\n",
       "      <td>Webhook Sends</td>\n",
       "      <td>2023-06-01 04:01:20+00:00</td>\n",
       "      <td>f4f21b32-e2ce-493f-a4dd-9132e45c65ff</td>\n",
       "      <td>Push Optins</td>\n",
       "      <td>None</td>\n",
       "    </tr>\n",
       "    <tr>\n",
       "      <th>5</th>\n",
       "      <td>8076545147283950860</td>\n",
       "      <td>Webhook Sends</td>\n",
       "      <td>2023-06-01 04:02:21+00:00</td>\n",
       "      <td>f4f21b32-e2ce-493f-a4dd-9132e45c65ff</td>\n",
       "      <td>Push Optins</td>\n",
       "      <td>None</td>\n",
       "    </tr>\n",
       "    <tr>\n",
       "      <th>6</th>\n",
       "      <td>1759782972213100820</td>\n",
       "      <td>Webhook Sends</td>\n",
       "      <td>2023-06-01 04:02:02+00:00</td>\n",
       "      <td>f4f21b32-e2ce-493f-a4dd-9132e45c65ff</td>\n",
       "      <td>Push Optins</td>\n",
       "      <td>None</td>\n",
       "    </tr>\n",
       "    <tr>\n",
       "      <th>7</th>\n",
       "      <td>-4907201461266825658</td>\n",
       "      <td>Webhook Sends</td>\n",
       "      <td>2023-06-01 04:02:17+00:00</td>\n",
       "      <td>f4f21b32-e2ce-493f-a4dd-9132e45c65ff</td>\n",
       "      <td>Push Optins</td>\n",
       "      <td>None</td>\n",
       "    </tr>\n",
       "    <tr>\n",
       "      <th>8</th>\n",
       "      <td>7887005716877983811</td>\n",
       "      <td>Webhook Sends</td>\n",
       "      <td>2023-06-01 04:03:14+00:00</td>\n",
       "      <td>f4f21b32-e2ce-493f-a4dd-9132e45c65ff</td>\n",
       "      <td>Push Optins</td>\n",
       "      <td>None</td>\n",
       "    </tr>\n",
       "    <tr>\n",
       "      <th>9</th>\n",
       "      <td>1193333624145018925</td>\n",
       "      <td>Webhook Sends</td>\n",
       "      <td>2023-06-01 04:03:17+00:00</td>\n",
       "      <td>f4f21b32-e2ce-493f-a4dd-9132e45c65ff</td>\n",
       "      <td>Push Optins</td>\n",
       "      <td>None</td>\n",
       "    </tr>\n",
       "  </tbody>\n",
       "</table>\n",
       "</div>"
      ],
      "text/plain": [
       "                eventId      eventName            eventTimestamp  \\\n",
       "0   5792931495764119413  Webhook Sends 2023-06-01 04:01:29+00:00   \n",
       "1   5254021735770650675  Webhook Sends 2023-06-01 04:01:39+00:00   \n",
       "2  -5131722505814534111  Webhook Sends 2023-06-01 04:01:31+00:00   \n",
       "3  -6436623852326936193  Webhook Sends 2023-06-01 04:01:35+00:00   \n",
       "4    748873000261427519  Webhook Sends 2023-06-01 04:01:20+00:00   \n",
       "5   8076545147283950860  Webhook Sends 2023-06-01 04:02:21+00:00   \n",
       "6   1759782972213100820  Webhook Sends 2023-06-01 04:02:02+00:00   \n",
       "7  -4907201461266825658  Webhook Sends 2023-06-01 04:02:17+00:00   \n",
       "8   7887005716877983811  Webhook Sends 2023-06-01 04:03:14+00:00   \n",
       "9   1193333624145018925  Webhook Sends 2023-06-01 04:03:17+00:00   \n",
       "\n",
       "                               canvasId   canvasName platform  \n",
       "0  f4f21b32-e2ce-493f-a4dd-9132e45c65ff  Push Optins     None  \n",
       "1  f4f21b32-e2ce-493f-a4dd-9132e45c65ff  Push Optins     None  \n",
       "2  f4f21b32-e2ce-493f-a4dd-9132e45c65ff  Push Optins     None  \n",
       "3  f4f21b32-e2ce-493f-a4dd-9132e45c65ff  Push Optins     None  \n",
       "4  f4f21b32-e2ce-493f-a4dd-9132e45c65ff  Push Optins     None  \n",
       "5  f4f21b32-e2ce-493f-a4dd-9132e45c65ff  Push Optins     None  \n",
       "6  f4f21b32-e2ce-493f-a4dd-9132e45c65ff  Push Optins     None  \n",
       "7  f4f21b32-e2ce-493f-a4dd-9132e45c65ff  Push Optins     None  \n",
       "8  f4f21b32-e2ce-493f-a4dd-9132e45c65ff  Push Optins     None  \n",
       "9  f4f21b32-e2ce-493f-a4dd-9132e45c65ff  Push Optins     None  "
      ]
     },
     "execution_count": 13,
     "metadata": {},
     "output_type": "execute_result"
    }
   ],
   "source": [
    "%%bigquery\n",
    "\n",
    "select eventId, eventName, eventTimestamp, canvasId, canvasName, platform\n",
    "from `nbcu-sdp-prod-003.sdp_persistent_views.BrazeMarketingView`\n",
    "where eventName = 'Webhook Sends' and canvasId = 'f4f21b32-e2ce-493f-a4dd-9132e45c65ff'\n",
    "limit 10"
   ]
  },
  {
   "attachments": {},
   "cell_type": "markdown",
   "metadata": {},
   "source": [
    "# Paid Winback Redefinition"
   ]
  },
  {
   "attachments": {},
   "cell_type": "markdown",
   "metadata": {},
   "source": [
    "## Denom Comparison"
   ]
  },
  {
   "cell_type": "code",
   "execution_count": 44,
   "metadata": {
    "vscode": {
     "languageId": "sql"
    }
   },
   "outputs": [
    {
     "data": {
      "application/vnd.jupyter.widget-view+json": {
       "model_id": "5c486bc430514b6b88b9aa66f6123854",
       "version_major": 2,
       "version_minor": 0
      },
      "text/plain": [
       "Query is running:   0%|          |"
      ]
     },
     "metadata": {},
     "output_type": "display_data"
    },
    {
     "data": {
      "application/vnd.jupyter.widget-view+json": {
       "model_id": "9c43074c0dc14792864655f58d347ae3",
       "version_major": 2,
       "version_minor": 0
      },
      "text/plain": [
       "Downloading:   0%|          |"
      ]
     },
     "metadata": {},
     "output_type": "display_data"
    },
    {
     "data": {
      "text/html": [
       "<div>\n",
       "<style scoped>\n",
       "    .dataframe tbody tr th:only-of-type {\n",
       "        vertical-align: middle;\n",
       "    }\n",
       "\n",
       "    .dataframe tbody tr th {\n",
       "        vertical-align: top;\n",
       "    }\n",
       "\n",
       "    .dataframe thead th {\n",
       "        text-align: right;\n",
       "    }\n",
       "</style>\n",
       "<table border=\"1\" class=\"dataframe\">\n",
       "  <thead>\n",
       "    <tr style=\"text-align: right;\">\n",
       "      <th></th>\n",
       "      <th>f0_</th>\n",
       "    </tr>\n",
       "  </thead>\n",
       "  <tbody>\n",
       "    <tr>\n",
       "      <th>0</th>\n",
       "      <td>13354258</td>\n",
       "    </tr>\n",
       "  </tbody>\n",
       "</table>\n",
       "</div>"
      ],
      "text/plain": [
       "        f0_\n",
       "0  13354258"
      ]
     },
     "execution_count": 44,
     "metadata": {},
     "output_type": "execute_result"
    }
   ],
   "source": [
    "%%bigquery --params {'report_start_date': '2023-01-01', 'report_end_date': '2023-01-31'}\n",
    "\n",
    "WITH\n",
    "Paid_Winbacks_Denom AS (\n",
    "    SELECT  DISTINCT adobe_tracking_id\n",
    "    FROM\n",
    "    (\n",
    "        SELECT  adobe_tracking_id\n",
    "            ,report_date\n",
    "        FROM `nbcu-ds-prod-001.PeacockDataMartSilver.SILVER_USER`\n",
    "        WHERE paying_account_flag = 'NonPaying'\n",
    "        AND report_date BETWEEN @report_start_date AND @report_end_date \n",
    "    )\n",
    "    WHERE adobe_tracking_id NOT IN ( \n",
    "        SELECT DISTINCT adobe_tracking_id \n",
    "        FROM `nbcu-ds-prod-001.PeacockDataMartSilver.SILVER_USER` \n",
    "        WHERE (first_paying_date IS NULL)\n",
    "        AND (report_date BETWEEN @report_start_date AND @report_end_date)\n",
    "    ) \n",
    ")\n",
    "SELECT COUNT(Paid_Winbacks_Denom.adobe_tracking_id)\n",
    "FROM Paid_Winbacks_Denom"
   ]
  },
  {
   "cell_type": "code",
   "execution_count": 48,
   "metadata": {
    "vscode": {
     "languageId": "sql"
    }
   },
   "outputs": [
    {
     "data": {
      "application/vnd.jupyter.widget-view+json": {
       "model_id": "8162ca375de34f79bfe4ddaf25059d3f",
       "version_major": 2,
       "version_minor": 0
      },
      "text/plain": [
       "Query is running:   0%|          |"
      ]
     },
     "metadata": {},
     "output_type": "display_data"
    },
    {
     "data": {
      "application/vnd.jupyter.widget-view+json": {
       "model_id": "93633442275d4119aabc8a1f01379788",
       "version_major": 2,
       "version_minor": 0
      },
      "text/plain": [
       "Downloading:   0%|          |"
      ]
     },
     "metadata": {},
     "output_type": "display_data"
    },
    {
     "data": {
      "text/html": [
       "<div>\n",
       "<style scoped>\n",
       "    .dataframe tbody tr th:only-of-type {\n",
       "        vertical-align: middle;\n",
       "    }\n",
       "\n",
       "    .dataframe tbody tr th {\n",
       "        vertical-align: top;\n",
       "    }\n",
       "\n",
       "    .dataframe thead th {\n",
       "        text-align: right;\n",
       "    }\n",
       "</style>\n",
       "<table border=\"1\" class=\"dataframe\">\n",
       "  <thead>\n",
       "    <tr style=\"text-align: right;\">\n",
       "      <th></th>\n",
       "      <th>f0_</th>\n",
       "    </tr>\n",
       "  </thead>\n",
       "  <tbody>\n",
       "    <tr>\n",
       "      <th>0</th>\n",
       "      <td>13356019</td>\n",
       "    </tr>\n",
       "  </tbody>\n",
       "</table>\n",
       "</div>"
      ],
      "text/plain": [
       "        f0_\n",
       "0  13356019"
      ]
     },
     "execution_count": 48,
     "metadata": {},
     "output_type": "execute_result"
    }
   ],
   "source": [
    "%%bigquery --params {'report_start_date': '2023-01-01', 'report_end_date': '2023-01-31'}\n",
    "\n",
    "WITH\n",
    "Paid_Winbacks_Denom AS (\n",
    "    SELECT  DISTINCT adobe_tracking_id\n",
    "    FROM `nbcu-ds-prod-001.PeacockDataMartSilver.SILVER_USER`\n",
    "    WHERE (paying_account_flag = 'NonPaying')\n",
    "    AND (first_paying_date IS NOT NULL)\n",
    "    AND (report_date BETWEEN @report_start_date AND @report_end_date)\n",
    ")\n",
    "SELECT COUNT(Paid_Winbacks_Denom.adobe_tracking_id)\n",
    "FROM Paid_Winbacks_Denom"
   ]
  },
  {
   "cell_type": "code",
   "execution_count": 50,
   "metadata": {
    "vscode": {
     "languageId": "sql"
    }
   },
   "outputs": [
    {
     "data": {
      "application/vnd.jupyter.widget-view+json": {
       "model_id": "de8f0df4760a40d293746546a4dc6a22",
       "version_major": 2,
       "version_minor": 0
      },
      "text/plain": [
       "Query is running:   0%|          |"
      ]
     },
     "metadata": {},
     "output_type": "display_data"
    },
    {
     "data": {
      "text/html": [
       "<div>\n",
       "<style scoped>\n",
       "    .dataframe tbody tr th:only-of-type {\n",
       "        vertical-align: middle;\n",
       "    }\n",
       "\n",
       "    .dataframe tbody tr th {\n",
       "        vertical-align: top;\n",
       "    }\n",
       "\n",
       "    .dataframe thead th {\n",
       "        text-align: right;\n",
       "    }\n",
       "</style>\n",
       "<table border=\"1\" class=\"dataframe\">\n",
       "  <thead>\n",
       "    <tr style=\"text-align: right;\">\n",
       "      <th></th>\n",
       "    </tr>\n",
       "  </thead>\n",
       "  <tbody>\n",
       "  </tbody>\n",
       "</table>\n",
       "</div>"
      ],
      "text/plain": [
       "Empty DataFrame\n",
       "Columns: []\n",
       "Index: []"
      ]
     },
     "execution_count": 50,
     "metadata": {},
     "output_type": "execute_result"
    }
   ],
   "source": [
    "%%bigquery --params {'report_start_date': '2023-01-01', 'report_end_date': '2023-01-31'}\n",
    "\n",
    "CREATE OR REPLACE TABLE `nbcu-ds-sandbox-a-001.SLi_sandbox.Paid_Winbacks_Denom_Comparison` AS (\n",
    "    WITH\n",
    "    a AS (\n",
    "        SELECT  DISTINCT adobe_tracking_id\n",
    "        FROM\n",
    "        (\n",
    "            SELECT  adobe_tracking_id\n",
    "                ,report_date\n",
    "            FROM `nbcu-ds-prod-001.PeacockDataMartSilver.SILVER_USER`\n",
    "            WHERE paying_account_flag = 'NonPaying'\n",
    "            AND report_date BETWEEN @report_start_date AND @report_end_date \n",
    "        )\n",
    "        WHERE adobe_tracking_id NOT IN ( \n",
    "            SELECT DISTINCT adobe_tracking_id \n",
    "            FROM `nbcu-ds-prod-001.PeacockDataMartSilver.SILVER_USER` \n",
    "            WHERE (first_paying_date IS NULL)\n",
    "            AND (report_date BETWEEN @report_start_date AND @report_end_date)\n",
    "        ) \n",
    "    )\n",
    "    ,b AS (\n",
    "        SELECT  DISTINCT adobe_tracking_id\n",
    "        FROM `nbcu-ds-prod-001.PeacockDataMartSilver.SILVER_USER`\n",
    "        WHERE (paying_account_flag = 'NonPaying')\n",
    "        AND (first_paying_date IS NOT NULL)\n",
    "        AND (report_date BETWEEN @report_start_date AND @report_end_date)\n",
    "    )\n",
    "    SELECT b.adobe_tracking_id\n",
    "    FROM b\n",
    "    LEFT JOIN a\n",
    "    on b.adobe_tracking_id = a.adobe_tracking_id\n",
    "    WHERE a.adobe_tracking_id IS NULL\n",
    ")"
   ]
  },
  {
   "cell_type": "code",
   "execution_count": 51,
   "metadata": {
    "vscode": {
     "languageId": "sql"
    }
   },
   "outputs": [
    {
     "data": {
      "application/vnd.jupyter.widget-view+json": {
       "model_id": "26f892dbc8bb4236a41367882373a05b",
       "version_major": 2,
       "version_minor": 0
      },
      "text/plain": [
       "Query is running:   0%|          |"
      ]
     },
     "metadata": {},
     "output_type": "display_data"
    },
    {
     "data": {
      "application/vnd.jupyter.widget-view+json": {
       "model_id": "b97301ea212c405fafe30a32529494bb",
       "version_major": 2,
       "version_minor": 0
      },
      "text/plain": [
       "Downloading:   0%|          |"
      ]
     },
     "metadata": {},
     "output_type": "display_data"
    },
    {
     "data": {
      "text/html": [
       "<div>\n",
       "<style scoped>\n",
       "    .dataframe tbody tr th:only-of-type {\n",
       "        vertical-align: middle;\n",
       "    }\n",
       "\n",
       "    .dataframe tbody tr th {\n",
       "        vertical-align: top;\n",
       "    }\n",
       "\n",
       "    .dataframe thead th {\n",
       "        text-align: right;\n",
       "    }\n",
       "</style>\n",
       "<table border=\"1\" class=\"dataframe\">\n",
       "  <thead>\n",
       "    <tr style=\"text-align: right;\">\n",
       "      <th></th>\n",
       "      <th>adobe_tracking_id</th>\n",
       "    </tr>\n",
       "  </thead>\n",
       "  <tbody>\n",
       "    <tr>\n",
       "      <th>0</th>\n",
       "      <td>eD6BItdtCOFAUrARpBlTAza6juqjCEMuesOyU/351E4=</td>\n",
       "    </tr>\n",
       "    <tr>\n",
       "      <th>1</th>\n",
       "      <td>md+OIn83ZF7081jfxMZQJcC4+UTbp67GG/3LDWbqJNE=</td>\n",
       "    </tr>\n",
       "    <tr>\n",
       "      <th>2</th>\n",
       "      <td>UZaPxIpV7qqKVf90i90DnZaTShUBuCeDLFICvWBuPKQ=</td>\n",
       "    </tr>\n",
       "    <tr>\n",
       "      <th>3</th>\n",
       "      <td>nvNd8CLvgJTVEfBjfssFqUe/Ye0YRgGJ1ZjDdnn7iqs=</td>\n",
       "    </tr>\n",
       "    <tr>\n",
       "      <th>4</th>\n",
       "      <td>0sC3AoUlHoufc5Ol1cV5mPHiZA+OKgYqF90uKbPPN0w=</td>\n",
       "    </tr>\n",
       "    <tr>\n",
       "      <th>5</th>\n",
       "      <td>KohNfuUqdxYY0CvVpfPBhn/uH7zzgjztxrpxi/eDKO4=</td>\n",
       "    </tr>\n",
       "    <tr>\n",
       "      <th>6</th>\n",
       "      <td>/wq2Wi2viEONs019Am3BBr2P0dQ1Ah6XV37nWadtWfI=</td>\n",
       "    </tr>\n",
       "    <tr>\n",
       "      <th>7</th>\n",
       "      <td>m+0RWuqABMeGZRcYYxLhgad24GJ+GoAUiZPd25Y8LPg=</td>\n",
       "    </tr>\n",
       "    <tr>\n",
       "      <th>8</th>\n",
       "      <td>SJOw6J5DsmvDzD9CsUUhgI+juEn9rEIfnmwhTT1zz7M=</td>\n",
       "    </tr>\n",
       "    <tr>\n",
       "      <th>9</th>\n",
       "      <td>6NYpjSdbD0XJ+Ns5jIA2Ys3UZiKhTyUOpq7UjLevNBg=</td>\n",
       "    </tr>\n",
       "  </tbody>\n",
       "</table>\n",
       "</div>"
      ],
      "text/plain": [
       "                              adobe_tracking_id\n",
       "0  eD6BItdtCOFAUrARpBlTAza6juqjCEMuesOyU/351E4=\n",
       "1  md+OIn83ZF7081jfxMZQJcC4+UTbp67GG/3LDWbqJNE=\n",
       "2  UZaPxIpV7qqKVf90i90DnZaTShUBuCeDLFICvWBuPKQ=\n",
       "3  nvNd8CLvgJTVEfBjfssFqUe/Ye0YRgGJ1ZjDdnn7iqs=\n",
       "4  0sC3AoUlHoufc5Ol1cV5mPHiZA+OKgYqF90uKbPPN0w=\n",
       "5  KohNfuUqdxYY0CvVpfPBhn/uH7zzgjztxrpxi/eDKO4=\n",
       "6  /wq2Wi2viEONs019Am3BBr2P0dQ1Ah6XV37nWadtWfI=\n",
       "7  m+0RWuqABMeGZRcYYxLhgad24GJ+GoAUiZPd25Y8LPg=\n",
       "8  SJOw6J5DsmvDzD9CsUUhgI+juEn9rEIfnmwhTT1zz7M=\n",
       "9  6NYpjSdbD0XJ+Ns5jIA2Ys3UZiKhTyUOpq7UjLevNBg="
      ]
     },
     "execution_count": 51,
     "metadata": {},
     "output_type": "execute_result"
    }
   ],
   "source": [
    "%%bigquery --params {'report_start_date': '2023-01-01', 'report_end_date': '2023-01-31'}\n",
    "\n",
    "select * from `nbcu-ds-sandbox-a-001.SLi_sandbox.Paid_Winbacks_Denom_Comparison` limit 10;"
   ]
  },
  {
   "cell_type": "code",
   "execution_count": 53,
   "metadata": {
    "vscode": {
     "languageId": "sql"
    }
   },
   "outputs": [
    {
     "data": {
      "application/vnd.jupyter.widget-view+json": {
       "model_id": "e414462dbb1a449e932aae115fd20ef0",
       "version_major": 2,
       "version_minor": 0
      },
      "text/plain": [
       "Query is running:   0%|          |"
      ]
     },
     "metadata": {},
     "output_type": "display_data"
    },
    {
     "data": {
      "application/vnd.jupyter.widget-view+json": {
       "model_id": "28540e68eb31484da6e2bca9abfdf073",
       "version_major": 2,
       "version_minor": 0
      },
      "text/plain": [
       "Downloading:   0%|          |"
      ]
     },
     "metadata": {},
     "output_type": "display_data"
    },
    {
     "data": {
      "text/html": [
       "<div>\n",
       "<style scoped>\n",
       "    .dataframe tbody tr th:only-of-type {\n",
       "        vertical-align: middle;\n",
       "    }\n",
       "\n",
       "    .dataframe tbody tr th {\n",
       "        vertical-align: top;\n",
       "    }\n",
       "\n",
       "    .dataframe thead th {\n",
       "        text-align: right;\n",
       "    }\n",
       "</style>\n",
       "<table border=\"1\" class=\"dataframe\">\n",
       "  <thead>\n",
       "    <tr style=\"text-align: right;\">\n",
       "      <th></th>\n",
       "      <th>report_date</th>\n",
       "      <th>adobe_tracking_id</th>\n",
       "      <th>paying_account_flag</th>\n",
       "      <th>paying_account_change_flag</th>\n",
       "      <th>first_paying_date</th>\n",
       "      <th>last_paid_date</th>\n",
       "      <th>recent_paying_date</th>\n",
       "    </tr>\n",
       "  </thead>\n",
       "  <tbody>\n",
       "    <tr>\n",
       "      <th>0</th>\n",
       "      <td>2023-01-03</td>\n",
       "      <td>eD6BItdtCOFAUrARpBlTAza6juqjCEMuesOyU/351E4=</td>\n",
       "      <td>NonPaying</td>\n",
       "      <td>No Change</td>\n",
       "      <td>NaT</td>\n",
       "      <td>NaT</td>\n",
       "      <td>NaT</td>\n",
       "    </tr>\n",
       "    <tr>\n",
       "      <th>1</th>\n",
       "      <td>2023-01-04</td>\n",
       "      <td>eD6BItdtCOFAUrARpBlTAza6juqjCEMuesOyU/351E4=</td>\n",
       "      <td>NonPaying</td>\n",
       "      <td>No Change</td>\n",
       "      <td>NaT</td>\n",
       "      <td>NaT</td>\n",
       "      <td>NaT</td>\n",
       "    </tr>\n",
       "    <tr>\n",
       "      <th>2</th>\n",
       "      <td>2023-01-05</td>\n",
       "      <td>eD6BItdtCOFAUrARpBlTAza6juqjCEMuesOyU/351E4=</td>\n",
       "      <td>NonPaying</td>\n",
       "      <td>No Change</td>\n",
       "      <td>NaT</td>\n",
       "      <td>NaT</td>\n",
       "      <td>NaT</td>\n",
       "    </tr>\n",
       "    <tr>\n",
       "      <th>3</th>\n",
       "      <td>2023-01-06</td>\n",
       "      <td>eD6BItdtCOFAUrARpBlTAza6juqjCEMuesOyU/351E4=</td>\n",
       "      <td>NonPaying</td>\n",
       "      <td>No Change</td>\n",
       "      <td>NaT</td>\n",
       "      <td>NaT</td>\n",
       "      <td>NaT</td>\n",
       "    </tr>\n",
       "    <tr>\n",
       "      <th>4</th>\n",
       "      <td>2023-01-07</td>\n",
       "      <td>eD6BItdtCOFAUrARpBlTAza6juqjCEMuesOyU/351E4=</td>\n",
       "      <td>NonPaying</td>\n",
       "      <td>No Change</td>\n",
       "      <td>NaT</td>\n",
       "      <td>NaT</td>\n",
       "      <td>NaT</td>\n",
       "    </tr>\n",
       "    <tr>\n",
       "      <th>5</th>\n",
       "      <td>2023-01-08</td>\n",
       "      <td>eD6BItdtCOFAUrARpBlTAza6juqjCEMuesOyU/351E4=</td>\n",
       "      <td>NonPaying</td>\n",
       "      <td>No Change</td>\n",
       "      <td>NaT</td>\n",
       "      <td>NaT</td>\n",
       "      <td>NaT</td>\n",
       "    </tr>\n",
       "    <tr>\n",
       "      <th>6</th>\n",
       "      <td>2023-01-09</td>\n",
       "      <td>eD6BItdtCOFAUrARpBlTAza6juqjCEMuesOyU/351E4=</td>\n",
       "      <td>NonPaying</td>\n",
       "      <td>No Change</td>\n",
       "      <td>NaT</td>\n",
       "      <td>NaT</td>\n",
       "      <td>NaT</td>\n",
       "    </tr>\n",
       "    <tr>\n",
       "      <th>7</th>\n",
       "      <td>2023-01-10</td>\n",
       "      <td>eD6BItdtCOFAUrARpBlTAza6juqjCEMuesOyU/351E4=</td>\n",
       "      <td>NonPaying</td>\n",
       "      <td>No Change</td>\n",
       "      <td>NaT</td>\n",
       "      <td>NaT</td>\n",
       "      <td>NaT</td>\n",
       "    </tr>\n",
       "    <tr>\n",
       "      <th>8</th>\n",
       "      <td>2023-01-11</td>\n",
       "      <td>eD6BItdtCOFAUrARpBlTAza6juqjCEMuesOyU/351E4=</td>\n",
       "      <td>NonPaying</td>\n",
       "      <td>No Change</td>\n",
       "      <td>NaT</td>\n",
       "      <td>NaT</td>\n",
       "      <td>NaT</td>\n",
       "    </tr>\n",
       "    <tr>\n",
       "      <th>9</th>\n",
       "      <td>2023-01-12</td>\n",
       "      <td>eD6BItdtCOFAUrARpBlTAza6juqjCEMuesOyU/351E4=</td>\n",
       "      <td>Paying</td>\n",
       "      <td>NonPaying to Paying</td>\n",
       "      <td>2023-01-12</td>\n",
       "      <td>2023-01-12</td>\n",
       "      <td>2023-01-12</td>\n",
       "    </tr>\n",
       "    <tr>\n",
       "      <th>10</th>\n",
       "      <td>2023-01-13</td>\n",
       "      <td>eD6BItdtCOFAUrARpBlTAza6juqjCEMuesOyU/351E4=</td>\n",
       "      <td>Paying</td>\n",
       "      <td>No Change</td>\n",
       "      <td>2023-01-12</td>\n",
       "      <td>2023-01-12</td>\n",
       "      <td>2023-01-13</td>\n",
       "    </tr>\n",
       "    <tr>\n",
       "      <th>11</th>\n",
       "      <td>2023-01-14</td>\n",
       "      <td>eD6BItdtCOFAUrARpBlTAza6juqjCEMuesOyU/351E4=</td>\n",
       "      <td>Paying</td>\n",
       "      <td>No Change</td>\n",
       "      <td>2023-01-12</td>\n",
       "      <td>2023-01-12</td>\n",
       "      <td>2023-01-14</td>\n",
       "    </tr>\n",
       "    <tr>\n",
       "      <th>12</th>\n",
       "      <td>2023-01-15</td>\n",
       "      <td>eD6BItdtCOFAUrARpBlTAza6juqjCEMuesOyU/351E4=</td>\n",
       "      <td>NonPaying</td>\n",
       "      <td>Paying to NonPaying</td>\n",
       "      <td>2023-01-12</td>\n",
       "      <td>2023-01-12</td>\n",
       "      <td>2023-01-14</td>\n",
       "    </tr>\n",
       "    <tr>\n",
       "      <th>13</th>\n",
       "      <td>2023-01-16</td>\n",
       "      <td>eD6BItdtCOFAUrARpBlTAza6juqjCEMuesOyU/351E4=</td>\n",
       "      <td>NonPaying</td>\n",
       "      <td>No Change</td>\n",
       "      <td>2023-01-12</td>\n",
       "      <td>2023-01-12</td>\n",
       "      <td>2023-01-14</td>\n",
       "    </tr>\n",
       "    <tr>\n",
       "      <th>14</th>\n",
       "      <td>2023-01-17</td>\n",
       "      <td>eD6BItdtCOFAUrARpBlTAza6juqjCEMuesOyU/351E4=</td>\n",
       "      <td>NonPaying</td>\n",
       "      <td>No Change</td>\n",
       "      <td>2023-01-12</td>\n",
       "      <td>2023-01-12</td>\n",
       "      <td>2023-01-14</td>\n",
       "    </tr>\n",
       "    <tr>\n",
       "      <th>15</th>\n",
       "      <td>2023-01-18</td>\n",
       "      <td>eD6BItdtCOFAUrARpBlTAza6juqjCEMuesOyU/351E4=</td>\n",
       "      <td>NonPaying</td>\n",
       "      <td>No Change</td>\n",
       "      <td>2023-01-12</td>\n",
       "      <td>2023-01-12</td>\n",
       "      <td>2023-01-14</td>\n",
       "    </tr>\n",
       "    <tr>\n",
       "      <th>16</th>\n",
       "      <td>2023-01-19</td>\n",
       "      <td>eD6BItdtCOFAUrARpBlTAza6juqjCEMuesOyU/351E4=</td>\n",
       "      <td>NonPaying</td>\n",
       "      <td>No Change</td>\n",
       "      <td>2023-01-12</td>\n",
       "      <td>2023-01-12</td>\n",
       "      <td>2023-01-14</td>\n",
       "    </tr>\n",
       "    <tr>\n",
       "      <th>17</th>\n",
       "      <td>2023-01-20</td>\n",
       "      <td>eD6BItdtCOFAUrARpBlTAza6juqjCEMuesOyU/351E4=</td>\n",
       "      <td>Paying</td>\n",
       "      <td>NonPaying to Paying</td>\n",
       "      <td>2023-01-12</td>\n",
       "      <td>2023-01-20</td>\n",
       "      <td>2023-01-20</td>\n",
       "    </tr>\n",
       "    <tr>\n",
       "      <th>18</th>\n",
       "      <td>2023-01-21</td>\n",
       "      <td>eD6BItdtCOFAUrARpBlTAza6juqjCEMuesOyU/351E4=</td>\n",
       "      <td>Paying</td>\n",
       "      <td>No Change</td>\n",
       "      <td>2023-01-12</td>\n",
       "      <td>2023-01-20</td>\n",
       "      <td>2023-01-21</td>\n",
       "    </tr>\n",
       "    <tr>\n",
       "      <th>19</th>\n",
       "      <td>2023-01-22</td>\n",
       "      <td>eD6BItdtCOFAUrARpBlTAza6juqjCEMuesOyU/351E4=</td>\n",
       "      <td>Paying</td>\n",
       "      <td>No Change</td>\n",
       "      <td>2023-01-12</td>\n",
       "      <td>2023-01-20</td>\n",
       "      <td>2023-01-22</td>\n",
       "    </tr>\n",
       "    <tr>\n",
       "      <th>20</th>\n",
       "      <td>2023-01-23</td>\n",
       "      <td>eD6BItdtCOFAUrARpBlTAza6juqjCEMuesOyU/351E4=</td>\n",
       "      <td>Paying</td>\n",
       "      <td>No Change</td>\n",
       "      <td>2023-01-12</td>\n",
       "      <td>2023-01-20</td>\n",
       "      <td>2023-01-23</td>\n",
       "    </tr>\n",
       "    <tr>\n",
       "      <th>21</th>\n",
       "      <td>2023-01-24</td>\n",
       "      <td>eD6BItdtCOFAUrARpBlTAza6juqjCEMuesOyU/351E4=</td>\n",
       "      <td>Paying</td>\n",
       "      <td>No Change</td>\n",
       "      <td>2023-01-12</td>\n",
       "      <td>2023-01-20</td>\n",
       "      <td>2023-01-24</td>\n",
       "    </tr>\n",
       "    <tr>\n",
       "      <th>22</th>\n",
       "      <td>2023-01-25</td>\n",
       "      <td>eD6BItdtCOFAUrARpBlTAza6juqjCEMuesOyU/351E4=</td>\n",
       "      <td>Paying</td>\n",
       "      <td>No Change</td>\n",
       "      <td>2023-01-12</td>\n",
       "      <td>2023-01-20</td>\n",
       "      <td>2023-01-25</td>\n",
       "    </tr>\n",
       "    <tr>\n",
       "      <th>23</th>\n",
       "      <td>2023-01-26</td>\n",
       "      <td>eD6BItdtCOFAUrARpBlTAza6juqjCEMuesOyU/351E4=</td>\n",
       "      <td>Paying</td>\n",
       "      <td>No Change</td>\n",
       "      <td>2023-01-12</td>\n",
       "      <td>2023-01-20</td>\n",
       "      <td>2023-01-26</td>\n",
       "    </tr>\n",
       "    <tr>\n",
       "      <th>24</th>\n",
       "      <td>2023-01-27</td>\n",
       "      <td>eD6BItdtCOFAUrARpBlTAza6juqjCEMuesOyU/351E4=</td>\n",
       "      <td>Paying</td>\n",
       "      <td>No Change</td>\n",
       "      <td>2023-01-12</td>\n",
       "      <td>2023-01-20</td>\n",
       "      <td>2023-01-27</td>\n",
       "    </tr>\n",
       "    <tr>\n",
       "      <th>25</th>\n",
       "      <td>2023-01-28</td>\n",
       "      <td>eD6BItdtCOFAUrARpBlTAza6juqjCEMuesOyU/351E4=</td>\n",
       "      <td>Paying</td>\n",
       "      <td>No Change</td>\n",
       "      <td>2023-01-12</td>\n",
       "      <td>2023-01-20</td>\n",
       "      <td>2023-01-28</td>\n",
       "    </tr>\n",
       "    <tr>\n",
       "      <th>26</th>\n",
       "      <td>2023-01-29</td>\n",
       "      <td>eD6BItdtCOFAUrARpBlTAza6juqjCEMuesOyU/351E4=</td>\n",
       "      <td>Paying</td>\n",
       "      <td>No Change</td>\n",
       "      <td>2023-01-12</td>\n",
       "      <td>2023-01-20</td>\n",
       "      <td>2023-01-29</td>\n",
       "    </tr>\n",
       "    <tr>\n",
       "      <th>27</th>\n",
       "      <td>2023-01-30</td>\n",
       "      <td>eD6BItdtCOFAUrARpBlTAza6juqjCEMuesOyU/351E4=</td>\n",
       "      <td>Paying</td>\n",
       "      <td>No Change</td>\n",
       "      <td>2023-01-12</td>\n",
       "      <td>2023-01-20</td>\n",
       "      <td>2023-01-30</td>\n",
       "    </tr>\n",
       "    <tr>\n",
       "      <th>28</th>\n",
       "      <td>2023-01-31</td>\n",
       "      <td>eD6BItdtCOFAUrARpBlTAza6juqjCEMuesOyU/351E4=</td>\n",
       "      <td>Paying</td>\n",
       "      <td>No Change</td>\n",
       "      <td>2023-01-12</td>\n",
       "      <td>2023-01-20</td>\n",
       "      <td>2023-01-31</td>\n",
       "    </tr>\n",
       "  </tbody>\n",
       "</table>\n",
       "</div>"
      ],
      "text/plain": [
       "   report_date                             adobe_tracking_id  \\\n",
       "0   2023-01-03  eD6BItdtCOFAUrARpBlTAza6juqjCEMuesOyU/351E4=   \n",
       "1   2023-01-04  eD6BItdtCOFAUrARpBlTAza6juqjCEMuesOyU/351E4=   \n",
       "2   2023-01-05  eD6BItdtCOFAUrARpBlTAza6juqjCEMuesOyU/351E4=   \n",
       "3   2023-01-06  eD6BItdtCOFAUrARpBlTAza6juqjCEMuesOyU/351E4=   \n",
       "4   2023-01-07  eD6BItdtCOFAUrARpBlTAza6juqjCEMuesOyU/351E4=   \n",
       "5   2023-01-08  eD6BItdtCOFAUrARpBlTAza6juqjCEMuesOyU/351E4=   \n",
       "6   2023-01-09  eD6BItdtCOFAUrARpBlTAza6juqjCEMuesOyU/351E4=   \n",
       "7   2023-01-10  eD6BItdtCOFAUrARpBlTAza6juqjCEMuesOyU/351E4=   \n",
       "8   2023-01-11  eD6BItdtCOFAUrARpBlTAza6juqjCEMuesOyU/351E4=   \n",
       "9   2023-01-12  eD6BItdtCOFAUrARpBlTAza6juqjCEMuesOyU/351E4=   \n",
       "10  2023-01-13  eD6BItdtCOFAUrARpBlTAza6juqjCEMuesOyU/351E4=   \n",
       "11  2023-01-14  eD6BItdtCOFAUrARpBlTAza6juqjCEMuesOyU/351E4=   \n",
       "12  2023-01-15  eD6BItdtCOFAUrARpBlTAza6juqjCEMuesOyU/351E4=   \n",
       "13  2023-01-16  eD6BItdtCOFAUrARpBlTAza6juqjCEMuesOyU/351E4=   \n",
       "14  2023-01-17  eD6BItdtCOFAUrARpBlTAza6juqjCEMuesOyU/351E4=   \n",
       "15  2023-01-18  eD6BItdtCOFAUrARpBlTAza6juqjCEMuesOyU/351E4=   \n",
       "16  2023-01-19  eD6BItdtCOFAUrARpBlTAza6juqjCEMuesOyU/351E4=   \n",
       "17  2023-01-20  eD6BItdtCOFAUrARpBlTAza6juqjCEMuesOyU/351E4=   \n",
       "18  2023-01-21  eD6BItdtCOFAUrARpBlTAza6juqjCEMuesOyU/351E4=   \n",
       "19  2023-01-22  eD6BItdtCOFAUrARpBlTAza6juqjCEMuesOyU/351E4=   \n",
       "20  2023-01-23  eD6BItdtCOFAUrARpBlTAza6juqjCEMuesOyU/351E4=   \n",
       "21  2023-01-24  eD6BItdtCOFAUrARpBlTAza6juqjCEMuesOyU/351E4=   \n",
       "22  2023-01-25  eD6BItdtCOFAUrARpBlTAza6juqjCEMuesOyU/351E4=   \n",
       "23  2023-01-26  eD6BItdtCOFAUrARpBlTAza6juqjCEMuesOyU/351E4=   \n",
       "24  2023-01-27  eD6BItdtCOFAUrARpBlTAza6juqjCEMuesOyU/351E4=   \n",
       "25  2023-01-28  eD6BItdtCOFAUrARpBlTAza6juqjCEMuesOyU/351E4=   \n",
       "26  2023-01-29  eD6BItdtCOFAUrARpBlTAza6juqjCEMuesOyU/351E4=   \n",
       "27  2023-01-30  eD6BItdtCOFAUrARpBlTAza6juqjCEMuesOyU/351E4=   \n",
       "28  2023-01-31  eD6BItdtCOFAUrARpBlTAza6juqjCEMuesOyU/351E4=   \n",
       "\n",
       "   paying_account_flag paying_account_change_flag first_paying_date  \\\n",
       "0            NonPaying                  No Change               NaT   \n",
       "1            NonPaying                  No Change               NaT   \n",
       "2            NonPaying                  No Change               NaT   \n",
       "3            NonPaying                  No Change               NaT   \n",
       "4            NonPaying                  No Change               NaT   \n",
       "5            NonPaying                  No Change               NaT   \n",
       "6            NonPaying                  No Change               NaT   \n",
       "7            NonPaying                  No Change               NaT   \n",
       "8            NonPaying                  No Change               NaT   \n",
       "9               Paying        NonPaying to Paying        2023-01-12   \n",
       "10              Paying                  No Change        2023-01-12   \n",
       "11              Paying                  No Change        2023-01-12   \n",
       "12           NonPaying        Paying to NonPaying        2023-01-12   \n",
       "13           NonPaying                  No Change        2023-01-12   \n",
       "14           NonPaying                  No Change        2023-01-12   \n",
       "15           NonPaying                  No Change        2023-01-12   \n",
       "16           NonPaying                  No Change        2023-01-12   \n",
       "17              Paying        NonPaying to Paying        2023-01-12   \n",
       "18              Paying                  No Change        2023-01-12   \n",
       "19              Paying                  No Change        2023-01-12   \n",
       "20              Paying                  No Change        2023-01-12   \n",
       "21              Paying                  No Change        2023-01-12   \n",
       "22              Paying                  No Change        2023-01-12   \n",
       "23              Paying                  No Change        2023-01-12   \n",
       "24              Paying                  No Change        2023-01-12   \n",
       "25              Paying                  No Change        2023-01-12   \n",
       "26              Paying                  No Change        2023-01-12   \n",
       "27              Paying                  No Change        2023-01-12   \n",
       "28              Paying                  No Change        2023-01-12   \n",
       "\n",
       "   last_paid_date recent_paying_date  \n",
       "0             NaT                NaT  \n",
       "1             NaT                NaT  \n",
       "2             NaT                NaT  \n",
       "3             NaT                NaT  \n",
       "4             NaT                NaT  \n",
       "5             NaT                NaT  \n",
       "6             NaT                NaT  \n",
       "7             NaT                NaT  \n",
       "8             NaT                NaT  \n",
       "9      2023-01-12         2023-01-12  \n",
       "10     2023-01-12         2023-01-13  \n",
       "11     2023-01-12         2023-01-14  \n",
       "12     2023-01-12         2023-01-14  \n",
       "13     2023-01-12         2023-01-14  \n",
       "14     2023-01-12         2023-01-14  \n",
       "15     2023-01-12         2023-01-14  \n",
       "16     2023-01-12         2023-01-14  \n",
       "17     2023-01-20         2023-01-20  \n",
       "18     2023-01-20         2023-01-21  \n",
       "19     2023-01-20         2023-01-22  \n",
       "20     2023-01-20         2023-01-23  \n",
       "21     2023-01-20         2023-01-24  \n",
       "22     2023-01-20         2023-01-25  \n",
       "23     2023-01-20         2023-01-26  \n",
       "24     2023-01-20         2023-01-27  \n",
       "25     2023-01-20         2023-01-28  \n",
       "26     2023-01-20         2023-01-29  \n",
       "27     2023-01-20         2023-01-30  \n",
       "28     2023-01-20         2023-01-31  "
      ]
     },
     "execution_count": 53,
     "metadata": {},
     "output_type": "execute_result"
    }
   ],
   "source": [
    "%%bigquery --params {'report_start_date': '2023-01-01', 'report_end_date': '2023-01-31'}\n",
    "SELECT  report_date\n",
    "       ,adobe_tracking_id\n",
    "       ,paying_account_flag\n",
    "       ,paying_account_change_flag\n",
    "       ,first_paying_date\n",
    "       ,last_paid_date\n",
    "       ,recent_paying_date\n",
    "FROM `nbcu-ds-prod-001.PeacockDataMartSilver.SILVER_USER`\n",
    "WHERE report_date between @report_start_date and @report_end_date\n",
    "AND adobe_tracking_id = 'eD6BItdtCOFAUrARpBlTAza6juqjCEMuesOyU/351E4='\n",
    "ORDER BY report_date;"
   ]
  },
  {
   "attachments": {},
   "cell_type": "markdown",
   "metadata": {},
   "source": [
    "## Numerator Comparison"
   ]
  },
  {
   "cell_type": "code",
   "execution_count": null,
   "metadata": {
    "vscode": {
     "languageId": "sql"
    }
   },
   "outputs": [
    {
     "data": {
      "text/plain": [
       "Index(['report_date', 'household_id', 'adobe_tracking_id', 'registration_date',\n",
       "       'account_tenure', 'product_id', 'trial_flag',\n",
       "       'subscription_entitlement', 'subscription_entitlement_code',\n",
       "       'subscription_partner', 'subscription_paid_status',\n",
       "       'subscription_partner_start_date', 'subscription_cancellation_date',\n",
       "       'voucher_code', 'voucher_entitlement', 'voucher_entitlement_code',\n",
       "       'voucher_partner', 'voucher_paid_status', 'voucher_start_date',\n",
       "       'voucher_end_date', 'entitlement', 'bundling_partner',\n",
       "       'paying_account_flag', 'monthly_active_account', 'subscriber',\n",
       "       'video_watched_trailing30', 'billing_platform', 'last_visit_date',\n",
       "       'last_visit_status', 'acquisition_channel',\n",
       "       'acquisition_device_platform', 'churn_type', 'churn_source',\n",
       "       'billing_cycle', 'auto_renew_flag', 'account_status_event',\n",
       "       'entitlement_change_flag', 'account_type', 'gross_add_date',\n",
       "       'entitlement_updated', 'account_tenure_updated',\n",
       "       'video_watched_trailing14', 'account_status_event_acquisition',\n",
       "       'delayed_premium_signup_acq', 'paying_account_change_flag',\n",
       "       'maa_change_flag', 'tenure_paid_lens', 'video_watched_trailing7',\n",
       "       'weekly_active_account', 'last_paid_date', 'recent_paying_date',\n",
       "       'first_paying_date', 'previous_paid_churn_date',\n",
       "       'previous_paid_churn_count', 'first_premium_date',\n",
       "       'first_premium_plus_date', 'recent_premium_date',\n",
       "       'recent_premium_plus_date'],\n",
       "      dtype='object')"
      ]
     },
     "metadata": {},
     "output_type": "display_data"
    }
   ],
   "source": [
    "df.columns"
   ]
  },
  {
   "cell_type": "code",
   "execution_count": 4,
   "metadata": {
    "vscode": {
     "languageId": "sql"
    }
   },
   "outputs": [
    {
     "data": {
      "application/vnd.jupyter.widget-view+json": {
       "model_id": "96e73681b9124741b9c82bc2e52f53b8",
       "version_major": 2,
       "version_minor": 0
      },
      "text/plain": [
       "Query is running:   0%|          |"
      ]
     },
     "metadata": {},
     "output_type": "display_data"
    },
    {
     "data": {
      "application/vnd.jupyter.widget-view+json": {
       "model_id": "f0ad1b56ddb04d4fb7503eabd3b773a5",
       "version_major": 2,
       "version_minor": 0
      },
      "text/plain": [
       "Downloading:   0%|          |"
      ]
     },
     "metadata": {},
     "output_type": "display_data"
    },
    {
     "data": {
      "text/html": [
       "<div>\n",
       "<style scoped>\n",
       "    .dataframe tbody tr th:only-of-type {\n",
       "        vertical-align: middle;\n",
       "    }\n",
       "\n",
       "    .dataframe tbody tr th {\n",
       "        vertical-align: top;\n",
       "    }\n",
       "\n",
       "    .dataframe thead th {\n",
       "        text-align: right;\n",
       "    }\n",
       "</style>\n",
       "<table border=\"1\" class=\"dataframe\">\n",
       "  <thead>\n",
       "    <tr style=\"text-align: right;\">\n",
       "      <th></th>\n",
       "      <th>f0_</th>\n",
       "    </tr>\n",
       "  </thead>\n",
       "  <tbody>\n",
       "    <tr>\n",
       "      <th>0</th>\n",
       "      <td>0.042121</td>\n",
       "    </tr>\n",
       "  </tbody>\n",
       "</table>\n",
       "</div>"
      ],
      "text/plain": [
       "        f0_\n",
       "0  0.042121"
      ]
     },
     "execution_count": 4,
     "metadata": {},
     "output_type": "execute_result"
    }
   ],
   "source": [
    "%%bigquery --params {'report_start_date': '2023-01-01', 'report_end_date': '2023-01-31'}\n",
    "\n",
    "WITH\n",
    "Paid_Winbacks_Denom AS (\n",
    "    SELECT  DISTINCT adobe_tracking_id\n",
    "    FROM\n",
    "    (\n",
    "        SELECT  adobe_tracking_id\n",
    "            ,report_date\n",
    "        FROM `nbcu-ds-prod-001.PeacockDataMartSilver.SILVER_USER`\n",
    "        WHERE paying_account_flag = 'NonPaying'\n",
    "        AND report_date BETWEEN @report_start_date AND @report_end_date \n",
    "    )\n",
    "    WHERE adobe_tracking_id NOT IN ( \n",
    "        SELECT DISTINCT adobe_tracking_id \n",
    "        FROM `nbcu-ds-prod-001.PeacockDataMartSilver.SILVER_USER` \n",
    "        WHERE (first_paying_date IS NULL)\n",
    "        AND (report_date BETWEEN @report_start_date AND @report_end_date)\n",
    "    ) \n",
    ")\n",
    ", Paid_Winbacks_Num AS (\n",
    "    SELECT  DISTINCT adobe_tracking_id\n",
    "    FROM `nbcu-ds-sandbox-a-001.SLi_sandbox.upgrade_date_rank`\n",
    "    WHERE (upgrade_row_number > 1)\n",
    "    AND (report_date BETWEEN @report_start_date AND @report_end_date) \n",
    ")\n",
    "SELECT COUNT(Paid_Winbacks_Num.adobe_tracking_id) / COUNT(Paid_Winbacks_Denom.adobe_tracking_id)\n",
    "FROM Paid_Winbacks_Denom\n",
    "LEFT JOIN Paid_Winbacks_Num\n",
    "ON Paid_Winbacks_Denom.adobe_tracking_id = Paid_Winbacks_Num.adobe_tracking_id"
   ]
  },
  {
   "cell_type": "code",
   "execution_count": 182,
   "metadata": {
    "vscode": {
     "languageId": "sql"
    }
   },
   "outputs": [
    {
     "data": {
      "application/vnd.jupyter.widget-view+json": {
       "model_id": "4cf0ce56483e4ca1813c178fbc6ffa06",
       "version_major": 2,
       "version_minor": 0
      },
      "text/plain": [
       "Query is running:   0%|          |"
      ]
     },
     "metadata": {},
     "output_type": "display_data"
    },
    {
     "data": {
      "application/vnd.jupyter.widget-view+json": {
       "model_id": "881cfcbe59a44e3aa74ccf804b0e9902",
       "version_major": 2,
       "version_minor": 0
      },
      "text/plain": [
       "Downloading:   0%|          |"
      ]
     },
     "metadata": {},
     "output_type": "display_data"
    },
    {
     "data": {
      "text/html": [
       "<div>\n",
       "<style scoped>\n",
       "    .dataframe tbody tr th:only-of-type {\n",
       "        vertical-align: middle;\n",
       "    }\n",
       "\n",
       "    .dataframe tbody tr th {\n",
       "        vertical-align: top;\n",
       "    }\n",
       "\n",
       "    .dataframe thead th {\n",
       "        text-align: right;\n",
       "    }\n",
       "</style>\n",
       "<table border=\"1\" class=\"dataframe\">\n",
       "  <thead>\n",
       "    <tr style=\"text-align: right;\">\n",
       "      <th></th>\n",
       "      <th>f0_</th>\n",
       "    </tr>\n",
       "  </thead>\n",
       "  <tbody>\n",
       "    <tr>\n",
       "      <th>0</th>\n",
       "      <td>0.057858</td>\n",
       "    </tr>\n",
       "  </tbody>\n",
       "</table>\n",
       "</div>"
      ],
      "text/plain": [
       "        f0_\n",
       "0  0.057858"
      ]
     },
     "execution_count": 182,
     "metadata": {},
     "output_type": "execute_result"
    }
   ],
   "source": [
    "%%bigquery --params {'report_start_date': '2023-01-01', 'report_end_date': '2023-01-31'}\n",
    "\n",
    "WITH\n",
    "Paid_Winbacks_Denom AS (\n",
    "    SELECT  DISTINCT adobe_tracking_id\n",
    "    FROM\n",
    "    (\n",
    "        SELECT  adobe_tracking_id\n",
    "            ,report_date\n",
    "        FROM `nbcu-ds-prod-001.PeacockDataMartSilver.SILVER_USER`\n",
    "        WHERE paying_account_flag = 'NonPaying'\n",
    "        AND report_date BETWEEN @report_start_date AND @report_end_date \n",
    "    )\n",
    "    WHERE adobe_tracking_id NOT IN ( \n",
    "        SELECT DISTINCT adobe_tracking_id \n",
    "        FROM `nbcu-ds-prod-001.PeacockDataMartSilver.SILVER_USER` \n",
    "        WHERE (first_paying_date IS NULL)\n",
    "        AND (report_date BETWEEN @report_start_date AND @report_end_date)\n",
    "    ) \n",
    ")\n",
    ", Paid_Winbacks_Num AS (\n",
    "    SELECT  DISTINCT adobe_tracking_id\n",
    "    FROM `nbcu-ds-prod-001.PeacockDataMartSilver.SILVER_USER`\n",
    "    WHERE (paying_account_flag = 'Paying')\n",
    "    AND (paying_account_change_flag = 'NonPaying to Paying')\n",
    "    AND (first_paying_date != last_paid_date)\n",
    "    AND (report_date BETWEEN @report_start_date AND @report_end_date) \n",
    ")\n",
    "SELECT COUNT(Paid_Winbacks_Num.adobe_tracking_id) / COUNT(Paid_Winbacks_Denom.adobe_tracking_id)\n",
    "FROM Paid_Winbacks_Denom\n",
    "LEFT JOIN Paid_Winbacks_Num\n",
    "ON Paid_Winbacks_Denom.adobe_tracking_id = Paid_Winbacks_Num.adobe_tracking_id"
   ]
  },
  {
   "cell_type": "code",
   "execution_count": 66,
   "metadata": {
    "vscode": {
     "languageId": "sql"
    }
   },
   "outputs": [
    {
     "data": {
      "application/vnd.jupyter.widget-view+json": {
       "model_id": "fcba26463c634a88a3169eb6f57e5968",
       "version_major": 2,
       "version_minor": 0
      },
      "text/plain": [
       "Query is running:   0%|          |"
      ]
     },
     "metadata": {},
     "output_type": "display_data"
    },
    {
     "data": {
      "text/html": [
       "<div>\n",
       "<style scoped>\n",
       "    .dataframe tbody tr th:only-of-type {\n",
       "        vertical-align: middle;\n",
       "    }\n",
       "\n",
       "    .dataframe tbody tr th {\n",
       "        vertical-align: top;\n",
       "    }\n",
       "\n",
       "    .dataframe thead th {\n",
       "        text-align: right;\n",
       "    }\n",
       "</style>\n",
       "<table border=\"1\" class=\"dataframe\">\n",
       "  <thead>\n",
       "    <tr style=\"text-align: right;\">\n",
       "      <th></th>\n",
       "    </tr>\n",
       "  </thead>\n",
       "  <tbody>\n",
       "  </tbody>\n",
       "</table>\n",
       "</div>"
      ],
      "text/plain": [
       "Empty DataFrame\n",
       "Columns: []\n",
       "Index: []"
      ]
     },
     "execution_count": 66,
     "metadata": {},
     "output_type": "execute_result"
    }
   ],
   "source": [
    "%%bigquery --params {'report_start_date': '2023-01-01', 'report_end_date': '2023-01-31'}\n",
    "\n",
    "CREATE OR REPLACE TABLE `nbcu-ds-sandbox-a-001.SLi_sandbox.Paid_Winbacks_Denom` AS (\n",
    "\n",
    "    SELECT  DISTINCT a.adobe_tracking_id\n",
    "    FROM\n",
    "    (\n",
    "        SELECT  adobe_tracking_id\n",
    "            ,report_date\n",
    "        FROM `nbcu-ds-prod-001.PeacockDataMartSilver.SILVER_USER`\n",
    "        WHERE paying_account_flag = 'NonPaying'\n",
    "        AND report_date BETWEEN @report_start_date AND @report_end_date \n",
    "    ) a\n",
    "    LEFT JOIN `nbcu-ds-prod-001.PeacockDataMartSilver.SILVER_USER` b \n",
    "        ON a.adobe_tracking_id = b.adobe_tracking_id\n",
    "        AND (b.first_paying_date IS NULL)\n",
    "        AND (b.report_date BETWEEN @report_start_date AND @report_end_date)\n",
    "    WHERE b.adobe_tracking_id is null\n",
    ")"
   ]
  },
  {
   "cell_type": "code",
   "execution_count": 96,
   "metadata": {
    "vscode": {
     "languageId": "sql"
    }
   },
   "outputs": [
    {
     "data": {
      "application/vnd.jupyter.widget-view+json": {
       "model_id": "d361dda7bc364c5796418a4aefac7507",
       "version_major": 2,
       "version_minor": 0
      },
      "text/plain": [
       "Query is running:   0%|          |"
      ]
     },
     "metadata": {},
     "output_type": "display_data"
    },
    {
     "data": {
      "application/vnd.jupyter.widget-view+json": {
       "model_id": "0ab8af2083724d6f8782cec56d1b7031",
       "version_major": 2,
       "version_minor": 0
      },
      "text/plain": [
       "Downloading:   0%|          |"
      ]
     },
     "metadata": {},
     "output_type": "display_data"
    }
   ],
   "source": [
    "%%bigquery df --params {'report_start_date': '2023-01-01', 'report_end_date': '2023-01-31'}\n",
    "\n",
    "WITH a AS\n",
    "(\n",
    "\tSELECT  distinct adobe_tracking_id\n",
    "\t       ,report_date\n",
    "\t       ,upgrade_row_number\n",
    "\tFROM `nbcu-ds-sandbox-a-001.SLi_sandbox.upgrade_date_rank`\n",
    "\tWHERE (upgrade_row_number > 1)\n",
    "\tAND (report_date BETWEEN @report_start_date AND @report_end_date) \n",
    ") , b AS\n",
    "(\n",
    "\tSELECT  distinct adobe_tracking_id\n",
    "\t       ,report_date\n",
    "\t       ,paying_account_flag\n",
    "\t       ,paying_account_change_flag\n",
    "\t       ,first_paying_date\n",
    "\t       ,last_paid_date\n",
    "\t       ,recent_paying_date\n",
    "\tFROM `nbcu-ds-prod-001.PeacockDataMartSilver.SILVER_USER`\n",
    "\tWHERE (paying_account_flag = 'Paying')\n",
    "\tAND (paying_account_change_flag = 'NonPaying to Paying')\n",
    "\tAND (first_paying_date != last_paid_date)\n",
    "\tAND (report_date BETWEEN @report_start_date AND @report_end_date) \n",
    ")\n",
    "SELECT  a.adobe_tracking_id\n",
    "       ,a.report_date\n",
    "       ,upgrade_row_number\n",
    "       ,paying_account_change_flag\n",
    "       ,paying_account_flag\n",
    "       ,first_paying_date\n",
    "       ,last_paid_date\n",
    "       ,recent_paying_date\n",
    "FROM b\n",
    "LEFT JOIN a\n",
    "ON a.adobe_tracking_id = b.adobe_tracking_id AND a.report_date = b.report_date\n",
    "WHERE a.adobe_tracking_id IS NULL"
   ]
  },
  {
   "cell_type": "code",
   "execution_count": 115,
   "metadata": {
    "vscode": {
     "languageId": "sql"
    }
   },
   "outputs": [
    {
     "data": {
      "application/vnd.jupyter.widget-view+json": {
       "model_id": "593b8b331bb34722abbd923ab38ddd98",
       "version_major": 2,
       "version_minor": 0
      },
      "text/plain": [
       "Query is running:   0%|          |"
      ]
     },
     "metadata": {},
     "output_type": "display_data"
    },
    {
     "data": {
      "application/vnd.jupyter.widget-view+json": {
       "model_id": "ecf6f94ea1604b9a854f6df0e3aea7a3",
       "version_major": 2,
       "version_minor": 0
      },
      "text/plain": [
       "Downloading:   0%|          |"
      ]
     },
     "metadata": {},
     "output_type": "display_data"
    }
   ],
   "source": [
    "%%bigquery df --params {'report_start_date': '2023-01-01', 'report_end_date': '2023-01-31'}\n",
    "\n",
    "WITH a AS\n",
    "(\n",
    "\tSELECT  distinct adobe_tracking_id\n",
    "\tFROM `nbcu-ds-sandbox-a-001.SLi_sandbox.upgrade_date_rank`\n",
    "\tWHERE (upgrade_row_number > 1)\n",
    "\tAND (report_date BETWEEN @report_start_date AND @report_end_date) \n",
    ") , b AS\n",
    "(\n",
    "\tSELECT  distinct adobe_tracking_id\n",
    "\tFROM `nbcu-ds-prod-001.PeacockDataMartSilver.SILVER_USER`\n",
    "\tWHERE (paying_account_flag = 'Paying')\n",
    "\tAND (paying_account_change_flag = 'NonPaying to Paying')\n",
    "\tAND (first_paying_date != last_paid_date)\n",
    "\tAND (report_date BETWEEN @report_start_date AND @report_end_date) \n",
    "), diff as (\n",
    "\tSELECT  b.adobe_tracking_id\n",
    "\tFROM b\n",
    "\tLEFT JOIN a\n",
    "\tON a.adobe_tracking_id = b.adobe_tracking_id\n",
    "\tWHERE a.adobe_tracking_id IS NULL\n",
    ")\n",
    "select u.adobe_tracking_id, u.report_date, u.paying_account_change_flag, paying_account_flag, first_paying_date, last_paid_date, recent_paying_date\n",
    "from `nbcu-ds-prod-001.PeacockDataMartSilver.SILVER_USER` u\n",
    "JOIN diff d on u.adobe_tracking_id = d.adobe_tracking_id\n",
    "WHERE (paying_account_flag = 'Paying')\n",
    "\tAND (paying_account_change_flag = 'NonPaying to Paying')\n",
    "\tAND (first_paying_date != last_paid_date)\n",
    "\tAND (report_date BETWEEN @report_start_date AND @report_end_date) "
   ]
  },
  {
   "cell_type": "code",
   "execution_count": 116,
   "metadata": {
    "vscode": {
     "languageId": "sql"
    }
   },
   "outputs": [
    {
     "data": {
      "text/html": [
       "<div>\n",
       "<style scoped>\n",
       "    .dataframe tbody tr th:only-of-type {\n",
       "        vertical-align: middle;\n",
       "    }\n",
       "\n",
       "    .dataframe tbody tr th {\n",
       "        vertical-align: top;\n",
       "    }\n",
       "\n",
       "    .dataframe thead th {\n",
       "        text-align: right;\n",
       "    }\n",
       "</style>\n",
       "<table border=\"1\" class=\"dataframe\">\n",
       "  <thead>\n",
       "    <tr style=\"text-align: right;\">\n",
       "      <th></th>\n",
       "      <th>adobe_tracking_id</th>\n",
       "      <th>report_date</th>\n",
       "      <th>paying_account_change_flag</th>\n",
       "      <th>paying_account_flag</th>\n",
       "      <th>first_paying_date</th>\n",
       "      <th>last_paid_date</th>\n",
       "      <th>recent_paying_date</th>\n",
       "    </tr>\n",
       "  </thead>\n",
       "  <tbody>\n",
       "    <tr>\n",
       "      <th>0</th>\n",
       "      <td>epd6iHzgXTaYMkGZkqv0+l7ok30SCY4zqp2KPcoJ6Cg=</td>\n",
       "      <td>2023-01-01</td>\n",
       "      <td>NonPaying to Paying</td>\n",
       "      <td>Paying</td>\n",
       "      <td>2021-05-19</td>\n",
       "      <td>2023-01-01</td>\n",
       "      <td>2023-01-01</td>\n",
       "    </tr>\n",
       "    <tr>\n",
       "      <th>1</th>\n",
       "      <td>9hIN6HTh5z2ktPu8lMQfszz1HfuNJyg4u0z0EAEiRjc=</td>\n",
       "      <td>2023-01-01</td>\n",
       "      <td>NonPaying to Paying</td>\n",
       "      <td>Paying</td>\n",
       "      <td>2022-01-09</td>\n",
       "      <td>2023-01-01</td>\n",
       "      <td>2023-01-01</td>\n",
       "    </tr>\n",
       "    <tr>\n",
       "      <th>2</th>\n",
       "      <td>e/Y1qTGa+NLGuQrL8VYaDUDhrx39gjCmGAdIKZzl8vc=</td>\n",
       "      <td>2023-01-01</td>\n",
       "      <td>NonPaying to Paying</td>\n",
       "      <td>Paying</td>\n",
       "      <td>2022-11-19</td>\n",
       "      <td>2023-01-01</td>\n",
       "      <td>2023-01-01</td>\n",
       "    </tr>\n",
       "    <tr>\n",
       "      <th>3</th>\n",
       "      <td>b0BRSvEIgsScvx6i7vxPqwW1+eOEXmzJ0RqdVfl3vF8=</td>\n",
       "      <td>2023-01-01</td>\n",
       "      <td>NonPaying to Paying</td>\n",
       "      <td>Paying</td>\n",
       "      <td>2022-11-02</td>\n",
       "      <td>2023-01-01</td>\n",
       "      <td>2023-01-01</td>\n",
       "    </tr>\n",
       "    <tr>\n",
       "      <th>4</th>\n",
       "      <td>UQ5/mx/qIMGycWx1q+6iF3QlfgMb3awBrbwQM5y2eBM=</td>\n",
       "      <td>2023-01-01</td>\n",
       "      <td>NonPaying to Paying</td>\n",
       "      <td>Paying</td>\n",
       "      <td>2021-07-02</td>\n",
       "      <td>2023-01-01</td>\n",
       "      <td>2023-01-01</td>\n",
       "    </tr>\n",
       "    <tr>\n",
       "      <th>...</th>\n",
       "      <td>...</td>\n",
       "      <td>...</td>\n",
       "      <td>...</td>\n",
       "      <td>...</td>\n",
       "      <td>...</td>\n",
       "      <td>...</td>\n",
       "      <td>...</td>\n",
       "    </tr>\n",
       "    <tr>\n",
       "      <th>220823</th>\n",
       "      <td>l7Qttx3IsLac8THH9hvbBAxl2dCA4Uyb69h9gdSLON8=</td>\n",
       "      <td>2023-01-20</td>\n",
       "      <td>NonPaying to Paying</td>\n",
       "      <td>Paying</td>\n",
       "      <td>2021-10-17</td>\n",
       "      <td>2023-01-20</td>\n",
       "      <td>2023-01-20</td>\n",
       "    </tr>\n",
       "    <tr>\n",
       "      <th>220824</th>\n",
       "      <td>Gobj5DGcYm5la/mhrmv8kL67UAVb4eG5HvjBXWMwm8I=</td>\n",
       "      <td>2023-01-20</td>\n",
       "      <td>NonPaying to Paying</td>\n",
       "      <td>Paying</td>\n",
       "      <td>2021-10-17</td>\n",
       "      <td>2023-01-20</td>\n",
       "      <td>2023-01-20</td>\n",
       "    </tr>\n",
       "    <tr>\n",
       "      <th>220825</th>\n",
       "      <td>bgzIT28plbEG9IOn91Iwgv18nYI1XNz7iymkqvnd518=</td>\n",
       "      <td>2023-01-20</td>\n",
       "      <td>NonPaying to Paying</td>\n",
       "      <td>Paying</td>\n",
       "      <td>2021-10-17</td>\n",
       "      <td>2023-01-20</td>\n",
       "      <td>2023-01-20</td>\n",
       "    </tr>\n",
       "    <tr>\n",
       "      <th>220826</th>\n",
       "      <td>LfyIZ78yy+mT/NeOY4yfd1soOwUYqNHWrbjdtdt1hp0=</td>\n",
       "      <td>2023-01-20</td>\n",
       "      <td>NonPaying to Paying</td>\n",
       "      <td>Paying</td>\n",
       "      <td>2021-10-17</td>\n",
       "      <td>2023-01-20</td>\n",
       "      <td>2023-01-20</td>\n",
       "    </tr>\n",
       "    <tr>\n",
       "      <th>220827</th>\n",
       "      <td>dr6MgRqjMrYOxYotTyeRmsOj0cYAgXitbybfC2SJv6M=</td>\n",
       "      <td>2023-01-20</td>\n",
       "      <td>NonPaying to Paying</td>\n",
       "      <td>Paying</td>\n",
       "      <td>2021-10-17</td>\n",
       "      <td>2023-01-20</td>\n",
       "      <td>2023-01-20</td>\n",
       "    </tr>\n",
       "  </tbody>\n",
       "</table>\n",
       "<p>220828 rows × 7 columns</p>\n",
       "</div>"
      ],
      "text/plain": [
       "                                   adobe_tracking_id report_date  \\\n",
       "0       epd6iHzgXTaYMkGZkqv0+l7ok30SCY4zqp2KPcoJ6Cg=  2023-01-01   \n",
       "1       9hIN6HTh5z2ktPu8lMQfszz1HfuNJyg4u0z0EAEiRjc=  2023-01-01   \n",
       "2       e/Y1qTGa+NLGuQrL8VYaDUDhrx39gjCmGAdIKZzl8vc=  2023-01-01   \n",
       "3       b0BRSvEIgsScvx6i7vxPqwW1+eOEXmzJ0RqdVfl3vF8=  2023-01-01   \n",
       "4       UQ5/mx/qIMGycWx1q+6iF3QlfgMb3awBrbwQM5y2eBM=  2023-01-01   \n",
       "...                                              ...         ...   \n",
       "220823  l7Qttx3IsLac8THH9hvbBAxl2dCA4Uyb69h9gdSLON8=  2023-01-20   \n",
       "220824  Gobj5DGcYm5la/mhrmv8kL67UAVb4eG5HvjBXWMwm8I=  2023-01-20   \n",
       "220825  bgzIT28plbEG9IOn91Iwgv18nYI1XNz7iymkqvnd518=  2023-01-20   \n",
       "220826  LfyIZ78yy+mT/NeOY4yfd1soOwUYqNHWrbjdtdt1hp0=  2023-01-20   \n",
       "220827  dr6MgRqjMrYOxYotTyeRmsOj0cYAgXitbybfC2SJv6M=  2023-01-20   \n",
       "\n",
       "       paying_account_change_flag paying_account_flag first_paying_date  \\\n",
       "0             NonPaying to Paying              Paying        2021-05-19   \n",
       "1             NonPaying to Paying              Paying        2022-01-09   \n",
       "2             NonPaying to Paying              Paying        2022-11-19   \n",
       "3             NonPaying to Paying              Paying        2022-11-02   \n",
       "4             NonPaying to Paying              Paying        2021-07-02   \n",
       "...                           ...                 ...               ...   \n",
       "220823        NonPaying to Paying              Paying        2021-10-17   \n",
       "220824        NonPaying to Paying              Paying        2021-10-17   \n",
       "220825        NonPaying to Paying              Paying        2021-10-17   \n",
       "220826        NonPaying to Paying              Paying        2021-10-17   \n",
       "220827        NonPaying to Paying              Paying        2021-10-17   \n",
       "\n",
       "       last_paid_date recent_paying_date  \n",
       "0          2023-01-01         2023-01-01  \n",
       "1          2023-01-01         2023-01-01  \n",
       "2          2023-01-01         2023-01-01  \n",
       "3          2023-01-01         2023-01-01  \n",
       "4          2023-01-01         2023-01-01  \n",
       "...               ...                ...  \n",
       "220823     2023-01-20         2023-01-20  \n",
       "220824     2023-01-20         2023-01-20  \n",
       "220825     2023-01-20         2023-01-20  \n",
       "220826     2023-01-20         2023-01-20  \n",
       "220827     2023-01-20         2023-01-20  \n",
       "\n",
       "[220828 rows x 7 columns]"
      ]
     },
     "execution_count": 116,
     "metadata": {},
     "output_type": "execute_result"
    }
   ],
   "source": [
    "df"
   ]
  },
  {
   "attachments": {},
   "cell_type": "markdown",
   "metadata": {},
   "source": [
    "# Check one"
   ]
  },
  {
   "cell_type": "code",
   "execution_count": 117,
   "metadata": {
    "vscode": {
     "languageId": "sql"
    }
   },
   "outputs": [
    {
     "data": {
      "application/vnd.jupyter.widget-view+json": {
       "model_id": "fa6ae555d22f44ad9fabf0bc7ac48a7b",
       "version_major": 2,
       "version_minor": 0
      },
      "text/plain": [
       "Query is running:   0%|          |"
      ]
     },
     "metadata": {},
     "output_type": "display_data"
    },
    {
     "data": {
      "application/vnd.jupyter.widget-view+json": {
       "model_id": "55efe42ec6eb4b6d93987455ae8ee664",
       "version_major": 2,
       "version_minor": 0
      },
      "text/plain": [
       "Downloading:   0%|          |"
      ]
     },
     "metadata": {},
     "output_type": "display_data"
    },
    {
     "data": {
      "text/html": [
       "<div>\n",
       "<style scoped>\n",
       "    .dataframe tbody tr th:only-of-type {\n",
       "        vertical-align: middle;\n",
       "    }\n",
       "\n",
       "    .dataframe tbody tr th {\n",
       "        vertical-align: top;\n",
       "    }\n",
       "\n",
       "    .dataframe thead th {\n",
       "        text-align: right;\n",
       "    }\n",
       "</style>\n",
       "<table border=\"1\" class=\"dataframe\">\n",
       "  <thead>\n",
       "    <tr style=\"text-align: right;\">\n",
       "      <th></th>\n",
       "      <th>adobe_tracking_id</th>\n",
       "      <th>report_date</th>\n",
       "      <th>paying_account_change_flag</th>\n",
       "      <th>paying_account_flag</th>\n",
       "      <th>first_paying_date</th>\n",
       "      <th>last_paid_date</th>\n",
       "      <th>recent_paying_date</th>\n",
       "    </tr>\n",
       "  </thead>\n",
       "  <tbody>\n",
       "    <tr>\n",
       "      <th>0</th>\n",
       "      <td>StAZQENK8XKyuulS09KZwN1+gheaNVMFiMVHG5TTyc4=</td>\n",
       "      <td>2023-01-01</td>\n",
       "      <td>No Change</td>\n",
       "      <td>NonPaying</td>\n",
       "      <td>2021-11-15</td>\n",
       "      <td>2021-11-15</td>\n",
       "      <td>2022-11-14</td>\n",
       "    </tr>\n",
       "    <tr>\n",
       "      <th>1</th>\n",
       "      <td>StAZQENK8XKyuulS09KZwN1+gheaNVMFiMVHG5TTyc4=</td>\n",
       "      <td>2023-01-02</td>\n",
       "      <td>No Change</td>\n",
       "      <td>NonPaying</td>\n",
       "      <td>2021-11-15</td>\n",
       "      <td>2021-11-15</td>\n",
       "      <td>2022-11-14</td>\n",
       "    </tr>\n",
       "    <tr>\n",
       "      <th>2</th>\n",
       "      <td>StAZQENK8XKyuulS09KZwN1+gheaNVMFiMVHG5TTyc4=</td>\n",
       "      <td>2023-01-03</td>\n",
       "      <td>No Change</td>\n",
       "      <td>NonPaying</td>\n",
       "      <td>2021-11-15</td>\n",
       "      <td>2021-11-15</td>\n",
       "      <td>2022-11-14</td>\n",
       "    </tr>\n",
       "    <tr>\n",
       "      <th>3</th>\n",
       "      <td>StAZQENK8XKyuulS09KZwN1+gheaNVMFiMVHG5TTyc4=</td>\n",
       "      <td>2023-01-04</td>\n",
       "      <td>No Change</td>\n",
       "      <td>NonPaying</td>\n",
       "      <td>2021-11-15</td>\n",
       "      <td>2021-11-15</td>\n",
       "      <td>2022-11-14</td>\n",
       "    </tr>\n",
       "    <tr>\n",
       "      <th>4</th>\n",
       "      <td>StAZQENK8XKyuulS09KZwN1+gheaNVMFiMVHG5TTyc4=</td>\n",
       "      <td>2023-01-05</td>\n",
       "      <td>No Change</td>\n",
       "      <td>NonPaying</td>\n",
       "      <td>2021-11-15</td>\n",
       "      <td>2021-11-15</td>\n",
       "      <td>2022-11-14</td>\n",
       "    </tr>\n",
       "    <tr>\n",
       "      <th>5</th>\n",
       "      <td>StAZQENK8XKyuulS09KZwN1+gheaNVMFiMVHG5TTyc4=</td>\n",
       "      <td>2023-01-06</td>\n",
       "      <td>No Change</td>\n",
       "      <td>NonPaying</td>\n",
       "      <td>2021-11-15</td>\n",
       "      <td>2021-11-15</td>\n",
       "      <td>2022-11-14</td>\n",
       "    </tr>\n",
       "    <tr>\n",
       "      <th>6</th>\n",
       "      <td>StAZQENK8XKyuulS09KZwN1+gheaNVMFiMVHG5TTyc4=</td>\n",
       "      <td>2023-01-07</td>\n",
       "      <td>NonPaying to Paying</td>\n",
       "      <td>Paying</td>\n",
       "      <td>2021-11-15</td>\n",
       "      <td>2023-01-07</td>\n",
       "      <td>2023-01-07</td>\n",
       "    </tr>\n",
       "    <tr>\n",
       "      <th>7</th>\n",
       "      <td>StAZQENK8XKyuulS09KZwN1+gheaNVMFiMVHG5TTyc4=</td>\n",
       "      <td>2023-01-08</td>\n",
       "      <td>No Change</td>\n",
       "      <td>Paying</td>\n",
       "      <td>2021-11-15</td>\n",
       "      <td>2023-01-07</td>\n",
       "      <td>2023-01-08</td>\n",
       "    </tr>\n",
       "    <tr>\n",
       "      <th>8</th>\n",
       "      <td>StAZQENK8XKyuulS09KZwN1+gheaNVMFiMVHG5TTyc4=</td>\n",
       "      <td>2023-01-09</td>\n",
       "      <td>No Change</td>\n",
       "      <td>Paying</td>\n",
       "      <td>2021-11-15</td>\n",
       "      <td>2023-01-07</td>\n",
       "      <td>2023-01-09</td>\n",
       "    </tr>\n",
       "    <tr>\n",
       "      <th>9</th>\n",
       "      <td>StAZQENK8XKyuulS09KZwN1+gheaNVMFiMVHG5TTyc4=</td>\n",
       "      <td>2023-01-10</td>\n",
       "      <td>No Change</td>\n",
       "      <td>Paying</td>\n",
       "      <td>2021-11-15</td>\n",
       "      <td>2023-01-07</td>\n",
       "      <td>2023-01-10</td>\n",
       "    </tr>\n",
       "    <tr>\n",
       "      <th>10</th>\n",
       "      <td>StAZQENK8XKyuulS09KZwN1+gheaNVMFiMVHG5TTyc4=</td>\n",
       "      <td>2023-01-11</td>\n",
       "      <td>No Change</td>\n",
       "      <td>Paying</td>\n",
       "      <td>2021-11-15</td>\n",
       "      <td>2023-01-07</td>\n",
       "      <td>2023-01-11</td>\n",
       "    </tr>\n",
       "    <tr>\n",
       "      <th>11</th>\n",
       "      <td>StAZQENK8XKyuulS09KZwN1+gheaNVMFiMVHG5TTyc4=</td>\n",
       "      <td>2023-01-12</td>\n",
       "      <td>No Change</td>\n",
       "      <td>Paying</td>\n",
       "      <td>2021-11-15</td>\n",
       "      <td>2023-01-07</td>\n",
       "      <td>2023-01-12</td>\n",
       "    </tr>\n",
       "    <tr>\n",
       "      <th>12</th>\n",
       "      <td>StAZQENK8XKyuulS09KZwN1+gheaNVMFiMVHG5TTyc4=</td>\n",
       "      <td>2023-01-13</td>\n",
       "      <td>No Change</td>\n",
       "      <td>Paying</td>\n",
       "      <td>2021-11-15</td>\n",
       "      <td>2023-01-07</td>\n",
       "      <td>2023-01-13</td>\n",
       "    </tr>\n",
       "    <tr>\n",
       "      <th>13</th>\n",
       "      <td>StAZQENK8XKyuulS09KZwN1+gheaNVMFiMVHG5TTyc4=</td>\n",
       "      <td>2023-01-14</td>\n",
       "      <td>No Change</td>\n",
       "      <td>Paying</td>\n",
       "      <td>2021-11-15</td>\n",
       "      <td>2023-01-07</td>\n",
       "      <td>2023-01-14</td>\n",
       "    </tr>\n",
       "  </tbody>\n",
       "</table>\n",
       "</div>"
      ],
      "text/plain": [
       "                               adobe_tracking_id report_date  \\\n",
       "0   StAZQENK8XKyuulS09KZwN1+gheaNVMFiMVHG5TTyc4=  2023-01-01   \n",
       "1   StAZQENK8XKyuulS09KZwN1+gheaNVMFiMVHG5TTyc4=  2023-01-02   \n",
       "2   StAZQENK8XKyuulS09KZwN1+gheaNVMFiMVHG5TTyc4=  2023-01-03   \n",
       "3   StAZQENK8XKyuulS09KZwN1+gheaNVMFiMVHG5TTyc4=  2023-01-04   \n",
       "4   StAZQENK8XKyuulS09KZwN1+gheaNVMFiMVHG5TTyc4=  2023-01-05   \n",
       "5   StAZQENK8XKyuulS09KZwN1+gheaNVMFiMVHG5TTyc4=  2023-01-06   \n",
       "6   StAZQENK8XKyuulS09KZwN1+gheaNVMFiMVHG5TTyc4=  2023-01-07   \n",
       "7   StAZQENK8XKyuulS09KZwN1+gheaNVMFiMVHG5TTyc4=  2023-01-08   \n",
       "8   StAZQENK8XKyuulS09KZwN1+gheaNVMFiMVHG5TTyc4=  2023-01-09   \n",
       "9   StAZQENK8XKyuulS09KZwN1+gheaNVMFiMVHG5TTyc4=  2023-01-10   \n",
       "10  StAZQENK8XKyuulS09KZwN1+gheaNVMFiMVHG5TTyc4=  2023-01-11   \n",
       "11  StAZQENK8XKyuulS09KZwN1+gheaNVMFiMVHG5TTyc4=  2023-01-12   \n",
       "12  StAZQENK8XKyuulS09KZwN1+gheaNVMFiMVHG5TTyc4=  2023-01-13   \n",
       "13  StAZQENK8XKyuulS09KZwN1+gheaNVMFiMVHG5TTyc4=  2023-01-14   \n",
       "\n",
       "   paying_account_change_flag paying_account_flag first_paying_date  \\\n",
       "0                   No Change           NonPaying        2021-11-15   \n",
       "1                   No Change           NonPaying        2021-11-15   \n",
       "2                   No Change           NonPaying        2021-11-15   \n",
       "3                   No Change           NonPaying        2021-11-15   \n",
       "4                   No Change           NonPaying        2021-11-15   \n",
       "5                   No Change           NonPaying        2021-11-15   \n",
       "6         NonPaying to Paying              Paying        2021-11-15   \n",
       "7                   No Change              Paying        2021-11-15   \n",
       "8                   No Change              Paying        2021-11-15   \n",
       "9                   No Change              Paying        2021-11-15   \n",
       "10                  No Change              Paying        2021-11-15   \n",
       "11                  No Change              Paying        2021-11-15   \n",
       "12                  No Change              Paying        2021-11-15   \n",
       "13                  No Change              Paying        2021-11-15   \n",
       "\n",
       "   last_paid_date recent_paying_date  \n",
       "0      2021-11-15         2022-11-14  \n",
       "1      2021-11-15         2022-11-14  \n",
       "2      2021-11-15         2022-11-14  \n",
       "3      2021-11-15         2022-11-14  \n",
       "4      2021-11-15         2022-11-14  \n",
       "5      2021-11-15         2022-11-14  \n",
       "6      2023-01-07         2023-01-07  \n",
       "7      2023-01-07         2023-01-08  \n",
       "8      2023-01-07         2023-01-09  \n",
       "9      2023-01-07         2023-01-10  \n",
       "10     2023-01-07         2023-01-11  \n",
       "11     2023-01-07         2023-01-12  \n",
       "12     2023-01-07         2023-01-13  \n",
       "13     2023-01-07         2023-01-14  "
      ]
     },
     "execution_count": 117,
     "metadata": {},
     "output_type": "execute_result"
    }
   ],
   "source": [
    "%%bigquery --params {'report_start_date': '2023-01-01', 'report_end_date': '2023-01-31'}\t\n",
    "    SELECT  adobe_tracking_id, report_date, paying_account_change_flag, paying_account_flag, first_paying_date, last_paid_date, recent_paying_date\n",
    "\tFROM `nbcu-ds-prod-001.PeacockDataMartSilver.SILVER_USER`\n",
    "\tWHERE adobe_tracking_id = 'StAZQENK8XKyuulS09KZwN1+gheaNVMFiMVHG5TTyc4='\n",
    "\tand report_date between '2023-01-01' and '2023-01-14'\n",
    "\torder by 1,2"
   ]
  },
  {
   "cell_type": "code",
   "execution_count": 119,
   "metadata": {
    "vscode": {
     "languageId": "sql"
    }
   },
   "outputs": [
    {
     "data": {
      "application/vnd.jupyter.widget-view+json": {
       "model_id": "3e32d8fef4d54a3899b4ee227954ddf6",
       "version_major": 2,
       "version_minor": 0
      },
      "text/plain": [
       "Query is running:   0%|          |"
      ]
     },
     "metadata": {},
     "output_type": "display_data"
    },
    {
     "data": {
      "application/vnd.jupyter.widget-view+json": {
       "model_id": "511fcec2c76a460590616fb9b4cf9172",
       "version_major": 2,
       "version_minor": 0
      },
      "text/plain": [
       "Downloading:   0%|          |"
      ]
     },
     "metadata": {},
     "output_type": "display_data"
    },
    {
     "data": {
      "text/html": [
       "<div>\n",
       "<style scoped>\n",
       "    .dataframe tbody tr th:only-of-type {\n",
       "        vertical-align: middle;\n",
       "    }\n",
       "\n",
       "    .dataframe tbody tr th {\n",
       "        vertical-align: top;\n",
       "    }\n",
       "\n",
       "    .dataframe thead th {\n",
       "        text-align: right;\n",
       "    }\n",
       "</style>\n",
       "<table border=\"1\" class=\"dataframe\">\n",
       "  <thead>\n",
       "    <tr style=\"text-align: right;\">\n",
       "      <th></th>\n",
       "      <th>adobe_tracking_id</th>\n",
       "      <th>report_date</th>\n",
       "      <th>paying_account_change_flag</th>\n",
       "      <th>paying_account_flag</th>\n",
       "      <th>first_paying_date</th>\n",
       "      <th>last_paid_date</th>\n",
       "      <th>recent_paying_date</th>\n",
       "    </tr>\n",
       "  </thead>\n",
       "  <tbody>\n",
       "    <tr>\n",
       "      <th>0</th>\n",
       "      <td>StAZQENK8XKyuulS09KZwN1+gheaNVMFiMVHG5TTyc4=</td>\n",
       "      <td>2021-11-15</td>\n",
       "      <td>No Change</td>\n",
       "      <td>Paying</td>\n",
       "      <td>2021-11-15</td>\n",
       "      <td>2021-11-15</td>\n",
       "      <td>2021-11-15</td>\n",
       "    </tr>\n",
       "    <tr>\n",
       "      <th>1</th>\n",
       "      <td>StAZQENK8XKyuulS09KZwN1+gheaNVMFiMVHG5TTyc4=</td>\n",
       "      <td>2021-11-16</td>\n",
       "      <td>No Change</td>\n",
       "      <td>Paying</td>\n",
       "      <td>2021-11-15</td>\n",
       "      <td>2021-11-15</td>\n",
       "      <td>2021-11-16</td>\n",
       "    </tr>\n",
       "    <tr>\n",
       "      <th>2</th>\n",
       "      <td>StAZQENK8XKyuulS09KZwN1+gheaNVMFiMVHG5TTyc4=</td>\n",
       "      <td>2021-11-17</td>\n",
       "      <td>No Change</td>\n",
       "      <td>Paying</td>\n",
       "      <td>2021-11-15</td>\n",
       "      <td>2021-11-15</td>\n",
       "      <td>2021-11-17</td>\n",
       "    </tr>\n",
       "  </tbody>\n",
       "</table>\n",
       "</div>"
      ],
      "text/plain": [
       "                              adobe_tracking_id report_date  \\\n",
       "0  StAZQENK8XKyuulS09KZwN1+gheaNVMFiMVHG5TTyc4=  2021-11-15   \n",
       "1  StAZQENK8XKyuulS09KZwN1+gheaNVMFiMVHG5TTyc4=  2021-11-16   \n",
       "2  StAZQENK8XKyuulS09KZwN1+gheaNVMFiMVHG5TTyc4=  2021-11-17   \n",
       "\n",
       "  paying_account_change_flag paying_account_flag first_paying_date  \\\n",
       "0                  No Change              Paying        2021-11-15   \n",
       "1                  No Change              Paying        2021-11-15   \n",
       "2                  No Change              Paying        2021-11-15   \n",
       "\n",
       "  last_paid_date recent_paying_date  \n",
       "0     2021-11-15         2021-11-15  \n",
       "1     2021-11-15         2021-11-16  \n",
       "2     2021-11-15         2021-11-17  "
      ]
     },
     "execution_count": 119,
     "metadata": {},
     "output_type": "execute_result"
    }
   ],
   "source": [
    "%%bigquery --params {'report_start_date': '2023-01-01', 'report_end_date': '2023-01-31'}\t\n",
    "    SELECT  adobe_tracking_id, report_date, paying_account_change_flag, paying_account_flag, first_paying_date, last_paid_date, recent_paying_date\n",
    "\tFROM `nbcu-ds-prod-001.PeacockDataMartSilver.SILVER_USER`\n",
    "\tWHERE adobe_tracking_id = 'StAZQENK8XKyuulS09KZwN1+gheaNVMFiMVHG5TTyc4='\n",
    "\tand report_date between '2021-11-13' and '2021-11-17'\n",
    "\torder by 1,2"
   ]
  },
  {
   "cell_type": "code",
   "execution_count": 118,
   "metadata": {
    "vscode": {
     "languageId": "sql"
    }
   },
   "outputs": [
    {
     "data": {
      "application/vnd.jupyter.widget-view+json": {
       "model_id": "55c29924e824404fba9e1cdef3fd1988",
       "version_major": 2,
       "version_minor": 0
      },
      "text/plain": [
       "Query is running:   0%|          |"
      ]
     },
     "metadata": {},
     "output_type": "display_data"
    },
    {
     "data": {
      "application/vnd.jupyter.widget-view+json": {
       "model_id": "f06a9c60ae914d1186d892fafa6a3679",
       "version_major": 2,
       "version_minor": 0
      },
      "text/plain": [
       "Downloading:   0%|          |"
      ]
     },
     "metadata": {},
     "output_type": "display_data"
    },
    {
     "data": {
      "text/html": [
       "<div>\n",
       "<style scoped>\n",
       "    .dataframe tbody tr th:only-of-type {\n",
       "        vertical-align: middle;\n",
       "    }\n",
       "\n",
       "    .dataframe tbody tr th {\n",
       "        vertical-align: top;\n",
       "    }\n",
       "\n",
       "    .dataframe thead th {\n",
       "        text-align: right;\n",
       "    }\n",
       "</style>\n",
       "<table border=\"1\" class=\"dataframe\">\n",
       "  <thead>\n",
       "    <tr style=\"text-align: right;\">\n",
       "      <th></th>\n",
       "      <th>adobe_tracking_id</th>\n",
       "      <th>report_date</th>\n",
       "      <th>upgrade_row_number</th>\n",
       "    </tr>\n",
       "  </thead>\n",
       "  <tbody>\n",
       "    <tr>\n",
       "      <th>0</th>\n",
       "      <td>StAZQENK8XKyuulS09KZwN1+gheaNVMFiMVHG5TTyc4=</td>\n",
       "      <td>2023-01-07</td>\n",
       "      <td>1</td>\n",
       "    </tr>\n",
       "  </tbody>\n",
       "</table>\n",
       "</div>"
      ],
      "text/plain": [
       "                              adobe_tracking_id report_date  \\\n",
       "0  StAZQENK8XKyuulS09KZwN1+gheaNVMFiMVHG5TTyc4=  2023-01-07   \n",
       "\n",
       "   upgrade_row_number  \n",
       "0                   1  "
      ]
     },
     "execution_count": 118,
     "metadata": {},
     "output_type": "execute_result"
    }
   ],
   "source": [
    "%%bigquery --params {'report_start_date': '2023-01-01', 'report_end_date': '2023-01-31'}\t\n",
    "    SELECT  adobe_tracking_id, report_date, upgrade_row_number\n",
    "\tFROM `nbcu-ds-sandbox-a-001.SLi_sandbox.upgrade_date_rank`\n",
    "\tWHERE adobe_tracking_id = 'StAZQENK8XKyuulS09KZwN1+gheaNVMFiMVHG5TTyc4='\n",
    "\torder by 1,2"
   ]
  },
  {
   "attachments": {},
   "cell_type": "markdown",
   "metadata": {},
   "source": [
    "## Check another"
   ]
  },
  {
   "cell_type": "code",
   "execution_count": 173,
   "metadata": {
    "vscode": {
     "languageId": "sql"
    }
   },
   "outputs": [
    {
     "data": {
      "application/vnd.jupyter.widget-view+json": {
       "model_id": "ec6d8ca92261466bb7a97990446360fc",
       "version_major": 2,
       "version_minor": 0
      },
      "text/plain": [
       "Query is running:   0%|          |"
      ]
     },
     "metadata": {},
     "output_type": "display_data"
    },
    {
     "data": {
      "application/vnd.jupyter.widget-view+json": {
       "model_id": "7df13b4ce2c24dc19d8e97a4a4f42779",
       "version_major": 2,
       "version_minor": 0
      },
      "text/plain": [
       "Downloading:   0%|          |"
      ]
     },
     "metadata": {},
     "output_type": "display_data"
    },
    {
     "data": {
      "text/html": [
       "<div>\n",
       "<style scoped>\n",
       "    .dataframe tbody tr th:only-of-type {\n",
       "        vertical-align: middle;\n",
       "    }\n",
       "\n",
       "    .dataframe tbody tr th {\n",
       "        vertical-align: top;\n",
       "    }\n",
       "\n",
       "    .dataframe thead th {\n",
       "        text-align: right;\n",
       "    }\n",
       "</style>\n",
       "<table border=\"1\" class=\"dataframe\">\n",
       "  <thead>\n",
       "    <tr style=\"text-align: right;\">\n",
       "      <th></th>\n",
       "      <th>adobe_tracking_id</th>\n",
       "      <th>report_date</th>\n",
       "      <th>paying_account_change_flag</th>\n",
       "      <th>paying_account_flag</th>\n",
       "      <th>first_paying_date</th>\n",
       "      <th>last_paid_date</th>\n",
       "      <th>recent_paying_date</th>\n",
       "    </tr>\n",
       "  </thead>\n",
       "  <tbody>\n",
       "    <tr>\n",
       "      <th>0</th>\n",
       "      <td>b0BRSvEIgsScvx6i7vxPqwW1+eOEXmzJ0RqdVfl3vF8=</td>\n",
       "      <td>2022-12-29</td>\n",
       "      <td>Paying to NonPaying</td>\n",
       "      <td>NonPaying</td>\n",
       "      <td>2022-11-02</td>\n",
       "      <td>2022-11-02</td>\n",
       "      <td>2022-12-28</td>\n",
       "    </tr>\n",
       "    <tr>\n",
       "      <th>1</th>\n",
       "      <td>b0BRSvEIgsScvx6i7vxPqwW1+eOEXmzJ0RqdVfl3vF8=</td>\n",
       "      <td>2023-01-01</td>\n",
       "      <td>NonPaying to Paying</td>\n",
       "      <td>Paying</td>\n",
       "      <td>2022-11-02</td>\n",
       "      <td>2023-01-01</td>\n",
       "      <td>2023-01-01</td>\n",
       "    </tr>\n",
       "  </tbody>\n",
       "</table>\n",
       "</div>"
      ],
      "text/plain": [
       "                              adobe_tracking_id report_date  \\\n",
       "0  b0BRSvEIgsScvx6i7vxPqwW1+eOEXmzJ0RqdVfl3vF8=  2022-12-29   \n",
       "1  b0BRSvEIgsScvx6i7vxPqwW1+eOEXmzJ0RqdVfl3vF8=  2023-01-01   \n",
       "\n",
       "  paying_account_change_flag paying_account_flag first_paying_date  \\\n",
       "0        Paying to NonPaying           NonPaying        2022-11-02   \n",
       "1        NonPaying to Paying              Paying        2022-11-02   \n",
       "\n",
       "  last_paid_date recent_paying_date  \n",
       "0     2022-11-02         2022-12-28  \n",
       "1     2023-01-01         2023-01-01  "
      ]
     },
     "execution_count": 173,
     "metadata": {},
     "output_type": "execute_result"
    }
   ],
   "source": [
    "%%bigquery --params {'report_start_date': '2023-01-01', 'report_end_date': '2023-01-31'}\t\n",
    "SELECT  adobe_tracking_id, report_date, paying_account_change_flag, paying_account_flag, first_paying_date, last_paid_date, recent_paying_date\n",
    "FROM `nbcu-ds-prod-001.PeacockDataMartSilver.SILVER_USER`\n",
    "WHERE adobe_tracking_id = 'b0BRSvEIgsScvx6i7vxPqwW1+eOEXmzJ0RqdVfl3vF8='\n",
    "and paying_account_change_flag != 'No Change'\n",
    "and report_date between '2022-11-01' and '2023-01-31'\n",
    "order by 1,2"
   ]
  },
  {
   "cell_type": "code",
   "execution_count": 181,
   "metadata": {
    "vscode": {
     "languageId": "sql"
    }
   },
   "outputs": [
    {
     "data": {
      "application/vnd.jupyter.widget-view+json": {
       "model_id": "4889da5fc2ba45548c90e3c084855f40",
       "version_major": 2,
       "version_minor": 0
      },
      "text/plain": [
       "Query is running:   0%|          |"
      ]
     },
     "metadata": {},
     "output_type": "display_data"
    },
    {
     "data": {
      "application/vnd.jupyter.widget-view+json": {
       "model_id": "708f0830e0cf40c387f6c481162f07d5",
       "version_major": 2,
       "version_minor": 0
      },
      "text/plain": [
       "Downloading:   0%|          |"
      ]
     },
     "metadata": {},
     "output_type": "display_data"
    },
    {
     "data": {
      "text/html": [
       "<div>\n",
       "<style scoped>\n",
       "    .dataframe tbody tr th:only-of-type {\n",
       "        vertical-align: middle;\n",
       "    }\n",
       "\n",
       "    .dataframe tbody tr th {\n",
       "        vertical-align: top;\n",
       "    }\n",
       "\n",
       "    .dataframe thead th {\n",
       "        text-align: right;\n",
       "    }\n",
       "</style>\n",
       "<table border=\"1\" class=\"dataframe\">\n",
       "  <thead>\n",
       "    <tr style=\"text-align: right;\">\n",
       "      <th></th>\n",
       "      <th>adobe_tracking_id</th>\n",
       "      <th>report_date</th>\n",
       "      <th>paying_account_change_flag</th>\n",
       "      <th>paying_account_flag</th>\n",
       "      <th>first_paying_date</th>\n",
       "      <th>last_paid_date</th>\n",
       "      <th>recent_paying_date</th>\n",
       "    </tr>\n",
       "  </thead>\n",
       "  <tbody>\n",
       "    <tr>\n",
       "      <th>0</th>\n",
       "      <td>b0BRSvEIgsScvx6i7vxPqwW1+eOEXmzJ0RqdVfl3vF8=</td>\n",
       "      <td>2022-11-02</td>\n",
       "      <td>No Change</td>\n",
       "      <td>Paying</td>\n",
       "      <td>2022-11-02</td>\n",
       "      <td>2022-11-02</td>\n",
       "      <td>2022-11-02</td>\n",
       "    </tr>\n",
       "    <tr>\n",
       "      <th>1</th>\n",
       "      <td>b0BRSvEIgsScvx6i7vxPqwW1+eOEXmzJ0RqdVfl3vF8=</td>\n",
       "      <td>2022-11-03</td>\n",
       "      <td>No Change</td>\n",
       "      <td>Paying</td>\n",
       "      <td>2022-11-02</td>\n",
       "      <td>2022-11-02</td>\n",
       "      <td>2022-11-03</td>\n",
       "    </tr>\n",
       "    <tr>\n",
       "      <th>2</th>\n",
       "      <td>b0BRSvEIgsScvx6i7vxPqwW1+eOEXmzJ0RqdVfl3vF8=</td>\n",
       "      <td>2022-11-04</td>\n",
       "      <td>No Change</td>\n",
       "      <td>Paying</td>\n",
       "      <td>2022-11-02</td>\n",
       "      <td>2022-11-02</td>\n",
       "      <td>2022-11-04</td>\n",
       "    </tr>\n",
       "    <tr>\n",
       "      <th>3</th>\n",
       "      <td>b0BRSvEIgsScvx6i7vxPqwW1+eOEXmzJ0RqdVfl3vF8=</td>\n",
       "      <td>2022-11-05</td>\n",
       "      <td>No Change</td>\n",
       "      <td>Paying</td>\n",
       "      <td>2022-11-02</td>\n",
       "      <td>2022-11-02</td>\n",
       "      <td>2022-11-05</td>\n",
       "    </tr>\n",
       "    <tr>\n",
       "      <th>4</th>\n",
       "      <td>b0BRSvEIgsScvx6i7vxPqwW1+eOEXmzJ0RqdVfl3vF8=</td>\n",
       "      <td>2022-11-06</td>\n",
       "      <td>No Change</td>\n",
       "      <td>Paying</td>\n",
       "      <td>2022-11-02</td>\n",
       "      <td>2022-11-02</td>\n",
       "      <td>2022-11-06</td>\n",
       "    </tr>\n",
       "    <tr>\n",
       "      <th>5</th>\n",
       "      <td>b0BRSvEIgsScvx6i7vxPqwW1+eOEXmzJ0RqdVfl3vF8=</td>\n",
       "      <td>2022-11-07</td>\n",
       "      <td>No Change</td>\n",
       "      <td>Paying</td>\n",
       "      <td>2022-11-02</td>\n",
       "      <td>2022-11-02</td>\n",
       "      <td>2022-11-07</td>\n",
       "    </tr>\n",
       "  </tbody>\n",
       "</table>\n",
       "</div>"
      ],
      "text/plain": [
       "                              adobe_tracking_id report_date  \\\n",
       "0  b0BRSvEIgsScvx6i7vxPqwW1+eOEXmzJ0RqdVfl3vF8=  2022-11-02   \n",
       "1  b0BRSvEIgsScvx6i7vxPqwW1+eOEXmzJ0RqdVfl3vF8=  2022-11-03   \n",
       "2  b0BRSvEIgsScvx6i7vxPqwW1+eOEXmzJ0RqdVfl3vF8=  2022-11-04   \n",
       "3  b0BRSvEIgsScvx6i7vxPqwW1+eOEXmzJ0RqdVfl3vF8=  2022-11-05   \n",
       "4  b0BRSvEIgsScvx6i7vxPqwW1+eOEXmzJ0RqdVfl3vF8=  2022-11-06   \n",
       "5  b0BRSvEIgsScvx6i7vxPqwW1+eOEXmzJ0RqdVfl3vF8=  2022-11-07   \n",
       "\n",
       "  paying_account_change_flag paying_account_flag first_paying_date  \\\n",
       "0                  No Change              Paying        2022-11-02   \n",
       "1                  No Change              Paying        2022-11-02   \n",
       "2                  No Change              Paying        2022-11-02   \n",
       "3                  No Change              Paying        2022-11-02   \n",
       "4                  No Change              Paying        2022-11-02   \n",
       "5                  No Change              Paying        2022-11-02   \n",
       "\n",
       "  last_paid_date recent_paying_date  \n",
       "0     2022-11-02         2022-11-02  \n",
       "1     2022-11-02         2022-11-03  \n",
       "2     2022-11-02         2022-11-04  \n",
       "3     2022-11-02         2022-11-05  \n",
       "4     2022-11-02         2022-11-06  \n",
       "5     2022-11-02         2022-11-07  "
      ]
     },
     "execution_count": 181,
     "metadata": {},
     "output_type": "execute_result"
    }
   ],
   "source": [
    "%%bigquery --params {'report_start_date': '2023-01-01', 'report_end_date': '2023-01-31'}\t\n",
    "SELECT  adobe_tracking_id, report_date, paying_account_change_flag, paying_account_flag, first_paying_date, last_paid_date, recent_paying_date\n",
    "FROM `nbcu-ds-prod-001.PeacockDataMartSilver.SILVER_USER`\n",
    "WHERE adobe_tracking_id = 'b0BRSvEIgsScvx6i7vxPqwW1+eOEXmzJ0RqdVfl3vF8='\n",
    "and report_date between '2022-11-01' and '2022-11-07'\n",
    "order by 1,2"
   ]
  },
  {
   "cell_type": "code",
   "execution_count": 171,
   "metadata": {
    "vscode": {
     "languageId": "sql"
    }
   },
   "outputs": [
    {
     "data": {
      "application/vnd.jupyter.widget-view+json": {
       "model_id": "1097ea80be7148d7b622c1f1a98ffdc7",
       "version_major": 2,
       "version_minor": 0
      },
      "text/plain": [
       "Query is running:   0%|          |"
      ]
     },
     "metadata": {},
     "output_type": "display_data"
    },
    {
     "data": {
      "application/vnd.jupyter.widget-view+json": {
       "model_id": "9c9c0785177a444f8f183843bfc4233c",
       "version_major": 2,
       "version_minor": 0
      },
      "text/plain": [
       "Downloading:   0%|          |"
      ]
     },
     "metadata": {},
     "output_type": "display_data"
    },
    {
     "data": {
      "text/html": [
       "<div>\n",
       "<style scoped>\n",
       "    .dataframe tbody tr th:only-of-type {\n",
       "        vertical-align: middle;\n",
       "    }\n",
       "\n",
       "    .dataframe tbody tr th {\n",
       "        vertical-align: top;\n",
       "    }\n",
       "\n",
       "    .dataframe thead th {\n",
       "        text-align: right;\n",
       "    }\n",
       "</style>\n",
       "<table border=\"1\" class=\"dataframe\">\n",
       "  <thead>\n",
       "    <tr style=\"text-align: right;\">\n",
       "      <th></th>\n",
       "      <th>adobe_tracking_id</th>\n",
       "      <th>report_date</th>\n",
       "      <th>upgrade_row_number</th>\n",
       "    </tr>\n",
       "  </thead>\n",
       "  <tbody>\n",
       "    <tr>\n",
       "      <th>0</th>\n",
       "      <td>b0BRSvEIgsScvx6i7vxPqwW1+eOEXmzJ0RqdVfl3vF8=</td>\n",
       "      <td>2023-01-01</td>\n",
       "      <td>1</td>\n",
       "    </tr>\n",
       "  </tbody>\n",
       "</table>\n",
       "</div>"
      ],
      "text/plain": [
       "                              adobe_tracking_id report_date  \\\n",
       "0  b0BRSvEIgsScvx6i7vxPqwW1+eOEXmzJ0RqdVfl3vF8=  2023-01-01   \n",
       "\n",
       "   upgrade_row_number  \n",
       "0                   1  "
      ]
     },
     "execution_count": 171,
     "metadata": {},
     "output_type": "execute_result"
    }
   ],
   "source": [
    "%%bigquery --params {'report_start_date': '2023-01-01', 'report_end_date': '2023-01-31'}\t\n",
    "SELECT  adobe_tracking_id, report_date, upgrade_row_number\n",
    "FROM `nbcu-ds-sandbox-a-001.SLi_sandbox.upgrade_date_rank`\n",
    "WHERE adobe_tracking_id = 'b0BRSvEIgsScvx6i7vxPqwW1+eOEXmzJ0RqdVfl3vF8='\n",
    "order by 1,2"
   ]
  },
  {
   "attachments": {},
   "cell_type": "markdown",
   "metadata": {},
   "source": [
    "# Net New Upgrade Definition Comparison"
   ]
  },
  {
   "cell_type": "code",
   "execution_count": 46,
   "metadata": {
    "vscode": {
     "languageId": "sql"
    }
   },
   "outputs": [
    {
     "data": {
      "application/vnd.jupyter.widget-view+json": {
       "model_id": "f613bdb8225f4f0ba0252605501b6287",
       "version_major": 2,
       "version_minor": 0
      },
      "text/plain": [
       "Query is running:   0%|          |"
      ]
     },
     "metadata": {},
     "output_type": "display_data"
    },
    {
     "data": {
      "application/vnd.jupyter.widget-view+json": {
       "model_id": "c56d72e2270840bfb6192bdddba8d1d5",
       "version_major": 2,
       "version_minor": 0
      },
      "text/plain": [
       "Downloading:   0%|          |"
      ]
     },
     "metadata": {},
     "output_type": "display_data"
    },
    {
     "data": {
      "text/html": [
       "<div>\n",
       "<style scoped>\n",
       "    .dataframe tbody tr th:only-of-type {\n",
       "        vertical-align: middle;\n",
       "    }\n",
       "\n",
       "    .dataframe tbody tr th {\n",
       "        vertical-align: top;\n",
       "    }\n",
       "\n",
       "    .dataframe thead th {\n",
       "        text-align: right;\n",
       "    }\n",
       "</style>\n",
       "<table border=\"1\" class=\"dataframe\">\n",
       "  <thead>\n",
       "    <tr style=\"text-align: right;\">\n",
       "      <th></th>\n",
       "      <th>f0_</th>\n",
       "    </tr>\n",
       "  </thead>\n",
       "  <tbody>\n",
       "    <tr>\n",
       "      <th>0</th>\n",
       "      <td>78392147</td>\n",
       "    </tr>\n",
       "  </tbody>\n",
       "</table>\n",
       "</div>"
      ],
      "text/plain": [
       "        f0_\n",
       "0  78392147"
      ]
     },
     "execution_count": 46,
     "metadata": {},
     "output_type": "execute_result"
    }
   ],
   "source": [
    "%%bigquery --params {'report_start_date': '2023-01-01', 'report_end_date': '2023-01-31'}\n",
    "\n",
    "WITH\n",
    "Net_New_Upgrade_Denom AS (\n",
    "\tSELECT  DISTINCT adobe_tracking_id\n",
    "\tFROM `nbcu-ds-prod-001.PeacockDataMartSilver.SILVER_USER` \n",
    "\tWHERE (first_paying_date IS NULL)\n",
    "\tAND (report_date BETWEEN @report_start_date AND @report_end_date) \n",
    ")\n",
    "SELECT COUNT(adobe_tracking_id)\n",
    "FROM Net_New_Upgrade_Denom"
   ]
  },
  {
   "cell_type": "code",
   "execution_count": 47,
   "metadata": {
    "vscode": {
     "languageId": "sql"
    }
   },
   "outputs": [
    {
     "data": {
      "application/vnd.jupyter.widget-view+json": {
       "model_id": "34c44bdd14364f3f86e58442cdf7cda2",
       "version_major": 2,
       "version_minor": 0
      },
      "text/plain": [
       "Query is running:   0%|          |"
      ]
     },
     "metadata": {},
     "output_type": "display_data"
    },
    {
     "data": {
      "application/vnd.jupyter.widget-view+json": {
       "model_id": "81a8bd76dafe40768f815d7a6026e870",
       "version_major": 2,
       "version_minor": 0
      },
      "text/plain": [
       "Downloading:   0%|          |"
      ]
     },
     "metadata": {},
     "output_type": "display_data"
    },
    {
     "data": {
      "text/html": [
       "<div>\n",
       "<style scoped>\n",
       "    .dataframe tbody tr th:only-of-type {\n",
       "        vertical-align: middle;\n",
       "    }\n",
       "\n",
       "    .dataframe tbody tr th {\n",
       "        vertical-align: top;\n",
       "    }\n",
       "\n",
       "    .dataframe thead th {\n",
       "        text-align: right;\n",
       "    }\n",
       "</style>\n",
       "<table border=\"1\" class=\"dataframe\">\n",
       "  <thead>\n",
       "    <tr style=\"text-align: right;\">\n",
       "      <th></th>\n",
       "      <th>f0_</th>\n",
       "    </tr>\n",
       "  </thead>\n",
       "  <tbody>\n",
       "    <tr>\n",
       "      <th>0</th>\n",
       "      <td>78392147</td>\n",
       "    </tr>\n",
       "  </tbody>\n",
       "</table>\n",
       "</div>"
      ],
      "text/plain": [
       "        f0_\n",
       "0  78392147"
      ]
     },
     "execution_count": 47,
     "metadata": {},
     "output_type": "execute_result"
    }
   ],
   "source": [
    "%%bigquery --params {'report_start_date': '2023-01-01', 'report_end_date': '2023-01-31'}\n",
    "\n",
    "WITH\n",
    "Net_New_Upgrade_Denom AS (\n",
    "\tSELECT  DISTINCT adobe_tracking_id\n",
    "\tFROM `nbcu-ds-prod-001.PeacockDataMartSilver.SILVER_USER` \n",
    "\tWHERE (paying_account_flag = 'NonPaying')\n",
    "    AND (first_paying_date IS NULL)\n",
    "\tAND (report_date BETWEEN @report_start_date AND @report_end_date) \n",
    ")\n",
    "SELECT COUNT(adobe_tracking_id)\n",
    "FROM Net_New_Upgrade_Denom"
   ]
  },
  {
   "cell_type": "code",
   "execution_count": 179,
   "metadata": {
    "vscode": {
     "languageId": "sql"
    }
   },
   "outputs": [
    {
     "data": {
      "application/vnd.jupyter.widget-view+json": {
       "model_id": "5ecd936e895a43e0aa5ba322675e9dd1",
       "version_major": 2,
       "version_minor": 0
      },
      "text/plain": [
       "Query is running:   0%|          |"
      ]
     },
     "metadata": {},
     "output_type": "display_data"
    },
    {
     "data": {
      "application/vnd.jupyter.widget-view+json": {
       "model_id": "d9e595538a7e4dfa89c7574f485b20ed",
       "version_major": 2,
       "version_minor": 0
      },
      "text/plain": [
       "Downloading:   0%|          |"
      ]
     },
     "metadata": {},
     "output_type": "display_data"
    },
    {
     "data": {
      "text/html": [
       "<div>\n",
       "<style scoped>\n",
       "    .dataframe tbody tr th:only-of-type {\n",
       "        vertical-align: middle;\n",
       "    }\n",
       "\n",
       "    .dataframe tbody tr th {\n",
       "        vertical-align: top;\n",
       "    }\n",
       "\n",
       "    .dataframe thead th {\n",
       "        text-align: right;\n",
       "    }\n",
       "</style>\n",
       "<table border=\"1\" class=\"dataframe\">\n",
       "  <thead>\n",
       "    <tr style=\"text-align: right;\">\n",
       "      <th></th>\n",
       "      <th>f0_</th>\n",
       "    </tr>\n",
       "  </thead>\n",
       "  <tbody>\n",
       "    <tr>\n",
       "      <th>0</th>\n",
       "      <td>0.008476</td>\n",
       "    </tr>\n",
       "  </tbody>\n",
       "</table>\n",
       "</div>"
      ],
      "text/plain": [
       "        f0_\n",
       "0  0.008476"
      ]
     },
     "execution_count": 179,
     "metadata": {},
     "output_type": "execute_result"
    }
   ],
   "source": [
    "%%bigquery --params {'report_start_date': '2023-01-01', 'report_end_date': '2023-01-31'}\n",
    "\n",
    "WITH\n",
    "Net_New_Upgrade_Denom AS (\n",
    "\tSELECT  DISTINCT adobe_tracking_id\n",
    "\tFROM `nbcu-ds-prod-001.PeacockDataMartSilver.SILVER_USER` \n",
    "\tWHERE (first_paying_date IS NULL)\n",
    "\tAND (report_date BETWEEN @report_start_date AND @report_end_date) \n",
    ")\n",
    ", Net_New_Upgrade_Num AS (\n",
    "\tSELECT  DISTINCT adobe_tracking_id\n",
    "\tFROM `nbcu-ds-prod-001.PeacockDataMartSilver.SILVER_USER`\n",
    "\tWHERE (paying_account_flag = 'Paying')\n",
    "\tAND (paying_account_change_flag = 'NonPaying to Paying')\n",
    "\tAND (first_paying_date = last_paid_date)\n",
    "\tAND (report_date BETWEEN @report_start_date AND @report_end_date) \n",
    ")\n",
    "SELECT COUNT(Net_New_Upgrade_Num.adobe_tracking_id) / COUNT(Net_New_Upgrade_Denom.adobe_tracking_id)\n",
    "FROM Net_New_Upgrade_Denom\n",
    "LEFT JOIN Net_New_Upgrade_Num\n",
    "ON Net_New_Upgrade_Denom.adobe_tracking_id = Net_New_Upgrade_Num.adobe_tracking_id"
   ]
  },
  {
   "cell_type": "code",
   "execution_count": 180,
   "metadata": {
    "vscode": {
     "languageId": "sql"
    }
   },
   "outputs": [
    {
     "data": {
      "application/vnd.jupyter.widget-view+json": {
       "model_id": "249b01b6a59a4f18b3e09d298ac6c272",
       "version_major": 2,
       "version_minor": 0
      },
      "text/plain": [
       "Query is running:   0%|          |"
      ]
     },
     "metadata": {},
     "output_type": "display_data"
    },
    {
     "data": {
      "application/vnd.jupyter.widget-view+json": {
       "model_id": "6ca9c2148dc34cac94cab965ac6e0909",
       "version_major": 2,
       "version_minor": 0
      },
      "text/plain": [
       "Downloading:   0%|          |"
      ]
     },
     "metadata": {},
     "output_type": "display_data"
    },
    {
     "data": {
      "text/html": [
       "<div>\n",
       "<style scoped>\n",
       "    .dataframe tbody tr th:only-of-type {\n",
       "        vertical-align: middle;\n",
       "    }\n",
       "\n",
       "    .dataframe tbody tr th {\n",
       "        vertical-align: top;\n",
       "    }\n",
       "\n",
       "    .dataframe thead th {\n",
       "        text-align: right;\n",
       "    }\n",
       "</style>\n",
       "<table border=\"1\" class=\"dataframe\">\n",
       "  <thead>\n",
       "    <tr style=\"text-align: right;\">\n",
       "      <th></th>\n",
       "      <th>f0_</th>\n",
       "    </tr>\n",
       "  </thead>\n",
       "  <tbody>\n",
       "    <tr>\n",
       "      <th>0</th>\n",
       "      <td>0.008476</td>\n",
       "    </tr>\n",
       "  </tbody>\n",
       "</table>\n",
       "</div>"
      ],
      "text/plain": [
       "        f0_\n",
       "0  0.008476"
      ]
     },
     "execution_count": 180,
     "metadata": {},
     "output_type": "execute_result"
    }
   ],
   "source": [
    "%%bigquery --params {'report_start_date': '2023-01-01', 'report_end_date': '2023-01-31'}\n",
    "\n",
    "WITH\n",
    "Net_New_Upgrade_Denom AS (\n",
    "\tSELECT  DISTINCT adobe_tracking_id\n",
    "\tFROM `nbcu-ds-prod-001.PeacockDataMartSilver.SILVER_USER` \n",
    "\tWHERE (first_paying_date IS NULL)\n",
    "\tAND (report_date BETWEEN @report_start_date AND @report_end_date) \n",
    ")\n",
    ", Net_New_Upgrade_Num AS (\n",
    "    SELECT  DISTINCT adobe_tracking_id\n",
    "    FROM `nbcu-ds-sandbox-a-001.SLi_sandbox.upgrade_date_rank`\n",
    "    WHERE (upgrade_row_number = 1)\n",
    "    AND (report_date BETWEEN @report_start_date AND @report_end_date)\n",
    ")\n",
    "SELECT COUNT(Net_New_Upgrade_Num.adobe_tracking_id) / COUNT(Net_New_Upgrade_Denom.adobe_tracking_id)\n",
    "FROM Net_New_Upgrade_Denom\n",
    "LEFT JOIN Net_New_Upgrade_Num\n",
    "ON Net_New_Upgrade_Denom.adobe_tracking_id = Net_New_Upgrade_Num.adobe_tracking_id"
   ]
  },
  {
   "attachments": {},
   "cell_type": "markdown",
   "metadata": {},
   "source": [
    "# Paid winback compariosn"
   ]
  },
  {
   "cell_type": "code",
   "execution_count": 161,
   "metadata": {
    "vscode": {
     "languageId": "sql"
    }
   },
   "outputs": [
    {
     "data": {
      "application/vnd.jupyter.widget-view+json": {
       "model_id": "24b36fdcc9d1457982261b0145c9b2e4",
       "version_major": 2,
       "version_minor": 0
      },
      "text/plain": [
       "Query is running:   0%|          |"
      ]
     },
     "metadata": {},
     "output_type": "display_data"
    },
    {
     "data": {
      "application/vnd.jupyter.widget-view+json": {
       "model_id": "91b80746362444afb298d62a26c6b628",
       "version_major": 2,
       "version_minor": 0
      },
      "text/plain": [
       "Downloading:   0%|          |"
      ]
     },
     "metadata": {},
     "output_type": "display_data"
    }
   ],
   "source": [
    "%%bigquery winbacks\n",
    "\n",
    "select report_month, cohort, SUM(Paid_Winbacks_Num) / SUM(Paid_Winbacks_Denom) AS Paid_Winback_Rate\n",
    "FROM `nbcu-ds-sandbox-a-001.SLi_sandbox.GOLD_EMAIL_CHANNEL_PERFORMANCE`\n",
    "WHERE Result_Type = 'Monthly'\n",
    "group by 1,2\n",
    "order by 1,2 DESC"
   ]
  },
  {
   "cell_type": "code",
   "execution_count": 162,
   "metadata": {
    "vscode": {
     "languageId": "sql"
    }
   },
   "outputs": [
    {
     "data": {
      "application/vnd.jupyter.widget-view+json": {
       "model_id": "4bedc7d8e6a4478e99915c5e21c42224",
       "version_major": 2,
       "version_minor": 0
      },
      "text/plain": [
       "Query is running:   0%|          |"
      ]
     },
     "metadata": {},
     "output_type": "display_data"
    },
    {
     "data": {
      "application/vnd.jupyter.widget-view+json": {
       "model_id": "343217284c0543aba31cc17d7545c40d",
       "version_major": 2,
       "version_minor": 0
      },
      "text/plain": [
       "Downloading:   0%|          |"
      ]
     },
     "metadata": {},
     "output_type": "display_data"
    }
   ],
   "source": [
    "%%bigquery winbacks_test\n",
    "\n",
    "select report_month, cohort, SUM(Paid_Winbacks_Num) / SUM(Paid_Winbacks_Denom) AS Paid_Winback_Rate_Test\n",
    "FROM `nbcu-ds-sandbox-a-001.SLi_sandbox.GOLD_EMAIL_CHANNEL_PERFORMANCE_TEST`\n",
    "WHERE Result_Type = 'Monthly'\n",
    "group by 1,2\n",
    "order by 1,2 DESC"
   ]
  },
  {
   "cell_type": "code",
   "execution_count": 163,
   "metadata": {
    "vscode": {
     "languageId": "sql"
    }
   },
   "outputs": [
    {
     "data": {
      "application/vnd.jupyter.widget-view+json": {
       "model_id": "0fdd1302094c4dc394c43e867cfa6dca",
       "version_major": 2,
       "version_minor": 0
      },
      "text/plain": [
       "Query is running:   0%|          |"
      ]
     },
     "metadata": {},
     "output_type": "display_data"
    },
    {
     "data": {
      "application/vnd.jupyter.widget-view+json": {
       "model_id": "83e470fc8cf24f91a6f547a993cb24e0",
       "version_major": 2,
       "version_minor": 0
      },
      "text/plain": [
       "Downloading:   0%|          |"
      ]
     },
     "metadata": {},
     "output_type": "display_data"
    }
   ],
   "source": [
    "%%bigquery nn_upgrades\n",
    "\n",
    "select report_month, cohort, SUM(Net_New_Upgrade_Num) / SUM(Net_New_Upgrade_Denom) AS Net_New_Upgrade_Rate\n",
    "FROM `nbcu-ds-sandbox-a-001.SLi_sandbox.GOLD_EMAIL_CHANNEL_PERFORMANCE`\n",
    "WHERE Result_Type = 'Monthly'\n",
    "group by 1,2\n",
    "order by 1,2 DESC"
   ]
  },
  {
   "cell_type": "code",
   "execution_count": 164,
   "metadata": {
    "vscode": {
     "languageId": "sql"
    }
   },
   "outputs": [
    {
     "data": {
      "application/vnd.jupyter.widget-view+json": {
       "model_id": "4d738381f7204f8bb38f775887b33cef",
       "version_major": 2,
       "version_minor": 0
      },
      "text/plain": [
       "Query is running:   0%|          |"
      ]
     },
     "metadata": {},
     "output_type": "display_data"
    },
    {
     "data": {
      "application/vnd.jupyter.widget-view+json": {
       "model_id": "d082cb4f04624cb792dc7d80ab27018a",
       "version_major": 2,
       "version_minor": 0
      },
      "text/plain": [
       "Downloading:   0%|          |"
      ]
     },
     "metadata": {},
     "output_type": "display_data"
    }
   ],
   "source": [
    "%%bigquery nn_upgrades_test\n",
    "\n",
    "select report_month, cohort, SUM(Net_New_Upgrade_Num) / SUM(Net_New_Upgrade_Denom) as Net_New_Upgrade_Rate_Test\n",
    "FROM `nbcu-ds-sandbox-a-001.SLi_sandbox.GOLD_EMAIL_CHANNEL_PERFORMANCE_TEST`\n",
    "WHERE Result_Type = 'Monthly'\n",
    "group by 1,2\n",
    "order by 1,2 DESC"
   ]
  },
  {
   "cell_type": "code",
   "execution_count": null,
   "metadata": {},
   "outputs": [],
   "source": [
    "df = pd.concat([winbacks, winbacks_test, nn_upgrades, nn_upgrades_test], axis=1)\n",
    "df = df.drop(['report_month', 'cohort'], axis=1)\n",
    "df = pd.concat([winbacks[['report_month', 'cohort']], df], axis=1)\n",
    "df.to_excel('Winbacks and Net New comparison.xlsx')"
   ]
  },
  {
   "attachments": {},
   "cell_type": "markdown",
   "metadata": {},
   "source": [
    "# FTP redefinition"
   ]
  },
  {
   "cell_type": "code",
   "execution_count": 36,
   "metadata": {
    "vscode": {
     "languageId": "sql"
    }
   },
   "outputs": [
    {
     "data": {
      "application/vnd.jupyter.widget-view+json": {
       "model_id": "1be3ec65aa8b46bf9b0cc3dfc8310379",
       "version_major": 2,
       "version_minor": 0
      },
      "text/plain": [
       "Query is running:   0%|          |"
      ]
     },
     "metadata": {},
     "output_type": "display_data"
    },
    {
     "data": {
      "application/vnd.jupyter.widget-view+json": {
       "model_id": "74a92679dad146128eb531dd0ae63982",
       "version_major": 2,
       "version_minor": 0
      },
      "text/plain": [
       "Downloading:   0%|          |"
      ]
     },
     "metadata": {},
     "output_type": "display_data"
    }
   ],
   "source": [
    "%%bigquery df\n",
    "\n",
    "select paying_account_flag, entitlement, paying_account_change_flag, entitlement_change_flag, bundling_partner, COUNT(DISTINCT adobe_tracking_id) as users\n",
    "FROM `nbcu-ds-prod-001.PeacockDataMartSilver.SILVER_USER` a\n",
    "JOIN (\n",
    "    SELECT aid\n",
    "    FROM `nbcu-ds-sandbox-a-001.SLi_sandbox.SILVER_EMAIL_CHANNEL_PERFORMANCE_MONTHLY`\n",
    "    WHERE cohort = 'Targeted' and report_month = '2023-01-01'\n",
    ") b\n",
    "ON a.adobe_tracking_id = b.aid\n",
    "WHERE report_date between '2023-01-01' and '2023-01-31'\n",
    "AND (\n",
    "    (paying_account_change_flag = 'NonPaying to Paying' and entitlement_change_flag not in ('Upgrade: Free to Premium' , 'Upgrade: Free to Premium+')) \n",
    "    OR (paying_account_change_flag != 'NonPaying to Paying' and entitlement_change_flag in ('Upgrade: Free to Premium' , 'Upgrade: Free to Premium+'))\n",
    ")\n",
    "GROUP BY 1,2,3,4,5\n",
    "order by 6 desc"
   ]
  },
  {
   "cell_type": "code",
   "execution_count": 37,
   "metadata": {},
   "outputs": [
    {
     "data": {
      "application/vnd.jupyter.widget-view+json": {
       "model_id": "7ed5d884c37a44638a035a64a37415a6",
       "version_major": 2,
       "version_minor": 0
      },
      "text/plain": [
       "Query is running:   0%|          |"
      ]
     },
     "metadata": {},
     "output_type": "display_data"
    },
    {
     "data": {
      "application/vnd.jupyter.widget-view+json": {
       "model_id": "5cab160853e7417e8a6667e1e39fb786",
       "version_major": 2,
       "version_minor": 0
      },
      "text/plain": [
       "Downloading:   0%|          |"
      ]
     },
     "metadata": {},
     "output_type": "display_data"
    },
    {
     "data": {
      "text/html": [
       "<div>\n",
       "<style scoped>\n",
       "    .dataframe tbody tr th:only-of-type {\n",
       "        vertical-align: middle;\n",
       "    }\n",
       "\n",
       "    .dataframe tbody tr th {\n",
       "        vertical-align: top;\n",
       "    }\n",
       "\n",
       "    .dataframe thead th {\n",
       "        text-align: right;\n",
       "    }\n",
       "</style>\n",
       "<table border=\"1\" class=\"dataframe\">\n",
       "  <thead>\n",
       "    <tr style=\"text-align: right;\">\n",
       "      <th></th>\n",
       "      <th>f0_</th>\n",
       "    </tr>\n",
       "  </thead>\n",
       "  <tbody>\n",
       "    <tr>\n",
       "      <th>0</th>\n",
       "      <td>631162</td>\n",
       "    </tr>\n",
       "  </tbody>\n",
       "</table>\n",
       "</div>"
      ],
      "text/plain": [
       "      f0_\n",
       "0  631162"
      ]
     },
     "execution_count": 37,
     "metadata": {},
     "output_type": "execute_result"
    }
   ],
   "source": [
    "%%bigquery\n",
    "\n",
    "select SUM(Free_To_Paid_Num)\n",
    "FROM `nbcu-ds-sandbox-a-001.SLi_sandbox.GOLD_EMAIL_CHANNEL_PERFORMANCE`\n",
    "WHERE Result_Type = 'Monthly' AND report_month = '2023-01-01'"
   ]
  },
  {
   "cell_type": "code",
   "execution_count": 39,
   "metadata": {},
   "outputs": [
    {
     "data": {
      "text/plain": [
       "36876"
      ]
     },
     "execution_count": 39,
     "metadata": {},
     "output_type": "execute_result"
    }
   ],
   "source": [
    "df[df['paying_account_change_flag'] == 'No Change']['users'].sum()"
   ]
  },
  {
   "cell_type": "code",
   "execution_count": 41,
   "metadata": {},
   "outputs": [
    {
     "data": {
      "text/plain": [
       "0.05842557061420047"
      ]
     },
     "execution_count": 41,
     "metadata": {},
     "output_type": "execute_result"
    }
   ],
   "source": [
    "36876/631162"
   ]
  },
  {
   "cell_type": "code",
   "execution_count": 38,
   "metadata": {},
   "outputs": [
    {
     "data": {
      "text/plain": [
       "54257"
      ]
     },
     "execution_count": 38,
     "metadata": {},
     "output_type": "execute_result"
    }
   ],
   "source": [
    "df[df['paying_account_change_flag'] == 'NonPaying to Paying']['users'].sum()"
   ]
  },
  {
   "cell_type": "code",
   "execution_count": 40,
   "metadata": {},
   "outputs": [
    {
     "data": {
      "text/plain": [
       "0.08596366701417386"
      ]
     },
     "execution_count": 40,
     "metadata": {},
     "output_type": "execute_result"
    }
   ],
   "source": [
    "54257/631162"
   ]
  },
  {
   "cell_type": "code",
   "execution_count": 32,
   "metadata": {
    "vscode": {
     "languageId": "sql"
    }
   },
   "outputs": [
    {
     "data": {
      "application/vnd.jupyter.widget-view+json": {
       "model_id": "21a71fdc69a248ed9802963edbe55398",
       "version_major": 2,
       "version_minor": 0
      },
      "text/plain": [
       "Query is running:   0%|          |"
      ]
     },
     "metadata": {},
     "output_type": "display_data"
    },
    {
     "data": {
      "application/vnd.jupyter.widget-view+json": {
       "model_id": "a225268044fb49bf986b2fc8a81f1db0",
       "version_major": 2,
       "version_minor": 0
      },
      "text/plain": [
       "Downloading:   0%|          |"
      ]
     },
     "metadata": {},
     "output_type": "display_data"
    }
   ],
   "source": [
    "%%bigquery df\n",
    "\n",
    "select paying_account_flag, entitlement, paying_account_change_flag, entitlement_change_flag, bundling_partner, COUNT(DISTINCT adobe_tracking_id) as users\n",
    "FROM `nbcu-ds-prod-001.PeacockDataMartSilver.SILVER_USER` a\n",
    "JOIN (\n",
    "    SELECT aid\n",
    "    FROM `nbcu-ds-sandbox-a-001.SLi_sandbox.SILVER_EMAIL_CHANNEL_PERFORMANCE_MONTHLY`\n",
    "    WHERE cohort = 'Targeted' and report_month = '2023-06-01'\n",
    ") b\n",
    "ON a.adobe_tracking_id = b.aid\n",
    "WHERE report_date between '2023-06-01' and '2023-06-30'\n",
    "AND (\n",
    "    (paying_account_change_flag = 'NonPaying to Paying' and entitlement_change_flag not in ('Upgrade: Free to Premium' , 'Upgrade: Free to Premium+')) \n",
    "    OR (paying_account_change_flag != 'NonPaying to Paying' and entitlement_change_flag in ('Upgrade: Free to Premium' , 'Upgrade: Free to Premium+'))\n",
    ")\n",
    "GROUP BY 1,2,3,4,5\n",
    "order by 6 desc"
   ]
  },
  {
   "cell_type": "code",
   "execution_count": 33,
   "metadata": {},
   "outputs": [
    {
     "data": {
      "application/vnd.jupyter.widget-view+json": {
       "model_id": "0b6bfe83a3954bcd80e2d131c125dfac",
       "version_major": 2,
       "version_minor": 0
      },
      "text/plain": [
       "Query is running:   0%|          |"
      ]
     },
     "metadata": {},
     "output_type": "display_data"
    },
    {
     "data": {
      "application/vnd.jupyter.widget-view+json": {
       "model_id": "0f3bda30fc374b8eb0fd7eacb2def66e",
       "version_major": 2,
       "version_minor": 0
      },
      "text/plain": [
       "Downloading:   0%|          |"
      ]
     },
     "metadata": {},
     "output_type": "display_data"
    },
    {
     "data": {
      "text/html": [
       "<div>\n",
       "<style scoped>\n",
       "    .dataframe tbody tr th:only-of-type {\n",
       "        vertical-align: middle;\n",
       "    }\n",
       "\n",
       "    .dataframe tbody tr th {\n",
       "        vertical-align: top;\n",
       "    }\n",
       "\n",
       "    .dataframe thead th {\n",
       "        text-align: right;\n",
       "    }\n",
       "</style>\n",
       "<table border=\"1\" class=\"dataframe\">\n",
       "  <thead>\n",
       "    <tr style=\"text-align: right;\">\n",
       "      <th></th>\n",
       "      <th>f0_</th>\n",
       "    </tr>\n",
       "  </thead>\n",
       "  <tbody>\n",
       "    <tr>\n",
       "      <th>0</th>\n",
       "      <td>667433</td>\n",
       "    </tr>\n",
       "  </tbody>\n",
       "</table>\n",
       "</div>"
      ],
      "text/plain": [
       "      f0_\n",
       "0  667433"
      ]
     },
     "execution_count": 33,
     "metadata": {},
     "output_type": "execute_result"
    }
   ],
   "source": [
    "%%bigquery\n",
    "\n",
    "select SUM(Free_To_Paid_Num)\n",
    "FROM `nbcu-ds-sandbox-a-001.SLi_sandbox.GOLD_EMAIL_CHANNEL_PERFORMANCE`\n",
    "WHERE Result_Type = 'Monthly' AND report_month = '2023-06-01' and cohort = 'Targeted'"
   ]
  },
  {
   "cell_type": "code",
   "execution_count": 35,
   "metadata": {},
   "outputs": [
    {
     "data": {
      "text/plain": [
       "80054"
      ]
     },
     "execution_count": 35,
     "metadata": {},
     "output_type": "execute_result"
    }
   ],
   "source": [
    "df[df['paying_account_change_flag'] == 'No Change']['users'].sum()"
   ]
  },
  {
   "cell_type": "code",
   "execution_count": 42,
   "metadata": {},
   "outputs": [
    {
     "data": {
      "text/plain": [
       "0.11994312537737871"
      ]
     },
     "execution_count": 42,
     "metadata": {},
     "output_type": "execute_result"
    }
   ],
   "source": [
    "80054/667433"
   ]
  },
  {
   "cell_type": "code",
   "execution_count": 34,
   "metadata": {},
   "outputs": [
    {
     "data": {
      "text/plain": [
       "1494597"
      ]
     },
     "execution_count": 34,
     "metadata": {},
     "output_type": "execute_result"
    }
   ],
   "source": [
    "df[df['paying_account_change_flag'] == 'NonPaying to Paying']['users'].sum()"
   ]
  },
  {
   "cell_type": "code",
   "execution_count": 43,
   "metadata": {},
   "outputs": [
    {
     "data": {
      "text/plain": [
       "2.239321400050642"
      ]
     },
     "execution_count": 43,
     "metadata": {},
     "output_type": "execute_result"
    }
   ],
   "source": [
    "1494597/667433"
   ]
  },
  {
   "attachments": {},
   "cell_type": "markdown",
   "metadata": {},
   "source": [
    "# Push Audience Redefinition"
   ]
  },
  {
   "cell_type": "code",
   "execution_count": 52,
   "metadata": {
    "vscode": {
     "languageId": "sql"
    }
   },
   "outputs": [
    {
     "data": {
      "application/vnd.jupyter.widget-view+json": {
       "model_id": "00374e1f3bbf474ba73733e3997ddcf8",
       "version_major": 2,
       "version_minor": 0
      },
      "text/plain": [
       "Query is running:   0%|          |"
      ]
     },
     "metadata": {},
     "output_type": "display_data"
    },
    {
     "data": {
      "application/vnd.jupyter.widget-view+json": {
       "model_id": "5687898bba7b42a7b72ebbb7e6e78e94",
       "version_major": 2,
       "version_minor": 0
      },
      "text/plain": [
       "Downloading:   0%|          |"
      ]
     },
     "metadata": {},
     "output_type": "display_data"
    },
    {
     "data": {
      "text/html": [
       "<div>\n",
       "<style scoped>\n",
       "    .dataframe tbody tr th:only-of-type {\n",
       "        vertical-align: middle;\n",
       "    }\n",
       "\n",
       "    .dataframe tbody tr th {\n",
       "        vertical-align: top;\n",
       "    }\n",
       "\n",
       "    .dataframe thead th {\n",
       "        text-align: right;\n",
       "    }\n",
       "</style>\n",
       "<table border=\"1\" class=\"dataframe\">\n",
       "  <thead>\n",
       "    <tr style=\"text-align: right;\">\n",
       "      <th></th>\n",
       "      <th>f0_</th>\n",
       "    </tr>\n",
       "  </thead>\n",
       "  <tbody>\n",
       "    <tr>\n",
       "      <th>0</th>\n",
       "      <td>12186833</td>\n",
       "    </tr>\n",
       "  </tbody>\n",
       "</table>\n",
       "</div>"
      ],
      "text/plain": [
       "        f0_\n",
       "0  12186833"
      ]
     },
     "execution_count": 52,
     "metadata": {},
     "output_type": "execute_result"
    }
   ],
   "source": [
    "%%bigquery --params {'report_start_date': '2023-01-01', 'report_end_date': '2023-01-31'}\n",
    "\n",
    "SELECT  COUNT(DISTINCT adobe_tracking_id)\n",
    "FROM\n",
    "(\n",
    "    SELECT  adobe_tracking_id\n",
    "        ,platform\n",
    "        ,COALESCE(canvas_name, campaign_name) AS canvas_campaign_name\n",
    "    FROM `nbcu-ds-prod-001.PeacockDataMartSilver.SILVER_MPARTICLE_BRAZE`\n",
    "    WHERE event_date BETWEEN @report_start_date AND @report_end_date\n",
    "    GROUP BY  1,2,3\n",
    "    HAVING (SUM(CASE WHEN event_name = 'Push Notification Sends' THEN 1 ELSE 0 END) >= 1) AND (SUM(CASE WHEN event_name = 'Push Notification Bounces' THEN 1 ELSE 0 END) = 0)\n",
    ") a"
   ]
  },
  {
   "cell_type": "code",
   "execution_count": 56,
   "metadata": {
    "vscode": {
     "languageId": "sql"
    }
   },
   "outputs": [
    {
     "data": {
      "application/vnd.jupyter.widget-view+json": {
       "model_id": "1c861f55a7ca4373a24a1c0de278f31d",
       "version_major": 2,
       "version_minor": 0
      },
      "text/plain": [
       "Query is running:   0%|          |"
      ]
     },
     "metadata": {},
     "output_type": "display_data"
    },
    {
     "data": {
      "application/vnd.jupyter.widget-view+json": {
       "model_id": "cb3216b1f8c64acfb81bbfe8c83738ff",
       "version_major": 2,
       "version_minor": 0
      },
      "text/plain": [
       "Downloading:   0%|          |"
      ]
     },
     "metadata": {},
     "output_type": "display_data"
    },
    {
     "data": {
      "text/html": [
       "<div>\n",
       "<style scoped>\n",
       "    .dataframe tbody tr th:only-of-type {\n",
       "        vertical-align: middle;\n",
       "    }\n",
       "\n",
       "    .dataframe tbody tr th {\n",
       "        vertical-align: top;\n",
       "    }\n",
       "\n",
       "    .dataframe thead th {\n",
       "        text-align: right;\n",
       "    }\n",
       "</style>\n",
       "<table border=\"1\" class=\"dataframe\">\n",
       "  <thead>\n",
       "    <tr style=\"text-align: right;\">\n",
       "      <th></th>\n",
       "      <th>f0_</th>\n",
       "    </tr>\n",
       "  </thead>\n",
       "  <tbody>\n",
       "    <tr>\n",
       "      <th>0</th>\n",
       "      <td>12186833</td>\n",
       "    </tr>\n",
       "  </tbody>\n",
       "</table>\n",
       "</div>"
      ],
      "text/plain": [
       "        f0_\n",
       "0  12186833"
      ]
     },
     "execution_count": 56,
     "metadata": {},
     "output_type": "execute_result"
    }
   ],
   "source": [
    "%%bigquery --params {'report_start_date': '2023-01-01', 'report_end_date': '2023-01-31'}\n",
    "\n",
    "SELECT  COUNT(DISTINCT map.aid)\n",
    "    FROM\n",
    "    (\n",
    "        SELECT  identity\n",
    "            ,platform\n",
    "            ,COALESCE(canvasName,campaignName) AS canvas_campaign_name\n",
    "        FROM `nbcu-sdp-prod-003.sdp_persistent_views.BrazePushNotificationContactView`\n",
    "        WHERE DATE(TIMESTAMP(eventTimestamp), 'America/New_York') BETWEEN @report_start_date AND @report_end_date\n",
    "        GROUP BY  1,2,3\n",
    "        HAVING (SUM(CASE WHEN eventName = 'Push Notification Sends' THEN 1 ELSE 0 END) >= 1) AND (SUM(CASE WHEN eventName = 'Push Notification Bounces' THEN 1 ELSE 0 END) = 0)\n",
    "    ) a\n",
    "    -- map to adobe id\n",
    "    INNER JOIN `nbcu-ds-sandbox-a-001.SLi_sandbox.Braze_Id_Adobe_Id_Map` map\n",
    "    ON map.bid = a.identity"
   ]
  },
  {
   "attachments": {},
   "cell_type": "markdown",
   "metadata": {},
   "source": [
    "# FTP Addup"
   ]
  },
  {
   "cell_type": "code",
   "execution_count": 58,
   "metadata": {
    "vscode": {
     "languageId": "sql"
    }
   },
   "outputs": [
    {
     "data": {
      "application/vnd.jupyter.widget-view+json": {
       "model_id": "696b97212e47470584a5c39670b275a2",
       "version_major": 2,
       "version_minor": 0
      },
      "text/plain": [
       "Query is running:   0%|          |"
      ]
     },
     "metadata": {},
     "output_type": "display_data"
    },
    {
     "data": {
      "application/vnd.jupyter.widget-view+json": {
       "model_id": "1cdfb65c25df419c97b21ee25edc385b",
       "version_major": 2,
       "version_minor": 0
      },
      "text/plain": [
       "Downloading:   0%|          |"
      ]
     },
     "metadata": {},
     "output_type": "display_data"
    },
    {
     "data": {
      "text/html": [
       "<div>\n",
       "<style scoped>\n",
       "    .dataframe tbody tr th:only-of-type {\n",
       "        vertical-align: middle;\n",
       "    }\n",
       "\n",
       "    .dataframe tbody tr th {\n",
       "        vertical-align: top;\n",
       "    }\n",
       "\n",
       "    .dataframe thead th {\n",
       "        text-align: right;\n",
       "    }\n",
       "</style>\n",
       "<table border=\"1\" class=\"dataframe\">\n",
       "  <thead>\n",
       "    <tr style=\"text-align: right;\">\n",
       "      <th></th>\n",
       "      <th>Free_To_Paid_Denom</th>\n",
       "      <th>Free_To_Paid_Num</th>\n",
       "      <th>Net_New_Upgrade_Denom</th>\n",
       "      <th>Net_New_Upgrade_Num</th>\n",
       "      <th>Paid_Winbacks_Denom</th>\n",
       "      <th>Paid_Winbacks_Num</th>\n",
       "    </tr>\n",
       "  </thead>\n",
       "  <tbody>\n",
       "    <tr>\n",
       "      <th>0</th>\n",
       "      <td>2826579796</td>\n",
       "      <td>43785441</td>\n",
       "      <td>2412620144</td>\n",
       "      <td>19830415</td>\n",
       "      <td>413959652</td>\n",
       "      <td>23950345</td>\n",
       "    </tr>\n",
       "  </tbody>\n",
       "</table>\n",
       "</div>"
      ],
      "text/plain": [
       "   Free_To_Paid_Denom  Free_To_Paid_Num  Net_New_Upgrade_Denom  \\\n",
       "0          2826579796          43785441             2412620144   \n",
       "\n",
       "   Net_New_Upgrade_Num  Paid_Winbacks_Denom  Paid_Winbacks_Num  \n",
       "0             19830415            413959652           23950345  "
      ]
     },
     "execution_count": 58,
     "metadata": {},
     "output_type": "execute_result"
    }
   ],
   "source": [
    "%%bigquery --params {'report_start_date': '2023-01-01', 'report_end_date': '2023-01-31'}\n",
    "WITH\n",
    "    Free_To_Paid_Denom AS (\n",
    "        SELECT  DISTINCT adobe_tracking_id\n",
    "        FROM `nbcu-ds-prod-001.PeacockDataMartSilver.SILVER_USER`\n",
    "        WHERE (paying_account_flag = 'NonPaying')\n",
    "        AND (report_date BETWEEN @report_start_date AND @report_end_date )\n",
    "    )\n",
    "    , Free_To_Paid_Num AS (\n",
    "        SELECT  DISTINCT adobe_tracking_id\n",
    "        FROM `nbcu-ds-prod-001.PeacockDataMartSilver.SILVER_USER`\n",
    "        WHERE (paying_account_flag = 'Paying')\n",
    "        AND (paying_account_change_flag = 'NonPaying to Paying') \n",
    "        AND (report_date BETWEEN @report_start_date AND @report_end_date)\n",
    "    )\n",
    "    , Net_New_Upgrade_Denom AS (\n",
    "        SELECT  DISTINCT adobe_tracking_id\n",
    "        FROM `nbcu-ds-prod-001.PeacockDataMartSilver.SILVER_USER` \n",
    "        WHERE (paying_account_flag = 'NonPaying')\n",
    "        AND (first_paying_date IS NULL)\n",
    "        AND (report_date BETWEEN @report_start_date AND @report_end_date) \n",
    "    )\n",
    "    , Net_New_Upgrade_Num AS (\n",
    "        SELECT  DISTINCT adobe_tracking_id\n",
    "        FROM `nbcu-ds-prod-001.PeacockDataMartSilver.SILVER_USER`\n",
    "        WHERE (paying_account_flag = 'Paying')\n",
    "        AND (paying_account_change_flag = 'NonPaying to Paying')\n",
    "        AND (first_paying_date = last_paid_date)\n",
    "        AND (report_date BETWEEN @report_start_date AND @report_end_date) \n",
    "    )\n",
    "    , Paid_Winbacks_Denom AS (\n",
    "        SELECT  DISTINCT adobe_tracking_id\n",
    "        FROM\n",
    "        (\n",
    "            SELECT  adobe_tracking_id\n",
    "                ,report_date\n",
    "            FROM `nbcu-ds-prod-001.PeacockDataMartSilver.SILVER_USER`\n",
    "            WHERE paying_account_flag = 'NonPaying'\n",
    "            AND report_date BETWEEN @report_start_date AND @report_end_date \n",
    "        )\n",
    "        WHERE adobe_tracking_id NOT IN ( \n",
    "            SELECT DISTINCT adobe_tracking_id \n",
    "            FROM `nbcu-ds-prod-001.PeacockDataMartSilver.SILVER_USER` \n",
    "            WHERE (first_paying_date IS NULL)\n",
    "            AND (report_date BETWEEN @report_start_date AND @report_end_date)\n",
    "        ) \n",
    "    )\n",
    "    , Paid_Winbacks_Num AS (\n",
    "        SELECT  DISTINCT adobe_tracking_id\n",
    "        FROM `nbcu-ds-prod-001.PeacockDataMartSilver.SILVER_USER`\n",
    "        WHERE (paying_account_flag = 'Paying')\n",
    "        AND (paying_account_change_flag = 'NonPaying to Paying')\n",
    "        AND (first_paying_date != last_paid_date)\n",
    "        AND (report_date BETWEEN @report_start_date AND @report_end_date) \n",
    "    )\n",
    "SELECT  COUNT(Free_To_Paid_Denom.adobe_tracking_id) AS Free_To_Paid_Denom\n",
    "       ,COUNT(Free_To_Paid_Num.adobe_tracking_id) AS Free_To_Paid_Num\n",
    "       ,COUNT(Net_New_Upgrade_Denom.adobe_tracking_id) AS Net_New_Upgrade_Denom\n",
    "       ,COUNT(Net_New_Upgrade_Num.adobe_tracking_id) AS Net_New_Upgrade_Num\n",
    "       ,COUNT(Paid_Winbacks_Denom.adobe_tracking_id) AS Paid_Winbacks_Denom\n",
    "       ,COUNT(Paid_Winbacks_Num.adobe_tracking_id) AS Paid_Winbacks_Num\n",
    "FROM (\n",
    "    SELECT adobe_tracking_id\n",
    "    FROM `nbcu-ds-prod-001.PeacockDataMartSilver.SILVER_USER`\n",
    "    WHERE report_date BETWEEN @report_start_date AND @report_end_date\n",
    ") a\n",
    "LEFT JOIN Free_To_Paid_Denom\n",
    "ON a.adobe_tracking_id = Free_To_Paid_Denom.adobe_tracking_id\n",
    "LEFT JOIN Free_To_Paid_Num\n",
    "ON Free_To_Paid_Denom.adobe_tracking_id = Free_To_Paid_Num.adobe_tracking_id\n",
    "LEFT JOIN Net_New_Upgrade_Denom\n",
    "ON a.adobe_tracking_id = Net_New_Upgrade_Denom.adobe_tracking_id\n",
    "LEFT JOIN Net_New_Upgrade_Num\n",
    "ON Net_New_Upgrade_Denom.adobe_tracking_id = Net_New_Upgrade_Num.adobe_tracking_id\n",
    "LEFT JOIN Paid_Winbacks_Denom\n",
    "ON a.adobe_tracking_id = Paid_Winbacks_Denom.adobe_tracking_id\n",
    "LEFT JOIN Paid_Winbacks_Num\n",
    "ON Paid_Winbacks_Num.adobe_tracking_id = Paid_Winbacks_Denom.adobe_tracking_id"
   ]
  },
  {
   "cell_type": "code",
   "execution_count": 73,
   "metadata": {
    "vscode": {
     "languageId": "sql"
    }
   },
   "outputs": [
    {
     "data": {
      "text/plain": [
       "0.015490608495101548"
      ]
     },
     "execution_count": 73,
     "metadata": {},
     "output_type": "execute_result"
    }
   ],
   "source": [
    "43785441/2826579796"
   ]
  },
  {
   "cell_type": "code",
   "execution_count": 59,
   "metadata": {
    "vscode": {
     "languageId": "sql"
    }
   },
   "outputs": [
    {
     "data": {
      "text/plain": [
       "2826579796"
      ]
     },
     "execution_count": 59,
     "metadata": {},
     "output_type": "execute_result"
    }
   ],
   "source": [
    "2412620144 + 413959652"
   ]
  },
  {
   "cell_type": "code",
   "execution_count": 60,
   "metadata": {
    "vscode": {
     "languageId": "sql"
    }
   },
   "outputs": [
    {
     "data": {
      "text/plain": [
       "43780760"
      ]
     },
     "execution_count": 60,
     "metadata": {},
     "output_type": "execute_result"
    }
   ],
   "source": [
    "19830415 + 23950345"
   ]
  },
  {
   "cell_type": "code",
   "execution_count": 63,
   "metadata": {
    "vscode": {
     "languageId": "sql"
    }
   },
   "outputs": [
    {
     "data": {
      "application/vnd.jupyter.widget-view+json": {
       "model_id": "8cdde1e1ffd64adcaeb131bcc0571cc8",
       "version_major": 2,
       "version_minor": 0
      },
      "text/plain": [
       "Query is running:   0%|          |"
      ]
     },
     "metadata": {},
     "output_type": "display_data"
    },
    {
     "data": {
      "application/vnd.jupyter.widget-view+json": {
       "model_id": "f6eebf06652440dd9e1561aa016489dd",
       "version_major": 2,
       "version_minor": 0
      },
      "text/plain": [
       "Downloading:   0%|          |"
      ]
     },
     "metadata": {},
     "output_type": "display_data"
    },
    {
     "data": {
      "text/html": [
       "<div>\n",
       "<style scoped>\n",
       "    .dataframe tbody tr th:only-of-type {\n",
       "        vertical-align: middle;\n",
       "    }\n",
       "\n",
       "    .dataframe tbody tr th {\n",
       "        vertical-align: top;\n",
       "    }\n",
       "\n",
       "    .dataframe thead th {\n",
       "        text-align: right;\n",
       "    }\n",
       "</style>\n",
       "<table border=\"1\" class=\"dataframe\">\n",
       "  <thead>\n",
       "    <tr style=\"text-align: right;\">\n",
       "      <th></th>\n",
       "      <th>aid</th>\n",
       "    </tr>\n",
       "  </thead>\n",
       "  <tbody>\n",
       "    <tr>\n",
       "      <th>0</th>\n",
       "      <td>Df+oyzKkHFDRlj5PQTY0uzKX1Th/miGNceINFc5Arrw=</td>\n",
       "    </tr>\n",
       "    <tr>\n",
       "      <th>1</th>\n",
       "      <td>PamSml7kudEKbO4n3maMIDvcSudXGNzEDwxLJfytlaA=</td>\n",
       "    </tr>\n",
       "    <tr>\n",
       "      <th>2</th>\n",
       "      <td>2QVAjaGrKA7wiuuxMZYBGOF4kh82Z4ucwzoiDH73o70=</td>\n",
       "    </tr>\n",
       "    <tr>\n",
       "      <th>3</th>\n",
       "      <td>SZdd2ZQXBorOfSD32S+w+KyChyjmb+65sLULqeXTIh4=</td>\n",
       "    </tr>\n",
       "    <tr>\n",
       "      <th>4</th>\n",
       "      <td>bFsW7gl4HrTNpQBRBw1UWpwX3NUi9c6KfVabzlh6HTc=</td>\n",
       "    </tr>\n",
       "    <tr>\n",
       "      <th>...</th>\n",
       "      <td>...</td>\n",
       "    </tr>\n",
       "    <tr>\n",
       "      <th>73</th>\n",
       "      <td>hlAkXTJbNwy7PT1osUnPgRxQgDzxNhazijk9SYxwOrQ=</td>\n",
       "    </tr>\n",
       "    <tr>\n",
       "      <th>74</th>\n",
       "      <td>PqRUdsLsn1KbuplAJthkhjXkLpXr4njjFOoB8VpmbFg=</td>\n",
       "    </tr>\n",
       "    <tr>\n",
       "      <th>75</th>\n",
       "      <td>9EQryH1M7v6YWbZ991eeho5/Kp1nyeD7iacR3+x1pQE=</td>\n",
       "    </tr>\n",
       "    <tr>\n",
       "      <th>76</th>\n",
       "      <td>nA1JsTjNhz2twkUlBz/mrPkA2sHE7JOkJt9fQEuh+V0=</td>\n",
       "    </tr>\n",
       "    <tr>\n",
       "      <th>77</th>\n",
       "      <td>ctJ5DldktCKegPBFnzQcLLdv6RpxhkOZX0dqJG/ImQM=</td>\n",
       "    </tr>\n",
       "  </tbody>\n",
       "</table>\n",
       "<p>78 rows × 1 columns</p>\n",
       "</div>"
      ],
      "text/plain": [
       "                                             aid\n",
       "0   Df+oyzKkHFDRlj5PQTY0uzKX1Th/miGNceINFc5Arrw=\n",
       "1   PamSml7kudEKbO4n3maMIDvcSudXGNzEDwxLJfytlaA=\n",
       "2   2QVAjaGrKA7wiuuxMZYBGOF4kh82Z4ucwzoiDH73o70=\n",
       "3   SZdd2ZQXBorOfSD32S+w+KyChyjmb+65sLULqeXTIh4=\n",
       "4   bFsW7gl4HrTNpQBRBw1UWpwX3NUi9c6KfVabzlh6HTc=\n",
       "..                                           ...\n",
       "73  hlAkXTJbNwy7PT1osUnPgRxQgDzxNhazijk9SYxwOrQ=\n",
       "74  PqRUdsLsn1KbuplAJthkhjXkLpXr4njjFOoB8VpmbFg=\n",
       "75  9EQryH1M7v6YWbZ991eeho5/Kp1nyeD7iacR3+x1pQE=\n",
       "76  nA1JsTjNhz2twkUlBz/mrPkA2sHE7JOkJt9fQEuh+V0=\n",
       "77  ctJ5DldktCKegPBFnzQcLLdv6RpxhkOZX0dqJG/ImQM=\n",
       "\n",
       "[78 rows x 1 columns]"
      ]
     },
     "execution_count": 63,
     "metadata": {},
     "output_type": "execute_result"
    }
   ],
   "source": [
    "%%bigquery\n",
    "\n",
    "select aid\n",
    "from  `nbcu-ds-sandbox-a-001.SLi_sandbox.Email_Channel_Base_Jan_2023`\n",
    "where Free_To_Paid_Num != Paid_Winbacks_Num + Net_New_Upgrade_Num"
   ]
  },
  {
   "cell_type": "code",
   "execution_count": 66,
   "metadata": {
    "vscode": {
     "languageId": "sql"
    }
   },
   "outputs": [
    {
     "data": {
      "application/vnd.jupyter.widget-view+json": {
       "model_id": "686b6f7f276f44dbac4c444fc70c0659",
       "version_major": 2,
       "version_minor": 0
      },
      "text/plain": [
       "Query is running:   0%|          |"
      ]
     },
     "metadata": {},
     "output_type": "display_data"
    },
    {
     "data": {
      "application/vnd.jupyter.widget-view+json": {
       "model_id": "7d2d10b76d654b27a8ebbb9bd3d8ef80",
       "version_major": 2,
       "version_minor": 0
      },
      "text/plain": [
       "Downloading:   0%|          |"
      ]
     },
     "metadata": {},
     "output_type": "display_data"
    },
    {
     "data": {
      "text/html": [
       "<div>\n",
       "<style scoped>\n",
       "    .dataframe tbody tr th:only-of-type {\n",
       "        vertical-align: middle;\n",
       "    }\n",
       "\n",
       "    .dataframe tbody tr th {\n",
       "        vertical-align: top;\n",
       "    }\n",
       "\n",
       "    .dataframe thead th {\n",
       "        text-align: right;\n",
       "    }\n",
       "</style>\n",
       "<table border=\"1\" class=\"dataframe\">\n",
       "  <thead>\n",
       "    <tr style=\"text-align: right;\">\n",
       "      <th></th>\n",
       "      <th>report_date</th>\n",
       "      <th>paying_account_change_flag</th>\n",
       "      <th>paying_account_flag</th>\n",
       "      <th>first_paying_date</th>\n",
       "      <th>last_paid_date</th>\n",
       "      <th>recent_paying_date</th>\n",
       "      <th>entitlement</th>\n",
       "    </tr>\n",
       "  </thead>\n",
       "  <tbody>\n",
       "    <tr>\n",
       "      <th>0</th>\n",
       "      <td>2023-01-01</td>\n",
       "      <td>NonPaying to Paying</td>\n",
       "      <td>Paying</td>\n",
       "      <td>2023-01-01</td>\n",
       "      <td>2023-01-01</td>\n",
       "      <td>2023-01-01</td>\n",
       "      <td>Premium</td>\n",
       "    </tr>\n",
       "    <tr>\n",
       "      <th>1</th>\n",
       "      <td>2023-01-02</td>\n",
       "      <td>No Change</td>\n",
       "      <td>Paying</td>\n",
       "      <td>2023-01-01</td>\n",
       "      <td>2023-01-01</td>\n",
       "      <td>2023-01-02</td>\n",
       "      <td>Premium</td>\n",
       "    </tr>\n",
       "    <tr>\n",
       "      <th>2</th>\n",
       "      <td>2023-01-03</td>\n",
       "      <td>No Change</td>\n",
       "      <td>Paying</td>\n",
       "      <td>2023-01-01</td>\n",
       "      <td>2023-01-01</td>\n",
       "      <td>2023-01-03</td>\n",
       "      <td>Premium</td>\n",
       "    </tr>\n",
       "    <tr>\n",
       "      <th>3</th>\n",
       "      <td>2023-01-04</td>\n",
       "      <td>No Change</td>\n",
       "      <td>Paying</td>\n",
       "      <td>2023-01-01</td>\n",
       "      <td>2023-01-01</td>\n",
       "      <td>2023-01-04</td>\n",
       "      <td>Premium</td>\n",
       "    </tr>\n",
       "    <tr>\n",
       "      <th>4</th>\n",
       "      <td>2023-01-05</td>\n",
       "      <td>No Change</td>\n",
       "      <td>Paying</td>\n",
       "      <td>2023-01-01</td>\n",
       "      <td>2023-01-01</td>\n",
       "      <td>2023-01-05</td>\n",
       "      <td>Premium</td>\n",
       "    </tr>\n",
       "    <tr>\n",
       "      <th>5</th>\n",
       "      <td>2023-01-06</td>\n",
       "      <td>No Change</td>\n",
       "      <td>Paying</td>\n",
       "      <td>2023-01-01</td>\n",
       "      <td>2023-01-01</td>\n",
       "      <td>2023-01-06</td>\n",
       "      <td>Premium</td>\n",
       "    </tr>\n",
       "    <tr>\n",
       "      <th>6</th>\n",
       "      <td>2023-01-07</td>\n",
       "      <td>No Change</td>\n",
       "      <td>Paying</td>\n",
       "      <td>2023-01-01</td>\n",
       "      <td>2023-01-01</td>\n",
       "      <td>2023-01-07</td>\n",
       "      <td>Premium</td>\n",
       "    </tr>\n",
       "    <tr>\n",
       "      <th>7</th>\n",
       "      <td>2023-01-08</td>\n",
       "      <td>No Change</td>\n",
       "      <td>Paying</td>\n",
       "      <td>2023-01-01</td>\n",
       "      <td>2023-01-01</td>\n",
       "      <td>2023-01-08</td>\n",
       "      <td>Premium</td>\n",
       "    </tr>\n",
       "    <tr>\n",
       "      <th>8</th>\n",
       "      <td>2023-01-09</td>\n",
       "      <td>No Change</td>\n",
       "      <td>Paying</td>\n",
       "      <td>2023-01-01</td>\n",
       "      <td>2023-01-01</td>\n",
       "      <td>2023-01-09</td>\n",
       "      <td>Premium</td>\n",
       "    </tr>\n",
       "    <tr>\n",
       "      <th>9</th>\n",
       "      <td>2023-01-10</td>\n",
       "      <td>No Change</td>\n",
       "      <td>Paying</td>\n",
       "      <td>2023-01-01</td>\n",
       "      <td>2023-01-01</td>\n",
       "      <td>2023-01-10</td>\n",
       "      <td>Premium</td>\n",
       "    </tr>\n",
       "    <tr>\n",
       "      <th>10</th>\n",
       "      <td>2023-01-11</td>\n",
       "      <td>No Change</td>\n",
       "      <td>Paying</td>\n",
       "      <td>2023-01-01</td>\n",
       "      <td>2023-01-01</td>\n",
       "      <td>2023-01-11</td>\n",
       "      <td>Premium</td>\n",
       "    </tr>\n",
       "    <tr>\n",
       "      <th>11</th>\n",
       "      <td>2023-01-12</td>\n",
       "      <td>No Change</td>\n",
       "      <td>Paying</td>\n",
       "      <td>2023-01-01</td>\n",
       "      <td>2023-01-01</td>\n",
       "      <td>2023-01-12</td>\n",
       "      <td>Premium</td>\n",
       "    </tr>\n",
       "    <tr>\n",
       "      <th>12</th>\n",
       "      <td>2023-01-13</td>\n",
       "      <td>No Change</td>\n",
       "      <td>Paying</td>\n",
       "      <td>2023-01-01</td>\n",
       "      <td>2023-01-01</td>\n",
       "      <td>2023-01-13</td>\n",
       "      <td>Premium</td>\n",
       "    </tr>\n",
       "    <tr>\n",
       "      <th>13</th>\n",
       "      <td>2023-01-14</td>\n",
       "      <td>No Change</td>\n",
       "      <td>Paying</td>\n",
       "      <td>2023-01-01</td>\n",
       "      <td>2023-01-01</td>\n",
       "      <td>2023-01-14</td>\n",
       "      <td>Premium</td>\n",
       "    </tr>\n",
       "    <tr>\n",
       "      <th>14</th>\n",
       "      <td>2023-01-15</td>\n",
       "      <td>No Change</td>\n",
       "      <td>Paying</td>\n",
       "      <td>2023-01-01</td>\n",
       "      <td>2023-01-01</td>\n",
       "      <td>2023-01-15</td>\n",
       "      <td>Premium</td>\n",
       "    </tr>\n",
       "    <tr>\n",
       "      <th>15</th>\n",
       "      <td>2023-01-16</td>\n",
       "      <td>No Change</td>\n",
       "      <td>Paying</td>\n",
       "      <td>2023-01-01</td>\n",
       "      <td>2023-01-01</td>\n",
       "      <td>2023-01-16</td>\n",
       "      <td>Premium</td>\n",
       "    </tr>\n",
       "    <tr>\n",
       "      <th>16</th>\n",
       "      <td>2023-01-17</td>\n",
       "      <td>No Change</td>\n",
       "      <td>Paying</td>\n",
       "      <td>2023-01-01</td>\n",
       "      <td>2023-01-01</td>\n",
       "      <td>2023-01-17</td>\n",
       "      <td>Premium</td>\n",
       "    </tr>\n",
       "    <tr>\n",
       "      <th>17</th>\n",
       "      <td>2023-01-18</td>\n",
       "      <td>No Change</td>\n",
       "      <td>Paying</td>\n",
       "      <td>2023-01-01</td>\n",
       "      <td>2023-01-01</td>\n",
       "      <td>2023-01-18</td>\n",
       "      <td>Premium</td>\n",
       "    </tr>\n",
       "    <tr>\n",
       "      <th>18</th>\n",
       "      <td>2023-01-19</td>\n",
       "      <td>No Change</td>\n",
       "      <td>Paying</td>\n",
       "      <td>2023-01-01</td>\n",
       "      <td>2023-01-01</td>\n",
       "      <td>2023-01-19</td>\n",
       "      <td>Premium</td>\n",
       "    </tr>\n",
       "    <tr>\n",
       "      <th>19</th>\n",
       "      <td>2023-01-20</td>\n",
       "      <td>No Change</td>\n",
       "      <td>Paying</td>\n",
       "      <td>2023-01-01</td>\n",
       "      <td>2023-01-01</td>\n",
       "      <td>2023-01-20</td>\n",
       "      <td>Premium</td>\n",
       "    </tr>\n",
       "    <tr>\n",
       "      <th>20</th>\n",
       "      <td>2023-01-21</td>\n",
       "      <td>No Change</td>\n",
       "      <td>Paying</td>\n",
       "      <td>2023-01-01</td>\n",
       "      <td>2023-01-01</td>\n",
       "      <td>2023-01-21</td>\n",
       "      <td>Premium</td>\n",
       "    </tr>\n",
       "    <tr>\n",
       "      <th>21</th>\n",
       "      <td>2023-01-22</td>\n",
       "      <td>No Change</td>\n",
       "      <td>Paying</td>\n",
       "      <td>2023-01-01</td>\n",
       "      <td>2023-01-01</td>\n",
       "      <td>2023-01-22</td>\n",
       "      <td>Premium</td>\n",
       "    </tr>\n",
       "    <tr>\n",
       "      <th>22</th>\n",
       "      <td>2023-01-23</td>\n",
       "      <td>No Change</td>\n",
       "      <td>Paying</td>\n",
       "      <td>2023-01-01</td>\n",
       "      <td>2023-01-01</td>\n",
       "      <td>2023-01-23</td>\n",
       "      <td>Premium</td>\n",
       "    </tr>\n",
       "    <tr>\n",
       "      <th>23</th>\n",
       "      <td>2023-01-24</td>\n",
       "      <td>No Change</td>\n",
       "      <td>Paying</td>\n",
       "      <td>2023-01-01</td>\n",
       "      <td>2023-01-01</td>\n",
       "      <td>2023-01-24</td>\n",
       "      <td>Premium</td>\n",
       "    </tr>\n",
       "    <tr>\n",
       "      <th>24</th>\n",
       "      <td>2023-01-25</td>\n",
       "      <td>No Change</td>\n",
       "      <td>Paying</td>\n",
       "      <td>2023-01-01</td>\n",
       "      <td>2023-01-01</td>\n",
       "      <td>2023-01-25</td>\n",
       "      <td>Premium</td>\n",
       "    </tr>\n",
       "    <tr>\n",
       "      <th>25</th>\n",
       "      <td>2023-01-26</td>\n",
       "      <td>Paying to NonPaying</td>\n",
       "      <td>NonPaying</td>\n",
       "      <td>2023-01-01</td>\n",
       "      <td>2023-01-01</td>\n",
       "      <td>2023-01-25</td>\n",
       "      <td>Free</td>\n",
       "    </tr>\n",
       "    <tr>\n",
       "      <th>26</th>\n",
       "      <td>2023-01-27</td>\n",
       "      <td>No Change</td>\n",
       "      <td>NonPaying</td>\n",
       "      <td>2023-01-01</td>\n",
       "      <td>2023-01-01</td>\n",
       "      <td>2023-01-25</td>\n",
       "      <td>Free</td>\n",
       "    </tr>\n",
       "    <tr>\n",
       "      <th>27</th>\n",
       "      <td>2023-01-28</td>\n",
       "      <td>No Change</td>\n",
       "      <td>NonPaying</td>\n",
       "      <td>2023-01-01</td>\n",
       "      <td>2023-01-01</td>\n",
       "      <td>2023-01-25</td>\n",
       "      <td>Free</td>\n",
       "    </tr>\n",
       "    <tr>\n",
       "      <th>28</th>\n",
       "      <td>2023-01-29</td>\n",
       "      <td>No Change</td>\n",
       "      <td>NonPaying</td>\n",
       "      <td>2023-01-01</td>\n",
       "      <td>2023-01-01</td>\n",
       "      <td>2023-01-25</td>\n",
       "      <td>Free</td>\n",
       "    </tr>\n",
       "    <tr>\n",
       "      <th>29</th>\n",
       "      <td>2023-01-30</td>\n",
       "      <td>No Change</td>\n",
       "      <td>NonPaying</td>\n",
       "      <td>2023-01-01</td>\n",
       "      <td>2023-01-01</td>\n",
       "      <td>2023-01-25</td>\n",
       "      <td>Free</td>\n",
       "    </tr>\n",
       "    <tr>\n",
       "      <th>30</th>\n",
       "      <td>2023-01-31</td>\n",
       "      <td>No Change</td>\n",
       "      <td>NonPaying</td>\n",
       "      <td>2023-01-01</td>\n",
       "      <td>2023-01-01</td>\n",
       "      <td>2023-01-25</td>\n",
       "      <td>Free</td>\n",
       "    </tr>\n",
       "  </tbody>\n",
       "</table>\n",
       "</div>"
      ],
      "text/plain": [
       "   report_date paying_account_change_flag paying_account_flag  \\\n",
       "0   2023-01-01        NonPaying to Paying              Paying   \n",
       "1   2023-01-02                  No Change              Paying   \n",
       "2   2023-01-03                  No Change              Paying   \n",
       "3   2023-01-04                  No Change              Paying   \n",
       "4   2023-01-05                  No Change              Paying   \n",
       "5   2023-01-06                  No Change              Paying   \n",
       "6   2023-01-07                  No Change              Paying   \n",
       "7   2023-01-08                  No Change              Paying   \n",
       "8   2023-01-09                  No Change              Paying   \n",
       "9   2023-01-10                  No Change              Paying   \n",
       "10  2023-01-11                  No Change              Paying   \n",
       "11  2023-01-12                  No Change              Paying   \n",
       "12  2023-01-13                  No Change              Paying   \n",
       "13  2023-01-14                  No Change              Paying   \n",
       "14  2023-01-15                  No Change              Paying   \n",
       "15  2023-01-16                  No Change              Paying   \n",
       "16  2023-01-17                  No Change              Paying   \n",
       "17  2023-01-18                  No Change              Paying   \n",
       "18  2023-01-19                  No Change              Paying   \n",
       "19  2023-01-20                  No Change              Paying   \n",
       "20  2023-01-21                  No Change              Paying   \n",
       "21  2023-01-22                  No Change              Paying   \n",
       "22  2023-01-23                  No Change              Paying   \n",
       "23  2023-01-24                  No Change              Paying   \n",
       "24  2023-01-25                  No Change              Paying   \n",
       "25  2023-01-26        Paying to NonPaying           NonPaying   \n",
       "26  2023-01-27                  No Change           NonPaying   \n",
       "27  2023-01-28                  No Change           NonPaying   \n",
       "28  2023-01-29                  No Change           NonPaying   \n",
       "29  2023-01-30                  No Change           NonPaying   \n",
       "30  2023-01-31                  No Change           NonPaying   \n",
       "\n",
       "   first_paying_date last_paid_date recent_paying_date entitlement  \n",
       "0         2023-01-01     2023-01-01         2023-01-01     Premium  \n",
       "1         2023-01-01     2023-01-01         2023-01-02     Premium  \n",
       "2         2023-01-01     2023-01-01         2023-01-03     Premium  \n",
       "3         2023-01-01     2023-01-01         2023-01-04     Premium  \n",
       "4         2023-01-01     2023-01-01         2023-01-05     Premium  \n",
       "5         2023-01-01     2023-01-01         2023-01-06     Premium  \n",
       "6         2023-01-01     2023-01-01         2023-01-07     Premium  \n",
       "7         2023-01-01     2023-01-01         2023-01-08     Premium  \n",
       "8         2023-01-01     2023-01-01         2023-01-09     Premium  \n",
       "9         2023-01-01     2023-01-01         2023-01-10     Premium  \n",
       "10        2023-01-01     2023-01-01         2023-01-11     Premium  \n",
       "11        2023-01-01     2023-01-01         2023-01-12     Premium  \n",
       "12        2023-01-01     2023-01-01         2023-01-13     Premium  \n",
       "13        2023-01-01     2023-01-01         2023-01-14     Premium  \n",
       "14        2023-01-01     2023-01-01         2023-01-15     Premium  \n",
       "15        2023-01-01     2023-01-01         2023-01-16     Premium  \n",
       "16        2023-01-01     2023-01-01         2023-01-17     Premium  \n",
       "17        2023-01-01     2023-01-01         2023-01-18     Premium  \n",
       "18        2023-01-01     2023-01-01         2023-01-19     Premium  \n",
       "19        2023-01-01     2023-01-01         2023-01-20     Premium  \n",
       "20        2023-01-01     2023-01-01         2023-01-21     Premium  \n",
       "21        2023-01-01     2023-01-01         2023-01-22     Premium  \n",
       "22        2023-01-01     2023-01-01         2023-01-23     Premium  \n",
       "23        2023-01-01     2023-01-01         2023-01-24     Premium  \n",
       "24        2023-01-01     2023-01-01         2023-01-25     Premium  \n",
       "25        2023-01-01     2023-01-01         2023-01-25        Free  \n",
       "26        2023-01-01     2023-01-01         2023-01-25        Free  \n",
       "27        2023-01-01     2023-01-01         2023-01-25        Free  \n",
       "28        2023-01-01     2023-01-01         2023-01-25        Free  \n",
       "29        2023-01-01     2023-01-01         2023-01-25        Free  \n",
       "30        2023-01-01     2023-01-01         2023-01-25        Free  "
      ]
     },
     "execution_count": 66,
     "metadata": {},
     "output_type": "execute_result"
    }
   ],
   "source": [
    "%%bigquery\n",
    "\n",
    "select report_date, paying_account_change_flag, paying_account_flag, first_paying_date, last_paid_date, recent_paying_date, entitlement, entitlement_change_flag, bundling_partner\n",
    "FROM `nbcu-ds-prod-001.PeacockDataMartSilver.SILVER_USER`\n",
    "WHERE adobe_tracking_id = 'SZdd2ZQXBorOfSD32S+w+KyChyjmb+65sLULqeXTIh4='\n",
    "and report_date between '2023-01-01' and '2023-01-31'\n",
    "order by 1"
   ]
  },
  {
   "attachments": {},
   "cell_type": "markdown",
   "metadata": {},
   "source": [
    "## Fixed?"
   ]
  },
  {
   "cell_type": "code",
   "execution_count": 69,
   "metadata": {
    "vscode": {
     "languageId": "sql"
    }
   },
   "outputs": [
    {
     "data": {
      "application/vnd.jupyter.widget-view+json": {
       "model_id": "2aee9e26d49b4f5bbb168505babd6115",
       "version_major": 2,
       "version_minor": 0
      },
      "text/plain": [
       "Query is running:   0%|          |"
      ]
     },
     "metadata": {},
     "output_type": "display_data"
    },
    {
     "data": {
      "application/vnd.jupyter.widget-view+json": {
       "model_id": "456a508e4e5246518d4c28362007095e",
       "version_major": 2,
       "version_minor": 0
      },
      "text/plain": [
       "Downloading:   0%|          |"
      ]
     },
     "metadata": {},
     "output_type": "display_data"
    },
    {
     "data": {
      "text/html": [
       "<div>\n",
       "<style scoped>\n",
       "    .dataframe tbody tr th:only-of-type {\n",
       "        vertical-align: middle;\n",
       "    }\n",
       "\n",
       "    .dataframe tbody tr th {\n",
       "        vertical-align: top;\n",
       "    }\n",
       "\n",
       "    .dataframe thead th {\n",
       "        text-align: right;\n",
       "    }\n",
       "</style>\n",
       "<table border=\"1\" class=\"dataframe\">\n",
       "  <thead>\n",
       "    <tr style=\"text-align: right;\">\n",
       "      <th></th>\n",
       "      <th>Free_To_Paid_Denom</th>\n",
       "      <th>Free_To_Paid_Num</th>\n",
       "      <th>Net_New_Upgrade_Denom</th>\n",
       "      <th>Net_New_Upgrade_Num</th>\n",
       "      <th>Paid_Winbacks_Denom</th>\n",
       "      <th>Paid_Winbacks_Num</th>\n",
       "    </tr>\n",
       "  </thead>\n",
       "  <tbody>\n",
       "    <tr>\n",
       "      <th>0</th>\n",
       "      <td>2828980374</td>\n",
       "      <td>46186019</td>\n",
       "      <td>2413825238</td>\n",
       "      <td>21035509</td>\n",
       "      <td>415155136</td>\n",
       "      <td>25150510</td>\n",
       "    </tr>\n",
       "  </tbody>\n",
       "</table>\n",
       "</div>"
      ],
      "text/plain": [
       "   Free_To_Paid_Denom  Free_To_Paid_Num  Net_New_Upgrade_Denom  \\\n",
       "0          2828980374          46186019             2413825238   \n",
       "\n",
       "   Net_New_Upgrade_Num  Paid_Winbacks_Denom  Paid_Winbacks_Num  \n",
       "0             21035509            415155136           25150510  "
      ]
     },
     "execution_count": 69,
     "metadata": {},
     "output_type": "execute_result"
    }
   ],
   "source": [
    "%%bigquery --params {'report_start_date': '2023-01-01', 'report_end_date': '2023-01-31'}\n",
    "WITH\n",
    "    Free_To_Paid_Denom AS (\n",
    "        SELECT  DISTINCT adobe_tracking_id\n",
    "        FROM `nbcu-ds-prod-001.PeacockDataMartSilver.SILVER_USER`\n",
    "        WHERE (paying_account_flag = 'NonPaying')\n",
    "        AND (report_date BETWEEN DATE_SUB(@report_start_date, INTERVAL 1 DAY) AND @report_end_date )\n",
    "    )\n",
    "    , Free_To_Paid_Num AS (\n",
    "        SELECT  DISTINCT adobe_tracking_id\n",
    "        FROM `nbcu-ds-prod-001.PeacockDataMartSilver.SILVER_USER`\n",
    "        WHERE (paying_account_flag = 'Paying')\n",
    "        AND (paying_account_change_flag = 'NonPaying to Paying') \n",
    "        AND (report_date BETWEEN @report_start_date AND @report_end_date)\n",
    "    )\n",
    "    , Net_New_Upgrade_Denom AS (\n",
    "        SELECT  DISTINCT adobe_tracking_id\n",
    "        FROM `nbcu-ds-prod-001.PeacockDataMartSilver.SILVER_USER` \n",
    "        WHERE (paying_account_flag = 'NonPaying')\n",
    "        AND (first_paying_date IS NULL)\n",
    "        AND (report_date BETWEEN DATE_SUB(@report_start_date, INTERVAL 1 DAY) AND @report_end_date) \n",
    "    )\n",
    "    , Net_New_Upgrade_Num AS (\n",
    "        SELECT  DISTINCT adobe_tracking_id\n",
    "        FROM `nbcu-ds-prod-001.PeacockDataMartSilver.SILVER_USER`\n",
    "        WHERE (paying_account_flag = 'Paying')\n",
    "        AND (paying_account_change_flag = 'NonPaying to Paying')\n",
    "        AND (first_paying_date = last_paid_date)\n",
    "        AND (report_date BETWEEN @report_start_date AND @report_end_date) \n",
    "    )\n",
    "    , Paid_Winbacks_Denom AS (\n",
    "        SELECT  DISTINCT adobe_tracking_id\n",
    "        FROM\n",
    "        (\n",
    "            SELECT  adobe_tracking_id\n",
    "                ,report_date\n",
    "            FROM `nbcu-ds-prod-001.PeacockDataMartSilver.SILVER_USER`\n",
    "            WHERE paying_account_flag = 'NonPaying'\n",
    "            AND report_date BETWEEN DATE_SUB(@report_start_date, INTERVAL 1 DAY) AND @report_end_date \n",
    "        )\n",
    "        WHERE adobe_tracking_id NOT IN ( \n",
    "            SELECT DISTINCT adobe_tracking_id \n",
    "            FROM `nbcu-ds-prod-001.PeacockDataMartSilver.SILVER_USER` \n",
    "            WHERE (first_paying_date IS NULL)\n",
    "            AND (report_date BETWEEN DATE_SUB(@report_start_date, INTERVAL 1 DAY) AND @report_end_date)\n",
    "        ) \n",
    "    )\n",
    "    , Paid_Winbacks_Num AS (\n",
    "        SELECT  DISTINCT adobe_tracking_id\n",
    "        FROM `nbcu-ds-prod-001.PeacockDataMartSilver.SILVER_USER`\n",
    "        WHERE (paying_account_flag = 'Paying')\n",
    "        AND (paying_account_change_flag = 'NonPaying to Paying')\n",
    "        AND (first_paying_date != last_paid_date)\n",
    "        AND (report_date BETWEEN @report_start_date AND @report_end_date) \n",
    "    )\n",
    "SELECT  COUNT(Free_To_Paid_Denom.adobe_tracking_id) AS Free_To_Paid_Denom\n",
    "       ,COUNT(Free_To_Paid_Num.adobe_tracking_id) AS Free_To_Paid_Num\n",
    "       ,COUNT(Net_New_Upgrade_Denom.adobe_tracking_id) AS Net_New_Upgrade_Denom\n",
    "       ,COUNT(Net_New_Upgrade_Num.adobe_tracking_id) AS Net_New_Upgrade_Num\n",
    "       ,COUNT(Paid_Winbacks_Denom.adobe_tracking_id) AS Paid_Winbacks_Denom\n",
    "       ,COUNT(Paid_Winbacks_Num.adobe_tracking_id) AS Paid_Winbacks_Num\n",
    "FROM (\n",
    "    SELECT adobe_tracking_id\n",
    "    FROM `nbcu-ds-prod-001.PeacockDataMartSilver.SILVER_USER`\n",
    "    WHERE report_date BETWEEN @report_start_date AND @report_end_date\n",
    ") a\n",
    "LEFT JOIN Free_To_Paid_Denom\n",
    "ON a.adobe_tracking_id = Free_To_Paid_Denom.adobe_tracking_id\n",
    "LEFT JOIN Free_To_Paid_Num\n",
    "ON Free_To_Paid_Denom.adobe_tracking_id = Free_To_Paid_Num.adobe_tracking_id\n",
    "LEFT JOIN Net_New_Upgrade_Denom\n",
    "ON a.adobe_tracking_id = Net_New_Upgrade_Denom.adobe_tracking_id\n",
    "LEFT JOIN Net_New_Upgrade_Num\n",
    "ON Net_New_Upgrade_Denom.adobe_tracking_id = Net_New_Upgrade_Num.adobe_tracking_id\n",
    "LEFT JOIN Paid_Winbacks_Denom\n",
    "ON a.adobe_tracking_id = Paid_Winbacks_Denom.adobe_tracking_id\n",
    "LEFT JOIN Paid_Winbacks_Num\n",
    "ON Paid_Winbacks_Num.adobe_tracking_id = Paid_Winbacks_Denom.adobe_tracking_id"
   ]
  },
  {
   "cell_type": "code",
   "execution_count": 72,
   "metadata": {
    "vscode": {
     "languageId": "sql"
    }
   },
   "outputs": [
    {
     "data": {
      "text/plain": [
       "0.01632603019253042"
      ]
     },
     "execution_count": 72,
     "metadata": {},
     "output_type": "execute_result"
    }
   ],
   "source": [
    "46186019/2828980374"
   ]
  },
  {
   "cell_type": "code",
   "execution_count": 70,
   "metadata": {
    "vscode": {
     "languageId": "sql"
    }
   },
   "outputs": [
    {
     "data": {
      "text/plain": [
       "46186019"
      ]
     },
     "execution_count": 70,
     "metadata": {},
     "output_type": "execute_result"
    }
   ],
   "source": [
    "21035509 + 25150510"
   ]
  },
  {
   "cell_type": "code",
   "execution_count": 71,
   "metadata": {
    "vscode": {
     "languageId": "sql"
    }
   },
   "outputs": [
    {
     "data": {
      "text/plain": [
       "2828980374"
      ]
     },
     "execution_count": 71,
     "metadata": {},
     "output_type": "execute_result"
    }
   ],
   "source": [
    "2413825238 + 415155136"
   ]
  },
  {
   "attachments": {},
   "cell_type": "markdown",
   "metadata": {},
   "source": [
    "# Previously Bundled Comparison"
   ]
  },
  {
   "cell_type": "code",
   "execution_count": 68,
   "metadata": {
    "vscode": {
     "languageId": "sql"
    }
   },
   "outputs": [
    {
     "data": {
      "application/vnd.jupyter.widget-view+json": {
       "model_id": "3186e244eaee4a3bbe84b66de3e29f7b",
       "version_major": 2,
       "version_minor": 0
      },
      "text/plain": [
       "Query is running:   0%|          |"
      ]
     },
     "metadata": {},
     "output_type": "display_data"
    },
    {
     "data": {
      "application/vnd.jupyter.widget-view+json": {
       "model_id": "8d3aa011921c4764b9ab623b649a63e1",
       "version_major": 2,
       "version_minor": 0
      },
      "text/plain": [
       "Downloading:   0%|          |"
      ]
     },
     "metadata": {},
     "output_type": "display_data"
    },
    {
     "data": {
      "text/html": [
       "<div>\n",
       "<style scoped>\n",
       "    .dataframe tbody tr th:only-of-type {\n",
       "        vertical-align: middle;\n",
       "    }\n",
       "\n",
       "    .dataframe tbody tr th {\n",
       "        vertical-align: top;\n",
       "    }\n",
       "\n",
       "    .dataframe thead th {\n",
       "        text-align: right;\n",
       "    }\n",
       "</style>\n",
       "<table border=\"1\" class=\"dataframe\">\n",
       "  <thead>\n",
       "    <tr style=\"text-align: right;\">\n",
       "      <th></th>\n",
       "      <th>adobe_tracking_id</th>\n",
       "      <th>last_bundled_date</th>\n",
       "    </tr>\n",
       "  </thead>\n",
       "  <tbody>\n",
       "    <tr>\n",
       "      <th>0</th>\n",
       "      <td>LQ4NXTSPA/Qw+BpCLPDuMqOjW1DVpPRN19E26vf7BoE=</td>\n",
       "      <td>2023-06-25</td>\n",
       "    </tr>\n",
       "  </tbody>\n",
       "</table>\n",
       "</div>"
      ],
      "text/plain": [
       "                              adobe_tracking_id last_bundled_date\n",
       "0  LQ4NXTSPA/Qw+BpCLPDuMqOjW1DVpPRN19E26vf7BoE=        2023-06-25"
      ]
     },
     "execution_count": 68,
     "metadata": {},
     "output_type": "execute_result"
    }
   ],
   "source": [
    "%%bigquery\n",
    "\n",
    "select adobe_tracking_id, last_bundled_date\n",
    "FROM `nbcu-ds-sandbox-a-001.SLi_sandbox.previously_bundled_v2`\n",
    "WHERE adobe_tracking_id = 'LQ4NXTSPA/Qw+BpCLPDuMqOjW1DVpPRN19E26vf7BoE='"
   ]
  },
  {
   "cell_type": "markdown",
   "metadata": {},
   "source": [
    "# Holdout churn rates"
   ]
  },
  {
   "cell_type": "code",
   "execution_count": 62,
   "metadata": {
    "vscode": {
     "languageId": "sql"
    }
   },
   "outputs": [
    {
     "data": {
      "application/vnd.jupyter.widget-view+json": {
       "model_id": "a6ccd5e705354997abd2ef262290fa2b",
       "version_major": 2,
       "version_minor": 0
      },
      "text/plain": [
       "Query is running:   0%|          |"
      ]
     },
     "metadata": {},
     "output_type": "display_data"
    },
    {
     "data": {
      "application/vnd.jupyter.widget-view+json": {
       "model_id": "b21875ae56df4f16b8b0b75d7343c30d",
       "version_major": 2,
       "version_minor": 0
      },
      "text/plain": [
       "Downloading:   0%|          |"
      ]
     },
     "metadata": {},
     "output_type": "display_data"
    },
    {
     "data": {
      "text/html": [
       "<div>\n",
       "<style scoped>\n",
       "    .dataframe tbody tr th:only-of-type {\n",
       "        vertical-align: middle;\n",
       "    }\n",
       "\n",
       "    .dataframe tbody tr th {\n",
       "        vertical-align: top;\n",
       "    }\n",
       "\n",
       "    .dataframe thead th {\n",
       "        text-align: right;\n",
       "    }\n",
       "</style>\n",
       "<table border=\"1\" class=\"dataframe\">\n",
       "  <thead>\n",
       "    <tr style=\"text-align: right;\">\n",
       "      <th></th>\n",
       "      <th>ReportDateTime</th>\n",
       "      <th>HouseholdId</th>\n",
       "      <th>TrackingId</th>\n",
       "      <th>RegistrationDate</th>\n",
       "      <th>Hold_Out_Flag_Original</th>\n",
       "      <th>Hold_Out_Type_Original</th>\n",
       "      <th>User_Status_Original</th>\n",
       "      <th>Cohort</th>\n",
       "      <th>Hold_Out_Flag_Current</th>\n",
       "      <th>Hold_Out_Type_Current</th>\n",
       "      <th>User_Status_Current</th>\n",
       "      <th>Run_Type</th>\n",
       "      <th>ActivityType</th>\n",
       "      <th>ActivityTimestamp</th>\n",
       "    </tr>\n",
       "  </thead>\n",
       "  <tbody>\n",
       "    <tr>\n",
       "      <th>0</th>\n",
       "      <td>2022-02-22 11:00:00</td>\n",
       "      <td>f753863ccb55f124916aa79c19473d09f88728f7f45863...</td>\n",
       "      <td>5vt9Y1eIwRjSHTvLClJK5c7vwPVS7NRtibF2pVOunBg=</td>\n",
       "      <td>2022-02-22 11:01:10.188</td>\n",
       "      <td>No</td>\n",
       "      <td>Targetable</td>\n",
       "      <td>Targetable_New_Segment</td>\n",
       "      <td>January2022</td>\n",
       "      <td>No</td>\n",
       "      <td>Targetable</td>\n",
       "      <td>Targetable_New_Segment</td>\n",
       "      <td>Hourly</td>\n",
       "      <td>Created</td>\n",
       "      <td>2022-02-22 11:00:00</td>\n",
       "    </tr>\n",
       "    <tr>\n",
       "      <th>1</th>\n",
       "      <td>2022-02-22 11:00:00</td>\n",
       "      <td>3cca8c7e9269ff604cd666d4da3e8b2d97ffefe49de8f7...</td>\n",
       "      <td>1Wm5VTchxcAvvw4zXgcSQPSsmxn3vlJutQifgY2xwiU=</td>\n",
       "      <td>2022-02-22 11:24:26.015</td>\n",
       "      <td>No</td>\n",
       "      <td>Targetable</td>\n",
       "      <td>Targetable_New_Segment</td>\n",
       "      <td>January2022</td>\n",
       "      <td>No</td>\n",
       "      <td>Targetable</td>\n",
       "      <td>Targetable_New_Segment</td>\n",
       "      <td>Hourly</td>\n",
       "      <td>Created</td>\n",
       "      <td>2022-02-22 11:00:00</td>\n",
       "    </tr>\n",
       "    <tr>\n",
       "      <th>2</th>\n",
       "      <td>2022-02-22 11:00:00</td>\n",
       "      <td>8335072992a2116eb9d5490c18ab3b35912ec6dfa3f4ce...</td>\n",
       "      <td>/kYaAGVm5EXmD1fPiDVj7zwhKdwBCSECuOVs0szw6hg=</td>\n",
       "      <td>2022-02-22 11:49:15.975</td>\n",
       "      <td>No</td>\n",
       "      <td>Targetable</td>\n",
       "      <td>Targetable_New_Segment</td>\n",
       "      <td>January2022</td>\n",
       "      <td>No</td>\n",
       "      <td>Targetable</td>\n",
       "      <td>Targetable_New_Segment</td>\n",
       "      <td>Hourly</td>\n",
       "      <td>Created</td>\n",
       "      <td>2022-02-22 11:00:00</td>\n",
       "    </tr>\n",
       "    <tr>\n",
       "      <th>3</th>\n",
       "      <td>2022-02-22 11:00:00</td>\n",
       "      <td>cab955c22e5bf895e8120ab8f3512171a70446bd30e3e2...</td>\n",
       "      <td>WDvYTGYrZs3uJAoOvdbhFoHOdh9bJlERMKZISo4IT10=</td>\n",
       "      <td>2022-02-22 11:16:09.785</td>\n",
       "      <td>No</td>\n",
       "      <td>Targetable</td>\n",
       "      <td>Targetable_New_Segment</td>\n",
       "      <td>January2022</td>\n",
       "      <td>No</td>\n",
       "      <td>Targetable</td>\n",
       "      <td>Targetable_New_Segment</td>\n",
       "      <td>Hourly</td>\n",
       "      <td>Created</td>\n",
       "      <td>2022-02-22 11:00:00</td>\n",
       "    </tr>\n",
       "    <tr>\n",
       "      <th>4</th>\n",
       "      <td>2022-02-22 11:00:00</td>\n",
       "      <td>cac1ac5283557a08173f9f63471b8f19e9d367f23b3559...</td>\n",
       "      <td>HkIdBTH8IGBuIFHVZ+3fHBPDl7r5jLOCy3QqIyL8+/k=</td>\n",
       "      <td>2022-02-22 11:18:36.169</td>\n",
       "      <td>No</td>\n",
       "      <td>Targetable</td>\n",
       "      <td>Targetable_New_Segment</td>\n",
       "      <td>January2022</td>\n",
       "      <td>No</td>\n",
       "      <td>Targetable</td>\n",
       "      <td>Targetable_New_Segment</td>\n",
       "      <td>Hourly</td>\n",
       "      <td>Created</td>\n",
       "      <td>2022-02-22 11:00:00</td>\n",
       "    </tr>\n",
       "    <tr>\n",
       "      <th>5</th>\n",
       "      <td>2022-02-22 11:00:00</td>\n",
       "      <td>ab47b726fd61064cf7b4033e4841969e8fbd3892490457...</td>\n",
       "      <td>VDNke9XiVUa0iR1H2Xpbxz9qAVRTaKPRGHoGZOkdROw=</td>\n",
       "      <td>2022-02-22 11:23:37.963</td>\n",
       "      <td>No</td>\n",
       "      <td>Targetable</td>\n",
       "      <td>Targetable_New_Segment</td>\n",
       "      <td>January2022</td>\n",
       "      <td>No</td>\n",
       "      <td>Targetable</td>\n",
       "      <td>Targetable_New_Segment</td>\n",
       "      <td>Hourly</td>\n",
       "      <td>Created</td>\n",
       "      <td>2022-02-22 11:00:00</td>\n",
       "    </tr>\n",
       "    <tr>\n",
       "      <th>6</th>\n",
       "      <td>2022-02-22 11:00:00</td>\n",
       "      <td>96b88fa8e0dcbe46b6af564fbc1c828d1b085cba41800e...</td>\n",
       "      <td>9hkrBYHjniY9KDtml6ncegIg5SKYrlliRneqiglfM4w=</td>\n",
       "      <td>2022-02-22 11:59:16.783</td>\n",
       "      <td>No</td>\n",
       "      <td>Targetable</td>\n",
       "      <td>Targetable_New_Segment</td>\n",
       "      <td>January2022</td>\n",
       "      <td>No</td>\n",
       "      <td>Targetable</td>\n",
       "      <td>Targetable_New_Segment</td>\n",
       "      <td>Hourly</td>\n",
       "      <td>Created</td>\n",
       "      <td>2022-02-22 11:00:00</td>\n",
       "    </tr>\n",
       "    <tr>\n",
       "      <th>7</th>\n",
       "      <td>2022-02-22 11:00:00</td>\n",
       "      <td>e53ac790f04ac0f2159672314b39b1f451bf350586e25c...</td>\n",
       "      <td>xg8SaZbzVQ49d1eyOVqg5eQY3Hebxgw0awCS0+VlhYY=</td>\n",
       "      <td>2022-02-22 11:49:32.186</td>\n",
       "      <td>No</td>\n",
       "      <td>Targetable</td>\n",
       "      <td>Targetable_New_Segment</td>\n",
       "      <td>January2022</td>\n",
       "      <td>No</td>\n",
       "      <td>Targetable</td>\n",
       "      <td>Targetable_New_Segment</td>\n",
       "      <td>Hourly</td>\n",
       "      <td>Created</td>\n",
       "      <td>2022-02-22 11:00:00</td>\n",
       "    </tr>\n",
       "    <tr>\n",
       "      <th>8</th>\n",
       "      <td>2022-02-22 11:00:00</td>\n",
       "      <td>0c95c0731ef1ea31fccc2e9bbe362bf9b8a056c2096ae6...</td>\n",
       "      <td>4yWc7ewLJojEy8s6jcAGLoq6F57E7hIkHv/Ny0uG2eI=</td>\n",
       "      <td>2022-02-22 11:12:39.368</td>\n",
       "      <td>No</td>\n",
       "      <td>Targetable</td>\n",
       "      <td>Targetable_New_Segment</td>\n",
       "      <td>January2022</td>\n",
       "      <td>No</td>\n",
       "      <td>Targetable</td>\n",
       "      <td>Targetable_New_Segment</td>\n",
       "      <td>Hourly</td>\n",
       "      <td>Created</td>\n",
       "      <td>2022-02-22 11:00:00</td>\n",
       "    </tr>\n",
       "    <tr>\n",
       "      <th>9</th>\n",
       "      <td>2022-02-22 11:00:00</td>\n",
       "      <td>348b1979169d50edc43811c8de3e2f42fecb30fea88d02...</td>\n",
       "      <td>DHSQu8qoApCZHnZ5nvzT3qg2prjPNB+rvxW6rqfkib8=</td>\n",
       "      <td>2022-02-22 11:48:49.214</td>\n",
       "      <td>No</td>\n",
       "      <td>Targetable</td>\n",
       "      <td>Targetable_New_Segment</td>\n",
       "      <td>January2022</td>\n",
       "      <td>No</td>\n",
       "      <td>Targetable</td>\n",
       "      <td>Targetable_New_Segment</td>\n",
       "      <td>Hourly</td>\n",
       "      <td>Created</td>\n",
       "      <td>2022-02-22 11:00:00</td>\n",
       "    </tr>\n",
       "  </tbody>\n",
       "</table>\n",
       "</div>"
      ],
      "text/plain": [
       "       ReportDateTime                                        HouseholdId  \\\n",
       "0 2022-02-22 11:00:00  f753863ccb55f124916aa79c19473d09f88728f7f45863...   \n",
       "1 2022-02-22 11:00:00  3cca8c7e9269ff604cd666d4da3e8b2d97ffefe49de8f7...   \n",
       "2 2022-02-22 11:00:00  8335072992a2116eb9d5490c18ab3b35912ec6dfa3f4ce...   \n",
       "3 2022-02-22 11:00:00  cab955c22e5bf895e8120ab8f3512171a70446bd30e3e2...   \n",
       "4 2022-02-22 11:00:00  cac1ac5283557a08173f9f63471b8f19e9d367f23b3559...   \n",
       "5 2022-02-22 11:00:00  ab47b726fd61064cf7b4033e4841969e8fbd3892490457...   \n",
       "6 2022-02-22 11:00:00  96b88fa8e0dcbe46b6af564fbc1c828d1b085cba41800e...   \n",
       "7 2022-02-22 11:00:00  e53ac790f04ac0f2159672314b39b1f451bf350586e25c...   \n",
       "8 2022-02-22 11:00:00  0c95c0731ef1ea31fccc2e9bbe362bf9b8a056c2096ae6...   \n",
       "9 2022-02-22 11:00:00  348b1979169d50edc43811c8de3e2f42fecb30fea88d02...   \n",
       "\n",
       "                                     TrackingId        RegistrationDate  \\\n",
       "0  5vt9Y1eIwRjSHTvLClJK5c7vwPVS7NRtibF2pVOunBg= 2022-02-22 11:01:10.188   \n",
       "1  1Wm5VTchxcAvvw4zXgcSQPSsmxn3vlJutQifgY2xwiU= 2022-02-22 11:24:26.015   \n",
       "2  /kYaAGVm5EXmD1fPiDVj7zwhKdwBCSECuOVs0szw6hg= 2022-02-22 11:49:15.975   \n",
       "3  WDvYTGYrZs3uJAoOvdbhFoHOdh9bJlERMKZISo4IT10= 2022-02-22 11:16:09.785   \n",
       "4  HkIdBTH8IGBuIFHVZ+3fHBPDl7r5jLOCy3QqIyL8+/k= 2022-02-22 11:18:36.169   \n",
       "5  VDNke9XiVUa0iR1H2Xpbxz9qAVRTaKPRGHoGZOkdROw= 2022-02-22 11:23:37.963   \n",
       "6  9hkrBYHjniY9KDtml6ncegIg5SKYrlliRneqiglfM4w= 2022-02-22 11:59:16.783   \n",
       "7  xg8SaZbzVQ49d1eyOVqg5eQY3Hebxgw0awCS0+VlhYY= 2022-02-22 11:49:32.186   \n",
       "8  4yWc7ewLJojEy8s6jcAGLoq6F57E7hIkHv/Ny0uG2eI= 2022-02-22 11:12:39.368   \n",
       "9  DHSQu8qoApCZHnZ5nvzT3qg2prjPNB+rvxW6rqfkib8= 2022-02-22 11:48:49.214   \n",
       "\n",
       "  Hold_Out_Flag_Original Hold_Out_Type_Original    User_Status_Original  \\\n",
       "0                     No             Targetable  Targetable_New_Segment   \n",
       "1                     No             Targetable  Targetable_New_Segment   \n",
       "2                     No             Targetable  Targetable_New_Segment   \n",
       "3                     No             Targetable  Targetable_New_Segment   \n",
       "4                     No             Targetable  Targetable_New_Segment   \n",
       "5                     No             Targetable  Targetable_New_Segment   \n",
       "6                     No             Targetable  Targetable_New_Segment   \n",
       "7                     No             Targetable  Targetable_New_Segment   \n",
       "8                     No             Targetable  Targetable_New_Segment   \n",
       "9                     No             Targetable  Targetable_New_Segment   \n",
       "\n",
       "        Cohort Hold_Out_Flag_Current Hold_Out_Type_Current  \\\n",
       "0  January2022                    No            Targetable   \n",
       "1  January2022                    No            Targetable   \n",
       "2  January2022                    No            Targetable   \n",
       "3  January2022                    No            Targetable   \n",
       "4  January2022                    No            Targetable   \n",
       "5  January2022                    No            Targetable   \n",
       "6  January2022                    No            Targetable   \n",
       "7  January2022                    No            Targetable   \n",
       "8  January2022                    No            Targetable   \n",
       "9  January2022                    No            Targetable   \n",
       "\n",
       "      User_Status_Current Run_Type ActivityType   ActivityTimestamp  \n",
       "0  Targetable_New_Segment   Hourly      Created 2022-02-22 11:00:00  \n",
       "1  Targetable_New_Segment   Hourly      Created 2022-02-22 11:00:00  \n",
       "2  Targetable_New_Segment   Hourly      Created 2022-02-22 11:00:00  \n",
       "3  Targetable_New_Segment   Hourly      Created 2022-02-22 11:00:00  \n",
       "4  Targetable_New_Segment   Hourly      Created 2022-02-22 11:00:00  \n",
       "5  Targetable_New_Segment   Hourly      Created 2022-02-22 11:00:00  \n",
       "6  Targetable_New_Segment   Hourly      Created 2022-02-22 11:00:00  \n",
       "7  Targetable_New_Segment   Hourly      Created 2022-02-22 11:00:00  \n",
       "8  Targetable_New_Segment   Hourly      Created 2022-02-22 11:00:00  \n",
       "9  Targetable_New_Segment   Hourly      Created 2022-02-22 11:00:00  "
      ]
     },
     "execution_count": 62,
     "metadata": {},
     "output_type": "execute_result"
    }
   ],
   "source": [
    "%%bigquery\n",
    "\n",
    "select * from `nbcu-ds-prod-001.PeacockDataMartMarketingGold.HOLDOUT_GROUP` limit 10;"
   ]
  },
  {
   "cell_type": "code",
   "execution_count": 67,
   "metadata": {
    "vscode": {
     "languageId": "sql"
    }
   },
   "outputs": [
    {
     "data": {
      "application/vnd.jupyter.widget-view+json": {
       "model_id": "052f9d7e89b4411eb15f920eff381848",
       "version_major": 2,
       "version_minor": 0
      },
      "text/plain": [
       "Query is running:   0%|          |"
      ]
     },
     "metadata": {},
     "output_type": "display_data"
    },
    {
     "data": {
      "application/vnd.jupyter.widget-view+json": {
       "model_id": "9bea46b717d84345a5eb306c22375d58",
       "version_major": 2,
       "version_minor": 0
      },
      "text/plain": [
       "Downloading:   0%|          |"
      ]
     },
     "metadata": {},
     "output_type": "display_data"
    },
    {
     "data": {
      "text/html": [
       "<div>\n",
       "<style scoped>\n",
       "    .dataframe tbody tr th:only-of-type {\n",
       "        vertical-align: middle;\n",
       "    }\n",
       "\n",
       "    .dataframe tbody tr th {\n",
       "        vertical-align: top;\n",
       "    }\n",
       "\n",
       "    .dataframe thead th {\n",
       "        text-align: right;\n",
       "    }\n",
       "</style>\n",
       "<table border=\"1\" class=\"dataframe\">\n",
       "  <thead>\n",
       "    <tr style=\"text-align: right;\">\n",
       "      <th></th>\n",
       "      <th>users</th>\n",
       "      <th>churn_rate</th>\n",
       "    </tr>\n",
       "  </thead>\n",
       "  <tbody>\n",
       "    <tr>\n",
       "      <th>0</th>\n",
       "      <td>1300963</td>\n",
       "      <td>0.048311</td>\n",
       "    </tr>\n",
       "  </tbody>\n",
       "</table>\n",
       "</div>"
      ],
      "text/plain": [
       "     users  churn_rate\n",
       "0  1300963    0.048311"
      ]
     },
     "execution_count": 67,
     "metadata": {},
     "output_type": "execute_result"
    }
   ],
   "source": [
    "%%bigquery\n",
    "\n",
    "select COUNT(DISTINCT a.adobe_tracking_id) AS users, COUNT(DISTINCT CASE WHEN Churn_flag = 'Churn' THEN a.adobe_tracking_id END) / COUNT(DISTINCT a.adobe_tracking_id) as churn_rate\n",
    "FROM (\n",
    "    SELECT  DISTINCT TrackingId AS adobe_tracking_id\n",
    "    FROM `nbcu-ds-prod-001.PeacockDataMartMarketingGold.HOLDOUT_GROUP`\n",
    "    WHERE cohort = 'July2023'\n",
    "    AND Hold_Out_Type_Current = 'All Media Holdout'\n",
    "    AND DATE(TIMESTAMP(RegistrationDate), 'America/New_York') <= '2023-07-31'\n",
    ") a\n",
    "JOIN (\n",
    "    SELECT DISTINCT adobe_tracking_id, Churn_flag\n",
    "    FROM `nbcu-ds-prod-001.PeacockDataMartSilver.SILVER_CHURN`\n",
    "    WHERE entitlement = 'Paid'\n",
    "    AND base_date = '2023-07-31'\n",
    ") b\n",
    "ON a.adobe_tracking_id = b.adobe_tracking_id"
   ]
  },
  {
   "cell_type": "markdown",
   "metadata": {},
   "source": [
    "# Quarterly Aggregation Tests"
   ]
  },
  {
   "cell_type": "code",
   "execution_count": 43,
   "metadata": {
    "vscode": {
     "languageId": "sql"
    }
   },
   "outputs": [
    {
     "data": {
      "application/vnd.jupyter.widget-view+json": {
       "model_id": "fb8911a1a7604dc6b37a0405c5d738ff",
       "version_major": 2,
       "version_minor": 0
      },
      "text/plain": [
       "Query is running:   0%|          |"
      ]
     },
     "metadata": {},
     "output_type": "display_data"
    },
    {
     "data": {
      "application/vnd.jupyter.widget-view+json": {
       "model_id": "7ae1d3575a4a4d81a756434017afb25e",
       "version_major": 2,
       "version_minor": 0
      },
      "text/plain": [
       "Downloading:   0%|          |"
      ]
     },
     "metadata": {},
     "output_type": "display_data"
    }
   ],
   "source": [
    "%%bigquery ytd_avg\n",
    "\n",
    "WITH a AS\n",
    "(\n",
    "\tSELECT  report_month\n",
    "\t       ,cohort\n",
    "\t       ,COUNT(DISTINCT aid)               AS users\n",
    "\t       ,SUM(Viewer) / COUNT(DISTINCT aid) AS return_rate\n",
    "\tFROM `nbcu-ds-sandbox-a-001.SLi_sandbox.SILVER_EMAIL_CHANNEL_PERFORMANCE_MONTHLY`\n",
    "\tWHERE report_month >= '2023-01-01'\n",
    "\tGROUP BY  1,2\n",
    "\tORDER BY 1,2\n",
    ")\n",
    "SELECT  report_month\n",
    "       ,cohort\n",
    "       ,users\n",
    "       ,return_rate\n",
    "       ,AVG(users) OVER(PARTITION BY cohort ORDER BY report_month ROWS BETWEEN UNBOUNDED PRECEDING AND CURRENT ROW) AS ytd_avg_users\n",
    "       ,SUM(return_rate * users) OVER(PARTITION BY cohort ORDER BY report_month ROWS BETWEEN UNBOUNDED PRECEDING AND CURRENT ROW) / SUM(users) OVER(PARTITION BY cohort ORDER BY report_month ROWS BETWEEN UNBOUNDED PRECEDING AND CURRENT ROW) AS ytd_avg_return_rate\n",
    "FROM a\n",
    "GROUP BY 1,2,3,4\n",
    "ORDER BY 1, 2 DESC"
   ]
  },
  {
   "cell_type": "code",
   "execution_count": 44,
   "metadata": {
    "vscode": {
     "languageId": "sql"
    }
   },
   "outputs": [
    {
     "data": {
      "text/plain": [
       "0     3.400553e+07\n",
       "2     3.614600e+07\n",
       "4     3.949074e+07\n",
       "6     4.071216e+07\n",
       "8     4.088121e+07\n",
       "10    4.099558e+07\n",
       "12    4.021078e+07\n",
       "14    3.950105e+07\n",
       "Name: ytd_avg_users, dtype: float64"
      ]
     },
     "execution_count": 44,
     "metadata": {},
     "output_type": "execute_result"
    }
   ],
   "source": [
    "ytd_avg[ytd_avg['cohort'] == 'Targeted']['ytd_avg_users']"
   ]
  },
  {
   "cell_type": "code",
   "execution_count": 45,
   "metadata": {
    "vscode": {
     "languageId": "sql"
    }
   },
   "outputs": [
    {
     "data": {
      "text/plain": [
       "<Axes: >"
      ]
     },
     "execution_count": 45,
     "metadata": {},
     "output_type": "execute_result"
    },
    {
     "data": {
      "image/png": "[encoded data removed]",
      "text/plain": [
       "<Figure size 640x480 with 1 Axes>"
      ]
     },
     "metadata": {},
     "output_type": "display_data"
    }
   ],
   "source": [
    "ytd_avg_lift = ytd_avg.groupby('report_month').apply(lambda x: x[x['cohort'] == 'Targeted']['ytd_avg_return_rate'].reset_index() - x[x['cohort'] == 'Holdout']['ytd_avg_return_rate'].reset_index()).reset_index().drop(['level_1', 'index'], axis=1)\n",
    "ytd_avg_lift.plot()"
   ]
  },
  {
   "cell_type": "code",
   "execution_count": 50,
   "metadata": {
    "vscode": {
     "languageId": "sql"
    }
   },
   "outputs": [
    {
     "data": {
      "application/vnd.jupyter.widget-view+json": {
       "model_id": "06854a4242ea4352a1589ead2ae5f771",
       "version_major": 2,
       "version_minor": 0
      },
      "text/plain": [
       "Query is running:   0%|          |"
      ]
     },
     "metadata": {},
     "output_type": "display_data"
    },
    {
     "data": {
      "application/vnd.jupyter.widget-view+json": {
       "model_id": "bc90a0dbc98c4da6a3543df71b409d2b",
       "version_major": 2,
       "version_minor": 0
      },
      "text/plain": [
       "Downloading:   0%|          |"
      ]
     },
     "metadata": {},
     "output_type": "display_data"
    }
   ],
   "source": [
    "%%bigquery ytd_inc\n",
    "\n",
    "WITH a AS\n",
    "(\n",
    "\tSELECT  report_month\n",
    "\t       ,COUNT(distinct CASE WHEN cohort = 'Targeted' THEN aid END )            AS Distinct_Cohort_Size_Targeted\n",
    "            ,COUNT(distinct CASE WHEN cohort = 'Holdout' THEN aid END)              AS Distinct_Cohort_Size_Holdout\n",
    "           ,SUM(CASE WHEN cohort = 'Targeted' THEN viewer END )                    AS Total_Returns_Targeted\n",
    "           ,SUM(CASE WHEN cohort = 'Holdout' THEN viewer END)                      AS Total_Returns_Holdout\n",
    "\tFROM `nbcu-ds-sandbox-a-001.SLi_sandbox.SILVER_EMAIL_CHANNEL_PERFORMANCE_MONTHLY`\n",
    "\tWHERE report_month >= '2023-01-01'\n",
    "\tGROUP BY  1\n",
    "\tORDER BY 1\n",
    "), b AS (\n",
    "    SELECT  report_month\n",
    "        ,Distinct_Cohort_Size_Targeted\n",
    "        ,Distinct_Cohort_Size_Holdout\n",
    "        ,(safe_divide(Total_Returns_Targeted,Distinct_Cohort_Size_Targeted) - safe_divide(Total_Returns_Holdout,Distinct_Cohort_Size_Holdout)) * Distinct_Cohort_Size_Targeted                                         AS Returns_Incrementals\n",
    "    FROM a\n",
    "), c AS (\n",
    "    SELECT  report_month\n",
    "        ,Distinct_Cohort_Size_Targeted\n",
    "        ,Distinct_Cohort_Size_Holdout\n",
    "        ,Returns_Incrementals\n",
    "        ,SUM(Returns_Incrementals) OVER(ORDER BY report_month ROWS BETWEEN UNBOUNDED PRECEDING AND CURRENT ROW) AS ytd_sum_incrementals\n",
    "        ,SUM(Distinct_Cohort_Size_Targeted) OVER(ORDER BY report_month ROWS BETWEEN UNBOUNDED PRECEDING AND CURRENT ROW)                AS ytd_avg_users\n",
    "    FROM b\n",
    "    GROUP BY  1,2,3,4\n",
    "    ORDER BY 1,2 DESC\n",
    ")\n",
    "SELECT report_month, Distinct_Cohort_Size_Targeted, Returns_Incrementals, ytd_sum_incrementals, ytd_sum_incrementals/ytd_avg_users as cumulative_avg_return_rate\n",
    "FROM c"
   ]
  },
  {
   "cell_type": "code",
   "execution_count": 52,
   "metadata": {
    "vscode": {
     "languageId": "sql"
    }
   },
   "outputs": [
    {
     "data": {
      "text/plain": [
       "<Axes: >"
      ]
     },
     "execution_count": 52,
     "metadata": {},
     "output_type": "execute_result"
    },
    {
     "data": {
      "image/png": "[encoded data removed]",
      "text/plain": [
       "<Figure size 640x480 with 1 Axes>"
      ]
     },
     "metadata": {},
     "output_type": "display_data"
    }
   ],
   "source": [
    "ytd_inc[['report_month', 'cumulative_avg_return_rate']].plot()"
   ]
  },
  {
   "cell_type": "code",
   "execution_count": 53,
   "metadata": {
    "vscode": {
     "languageId": "sql"
    }
   },
   "outputs": [],
   "source": [
    "ytd_inc.to_excel('ytd_cumulative.xlsx')"
   ]
  },
  {
   "cell_type": "markdown",
   "metadata": {},
   "source": [
    "# Transactional email openers"
   ]
  },
  {
   "cell_type": "code",
   "execution_count": 68,
   "metadata": {
    "vscode": {
     "languageId": "sql"
    }
   },
   "outputs": [
    {
     "data": {
      "application/vnd.jupyter.widget-view+json": {
       "model_id": "88613e1d54b5478f9021155d5a04350f",
       "version_major": 2,
       "version_minor": 0
      },
      "text/plain": [
       "Query is running:   0%|          |"
      ]
     },
     "metadata": {},
     "output_type": "display_data"
    },
    {
     "data": {
      "application/vnd.jupyter.widget-view+json": {
       "model_id": "62da7de16ac3424ca927e397ea6cc1ce",
       "version_major": 2,
       "version_minor": 0
      },
      "text/plain": [
       "Downloading:   0%|          |"
      ]
     },
     "metadata": {},
     "output_type": "display_data"
    },
    {
     "data": {
      "text/html": [
       "<div>\n",
       "<style scoped>\n",
       "    .dataframe tbody tr th:only-of-type {\n",
       "        vertical-align: middle;\n",
       "    }\n",
       "\n",
       "    .dataframe tbody tr th {\n",
       "        vertical-align: top;\n",
       "    }\n",
       "\n",
       "    .dataframe thead th {\n",
       "        text-align: right;\n",
       "    }\n",
       "</style>\n",
       "<table border=\"1\" class=\"dataframe\">\n",
       "  <thead>\n",
       "    <tr style=\"text-align: right;\">\n",
       "      <th></th>\n",
       "      <th>adobe_tracking_id</th>\n",
       "      <th>delivered_flag</th>\n",
       "      <th>other_opened_flag</th>\n",
       "      <th>non_opened_flag</th>\n",
       "    </tr>\n",
       "  </thead>\n",
       "  <tbody>\n",
       "    <tr>\n",
       "      <th>0</th>\n",
       "      <td>lbzk1lKx1Ki9p5rmvuAO7xSd69/wjn1veT769QNLf0I=</td>\n",
       "      <td>Yes</td>\n",
       "      <td>No</td>\n",
       "      <td>Yes</td>\n",
       "    </tr>\n",
       "    <tr>\n",
       "      <th>1</th>\n",
       "      <td>jVf7UMKI1Aorh1VEWDrmawSZX9jr22cdTQTHFuRQtT0=</td>\n",
       "      <td>Yes</td>\n",
       "      <td>No</td>\n",
       "      <td>Yes</td>\n",
       "    </tr>\n",
       "    <tr>\n",
       "      <th>2</th>\n",
       "      <td>DTCpy6KJwzoICJCDDxWQwKRIWyceCRDGAXg8YX9ofjU=</td>\n",
       "      <td>Yes</td>\n",
       "      <td>No</td>\n",
       "      <td>Yes</td>\n",
       "    </tr>\n",
       "    <tr>\n",
       "      <th>3</th>\n",
       "      <td>nfdErhUsWVfyZTE/5SFPpZBhKkZFqYZfJYJtfjBXzMk=</td>\n",
       "      <td>Yes</td>\n",
       "      <td>No</td>\n",
       "      <td>Yes</td>\n",
       "    </tr>\n",
       "    <tr>\n",
       "      <th>4</th>\n",
       "      <td>Z/QrVmLgWu0cV7iVV9rPGVM0evxlT5Tl2mHwdavgue0=</td>\n",
       "      <td>Yes</td>\n",
       "      <td>No</td>\n",
       "      <td>Yes</td>\n",
       "    </tr>\n",
       "    <tr>\n",
       "      <th>5</th>\n",
       "      <td>3fPvsbLwHdMUfHRgGw9pyO2lHVpAD4D/8HJOJo8yi2M=</td>\n",
       "      <td>Yes</td>\n",
       "      <td>No</td>\n",
       "      <td>Yes</td>\n",
       "    </tr>\n",
       "    <tr>\n",
       "      <th>6</th>\n",
       "      <td>Esf3ycO+tjnbCYNE3FaFWIGRP/HPHi3crZHPLctOEJE=</td>\n",
       "      <td>Yes</td>\n",
       "      <td>No</td>\n",
       "      <td>Yes</td>\n",
       "    </tr>\n",
       "    <tr>\n",
       "      <th>7</th>\n",
       "      <td>+eGq1vhRPkOtGOMG4i/VcNsmLQ3+vISSMhVTYG1i82A=</td>\n",
       "      <td>Yes</td>\n",
       "      <td>No</td>\n",
       "      <td>Yes</td>\n",
       "    </tr>\n",
       "    <tr>\n",
       "      <th>8</th>\n",
       "      <td>MrVBGnmV/Q6XqLjfPB31lyB1SiPm8cCbMVdCafonoXI=</td>\n",
       "      <td>Yes</td>\n",
       "      <td>No</td>\n",
       "      <td>Yes</td>\n",
       "    </tr>\n",
       "    <tr>\n",
       "      <th>9</th>\n",
       "      <td>xNZoVKB6kWGIZSj8nEabGqXjS0lsOYFyJJ3+OaN510U=</td>\n",
       "      <td>Yes</td>\n",
       "      <td>No</td>\n",
       "      <td>Yes</td>\n",
       "    </tr>\n",
       "  </tbody>\n",
       "</table>\n",
       "</div>"
      ],
      "text/plain": [
       "                              adobe_tracking_id delivered_flag  \\\n",
       "0  lbzk1lKx1Ki9p5rmvuAO7xSd69/wjn1veT769QNLf0I=            Yes   \n",
       "1  jVf7UMKI1Aorh1VEWDrmawSZX9jr22cdTQTHFuRQtT0=            Yes   \n",
       "2  DTCpy6KJwzoICJCDDxWQwKRIWyceCRDGAXg8YX9ofjU=            Yes   \n",
       "3  nfdErhUsWVfyZTE/5SFPpZBhKkZFqYZfJYJtfjBXzMk=            Yes   \n",
       "4  Z/QrVmLgWu0cV7iVV9rPGVM0evxlT5Tl2mHwdavgue0=            Yes   \n",
       "5  3fPvsbLwHdMUfHRgGw9pyO2lHVpAD4D/8HJOJo8yi2M=            Yes   \n",
       "6  Esf3ycO+tjnbCYNE3FaFWIGRP/HPHi3crZHPLctOEJE=            Yes   \n",
       "7  +eGq1vhRPkOtGOMG4i/VcNsmLQ3+vISSMhVTYG1i82A=            Yes   \n",
       "8  MrVBGnmV/Q6XqLjfPB31lyB1SiPm8cCbMVdCafonoXI=            Yes   \n",
       "9  xNZoVKB6kWGIZSj8nEabGqXjS0lsOYFyJJ3+OaN510U=            Yes   \n",
       "\n",
       "  other_opened_flag non_opened_flag  \n",
       "0                No             Yes  \n",
       "1                No             Yes  \n",
       "2                No             Yes  \n",
       "3                No             Yes  \n",
       "4                No             Yes  \n",
       "5                No             Yes  \n",
       "6                No             Yes  \n",
       "7                No             Yes  \n",
       "8                No             Yes  \n",
       "9                No             Yes  "
      ]
     },
     "execution_count": 68,
     "metadata": {},
     "output_type": "execute_result"
    }
   ],
   "source": [
    "%%bigquery\n",
    "\n",
    "select * from `nbcu-ds-sandbox-a-001.sl_sandbox.price_increase_email_table_cohort` limit 10;"
   ]
  },
  {
   "cell_type": "code",
   "execution_count": null,
   "metadata": {
    "vscode": {
     "languageId": "sql"
    }
   },
   "outputs": [],
   "source": [
    "%%bigquery\n",
    "\n",
    "CREATE OR REPLACE TABLE `nbcu-ds-sandbox-a-001.SLi_sandbox.Transcomm_Email_Openers` AS ( \n",
    "    SELECT  report_month\n",
    "        ,a.aid\n",
    "        ,a.cohort\n",
    "        ,CASE WHEN b.adobe_tracking_id IS NOT NULL THEN 'Transactional Email User Opener'  ELSE 'User Did Not Open Transactional Email' END AS transactional_email_status\n",
    "        ,EOM_Paid_Churn_Num\n",
    "        ,EOM_Paid_Churn_Denom\n",
    "    FROM `nbcu-ds-sandbox-a-001.SLi_sandbox.SILVER_EMAIL_CHANNEL_PERFORMANCE_MONTHLY` a\n",
    "    LEFT JOIN\n",
    "    (\n",
    "        SELECT  adobe_tracking_id\n",
    "        FROM `nbcu-ds-sandbox-a-001.sl_sandbox.price_increase_email_table_cohort`\n",
    "        WHERE delivered_flag = 'Yes'\n",
    "        AND other_opened_flag = 'Yes' \n",
    "    ) b\n",
    "    ON a.aid = b.adobe_tracking_id\n",
    ")"
   ]
  },
  {
   "cell_type": "code",
   "execution_count": 71,
   "metadata": {
    "vscode": {
     "languageId": "sql"
    }
   },
   "outputs": [
    {
     "data": {
      "application/vnd.jupyter.widget-view+json": {
       "model_id": "0b787c88aa134c92a7e79a012b836365",
       "version_major": 2,
       "version_minor": 0
      },
      "text/plain": [
       "Query is running:   0%|          |"
      ]
     },
     "metadata": {},
     "output_type": "display_data"
    },
    {
     "data": {
      "text/html": [
       "<div>\n",
       "<style scoped>\n",
       "    .dataframe tbody tr th:only-of-type {\n",
       "        vertical-align: middle;\n",
       "    }\n",
       "\n",
       "    .dataframe tbody tr th {\n",
       "        vertical-align: top;\n",
       "    }\n",
       "\n",
       "    .dataframe thead th {\n",
       "        text-align: right;\n",
       "    }\n",
       "</style>\n",
       "<table border=\"1\" class=\"dataframe\">\n",
       "  <thead>\n",
       "    <tr style=\"text-align: right;\">\n",
       "      <th></th>\n",
       "    </tr>\n",
       "  </thead>\n",
       "  <tbody>\n",
       "  </tbody>\n",
       "</table>\n",
       "</div>"
      ],
      "text/plain": [
       "Empty DataFrame\n",
       "Columns: []\n",
       "Index: []"
      ]
     },
     "execution_count": 71,
     "metadata": {},
     "output_type": "execute_result"
    }
   ],
   "source": [
    "%%bigquery\n",
    "\n",
    "CREATE OR REPLACE TABLE `nbcu-ds-sandbox-a-001.SLi_sandbox.July_Transcomm_Email_Openers` AS ( \n",
    "    SELECT  a.aid\n",
    "        ,a.cohort\n",
    "        ,CASE WHEN b.adobe_tracking_id IS NOT NULL THEN 'Transactional Email User Opener'  ELSE 'User Did Not Open Transactional Email' END AS transactional_email_status\n",
    "        ,EOM_Paid_Churn_Num\n",
    "        ,EOM_Paid_Churn_Denom\n",
    "    FROM `nbcu-ds-sandbox-a-001.SLi_sandbox.Email_Channel_Base_Jul_2023` a\n",
    "    LEFT JOIN\n",
    "    (\n",
    "        SELECT  adobe_tracking_id\n",
    "        FROM `nbcu-ds-sandbox-a-001.sl_sandbox.price_increase_email_table_cohort`\n",
    "        WHERE delivered_flag = 'Yes'\n",
    "        AND other_opened_flag = 'Yes' \n",
    "    ) b\n",
    "    ON a.aid = b.adobe_tracking_id\n",
    ")"
   ]
  },
  {
   "cell_type": "code",
   "execution_count": 75,
   "metadata": {
    "vscode": {
     "languageId": "sql"
    }
   },
   "outputs": [
    {
     "data": {
      "application/vnd.jupyter.widget-view+json": {
       "model_id": "1baacc9175cf4e32beb1ddfd6e711f0a",
       "version_major": 2,
       "version_minor": 0
      },
      "text/plain": [
       "Query is running:   0%|          |"
      ]
     },
     "metadata": {},
     "output_type": "display_data"
    },
    {
     "data": {
      "application/vnd.jupyter.widget-view+json": {
       "model_id": "5a28c65607754d139d68b5e8bd34dd8b",
       "version_major": 2,
       "version_minor": 0
      },
      "text/plain": [
       "Downloading:   0%|          |"
      ]
     },
     "metadata": {},
     "output_type": "display_data"
    },
    {
     "data": {
      "text/html": [
       "<div>\n",
       "<style scoped>\n",
       "    .dataframe tbody tr th:only-of-type {\n",
       "        vertical-align: middle;\n",
       "    }\n",
       "\n",
       "    .dataframe tbody tr th {\n",
       "        vertical-align: top;\n",
       "    }\n",
       "\n",
       "    .dataframe thead th {\n",
       "        text-align: right;\n",
       "    }\n",
       "</style>\n",
       "<table border=\"1\" class=\"dataframe\">\n",
       "  <thead>\n",
       "    <tr style=\"text-align: right;\">\n",
       "      <th></th>\n",
       "      <th>cohort</th>\n",
       "      <th>transactional_email_status</th>\n",
       "      <th>paid_subs</th>\n",
       "      <th>churn_rate</th>\n",
       "    </tr>\n",
       "  </thead>\n",
       "  <tbody>\n",
       "    <tr>\n",
       "      <th>0</th>\n",
       "      <td>Targeted</td>\n",
       "      <td>Transactional Email User Opener</td>\n",
       "      <td>2848955</td>\n",
       "      <td>0.046033</td>\n",
       "    </tr>\n",
       "    <tr>\n",
       "      <th>1</th>\n",
       "      <td>Targeted</td>\n",
       "      <td>User Did Not Open Transactional Email</td>\n",
       "      <td>10945528</td>\n",
       "      <td>0.046034</td>\n",
       "    </tr>\n",
       "    <tr>\n",
       "      <th>2</th>\n",
       "      <td>Holdout</td>\n",
       "      <td>Transactional Email User Opener</td>\n",
       "      <td>97214</td>\n",
       "      <td>0.045940</td>\n",
       "    </tr>\n",
       "    <tr>\n",
       "      <th>3</th>\n",
       "      <td>Holdout</td>\n",
       "      <td>User Did Not Open Transactional Email</td>\n",
       "      <td>492756</td>\n",
       "      <td>0.045483</td>\n",
       "    </tr>\n",
       "  </tbody>\n",
       "</table>\n",
       "</div>"
      ],
      "text/plain": [
       "     cohort             transactional_email_status  paid_subs  churn_rate\n",
       "0  Targeted        Transactional Email User Opener    2848955    0.046033\n",
       "1  Targeted  User Did Not Open Transactional Email   10945528    0.046034\n",
       "2   Holdout        Transactional Email User Opener      97214    0.045940\n",
       "3   Holdout  User Did Not Open Transactional Email     492756    0.045483"
      ]
     },
     "execution_count": 75,
     "metadata": {},
     "output_type": "execute_result"
    }
   ],
   "source": [
    "%%bigquery\n",
    "\n",
    "select cohort, transactional_email_status, SUM(EOM_Paid_Churn_Denom) as paid_subs, SUM(EOM_Paid_Churn_Num) / SUM(EOM_Paid_Churn_Denom) as churn_rate\n",
    "FROM `nbcu-ds-sandbox-a-001.SLi_sandbox.July_Transcomm_Email_Openers`\n",
    "group by 1,2\n",
    "order by 1 desc, 2"
   ]
  },
  {
   "cell_type": "markdown",
   "metadata": {},
   "source": [
    "# Pull data from prod"
   ]
  },
  {
   "cell_type": "code",
   "execution_count": 15,
   "metadata": {
    "vscode": {
     "languageId": "sql"
    }
   },
   "outputs": [
    {
     "data": {
      "application/vnd.jupyter.widget-view+json": {
       "model_id": "7412523fade1429796d169aa6baf55e0",
       "version_major": 2,
       "version_minor": 0
      },
      "text/plain": [
       "Query is running:   0%|          |"
      ]
     },
     "metadata": {},
     "output_type": "display_data"
    },
    {
     "data": {
      "application/vnd.jupyter.widget-view+json": {
       "model_id": "e8efeb8602674d9fa16e1cbecaffb65b",
       "version_major": 2,
       "version_minor": 0
      },
      "text/plain": [
       "Downloading:   0%|          |"
      ]
     },
     "metadata": {},
     "output_type": "display_data"
    }
   ],
   "source": [
    "%%bigquery df\n",
    "\n",
    "WITH a AS\n",
    "(\n",
    "\tSELECT  report_month\n",
    "\t       ,SUM(CASE WHEN cohort = 'Targeted' THEN users END)                                    AS Email_Targetable\n",
    "\t       ,SUM(CASE WHEN cohort = 'Holdout' THEN users END)                                     AS Email_Holdout\n",
    "           ,SUM(CASE WHEN cohort = 'Targeted' THEN Free_to_Paid_Denom END)                       AS FTP_eligible\n",
    "\t       ,SUM(CASE WHEN cohort = 'Targeted' THEN Free_to_Paid_Num END)/SUM(CASE WHEN cohort = 'Targeted' THEN Free_to_Paid_Denom END) AS Email_Targetable_FTP\n",
    "\t       ,SUM(CASE WHEN cohort = 'Holdout' THEN Free_to_Paid_Num END)/SUM(CASE WHEN cohort = 'Holdout' THEN Free_to_Paid_Denom END)  AS Email_Holdout_FTP\n",
    "\tFROM `nbcu-ds-prod-001.PeacockDataMartMarketingGold.GOLD_EMAIL_CHANNEL_PERFORMANCE`\n",
    "    WHERE result_type = 'Monthly'\n",
    "    and report_month >= '2023-01-01'\n",
    "    GROUP BY 1\n",
    ")\n",
    "SELECT  *\n",
    "       ,Email_Targetable_FTP - Email_Holdout_FTP                      AS lift\n",
    "       ,Email_Targetable_FTP/Email_Holdout_FTP*100                    AS index\n",
    "       ,FTP_eligible * (Email_Targetable_FTP - Email_Holdout_FTP) AS incrementals\n",
    "FROM a\n",
    "order by 1"
   ]
  },
  {
   "cell_type": "code",
   "execution_count": 16,
   "metadata": {
    "vscode": {
     "languageId": "sql"
    }
   },
   "outputs": [],
   "source": [
    "df.to_excel('monthly_results_ytd.xlsx')"
   ]
  },
  {
   "cell_type": "markdown",
   "metadata": {
    "vscode": {
     "languageId": "sql"
    }
   },
   "source": [
    "# Active Days"
   ]
  },
  {
   "cell_type": "code",
   "execution_count": 5,
   "metadata": {
    "vscode": {
     "languageId": "sql"
    }
   },
   "outputs": [
    {
     "data": {
      "application/vnd.jupyter.widget-view+json": {
       "model_id": "986bc13472cb4ae0bf0c4e0792003589",
       "version_major": 2,
       "version_minor": 0
      },
      "text/plain": [
       "Query is running:   0%|          |"
      ]
     },
     "metadata": {},
     "output_type": "display_data"
    },
    {
     "data": {
      "application/vnd.jupyter.widget-view+json": {
       "model_id": "57884e9b00b34ff2a27f6ed36f1f6385",
       "version_major": 2,
       "version_minor": 0
      },
      "text/plain": [
       "Downloading:   0%|          |"
      ]
     },
     "metadata": {},
     "output_type": "display_data"
    },
    {
     "data": {
      "text/html": [
       "<div>\n",
       "<style scoped>\n",
       "    .dataframe tbody tr th:only-of-type {\n",
       "        vertical-align: middle;\n",
       "    }\n",
       "\n",
       "    .dataframe tbody tr th {\n",
       "        vertical-align: top;\n",
       "    }\n",
       "\n",
       "    .dataframe thead th {\n",
       "        text-align: right;\n",
       "    }\n",
       "</style>\n",
       "<table border=\"1\" class=\"dataframe\">\n",
       "  <thead>\n",
       "    <tr style=\"text-align: right;\">\n",
       "      <th></th>\n",
       "      <th>f0_</th>\n",
       "    </tr>\n",
       "  </thead>\n",
       "  <tbody>\n",
       "    <tr>\n",
       "      <th>0</th>\n",
       "      <td>7.162257</td>\n",
       "    </tr>\n",
       "  </tbody>\n",
       "</table>\n",
       "</div>"
      ],
      "text/plain": [
       "        f0_\n",
       "0  7.162257"
      ]
     },
     "execution_count": 5,
     "metadata": {},
     "output_type": "execute_result"
    }
   ],
   "source": [
    "%%bigquery\n",
    "\n",
    "select SUM(active_days)/COUNT(DISTINCT adobe_tracking_id)\n",
    "FROM `nbcu-ds-prod-001.PeacockDataMartSilver.SILVER_USER`\n",
    "LEFT JOIN `nbcu-ds-sandbox-a-001.SLi_sandbox.Video_Viewing_Oct_2023` using(adobe_tracking_id)\n",
    "WHERE paying_account_flag = 'Paying' and report_date = '2023-10-31'"
   ]
  },
  {
   "cell_type": "code",
   "execution_count": 4,
   "metadata": {
    "vscode": {
     "languageId": "sql"
    }
   },
   "outputs": [
    {
     "data": {
      "application/vnd.jupyter.widget-view+json": {
       "model_id": "038a7620b9f54126b8781b865c6d2ee4",
       "version_major": 2,
       "version_minor": 0
      },
      "text/plain": [
       "Query is running:   0%|          |"
      ]
     },
     "metadata": {},
     "output_type": "display_data"
    },
    {
     "data": {
      "application/vnd.jupyter.widget-view+json": {
       "model_id": "dc188d9bf39c475eb300310b634fb0aa",
       "version_major": 2,
       "version_minor": 0
      },
      "text/plain": [
       "Downloading:   0%|          |"
      ]
     },
     "metadata": {},
     "output_type": "display_data"
    },
    {
     "data": {
      "text/html": [
       "<div>\n",
       "<style scoped>\n",
       "    .dataframe tbody tr th:only-of-type {\n",
       "        vertical-align: middle;\n",
       "    }\n",
       "\n",
       "    .dataframe tbody tr th {\n",
       "        vertical-align: top;\n",
       "    }\n",
       "\n",
       "    .dataframe thead th {\n",
       "        text-align: right;\n",
       "    }\n",
       "</style>\n",
       "<table border=\"1\" class=\"dataframe\">\n",
       "  <thead>\n",
       "    <tr style=\"text-align: right;\">\n",
       "      <th></th>\n",
       "      <th>f0_</th>\n",
       "    </tr>\n",
       "  </thead>\n",
       "  <tbody>\n",
       "    <tr>\n",
       "      <th>0</th>\n",
       "      <td>9.494279</td>\n",
       "    </tr>\n",
       "  </tbody>\n",
       "</table>\n",
       "</div>"
      ],
      "text/plain": [
       "        f0_\n",
       "0  9.494279"
      ]
     },
     "execution_count": 4,
     "metadata": {},
     "output_type": "execute_result"
    }
   ],
   "source": [
    "%%bigquery\n",
    "\n",
    "select SUM(active_days)/COUNT(DISTINCT adobe_tracking_id)\n",
    "FROM `nbcu-ds-prod-001.PeacockDataMartSilver.SILVER_USER`\n",
    "JOIN `nbcu-ds-sandbox-a-001.SLi_sandbox.Video_Viewing_Oct_2023` using(adobe_tracking_id)\n",
    "WHERE paying_account_flag = 'Paying' and report_date = '2023-10-31'"
   ]
  }
 ],
 "metadata": {
  "kernelspec": {
   "display_name": "base",
   "language": "python",
   "name": "python3"
  },
  "language_info": {
   "codemirror_mode": {
    "name": "ipython",
    "version": 3
   },
   "file_extension": ".py",
   "mimetype": "text/x-python",
   "name": "python",
   "nbconvert_exporter": "python",
   "pygments_lexer": "ipython3",
   "version": "3.10.9"
  },
  "orig_nbformat": 4,
  "vscode": {
   "interpreter": {
    "hash": "9f4bcd060ba154b7f997404b5ff23acc15e075c14d45ca39f213897f2a8cabbd"
   }
  }
 },
 "nbformat": 4,
 "nbformat_minor": 2
}
