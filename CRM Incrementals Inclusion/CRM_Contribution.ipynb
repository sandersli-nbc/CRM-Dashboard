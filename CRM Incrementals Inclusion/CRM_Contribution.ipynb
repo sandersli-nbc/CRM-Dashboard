{
 "cells": [
  {
   "cell_type": "code",
   "execution_count": 1,
   "metadata": {},
   "outputs": [
    {
     "name": "stdout",
     "output_type": "stream",
     "text": [
      "env: GCLOUD_PROJECT=nbcu-ds-sandbox-a-001\n"
     ]
    }
   ],
   "source": [
    "from datetime import datetime, timedelta\n",
    "import numpy as np\n",
    "import pandas as pd\n",
    "import matplotlib.pyplot as plt\n",
    "import seaborn as sns\n",
    "import pandas_gbq\n",
    "import pydata_google_auth\n",
    "from concurrent.futures import ThreadPoolExecutor, as_completed\n",
    "from google.cloud import bigquery\n",
    "from tqdm.notebook import tqdm\n",
    "from dateutil import tz\n",
    "from BigQueryTools import QueryTool\n",
    "import re\n",
    "\n",
    "SCOPES = [\n",
    "    'https://www.googleapis.com/auth/cloud-platform',\n",
    "    'https://www.googleapis.com/auth/drive',\n",
    "]\n",
    "credentials = pydata_google_auth.get_user_credentials(\n",
    "    SCOPES,\n",
    "    # Set auth_local_webserver to True to have a slightly more convienient\n",
    "    # authorization flow. Note, this doesn't work if you're running from a\n",
    "    # notebook on a remote sever, such as over SSH or with Google Colab.\n",
    "    auth_local_webserver=True,\n",
    ")\n",
    "\n",
    "%load_ext google.cloud.bigquery\n",
    "%env GCLOUD_PROJECT=nbcu-ds-sandbox-a-001"
   ]
  },
  {
   "cell_type": "code",
   "execution_count": 2,
   "metadata": {},
   "outputs": [],
   "source": [
    "start_date = '2022-01-01'\n",
    "end_date = '2023-12-31'"
   ]
  },
  {
   "cell_type": "code",
   "execution_count": 3,
   "metadata": {},
   "outputs": [],
   "source": [
    "def get_monthly_report_dates(start_date, end_date):\n",
    "    start = datetime.strptime(start_date, \"%Y-%m-%d\")\n",
    "    end = datetime.strptime(end_date, \"%Y-%m-%d\")\n",
    "    monthly_reports = {}\n",
    "\n",
    "    while start <= end:\n",
    "        month_year = start.strftime(\"%b_%Y\")\n",
    "        report_start_date = start.replace(day=1)\n",
    "        next_month = start.replace(day=28) + timedelta(days=4)\n",
    "        report_end_date = next_month - timedelta(days=next_month.day)\n",
    "        monthly_reports[month_year] = {\n",
    "            \"report_start_date\": report_start_date.strftime(\"%Y-%m-%d\"),\n",
    "            \"report_end_date\": report_end_date.strftime(\"%Y-%m-%d\")\n",
    "        }\n",
    "        start = next_month\n",
    "\n",
    "    return monthly_reports\n",
    "\n",
    "def generate_report_variants(period_dict, suffix=\"report\"):\n",
    "    return {'_'.join([period, suffix]): {'string_format': {'report': period}, 'params': params} for period, params in period_dict.items()}"
   ]
  },
  {
   "cell_type": "code",
   "execution_count": 4,
   "metadata": {},
   "outputs": [],
   "source": [
    "months = get_monthly_report_dates(start_date, end_date)\n",
    "monthly_viewing_tables = generate_report_variants(months, 'viewing')\n",
    "month_tables = generate_report_variants(months)\n",
    "bq = QueryTool()"
   ]
  },
  {
   "cell_type": "code",
   "execution_count": 5,
   "metadata": {},
   "outputs": [
    {
     "name": "stdout",
     "output_type": "stream",
     "text": [
      "Added: Jan_2022_report\t | \tAwaiting start\n",
      "Added: Feb_2022_report\t | \tAwaiting start\n",
      "Added: Mar_2022_report\t | \tAwaiting start\n",
      "Added: Apr_2022_report\t | \tAwaiting start\n",
      "Added: May_2022_report\t | \tAwaiting start\n",
      "Added: Jun_2022_report\t | \tAwaiting start\n",
      "Added: Jul_2022_report\t | \tAwaiting start\n",
      "Added: Aug_2022_report\t | \tAwaiting start\n",
      "Added: Sep_2022_report\t | \tAwaiting start\n",
      "Added: Oct_2022_report\t | \tAwaiting start\n",
      "Added: Nov_2022_report\t | \tAwaiting start\n",
      "Added: Dec_2022_report\t | \tAwaiting start\n",
      "Added: Jan_2023_report\t | \tAwaiting start\n",
      "Added: Feb_2023_report\t | \tAwaiting start\n",
      "Added: Mar_2023_report\t | \tAwaiting start\n",
      "Added: Apr_2023_report\t | \tAwaiting start\n",
      "Added: May_2023_report\t | \tAwaiting start\n",
      "Added: Jun_2023_report\t | \tAwaiting start\n",
      "Added: Jul_2023_report\t | \tAwaiting start\n",
      "Added: Aug_2023_report\t | \tAwaiting start\n",
      "Added: Sep_2023_report\t | \tAwaiting start\n",
      "Added: Oct_2023_report\t | \tAwaiting start\n",
      "Added: Nov_2023_report\t | \tAwaiting start\n",
      "Added: Dec_2023_report\t | \tAwaiting start\n"
     ]
    }
   ],
   "source": [
    "with open('Platform_Metrics.sql', 'r') as file:\n",
    "    sql_file = file.read()\n",
    "    bq.add(sql_file, month_tables)"
   ]
  },
  {
   "cell_type": "code",
   "execution_count": 6,
   "metadata": {},
   "outputs": [
    {
     "name": "stdout",
     "output_type": "stream",
     "text": [
      "start 9c2954da-c94b-4d7c-9a2a-47ab6c41dacb\n",
      "start 7a4fa183-93d7-4e71-bb4a-e3ce1db975ca\n",
      "start b4a7e41a-39b4-42eb-9c8d-f2ab712a510e\n",
      "start 1d074640-ed0f-4a7b-bc2e-1df12d991a9b\n",
      "start 37cba95a-65d5-4714-b5f9-cc0ce9ca3cf2\n",
      "start dfe782d2-fbd6-4deb-a6b5-54f18dfce9a5\n",
      "start 6f1edef7-58b2-4ada-9d4d-d6f85896580c\n",
      "start ec1600de-49d8-4f1d-acaa-00e007d959a2\n",
      "start ba4aaf14-86e4-4152-ac72-d462a6f764b1\n",
      "start 0a1278bf-1526-47f8-83af-0b9f8d5c8ad5\n",
      "start 46aa047d-9eaf-4ee0-a574-9ba390dadc49\n",
      "start b27d3193-6c0d-456e-bb02-22088089bbad\n",
      "start e1b4b5a8-a5a1-47a9-af35-39f64da63ece\n",
      "start cae79a9a-6187-4380-8122-a62622858530\n",
      "start 1ceaab95-f30c-4692-9858-072de426adcd\n",
      "start adbaa979-6bc9-4249-a14c-b97b3b45633f\n",
      "start fbc9b3ba-9492-46b2-a168-abdf6a2a3613\n",
      "start 1f111c41-0635-4bfb-b9dd-8cb7b3e9ba09\n",
      "start 825823b6-5a32-45d2-a556-b77a20af7ae8\n",
      "start f364d08e-25c3-4c37-94ee-24795e911647\n",
      "start 7b6326c9-636f-4bc1-94bb-9c59e9d3dddf\n",
      "start e9732846-0db5-4ccf-a95a-153a36ca8995\n",
      "start f5a913d7-3970-4d3a-96e4-808b639d90bb\n",
      "start a903018e-a7bc-47e1-84e9-c864520cd564\n",
      "All jobs in queue started\n"
     ]
    }
   ],
   "source": [
    "bq.start()"
   ]
  },
  {
   "cell_type": "code",
   "execution_count": 9,
   "metadata": {},
   "outputs": [
    {
     "name": "stdout",
     "output_type": "stream",
     "text": [
      "Active jobs: \n",
      "\n",
      "\n",
      "Finished jobs: \n",
      "Jan_2022_report\t | \t37cba95a-65d5-4714-b5f9-cc0ce9ca3cf2\t | \tCreated: Jan 16, 2024 10:09 AM\t | \tLast Checked: Jan 16, 2024 11:03 AM\t | \tDONE\n",
      "Feb_2022_report\t | \tec1600de-49d8-4f1d-acaa-00e007d959a2\t | \tCreated: Jan 16, 2024 10:09 AM\t | \tLast Checked: Jan 16, 2024 11:03 AM\t | \tDONE\n",
      "Mar_2022_report\t | \tba4aaf14-86e4-4152-ac72-d462a6f764b1\t | \tCreated: Jan 16, 2024 10:09 AM\t | \tLast Checked: Jan 16, 2024 11:03 AM\t | \tDONE\n",
      "Apr_2022_report\t | \t7b6326c9-636f-4bc1-94bb-9c59e9d3dddf\t | \tCreated: Jan 16, 2024 10:09 AM\t | \tLast Checked: Jan 16, 2024 11:03 AM\t | \tDONE\n",
      "May_2022_report\t | \tb27d3193-6c0d-456e-bb02-22088089bbad\t | \tCreated: Jan 16, 2024 10:09 AM\t | \tLast Checked: Jan 16, 2024 11:03 AM\t | \tDONE\n",
      "Jun_2022_report\t | \te1b4b5a8-a5a1-47a9-af35-39f64da63ece\t | \tCreated: Jan 16, 2024 10:09 AM\t | \tLast Checked: Jan 16, 2024 11:03 AM\t | \tDONE\n",
      "Jul_2022_report\t | \tcae79a9a-6187-4380-8122-a62622858530\t | \tCreated: Jan 16, 2024 10:09 AM\t | \tLast Checked: Jan 16, 2024 11:03 AM\t | \tDONE\n",
      "Aug_2022_report\t | \te9732846-0db5-4ccf-a95a-153a36ca8995\t | \tCreated: Jan 16, 2024 10:09 AM\t | \tLast Checked: Jan 16, 2024 11:03 AM\t | \tDONE\n",
      "Sep_2022_report\t | \tf364d08e-25c3-4c37-94ee-24795e911647\t | \tCreated: Jan 16, 2024 10:09 AM\t | \tLast Checked: Jan 16, 2024 11:03 AM\t | \tDONE\n",
      "Oct_2022_report\t | \t0a1278bf-1526-47f8-83af-0b9f8d5c8ad5\t | \tCreated: Jan 16, 2024 10:09 AM\t | \tLast Checked: Jan 16, 2024 11:03 AM\t | \tDONE\n",
      "Nov_2022_report\t | \ta903018e-a7bc-47e1-84e9-c864520cd564\t | \tCreated: Jan 16, 2024 10:09 AM\t | \tLast Checked: Jan 16, 2024 11:03 AM\t | \tDONE\n",
      "Dec_2022_report\t | \t1d074640-ed0f-4a7b-bc2e-1df12d991a9b\t | \tCreated: Jan 16, 2024 10:09 AM\t | \tLast Checked: Jan 16, 2024 11:03 AM\t | \tDONE\n",
      "Jan_2023_report\t | \tb4a7e41a-39b4-42eb-9c8d-f2ab712a510e\t | \tCreated: Jan 16, 2024 10:09 AM\t | \tLast Checked: Jan 16, 2024 11:03 AM\t | \tDONE\n",
      "Feb_2023_report\t | \t7a4fa183-93d7-4e71-bb4a-e3ce1db975ca\t | \tCreated: Jan 16, 2024 10:09 AM\t | \tLast Checked: Jan 16, 2024 11:03 AM\t | \tDONE\n",
      "Mar_2023_report\t | \tfbc9b3ba-9492-46b2-a168-abdf6a2a3613\t | \tCreated: Jan 16, 2024 10:09 AM\t | \tLast Checked: Jan 16, 2024 11:03 AM\t | \tDONE\n",
      "Apr_2023_report\t | \t1f111c41-0635-4bfb-b9dd-8cb7b3e9ba09\t | \tCreated: Jan 16, 2024 10:09 AM\t | \tLast Checked: Jan 16, 2024 11:03 AM\t | \tDONE\n",
      "May_2023_report\t | \t6f1edef7-58b2-4ada-9d4d-d6f85896580c\t | \tCreated: Jan 16, 2024 10:09 AM\t | \tLast Checked: Jan 16, 2024 11:03 AM\t | \tDONE\n",
      "Jun_2023_report\t | \tdfe782d2-fbd6-4deb-a6b5-54f18dfce9a5\t | \tCreated: Jan 16, 2024 10:09 AM\t | \tLast Checked: Jan 16, 2024 11:03 AM\t | \tDONE\n",
      "Jul_2023_report\t | \tadbaa979-6bc9-4249-a14c-b97b3b45633f\t | \tCreated: Jan 16, 2024 10:09 AM\t | \tLast Checked: Jan 16, 2024 11:03 AM\t | \tDONE\n",
      "Aug_2023_report\t | \tf5a913d7-3970-4d3a-96e4-808b639d90bb\t | \tCreated: Jan 16, 2024 10:09 AM\t | \tLast Checked: Jan 16, 2024 11:03 AM\t | \tDONE\n",
      "Sep_2023_report\t | \t825823b6-5a32-45d2-a556-b77a20af7ae8\t | \tCreated: Jan 16, 2024 10:09 AM\t | \tLast Checked: Jan 16, 2024 11:03 AM\t | \tDONE\n",
      "Oct_2023_report\t | \t9c2954da-c94b-4d7c-9a2a-47ab6c41dacb\t | \tCreated: Jan 16, 2024 10:09 AM\t | \tLast Checked: Jan 16, 2024 11:03 AM\t | \tDONE\n",
      "Nov_2023_report\t | \t1ceaab95-f30c-4692-9858-072de426adcd\t | \tCreated: Jan 16, 2024 10:09 AM\t | \tLast Checked: Jan 16, 2024 11:03 AM\t | \tDONE\n",
      "Dec_2023_report\t | \t46aa047d-9eaf-4ee0-a574-9ba390dadc49\t | \tCreated: Jan 16, 2024 10:09 AM\t | \tLast Checked: Jan 16, 2024 11:03 AM\t | \tDONE\n"
     ]
    }
   ],
   "source": [
    "bq.update()"
   ]
  },
  {
   "cell_type": "code",
   "execution_count": 10,
   "metadata": {},
   "outputs": [],
   "source": [
    "# Merge and group monthly results\n",
    "query = \"\"\"\n",
    "        CREATE or replace TABLE `nbcu-ds-sandbox-a-001.SLi_sandbox.CRM_Contribution_Platform_Metrics` AS \n",
    "        \n",
    "        SELECT *\n",
    "        FROM ( \n",
    "        \"\"\" + \\\n",
    "        (' UNION ALL ').join([f'(select * from `nbcu-ds-sandbox-a-001.SLi_sandbox.CRM_Platform_Metrics_{report}`)' for report in months]) + \\\n",
    "        \"\"\"\n",
    "        )\n",
    "        \"\"\"\n",
    "        \n",
    "with bigquery.Client() as client:\n",
    "    client.query(query).result()"
   ]
  },
  {
   "cell_type": "code",
   "execution_count": 11,
   "metadata": {
    "vscode": {
     "languageId": "sql"
    }
   },
   "outputs": [
    {
     "data": {
      "application/vnd.jupyter.widget-view+json": {
       "model_id": "e36a6061ab394910959e546fe3ba32f4",
       "version_major": 2,
       "version_minor": 0
      },
      "text/plain": [
       "Query is running:   0%|          |"
      ]
     },
     "metadata": {},
     "output_type": "display_data"
    },
    {
     "data": {
      "text/html": [
       "<div>\n",
       "<style scoped>\n",
       "    .dataframe tbody tr th:only-of-type {\n",
       "        vertical-align: middle;\n",
       "    }\n",
       "\n",
       "    .dataframe tbody tr th {\n",
       "        vertical-align: top;\n",
       "    }\n",
       "\n",
       "    .dataframe thead th {\n",
       "        text-align: right;\n",
       "    }\n",
       "</style>\n",
       "<table border=\"1\" class=\"dataframe\">\n",
       "  <thead>\n",
       "    <tr style=\"text-align: right;\">\n",
       "      <th></th>\n",
       "    </tr>\n",
       "  </thead>\n",
       "  <tbody>\n",
       "  </tbody>\n",
       "</table>\n",
       "</div>"
      ],
      "text/plain": [
       "Empty DataFrame\n",
       "Columns: []\n",
       "Index: []"
      ]
     },
     "execution_count": 11,
     "metadata": {},
     "output_type": "execute_result"
    }
   ],
   "source": [
    "%%bigquery\n",
    "\n",
    "CREATE or replace TABLE `nbcu-ds-sandbox-a-001.SLi_sandbox.GOLD_EMAIL_CHANNEL_PERFORMANCE_PLATFORM` AS\n",
    "SELECT  Report_Month\n",
    "       ,Email_Audience_Flag\n",
    "       ,Email_Cohort\n",
    "\n",
    "       ,Account_Type\n",
    "       ,Active_Viewer\n",
    "       ,Last_Paid_Tenure\n",
    "       ,Offer_Type\n",
    "       ,Entitlement\n",
    "       ,Paying_Account_Flag\n",
    "       ,Inflow\n",
    "\n",
    "       ,COUNT(DISTINCT aid)            AS Users\n",
    "       ,SUM(Viewer)                    AS Viewers\n",
    "       ,SUM(Viewing_Time)              AS Viewing_Time\n",
    "       ,SUM(Repertoire_Pavo_Method)    AS Repertoire\n",
    "       ,SUM(Distinct_Viewing_Sessions) AS Viewing_Sessions\n",
    "       ,SUM(active_days)               AS Active_Days\n",
    "       ,SUM(Lapsed_Save_Denom)         AS Lapsed_Save_Denom\n",
    "       ,SUM(Lapsed_Save_Num)           AS Lapsed_Save_Num\n",
    "       ,SUM(Lapsing_Save_Denom)        AS Lapsing_Save_Denom\n",
    "       ,SUM(Lapsing_Save_Num)          AS Lapsing_Save_Num\n",
    "       ,SUM(Free_To_Paid_Denom)        AS Free_To_Paid_Denom\n",
    "       ,SUM(Free_To_Paid_Num)          AS Free_To_Paid_Num\n",
    "       ,SUM(Net_New_Upgrade_Denom)     AS Net_New_Upgrade_Denom\n",
    "       ,SUM(Net_New_Upgrade_Num)       AS Net_New_Upgrade_Num\n",
    "       ,SUM(Paid_Winbacks_Denom)       AS Paid_Winbacks_Denom\n",
    "       ,SUM(Paid_Winbacks_Num)         AS Paid_Winbacks_Num\n",
    "       ,SUM(Cancel_Save_Denom)         AS Cancel_Save_Denom\n",
    "       ,SUM(Cancel_Save_Num)           AS Cancel_Save_Num\n",
    "       ,SUM(EOM_Paid_Churn_Denom)      AS EOM_Paid_Churn_Denom\n",
    "       ,SUM(EOM_Paid_Churn_Num)        AS EOM_Paid_Churn_Num\n",
    "FROM (\n",
    "    SELECT *\n",
    "    FROM `nbcu-ds-sandbox-a-001.SLi_sandbox.CRM_Contribution_Platform_Metrics`\n",
    ")\n",
    "GROUP BY  Report_Month\n",
    "         ,Email_Audience_Flag\n",
    "         ,Email_Cohort\n",
    "         ,Account_Type\n",
    "         ,Active_Viewer\n",
    "         ,Last_Paid_Tenure\n",
    "         ,Offer_Type\n",
    "         ,Entitlement\n",
    "         ,Paying_Account_Flag\n",
    "         ,Inflow"
   ]
  },
  {
   "cell_type": "markdown",
   "metadata": {},
   "source": [
    "# Pull Results"
   ]
  },
  {
   "cell_type": "code",
   "execution_count": 24,
   "metadata": {
    "vscode": {
     "languageId": "sql"
    }
   },
   "outputs": [
    {
     "data": {
      "application/vnd.jupyter.widget-view+json": {
       "model_id": "fd623731bae24966b25afe868ab68435",
       "version_major": 2,
       "version_minor": 0
      },
      "text/plain": [
       "Query is running:   0%|          |"
      ]
     },
     "metadata": {},
     "output_type": "display_data"
    },
    {
     "data": {
      "application/vnd.jupyter.widget-view+json": {
       "model_id": "57e76df2ec534bb980e75da460ff9d23",
       "version_major": 2,
       "version_minor": 0
      },
      "text/plain": [
       "Downloading:   0%|          |"
      ]
     },
     "metadata": {},
     "output_type": "display_data"
    }
   ],
   "source": [
    "%%bigquery df_paying\n",
    "\n",
    "WITH a AS\n",
    "(\n",
    "SELECT  Report_Month\n",
    "       ,SUM(Users)                                                                                                   AS Users\n",
    "       ,SUM(CASE WHEN Email_Audience_Flag = 1 THEN Users END)                                                        AS Email_Users\n",
    "       ,SUM(CASE WHEN Email_Cohort = 'Targeted' THEN Users END)                                                      AS Targeted_Users\n",
    "       ,SUM(CASE WHEN Email_Cohort = 'Holdout' THEN Users END)                                                       AS Holdout_Users \n",
    "\t   -- Usage \n",
    "       ,SUM(Viewing_Time)                                                                                            AS Platform_Usage_Hours\n",
    "       ,SUM(CASE WHEN Email_Cohort = 'Targeted' THEN Viewing_Time END)                                               AS Targeted_Usage_Hours\n",
    "       ,SUM(CASE WHEN Email_Cohort = 'Holdout' THEN Viewing_Time END)                                                AS Holdout_Usage_Hours \n",
    "\t   -- Repertoire \n",
    "       ,SUM(Repertoire)                                                                                  AS Platform_Rep\n",
    "       ,SUM(CASE WHEN Email_Cohort = 'Targeted' THEN Repertoire END)                                     AS Targeted_Rep\n",
    "       ,SUM(CASE WHEN Email_Cohort = 'Holdout' THEN Repertoire END)                                      AS Holdout_Rep \n",
    "\t   -- Frequency \n",
    "       ,SUM(Viewing_Sessions)                                                                               AS Platform_Frequency\n",
    "       ,SUM(CASE WHEN Email_Cohort = 'Targeted' THEN Viewing_Sessions END)                                  AS Targeted_Frequency\n",
    "       ,SUM(CASE WHEN Email_Cohort = 'Holdout' THEN Viewing_Sessions END) AS Holdout_Frequency \n",
    "\t/*\n",
    "          -- FTP inflows \n",
    "       ,SUM(CASE WHEN Inflow = 1 THEN Free_To_Paid_Denom END)                                                        AS Platform_FTP_Denom\n",
    "       ,SUM(CASE WHEN (Email_Cohort = 'Targeted') AND (Inflow = 1) THEN Free_To_Paid_Denom END)                          AS Targeted_FTP_Denom\n",
    "       ,SUM(CASE WHEN (Email_Cohort = 'Holdout') AND (Inflow = 1) THEN Free_To_Paid_Denom END)                           AS Holdout_FTP_Denom\n",
    "       ,SUM(CASE WHEN Inflow = 1 THEN Free_To_Paid_Num END)                                                          AS Platform_FTP_Num\n",
    "       ,SUM(CASE WHEN (Email_Cohort = 'Targeted') AND (Inflow = 1) AND (Free_To_Paid_Denom = 1) THEN Free_To_Paid_Num END) AS Targeted_FTP_Num\n",
    "       ,SUM(CASE WHEN (Email_Cohort = 'Holdout') AND (Inflow = 1) AND (Free_To_Paid_Denom = 1) THEN Free_To_Paid_Num END)  AS Holdout_FTP_Num \n",
    "\t*/\n",
    "          -- Churn \n",
    "       ,SUM(EOM_Paid_Churn_Denom)                                                                                    AS Platform_Churn_Denom\n",
    "       ,SUM(CASE WHEN Email_Cohort = 'Targeted' THEN EOM_Paid_Churn_Denom END)                                       AS Targeted_Churn_Denom\n",
    "       ,SUM(CASE WHEN Email_Cohort = 'Holdout' THEN EOM_Paid_Churn_Denom END)                                        AS Holdout_Churn_Denom\n",
    "       ,SUM(EOM_Paid_Churn_Num)                                                                                      AS Platform_Churn_Num\n",
    "       ,SUM(CASE WHEN Email_Cohort = 'Targeted' THEN EOM_Paid_Churn_Num END)            AS Targeted_Churn_Num\n",
    "       ,SUM(CASE WHEN Email_Cohort = 'Holdout' THEN EOM_Paid_Churn_Num END)             AS Holdout_Churn_Num\n",
    "\tFROM `nbcu-ds-sandbox-a-001.SLi_sandbox.GOLD_EMAIL_CHANNEL_PERFORMANCE_PLATFORM`\n",
    "\tWHERE paying_account_flag = 'Paying'\n",
    "\tGROUP BY  1\n",
    ")\n",
    "SELECT  Report_Month\n",
    "       ,Users\n",
    "       ,Email_Users\n",
    "\t   -- Usage\n",
    "       ,Platform_Usage_Hours\n",
    "       ,(Targeted_Usage_Hours/Targeted_Users - Holdout_Usage_Hours/Holdout_Users)*Targeted_Users                        AS Incremental_Email_Usage_Hours\n",
    "       ,(Targeted_Usage_Hours/Targeted_Users - Holdout_Usage_Hours/Holdout_Users)*Targeted_Users / Platform_Usage_Hours AS Email_Usage_Hours_Contribution\n",
    "\t\t-- Repertoire\n",
    "       ,Platform_Rep\n",
    "       ,(Targeted_Rep/Targeted_Users - Holdout_Rep/Holdout_Users)*Targeted_Users                        AS Incremental_Email_Rep\n",
    "       ,(Targeted_Rep/Targeted_Users - Holdout_Rep/Holdout_Users)*Targeted_Users / Platform_Rep AS Email_Rep_Contribution\n",
    "\t   -- Frequency\n",
    "       ,Platform_Frequency\n",
    "       ,(Targeted_Frequency/Targeted_Users - Holdout_Frequency/Holdout_Users)*Targeted_Users                        AS Incremental_Email_Frequency\n",
    "       ,(Targeted_Frequency/Targeted_Users - Holdout_Frequency/Holdout_Users)*Targeted_Users / Platform_Frequency AS Email_Frequency_Contribution\n",
    "       /*\n",
    "\t   -- FTP\n",
    "       ,Platform_FTP_Denom                                                                                                    AS Free_Users_Inflows\n",
    "       ,Platform_FTP_Num                                                                                                      AS Free_to_Paid_Inflows\n",
    "       ,(Targeted_FTP_Num/Targeted_FTP_Denom - Holdout_FTP_Num/Holdout_FTP_Denom)*Targeted_FTP_Denom                        AS Incremental_Email_FTP_Num\n",
    "       ,(Targeted_FTP_Num/Targeted_FTP_Denom - Holdout_FTP_Num/Holdout_FTP_Denom)*Targeted_FTP_Denom / Platform_FTP_Denom AS Email_FTP_Num_Contribution\n",
    "       */\n",
    "\t   -- Churn\n",
    "       ,Platform_Churn_Denom                                                                                                                AS Paid_Users\n",
    "       ,Platform_Churn_Num                                                                                                                  AS Churned_Users\n",
    "       ,(SAFE_DIVIDE(Targeted_Churn_Num, Targeted_Churn_Denom) - SAFE_DIVIDE(Holdout_Churn_Num, Holdout_Churn_Denom)) * Targeted_Churn_Denom                        AS Incremental_Email_Churn_Num\n",
    "       ,SAFE_DIVIDE( (SAFE_DIVIDE(Targeted_Churn_Num, Targeted_Churn_Denom) - SAFE_DIVIDE(Holdout_Churn_Num, Holdout_Churn_Denom)) * Targeted_Churn_Denom, Platform_Churn_Denom) AS Email_Churn_Num_Contribution\n",
    "FROM a\n",
    "ORDER BY 1"
   ]
  },
  {
   "cell_type": "code",
   "execution_count": 26,
   "metadata": {
    "vscode": {
     "languageId": "sql"
    }
   },
   "outputs": [],
   "source": [
    "df_paying.to_excel('crm_contribution_qa.xlsx')"
   ]
  },
  {
   "cell_type": "code",
   "execution_count": 19,
   "metadata": {
    "vscode": {
     "languageId": "sql"
    }
   },
   "outputs": [
    {
     "data": {
      "application/vnd.jupyter.widget-view+json": {
       "model_id": "bcd99366319f479ebb868662182f35b9",
       "version_major": 2,
       "version_minor": 0
      },
      "text/plain": [
       "Query is running:   0%|          |"
      ]
     },
     "metadata": {},
     "output_type": "display_data"
    },
    {
     "data": {
      "application/vnd.jupyter.widget-view+json": {
       "model_id": "06f3aa643f82414d9dfe6e0a47186885",
       "version_major": 2,
       "version_minor": 0
      },
      "text/plain": [
       "Downloading:   0%|          |"
      ]
     },
     "metadata": {},
     "output_type": "display_data"
    },
    {
     "data": {
      "text/html": [
       "<div>\n",
       "<style scoped>\n",
       "    .dataframe tbody tr th:only-of-type {\n",
       "        vertical-align: middle;\n",
       "    }\n",
       "\n",
       "    .dataframe tbody tr th {\n",
       "        vertical-align: top;\n",
       "    }\n",
       "\n",
       "    .dataframe thead th {\n",
       "        text-align: right;\n",
       "    }\n",
       "</style>\n",
       "<table border=\"1\" class=\"dataframe\">\n",
       "  <thead>\n",
       "    <tr style=\"text-align: right;\">\n",
       "      <th></th>\n",
       "      <th>Report_Month</th>\n",
       "      <th>Platform_Churn_Denom</th>\n",
       "      <th>Targeted_Churn_Denom</th>\n",
       "      <th>Holdout_Churn_Denom</th>\n",
       "      <th>Platform_Churn_Num</th>\n",
       "      <th>Targeted_Churn_Num</th>\n",
       "      <th>Holdout_Churn_Num</th>\n",
       "    </tr>\n",
       "  </thead>\n",
       "  <tbody>\n",
       "    <tr>\n",
       "      <th>0</th>\n",
       "      <td>2023-01-01</td>\n",
       "      <td>21306414</td>\n",
       "      <td>10432408</td>\n",
       "      <td>481119</td>\n",
       "      <td>1312745</td>\n",
       "      <td>626352</td>\n",
       "      <td>29588</td>\n",
       "    </tr>\n",
       "    <tr>\n",
       "      <th>1</th>\n",
       "      <td>2023-02-01</td>\n",
       "      <td>21340572</td>\n",
       "      <td>12935147</td>\n",
       "      <td>481830</td>\n",
       "      <td>1143230</td>\n",
       "      <td>640133</td>\n",
       "      <td>25725</td>\n",
       "    </tr>\n",
       "    <tr>\n",
       "      <th>2</th>\n",
       "      <td>2023-03-01</td>\n",
       "      <td>21640545</td>\n",
       "      <td>14696292</td>\n",
       "      <td>490270</td>\n",
       "      <td>1111805</td>\n",
       "      <td>711494</td>\n",
       "      <td>25338</td>\n",
       "    </tr>\n",
       "    <tr>\n",
       "      <th>3</th>\n",
       "      <td>2023-04-01</td>\n",
       "      <td>21829723</td>\n",
       "      <td>13762340</td>\n",
       "      <td>445633</td>\n",
       "      <td>1158194</td>\n",
       "      <td>706202</td>\n",
       "      <td>23200</td>\n",
       "    </tr>\n",
       "    <tr>\n",
       "      <th>4</th>\n",
       "      <td>2023-05-01</td>\n",
       "      <td>21908621</td>\n",
       "      <td>13549452</td>\n",
       "      <td>449718</td>\n",
       "      <td>1305096</td>\n",
       "      <td>769650</td>\n",
       "      <td>26319</td>\n",
       "    </tr>\n",
       "    <tr>\n",
       "      <th>5</th>\n",
       "      <td>2023-06-01</td>\n",
       "      <td>24499160</td>\n",
       "      <td>14431107</td>\n",
       "      <td>497873</td>\n",
       "      <td>1510342</td>\n",
       "      <td>852139</td>\n",
       "      <td>30499</td>\n",
       "    </tr>\n",
       "    <tr>\n",
       "      <th>6</th>\n",
       "      <td>2023-07-01</td>\n",
       "      <td>26019336</td>\n",
       "      <td>13753946</td>\n",
       "      <td>588002</td>\n",
       "      <td>1377679</td>\n",
       "      <td>683420</td>\n",
       "      <td>29329</td>\n",
       "    </tr>\n",
       "    <tr>\n",
       "      <th>7</th>\n",
       "      <td>2023-08-01</td>\n",
       "      <td>26975291</td>\n",
       "      <td>13909261</td>\n",
       "      <td>594924</td>\n",
       "      <td>1429045</td>\n",
       "      <td>704737</td>\n",
       "      <td>29581</td>\n",
       "    </tr>\n",
       "    <tr>\n",
       "      <th>8</th>\n",
       "      <td>2023-09-01</td>\n",
       "      <td>28065836</td>\n",
       "      <td>14484779</td>\n",
       "      <td>599356</td>\n",
       "      <td>1367673</td>\n",
       "      <td>676014</td>\n",
       "      <td>26197</td>\n",
       "    </tr>\n",
       "    <tr>\n",
       "      <th>9</th>\n",
       "      <td>2023-10-01</td>\n",
       "      <td>29297085</td>\n",
       "      <td>16150293</td>\n",
       "      <td>548303</td>\n",
       "      <td>1679186</td>\n",
       "      <td>859374</td>\n",
       "      <td>27391</td>\n",
       "    </tr>\n",
       "    <tr>\n",
       "      <th>10</th>\n",
       "      <td>2023-11-01</td>\n",
       "      <td>30741841</td>\n",
       "      <td>16538499</td>\n",
       "      <td>549015</td>\n",
       "      <td>1864551</td>\n",
       "      <td>988413</td>\n",
       "      <td>28874</td>\n",
       "    </tr>\n",
       "    <tr>\n",
       "      <th>11</th>\n",
       "      <td>2023-12-01</td>\n",
       "      <td>0</td>\n",
       "      <td>0</td>\n",
       "      <td>0</td>\n",
       "      <td>0</td>\n",
       "      <td>0</td>\n",
       "      <td>0</td>\n",
       "    </tr>\n",
       "  </tbody>\n",
       "</table>\n",
       "</div>"
      ],
      "text/plain": [
       "   Report_Month  Platform_Churn_Denom  Targeted_Churn_Denom  \\\n",
       "0    2023-01-01              21306414              10432408   \n",
       "1    2023-02-01              21340572              12935147   \n",
       "2    2023-03-01              21640545              14696292   \n",
       "3    2023-04-01              21829723              13762340   \n",
       "4    2023-05-01              21908621              13549452   \n",
       "5    2023-06-01              24499160              14431107   \n",
       "6    2023-07-01              26019336              13753946   \n",
       "7    2023-08-01              26975291              13909261   \n",
       "8    2023-09-01              28065836              14484779   \n",
       "9    2023-10-01              29297085              16150293   \n",
       "10   2023-11-01              30741841              16538499   \n",
       "11   2023-12-01                     0                     0   \n",
       "\n",
       "    Holdout_Churn_Denom  Platform_Churn_Num  Targeted_Churn_Num  \\\n",
       "0                481119             1312745              626352   \n",
       "1                481830             1143230              640133   \n",
       "2                490270             1111805              711494   \n",
       "3                445633             1158194              706202   \n",
       "4                449718             1305096              769650   \n",
       "5                497873             1510342              852139   \n",
       "6                588002             1377679              683420   \n",
       "7                594924             1429045              704737   \n",
       "8                599356             1367673              676014   \n",
       "9                548303             1679186              859374   \n",
       "10               549015             1864551              988413   \n",
       "11                    0                   0                   0   \n",
       "\n",
       "    Holdout_Churn_Num  \n",
       "0               29588  \n",
       "1               25725  \n",
       "2               25338  \n",
       "3               23200  \n",
       "4               26319  \n",
       "5               30499  \n",
       "6               29329  \n",
       "7               29581  \n",
       "8               26197  \n",
       "9               27391  \n",
       "10              28874  \n",
       "11                  0  "
      ]
     },
     "execution_count": 19,
     "metadata": {},
     "output_type": "execute_result"
    }
   ],
   "source": [
    "%%bigquery \n",
    "SELECT Report_Month\n",
    ",SUM(EOM_Paid_Churn_Denom)                                                                                    AS Platform_Churn_Denom\n",
    ",SUM(CASE WHEN Email_Cohort = 'Targeted' THEN EOM_Paid_Churn_Denom END)                                       AS Targeted_Churn_Denom\n",
    ",SUM(CASE WHEN Email_Cohort = 'Holdout' THEN EOM_Paid_Churn_Denom END)                                        AS Holdout_Churn_Denom\n",
    ",SUM(EOM_Paid_Churn_Num)                                                                                      AS Platform_Churn_Num\n",
    ",SUM(CASE WHEN Email_Cohort = 'Targeted' THEN EOM_Paid_Churn_Num END)            AS Targeted_Churn_Num\n",
    ",SUM(CASE WHEN Email_Cohort = 'Holdout' THEN EOM_Paid_Churn_Num END)             AS Holdout_Churn_Num\n",
    "FROM `nbcu-ds-sandbox-a-001.SLi_sandbox.GOLD_EMAIL_CHANNEL_PERFORMANCE_PLATFORM`\n",
    "WHERE paying_account_flag = 'Paying' and report_month >= '2023-01-01'\n",
    "GROUP BY 1\n",
    "ORDER BY 1"
   ]
  },
  {
   "cell_type": "code",
   "execution_count": null,
   "metadata": {
    "vscode": {
     "languageId": "sql"
    }
   },
   "outputs": [],
   "source": []
  }
 ],
 "metadata": {
  "kernelspec": {
   "display_name": "base",
   "language": "python",
   "name": "python3"
  },
  "language_info": {
   "codemirror_mode": {
    "name": "ipython",
    "version": 3
   },
   "file_extension": ".py",
   "mimetype": "text/x-python",
   "name": "python",
   "nbconvert_exporter": "python",
   "pygments_lexer": "ipython3",
   "version": "3.10.9"
  }
 },
 "nbformat": 4,
 "nbformat_minor": 2
}
