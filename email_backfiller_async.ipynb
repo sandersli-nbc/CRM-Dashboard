{
 "cells": [
  {
   "cell_type": "code",
   "execution_count": 22,
   "metadata": {},
   "outputs": [
    {
     "name": "stdout",
     "output_type": "stream",
     "text": [
      "The google.cloud.bigquery extension is already loaded. To reload it, use:\n",
      "  %reload_ext google.cloud.bigquery\n",
      "env: GCLOUD_PROJECT=nbcu-ds-sandbox-a-001\n"
     ]
    }
   ],
   "source": [
    "from datetime import datetime, timedelta\n",
    "import numpy as np\n",
    "import pandas as pd\n",
    "import matplotlib.pyplot as plt\n",
    "import seaborn as sns\n",
    "import pandas_gbq\n",
    "import pydata_google_auth\n",
    "from concurrent.futures import ThreadPoolExecutor, as_completed\n",
    "from google.cloud import bigquery\n",
    "from tqdm.notebook import tqdm\n",
    "from dateutil import tz\n",
    "from BigQueryTools import QueryTool\n",
    "import re\n",
    "\n",
    "SCOPES = [\n",
    "    'https://www.googleapis.com/auth/cloud-platform',\n",
    "    'https://www.googleapis.com/auth/drive',\n",
    "]\n",
    "credentials = pydata_google_auth.get_user_credentials(\n",
    "    SCOPES,\n",
    "    # Set auth_local_webserver to True to have a slightly more convienient\n",
    "    # authorization flow. Note, this doesn't work if you're running from a\n",
    "    # notebook on a remote sever, such as over SSH or with Google Colab.\n",
    "    auth_local_webserver=True,\n",
    ")\n",
    "\n",
    "%load_ext google.cloud.bigquery\n",
    "%env GCLOUD_PROJECT=nbcu-ds-sandbox-a-001"
   ]
  },
  {
   "cell_type": "markdown",
   "metadata": {},
   "source": [
    "# How to use"
   ]
  },
  {
   "cell_type": "markdown",
   "metadata": {},
   "source": [
    "### Before running\n",
    "- Change start_date variable to analysis start. \n",
    "- Change end_date variable to analysis end. \n",
    "### Monthly and Quarterly Staging Tables\n",
    "- Be aware that the pipeline will overwrite the table - it does not append new data to the existing table\n",
    "- bq.add() adds jobs to queue. If a job with the same name is running, bq.add() will skip the file. Use bq.cancel() to drop currently running jobs.\n",
    "- bq.start() runs all jobs in queue\n",
    "- bq.update() updates all jobs in queue. Jobs that are finished are listed as DONE.\n",
    "- bq.cancel() drops all running jobs in queue\n",
    "- WAIT UNTIL ALL JOBS ARE COMPLETED BEFORE PROCEEDING\n",
    "### Compiling Results\n",
    "- \"Compile Results\" section puts together Monthly and Quarterly Results\n",
    "- \"Build Gold\" section puts together final gold tables, aggregating users on filters \n",
    "### Ad Hoc Pulls\n",
    "- Use analysis section to pull ad hoc requests"
   ]
  },
  {
   "attachments": {},
   "cell_type": "markdown",
   "metadata": {},
   "source": [
    "# Email Channel"
   ]
  },
  {
   "cell_type": "code",
   "execution_count": 23,
   "metadata": {},
   "outputs": [],
   "source": [
    "start_date = '2022-01-01'\n",
    "end_date = '2023-12-31'"
   ]
  },
  {
   "cell_type": "code",
   "execution_count": 25,
   "metadata": {},
   "outputs": [],
   "source": [
    "def get_monthly_report_dates(start_date, end_date):\n",
    "    start = datetime.strptime(start_date, \"%Y-%m-%d\")\n",
    "    end = datetime.strptime(end_date, \"%Y-%m-%d\")\n",
    "    monthly_reports = {}\n",
    "\n",
    "    while start <= end:\n",
    "        month_year = start.strftime(\"%b_%Y\")\n",
    "        report_start_date = start.replace(day=1)\n",
    "        next_month = start.replace(day=28) + timedelta(days=4)\n",
    "        report_end_date = next_month - timedelta(days=next_month.day)\n",
    "        monthly_reports[month_year] = {\n",
    "            \"report_start_date\": report_start_date.strftime(\"%Y-%m-%d\"),\n",
    "            \"report_end_date\": report_end_date.strftime(\"%Y-%m-%d\")\n",
    "        }\n",
    "        start = next_month\n",
    "\n",
    "    return monthly_reports\n",
    "\n",
    "def get_quarter(p_date) -> int:\n",
    "    return (p_date.month - 1) // 3 + 1\n",
    "\n",
    "def get_quarterly_report_dates(start_date_str, end_date_str):\n",
    "    start_date = datetime.strptime(start_date_str, '%Y-%m-%d')\n",
    "    end_date = datetime.strptime(end_date_str, '%Y-%m-%d')\n",
    "\n",
    "    quarter_dates = {}\n",
    "\n",
    "    while start_date <= end_date:\n",
    "        quarter = get_quarter(start_date)\n",
    "        quarter_name = 'Q{}_{}'.format(quarter, start_date.year)\n",
    "        quarter_start = datetime(start_date.year, (start_date.month - 1) // 3 * 3 + 1, 1)\n",
    "        quarter_end = quarter_start.replace(year=quarter_start.year + 3 * quarter // 12, month=(quarter_start.month + 3) % 12, day=1) - timedelta(days=1)\n",
    "        quarter_dates[quarter_name] = {\n",
    "            'report_start_date': quarter_start.strftime('%Y-%m-%d'),\n",
    "            'report_end_date': quarter_end.strftime('%Y-%m-%d')\n",
    "        }\n",
    "        start_date = quarter_end + timedelta(days=1)\n",
    "\n",
    "    return quarter_dates\n",
    "\n",
    "def generate_report_variants(period_dict, suffix=\"report\"):\n",
    "    return {'_'.join([period, suffix]): {'string_format': {'report': period}, 'params': params} for period, params in period_dict.items()}"
   ]
  },
  {
   "cell_type": "code",
   "execution_count": 26,
   "metadata": {},
   "outputs": [],
   "source": [
    "months = get_monthly_report_dates(start_date, end_date)\n",
    "quarters = get_quarterly_report_dates(start_date, end_date)\n",
    "monthly_viewing_tables = generate_report_variants(months, 'viewing')\n",
    "quarterly_viewing_tables = generate_report_variants(quarters, 'viewing')\n",
    "month_tables = generate_report_variants(months)\n",
    "quarter_tables = generate_report_variants(quarters)\n",
    "bq = QueryTool()"
   ]
  },
  {
   "attachments": {},
   "cell_type": "markdown",
   "metadata": {},
   "source": [
    "## Monthly"
   ]
  },
  {
   "cell_type": "code",
   "execution_count": 27,
   "metadata": {},
   "outputs": [
    {
     "name": "stdout",
     "output_type": "stream",
     "text": [
      "Added: Jan_2022_report\t | \tAwaiting start\n",
      "Added: Feb_2022_report\t | \tAwaiting start\n",
      "Added: Mar_2022_report\t | \tAwaiting start\n",
      "Added: Apr_2022_report\t | \tAwaiting start\n",
      "Added: May_2022_report\t | \tAwaiting start\n",
      "Added: Jun_2022_report\t | \tAwaiting start\n",
      "Added: Jul_2022_report\t | \tAwaiting start\n",
      "Added: Aug_2022_report\t | \tAwaiting start\n",
      "Added: Sep_2022_report\t | \tAwaiting start\n",
      "Added: Oct_2022_report\t | \tAwaiting start\n",
      "Added: Nov_2022_report\t | \tAwaiting start\n",
      "Added: Dec_2022_report\t | \tAwaiting start\n",
      "Added: Jan_2023_report\t | \tAwaiting start\n",
      "Added: Feb_2023_report\t | \tAwaiting start\n",
      "Added: Mar_2023_report\t | \tAwaiting start\n",
      "Added: Apr_2023_report\t | \tAwaiting start\n",
      "Added: May_2023_report\t | \tAwaiting start\n",
      "Added: Jun_2023_report\t | \tAwaiting start\n",
      "Added: Jul_2023_report\t | \tAwaiting start\n",
      "Added: Aug_2023_report\t | \tAwaiting start\n",
      "Added: Sep_2023_report\t | \tAwaiting start\n",
      "Added: Oct_2023_report\t | \tAwaiting start\n",
      "Added: Nov_2023_report\t | \tAwaiting start\n",
      "Added: Dec_2023_report\t | \tAwaiting start\n"
     ]
    }
   ],
   "source": [
    "with open('Silver_Email_Monthly.sql', 'r') as file:\n",
    "    sql_file = file.read()\n",
    "    bq.add(sql_file, month_tables)"
   ]
  },
  {
   "attachments": {},
   "cell_type": "markdown",
   "metadata": {},
   "source": [
    "## Quarterly"
   ]
  },
  {
   "cell_type": "code",
   "execution_count": 28,
   "metadata": {},
   "outputs": [
    {
     "name": "stdout",
     "output_type": "stream",
     "text": [
      "Added: Q1_2022_report\t | \tAwaiting start\n",
      "Added: Q2_2022_report\t | \tAwaiting start\n",
      "Added: Q3_2022_report\t | \tAwaiting start\n",
      "Added: Q4_2022_report\t | \tAwaiting start\n",
      "Added: Q1_2023_report\t | \tAwaiting start\n",
      "Added: Q2_2023_report\t | \tAwaiting start\n",
      "Added: Q3_2023_report\t | \tAwaiting start\n",
      "Added: Q4_2023_report\t | \tAwaiting start\n"
     ]
    }
   ],
   "source": [
    "with open('Silver_Email_Quarterly.sql', 'r') as file:\n",
    "    sql_file = file.read()\n",
    "    bq.add(sql_file, quarter_tables)"
   ]
  },
  {
   "cell_type": "code",
   "execution_count": 29,
   "metadata": {},
   "outputs": [
    {
     "name": "stdout",
     "output_type": "stream",
     "text": [
      "start 8830cbf6-d0a6-4a9b-ba89-3b149be7daef\n",
      "start 5b5856af-e008-4830-a995-8fbf78ae85b7\n",
      "start 597f6cc2-6eb9-4d09-91ea-987c1b6d1a99\n",
      "start 364c103e-a564-4e9e-bb42-11a400dea5f3\n",
      "start e9f28386-9d4c-4bb6-a3fc-33dab99fe73e\n",
      "start 9b9017bf-8005-44ff-8da1-8fc2c59ff5ff\n",
      "start b5351fcd-a2c5-4915-988e-85169018dafa\n",
      "start ce9e5b1e-67ef-4328-a485-d3eeddc21bd5\n",
      "start c1de8675-39a3-4fa5-b040-f8699fec04ec\n",
      "start 1016e942-8475-4d48-aa94-055c116a772d\n",
      "start 999a50a4-4349-4921-8c1e-84fff6d99ec5\n",
      "start 0f9d955a-4048-4182-95c6-afe338179660\n",
      "start 83f0e29c-4777-451c-950a-7e3de39fcce5\n",
      "start 9457debf-3f02-4986-b73b-efdb7bf87f28\n",
      "start db2eac0b-afba-4c38-bb8b-eb24a2079ae3\n",
      "start bbeae897-6426-4b87-b5d2-d8024334bceb\n",
      "start 1a18fe60-a8cf-49ee-80fd-2a1c39ea8b48\n",
      "start aebf444e-f6bb-4ef4-9d46-e4c6b44af89c\n",
      "start 37c01470-1cca-444e-ab09-e200c8c0b586\n",
      "start 8ab1b53e-a70b-438e-aa5d-08c62a078574\n",
      "start e43586ca-65a4-4970-9439-6a1e0298ae02\n",
      "start 085e43a3-9b2d-4eb8-8554-385866c66e4d\n",
      "start 735c0e77-b6e8-4506-9409-d738a3e7c280\n",
      "start 87003d4e-f6ca-403b-9dcd-b7e10a2c67da\n",
      "start 883af1f8-4cf6-4b61-8e76-be2b100bc8c2\n",
      "start 3790d801-2b0b-4d4b-b82e-4a2d3fba26af\n",
      "start d7637e28-f269-40ab-9e6b-e6cdbc7b620c\n",
      "start 797630a3-2d3c-455e-b639-a50f43e28ad7\n",
      "start 2f7b585a-fac0-42df-a7dd-ffd9fd52dc66\n",
      "start b935fb0e-34c6-4fa5-a100-58cff8681ab7\n",
      "start 86fe2b15-cb8d-4dbf-960f-fa8c102cca63\n",
      "start ec13cdfa-a5c0-4c0a-a098-bebf8dbc7b68\n",
      "All jobs in queue started\n"
     ]
    }
   ],
   "source": [
    "bq.start()"
   ]
  },
  {
   "cell_type": "code",
   "execution_count": 31,
   "metadata": {},
   "outputs": [
    {
     "name": "stdout",
     "output_type": "stream",
     "text": [
      "Active jobs: \n",
      "\n",
      "\n",
      "Finished jobs: \n",
      "Jan_2022_report\t | \tc1de8675-39a3-4fa5-b040-f8699fec04ec\t | \tCreated: Jan 10, 2024 04:25 PM\t | \tLast Checked: Jan 11, 2024 10:22 AM\t | \tDONE\n",
      "Feb_2022_report\t | \tce9e5b1e-67ef-4328-a485-d3eeddc21bd5\t | \tCreated: Jan 10, 2024 04:25 PM\t | \tLast Checked: Jan 11, 2024 10:22 AM\t | \tDONE\n",
      "Mar_2022_report\t | \t364c103e-a564-4e9e-bb42-11a400dea5f3\t | \tCreated: Jan 10, 2024 04:25 PM\t | \tLast Checked: Jan 11, 2024 10:22 AM\t | \tDONE\n",
      "Apr_2022_report\t | \t883af1f8-4cf6-4b61-8e76-be2b100bc8c2\t | \tCreated: Jan 10, 2024 04:25 PM\t | \tLast Checked: Jan 11, 2024 10:22 AM\t | \tDONE\n",
      "May_2022_report\t | \t1016e942-8475-4d48-aa94-055c116a772d\t | \tCreated: Jan 10, 2024 04:25 PM\t | \tLast Checked: Jan 11, 2024 10:22 AM\t | \tDONE\n",
      "Jun_2022_report\t | \t8830cbf6-d0a6-4a9b-ba89-3b149be7daef\t | \tCreated: Jan 10, 2024 04:25 PM\t | \tLast Checked: Jan 11, 2024 10:22 AM\t | \tDONE\n",
      "Jul_2022_report\t | \t999a50a4-4349-4921-8c1e-84fff6d99ec5\t | \tCreated: Jan 10, 2024 04:25 PM\t | \tLast Checked: Jan 11, 2024 10:22 AM\t | \tDONE\n",
      "Aug_2022_report\t | \t1a18fe60-a8cf-49ee-80fd-2a1c39ea8b48\t | \tCreated: Jan 10, 2024 04:25 PM\t | \tLast Checked: Jan 11, 2024 10:22 AM\t | \tDONE\n",
      "Sep_2022_report\t | \te43586ca-65a4-4970-9439-6a1e0298ae02\t | \tCreated: Jan 10, 2024 04:25 PM\t | \tLast Checked: Jan 11, 2024 10:22 AM\t | \tDONE\n",
      "Oct_2022_report\t | \tb5351fcd-a2c5-4915-988e-85169018dafa\t | \tCreated: Jan 10, 2024 04:25 PM\t | \tLast Checked: Jan 11, 2024 10:22 AM\t | \tDONE\n",
      "Nov_2022_report\t | \t597f6cc2-6eb9-4d09-91ea-987c1b6d1a99\t | \tCreated: Jan 10, 2024 04:25 PM\t | \tLast Checked: Jan 11, 2024 10:22 AM\t | \tDONE\n",
      "Dec_2022_report\t | \t085e43a3-9b2d-4eb8-8554-385866c66e4d\t | \tCreated: Jan 10, 2024 04:25 PM\t | \tLast Checked: Jan 11, 2024 10:22 AM\t | \tDONE\n",
      "Jan_2023_report\t | \t9457debf-3f02-4986-b73b-efdb7bf87f28\t | \tCreated: Jan 10, 2024 04:25 PM\t | \tLast Checked: Jan 11, 2024 10:22 AM\t | \tDONE\n",
      "Feb_2023_report\t | \taebf444e-f6bb-4ef4-9d46-e4c6b44af89c\t | \tCreated: Jan 10, 2024 04:25 PM\t | \tLast Checked: Jan 11, 2024 10:22 AM\t | \tDONE\n",
      "Mar_2023_report\t | \t797630a3-2d3c-455e-b639-a50f43e28ad7\t | \tCreated: Jan 10, 2024 04:25 PM\t | \tLast Checked: Jan 11, 2024 10:22 AM\t | \tDONE\n",
      "Apr_2023_report\t | \t83f0e29c-4777-451c-950a-7e3de39fcce5\t | \tCreated: Jan 10, 2024 04:25 PM\t | \tLast Checked: Jan 11, 2024 10:22 AM\t | \tDONE\n",
      "May_2023_report\t | \te9f28386-9d4c-4bb6-a3fc-33dab99fe73e\t | \tCreated: Jan 10, 2024 04:25 PM\t | \tLast Checked: Jan 11, 2024 10:22 AM\t | \tDONE\n",
      "Jun_2023_report\t | \t9b9017bf-8005-44ff-8da1-8fc2c59ff5ff\t | \tCreated: Jan 10, 2024 04:25 PM\t | \tLast Checked: Jan 11, 2024 10:22 AM\t | \tDONE\n",
      "Jul_2023_report\t | \t37c01470-1cca-444e-ab09-e200c8c0b586\t | \tCreated: Jan 10, 2024 04:25 PM\t | \tLast Checked: Jan 11, 2024 10:22 AM\t | \tDONE\n",
      "Aug_2023_report\t | \t3790d801-2b0b-4d4b-b82e-4a2d3fba26af\t | \tCreated: Jan 10, 2024 04:25 PM\t | \tLast Checked: Jan 11, 2024 10:22 AM\t | \tDONE\n",
      "Sep_2023_report\t | \t735c0e77-b6e8-4506-9409-d738a3e7c280\t | \tCreated: Jan 10, 2024 04:25 PM\t | \tLast Checked: Jan 11, 2024 10:22 AM\t | \tDONE\n",
      "Oct_2023_report\t | \t87003d4e-f6ca-403b-9dcd-b7e10a2c67da\t | \tCreated: Jan 10, 2024 04:25 PM\t | \tLast Checked: Jan 11, 2024 10:22 AM\t | \tDONE\n",
      "Nov_2023_report\t | \td7637e28-f269-40ab-9e6b-e6cdbc7b620c\t | \tCreated: Jan 10, 2024 04:25 PM\t | \tLast Checked: Jan 11, 2024 10:22 AM\t | \tDONE\n",
      "Dec_2023_report\t | \t0f9d955a-4048-4182-95c6-afe338179660\t | \tCreated: Jan 10, 2024 04:25 PM\t | \tLast Checked: Jan 11, 2024 10:22 AM\t | \tDONE\n",
      "Q1_2022_report\t | \t5b5856af-e008-4830-a995-8fbf78ae85b7\t | \tCreated: Jan 10, 2024 04:25 PM\t | \tLast Checked: Jan 11, 2024 10:22 AM\t | \tDONE\n",
      "Q2_2022_report\t | \tb935fb0e-34c6-4fa5-a100-58cff8681ab7\t | \tCreated: Jan 10, 2024 04:25 PM\t | \tLast Checked: Jan 11, 2024 10:22 AM\t | \tDONE\n",
      "Q3_2022_report\t | \t8ab1b53e-a70b-438e-aa5d-08c62a078574\t | \tCreated: Jan 10, 2024 04:25 PM\t | \tLast Checked: Jan 11, 2024 10:22 AM\t | \tDONE\n",
      "Q4_2022_report\t | \tdb2eac0b-afba-4c38-bb8b-eb24a2079ae3\t | \tCreated: Jan 10, 2024 04:25 PM\t | \tLast Checked: Jan 11, 2024 10:22 AM\t | \tDONE\n",
      "Q1_2023_report\t | \t2f7b585a-fac0-42df-a7dd-ffd9fd52dc66\t | \tCreated: Jan 10, 2024 04:25 PM\t | \tLast Checked: Jan 11, 2024 10:22 AM\t | \tDONE\n",
      "Q2_2023_report\t | \tec13cdfa-a5c0-4c0a-a098-bebf8dbc7b68\t | \tCreated: Jan 10, 2024 04:25 PM\t | \tLast Checked: Jan 11, 2024 10:22 AM\t | \tDONE\n",
      "Q3_2023_report\t | \tbbeae897-6426-4b87-b5d2-d8024334bceb\t | \tCreated: Jan 10, 2024 04:25 PM\t | \tLast Checked: Jan 11, 2024 10:22 AM\t | \tDONE\n",
      "Q4_2023_report\t | \t86fe2b15-cb8d-4dbf-960f-fa8c102cca63\t | \tCreated: Jan 10, 2024 04:25 PM\t | \tLast Checked: Jan 11, 2024 10:22 AM\t | \tDONE\n"
     ]
    }
   ],
   "source": [
    "bq.update()"
   ]
  },
  {
   "attachments": {},
   "cell_type": "markdown",
   "metadata": {},
   "source": [
    "# Compile Results"
   ]
  },
  {
   "cell_type": "code",
   "execution_count": 32,
   "metadata": {},
   "outputs": [],
   "source": [
    "# Merge and group monthly results\n",
    "query = \"\"\"\n",
    "        CREATE or replace TABLE `nbcu-ds-sandbox-a-001.SLi_sandbox.SILVER_EMAIL_CHANNEL_PERFORMANCE_MONTHLY` AS \n",
    "        \n",
    "        SELECT *\n",
    "        FROM ( \n",
    "        \"\"\" + \\\n",
    "        (' UNION ALL ').join([f'(select * from `nbcu-ds-sandbox-a-001.SLi_sandbox.Email_Channel_Base_{report}`)' for report in months]) + \\\n",
    "        \"\"\"\n",
    "        )\n",
    "        \"\"\"\n",
    "        \n",
    "with bigquery.Client() as client:\n",
    "    client.query(query).result()"
   ]
  },
  {
   "cell_type": "code",
   "execution_count": 33,
   "metadata": {},
   "outputs": [],
   "source": [
    "# Merge and group monthly results\n",
    "query = \"\"\"\n",
    "        CREATE or replace TABLE `nbcu-ds-sandbox-a-001.SLi_sandbox.SILVER_EMAIL_CHANNEL_PERFORMANCE_QUARTERLY` AS \n",
    "        \n",
    "        SELECT *\n",
    "        FROM ( \n",
    "        \"\"\" + \\\n",
    "        (' UNION ALL ').join([f'(select * from `nbcu-ds-sandbox-a-001.SLi_sandbox.Email_Channel_Base_{report}`)' for report in quarters]) + \\\n",
    "        \"\"\"\n",
    "        )\n",
    "        \"\"\"\n",
    "        \n",
    "with bigquery.Client() as client:\n",
    "    client.query(query).result()"
   ]
  },
  {
   "attachments": {},
   "cell_type": "markdown",
   "metadata": {},
   "source": [
    "# Build Gold"
   ]
  },
  {
   "cell_type": "code",
   "execution_count": 35,
   "metadata": {},
   "outputs": [],
   "source": [
    "# Merge and group monthly results\n",
    "\n",
    "with open('Gold_Email_Performance.sql', 'r') as file:\n",
    "    query = file.read()\n",
    "    with bigquery.Client() as client:\n",
    "        client.query(query).result()"
   ]
  },
  {
   "cell_type": "code",
   "execution_count": 14,
   "metadata": {},
   "outputs": [
    {
     "data": {
      "application/vnd.jupyter.widget-view+json": {
       "model_id": "26cc3ddc7bb4443a993bac410f0e3dba",
       "version_major": 2,
       "version_minor": 0
      },
      "text/plain": [
       "Query is running:   0%|          |"
      ]
     },
     "metadata": {},
     "output_type": "display_data"
    },
    {
     "data": {
      "application/vnd.jupyter.widget-view+json": {
       "model_id": "883251348ea74ae7ae1afce92337f004",
       "version_major": 2,
       "version_minor": 0
      },
      "text/plain": [
       "Downloading:   0%|          |"
      ]
     },
     "metadata": {},
     "output_type": "display_data"
    }
   ],
   "source": [
    "%%bigquery df\n",
    "\n",
    "select * from `nbcu-ds-sandbox-a-001.SLi_sandbox.GOLD_EMAIL_CHANNEL_PERFORMANCE_TEST` limit 10"
   ]
  },
  {
   "cell_type": "code",
   "execution_count": 15,
   "metadata": {},
   "outputs": [
    {
     "data": {
      "text/plain": [
       "Index(['Result_Type', 'Report_Month', 'Cohort', 'Account_Type',\n",
       "       'Active_Viewer', 'Primary_Device', 'Account_Tenure', 'Paid_Tenure',\n",
       "       'Billing_Platform', 'Bundling_Partner', 'Billing_Cycle_Category',\n",
       "       'Offer', 'Churn_Frequency', 'Previously_Bundled', 'Prev_30d_Viewer',\n",
       "       'Prev_Paying_Account_Flag', 'Intender_Audience', 'Genre', 'Network',\n",
       "       'Users', 'Viewers', 'Viewing_Time', 'Repertoire', 'Viewing_Sessions',\n",
       "       'Lapsed_Save_Denom', 'Lapsed_Save_Num', 'Lapsing_Save_Denom',\n",
       "       'Lapsing_Save_Num', 'Free_To_Paid_Denom', 'Free_To_Paid_Num',\n",
       "       'Net_New_Upgrade_Denom', 'Net_New_Upgrade_Num', 'Paid_Winbacks_Denom',\n",
       "       'Paid_Winbacks_Num', 'Cancel_Save_Denom', 'Cancel_Save_Num',\n",
       "       'EOM_Paid_Churn_Denom', 'EOM_Paid_Churn_Num'],\n",
       "      dtype='object')"
      ]
     },
     "execution_count": 15,
     "metadata": {},
     "output_type": "execute_result"
    }
   ],
   "source": [
    "df.columns"
   ]
  },
  {
   "attachments": {},
   "cell_type": "markdown",
   "metadata": {},
   "source": [
    "# Analysis"
   ]
  },
  {
   "cell_type": "code",
   "execution_count": 22,
   "metadata": {},
   "outputs": [],
   "source": [
    "def gen_analysis_query_func(total=False):\n",
    "    def gen_analysis_query(report): \n",
    "        return f\"\"\"\n",
    "                WITH CTE_1 AS\n",
    "                (\n",
    "                    SELECT  @report_start_date                                                     AS Report_Month \n",
    "                        {'--' if total else ''}, Account_Type\n",
    "                        ,COUNT(distinct CASE WHEN cohort = 'Targeted' THEN aid END )            AS Distinct_Cohort_Size_Targeted\n",
    "                        ,COUNT(distinct CASE WHEN cohort = 'Holdout' THEN aid END)              AS Distinct_Cohort_Size_Holdout\n",
    "\n",
    "                        ,SUM(CASE WHEN cohort = 'Targeted' THEN viewer END )                    AS Total_Returns_Targeted\n",
    "                        ,SUM(CASE WHEN cohort = 'Holdout' THEN viewer END)                      AS Total_Returns_Holdout\n",
    "\n",
    "                        ,SUM(CASE WHEN cohort = 'Targeted' THEN Viewing_Time END )              AS Total_Usage_Targeted\n",
    "                        ,SUM(CASE WHEN cohort = 'Holdout' THEN Viewing_Time END)                AS Total_Usage_Holdout\n",
    "\n",
    "                        ,SUM(CASE WHEN cohort = 'Targeted' THEN Repertoire_Pavo_Method END )    AS Total_Repertoire_Targeted\n",
    "                        ,SUM(CASE WHEN cohort = 'Holdout' THEN Repertoire_Pavo_Method END)      AS Total_Repertoire_Holdout\n",
    "\n",
    "                        ,SUM(CASE WHEN cohort = 'Targeted' THEN Distinct_Viewing_Sessions END ) AS Total_Viewing_Sessions_Targeted\n",
    "                        ,SUM(CASE WHEN cohort = 'Holdout' THEN Distinct_Viewing_Sessions END)   AS Total_Viewing_Sessions_Holdout\n",
    "\n",
    "                        ,SUM(CASE WHEN cohort = 'Targeted' THEN Lapsed_Save_Denom END )         AS Lapsed_Save_Denom_Targeted\n",
    "                        ,SUM(CASE WHEN cohort = 'Targeted' THEN Lapsed_Save_Num END)            AS Lapsed_Save_Num_Targeted\n",
    "                        ,SUM(CASE WHEN cohort = 'Holdout' THEN Lapsed_Save_Denom END )          AS Lapsed_Save_Denom_Holdout\n",
    "                        ,SUM(CASE WHEN cohort = 'Holdout' THEN Lapsed_Save_Num END)             AS Lapsed_Save_Num_Holdout\n",
    "\n",
    "                        ,SUM(CASE WHEN cohort = 'Targeted' THEN Lapsing_Save_Denom END )        AS Lapsing_Save_Denom_Targeted\n",
    "                        ,SUM(CASE WHEN cohort = 'Targeted' THEN Lapsing_Save_Num END)           AS Lapsing_Save_Num_Targeted\n",
    "                        ,SUM(CASE WHEN cohort = 'Holdout' THEN Lapsing_Save_Denom END )         AS Lapsing_Save_Denom_Holdout\n",
    "                        ,SUM(CASE WHEN cohort = 'Holdout' THEN Lapsing_Save_Num END)            AS Lapsing_Save_Num_Holdout\n",
    "\n",
    "                        ,SUM(CASE WHEN cohort = 'Targeted' THEN Free_To_Paid_Denom END )             AS Free_To_Paid_Denom_Targeted\n",
    "                        ,SUM(CASE WHEN cohort = 'Targeted' THEN Free_To_Paid_Num END)                AS Free_To_Paid_Num_Targeted\n",
    "                        ,SUM(CASE WHEN cohort = 'Holdout' THEN Free_To_Paid_Denom END )              AS Free_To_Paid_Denom_Holdout\n",
    "                        ,SUM(CASE WHEN cohort = 'Holdout' THEN Free_To_Paid_Num END)                 AS Free_To_Paid_Num_Holdout\n",
    "\n",
    "                        ,SUM(CASE WHEN cohort = 'Targeted' THEN Net_New_Upgrade_Denom END )     AS Total_Net_New_Upgrade_Denom_Targeted\n",
    "                        ,SUM(CASE WHEN cohort = 'Targeted' THEN Net_New_Upgrade_Num END)        AS Total_Net_New_Upgrade_Num_Targeted\n",
    "                        ,SUM(CASE WHEN cohort = 'Holdout' THEN Net_New_Upgrade_Denom END )      AS Total_Net_New_Upgrade_Denom_Holdout\n",
    "                        ,SUM(CASE WHEN cohort = 'Holdout' THEN Net_New_Upgrade_Num END)         AS Total_Net_New_Upgrade_Num_Holdout\n",
    "\n",
    "                        ,SUM(CASE WHEN cohort = 'Targeted' THEN Paid_Winbacks_Denom END )       AS Total_Paid_Winbacks_Denom_Targeted\n",
    "                        ,SUM(CASE WHEN cohort = 'Targeted' THEN Paid_Winbacks_Num END)          AS Total_Paid_Winbacks_Num_Targeted\n",
    "                        ,SUM(CASE WHEN cohort = 'Holdout' THEN Paid_Winbacks_Denom END )        AS Total_Paid_Winbacks_Denom_Holdout\n",
    "                        ,SUM(CASE WHEN cohort = 'Holdout' THEN Paid_Winbacks_Num END)           AS Total_Paid_Winbacks_Num_Holdout\n",
    "\n",
    "                        ,SUM(CASE WHEN cohort = 'Targeted' THEN Cancel_Save_Denom END )         AS Total_Cancel_Save_Denom_Targeted\n",
    "                        ,SUM(CASE WHEN cohort = 'Targeted' THEN Cancel_Save_Num END)            AS Total_Cancel_Save_Num_Targeted\n",
    "                        ,SUM(CASE WHEN cohort = 'Holdout' THEN Cancel_Save_Denom END )          AS Total_Cancel_Save_Denom_Holdout\n",
    "                        ,SUM(CASE WHEN cohort = 'Holdout' THEN Cancel_Save_Num END)             AS Total_Cancel_Save_Num_Holdout\n",
    "\n",
    "                        ,SUM(CASE WHEN cohort = 'Targeted' THEN EOM_Paid_Churn_Denom END )      AS EOM_Paid_Churn_Denom_Targeted\n",
    "                        ,SUM(CASE WHEN cohort = 'Targeted' THEN EOM_Paid_Churn_Num END)         AS EOM_Paid_Churn_Num_Targeted\n",
    "                        ,SUM(CASE WHEN cohort = 'Holdout' THEN EOM_Paid_Churn_Denom END )       AS EOM_Paid_Churn_Denom_Holdout\n",
    "                        ,SUM(CASE WHEN cohort = 'Holdout' THEN EOM_Paid_Churn_Num END)          AS EOM_Paid_Churn_Num_Holdout\n",
    "                    FROM `nbcu-ds-sandbox-a-001.SLi_sandbox.Email_Channel_Base_{report}`\n",
    "                    WHERE paying_account_flag = 'Paying'\n",
    "                    GROUP BY  1 {'--' if total else ''}, 2\n",
    "                ), CTE_2 AS\n",
    "                (\n",
    "                    SELECT  Report_Month \n",
    "                        {'--' if total else ''}, Account_Type\n",
    "                        ,Distinct_Cohort_Size_Targeted                                                        AS Total_Targeted\n",
    "                        ,Distinct_Cohort_Size_Holdout                                                         AS Total_Holdout\n",
    "\n",
    "                        ,safe_divide(Total_Returns_Targeted,Distinct_Cohort_Size_Targeted)                    AS Return_Rate_Engagers\n",
    "                        ,safe_divide(Total_Returns_Holdout,Distinct_Cohort_Size_Holdout)                      AS Return_Rate_Holdout\n",
    "\n",
    "                        ,safe_divide(Total_Usage_Targeted,Distinct_Cohort_Size_Targeted)                      AS Usage_Engagers\n",
    "                        ,safe_divide(Total_Usage_Holdout,Distinct_Cohort_Size_Holdout)                        AS Usage_Holdout\n",
    "\n",
    "                        ,safe_divide(Total_Repertoire_Targeted,Distinct_Cohort_Size_Targeted)                 AS Repertoire_Engagers\n",
    "                        ,safe_divide(Total_Repertoire_Holdout,Distinct_Cohort_Size_Holdout)                   AS Repertoire_Holdout\n",
    "\n",
    "                        ,safe_divide(Total_Viewing_Sessions_Targeted,Distinct_Cohort_Size_Targeted)           AS Sessions_Engagers\n",
    "                        ,safe_divide(Total_Viewing_Sessions_Holdout,Distinct_Cohort_Size_Holdout)             AS Sessions_Holdout\n",
    "\n",
    "                        ,Lapsed_Save_Denom_Targeted\n",
    "                        ,safe_divide(Lapsed_Save_Num_Targeted,Lapsed_Save_Denom_Targeted)                     AS Lapsed_Save_Rate_Engagers\n",
    "                        ,safe_divide(Lapsed_Save_Num_Holdout,Lapsed_Save_Denom_Holdout)                       AS Lapsed_Save_Rate_Holdout\n",
    "\n",
    "                        ,Lapsing_Save_Denom_Targeted\n",
    "                        ,safe_divide(Lapsing_Save_Num_Targeted,Lapsing_Save_Denom_Targeted)                   AS Lapsing_Save_Rate_Engagers\n",
    "                        ,safe_divide(Lapsing_Save_Num_Holdout,Lapsing_Save_Denom_Holdout)                     AS Lapsing_Save_Rate_Holdout\n",
    "\n",
    "                        ,Free_To_Paid_Denom_Targeted\n",
    "                        ,safe_divide(Free_To_Paid_Num_Targeted,Free_To_Paid_Denom_Targeted)                           AS Free_To_Paid_Rate_Engagers\n",
    "                        ,safe_divide(Free_To_Paid_Num_Holdout,Free_To_Paid_Denom_Holdout)                             AS Free_To_Paid_Rate_Holdout\n",
    "\n",
    "                        ,Total_Net_New_Upgrade_Denom_Targeted\n",
    "                        ,safe_divide(Total_Net_New_Upgrade_Num_Targeted,Total_Net_New_Upgrade_Denom_Targeted) AS Net_New_Upgrade_Rate_Engagers\n",
    "                        ,safe_divide(Total_Net_New_Upgrade_Num_Holdout,Total_Net_New_Upgrade_Denom_Holdout)   AS Net_New_Upgrade_Rate_Holdout\n",
    "\n",
    "                        ,Total_Paid_Winbacks_Denom_Targeted\n",
    "                        ,safe_divide(Total_Paid_Winbacks_Num_Targeted,Total_Paid_Winbacks_Denom_Targeted)     AS Paid_Winback_Rate_Engagers\n",
    "                        ,safe_divide(Total_Paid_Winbacks_Num_Holdout,Total_Paid_Winbacks_Denom_Holdout)       AS Paid_Winback_Rate_Holdout\n",
    "\n",
    "                        ,Total_Cancel_Save_Denom_Targeted\n",
    "                        ,safe_divide(Total_Cancel_Save_Num_Targeted,Total_Cancel_Save_Denom_Targeted)         AS Cancel_Save_Rate_Engagers\n",
    "                        ,safe_divide(Total_Cancel_Save_Num_Holdout,Total_Cancel_Save_Denom_Holdout)           AS Cancel_Save_Rate_Holdout\n",
    "\n",
    "                        ,EOM_Paid_Churn_Denom_Targeted\n",
    "                        ,safe_divide(EOM_Paid_Churn_Num_Targeted,EOM_Paid_Churn_Denom_Targeted)               AS Paid_Churn_Rate_Engagers\n",
    "                        ,safe_divide(EOM_Paid_Churn_Num_Holdout,EOM_Paid_Churn_Denom_Holdout)                 AS Paid_Churn_Rate_Holdout\n",
    "                    FROM CTE_1\n",
    "                )\n",
    "                SELECT  Report_Month\n",
    "                    {'--' if total else ''}, Account_Type\n",
    "                    ,Total_Targeted\n",
    "                    ,Total_Holdout\n",
    "                    \n",
    "                    ,Return_Rate_Engagers                                                                                  AS Return_Rate_Engagers\n",
    "                    ,Return_Rate_Holdout                                                                                   AS Return_Rate_Holdout\n",
    "                    ,Return_Rate_Engagers - Return_Rate_Holdout                                                            AS Return_Rate_Lift_PTS\n",
    "                    ,safe_divide(Return_Rate_Engagers,Return_Rate_Holdout) *100                                            AS Return_Rate_Lift_Index\n",
    "                    ,(Return_Rate_Engagers - Return_Rate_Holdout) * Total_Targeted                                         AS Returns_Incrementals\n",
    "\n",
    "                    ,Usage_Engagers                                                                                        AS Usage_Engagers\n",
    "                    ,Usage_Holdout                                                                                         AS Usage_Holdout\n",
    "                    ,Usage_Engagers - Usage_Holdout                                                                        AS Usage_Lift_PTS\n",
    "                    ,safe_divide(Usage_Engagers,Usage_Holdout) *100                                                        AS Usage_Lift_Index\n",
    "                    ,(Usage_Engagers - Usage_Holdout) * Total_Targeted                                                     AS Usage_Incrementals\n",
    "\n",
    "                    ,Repertoire_Engagers                                                                                   AS Repertoire_Engagers\n",
    "                    ,Repertoire_Holdout                                                                                    AS Repertoire_Holdout\n",
    "                    ,Repertoire_Engagers - Repertoire_Holdout                                                              AS Repertoire_Lift_PTS\n",
    "                    ,safe_divide(Repertoire_Engagers,Repertoire_Holdout) *100                                              AS Repertoire_Lift_Index\n",
    "                    ,(Repertoire_Engagers - Repertoire_Holdout) * Total_Targeted                                           AS Repertoire_Incrementals\n",
    "\n",
    "                    ,Sessions_Engagers                                                                                     AS Sessions_Engagers\n",
    "                    ,Sessions_Holdout                                                                                      AS Sessions_Holdout\n",
    "                    ,Sessions_Engagers - Sessions_Holdout                                                                  AS Sessions_Lift_PTS\n",
    "                    ,safe_divide(Sessions_Engagers,Sessions_Holdout) *100                                                  AS Sessions_Lift_Index\n",
    "                    ,(Sessions_Engagers - Sessions_Holdout) * Total_Targeted                                               AS Sessions_Incrementals\n",
    "\n",
    "                    ,Lapsed_Save_Rate_Engagers                                                                             AS Lapsed_Save_Rate_Engagers\n",
    "                    ,Lapsed_Save_Rate_Holdout                                                                              AS Lapsed_Save_Rate_Holdout\n",
    "                    ,Lapsed_Save_Rate_Engagers - Lapsed_Save_Rate_Holdout                                                  AS Lapsed_Save_Rate_Lift_PTS\n",
    "                    ,safe_divide(Lapsed_Save_Rate_Engagers,Lapsed_Save_Rate_Holdout) *100                                  AS Lapsed_Save_Rate_Lift_Index\n",
    "                    ,(Lapsed_Save_Rate_Engagers - Lapsed_Save_Rate_Holdout) * Lapsed_Save_Denom_Targeted                   AS Lapsed_Save_Incrementals\n",
    "\n",
    "                    ,Lapsing_Save_Rate_Engagers                                                                            AS Lapsing_Save_Rate_Engagers\n",
    "                    ,Lapsing_Save_Rate_Holdout                                                                             AS Lapsing_Save_Rate_Holdout\n",
    "                    ,Lapsing_Save_Rate_Engagers - Lapsing_Save_Rate_Holdout                                                AS Lapsing_Save_Rate_Lift_PTS\n",
    "                    ,safe_divide(Lapsing_Save_Rate_Engagers,Lapsing_Save_Rate_Holdout) *100                                AS Lapsing_Save_Rate_Lift_Index\n",
    "                    ,(Lapsing_Save_Rate_Engagers - Lapsing_Save_Rate_Holdout) * Lapsing_Save_Denom_Targeted                AS Lapsing_Save_Rate_Lift_Incrementals\n",
    "\n",
    "                    ,Free_To_Paid_Rate_Engagers                                                                                 AS Free_To_Paid_Rate_Engagers\n",
    "                    ,Free_To_Paid_Rate_Holdout                                                                                  AS Free_To_Paid_Rate_Holdout\n",
    "                    ,Free_To_Paid_Rate_Engagers - Free_To_Paid_Rate_Holdout                                                          AS Free_To_Paid_Rate_Lift_PTS\n",
    "                    ,safe_divide(Free_To_Paid_Rate_Engagers,Free_To_Paid_Rate_Holdout) *100                                          AS Free_To_Paid_Rate_Lift_Index\n",
    "                    ,(Free_To_Paid_Rate_Engagers - Free_To_Paid_Rate_Holdout) * Free_To_Paid_Denom_Targeted                              AS Free_To_Paid_Incrementals\n",
    "\n",
    "                    ,Net_New_Upgrade_Rate_Engagers                                                                         AS Net_New_Upgrade_Rate_Engagers\n",
    "                    ,Net_New_Upgrade_Rate_Holdout                                                                          AS Net_New_Upgrade_Rate_Holdout\n",
    "                    ,Net_New_Upgrade_Rate_Engagers - Net_New_Upgrade_Rate_Holdout                                          AS Net_New_Upgrade_Rate_Lift_PTS\n",
    "                    ,safe_divide(Net_New_Upgrade_Rate_Engagers,Net_New_Upgrade_Rate_Holdout) *100                          AS Net_New_Upgrade_Rate_Lift_Index\n",
    "                    ,(Net_New_Upgrade_Rate_Engagers - Net_New_Upgrade_Rate_Holdout) * Total_Net_New_Upgrade_Denom_Targeted AS Net_New_Upgrade_Incrementals\n",
    "\n",
    "                    ,Paid_Winback_Rate_Engagers                                                                            AS Paid_Winback_Rate_Engagers\n",
    "                    ,Paid_Winback_Rate_Holdout                                                                             AS Paid_Winback_Rate_Holdout\n",
    "                    ,Paid_Winback_Rate_Engagers - Paid_Winback_Rate_Holdout                                                AS Paid_Winback_Rate_Lift_PTS\n",
    "                    ,safe_divide(Paid_Winback_Rate_Engagers,Paid_Winback_Rate_Holdout) *100                                AS Paid_Winback_Rate_Lift_Index\n",
    "                    ,(Paid_Winback_Rate_Engagers - Paid_Winback_Rate_Holdout) * Total_Paid_Winbacks_Denom_Targeted         AS Paid_Winback_Rate_Lift_Incrementals\n",
    "\n",
    "                    ,Cancel_Save_Rate_Engagers                                                                             AS Cancel_Save_Rate_Engagers\n",
    "                    ,Cancel_Save_Rate_Holdout                                                                              AS Cancel_Save_Rate_Holdout\n",
    "                    ,Cancel_Save_Rate_Engagers - Cancel_Save_Rate_Holdout                                                  AS Cancel_Save_Rate_Lift_PTS\n",
    "                    ,safe_divide(Cancel_Save_Rate_Engagers,Cancel_Save_Rate_Holdout) *100                                  AS Cancel_Save_Rate_Lift_Index\n",
    "                    ,(Cancel_Save_Rate_Engagers - Cancel_Save_Rate_Holdout) * Total_Cancel_Save_Denom_Targeted             AS Cancel_Save_Rate_Incrementals\n",
    "\n",
    "                    ,Paid_Churn_Rate_Engagers                                                                              AS EOM_Paid_Churn_Rate_Engagers\n",
    "                    ,Paid_Churn_Rate_Holdout                                                                               AS EOM_Paid_Churn_Rate_Holdout\n",
    "                    ,Paid_Churn_Rate_Engagers - Paid_Churn_Rate_Holdout                                                    AS EOM_Paid_Churn_Rate_Lift_PTS\n",
    "                    ,safe_divide(Paid_Churn_Rate_Engagers,Paid_Churn_Rate_Holdout) *100                                    AS EOM_Paid_Churn_Rate_Lift_Index\n",
    "                    ,(Paid_Churn_Rate_Engagers - Paid_Churn_Rate_Holdout) * EOM_Paid_Churn_Denom_Targeted                  AS EOM_Paid_Churn_Rate_Incrementals\n",
    "                FROM CTE_2\n",
    "                ORDER BY 1 {'--' if total else ''},2\n",
    "                \"\"\"\n",
    "    return gen_analysis_query"
   ]
  },
  {
   "cell_type": "code",
   "execution_count": 23,
   "metadata": {},
   "outputs": [],
   "source": [
    "def gen_analysis_query_churn(report): \n",
    "\treturn f\"\"\"\n",
    "\t\t\tWITH CTE_1 AS\n",
    "\t\t\t(\n",
    "\t\t\t\tSELECT  @report_start_date                                                                                     AS Report_Month\n",
    "\t\t\t\t\t--, Account_Type\n",
    "\t\t\t\t\t,paid_tenure\n",
    "\t\t\t\t\t,SUM(CASE WHEN (cohort = 'Targeted') AND (Account_Type = 'Paying SVOD') THEN 1 END )  AS Distinct_Cohort_Size_Targeted\n",
    "\t\t\t\t\t,SUM(CASE WHEN (cohort = 'Holdout') AND (Account_Type = 'Paying SVOD') THEN 1 END)         AS Distinct_Cohort_Size_Holdout\n",
    "\t\t\t\t\t,SUM(CASE WHEN cohort = 'Targeted' THEN EOM_Paid_Churn_Denom END)                                AS EOM_Paid_Churn_Denom_Targeted\n",
    "\t\t\t\t\t,SUM(CASE WHEN cohort = 'Targeted' THEN EOM_Paid_Churn_Num END)                                   AS EOM_Paid_Churn_Num_Targeted\n",
    "\t\t\t\t\t,SUM(CASE WHEN cohort = 'Holdout' THEN EOM_Paid_Churn_Denom END)                                       AS EOM_Paid_Churn_Denom_Holdout\n",
    "\t\t\t\t\t,SUM(CASE WHEN cohort = 'Holdout' THEN EOM_Paid_Churn_Num END)                                          AS EOM_Paid_Churn_Num_Holdout\n",
    "\t\t\t\tFROM `nbcu-ds-sandbox-a-001.SLi_sandbox.Email_Channel_Base_{report}`\n",
    "\t\t\t\tGROUP BY  1,2\n",
    "\t\t\t), CTE_2 AS\n",
    "\t\t\t(\n",
    "\t\t\t\tSELECT  Report_Month\n",
    "\t\t\t\t\t--, Account_Type\n",
    "\t\t\t\t\t,paid_tenure\n",
    "\t\t\t\t\t,Distinct_Cohort_Size_Targeted                                          AS Targeted\n",
    "\t\t\t\t\t,Distinct_Cohort_Size_Holdout                                           AS Holdout\n",
    "\t\t\t\t\t,EOM_Paid_Churn_Denom_Targeted\n",
    "\t\t\t\t\t,safe_divide(EOM_Paid_Churn_Num_Targeted,EOM_Paid_Churn_Denom_Targeted) AS Paid_Churn_Rate_Engagers\n",
    "\t\t\t\t\t,safe_divide(EOM_Paid_Churn_Num_Holdout,EOM_Paid_Churn_Denom_Holdout)   AS Paid_Churn_Rate_Holdout\n",
    "\t\t\t\tFROM CTE_1\n",
    "\t\t\t)\n",
    "\t\t\tSELECT  Report_Month\n",
    "\t\t\t\t--, Account_Type\n",
    "\t\t\t\t,paid_tenure\n",
    "\t\t\t\t,Targeted\n",
    "\t\t\t\t,Holdout\n",
    "\t\t\t\t,Paid_Churn_Rate_Engagers                                                             AS EOM_Paid_Churn_Rate_Engagers\n",
    "\t\t\t\t,Paid_Churn_Rate_Holdout                                                              AS EOM_Paid_Churn_Rate_Holdout\n",
    "\t\t\t\t,Paid_Churn_Rate_Engagers - Paid_Churn_Rate_Holdout                                   AS EOM_Paid_Churn_Rate_Lift_PTS\n",
    "\t\t\t\t,safe_divide(Paid_Churn_Rate_Engagers,Paid_Churn_Rate_Holdout) *100                   AS EOM_Paid_Churn_Rate_Lift_Index\n",
    "\t\t\t\t,(Paid_Churn_Rate_Engagers - Paid_Churn_Rate_Holdout) * EOM_Paid_Churn_Denom_Targeted AS EOM_Paid_Churn_Rate_Incrementals\n",
    "\t\t\tFROM CTE_2\n",
    "\t\t\tORDER BY 1, 2\n",
    "\t\t\t\"\"\""
   ]
  },
  {
   "cell_type": "code",
   "execution_count": 24,
   "metadata": {},
   "outputs": [],
   "source": [
    "analyze_queries = [\n",
    "    gen_analysis_query_func(total=True),\n",
    "    gen_analysis_query_func(total=False),\n",
    "    gen_analysis_query_churn\n",
    "]"
   ]
  },
  {
   "cell_type": "code",
   "execution_count": 25,
   "metadata": {},
   "outputs": [],
   "source": [
    "def build_report(report, dates, queries):\n",
    "    queries = [fn(report) for fn in queries]\n",
    "    dfs = []\n",
    "    for q in queries:\n",
    "        query_config = {\n",
    "            'query': {\n",
    "                'parameterMode': 'NAMED',\n",
    "                'queryParameters': [\n",
    "                    {\n",
    "                        'name': 'report_start_date',\n",
    "                        'parameterType': {'type': 'STRING'},\n",
    "                        'parameterValue': {'value': dates['report_start_date']}\n",
    "                    },\n",
    "                    {\n",
    "                        'name': 'report_end_date',\n",
    "                        'parameterType': {'type': 'STRING'},\n",
    "                        'parameterValue': {'value': dates['report_end_date']}\n",
    "                    }\n",
    "                ]\n",
    "            }\n",
    "        }\n",
    "        dfs.append(pandas_gbq.read_gbq(q, configuration=query_config))\n",
    "    return dfs"
   ]
  },
  {
   "attachments": {},
   "cell_type": "markdown",
   "metadata": {},
   "source": [
    "## Monthly"
   ]
  },
  {
   "cell_type": "code",
   "execution_count": 32,
   "metadata": {},
   "outputs": [
    {
     "name": "stdout",
     "output_type": "stream",
     "text": [
      "Downloading: 100%|\u001b[32m██████████\u001b[0m|\n",
      "Downloading: 100%|\u001b[32m██████████\u001b[0m|\n",
      "Downloading: 100%|\u001b[32m██████████\u001b[0m|\n",
      "Downloading: 100%|\u001b[32m██████████\u001b[0m|\n",
      "Downloading: 100%|\u001b[32m██████████\u001b[0m|\n",
      "Downloading: 100%|\u001b[32m██████████\u001b[0m|\n",
      "Downloading: 100%|\u001b[32m██████████\u001b[0m|\n",
      "Downloading: 100%|\u001b[32m██████████\u001b[0m|\n",
      "Downloading: 100%|\u001b[32m██████████\u001b[0m|\n",
      "Downloading: 100%|\u001b[32m██████████\u001b[0m|\n",
      "Downloading: 100%|\u001b[32m██████████\u001b[0m|\n",
      "Downloading: 100%|\u001b[32m██████████\u001b[0m|\n",
      "Downloading:   0%|\u001b[32m          \u001b[0m|\n",
      "Downloading: 100%|\u001b[32m██████████\u001b[0m|\n",
      "\n",
      "\n",
      "Downloading: 100%|\u001b[32m██████████\u001b[0m|\n",
      "\n",
      "Downloading: 100%|\u001b[32m██████████\u001b[0m|\n",
      "\n",
      "\n",
      "Downloading: 100%|\u001b[32m██████████\u001b[0m|\n",
      "Downloading: 100%|\u001b[32m██████████\u001b[0m|\n",
      "Downloading: 100%|\u001b[32m██████████\u001b[0m|\n",
      "Downloading: 100%|\u001b[32m██████████\u001b[0m|\n",
      "Downloading: 100%|\u001b[32m██████████\u001b[0m|\n",
      "Downloading: 100%|\u001b[32m██████████\u001b[0m|\n",
      "Downloading: 100%|\u001b[32m██████████\u001b[0m|\n",
      "Downloading: 100%|\u001b[32m██████████\u001b[0m|\n",
      "Downloading: 100%|\u001b[32m██████████\u001b[0m|\n",
      "Downloading: 100%|\u001b[32m██████████\u001b[0m|\n",
      "Downloading: 100%|\u001b[32m██████████\u001b[0m|\n",
      "Downloading: 100%|\u001b[32m██████████\u001b[0m|\n",
      "Downloading: 100%|\u001b[32m██████████\u001b[0m|\n",
      "Downloading: 100%|\u001b[32m██████████\u001b[0m|\n",
      "Downloading: 100%|\u001b[32m██████████\u001b[0m|\n",
      "Downloading: 100%|\u001b[32m██████████\u001b[0m|\n",
      "Downloading: 100%|\u001b[32m██████████\u001b[0m|\n",
      "Downloading: 100%|\u001b[32m██████████\u001b[0m|\n",
      "Downloading: 100%|\u001b[32m██████████\u001b[0m|\n",
      "\n",
      "Downloading: 100%|\u001b[32m██████████\u001b[0m|\n",
      "Downloading: 100%|\u001b[32m██████████\u001b[0m|\n",
      "\n",
      "Downloading: 100%|\u001b[32m██████████\u001b[0m|\n",
      "Downloading: 100%|\u001b[32m██████████\u001b[0m|\n",
      "Downloading: 100%|\u001b[32m██████████\u001b[0m|\n",
      "Downloading: 100%|\u001b[32m██████████\u001b[0m|\n",
      "Downloading: 100%|\u001b[32m██████████\u001b[0m|\n",
      "Downloading: 100%|\u001b[32m██████████\u001b[0m|\n",
      "Downloading: 100%|\u001b[32m██████████\u001b[0m|\n",
      "Downloading: 100%|\u001b[32m██████████\u001b[0m|\n",
      "Downloading: 100%|\u001b[32m██████████\u001b[0m|\n",
      "Downloading: 100%|\u001b[32m██████████\u001b[0m|\n",
      "Downloading: 100%|\u001b[32m██████████\u001b[0m|\n",
      "Downloading: 100%|\u001b[32m██████████\u001b[0m|\n",
      "Downloading: 100%|\u001b[32m██████████\u001b[0m|\n",
      "Downloading: 100%|\u001b[32m██████████\u001b[0m|\n",
      "Downloading: 100%|\u001b[32m██████████\u001b[0m|\n",
      "Downloading: 100%|\u001b[32m██████████\u001b[0m|\n",
      "Downloading: 100%|\u001b[32m██████████\u001b[0m|\n",
      "Downloading: 100%|\u001b[32m██████████\u001b[0m|\n",
      "Downloading: 100%|\u001b[32m██████████\u001b[0m|\n",
      "Downloading: 100%|\u001b[32m██████████\u001b[0m|\n",
      "Downloading: 100%|\u001b[32m██████████\u001b[0m|\n",
      "Downloading: 100%|\u001b[32m██████████\u001b[0m|\n",
      "Downloading: 100%|\u001b[32m██████████\u001b[0m|\n",
      "Downloading: 100%|\u001b[32m██████████\u001b[0m|\n",
      "Downloading: 100%|\u001b[32m██████████\u001b[0m|\n",
      "Downloading: 100%|\u001b[32m██████████\u001b[0m|\n",
      "Downloading: 100%|\u001b[32m██████████\u001b[0m|\n"
     ]
    }
   ],
   "source": [
    "threads = []\n",
    "results = []\n",
    "\n",
    "with ThreadPoolExecutor(len(months)) as executor:\n",
    "    for report, dates in months.items():\n",
    "        threads.append(executor.submit(build_report, report, dates, analyze_queries))\n",
    "    for future in as_completed(threads):\n",
    "        results.append(future.result())"
   ]
  },
  {
   "cell_type": "code",
   "execution_count": 33,
   "metadata": {},
   "outputs": [],
   "source": [
    "aggregate_reports = pd.concat([results[i][0] for i in range(len(results))]).sort_values(by='Report_Month')\n",
    "acc_type_reports = pd.concat([results[i][1] for i in range(len(results))]).sort_values(by=['Report_Month', 'Account_Type'])\n",
    "\n",
    "with pd.ExcelWriter(f'email_channel_report_monthly.xlsx') as writer:\n",
    "    aggregate_reports.to_excel(writer, sheet_name='total')\n",
    "    acc_type_reports.to_excel(writer, sheet_name='acc_type')"
   ]
  },
  {
   "attachments": {},
   "cell_type": "markdown",
   "metadata": {},
   "source": [
    "## Quarterly"
   ]
  },
  {
   "cell_type": "code",
   "execution_count": 27,
   "metadata": {},
   "outputs": [
    {
     "name": "stdout",
     "output_type": "stream",
     "text": [
      "Downloading: |\u001b[32m          \u001b[0m|\n",
      "Downloading: |\u001b[32m          \u001b[0m|\n",
      "Downloading: |\u001b[32m          \u001b[0m|\n",
      "Downloading: 100%|\u001b[32m██████████\u001b[0m|\n",
      "Downloading: 100%|\u001b[32m██████████\u001b[0m|\n",
      "Downloading: 100%|\u001b[32m██████████\u001b[0m|\n",
      "Downloading: 100%|\u001b[32m██████████\u001b[0m|\n",
      "Downloading: 100%|\u001b[32m██████████\u001b[0m|\n",
      "Downloading: 100%|\u001b[32m██████████\u001b[0m|\n",
      "Downloading: 100%|\u001b[32m██████████\u001b[0m|\n",
      "Downloading: 100%|\u001b[32m██████████\u001b[0m|\n",
      "Downloading: 100%|\u001b[32m██████████\u001b[0m|\n",
      "Downloading: 100%|\u001b[32m██████████\u001b[0m|\n",
      "Downloading: 100%|\u001b[32m██████████\u001b[0m|\n",
      "Downloading: 100%|\u001b[32m██████████\u001b[0m|\n",
      "Downloading: 100%|\u001b[32m██████████\u001b[0m|\n",
      "Downloading: 100%|\u001b[32m██████████\u001b[0m|\n",
      "Downloading: 100%|\u001b[32m██████████\u001b[0m|\n",
      "Downloading: 100%|\u001b[32m██████████\u001b[0m|\n",
      "Downloading: 100%|\u001b[32m██████████\u001b[0m|\n",
      "Downloading: 100%|\u001b[32m██████████\u001b[0m|\n"
     ]
    }
   ],
   "source": [
    "threads = []\n",
    "results = []\n",
    "\n",
    "with ThreadPoolExecutor(len(quarters)) as executor:\n",
    "    for report, dates in quarters.items():\n",
    "        threads.append(executor.submit(build_report, report, dates, analyze_queries))\n",
    "    for future in as_completed(threads):\n",
    "        results.append(future.result())"
   ]
  },
  {
   "cell_type": "code",
   "execution_count": 28,
   "metadata": {},
   "outputs": [],
   "source": [
    "aggregate_reports = pd.concat([results[i][0] for i in range(len(results))]).sort_values(by='Report_Month')\n",
    "acc_type_reports = pd.concat([results[i][1] for i in range(len(results))]).sort_values(by=['Report_Month', 'Account_Type'])\n",
    "\n",
    "with pd.ExcelWriter(f'email_channel_report_quarterly.xlsx') as writer:\n",
    "    aggregate_reports.to_excel(writer, sheet_name='total')\n",
    "    acc_type_reports.to_excel(writer, sheet_name='acc_type')"
   ]
  },
  {
   "attachments": {},
   "cell_type": "markdown",
   "metadata": {},
   "source": [
    "## Upgrades"
   ]
  },
  {
   "cell_type": "code",
   "execution_count": 29,
   "metadata": {
    "vscode": {
     "languageId": "sql"
    }
   },
   "outputs": [
    {
     "data": {
      "application/vnd.jupyter.widget-view+json": {
       "model_id": "63a0ec0223684be092b8aab3c4f2da18",
       "version_major": 2,
       "version_minor": 0
      },
      "text/plain": [
       "Query is running:   0%|          |"
      ]
     },
     "metadata": {},
     "output_type": "display_data"
    },
    {
     "data": {
      "application/vnd.jupyter.widget-view+json": {
       "model_id": "46c5ae41e3e948c78cd2e8a21283881f",
       "version_major": 2,
       "version_minor": 0
      },
      "text/plain": [
       "Downloading:   0%|          |"
      ]
     },
     "metadata": {},
     "output_type": "display_data"
    }
   ],
   "source": [
    "%%bigquery ftp\n",
    "\n",
    "WITH CTE_1 AS\n",
    "(\n",
    "\tSELECT  Report_Month\n",
    "\t       ,COUNT(distinct CASE WHEN cohort = 'Targeted' THEN aid END )     AS Distinct_Cohort_Size_Targeted\n",
    "\t       ,COUNT(distinct CASE WHEN cohort = 'Holdout' THEN aid END)       AS Distinct_Cohort_Size_Holdout\n",
    "\t       ,SUM(CASE WHEN cohort = 'Targeted' THEN Free_To_Paid_Denom END ) AS Free_To_Paid_Denom_Targeted\n",
    "\t       ,SUM(CASE WHEN cohort = 'Targeted' THEN Free_To_Paid_Num END)    AS Free_To_Paid_Num_Targeted\n",
    "\t       ,SUM(CASE WHEN cohort = 'Holdout' THEN Free_To_Paid_Denom END )  AS Free_To_Paid_Denom_Holdout\n",
    "\t       ,SUM(CASE WHEN cohort = 'Holdout' THEN Free_To_Paid_Num END)     AS Free_To_Paid_Num_Holdout\n",
    "\tFROM `nbcu-ds-sandbox-a-001.SLi_sandbox.SILVER_EMAIL_CHANNEL_PERFORMANCE_MONTHLY`\n",
    "\tGROUP BY  1\n",
    "), CTE_2 AS\n",
    "(\n",
    "\tSELECT  Report_Month\n",
    "\t       ,Distinct_Cohort_Size_Targeted                                      AS Total_Targeted\n",
    "\t       ,Distinct_Cohort_Size_Holdout                                       AS Total_Holdout\n",
    "\t       ,Free_To_Paid_Denom_Targeted\n",
    "\t       ,Free_To_Paid_Num_Targeted\n",
    "\t       ,safe_divide(Free_To_Paid_Num_Targeted,Free_To_Paid_Denom_Targeted) AS Free_To_Paid_Rate_Engagers\n",
    "\t       ,safe_divide(Free_To_Paid_Num_Holdout,Free_To_Paid_Denom_Holdout)   AS Free_To_Paid_Rate_Holdout\n",
    "\tFROM CTE_1\n",
    ")\n",
    "SELECT  Report_Month\n",
    "       ,Total_Targeted\n",
    "       ,Total_Holdout\n",
    "       ,Free_To_Paid_Rate_Engagers                                                             AS Free_To_Paid_Rate_Engagers\n",
    "       ,Free_To_Paid_Rate_Holdout                                                              AS Free_To_Paid_Rate_Holdout\n",
    "       ,Free_To_Paid_Rate_Engagers - Free_To_Paid_Rate_Holdout                                 AS Free_To_Paid_Rate_Lift_PTS\n",
    "       ,safe_divide(Free_To_Paid_Rate_Engagers,Free_To_Paid_Rate_Holdout) *100                 AS Free_To_Paid_Rate_Lift_Index\n",
    "       ,(Free_To_Paid_Rate_Engagers - Free_To_Paid_Rate_Holdout) * Free_To_Paid_Denom_Targeted AS Free_To_Paid_Incrementals\n",
    "FROM CTE_2\n",
    "ORDER BY 1"
   ]
  },
  {
   "cell_type": "code",
   "execution_count": 30,
   "metadata": {
    "vscode": {
     "languageId": "sql"
    }
   },
   "outputs": [],
   "source": [
    "ftp.to_excel('./ftp/ftp.xlsx')"
   ]
  },
  {
   "cell_type": "code",
   "execution_count": null,
   "metadata": {
    "vscode": {
     "languageId": "sql"
    }
   },
   "outputs": [],
   "source": [
    "WITH a AS\n",
    "(\n",
    "\tSELECT  SUM(CASE WHEN cohort = 'Targeted' THEN EOM_Paid_Churn_Denom END ) AS EOM_Paid_Churn_Denom_Targeted\n",
    "\t       ,SUM(CASE WHEN cohort = 'Targeted' THEN EOM_Paid_Churn_Num END)    AS EOM_Paid_Churn_Num_Targeted\n",
    "\t       ,SUM(CASE WHEN cohort = 'Holdout' THEN EOM_Paid_Churn_Denom END )  AS EOM_Paid_Churn_Denom_Holdout\n",
    "\t       ,SUM(CASE WHEN cohort = 'Holdout' THEN EOM_Paid_Churn_Num END)     AS EOM_Paid_Churn_Num_Holdout\n",
    "\tFROM `nbcu-ds-sandbox-a-001.SLi_sandbox.GOLD_EMAIL_CHANNEL_PERFORMANCE_TEST`\n",
    "\tWHERE Report_Month = '2023-07-01'\n",
    "\tAND Result_Type = 'Monthly' \n",
    "), b AS\n",
    "(\n",
    "\tSELECT  EOM_Paid_Churn_Denom_Targeted\n",
    "\t       ,safe_divide(EOM_Paid_Churn_Num_Targeted,EOM_Paid_Churn_Denom_Targeted) AS Paid_Churn_Rate_Engagers\n",
    "\t       ,safe_divide(EOM_Paid_Churn_Num_Holdout,EOM_Paid_Churn_Denom_Holdout)   AS Paid_Churn_Rate_Holdout\n",
    "\tFROM a\n",
    ")\n",
    "SELECT  Paid_Churn_Rate_Engagers                                                             AS EOM_Paid_Churn_Rate_Engagers\n",
    "       ,Paid_Churn_Rate_Holdout                                                              AS EOM_Paid_Churn_Rate_Holdout\n",
    "       ,Paid_Churn_Rate_Engagers - Paid_Churn_Rate_Holdout                                   AS EOM_Paid_Churn_Rate_Lift_PTS\n",
    "       ,safe_divide(Paid_Churn_Rate_Engagers,Paid_Churn_Rate_Holdout) *100                   AS EOM_Paid_Churn_Rate_Lift_Index\n",
    "       ,(Paid_Churn_Rate_Engagers - Paid_Churn_Rate_Holdout) * EOM_Paid_Churn_Denom_Targeted AS EOM_Paid_Churn_Rate_Incrementals\n",
    "FROM b"
   ]
  }
 ],
 "metadata": {
  "kernelspec": {
   "display_name": "base",
   "language": "python",
   "name": "python3"
  },
  "language_info": {
   "codemirror_mode": {
    "name": "ipython",
    "version": 3
   },
   "file_extension": ".py",
   "mimetype": "text/x-python",
   "name": "python",
   "nbconvert_exporter": "python",
   "pygments_lexer": "ipython3",
   "version": "3.10.9"
  },
  "orig_nbformat": 4
 },
 "nbformat": 4,
 "nbformat_minor": 2
}
