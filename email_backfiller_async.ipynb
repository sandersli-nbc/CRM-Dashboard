{
 "cells": [
  {
   "cell_type": "code",
   "execution_count": 3,
   "metadata": {},
   "outputs": [
    {
     "name": "stdout",
     "output_type": "stream",
     "text": [
      "The google.cloud.bigquery extension is already loaded. To reload it, use:\n",
      "  %reload_ext google.cloud.bigquery\n",
      "env: GCLOUD_PROJECT=nbcu-ds-sandbox-a-001\n"
     ]
    }
   ],
   "source": [
    "from datetime import datetime, timedelta\n",
    "import numpy as np\n",
    "import pandas as pd\n",
    "import matplotlib.pyplot as plt\n",
    "import seaborn as sns\n",
    "import pandas_gbq\n",
    "import pydata_google_auth\n",
    "from concurrent.futures import ThreadPoolExecutor, as_completed\n",
    "from google.cloud import bigquery\n",
    "from tqdm.notebook import tqdm\n",
    "from dateutil import tz\n",
    "from BigQueryTools import QueryTool\n",
    "import re\n",
    "\n",
    "SCOPES = [\n",
    "    'https://www.googleapis.com/auth/cloud-platform',\n",
    "    'https://www.googleapis.com/auth/drive',\n",
    "]\n",
    "credentials = pydata_google_auth.get_user_credentials(\n",
    "    SCOPES,\n",
    "    # Set auth_local_webserver to True to have a slightly more convienient\n",
    "    # authorization flow. Note, this doesn't work if you're running from a\n",
    "    # notebook on a remote sever, such as over SSH or with Google Colab.\n",
    "    auth_local_webserver=True,\n",
    ")\n",
    "\n",
    "%load_ext google.cloud.bigquery\n",
    "%env GCLOUD_PROJECT=nbcu-ds-sandbox-a-001"
   ]
  },
  {
   "attachments": {},
   "cell_type": "markdown",
   "metadata": {},
   "source": [
    "# Email Channel"
   ]
  },
  {
   "cell_type": "code",
   "execution_count": 4,
   "metadata": {},
   "outputs": [],
   "source": [
    "start_date = '2022-01-01'\n",
    "end_date = '2023-12-31'"
   ]
  },
  {
   "cell_type": "code",
   "execution_count": 5,
   "metadata": {},
   "outputs": [],
   "source": [
    "def get_monthly_report_dates(start_date, end_date):\n",
    "    start = datetime.strptime(start_date, \"%Y-%m-%d\")\n",
    "    end = datetime.strptime(end_date, \"%Y-%m-%d\")\n",
    "    monthly_reports = {}\n",
    "\n",
    "    while start <= end:\n",
    "        month_year = start.strftime(\"%b_%Y\")\n",
    "        report_start_date = start.replace(day=1)\n",
    "        next_month = start.replace(day=28) + timedelta(days=4)\n",
    "        report_end_date = next_month - timedelta(days=next_month.day)\n",
    "        monthly_reports[month_year] = {\n",
    "            \"report_start_date\": report_start_date.strftime(\"%Y-%m-%d\"),\n",
    "            \"report_end_date\": report_end_date.strftime(\"%Y-%m-%d\")\n",
    "        }\n",
    "        start = next_month\n",
    "\n",
    "    return monthly_reports\n",
    "\n",
    "def get_quarter(p_date) -> int:\n",
    "    return (p_date.month - 1) // 3 + 1\n",
    "\n",
    "def get_quarterly_report_dates(start_date_str, end_date_str):\n",
    "    start_date = datetime.strptime(start_date_str, '%Y-%m-%d')\n",
    "    end_date = datetime.strptime(end_date_str, '%Y-%m-%d')\n",
    "\n",
    "    quarter_dates = {}\n",
    "\n",
    "    while start_date <= end_date:\n",
    "        quarter = get_quarter(start_date)\n",
    "        quarter_name = 'Q{}_{}'.format(quarter, start_date.year)\n",
    "        quarter_start = datetime(start_date.year, (start_date.month - 1) // 3 * 3 + 1, 1)\n",
    "        quarter_end = quarter_start.replace(year=quarter_start.year + 3 * quarter // 12, month=(quarter_start.month + 3) % 12, day=1) - timedelta(days=1)\n",
    "        quarter_dates[quarter_name] = {\n",
    "            'report_start_date': quarter_start.strftime('%Y-%m-%d'),\n",
    "            'report_end_date': quarter_end.strftime('%Y-%m-%d')\n",
    "        }\n",
    "        start_date = quarter_end + timedelta(days=1)\n",
    "\n",
    "    return quarter_dates\n",
    "\n",
    "def generate_report_variants(period_dict, suffix=\"report\"):\n",
    "    return {'_'.join([period, suffix]): {'string_format': {'report': period}, 'params': params} for period, params in period_dict.items()}"
   ]
  },
  {
   "cell_type": "code",
   "execution_count": 7,
   "metadata": {},
   "outputs": [],
   "source": [
    "months = get_monthly_report_dates(start_date, end_date)\n",
    "quarters = get_quarterly_report_dates(start_date, end_date)\n",
    "monthly_viewing_tables = generate_report_variants(months, 'viewing')\n",
    "quarterly_viewing_tables = generate_report_variants(quarters, 'viewing')\n",
    "month_tables = generate_report_variants(months)\n",
    "quarter_tables = generate_report_variants(quarters)\n",
    "bq = QueryTool()"
   ]
  },
  {
   "attachments": {},
   "cell_type": "markdown",
   "metadata": {},
   "source": [
    "## Monthly"
   ]
  },
  {
   "cell_type": "code",
   "execution_count": 8,
   "metadata": {},
   "outputs": [
    {
     "name": "stdout",
     "output_type": "stream",
     "text": [
      "Added: Jan_2022_report\t | \tAwaiting start\n",
      "Added: Feb_2022_report\t | \tAwaiting start\n",
      "Added: Mar_2022_report\t | \tAwaiting start\n",
      "Added: Apr_2022_report\t | \tAwaiting start\n",
      "Added: May_2022_report\t | \tAwaiting start\n",
      "Added: Jun_2022_report\t | \tAwaiting start\n",
      "Added: Jul_2022_report\t | \tAwaiting start\n",
      "Added: Aug_2022_report\t | \tAwaiting start\n",
      "Added: Sep_2022_report\t | \tAwaiting start\n",
      "Added: Oct_2022_report\t | \tAwaiting start\n",
      "Added: Nov_2022_report\t | \tAwaiting start\n",
      "Added: Dec_2022_report\t | \tAwaiting start\n",
      "Added: Jan_2023_report\t | \tAwaiting start\n",
      "Added: Feb_2023_report\t | \tAwaiting start\n",
      "Added: Mar_2023_report\t | \tAwaiting start\n",
      "Added: Apr_2023_report\t | \tAwaiting start\n",
      "Added: May_2023_report\t | \tAwaiting start\n",
      "Added: Jun_2023_report\t | \tAwaiting start\n",
      "Added: Jul_2023_report\t | \tAwaiting start\n",
      "Added: Aug_2023_report\t | \tAwaiting start\n",
      "Added: Sep_2023_report\t | \tAwaiting start\n",
      "Added: Oct_2023_report\t | \tAwaiting start\n",
      "Added: Nov_2023_report\t | \tAwaiting start\n",
      "Added: Dec_2023_report\t | \tAwaiting start\n"
     ]
    }
   ],
   "source": [
    "with open('Silver_Email_Monthly.sql', 'r') as file:\n",
    "    sql_file = file.read()\n",
    "    bq.add(sql_file, month_tables)"
   ]
  },
  {
   "attachments": {},
   "cell_type": "markdown",
   "metadata": {},
   "source": [
    "## Quarterly"
   ]
  },
  {
   "cell_type": "code",
   "execution_count": 9,
   "metadata": {},
   "outputs": [
    {
     "ename": "FileNotFoundError",
     "evalue": "[Errno 2] No such file or directory: 'Silver_Email_Quarterly.sql'",
     "output_type": "error",
     "traceback": [
      "\u001b[1;31m---------------------------------------------------------------------------\u001b[0m",
      "\u001b[1;31mFileNotFoundError\u001b[0m                         Traceback (most recent call last)",
      "Cell \u001b[1;32mIn[9], line 1\u001b[0m\n\u001b[1;32m----> 1\u001b[0m \u001b[38;5;28;01mwith\u001b[39;00m \u001b[38;5;28;43mopen\u001b[39;49m\u001b[43m(\u001b[49m\u001b[38;5;124;43m'\u001b[39;49m\u001b[38;5;124;43mSilver_Email_Quarterly.sql\u001b[39;49m\u001b[38;5;124;43m'\u001b[39;49m\u001b[43m,\u001b[49m\u001b[43m \u001b[49m\u001b[38;5;124;43m'\u001b[39;49m\u001b[38;5;124;43mr\u001b[39;49m\u001b[38;5;124;43m'\u001b[39;49m\u001b[43m)\u001b[49m \u001b[38;5;28;01mas\u001b[39;00m file:\n\u001b[0;32m      2\u001b[0m     sql_file \u001b[38;5;241m=\u001b[39m file\u001b[38;5;241m.\u001b[39mread()\n\u001b[0;32m      3\u001b[0m     bq\u001b[38;5;241m.\u001b[39madd(sql_file, quarter_tables)\n",
      "File \u001b[1;32mc:\\Users\\206758160\\AppData\\Local\\anaconda3\\lib\\site-packages\\IPython\\core\\interactiveshell.py:282\u001b[0m, in \u001b[0;36m_modified_open\u001b[1;34m(file, *args, **kwargs)\u001b[0m\n\u001b[0;32m    275\u001b[0m \u001b[38;5;28;01mif\u001b[39;00m file \u001b[38;5;129;01min\u001b[39;00m {\u001b[38;5;241m0\u001b[39m, \u001b[38;5;241m1\u001b[39m, \u001b[38;5;241m2\u001b[39m}:\n\u001b[0;32m    276\u001b[0m     \u001b[38;5;28;01mraise\u001b[39;00m \u001b[38;5;167;01mValueError\u001b[39;00m(\n\u001b[0;32m    277\u001b[0m         \u001b[38;5;124mf\u001b[39m\u001b[38;5;124m\"\u001b[39m\u001b[38;5;124mIPython won\u001b[39m\u001b[38;5;124m'\u001b[39m\u001b[38;5;124mt let you open fd=\u001b[39m\u001b[38;5;132;01m{\u001b[39;00mfile\u001b[38;5;132;01m}\u001b[39;00m\u001b[38;5;124m by default \u001b[39m\u001b[38;5;124m\"\u001b[39m\n\u001b[0;32m    278\u001b[0m         \u001b[38;5;124m\"\u001b[39m\u001b[38;5;124mas it is likely to crash IPython. If you know what you are doing, \u001b[39m\u001b[38;5;124m\"\u001b[39m\n\u001b[0;32m    279\u001b[0m         \u001b[38;5;124m\"\u001b[39m\u001b[38;5;124myou can use builtins\u001b[39m\u001b[38;5;124m'\u001b[39m\u001b[38;5;124m open.\u001b[39m\u001b[38;5;124m\"\u001b[39m\n\u001b[0;32m    280\u001b[0m     )\n\u001b[1;32m--> 282\u001b[0m \u001b[38;5;28;01mreturn\u001b[39;00m io_open(file, \u001b[38;5;241m*\u001b[39margs, \u001b[38;5;241m*\u001b[39m\u001b[38;5;241m*\u001b[39mkwargs)\n",
      "\u001b[1;31mFileNotFoundError\u001b[0m: [Errno 2] No such file or directory: 'Silver_Email_Quarterly.sql'"
     ]
    }
   ],
   "source": [
    "with open('Silver_Email_Quarterly.sql', 'r') as file:\n",
    "    sql_file = file.read()\n",
    "    bq.add(sql_file, quarter_tables)"
   ]
  },
  {
   "cell_type": "code",
   "execution_count": 10,
   "metadata": {},
   "outputs": [
    {
     "name": "stdout",
     "output_type": "stream",
     "text": [
      "start 983f07bc-3107-4e02-a2b2-0653dc258e9a\n",
      "start fccfe40a-e385-4886-9fbf-5ecc14ea6b07\n",
      "start 9c90309b-230d-4cfa-ac53-e59cbd544373\n",
      "start bcb4d8a4-57f5-4622-b4a2-744a246a01bd\n",
      "start d182d547-c521-49e1-9044-2086608f558a\n",
      "start 7e3addfb-53d8-4605-b751-87037f02b1ba\n",
      "start c7dc50ac-39c3-421f-befd-52f3f397afab\n",
      "start d9696e2a-24ed-46a6-b262-429cff681e25\n",
      "start 4b3e07bb-f7f4-460f-a9ac-56a68fe8fe7e\n",
      "start 0dbec751-9781-4528-927b-462be987e3e7\n",
      "start 6d79cbb6-c2f7-43e4-81cb-3659b1f038ba\n",
      "start 4d7459c4-94d0-4522-9acb-21fab20eda20\n",
      "start 5e1660c9-ad8f-4f03-a4c1-85b0c869bc8f\n",
      "start c2fd2de8-2efd-4562-a2e0-f6b558358943\n",
      "start 02ecb12d-c746-4202-b6ef-e6a7838d8e3d\n",
      "start 5678204a-0cea-4d44-987b-565993b7fe61\n",
      "start 79c6b855-de78-4fc6-9344-f3a7a6b6d882\n",
      "start bd439467-196b-41d6-8c82-9fd909211272\n",
      "start 0e80b626-6f0a-4b30-a611-0b42208a52f4\n",
      "start 52933eed-dc3a-4afa-bfe1-c72561ecd898\n",
      "start 12404e84-322e-41a3-aafb-5b15dfe8ee64\n",
      "start c0319ffa-a89f-47b8-ba5e-97ebb586b237\n",
      "start 7c8cd04e-7849-48c7-a062-185ec763ab39\n",
      "start c7063ea1-0014-42d1-b857-938d58427879\n",
      "All jobs in queue started\n"
     ]
    }
   ],
   "source": [
    "bq.start()"
   ]
  },
  {
   "cell_type": "code",
   "execution_count": 13,
   "metadata": {},
   "outputs": [
    {
     "name": "stdout",
     "output_type": "stream",
     "text": [
      "Active jobs: \n",
      "\n",
      "\n",
      "Finished jobs: \n",
      "Jan_2022_report\t | \tbcb4d8a4-57f5-4622-b4a2-744a246a01bd\t | \tCreated: Jan 08, 2024 05:00 PM\t | \tLast Checked: Jan 09, 2024 09:17 AM\t | \tDONE\n",
      "Feb_2022_report\t | \t4b3e07bb-f7f4-460f-a9ac-56a68fe8fe7e\t | \tCreated: Jan 08, 2024 05:00 PM\t | \tLast Checked: Jan 09, 2024 09:17 AM\t | \tDONE\n",
      "Mar_2022_report\t | \td9696e2a-24ed-46a6-b262-429cff681e25\t | \tCreated: Jan 08, 2024 05:00 PM\t | \tLast Checked: Jan 09, 2024 09:17 AM\t | \tDONE\n",
      "Apr_2022_report\t | \t983f07bc-3107-4e02-a2b2-0653dc258e9a\t | \tCreated: Jan 08, 2024 05:00 PM\t | \tLast Checked: Jan 09, 2024 09:17 AM\t | \tDONE\n",
      "May_2022_report\t | \t9c90309b-230d-4cfa-ac53-e59cbd544373\t | \tCreated: Jan 08, 2024 05:00 PM\t | \tLast Checked: Jan 09, 2024 09:17 AM\t | \tDONE\n",
      "Jun_2022_report\t | \t7e3addfb-53d8-4605-b751-87037f02b1ba\t | \tCreated: Jan 08, 2024 05:00 PM\t | \tLast Checked: Jan 09, 2024 09:17 AM\t | \tDONE\n",
      "Jul_2022_report\t | \td182d547-c521-49e1-9044-2086608f558a\t | \tCreated: Jan 08, 2024 05:00 PM\t | \tLast Checked: Jan 09, 2024 09:17 AM\t | \tDONE\n",
      "Aug_2022_report\t | \t0dbec751-9781-4528-927b-462be987e3e7\t | \tCreated: Jan 08, 2024 05:00 PM\t | \tLast Checked: Jan 09, 2024 09:17 AM\t | \tDONE\n",
      "Sep_2022_report\t | \t4d7459c4-94d0-4522-9acb-21fab20eda20\t | \tCreated: Jan 08, 2024 05:00 PM\t | \tLast Checked: Jan 09, 2024 09:17 AM\t | \tDONE\n",
      "Oct_2022_report\t | \tbd439467-196b-41d6-8c82-9fd909211272\t | \tCreated: Jan 08, 2024 05:00 PM\t | \tLast Checked: Jan 09, 2024 09:17 AM\t | \tDONE\n",
      "Nov_2022_report\t | \tfccfe40a-e385-4886-9fbf-5ecc14ea6b07\t | \tCreated: Jan 08, 2024 05:00 PM\t | \tLast Checked: Jan 09, 2024 09:17 AM\t | \tDONE\n",
      "Dec_2022_report\t | \t52933eed-dc3a-4afa-bfe1-c72561ecd898\t | \tCreated: Jan 08, 2024 05:00 PM\t | \tLast Checked: Jan 09, 2024 09:17 AM\t | \tDONE\n",
      "Jan_2023_report\t | \t5e1660c9-ad8f-4f03-a4c1-85b0c869bc8f\t | \tCreated: Jan 08, 2024 05:00 PM\t | \tLast Checked: Jan 09, 2024 09:17 AM\t | \tDONE\n",
      "Feb_2023_report\t | \tc7063ea1-0014-42d1-b857-938d58427879\t | \tCreated: Jan 08, 2024 05:00 PM\t | \tLast Checked: Jan 09, 2024 09:17 AM\t | \tDONE\n",
      "Mar_2023_report\t | \tc7dc50ac-39c3-421f-befd-52f3f397afab\t | \tCreated: Jan 08, 2024 05:00 PM\t | \tLast Checked: Jan 09, 2024 09:17 AM\t | \tDONE\n",
      "Apr_2023_report\t | \t79c6b855-de78-4fc6-9344-f3a7a6b6d882\t | \tCreated: Jan 08, 2024 05:00 PM\t | \tLast Checked: Jan 09, 2024 09:17 AM\t | \tDONE\n",
      "May_2023_report\t | \tc2fd2de8-2efd-4562-a2e0-f6b558358943\t | \tCreated: Jan 08, 2024 05:00 PM\t | \tLast Checked: Jan 09, 2024 09:17 AM\t | \tDONE\n",
      "Jun_2023_report\t | \tc0319ffa-a89f-47b8-ba5e-97ebb586b237\t | \tCreated: Jan 08, 2024 05:00 PM\t | \tLast Checked: Jan 09, 2024 09:17 AM\t | \tDONE\n",
      "Jul_2023_report\t | \t02ecb12d-c746-4202-b6ef-e6a7838d8e3d\t | \tCreated: Jan 08, 2024 05:00 PM\t | \tLast Checked: Jan 09, 2024 09:17 AM\t | \tDONE\n",
      "Aug_2023_report\t | \t12404e84-322e-41a3-aafb-5b15dfe8ee64\t | \tCreated: Jan 08, 2024 05:00 PM\t | \tLast Checked: Jan 09, 2024 09:17 AM\t | \tDONE\n",
      "Sep_2023_report\t | \t7c8cd04e-7849-48c7-a062-185ec763ab39\t | \tCreated: Jan 08, 2024 05:00 PM\t | \tLast Checked: Jan 09, 2024 09:17 AM\t | \tDONE\n",
      "Oct_2023_report\t | \t6d79cbb6-c2f7-43e4-81cb-3659b1f038ba\t | \tCreated: Jan 08, 2024 05:00 PM\t | \tLast Checked: Jan 09, 2024 09:17 AM\t | \tDONE\n",
      "Nov_2023_report\t | \t5678204a-0cea-4d44-987b-565993b7fe61\t | \tCreated: Jan 08, 2024 05:00 PM\t | \tLast Checked: Jan 09, 2024 09:17 AM\t | \tDONE\n",
      "Dec_2023_report\t | \t0e80b626-6f0a-4b30-a611-0b42208a52f4\t | \tCreated: Jan 08, 2024 05:00 PM\t | \tLast Checked: Jan 09, 2024 09:17 AM\t | \tNot found: Table nbcu-ds-sandbox-a-001:SLi_sandbox.Video_Viewing_Dec_2023 was not found in location US at [190:1]\n"
     ]
    }
   ],
   "source": [
    "bq.update()"
   ]
  },
  {
   "attachments": {},
   "cell_type": "markdown",
   "metadata": {},
   "source": [
    "# Compile Results"
   ]
  },
  {
   "cell_type": "code",
   "execution_count": 12,
   "metadata": {},
   "outputs": [
    {
     "ename": "NotFound",
     "evalue": "404 Not found: Table nbcu-ds-sandbox-a-001:SLi_sandbox.Email_Channel_Base_Dec_2023 was not found in location US\n\nLocation: US\nJob ID: 7d5f829f-d7c5-44e1-b64b-bcc6a8200f3d\n",
     "output_type": "error",
     "traceback": [
      "\u001b[1;31m---------------------------------------------------------------------------\u001b[0m",
      "\u001b[1;31mNotFound\u001b[0m                                  Traceback (most recent call last)",
      "Cell \u001b[1;32mIn[12], line 14\u001b[0m\n\u001b[0;32m      2\u001b[0m query \u001b[38;5;241m=\u001b[39m \u001b[38;5;124m\"\"\"\u001b[39m\n\u001b[0;32m      3\u001b[0m \u001b[38;5;124m        CREATE or replace TABLE `nbcu-ds-sandbox-a-001.SLi_sandbox.SILVER_EMAIL_CHANNEL_PERFORMANCE_MONTHLY` AS \u001b[39m\n\u001b[0;32m      4\u001b[0m \u001b[38;5;124m        \u001b[39m\n\u001b[1;32m   (...)\u001b[0m\n\u001b[0;32m     10\u001b[0m \u001b[38;5;124;03m        )\u001b[39;00m\n\u001b[0;32m     11\u001b[0m \u001b[38;5;124;03m        \"\"\"\u001b[39;00m\n\u001b[0;32m     13\u001b[0m \u001b[38;5;28;01mwith\u001b[39;00m bigquery\u001b[38;5;241m.\u001b[39mClient() \u001b[38;5;28;01mas\u001b[39;00m client:\n\u001b[1;32m---> 14\u001b[0m     \u001b[43mclient\u001b[49m\u001b[38;5;241;43m.\u001b[39;49m\u001b[43mquery\u001b[49m\u001b[43m(\u001b[49m\u001b[43mquery\u001b[49m\u001b[43m)\u001b[49m\u001b[38;5;241;43m.\u001b[39;49m\u001b[43mresult\u001b[49m\u001b[43m(\u001b[49m\u001b[43m)\u001b[49m\n",
      "File \u001b[1;32mc:\\Users\\206758160\\AppData\\Local\\anaconda3\\lib\\site-packages\\google\\cloud\\bigquery\\job\\query.py:1520\u001b[0m, in \u001b[0;36mQueryJob.result\u001b[1;34m(self, page_size, max_results, retry, timeout, start_index, job_retry)\u001b[0m\n\u001b[0;32m   1517\u001b[0m     \u001b[38;5;28;01mif\u001b[39;00m retry_do_query \u001b[38;5;129;01mis\u001b[39;00m \u001b[38;5;129;01mnot\u001b[39;00m \u001b[38;5;28;01mNone\u001b[39;00m \u001b[38;5;129;01mand\u001b[39;00m job_retry \u001b[38;5;129;01mis\u001b[39;00m \u001b[38;5;129;01mnot\u001b[39;00m \u001b[38;5;28;01mNone\u001b[39;00m:\n\u001b[0;32m   1518\u001b[0m         do_get_result \u001b[38;5;241m=\u001b[39m job_retry(do_get_result)\n\u001b[1;32m-> 1520\u001b[0m     \u001b[43mdo_get_result\u001b[49m\u001b[43m(\u001b[49m\u001b[43m)\u001b[49m\n\u001b[0;32m   1522\u001b[0m \u001b[38;5;28;01mexcept\u001b[39;00m exceptions\u001b[38;5;241m.\u001b[39mGoogleAPICallError \u001b[38;5;28;01mas\u001b[39;00m exc:\n\u001b[0;32m   1523\u001b[0m     exc\u001b[38;5;241m.\u001b[39mmessage \u001b[38;5;241m=\u001b[39m _EXCEPTION_FOOTER_TEMPLATE\u001b[38;5;241m.\u001b[39mformat(\n\u001b[0;32m   1524\u001b[0m         message\u001b[38;5;241m=\u001b[39mexc\u001b[38;5;241m.\u001b[39mmessage, location\u001b[38;5;241m=\u001b[39m\u001b[38;5;28mself\u001b[39m\u001b[38;5;241m.\u001b[39mlocation, job_id\u001b[38;5;241m=\u001b[39m\u001b[38;5;28mself\u001b[39m\u001b[38;5;241m.\u001b[39mjob_id\n\u001b[0;32m   1525\u001b[0m     )\n",
      "File \u001b[1;32mc:\\Users\\206758160\\AppData\\Local\\anaconda3\\lib\\site-packages\\google\\api_core\\retry.py:349\u001b[0m, in \u001b[0;36mRetry.__call__.<locals>.retry_wrapped_func\u001b[1;34m(*args, **kwargs)\u001b[0m\n\u001b[0;32m    345\u001b[0m target \u001b[38;5;241m=\u001b[39m functools\u001b[38;5;241m.\u001b[39mpartial(func, \u001b[38;5;241m*\u001b[39margs, \u001b[38;5;241m*\u001b[39m\u001b[38;5;241m*\u001b[39mkwargs)\n\u001b[0;32m    346\u001b[0m sleep_generator \u001b[38;5;241m=\u001b[39m exponential_sleep_generator(\n\u001b[0;32m    347\u001b[0m     \u001b[38;5;28mself\u001b[39m\u001b[38;5;241m.\u001b[39m_initial, \u001b[38;5;28mself\u001b[39m\u001b[38;5;241m.\u001b[39m_maximum, multiplier\u001b[38;5;241m=\u001b[39m\u001b[38;5;28mself\u001b[39m\u001b[38;5;241m.\u001b[39m_multiplier\n\u001b[0;32m    348\u001b[0m )\n\u001b[1;32m--> 349\u001b[0m \u001b[38;5;28;01mreturn\u001b[39;00m \u001b[43mretry_target\u001b[49m\u001b[43m(\u001b[49m\n\u001b[0;32m    350\u001b[0m \u001b[43m    \u001b[49m\u001b[43mtarget\u001b[49m\u001b[43m,\u001b[49m\n\u001b[0;32m    351\u001b[0m \u001b[43m    \u001b[49m\u001b[38;5;28;43mself\u001b[39;49m\u001b[38;5;241;43m.\u001b[39;49m\u001b[43m_predicate\u001b[49m\u001b[43m,\u001b[49m\n\u001b[0;32m    352\u001b[0m \u001b[43m    \u001b[49m\u001b[43msleep_generator\u001b[49m\u001b[43m,\u001b[49m\n\u001b[0;32m    353\u001b[0m \u001b[43m    \u001b[49m\u001b[38;5;28;43mself\u001b[39;49m\u001b[38;5;241;43m.\u001b[39;49m\u001b[43m_timeout\u001b[49m\u001b[43m,\u001b[49m\n\u001b[0;32m    354\u001b[0m \u001b[43m    \u001b[49m\u001b[43mon_error\u001b[49m\u001b[38;5;241;43m=\u001b[39;49m\u001b[43mon_error\u001b[49m\u001b[43m,\u001b[49m\n\u001b[0;32m    355\u001b[0m \u001b[43m\u001b[49m\u001b[43m)\u001b[49m\n",
      "File \u001b[1;32mc:\\Users\\206758160\\AppData\\Local\\anaconda3\\lib\\site-packages\\google\\api_core\\retry.py:191\u001b[0m, in \u001b[0;36mretry_target\u001b[1;34m(target, predicate, sleep_generator, timeout, on_error, **kwargs)\u001b[0m\n\u001b[0;32m    189\u001b[0m \u001b[38;5;28;01mfor\u001b[39;00m sleep \u001b[38;5;129;01min\u001b[39;00m sleep_generator:\n\u001b[0;32m    190\u001b[0m     \u001b[38;5;28;01mtry\u001b[39;00m:\n\u001b[1;32m--> 191\u001b[0m         \u001b[38;5;28;01mreturn\u001b[39;00m \u001b[43mtarget\u001b[49m\u001b[43m(\u001b[49m\u001b[43m)\u001b[49m\n\u001b[0;32m    193\u001b[0m     \u001b[38;5;66;03m# pylint: disable=broad-except\u001b[39;00m\n\u001b[0;32m    194\u001b[0m     \u001b[38;5;66;03m# This function explicitly must deal with broad exceptions.\u001b[39;00m\n\u001b[0;32m    195\u001b[0m     \u001b[38;5;28;01mexcept\u001b[39;00m \u001b[38;5;167;01mException\u001b[39;00m \u001b[38;5;28;01mas\u001b[39;00m exc:\n",
      "File \u001b[1;32mc:\\Users\\206758160\\AppData\\Local\\anaconda3\\lib\\site-packages\\google\\cloud\\bigquery\\job\\query.py:1510\u001b[0m, in \u001b[0;36mQueryJob.result.<locals>.do_get_result\u001b[1;34m()\u001b[0m\n\u001b[0;32m   1507\u001b[0m     \u001b[38;5;28mself\u001b[39m\u001b[38;5;241m.\u001b[39m_retry_do_query \u001b[38;5;241m=\u001b[39m retry_do_query\n\u001b[0;32m   1508\u001b[0m     \u001b[38;5;28mself\u001b[39m\u001b[38;5;241m.\u001b[39m_job_retry \u001b[38;5;241m=\u001b[39m job_retry\n\u001b[1;32m-> 1510\u001b[0m \u001b[38;5;28;43msuper\u001b[39;49m\u001b[43m(\u001b[49m\u001b[43mQueryJob\u001b[49m\u001b[43m,\u001b[49m\u001b[43m \u001b[49m\u001b[38;5;28;43mself\u001b[39;49m\u001b[43m)\u001b[49m\u001b[38;5;241;43m.\u001b[39;49m\u001b[43mresult\u001b[49m\u001b[43m(\u001b[49m\u001b[43mretry\u001b[49m\u001b[38;5;241;43m=\u001b[39;49m\u001b[43mretry\u001b[49m\u001b[43m,\u001b[49m\u001b[43m \u001b[49m\u001b[43mtimeout\u001b[49m\u001b[38;5;241;43m=\u001b[39;49m\u001b[43mtimeout\u001b[49m\u001b[43m)\u001b[49m\n\u001b[0;32m   1512\u001b[0m \u001b[38;5;66;03m# Since the job could already be \"done\" (e.g. got a finished job\u001b[39;00m\n\u001b[0;32m   1513\u001b[0m \u001b[38;5;66;03m# via client.get_job), the superclass call to done() might not\u001b[39;00m\n\u001b[0;32m   1514\u001b[0m \u001b[38;5;66;03m# set the self._query_results cache.\u001b[39;00m\n\u001b[0;32m   1515\u001b[0m \u001b[38;5;28mself\u001b[39m\u001b[38;5;241m.\u001b[39m_reload_query_results(retry\u001b[38;5;241m=\u001b[39mretry, timeout\u001b[38;5;241m=\u001b[39mtimeout)\n",
      "File \u001b[1;32mc:\\Users\\206758160\\AppData\\Local\\anaconda3\\lib\\site-packages\\google\\cloud\\bigquery\\job\\base.py:922\u001b[0m, in \u001b[0;36m_AsyncJob.result\u001b[1;34m(self, retry, timeout)\u001b[0m\n\u001b[0;32m    919\u001b[0m     \u001b[38;5;28mself\u001b[39m\u001b[38;5;241m.\u001b[39m_begin(retry\u001b[38;5;241m=\u001b[39mretry, timeout\u001b[38;5;241m=\u001b[39mtimeout)\n\u001b[0;32m    921\u001b[0m kwargs \u001b[38;5;241m=\u001b[39m {} \u001b[38;5;28;01mif\u001b[39;00m retry \u001b[38;5;129;01mis\u001b[39;00m DEFAULT_RETRY \u001b[38;5;28;01melse\u001b[39;00m {\u001b[38;5;124m\"\u001b[39m\u001b[38;5;124mretry\u001b[39m\u001b[38;5;124m\"\u001b[39m: retry}\n\u001b[1;32m--> 922\u001b[0m \u001b[38;5;28;01mreturn\u001b[39;00m \u001b[38;5;28msuper\u001b[39m(_AsyncJob, \u001b[38;5;28mself\u001b[39m)\u001b[38;5;241m.\u001b[39mresult(timeout\u001b[38;5;241m=\u001b[39mtimeout, \u001b[38;5;241m*\u001b[39m\u001b[38;5;241m*\u001b[39mkwargs)\n",
      "File \u001b[1;32mc:\\Users\\206758160\\AppData\\Local\\anaconda3\\lib\\site-packages\\google\\api_core\\future\\polling.py:261\u001b[0m, in \u001b[0;36mPollingFuture.result\u001b[1;34m(self, timeout, retry, polling)\u001b[0m\n\u001b[0;32m    256\u001b[0m \u001b[38;5;28mself\u001b[39m\u001b[38;5;241m.\u001b[39m_blocking_poll(timeout\u001b[38;5;241m=\u001b[39mtimeout, retry\u001b[38;5;241m=\u001b[39mretry, polling\u001b[38;5;241m=\u001b[39mpolling)\n\u001b[0;32m    258\u001b[0m \u001b[38;5;28;01mif\u001b[39;00m \u001b[38;5;28mself\u001b[39m\u001b[38;5;241m.\u001b[39m_exception \u001b[38;5;129;01mis\u001b[39;00m \u001b[38;5;129;01mnot\u001b[39;00m \u001b[38;5;28;01mNone\u001b[39;00m:\n\u001b[0;32m    259\u001b[0m     \u001b[38;5;66;03m# pylint: disable=raising-bad-type\u001b[39;00m\n\u001b[0;32m    260\u001b[0m     \u001b[38;5;66;03m# Pylint doesn't recognize that this is valid in this case.\u001b[39;00m\n\u001b[1;32m--> 261\u001b[0m     \u001b[38;5;28;01mraise\u001b[39;00m \u001b[38;5;28mself\u001b[39m\u001b[38;5;241m.\u001b[39m_exception\n\u001b[0;32m    263\u001b[0m \u001b[38;5;28;01mreturn\u001b[39;00m \u001b[38;5;28mself\u001b[39m\u001b[38;5;241m.\u001b[39m_result\n",
      "\u001b[1;31mNotFound\u001b[0m: 404 Not found: Table nbcu-ds-sandbox-a-001:SLi_sandbox.Email_Channel_Base_Dec_2023 was not found in location US\n\nLocation: US\nJob ID: 7d5f829f-d7c5-44e1-b64b-bcc6a8200f3d\n"
     ]
    }
   ],
   "source": [
    "# Merge and group monthly results\n",
    "query = \"\"\"\n",
    "        CREATE or replace TABLE `nbcu-ds-sandbox-a-001.SLi_sandbox.SILVER_EMAIL_CHANNEL_PERFORMANCE_MONTHLY` AS \n",
    "        \n",
    "        SELECT *\n",
    "        FROM ( \n",
    "        \"\"\" + \\\n",
    "        (' UNION ALL ').join([f'(select * from `nbcu-ds-sandbox-a-001.SLi_sandbox.Email_Channel_Base_{report}`)' for report in months]) + \\\n",
    "        \"\"\"\n",
    "        )\n",
    "        \"\"\"\n",
    "        \n",
    "with bigquery.Client() as client:\n",
    "    client.query(query).result()"
   ]
  },
  {
   "cell_type": "code",
   "execution_count": 54,
   "metadata": {},
   "outputs": [],
   "source": [
    "# Merge and group monthly results\n",
    "query = \"\"\"\n",
    "        CREATE or replace TABLE `nbcu-ds-sandbox-a-001.SLi_sandbox.SILVER_EMAIL_CHANNEL_PERFORMANCE_QUARTERLY` AS \n",
    "        \n",
    "        SELECT *\n",
    "        FROM ( \n",
    "        \"\"\" + \\\n",
    "        (' UNION ALL ').join([f'(select * from `nbcu-ds-sandbox-a-001.SLi_sandbox.Email_Channel_Base_{report}`)' for report in quarters]) + \\\n",
    "        \"\"\"\n",
    "        )\n",
    "        \"\"\"\n",
    "        \n",
    "with bigquery.Client() as client:\n",
    "    client.query(query).result()"
   ]
  },
  {
   "attachments": {},
   "cell_type": "markdown",
   "metadata": {},
   "source": [
    "# Build Gold"
   ]
  },
  {
   "cell_type": "code",
   "execution_count": 55,
   "metadata": {},
   "outputs": [],
   "source": [
    "# Merge and group monthly results\n",
    "\n",
    "with open('Gold_Email_Performance.sql', 'r') as file:\n",
    "    query = file.read()\n",
    "    with bigquery.Client() as client:\n",
    "        client.query(query).result()"
   ]
  },
  {
   "cell_type": "markdown",
   "metadata": {},
   "source": [
    "# Push to Prod"
   ]
  },
  {
   "cell_type": "code",
   "execution_count": 55,
   "metadata": {},
   "outputs": [
    {
     "data": {
      "application/vnd.jupyter.widget-view+json": {
       "model_id": "a4c623f3354c4271af7b0f4dafe76b21",
       "version_major": 2,
       "version_minor": 0
      },
      "text/plain": [
       "Query is running:   0%|          |"
      ]
     },
     "metadata": {},
     "output_type": "display_data"
    },
    {
     "data": {
      "text/html": [
       "<div>\n",
       "<style scoped>\n",
       "    .dataframe tbody tr th:only-of-type {\n",
       "        vertical-align: middle;\n",
       "    }\n",
       "\n",
       "    .dataframe tbody tr th {\n",
       "        vertical-align: top;\n",
       "    }\n",
       "\n",
       "    .dataframe thead th {\n",
       "        text-align: right;\n",
       "    }\n",
       "</style>\n",
       "<table border=\"1\" class=\"dataframe\">\n",
       "  <thead>\n",
       "    <tr style=\"text-align: right;\">\n",
       "      <th></th>\n",
       "    </tr>\n",
       "  </thead>\n",
       "  <tbody>\n",
       "  </tbody>\n",
       "</table>\n",
       "</div>"
      ],
      "text/plain": [
       "Empty DataFrame\n",
       "Columns: []\n",
       "Index: []"
      ]
     },
     "execution_count": 55,
     "metadata": {},
     "output_type": "execute_result"
    }
   ],
   "source": [
    "%%bigquery\n",
    "\n",
    "CREATE OR REPLACE TABLE `nbcu-ds-sandbox-a-001.SLi_sandbox.GOLD_EMAIL_CHANNEL_PERFORMANCE` AS (\n",
    "    SELECT * FROM `nbcu-ds-sandbox-a-001.SLi_sandbox.GOLD_EMAIL_CHANNEL_PERFORMANCE_TEST`\n",
    ")"
   ]
  },
  {
   "cell_type": "code",
   "execution_count": 14,
   "metadata": {},
   "outputs": [
    {
     "data": {
      "application/vnd.jupyter.widget-view+json": {
       "model_id": "26cc3ddc7bb4443a993bac410f0e3dba",
       "version_major": 2,
       "version_minor": 0
      },
      "text/plain": [
       "Query is running:   0%|          |"
      ]
     },
     "metadata": {},
     "output_type": "display_data"
    },
    {
     "data": {
      "application/vnd.jupyter.widget-view+json": {
       "model_id": "883251348ea74ae7ae1afce92337f004",
       "version_major": 2,
       "version_minor": 0
      },
      "text/plain": [
       "Downloading:   0%|          |"
      ]
     },
     "metadata": {},
     "output_type": "display_data"
    }
   ],
   "source": [
    "%%bigquery df\n",
    "\n",
    "select * from `nbcu-ds-sandbox-a-001.SLi_sandbox.GOLD_EMAIL_CHANNEL_PERFORMANCE_TEST` limit 10"
   ]
  },
  {
   "cell_type": "code",
   "execution_count": 15,
   "metadata": {},
   "outputs": [
    {
     "data": {
      "text/plain": [
       "Index(['Result_Type', 'Report_Month', 'Cohort', 'Account_Type',\n",
       "       'Active_Viewer', 'Primary_Device', 'Account_Tenure', 'Paid_Tenure',\n",
       "       'Billing_Platform', 'Bundling_Partner', 'Billing_Cycle_Category',\n",
       "       'Offer', 'Churn_Frequency', 'Previously_Bundled', 'Prev_30d_Viewer',\n",
       "       'Prev_Paying_Account_Flag', 'Intender_Audience', 'Genre', 'Network',\n",
       "       'Users', 'Viewers', 'Viewing_Time', 'Repertoire', 'Viewing_Sessions',\n",
       "       'Lapsed_Save_Denom', 'Lapsed_Save_Num', 'Lapsing_Save_Denom',\n",
       "       'Lapsing_Save_Num', 'Free_To_Paid_Denom', 'Free_To_Paid_Num',\n",
       "       'Net_New_Upgrade_Denom', 'Net_New_Upgrade_Num', 'Paid_Winbacks_Denom',\n",
       "       'Paid_Winbacks_Num', 'Cancel_Save_Denom', 'Cancel_Save_Num',\n",
       "       'EOM_Paid_Churn_Denom', 'EOM_Paid_Churn_Num'],\n",
       "      dtype='object')"
      ]
     },
     "execution_count": 15,
     "metadata": {},
     "output_type": "execute_result"
    }
   ],
   "source": [
    "df.columns"
   ]
  },
  {
   "attachments": {},
   "cell_type": "markdown",
   "metadata": {},
   "source": [
    "# Analysis"
   ]
  },
  {
   "cell_type": "code",
   "execution_count": 22,
   "metadata": {},
   "outputs": [],
   "source": [
    "def gen_analysis_query_func(total=False):\n",
    "    def gen_analysis_query(report): \n",
    "        return f\"\"\"\n",
    "                WITH CTE_1 AS\n",
    "                (\n",
    "                    SELECT  @report_start_date                                                     AS Report_Month \n",
    "                        {'--' if total else ''}, Account_Type\n",
    "                        ,COUNT(distinct CASE WHEN cohort = 'Targeted' THEN aid END )            AS Distinct_Cohort_Size_Targeted\n",
    "                        ,COUNT(distinct CASE WHEN cohort = 'Holdout' THEN aid END)              AS Distinct_Cohort_Size_Holdout\n",
    "\n",
    "                        ,SUM(CASE WHEN cohort = 'Targeted' THEN viewer END )                    AS Total_Returns_Targeted\n",
    "                        ,SUM(CASE WHEN cohort = 'Holdout' THEN viewer END)                      AS Total_Returns_Holdout\n",
    "\n",
    "                        ,SUM(CASE WHEN cohort = 'Targeted' THEN Viewing_Time END )              AS Total_Usage_Targeted\n",
    "                        ,SUM(CASE WHEN cohort = 'Holdout' THEN Viewing_Time END)                AS Total_Usage_Holdout\n",
    "\n",
    "                        ,SUM(CASE WHEN cohort = 'Targeted' THEN Repertoire_Pavo_Method END )    AS Total_Repertoire_Targeted\n",
    "                        ,SUM(CASE WHEN cohort = 'Holdout' THEN Repertoire_Pavo_Method END)      AS Total_Repertoire_Holdout\n",
    "\n",
    "                        ,SUM(CASE WHEN cohort = 'Targeted' THEN Distinct_Viewing_Sessions END ) AS Total_Viewing_Sessions_Targeted\n",
    "                        ,SUM(CASE WHEN cohort = 'Holdout' THEN Distinct_Viewing_Sessions END)   AS Total_Viewing_Sessions_Holdout\n",
    "\n",
    "                        ,SUM(CASE WHEN cohort = 'Targeted' THEN Lapsed_Save_Denom END )         AS Lapsed_Save_Denom_Targeted\n",
    "                        ,SUM(CASE WHEN cohort = 'Targeted' THEN Lapsed_Save_Num END)            AS Lapsed_Save_Num_Targeted\n",
    "                        ,SUM(CASE WHEN cohort = 'Holdout' THEN Lapsed_Save_Denom END )          AS Lapsed_Save_Denom_Holdout\n",
    "                        ,SUM(CASE WHEN cohort = 'Holdout' THEN Lapsed_Save_Num END)             AS Lapsed_Save_Num_Holdout\n",
    "\n",
    "                        ,SUM(CASE WHEN cohort = 'Targeted' THEN Lapsing_Save_Denom END )        AS Lapsing_Save_Denom_Targeted\n",
    "                        ,SUM(CASE WHEN cohort = 'Targeted' THEN Lapsing_Save_Num END)           AS Lapsing_Save_Num_Targeted\n",
    "                        ,SUM(CASE WHEN cohort = 'Holdout' THEN Lapsing_Save_Denom END )         AS Lapsing_Save_Denom_Holdout\n",
    "                        ,SUM(CASE WHEN cohort = 'Holdout' THEN Lapsing_Save_Num END)            AS Lapsing_Save_Num_Holdout\n",
    "\n",
    "                        ,SUM(CASE WHEN cohort = 'Targeted' THEN Free_To_Paid_Denom END )             AS Free_To_Paid_Denom_Targeted\n",
    "                        ,SUM(CASE WHEN cohort = 'Targeted' THEN Free_To_Paid_Num END)                AS Free_To_Paid_Num_Targeted\n",
    "                        ,SUM(CASE WHEN cohort = 'Holdout' THEN Free_To_Paid_Denom END )              AS Free_To_Paid_Denom_Holdout\n",
    "                        ,SUM(CASE WHEN cohort = 'Holdout' THEN Free_To_Paid_Num END)                 AS Free_To_Paid_Num_Holdout\n",
    "\n",
    "                        ,SUM(CASE WHEN cohort = 'Targeted' THEN Net_New_Upgrade_Denom END )     AS Total_Net_New_Upgrade_Denom_Targeted\n",
    "                        ,SUM(CASE WHEN cohort = 'Targeted' THEN Net_New_Upgrade_Num END)        AS Total_Net_New_Upgrade_Num_Targeted\n",
    "                        ,SUM(CASE WHEN cohort = 'Holdout' THEN Net_New_Upgrade_Denom END )      AS Total_Net_New_Upgrade_Denom_Holdout\n",
    "                        ,SUM(CASE WHEN cohort = 'Holdout' THEN Net_New_Upgrade_Num END)         AS Total_Net_New_Upgrade_Num_Holdout\n",
    "\n",
    "                        ,SUM(CASE WHEN cohort = 'Targeted' THEN Paid_Winbacks_Denom END )       AS Total_Paid_Winbacks_Denom_Targeted\n",
    "                        ,SUM(CASE WHEN cohort = 'Targeted' THEN Paid_Winbacks_Num END)          AS Total_Paid_Winbacks_Num_Targeted\n",
    "                        ,SUM(CASE WHEN cohort = 'Holdout' THEN Paid_Winbacks_Denom END )        AS Total_Paid_Winbacks_Denom_Holdout\n",
    "                        ,SUM(CASE WHEN cohort = 'Holdout' THEN Paid_Winbacks_Num END)           AS Total_Paid_Winbacks_Num_Holdout\n",
    "\n",
    "                        ,SUM(CASE WHEN cohort = 'Targeted' THEN Cancel_Save_Denom END )         AS Total_Cancel_Save_Denom_Targeted\n",
    "                        ,SUM(CASE WHEN cohort = 'Targeted' THEN Cancel_Save_Num END)            AS Total_Cancel_Save_Num_Targeted\n",
    "                        ,SUM(CASE WHEN cohort = 'Holdout' THEN Cancel_Save_Denom END )          AS Total_Cancel_Save_Denom_Holdout\n",
    "                        ,SUM(CASE WHEN cohort = 'Holdout' THEN Cancel_Save_Num END)             AS Total_Cancel_Save_Num_Holdout\n",
    "\n",
    "                        ,SUM(CASE WHEN cohort = 'Targeted' THEN EOM_Paid_Churn_Denom END )      AS EOM_Paid_Churn_Denom_Targeted\n",
    "                        ,SUM(CASE WHEN cohort = 'Targeted' THEN EOM_Paid_Churn_Num END)         AS EOM_Paid_Churn_Num_Targeted\n",
    "                        ,SUM(CASE WHEN cohort = 'Holdout' THEN EOM_Paid_Churn_Denom END )       AS EOM_Paid_Churn_Denom_Holdout\n",
    "                        ,SUM(CASE WHEN cohort = 'Holdout' THEN EOM_Paid_Churn_Num END)          AS EOM_Paid_Churn_Num_Holdout\n",
    "                    FROM `nbcu-ds-sandbox-a-001.SLi_sandbox.Email_Channel_Base_{report}`\n",
    "                    WHERE paying_account_flag = 'Paying'\n",
    "                    GROUP BY  1 {'--' if total else ''}, 2\n",
    "                ), CTE_2 AS\n",
    "                (\n",
    "                    SELECT  Report_Month \n",
    "                        {'--' if total else ''}, Account_Type\n",
    "                        ,Distinct_Cohort_Size_Targeted                                                        AS Total_Targeted\n",
    "                        ,Distinct_Cohort_Size_Holdout                                                         AS Total_Holdout\n",
    "\n",
    "                        ,safe_divide(Total_Returns_Targeted,Distinct_Cohort_Size_Targeted)                    AS Return_Rate_Engagers\n",
    "                        ,safe_divide(Total_Returns_Holdout,Distinct_Cohort_Size_Holdout)                      AS Return_Rate_Holdout\n",
    "\n",
    "                        ,safe_divide(Total_Usage_Targeted,Distinct_Cohort_Size_Targeted)                      AS Usage_Engagers\n",
    "                        ,safe_divide(Total_Usage_Holdout,Distinct_Cohort_Size_Holdout)                        AS Usage_Holdout\n",
    "\n",
    "                        ,safe_divide(Total_Repertoire_Targeted,Distinct_Cohort_Size_Targeted)                 AS Repertoire_Engagers\n",
    "                        ,safe_divide(Total_Repertoire_Holdout,Distinct_Cohort_Size_Holdout)                   AS Repertoire_Holdout\n",
    "\n",
    "                        ,safe_divide(Total_Viewing_Sessions_Targeted,Distinct_Cohort_Size_Targeted)           AS Sessions_Engagers\n",
    "                        ,safe_divide(Total_Viewing_Sessions_Holdout,Distinct_Cohort_Size_Holdout)             AS Sessions_Holdout\n",
    "\n",
    "                        ,Lapsed_Save_Denom_Targeted\n",
    "                        ,safe_divide(Lapsed_Save_Num_Targeted,Lapsed_Save_Denom_Targeted)                     AS Lapsed_Save_Rate_Engagers\n",
    "                        ,safe_divide(Lapsed_Save_Num_Holdout,Lapsed_Save_Denom_Holdout)                       AS Lapsed_Save_Rate_Holdout\n",
    "\n",
    "                        ,Lapsing_Save_Denom_Targeted\n",
    "                        ,safe_divide(Lapsing_Save_Num_Targeted,Lapsing_Save_Denom_Targeted)                   AS Lapsing_Save_Rate_Engagers\n",
    "                        ,safe_divide(Lapsing_Save_Num_Holdout,Lapsing_Save_Denom_Holdout)                     AS Lapsing_Save_Rate_Holdout\n",
    "\n",
    "                        ,Free_To_Paid_Denom_Targeted\n",
    "                        ,safe_divide(Free_To_Paid_Num_Targeted,Free_To_Paid_Denom_Targeted)                           AS Free_To_Paid_Rate_Engagers\n",
    "                        ,safe_divide(Free_To_Paid_Num_Holdout,Free_To_Paid_Denom_Holdout)                             AS Free_To_Paid_Rate_Holdout\n",
    "\n",
    "                        ,Total_Net_New_Upgrade_Denom_Targeted\n",
    "                        ,safe_divide(Total_Net_New_Upgrade_Num_Targeted,Total_Net_New_Upgrade_Denom_Targeted) AS Net_New_Upgrade_Rate_Engagers\n",
    "                        ,safe_divide(Total_Net_New_Upgrade_Num_Holdout,Total_Net_New_Upgrade_Denom_Holdout)   AS Net_New_Upgrade_Rate_Holdout\n",
    "\n",
    "                        ,Total_Paid_Winbacks_Denom_Targeted\n",
    "                        ,safe_divide(Total_Paid_Winbacks_Num_Targeted,Total_Paid_Winbacks_Denom_Targeted)     AS Paid_Winback_Rate_Engagers\n",
    "                        ,safe_divide(Total_Paid_Winbacks_Num_Holdout,Total_Paid_Winbacks_Denom_Holdout)       AS Paid_Winback_Rate_Holdout\n",
    "\n",
    "                        ,Total_Cancel_Save_Denom_Targeted\n",
    "                        ,safe_divide(Total_Cancel_Save_Num_Targeted,Total_Cancel_Save_Denom_Targeted)         AS Cancel_Save_Rate_Engagers\n",
    "                        ,safe_divide(Total_Cancel_Save_Num_Holdout,Total_Cancel_Save_Denom_Holdout)           AS Cancel_Save_Rate_Holdout\n",
    "\n",
    "                        ,EOM_Paid_Churn_Denom_Targeted\n",
    "                        ,safe_divide(EOM_Paid_Churn_Num_Targeted,EOM_Paid_Churn_Denom_Targeted)               AS Paid_Churn_Rate_Engagers\n",
    "                        ,safe_divide(EOM_Paid_Churn_Num_Holdout,EOM_Paid_Churn_Denom_Holdout)                 AS Paid_Churn_Rate_Holdout\n",
    "                    FROM CTE_1\n",
    "                )\n",
    "                SELECT  Report_Month\n",
    "                    {'--' if total else ''}, Account_Type\n",
    "                    ,Total_Targeted\n",
    "                    ,Total_Holdout\n",
    "                    \n",
    "                    ,Return_Rate_Engagers                                                                                  AS Return_Rate_Engagers\n",
    "                    ,Return_Rate_Holdout                                                                                   AS Return_Rate_Holdout\n",
    "                    ,Return_Rate_Engagers - Return_Rate_Holdout                                                            AS Return_Rate_Lift_PTS\n",
    "                    ,safe_divide(Return_Rate_Engagers,Return_Rate_Holdout) *100                                            AS Return_Rate_Lift_Index\n",
    "                    ,(Return_Rate_Engagers - Return_Rate_Holdout) * Total_Targeted                                         AS Returns_Incrementals\n",
    "\n",
    "                    ,Usage_Engagers                                                                                        AS Usage_Engagers\n",
    "                    ,Usage_Holdout                                                                                         AS Usage_Holdout\n",
    "                    ,Usage_Engagers - Usage_Holdout                                                                        AS Usage_Lift_PTS\n",
    "                    ,safe_divide(Usage_Engagers,Usage_Holdout) *100                                                        AS Usage_Lift_Index\n",
    "                    ,(Usage_Engagers - Usage_Holdout) * Total_Targeted                                                     AS Usage_Incrementals\n",
    "\n",
    "                    ,Repertoire_Engagers                                                                                   AS Repertoire_Engagers\n",
    "                    ,Repertoire_Holdout                                                                                    AS Repertoire_Holdout\n",
    "                    ,Repertoire_Engagers - Repertoire_Holdout                                                              AS Repertoire_Lift_PTS\n",
    "                    ,safe_divide(Repertoire_Engagers,Repertoire_Holdout) *100                                              AS Repertoire_Lift_Index\n",
    "                    ,(Repertoire_Engagers - Repertoire_Holdout) * Total_Targeted                                           AS Repertoire_Incrementals\n",
    "\n",
    "                    ,Sessions_Engagers                                                                                     AS Sessions_Engagers\n",
    "                    ,Sessions_Holdout                                                                                      AS Sessions_Holdout\n",
    "                    ,Sessions_Engagers - Sessions_Holdout                                                                  AS Sessions_Lift_PTS\n",
    "                    ,safe_divide(Sessions_Engagers,Sessions_Holdout) *100                                                  AS Sessions_Lift_Index\n",
    "                    ,(Sessions_Engagers - Sessions_Holdout) * Total_Targeted                                               AS Sessions_Incrementals\n",
    "\n",
    "                    ,Lapsed_Save_Rate_Engagers                                                                             AS Lapsed_Save_Rate_Engagers\n",
    "                    ,Lapsed_Save_Rate_Holdout                                                                              AS Lapsed_Save_Rate_Holdout\n",
    "                    ,Lapsed_Save_Rate_Engagers - Lapsed_Save_Rate_Holdout                                                  AS Lapsed_Save_Rate_Lift_PTS\n",
    "                    ,safe_divide(Lapsed_Save_Rate_Engagers,Lapsed_Save_Rate_Holdout) *100                                  AS Lapsed_Save_Rate_Lift_Index\n",
    "                    ,(Lapsed_Save_Rate_Engagers - Lapsed_Save_Rate_Holdout) * Lapsed_Save_Denom_Targeted                   AS Lapsed_Save_Incrementals\n",
    "\n",
    "                    ,Lapsing_Save_Rate_Engagers                                                                            AS Lapsing_Save_Rate_Engagers\n",
    "                    ,Lapsing_Save_Rate_Holdout                                                                             AS Lapsing_Save_Rate_Holdout\n",
    "                    ,Lapsing_Save_Rate_Engagers - Lapsing_Save_Rate_Holdout                                                AS Lapsing_Save_Rate_Lift_PTS\n",
    "                    ,safe_divide(Lapsing_Save_Rate_Engagers,Lapsing_Save_Rate_Holdout) *100                                AS Lapsing_Save_Rate_Lift_Index\n",
    "                    ,(Lapsing_Save_Rate_Engagers - Lapsing_Save_Rate_Holdout) * Lapsing_Save_Denom_Targeted                AS Lapsing_Save_Rate_Lift_Incrementals\n",
    "\n",
    "                    ,Free_To_Paid_Rate_Engagers                                                                                 AS Free_To_Paid_Rate_Engagers\n",
    "                    ,Free_To_Paid_Rate_Holdout                                                                                  AS Free_To_Paid_Rate_Holdout\n",
    "                    ,Free_To_Paid_Rate_Engagers - Free_To_Paid_Rate_Holdout                                                          AS Free_To_Paid_Rate_Lift_PTS\n",
    "                    ,safe_divide(Free_To_Paid_Rate_Engagers,Free_To_Paid_Rate_Holdout) *100                                          AS Free_To_Paid_Rate_Lift_Index\n",
    "                    ,(Free_To_Paid_Rate_Engagers - Free_To_Paid_Rate_Holdout) * Free_To_Paid_Denom_Targeted                              AS Free_To_Paid_Incrementals\n",
    "\n",
    "                    ,Net_New_Upgrade_Rate_Engagers                                                                         AS Net_New_Upgrade_Rate_Engagers\n",
    "                    ,Net_New_Upgrade_Rate_Holdout                                                                          AS Net_New_Upgrade_Rate_Holdout\n",
    "                    ,Net_New_Upgrade_Rate_Engagers - Net_New_Upgrade_Rate_Holdout                                          AS Net_New_Upgrade_Rate_Lift_PTS\n",
    "                    ,safe_divide(Net_New_Upgrade_Rate_Engagers,Net_New_Upgrade_Rate_Holdout) *100                          AS Net_New_Upgrade_Rate_Lift_Index\n",
    "                    ,(Net_New_Upgrade_Rate_Engagers - Net_New_Upgrade_Rate_Holdout) * Total_Net_New_Upgrade_Denom_Targeted AS Net_New_Upgrade_Incrementals\n",
    "\n",
    "                    ,Paid_Winback_Rate_Engagers                                                                            AS Paid_Winback_Rate_Engagers\n",
    "                    ,Paid_Winback_Rate_Holdout                                                                             AS Paid_Winback_Rate_Holdout\n",
    "                    ,Paid_Winback_Rate_Engagers - Paid_Winback_Rate_Holdout                                                AS Paid_Winback_Rate_Lift_PTS\n",
    "                    ,safe_divide(Paid_Winback_Rate_Engagers,Paid_Winback_Rate_Holdout) *100                                AS Paid_Winback_Rate_Lift_Index\n",
    "                    ,(Paid_Winback_Rate_Engagers - Paid_Winback_Rate_Holdout) * Total_Paid_Winbacks_Denom_Targeted         AS Paid_Winback_Rate_Lift_Incrementals\n",
    "\n",
    "                    ,Cancel_Save_Rate_Engagers                                                                             AS Cancel_Save_Rate_Engagers\n",
    "                    ,Cancel_Save_Rate_Holdout                                                                              AS Cancel_Save_Rate_Holdout\n",
    "                    ,Cancel_Save_Rate_Engagers - Cancel_Save_Rate_Holdout                                                  AS Cancel_Save_Rate_Lift_PTS\n",
    "                    ,safe_divide(Cancel_Save_Rate_Engagers,Cancel_Save_Rate_Holdout) *100                                  AS Cancel_Save_Rate_Lift_Index\n",
    "                    ,(Cancel_Save_Rate_Engagers - Cancel_Save_Rate_Holdout) * Total_Cancel_Save_Denom_Targeted             AS Cancel_Save_Rate_Incrementals\n",
    "\n",
    "                    ,Paid_Churn_Rate_Engagers                                                                              AS EOM_Paid_Churn_Rate_Engagers\n",
    "                    ,Paid_Churn_Rate_Holdout                                                                               AS EOM_Paid_Churn_Rate_Holdout\n",
    "                    ,Paid_Churn_Rate_Engagers - Paid_Churn_Rate_Holdout                                                    AS EOM_Paid_Churn_Rate_Lift_PTS\n",
    "                    ,safe_divide(Paid_Churn_Rate_Engagers,Paid_Churn_Rate_Holdout) *100                                    AS EOM_Paid_Churn_Rate_Lift_Index\n",
    "                    ,(Paid_Churn_Rate_Engagers - Paid_Churn_Rate_Holdout) * EOM_Paid_Churn_Denom_Targeted                  AS EOM_Paid_Churn_Rate_Incrementals\n",
    "                FROM CTE_2\n",
    "                ORDER BY 1 {'--' if total else ''},2\n",
    "                \"\"\"\n",
    "    return gen_analysis_query"
   ]
  },
  {
   "cell_type": "code",
   "execution_count": 23,
   "metadata": {},
   "outputs": [],
   "source": [
    "def gen_analysis_query_churn(report): \n",
    "\treturn f\"\"\"\n",
    "\t\t\tWITH CTE_1 AS\n",
    "\t\t\t(\n",
    "\t\t\t\tSELECT  @report_start_date                                                                                     AS Report_Month\n",
    "\t\t\t\t\t--, Account_Type\n",
    "\t\t\t\t\t,paid_tenure\n",
    "\t\t\t\t\t,SUM(CASE WHEN (cohort = 'Targeted') AND (Account_Type = 'Paying SVOD') THEN 1 END )  AS Distinct_Cohort_Size_Targeted\n",
    "\t\t\t\t\t,SUM(CASE WHEN (cohort = 'Holdout') AND (Account_Type = 'Paying SVOD') THEN 1 END)         AS Distinct_Cohort_Size_Holdout\n",
    "\t\t\t\t\t,SUM(CASE WHEN cohort = 'Targeted' THEN EOM_Paid_Churn_Denom END)                                AS EOM_Paid_Churn_Denom_Targeted\n",
    "\t\t\t\t\t,SUM(CASE WHEN cohort = 'Targeted' THEN EOM_Paid_Churn_Num END)                                   AS EOM_Paid_Churn_Num_Targeted\n",
    "\t\t\t\t\t,SUM(CASE WHEN cohort = 'Holdout' THEN EOM_Paid_Churn_Denom END)                                       AS EOM_Paid_Churn_Denom_Holdout\n",
    "\t\t\t\t\t,SUM(CASE WHEN cohort = 'Holdout' THEN EOM_Paid_Churn_Num END)                                          AS EOM_Paid_Churn_Num_Holdout\n",
    "\t\t\t\tFROM `nbcu-ds-sandbox-a-001.SLi_sandbox.Email_Channel_Base_{report}`\n",
    "\t\t\t\tGROUP BY  1,2\n",
    "\t\t\t), CTE_2 AS\n",
    "\t\t\t(\n",
    "\t\t\t\tSELECT  Report_Month\n",
    "\t\t\t\t\t--, Account_Type\n",
    "\t\t\t\t\t,paid_tenure\n",
    "\t\t\t\t\t,Distinct_Cohort_Size_Targeted                                          AS Targeted\n",
    "\t\t\t\t\t,Distinct_Cohort_Size_Holdout                                           AS Holdout\n",
    "\t\t\t\t\t,EOM_Paid_Churn_Denom_Targeted\n",
    "\t\t\t\t\t,safe_divide(EOM_Paid_Churn_Num_Targeted,EOM_Paid_Churn_Denom_Targeted) AS Paid_Churn_Rate_Engagers\n",
    "\t\t\t\t\t,safe_divide(EOM_Paid_Churn_Num_Holdout,EOM_Paid_Churn_Denom_Holdout)   AS Paid_Churn_Rate_Holdout\n",
    "\t\t\t\tFROM CTE_1\n",
    "\t\t\t)\n",
    "\t\t\tSELECT  Report_Month\n",
    "\t\t\t\t--, Account_Type\n",
    "\t\t\t\t,paid_tenure\n",
    "\t\t\t\t,Targeted\n",
    "\t\t\t\t,Holdout\n",
    "\t\t\t\t,Paid_Churn_Rate_Engagers                                                             AS EOM_Paid_Churn_Rate_Engagers\n",
    "\t\t\t\t,Paid_Churn_Rate_Holdout                                                              AS EOM_Paid_Churn_Rate_Holdout\n",
    "\t\t\t\t,Paid_Churn_Rate_Engagers - Paid_Churn_Rate_Holdout                                   AS EOM_Paid_Churn_Rate_Lift_PTS\n",
    "\t\t\t\t,safe_divide(Paid_Churn_Rate_Engagers,Paid_Churn_Rate_Holdout) *100                   AS EOM_Paid_Churn_Rate_Lift_Index\n",
    "\t\t\t\t,(Paid_Churn_Rate_Engagers - Paid_Churn_Rate_Holdout) * EOM_Paid_Churn_Denom_Targeted AS EOM_Paid_Churn_Rate_Incrementals\n",
    "\t\t\tFROM CTE_2\n",
    "\t\t\tORDER BY 1, 2\n",
    "\t\t\t\"\"\""
   ]
  },
  {
   "cell_type": "code",
   "execution_count": 24,
   "metadata": {},
   "outputs": [],
   "source": [
    "analyze_queries = [\n",
    "    gen_analysis_query_func(total=True),\n",
    "    gen_analysis_query_func(total=False),\n",
    "    gen_analysis_query_churn\n",
    "]"
   ]
  },
  {
   "cell_type": "code",
   "execution_count": 25,
   "metadata": {},
   "outputs": [],
   "source": [
    "def build_report(report, dates, queries):\n",
    "    queries = [fn(report) for fn in queries]\n",
    "    dfs = []\n",
    "    for q in queries:\n",
    "        query_config = {\n",
    "            'query': {\n",
    "                'parameterMode': 'NAMED',\n",
    "                'queryParameters': [\n",
    "                    {\n",
    "                        'name': 'report_start_date',\n",
    "                        'parameterType': {'type': 'STRING'},\n",
    "                        'parameterValue': {'value': dates['report_start_date']}\n",
    "                    },\n",
    "                    {\n",
    "                        'name': 'report_end_date',\n",
    "                        'parameterType': {'type': 'STRING'},\n",
    "                        'parameterValue': {'value': dates['report_end_date']}\n",
    "                    }\n",
    "                ]\n",
    "            }\n",
    "        }\n",
    "        dfs.append(pandas_gbq.read_gbq(q, configuration=query_config))\n",
    "    return dfs"
   ]
  },
  {
   "attachments": {},
   "cell_type": "markdown",
   "metadata": {},
   "source": [
    "## Monthly"
   ]
  },
  {
   "cell_type": "code",
   "execution_count": 32,
   "metadata": {},
   "outputs": [
    {
     "name": "stdout",
     "output_type": "stream",
     "text": [
      "Downloading: 100%|\u001b[32m██████████\u001b[0m|\n",
      "Downloading: 100%|\u001b[32m██████████\u001b[0m|\n",
      "Downloading: 100%|\u001b[32m██████████\u001b[0m|\n",
      "Downloading: 100%|\u001b[32m██████████\u001b[0m|\n",
      "Downloading: 100%|\u001b[32m██████████\u001b[0m|\n",
      "Downloading: 100%|\u001b[32m██████████\u001b[0m|\n",
      "Downloading: 100%|\u001b[32m██████████\u001b[0m|\n",
      "Downloading: 100%|\u001b[32m██████████\u001b[0m|\n",
      "Downloading: 100%|\u001b[32m██████████\u001b[0m|\n",
      "Downloading: 100%|\u001b[32m██████████\u001b[0m|\n",
      "Downloading: 100%|\u001b[32m██████████\u001b[0m|\n",
      "Downloading: 100%|\u001b[32m██████████\u001b[0m|\n",
      "Downloading:   0%|\u001b[32m          \u001b[0m|\n",
      "Downloading: 100%|\u001b[32m██████████\u001b[0m|\n",
      "\n",
      "\n",
      "Downloading: 100%|\u001b[32m██████████\u001b[0m|\n",
      "\n",
      "Downloading: 100%|\u001b[32m██████████\u001b[0m|\n",
      "\n",
      "\n",
      "Downloading: 100%|\u001b[32m██████████\u001b[0m|\n",
      "Downloading: 100%|\u001b[32m██████████\u001b[0m|\n",
      "Downloading: 100%|\u001b[32m██████████\u001b[0m|\n",
      "Downloading: 100%|\u001b[32m██████████\u001b[0m|\n",
      "Downloading: 100%|\u001b[32m██████████\u001b[0m|\n",
      "Downloading: 100%|\u001b[32m██████████\u001b[0m|\n",
      "Downloading: 100%|\u001b[32m██████████\u001b[0m|\n",
      "Downloading: 100%|\u001b[32m██████████\u001b[0m|\n",
      "Downloading: 100%|\u001b[32m██████████\u001b[0m|\n",
      "Downloading: 100%|\u001b[32m██████████\u001b[0m|\n",
      "Downloading: 100%|\u001b[32m██████████\u001b[0m|\n",
      "Downloading: 100%|\u001b[32m██████████\u001b[0m|\n",
      "Downloading: 100%|\u001b[32m██████████\u001b[0m|\n",
      "Downloading: 100%|\u001b[32m██████████\u001b[0m|\n",
      "Downloading: 100%|\u001b[32m██████████\u001b[0m|\n",
      "Downloading: 100%|\u001b[32m██████████\u001b[0m|\n",
      "Downloading: 100%|\u001b[32m██████████\u001b[0m|\n",
      "Downloading: 100%|\u001b[32m██████████\u001b[0m|\n",
      "Downloading: 100%|\u001b[32m██████████\u001b[0m|\n",
      "\n",
      "Downloading: 100%|\u001b[32m██████████\u001b[0m|\n",
      "Downloading: 100%|\u001b[32m██████████\u001b[0m|\n",
      "\n",
      "Downloading: 100%|\u001b[32m██████████\u001b[0m|\n",
      "Downloading: 100%|\u001b[32m██████████\u001b[0m|\n",
      "Downloading: 100%|\u001b[32m██████████\u001b[0m|\n",
      "Downloading: 100%|\u001b[32m██████████\u001b[0m|\n",
      "Downloading: 100%|\u001b[32m██████████\u001b[0m|\n",
      "Downloading: 100%|\u001b[32m██████████\u001b[0m|\n",
      "Downloading: 100%|\u001b[32m██████████\u001b[0m|\n",
      "Downloading: 100%|\u001b[32m██████████\u001b[0m|\n",
      "Downloading: 100%|\u001b[32m██████████\u001b[0m|\n",
      "Downloading: 100%|\u001b[32m██████████\u001b[0m|\n",
      "Downloading: 100%|\u001b[32m██████████\u001b[0m|\n",
      "Downloading: 100%|\u001b[32m██████████\u001b[0m|\n",
      "Downloading: 100%|\u001b[32m██████████\u001b[0m|\n",
      "Downloading: 100%|\u001b[32m██████████\u001b[0m|\n",
      "Downloading: 100%|\u001b[32m██████████\u001b[0m|\n",
      "Downloading: 100%|\u001b[32m██████████\u001b[0m|\n",
      "Downloading: 100%|\u001b[32m██████████\u001b[0m|\n",
      "Downloading: 100%|\u001b[32m██████████\u001b[0m|\n",
      "Downloading: 100%|\u001b[32m██████████\u001b[0m|\n",
      "Downloading: 100%|\u001b[32m██████████\u001b[0m|\n",
      "Downloading: 100%|\u001b[32m██████████\u001b[0m|\n",
      "Downloading: 100%|\u001b[32m██████████\u001b[0m|\n",
      "Downloading: 100%|\u001b[32m██████████\u001b[0m|\n",
      "Downloading: 100%|\u001b[32m██████████\u001b[0m|\n",
      "Downloading: 100%|\u001b[32m██████████\u001b[0m|\n",
      "Downloading: 100%|\u001b[32m██████████\u001b[0m|\n",
      "Downloading: 100%|\u001b[32m██████████\u001b[0m|\n"
     ]
    }
   ],
   "source": [
    "threads = []\n",
    "results = []\n",
    "\n",
    "with ThreadPoolExecutor(len(months)) as executor:\n",
    "    for report, dates in months.items():\n",
    "        threads.append(executor.submit(build_report, report, dates, analyze_queries))\n",
    "    for future in as_completed(threads):\n",
    "        results.append(future.result())"
   ]
  },
  {
   "cell_type": "code",
   "execution_count": 33,
   "metadata": {},
   "outputs": [],
   "source": [
    "aggregate_reports = pd.concat([results[i][0] for i in range(len(results))]).sort_values(by='Report_Month')\n",
    "acc_type_reports = pd.concat([results[i][1] for i in range(len(results))]).sort_values(by=['Report_Month', 'Account_Type'])\n",
    "\n",
    "with pd.ExcelWriter(f'email_channel_report_monthly.xlsx') as writer:\n",
    "    aggregate_reports.to_excel(writer, sheet_name='total')\n",
    "    acc_type_reports.to_excel(writer, sheet_name='acc_type')"
   ]
  },
  {
   "attachments": {},
   "cell_type": "markdown",
   "metadata": {},
   "source": [
    "## Quarterly"
   ]
  },
  {
   "cell_type": "code",
   "execution_count": 27,
   "metadata": {},
   "outputs": [
    {
     "name": "stdout",
     "output_type": "stream",
     "text": [
      "Downloading: |\u001b[32m          \u001b[0m|\n",
      "Downloading: |\u001b[32m          \u001b[0m|\n",
      "Downloading: |\u001b[32m          \u001b[0m|\n",
      "Downloading: 100%|\u001b[32m██████████\u001b[0m|\n",
      "Downloading: 100%|\u001b[32m██████████\u001b[0m|\n",
      "Downloading: 100%|\u001b[32m██████████\u001b[0m|\n",
      "Downloading: 100%|\u001b[32m██████████\u001b[0m|\n",
      "Downloading: 100%|\u001b[32m██████████\u001b[0m|\n",
      "Downloading: 100%|\u001b[32m██████████\u001b[0m|\n",
      "Downloading: 100%|\u001b[32m██████████\u001b[0m|\n",
      "Downloading: 100%|\u001b[32m██████████\u001b[0m|\n",
      "Downloading: 100%|\u001b[32m██████████\u001b[0m|\n",
      "Downloading: 100%|\u001b[32m██████████\u001b[0m|\n",
      "Downloading: 100%|\u001b[32m██████████\u001b[0m|\n",
      "Downloading: 100%|\u001b[32m██████████\u001b[0m|\n",
      "Downloading: 100%|\u001b[32m██████████\u001b[0m|\n",
      "Downloading: 100%|\u001b[32m██████████\u001b[0m|\n",
      "Downloading: 100%|\u001b[32m██████████\u001b[0m|\n",
      "Downloading: 100%|\u001b[32m██████████\u001b[0m|\n",
      "Downloading: 100%|\u001b[32m██████████\u001b[0m|\n",
      "Downloading: 100%|\u001b[32m██████████\u001b[0m|\n"
     ]
    }
   ],
   "source": [
    "threads = []\n",
    "results = []\n",
    "\n",
    "with ThreadPoolExecutor(len(quarters)) as executor:\n",
    "    for report, dates in quarters.items():\n",
    "        threads.append(executor.submit(build_report, report, dates, analyze_queries))\n",
    "    for future in as_completed(threads):\n",
    "        results.append(future.result())"
   ]
  },
  {
   "cell_type": "code",
   "execution_count": 28,
   "metadata": {},
   "outputs": [],
   "source": [
    "aggregate_reports = pd.concat([results[i][0] for i in range(len(results))]).sort_values(by='Report_Month')\n",
    "acc_type_reports = pd.concat([results[i][1] for i in range(len(results))]).sort_values(by=['Report_Month', 'Account_Type'])\n",
    "\n",
    "with pd.ExcelWriter(f'email_channel_report_quarterly.xlsx') as writer:\n",
    "    aggregate_reports.to_excel(writer, sheet_name='total')\n",
    "    acc_type_reports.to_excel(writer, sheet_name='acc_type')"
   ]
  },
  {
   "attachments": {},
   "cell_type": "markdown",
   "metadata": {},
   "source": [
    "## Upgrades"
   ]
  },
  {
   "cell_type": "code",
   "execution_count": 29,
   "metadata": {
    "vscode": {
     "languageId": "sql"
    }
   },
   "outputs": [
    {
     "data": {
      "application/vnd.jupyter.widget-view+json": {
       "model_id": "63a0ec0223684be092b8aab3c4f2da18",
       "version_major": 2,
       "version_minor": 0
      },
      "text/plain": [
       "Query is running:   0%|          |"
      ]
     },
     "metadata": {},
     "output_type": "display_data"
    },
    {
     "data": {
      "application/vnd.jupyter.widget-view+json": {
       "model_id": "46c5ae41e3e948c78cd2e8a21283881f",
       "version_major": 2,
       "version_minor": 0
      },
      "text/plain": [
       "Downloading:   0%|          |"
      ]
     },
     "metadata": {},
     "output_type": "display_data"
    }
   ],
   "source": [
    "%%bigquery ftp\n",
    "\n",
    "WITH CTE_1 AS\n",
    "(\n",
    "\tSELECT  Report_Month\n",
    "\t       ,COUNT(distinct CASE WHEN cohort = 'Targeted' THEN aid END )     AS Distinct_Cohort_Size_Targeted\n",
    "\t       ,COUNT(distinct CASE WHEN cohort = 'Holdout' THEN aid END)       AS Distinct_Cohort_Size_Holdout\n",
    "\t       ,SUM(CASE WHEN cohort = 'Targeted' THEN Free_To_Paid_Denom END ) AS Free_To_Paid_Denom_Targeted\n",
    "\t       ,SUM(CASE WHEN cohort = 'Targeted' THEN Free_To_Paid_Num END)    AS Free_To_Paid_Num_Targeted\n",
    "\t       ,SUM(CASE WHEN cohort = 'Holdout' THEN Free_To_Paid_Denom END )  AS Free_To_Paid_Denom_Holdout\n",
    "\t       ,SUM(CASE WHEN cohort = 'Holdout' THEN Free_To_Paid_Num END)     AS Free_To_Paid_Num_Holdout\n",
    "\tFROM `nbcu-ds-sandbox-a-001.SLi_sandbox.SILVER_EMAIL_CHANNEL_PERFORMANCE_MONTHLY`\n",
    "\tGROUP BY  1\n",
    "), CTE_2 AS\n",
    "(\n",
    "\tSELECT  Report_Month\n",
    "\t       ,Distinct_Cohort_Size_Targeted                                      AS Total_Targeted\n",
    "\t       ,Distinct_Cohort_Size_Holdout                                       AS Total_Holdout\n",
    "\t       ,Free_To_Paid_Denom_Targeted\n",
    "\t       ,Free_To_Paid_Num_Targeted\n",
    "\t       ,safe_divide(Free_To_Paid_Num_Targeted,Free_To_Paid_Denom_Targeted) AS Free_To_Paid_Rate_Engagers\n",
    "\t       ,safe_divide(Free_To_Paid_Num_Holdout,Free_To_Paid_Denom_Holdout)   AS Free_To_Paid_Rate_Holdout\n",
    "\tFROM CTE_1\n",
    ")\n",
    "SELECT  Report_Month\n",
    "       ,Total_Targeted\n",
    "       ,Total_Holdout\n",
    "       ,Free_To_Paid_Rate_Engagers                                                             AS Free_To_Paid_Rate_Engagers\n",
    "       ,Free_To_Paid_Rate_Holdout                                                              AS Free_To_Paid_Rate_Holdout\n",
    "       ,Free_To_Paid_Rate_Engagers - Free_To_Paid_Rate_Holdout                                 AS Free_To_Paid_Rate_Lift_PTS\n",
    "       ,safe_divide(Free_To_Paid_Rate_Engagers,Free_To_Paid_Rate_Holdout) *100                 AS Free_To_Paid_Rate_Lift_Index\n",
    "       ,(Free_To_Paid_Rate_Engagers - Free_To_Paid_Rate_Holdout) * Free_To_Paid_Denom_Targeted AS Free_To_Paid_Incrementals\n",
    "FROM CTE_2\n",
    "ORDER BY 1"
   ]
  },
  {
   "cell_type": "code",
   "execution_count": 30,
   "metadata": {
    "vscode": {
     "languageId": "sql"
    }
   },
   "outputs": [],
   "source": [
    "ftp.to_excel('./ftp/ftp.xlsx')"
   ]
  },
  {
   "cell_type": "code",
   "execution_count": null,
   "metadata": {
    "vscode": {
     "languageId": "sql"
    }
   },
   "outputs": [],
   "source": [
    "WITH a AS\n",
    "(\n",
    "\tSELECT  SUM(CASE WHEN cohort = 'Targeted' THEN EOM_Paid_Churn_Denom END ) AS EOM_Paid_Churn_Denom_Targeted\n",
    "\t       ,SUM(CASE WHEN cohort = 'Targeted' THEN EOM_Paid_Churn_Num END)    AS EOM_Paid_Churn_Num_Targeted\n",
    "\t       ,SUM(CASE WHEN cohort = 'Holdout' THEN EOM_Paid_Churn_Denom END )  AS EOM_Paid_Churn_Denom_Holdout\n",
    "\t       ,SUM(CASE WHEN cohort = 'Holdout' THEN EOM_Paid_Churn_Num END)     AS EOM_Paid_Churn_Num_Holdout\n",
    "\tFROM `nbcu-ds-sandbox-a-001.SLi_sandbox.GOLD_EMAIL_CHANNEL_PERFORMANCE_TEST`\n",
    "\tWHERE Report_Month = '2023-07-01'\n",
    "\tAND Result_Type = 'Monthly' \n",
    "), b AS\n",
    "(\n",
    "\tSELECT  EOM_Paid_Churn_Denom_Targeted\n",
    "\t       ,safe_divide(EOM_Paid_Churn_Num_Targeted,EOM_Paid_Churn_Denom_Targeted) AS Paid_Churn_Rate_Engagers\n",
    "\t       ,safe_divide(EOM_Paid_Churn_Num_Holdout,EOM_Paid_Churn_Denom_Holdout)   AS Paid_Churn_Rate_Holdout\n",
    "\tFROM a\n",
    ")\n",
    "SELECT  Paid_Churn_Rate_Engagers                                                             AS EOM_Paid_Churn_Rate_Engagers\n",
    "       ,Paid_Churn_Rate_Holdout                                                              AS EOM_Paid_Churn_Rate_Holdout\n",
    "       ,Paid_Churn_Rate_Engagers - Paid_Churn_Rate_Holdout                                   AS EOM_Paid_Churn_Rate_Lift_PTS\n",
    "       ,safe_divide(Paid_Churn_Rate_Engagers,Paid_Churn_Rate_Holdout) *100                   AS EOM_Paid_Churn_Rate_Lift_Index\n",
    "       ,(Paid_Churn_Rate_Engagers - Paid_Churn_Rate_Holdout) * EOM_Paid_Churn_Denom_Targeted AS EOM_Paid_Churn_Rate_Incrementals\n",
    "FROM b"
   ]
  }
 ],
 "metadata": {
  "kernelspec": {
   "display_name": "base",
   "language": "python",
   "name": "python3"
  },
  "language_info": {
   "codemirror_mode": {
    "name": "ipython",
    "version": 3
   },
   "file_extension": ".py",
   "mimetype": "text/x-python",
   "name": "python",
   "nbconvert_exporter": "python",
   "pygments_lexer": "ipython3",
   "version": "3.10.9"
  },
  "orig_nbformat": 4
 },
 "nbformat": 4,
 "nbformat_minor": 2
}
