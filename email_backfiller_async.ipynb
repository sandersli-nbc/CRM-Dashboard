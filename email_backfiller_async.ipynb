{
 "cells": [
  {
   "cell_type": "code",
   "execution_count": 2,
   "metadata": {},
   "outputs": [
    {
     "name": "stdout",
     "output_type": "stream",
     "text": [
      "env: GCLOUD_PROJECT=nbcu-ds-sandbox-a-001\n"
     ]
    }
   ],
   "source": [
    "from datetime import datetime, timedelta\n",
    "import numpy as np\n",
    "import pandas as pd\n",
    "import matplotlib.pyplot as plt\n",
    "import seaborn as sns\n",
    "import pandas_gbq\n",
    "import pydata_google_auth\n",
    "from concurrent.futures import ThreadPoolExecutor, as_completed\n",
    "from google.cloud import bigquery\n",
    "from tqdm.notebook import tqdm\n",
    "from dateutil import tz\n",
    "from BigQueryTools import QueryTool\n",
    "import re\n",
    "\n",
    "SCOPES = [\n",
    "    'https://www.googleapis.com/auth/cloud-platform',\n",
    "    'https://www.googleapis.com/auth/drive',\n",
    "]\n",
    "credentials = pydata_google_auth.get_user_credentials(\n",
    "    SCOPES,\n",
    "    # Set auth_local_webserver to True to have a slightly more convienient\n",
    "    # authorization flow. Note, this doesn't work if you're running from a\n",
    "    # notebook on a remote sever, such as over SSH or with Google Colab.\n",
    "    auth_local_webserver=True,\n",
    ")\n",
    "\n",
    "%load_ext google.cloud.bigquery\n",
    "%env GCLOUD_PROJECT=nbcu-ds-sandbox-a-001"
   ]
  },
  {
   "attachments": {},
   "cell_type": "markdown",
   "metadata": {},
   "source": [
    "# Email Channel"
   ]
  },
  {
   "cell_type": "code",
   "execution_count": 3,
   "metadata": {},
   "outputs": [],
   "source": [
    "start_date = '2022-01-01'\n",
    "end_date = '2023-07-31'"
   ]
  },
  {
   "cell_type": "code",
   "execution_count": 4,
   "metadata": {},
   "outputs": [],
   "source": [
    "def get_monthly_report_dates(start_date, end_date):\n",
    "    start = datetime.strptime(start_date, \"%Y-%m-%d\")\n",
    "    end = datetime.strptime(end_date, \"%Y-%m-%d\")\n",
    "    monthly_reports = {}\n",
    "\n",
    "    while start <= end:\n",
    "        month_year = start.strftime(\"%b_%Y\")\n",
    "        report_start_date = start.replace(day=1)\n",
    "        next_month = start.replace(day=28) + timedelta(days=4)\n",
    "        report_end_date = next_month - timedelta(days=next_month.day)\n",
    "        monthly_reports[month_year] = {\n",
    "            \"report_start_date\": report_start_date.strftime(\"%Y-%m-%d\"),\n",
    "            \"report_end_date\": report_end_date.strftime(\"%Y-%m-%d\")\n",
    "        }\n",
    "        start = next_month\n",
    "\n",
    "    return monthly_reports\n",
    "\n",
    "def get_quarter(p_date) -> int:\n",
    "    return (p_date.month - 1) // 3 + 1\n",
    "\n",
    "def get_quarterly_report_dates(start_date_str, end_date_str):\n",
    "    start_date = datetime.strptime(start_date_str, '%Y-%m-%d')\n",
    "    end_date = datetime.strptime(end_date_str, '%Y-%m-%d')\n",
    "\n",
    "    quarter_dates = {}\n",
    "\n",
    "    while start_date <= end_date:\n",
    "        quarter = get_quarter(start_date)\n",
    "        quarter_name = 'Q{}_{}'.format(quarter, start_date.year)\n",
    "        quarter_start = datetime(start_date.year, (start_date.month - 1) // 3 * 3 + 1, 1)\n",
    "        quarter_end = quarter_start.replace(year=quarter_start.year + 3 * quarter // 12, month=(quarter_start.month + 3) % 12, day=1) - timedelta(days=1)\n",
    "        quarter_dates[quarter_name] = {\n",
    "            'report_start_date': quarter_start.strftime('%Y-%m-%d'),\n",
    "            'report_end_date': quarter_end.strftime('%Y-%m-%d')\n",
    "        }\n",
    "        start_date = quarter_end + timedelta(days=1)\n",
    "\n",
    "    return quarter_dates\n",
    "\n",
    "def generate_report_variants(period_dict, suffix=\"report\"):\n",
    "    return {'_'.join([period, suffix]): {'string_format': {'report': period}, 'params': params} for period, params in period_dict.items()}"
   ]
  },
  {
   "cell_type": "code",
   "execution_count": 5,
   "metadata": {},
   "outputs": [],
   "source": [
    "months = get_monthly_report_dates(start_date, end_date)\n",
    "quarters = get_quarterly_report_dates(start_date, end_date)\n",
    "monthly_viewing_tables = generate_report_variants(months, 'viewing')\n",
    "quarterly_viewing_tables = generate_report_variants(quarters, 'viewing')\n",
    "month_tables = generate_report_variants(months)\n",
    "quarter_tables = generate_report_variants(quarters)\n",
    "bq = QueryTool()"
   ]
  },
  {
   "attachments": {},
   "cell_type": "markdown",
   "metadata": {},
   "source": [
    "## Monthly"
   ]
  },
  {
   "cell_type": "code",
   "execution_count": 95,
   "metadata": {},
   "outputs": [
    {
     "name": "stdout",
     "output_type": "stream",
     "text": [
      "Added: Jan_2022_report\t | \tAwaiting start\n",
      "Added: Feb_2022_report\t | \tAwaiting start\n",
      "Added: Mar_2022_report\t | \tAwaiting start\n",
      "Added: Apr_2022_report\t | \tAwaiting start\n",
      "Added: May_2022_report\t | \tAwaiting start\n",
      "Added: Jun_2022_report\t | \tAwaiting start\n",
      "Added: Jul_2022_report\t | \tAwaiting start\n",
      "Added: Aug_2022_report\t | \tAwaiting start\n",
      "Added: Sep_2022_report\t | \tAwaiting start\n",
      "Added: Oct_2022_report\t | \tAwaiting start\n",
      "Added: Nov_2022_report\t | \tAwaiting start\n",
      "Added: Dec_2022_report\t | \tAwaiting start\n",
      "Added: Jan_2023_report\t | \tAwaiting start\n",
      "Added: Feb_2023_report\t | \tAwaiting start\n",
      "Added: Mar_2023_report\t | \tAwaiting start\n",
      "Added: Apr_2023_report\t | \tAwaiting start\n",
      "Added: May_2023_report\t | \tAwaiting start\n",
      "Added: Jun_2023_report\t | \tAwaiting start\n",
      "Added: Jul_2023_report\t | \tAwaiting start\n"
     ]
    }
   ],
   "source": [
    "with open('Silver_Email_Monthly.sql', 'r') as file:\n",
    "    sql_file = file.read()\n",
    "    bq.add(sql_file, month_tables)"
   ]
  },
  {
   "attachments": {},
   "cell_type": "markdown",
   "metadata": {},
   "source": [
    "## Quarterly"
   ]
  },
  {
   "cell_type": "code",
   "execution_count": 96,
   "metadata": {},
   "outputs": [
    {
     "name": "stdout",
     "output_type": "stream",
     "text": [
      "Added: Q1_2022_report\t | \tAwaiting start\n",
      "Added: Q2_2022_report\t | \tAwaiting start\n",
      "Added: Q3_2022_report\t | \tAwaiting start\n",
      "Added: Q4_2022_report\t | \tAwaiting start\n",
      "Added: Q1_2023_report\t | \tAwaiting start\n",
      "Added: Q2_2023_report\t | \tAwaiting start\n",
      "Added: Q3_2023_report\t | \tAwaiting start\n"
     ]
    }
   ],
   "source": [
    "with open('Silver_Email_Quarterly.sql', 'r') as file:\n",
    "    sql_file = file.read()\n",
    "    bq.add(sql_file, quarter_tables)"
   ]
  },
  {
   "cell_type": "code",
   "execution_count": 97,
   "metadata": {},
   "outputs": [
    {
     "name": "stdout",
     "output_type": "stream",
     "text": [
      "Starting: Jun_2023_report\n",
      "Starting: Q1_2023_report\n",
      "Starting: Q2_2023_report\n",
      "Starting: Apr_2023_report\n",
      "Starting: Feb_2023_report\n",
      "Starting: Q3_2022_report\n",
      "Starting: Nov_2022_report\n",
      "Starting: Jun_2022_report\n",
      "Starting: Oct_2022_report\n",
      "Starting: Feb_2022_report\n",
      "Starting: Jul_2022_report\n",
      "Starting: Mar_2022_report\n",
      "Starting: Aug_2022_report\n",
      "Starting: Dec_2022_report\n",
      "Starting: Jan_2022_report\n",
      "Starting: Jul_2023_report\n",
      "Starting: Q1_2022_report\n",
      "Starting: May_2022_report\n",
      "Starting: Sep_2022_report\n",
      "Starting: Jan_2023_report\n",
      "Starting: May_2023_report\n",
      "Starting: Apr_2022_report\n",
      "Starting: Q3_2023_report\n",
      "Starting: Q2_2022_report\n",
      "Starting: Q4_2022_report\n",
      "Starting: Mar_2023_report\n",
      "All jobs in queue started\n"
     ]
    }
   ],
   "source": [
    "bq.start()"
   ]
  },
  {
   "cell_type": "code",
   "execution_count": 100,
   "metadata": {},
   "outputs": [
    {
     "name": "stdout",
     "output_type": "stream",
     "text": [
      "Active jobs: \n",
      "Q1_2022_report\t | \t39835f88-174d-45fd-85c8-5f9bb14fdb4a\t | \tCreated: Aug 04, 2023 12:48 PM\t | \tLast Checked: Aug 04, 2023 02:39 PM\t | \tRUNNING\n",
      "Q2_2022_report\t | \tc139b3a0-c376-4d87-83c6-2da0c35da503\t | \tCreated: Aug 04, 2023 12:48 PM\t | \tLast Checked: Aug 04, 2023 02:39 PM\t | \tRUNNING\n",
      "Q3_2022_report\t | \tf941a93c-9eb1-43ac-bd8f-9f632e811702\t | \tCreated: Aug 04, 2023 12:48 PM\t | \tLast Checked: Aug 04, 2023 02:39 PM\t | \tRUNNING\n",
      "Q4_2022_report\t | \t4359241c-f8dc-426a-8198-afe05f8c46df\t | \tCreated: Aug 04, 2023 12:48 PM\t | \tLast Checked: Aug 04, 2023 02:39 PM\t | \tRUNNING\n",
      "Q1_2023_report\t | \tdeec03bb-3884-47c4-bae8-aab6f3f009fd\t | \tCreated: Aug 04, 2023 12:48 PM\t | \tLast Checked: Aug 04, 2023 02:39 PM\t | \tRUNNING\n",
      "Q2_2023_report\t | \t1283df46-2efd-42b0-a898-7cdc7006ba6a\t | \tCreated: Aug 04, 2023 12:48 PM\t | \tLast Checked: Aug 04, 2023 02:39 PM\t | \tRUNNING\n",
      "Q3_2023_report\t | \t67c2bc69-65d2-49bf-afba-ae5bdc94c26c\t | \tCreated: Aug 04, 2023 12:48 PM\t | \tLast Checked: Aug 04, 2023 02:39 PM\t | \tRUNNING\n",
      "\n",
      "Finished jobs: \n",
      "Jan_2022_report\t | \t30e35849-ebd0-4c71-a607-35c4b830064e\t | \tCreated: Aug 04, 2023 12:48 PM\t | \tLast Checked: Aug 04, 2023 02:39 PM\t | \tDONE\n",
      "Feb_2022_report\t | \t42d6e979-e6c6-4442-a811-80008d928a41\t | \tCreated: Aug 04, 2023 12:48 PM\t | \tLast Checked: Aug 04, 2023 02:39 PM\t | \tDONE\n",
      "Mar_2022_report\t | \t17260900-98f3-4259-a610-783e09eef62e\t | \tCreated: Aug 04, 2023 12:48 PM\t | \tLast Checked: Aug 04, 2023 02:39 PM\t | \tDONE\n",
      "Apr_2022_report\t | \t41e9a44b-a6f7-4b41-96be-f7e53fd154c1\t | \tCreated: Aug 04, 2023 12:48 PM\t | \tLast Checked: Aug 04, 2023 02:39 PM\t | \tDONE\n",
      "May_2022_report\t | \tcd8c83a0-ccff-4717-bfcc-4bd6c70e1547\t | \tCreated: Aug 04, 2023 12:48 PM\t | \tLast Checked: Aug 04, 2023 02:39 PM\t | \tDONE\n",
      "Jun_2022_report\t | \t740a93e1-dd09-4029-90a9-6ec41f9f028e\t | \tCreated: Aug 04, 2023 12:48 PM\t | \tLast Checked: Aug 04, 2023 02:39 PM\t | \tDONE\n",
      "Jul_2022_report\t | \tf610ad3f-5dd8-4853-af85-6d5978a9eca6\t | \tCreated: Aug 04, 2023 12:48 PM\t | \tLast Checked: Aug 04, 2023 02:39 PM\t | \tDONE\n",
      "Aug_2022_report\t | \t7e85700a-a98a-4ede-8f22-29c25cc56f96\t | \tCreated: Aug 04, 2023 12:48 PM\t | \tLast Checked: Aug 04, 2023 02:39 PM\t | \tDONE\n",
      "Sep_2022_report\t | \tcb7caa66-4657-40f9-80c5-f4d1e93c4770\t | \tCreated: Aug 04, 2023 12:48 PM\t | \tLast Checked: Aug 04, 2023 02:39 PM\t | \tDONE\n",
      "Oct_2022_report\t | \ta30bbeed-1b11-4535-a5bd-defa6bd82fd3\t | \tCreated: Aug 04, 2023 12:48 PM\t | \tLast Checked: Aug 04, 2023 02:39 PM\t | \tDONE\n",
      "Nov_2022_report\t | \t794ac412-a2f9-484f-839c-07a5270a7948\t | \tCreated: Aug 04, 2023 12:48 PM\t | \tLast Checked: Aug 04, 2023 02:39 PM\t | \tDONE\n",
      "Dec_2022_report\t | \t85fcb0fc-b9be-40ca-bbc4-45cf42649dba\t | \tCreated: Aug 04, 2023 12:48 PM\t | \tLast Checked: Aug 04, 2023 02:39 PM\t | \tDONE\n",
      "Jan_2023_report\t | \t23ae98b3-3b09-4f3d-970a-0943b9fa3637\t | \tCreated: Aug 04, 2023 12:48 PM\t | \tLast Checked: Aug 04, 2023 02:39 PM\t | \tDONE\n",
      "Feb_2023_report\t | \t457581eb-982c-42e2-923d-b3fa5b39db8e\t | \tCreated: Aug 04, 2023 12:48 PM\t | \tLast Checked: Aug 04, 2023 02:39 PM\t | \tDONE\n",
      "Mar_2023_report\t | \tf3fdc12a-5275-4ee3-a4b6-2d9bbc9c804b\t | \tCreated: Aug 04, 2023 12:48 PM\t | \tLast Checked: Aug 04, 2023 02:39 PM\t | \tDONE\n",
      "Apr_2023_report\t | \t4f69c7d0-da9e-4815-9fcf-328112eda0d8\t | \tCreated: Aug 04, 2023 12:48 PM\t | \tLast Checked: Aug 04, 2023 02:39 PM\t | \tDONE\n",
      "May_2023_report\t | \ta65e2c9d-eb98-4db4-bb9c-147a626a8840\t | \tCreated: Aug 04, 2023 12:48 PM\t | \tLast Checked: Aug 04, 2023 02:39 PM\t | \tDONE\n",
      "Jun_2023_report\t | \t936aec9e-253d-43c9-9727-d53882521a13\t | \tCreated: Aug 04, 2023 12:48 PM\t | \tLast Checked: Aug 04, 2023 02:39 PM\t | \tDONE\n",
      "Jul_2023_report\t | \ta248d5c8-f5b6-45d4-a1ec-1bfe01cc81f1\t | \tCreated: Aug 04, 2023 12:48 PM\t | \tLast Checked: Aug 04, 2023 02:39 PM\t | \tDONE\n",
      "Q1_2022_report\t | \t8f894ec9-b872-42d7-81a9-81bd17a5c78c\t | \tCreated: Aug 03, 2023 04:44 PM\t | \tLast Checked: Aug 04, 2023 09:58 AM\t | \tDONE\n",
      "Q2_2022_report\t | \t835fb961-81b4-4bbe-93c5-634984fbff9a\t | \tCreated: Aug 03, 2023 04:44 PM\t | \tLast Checked: Aug 04, 2023 09:58 AM\t | \tDONE\n",
      "Q3_2022_report\t | \tb7a03811-f4ec-4ef9-a107-d8d5ebd1af30\t | \tCreated: Aug 03, 2023 04:44 PM\t | \tLast Checked: Aug 04, 2023 09:58 AM\t | \tDONE\n",
      "Q4_2022_report\t | \t5f5042e1-78a6-4499-9ce3-bc49dc4cb6b6\t | \tCreated: Aug 03, 2023 04:44 PM\t | \tLast Checked: Aug 04, 2023 09:58 AM\t | \tDONE\n",
      "Q1_2023_report\t | \ta1613755-95ec-4f4a-a2cb-eb109d1dafcd\t | \tCreated: Aug 03, 2023 04:44 PM\t | \tLast Checked: Aug 04, 2023 09:58 AM\t | \tDONE\n",
      "Q2_2023_report\t | \t4fe9ae71-b25e-4ed3-b67a-c96e0c84f38e\t | \tCreated: Aug 03, 2023 04:44 PM\t | \tLast Checked: Aug 04, 2023 09:58 AM\t | \tDONE\n",
      "Q3_2023_report\t | \t3a527700-5d8f-4381-972b-8c0052282859\t | \tCreated: Aug 03, 2023 04:44 PM\t | \tLast Checked: Aug 04, 2023 09:58 AM\t | \tDONE\n"
     ]
    }
   ],
   "source": [
    "bq.update()"
   ]
  },
  {
   "attachments": {},
   "cell_type": "markdown",
   "metadata": {},
   "source": [
    "# Compile Results"
   ]
  },
  {
   "cell_type": "code",
   "execution_count": 6,
   "metadata": {},
   "outputs": [],
   "source": [
    "# Merge and group monthly results\n",
    "query = \"\"\"\n",
    "        CREATE or replace TABLE `nbcu-ds-sandbox-a-001.SLi_sandbox.SILVER_EMAIL_CHANNEL_PERFORMANCE_MONTHLY` AS \n",
    "        \n",
    "        SELECT *\n",
    "        FROM ( \n",
    "        \"\"\" + \\\n",
    "        (' UNION ALL ').join([f'(select * from `nbcu-ds-sandbox-a-001.SLi_sandbox.Email_Channel_Base_{report}`)' for report in months]) + \\\n",
    "        \"\"\"\n",
    "        )\n",
    "        \"\"\"\n",
    "        \n",
    "with bigquery.Client() as client:\n",
    "    client.query(query).result()"
   ]
  },
  {
   "cell_type": "code",
   "execution_count": 7,
   "metadata": {},
   "outputs": [],
   "source": [
    "# Merge and group monthly results\n",
    "query = \"\"\"\n",
    "        CREATE or replace TABLE `nbcu-ds-sandbox-a-001.SLi_sandbox.SILVER_EMAIL_CHANNEL_PERFORMANCE_QUARTERLY` AS \n",
    "        \n",
    "        SELECT *\n",
    "        FROM ( \n",
    "        \"\"\" + \\\n",
    "        (' UNION ALL ').join([f'(select * from `nbcu-ds-sandbox-a-001.SLi_sandbox.Email_Channel_Base_{report}`)' for report in quarters]) + \\\n",
    "        \"\"\"\n",
    "        )\n",
    "        \"\"\"\n",
    "        \n",
    "with bigquery.Client() as client:\n",
    "    client.query(query).result()"
   ]
  },
  {
   "attachments": {},
   "cell_type": "markdown",
   "metadata": {},
   "source": [
    "# Build Gold"
   ]
  },
  {
   "cell_type": "code",
   "execution_count": 8,
   "metadata": {},
   "outputs": [],
   "source": [
    "# Merge and group monthly results\n",
    "\n",
    "with open('Gold_Email_Performance.sql', 'r') as file:\n",
    "    query = file.read()\n",
    "    with bigquery.Client() as client:\n",
    "        client.query(query).result()"
   ]
  },
  {
   "attachments": {},
   "cell_type": "markdown",
   "metadata": {},
   "source": [
    "# Analysis"
   ]
  },
  {
   "cell_type": "code",
   "execution_count": 9,
   "metadata": {},
   "outputs": [],
   "source": [
    "def gen_analysis_query_func(total=False):\n",
    "    def gen_analysis_query(report): \n",
    "        return f\"\"\"\n",
    "                WITH CTE_1 AS\n",
    "                (\n",
    "                    SELECT  @report_start_date                                                     AS Report_Month \n",
    "                        {'--' if total else ''}, Account_Type\n",
    "                        ,COUNT(distinct CASE WHEN cohort = 'Targeted' THEN aid END )            AS Distinct_Cohort_Size_Targeted\n",
    "                        ,COUNT(distinct CASE WHEN cohort = 'Holdout' THEN aid END)              AS Distinct_Cohort_Size_Holdout\n",
    "\n",
    "                        ,SUM(CASE WHEN cohort = 'Targeted' THEN viewer END )                    AS Total_Returns_Targeted\n",
    "                        ,SUM(CASE WHEN cohort = 'Holdout' THEN viewer END)                      AS Total_Returns_Holdout\n",
    "\n",
    "                        ,SUM(CASE WHEN cohort = 'Targeted' THEN Viewing_Time END )              AS Total_Usage_Targeted\n",
    "                        ,SUM(CASE WHEN cohort = 'Holdout' THEN Viewing_Time END)                AS Total_Usage_Holdout\n",
    "\n",
    "                        ,SUM(CASE WHEN cohort = 'Targeted' THEN Repertoire_Pavo_Method END )    AS Total_Repertoire_Targeted\n",
    "                        ,SUM(CASE WHEN cohort = 'Holdout' THEN Repertoire_Pavo_Method END)      AS Total_Repertoire_Holdout\n",
    "\n",
    "                        ,SUM(CASE WHEN cohort = 'Targeted' THEN Distinct_Viewing_Sessions END ) AS Total_Viewing_Sessions_Targeted\n",
    "                        ,SUM(CASE WHEN cohort = 'Holdout' THEN Distinct_Viewing_Sessions END)   AS Total_Viewing_Sessions_Holdout\n",
    "\n",
    "                        ,SUM(CASE WHEN cohort = 'Targeted' THEN Lapsed_Save_Denom END )         AS Lapsed_Save_Denom_Targeted\n",
    "                        ,SUM(CASE WHEN cohort = 'Targeted' THEN Lapsed_Save_Num END)            AS Lapsed_Save_Num_Targeted\n",
    "                        ,SUM(CASE WHEN cohort = 'Holdout' THEN Lapsed_Save_Denom END )          AS Lapsed_Save_Denom_Holdout\n",
    "                        ,SUM(CASE WHEN cohort = 'Holdout' THEN Lapsed_Save_Num END)             AS Lapsed_Save_Num_Holdout\n",
    "\n",
    "                        ,SUM(CASE WHEN cohort = 'Targeted' THEN Lapsing_Save_Denom END )        AS Lapsing_Save_Denom_Targeted\n",
    "                        ,SUM(CASE WHEN cohort = 'Targeted' THEN Lapsing_Save_Num END)           AS Lapsing_Save_Num_Targeted\n",
    "                        ,SUM(CASE WHEN cohort = 'Holdout' THEN Lapsing_Save_Denom END )         AS Lapsing_Save_Denom_Holdout\n",
    "                        ,SUM(CASE WHEN cohort = 'Holdout' THEN Lapsing_Save_Num END)            AS Lapsing_Save_Num_Holdout\n",
    "\n",
    "                        ,SUM(CASE WHEN cohort = 'Targeted' THEN Free_To_Paid_Denom END )             AS Free_To_Paid_Denom_Targeted\n",
    "                        ,SUM(CASE WHEN cohort = 'Targeted' THEN Free_To_Paid_Num END)                AS Free_To_Paid_Num_Targeted\n",
    "                        ,SUM(CASE WHEN cohort = 'Holdout' THEN Free_To_Paid_Denom END )              AS Free_To_Paid_Denom_Holdout\n",
    "                        ,SUM(CASE WHEN cohort = 'Holdout' THEN Free_To_Paid_Num END)                 AS Free_To_Paid_Num_Holdout\n",
    "\n",
    "                        ,SUM(CASE WHEN cohort = 'Targeted' THEN Net_New_Upgrade_Denom END )     AS Total_Net_New_Upgrade_Denom_Targeted\n",
    "                        ,SUM(CASE WHEN cohort = 'Targeted' THEN Net_New_Upgrade_Num END)        AS Total_Net_New_Upgrade_Num_Targeted\n",
    "                        ,SUM(CASE WHEN cohort = 'Holdout' THEN Net_New_Upgrade_Denom END )      AS Total_Net_New_Upgrade_Denom_Holdout\n",
    "                        ,SUM(CASE WHEN cohort = 'Holdout' THEN Net_New_Upgrade_Num END)         AS Total_Net_New_Upgrade_Num_Holdout\n",
    "\n",
    "                        ,SUM(CASE WHEN cohort = 'Targeted' THEN Paid_Winbacks_Denom END )       AS Total_Paid_Winbacks_Denom_Targeted\n",
    "                        ,SUM(CASE WHEN cohort = 'Targeted' THEN Paid_Winbacks_Num END)          AS Total_Paid_Winbacks_Num_Targeted\n",
    "                        ,SUM(CASE WHEN cohort = 'Holdout' THEN Paid_Winbacks_Denom END )        AS Total_Paid_Winbacks_Denom_Holdout\n",
    "                        ,SUM(CASE WHEN cohort = 'Holdout' THEN Paid_Winbacks_Num END)           AS Total_Paid_Winbacks_Num_Holdout\n",
    "\n",
    "                        ,SUM(CASE WHEN cohort = 'Targeted' THEN Cancel_Save_Denom END )         AS Total_Cancel_Save_Denom_Targeted\n",
    "                        ,SUM(CASE WHEN cohort = 'Targeted' THEN Cancel_Save_Num END)            AS Total_Cancel_Save_Num_Targeted\n",
    "                        ,SUM(CASE WHEN cohort = 'Holdout' THEN Cancel_Save_Denom END )          AS Total_Cancel_Save_Denom_Holdout\n",
    "                        ,SUM(CASE WHEN cohort = 'Holdout' THEN Cancel_Save_Num END)             AS Total_Cancel_Save_Num_Holdout\n",
    "\n",
    "                        ,SUM(CASE WHEN cohort = 'Targeted' THEN EOM_Paid_Churn_Denom END )      AS EOM_Paid_Churn_Denom_Targeted\n",
    "                        ,SUM(CASE WHEN cohort = 'Targeted' THEN EOM_Paid_Churn_Num END)         AS EOM_Paid_Churn_Num_Targeted\n",
    "                        ,SUM(CASE WHEN cohort = 'Holdout' THEN EOM_Paid_Churn_Denom END )       AS EOM_Paid_Churn_Denom_Holdout\n",
    "                        ,SUM(CASE WHEN cohort = 'Holdout' THEN EOM_Paid_Churn_Num END)          AS EOM_Paid_Churn_Num_Holdout\n",
    "                    FROM `nbcu-ds-sandbox-a-001.SLi_sandbox.Email_Channel_Base_{report}`\n",
    "                    GROUP BY  1 {'--' if total else ''}, 2\n",
    "                ), CTE_2 AS\n",
    "                (\n",
    "                    SELECT  Report_Month \n",
    "                        {'--' if total else ''}, Account_Type\n",
    "                        ,Distinct_Cohort_Size_Targeted                                                        AS Total_Targeted\n",
    "                        ,Distinct_Cohort_Size_Holdout                                                         AS Total_Holdout\n",
    "\n",
    "                        ,safe_divide(Total_Returns_Targeted,Distinct_Cohort_Size_Targeted)                    AS Return_Rate_Engagers\n",
    "                        ,safe_divide(Total_Returns_Holdout,Distinct_Cohort_Size_Holdout)                      AS Return_Rate_Holdout\n",
    "\n",
    "                        ,safe_divide(Total_Usage_Targeted,Distinct_Cohort_Size_Targeted)                      AS Usage_Engagers\n",
    "                        ,safe_divide(Total_Usage_Holdout,Distinct_Cohort_Size_Holdout)                        AS Usage_Holdout\n",
    "\n",
    "                        ,safe_divide(Total_Repertoire_Targeted,Distinct_Cohort_Size_Targeted)                 AS Repertoire_Engagers\n",
    "                        ,safe_divide(Total_Repertoire_Holdout,Distinct_Cohort_Size_Holdout)                   AS Repertoire_Holdout\n",
    "\n",
    "                        ,safe_divide(Total_Viewing_Sessions_Targeted,Distinct_Cohort_Size_Targeted)           AS Sessions_Engagers\n",
    "                        ,safe_divide(Total_Viewing_Sessions_Holdout,Distinct_Cohort_Size_Holdout)             AS Sessions_Holdout\n",
    "\n",
    "                        ,Lapsed_Save_Denom_Targeted\n",
    "                        ,safe_divide(Lapsed_Save_Num_Targeted,Lapsed_Save_Denom_Targeted)                     AS Lapsed_Save_Rate_Engagers\n",
    "                        ,safe_divide(Lapsed_Save_Num_Holdout,Lapsed_Save_Denom_Holdout)                       AS Lapsed_Save_Rate_Holdout\n",
    "\n",
    "                        ,Lapsing_Save_Denom_Targeted\n",
    "                        ,safe_divide(Lapsing_Save_Num_Targeted,Lapsing_Save_Denom_Targeted)                   AS Lapsing_Save_Rate_Engagers\n",
    "                        ,safe_divide(Lapsing_Save_Num_Holdout,Lapsing_Save_Denom_Holdout)                     AS Lapsing_Save_Rate_Holdout\n",
    "\n",
    "                        ,Free_To_Paid_Denom_Targeted\n",
    "                        ,safe_divide(Free_To_Paid_Num_Targeted,Free_To_Paid_Denom_Targeted)                           AS Free_To_Paid_Rate_Engagers\n",
    "                        ,safe_divide(Free_To_Paid_Num_Holdout,Free_To_Paid_Denom_Holdout)                             AS Free_To_Paid_Rate_Holdout\n",
    "\n",
    "                        ,Total_Net_New_Upgrade_Denom_Targeted\n",
    "                        ,safe_divide(Total_Net_New_Upgrade_Num_Targeted,Total_Net_New_Upgrade_Denom_Targeted) AS Net_New_Upgrade_Rate_Engagers\n",
    "                        ,safe_divide(Total_Net_New_Upgrade_Num_Holdout,Total_Net_New_Upgrade_Denom_Holdout)   AS Net_New_Upgrade_Rate_Holdout\n",
    "\n",
    "                        ,Total_Paid_Winbacks_Denom_Targeted\n",
    "                        ,safe_divide(Total_Paid_Winbacks_Num_Targeted,Total_Paid_Winbacks_Denom_Targeted)     AS Paid_Winback_Rate_Engagers\n",
    "                        ,safe_divide(Total_Paid_Winbacks_Num_Holdout,Total_Paid_Winbacks_Denom_Holdout)       AS Paid_Winback_Rate_Holdout\n",
    "\n",
    "                        ,Total_Cancel_Save_Denom_Targeted\n",
    "                        ,safe_divide(Total_Cancel_Save_Num_Targeted,Total_Cancel_Save_Denom_Targeted)         AS Cancel_Save_Rate_Engagers\n",
    "                        ,safe_divide(Total_Cancel_Save_Num_Holdout,Total_Cancel_Save_Denom_Holdout)           AS Cancel_Save_Rate_Holdout\n",
    "\n",
    "                        ,EOM_Paid_Churn_Denom_Targeted\n",
    "                        ,safe_divide(EOM_Paid_Churn_Num_Targeted,EOM_Paid_Churn_Denom_Targeted)               AS Paid_Churn_Rate_Engagers\n",
    "                        ,safe_divide(EOM_Paid_Churn_Num_Holdout,EOM_Paid_Churn_Denom_Holdout)                 AS Paid_Churn_Rate_Holdout\n",
    "                    FROM CTE_1\n",
    "                )\n",
    "                SELECT  Report_Month\n",
    "                    {'--' if total else ''}, Account_Type\n",
    "                    ,Total_Targeted\n",
    "                    ,Total_Holdout\n",
    "                    \n",
    "                    ,Return_Rate_Engagers                                                                                  AS Return_Rate_Engagers\n",
    "                    ,Return_Rate_Holdout                                                                                   AS Return_Rate_Holdout\n",
    "                    ,Return_Rate_Engagers - Return_Rate_Holdout                                                            AS Return_Rate_Lift_PTS\n",
    "                    ,safe_divide(Return_Rate_Engagers,Return_Rate_Holdout) *100                                            AS Return_Rate_Lift_Index\n",
    "                    ,(Return_Rate_Engagers - Return_Rate_Holdout) * Total_Targeted                                         AS Returns_Incrementals\n",
    "\n",
    "                    ,Usage_Engagers                                                                                        AS Usage_Engagers\n",
    "                    ,Usage_Holdout                                                                                         AS Usage_Holdout\n",
    "                    ,Usage_Engagers - Usage_Holdout                                                                        AS Usage_Lift_PTS\n",
    "                    ,safe_divide(Usage_Engagers,Usage_Holdout) *100                                                        AS Usage_Lift_Index\n",
    "                    ,(Usage_Engagers - Usage_Holdout) * Total_Targeted                                                     AS Usage_Incrementals\n",
    "\n",
    "                    ,Repertoire_Engagers                                                                                   AS Repertoire_Engagers\n",
    "                    ,Repertoire_Holdout                                                                                    AS Repertoire_Holdout\n",
    "                    ,Repertoire_Engagers - Repertoire_Holdout                                                              AS Repertoire_Lift_PTS\n",
    "                    ,safe_divide(Repertoire_Engagers,Repertoire_Holdout) *100                                              AS Repertoire_Lift_Index\n",
    "                    ,(Repertoire_Engagers - Repertoire_Holdout) * Total_Targeted                                           AS Repertoire_Incrementals\n",
    "\n",
    "                    ,Sessions_Engagers                                                                                     AS Sessions_Engagers\n",
    "                    ,Sessions_Holdout                                                                                      AS Sessions_Holdout\n",
    "                    ,Sessions_Engagers - Sessions_Holdout                                                                  AS Sessions_Lift_PTS\n",
    "                    ,safe_divide(Sessions_Engagers,Sessions_Holdout) *100                                                  AS Sessions_Lift_Index\n",
    "                    ,(Sessions_Engagers - Sessions_Holdout) * Total_Targeted                                               AS Sessions_Incrementals\n",
    "\n",
    "                    ,Lapsed_Save_Rate_Engagers                                                                             AS Lapsed_Save_Rate_Engagers\n",
    "                    ,Lapsed_Save_Rate_Holdout                                                                              AS Lapsed_Save_Rate_Holdout\n",
    "                    ,Lapsed_Save_Rate_Engagers - Lapsed_Save_Rate_Holdout                                                  AS Lapsed_Save_Rate_Lift_PTS\n",
    "                    ,safe_divide(Lapsed_Save_Rate_Engagers,Lapsed_Save_Rate_Holdout) *100                                  AS Lapsed_Save_Rate_Lift_Index\n",
    "                    ,(Lapsed_Save_Rate_Engagers - Lapsed_Save_Rate_Holdout) * Lapsed_Save_Denom_Targeted                   AS Lapsed_Save_Incrementals\n",
    "\n",
    "                    ,Lapsing_Save_Rate_Engagers                                                                            AS Lapsing_Save_Rate_Engagers\n",
    "                    ,Lapsing_Save_Rate_Holdout                                                                             AS Lapsing_Save_Rate_Holdout\n",
    "                    ,Lapsing_Save_Rate_Engagers - Lapsing_Save_Rate_Holdout                                                AS Lapsing_Save_Rate_Lift_PTS\n",
    "                    ,safe_divide(Lapsing_Save_Rate_Engagers,Lapsing_Save_Rate_Holdout) *100                                AS Lapsing_Save_Rate_Lift_Index\n",
    "                    ,(Lapsing_Save_Rate_Engagers - Lapsing_Save_Rate_Holdout) * Lapsing_Save_Denom_Targeted                AS Lapsing_Save_Rate_Lift_Incrementals\n",
    "\n",
    "                    ,Free_To_Paid_Rate_Engagers                                                                                 AS Free_To_Paid_Rate_Engagers\n",
    "                    ,Free_To_Paid_Rate_Holdout                                                                                  AS Free_To_Paid_Rate_Holdout\n",
    "                    ,Free_To_Paid_Rate_Engagers - Free_To_Paid_Rate_Holdout                                                          AS Free_To_Paid_Rate_Lift_PTS\n",
    "                    ,safe_divide(Free_To_Paid_Rate_Engagers,Free_To_Paid_Rate_Holdout) *100                                          AS Free_To_Paid_Rate_Lift_Index\n",
    "                    ,(Free_To_Paid_Rate_Engagers - Free_To_Paid_Rate_Holdout) * Free_To_Paid_Denom_Targeted                              AS Free_To_Paid_Incrementals\n",
    "\n",
    "                    ,Net_New_Upgrade_Rate_Engagers                                                                         AS Net_New_Upgrade_Rate_Engagers\n",
    "                    ,Net_New_Upgrade_Rate_Holdout                                                                          AS Net_New_Upgrade_Rate_Holdout\n",
    "                    ,Net_New_Upgrade_Rate_Engagers - Net_New_Upgrade_Rate_Holdout                                          AS Net_New_Upgrade_Rate_Lift_PTS\n",
    "                    ,safe_divide(Net_New_Upgrade_Rate_Engagers,Net_New_Upgrade_Rate_Holdout) *100                          AS Net_New_Upgrade_Rate_Lift_Index\n",
    "                    ,(Net_New_Upgrade_Rate_Engagers - Net_New_Upgrade_Rate_Holdout) * Total_Net_New_Upgrade_Denom_Targeted AS Net_New_Upgrade_Incrementals\n",
    "\n",
    "                    ,Paid_Winback_Rate_Engagers                                                                            AS Paid_Winback_Rate_Engagers\n",
    "                    ,Paid_Winback_Rate_Holdout                                                                             AS Paid_Winback_Rate_Holdout\n",
    "                    ,Paid_Winback_Rate_Engagers - Paid_Winback_Rate_Holdout                                                AS Paid_Winback_Rate_Lift_PTS\n",
    "                    ,safe_divide(Paid_Winback_Rate_Engagers,Paid_Winback_Rate_Holdout) *100                                AS Paid_Winback_Rate_Lift_Index\n",
    "                    ,(Paid_Winback_Rate_Engagers - Paid_Winback_Rate_Holdout) * Total_Paid_Winbacks_Denom_Targeted         AS Paid_Winback_Rate_Lift_Incrementals\n",
    "\n",
    "                    ,Cancel_Save_Rate_Engagers                                                                             AS Cancel_Save_Rate_Engagers\n",
    "                    ,Cancel_Save_Rate_Holdout                                                                              AS Cancel_Save_Rate_Holdout\n",
    "                    ,Cancel_Save_Rate_Engagers - Cancel_Save_Rate_Holdout                                                  AS Cancel_Save_Rate_Lift_PTS\n",
    "                    ,safe_divide(Cancel_Save_Rate_Engagers,Cancel_Save_Rate_Holdout) *100                                  AS Cancel_Save_Rate_Lift_Index\n",
    "                    ,(Cancel_Save_Rate_Engagers - Cancel_Save_Rate_Holdout) * Total_Cancel_Save_Denom_Targeted             AS Cancel_Save_Rate_Incrementals\n",
    "\n",
    "                    ,Paid_Churn_Rate_Engagers                                                                              AS EOM_Paid_Churn_Rate_Engagers\n",
    "                    ,Paid_Churn_Rate_Holdout                                                                               AS EOM_Paid_Churn_Rate_Holdout\n",
    "                    ,Paid_Churn_Rate_Engagers - Paid_Churn_Rate_Holdout                                                    AS EOM_Paid_Churn_Rate_Lift_PTS\n",
    "                    ,safe_divide(Paid_Churn_Rate_Engagers,Paid_Churn_Rate_Holdout) *100                                    AS EOM_Paid_Churn_Rate_Lift_Index\n",
    "                    ,(Paid_Churn_Rate_Engagers - Paid_Churn_Rate_Holdout) * EOM_Paid_Churn_Denom_Targeted                  AS EOM_Paid_Churn_Rate_Incrementals\n",
    "                FROM CTE_2\n",
    "                ORDER BY 1 {'--' if total else ''},2\n",
    "                \"\"\"\n",
    "    return gen_analysis_query"
   ]
  },
  {
   "cell_type": "code",
   "execution_count": 10,
   "metadata": {},
   "outputs": [],
   "source": [
    "def gen_analysis_query_churn(report): \n",
    "\treturn f\"\"\"\n",
    "\t\t\tWITH CTE_1 AS\n",
    "\t\t\t(\n",
    "\t\t\t\tSELECT  @report_start_date                                                                                     AS Report_Month\n",
    "\t\t\t\t\t--, Account_Type\n",
    "\t\t\t\t\t,paid_tenure\n",
    "\t\t\t\t\t,SUM(CASE WHEN (cohort = 'Targeted') AND (Account_Type = 'Paying SVOD') THEN 1 END )  AS Distinct_Cohort_Size_Targeted\n",
    "\t\t\t\t\t,SUM(CASE WHEN (cohort = 'Holdout') AND (Account_Type = 'Paying SVOD') THEN 1 END)         AS Distinct_Cohort_Size_Holdout\n",
    "\t\t\t\t\t,SUM(CASE WHEN cohort = 'Targeted' THEN EOM_Paid_Churn_Denom END)                                AS EOM_Paid_Churn_Denom_Targeted\n",
    "\t\t\t\t\t,SUM(CASE WHEN cohort = 'Targeted' THEN EOM_Paid_Churn_Num END)                                   AS EOM_Paid_Churn_Num_Targeted\n",
    "\t\t\t\t\t,SUM(CASE WHEN cohort = 'Holdout' THEN EOM_Paid_Churn_Denom END)                                       AS EOM_Paid_Churn_Denom_Holdout\n",
    "\t\t\t\t\t,SUM(CASE WHEN cohort = 'Holdout' THEN EOM_Paid_Churn_Num END)                                          AS EOM_Paid_Churn_Num_Holdout\n",
    "\t\t\t\tFROM `nbcu-ds-sandbox-a-001.SLi_sandbox.Email_Channel_Base_{report}`\n",
    "\t\t\t\tGROUP BY  1,2\n",
    "\t\t\t), CTE_2 AS\n",
    "\t\t\t(\n",
    "\t\t\t\tSELECT  Report_Month\n",
    "\t\t\t\t\t--, Account_Type\n",
    "\t\t\t\t\t,paid_tenure\n",
    "\t\t\t\t\t,Distinct_Cohort_Size_Targeted                                          AS Targeted\n",
    "\t\t\t\t\t,Distinct_Cohort_Size_Holdout                                           AS Holdout\n",
    "\t\t\t\t\t,EOM_Paid_Churn_Denom_Targeted\n",
    "\t\t\t\t\t,safe_divide(EOM_Paid_Churn_Num_Targeted,EOM_Paid_Churn_Denom_Targeted) AS Paid_Churn_Rate_Engagers\n",
    "\t\t\t\t\t,safe_divide(EOM_Paid_Churn_Num_Holdout,EOM_Paid_Churn_Denom_Holdout)   AS Paid_Churn_Rate_Holdout\n",
    "\t\t\t\tFROM CTE_1\n",
    "\t\t\t)\n",
    "\t\t\tSELECT  Report_Month\n",
    "\t\t\t\t--, Account_Type\n",
    "\t\t\t\t,paid_tenure\n",
    "\t\t\t\t,Targeted\n",
    "\t\t\t\t,Holdout\n",
    "\t\t\t\t,Paid_Churn_Rate_Engagers                                                             AS EOM_Paid_Churn_Rate_Engagers\n",
    "\t\t\t\t,Paid_Churn_Rate_Holdout                                                              AS EOM_Paid_Churn_Rate_Holdout\n",
    "\t\t\t\t,Paid_Churn_Rate_Engagers - Paid_Churn_Rate_Holdout                                   AS EOM_Paid_Churn_Rate_Lift_PTS\n",
    "\t\t\t\t,safe_divide(Paid_Churn_Rate_Engagers,Paid_Churn_Rate_Holdout) *100                   AS EOM_Paid_Churn_Rate_Lift_Index\n",
    "\t\t\t\t,(Paid_Churn_Rate_Engagers - Paid_Churn_Rate_Holdout) * EOM_Paid_Churn_Denom_Targeted AS EOM_Paid_Churn_Rate_Incrementals\n",
    "\t\t\tFROM CTE_2\n",
    "\t\t\tORDER BY 1, 2\n",
    "\t\t\t\"\"\""
   ]
  },
  {
   "cell_type": "code",
   "execution_count": 11,
   "metadata": {},
   "outputs": [],
   "source": [
    "analyze_queries = [\n",
    "    gen_analysis_query_func(total=True),\n",
    "    gen_analysis_query_func(total=False),\n",
    "    gen_analysis_query_churn\n",
    "]"
   ]
  },
  {
   "cell_type": "code",
   "execution_count": 12,
   "metadata": {},
   "outputs": [],
   "source": [
    "def build_report(report, dates, queries):\n",
    "    queries = [fn(report) for fn in queries]\n",
    "    dfs = []\n",
    "    for q in queries:\n",
    "        query_config = {\n",
    "            'query': {\n",
    "                'parameterMode': 'NAMED',\n",
    "                'queryParameters': [\n",
    "                    {\n",
    "                        'name': 'report_start_date',\n",
    "                        'parameterType': {'type': 'STRING'},\n",
    "                        'parameterValue': {'value': dates['report_start_date']}\n",
    "                    },\n",
    "                    {\n",
    "                        'name': 'report_end_date',\n",
    "                        'parameterType': {'type': 'STRING'},\n",
    "                        'parameterValue': {'value': dates['report_end_date']}\n",
    "                    }\n",
    "                ]\n",
    "            }\n",
    "        }\n",
    "        dfs.append(pandas_gbq.read_gbq(q, configuration=query_config))\n",
    "    return dfs"
   ]
  },
  {
   "attachments": {},
   "cell_type": "markdown",
   "metadata": {},
   "source": [
    "## Monthly"
   ]
  },
  {
   "cell_type": "code",
   "execution_count": 13,
   "metadata": {},
   "outputs": [
    {
     "name": "stdout",
     "output_type": "stream",
     "text": [
      "Downloading: 100%|\u001b[32m██████████\u001b[0m|\n",
      "Downloading: 100%|\u001b[32m██████████\u001b[0m|\n",
      "Downloading: 100%|\u001b[32m██████████\u001b[0m|\n",
      "Downloading: 100%|\u001b[32m██████████\u001b[0m|\n",
      "Downloading: 100%|\u001b[32m██████████\u001b[0m|\n",
      "Downloading: 100%|\u001b[32m██████████\u001b[0m|\n",
      "Downloading: 100%|\u001b[32m██████████\u001b[0m|\n",
      "Downloading:   0%|\u001b[32m          \u001b[0m|\n",
      "Downloading: 100%|\u001b[32m██████████\u001b[0m|\n",
      "Downloading: 100%|\u001b[32m██████████\u001b[0m|\n",
      "Downloading:   0%|\u001b[32m          \u001b[0m|\n",
      "Downloading: 100%|\u001b[32m██████████\u001b[0m|\n",
      "Downloading: 100%|\u001b[32m██████████\u001b[0m|\n",
      "Downloading: 100%|\u001b[32m██████████\u001b[0m|\n",
      "Downloading: 100%|\u001b[32m██████████\u001b[0m|\n",
      "Downloading: 100%|\u001b[32m██████████\u001b[0m|\n",
      "Downloading: 100%|\u001b[32m██████████\u001b[0m|\n",
      "Downloading: 100%|\u001b[32m██████████\u001b[0m|\n",
      "Downloading: 100%|\u001b[32m██████████\u001b[0m|\n",
      "Downloading: 100%|\u001b[32m██████████\u001b[0m|\n",
      "Downloading: 100%|\u001b[32m██████████\u001b[0m|\n",
      "Downloading: 100%|\u001b[32m██████████\u001b[0m|\n",
      "Downloading: 100%|\u001b[32m██████████\u001b[0m|\n",
      "Downloading: 100%|\u001b[32m██████████\u001b[0m|\n",
      "Downloading: 100%|\u001b[32m██████████\u001b[0m|\n",
      "Downloading: 100%|\u001b[32m██████████\u001b[0m|\n",
      "Downloading: 100%|\u001b[32m██████████\u001b[0m|\n",
      "Downloading: 100%|\u001b[32m██████████\u001b[0m|\n",
      "Downloading: 100%|\u001b[32m██████████\u001b[0m|\n",
      "Downloading: 100%|\u001b[32m██████████\u001b[0m|\n",
      "Downloading: 100%|\u001b[32m██████████\u001b[0m|\n",
      "Downloading: 100%|\u001b[32m██████████\u001b[0m|\n",
      "Downloading: 100%|\u001b[32m██████████\u001b[0m|\n",
      "Downloading: 100%|\u001b[32m██████████\u001b[0m|\n",
      "Downloading: 100%|\u001b[32m██████████\u001b[0m|\n",
      "Downloading: 100%|\u001b[32m██████████\u001b[0m|\n",
      "Downloading: 100%|\u001b[32m██████████\u001b[0m|\n",
      "Downloading: 100%|\u001b[32m██████████\u001b[0m|\n",
      "Downloading: 100%|\u001b[32m██████████\u001b[0m|\n",
      "Downloading: 100%|\u001b[32m██████████\u001b[0m|\n",
      "Downloading: 100%|\u001b[32m██████████\u001b[0m|\n",
      "Downloading: 100%|\u001b[32m██████████\u001b[0m|\n",
      "Downloading: 100%|\u001b[32m██████████\u001b[0m|\n",
      "Downloading: 100%|\u001b[32m██████████\u001b[0m|\n",
      "Downloading: 100%|\u001b[32m██████████\u001b[0m|\n",
      "Downloading: 100%|\u001b[32m██████████\u001b[0m|\n",
      "Downloading: 100%|\u001b[32m██████████\u001b[0m|\n",
      "Downloading: 100%|\u001b[32m██████████\u001b[0m|\n",
      "Downloading:   0%|\u001b[32m          \u001b[0m|\n",
      "Downloading: 100%|\u001b[32m██████████\u001b[0m|\n",
      "\n",
      "Downloading: 100%|\u001b[32m██████████\u001b[0m|\n",
      "Downloading: 100%|\u001b[32m██████████\u001b[0m|\n",
      "Downloading:   0%|\u001b[32m          \u001b[0m|\n",
      "Downloading: 100%|\u001b[32m██████████\u001b[0m|\n",
      "\n",
      "Downloading: 100%|\u001b[32m██████████\u001b[0m|\n",
      "Downloading: 100%|\u001b[32m██████████\u001b[0m|\n",
      "Downloading: 100%|\u001b[32m██████████\u001b[0m|\n",
      "Downloading: 100%|\u001b[32m██████████\u001b[0m|\n",
      "Downloading: 100%|\u001b[32m██████████\u001b[0m|\n",
      "Downloading: 100%|\u001b[32m██████████\u001b[0m|\n",
      "Downloading: 100%|\u001b[32m██████████\u001b[0m|\n"
     ]
    }
   ],
   "source": [
    "threads = []\n",
    "results = []\n",
    "\n",
    "with ThreadPoolExecutor(len(months)) as executor:\n",
    "    for report, dates in months.items():\n",
    "        threads.append(executor.submit(build_report, report, dates, analyze_queries))\n",
    "    for future in as_completed(threads):\n",
    "        results.append(future.result())"
   ]
  },
  {
   "cell_type": "code",
   "execution_count": 14,
   "metadata": {},
   "outputs": [],
   "source": [
    "aggregate_reports = pd.concat([results[i][0] for i in range(len(results))]).sort_values(by='Report_Month')\n",
    "acc_type_reports = pd.concat([results[i][1] for i in range(len(results))]).sort_values(by=['Report_Month', 'Account_Type'])\n",
    "\n",
    "with pd.ExcelWriter(f'email_channel_report_monthly.xlsx') as writer:\n",
    "    aggregate_reports.to_excel(writer, sheet_name='total')\n",
    "    acc_type_reports.to_excel(writer, sheet_name='acc_type')"
   ]
  },
  {
   "attachments": {},
   "cell_type": "markdown",
   "metadata": {},
   "source": [
    "## Quarterly"
   ]
  },
  {
   "cell_type": "code",
   "execution_count": 16,
   "metadata": {},
   "outputs": [
    {
     "name": "stdout",
     "output_type": "stream",
     "text": [
      "Downloading: |\u001b[32m          \u001b[0m|\n",
      "Downloading: |\u001b[32m          \u001b[0m|\n",
      "Downloading: |\u001b[32m          \u001b[0m|\n",
      "Downloading: 100%|\u001b[32m██████████\u001b[0m|\n",
      "Downloading: 100%|\u001b[32m██████████\u001b[0m|\n",
      "Downloading: 100%|\u001b[32m██████████\u001b[0m|\n",
      "Downloading: 100%|\u001b[32m██████████\u001b[0m|\n",
      "Downloading: 100%|\u001b[32m██████████\u001b[0m|\n",
      "Downloading:   0%|\u001b[32m          \u001b[0m|\n",
      "Downloading: 100%|\u001b[32m██████████\u001b[0m|\n",
      "\n",
      "Downloading: 100%|\u001b[32m██████████\u001b[0m|\n",
      "Downloading: 100%|\u001b[32m██████████\u001b[0m|\n",
      "Downloading: 100%|\u001b[32m██████████\u001b[0m|\n",
      "Downloading: 100%|\u001b[32m██████████\u001b[0m|\n",
      "Downloading: 100%|\u001b[32m██████████\u001b[0m|\n",
      "Downloading: 100%|\u001b[32m██████████\u001b[0m|\n",
      "Downloading: 100%|\u001b[32m██████████\u001b[0m|\n",
      "Downloading: 100%|\u001b[32m██████████\u001b[0m|\n",
      "Downloading: 100%|\u001b[32m██████████\u001b[0m|\n"
     ]
    }
   ],
   "source": [
    "threads = []\n",
    "results = []\n",
    "\n",
    "with ThreadPoolExecutor(len(quarters)) as executor:\n",
    "    for report, dates in quarters.items():\n",
    "        threads.append(executor.submit(build_report, report, dates, analyze_queries))\n",
    "    for future in as_completed(threads):\n",
    "        results.append(future.result())"
   ]
  },
  {
   "cell_type": "code",
   "execution_count": 17,
   "metadata": {},
   "outputs": [],
   "source": [
    "aggregate_reports = pd.concat([results[i][0] for i in range(len(results))]).sort_values(by='Report_Month')\n",
    "acc_type_reports = pd.concat([results[i][1] for i in range(len(results))]).sort_values(by=['Report_Month', 'Account_Type'])\n",
    "\n",
    "with pd.ExcelWriter(f'email_channel_report_quarterly.xlsx') as writer:\n",
    "    aggregate_reports.to_excel(writer, sheet_name='total')\n",
    "    acc_type_reports.to_excel(writer, sheet_name='acc_type')"
   ]
  },
  {
   "attachments": {},
   "cell_type": "markdown",
   "metadata": {},
   "source": [
    "## Upgrades"
   ]
  },
  {
   "cell_type": "code",
   "execution_count": 29,
   "metadata": {
    "vscode": {
     "languageId": "sql"
    }
   },
   "outputs": [
    {
     "data": {
      "application/vnd.jupyter.widget-view+json": {
       "model_id": "2dcc60db00c247bf97f180c10a0e5a26",
       "version_major": 2,
       "version_minor": 0
      },
      "text/plain": [
       "Query is running:   0%|          |"
      ]
     },
     "metadata": {},
     "output_type": "display_data"
    },
    {
     "data": {
      "application/vnd.jupyter.widget-view+json": {
       "model_id": "ca908e4bf40e46b281fda39b0a28718a",
       "version_major": 2,
       "version_minor": 0
      },
      "text/plain": [
       "Downloading:   0%|          |"
      ]
     },
     "metadata": {},
     "output_type": "display_data"
    }
   ],
   "source": [
    "%%bigquery upgrades\n",
    "\n",
    "WITH CTE_1 AS\n",
    "(\n",
    "\tSELECT  Report_Month\n",
    "\t       ,COUNT(distinct CASE WHEN cohort = 'Targeted' THEN aid END )     AS Distinct_Cohort_Size_Targeted\n",
    "\t       ,COUNT(distinct CASE WHEN cohort = 'Holdout' THEN aid END)       AS Distinct_Cohort_Size_Holdout\n",
    "\t       ,SUM(CASE WHEN cohort = 'Targeted' THEN Free_To_Paid_Denom END ) AS Free_To_Paid_Denom_Targeted\n",
    "\t       ,SUM(CASE WHEN cohort = 'Targeted' THEN Free_To_Paid_Num END)    AS Free_To_Paid_Num_Targeted\n",
    "\t       ,SUM(CASE WHEN cohort = 'Holdout' THEN Free_To_Paid_Denom END )  AS Free_To_Paid_Denom_Holdout\n",
    "\t       ,SUM(CASE WHEN cohort = 'Holdout' THEN Free_To_Paid_Num END)     AS Free_To_Paid_Num_Holdout\n",
    "\tFROM `nbcu-ds-sandbox-a-001.SLi_sandbox.SILVER_EMAIL_CHANNEL_PERFORMANCE_MONTHLY`\n",
    "\tGROUP BY  1\n",
    "), CTE_2 AS\n",
    "(\n",
    "\tSELECT  Report_Month\n",
    "\t       ,Distinct_Cohort_Size_Targeted                                      AS Total_Targeted\n",
    "\t       ,Distinct_Cohort_Size_Holdout                                       AS Total_Holdout\n",
    "\t       ,Free_To_Paid_Denom_Targeted\n",
    "\t       ,Free_To_Paid_Num_Targeted\n",
    "\t       ,safe_divide(Free_To_Paid_Num_Targeted,Free_To_Paid_Denom_Targeted) AS Free_To_Paid_Rate_Engagers\n",
    "\t       ,safe_divide(Free_To_Paid_Num_Holdout,Free_To_Paid_Denom_Holdout)   AS Free_To_Paid_Rate_Holdout\n",
    "\tFROM CTE_1\n",
    ")\n",
    "SELECT  Report_Month\n",
    "       ,Total_Targeted\n",
    "       ,Total_Holdout\n",
    "       ,Free_To_Paid_Rate_Engagers                                                             AS Free_To_Paid_Rate_Engagers\n",
    "       ,Free_To_Paid_Rate_Holdout                                                              AS Free_To_Paid_Rate_Holdout\n",
    "       ,Free_To_Paid_Rate_Engagers - Free_To_Paid_Rate_Holdout                                 AS Free_To_Paid_Rate_Lift_PTS\n",
    "       ,safe_divide(Free_To_Paid_Rate_Engagers,Free_To_Paid_Rate_Holdout) *100                 AS Free_To_Paid_Rate_Lift_Index\n",
    "       ,(Free_To_Paid_Rate_Engagers - Free_To_Paid_Rate_Holdout) * Free_To_Paid_Denom_Targeted AS Free_To_Paid_Incrementals\n",
    "FROM CTE_2\n",
    "ORDER BY 1"
   ]
  },
  {
   "cell_type": "code",
   "execution_count": 30,
   "metadata": {
    "vscode": {
     "languageId": "sql"
    }
   },
   "outputs": [],
   "source": [
    "upgrades.to_excel('upgrades.xlsx')"
   ]
  }
 ],
 "metadata": {
  "kernelspec": {
   "display_name": "base",
   "language": "python",
   "name": "python3"
  },
  "language_info": {
   "codemirror_mode": {
    "name": "ipython",
    "version": 3
   },
   "file_extension": ".py",
   "mimetype": "text/x-python",
   "name": "python",
   "nbconvert_exporter": "python",
   "pygments_lexer": "ipython3",
   "version": "3.10.9"
  },
  "orig_nbformat": 4
 },
 "nbformat": 4,
 "nbformat_minor": 2
}
