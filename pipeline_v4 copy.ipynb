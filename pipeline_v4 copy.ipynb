{
 "cells": [
  {
   "cell_type": "code",
   "execution_count": 41,
   "metadata": {},
   "outputs": [
    {
     "name": "stdout",
     "output_type": "stream",
     "text": [
      "The google.cloud.bigquery extension is already loaded. To reload it, use:\n",
      "  %reload_ext google.cloud.bigquery\n"
     ]
    }
   ],
   "source": [
    "import pandas as pd\n",
    "from tqdm.notebook import tqdm\n",
    "%load_ext google.cloud.bigquery"
   ]
  },
  {
   "attachments": {},
   "cell_type": "markdown",
   "metadata": {},
   "source": [
    "## Base Tables"
   ]
  },
  {
   "cell_type": "code",
   "execution_count": 42,
   "metadata": {
    "vscode": {
     "languageId": "sql"
    }
   },
   "outputs": [],
   "source": [
    "params = {\n",
    "    'report_start_date': '2023-12-01',\n",
    "    'report_end_date': '2023-12-31'\n",
    "}"
   ]
  },
  {
   "cell_type": "markdown",
   "metadata": {},
   "source": [
    "# Analysis"
   ]
  },
  {
   "cell_type": "code",
   "execution_count": 43,
   "metadata": {
    "vscode": {
     "languageId": "sql"
    }
   },
   "outputs": [
    {
     "data": {
      "application/vnd.jupyter.widget-view+json": {
       "model_id": "9a45290ea7e3447ab6e6260076953949",
       "version_major": 2,
       "version_minor": 0
      },
      "text/plain": [
       "Query is running:   0%|          |"
      ]
     },
     "metadata": {},
     "output_type": "display_data"
    },
    {
     "data": {
      "application/vnd.jupyter.widget-view+json": {
       "model_id": "026607c062074637bdd00dd31749a271",
       "version_major": 2,
       "version_minor": 0
      },
      "text/plain": [
       "Downloading:   0%|          |"
      ]
     },
     "metadata": {},
     "output_type": "display_data"
    }
   ],
   "source": [
    "%%bigquery df_total --project nbcu-ds-sandbox-a-001 --params $params\n",
    "\n",
    "WITH \n",
    "CTE_1 AS (\n",
    "    SELECT  @report_start_date                                                           AS Report_Month\n",
    "       --, Account_Type\n",
    "           ,COUNT(distinct CASE WHEN cohort = 'Email_Targeted' THEN aid END )            AS Distinct_Cohort_Size_Targeted\n",
    "           ,COUNT(distinct CASE WHEN cohort = 'Holdout' THEN aid END)                    AS Distinct_Cohort_Size_Holdout\n",
    "           \n",
    "           ,SUM(CASE WHEN cohort = 'Email_Targeted' THEN viewer END )                   AS Total_Returns_Targeted\n",
    "           ,SUM(CASE WHEN cohort = 'Holdout' THEN viewer END)                           AS Total_Returns_Holdout\n",
    "           ,SUM(CASE WHEN cohort = 'Email_Targeted' THEN Viewing_Time END )              AS Total_Usage_Targeted\n",
    "           ,SUM(CASE WHEN cohort = 'Holdout' THEN Viewing_Time END)                      AS Total_Usage_Holdout\n",
    "           ,SUM(CASE WHEN cohort = 'Email_Targeted' THEN Repertoire_Pavo_Method END )    AS Total_Repertoire_Targeted\n",
    "           ,SUM(CASE WHEN cohort = 'Holdout' THEN Repertoire_Pavo_Method END)            AS Total_Repertoire_Holdout\n",
    "           ,SUM(CASE WHEN cohort = 'Email_Targeted' THEN Distinct_Viewing_Sessions END ) AS Total_Viewing_Sessions_Targeted\n",
    "           ,SUM(CASE WHEN cohort = 'Holdout' THEN Distinct_Viewing_Sessions END)         AS Total_Viewing_Sessions_Holdout\n",
    "\n",
    "           ,SUM(CASE WHEN cohort = 'Email_Targeted' THEN Winback_Denom END )             AS Winback_Denom_Targeted\n",
    "           ,SUM(CASE WHEN cohort = 'Email_Targeted' THEN Winback_Num END)                AS Winback_Num_Targeted\n",
    "           ,SUM(CASE WHEN cohort = 'Holdout' THEN Winback_Denom END )                    AS Winback_Denom_Holdout\n",
    "           ,SUM(CASE WHEN cohort = 'Holdout' THEN Winback_Num END)                       AS Winback_Num_Holdout\n",
    "\n",
    "           ,SUM(CASE WHEN cohort = 'Email_Targeted' THEN Save_Denom END )                AS Save_Denom_Targeted\n",
    "           ,SUM(CASE WHEN cohort = 'Email_Targeted' THEN Save_Num END)                   AS Save_Num_Targeted\n",
    "           ,SUM(CASE WHEN cohort = 'Holdout' THEN Save_Denom END )                       AS Save_Denom_Holdout\n",
    "           ,SUM(CASE WHEN cohort = 'Holdout' THEN Save_Num END)                          AS Save_Num_Holdout\n",
    "\n",
    "           ,SUM(CASE WHEN cohort = 'Email_Targeted' THEN Upgrade_Denom END )             AS Upgrades_Denom_Targeted\n",
    "           ,SUM(CASE WHEN cohort = 'Email_Targeted' THEN Upgrade_Num END)                AS Upgrades_Num_Targeted\n",
    "           ,SUM(CASE WHEN cohort = 'Holdout' THEN Upgrade_Denom END )                    AS Upgrades_Denom_Holdout\n",
    "           ,SUM(CASE WHEN cohort = 'Holdout' THEN Upgrade_Num END)                       AS Upgrades_Num_Holdout\n",
    "\n",
    "           ,SUM(CASE WHEN cohort = 'Email_Targeted' THEN New_Upgrade_Denom END )         AS Total_New_Upgrade_Denom_Targeted\n",
    "           ,SUM(CASE WHEN cohort = 'Email_Targeted' THEN New_Upgrade_Num END)            AS Total_New_Upgrade_Num_Targeted\n",
    "           ,SUM(CASE WHEN cohort = 'Holdout' THEN New_Upgrade_Denom END )                AS Total_New_Upgrade_Denom_Holdout\n",
    "           ,SUM(CASE WHEN cohort = 'Holdout' THEN New_Upgrade_Num END)                   AS Total_New_Upgrade_Num_Holdout\n",
    "\n",
    "           ,SUM(CASE WHEN cohort = 'Email_Targeted' THEN Paid_Winbacks_Denom END )       AS Total_Paid_Winbacks_Denom_Targeted\n",
    "           ,SUM(CASE WHEN cohort = 'Email_Targeted' THEN Paid_Winbacks_Num END)          AS Total_Paid_Winbacks_Num_Targeted\n",
    "           ,SUM(CASE WHEN cohort = 'Holdout' THEN Paid_Winbacks_Denom END )              AS Total_Paid_Winbacks_Denom_Holdout\n",
    "           ,SUM(CASE WHEN cohort = 'Holdout' THEN Paid_Winbacks_Num END)                 AS Total_Paid_Winbacks_Num_Holdout\n",
    "\n",
    "           ,SUM(CASE WHEN cohort = 'Email_Targeted' THEN Cancel_Save_Denom END )         AS Total_Cancel_Save_Denom_Targeted\n",
    "           ,SUM(CASE WHEN cohort = 'Email_Targeted' THEN Cancel_Save_Num END)            AS Total_Cancel_Save_Num_Targeted\n",
    "           ,SUM(CASE WHEN cohort = 'Holdout' THEN Cancel_Save_Denom END )                AS Total_Cancel_Save_Denom_Holdout\n",
    "           ,SUM(CASE WHEN cohort = 'Holdout' THEN Cancel_Save_Num END)                   AS Total_Cancel_Save_Num_Holdout\n",
    "\n",
    "           ,SUM(CASE WHEN cohort = 'Email_Targeted' THEN EOM_Paid_Churn_Denom END )      AS EOM_Paid_Churn_Denom_Targeted\n",
    "           ,SUM(CASE WHEN cohort = 'Email_Targeted' THEN EOM_Paid_Churn_Num END)         AS EOM_Paid_Churn_Num_Targeted\n",
    "           ,SUM(CASE WHEN cohort = 'Holdout' THEN EOM_Paid_Churn_Denom END )             AS EOM_Paid_Churn_Denom_Holdout\n",
    "           ,SUM(CASE WHEN cohort = 'Holdout' THEN EOM_Paid_Churn_Num END)                AS EOM_Paid_Churn_Num_Holdout\n",
    "       \n",
    "       FROM `nbcu-ds-sandbox-a-001.SLi_sandbox.CRM_KPI_Base_v4_Dec22`\n",
    "       GROUP BY  1 --, 2\n",
    "\n",
    "), CTE_2 AS (\n",
    "    SELECT  Report_Month\n",
    "            -- ,Account_Type\n",
    "            ,Distinct_Cohort_Size_Targeted                                                            AS Email_Engagers\n",
    "            ,Distinct_Cohort_Size_Holdout                                                             AS Email_Holdout\n",
    "            ,safe_divide(Total_Returns_Targeted,Distinct_Cohort_Size_Targeted)                        AS Return_Rate_Engagers\n",
    "            ,safe_divide(Total_Returns_Holdout,Distinct_Cohort_Size_Holdout)                          AS Return_Rate_Holdout\n",
    "            ,safe_divide(Total_Usage_Targeted,Distinct_Cohort_Size_Targeted)                          AS Usage_Engagers\n",
    "            ,safe_divide(Total_Usage_Holdout,Distinct_Cohort_Size_Holdout)                            AS Usage_Holdout\n",
    "            ,safe_divide(Total_Repertoire_Targeted,Distinct_Cohort_Size_Targeted)                     AS Repertoire_Engagers\n",
    "            ,safe_divide(Total_Repertoire_Holdout,Distinct_Cohort_Size_Holdout)                       AS Repertoire_Holdout\n",
    "            ,safe_divide(Total_Viewing_Sessions_Targeted,Distinct_Cohort_Size_Targeted)               AS Sessions_Engagers\n",
    "            ,safe_divide(Total_Viewing_Sessions_Holdout,Distinct_Cohort_Size_Holdout)                 AS Sessions_Holdout\n",
    "            ,Winback_Denom_Targeted\n",
    "            ,safe_divide(Winback_Num_Targeted,Winback_Denom_Targeted)                                 AS Winback_Rate_Engagers\n",
    "            ,safe_divide(Winback_Num_Holdout,Winback_Denom_Holdout)                                   AS Winback_Rate_Holdout\n",
    "            ,Save_Denom_Targeted\n",
    "            ,safe_divide(Save_Num_Targeted,Save_Denom_Targeted)                                       AS Save_Rate_Engagers\n",
    "            ,safe_divide(Save_Num_Holdout,Save_Denom_Holdout)                                         AS Save_Rate_Holdout\n",
    "            ,Upgrades_Denom_Targeted\n",
    "            ,safe_divide(Upgrades_Num_Targeted,Upgrades_Denom_Targeted)                               AS Upgrade_Rate_Engagers\n",
    "            ,safe_divide(Upgrades_Num_Holdout,Upgrades_Denom_Holdout)                                 AS Upgrade_Rate_Holdout\n",
    "            ,Total_New_Upgrade_Denom_Targeted\n",
    "            ,safe_divide(Total_New_Upgrade_Num_Targeted,Total_New_Upgrade_Denom_Targeted)             AS New_Upgrade_Rate_Engagers\n",
    "            ,safe_divide(Total_New_Upgrade_Num_Holdout,Total_New_Upgrade_Denom_Holdout)               AS New_Upgrade_Rate_Holdout\n",
    "            ,Total_Paid_Winbacks_Denom_Targeted\n",
    "            ,safe_divide(Total_Paid_Winbacks_Num_Targeted,Total_Paid_Winbacks_Denom_Targeted)         AS Paid_Winback_Rate_Engagers\n",
    "            ,safe_divide(Total_Paid_Winbacks_Num_Holdout,Total_Paid_Winbacks_Denom_Holdout)           AS Paid_Winback_Rate_Holdout\n",
    "            ,Total_Cancel_Save_Denom_Targeted\n",
    "            ,safe_divide(Total_Cancel_Save_Num_Targeted,Total_Cancel_Save_Denom_Targeted)             AS Cancel_Save_Rate_Engagers\n",
    "            ,safe_divide(Total_Cancel_Save_Num_Holdout,Total_Cancel_Save_Denom_Holdout)               AS Cancel_Save_Rate_Holdout\n",
    "            ,EOM_Paid_Churn_Denom_Targeted\n",
    "            ,safe_divide(EOM_Paid_Churn_Num_Targeted,EOM_Paid_Churn_Denom_Targeted)                   AS Paid_Churn_Rate_Engagers\n",
    "            ,safe_divide(EOM_Paid_Churn_Num_Holdout,EOM_Paid_Churn_Denom_Holdout)                     AS Paid_Churn_Rate_Holdout\n",
    "    FROM CTE_1\n",
    ")\n",
    "\n",
    "SELECT  Report_Month\n",
    "       --,Account_Type\n",
    "       ,Email_Engagers\n",
    "       ,Email_Holdout\n",
    "\n",
    "       ,Return_Rate_Engagers                                                                                        AS Return_Rate_Engagers\n",
    "       ,Return_Rate_Holdout                                                                                         AS Return_Rate_Holdout\n",
    "       ,Return_Rate_Engagers - Return_Rate_Holdout                                                                  AS Return_Rate_Lift_PTS\n",
    "       ,safe_divide(Return_Rate_Engagers,Return_Rate_Holdout) *100                                                  AS Return_Rate_Lift_Index\n",
    "       ,(Return_Rate_Engagers - Return_Rate_Holdout) * Email_Engagers                                               AS Returns_Incrementals\n",
    "\n",
    "       ,Usage_Engagers                                                                                              AS Usage_Engagers\n",
    "       ,Usage_Holdout                                                                                               AS Usage_Holdout\n",
    "       ,Usage_Engagers - Usage_Holdout                                                                              AS Usage_Lift_PTS\n",
    "       ,safe_divide(Usage_Engagers,Usage_Holdout) *100                                                              AS Usage_Lift_Index\n",
    "       ,(Usage_Engagers - Usage_Holdout) * Email_Engagers                                                           AS Usage_Incrementals\n",
    "\n",
    "       ,Repertoire_Engagers                                                                                         AS Repertoire_Engagers\n",
    "       ,Repertoire_Holdout                                                                                          AS Repertoire_Holdout\n",
    "       ,Repertoire_Engagers - Repertoire_Holdout                                                                    AS Repertoire_Lift_PTS\n",
    "       ,safe_divide(Repertoire_Engagers,Repertoire_Holdout) *100                                                    AS Repertoire_Lift_Index\n",
    "       ,(Repertoire_Engagers - Repertoire_Holdout) * Email_Engagers                                                 AS Repertoire_Incrementals\n",
    "\n",
    "       ,Sessions_Engagers                                                                                           AS Sessions_Engagers\n",
    "       ,Sessions_Holdout                                                                                            AS Sessions_Holdout\n",
    "       ,Sessions_Engagers - Sessions_Holdout                                                                        AS Sessions_Lift_PTS\n",
    "       ,safe_divide(Sessions_Engagers,Sessions_Holdout) *100                                                        AS Sessions_Lift_Index\n",
    "       ,(Sessions_Engagers - Sessions_Holdout) * Email_Engagers                                                     AS Sessions_Incrementals\n",
    "\n",
    "       ,Winback_Rate_Engagers                                                                                       AS Winback_Rate_Engagers\n",
    "       ,Winback_Rate_Holdout                                                                                        AS Winback_Rate_Holdout\n",
    "       ,Winback_Rate_Engagers - Winback_Rate_Holdout                                                                AS Winback_Rate_Lift_PTS\n",
    "       ,safe_divide(Winback_Rate_Engagers,Winback_Rate_Holdout) *100                                                AS Winback_Rate_Lift_Index\n",
    "       ,(Winback_Rate_Engagers - Winback_Rate_Holdout) * Winback_Denom_Targeted                                     AS Winback_Incrementals\n",
    "\n",
    "       ,Save_Rate_Engagers                                                                                          AS Save_Rate_Engagers\n",
    "       ,Save_Rate_Holdout                                                                                           AS Save_Rate_Holdout\n",
    "       ,Save_Rate_Engagers - Save_Rate_Holdout                                                                      AS Save_Rate_Lift_PTS\n",
    "       ,safe_divide(Save_Rate_Engagers,Save_Rate_Holdout) *100                                                      AS Save_Rate_Lift_Index\n",
    "       ,(Save_Rate_Engagers - Save_Rate_Holdout) * Save_Denom_Targeted                                              AS Save_Rate_Lift_Incrementals\n",
    "\n",
    "       ,Upgrade_Rate_Engagers                                                                                       AS Upgrade_Rate_Engagers\n",
    "       ,Upgrade_Rate_Holdout                                                                                        AS Upgrade_Rate_Holdout\n",
    "       ,Upgrade_Rate_Engagers - Upgrade_Rate_Holdout                                                                AS Upgrade_Rate_Lift_PTS\n",
    "       ,safe_divide(Upgrade_Rate_Engagers,Upgrade_Rate_Holdout) *100                                                AS Upgrade_Rate_Lift_Index\n",
    "       ,(Upgrade_Rate_Engagers - Upgrade_Rate_Holdout) * Upgrades_Denom_Targeted                                    AS Upgrade_Incrementals\n",
    "\n",
    "       ,New_Upgrade_Rate_Engagers                                                                                   AS New_Upgrade_Rate_Engagers\n",
    "       ,New_Upgrade_Rate_Holdout                                                                                    AS New_Upgrade_Rate_Holdout\n",
    "       ,New_Upgrade_Rate_Engagers - New_Upgrade_Rate_Holdout                                                        AS New_Upgrade_Rate_Lift_PTS\n",
    "       ,safe_divide(New_Upgrade_Rate_Engagers,New_Upgrade_Rate_Holdout) *100                                        AS New_Upgrade_Rate_Lift_Index\n",
    "       ,(New_Upgrade_Rate_Engagers - New_Upgrade_Rate_Holdout) * Total_New_Upgrade_Denom_Targeted                   AS New_Upgrade_Incrementals\n",
    "\n",
    "       ,Paid_Winback_Rate_Engagers                                                                                  AS Paid_Winback_Rate_Engagers\n",
    "       ,Paid_Winback_Rate_Holdout                                                                                   AS Paid_Winback_Rate_Holdout\n",
    "       ,Paid_Winback_Rate_Engagers - Paid_Winback_Rate_Holdout                                                      AS Paid_Winback_Rate_Lift_PTS\n",
    "       ,safe_divide(Paid_Winback_Rate_Engagers,Paid_Winback_Rate_Holdout) *100                                      AS Paid_Winback_Rate_Lift_Index\n",
    "       ,(Paid_Winback_Rate_Engagers - Paid_Winback_Rate_Holdout) * Total_Paid_Winbacks_Denom_Targeted               AS Paid_Winback_Rate_Lift_Incrementals\n",
    "\n",
    "       ,Cancel_Save_Rate_Engagers                                                                             AS Cancel_Save_Rate_Engagers\n",
    "       ,Cancel_Save_Rate_Holdout                                                                              AS Cancel_Save_Rate_Holdout\n",
    "       ,Cancel_Save_Rate_Engagers - Cancel_Save_Rate_Holdout                                            AS Cancel_Save_Rate_Lift_PTS\n",
    "       ,safe_divide(Cancel_Save_Rate_Engagers,Cancel_Save_Rate_Holdout) *100                            AS Cancel_Save_Rate_Lift_Index\n",
    "       ,(Cancel_Save_Rate_Engagers - Cancel_Save_Rate_Holdout) * Total_Cancel_Save_Denom_Targeted     AS Cancel_Save_Rate_Incrementals\n",
    "\n",
    "       ,Paid_Churn_Rate_Engagers                                                                                    AS EOM_Paid_Churn_Rate_Engagers\n",
    "       ,Paid_Churn_Rate_Holdout                                                                                     AS EOM_Paid_Churn_Rate_Holdout\n",
    "       ,Paid_Churn_Rate_Engagers - Paid_Churn_Rate_Holdout                                                          AS EOM_Paid_Churn_Rate_Lift_PTS\n",
    "       ,safe_divide(Paid_Churn_Rate_Engagers,Paid_Churn_Rate_Holdout) *100                                          AS EOM_Paid_Churn_Rate_Lift_Index\n",
    "       ,(Paid_Churn_Rate_Engagers - Paid_Churn_Rate_Holdout) * EOM_Paid_Churn_Denom_Targeted                        AS EOM_Paid_Churn_Rate_Incrementals\n",
    "\n",
    "FROM CTE_2"
   ]
  },
  {
   "cell_type": "code",
   "execution_count": 44,
   "metadata": {
    "vscode": {
     "languageId": "sql"
    }
   },
   "outputs": [
    {
     "data": {
      "text/html": [
       "<div>\n",
       "<style scoped>\n",
       "    .dataframe tbody tr th:only-of-type {\n",
       "        vertical-align: middle;\n",
       "    }\n",
       "\n",
       "    .dataframe tbody tr th {\n",
       "        vertical-align: top;\n",
       "    }\n",
       "\n",
       "    .dataframe thead th {\n",
       "        text-align: right;\n",
       "    }\n",
       "</style>\n",
       "<table border=\"1\" class=\"dataframe\">\n",
       "  <thead>\n",
       "    <tr style=\"text-align: right;\">\n",
       "      <th></th>\n",
       "      <th>Report_Month</th>\n",
       "      <th>Email_Engagers</th>\n",
       "      <th>Email_Holdout</th>\n",
       "      <th>Return_Rate_Engagers</th>\n",
       "      <th>Return_Rate_Holdout</th>\n",
       "      <th>Return_Rate_Lift_PTS</th>\n",
       "      <th>Return_Rate_Lift_Index</th>\n",
       "      <th>Returns_Incrementals</th>\n",
       "      <th>Usage_Engagers</th>\n",
       "      <th>Usage_Holdout</th>\n",
       "      <th>...</th>\n",
       "      <th>Cancel_Save_Rate_Engagers</th>\n",
       "      <th>Cancel_Save_Rate_Holdout</th>\n",
       "      <th>Cancel_Save_Rate_Lift_PTS</th>\n",
       "      <th>Cancel_Save_Rate_Lift_Index</th>\n",
       "      <th>Cancel_Save_Rate_Incrementals</th>\n",
       "      <th>EOM_Paid_Churn_Rate_Engagers</th>\n",
       "      <th>EOM_Paid_Churn_Rate_Holdout</th>\n",
       "      <th>EOM_Paid_Churn_Rate_Lift_PTS</th>\n",
       "      <th>EOM_Paid_Churn_Rate_Lift_Index</th>\n",
       "      <th>EOM_Paid_Churn_Rate_Incrementals</th>\n",
       "    </tr>\n",
       "  </thead>\n",
       "  <tbody>\n",
       "    <tr>\n",
       "      <th>0</th>\n",
       "      <td>2023-12-01</td>\n",
       "      <td>37394831</td>\n",
       "      <td>2173801</td>\n",
       "      <td>0.46068</td>\n",
       "      <td>0.389008</td>\n",
       "      <td>0.071672</td>\n",
       "      <td>118.424251</td>\n",
       "      <td>2.680155e+06</td>\n",
       "      <td>8.964284</td>\n",
       "      <td>7.244629</td>\n",
       "      <td>...</td>\n",
       "      <td>0.021096</td>\n",
       "      <td>0.02228</td>\n",
       "      <td>-0.001184</td>\n",
       "      <td>94.683863</td>\n",
       "      <td>-555.454133</td>\n",
       "      <td>0.073033</td>\n",
       "      <td>0.073885</td>\n",
       "      <td>-0.000852</td>\n",
       "      <td>98.847228</td>\n",
       "      <td>-9564.358394</td>\n",
       "    </tr>\n",
       "  </tbody>\n",
       "</table>\n",
       "<p>1 rows × 58 columns</p>\n",
       "</div>"
      ],
      "text/plain": [
       "  Report_Month  Email_Engagers  Email_Holdout  Return_Rate_Engagers  \\\n",
       "0   2023-12-01        37394831        2173801               0.46068   \n",
       "\n",
       "   Return_Rate_Holdout  Return_Rate_Lift_PTS  Return_Rate_Lift_Index  \\\n",
       "0             0.389008              0.071672              118.424251   \n",
       "\n",
       "   Returns_Incrementals  Usage_Engagers  Usage_Holdout  ...  \\\n",
       "0          2.680155e+06        8.964284       7.244629  ...   \n",
       "\n",
       "   Cancel_Save_Rate_Engagers  Cancel_Save_Rate_Holdout  \\\n",
       "0                   0.021096                   0.02228   \n",
       "\n",
       "   Cancel_Save_Rate_Lift_PTS  Cancel_Save_Rate_Lift_Index  \\\n",
       "0                  -0.001184                    94.683863   \n",
       "\n",
       "   Cancel_Save_Rate_Incrementals  EOM_Paid_Churn_Rate_Engagers  \\\n",
       "0                    -555.454133                      0.073033   \n",
       "\n",
       "   EOM_Paid_Churn_Rate_Holdout  EOM_Paid_Churn_Rate_Lift_PTS  \\\n",
       "0                     0.073885                     -0.000852   \n",
       "\n",
       "   EOM_Paid_Churn_Rate_Lift_Index  EOM_Paid_Churn_Rate_Incrementals  \n",
       "0                       98.847228                      -9564.358394  \n",
       "\n",
       "[1 rows x 58 columns]"
      ]
     },
     "execution_count": 44,
     "metadata": {},
     "output_type": "execute_result"
    }
   ],
   "source": [
    "df_total"
   ]
  },
  {
   "cell_type": "code",
   "execution_count": 45,
   "metadata": {
    "vscode": {
     "languageId": "sql"
    }
   },
   "outputs": [
    {
     "data": {
      "application/vnd.jupyter.widget-view+json": {
       "model_id": "d0eda9607fe143129f29261638dd328e",
       "version_major": 2,
       "version_minor": 0
      },
      "text/plain": [
       "Query is running:   0%|          |"
      ]
     },
     "metadata": {},
     "output_type": "display_data"
    },
    {
     "data": {
      "application/vnd.jupyter.widget-view+json": {
       "model_id": "3f8fa05d6d0e44ad90aa2bff5345e0fe",
       "version_major": 2,
       "version_minor": 0
      },
      "text/plain": [
       "Downloading:   0%|          |"
      ]
     },
     "metadata": {},
     "output_type": "display_data"
    }
   ],
   "source": [
    "%%bigquery df_acc --project nbcu-ds-sandbox-a-001 --params $params\n",
    "\n",
    "WITH \n",
    "CTE_1 AS (\n",
    "    SELECT  @report_start_date                                                           AS Report_Month\n",
    "            , Account_Type\n",
    "           ,COUNT(distinct CASE WHEN cohort = 'Email_Targeted' THEN aid END )            AS Distinct_Cohort_Size_Targeted\n",
    "           ,COUNT(distinct CASE WHEN cohort = 'Holdout' THEN aid END)                    AS Distinct_Cohort_Size_Holdout\n",
    "           \n",
    "           ,SUM(CASE WHEN cohort = 'Email_Targeted' THEN viewer END )                   AS Total_Returns_Targeted\n",
    "           ,SUM(CASE WHEN cohort = 'Holdout' THEN viewer END)                           AS Total_Returns_Holdout\n",
    "           ,SUM(CASE WHEN cohort = 'Email_Targeted' THEN Viewing_Time END )              AS Total_Usage_Targeted\n",
    "           ,SUM(CASE WHEN cohort = 'Holdout' THEN Viewing_Time END)                      AS Total_Usage_Holdout\n",
    "           ,SUM(CASE WHEN cohort = 'Email_Targeted' THEN Repertoire_Pavo_Method END )    AS Total_Repertoire_Targeted\n",
    "           ,SUM(CASE WHEN cohort = 'Holdout' THEN Repertoire_Pavo_Method END)            AS Total_Repertoire_Holdout\n",
    "           ,SUM(CASE WHEN cohort = 'Email_Targeted' THEN Distinct_Viewing_Sessions END ) AS Total_Viewing_Sessions_Targeted\n",
    "           ,SUM(CASE WHEN cohort = 'Holdout' THEN Distinct_Viewing_Sessions END)         AS Total_Viewing_Sessions_Holdout\n",
    "\n",
    "           ,SUM(CASE WHEN cohort = 'Email_Targeted' THEN Winback_Denom END )             AS Winback_Denom_Targeted\n",
    "           ,SUM(CASE WHEN cohort = 'Email_Targeted' THEN Winback_Num END)                AS Winback_Num_Targeted\n",
    "           ,SUM(CASE WHEN cohort = 'Holdout' THEN Winback_Denom END )                    AS Winback_Denom_Holdout\n",
    "           ,SUM(CASE WHEN cohort = 'Holdout' THEN Winback_Num END)                       AS Winback_Num_Holdout\n",
    "\n",
    "           ,SUM(CASE WHEN cohort = 'Email_Targeted' THEN Save_Denom END )                AS Save_Denom_Targeted\n",
    "           ,SUM(CASE WHEN cohort = 'Email_Targeted' THEN Save_Num END)                   AS Save_Num_Targeted\n",
    "           ,SUM(CASE WHEN cohort = 'Holdout' THEN Save_Denom END )                       AS Save_Denom_Holdout\n",
    "           ,SUM(CASE WHEN cohort = 'Holdout' THEN Save_Num END)                          AS Save_Num_Holdout\n",
    "\n",
    "           ,SUM(CASE WHEN cohort = 'Email_Targeted' THEN Upgrade_Denom END )             AS Upgrades_Denom_Targeted\n",
    "           ,SUM(CASE WHEN cohort = 'Email_Targeted' THEN Upgrade_Num END)                AS Upgrades_Num_Targeted\n",
    "           ,SUM(CASE WHEN cohort = 'Holdout' THEN Upgrade_Denom END )                    AS Upgrades_Denom_Holdout\n",
    "           ,SUM(CASE WHEN cohort = 'Holdout' THEN Upgrade_Num END)                       AS Upgrades_Num_Holdout\n",
    "\n",
    "           ,SUM(CASE WHEN cohort = 'Email_Targeted' THEN New_Upgrade_Denom END )         AS Total_New_Upgrade_Denom_Targeted\n",
    "           ,SUM(CASE WHEN cohort = 'Email_Targeted' THEN New_Upgrade_Num END)            AS Total_New_Upgrade_Num_Targeted\n",
    "           ,SUM(CASE WHEN cohort = 'Holdout' THEN New_Upgrade_Denom END )                AS Total_New_Upgrade_Denom_Holdout\n",
    "           ,SUM(CASE WHEN cohort = 'Holdout' THEN New_Upgrade_Num END)                   AS Total_New_Upgrade_Num_Holdout\n",
    "\n",
    "           ,SUM(CASE WHEN cohort = 'Email_Targeted' THEN Paid_Winbacks_Denom END )       AS Total_Paid_Winbacks_Denom_Targeted\n",
    "           ,SUM(CASE WHEN cohort = 'Email_Targeted' THEN Paid_Winbacks_Num END)          AS Total_Paid_Winbacks_Num_Targeted\n",
    "           ,SUM(CASE WHEN cohort = 'Holdout' THEN Paid_Winbacks_Denom END )              AS Total_Paid_Winbacks_Denom_Holdout\n",
    "           ,SUM(CASE WHEN cohort = 'Holdout' THEN Paid_Winbacks_Num END)                 AS Total_Paid_Winbacks_Num_Holdout\n",
    "\n",
    "           ,SUM(CASE WHEN cohort = 'Email_Targeted' THEN Cancel_Save_Denom END )         AS Total_Cancel_Save_Denom_Targeted\n",
    "           ,SUM(CASE WHEN cohort = 'Email_Targeted' THEN Cancel_Save_Num END)            AS Total_Cancel_Save_Num_Targeted\n",
    "           ,SUM(CASE WHEN cohort = 'Holdout' THEN Cancel_Save_Denom END )                AS Total_Cancel_Save_Denom_Holdout\n",
    "           ,SUM(CASE WHEN cohort = 'Holdout' THEN Cancel_Save_Num END)                   AS Total_Cancel_Save_Num_Holdout\n",
    "\n",
    "           ,SUM(CASE WHEN cohort = 'Email_Targeted' THEN EOM_Paid_Churn_Denom END )      AS EOM_Paid_Churn_Denom_Targeted\n",
    "           ,SUM(CASE WHEN cohort = 'Email_Targeted' THEN EOM_Paid_Churn_Num END)         AS EOM_Paid_Churn_Num_Targeted\n",
    "           ,SUM(CASE WHEN cohort = 'Holdout' THEN EOM_Paid_Churn_Denom END )             AS EOM_Paid_Churn_Denom_Holdout\n",
    "           ,SUM(CASE WHEN cohort = 'Holdout' THEN EOM_Paid_Churn_Num END)                AS EOM_Paid_Churn_Num_Holdout\n",
    "       \n",
    "       FROM `nbcu-ds-sandbox-a-001.SLi_sandbox.CRM_KPI_Base_v4_Dec22`\n",
    "       GROUP BY  1, 2\n",
    "\n",
    "), CTE_2 AS (\n",
    "    SELECT  Report_Month\n",
    "            ,Account_Type\n",
    "            ,Distinct_Cohort_Size_Targeted                                                            AS Email_Engagers\n",
    "            ,Distinct_Cohort_Size_Holdout                                                             AS Email_Holdout\n",
    "            ,safe_divide(Total_Returns_Targeted,Distinct_Cohort_Size_Targeted)                        AS Return_Rate_Engagers\n",
    "            ,safe_divide(Total_Returns_Holdout,Distinct_Cohort_Size_Holdout)                          AS Return_Rate_Holdout\n",
    "            ,safe_divide(Total_Usage_Targeted,Distinct_Cohort_Size_Targeted)                          AS Usage_Engagers\n",
    "            ,safe_divide(Total_Usage_Holdout,Distinct_Cohort_Size_Holdout)                            AS Usage_Holdout\n",
    "            ,safe_divide(Total_Repertoire_Targeted,Distinct_Cohort_Size_Targeted)                     AS Repertoire_Engagers\n",
    "            ,safe_divide(Total_Repertoire_Holdout,Distinct_Cohort_Size_Holdout)                       AS Repertoire_Holdout\n",
    "            ,safe_divide(Total_Viewing_Sessions_Targeted,Distinct_Cohort_Size_Targeted)               AS Sessions_Engagers\n",
    "            ,safe_divide(Total_Viewing_Sessions_Holdout,Distinct_Cohort_Size_Holdout)                 AS Sessions_Holdout\n",
    "            ,Winback_Denom_Targeted\n",
    "            ,safe_divide(Winback_Num_Targeted,Winback_Denom_Targeted)                                 AS Winback_Rate_Engagers\n",
    "            ,safe_divide(Winback_Num_Holdout,Winback_Denom_Holdout)                                   AS Winback_Rate_Holdout\n",
    "            ,Save_Denom_Targeted\n",
    "            ,safe_divide(Save_Num_Targeted,Save_Denom_Targeted)                                       AS Save_Rate_Engagers\n",
    "            ,safe_divide(Save_Num_Holdout,Save_Denom_Holdout)                                         AS Save_Rate_Holdout\n",
    "            ,Upgrades_Denom_Targeted\n",
    "            ,safe_divide(Upgrades_Num_Targeted,Upgrades_Denom_Targeted)                               AS Upgrade_Rate_Engagers\n",
    "            ,safe_divide(Upgrades_Num_Holdout,Upgrades_Denom_Holdout)                                 AS Upgrade_Rate_Holdout\n",
    "            ,Total_New_Upgrade_Denom_Targeted\n",
    "            ,safe_divide(Total_New_Upgrade_Num_Targeted,Total_New_Upgrade_Denom_Targeted)             AS New_Upgrade_Rate_Engagers\n",
    "            ,safe_divide(Total_New_Upgrade_Num_Holdout,Total_New_Upgrade_Denom_Holdout)               AS New_Upgrade_Rate_Holdout\n",
    "            ,Total_Paid_Winbacks_Denom_Targeted\n",
    "            ,safe_divide(Total_Paid_Winbacks_Num_Targeted,Total_Paid_Winbacks_Denom_Targeted)         AS Paid_Winback_Rate_Engagers\n",
    "            ,safe_divide(Total_Paid_Winbacks_Num_Holdout,Total_Paid_Winbacks_Denom_Holdout)           AS Paid_Winback_Rate_Holdout\n",
    "            ,Total_Cancel_Save_Denom_Targeted\n",
    "            ,safe_divide(Total_Cancel_Save_Num_Targeted,Total_Cancel_Save_Denom_Targeted)             AS Cancel_Save_Rate_Engagers\n",
    "            ,safe_divide(Total_Cancel_Save_Num_Holdout,Total_Cancel_Save_Denom_Holdout)               AS Cancel_Save_Rate_Holdout\n",
    "            ,EOM_Paid_Churn_Denom_Targeted\n",
    "            ,safe_divide(EOM_Paid_Churn_Num_Targeted,EOM_Paid_Churn_Denom_Targeted)                   AS Paid_Churn_Rate_Engagers\n",
    "            ,safe_divide(EOM_Paid_Churn_Num_Holdout,EOM_Paid_Churn_Denom_Holdout)                     AS Paid_Churn_Rate_Holdout\n",
    "    FROM CTE_1\n",
    ")\n",
    "\n",
    "SELECT  Report_Month\n",
    "       ,Account_Type\n",
    "       ,Email_Engagers\n",
    "       ,Email_Holdout\n",
    "\n",
    "       ,Return_Rate_Engagers                                                                                        AS Return_Rate_Engagers\n",
    "       ,Return_Rate_Holdout                                                                                         AS Return_Rate_Holdout\n",
    "       ,Return_Rate_Engagers - Return_Rate_Holdout                                                                  AS Return_Rate_Lift_PTS\n",
    "       ,safe_divide(Return_Rate_Engagers,Return_Rate_Holdout) *100                                                  AS Return_Rate_Lift_Index\n",
    "       ,(Return_Rate_Engagers - Return_Rate_Holdout) * Email_Engagers                                               AS Returns_Incrementals\n",
    "\n",
    "       ,Usage_Engagers                                                                                              AS Usage_Engagers\n",
    "       ,Usage_Holdout                                                                                               AS Usage_Holdout\n",
    "       ,Usage_Engagers - Usage_Holdout                                                                              AS Usage_Lift_PTS\n",
    "       ,safe_divide(Usage_Engagers,Usage_Holdout) *100                                                              AS Usage_Lift_Index\n",
    "       ,(Usage_Engagers - Usage_Holdout) * Email_Engagers                                                           AS Usage_Incrementals\n",
    "\n",
    "       ,Repertoire_Engagers                                                                                         AS Repertoire_Engagers\n",
    "       ,Repertoire_Holdout                                                                                          AS Repertoire_Holdout\n",
    "       ,Repertoire_Engagers - Repertoire_Holdout                                                                    AS Repertoire_Lift_PTS\n",
    "       ,safe_divide(Repertoire_Engagers,Repertoire_Holdout) *100                                                    AS Repertoire_Lift_Index\n",
    "       ,(Repertoire_Engagers - Repertoire_Holdout) * Email_Engagers                                                 AS Repertoire_Incrementals\n",
    "\n",
    "       ,Sessions_Engagers                                                                                           AS Sessions_Engagers\n",
    "       ,Sessions_Holdout                                                                                            AS Sessions_Holdout\n",
    "       ,Sessions_Engagers - Sessions_Holdout                                                                        AS Sessions_Lift_PTS\n",
    "       ,safe_divide(Sessions_Engagers,Sessions_Holdout) *100                                                        AS Sessions_Lift_Index\n",
    "       ,(Sessions_Engagers - Sessions_Holdout) * Email_Engagers                                                     AS Sessions_Incrementals\n",
    "\n",
    "       ,Winback_Rate_Engagers                                                                                       AS Winback_Rate_Engagers\n",
    "       ,Winback_Rate_Holdout                                                                                        AS Winback_Rate_Holdout\n",
    "       ,Winback_Rate_Engagers - Winback_Rate_Holdout                                                                AS Winback_Rate_Lift_PTS\n",
    "       ,safe_divide(Winback_Rate_Engagers,Winback_Rate_Holdout) *100                                                AS Winback_Rate_Lift_Index\n",
    "       ,(Winback_Rate_Engagers - Winback_Rate_Holdout) * Winback_Denom_Targeted                                     AS Winback_Incrementals\n",
    "\n",
    "       ,Save_Rate_Engagers                                                                                          AS Save_Rate_Engagers\n",
    "       ,Save_Rate_Holdout                                                                                           AS Save_Rate_Holdout\n",
    "       ,Save_Rate_Engagers - Save_Rate_Holdout                                                                      AS Save_Rate_Lift_PTS\n",
    "       ,safe_divide(Save_Rate_Engagers,Save_Rate_Holdout) *100                                                      AS Save_Rate_Lift_Index\n",
    "       ,(Save_Rate_Engagers - Save_Rate_Holdout) * Save_Denom_Targeted                                              AS Save_Rate_Lift_Incrementals\n",
    "\n",
    "       ,Upgrade_Rate_Engagers                                                                                       AS Upgrade_Rate_Engagers\n",
    "       ,Upgrade_Rate_Holdout                                                                                        AS Upgrade_Rate_Holdout\n",
    "       ,Upgrade_Rate_Engagers - Upgrade_Rate_Holdout                                                                AS Upgrade_Rate_Lift_PTS\n",
    "       ,safe_divide(Upgrade_Rate_Engagers,Upgrade_Rate_Holdout) *100                                                AS Upgrade_Rate_Lift_Index\n",
    "       ,(Upgrade_Rate_Engagers - Upgrade_Rate_Holdout) * Upgrades_Denom_Targeted                                    AS Upgrade_Incrementals\n",
    "\n",
    "       ,New_Upgrade_Rate_Engagers                                                                                   AS New_Upgrade_Rate_Engagers\n",
    "       ,New_Upgrade_Rate_Holdout                                                                                    AS New_Upgrade_Rate_Holdout\n",
    "       ,New_Upgrade_Rate_Engagers - New_Upgrade_Rate_Holdout                                                        AS New_Upgrade_Rate_Lift_PTS\n",
    "       ,safe_divide(New_Upgrade_Rate_Engagers,New_Upgrade_Rate_Holdout) *100                                        AS New_Upgrade_Rate_Lift_Index\n",
    "       ,(New_Upgrade_Rate_Engagers - New_Upgrade_Rate_Holdout) * Total_New_Upgrade_Denom_Targeted                   AS New_Upgrade_Incrementals\n",
    "\n",
    "       ,Paid_Winback_Rate_Engagers                                                                                  AS Paid_Winback_Rate_Engagers\n",
    "       ,Paid_Winback_Rate_Holdout                                                                                   AS Paid_Winback_Rate_Holdout\n",
    "       ,Paid_Winback_Rate_Engagers - Paid_Winback_Rate_Holdout                                                      AS Paid_Winback_Rate_Lift_PTS\n",
    "       ,safe_divide(Paid_Winback_Rate_Engagers,Paid_Winback_Rate_Holdout) *100                                      AS Paid_Winback_Rate_Lift_Index\n",
    "       ,(Paid_Winback_Rate_Engagers - Paid_Winback_Rate_Holdout) * Total_Paid_Winbacks_Denom_Targeted               AS Paid_Winback_Rate_Lift_Incrementals\n",
    "\n",
    "       ,Cancel_Save_Rate_Engagers                                                                             AS Cancel_Save_Rate_Engagers\n",
    "       ,Cancel_Save_Rate_Holdout                                                                              AS Cancel_Save_Rate_Holdout\n",
    "       ,Cancel_Save_Rate_Engagers - Cancel_Save_Rate_Holdout                                            AS Cancel_Save_Rate_Lift_PTS\n",
    "       ,safe_divide(Cancel_Save_Rate_Engagers,Cancel_Save_Rate_Holdout) *100                            AS Cancel_Save_Rate_Lift_Index\n",
    "       ,(Cancel_Save_Rate_Engagers - Cancel_Save_Rate_Holdout) * Total_Cancel_Save_Denom_Targeted     AS Cancel_Save_Rate_Incrementals\n",
    "\n",
    "       ,Paid_Churn_Rate_Engagers                                                                                    AS EOM_Paid_Churn_Rate_Engagers\n",
    "       ,Paid_Churn_Rate_Holdout                                                                                     AS EOM_Paid_Churn_Rate_Holdout\n",
    "       ,Paid_Churn_Rate_Engagers - Paid_Churn_Rate_Holdout                                                          AS EOM_Paid_Churn_Rate_Lift_PTS\n",
    "       ,safe_divide(Paid_Churn_Rate_Engagers,Paid_Churn_Rate_Holdout) *100                                          AS EOM_Paid_Churn_Rate_Lift_Index\n",
    "       ,(Paid_Churn_Rate_Engagers - Paid_Churn_Rate_Holdout) * EOM_Paid_Churn_Denom_Targeted                        AS EOM_Paid_Churn_Rate_Incrementals\n",
    "\n",
    "FROM CTE_2"
   ]
  },
  {
   "cell_type": "code",
   "execution_count": 46,
   "metadata": {
    "vscode": {
     "languageId": "sql"
    }
   },
   "outputs": [
    {
     "data": {
      "text/html": [
       "<div>\n",
       "<style scoped>\n",
       "    .dataframe tbody tr th:only-of-type {\n",
       "        vertical-align: middle;\n",
       "    }\n",
       "\n",
       "    .dataframe tbody tr th {\n",
       "        vertical-align: top;\n",
       "    }\n",
       "\n",
       "    .dataframe thead th {\n",
       "        text-align: right;\n",
       "    }\n",
       "</style>\n",
       "<table border=\"1\" class=\"dataframe\">\n",
       "  <thead>\n",
       "    <tr style=\"text-align: right;\">\n",
       "      <th></th>\n",
       "      <th>Report_Month</th>\n",
       "      <th>Account_Type</th>\n",
       "      <th>Email_Engagers</th>\n",
       "      <th>Email_Holdout</th>\n",
       "      <th>Return_Rate_Engagers</th>\n",
       "      <th>Return_Rate_Holdout</th>\n",
       "      <th>Return_Rate_Lift_PTS</th>\n",
       "      <th>Return_Rate_Lift_Index</th>\n",
       "      <th>Returns_Incrementals</th>\n",
       "      <th>Usage_Engagers</th>\n",
       "      <th>...</th>\n",
       "      <th>Cancel_Save_Rate_Engagers</th>\n",
       "      <th>Cancel_Save_Rate_Holdout</th>\n",
       "      <th>Cancel_Save_Rate_Lift_PTS</th>\n",
       "      <th>Cancel_Save_Rate_Lift_Index</th>\n",
       "      <th>Cancel_Save_Rate_Incrementals</th>\n",
       "      <th>EOM_Paid_Churn_Rate_Engagers</th>\n",
       "      <th>EOM_Paid_Churn_Rate_Holdout</th>\n",
       "      <th>EOM_Paid_Churn_Rate_Lift_PTS</th>\n",
       "      <th>EOM_Paid_Churn_Rate_Lift_Index</th>\n",
       "      <th>EOM_Paid_Churn_Rate_Incrementals</th>\n",
       "    </tr>\n",
       "  </thead>\n",
       "  <tbody>\n",
       "    <tr>\n",
       "      <th>0</th>\n",
       "      <td>2023-12-01</td>\n",
       "      <td>Bundled Premium</td>\n",
       "      <td>7686413</td>\n",
       "      <td>415656</td>\n",
       "      <td>0.572315</td>\n",
       "      <td>0.528678</td>\n",
       "      <td>0.043638</td>\n",
       "      <td>108.254088</td>\n",
       "      <td>335415.927777</td>\n",
       "      <td>8.740496</td>\n",
       "      <td>...</td>\n",
       "      <td>0.009491</td>\n",
       "      <td>0.005051</td>\n",
       "      <td>0.004441</td>\n",
       "      <td>187.928936</td>\n",
       "      <td>18.247475</td>\n",
       "      <td>NaN</td>\n",
       "      <td>NaN</td>\n",
       "      <td>NaN</td>\n",
       "      <td>NaN</td>\n",
       "      <td>NaN</td>\n",
       "    </tr>\n",
       "    <tr>\n",
       "      <th>2</th>\n",
       "      <td>2023-12-01</td>\n",
       "      <td>Free</td>\n",
       "      <td>18479022</td>\n",
       "      <td>1233505</td>\n",
       "      <td>0.174047</td>\n",
       "      <td>0.151053</td>\n",
       "      <td>0.022994</td>\n",
       "      <td>115.222553</td>\n",
       "      <td>424909.758359</td>\n",
       "      <td>0.666495</td>\n",
       "      <td>...</td>\n",
       "      <td>0.000601</td>\n",
       "      <td>0.000528</td>\n",
       "      <td>0.000074</td>\n",
       "      <td>113.983073</td>\n",
       "      <td>18.156159</td>\n",
       "      <td>NaN</td>\n",
       "      <td>NaN</td>\n",
       "      <td>NaN</td>\n",
       "      <td>NaN</td>\n",
       "      <td>NaN</td>\n",
       "    </tr>\n",
       "    <tr>\n",
       "      <th>1</th>\n",
       "      <td>2023-12-01</td>\n",
       "      <td>Paying SVOD</td>\n",
       "      <td>11229396</td>\n",
       "      <td>524640</td>\n",
       "      <td>0.855947</td>\n",
       "      <td>0.837818</td>\n",
       "      <td>0.018129</td>\n",
       "      <td>102.163788</td>\n",
       "      <td>203573.381542</td>\n",
       "      <td>22.772254</td>\n",
       "      <td>...</td>\n",
       "      <td>0.044375</td>\n",
       "      <td>0.046768</td>\n",
       "      <td>-0.002393</td>\n",
       "      <td>94.882725</td>\n",
       "      <td>-523.470123</td>\n",
       "      <td>0.073033</td>\n",
       "      <td>0.073885</td>\n",
       "      <td>-0.000852</td>\n",
       "      <td>98.847228</td>\n",
       "      <td>-9564.358394</td>\n",
       "    </tr>\n",
       "  </tbody>\n",
       "</table>\n",
       "<p>3 rows × 59 columns</p>\n",
       "</div>"
      ],
      "text/plain": [
       "  Report_Month     Account_Type  Email_Engagers  Email_Holdout  \\\n",
       "0   2023-12-01  Bundled Premium         7686413         415656   \n",
       "2   2023-12-01             Free        18479022        1233505   \n",
       "1   2023-12-01      Paying SVOD        11229396         524640   \n",
       "\n",
       "   Return_Rate_Engagers  Return_Rate_Holdout  Return_Rate_Lift_PTS  \\\n",
       "0              0.572315             0.528678              0.043638   \n",
       "2              0.174047             0.151053              0.022994   \n",
       "1              0.855947             0.837818              0.018129   \n",
       "\n",
       "   Return_Rate_Lift_Index  Returns_Incrementals  Usage_Engagers  ...  \\\n",
       "0              108.254088         335415.927777        8.740496  ...   \n",
       "2              115.222553         424909.758359        0.666495  ...   \n",
       "1              102.163788         203573.381542       22.772254  ...   \n",
       "\n",
       "   Cancel_Save_Rate_Engagers  Cancel_Save_Rate_Holdout  \\\n",
       "0                   0.009491                  0.005051   \n",
       "2                   0.000601                  0.000528   \n",
       "1                   0.044375                  0.046768   \n",
       "\n",
       "   Cancel_Save_Rate_Lift_PTS  Cancel_Save_Rate_Lift_Index  \\\n",
       "0                   0.004441                   187.928936   \n",
       "2                   0.000074                   113.983073   \n",
       "1                  -0.002393                    94.882725   \n",
       "\n",
       "   Cancel_Save_Rate_Incrementals  EOM_Paid_Churn_Rate_Engagers  \\\n",
       "0                      18.247475                           NaN   \n",
       "2                      18.156159                           NaN   \n",
       "1                    -523.470123                      0.073033   \n",
       "\n",
       "   EOM_Paid_Churn_Rate_Holdout  EOM_Paid_Churn_Rate_Lift_PTS  \\\n",
       "0                          NaN                           NaN   \n",
       "2                          NaN                           NaN   \n",
       "1                     0.073885                     -0.000852   \n",
       "\n",
       "   EOM_Paid_Churn_Rate_Lift_Index  EOM_Paid_Churn_Rate_Incrementals  \n",
       "0                             NaN                               NaN  \n",
       "2                             NaN                               NaN  \n",
       "1                       98.847228                      -9564.358394  \n",
       "\n",
       "[3 rows x 59 columns]"
      ]
     },
     "execution_count": 46,
     "metadata": {},
     "output_type": "execute_result"
    }
   ],
   "source": [
    "df_acc = df_acc.sort_values(by='Account_Type')\n",
    "df_acc"
   ]
  },
  {
   "cell_type": "code",
   "execution_count": 47,
   "metadata": {
    "vscode": {
     "languageId": "sql"
    }
   },
   "outputs": [],
   "source": [
    "df_total.to_excel('email_kpi_tot_v4_Dec22_qualifier_report_end.xlsx', index=False)\n",
    "df_acc.to_excel('email_kpi_acc_v4_Dec22_qualifier_report_end.xlsx', index=False)"
   ]
  },
  {
   "attachments": {},
   "cell_type": "markdown",
   "metadata": {
    "vscode": {
     "languageId": "sql"
    }
   },
   "source": [
    "# Churn Breakdown"
   ]
  },
  {
   "cell_type": "code",
   "execution_count": 48,
   "metadata": {
    "vscode": {
     "languageId": "sql"
    }
   },
   "outputs": [
    {
     "name": "stdout",
     "output_type": "stream",
     "text": [
      "Executing query with job ID: c5ab939b-5cbb-4ca7-be19-3081ab453496\n",
      "Query executing: 0.54s"
     ]
    },
    {
     "name": "stderr",
     "output_type": "stream",
     "text": [
      "\n",
      "ERROR:\n",
      " 400 Unrecognized name: tenure_paid_lens at [6:7]\n",
      "\n",
      "Location: US\n",
      "Job ID: c5ab939b-5cbb-4ca7-be19-3081ab453496\n",
      "\n"
     ]
    }
   ],
   "source": [
    "%%bigquery df_churn --project nbcu-ds-sandbox-a-001 --params $params\n",
    "\n",
    "WITH \n",
    "CTE_1 AS (\n",
    "  SELECT \n",
    "    @report_start_date AS Report_Month\n",
    "    --, Account_Type\n",
    "    , tenure_paid_lens\n",
    "      \n",
    "    ,COUNT(distinct CASE WHEN (cohort = 'Email_Targeted') AND (Account_Type = 'Paying SVOD') THEN aid END )            AS Distinct_Cohort_Size_Targeted\n",
    "    ,COUNT(distinct CASE WHEN (cohort = 'Holdout') AND (Account_Type = 'Paying SVOD') THEN aid END)                    AS Distinct_Cohort_Size_Holdout\n",
    "\n",
    "    ,SUM(CASE WHEN cohort = 'Email_Targeted' THEN EOM_Paid_Churn_Denom END )      AS EOM_Paid_Churn_Denom_Targeted\n",
    "    ,SUM(CASE WHEN cohort = 'Email_Targeted' THEN EOM_Paid_Churn_Num END)         AS EOM_Paid_Churn_Num_Targeted\n",
    "    ,SUM(CASE WHEN cohort = 'Holdout' THEN EOM_Paid_Churn_Denom END )             AS EOM_Paid_Churn_Denom_Holdout\n",
    "    ,SUM(CASE WHEN cohort = 'Holdout' THEN EOM_Paid_Churn_Num END)                AS EOM_Paid_Churn_Num_Holdout\n",
    "  FROM `nbcu-ds-sandbox-a-001.SLi_sandbox.CRM_KPI_Base_v4_Dec22`\n",
    "  GROUP BY 1,2\n",
    "), CTE_2 AS (\n",
    "    SELECT Report_Month\n",
    "  --, Account_Type\n",
    "  , account_tenure\n",
    "  , Distinct_Cohort_Size_Targeted   as Email_Engagers\n",
    "  , Distinct_Cohort_Size_Holdout   as Email_Holdout\n",
    "\n",
    "  , EOM_Paid_Churn_Denom_Targeted\n",
    "  , safe_divide(EOM_Paid_Churn_Num_Targeted, EOM_Paid_Churn_Denom_Targeted) as Paid_Churn_Rate_Engagers\n",
    "  , safe_divide(EOM_Paid_Churn_Num_Holdout, EOM_Paid_Churn_Denom_Holdout) as Paid_Churn_Rate_Holdout\n",
    "\n",
    "  from CTE_1\n",
    ")\n",
    "\n",
    "SELECT Report_Month\n",
    "--, Account_Type\n",
    ", tenure_paid_lens\n",
    ", Email_Engagers\n",
    ", Email_Holdout\n",
    "\n",
    ", Paid_Churn_Rate_Engagers                                                  as EOM_Paid_Churn_Rate_Engagers\n",
    ", Paid_Churn_Rate_Holdout                                                   as EOM_Paid_Churn_Rate_Holdout\n",
    ", Paid_Churn_Rate_Engagers - Paid_Churn_Rate_Holdout                        as EOM_Paid_Churn_Rate_Lift_PTS\n",
    ", safe_divide(Paid_Churn_Rate_Engagers, Paid_Churn_Rate_Holdout) *100                   as EOM_Paid_Churn_Rate_Lift_Index\n",
    ", (Paid_Churn_Rate_Engagers - Paid_Churn_Rate_Holdout) * EOM_Paid_Churn_Denom_Targeted as EOM_Paid_Churn_Rate_Incrementals\n",
    "\n",
    "FROM CTE_2\n",
    "order by 1,2"
   ]
  },
  {
   "cell_type": "code",
   "execution_count": 49,
   "metadata": {
    "vscode": {
     "languageId": "sql"
    }
   },
   "outputs": [
    {
     "data": {
      "text/plain": [
       "QueryJob<project=nbcu-ds-sandbox-a-001, location=US, id=c5ab939b-5cbb-4ca7-be19-3081ab453496>"
      ]
     },
     "execution_count": 49,
     "metadata": {},
     "output_type": "execute_result"
    }
   ],
   "source": [
    "df_churn"
   ]
  },
  {
   "cell_type": "code",
   "execution_count": 50,
   "metadata": {
    "vscode": {
     "languageId": "sql"
    }
   },
   "outputs": [
    {
     "ename": "AttributeError",
     "evalue": "'QueryJob' object has no attribute 'to_excel'",
     "output_type": "error",
     "traceback": [
      "\u001b[1;31m---------------------------------------------------------------------------\u001b[0m",
      "\u001b[1;31mAttributeError\u001b[0m                            Traceback (most recent call last)",
      "\u001b[1;32mC:\\TEMP\\ipykernel_19604\\3679835282.py\u001b[0m in \u001b[0;36m<module>\u001b[1;34m\u001b[0m\n\u001b[1;32m----> 1\u001b[1;33m \u001b[0mdf_churn\u001b[0m\u001b[1;33m.\u001b[0m\u001b[0mto_excel\u001b[0m\u001b[1;33m(\u001b[0m\u001b[1;34m'email_kpi_v4_Dec22_churn.xlsx'\u001b[0m\u001b[1;33m)\u001b[0m\u001b[1;33m\u001b[0m\u001b[1;33m\u001b[0m\u001b[0m\n\u001b[0m",
      "\u001b[1;31mAttributeError\u001b[0m: 'QueryJob' object has no attribute 'to_excel'"
     ]
    }
   ],
   "source": [
    "df_churn.to_excel('email_kpi_v4_Dec22_churn.xlsx')"
   ]
  }
 ],
 "metadata": {
  "kernelspec": {
   "display_name": "base",
   "language": "python",
   "name": "python3"
  },
  "language_info": {
   "codemirror_mode": {
    "name": "ipython",
    "version": 3
   },
   "file_extension": ".py",
   "mimetype": "text/x-python",
   "name": "python",
   "nbconvert_exporter": "python",
   "pygments_lexer": "ipython3",
   "version": "3.9.13"
  },
  "orig_nbformat": 4,
  "vscode": {
   "interpreter": {
    "hash": "9f4bcd060ba154b7f997404b5ff23acc15e075c14d45ca39f213897f2a8cabbd"
   }
  }
 },
 "nbformat": 4,
 "nbformat_minor": 2
}
