{
 "cells": [
  {
   "cell_type": "code",
   "execution_count": 1,
   "metadata": {
    "vscode": {
     "languageId": "sql"
    }
   },
   "outputs": [],
   "source": [
    "import pandas as pd\n",
    "import seaborn as sns\n",
    "\n",
    "%load_ext google.cloud.bigquery"
   ]
  },
  {
   "attachments": {},
   "cell_type": "markdown",
   "metadata": {},
   "source": [
    "# Channel KPI Version"
   ]
  },
  {
   "cell_type": "code",
   "execution_count": 4,
   "metadata": {
    "vscode": {
     "languageId": "sql"
    }
   },
   "outputs": [],
   "source": [
    "params = {\n",
    "    'report_start_date': '2022-10-01',\n",
    "    'report_end_date': '2022-10-31'\n",
    "}"
   ]
  },
  {
   "cell_type": "code",
   "execution_count": 5,
   "metadata": {
    "vscode": {
     "languageId": "sql"
    }
   },
   "outputs": [
    {
     "data": {
      "application/vnd.jupyter.widget-view+json": {
       "model_id": "dfcf1bd40d5b4caa8b2ebb173dc62148",
       "version_major": 2,
       "version_minor": 0
      },
      "text/plain": [
       "Query is running:   0%|          |"
      ]
     },
     "metadata": {},
     "output_type": "display_data"
    },
    {
     "data": {
      "text/html": [
       "<div>\n",
       "<style scoped>\n",
       "    .dataframe tbody tr th:only-of-type {\n",
       "        vertical-align: middle;\n",
       "    }\n",
       "\n",
       "    .dataframe tbody tr th {\n",
       "        vertical-align: top;\n",
       "    }\n",
       "\n",
       "    .dataframe thead th {\n",
       "        text-align: right;\n",
       "    }\n",
       "</style>\n",
       "<table border=\"1\" class=\"dataframe\">\n",
       "  <thead>\n",
       "    <tr style=\"text-align: right;\">\n",
       "      <th></th>\n",
       "    </tr>\n",
       "  </thead>\n",
       "  <tbody>\n",
       "  </tbody>\n",
       "</table>\n",
       "</div>"
      ],
      "text/plain": [
       "Empty DataFrame\n",
       "Columns: []\n",
       "Index: []"
      ]
     },
     "execution_count": 5,
     "metadata": {},
     "output_type": "execute_result"
    }
   ],
   "source": [
    "%%bigquery --project nbcu-ds-sandbox-a-001 --params $params\n",
    "CREATE OR REPLACE TABLE `nbcu-ds-sandbox-a-001.SLi_sandbox.Email_Unsubs_v4_Oct22_test` AS (\n",
    "    SELECT DISTINCT adobe_tracking_id\n",
    "    FROM  `nbcu-ds-sandbox-a-001.SLi_sandbox.Email_Unsubs`\n",
    "    WHERE first_unsub_date <= @report_end_date\n",
    ")"
   ]
  },
  {
   "cell_type": "code",
   "execution_count": 6,
   "metadata": {
    "vscode": {
     "languageId": "sql"
    }
   },
   "outputs": [
    {
     "data": {
      "application/vnd.jupyter.widget-view+json": {
       "model_id": "6bc1df79cf314c1289deb7d41c851dfa",
       "version_major": 2,
       "version_minor": 0
      },
      "text/plain": [
       "Query is running:   0%|          |"
      ]
     },
     "metadata": {},
     "output_type": "display_data"
    },
    {
     "data": {
      "text/html": [
       "<div>\n",
       "<style scoped>\n",
       "    .dataframe tbody tr th:only-of-type {\n",
       "        vertical-align: middle;\n",
       "    }\n",
       "\n",
       "    .dataframe tbody tr th {\n",
       "        vertical-align: top;\n",
       "    }\n",
       "\n",
       "    .dataframe thead th {\n",
       "        text-align: right;\n",
       "    }\n",
       "</style>\n",
       "<table border=\"1\" class=\"dataframe\">\n",
       "  <thead>\n",
       "    <tr style=\"text-align: right;\">\n",
       "      <th></th>\n",
       "    </tr>\n",
       "  </thead>\n",
       "  <tbody>\n",
       "  </tbody>\n",
       "</table>\n",
       "</div>"
      ],
      "text/plain": [
       "Empty DataFrame\n",
       "Columns: []\n",
       "Index: []"
      ]
     },
     "execution_count": 6,
     "metadata": {},
     "output_type": "execute_result"
    }
   ],
   "source": [
    "%%bigquery --project nbcu-ds-sandbox-a-001 --params $params\n",
    "CREATE OR REPLACE TABLE `nbcu-ds-sandbox-a-001.SLi_sandbox.Email_Delivered_v4_Oct22_test` AS ( -- everyone who have received emails in the month\n",
    "    SELECT DISTINCT adobe_tracking_id \n",
    "    FROM  `nbcu-ds-prod-001.PeacockDataMartSilver.SILVER_MPARTICLE_BRAZE`\n",
    "    WHERE event_name = 'Email Deliveries' \n",
    "    AND event_date BETWEEN @report_start_date and @report_end_date\n",
    "    AND LOWER(campaign_name) NOT LIKE 'transactional%' -- Exclude transactional emails\n",
    ")"
   ]
  },
  {
   "cell_type": "code",
   "execution_count": 7,
   "metadata": {
    "vscode": {
     "languageId": "sql"
    }
   },
   "outputs": [
    {
     "data": {
      "application/vnd.jupyter.widget-view+json": {
       "model_id": "111d6187740044ce818a8a452e267e7d",
       "version_major": 2,
       "version_minor": 0
      },
      "text/plain": [
       "Query is running:   0%|          |"
      ]
     },
     "metadata": {},
     "output_type": "display_data"
    },
    {
     "data": {
      "text/html": [
       "<div>\n",
       "<style scoped>\n",
       "    .dataframe tbody tr th:only-of-type {\n",
       "        vertical-align: middle;\n",
       "    }\n",
       "\n",
       "    .dataframe tbody tr th {\n",
       "        vertical-align: top;\n",
       "    }\n",
       "\n",
       "    .dataframe thead th {\n",
       "        text-align: right;\n",
       "    }\n",
       "</style>\n",
       "<table border=\"1\" class=\"dataframe\">\n",
       "  <thead>\n",
       "    <tr style=\"text-align: right;\">\n",
       "      <th></th>\n",
       "    </tr>\n",
       "  </thead>\n",
       "  <tbody>\n",
       "  </tbody>\n",
       "</table>\n",
       "</div>"
      ],
      "text/plain": [
       "Empty DataFrame\n",
       "Columns: []\n",
       "Index: []"
      ]
     },
     "execution_count": 7,
     "metadata": {},
     "output_type": "execute_result"
    }
   ],
   "source": [
    "%%bigquery --project nbcu-ds-sandbox-a-001 --params $params\n",
    "CREATE OR REPLACE TABLE `nbcu-ds-sandbox-a-001.SLi_sandbox.Email_Holdout_v4_Oct22_test` AS ( \n",
    "    SELECT  DISTINCT holdout.adobe_tracking_id\n",
    "    FROM\n",
    "    (\n",
    "        SELECT  DISTINCT TrackingId AS adobe_tracking_id\n",
    "        FROM `nbcu-ds-prod-001.PeacockDataMartMarketingGold.HOLDOUT_GROUP`\n",
    "        WHERE cohort = format_timestamp('%B%Y', DATETIME_TRUNC(@report_start_date, QUARTER)) -- get cohort name as month of quarter start + year\n",
    "        AND Hold_Out_Type_Current = 'Owned Email Holdout'\n",
    "        AND DATE(TIMESTAMP(RegistrationDate), 'America/New_York') <= @report_end_date\n",
    "    ) holdout\n",
    "    -- Exclude those who are assigned to Email Holdout but actually received emails in holdout period\n",
    "    LEFT JOIN (\n",
    "        SELECT DISTINCT adobe_tracking_id \n",
    "        FROM  `nbcu-ds-prod-001.PeacockDataMartSilver.SILVER_MPARTICLE_BRAZE`\n",
    "        WHERE event_name = 'Email Deliveries' \n",
    "        AND event_date BETWEEN DATETIME_TRUNC(@report_start_date, QUARTER) and @report_end_date\n",
    "        AND LOWER(campaign_name) NOT LIKE 'transactional%' -- Exclude transactional emails\n",
    "    ) received\n",
    "    ON holdout.adobe_tracking_id = received.adobe_tracking_id\n",
    "    WHERE received.adobe_tracking_id IS NULL\n",
    ")"
   ]
  },
  {
   "cell_type": "code",
   "execution_count": 8,
   "metadata": {
    "vscode": {
     "languageId": "sql"
    }
   },
   "outputs": [
    {
     "data": {
      "application/vnd.jupyter.widget-view+json": {
       "model_id": "785145da5dc54e928f9f466a502be6cf",
       "version_major": 2,
       "version_minor": 0
      },
      "text/plain": [
       "Query is running:   0%|          |"
      ]
     },
     "metadata": {},
     "output_type": "display_data"
    },
    {
     "data": {
      "text/html": [
       "<div>\n",
       "<style scoped>\n",
       "    .dataframe tbody tr th:only-of-type {\n",
       "        vertical-align: middle;\n",
       "    }\n",
       "\n",
       "    .dataframe tbody tr th {\n",
       "        vertical-align: top;\n",
       "    }\n",
       "\n",
       "    .dataframe thead th {\n",
       "        text-align: right;\n",
       "    }\n",
       "</style>\n",
       "<table border=\"1\" class=\"dataframe\">\n",
       "  <thead>\n",
       "    <tr style=\"text-align: right;\">\n",
       "      <th></th>\n",
       "    </tr>\n",
       "  </thead>\n",
       "  <tbody>\n",
       "  </tbody>\n",
       "</table>\n",
       "</div>"
      ],
      "text/plain": [
       "Empty DataFrame\n",
       "Columns: []\n",
       "Index: []"
      ]
     },
     "execution_count": 8,
     "metadata": {},
     "output_type": "execute_result"
    }
   ],
   "source": [
    "%%bigquery --project nbcu-ds-sandbox-a-001 --params $params\n",
    "CREATE OR REPLACE TABLE `nbcu-ds-sandbox-a-001.SLi_sandbox.Email_Channel_Qualifier_v4_Oct22_test` AS \n",
    "\n",
    "-- Engagement: Deliveries 4 months before start of the holdout period, defined as start of quarter\n",
    "SELECT DISTINCT adobe_tracking_id AS aid \n",
    "FROM  `nbcu-ds-prod-001.PeacockDataMartSilver.SILVER_MPARTICLE_BRAZE`\n",
    "WHERE event_name = 'Email Deliveries'\n",
    "AND event_date BETWEEN DATE_SUB(DATETIME_TRUNC(@report_start_date, QUARTER), INTERVAL 4 MONTH) AND @report_end_date\n",
    "AND lower(campaign_name) NOT LIKE 'transactional%' -- Exclude transactional emails\n",
    "\n",
    "UNION ALL\n",
    "\n",
    "-- New users joining after 4 months before start of the cohort period\n",
    "SELECT DISTINCT adobe_tracking_id AS aid\n",
    "FROM `nbcu-ds-prod-001.PeacockDataMartSilver.SILVER_USER`\n",
    "WHERE registration_date BETWEEN DATE_SUB(DATETIME_TRUNC(@report_start_date, QUARTER), INTERVAL 4 MONTH) AND @report_end_date"
   ]
  },
  {
   "cell_type": "markdown",
   "metadata": {},
   "source": [
    "### Output Base Tables"
   ]
  },
  {
   "cell_type": "code",
   "execution_count": 9,
   "metadata": {
    "vscode": {
     "languageId": "sql"
    }
   },
   "outputs": [
    {
     "data": {
      "application/vnd.jupyter.widget-view+json": {
       "model_id": "f079e11428a340069acf436383b2ced7",
       "version_major": 2,
       "version_minor": 0
      },
      "text/plain": [
       "Query is running:   0%|          |"
      ]
     },
     "metadata": {},
     "output_type": "display_data"
    },
    {
     "data": {
      "text/html": [
       "<div>\n",
       "<style scoped>\n",
       "    .dataframe tbody tr th:only-of-type {\n",
       "        vertical-align: middle;\n",
       "    }\n",
       "\n",
       "    .dataframe tbody tr th {\n",
       "        vertical-align: top;\n",
       "    }\n",
       "\n",
       "    .dataframe thead th {\n",
       "        text-align: right;\n",
       "    }\n",
       "</style>\n",
       "<table border=\"1\" class=\"dataframe\">\n",
       "  <thead>\n",
       "    <tr style=\"text-align: right;\">\n",
       "      <th></th>\n",
       "    </tr>\n",
       "  </thead>\n",
       "  <tbody>\n",
       "  </tbody>\n",
       "</table>\n",
       "</div>"
      ],
      "text/plain": [
       "Empty DataFrame\n",
       "Columns: []\n",
       "Index: []"
      ]
     },
     "execution_count": 9,
     "metadata": {},
     "output_type": "execute_result"
    }
   ],
   "source": [
    "%%bigquery --project nbcu-ds-sandbox-a-001 --params $params\n",
    "CREATE OR REPLACE TABLE `nbcu-ds-sandbox-a-001.SLi_sandbox.Email_Measurement_Audience_v4_Oct22_test` AS\n",
    "\n",
    "SELECT  distinct delivered_and_holdout.adobe_tracking_id AS aid\n",
    "       ,cohort\n",
    "       ,user.account_type\n",
    "       ,user.account_tenure\n",
    "FROM (\n",
    "    SELECT *, 'Email_Targeted' as cohort from `nbcu-ds-sandbox-a-001.SLi_sandbox.Email_Delivered_v4_Oct22_test`\n",
    "    UNION ALL\n",
    "    SELECT *, 'Holdout' as cohort from `nbcu-ds-sandbox-a-001.SLi_sandbox.Email_Holdout_v4_Oct22_test`\n",
    ") delivered_and_holdout\n",
    "\n",
    "-- Include only those who received email in the current reporting period or are in holdout\n",
    "INNER JOIN `nbcu-ds-sandbox-a-001.SLi_sandbox.Email_Channel_Qualifier_v4_Oct22_test` qualified\n",
    "ON delivered_and_holdout.adobe_tracking_id = qualified.aid\n",
    "\n",
    "-- for after 2021/july, email channel only, take out all abandon MAAs\n",
    "INNER JOIN\n",
    "    (\n",
    "        SELECT  DISTINCT adobe_tracking_id\n",
    "        FROM `nbcu-ds-prod-001.PeacockDataMartSilver.SILVER_PRIMARY_DEVICES`\n",
    "        WHERE report_date = @report_end_date\n",
    "        AND date_of_last_view IS NOT NULL\n",
    "    ) abandon_maa\n",
    "ON delivered_and_holdout.adobe_tracking_id = abandon_maa.adobe_tracking_id\n",
    "\n",
    "--add attribute: account_type at the end of the reporting period\n",
    "INNER JOIN\n",
    "    (\n",
    "        SELECT  DISTINCT adobe_tracking_id\n",
    "            ,account_type\n",
    "            ,account_tenure\n",
    "        FROM `nbcu-ds-prod-001.PeacockDataMartSilver.SILVER_USER`\n",
    "        WHERE report_date = @report_end_date \n",
    "    ) user\n",
    "ON delivered_and_holdout.adobe_tracking_id = user.adobe_tracking_id\n",
    "\n",
    "-- exclude unsubscribed\n",
    "LEFT JOIN `nbcu-ds-sandbox-a-001.SLi_sandbox.Email_Unsubs_v4_Oct22_test` email_unsubs\n",
    "ON delivered_and_holdout.adobe_tracking_id = email_unsubs.adobe_tracking_id\n",
    "WHERE email_unsubs.adobe_tracking_id IS NULL"
   ]
  },
  {
   "attachments": {},
   "cell_type": "markdown",
   "metadata": {},
   "source": [
    "### Audience total size"
   ]
  },
  {
   "cell_type": "code",
   "execution_count": 19,
   "metadata": {
    "vscode": {
     "languageId": "sql"
    }
   },
   "outputs": [
    {
     "data": {
      "application/vnd.jupyter.widget-view+json": {
       "model_id": "4e01f12ea5754ac2a1199e5bce35f26a",
       "version_major": 2,
       "version_minor": 0
      },
      "text/plain": [
       "Query is running:   0%|          |"
      ]
     },
     "metadata": {},
     "output_type": "display_data"
    },
    {
     "data": {
      "application/vnd.jupyter.widget-view+json": {
       "model_id": "1648f6c691fe4044946b73ff521809f1",
       "version_major": 2,
       "version_minor": 0
      },
      "text/plain": [
       "Downloading:   0%|          |"
      ]
     },
     "metadata": {},
     "output_type": "display_data"
    },
    {
     "data": {
      "text/html": [
       "<div>\n",
       "<style scoped>\n",
       "    .dataframe tbody tr th:only-of-type {\n",
       "        vertical-align: middle;\n",
       "    }\n",
       "\n",
       "    .dataframe tbody tr th {\n",
       "        vertical-align: top;\n",
       "    }\n",
       "\n",
       "    .dataframe thead th {\n",
       "        text-align: right;\n",
       "    }\n",
       "</style>\n",
       "<table border=\"1\" class=\"dataframe\">\n",
       "  <thead>\n",
       "    <tr style=\"text-align: right;\">\n",
       "      <th></th>\n",
       "      <th>cohort</th>\n",
       "      <th>f0_</th>\n",
       "    </tr>\n",
       "  </thead>\n",
       "  <tbody>\n",
       "    <tr>\n",
       "      <th>0</th>\n",
       "      <td>Email_Targeted</td>\n",
       "      <td>40298993</td>\n",
       "    </tr>\n",
       "    <tr>\n",
       "      <th>1</th>\n",
       "      <td>Holdout</td>\n",
       "      <td>2018322</td>\n",
       "    </tr>\n",
       "  </tbody>\n",
       "</table>\n",
       "</div>"
      ],
      "text/plain": [
       "           cohort       f0_\n",
       "0  Email_Targeted  40298993\n",
       "1         Holdout   2018322"
      ]
     },
     "execution_count": 19,
     "metadata": {},
     "output_type": "execute_result"
    }
   ],
   "source": [
    "%%bigquery --project nbcu-ds-sandbox-a-001 --params $params\n",
    "SELECT cohort, count(distinct aid) from `nbcu-ds-sandbox-a-001.SLi_sandbox.Email_Measurement_Audience_v4_Oct22_test` group by 1"
   ]
  },
  {
   "cell_type": "code",
   "execution_count": 40,
   "metadata": {
    "vscode": {
     "languageId": "sql"
    }
   },
   "outputs": [
    {
     "data": {
      "application/vnd.jupyter.widget-view+json": {
       "model_id": "2f2a7bf9488641c985842e029057aaac",
       "version_major": 2,
       "version_minor": 0
      },
      "text/plain": [
       "Query is running:   0%|          |"
      ]
     },
     "metadata": {},
     "output_type": "display_data"
    },
    {
     "data": {
      "application/vnd.jupyter.widget-view+json": {
       "model_id": "15e5c7706f664983a3068217935c5652",
       "version_major": 2,
       "version_minor": 0
      },
      "text/plain": [
       "Downloading:   0%|          |"
      ]
     },
     "metadata": {},
     "output_type": "display_data"
    },
    {
     "data": {
      "text/html": [
       "<div>\n",
       "<style scoped>\n",
       "    .dataframe tbody tr th:only-of-type {\n",
       "        vertical-align: middle;\n",
       "    }\n",
       "\n",
       "    .dataframe tbody tr th {\n",
       "        vertical-align: top;\n",
       "    }\n",
       "\n",
       "    .dataframe thead th {\n",
       "        text-align: right;\n",
       "    }\n",
       "</style>\n",
       "<table border=\"1\" class=\"dataframe\">\n",
       "  <thead>\n",
       "    <tr style=\"text-align: right;\">\n",
       "      <th></th>\n",
       "      <th>cohort</th>\n",
       "      <th>EOM_Paid_Churn_Denom_Targeted</th>\n",
       "      <th>EOM_Paid_Churn_Num_Targeted</th>\n",
       "      <th>churn_rate</th>\n",
       "    </tr>\n",
       "  </thead>\n",
       "  <tbody>\n",
       "    <tr>\n",
       "      <th>0</th>\n",
       "      <td>Email_Targeted</td>\n",
       "      <td>10233978</td>\n",
       "      <td>595538</td>\n",
       "      <td>0.058192</td>\n",
       "    </tr>\n",
       "    <tr>\n",
       "      <th>1</th>\n",
       "      <td>Holdout</td>\n",
       "      <td>435022</td>\n",
       "      <td>26846</td>\n",
       "      <td>0.061712</td>\n",
       "    </tr>\n",
       "  </tbody>\n",
       "</table>\n",
       "</div>"
      ],
      "text/plain": [
       "           cohort  EOM_Paid_Churn_Denom_Targeted  EOM_Paid_Churn_Num_Targeted  \\\n",
       "0  Email_Targeted                       10233978                       595538   \n",
       "1         Holdout                         435022                        26846   \n",
       "\n",
       "   churn_rate  \n",
       "0    0.058192  \n",
       "1    0.061712  "
      ]
     },
     "execution_count": 40,
     "metadata": {},
     "output_type": "execute_result"
    }
   ],
   "source": [
    "%%bigquery --project nbcu-ds-sandbox-a-001 --params $params\n",
    "WITH \n",
    "base as (\n",
    "    SELECT aid, cohort, paying_account_flag, billing_cycle\n",
    "    from `nbcu-ds-sandbox-a-001.SLi_sandbox.Email_Measurement_Audience_v4_Oct22_test` a\n",
    "    --add attribute: account_type at the end of the reporting period\n",
    "    INNER JOIN\n",
    "        (\n",
    "            SELECT  DISTINCT adobe_tracking_id\n",
    "                ,paying_account_flag\n",
    "                ,billing_cycle\n",
    "            FROM `nbcu-ds-prod-001.PeacockDataMartSilver.SILVER_USER`\n",
    "            WHERE report_date = @report_end_date \n",
    "        ) user\n",
    "    ON a.aid = user.adobe_tracking_id\n",
    ")\n",
    ", EOM_Paid_Churn_Denom AS (\n",
    "    SELECT  distinct adobe_tracking_id\n",
    "    FROM `nbcu-ds-prod-001.PeacockDataMartSilver.SILVER_CHURN`\n",
    "    WHERE base_date = @report_end_date -- churn date would be on 11-30\n",
    "    AND entitlement = 'Paid'\n",
    ")\n",
    ", EOM_Paid_Churn_Num AS (\n",
    "    SELECT  distinct adobe_tracking_id\n",
    "    FROM `nbcu-ds-prod-001.PeacockDataMartSilver.SILVER_CHURN`\n",
    "    WHERE base_date = @report_end_date\n",
    "    AND entitlement = 'Paid'\n",
    "    AND Churn_flag = 'Churn'\n",
    ")\n",
    ", cte1 as (\n",
    "    SELECT cohort\n",
    "        ,aid\n",
    "        ,EOM_Paid_Churn_Denom.adobe_tracking_id  AS Churn_Denom\n",
    "        ,EOM_Paid_Churn_Num.adobe_tracking_id    AS Churn_Num\n",
    "    FROM base a\n",
    "    LEFT JOIN EOM_Paid_Churn_Denom\n",
    "        on a.aid = EOM_Paid_Churn_Denom.adobe_tracking_id\n",
    "    LEFT JOIN EOM_Paid_Churn_Num\n",
    "        on EOM_Paid_Churn_Denom.adobe_tracking_id = EOM_Paid_Churn_Num.adobe_tracking_id\n",
    "    WHERE paying_account_flag = 'Paying'\n",
    "    --and billing_cycle = 'MONTHLY'\n",
    ")\n",
    ", cte2 as (\n",
    "    SELECT cohort\n",
    "        ,COUNT(distinct Churn_Denom )   AS EOM_Paid_Churn_Denom_Targeted\n",
    "        ,COUNT(distinct Churn_Num )     AS EOM_Paid_Churn_Num_Targeted\n",
    "    FROM cte1\n",
    "    group by 1\n",
    ")\n",
    "SELECT  cohort\n",
    "       ,EOM_Paid_Churn_Denom_Targeted\n",
    "       ,EOM_Paid_Churn_Num_Targeted\n",
    "       ,safe_divide(EOM_Paid_Churn_Num_Targeted,EOM_Paid_Churn_Denom_Targeted) AS churn_rate\n",
    "FROM cte2"
   ]
  },
  {
   "attachments": {},
   "cell_type": "markdown",
   "metadata": {},
   "source": [
    "Churn metrics channel version results"
   ]
  },
  {
   "attachments": {},
   "cell_type": "markdown",
   "metadata": {},
   "source": [
    "# Wes version"
   ]
  },
  {
   "cell_type": "code",
   "execution_count": 13,
   "metadata": {
    "vscode": {
     "languageId": "sql"
    }
   },
   "outputs": [
    {
     "data": {
      "application/vnd.jupyter.widget-view+json": {
       "model_id": "47acd58be8f04dc9bac3b43c04d62323",
       "version_major": 2,
       "version_minor": 0
      },
      "text/plain": [
       "Query is running:   0%|          |"
      ]
     },
     "metadata": {},
     "output_type": "display_data"
    },
    {
     "data": {
      "text/html": [
       "<div>\n",
       "<style scoped>\n",
       "    .dataframe tbody tr th:only-of-type {\n",
       "        vertical-align: middle;\n",
       "    }\n",
       "\n",
       "    .dataframe tbody tr th {\n",
       "        vertical-align: top;\n",
       "    }\n",
       "\n",
       "    .dataframe thead th {\n",
       "        text-align: right;\n",
       "    }\n",
       "</style>\n",
       "<table border=\"1\" class=\"dataframe\">\n",
       "  <thead>\n",
       "    <tr style=\"text-align: right;\">\n",
       "      <th></th>\n",
       "    </tr>\n",
       "  </thead>\n",
       "  <tbody>\n",
       "  </tbody>\n",
       "</table>\n",
       "</div>"
      ],
      "text/plain": [
       "Empty DataFrame\n",
       "Columns: []\n",
       "Index: []"
      ]
     },
     "execution_count": 13,
     "metadata": {},
     "output_type": "execute_result"
    }
   ],
   "source": [
    "%%bigquery --project nbcu-ds-sandbox-a-001 --params $params\n",
    "\n",
    "CREATE OR REPLACE TABLE `nbcu-ds-sandbox-a-001.SLi_sandbox.churn_oct22_wes` AS\n",
    "\n",
    "WITH EmailDeliveryStatus AS (\n",
    "    SELECT  distinct @report_start_date Month_Year\n",
    "        ,adobe_tracking_id aid\n",
    "        ,event_name\n",
    "    FROM `nbcu-ds-prod-001.PeacockDataMartSilver.SILVER_MPARTICLE_BRAZE`\n",
    "    WHERE date(eventTimestamp) BETWEEN @report_start_date AND @report_end_date\n",
    "    AND event_name in('Email Deliveries')\n",
    "    AND lower(campaign_name) not like '%transactional%' -- remove transactional emails \n",
    "    UNION ALL\n",
    "    SELECT  distinct @report_start_date Month_Year\n",
    "        ,adobe_tracking_id aid\n",
    "        ,event_name -- identify if the last action a sub took was to unsubscribe\n",
    "    FROM `nbcu-ds-prod-001.PeacockDataMartSilver.SILVER_MPARTICLE_BRAZE`\n",
    "    WHERE date(eventTimestamp) < @report_end_date\n",
    "    AND event_name in('Email Unsubscribes') \n",
    ")\n",
    "SELECT  @report_start_date Month_Year\n",
    "       ,l.aid\n",
    "       ,l.billing_platform\n",
    "       ,l.billing_cycle\n",
    "       ,tenure_paid_lens\n",
    "       ,CASE WHEN abandoned_ids is not null THEN \"x\"  ELSE null END abandoned_flag\n",
    "       ,marketing_status.category\n",
    "       ,CASE WHEN l.billing_platform = 'NBCU' THEN 'Direct'  ELSE 'IAP' END grouped_billing_platform\n",
    "       ,CASE WHEN l.paying_account_flag != r.paying_account_flag THEN 'Downgrade'  ELSE 'No Change' END change_flag\n",
    "       ,CASE WHEN l.voucher_partner is null THEN \"Not On Voucher\"  ELSE \"On Voucher\" END voucher_flag\n",
    "       ,CASE WHEN ho.aid is not null THEN \"Holdout\"\n",
    "             WHEN ho1.hid is not null THEN \"Exclude\"\n",
    "             WHEN l.aid is not null THEN 'Targetable' END Audience\n",
    "FROM\n",
    "(\n",
    "\tSELECT  adobe_tracking_id aid\n",
    "\t       ,household_id hid\n",
    "\t       ,billing_platform\n",
    "\t       ,paying_account_flag\n",
    "\t       ,billing_cycle\n",
    "\t       ,tenure_paid_lens\n",
    "\t       ,voucher_partner\n",
    "\tFROM `nbcu-ds-prod-001.PeacockDataMartSilver.SILVER_USER`\n",
    "\tWHERE report_date = @report_end_date\n",
    "\tAND paying_account_flag = 'Paying' \n",
    ") l\n",
    "\n",
    "-- retrieve abandoned maas\n",
    "LEFT JOIN\n",
    "(\n",
    "\tSELECT  adobe_tracking_id abandoned_ids\n",
    "\tFROM `nbcu-ds-prod-001.PeacockDataMartSilver.SILVER_PRIMARY_DEVICES`\n",
    "\tWHERE report_date = @report_end_date\n",
    "\tAND date_of_last_view is null \n",
    ") a\n",
    "ON l.aid = a.abandoned_ids\n",
    "\n",
    "-- retrieve thier marketing status: where they are unsubscribed or received an email in the last 4 months\n",
    "LEFT JOIN\n",
    "(\n",
    "\tSELECT  aid\n",
    "\t       ,event_name category -- identify if the last action a sub took was to unsubscribe\n",
    "\tFROM EmailDeliveryStatus\n",
    "\tWHERE Month_Year = @report_start_date \n",
    ") marketing_status\n",
    "ON l.aid = marketing_status.aid\n",
    "\n",
    "-- retrieve status 1 month later\n",
    "LEFT JOIN\n",
    "(\n",
    "\tSELECT  adobe_tracking_id\n",
    "\t       ,billing_platform\n",
    "\t       ,paying_account_flag\n",
    "\tFROM `nbcu-ds-prod-001.PeacockDataMartSilver.SILVER_USER`\n",
    "\tWHERE report_date = '2022-11-30' \n",
    ") r\n",
    "ON l.aid = r.adobe_tracking_id\n",
    "\n",
    "-- retrieve members of holdout group\n",
    "LEFT JOIN\n",
    "(\n",
    "\tSELECT  aid\n",
    "\tFROM `nbcu-ds-sandbox-a-001.wes_crm_sandbox.Q42022_Holdout`\n",
    ") ho\n",
    "ON l.aid = ho.aid\n",
    "\n",
    "--retrieve the rest of the global hold out that doesnt fit holdout definition. exclude these users from the analysis\n",
    "LEFT JOIN\n",
    "(\n",
    "\tSELECT  HouseholdId hid\n",
    "\tFROM `nbcu-ds-prod-001.PeacockDataMartMarketingGold.HOLDOUT_GROUP`\n",
    "\tWHERE cohort = 'October2022'\n",
    "\tAND Hold_Out_Type_Current = 'Owned Email Holdout' -- Exclude those who are assigned to Email Holdout but actually received emails\n",
    "\tAND TrackingId not in(\n",
    "\tSELECT  aid\n",
    "\tFROM `nbcu-ds-sandbox-a-001.wes_crm_sandbox.Q42022_Holdout` )\n",
    ") ho1\n",
    "ON l.hid = ho1.hid\n"
   ]
  },
  {
   "cell_type": "code",
   "execution_count": 39,
   "metadata": {
    "vscode": {
     "languageId": "sql"
    }
   },
   "outputs": [
    {
     "data": {
      "application/vnd.jupyter.widget-view+json": {
       "model_id": "303086adfc354f8aa85ac1004a2d0829",
       "version_major": 2,
       "version_minor": 0
      },
      "text/plain": [
       "Query is running:   0%|          |"
      ]
     },
     "metadata": {},
     "output_type": "display_data"
    },
    {
     "data": {
      "application/vnd.jupyter.widget-view+json": {
       "model_id": "2739ed2be2e94a55b2fa1e7195116ecd",
       "version_major": 2,
       "version_minor": 0
      },
      "text/plain": [
       "Downloading:   0%|          |"
      ]
     },
     "metadata": {},
     "output_type": "display_data"
    },
    {
     "data": {
      "text/html": [
       "<div>\n",
       "<style scoped>\n",
       "    .dataframe tbody tr th:only-of-type {\n",
       "        vertical-align: middle;\n",
       "    }\n",
       "\n",
       "    .dataframe tbody tr th {\n",
       "        vertical-align: top;\n",
       "    }\n",
       "\n",
       "    .dataframe thead th {\n",
       "        text-align: right;\n",
       "    }\n",
       "</style>\n",
       "<table border=\"1\" class=\"dataframe\">\n",
       "  <thead>\n",
       "    <tr style=\"text-align: right;\">\n",
       "      <th></th>\n",
       "      <th>Month_Year</th>\n",
       "      <th>audience</th>\n",
       "      <th>paid_maas</th>\n",
       "      <th>churns</th>\n",
       "      <th>churn_rate</th>\n",
       "    </tr>\n",
       "  </thead>\n",
       "  <tbody>\n",
       "    <tr>\n",
       "      <th>0</th>\n",
       "      <td>2022-10-01</td>\n",
       "      <td>Targetable</td>\n",
       "      <td>16727799</td>\n",
       "      <td>1018284</td>\n",
       "      <td>0.060874</td>\n",
       "    </tr>\n",
       "    <tr>\n",
       "      <th>1</th>\n",
       "      <td>2022-10-01</td>\n",
       "      <td>Holdout</td>\n",
       "      <td>408121</td>\n",
       "      <td>23047</td>\n",
       "      <td>0.056471</td>\n",
       "    </tr>\n",
       "  </tbody>\n",
       "</table>\n",
       "</div>"
      ],
      "text/plain": [
       "   Month_Year    audience  paid_maas   churns  churn_rate\n",
       "0  2022-10-01  Targetable   16727799  1018284    0.060874\n",
       "1  2022-10-01     Holdout     408121    23047    0.056471"
      ]
     },
     "execution_count": 39,
     "metadata": {},
     "output_type": "execute_result"
    }
   ],
   "source": [
    "%%bigquery --project nbcu-ds-sandbox-a-001 --params $params\n",
    "SELECT  Month_Year\n",
    "       ,audience\n",
    "       ,COUNT(distinct aid) paid_maas\n",
    "       ,COUNT(distinct CASE WHEN change_flag = 'Downgrade' THEN aid else null end) churns\n",
    "       ,COUNT(distinct CASE WHEN change_flag = 'Downgrade' THEN aid else null end) / COUNT(distinct aid) as churn_rate\n",
    "FROM `nbcu-ds-sandbox-a-001.SLi_sandbox.churn_oct22_wes`\n",
    "WHERE audience IN ('Targetable', 'Holdout')\n",
    "GROUP BY  1,2"
   ]
  },
  {
   "attachments": {},
   "cell_type": "markdown",
   "metadata": {},
   "source": [
    "## Difference Comparison"
   ]
  },
  {
   "cell_type": "code",
   "execution_count": null,
   "metadata": {
    "vscode": {
     "languageId": "sql"
    }
   },
   "outputs": [
    {
     "data": {
      "application/vnd.jupyter.widget-view+json": {
       "model_id": "1dcea26132c14d87b6de18eca26687eb",
       "version_major": 2,
       "version_minor": 0
      },
      "text/plain": [
       "Query is running:   0%|          |"
      ]
     },
     "metadata": {},
     "output_type": "display_data"
    },
    {
     "data": {
      "application/vnd.jupyter.widget-view+json": {
       "model_id": "d9c601dac65e45b49106d9a4de523396",
       "version_major": 2,
       "version_minor": 0
      },
      "text/plain": [
       "Downloading:   0%|          |"
      ]
     },
     "metadata": {},
     "output_type": "display_data"
    },
    {
     "data": {
      "text/html": [
       "<div>\n",
       "<style scoped>\n",
       "    .dataframe tbody tr th:only-of-type {\n",
       "        vertical-align: middle;\n",
       "    }\n",
       "\n",
       "    .dataframe tbody tr th {\n",
       "        vertical-align: top;\n",
       "    }\n",
       "\n",
       "    .dataframe thead th {\n",
       "        text-align: right;\n",
       "    }\n",
       "</style>\n",
       "<table border=\"1\" class=\"dataframe\">\n",
       "  <thead>\n",
       "    <tr style=\"text-align: right;\">\n",
       "      <th></th>\n",
       "      <th>f0_</th>\n",
       "    </tr>\n",
       "  </thead>\n",
       "  <tbody>\n",
       "    <tr>\n",
       "      <th>0</th>\n",
       "      <td>2755643</td>\n",
       "    </tr>\n",
       "  </tbody>\n",
       "</table>\n",
       "</div>"
      ],
      "text/plain": [
       "       f0_\n",
       "0  2755643"
      ]
     },
     "metadata": {},
     "output_type": "display_data"
    }
   ],
   "source": [
    "%%bigquery --project nbcu-ds-sandbox-a-001 --params $params\n",
    "select count(adobe_tracking_id) \n",
    "from `nbcu-ds-sandbox-a-001.SLi_sandbox.Email_Holdout_v4_Oct22_test` a\n",
    "join `nbcu-ds-sandbox-a-001.SLi_sandbox.Email_Channel_Qualifier_v4_Oct22_test` b\n",
    "on a.adobe_tracking_id = b.aid"
   ]
  },
  {
   "cell_type": "code",
   "execution_count": null,
   "metadata": {
    "vscode": {
     "languageId": "sql"
    }
   },
   "outputs": [
    {
     "data": {
      "application/vnd.jupyter.widget-view+json": {
       "model_id": "46edef5d41df47b4986dd06230f9252c",
       "version_major": 2,
       "version_minor": 0
      },
      "text/plain": [
       "Query is running:   0%|          |"
      ]
     },
     "metadata": {},
     "output_type": "display_data"
    },
    {
     "data": {
      "application/vnd.jupyter.widget-view+json": {
       "model_id": "d1c5ac06cdac431ba0cf9cf7ee18df4e",
       "version_major": 2,
       "version_minor": 0
      },
      "text/plain": [
       "Downloading:   0%|          |"
      ]
     },
     "metadata": {},
     "output_type": "display_data"
    },
    {
     "data": {
      "text/html": [
       "<div>\n",
       "<style scoped>\n",
       "    .dataframe tbody tr th:only-of-type {\n",
       "        vertical-align: middle;\n",
       "    }\n",
       "\n",
       "    .dataframe tbody tr th {\n",
       "        vertical-align: top;\n",
       "    }\n",
       "\n",
       "    .dataframe thead th {\n",
       "        text-align: right;\n",
       "    }\n",
       "</style>\n",
       "<table border=\"1\" class=\"dataframe\">\n",
       "  <thead>\n",
       "    <tr style=\"text-align: right;\">\n",
       "      <th></th>\n",
       "      <th>f0_</th>\n",
       "    </tr>\n",
       "  </thead>\n",
       "  <tbody>\n",
       "    <tr>\n",
       "      <th>0</th>\n",
       "      <td>1962559</td>\n",
       "    </tr>\n",
       "  </tbody>\n",
       "</table>\n",
       "</div>"
      ],
      "text/plain": [
       "       f0_\n",
       "0  1962559"
      ]
     },
     "metadata": {},
     "output_type": "display_data"
    }
   ],
   "source": [
    "%%bigquery --project nbcu-ds-sandbox-a-001 --params $params\n",
    "select count(aid) from `nbcu-ds-sandbox-a-001.wes_crm_sandbox.Q42022_Holdout`"
   ]
  },
  {
   "attachments": {},
   "cell_type": "markdown",
   "metadata": {},
   "source": [
    "## Edited version"
   ]
  },
  {
   "cell_type": "code",
   "execution_count": 69,
   "metadata": {
    "vscode": {
     "languageId": "sql"
    }
   },
   "outputs": [
    {
     "data": {
      "application/vnd.jupyter.widget-view+json": {
       "model_id": "eb933e4d518542168a152a651812ac04",
       "version_major": 2,
       "version_minor": 0
      },
      "text/plain": [
       "Query is running:   0%|          |"
      ]
     },
     "metadata": {},
     "output_type": "display_data"
    },
    {
     "data": {
      "text/html": [
       "<div>\n",
       "<style scoped>\n",
       "    .dataframe tbody tr th:only-of-type {\n",
       "        vertical-align: middle;\n",
       "    }\n",
       "\n",
       "    .dataframe tbody tr th {\n",
       "        vertical-align: top;\n",
       "    }\n",
       "\n",
       "    .dataframe thead th {\n",
       "        text-align: right;\n",
       "    }\n",
       "</style>\n",
       "<table border=\"1\" class=\"dataframe\">\n",
       "  <thead>\n",
       "    <tr style=\"text-align: right;\">\n",
       "      <th></th>\n",
       "    </tr>\n",
       "  </thead>\n",
       "  <tbody>\n",
       "  </tbody>\n",
       "</table>\n",
       "</div>"
      ],
      "text/plain": [
       "Empty DataFrame\n",
       "Columns: []\n",
       "Index: []"
      ]
     },
     "execution_count": 69,
     "metadata": {},
     "output_type": "execute_result"
    }
   ],
   "source": [
    "%%bigquery --project nbcu-ds-sandbox-a-001 --params $params\n",
    "\n",
    "CREATE OR REPLACE TABLE `nbcu-ds-sandbox-a-001.SLi_sandbox.churn_oct22_wes_edit` AS\n",
    "\n",
    "WITH EmailDelivered AS (\n",
    "    SELECT  distinct @report_start_date Month_Year\n",
    "        ,adobe_tracking_id aid\n",
    "    FROM `nbcu-ds-sandbox-a-001.SLi_sandbox.Email_Delivered_v4_Oct22_test` a\n",
    "\tjoin `nbcu-ds-sandbox-a-001.SLi_sandbox.Email_Channel_Qualifier_v4_Oct22_test` b\n",
    "\ton a.adobe_tracking_id = b.aid\n",
    ")\n",
    "SELECT  @report_start_date Month_Year\n",
    "       ,l.aid\n",
    "       ,l.billing_platform\n",
    "       ,l.billing_cycle\n",
    "       ,tenure_paid_lens\n",
    "\t   ,CASE WHEN EmailDelivered.aid is not null then 'x' else null end as delivered_flag\n",
    "       ,CASE WHEN abandoned_ids is not null THEN \"x\"  ELSE null END abandoned_flag\n",
    "       ,case when unsub_status.aid is not null then 'x' else null end as unsub_flag\n",
    "       ,CASE WHEN l.billing_platform = 'NBCU' THEN 'Direct'  ELSE 'IAP' END grouped_billing_platform\n",
    "       ,CASE WHEN l.paying_account_flag != r.paying_account_flag THEN 'Downgrade'  ELSE 'No Change' END change_flag\n",
    "       ,CASE WHEN l.voucher_partner is null THEN \"Not On Voucher\"  ELSE \"On Voucher\" END voucher_flag\n",
    "       ,CASE WHEN ho.aid is not null THEN \"Holdout\"\n",
    "             WHEN ho1.hid is not null THEN \"Exclude\"\n",
    "             WHEN l.aid is not null THEN 'Targetable' END Audience\n",
    "FROM\n",
    "(\n",
    "\tSELECT  adobe_tracking_id aid\n",
    "\t       ,household_id hid\n",
    "\t       ,billing_platform\n",
    "\t       ,paying_account_flag\n",
    "\t       ,billing_cycle\n",
    "\t       ,tenure_paid_lens\n",
    "\t       ,voucher_partner\n",
    "\tFROM `nbcu-ds-prod-001.PeacockDataMartSilver.SILVER_USER`\n",
    "\tWHERE report_date = @report_end_date\n",
    "\tAND paying_account_flag = 'Paying' \n",
    ") l\n",
    "\n",
    "LEFT JOIN EmailDelivered on l.aid = EmailDelivered.aid\n",
    "\n",
    "-- retrieve abandoned maas\n",
    "LEFT JOIN\n",
    "(\n",
    "\tSELECT  adobe_tracking_id abandoned_ids\n",
    "\tFROM `nbcu-ds-prod-001.PeacockDataMartSilver.SILVER_PRIMARY_DEVICES`\n",
    "\tWHERE report_date = @report_end_date\n",
    "\tAND date_of_last_view is null \n",
    ") a\n",
    "ON l.aid = a.abandoned_ids\n",
    "\n",
    "-- retrieve thier marketing status: where they are unsubscribed or received an email in the last 4 months\n",
    "LEFT JOIN\n",
    "(\n",
    "\tSELECT  distinct @report_start_date Month_Year\n",
    "        ,adobe_tracking_id aid\n",
    "        ,event_name -- identify if the last action a sub took was to unsubscribe\n",
    "    FROM `nbcu-ds-prod-001.PeacockDataMartSilver.SILVER_MPARTICLE_BRAZE`\n",
    "    WHERE date(eventTimestamp) < @report_end_date\n",
    "    AND event_name in('Email Unsubscribes') \n",
    ") unsub_status\n",
    "ON l.aid = unsub_status.aid\n",
    "\n",
    "-- retrieve status 1 month later\n",
    "LEFT JOIN\n",
    "(\n",
    "\tSELECT  adobe_tracking_id\n",
    "\t       ,billing_platform\n",
    "\t       ,paying_account_flag\n",
    "\tFROM `nbcu-ds-prod-001.PeacockDataMartSilver.SILVER_USER`\n",
    "\tWHERE report_date = '2022-11-30' \n",
    ") r\n",
    "ON l.aid = r.adobe_tracking_id\n",
    "\n",
    "-- retrieve members of holdout group\n",
    "LEFT JOIN\n",
    "(\n",
    "\tselect aid\n",
    "\tfrom `nbcu-ds-sandbox-a-001.SLi_sandbox.Email_Holdout_v4_Oct22_test` a\n",
    "\tjoin `nbcu-ds-sandbox-a-001.SLi_sandbox.Email_Channel_Qualifier_v4_Oct22_test` b\n",
    "\ton a.adobe_tracking_id = b.aid\n",
    ") ho\n",
    "ON l.aid = ho.aid\n",
    "\n",
    "--retrieve the rest of the global hold out that doesnt fit holdout definition. exclude these users from the analysis\n",
    "LEFT JOIN\n",
    "(\n",
    "\tSELECT  HouseholdId hid\n",
    "\tFROM `nbcu-ds-prod-001.PeacockDataMartMarketingGold.HOLDOUT_GROUP`\n",
    "\tWHERE cohort = 'October2022'\n",
    "\tAND Hold_Out_Type_Current = 'Owned Email Holdout' -- Exclude those who are assigned to Email Holdout but actually received emails\n",
    "\tAND TrackingId not in(\n",
    "\tSELECT  aid\n",
    "\tFROM `nbcu-ds-sandbox-a-001.wes_crm_sandbox.Q42022_Holdout` )\n",
    ") ho1\n",
    "ON l.hid = ho1.hid\n"
   ]
  },
  {
   "cell_type": "code",
   "execution_count": 72,
   "metadata": {
    "vscode": {
     "languageId": "sql"
    }
   },
   "outputs": [
    {
     "data": {
      "application/vnd.jupyter.widget-view+json": {
       "model_id": "a2bd02319e2f4227bacd32e0c4242fb1",
       "version_major": 2,
       "version_minor": 0
      },
      "text/plain": [
       "Query is running:   0%|          |"
      ]
     },
     "metadata": {},
     "output_type": "display_data"
    },
    {
     "data": {
      "application/vnd.jupyter.widget-view+json": {
       "model_id": "b4862f4b4791400c85b8e52e47930d54",
       "version_major": 2,
       "version_minor": 0
      },
      "text/plain": [
       "Downloading:   0%|          |"
      ]
     },
     "metadata": {},
     "output_type": "display_data"
    },
    {
     "data": {
      "text/html": [
       "<div>\n",
       "<style scoped>\n",
       "    .dataframe tbody tr th:only-of-type {\n",
       "        vertical-align: middle;\n",
       "    }\n",
       "\n",
       "    .dataframe tbody tr th {\n",
       "        vertical-align: top;\n",
       "    }\n",
       "\n",
       "    .dataframe thead th {\n",
       "        text-align: right;\n",
       "    }\n",
       "</style>\n",
       "<table border=\"1\" class=\"dataframe\">\n",
       "  <thead>\n",
       "    <tr style=\"text-align: right;\">\n",
       "      <th></th>\n",
       "      <th>Month_Year</th>\n",
       "      <th>audience</th>\n",
       "      <th>delivered_flag</th>\n",
       "      <th>denom</th>\n",
       "      <th>churn</th>\n",
       "      <th>churn_rate</th>\n",
       "    </tr>\n",
       "  </thead>\n",
       "  <tbody>\n",
       "    <tr>\n",
       "      <th>0</th>\n",
       "      <td>2022-10-01</td>\n",
       "      <td>Targetable</td>\n",
       "      <td>x</td>\n",
       "      <td>10233689</td>\n",
       "      <td>595557</td>\n",
       "      <td>0.058196</td>\n",
       "    </tr>\n",
       "    <tr>\n",
       "      <th>1</th>\n",
       "      <td>2022-10-01</td>\n",
       "      <td>Targetable</td>\n",
       "      <td>None</td>\n",
       "      <td>5118643</td>\n",
       "      <td>319520</td>\n",
       "      <td>0.062423</td>\n",
       "    </tr>\n",
       "    <tr>\n",
       "      <th>2</th>\n",
       "      <td>2022-10-01</td>\n",
       "      <td>Holdout</td>\n",
       "      <td>None</td>\n",
       "      <td>435031</td>\n",
       "      <td>26848</td>\n",
       "      <td>0.061715</td>\n",
       "    </tr>\n",
       "  </tbody>\n",
       "</table>\n",
       "</div>"
      ],
      "text/plain": [
       "   Month_Year    audience delivered_flag     denom   churn  churn_rate\n",
       "0  2022-10-01  Targetable              x  10233689  595557    0.058196\n",
       "1  2022-10-01  Targetable           None   5118643  319520    0.062423\n",
       "2  2022-10-01     Holdout           None    435031   26848    0.061715"
      ]
     },
     "execution_count": 72,
     "metadata": {},
     "output_type": "execute_result"
    }
   ],
   "source": [
    "%%bigquery --project nbcu-ds-sandbox-a-001 --params $params\n",
    "\n",
    "SELECT\n",
    "    Month_Year,\n",
    "    audience,\n",
    "    delivered_flag,\n",
    "    count(distinct aid) as denom,\n",
    "    count(distinct case when change_flag = 'Downgrade' then aid else null end) as churn,\n",
    "    count(distinct case when change_flag = 'Downgrade' then aid else null end) / count(distinct aid) as churn_rate\n",
    "FROM `nbcu-ds-sandbox-a-001.SLi_sandbox.churn_oct22_wes_edit`\n",
    "WHERE abandoned_flag is null\n",
    "AND unsub_flag is null\n",
    "--AND billing_cycle = 'MONTHLY'\n",
    "AND audience in ('Targetable', 'Holdout')\n",
    "group by 1,2,3"
   ]
  },
  {
   "cell_type": "markdown",
   "metadata": {},
   "source": [
    "Results"
   ]
  },
  {
   "attachments": {},
   "cell_type": "markdown",
   "metadata": {},
   "source": [
    "## Edit version 2"
   ]
  },
  {
   "cell_type": "code",
   "execution_count": 84,
   "metadata": {
    "vscode": {
     "languageId": "sql"
    }
   },
   "outputs": [
    {
     "data": {
      "application/vnd.jupyter.widget-view+json": {
       "model_id": "edfff042621f40e9aae7936b84dd002f",
       "version_major": 2,
       "version_minor": 0
      },
      "text/plain": [
       "Query is running:   0%|          |"
      ]
     },
     "metadata": {},
     "output_type": "display_data"
    },
    {
     "data": {
      "text/html": [
       "<div>\n",
       "<style scoped>\n",
       "    .dataframe tbody tr th:only-of-type {\n",
       "        vertical-align: middle;\n",
       "    }\n",
       "\n",
       "    .dataframe tbody tr th {\n",
       "        vertical-align: top;\n",
       "    }\n",
       "\n",
       "    .dataframe thead th {\n",
       "        text-align: right;\n",
       "    }\n",
       "</style>\n",
       "<table border=\"1\" class=\"dataframe\">\n",
       "  <thead>\n",
       "    <tr style=\"text-align: right;\">\n",
       "      <th></th>\n",
       "    </tr>\n",
       "  </thead>\n",
       "  <tbody>\n",
       "  </tbody>\n",
       "</table>\n",
       "</div>"
      ],
      "text/plain": [
       "Empty DataFrame\n",
       "Columns: []\n",
       "Index: []"
      ]
     },
     "execution_count": 84,
     "metadata": {},
     "output_type": "execute_result"
    }
   ],
   "source": [
    "%%bigquery --project nbcu-ds-sandbox-a-001 --params $params\n",
    "\n",
    "CREATE OR REPLACE TABLE `nbcu-ds-sandbox-a-001.SLi_sandbox.churn_oct22_wes_edit_v2` AS\n",
    "\n",
    "WITH EmailDeliveryStatus AS (\n",
    "    SELECT  distinct @report_start_date Month_Year\n",
    "        ,adobe_tracking_id aid\n",
    "        ,event_name\n",
    "    FROM `nbcu-ds-prod-001.PeacockDataMartSilver.SILVER_MPARTICLE_BRAZE`\n",
    "    WHERE date(eventTimestamp) BETWEEN @report_start_date AND @report_end_date\n",
    "    AND event_name in('Email Deliveries')\n",
    "    AND lower(campaign_name) not like '%transactional%' -- remove transactional emails \n",
    "    UNION ALL\n",
    "    SELECT  distinct @report_start_date Month_Year\n",
    "        ,adobe_tracking_id aid\n",
    "        ,event_name -- identify if the last action a sub took was to unsubscribe\n",
    "    FROM `nbcu-ds-prod-001.PeacockDataMartSilver.SILVER_MPARTICLE_BRAZE`\n",
    "    WHERE date(eventTimestamp) < @report_end_date\n",
    "    AND event_name in('Email Unsubscribes') \n",
    ")\n",
    ",Qualified as (\n",
    "\t-- Engagement: Deliveries 4 months before start of the holdout period, defined as start of quarter\n",
    "\tSELECT DISTINCT adobe_tracking_id AS aid \n",
    "\tFROM  `nbcu-ds-prod-001.PeacockDataMartSilver.SILVER_MPARTICLE_BRAZE`\n",
    "\tWHERE event_name = 'Email Deliveries'\n",
    "\tAND event_date BETWEEN DATE_SUB(DATETIME_TRUNC(@report_start_date, QUARTER), INTERVAL 4 MONTH) AND @report_end_date\n",
    "\tAND lower(campaign_name) NOT LIKE 'transactional%' -- Exclude transactional emails\n",
    "\n",
    "\tUNION ALL\n",
    "\n",
    "\t-- New users joining after 4 months before start of the cohort period\n",
    "\tSELECT DISTINCT adobe_tracking_id AS aid\n",
    "\tFROM `nbcu-ds-prod-001.PeacockDataMartSilver.SILVER_USER`\n",
    "\tWHERE registration_date BETWEEN DATE_SUB(DATETIME_TRUNC(@report_start_date, QUARTER), INTERVAL 4 MONTH) AND @report_end_date\n",
    ")\n",
    ",Holdout AS (\n",
    "\tSELECT  DISTINCT holdout.adobe_tracking_id\n",
    "    FROM\n",
    "    (\n",
    "        SELECT  DISTINCT TrackingId AS adobe_tracking_id\n",
    "        FROM `nbcu-ds-prod-001.PeacockDataMartMarketingGold.HOLDOUT_GROUP`\n",
    "        WHERE cohort = format_timestamp('%B%Y', DATETIME_TRUNC(@report_start_date, QUARTER)) -- get cohort name as month of quarter start + year\n",
    "        AND Hold_Out_Type_Current = 'Owned Email Holdout'\n",
    "        AND DATE(TIMESTAMP(RegistrationDate), 'America/New_York') <= @report_end_date\n",
    "    ) holdout\n",
    "    -- Exclude those who are assigned to Email Holdout but actually received emails in holdout period\n",
    "    LEFT JOIN (\n",
    "        SELECT DISTINCT adobe_tracking_id \n",
    "        FROM  `nbcu-ds-prod-001.PeacockDataMartSilver.SILVER_MPARTICLE_BRAZE`\n",
    "        WHERE event_name = 'Email Deliveries' \n",
    "        AND event_date BETWEEN DATETIME_TRUNC(@report_start_date, QUARTER) and @report_end_date\n",
    "        AND LOWER(campaign_name) NOT LIKE 'transactional%' -- Exclude transactional emails\n",
    "    ) received\n",
    "    ON holdout.adobe_tracking_id = received.adobe_tracking_id\n",
    "    WHERE received.adobe_tracking_id IS NULL\n",
    ")\n",
    "SELECT  @report_start_date Month_Year\n",
    "       ,l.aid\n",
    "       ,l.billing_platform\n",
    "       ,l.billing_cycle\n",
    "       ,tenure_paid_lens\n",
    "\t   ,CASE WHEN q.aid is not null then 'x' else null end as qualified_flag\n",
    "       ,CASE WHEN abandoned_ids is not null THEN \"x\"  ELSE null END abandoned_flag\n",
    "       ,marketing_status.category\n",
    "       ,CASE WHEN l.billing_platform = 'NBCU' THEN 'Direct'  ELSE 'IAP' END grouped_billing_platform\n",
    "       ,CASE WHEN l.paying_account_flag != r.paying_account_flag THEN 'Downgrade'  ELSE 'No Change' END change_flag\n",
    "       ,CASE WHEN l.voucher_partner is null THEN \"Not On Voucher\"  ELSE \"On Voucher\" END voucher_flag\n",
    "       ,CASE WHEN ho.aid is not null THEN \"Holdout\"\n",
    "             WHEN ho1.hid is not null THEN \"Exclude\"\n",
    "             WHEN l.aid is not null THEN 'Targetable' END Audience\n",
    "FROM\n",
    "(\n",
    "\tSELECT  adobe_tracking_id aid\n",
    "\t       ,household_id hid\n",
    "\t       ,billing_platform\n",
    "\t       ,paying_account_flag\n",
    "\t       ,billing_cycle\n",
    "\t       ,tenure_paid_lens\n",
    "\t       ,voucher_partner\n",
    "\tFROM `nbcu-ds-prod-001.PeacockDataMartSilver.SILVER_USER`\n",
    "\tWHERE report_date = @report_end_date\n",
    "\tAND paying_account_flag = 'Paying' \n",
    ") l\n",
    "\n",
    "LEFT JOIN Qualified q\n",
    "ON l.aid = q.aid\n",
    "\n",
    "-- retrieve abandoned maas\n",
    "LEFT JOIN\n",
    "(\n",
    "\tSELECT  adobe_tracking_id abandoned_ids\n",
    "\tFROM `nbcu-ds-prod-001.PeacockDataMartSilver.SILVER_PRIMARY_DEVICES`\n",
    "\tWHERE report_date = @report_end_date\n",
    "\tAND date_of_last_view is null \n",
    ") a\n",
    "ON l.aid = a.abandoned_ids\n",
    "\n",
    "-- retrieve thier marketing status: where they are unsubscribed or received an email in the last 4 months\n",
    "LEFT JOIN\n",
    "(\n",
    "\tSELECT  aid\n",
    "\t       ,event_name category -- identify if the last action a sub took was to unsubscribe\n",
    "\tFROM EmailDeliveryStatus\n",
    "\tWHERE Month_Year = @report_start_date \n",
    ") marketing_status\n",
    "ON l.aid = marketing_status.aid\n",
    "\n",
    "-- retrieve status 1 month later\n",
    "LEFT JOIN\n",
    "(\n",
    "\tSELECT  adobe_tracking_id\n",
    "\t       ,billing_platform\n",
    "\t       ,paying_account_flag\n",
    "\tFROM `nbcu-ds-prod-001.PeacockDataMartSilver.SILVER_USER`\n",
    "\tWHERE report_date = '2022-11-30' \n",
    ") r\n",
    "ON l.aid = r.adobe_tracking_id\n",
    "\n",
    "-- retrieve members of holdout group\n",
    "LEFT JOIN (\n",
    "\tselect aid \n",
    "\tfrom Holdout\n",
    "\tjoin Qualified\n",
    "\ton Holdout.adobe_tracking_id = Qualified.aid\n",
    ") ho\n",
    "ON l.aid = ho.aid\n",
    "\n",
    "--retrieve the rest of the global hold out that doesnt fit holdout definition. exclude these users from the analysis\n",
    "LEFT JOIN\n",
    "(\n",
    "\tSELECT  HouseholdId hid\n",
    "\tFROM `nbcu-ds-prod-001.PeacockDataMartMarketingGold.HOLDOUT_GROUP`\n",
    "\tWHERE cohort = 'October2022'\n",
    "\tAND Hold_Out_Type_Current = 'Owned Email Holdout' -- Exclude those who are assigned to Email Holdout but actually received emails\n",
    "\tAND TrackingId not in(\n",
    "\tSELECT  aid\n",
    "\tFROM `nbcu-ds-sandbox-a-001.wes_crm_sandbox.Q42022_Holdout` )\n",
    ") ho1\n",
    "ON l.hid = ho1.hid\n"
   ]
  },
  {
   "cell_type": "code",
   "execution_count": 85,
   "metadata": {
    "vscode": {
     "languageId": "sql"
    }
   },
   "outputs": [
    {
     "data": {
      "application/vnd.jupyter.widget-view+json": {
       "model_id": "5ff004158a10474b9b1815541fbfbd26",
       "version_major": 2,
       "version_minor": 0
      },
      "text/plain": [
       "Query is running:   0%|          |"
      ]
     },
     "metadata": {},
     "output_type": "display_data"
    },
    {
     "data": {
      "application/vnd.jupyter.widget-view+json": {
       "model_id": "3796e7e428984e11ae47834579b19e40",
       "version_major": 2,
       "version_minor": 0
      },
      "text/plain": [
       "Downloading:   0%|          |"
      ]
     },
     "metadata": {},
     "output_type": "display_data"
    },
    {
     "data": {
      "text/html": [
       "<div>\n",
       "<style scoped>\n",
       "    .dataframe tbody tr th:only-of-type {\n",
       "        vertical-align: middle;\n",
       "    }\n",
       "\n",
       "    .dataframe tbody tr th {\n",
       "        vertical-align: top;\n",
       "    }\n",
       "\n",
       "    .dataframe thead th {\n",
       "        text-align: right;\n",
       "    }\n",
       "</style>\n",
       "<table border=\"1\" class=\"dataframe\">\n",
       "  <thead>\n",
       "    <tr style=\"text-align: right;\">\n",
       "      <th></th>\n",
       "      <th>Month_Year</th>\n",
       "      <th>audience</th>\n",
       "      <th>denom</th>\n",
       "      <th>churn</th>\n",
       "      <th>churn_rate</th>\n",
       "    </tr>\n",
       "  </thead>\n",
       "  <tbody>\n",
       "    <tr>\n",
       "      <th>0</th>\n",
       "      <td>2022-10-01</td>\n",
       "      <td>Targetable</td>\n",
       "      <td>10284079</td>\n",
       "      <td>600910</td>\n",
       "      <td>0.058431</td>\n",
       "    </tr>\n",
       "    <tr>\n",
       "      <th>1</th>\n",
       "      <td>2022-10-01</td>\n",
       "      <td>Holdout</td>\n",
       "      <td>445370</td>\n",
       "      <td>27766</td>\n",
       "      <td>0.062344</td>\n",
       "    </tr>\n",
       "  </tbody>\n",
       "</table>\n",
       "</div>"
      ],
      "text/plain": [
       "   Month_Year    audience     denom   churn  churn_rate\n",
       "0  2022-10-01  Targetable  10284079  600910    0.058431\n",
       "1  2022-10-01     Holdout    445370   27766    0.062344"
      ]
     },
     "execution_count": 85,
     "metadata": {},
     "output_type": "execute_result"
    }
   ],
   "source": [
    "%%bigquery --project nbcu-ds-sandbox-a-001 --params $params\n",
    "\n",
    "SELECT\n",
    "    Month_Year,\n",
    "    audience,\n",
    "    count(distinct aid) as denom,\n",
    "    count(distinct case when change_flag = 'Downgrade' then aid else null end) as churn,\n",
    "    count(distinct case when change_flag = 'Downgrade' then aid else null end) / count(distinct aid) as churn_rate\n",
    "FROM `nbcu-ds-sandbox-a-001.SLi_sandbox.churn_oct22_wes_edit_v2`\n",
    "WHERE abandoned_flag is null\n",
    "AND category != 'Email Unsubscribes'\n",
    "--AND billing_cycle = 'MONTHLY'\n",
    "AND (audience = 'Targetable' and qualified_flag is not null) or (audience = 'Holdout')\n",
    "group by 1,2"
   ]
  },
  {
   "attachments": {},
   "cell_type": "markdown",
   "metadata": {},
   "source": [
    "results"
   ]
  }
 ],
 "metadata": {
  "kernelspec": {
   "display_name": "base",
   "language": "python",
   "name": "python3"
  },
  "language_info": {
   "codemirror_mode": {
    "name": "ipython",
    "version": 3
   },
   "file_extension": ".py",
   "mimetype": "text/x-python",
   "name": "python",
   "nbconvert_exporter": "python",
   "pygments_lexer": "ipython3",
   "version": "3.9.13"
  },
  "orig_nbformat": 4
 },
 "nbformat": 4,
 "nbformat_minor": 2
}
