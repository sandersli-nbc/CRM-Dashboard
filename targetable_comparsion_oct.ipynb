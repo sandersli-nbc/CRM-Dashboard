{
 "cells": [
  {
   "cell_type": "code",
   "execution_count": 2,
   "metadata": {
    "vscode": {
     "languageId": "sql"
    }
   },
   "outputs": [],
   "source": [
    "import pandas as pd\n",
    "import seaborn as sns\n",
    "\n",
    "%load_ext google.cloud.bigquery"
   ]
  },
  {
   "attachments": {},
   "cell_type": "markdown",
   "metadata": {},
   "source": [
    "# Channel KPI Version"
   ]
  },
  {
   "cell_type": "code",
   "execution_count": 4,
   "metadata": {
    "vscode": {
     "languageId": "sql"
    }
   },
   "outputs": [],
   "source": [
    "params = {\n",
    "    'report_start_date': '2022-10-01',\n",
    "    'report_end_date': '2022-10-31'\n",
    "}"
   ]
  },
  {
   "cell_type": "code",
   "execution_count": 232,
   "metadata": {
    "vscode": {
     "languageId": "sql"
    }
   },
   "outputs": [
    {
     "data": {
      "application/vnd.jupyter.widget-view+json": {
       "model_id": "e6ecf9a5b54b4610b1491abb2a1cf663",
       "version_major": 2,
       "version_minor": 0
      },
      "text/plain": [
       "Query is running:   0%|          |"
      ]
     },
     "metadata": {},
     "output_type": "display_data"
    },
    {
     "data": {
      "text/html": [
       "<div>\n",
       "<style scoped>\n",
       "    .dataframe tbody tr th:only-of-type {\n",
       "        vertical-align: middle;\n",
       "    }\n",
       "\n",
       "    .dataframe tbody tr th {\n",
       "        vertical-align: top;\n",
       "    }\n",
       "\n",
       "    .dataframe thead th {\n",
       "        text-align: right;\n",
       "    }\n",
       "</style>\n",
       "<table border=\"1\" class=\"dataframe\">\n",
       "  <thead>\n",
       "    <tr style=\"text-align: right;\">\n",
       "      <th></th>\n",
       "    </tr>\n",
       "  </thead>\n",
       "  <tbody>\n",
       "  </tbody>\n",
       "</table>\n",
       "</div>"
      ],
      "text/plain": [
       "Empty DataFrame\n",
       "Columns: []\n",
       "Index: []"
      ]
     },
     "execution_count": 232,
     "metadata": {},
     "output_type": "execute_result"
    }
   ],
   "source": [
    "%%bigquery --project nbcu-ds-sandbox-a-001 --params $params\n",
    "CREATE OR REPLACE TABLE `nbcu-ds-sandbox-a-001.SLi_sandbox.Email_Unsubs_v4_Oct22_test` AS (\n",
    "    SELECT DISTINCT adobe_tracking_id\n",
    "    FROM  `nbcu-ds-sandbox-a-001.SLi_sandbox.Email_Unsubs`\n",
    "    WHERE first_unsub_date <= @report_end_date\n",
    ")"
   ]
  },
  {
   "cell_type": "code",
   "execution_count": 233,
   "metadata": {
    "vscode": {
     "languageId": "sql"
    }
   },
   "outputs": [
    {
     "data": {
      "application/vnd.jupyter.widget-view+json": {
       "model_id": "0acc02af18ef4b8bbe03701b3e952fac",
       "version_major": 2,
       "version_minor": 0
      },
      "text/plain": [
       "Query is running:   0%|          |"
      ]
     },
     "metadata": {},
     "output_type": "display_data"
    },
    {
     "data": {
      "text/html": [
       "<div>\n",
       "<style scoped>\n",
       "    .dataframe tbody tr th:only-of-type {\n",
       "        vertical-align: middle;\n",
       "    }\n",
       "\n",
       "    .dataframe tbody tr th {\n",
       "        vertical-align: top;\n",
       "    }\n",
       "\n",
       "    .dataframe thead th {\n",
       "        text-align: right;\n",
       "    }\n",
       "</style>\n",
       "<table border=\"1\" class=\"dataframe\">\n",
       "  <thead>\n",
       "    <tr style=\"text-align: right;\">\n",
       "      <th></th>\n",
       "    </tr>\n",
       "  </thead>\n",
       "  <tbody>\n",
       "  </tbody>\n",
       "</table>\n",
       "</div>"
      ],
      "text/plain": [
       "Empty DataFrame\n",
       "Columns: []\n",
       "Index: []"
      ]
     },
     "execution_count": 233,
     "metadata": {},
     "output_type": "execute_result"
    }
   ],
   "source": [
    "%%bigquery --project nbcu-ds-sandbox-a-001 --params $params\n",
    "CREATE OR REPLACE TABLE `nbcu-ds-sandbox-a-001.SLi_sandbox.Email_Delivered_v4_Oct22_test` AS ( -- everyone who have received emails in the month\n",
    "    SELECT  distinct adobe_tracking_id\n",
    "    FROM\n",
    "    (\n",
    "        SELECT  DISTINCT adobe_tracking_id\n",
    "        FROM `nbcu-ds-prod-001.PeacockDataMartSilver.SILVER_MPARTICLE_BRAZE`\n",
    "        WHERE event_name = 'Email Deliveries'\n",
    "        AND event_date BETWEEN @report_start_date AND @report_end_date\n",
    "        AND LOWER(campaign_name) NOT LIKE 'transactional%' -- Exclude transactional emails \n",
    "    ) b\n",
    "    -- exclude users put in holdout group\n",
    "    LEFT JOIN\n",
    "    (\n",
    "        SELECT  DISTINCT TrackingId AS aid\n",
    "        FROM `nbcu-ds-prod-001.PeacockDataMartMarketingGold.HOLDOUT_GROUP`\n",
    "        WHERE cohort = format_timestamp('%B%Y', DATETIME_TRUNC(@report_start_date, QUARTER))\n",
    "        AND Hold_Out_Type_Current = 'Owned Email Holdout'\n",
    "        AND DATE(TIMESTAMP(RegistrationDate), 'America/New_York') <= @report_end_date \n",
    "    ) g\n",
    "    ON g.aid = b.adobe_tracking_id\n",
    "    WHERE g.aid is null\n",
    ")"
   ]
  },
  {
   "cell_type": "code",
   "execution_count": 234,
   "metadata": {
    "vscode": {
     "languageId": "sql"
    }
   },
   "outputs": [
    {
     "data": {
      "application/vnd.jupyter.widget-view+json": {
       "model_id": "178647cd52294408866850231d6268e9",
       "version_major": 2,
       "version_minor": 0
      },
      "text/plain": [
       "Query is running:   0%|          |"
      ]
     },
     "metadata": {},
     "output_type": "display_data"
    },
    {
     "data": {
      "text/html": [
       "<div>\n",
       "<style scoped>\n",
       "    .dataframe tbody tr th:only-of-type {\n",
       "        vertical-align: middle;\n",
       "    }\n",
       "\n",
       "    .dataframe tbody tr th {\n",
       "        vertical-align: top;\n",
       "    }\n",
       "\n",
       "    .dataframe thead th {\n",
       "        text-align: right;\n",
       "    }\n",
       "</style>\n",
       "<table border=\"1\" class=\"dataframe\">\n",
       "  <thead>\n",
       "    <tr style=\"text-align: right;\">\n",
       "      <th></th>\n",
       "    </tr>\n",
       "  </thead>\n",
       "  <tbody>\n",
       "  </tbody>\n",
       "</table>\n",
       "</div>"
      ],
      "text/plain": [
       "Empty DataFrame\n",
       "Columns: []\n",
       "Index: []"
      ]
     },
     "execution_count": 234,
     "metadata": {},
     "output_type": "execute_result"
    }
   ],
   "source": [
    "%%bigquery --project nbcu-ds-sandbox-a-001 --params $params\n",
    "CREATE OR REPLACE TABLE `nbcu-ds-sandbox-a-001.SLi_sandbox.Email_Holdout_v4_Oct22_test` AS ( \n",
    "    SELECT  DISTINCT holdout.adobe_tracking_id\n",
    "    FROM\n",
    "    (\n",
    "        SELECT  DISTINCT TrackingId AS adobe_tracking_id\n",
    "        FROM `nbcu-ds-prod-001.PeacockDataMartMarketingGold.HOLDOUT_GROUP`\n",
    "        WHERE cohort = format_timestamp('%B%Y', DATETIME_TRUNC(@report_start_date, QUARTER)) -- get cohort name as month of quarter start + year\n",
    "        AND Hold_Out_Type_Current = 'Owned Email Holdout'\n",
    "        AND DATE(TIMESTAMP(RegistrationDate), 'America/New_York') <= @report_end_date\n",
    "    ) holdout\n",
    "    -- Exclude those who are assigned to Email Holdout but actually received emails in holdout period\n",
    "    LEFT JOIN (\n",
    "        SELECT DISTINCT adobe_tracking_id \n",
    "        FROM  `nbcu-ds-prod-001.PeacockDataMartSilver.SILVER_MPARTICLE_BRAZE`\n",
    "        WHERE event_name = 'Email Deliveries' \n",
    "        AND event_date BETWEEN DATETIME_TRUNC(@report_start_date, QUARTER) and @report_end_date\n",
    "        AND LOWER(campaign_name) NOT LIKE 'transactional%' -- Exclude transactional emails\n",
    "    ) received\n",
    "    ON holdout.adobe_tracking_id = received.adobe_tracking_id\n",
    "    WHERE received.adobe_tracking_id IS NULL\n",
    ")"
   ]
  },
  {
   "cell_type": "code",
   "execution_count": 235,
   "metadata": {
    "vscode": {
     "languageId": "sql"
    }
   },
   "outputs": [
    {
     "data": {
      "application/vnd.jupyter.widget-view+json": {
       "model_id": "3d9c704839ad4d459410d3bce9e88905",
       "version_major": 2,
       "version_minor": 0
      },
      "text/plain": [
       "Query is running:   0%|          |"
      ]
     },
     "metadata": {},
     "output_type": "display_data"
    },
    {
     "data": {
      "text/html": [
       "<div>\n",
       "<style scoped>\n",
       "    .dataframe tbody tr th:only-of-type {\n",
       "        vertical-align: middle;\n",
       "    }\n",
       "\n",
       "    .dataframe tbody tr th {\n",
       "        vertical-align: top;\n",
       "    }\n",
       "\n",
       "    .dataframe thead th {\n",
       "        text-align: right;\n",
       "    }\n",
       "</style>\n",
       "<table border=\"1\" class=\"dataframe\">\n",
       "  <thead>\n",
       "    <tr style=\"text-align: right;\">\n",
       "      <th></th>\n",
       "    </tr>\n",
       "  </thead>\n",
       "  <tbody>\n",
       "  </tbody>\n",
       "</table>\n",
       "</div>"
      ],
      "text/plain": [
       "Empty DataFrame\n",
       "Columns: []\n",
       "Index: []"
      ]
     },
     "execution_count": 235,
     "metadata": {},
     "output_type": "execute_result"
    }
   ],
   "source": [
    "%%bigquery --project nbcu-ds-sandbox-a-001 --params $params\n",
    "CREATE OR REPLACE TABLE `nbcu-ds-sandbox-a-001.SLi_sandbox.Email_Channel_Qualifier_v4_Oct22_test` AS \n",
    "\n",
    "-- Engagement: Deliveries 4 months before start of the holdout period, defined as start of quarter\n",
    "SELECT DISTINCT adobe_tracking_id AS aid \n",
    "FROM  `nbcu-ds-prod-001.PeacockDataMartSilver.SILVER_MPARTICLE_BRAZE`\n",
    "WHERE event_name = 'Email Deliveries'\n",
    "AND event_date BETWEEN DATE_SUB(DATETIME_TRUNC(@report_start_date, QUARTER), INTERVAL 4 MONTH) AND @report_end_date\n",
    "AND lower(campaign_name) NOT LIKE 'transactional%' -- Exclude transactional emails\n",
    "\n",
    "UNION ALL\n",
    "\n",
    "-- New users joining after 4 months before start of the cohort period\n",
    "SELECT DISTINCT adobe_tracking_id AS aid\n",
    "FROM `nbcu-ds-prod-001.PeacockDataMartSilver.SILVER_USER`\n",
    "WHERE registration_date BETWEEN DATE_SUB(DATETIME_TRUNC(@report_start_date, QUARTER), INTERVAL 4 MONTH) AND @report_end_date"
   ]
  },
  {
   "cell_type": "markdown",
   "metadata": {},
   "source": [
    "### Output Base Tables"
   ]
  },
  {
   "cell_type": "code",
   "execution_count": 236,
   "metadata": {
    "vscode": {
     "languageId": "sql"
    }
   },
   "outputs": [
    {
     "data": {
      "application/vnd.jupyter.widget-view+json": {
       "model_id": "c6f21c566b9a432998afc70ed4282b32",
       "version_major": 2,
       "version_minor": 0
      },
      "text/plain": [
       "Query is running:   0%|          |"
      ]
     },
     "metadata": {},
     "output_type": "display_data"
    },
    {
     "data": {
      "text/html": [
       "<div>\n",
       "<style scoped>\n",
       "    .dataframe tbody tr th:only-of-type {\n",
       "        vertical-align: middle;\n",
       "    }\n",
       "\n",
       "    .dataframe tbody tr th {\n",
       "        vertical-align: top;\n",
       "    }\n",
       "\n",
       "    .dataframe thead th {\n",
       "        text-align: right;\n",
       "    }\n",
       "</style>\n",
       "<table border=\"1\" class=\"dataframe\">\n",
       "  <thead>\n",
       "    <tr style=\"text-align: right;\">\n",
       "      <th></th>\n",
       "    </tr>\n",
       "  </thead>\n",
       "  <tbody>\n",
       "  </tbody>\n",
       "</table>\n",
       "</div>"
      ],
      "text/plain": [
       "Empty DataFrame\n",
       "Columns: []\n",
       "Index: []"
      ]
     },
     "execution_count": 236,
     "metadata": {},
     "output_type": "execute_result"
    }
   ],
   "source": [
    "%%bigquery --project nbcu-ds-sandbox-a-001 --params $params\n",
    "CREATE OR REPLACE TABLE `nbcu-ds-sandbox-a-001.SLi_sandbox.Email_Measurement_Audience_v4_Oct22_test` AS\n",
    "\n",
    "SELECT  distinct delivered_and_holdout.adobe_tracking_id AS aid\n",
    "       ,cohort\n",
    "       ,user.account_type\n",
    "       ,user.account_tenure\n",
    "FROM (\n",
    "    SELECT *, 'Email_Targeted' as cohort from `nbcu-ds-sandbox-a-001.SLi_sandbox.Email_Delivered_v4_Oct22_test`\n",
    "    UNION ALL\n",
    "    SELECT *, 'Holdout' as cohort from `nbcu-ds-sandbox-a-001.SLi_sandbox.Email_Holdout_v4_Oct22_test`\n",
    ") delivered_and_holdout\n",
    "\n",
    "-- Include only those who received email in the current reporting period or are in holdout\n",
    "INNER JOIN `nbcu-ds-sandbox-a-001.SLi_sandbox.Email_Channel_Qualifier_v4_Oct22_test` qualified\n",
    "ON delivered_and_holdout.adobe_tracking_id = qualified.aid\n",
    "\n",
    "-- for after 2021/july, email channel only, take out all abandon MAAs\n",
    "INNER JOIN\n",
    "    (\n",
    "        SELECT  DISTINCT adobe_tracking_id\n",
    "        FROM `nbcu-ds-prod-001.PeacockDataMartSilver.SILVER_PRIMARY_DEVICES`\n",
    "        WHERE report_date = @report_end_date\n",
    "        AND date_of_last_view IS NOT NULL\n",
    "    ) abandon_maa\n",
    "ON delivered_and_holdout.adobe_tracking_id = abandon_maa.adobe_tracking_id\n",
    "\n",
    "--add attribute: account_type at the end of the reporting period\n",
    "INNER JOIN\n",
    "    (\n",
    "        SELECT  DISTINCT adobe_tracking_id\n",
    "            ,account_type\n",
    "            ,account_tenure\n",
    "        FROM `nbcu-ds-prod-001.PeacockDataMartSilver.SILVER_USER`\n",
    "        WHERE report_date = @report_end_date \n",
    "    ) user\n",
    "ON delivered_and_holdout.adobe_tracking_id = user.adobe_tracking_id\n",
    "\n",
    "-- exclude unsubscribed\n",
    "LEFT JOIN `nbcu-ds-sandbox-a-001.SLi_sandbox.Email_Unsubs_v4_Oct22_test` email_unsubs\n",
    "ON delivered_and_holdout.adobe_tracking_id = email_unsubs.adobe_tracking_id\n",
    "WHERE email_unsubs.adobe_tracking_id IS NULL"
   ]
  },
  {
   "attachments": {},
   "cell_type": "markdown",
   "metadata": {},
   "source": [
    "### Audience total size"
   ]
  },
  {
   "cell_type": "code",
   "execution_count": 237,
   "metadata": {
    "vscode": {
     "languageId": "sql"
    }
   },
   "outputs": [
    {
     "data": {
      "application/vnd.jupyter.widget-view+json": {
       "model_id": "bd2c057366b54e4e8e75d53b5364b9e5",
       "version_major": 2,
       "version_minor": 0
      },
      "text/plain": [
       "Query is running:   0%|          |"
      ]
     },
     "metadata": {},
     "output_type": "display_data"
    },
    {
     "data": {
      "application/vnd.jupyter.widget-view+json": {
       "model_id": "27b6d9889b93412ba36e847c080e350b",
       "version_major": 2,
       "version_minor": 0
      },
      "text/plain": [
       "Downloading:   0%|          |"
      ]
     },
     "metadata": {},
     "output_type": "display_data"
    },
    {
     "data": {
      "text/html": [
       "<div>\n",
       "<style scoped>\n",
       "    .dataframe tbody tr th:only-of-type {\n",
       "        vertical-align: middle;\n",
       "    }\n",
       "\n",
       "    .dataframe tbody tr th {\n",
       "        vertical-align: top;\n",
       "    }\n",
       "\n",
       "    .dataframe thead th {\n",
       "        text-align: right;\n",
       "    }\n",
       "</style>\n",
       "<table border=\"1\" class=\"dataframe\">\n",
       "  <thead>\n",
       "    <tr style=\"text-align: right;\">\n",
       "      <th></th>\n",
       "      <th>cohort</th>\n",
       "      <th>f0_</th>\n",
       "    </tr>\n",
       "  </thead>\n",
       "  <tbody>\n",
       "    <tr>\n",
       "      <th>0</th>\n",
       "      <td>Email_Targeted</td>\n",
       "      <td>40293952</td>\n",
       "    </tr>\n",
       "    <tr>\n",
       "      <th>1</th>\n",
       "      <td>Holdout</td>\n",
       "      <td>2018322</td>\n",
       "    </tr>\n",
       "  </tbody>\n",
       "</table>\n",
       "</div>"
      ],
      "text/plain": [
       "           cohort       f0_\n",
       "0  Email_Targeted  40293952\n",
       "1         Holdout   2018322"
      ]
     },
     "execution_count": 237,
     "metadata": {},
     "output_type": "execute_result"
    }
   ],
   "source": [
    "%%bigquery --project nbcu-ds-sandbox-a-001 --params $params\n",
    "SELECT cohort, count(distinct aid) from `nbcu-ds-sandbox-a-001.SLi_sandbox.Email_Measurement_Audience_v4_Oct22_test` group by 1"
   ]
  },
  {
   "cell_type": "code",
   "execution_count": 238,
   "metadata": {
    "vscode": {
     "languageId": "sql"
    }
   },
   "outputs": [
    {
     "data": {
      "application/vnd.jupyter.widget-view+json": {
       "model_id": "281561eff7964b5ba6c64de11704a62d",
       "version_major": 2,
       "version_minor": 0
      },
      "text/plain": [
       "Query is running:   0%|          |"
      ]
     },
     "metadata": {},
     "output_type": "display_data"
    },
    {
     "data": {
      "application/vnd.jupyter.widget-view+json": {
       "model_id": "768ac26efbe347779fd02dbe6a79e3a5",
       "version_major": 2,
       "version_minor": 0
      },
      "text/plain": [
       "Downloading:   0%|          |"
      ]
     },
     "metadata": {},
     "output_type": "display_data"
    },
    {
     "data": {
      "text/html": [
       "<div>\n",
       "<style scoped>\n",
       "    .dataframe tbody tr th:only-of-type {\n",
       "        vertical-align: middle;\n",
       "    }\n",
       "\n",
       "    .dataframe tbody tr th {\n",
       "        vertical-align: top;\n",
       "    }\n",
       "\n",
       "    .dataframe thead th {\n",
       "        text-align: right;\n",
       "    }\n",
       "</style>\n",
       "<table border=\"1\" class=\"dataframe\">\n",
       "  <thead>\n",
       "    <tr style=\"text-align: right;\">\n",
       "      <th></th>\n",
       "      <th>cohort</th>\n",
       "      <th>EOM_Paid_Churn_Denom_Targeted</th>\n",
       "      <th>EOM_Paid_Churn_Num_Targeted</th>\n",
       "      <th>churn_rate</th>\n",
       "    </tr>\n",
       "  </thead>\n",
       "  <tbody>\n",
       "    <tr>\n",
       "      <th>0</th>\n",
       "      <td>Email_Targeted</td>\n",
       "      <td>10231349</td>\n",
       "      <td>595247</td>\n",
       "      <td>0.058179</td>\n",
       "    </tr>\n",
       "    <tr>\n",
       "      <th>1</th>\n",
       "      <td>Holdout</td>\n",
       "      <td>435022</td>\n",
       "      <td>26846</td>\n",
       "      <td>0.061712</td>\n",
       "    </tr>\n",
       "  </tbody>\n",
       "</table>\n",
       "</div>"
      ],
      "text/plain": [
       "           cohort  EOM_Paid_Churn_Denom_Targeted  EOM_Paid_Churn_Num_Targeted  \\\n",
       "0  Email_Targeted                       10231349                       595247   \n",
       "1         Holdout                         435022                        26846   \n",
       "\n",
       "   churn_rate  \n",
       "0    0.058179  \n",
       "1    0.061712  "
      ]
     },
     "execution_count": 238,
     "metadata": {},
     "output_type": "execute_result"
    }
   ],
   "source": [
    "%%bigquery --project nbcu-ds-sandbox-a-001 --params $params\n",
    "WITH \n",
    "base as (\n",
    "    SELECT aid, cohort, paying_account_flag, billing_cycle\n",
    "    from `nbcu-ds-sandbox-a-001.SLi_sandbox.Email_Measurement_Audience_v4_Oct22_test` a\n",
    "    --add attribute: account_type at the end of the reporting period\n",
    "    INNER JOIN\n",
    "        (\n",
    "            SELECT  DISTINCT adobe_tracking_id\n",
    "                ,paying_account_flag\n",
    "                ,billing_cycle\n",
    "            FROM `nbcu-ds-prod-001.PeacockDataMartSilver.SILVER_USER`\n",
    "            WHERE report_date = @report_end_date \n",
    "        ) user\n",
    "    ON a.aid = user.adobe_tracking_id\n",
    ")\n",
    ", EOM_Paid_Churn_Denom AS (\n",
    "    SELECT  distinct adobe_tracking_id\n",
    "    FROM `nbcu-ds-prod-001.PeacockDataMartSilver.SILVER_CHURN`\n",
    "    WHERE base_date = @report_end_date -- churn date would be on 11-30\n",
    "    AND entitlement = 'Paid'\n",
    ")\n",
    ", EOM_Paid_Churn_Num AS (\n",
    "    SELECT  distinct adobe_tracking_id\n",
    "    FROM `nbcu-ds-prod-001.PeacockDataMartSilver.SILVER_CHURN`\n",
    "    WHERE base_date = @report_end_date\n",
    "    AND entitlement = 'Paid'\n",
    "    AND Churn_flag = 'Churn'\n",
    ")\n",
    ", cte1 as (\n",
    "    SELECT cohort\n",
    "        ,aid\n",
    "        ,EOM_Paid_Churn_Denom.adobe_tracking_id  AS Churn_Denom\n",
    "        ,EOM_Paid_Churn_Num.adobe_tracking_id    AS Churn_Num\n",
    "    FROM base a\n",
    "    LEFT JOIN EOM_Paid_Churn_Denom\n",
    "        on a.aid = EOM_Paid_Churn_Denom.adobe_tracking_id\n",
    "    LEFT JOIN EOM_Paid_Churn_Num\n",
    "        on EOM_Paid_Churn_Denom.adobe_tracking_id = EOM_Paid_Churn_Num.adobe_tracking_id\n",
    "    WHERE paying_account_flag = 'Paying'\n",
    "    --and billing_cycle = 'MONTHLY'\n",
    ")\n",
    ", cte2 as (\n",
    "    SELECT cohort\n",
    "        ,COUNT(distinct Churn_Denom )   AS EOM_Paid_Churn_Denom_Targeted\n",
    "        ,COUNT(distinct Churn_Num )     AS EOM_Paid_Churn_Num_Targeted\n",
    "    FROM cte1\n",
    "    group by 1\n",
    ")\n",
    "SELECT  cohort\n",
    "       ,EOM_Paid_Churn_Denom_Targeted\n",
    "       ,EOM_Paid_Churn_Num_Targeted\n",
    "       ,safe_divide(EOM_Paid_Churn_Num_Targeted,EOM_Paid_Churn_Denom_Targeted) AS churn_rate\n",
    "FROM cte2"
   ]
  },
  {
   "attachments": {},
   "cell_type": "markdown",
   "metadata": {},
   "source": [
    "✅ Channel version results"
   ]
  },
  {
   "attachments": {},
   "cell_type": "markdown",
   "metadata": {},
   "source": [
    "# Wes version"
   ]
  },
  {
   "attachments": {},
   "cell_type": "markdown",
   "metadata": {},
   "source": [
    "## Holdout"
   ]
  },
  {
   "cell_type": "code",
   "execution_count": 207,
   "metadata": {
    "vscode": {
     "languageId": "sql"
    }
   },
   "outputs": [],
   "source": [
    "params = {\n",
    "    'report_start_date': '2022-10-01',\n",
    "    'report_end_date': '2022-10-01'\n",
    "}"
   ]
  },
  {
   "cell_type": "code",
   "execution_count": 208,
   "metadata": {
    "vscode": {
     "languageId": "sql"
    }
   },
   "outputs": [
    {
     "data": {
      "application/vnd.jupyter.widget-view+json": {
       "model_id": "88ea863d65184b59a9724b2e3d182517",
       "version_major": 2,
       "version_minor": 0
      },
      "text/plain": [
       "Query is running:   0%|          |"
      ]
     },
     "metadata": {},
     "output_type": "display_data"
    },
    {
     "data": {
      "text/html": [
       "<div>\n",
       "<style scoped>\n",
       "    .dataframe tbody tr th:only-of-type {\n",
       "        vertical-align: middle;\n",
       "    }\n",
       "\n",
       "    .dataframe tbody tr th {\n",
       "        vertical-align: top;\n",
       "    }\n",
       "\n",
       "    .dataframe thead th {\n",
       "        text-align: right;\n",
       "    }\n",
       "</style>\n",
       "<table border=\"1\" class=\"dataframe\">\n",
       "  <thead>\n",
       "    <tr style=\"text-align: right;\">\n",
       "      <th></th>\n",
       "    </tr>\n",
       "  </thead>\n",
       "  <tbody>\n",
       "  </tbody>\n",
       "</table>\n",
       "</div>"
      ],
      "text/plain": [
       "Empty DataFrame\n",
       "Columns: []\n",
       "Index: []"
      ]
     },
     "execution_count": 208,
     "metadata": {},
     "output_type": "execute_result"
    }
   ],
   "source": [
    "%%bigquery --project nbcu-ds-sandbox-a-001 --params $params\n",
    "\n",
    "CREATE OR REPLACE TABLE `nbcu-ds-sandbox-a-001.SLi_sandbox.Q42022_Holdout_Wes` AS\n",
    "\n",
    "WITH \n",
    "email_holdout as (\n",
    "    SELECT  distinct holdout.adobe_tracking_id\n",
    "    FROM\n",
    "    (\n",
    "        SELECT  distinct TrackingId AS adobe_tracking_id\n",
    "        FROM `nbcu-ds-prod-001.PeacockDataMartMarketingGold.HOLDOUT_GROUP`\n",
    "        WHERE cohort = format_timestamp('%B%Y', DATETIME_TRUNC(@report_start_date, QUARTER)) -- get cohort name as month of quarter start + year\n",
    "        AND Hold_Out_Type_Current = 'Owned Email Holdout'\n",
    "        AND DATE(TIMESTAMP(RegistrationDate), 'America/New_York') <= @report_end_date\n",
    "    ) holdout\n",
    "    -- Exclude those who are assigned to Email Holdout but actually received emails 1 month prior to holdout start (to include cooloff period)\n",
    "    LEFT JOIN (\n",
    "        SELECT DISTINCT adobe_tracking_id \n",
    "        FROM  `nbcu-ds-prod-001.PeacockDataMartSilver.SILVER_MPARTICLE_BRAZE`\n",
    "        WHERE event_name = 'Email Deliveries' \n",
    "        AND event_date = @report_end_date\n",
    "        AND LOWER(campaign_name) NOT LIKE '%transactional%' -- Exclude transactional emails\n",
    "    ) received\n",
    "    ON holdout.adobe_tracking_id = received.adobe_tracking_id\n",
    "    WHERE received.adobe_tracking_id IS NULL\n",
    ")\n",
    ", email_channel_qualifier as (\n",
    "    -- Engagement: Deliveries 4 months before start of the holdout period, defined as start of quarter\n",
    "    SELECT DISTINCT adobe_tracking_id AS aid \n",
    "    FROM  `nbcu-ds-prod-001.PeacockDataMartSilver.SILVER_MPARTICLE_BRAZE`\n",
    "    WHERE event_name = 'Email Deliveries'\n",
    "    AND event_date BETWEEN DATE_SUB(DATETIME_TRUNC(@report_start_date, QUARTER), INTERVAL 4 MONTH) AND @report_end_date\n",
    "    AND lower(campaign_name) NOT LIKE 'transactional%' -- Exclude transactional emails\n",
    "\n",
    "    UNION ALL\n",
    "\n",
    "    -- New users joining after 4 months before start of the cohort period\n",
    "    SELECT DISTINCT adobe_tracking_id AS aid\n",
    "    FROM `nbcu-ds-prod-001.PeacockDataMartSilver.SILVER_USER`\n",
    "    WHERE registration_date between DATE_SUB(@report_start_date, INTERVAL 4 MONTH) and @report_start_date\n",
    ")\n",
    ", email_unsubs as (\n",
    "    SELECT DISTINCT adobe_tracking_id\n",
    "    FROM  `nbcu-ds-prod-001.PeacockDataMartSilver.SILVER_MPARTICLE_BRAZE` \n",
    "    WHERE event_name = 'Email Unsubscribes' \n",
    "    AND event_date <= @report_end_date\n",
    ")\n",
    "\n",
    "SELECT  distinct email_holdout.adobe_tracking_id AS aid\n",
    "FROM email_holdout\n",
    "\n",
    "-- Include only those who received email in the current reporting period or are in holdout\n",
    "INNER JOIN email_channel_qualifier\n",
    "ON email_holdout.adobe_tracking_id = email_channel_qualifier.aid\n",
    "\n",
    "-- for after 2021/july, email channel only, take out all abandon MAAs\n",
    "INNER JOIN\n",
    "    (\n",
    "        SELECT  DISTINCT adobe_tracking_id\n",
    "        FROM `nbcu-ds-prod-001.PeacockDataMartSilver.SILVER_PRIMARY_DEVICES`\n",
    "        WHERE report_date = @report_end_date\n",
    "        AND date_of_last_view IS NOT NULL\n",
    "    ) abandon_maa\n",
    "ON email_holdout.adobe_tracking_id = abandon_maa.adobe_tracking_id\n",
    "\n",
    "-- exclude unsubscribed\n",
    "LEFT JOIN email_unsubs\n",
    "ON email_holdout.adobe_tracking_id = email_unsubs.adobe_tracking_id\n",
    "WHERE email_unsubs.adobe_tracking_id IS NULL"
   ]
  },
  {
   "cell_type": "code",
   "execution_count": 209,
   "metadata": {
    "vscode": {
     "languageId": "sql"
    }
   },
   "outputs": [
    {
     "data": {
      "application/vnd.jupyter.widget-view+json": {
       "model_id": "855161e4e7d84535aa5c941646ea9a55",
       "version_major": 2,
       "version_minor": 0
      },
      "text/plain": [
       "Query is running:   0%|          |"
      ]
     },
     "metadata": {},
     "output_type": "display_data"
    },
    {
     "data": {
      "application/vnd.jupyter.widget-view+json": {
       "model_id": "24f4ada0fdb74dbd83c26a1cf7808b98",
       "version_major": 2,
       "version_minor": 0
      },
      "text/plain": [
       "Downloading:   0%|          |"
      ]
     },
     "metadata": {},
     "output_type": "display_data"
    },
    {
     "data": {
      "text/html": [
       "<div>\n",
       "<style scoped>\n",
       "    .dataframe tbody tr th:only-of-type {\n",
       "        vertical-align: middle;\n",
       "    }\n",
       "\n",
       "    .dataframe tbody tr th {\n",
       "        vertical-align: top;\n",
       "    }\n",
       "\n",
       "    .dataframe thead th {\n",
       "        text-align: right;\n",
       "    }\n",
       "</style>\n",
       "<table border=\"1\" class=\"dataframe\">\n",
       "  <thead>\n",
       "    <tr style=\"text-align: right;\">\n",
       "      <th></th>\n",
       "      <th>f0_</th>\n",
       "    </tr>\n",
       "  </thead>\n",
       "  <tbody>\n",
       "    <tr>\n",
       "      <th>0</th>\n",
       "      <td>1962559</td>\n",
       "    </tr>\n",
       "  </tbody>\n",
       "</table>\n",
       "</div>"
      ],
      "text/plain": [
       "       f0_\n",
       "0  1962559"
      ]
     },
     "execution_count": 209,
     "metadata": {},
     "output_type": "execute_result"
    }
   ],
   "source": [
    "%%bigquery --project nbcu-ds-sandbox-a-001 --params $params\n",
    "\n",
    "select count(distinct aid) from `nbcu-ds-sandbox-a-001.SLi_sandbox.Q42022_Holdout_Wes`"
   ]
  },
  {
   "cell_type": "code",
   "execution_count": 210,
   "metadata": {
    "vscode": {
     "languageId": "sql"
    }
   },
   "outputs": [
    {
     "data": {
      "application/vnd.jupyter.widget-view+json": {
       "model_id": "2ac0c4890b24414d846f3d0e797d49b0",
       "version_major": 2,
       "version_minor": 0
      },
      "text/plain": [
       "Query is running:   0%|          |"
      ]
     },
     "metadata": {},
     "output_type": "display_data"
    },
    {
     "data": {
      "application/vnd.jupyter.widget-view+json": {
       "model_id": "f9ed9541ad94475dad7fef4df95593bf",
       "version_major": 2,
       "version_minor": 0
      },
      "text/plain": [
       "Downloading:   0%|          |"
      ]
     },
     "metadata": {},
     "output_type": "display_data"
    },
    {
     "data": {
      "text/html": [
       "<div>\n",
       "<style scoped>\n",
       "    .dataframe tbody tr th:only-of-type {\n",
       "        vertical-align: middle;\n",
       "    }\n",
       "\n",
       "    .dataframe tbody tr th {\n",
       "        vertical-align: top;\n",
       "    }\n",
       "\n",
       "    .dataframe thead th {\n",
       "        text-align: right;\n",
       "    }\n",
       "</style>\n",
       "<table border=\"1\" class=\"dataframe\">\n",
       "  <thead>\n",
       "    <tr style=\"text-align: right;\">\n",
       "      <th></th>\n",
       "      <th>f0_</th>\n",
       "    </tr>\n",
       "  </thead>\n",
       "  <tbody>\n",
       "    <tr>\n",
       "      <th>0</th>\n",
       "      <td>1962559</td>\n",
       "    </tr>\n",
       "  </tbody>\n",
       "</table>\n",
       "</div>"
      ],
      "text/plain": [
       "       f0_\n",
       "0  1962559"
      ]
     },
     "execution_count": 210,
     "metadata": {},
     "output_type": "execute_result"
    }
   ],
   "source": [
    "%%bigquery --project nbcu-ds-sandbox-a-001 --params $params\n",
    "\n",
    "select count(distinct aid) from `nbcu-ds-sandbox-a-001.wes_crm_sandbox.Q42022_Holdout`"
   ]
  },
  {
   "attachments": {},
   "cell_type": "markdown",
   "metadata": {},
   "source": [
    "Holdout group size - Wes"
   ]
  },
  {
   "cell_type": "code",
   "execution_count": 211,
   "metadata": {
    "vscode": {
     "languageId": "sql"
    }
   },
   "outputs": [
    {
     "data": {
      "application/vnd.jupyter.widget-view+json": {
       "model_id": "42539b4ca23644f08dd881d99bb102c9",
       "version_major": 2,
       "version_minor": 0
      },
      "text/plain": [
       "Query is running:   0%|          |"
      ]
     },
     "metadata": {},
     "output_type": "display_data"
    },
    {
     "data": {
      "text/html": [
       "<div>\n",
       "<style scoped>\n",
       "    .dataframe tbody tr th:only-of-type {\n",
       "        vertical-align: middle;\n",
       "    }\n",
       "\n",
       "    .dataframe tbody tr th {\n",
       "        vertical-align: top;\n",
       "    }\n",
       "\n",
       "    .dataframe thead th {\n",
       "        text-align: right;\n",
       "    }\n",
       "</style>\n",
       "<table border=\"1\" class=\"dataframe\">\n",
       "  <thead>\n",
       "    <tr style=\"text-align: right;\">\n",
       "      <th></th>\n",
       "    </tr>\n",
       "  </thead>\n",
       "  <tbody>\n",
       "  </tbody>\n",
       "</table>\n",
       "</div>"
      ],
      "text/plain": [
       "Empty DataFrame\n",
       "Columns: []\n",
       "Index: []"
      ]
     },
     "execution_count": 211,
     "metadata": {},
     "output_type": "execute_result"
    }
   ],
   "source": [
    "%%bigquery --project nbcu-ds-sandbox-a-001 --params $params\n",
    "\n",
    "CREATE OR REPLACE TABLE `nbcu-ds-sandbox-a-001.SLi_sandbox.churn_oct22_wes` AS\n",
    "\n",
    "WITH EmailDeliveryStatus AS (\n",
    "select \n",
    "  distinct '2022-10-01' Month_Year, \n",
    "  adobe_tracking_id aid, \n",
    "  event_name \n",
    "from `nbcu-ds-prod-001.PeacockDataMartSilver.SILVER_MPARTICLE_BRAZE`\n",
    "where \n",
    "  date(eventTimestamp) between '2022-10-01' and '2022-10-31'\n",
    "  and event_name in('Email Deliveries') \n",
    "  and lower(campaign_name) not like '%transactional%' -- remove transactional emails\n",
    "\n",
    "union all\n",
    "\n",
    "select \n",
    "  distinct '2022-10-01' Month_Year, \n",
    "  adobe_tracking_id aid, \n",
    "  event_name -- identify if the last action a sub took was to unsubscribe\n",
    "from `nbcu-ds-prod-001.PeacockDataMartSilver.SILVER_MPARTICLE_BRAZE`\n",
    "where \n",
    "  date(eventTimestamp) < '2022-10-31'\n",
    "  and event_name in('Email Unsubscribes')\n",
    ")\n",
    "select \n",
    "  '2022-10-01' Month_Year,\n",
    "  l.aid,\n",
    "  l.billing_platform,\n",
    "  l.billing_cycle,\n",
    "  tenure_paid_lens,\n",
    "  case when abandoned_ids is not null then \"x\" else null end abandoned_flag,\n",
    "  marketing_status.category,\n",
    "  case when l.billing_platform = 'NBCU' then 'Direct' else 'IAP' end grouped_billing_platform,\n",
    "  case when l.paying_account_flag != r.paying_account_flag then 'Downgrade' else 'No Change' end change_flag,\n",
    "  case when l.voucher_partner is null then \"Not On Voucher\" else \"On Voucher\" end voucher_flag,\n",
    "  case when ho.aid is not null then \"Holdout\" when ho1.hid is not null then \"Exclude\" when l.aid is not null then 'Targetable' end Audience\n",
    "from(\n",
    "  select \n",
    "    adobe_tracking_id aid,\n",
    "    household_id hid,\n",
    "    billing_platform,\n",
    "    paying_account_flag,\n",
    "    billing_cycle,\n",
    "    tenure_paid_lens,\n",
    "    voucher_partner\n",
    "  from `nbcu-ds-prod-001.PeacockDataMartSilver.SILVER_USER`\n",
    "  where \n",
    "    report_date = '2022-10-31'\n",
    "    and paying_account_flag = 'Paying'\n",
    ") l\n",
    "\n",
    "-- retrieve abandoned maas\n",
    "left join(\n",
    "  select adobe_tracking_id abandoned_ids\n",
    "  from `nbcu-ds-prod-001.PeacockDataMartSilver.SILVER_PRIMARY_DEVICES` \n",
    "  where \n",
    "    report_date = '2022-10-31'\n",
    "    and date_of_last_view is null\n",
    ") a\n",
    "on l.aid = a.abandoned_ids\n",
    "\n",
    "-- retrieve thier marketing status: where they are unsubscribed or received an email in the last 4 months\n",
    "left join(\n",
    "  select \n",
    "    aid, \n",
    "    event_name category -- identify if the last action a sub took was to unsubscribe\n",
    "  from EmailDeliveryStatus\n",
    "  where Month_Year = '2022-10-01'\n",
    ") marketing_status\n",
    "on l.aid = marketing_status.aid\n",
    "\n",
    "-- retrieve status 1 month later\n",
    "left join(\n",
    "  select \n",
    "    adobe_tracking_id,\n",
    "    billing_platform,\n",
    "    paying_account_flag\n",
    "  from `nbcu-ds-prod-001.PeacockDataMartSilver.SILVER_USER`\n",
    "  where \n",
    "    report_date = '2022-11-30'\n",
    ") r\n",
    "on l.aid = r.adobe_tracking_id\n",
    "\n",
    "-- retrieve members of holdout group\n",
    "left join(\n",
    "  select aid\n",
    "  from `nbcu-ds-sandbox-a-001.SLi_sandbox.Q42022_Holdout_Wes`\n",
    ") ho\n",
    "on l.aid = ho.aid\n",
    "\n",
    "--retrieve the rest of the global hold out that doesnt fit holdout definition. exclude these users from the analysis\n",
    "left join(\n",
    "  select HouseholdId hid\n",
    "  from `nbcu-ds-prod-001.PeacockDataMartMarketingGold.HOLDOUT_GROUP` \n",
    "  where \n",
    "    cohort = 'October2022' \n",
    "    and Hold_Out_Type_Current = 'Owned Email Holdout' -- Exclude those who are assigned to Email Holdout but actually received emails\n",
    "    and TrackingId not in(\n",
    "      select aid\n",
    "      from `nbcu-ds-sandbox-a-001.SLi_sandbox.Q42022_Holdout_Wes`\n",
    "    )\n",
    ") ho1\n",
    "on l.hid = ho1.hid"
   ]
  },
  {
   "cell_type": "code",
   "execution_count": 245,
   "metadata": {
    "vscode": {
     "languageId": "sql"
    }
   },
   "outputs": [
    {
     "data": {
      "application/vnd.jupyter.widget-view+json": {
       "model_id": "1cbe184bae8c438a880b5892282059df",
       "version_major": 2,
       "version_minor": 0
      },
      "text/plain": [
       "Query is running:   0%|          |"
      ]
     },
     "metadata": {},
     "output_type": "display_data"
    },
    {
     "data": {
      "application/vnd.jupyter.widget-view+json": {
       "model_id": "eb91fda13cce4e759d89d8c2476e1a77",
       "version_major": 2,
       "version_minor": 0
      },
      "text/plain": [
       "Downloading:   0%|          |"
      ]
     },
     "metadata": {},
     "output_type": "display_data"
    },
    {
     "data": {
      "text/html": [
       "<div>\n",
       "<style scoped>\n",
       "    .dataframe tbody tr th:only-of-type {\n",
       "        vertical-align: middle;\n",
       "    }\n",
       "\n",
       "    .dataframe tbody tr th {\n",
       "        vertical-align: top;\n",
       "    }\n",
       "\n",
       "    .dataframe thead th {\n",
       "        text-align: right;\n",
       "    }\n",
       "</style>\n",
       "<table border=\"1\" class=\"dataframe\">\n",
       "  <thead>\n",
       "    <tr style=\"text-align: right;\">\n",
       "      <th></th>\n",
       "      <th>Month_Year</th>\n",
       "      <th>audience</th>\n",
       "      <th>paid_maas</th>\n",
       "      <th>churns</th>\n",
       "      <th>churn_rate</th>\n",
       "    </tr>\n",
       "  </thead>\n",
       "  <tbody>\n",
       "    <tr>\n",
       "      <th>0</th>\n",
       "      <td>2022-10-01</td>\n",
       "      <td>Targetable</td>\n",
       "      <td>10283871</td>\n",
       "      <td>600898</td>\n",
       "      <td>0.058431</td>\n",
       "    </tr>\n",
       "    <tr>\n",
       "      <th>1</th>\n",
       "      <td>2022-10-01</td>\n",
       "      <td>Holdout</td>\n",
       "      <td>408121</td>\n",
       "      <td>23047</td>\n",
       "      <td>0.056471</td>\n",
       "    </tr>\n",
       "  </tbody>\n",
       "</table>\n",
       "</div>"
      ],
      "text/plain": [
       "   Month_Year    audience  paid_maas  churns  churn_rate\n",
       "0  2022-10-01  Targetable   10283871  600898    0.058431\n",
       "1  2022-10-01     Holdout     408121   23047    0.056471"
      ]
     },
     "execution_count": 245,
     "metadata": {},
     "output_type": "execute_result"
    }
   ],
   "source": [
    "%%bigquery --project nbcu-ds-sandbox-a-001 --params $params\n",
    "\n",
    "SELECT  Month_Year\n",
    "       ,audience\n",
    "       ,COUNT(distinct aid) paid_maas\n",
    "       ,COUNT(distinct CASE WHEN change_flag = 'Downgrade' THEN aid else null end) churns\n",
    "       ,COUNT(distinct CASE WHEN change_flag = 'Downgrade' THEN aid else null end) / COUNT(distinct aid) AS churn_rate\n",
    "FROM `nbcu-ds-sandbox-a-001.SLi_sandbox.churn_oct22_wes`\n",
    "WHERE (((category != 'Email Unsubscribes') AND (audience = 'Targetable')) or (audience = 'Holdout'))\n",
    "AND (abandoned_flag is null )\n",
    "--AND billing_cycle = 'MONTHLY'\n",
    "GROUP BY  1,2"
   ]
  },
  {
   "attachments": {},
   "cell_type": "markdown",
   "metadata": {},
   "source": [
    "✅ results - wes's logic"
   ]
  },
  {
   "attachments": {},
   "cell_type": "markdown",
   "metadata": {},
   "source": [
    "## Edited Version"
   ]
  },
  {
   "cell_type": "code",
   "execution_count": 14,
   "metadata": {
    "vscode": {
     "languageId": "sql"
    }
   },
   "outputs": [],
   "source": [
    "params = {\n",
    "    'report_start_date': '2022-10-01',\n",
    "    'report_end_date': '2022-10-31'\n",
    "}"
   ]
  },
  {
   "cell_type": "code",
   "execution_count": 15,
   "metadata": {
    "vscode": {
     "languageId": "sql"
    }
   },
   "outputs": [
    {
     "data": {
      "application/vnd.jupyter.widget-view+json": {
       "model_id": "d36897ae76e94f36bf63cf380fbd8b23",
       "version_major": 2,
       "version_minor": 0
      },
      "text/plain": [
       "Query is running:   0%|          |"
      ]
     },
     "metadata": {},
     "output_type": "display_data"
    },
    {
     "data": {
      "text/html": [
       "<div>\n",
       "<style scoped>\n",
       "    .dataframe tbody tr th:only-of-type {\n",
       "        vertical-align: middle;\n",
       "    }\n",
       "\n",
       "    .dataframe tbody tr th {\n",
       "        vertical-align: top;\n",
       "    }\n",
       "\n",
       "    .dataframe thead th {\n",
       "        text-align: right;\n",
       "    }\n",
       "</style>\n",
       "<table border=\"1\" class=\"dataframe\">\n",
       "  <thead>\n",
       "    <tr style=\"text-align: right;\">\n",
       "      <th></th>\n",
       "    </tr>\n",
       "  </thead>\n",
       "  <tbody>\n",
       "  </tbody>\n",
       "</table>\n",
       "</div>"
      ],
      "text/plain": [
       "Empty DataFrame\n",
       "Columns: []\n",
       "Index: []"
      ]
     },
     "execution_count": 15,
     "metadata": {},
     "output_type": "execute_result"
    }
   ],
   "source": [
    "%%bigquery --project nbcu-ds-sandbox-a-001 --params $params\n",
    "\n",
    "create or replace table `nbcu-ds-sandbox-a-001.SLi_sandbox.Wes_Holdout_Test` AS\n",
    "\n",
    "WITH \n",
    "email_holdout as (\n",
    "    SELECT  distinct holdout.adobe_tracking_id\n",
    "    FROM\n",
    "    (\n",
    "        SELECT  distinct TrackingId AS adobe_tracking_id\n",
    "        FROM `nbcu-ds-prod-001.PeacockDataMartMarketingGold.HOLDOUT_GROUP`\n",
    "        WHERE cohort = format_timestamp('%B%Y', DATETIME_TRUNC(@report_start_date, QUARTER)) -- get cohort name as month of quarter start + year\n",
    "        AND Hold_Out_Type_Current = 'Owned Email Holdout'\n",
    "        AND DATE(TIMESTAMP(RegistrationDate), 'America/New_York') <= @report_end_date\n",
    "    ) holdout\n",
    "    LEFT JOIN (\n",
    "        SELECT DISTINCT adobe_tracking_id \n",
    "        FROM  `nbcu-ds-prod-001.PeacockDataMartSilver.SILVER_MPARTICLE_BRAZE`\n",
    "        WHERE event_name = 'Email Deliveries' \n",
    "        AND event_date BETWEEN DATETIME_TRUNC(@report_start_date, QUARTER) and @report_end_date -- CHANGED\n",
    "        AND LOWER(campaign_name) NOT LIKE '%transactional%' -- Exclude transactional emails\n",
    "    ) received\n",
    "    ON holdout.adobe_tracking_id = received.adobe_tracking_id\n",
    "    WHERE received.adobe_tracking_id IS NULL\n",
    ")\n",
    ", email_channel_qualifier as (\n",
    "    -- Engagement: Deliveries 4 months before start of the holdout period, defined as start of quarter\n",
    "    SELECT DISTINCT adobe_tracking_id AS aid \n",
    "    FROM  `nbcu-ds-prod-001.PeacockDataMartSilver.SILVER_MPARTICLE_BRAZE`\n",
    "    WHERE event_name = 'Email Deliveries'\n",
    "    AND event_date BETWEEN DATE_SUB(DATETIME_TRUNC(@report_start_date, QUARTER), INTERVAL 4 MONTH) AND @report_end_date\n",
    "    AND lower(campaign_name) NOT LIKE 'transactional%' -- Exclude transactional emails\n",
    "\n",
    "    UNION ALL\n",
    "\n",
    "    -- New users joining after 4 months before start of the cohort period\n",
    "    SELECT DISTINCT adobe_tracking_id AS aid\n",
    "    FROM `nbcu-ds-prod-001.PeacockDataMartSilver.SILVER_USER`\n",
    "    WHERE registration_date between DATE_SUB(@report_start_date, INTERVAL 4 MONTH) and @report_end_date -- CHANGED\n",
    ")\n",
    ", email_unsubs as (\n",
    "    SELECT DISTINCT adobe_tracking_id\n",
    "    FROM  `nbcu-ds-prod-001.PeacockDataMartSilver.SILVER_MPARTICLE_BRAZE` \n",
    "    WHERE event_name = 'Email Unsubscribes' \n",
    "    AND event_date <= @report_end_date\n",
    ")\n",
    "\n",
    "SELECT  distinct email_holdout.adobe_tracking_id AS aid\n",
    "FROM email_holdout\n",
    "\n",
    "-- Include only those who received email in the current reporting period or are in holdout\n",
    "INNER JOIN email_channel_qualifier\n",
    "ON email_holdout.adobe_tracking_id = email_channel_qualifier.aid\n",
    "\n",
    "-- for after 2021/july, email channel only, take out all abandon MAAs\n",
    "INNER JOIN\n",
    "    (\n",
    "        SELECT  DISTINCT adobe_tracking_id\n",
    "        FROM `nbcu-ds-prod-001.PeacockDataMartSilver.SILVER_PRIMARY_DEVICES`\n",
    "        WHERE report_date = @report_end_date\n",
    "        AND date_of_last_view IS NOT NULL\n",
    "    ) abandon_maa\n",
    "ON email_holdout.adobe_tracking_id = abandon_maa.adobe_tracking_id\n",
    "\n",
    "-- exclude unsubscribed\n",
    "LEFT JOIN email_unsubs\n",
    "ON email_holdout.adobe_tracking_id = email_unsubs.adobe_tracking_id\n",
    "WHERE email_unsubs.adobe_tracking_id IS NULL"
   ]
  },
  {
   "cell_type": "code",
   "execution_count": 16,
   "metadata": {
    "vscode": {
     "languageId": "sql"
    }
   },
   "outputs": [
    {
     "data": {
      "application/vnd.jupyter.widget-view+json": {
       "model_id": "0d8ff72fc11a46b3bada1c666f96ac77",
       "version_major": 2,
       "version_minor": 0
      },
      "text/plain": [
       "Query is running:   0%|          |"
      ]
     },
     "metadata": {},
     "output_type": "display_data"
    },
    {
     "data": {
      "application/vnd.jupyter.widget-view+json": {
       "model_id": "632508becc8e47a48246533441aa5dff",
       "version_major": 2,
       "version_minor": 0
      },
      "text/plain": [
       "Downloading:   0%|          |"
      ]
     },
     "metadata": {},
     "output_type": "display_data"
    },
    {
     "data": {
      "text/html": [
       "<div>\n",
       "<style scoped>\n",
       "    .dataframe tbody tr th:only-of-type {\n",
       "        vertical-align: middle;\n",
       "    }\n",
       "\n",
       "    .dataframe tbody tr th {\n",
       "        vertical-align: top;\n",
       "    }\n",
       "\n",
       "    .dataframe thead th {\n",
       "        text-align: right;\n",
       "    }\n",
       "</style>\n",
       "<table border=\"1\" class=\"dataframe\">\n",
       "  <thead>\n",
       "    <tr style=\"text-align: right;\">\n",
       "      <th></th>\n",
       "      <th>f0_</th>\n",
       "    </tr>\n",
       "  </thead>\n",
       "  <tbody>\n",
       "    <tr>\n",
       "      <th>0</th>\n",
       "      <td>2018322</td>\n",
       "    </tr>\n",
       "  </tbody>\n",
       "</table>\n",
       "</div>"
      ],
      "text/plain": [
       "       f0_\n",
       "0  2018322"
      ]
     },
     "execution_count": 16,
     "metadata": {},
     "output_type": "execute_result"
    }
   ],
   "source": [
    "%%bigquery --project nbcu-ds-sandbox-a-001 --params $params\n",
    "\n",
    "select count(distinct aid) from `nbcu-ds-sandbox-a-001.SLi_sandbox.Wes_Holdout_Test`"
   ]
  },
  {
   "attachments": {},
   "cell_type": "markdown",
   "metadata": {},
   "source": [
    "Holdout group size - Sanders"
   ]
  },
  {
   "cell_type": "code",
   "execution_count": 17,
   "metadata": {
    "vscode": {
     "languageId": "sql"
    }
   },
   "outputs": [
    {
     "data": {
      "application/vnd.jupyter.widget-view+json": {
       "model_id": "affff75bea154c64962a8b5980c51f6f",
       "version_major": 2,
       "version_minor": 0
      },
      "text/plain": [
       "Query is running:   0%|          |"
      ]
     },
     "metadata": {},
     "output_type": "display_data"
    },
    {
     "data": {
      "text/html": [
       "<div>\n",
       "<style scoped>\n",
       "    .dataframe tbody tr th:only-of-type {\n",
       "        vertical-align: middle;\n",
       "    }\n",
       "\n",
       "    .dataframe tbody tr th {\n",
       "        vertical-align: top;\n",
       "    }\n",
       "\n",
       "    .dataframe thead th {\n",
       "        text-align: right;\n",
       "    }\n",
       "</style>\n",
       "<table border=\"1\" class=\"dataframe\">\n",
       "  <thead>\n",
       "    <tr style=\"text-align: right;\">\n",
       "      <th></th>\n",
       "    </tr>\n",
       "  </thead>\n",
       "  <tbody>\n",
       "  </tbody>\n",
       "</table>\n",
       "</div>"
      ],
      "text/plain": [
       "Empty DataFrame\n",
       "Columns: []\n",
       "Index: []"
      ]
     },
     "execution_count": 17,
     "metadata": {},
     "output_type": "execute_result"
    }
   ],
   "source": [
    "%%bigquery --project nbcu-ds-sandbox-a-001 --params $params\n",
    "\n",
    "CREATE OR REPLACE TABLE `nbcu-ds-sandbox-a-001.SLi_sandbox.EmailDeliveryStatus_edit` AS\n",
    "\n",
    "    SELECT  distinct '2022-10-01' Month_Year\n",
    "        ,adobe_tracking_id aid\n",
    "        ,event_name\n",
    "    FROM `nbcu-ds-prod-001.PeacockDataMartSilver.SILVER_MPARTICLE_BRAZE`\n",
    "    WHERE date(eventTimestamp) BETWEEN '2022-10-01' AND '2022-10-31'\n",
    "    AND event_name in('Email Deliveries')\n",
    "    AND lower(campaign_name) not like '%transactional%' -- remove transactional emails \n",
    "    UNION ALL\n",
    "    SELECT  distinct '2022-10-01' Month_Year\n",
    "        ,adobe_tracking_id aid\n",
    "        ,event_name -- identify if the last action a sub took was to unsubscribe\n",
    "    FROM `nbcu-ds-prod-001.PeacockDataMartSilver.SILVER_MPARTICLE_BRAZE`\n",
    "    WHERE date(eventTimestamp) < '2022-10-31'\n",
    "    AND event_name in('Email Unsubscribes') "
   ]
  },
  {
   "cell_type": "code",
   "execution_count": 18,
   "metadata": {
    "vscode": {
     "languageId": "sql"
    }
   },
   "outputs": [
    {
     "data": {
      "application/vnd.jupyter.widget-view+json": {
       "model_id": "177cf0dcd3bc48929cb2040e0a42456e",
       "version_major": 2,
       "version_minor": 0
      },
      "text/plain": [
       "Query is running:   0%|          |"
      ]
     },
     "metadata": {},
     "output_type": "display_data"
    },
    {
     "data": {
      "application/vnd.jupyter.widget-view+json": {
       "model_id": "f73da44dee6d44ea846a6ad9664eec05",
       "version_major": 2,
       "version_minor": 0
      },
      "text/plain": [
       "Downloading:   0%|          |"
      ]
     },
     "metadata": {},
     "output_type": "display_data"
    },
    {
     "data": {
      "text/html": [
       "<div>\n",
       "<style scoped>\n",
       "    .dataframe tbody tr th:only-of-type {\n",
       "        vertical-align: middle;\n",
       "    }\n",
       "\n",
       "    .dataframe tbody tr th {\n",
       "        vertical-align: top;\n",
       "    }\n",
       "\n",
       "    .dataframe thead th {\n",
       "        text-align: right;\n",
       "    }\n",
       "</style>\n",
       "<table border=\"1\" class=\"dataframe\">\n",
       "  <thead>\n",
       "    <tr style=\"text-align: right;\">\n",
       "      <th></th>\n",
       "      <th>f0_</th>\n",
       "    </tr>\n",
       "  </thead>\n",
       "  <tbody>\n",
       "    <tr>\n",
       "      <th>0</th>\n",
       "      <td>57705442</td>\n",
       "    </tr>\n",
       "  </tbody>\n",
       "</table>\n",
       "</div>"
      ],
      "text/plain": [
       "        f0_\n",
       "0  57705442"
      ]
     },
     "execution_count": 18,
     "metadata": {},
     "output_type": "execute_result"
    }
   ],
   "source": [
    "%%bigquery --project nbcu-ds-sandbox-a-001 --params $params\n",
    "\n",
    "select count(distinct aid) from `nbcu-ds-sandbox-a-001.SLi_sandbox.EmailDeliveryStatus_edit` "
   ]
  },
  {
   "attachments": {},
   "cell_type": "markdown",
   "metadata": {},
   "source": [
    "Email Delivery Status table"
   ]
  },
  {
   "cell_type": "code",
   "execution_count": 19,
   "metadata": {
    "vscode": {
     "languageId": "sql"
    }
   },
   "outputs": [
    {
     "data": {
      "application/vnd.jupyter.widget-view+json": {
       "model_id": "ed79beb078be4986a967762541adcc6b",
       "version_major": 2,
       "version_minor": 0
      },
      "text/plain": [
       "Query is running:   0%|          |"
      ]
     },
     "metadata": {},
     "output_type": "display_data"
    },
    {
     "data": {
      "text/html": [
       "<div>\n",
       "<style scoped>\n",
       "    .dataframe tbody tr th:only-of-type {\n",
       "        vertical-align: middle;\n",
       "    }\n",
       "\n",
       "    .dataframe tbody tr th {\n",
       "        vertical-align: top;\n",
       "    }\n",
       "\n",
       "    .dataframe thead th {\n",
       "        text-align: right;\n",
       "    }\n",
       "</style>\n",
       "<table border=\"1\" class=\"dataframe\">\n",
       "  <thead>\n",
       "    <tr style=\"text-align: right;\">\n",
       "      <th></th>\n",
       "    </tr>\n",
       "  </thead>\n",
       "  <tbody>\n",
       "  </tbody>\n",
       "</table>\n",
       "</div>"
      ],
      "text/plain": [
       "Empty DataFrame\n",
       "Columns: []\n",
       "Index: []"
      ]
     },
     "execution_count": 19,
     "metadata": {},
     "output_type": "execute_result"
    }
   ],
   "source": [
    "%%bigquery --project nbcu-ds-sandbox-a-001 --params $params\n",
    "\n",
    "CREATE OR REPLACE TABLE `nbcu-ds-sandbox-a-001.SLi_sandbox.churn_oct22_wes_edit_v2` AS\n",
    "\n",
    "WITH EmailDeliveryStatus AS \n",
    "(\n",
    "    SELECT  distinct '2022-10-01' Month_Year\n",
    "        ,adobe_tracking_id aid\n",
    "        ,event_name\n",
    "    FROM `nbcu-ds-prod-001.PeacockDataMartSilver.SILVER_MPARTICLE_BRAZE`\n",
    "    WHERE date(eventTimestamp) BETWEEN '2022-10-01' AND '2022-10-31'\n",
    "    AND event_name in('Email Deliveries')\n",
    "    AND lower(campaign_name) not like '%transactional%' -- remove transactional emails \n",
    "    UNION ALL\n",
    "    SELECT  distinct '2022-10-01' Month_Year\n",
    "        ,adobe_tracking_id aid\n",
    "        ,event_name -- identify if the last action a sub took was to unsubscribe\n",
    "    FROM `nbcu-ds-prod-001.PeacockDataMartSilver.SILVER_MPARTICLE_BRAZE`\n",
    "    WHERE date(eventTimestamp) <= '2022-10-31'\n",
    "    AND event_name in('Email Unsubscribes') \n",
    ")\n",
    "SELECT  '2022-10-01' Month_Year\n",
    "       ,l.aid\n",
    "       ,l.billing_platform\n",
    "       ,l.billing_cycle\n",
    "       ,tenure_paid_lens\n",
    "       ,CASE WHEN abandoned_ids is not null THEN \"x\"  ELSE null END abandoned_flag\n",
    "       ,marketing_status.category\n",
    "       ,CASE WHEN l.billing_platform = 'NBCU' THEN 'Direct'  ELSE 'IAP' END grouped_billing_platform\n",
    "       ,CASE WHEN l.paying_account_flag != r.paying_account_flag THEN 'Downgrade'  ELSE 'No Change' END change_flag\n",
    "       ,CASE WHEN l.voucher_partner is null THEN \"Not On Voucher\"  ELSE \"On Voucher\" END voucher_flag\n",
    "       ,CASE WHEN ho.aid is not null THEN \"Holdout\"\n",
    "             WHEN ho1.hid is not null THEN \"Exclude\"\n",
    "             WHEN l.aid is not null THEN 'Targetable' END Audience\n",
    "FROM\n",
    "(\n",
    "\tSELECT  adobe_tracking_id aid\n",
    "\t       ,household_id hid\n",
    "\t       ,billing_platform\n",
    "\t       ,paying_account_flag\n",
    "\t       ,billing_cycle\n",
    "\t       ,tenure_paid_lens\n",
    "\t       ,voucher_partner\n",
    "\tFROM `nbcu-ds-prod-001.PeacockDataMartSilver.SILVER_USER`\n",
    "\tWHERE report_date = '2022-10-31'\n",
    "\tAND paying_account_flag = 'Paying' \n",
    ") l\n",
    "\n",
    "-- retrieve abandoned maas\n",
    "LEFT JOIN\n",
    "(\n",
    "\tSELECT  adobe_tracking_id abandoned_ids\n",
    "\tFROM `nbcu-ds-prod-001.PeacockDataMartSilver.SILVER_PRIMARY_DEVICES`\n",
    "\tWHERE report_date = '2022-10-31'\n",
    "\tAND date_of_last_view is null \n",
    ") a\n",
    "ON l.aid = a.abandoned_ids\n",
    "\n",
    "-- retrieve thier marketing status: where they are unsubscribed or received an email in the last 4 months\n",
    "LEFT JOIN\n",
    "(\n",
    "\tSELECT  aid\n",
    "\t       ,event_name category -- identify if the last action a sub took was to unsubscribe\n",
    "\tFROM EmailDeliveryStatus\n",
    "\tWHERE Month_Year = '2022-10-01' \n",
    ") marketing_status\n",
    "ON l.aid = marketing_status.aid\n",
    "\n",
    "-- retrieve status 1 month later\n",
    "LEFT JOIN\n",
    "(\n",
    "\tSELECT  adobe_tracking_id\n",
    "\t       ,billing_platform\n",
    "\t       ,paying_account_flag\n",
    "\tFROM `nbcu-ds-prod-001.PeacockDataMartSilver.SILVER_USER`\n",
    "\tWHERE report_date = '2022-11-30' \n",
    ") r\n",
    "ON l.aid = r.adobe_tracking_id\n",
    "\n",
    "-- retrieve members of holdout group\n",
    "LEFT JOIN (\n",
    "\tSELECT  aid\n",
    "\tFROM `nbcu-ds-sandbox-a-001.SLi_sandbox.Wes_Holdout_Test`\n",
    ") ho\n",
    "ON l.aid = ho.aid\n",
    "\n",
    "--retrieve the rest of the global hold out that doesnt fit holdout definition. exclude these users from the analysis\n",
    "LEFT JOIN\n",
    "(\n",
    "\tSELECT  HouseholdId hid\n",
    "\tFROM `nbcu-ds-prod-001.PeacockDataMartMarketingGold.HOLDOUT_GROUP`\n",
    "\tWHERE cohort = 'October2022'\n",
    "\tAND Hold_Out_Type_Current = 'Owned Email Holdout' -- Exclude those who are assigned to Email Holdout but actually received emails\n",
    "\tAND TrackingId not in(\n",
    "\tSELECT  aid\n",
    "\tFROM `nbcu-ds-sandbox-a-001.SLi_sandbox.Wes_Holdout_Test` )        \n",
    ") ho1\n",
    "ON l.hid = ho1.hid"
   ]
  },
  {
   "cell_type": "code",
   "execution_count": 20,
   "metadata": {
    "vscode": {
     "languageId": "sql"
    }
   },
   "outputs": [
    {
     "data": {
      "application/vnd.jupyter.widget-view+json": {
       "model_id": "a12184fcb7ce494c86225cd16f28b215",
       "version_major": 2,
       "version_minor": 0
      },
      "text/plain": [
       "Query is running:   0%|          |"
      ]
     },
     "metadata": {},
     "output_type": "display_data"
    },
    {
     "data": {
      "application/vnd.jupyter.widget-view+json": {
       "model_id": "2d575ad2619247328956e67a812fd76d",
       "version_major": 2,
       "version_minor": 0
      },
      "text/plain": [
       "Downloading:   0%|          |"
      ]
     },
     "metadata": {},
     "output_type": "display_data"
    },
    {
     "data": {
      "text/html": [
       "<div>\n",
       "<style scoped>\n",
       "    .dataframe tbody tr th:only-of-type {\n",
       "        vertical-align: middle;\n",
       "    }\n",
       "\n",
       "    .dataframe tbody tr th {\n",
       "        vertical-align: top;\n",
       "    }\n",
       "\n",
       "    .dataframe thead th {\n",
       "        text-align: right;\n",
       "    }\n",
       "</style>\n",
       "<table border=\"1\" class=\"dataframe\">\n",
       "  <thead>\n",
       "    <tr style=\"text-align: right;\">\n",
       "      <th></th>\n",
       "      <th>Month_Year</th>\n",
       "      <th>audience</th>\n",
       "      <th>paid_maas</th>\n",
       "      <th>churns</th>\n",
       "      <th>churn_rate</th>\n",
       "    </tr>\n",
       "  </thead>\n",
       "  <tbody>\n",
       "    <tr>\n",
       "      <th>0</th>\n",
       "      <td>2022-10-01</td>\n",
       "      <td>Targetable</td>\n",
       "      <td>10283871</td>\n",
       "      <td>600898</td>\n",
       "      <td>0.058431</td>\n",
       "    </tr>\n",
       "    <tr>\n",
       "      <th>1</th>\n",
       "      <td>2022-10-01</td>\n",
       "      <td>Holdout</td>\n",
       "      <td>435022</td>\n",
       "      <td>26846</td>\n",
       "      <td>0.061712</td>\n",
       "    </tr>\n",
       "  </tbody>\n",
       "</table>\n",
       "</div>"
      ],
      "text/plain": [
       "   Month_Year    audience  paid_maas  churns  churn_rate\n",
       "0  2022-10-01  Targetable   10283871  600898    0.058431\n",
       "1  2022-10-01     Holdout     435022   26846    0.061712"
      ]
     },
     "execution_count": 20,
     "metadata": {},
     "output_type": "execute_result"
    }
   ],
   "source": [
    "%%bigquery --project nbcu-ds-sandbox-a-001 --params $params\n",
    "\n",
    "SELECT  Month_Year\n",
    "       ,audience\n",
    "       ,COUNT(distinct aid) paid_maas\n",
    "       ,COUNT(distinct CASE WHEN change_flag = 'Downgrade' THEN aid else null end) churns\n",
    "       ,COUNT(distinct CASE WHEN change_flag = 'Downgrade' THEN aid else null end) / COUNT(distinct aid) AS churn_rate\n",
    "FROM `nbcu-ds-sandbox-a-001.SLi_sandbox.churn_oct22_wes_edit_v2`\n",
    "WHERE (((category != 'Email Unsubscribes') AND (audience = 'Targetable')) or (audience = 'Holdout'))\n",
    "AND (abandoned_flag is null )\n",
    "--AND billing_cycle = 'MONTHLY'\n",
    "GROUP BY  1,2"
   ]
  },
  {
   "attachments": {},
   "cell_type": "markdown",
   "metadata": {},
   "source": [
    "✅ edited results"
   ]
  }
 ],
 "metadata": {
  "kernelspec": {
   "display_name": "base",
   "language": "python",
   "name": "python3"
  },
  "language_info": {
   "codemirror_mode": {
    "name": "ipython",
    "version": 3
   },
   "file_extension": ".py",
   "mimetype": "text/x-python",
   "name": "python",
   "nbconvert_exporter": "python",
   "pygments_lexer": "ipython3",
   "version": "3.9.13"
  },
  "orig_nbformat": 4
 },
 "nbformat": 4,
 "nbformat_minor": 2
}
